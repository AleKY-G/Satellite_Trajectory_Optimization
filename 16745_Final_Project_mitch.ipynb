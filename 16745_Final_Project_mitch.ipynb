{
 "cells": [
  {
   "cell_type": "code",
   "execution_count": 1,
   "metadata": {
    "scrolled": true
   },
   "outputs": [],
   "source": [
    "import Pkg; Pkg.activate(joinpath(@__DIR__,\"..\")); Pkg.instantiate();\n",
    "# Pkg.add(\"ForwardDiff\")\n",
    "# Pkg.add(\"RobotDynamics\")\n",
    "# Pkg.add(\"LinearAlgebra\")\n",
    "# Pkg.add(\"StaticArrays\")\n",
    "# Pkg.add(\"SparseArrays\")\n",
    "# Pkg.add(\"Plots\")\n",
    "# Pkg.add(\"Printf\")\n",
    "# Pkg.add(\"Ipopt\")\n",
    "# Pkg.add(\"MathOptInterface\")\n",
    "# Pkg.add(\"TrajOptPlots\")\n",
    "# Pkg.add(\"JLD\")\n",
    "using ForwardDiff\n",
    "using Test\n",
    "using RobotDynamics\n",
    "using LinearAlgebra\n",
    "using StaticArrays\n",
    "using SparseArrays\n",
    "using Plots\n",
    "using Ipopt\n",
    "using MathOptInterface\n",
    "using TrajOptPlots\n",
    "using JLD\n",
    "\n",
    "const MOI = MathOptInterface\n",
    "# Pkg.add(\"Multi-Threading\")\n",
    "# using Multi-Threading\n",
    "# using PyPlots\n",
    "using Printf\n",
    "\n",
    "# include(\"quadratic_cost.jl\")\n"
   ]
  },
  {
   "cell_type": "markdown",
   "metadata": {},
   "source": [
    "# Final Project Info\n",
    "In this we present a geostationary transfer orbit to a geosynchronous (GSO) or geostationary orbit (GEO).  We use Keplerian Orbital Dynamics to model our system. We make several assumptions like Earth Reference Frame, Spherical Earth, Kepler Dynamics. \n",
    "\n",
    "## The Model\n",
    "We'll be using the Kepler Dynamics:\n",
    "\n",
    "$\\newcommand{\\norm}[1]{\\left\\lVert#1\\right\\rVert}$\n",
    "\n",
    "$$ \n",
    "\\ddot{r} = F = \\frac{-\\mu}{\\norm{r}^3}*r+u \\\\\n",
    "x = [r, \\dot{r}] \\\\\n",
    "\\norm{u} \\le Tmax\n",
    "$$\n",
    "with the following model parameters:\n",
    "* $\\mu$: Gravitational Parameter = 63781\n",
    "* $r$: distance to earth center\n",
    "* $u$: control of ion thruster"
   ]
  },
  {
   "cell_type": "code",
   "execution_count": 2,
   "metadata": {
    "scrolled": true
   },
   "outputs": [
    {
     "data": {
      "text/plain": [
       "20"
      ]
     },
     "execution_count": 2,
     "metadata": {},
     "output_type": "execute_result"
    }
   ],
   "source": [
    "Threads.nthreads()"
   ]
  },
  {
   "cell_type": "code",
   "execution_count": 3,
   "metadata": {
    "scrolled": true
   },
   "outputs": [
    {
     "data": {
      "text/plain": [
       "make_orbit (generic function with 1 method)"
      ]
     },
     "execution_count": 3,
     "metadata": {},
     "output_type": "execute_result"
    }
   ],
   "source": [
    "# Problem Setup\n",
    "# Dont want KM and S\n",
    "# Rescale unite to order 1\n",
    "# Length unit = SMA \n",
    "# Time scale = T orbit period\n",
    "# Helps condition number \n",
    "\n",
    "Nx = 6 \n",
    "Nu = 4 # (ax, ay, az, h)\n",
    "\n",
    "# Hint can take big steps 10 knot points per-orbit\n",
    "# model = Kepler() # TODO\n",
    "# n,m = size(model)          # state and control dimensions\n",
    "# TODO FIX ME\n",
    "dt = 0.025                 # time step (sec)\n",
    "tf = 1.5                   # time horizon (sec)\n",
    "T = Int(tf/dt) + 1         # number of time steps\n",
    "\n",
    "# n_nlp = (Nx+Nu)*T # number of decision variables\n",
    "# m_nlp = Nx*(T+1)\n",
    "\n",
    "# Initial & final condition\n",
    "\n",
    "#cartesian and ECI\n",
    "#x,y,z,vx,vy,vz\n",
    "earthRadius_km = 6378.1 # [km]\n",
    "LEO_km = 500 #km above sealevel #circular low earth orbit # 250km \n",
    "GSO_km = 35786 #km above sealevel #circular geosychonous orbit\n",
    "μ_km_s = 3.986*10e5 #gravitational0 parameter [km^3 / s^2]\n",
    "semiMajorAxis_scale = (GSO_km+earthRadius_km+earthRadius_km+LEO_km)/2\n",
    "period_scale = sqrt(semiMajorAxis_scale^3/μ_km_s)*2*pi\n",
    "μ = μ_km_s*period_scale^2/semiMajorAxis_scale^3  #μ(OU^3/P^2)\n",
    "\n",
    "struct Orbit{T}\n",
    "    semiMajorAxis::T\n",
    "    period::T\n",
    "    perigee::T #closest radius to earth\n",
    "    perigee_V::T #velocity at perigee\n",
    "    x0::Vector{T}\n",
    "#     function Orbit(x0) \n",
    "#         print(x0) #best is to input point with velocity and calucate useful parts of orbit\n",
    "#     end\n",
    "end\n",
    "\n",
    "function make_orbit(x0)\n",
    "    velocity = norm(x0[4:end])\n",
    "    \n",
    "    radius = norm(x0[1:3])\n",
    "    \n",
    "    semiMajorAxis = 1/(-velocity^2/μ+2/radius)  #reverse vis a viv\n",
    "    \n",
    "    period = sqrt(semiMajorAxis^3/μ)*2*pi       #period equation\n",
    "    \n",
    "    E = velocity^2/2 - μ/radius   #specific energy of satellite\n",
    "    \n",
    "    J = norm(cross(x0[1:3],x0[4:end]))           #specific momentum of satellite\n",
    "    \n",
    "    perigee = -μ/(2*E) - 1/2*sqrt(μ^2/(E^2)+2*J^2/E) #solve quadratic when velocity of radius is 0\n",
    "    \n",
    "    perigee_v =  sqrt(μ*(2.0/perigee-1.0/semiMajorAxis)) # Vis a Viv\n",
    "    apogee  = -μ/(2*E) + 1/2(μ^2/(E^2)+2*J^2/E) #solve quadratic when velocity of radius is 0\n",
    "    apogee_v =  sqrt(μ*(2.0/apogee-1.0/semiMajorAxis)) # Vis a Viv\n",
    "    return Orbit(semiMajorAxis, period, perigee, perigee_v, x0)\n",
    "end"
   ]
  },
  {
   "cell_type": "code",
   "execution_count": 4,
   "metadata": {
    "scrolled": true
   },
   "outputs": [
    {
     "data": {
      "text/plain": [
       "Orbit{Float64}(1.0, 1.0, 0.28049720444841386, 15.556684458046954, [0.28049720444841386, 0.0, 0.0, 0.0, 15.556684458046954, 0.0])"
      ]
     },
     "execution_count": 4,
     "metadata": {},
     "output_type": "execute_result"
    }
   ],
   "source": [
    "# Geosynchronous Transfer orbit (starting position)\n",
    "semiMajorAxis_transfer = (GSO_km+earthRadius_km+earthRadius_km+LEO_km)/(2*semiMajorAxis_scale) #OU\n",
    "instantRadius_transfer = (earthRadius_km+LEO_km) / semiMajorAxis_scale # #OU\n",
    "instantVelocity_transfer = sqrt(μ*(2.0/instantRadius_transfer-1.0/semiMajorAxis_transfer)) #sqrt(OU^3/P^2/OU) =OU/P\n",
    "period_transfer = sqrt(semiMajorAxis_transfer^3/μ)*2*pi\n",
    "x0    = [instantRadius_transfer, 0.0, 0.0, 0.0, instantVelocity_transfer, 0.0] # initial state #geosynchronous transfer orbit (GTO, where rocket dropped satellite off)\n",
    "                                                                             #many kilometers above Africa in an elliptical orbit \n",
    "transfer_orbit = Orbit(semiMajorAxis_transfer, period_transfer, instantRadius_transfer, instantVelocity_transfer, x0)"
   ]
  },
  {
   "cell_type": "code",
   "execution_count": 5,
   "metadata": {
    "scrolled": true
   },
   "outputs": [
    {
     "data": {
      "text/plain": [
       "3-element Vector{Float64}:\n",
       " 0.0\n",
       " 0.0\n",
       " 0.0"
      ]
     },
     "execution_count": 5,
     "metadata": {},
     "output_type": "execute_result"
    }
   ],
   "source": [
    "# Geosynchronous Orbit (goal position)\n",
    "semiMajorAxis_goal = 2*(earthRadius_km+GSO_km)/(2*semiMajorAxis_scale)\n",
    "instantRadius_goal = (earthRadius_km+GSO_km) / semiMajorAxis_scale\n",
    "instantVelocity_goal = sqrt(μ*(2.0/instantRadius_goal-1.0/semiMajorAxis_goal)) # VisViva\n",
    "period_goal = sqrt(semiMajorAxis_goal^3/μ)*2*pi\n",
    "xgoal = [instantRadius_goal, 0.0, 0.0, 0.0, instantVelocity_goal, 0.0] # goal state #circular geosychonous orbit above africa\n",
    "goal_orbit = Orbit(semiMajorAxis_goal, period_goal, instantRadius_goal, instantVelocity_goal, xgoal)\n",
    "ugto = zeros(3)                  # hover controls\n"
   ]
  },
  {
   "cell_type": "markdown",
   "metadata": {},
   "source": [
    "## Cost Function"
   ]
  },
  {
   "cell_type": "markdown",
   "metadata": {},
   "source": [
    "\\begin{equation}\n",
    "    \\text{minimize} \\sum_{k=1}^{N-1} (||u_k||^2 + (r_k-\\bar{r})^2 + \\frac{1}{r_k} * h_k) + (r_N-\\bar{r})^2+(\\dot{r}_N-\\bar{\\dot{r}})^2 \\\\\n",
    "    x_1=x_{init} \\\\\n",
    "    r_N = \\bar{r} \\\\\n",
    "    \\dot{r_N} = \\bar{\\dot{r}} \\\\\n",
    "    x_N \\cdot \\dot{x}_N = 0 \\\\\n",
    "    f(x_k, u_k) = x_{k+1} \\forall k \\\\\n",
    "    0\\leq||u_k||\\leq T_{max} \\forall k \\\\\n",
    "    h_{min}\\leq h_k \\leq h_{max} \\forall k\n",
    "\\end{equation}"
   ]
  },
  {
   "cell_type": "code",
   "execution_count": 6,
   "metadata": {
    "scrolled": true
   },
   "outputs": [
    {
     "data": {
      "text/plain": [
       "cost (generic function with 1 method)"
      ]
     },
     "execution_count": 6,
     "metadata": {},
     "output_type": "execute_result"
    }
   ],
   "source": [
    "function cost(prob, Z)\n",
    "    X, U = unpackZ(prob.N, Z)\n",
    "   # U = Z[Nx+1:Nx+Nu, :]\n",
    "    N = prob.N\n",
    "    J = 0.0\n",
    "    for k = 1:N-1\n",
    "        r = norm(X[1:3, k])\n",
    "        J += norm(U[1:3, k])^2 + (r-goal_orbit.perigee)^2 + 1/r*U[end, k]\n",
    "    end \n",
    "    # Check major and semi-major axis \n",
    "    J += ((norm(X[1:3,end])-norm(xgoal[1:3]))^2+(norm(X[4:end,end])-norm(xgoal[4:end]))^2)\n",
    "    return J \n",
    "end"
   ]
  },
  {
   "cell_type": "markdown",
   "metadata": {},
   "source": [
    "## Dynamics"
   ]
  },
  {
   "cell_type": "code",
   "execution_count": 7,
   "metadata": {
    "scrolled": true
   },
   "outputs": [
    {
     "data": {
      "text/plain": [
       "dynamics (generic function with 1 method)"
      ]
     },
     "execution_count": 7,
     "metadata": {},
     "output_type": "execute_result"
    }
   ],
   "source": [
    "function dynamics(x, u)\n",
    "    # x = state [x, y, z, dx, dy, dz]\n",
    "    # u = control [ux, uy, uz, h]\n",
    "    r = x[1:3] #orbital units (OU)\n",
    "    ṙ = x[4:end] #\n",
    "    r̈ = (-μ/(norm(r)^3))*r + u[1:3] #μ(OU^3/P^2)/OU^3*OU\n",
    "    return [ṙ; r̈]\n",
    "end"
   ]
  },
  {
   "cell_type": "code",
   "execution_count": 8,
   "metadata": {
    "scrolled": true
   },
   "outputs": [
    {
     "data": {
      "text/plain": [
       "integrator! (generic function with 1 method)"
      ]
     },
     "execution_count": 8,
     "metadata": {},
     "output_type": "execute_result"
    }
   ],
   "source": [
    "function integrator!(x, u, h)\n",
    "    # x = state\n",
    "    # u = control\n",
    "    # h = time step\n",
    "#     ẋ = dynamics(x, u)\n",
    "    f1 = dynamics(x, u)\n",
    "    f2 = dynamics(x + 0.5*h*f1, u)\n",
    "    f3 = dynamics(x + 0.5*h*f2, u)\n",
    "    f4 = dynamics(x + h*f3, u)\n",
    "    x .+= (h/6.0)*(f1 + 2*f2 + 2*f3 + f4)\n",
    "end"
   ]
  },
  {
   "cell_type": "code",
   "execution_count": 9,
   "metadata": {
    "scrolled": true
   },
   "outputs": [
    {
     "data": {
      "text/plain": [
       "dynamics_rk4 (generic function with 1 method)"
      ]
     },
     "execution_count": 9,
     "metadata": {},
     "output_type": "execute_result"
    }
   ],
   "source": [
    "function dynamics_rk4(x, u, h) # Maybe rk8 or more\n",
    "    # x = state\n",
    "    # u = control\n",
    "    # h = time step\n",
    "#     ẋ = dynamics(x, u)\n",
    "    f1 = dynamics(x, u)\n",
    "    f2 = dynamics(x + 0.5*h*f1, u)\n",
    "    f3 = dynamics(x + 0.5*h*f2, u)\n",
    "    f4 = dynamics(x + h*f3, u)\n",
    "    return (x + (h/6.0)*(f1 + 2*f2 + 2*f3 + f4))\n",
    "end"
   ]
  },
  {
   "cell_type": "code",
   "execution_count": 10,
   "metadata": {
    "scrolled": true
   },
   "outputs": [
    {
     "data": {
      "text/plain": [
       "dynamics_rk8 (generic function with 1 method)"
      ]
     },
     "execution_count": 10,
     "metadata": {},
     "output_type": "execute_result"
    }
   ],
   "source": [
    "function dynamics_rk8(x, u, h)\n",
    "    f1 = dynamics(x, u)\n",
    "    f2 = dynamics(x+(h*4/27)*f1, u)\n",
    "    f3 = dynamics(x+ h/18*(f1+3*f2), u)\n",
    "    f4 = dynamics(x+ h/12*(f1+3*f3), u)\n",
    "    f5 = dynamics(x+ h/8*(f1+3*f4), u)\n",
    "    f6 = dynamics(x+ h/54*(12*f1-27*f3+42*f4+8*f5), u)\n",
    "    f7 = dynamics(x+ (h/4320)*(389*f1-54*f3+966*f4-824*f5+243*f6), u)\n",
    "    f8 = dynamics(x+  (h/20)*(-234*f1+81*f3-1164*f4+656*f5-122*f6+800*f7), u)\n",
    "    f9 = dynamics(x+ (h/288)*(-127*f1+18*f3-678*f4+456*f5-9*f6+576*f7+4*f8), u)\n",
    "    f10 = dynamics(x+ (h/820)*(1481*f1-81*f3+7104*f4-3376*f5+72*f6-5040*f7-60*f8+720*f9), u)\n",
    "    \n",
    "    return (x + h/840*(41*f1+27*f4+272*f5+27*f6+216*f7+216*f9+41*f10))\n",
    "\n",
    "end"
   ]
  },
  {
   "cell_type": "code",
   "execution_count": 11,
   "metadata": {
    "scrolled": true
   },
   "outputs": [
    {
     "data": {
      "text/plain": [
       "integrator_rk8! (generic function with 1 method)"
      ]
     },
     "execution_count": 11,
     "metadata": {},
     "output_type": "execute_result"
    }
   ],
   "source": [
    "function integrator_rk8!(x, u, h)\n",
    "    f1 = dynamics(x, u)\n",
    "    f2 = dynamics(x+(h*4/27)*f1, u)\n",
    "    f3 = dynamics(x+ h/18*(f1+3*f2), u)\n",
    "    f4 = dynamics(x+ h/12*(f1+3*f3), u)\n",
    "    f5 = dynamics(x+ h/8*(f1+3*f4), u)\n",
    "    f6 = dynamics(x+ h/54*(12*f1-27*f3+42*f4+8*f5), u)\n",
    "    f7 = dynamics(x+ (h/4320)*(389*f1-54*f3+966*f4-824*f5+243*f6), u)\n",
    "    f8 = dynamics(x+  (h/20)*(-234*f1+81*f3-1164*f4+656*f5-122*f6+800*f7), u)\n",
    "    f9 = dynamics(x+ (h/288)*(-127*f1+18*f3-678*f4+456*f5-9*f6+576*f7+4*f8), u)\n",
    "    f10 = dynamics(x+ (h/820)*(1481*f1-81*f3+7104*f4-3376*f5+72*f6-5040*f7-60*f8+720*f9), u)\n",
    "    \n",
    "    x .+= (h/840)*(41*f1+27*f4+272*f5+27*f6+216*f7+216*f9+41*f10)\n",
    "end"
   ]
  },
  {
   "cell_type": "code",
   "execution_count": 12,
   "metadata": {
    "scrolled": true
   },
   "outputs": [],
   "source": [
    "# function dynamics_rkX(x, u, h, s)\n",
    "#     k1 = dynamics(x, u)\n",
    "#     ks =\n",
    "#     for i = 1:s-2\n",
    "#         k = dynamics(x + 1/(s-2)*prev_k*h, u)\n",
    "        \n",
    "        "
   ]
  },
  {
   "cell_type": "code",
   "execution_count": 13,
   "metadata": {
    "scrolled": true
   },
   "outputs": [
    {
     "data": {
      "text/plain": [
       "get_energy (generic function with 1 method)"
      ]
     },
     "execution_count": 13,
     "metadata": {},
     "output_type": "execute_result"
    }
   ],
   "source": [
    "function get_energy(x)\n",
    "    return norm(x[4:end])^2/2 - μ/norm(x[1:3])\n",
    "end"
   ]
  },
  {
   "cell_type": "code",
   "execution_count": 14,
   "metadata": {
    "scrolled": true
   },
   "outputs": [
    {
     "data": {
      "text/plain": [
       "plot_orbit (generic function with 1 method)"
      ]
     },
     "execution_count": 14,
     "metadata": {},
     "output_type": "execute_result"
    }
   ],
   "source": [
    "knots = 174\n",
    "function plot_orbit(orbit::Orbit)\n",
    "    t = range(0, 100, length=knots) \n",
    "    h = 4/(knots-1)#t[2]-t[1]\n",
    "    traj = zeros(size(t)[1], size(x0)[1])\n",
    "    x = copy(orbit.x0)\n",
    "    traj[1,:] .= x\n",
    "    \n",
    "    u = zeros(3)\n",
    "    energy = zero(t)\n",
    "    energy[1] = get_energy(x)\n",
    "    for i in 2:size(t)[1]\n",
    "        x = dynamics_rk8(x, u, h)\n",
    "#         x = dynamics_rk8(x, u, h)\n",
    "        traj[i,:] .= x\n",
    "        energy[i] = get_energy(x)\n",
    "#         orbit = make_orbit(x)\n",
    "    end\n",
    "#     plot(t, energy)\n",
    "    plot(traj[:, 1], traj[:, 2], aspect_ratio=:equal, lims=(-semiMajorAxis_goal*1.5,semiMajorAxis_goal*1.5))\n",
    "    return traj\n",
    "end"
   ]
  },
  {
   "cell_type": "code",
   "execution_count": 15,
   "metadata": {
    "scrolled": true
   },
   "outputs": [
    {
     "data": {
      "text/plain": [
       "1.0"
      ]
     },
     "execution_count": 15,
     "metadata": {},
     "output_type": "execute_result"
    }
   ],
   "source": [
    "0.025*40"
   ]
  },
  {
   "cell_type": "code",
   "execution_count": 16,
   "metadata": {
    "scrolled": true
   },
   "outputs": [
    {
     "name": "stdout",
     "output_type": "stream",
     "text": [
      "DIFFERENCE: 15.210813463710045\n"
     ]
    },
    {
     "data": {
      "image/svg+xml": [
       "<?xml version=\"1.0\" encoding=\"utf-8\"?>\n",
       "<svg xmlns=\"http://www.w3.org/2000/svg\" xmlns:xlink=\"http://www.w3.org/1999/xlink\" width=\"600\" height=\"400\" viewBox=\"0 0 2400 1600\">\n",
       "<defs>\n",
       "  <clipPath id=\"clip560\">\n",
       "    <rect x=\"0\" y=\"0\" width=\"2400\" height=\"1600\"/>\n",
       "  </clipPath>\n",
       "</defs>\n",
       "<path clip-path=\"url(#clip560)\" d=\"\n",
       "M0 1600 L2400 1600 L2400 0 L0 0  Z\n",
       "  \" fill=\"#ffffff\" fill-rule=\"evenodd\" fill-opacity=\"1\"/>\n",
       "<defs>\n",
       "  <clipPath id=\"clip561\">\n",
       "    <rect x=\"480\" y=\"0\" width=\"1681\" height=\"1600\"/>\n",
       "  </clipPath>\n",
       "</defs>\n",
       "<path clip-path=\"url(#clip560)\" d=\"\n",
       "M530.515 1486.45 L1969.72 1486.45 L1969.72 47.2441 L530.515 47.2441  Z\n",
       "  \" fill=\"#ffffff\" fill-rule=\"evenodd\" fill-opacity=\"1\"/>\n",
       "<defs>\n",
       "  <clipPath id=\"clip562\">\n",
       "    <rect x=\"530\" y=\"47\" width=\"1440\" height=\"1440\"/>\n",
       "  </clipPath>\n",
       "</defs>\n",
       "<polyline clip-path=\"url(#clip562)\" style=\"stroke:#000000; stroke-width:2; stroke-opacity:0.1; fill:none\" points=\"\n",
       "  692.125,1486.45 692.125,47.2441 \n",
       "  \"/>\n",
       "<polyline clip-path=\"url(#clip562)\" style=\"stroke:#000000; stroke-width:2; stroke-opacity:0.1; fill:none\" points=\"\n",
       "  971.121,1486.45 971.121,47.2441 \n",
       "  \"/>\n",
       "<polyline clip-path=\"url(#clip562)\" style=\"stroke:#000000; stroke-width:2; stroke-opacity:0.1; fill:none\" points=\"\n",
       "  1250.12,1486.45 1250.12,47.2441 \n",
       "  \"/>\n",
       "<polyline clip-path=\"url(#clip562)\" style=\"stroke:#000000; stroke-width:2; stroke-opacity:0.1; fill:none\" points=\"\n",
       "  1529.11,1486.45 1529.11,47.2441 \n",
       "  \"/>\n",
       "<polyline clip-path=\"url(#clip562)\" style=\"stroke:#000000; stroke-width:2; stroke-opacity:0.1; fill:none\" points=\"\n",
       "  1808.11,1486.45 1808.11,47.2441 \n",
       "  \"/>\n",
       "<polyline clip-path=\"url(#clip560)\" style=\"stroke:#000000; stroke-width:4; stroke-opacity:1; fill:none\" points=\"\n",
       "  530.515,1486.45 1969.72,1486.45 \n",
       "  \"/>\n",
       "<polyline clip-path=\"url(#clip560)\" style=\"stroke:#000000; stroke-width:4; stroke-opacity:1; fill:none\" points=\"\n",
       "  692.125,1486.45 692.125,1469.18 \n",
       "  \"/>\n",
       "<polyline clip-path=\"url(#clip560)\" style=\"stroke:#000000; stroke-width:4; stroke-opacity:1; fill:none\" points=\"\n",
       "  971.121,1486.45 971.121,1469.18 \n",
       "  \"/>\n",
       "<polyline clip-path=\"url(#clip560)\" style=\"stroke:#000000; stroke-width:4; stroke-opacity:1; fill:none\" points=\"\n",
       "  1250.12,1486.45 1250.12,1469.18 \n",
       "  \"/>\n",
       "<polyline clip-path=\"url(#clip560)\" style=\"stroke:#000000; stroke-width:4; stroke-opacity:1; fill:none\" points=\"\n",
       "  1529.11,1486.45 1529.11,1469.18 \n",
       "  \"/>\n",
       "<polyline clip-path=\"url(#clip560)\" style=\"stroke:#000000; stroke-width:4; stroke-opacity:1; fill:none\" points=\"\n",
       "  1808.11,1486.45 1808.11,1469.18 \n",
       "  \"/>\n",
       "<path clip-path=\"url(#clip560)\" d=\"M 0 0 M662.067 1530.29 L691.743 1530.29 L691.743 1534.23 L662.067 1534.23 L662.067 1530.29 Z\" fill=\"#000000\" fill-rule=\"evenodd\" fill-opacity=\"1\" /><path clip-path=\"url(#clip560)\" d=\"M 0 0 M705.863 1543.18 L722.182 1543.18 L722.182 1547.12 L700.238 1547.12 L700.238 1543.18 Q702.9 1540.43 707.483 1535.8 Q712.09 1531.15 713.27 1529.81 Q715.516 1527.28 716.395 1525.55 Q717.298 1523.79 717.298 1522.1 Q717.298 1519.34 715.354 1517.61 Q713.432 1515.87 710.331 1515.87 Q708.132 1515.87 705.678 1516.63 Q703.247 1517.4 700.47 1518.95 L700.47 1514.23 Q703.294 1513.09 705.747 1512.51 Q708.201 1511.93 710.238 1511.93 Q715.608 1511.93 718.803 1514.62 Q721.997 1517.31 721.997 1521.8 Q721.997 1523.93 721.187 1525.85 Q720.4 1527.74 718.294 1530.34 Q717.715 1531.01 714.613 1534.23 Q711.511 1537.42 705.863 1543.18 Z\" fill=\"#000000\" fill-rule=\"evenodd\" fill-opacity=\"1\" /><path clip-path=\"url(#clip560)\" d=\"M 0 0 M940.878 1530.29 L970.554 1530.29 L970.554 1534.23 L940.878 1534.23 L940.878 1530.29 Z\" fill=\"#000000\" fill-rule=\"evenodd\" fill-opacity=\"1\" /><path clip-path=\"url(#clip560)\" d=\"M 0 0 M981.456 1543.18 L989.095 1543.18 L989.095 1516.82 L980.785 1518.49 L980.785 1514.23 L989.049 1512.56 L993.725 1512.56 L993.725 1543.18 L1001.36 1543.18 L1001.36 1547.12 L981.456 1547.12 L981.456 1543.18 Z\" fill=\"#000000\" fill-rule=\"evenodd\" fill-opacity=\"1\" /><path clip-path=\"url(#clip560)\" d=\"M 0 0 M1250.12 1515.64 Q1246.51 1515.64 1244.68 1519.2 Q1242.87 1522.75 1242.87 1529.87 Q1242.87 1536.98 1244.68 1540.55 Q1246.51 1544.09 1250.12 1544.09 Q1253.75 1544.09 1255.56 1540.55 Q1257.39 1536.98 1257.39 1529.87 Q1257.39 1522.75 1255.56 1519.2 Q1253.75 1515.64 1250.12 1515.64 M1250.12 1511.93 Q1255.93 1511.93 1258.98 1516.54 Q1262.06 1521.12 1262.06 1529.87 Q1262.06 1538.6 1258.98 1543.21 Q1255.93 1547.79 1250.12 1547.79 Q1244.31 1547.79 1241.23 1543.21 Q1238.17 1538.6 1238.17 1529.87 Q1238.17 1521.12 1241.23 1516.54 Q1244.31 1511.93 1250.12 1511.93 Z\" fill=\"#000000\" fill-rule=\"evenodd\" fill-opacity=\"1\" /><path clip-path=\"url(#clip560)\" d=\"M 0 0 M1519.5 1543.18 L1527.13 1543.18 L1527.13 1516.82 L1518.82 1518.49 L1518.82 1514.23 L1527.09 1512.56 L1531.76 1512.56 L1531.76 1543.18 L1539.4 1543.18 L1539.4 1547.12 L1519.5 1547.12 L1519.5 1543.18 Z\" fill=\"#000000\" fill-rule=\"evenodd\" fill-opacity=\"1\" /><path clip-path=\"url(#clip560)\" d=\"M 0 0 M1802.76 1543.18 L1819.08 1543.18 L1819.08 1547.12 L1797.14 1547.12 L1797.14 1543.18 Q1799.8 1540.43 1804.38 1535.8 Q1808.99 1531.15 1810.17 1529.81 Q1812.41 1527.28 1813.29 1525.55 Q1814.2 1523.79 1814.2 1522.1 Q1814.2 1519.34 1812.25 1517.61 Q1810.33 1515.87 1807.23 1515.87 Q1805.03 1515.87 1802.58 1516.63 Q1800.15 1517.4 1797.37 1518.95 L1797.37 1514.23 Q1800.19 1513.09 1802.65 1512.51 Q1805.1 1511.93 1807.14 1511.93 Q1812.51 1511.93 1815.7 1514.62 Q1818.9 1517.31 1818.9 1521.8 Q1818.9 1523.93 1818.09 1525.85 Q1817.3 1527.74 1815.19 1530.34 Q1814.61 1531.01 1811.51 1534.23 Q1808.41 1537.42 1802.76 1543.18 Z\" fill=\"#000000\" fill-rule=\"evenodd\" fill-opacity=\"1\" /><polyline clip-path=\"url(#clip562)\" style=\"stroke:#000000; stroke-width:2; stroke-opacity:0.1; fill:none\" points=\"\n",
       "  530.515,1324.84 1969.72,1324.84 \n",
       "  \"/>\n",
       "<polyline clip-path=\"url(#clip562)\" style=\"stroke:#000000; stroke-width:2; stroke-opacity:0.1; fill:none\" points=\"\n",
       "  530.515,1045.84 1969.72,1045.84 \n",
       "  \"/>\n",
       "<polyline clip-path=\"url(#clip562)\" style=\"stroke:#000000; stroke-width:2; stroke-opacity:0.1; fill:none\" points=\"\n",
       "  530.515,766.846 1969.72,766.846 \n",
       "  \"/>\n",
       "<polyline clip-path=\"url(#clip562)\" style=\"stroke:#000000; stroke-width:2; stroke-opacity:0.1; fill:none\" points=\"\n",
       "  530.515,487.85 1969.72,487.85 \n",
       "  \"/>\n",
       "<polyline clip-path=\"url(#clip562)\" style=\"stroke:#000000; stroke-width:2; stroke-opacity:0.1; fill:none\" points=\"\n",
       "  530.515,208.854 1969.72,208.854 \n",
       "  \"/>\n",
       "<polyline clip-path=\"url(#clip560)\" style=\"stroke:#000000; stroke-width:4; stroke-opacity:1; fill:none\" points=\"\n",
       "  530.515,1486.45 530.515,47.2441 \n",
       "  \"/>\n",
       "<polyline clip-path=\"url(#clip560)\" style=\"stroke:#000000; stroke-width:4; stroke-opacity:1; fill:none\" points=\"\n",
       "  530.515,1324.84 547.785,1324.84 \n",
       "  \"/>\n",
       "<polyline clip-path=\"url(#clip560)\" style=\"stroke:#000000; stroke-width:4; stroke-opacity:1; fill:none\" points=\"\n",
       "  530.515,1045.84 547.785,1045.84 \n",
       "  \"/>\n",
       "<polyline clip-path=\"url(#clip560)\" style=\"stroke:#000000; stroke-width:4; stroke-opacity:1; fill:none\" points=\"\n",
       "  530.515,766.846 547.785,766.846 \n",
       "  \"/>\n",
       "<polyline clip-path=\"url(#clip560)\" style=\"stroke:#000000; stroke-width:4; stroke-opacity:1; fill:none\" points=\"\n",
       "  530.515,487.85 547.785,487.85 \n",
       "  \"/>\n",
       "<polyline clip-path=\"url(#clip560)\" style=\"stroke:#000000; stroke-width:4; stroke-opacity:1; fill:none\" points=\"\n",
       "  530.515,208.854 547.785,208.854 \n",
       "  \"/>\n",
       "<path clip-path=\"url(#clip560)\" d=\"M 0 0 M434.4 1325.29 L464.075 1325.29 L464.075 1329.22 L434.4 1329.22 L434.4 1325.29 Z\" fill=\"#000000\" fill-rule=\"evenodd\" fill-opacity=\"1\" /><path clip-path=\"url(#clip560)\" d=\"M 0 0 M478.196 1338.18 L494.515 1338.18 L494.515 1342.12 L472.571 1342.12 L472.571 1338.18 Q475.233 1335.43 479.816 1330.8 Q484.422 1326.15 485.603 1324.8 Q487.848 1322.28 488.728 1320.54 Q489.631 1318.78 489.631 1317.1 Q489.631 1314.34 487.686 1312.6 Q485.765 1310.87 482.663 1310.87 Q480.464 1310.87 478.01 1311.63 Q475.58 1312.4 472.802 1313.95 L472.802 1309.22 Q475.626 1308.09 478.08 1307.51 Q480.534 1306.93 482.571 1306.93 Q487.941 1306.93 491.135 1309.62 Q494.33 1312.3 494.33 1316.79 Q494.33 1318.92 493.52 1320.85 Q492.733 1322.74 490.626 1325.34 Q490.047 1326.01 486.946 1329.22 Q483.844 1332.42 478.196 1338.18 Z\" fill=\"#000000\" fill-rule=\"evenodd\" fill-opacity=\"1\" /><path clip-path=\"url(#clip560)\" d=\"M 0 0 M434.029 1046.29 L463.705 1046.29 L463.705 1050.23 L434.029 1050.23 L434.029 1046.29 Z\" fill=\"#000000\" fill-rule=\"evenodd\" fill-opacity=\"1\" /><path clip-path=\"url(#clip560)\" d=\"M 0 0 M474.608 1059.19 L482.247 1059.19 L482.247 1032.82 L473.936 1034.49 L473.936 1030.23 L482.2 1028.56 L486.876 1028.56 L486.876 1059.19 L494.515 1059.19 L494.515 1063.12 L474.608 1063.12 L474.608 1059.19 Z\" fill=\"#000000\" fill-rule=\"evenodd\" fill-opacity=\"1\" /><path clip-path=\"url(#clip560)\" d=\"M 0 0 M482.571 752.645 Q478.96 752.645 477.131 756.209 Q475.325 759.751 475.325 766.881 Q475.325 773.987 477.131 777.552 Q478.96 781.094 482.571 781.094 Q486.205 781.094 488.01 777.552 Q489.839 773.987 489.839 766.881 Q489.839 759.751 488.01 756.209 Q486.205 752.645 482.571 752.645 M482.571 748.941 Q488.381 748.941 491.436 753.547 Q494.515 758.131 494.515 766.881 Q494.515 775.608 491.436 780.214 Q488.381 784.797 482.571 784.797 Q476.76 784.797 473.682 780.214 Q470.626 775.608 470.626 766.881 Q470.626 758.131 473.682 753.547 Q476.76 748.941 482.571 748.941 Z\" fill=\"#000000\" fill-rule=\"evenodd\" fill-opacity=\"1\" /><path clip-path=\"url(#clip560)\" d=\"M 0 0 M474.608 501.195 L482.247 501.195 L482.247 474.829 L473.936 476.496 L473.936 472.237 L482.2 470.57 L486.876 470.57 L486.876 501.195 L494.515 501.195 L494.515 505.13 L474.608 505.13 L474.608 501.195 Z\" fill=\"#000000\" fill-rule=\"evenodd\" fill-opacity=\"1\" /><path clip-path=\"url(#clip560)\" d=\"M 0 0 M478.196 222.199 L494.515 222.199 L494.515 226.134 L472.571 226.134 L472.571 222.199 Q475.233 219.444 479.816 214.814 Q484.422 210.162 485.603 208.819 Q487.848 206.296 488.728 204.56 Q489.631 202.801 489.631 201.111 Q489.631 198.356 487.686 196.62 Q485.765 194.884 482.663 194.884 Q480.464 194.884 478.01 195.648 Q475.58 196.412 472.802 197.963 L472.802 193.24 Q475.626 192.106 478.08 191.527 Q480.534 190.949 482.571 190.949 Q487.941 190.949 491.135 193.634 Q494.33 196.319 494.33 200.81 Q494.33 202.939 493.52 204.861 Q492.733 206.759 490.626 209.351 Q490.047 210.023 486.946 213.24 Q483.844 216.435 478.196 222.199 Z\" fill=\"#000000\" fill-rule=\"evenodd\" fill-opacity=\"1\" /><polyline clip-path=\"url(#clip562)\" style=\"stroke:#009af9; stroke-width:4; stroke-opacity:1; fill:none\" points=\"\n",
       "  1328.37,766.846 1297.77,678.544 1241.1,626.046 1184.45,597.303 1132.55,581.92 1085.74,574.78 1043.59,573.178 1005.62,575.535 971.394,580.848 940.574,588.445 \n",
       "  912.87,597.845 888.049,608.695 865.922,620.725 846.333,633.723 829.154,647.518 814.28,661.968 801.625,676.953 791.119,692.369 782.706,708.126 776.344,724.141 \n",
       "  771.999,740.338 769.652,756.646 769.289,772.997 770.909,789.322 774.52,805.553 780.137,821.622 787.789,837.452 797.513,852.966 809.359,868.076 823.391,882.683 \n",
       "  839.686,896.674 858.342,909.917 879.474,922.254 903.225,933.489 929.769,943.379 959.317,951.608 992.129,957.753 1028.52,961.231 1068.89,961.196 1113.68,956.35 \n",
       "  1163.37,944.554 1218.08,921.936 1275.79,880.782 1322.62,807.31 1316.94,711.076 1265.76,644.084 1207.93,607.042 1153.87,586.82 1104.91,576.562 1060.79,572.783 \n",
       "  1021.03,573.528 985.173,577.597 952.842,584.199 923.723,592.785 897.564,602.955 874.159,614.41 853.337,626.915 834.958,640.284 818.91,654.365 805.095,669.03 \n",
       "  793.439,684.17 783.877,699.69 776.361,715.506 770.852,731.539 767.324,747.719 765.758,763.977 766.146,780.246 768.49,796.461 772.799,812.556 779.093,828.46 \n",
       "  787.402,844.1 797.767,859.396 810.238,874.261 824.883,888.594 841.781,902.281 861.031,915.187 882.753,927.147 907.092,937.963 934.225,947.381 964.368,955.072 \n",
       "  997.785,960.596 1034.8,963.34 1075.8,962.412 1121.25,956.428 1171.58,943.088 1226.76,918.184 1284.05,873.29 1326.26,794.734 1312.02,700.053 1258.57,637.807 \n",
       "  1201.01,603.439 1147.56,584.686 1099.19,575.309 1055.58,572.094 1016.25,573.216 980.751,577.539 948.723,584.312 919.857,593.01 893.907,603.249 870.671,614.738 \n",
       "  849.984,627.251 831.708,640.609 815.732,654.661 801.961,669.284 790.321,684.372 780.749,699.832 773.197,715.581 767.627,731.543 764.01,747.649 762.329,763.831 \n",
       "  762.575,780.025 764.748,796.167 768.857,812.192 774.919,828.033 782.962,843.618 793.024,858.872 805.154,873.708 819.413,888.032 835.878,901.735 854.64,914.688 \n",
       "  875.812,926.738 899.531,937.698 925.962,947.332 955.305,955.339 987.805,961.318 1023.76,964.719 1063.55,964.751 1107.58,960.218 1156.32,949.18 1209.94,928.205 \n",
       "  1267.08,890.597 1317.54,823.69 1323.69,727.849 1277.3,653.773 1219.42,612.088 1164.38,589.13 1114.34,577.082 1069.18,572.019 1028.43,571.774 991.632,575.04 \n",
       "  958.396,580.963 928.395,588.959 901.366,598.605 877.094,609.586 855.402,621.657 836.144,634.627 819.2,648.336 804.47,662.657 791.873,677.476 781.34,692.699 \n",
       "  772.818,708.241 766.264,724.025 761.646,739.981 758.941,756.042 758.135,772.145 759.223,788.228 762.208,804.228 767.103,820.082 773.928,835.723 782.712,851.08 \n",
       "  793.498,866.076 806.336,880.625 821.29,894.631 838.439,907.982 857.879,920.546 879.725,932.165 904.118,942.644 931.227,951.74 961.257,959.135 994.459,964.409 \n",
       "  1031.14,966.978 1071.67,966 1116.48,960.184 1165.99,947.418 \n",
       "  \"/>\n",
       "<line clip-path=\"url(#clip562)\" x1=\"1328.37\" y1=\"766.846\" x2=\"1308.37\" y2=\"746.846\" style=\"stroke:#e26f46; stroke-width:3.2; stroke-opacity:1\"/>\n",
       "<line clip-path=\"url(#clip562)\" x1=\"1328.37\" y1=\"766.846\" x2=\"1308.37\" y2=\"786.846\" style=\"stroke:#e26f46; stroke-width:3.2; stroke-opacity:1\"/>\n",
       "<line clip-path=\"url(#clip562)\" x1=\"1328.37\" y1=\"766.846\" x2=\"1348.37\" y2=\"786.846\" style=\"stroke:#e26f46; stroke-width:3.2; stroke-opacity:1\"/>\n",
       "<line clip-path=\"url(#clip562)\" x1=\"1328.37\" y1=\"766.846\" x2=\"1348.37\" y2=\"746.846\" style=\"stroke:#e26f46; stroke-width:3.2; stroke-opacity:1\"/>\n",
       "<line clip-path=\"url(#clip562)\" x1=\"1165.99\" y1=\"947.418\" x2=\"1145.99\" y2=\"927.418\" style=\"stroke:#3da44d; stroke-width:3.2; stroke-opacity:1\"/>\n",
       "<line clip-path=\"url(#clip562)\" x1=\"1165.99\" y1=\"947.418\" x2=\"1145.99\" y2=\"967.418\" style=\"stroke:#3da44d; stroke-width:3.2; stroke-opacity:1\"/>\n",
       "<line clip-path=\"url(#clip562)\" x1=\"1165.99\" y1=\"947.418\" x2=\"1185.99\" y2=\"967.418\" style=\"stroke:#3da44d; stroke-width:3.2; stroke-opacity:1\"/>\n",
       "<line clip-path=\"url(#clip562)\" x1=\"1165.99\" y1=\"947.418\" x2=\"1185.99\" y2=\"927.418\" style=\"stroke:#3da44d; stroke-width:3.2; stroke-opacity:1\"/>\n",
       "<path clip-path=\"url(#clip560)\" d=\"\n",
       "M1598.17 337.138 L1896.21 337.138 L1896.21 95.2176 L1598.17 95.2176  Z\n",
       "  \" fill=\"#ffffff\" fill-rule=\"evenodd\" fill-opacity=\"1\"/>\n",
       "<polyline clip-path=\"url(#clip560)\" style=\"stroke:#000000; stroke-width:4; stroke-opacity:1; fill:none\" points=\"\n",
       "  1598.17,337.138 1896.21,337.138 1896.21,95.2176 1598.17,95.2176 1598.17,337.138 \n",
       "  \"/>\n",
       "<polyline clip-path=\"url(#clip560)\" style=\"stroke:#009af9; stroke-width:4; stroke-opacity:1; fill:none\" points=\"\n",
       "  1622.67,155.698 1769.69,155.698 \n",
       "  \"/>\n",
       "<path clip-path=\"url(#clip560)\" d=\"M 0 0 M1808.04 175.385 Q1806.23 180.015 1804.52 181.427 Q1802.81 182.839 1799.94 182.839 L1796.53 182.839 L1796.53 179.274 L1799.03 179.274 Q1800.79 179.274 1801.76 178.44 Q1802.74 177.607 1803.92 174.505 L1804.68 172.561 L1794.19 147.052 L1798.71 147.052 L1806.81 167.329 L1814.91 147.052 L1819.43 147.052 L1808.04 175.385 Z\" fill=\"#000000\" fill-rule=\"evenodd\" fill-opacity=\"1\" /><path clip-path=\"url(#clip560)\" d=\"M 0 0 M1826.72 169.042 L1834.36 169.042 L1834.36 142.677 L1826.05 144.343 L1826.05 140.084 L1834.31 138.418 L1838.99 138.418 L1838.99 169.042 L1846.62 169.042 L1846.62 172.978 L1826.72 172.978 L1826.72 169.042 Z\" fill=\"#000000\" fill-rule=\"evenodd\" fill-opacity=\"1\" /><polyline clip-path=\"url(#clip560)\" style=\"stroke:#e26f46; stroke-width:4; stroke-opacity:1; fill:none\" points=\"\n",
       "  1622.67,216.178 1769.69,216.178 \n",
       "  \"/>\n",
       "<line clip-path=\"url(#clip560)\" x1=\"1696.18\" y1=\"216.178\" x2=\"1670.58\" y2=\"190.578\" style=\"stroke:#e26f46; stroke-width:3.2; stroke-opacity:1\"/>\n",
       "<line clip-path=\"url(#clip560)\" x1=\"1696.18\" y1=\"216.178\" x2=\"1670.58\" y2=\"241.778\" style=\"stroke:#e26f46; stroke-width:3.2; stroke-opacity:1\"/>\n",
       "<line clip-path=\"url(#clip560)\" x1=\"1696.18\" y1=\"216.178\" x2=\"1721.78\" y2=\"241.778\" style=\"stroke:#e26f46; stroke-width:3.2; stroke-opacity:1\"/>\n",
       "<line clip-path=\"url(#clip560)\" x1=\"1696.18\" y1=\"216.178\" x2=\"1721.78\" y2=\"190.578\" style=\"stroke:#e26f46; stroke-width:3.2; stroke-opacity:1\"/>\n",
       "<path clip-path=\"url(#clip560)\" d=\"M 0 0 M1808.04 235.865 Q1806.23 240.495 1804.52 241.907 Q1802.81 243.319 1799.94 243.319 L1796.53 243.319 L1796.53 239.754 L1799.03 239.754 Q1800.79 239.754 1801.76 238.92 Q1802.74 238.087 1803.92 234.985 L1804.68 233.041 L1794.19 207.532 L1798.71 207.532 L1806.81 227.809 L1814.91 207.532 L1819.43 207.532 L1808.04 235.865 Z\" fill=\"#000000\" fill-rule=\"evenodd\" fill-opacity=\"1\" /><path clip-path=\"url(#clip560)\" d=\"M 0 0 M1829.93 229.522 L1846.25 229.522 L1846.25 233.458 L1824.31 233.458 L1824.31 229.522 Q1826.97 226.768 1831.56 222.138 Q1836.16 217.485 1837.34 216.143 Q1839.59 213.62 1840.47 211.884 Q1841.37 210.124 1841.37 208.435 Q1841.37 205.68 1839.43 203.944 Q1837.5 202.208 1834.4 202.208 Q1832.2 202.208 1829.75 202.972 Q1827.32 203.735 1824.54 205.286 L1824.54 200.564 Q1827.37 199.43 1829.82 198.851 Q1832.27 198.273 1834.31 198.273 Q1839.68 198.273 1842.87 200.958 Q1846.07 203.643 1846.07 208.134 Q1846.07 210.263 1845.26 212.185 Q1844.47 214.083 1842.37 216.675 Q1841.79 217.347 1838.68 220.564 Q1835.58 223.759 1829.93 229.522 Z\" fill=\"#000000\" fill-rule=\"evenodd\" fill-opacity=\"1\" /><polyline clip-path=\"url(#clip560)\" style=\"stroke:#3da44d; stroke-width:4; stroke-opacity:1; fill:none\" points=\"\n",
       "  1622.67,276.658 1769.69,276.658 \n",
       "  \"/>\n",
       "<line clip-path=\"url(#clip560)\" x1=\"1696.18\" y1=\"276.658\" x2=\"1670.58\" y2=\"251.058\" style=\"stroke:#3da44d; stroke-width:3.2; stroke-opacity:1\"/>\n",
       "<line clip-path=\"url(#clip560)\" x1=\"1696.18\" y1=\"276.658\" x2=\"1670.58\" y2=\"302.258\" style=\"stroke:#3da44d; stroke-width:3.2; stroke-opacity:1\"/>\n",
       "<line clip-path=\"url(#clip560)\" x1=\"1696.18\" y1=\"276.658\" x2=\"1721.78\" y2=\"302.258\" style=\"stroke:#3da44d; stroke-width:3.2; stroke-opacity:1\"/>\n",
       "<line clip-path=\"url(#clip560)\" x1=\"1696.18\" y1=\"276.658\" x2=\"1721.78\" y2=\"251.058\" style=\"stroke:#3da44d; stroke-width:3.2; stroke-opacity:1\"/>\n",
       "<path clip-path=\"url(#clip560)\" d=\"M 0 0 M1808.04 296.345 Q1806.23 300.975 1804.52 302.387 Q1802.81 303.799 1799.94 303.799 L1796.53 303.799 L1796.53 300.234 L1799.03 300.234 Q1800.79 300.234 1801.76 299.4 Q1802.74 298.567 1803.92 295.465 L1804.68 293.521 L1794.19 268.012 L1798.71 268.012 L1806.81 288.289 L1814.91 268.012 L1819.43 268.012 L1808.04 296.345 Z\" fill=\"#000000\" fill-rule=\"evenodd\" fill-opacity=\"1\" /><path clip-path=\"url(#clip560)\" d=\"M 0 0 M1840.07 275.303 Q1843.43 276.021 1845.31 278.289 Q1847.2 280.558 1847.2 283.891 Q1847.2 289.007 1843.68 291.808 Q1840.17 294.609 1833.68 294.609 Q1831.51 294.609 1829.19 294.169 Q1826.9 293.752 1824.45 292.896 L1824.45 288.382 Q1826.39 289.516 1828.71 290.095 Q1831.02 290.674 1833.55 290.674 Q1837.94 290.674 1840.24 288.938 Q1842.55 287.201 1842.55 283.891 Q1842.55 280.836 1840.4 279.123 Q1838.27 277.387 1834.45 277.387 L1830.42 277.387 L1830.42 273.544 L1834.63 273.544 Q1838.08 273.544 1839.91 272.178 Q1841.74 270.79 1841.74 268.197 Q1841.74 265.535 1839.84 264.123 Q1837.97 262.688 1834.45 262.688 Q1832.53 262.688 1830.33 263.104 Q1828.13 263.521 1825.49 264.401 L1825.49 260.234 Q1828.15 259.493 1830.47 259.123 Q1832.81 258.753 1834.87 258.753 Q1840.19 258.753 1843.29 261.183 Q1846.39 263.59 1846.39 267.711 Q1846.39 270.581 1844.75 272.572 Q1843.11 274.54 1840.07 275.303 Z\" fill=\"#000000\" fill-rule=\"evenodd\" fill-opacity=\"1\" /></svg>\n"
      ]
     },
     "execution_count": 16,
     "metadata": {},
     "output_type": "execute_result"
    }
   ],
   "source": [
    "# plot(t, energy)\n",
    "traj = plot_orbit(transfer_orbit)\n",
    "println(\"DIFFERENCE: \", norm(traj[end, :] - traj[1, :]))\n",
    "plot!([traj[1, 1]], [traj[1, 2]], markershape=:xcross, markersize=5)\n",
    "plot!([traj[end, 1]], [traj[end, 2]], markershape=:xcross, markersize=5)\n",
    "# time = 1/ radius "
   ]
  },
  {
   "cell_type": "markdown",
   "metadata": {},
   "source": [
    "## Constraints"
   ]
  },
  {
   "cell_type": "markdown",
   "metadata": {},
   "source": [
    "$ c = [c_{init}, c_{terminal}, c_{dynamics}, c_{thrust}, c_{time}] $"
   ]
  },
  {
   "cell_type": "code",
   "execution_count": 17,
   "metadata": {
    "scrolled": true
   },
   "outputs": [
    {
     "data": {
      "text/plain": [
       "unpackZ (generic function with 1 method)"
      ]
     },
     "execution_count": 17,
     "metadata": {},
     "output_type": "execute_result"
    }
   ],
   "source": [
    "function unpackZ(N, ztraj)\n",
    "    \"\"\"\n",
    "    Inputs: \n",
    "        ztraj -> Trajectory\n",
    "    \n",
    "    Returns: \n",
    "        xtraj -> state trajectory (Nx, T)\n",
    "        utraj -> control trajectory (Nu, T-1)\n",
    "    \"\"\"\n",
    "    Nt = N\n",
    "    z = reshape(ztraj[1:(end-Nx)],Nx+Nu,Nt-1)\n",
    "    xtraj = hcat(z[1:Nx,:], ztraj[end-(Nx-1):end])\n",
    "    utraj = z[(Nx+1):(Nx+Nu),:]\n",
    "    \n",
    "    return xtraj, utraj\n",
    "end"
   ]
  },
  {
   "cell_type": "code",
   "execution_count": 18,
   "metadata": {
    "scrolled": true
   },
   "outputs": [
    {
     "data": {
      "text/plain": [
       "dynamics_constraints! (generic function with 1 method)"
      ]
     },
     "execution_count": 18,
     "metadata": {},
     "output_type": "execute_result"
    }
   ],
   "source": [
    "function dynamics_constraints!(nlp, c, ztraj)\n",
    "    \"\"\"\n",
    "    Inputs: \n",
    "        c -> Constraint Vector: shape = \n",
    "        ztraj -> Current trajectory: shape ((Nx+Nu)*T, 1)\n",
    "    \n",
    "    Returns: \n",
    "        Nothing\n",
    "    \"\"\"\n",
    "#     h = nlp.h # dt? \n",
    "    X, U = unpackZ(nlp.N, ztraj)\n",
    "    N = nlp.N\n",
    "#     d = reshape(c, Nx, N-1)\n",
    "    d = reshape(view(c, nlp.idx_ineq[3]), Nx,(N-1))\n",
    "    \n",
    "    for k = 1:N-1\n",
    "        u = U[1:3, k]\n",
    "        h = U[4, k]\n",
    "        d[:, k] .= dynamics_rk8(X[:,k], u, h) - X[:,k+1]\n",
    "    end\n",
    "    \n",
    "    return d\n",
    "end\n",
    "    "
   ]
  },
  {
   "cell_type": "code",
   "execution_count": 19,
   "metadata": {
    "scrolled": true
   },
   "outputs": [
    {
     "data": {
      "text/plain": [
       "thrust_constraints! (generic function with 1 method)"
      ]
     },
     "execution_count": 19,
     "metadata": {},
     "output_type": "execute_result"
    }
   ],
   "source": [
    "function thrust_constraints!(nlp, c, ztraj)\n",
    "    \"\"\"\n",
    "    Inputs: \n",
    "        c -> Constraint Vector: shape = \n",
    "        ztraj -> Current trajectory: shape ((Nx+Nu)*T, 1)\n",
    "    \n",
    "    Returns: \n",
    "        Nothing\n",
    "    \"\"\"\n",
    "    N = nlp.N\n",
    "    d = view(c, nlp.idx_ineq[4]) #view(c, nlp.idx_ineq[end])#\n",
    "    X, U = unpackZ(nlp.N, ztraj)\n",
    "    \n",
    "    for k = 1:N-1\n",
    "        d[k] = norm(U[1:3,k])\n",
    "    end\n",
    "    \n",
    "#     d[1,:] .= norm.(U[1:3,:])\n",
    "    \n",
    "    return d\n",
    "end"
   ]
  },
  {
   "cell_type": "code",
   "execution_count": 20,
   "metadata": {
    "scrolled": true
   },
   "outputs": [
    {
     "data": {
      "text/plain": [
       "time_constraints! (generic function with 1 method)"
      ]
     },
     "execution_count": 20,
     "metadata": {},
     "output_type": "execute_result"
    }
   ],
   "source": [
    "function time_constraints!(nlp, c, ztraj)\n",
    "    N = nlp.N\n",
    "    d = view(c, nlp.idx_ineq[5])\n",
    "    X, U = unpackZ(nlp.N, ztraj)\n",
    "    \n",
    "#     for k=1:N-1\n",
    "#         d[:, k] .= U[end, k]\n",
    "#     end\n",
    "    \n",
    "    d[:] .= U[end, :]\n",
    "    \n",
    "    return d\n",
    "    \n",
    "end"
   ]
  },
  {
   "cell_type": "code",
   "execution_count": 21,
   "metadata": {
    "scrolled": true
   },
   "outputs": [
    {
     "data": {
      "text/plain": [
       "con! (generic function with 1 method)"
      ]
     },
     "execution_count": 21,
     "metadata": {},
     "output_type": "execute_result"
    }
   ],
   "source": [
    "function con!(nlp, c, Z)\n",
    "    X, U = unpackZ(nlp.N, Z)\n",
    "    c[nlp.idx_ineq[1]] .= X[:,1] - nlp.zref[1:Nx, 1] # Initial condition constraint\n",
    "    c[nlp.idx_ineq[2][1]] = (norm(X[1:3,end]) - norm(xgoal[1:3]))\n",
    "    c[nlp.idx_ineq[2][2]] = (norm(X[4:end, end])-norm(xgoal[4:end]))\n",
    "    c[nlp.idx_ineq[2][3]] = dot(X[1:3, end], X[4:end, end]) # Final condition constraint\n",
    "    c[nlp.idx_ineq[2][4]] = X[3,end]\n",
    "    c[nlp.idx_ineq[2][5]] = X[6,end]\n",
    "\n",
    "    dynamics_constraints!(nlp, c, Z) # Dynamics constraints\n",
    "    thrust_constraints!(nlp, c, Z) # Thrust constraints\n",
    "    time_constraints!(nlp, c, Z)\n",
    "end"
   ]
  },
  {
   "cell_type": "code",
   "execution_count": null,
   "metadata": {
    "scrolled": true
   },
   "outputs": [],
   "source": [
    "# con!(prob, zeros(prob.m_nlp), z)"
   ]
  },
  {
   "cell_type": "code",
   "execution_count": null,
   "metadata": {
    "scrolled": true
   },
   "outputs": [],
   "source": [
    "# prob.idx_ineq[2]"
   ]
  },
  {
   "cell_type": "markdown",
   "metadata": {},
   "source": [
    "## Constraint Jacobian"
   ]
  },
  {
   "cell_type": "code",
   "execution_count": 22,
   "metadata": {
    "scrolled": true
   },
   "outputs": [
    {
     "data": {
      "text/plain": [
       "terminal_constraint_jacobian! (generic function with 1 method)"
      ]
     },
     "execution_count": 22,
     "metadata": {},
     "output_type": "execute_result"
    }
   ],
   "source": [
    "function terminal_constraint_jacobian!(nlp, jac, Z)\n",
    "    X, U = unpackZ(nlp.N, Z)\n",
    "#     norms = [norm(u) for u in X[1:3,:]]\n",
    "    term_r = X[1:3, end]./(norm(X[1:3,end])+1e-12) #(3, 1)\n",
    "    term_v = X[4:6, end]./(norm(X[4:6,end])+1e-12) #(3, 1)\n",
    "#     term_d = X[4:end, end]+X[1:3, end] #(3, 1)\n",
    "    jac .= [([term_r, term_v, X[4:6, end], X[1:3, end], 1.0, 1.0]...)...]\n",
    "    \n",
    "end"
   ]
  },
  {
   "cell_type": "code",
   "execution_count": 23,
   "metadata": {
    "scrolled": true
   },
   "outputs": [
    {
     "data": {
      "text/plain": [
       "dynamics_constraint_jacobian! (generic function with 1 method)"
      ]
     },
     "execution_count": 23,
     "metadata": {},
     "output_type": "execute_result"
    }
   ],
   "source": [
    "function dynamics_constraint_jacobian!(nlp, jac, Z)\n",
    "#     D = rehape(view(jac, nlp.cinds[3], :), \n",
    "    N = nlp.N\n",
    "    ix = [Int((Nx+Nu)*i+1):Int((Nx+Nu)*i+Nx) for i=0:N-1]\n",
    "    iu = [Int((Nx)*i+Nu*(i-1)+1):Int((Nx+Nu)*i-1) for i=1:N-1]\n",
    "    \n",
    "    J = reshape(ForwardDiff.jacobian(x->dynamics_constraints!(nlp, zeros(eltype(x), nlp.m_nlp), x), Z), Nx*(N-1), nlp.n_nlp)\n",
    "    step = 96\n",
    "    step2 = 60\n",
    "    for k =0:N-2\n",
    "        j1 = view(jac, k*step+1:step*k+step2)\n",
    "        j2 = view(jac, step*k+step2+1:step*k+step)\n",
    "#         j1 = view(jac, (Nx*(Nx+Nu)*(k+1)+Nx*Nx)*k+1:Nx*(Nx+Nu)*(k+1))\n",
    "#         j2 = view(jac, Nx*(Nx+Nu)*(k+1)+1:Nx*(Nx+Nu)*(k+1)+Nx*Nx)\n",
    "        \n",
    "        j1 .= [(J[(Nx*k)+1:Nx*(k+1), ix[k+1][1]:iu[k+1][end]+1]...)...]\n",
    "#         if sum(J[(Nx*k)+1:Nx*(k+1), ix[k+2]]+I) <= 1e-5\n",
    "#             println(\"success\")\n",
    "#         end\n",
    "        j2 .=  [(J[(Nx*k)+1:Nx*(k+1), ix[k+2]]...)...] # (6, n_nlp)\n",
    "    end\n",
    "    \n",
    "    return nothing\n",
    "end"
   ]
  },
  {
   "cell_type": "code",
   "execution_count": null,
   "metadata": {},
   "outputs": [],
   "source": [
    "Nx*(prob.N-1)"
   ]
  },
  {
   "cell_type": "code",
   "execution_count": 24,
   "metadata": {
    "scrolled": true
   },
   "outputs": [
    {
     "data": {
      "text/plain": [
       "thrust_constraint_jacobian! (generic function with 1 method)"
      ]
     },
     "execution_count": 24,
     "metadata": {},
     "output_type": "execute_result"
    }
   ],
   "source": [
    "function thrust_constraint_jacobian!(nlp, jac, Z)\n",
    "#     D = view(jac, nlp.cinds[4], :)\n",
    "#     jac .= [(ForwardDiff.jacobian(x->thrust_constraints!(nlp, zeros(eltype(x), nlp.m_nlp), x), Z)...)...]\n",
    "    X, U = unpackZ(nlp.N, Z)\n",
    "    # N-1\n",
    "    norms_grad = [([u./(1e-12+norm(u)) for u in U[1:3,:]]...)...]\n",
    "    jac .= norms_grad # (3*(N-1))\n",
    "    return nothing\n",
    "end"
   ]
  },
  {
   "cell_type": "code",
   "execution_count": 25,
   "metadata": {
    "scrolled": true
   },
   "outputs": [
    {
     "data": {
      "text/plain": [
       "time_constraint_jacobian! (generic function with 1 method)"
      ]
     },
     "execution_count": 25,
     "metadata": {},
     "output_type": "execute_result"
    }
   ],
   "source": [
    "function time_constraint_jacobian!(nlp, jac, Z)\n",
    "#     jac .= [(ForwardDiff.jacobian(x->time_constraints!(nlp, zeros(eltype(x), nlp.m_nlp), x), Z)...)...]\n",
    "    jac .= 1 #(N-1)\n",
    "    return nothing\n",
    "end"
   ]
  },
  {
   "cell_type": "code",
   "execution_count": null,
   "metadata": {},
   "outputs": [],
   "source": [
    "Nx*(100-1)*(2*Nx+Nu)"
   ]
  },
  {
   "cell_type": "code",
   "execution_count": 26,
   "metadata": {
    "scrolled": true
   },
   "outputs": [
    {
     "data": {
      "text/plain": [
       "jac_c! (generic function with 1 method)"
      ]
     },
     "execution_count": 26,
     "metadata": {},
     "output_type": "execute_result"
    }
   ],
   "source": [
    "function jac_c!(nlp, jac, Z)\n",
    "    # m_nlp, n_nlp \n",
    "    \n",
    "#     xinds = [SVector{n}((k-1)*(n+m) .+ (1:n)) for k = 1:N]\n",
    "#     uinds = [SVector{m}((k-1)*(n+m) .+ (n+1:n+m)) for k = 1:N-1]\n",
    "    \n",
    "#     ix = [Int((Nx+Nu)*i+1):Int((Nx+Nu)*i+Nx) for i=0:N-2]\n",
    "#     sizeX = ix[end][end]-ix[1][1]\n",
    "#     iu = [Int((Nx)*i+Nu*(i-1)):Int((Nx+Nu)*i) for i=1:N-1]\n",
    "#     sizeU = ix[end][end]-ix[1][1]\n",
    "    N = nlp.N\n",
    "    i_init = 1:Nx\n",
    "    i_term = i_init[end]+1:i_init[end]+3+3+6+1+1\n",
    "    \n",
    "    i_dyn = i_term[end]+1:i_term[end]+(Nx*(Nx+Nu+Nx)*(N-1))\n",
    "    \n",
    "    i_thrust = i_dyn[end]+1:i_dyn[end]+3*(N-1)\n",
    "    \n",
    "    i_time = i_thrust[end]+1:i_thrust[end]+(N-1) # Definitely not sure about this\n",
    "#     print(i_time[end][end])\n",
    "    \n",
    "    jac_init = view(jac, i_init)\n",
    "    jac_term = view(jac, i_term)\n",
    "    jac_dynamics = view(jac, i_dyn)\n",
    "    jac_thrust = view(jac, i_thrust)\n",
    "    jac_time = view(jac, i_time)\n",
    "    # Sparse Matrix\n",
    "#     [I(Nx, Nx), I(Nx,Nx), forwardDIff(dynamics), forwardDIff(thrust)]\n",
    "#     ForwardDiff.jacobian!(reshape(jac,prob.m_nlp,prob.n_nlp), (c,x) -> con!(prob, c, x), zeros(prob.m_nlp), x)\n",
    "    jac_init .= 1 #[(I(Nx)*1.0...)...] # Initial Condtion Constraint\n",
    "    terminal_constraint_jacobian!(nlp, jac_term, Z) # I(Nx, Nx).flatten()\n",
    "    dynamics_constraint_jacobian!(nlp, jac_dynamics, Z)\n",
    "    thrust_constraint_jacobian!(nlp, jac_thrust, Z)\n",
    "    time_constraint_jacobian!(nlp, jac_time, Z)\n",
    "    \n",
    "    return nothing\n",
    "end"
   ]
  },
  {
   "cell_type": "code",
   "execution_count": null,
   "metadata": {},
   "outputs": [],
   "source": [
    "jac = zeros(9920, )\n",
    "jac_c!(prob, jac, z)"
   ]
  },
  {
   "cell_type": "markdown",
   "metadata": {},
   "source": [
    "## Part (a): Implement DIRCOL \n",
    "Implement DIRCOL by completing the provided methods. "
   ]
  },
  {
   "cell_type": "code",
   "execution_count": 69,
   "metadata": {
    "scrolled": true
   },
   "outputs": [
    {
     "data": {
      "text/plain": [
       "solve (generic function with 1 method)"
      ]
     },
     "execution_count": 69,
     "metadata": {},
     "output_type": "execute_result"
    }
   ],
   "source": [
    "\"\"\"\n",
    "    Problem{n,m,L}\n",
    "\n",
    "Describes a trajectory optimization problem with `n` states, `m` controls, and \n",
    "a model of type `L`. \n",
    "\n",
    "# Constructor\n",
    "    Problem(model::L, obj::Vector{<:QuadraticCost{n,m}}, tf, x0, xf) where {n,m,L}\n",
    "\n",
    "where `tf` is the final time, and `x0` is the initial state. \n",
    "\"\"\"\n",
    "# struct Problem{n,m,L}\n",
    "    # TODO \n",
    "# end\n",
    "# Base.size(prob::Problem{n,m}) where {n,m} = (n,m,prob.T)\n",
    "\n",
    "struct ProblemMOI <: MOI.AbstractNLPEvaluator\n",
    "    n_nlp::Int # num_primals\n",
    "    m_nlp::Int # num_duals\n",
    "    N::Int # num_knots\n",
    "#     h::Float64\n",
    "    idx_ineq # list of constraint ranges\n",
    "    obj_grad::Bool \n",
    "    con_jac::Bool\n",
    "    sparsity_jac\n",
    "#     sparsity_hess\n",
    "    primal_bounds\n",
    "    constraint_bounds\n",
    "    hessian_lagrangian::Bool\n",
    "    zref\n",
    "end\n",
    "\n",
    "function ProblemMOI(n_nlp, N, zref;\n",
    "        idx_ineq=get_cinds(Nx, N),\n",
    "        m_nlp = idx_ineq[end][end],\n",
    "        obj_grad=true,\n",
    "        con_jac=true,\n",
    "        sparsity_jac=sparsity_jacobian(n_nlp,m_nlp),\n",
    "#         sparsity_hess=sparsity_hessian(n_nlp,m_nlp),\n",
    "        primal_bounds=primal_bounds(n_nlp),\n",
    "        constraint_bounds=constraint_bounds(m_nlp,idx_ineq=idx_ineq),\n",
    "        hessian_lagrangian=false)\n",
    "\n",
    "    ProblemMOI(\n",
    "        n_nlp,\n",
    "        m_nlp,\n",
    "        N, # Nt\n",
    "#         h, \n",
    "        idx_ineq, # Indexes\n",
    "        obj_grad, \n",
    "        con_jac,\n",
    "        sparsity_jac,\n",
    "#         sparsity_hess,\n",
    "        primal_bounds,\n",
    "        constraint_bounds,\n",
    "        hessian_lagrangian, \n",
    "        zref)\n",
    "end\n",
    "\n",
    "function primal_bounds(n)\n",
    "    x_l = -Inf*ones(n)\n",
    "    x_u = Inf*ones(n)\n",
    "    return x_l, x_u\n",
    "end\n",
    "\n",
    "function get_cinds(n, N)\n",
    "    c_init_inds = 1:Nx\n",
    "    c_term_inds = (c_init_inds[end]+1):(c_init_inds[end]+5)\n",
    "    c_dyn_inds = (c_term_inds[end]+1):(c_term_inds[end]+((Nx)*(N-1)))\n",
    "    c_thrust_inds = (c_dyn_inds[end]+1):(c_dyn_inds[end]+((N-1)))\n",
    "    c_time_inds = c_thrust_inds[end]+1:c_thrust_inds[end]+(N-1)\n",
    "    \n",
    "    return [c_init_inds, c_term_inds, c_dyn_inds, c_thrust_inds, c_time_inds]\n",
    "end\n",
    "\n",
    "function constraint_bounds(m_nlp; idx_ineq)\n",
    "    lb = zeros(m_nlp) \n",
    "    lb[idx_ineq[1]] .= 0 ##x0\n",
    "    lb[idx_ineq[2]] .= 0 #xf\n",
    "    lb[idx_ineq[3]] .= 0\n",
    "    lb[idx_ineq[4]] .= 0 # Might have a minimum thrust requirment\n",
    "    lb[idx_ineq[5]] .= 1e-3\n",
    "\n",
    "    ub = zeros(m_nlp) #fill(-Inf,m_nlp)\n",
    "    ub[idx_ineq[1]] .= 0 #x0\n",
    "    ub[idx_ineq[2]] .= 0 #xf\n",
    "    ub[idx_ineq[3]] .= 0\n",
    "    ub[idx_ineq[4]] .= 1.0\n",
    "    ub[idx_ineq[5]] .= 1e-1\n",
    "\n",
    "    return lb, ub\n",
    "end\n",
    "\n",
    "function row_col!(row,col,r,c)\n",
    "#     println(\"starting row_col\")\n",
    "    for cc in c\n",
    "        for rr in r\n",
    "            push!(row,convert(Int,rr))\n",
    "            push!(col,convert(Int,cc))\n",
    "        end\n",
    "    end\n",
    "#     println(\"Finished row_col\")\n",
    "    return row, col\n",
    "end\n",
    "\n",
    "function sparsity_jacobian(n,m, N)\n",
    "#     N = (n-Nx)/(Nx+Nu)+1\n",
    "\n",
    "    row = []\n",
    "    col = []\n",
    "#     r = 1:m\n",
    "#     c = 1:n\n",
    "#     row_col!(row, col, r, c)\n",
    "    idx_ineq = get_cinds(0, N)\n",
    "    ix = [Int((Nx+Nu)*i+1):Int((Nx+Nu)*i+Nx) for i=0:N-1]\n",
    "    iu = [Int((Nx)*i+Nu*(i-1)+1):Int((Nx+Nu)*i-1) for i=1:N-1]\n",
    "# #     print(ix, iu)\n",
    "    # initial Constraints \n",
    "    for k=1:Nx\n",
    "        push!(row, convert(Int, k))\n",
    "        push!(col, convert(Int, k))\n",
    "    end\n",
    "    \n",
    "    # Terminal Constraints\n",
    "    for k = 1:3\n",
    "        push!(row, convert(Int, idx_ineq[2][1]))\n",
    "        push!(col, convert(Int, n-6+k))\n",
    "\n",
    "    end\n",
    "    for k = 1:3\n",
    "        push!(row, convert(Int, idx_ineq[2][2]))\n",
    "        push!(col, convert(Int, n-3+k))\n",
    "    end\n",
    "    for k=1:6\n",
    "        push!(row, convert(Int, idx_ineq[2][3]))\n",
    "        push!(col, convert(Int, n-6+k))\n",
    "    end\n",
    "    \n",
    "    push!(row, convert(Int, idx_ineq[2][4]))\n",
    "    push!(col, convert(Int, n-3))\n",
    "    push!(row, convert(Int, idx_ineq[2][5]))\n",
    "    push!(col, convert(Int, n))\n",
    "    \n",
    "    # \n",
    "#     push!(row, convert(Int, idx_ineq[2]))\n",
    "#     push!(col, convert(Int, n-Nx:n))\n",
    "    \n",
    "#     row_col!(row,col, idx_ineq[1], idx_ineq[1]) # init_con\n",
    "#     print(size(row))\n",
    "#     row_col!(row, col, idx_ineq[2], n-Nx+1:n) # term_con\n",
    "#     print(size(row))\n",
    "    \n",
    "    # Dynamics_con\n",
    "    for i=0:N-2\n",
    "        row_col!(row, col, idx_ineq[3][Nx*i+1:(Nx*(i+1))], ix[i+1][1]:iu[i+1][end]+1)\n",
    "        row_col!(row, col, idx_ineq[3][Nx*i+1:(Nx*(i+1))], ix[i+2]) # number of values will be idx_ineq[3][end]-idx_ineq[3][1]*n \n",
    "#     print(size(row))\n",
    "    end\n",
    "    \n",
    "    # Thrust Con + time con\n",
    "    idx_h = [i[end]+1 for i in iu]\n",
    "    for k=1:N-1\n",
    "        for j=1:3\n",
    "            push!(row, convert(Int, idx_ineq[4][k]))\n",
    "            push!(col, convert(Int, iu[k][j]))\n",
    "        end\n",
    "#         row_col!(row, col, ones(3)*idx_ineq[4][k], iu[k])\n",
    "#     print(size(row))\n",
    "    end\n",
    "    for k=1:N-1\n",
    "        push!(row, convert(Int, idx_ineq[5][k]))\n",
    "        push!(col, convert(Int, idx_h[k]))\n",
    "    end\n",
    "    \n",
    "    \n",
    "#     for k=1:\n",
    "        \n",
    "#     row_col!(row, col, idx_ineq[5], 1:n)\n",
    "#     print(size(row))\n",
    "\n",
    "    return collect(zip(row,col))\n",
    "end\n",
    "\n",
    "function sparsity_hessian(n,m)\n",
    "#     N = (n-Nx)/(Nx+Nu)+1\n",
    "\n",
    "    row = []\n",
    "    col = []\n",
    "    r = 1:m\n",
    "    c = 1:n\n",
    "    row_col!(row, col, r, c)\n",
    "    \n",
    "#     idx_ineq = get_cinds(0, N)\n",
    "#     ix = [Int((Nx+Nu)*i+1):Int((Nx+Nu)*i+Nx) for i=0:N-2]\n",
    "#     iu = [Int((Nx)*i+Nu*(i-1)):Int((Nx+Nu)*i) for i=1:N-1]\n",
    "# #     print(ix, iu)\n",
    "# #     row_col!(row,col, idx_ineq[1], idx_ineq[1]) # init_con\n",
    "# #     row_col!(row, col, idx_ineq[2], n-Nx:n) # term_con\n",
    "    \n",
    "    \n",
    "#     # Dynamics_con\n",
    "#     for x in ix\n",
    "#         row_col!(row, col, idx_ineq[3], x)\n",
    "#     end\n",
    "    \n",
    "#     # Thrust Con\n",
    "#     for u in iu\n",
    "#         row_col!(row, col, idx_ineq[4], u)\n",
    "#     end\n",
    "\n",
    "    return collect(zip(row,col))\n",
    "end\n",
    "\n",
    "function MOI.eval_objective(prob::MOI.AbstractNLPEvaluator, x)\n",
    "    cost(prob, x)\n",
    "end\n",
    "\n",
    "function MOI.eval_objective_gradient(prob::MOI.AbstractNLPEvaluator, grad_f, x)\n",
    "    ForwardDiff.gradient!(grad_f, x -> cost(prob, x), x)\n",
    "    return nothing\n",
    "end\n",
    "\n",
    "function MOI.eval_constraint(prob::MOI.AbstractNLPEvaluator,g,x)\n",
    "    con!(prob, g, x) # TODO: Implement con! (Mitch)\n",
    "    return nothing\n",
    "end\n",
    "\n",
    "function MOI.eval_constraint_jacobian(prob::MOI.AbstractNLPEvaluator, jac, x)\n",
    "#     IF DENSE\n",
    "#     ForwardDiff.jacobian!(jac, (c,x) -> con!(prob, c, x), zeros(prob.m_nlp), x)\n",
    "\n",
    "    # IF SPARSE\n",
    "    jac_c!(prob, jac, x)\n",
    "    return nothing #sparse(r, c, jac[prob.sparcity_jac])\n",
    "end\n",
    "\n",
    "function MOI.features_available(prob::MOI.AbstractNLPEvaluator)\n",
    "    return [:Grad, :Jac]\n",
    "end\n",
    "\n",
    "# TODO: Confirm meaning of these functions\n",
    "MOI.initialize(prob::MOI.AbstractNLPEvaluator, features) = nothing\n",
    "MOI.jacobian_structure(prob::MOI.AbstractNLPEvaluator) = prob.sparsity_jac #\n",
    "\n",
    "\n",
    "\n",
    "function solve(x0,prob::MOI.AbstractNLPEvaluator;\n",
    "        tol=1.0e-6,c_tol=1.0e-6,max_iter=500)\n",
    "    x_l, x_u = prob.primal_bounds\n",
    "    c_l, c_u = prob.constraint_bounds\n",
    "\n",
    "    nlp_bounds = MOI.NLPBoundsPair.(c_l,c_u)\n",
    "    block_data = MOI.NLPBlockData(nlp_bounds,prob,true)\n",
    "\n",
    "    solver = Ipopt.Optimizer()\n",
    "    solver.options[\"max_iter\"] = max_iter\n",
    "    solver.options[\"tol\"] = tol\n",
    "    solver.options[\"constr_viol_tol\"] = c_tol\n",
    "\n",
    "    x = MOI.add_variables(solver, prob.n_nlp)\n",
    "\n",
    "    for i = 1:prob.n_nlp\n",
    "        xi = MOI.SingleVariable(x[i])\n",
    "        MOI.add_constraint(solver, xi, MOI.LessThan(x_u[i]))\n",
    "        MOI.add_constraint(solver, xi, MOI.GreaterThan(x_l[i]))\n",
    "        MOI.set(solver, MOI.VariablePrimalStart(), x[i], x0[i])\n",
    "    end\n",
    "\n",
    "    # Solve the problem\n",
    "    MOI.set(solver, MOI.NLPBlock(), block_data)\n",
    "    MOI.set(solver, MOI.ObjectiveSense(), MOI.MIN_SENSE)\n",
    "    MOI.optimize!(solver)\n",
    "\n",
    "    # Get the solution\n",
    "    res = MOI.get(solver, MOI.VariablePrimal(), x)\n",
    "    status = MOI.get(solver, MOI.TerminationStatus())\n",
    "\n",
    "    return res, status\n",
    "end"
   ]
  },
  {
   "cell_type": "code",
   "execution_count": null,
   "metadata": {
    "scrolled": true
   },
   "outputs": [],
   "source": [
    "knots = 100\n",
    "# t = range(0, orbit.period, length=knots) \n",
    "# h = t[2]-t[1]\n",
    "function impulse_ref_traj(init_orbit::Orbit,final_orbit::Orbit) #knots,Nx,Nu\n",
    "    time = knots #Int(ceil(init_orbit.period/2*knots/2+final_orbit.period*knots))\n",
    "    traj = zeros(time-1,Nx+Nu)\n",
    "    x = copy(init_orbit.x0)\n",
    "    h = init_orbit.period/(knots)\n",
    "\n",
    "    u = [0, 0, 0, h]\n",
    "    traj[1,:] .= vcat(x,u)\n",
    "    print(h)\n",
    "    for i in 2:size(traj)[1]\n",
    "        integrator_rk8!(x, u, h)\n",
    "        if (i == Int(ceil(init_orbit.period/2*knots)))\n",
    "            x = final_orbit.x0 .* -1\n",
    "            h = final_orbit.period/(knots)\n",
    "            u = [0, 0, 0, h]\n",
    "        end\n",
    "        traj[i,:] .= vcat(x,u)\n",
    "    end\n",
    "    traj = reshape(traj',((time-1)*(Nx+Nu),1))\n",
    "    traj = vcat(traj,final_orbit.x0)\n",
    "    return traj\n",
    "end\n",
    "z = impulse_ref_traj(transfer_orbit,goal_orbit)\n",
    "X,U = unpackZ(knots, [(z...)...])\n",
    "transition = Int(ceil(transfer_orbit.period*knots/2))\n",
    "# display(X[:,transition-5:transition+5]')\n",
    "plot(X[1, :], X[2, :], aspect_ratio=:equal, lims=(-semiMajorAxis_goal*1.5,semiMajorAxis_goal*1.5), title = \"Reference Trajectory\", label = \"Reference\", lw = 3)\n",
    "xlabel!(\"Orbital Units\")\n",
    "ylabel!(\"Orbital Units\")\n",
    "plot!([goal_orbit.x0[1]], [goal_orbit.x0[2]], markershape=:xcross, markersize=5, label=\"Goal State\")\n",
    "plot!([0], [0], lw=10, markershape=:o, label=\"Planet Earth\")"
   ]
  },
  {
   "cell_type": "code",
   "execution_count": null,
   "metadata": {
    "scrolled": true
   },
   "outputs": [],
   "source": [
    "knots = 100\n",
    "function impulse_ref_traj(init_orbit::Orbit,final_orbit::Orbit) #knots,Nx,Nu\n",
    "    time = knots #Int(ceil(init_orbit.period/2*knots/2+final_orbit.period*knots))\n",
    "    traj = zeros(time-1,Nx+Nu)\n",
    "    x = copy(init_orbit.x0)\n",
    "    u = zeros(Nu)\n",
    "    traj[1,:] .= vcat(x,u)\n",
    "    h = init_orbit.period/(knots)\n",
    "    for i in 2:size(traj)[1]\n",
    "        integrator_rk8!(x, u, h)\n",
    "        if (i == Int(ceil(init_orbit.period/2*knots)))\n",
    "            x = final_orbit.x0 .* -1\n",
    "            h = 5*final_orbit.period/(knots)\n",
    "        end\n",
    "        traj[i,:] .= vcat(x,u)\n",
    "    end\n",
    "    traj = reshape(traj',((time-1)*(Nx+Nu),1))\n",
    "    traj = vcat(traj,final_orbit.x0)\n",
    "    return traj\n",
    "end\n",
    "z = impulse_ref_traj(transfer_orbit,goal_orbit)\n",
    "X,U = unpackZ(knots, z)\n",
    "transition = Int(ceil(transfer_orbit.period*knots/5))\n",
    "# display(X[:,transition-5:transition+5]')\n",
    "plot(X[1, :], X[2, :], aspect_ratio=:equal, lims=(-semiMajorAxis_goal*1.5,semiMajorAxis_goal*1.5))\n",
    "plot!([goal_orbit.x0[1]], [goal_orbit.x0[2]], markershape=:xcross, markersize=5)"
   ]
  },
  {
   "cell_type": "code",
   "execution_count": 28,
   "metadata": {
    "scrolled": true
   },
   "outputs": [
    {
     "data": {
      "text/plain": [
       "plot3d_orbit (generic function with 1 method)"
      ]
     },
     "execution_count": 28,
     "metadata": {},
     "output_type": "execute_result"
    }
   ],
   "source": [
    "function plot3d_orbit(X, label)\n",
    "    plot3d(X[1, :], X[2, :], X[3,:], aspect_ratio=:equal, lims=(-semiMajorAxis_goal*1.25,semiMajorAxis_goal*1.25), title = \"$(label) Trajectory ($(orbits) orbits)\", label = \"$(label)\", lw = 2)\n",
    "#     plot!([traj[1, 1]], [traj[1, 2]], [traj[1, 3]], markershape=:xcross, markersize=5)\n",
    "#     plot!([traj[end, 1]], [traj[end, 2]], [traj[end, 3]], markershape=:xcross, markersize=5)\n",
    "    xlabel!(\"Orbital Units\")\n",
    "    ylabel!(\"Orbital Units\")\n",
    "#     plot!([goal_orbit.x0[1]], [goal_orbit.x0[2]], [goal_orbit.x0[3]], markershape=:xcross, markersize=5, label=\"Goal State\")\n",
    "    plot!([0], [0], [0],lw=10, markershape=:o, label=\"Planet Earth\", color=\"green\")\n",
    "end"
   ]
  },
  {
   "cell_type": "code",
   "execution_count": 70,
   "metadata": {},
   "outputs": [
    {
     "name": "stdout",
     "output_type": "stream",
     "text": [
      "18.099797490583523"
     ]
    },
    {
     "data": {
      "image/svg+xml": [
       "<?xml version=\"1.0\" encoding=\"utf-8\"?>\n",
       "<svg xmlns=\"http://www.w3.org/2000/svg\" xmlns:xlink=\"http://www.w3.org/1999/xlink\" width=\"600\" height=\"400\" viewBox=\"0 0 2400 1600\">\n",
       "<defs>\n",
       "  <clipPath id=\"clip960\">\n",
       "    <rect x=\"0\" y=\"0\" width=\"2400\" height=\"1600\"/>\n",
       "  </clipPath>\n",
       "</defs>\n",
       "<path clip-path=\"url(#clip960)\" d=\"\n",
       "M0 1600 L2400 1600 L2400 0 L0 0  Z\n",
       "  \" fill=\"#ffffff\" fill-rule=\"evenodd\" fill-opacity=\"1\"/>\n",
       "<defs>\n",
       "  <clipPath id=\"clip961\">\n",
       "    <rect x=\"480\" y=\"0\" width=\"1681\" height=\"1600\"/>\n",
       "  </clipPath>\n",
       "</defs>\n",
       "<defs>\n",
       "  <clipPath id=\"clip962\">\n",
       "    <rect x=\"600\" y=\"123\" width=\"1301\" height=\"1301\"/>\n",
       "  </clipPath>\n",
       "</defs>\n",
       "<path clip-path=\"url(#clip962)\" d=\"\n",
       "M600.263 1346.4 L600.263 353.805 L1075.99 123.472 L1899.97 200.25 L1899.97 1192.85 L1424.24 1423.18 L600.263 1346.4  Z\n",
       "  \" fill=\"#ffffff\" fill-rule=\"evenodd\" fill-opacity=\"1\"/>\n",
       "<polyline clip-path=\"url(#clip962)\" style=\"stroke:#000000; stroke-width:2; stroke-opacity:0.1; fill:none\" points=\"\n",
       "  628.896,1349.07 1104.62,1118.74 \n",
       "  \"/>\n",
       "<polyline clip-path=\"url(#clip962)\" style=\"stroke:#000000; stroke-width:2; stroke-opacity:0.1; fill:none\" points=\"\n",
       "  1104.62,1118.74 1104.62,126.14 \n",
       "  \"/>\n",
       "<polyline clip-path=\"url(#clip962)\" style=\"stroke:#000000; stroke-width:2; stroke-opacity:0.1; fill:none\" points=\"\n",
       "  820.575,1366.93 1296.3,1136.6 \n",
       "  \"/>\n",
       "<polyline clip-path=\"url(#clip962)\" style=\"stroke:#000000; stroke-width:2; stroke-opacity:0.1; fill:none\" points=\"\n",
       "  1296.3,1136.6 1296.3,144.001 \n",
       "  \"/>\n",
       "<polyline clip-path=\"url(#clip962)\" style=\"stroke:#000000; stroke-width:2; stroke-opacity:0.1; fill:none\" points=\"\n",
       "  1012.25,1384.79 1487.98,1154.46 \n",
       "  \"/>\n",
       "<polyline clip-path=\"url(#clip962)\" style=\"stroke:#000000; stroke-width:2; stroke-opacity:0.1; fill:none\" points=\"\n",
       "  1487.98,1154.46 1487.98,161.861 \n",
       "  \"/>\n",
       "<polyline clip-path=\"url(#clip962)\" style=\"stroke:#000000; stroke-width:2; stroke-opacity:0.1; fill:none\" points=\"\n",
       "  1203.93,1402.65 1679.66,1172.32 \n",
       "  \"/>\n",
       "<polyline clip-path=\"url(#clip962)\" style=\"stroke:#000000; stroke-width:2; stroke-opacity:0.1; fill:none\" points=\"\n",
       "  1679.66,1172.32 1679.66,179.721 \n",
       "  \"/>\n",
       "<polyline clip-path=\"url(#clip962)\" style=\"stroke:#000000; stroke-width:2; stroke-opacity:0.1; fill:none\" points=\"\n",
       "  1395.61,1420.51 1871.34,1190.18 \n",
       "  \"/>\n",
       "<polyline clip-path=\"url(#clip962)\" style=\"stroke:#000000; stroke-width:2; stroke-opacity:0.1; fill:none\" points=\"\n",
       "  1871.34,1190.18 1871.34,197.582 \n",
       "  \"/>\n",
       "<polyline clip-path=\"url(#clip960)\" style=\"stroke:#000000; stroke-width:4; stroke-opacity:1; fill:none\" points=\"\n",
       "  600.263,1346.4 1424.24,1423.18 \n",
       "  \"/>\n",
       "<polyline clip-path=\"url(#clip960)\" style=\"stroke:#000000; stroke-width:4; stroke-opacity:1; fill:none\" points=\"\n",
       "  628.896,1349.07 634.604,1346.31 \n",
       "  \"/>\n",
       "<polyline clip-path=\"url(#clip960)\" style=\"stroke:#000000; stroke-width:4; stroke-opacity:1; fill:none\" points=\"\n",
       "  820.575,1366.93 826.284,1364.17 \n",
       "  \"/>\n",
       "<polyline clip-path=\"url(#clip960)\" style=\"stroke:#000000; stroke-width:4; stroke-opacity:1; fill:none\" points=\"\n",
       "  1012.25,1384.79 1017.96,1382.03 \n",
       "  \"/>\n",
       "<polyline clip-path=\"url(#clip960)\" style=\"stroke:#000000; stroke-width:4; stroke-opacity:1; fill:none\" points=\"\n",
       "  1203.93,1402.65 1209.64,1399.89 \n",
       "  \"/>\n",
       "<polyline clip-path=\"url(#clip960)\" style=\"stroke:#000000; stroke-width:4; stroke-opacity:1; fill:none\" points=\"\n",
       "  1395.61,1420.51 1401.32,1417.75 \n",
       "  \"/>\n",
       "<path clip-path=\"url(#clip960)\" d=\"M 0 0 M574.838 1397.71 L604.514 1397.71 L604.514 1401.65 L574.838 1401.65 L574.838 1397.71 Z\" fill=\"#000000\" fill-rule=\"evenodd\" fill-opacity=\"1\" /><path clip-path=\"url(#clip960)\" d=\"M 0 0 M618.634 1410.61 L634.953 1410.61 L634.953 1414.54 L613.009 1414.54 L613.009 1410.61 Q615.671 1407.85 620.254 1403.22 Q624.861 1398.57 626.041 1397.23 Q628.287 1394.7 629.166 1392.97 Q630.069 1391.21 630.069 1389.52 Q630.069 1386.76 628.125 1385.03 Q626.204 1383.29 623.102 1383.29 Q620.903 1383.29 618.449 1384.06 Q616.018 1384.82 613.241 1386.37 L613.241 1381.65 Q616.065 1380.51 618.518 1379.94 Q620.972 1379.36 623.009 1379.36 Q628.379 1379.36 631.574 1382.04 Q634.768 1384.73 634.768 1389.22 Q634.768 1391.35 633.958 1393.27 Q633.171 1395.17 631.065 1397.76 Q630.486 1398.43 627.384 1401.65 Q624.282 1404.84 618.634 1410.61 Z\" fill=\"#000000\" fill-rule=\"evenodd\" fill-opacity=\"1\" /><path clip-path=\"url(#clip960)\" d=\"M 0 0 M766.332 1415.57 L796.008 1415.57 L796.008 1419.51 L766.332 1419.51 L766.332 1415.57 Z\" fill=\"#000000\" fill-rule=\"evenodd\" fill-opacity=\"1\" /><path clip-path=\"url(#clip960)\" d=\"M 0 0 M806.91 1428.47 L814.549 1428.47 L814.549 1402.1 L806.239 1403.77 L806.239 1399.51 L814.503 1397.84 L819.179 1397.84 L819.179 1428.47 L826.818 1428.47 L826.818 1432.4 L806.91 1432.4 L806.91 1428.47 Z\" fill=\"#000000\" fill-rule=\"evenodd\" fill-opacity=\"1\" /><path clip-path=\"url(#clip960)\" d=\"M 0 0 M988.254 1418.78 Q984.643 1418.78 982.814 1422.35 Q981.009 1425.89 981.009 1433.02 Q981.009 1440.12 982.814 1443.69 Q984.643 1447.23 988.254 1447.23 Q991.888 1447.23 993.694 1443.69 Q995.522 1440.12 995.522 1433.02 Q995.522 1425.89 993.694 1422.35 Q991.888 1418.78 988.254 1418.78 M988.254 1415.08 Q994.064 1415.08 997.12 1419.68 Q1000.2 1424.27 1000.2 1433.02 Q1000.2 1441.74 997.12 1446.35 Q994.064 1450.93 988.254 1450.93 Q982.444 1450.93 979.365 1446.35 Q976.31 1441.74 976.31 1433.02 Q976.31 1424.27 979.365 1419.68 Q982.444 1415.08 988.254 1415.08 Z\" fill=\"#000000\" fill-rule=\"evenodd\" fill-opacity=\"1\" /><path clip-path=\"url(#clip960)\" d=\"M 0 0 M1170.31 1464.19 L1177.95 1464.19 L1177.95 1437.82 L1169.64 1439.49 L1169.64 1435.23 L1177.91 1433.56 L1182.58 1433.56 L1182.58 1464.19 L1190.22 1464.19 L1190.22 1468.12 L1170.31 1468.12 L1170.31 1464.19 Z\" fill=\"#000000\" fill-rule=\"evenodd\" fill-opacity=\"1\" /><path clip-path=\"url(#clip960)\" d=\"M 0 0 M1366.26 1482.05 L1382.58 1482.05 L1382.58 1485.98 L1360.64 1485.98 L1360.64 1482.05 Q1363.3 1479.29 1367.89 1474.66 Q1372.49 1470.01 1373.67 1468.67 Q1375.92 1466.15 1376.8 1464.41 Q1377.7 1462.65 1377.7 1460.96 Q1377.7 1458.21 1375.76 1456.47 Q1373.83 1454.73 1370.73 1454.73 Q1368.53 1454.73 1366.08 1455.5 Q1363.65 1456.26 1360.87 1457.81 L1360.87 1453.09 Q1363.7 1451.96 1366.15 1451.38 Q1368.6 1450.8 1370.64 1450.8 Q1376.01 1450.8 1379.2 1453.48 Q1382.4 1456.17 1382.4 1460.66 Q1382.4 1462.79 1381.59 1464.71 Q1380.8 1466.61 1378.7 1469.2 Q1378.12 1469.87 1375.01 1473.09 Q1371.91 1476.28 1366.26 1482.05 Z\" fill=\"#000000\" fill-rule=\"evenodd\" fill-opacity=\"1\" /><path clip-path=\"url(#clip960)\" d=\"M 0 0 M710.289 1521.78 Q703.287 1521.78 699.149 1527 Q695.043 1532.22 695.043 1541.22 Q695.043 1550.2 699.149 1555.42 Q703.287 1560.64 710.289 1560.64 Q717.292 1560.64 721.366 1555.42 Q725.472 1550.2 725.472 1541.22 Q725.472 1532.22 721.366 1527 Q717.292 1521.78 710.289 1521.78 M710.289 1516.56 Q720.284 1516.56 726.267 1523.27 Q732.251 1529.96 732.251 1541.22 Q732.251 1552.46 726.267 1559.17 Q720.284 1565.86 710.289 1565.86 Q700.263 1565.86 694.248 1559.17 Q688.264 1552.49 688.264 1541.22 Q688.264 1529.96 694.248 1523.27 Q700.263 1516.56 710.289 1516.56 Z\" fill=\"#000000\" fill-rule=\"evenodd\" fill-opacity=\"1\" /><path clip-path=\"url(#clip960)\" d=\"M 0 0 M762.711 1534.76 Q761.724 1534.19 760.547 1533.93 Q759.401 1533.65 758 1533.65 Q753.035 1533.65 750.361 1536.89 Q747.72 1540.11 747.72 1546.16 L747.72 1564.94 L741.831 1564.94 L741.831 1529.29 L747.72 1529.29 L747.72 1534.83 Q749.566 1531.58 752.526 1530.02 Q755.486 1528.43 759.719 1528.43 Q760.324 1528.43 761.056 1528.52 Q761.788 1528.59 762.679 1528.75 L762.711 1534.76 Z\" fill=\"#000000\" fill-rule=\"evenodd\" fill-opacity=\"1\" /><path clip-path=\"url(#clip960)\" d=\"M 0 0 M794.444 1547.14 Q794.444 1540.68 791.77 1537.02 Q789.129 1533.33 784.482 1533.33 Q779.835 1533.33 777.161 1537.02 Q774.519 1540.68 774.519 1547.14 Q774.519 1553.6 777.161 1557.3 Q779.835 1560.96 784.482 1560.96 Q789.129 1560.96 791.77 1557.3 Q794.444 1553.6 794.444 1547.14 M774.519 1534.7 Q776.365 1531.52 779.166 1529.99 Q781.999 1528.43 785.914 1528.43 Q792.407 1528.43 796.449 1533.58 Q800.523 1538.74 800.523 1547.14 Q800.523 1555.55 796.449 1560.7 Q792.407 1565.86 785.914 1565.86 Q781.999 1565.86 779.166 1564.33 Q776.365 1562.77 774.519 1559.59 L774.519 1564.94 L768.631 1564.94 L768.631 1515.41 L774.519 1515.41 L774.519 1534.7 Z\" fill=\"#000000\" fill-rule=\"evenodd\" fill-opacity=\"1\" /><path clip-path=\"url(#clip960)\" d=\"M 0 0 M810.231 1529.29 L816.087 1529.29 L816.087 1564.94 L810.231 1564.94 L810.231 1529.29 M810.231 1515.41 L816.087 1515.41 L816.087 1522.83 L810.231 1522.83 L810.231 1515.41 Z\" fill=\"#000000\" fill-rule=\"evenodd\" fill-opacity=\"1\" /><path clip-path=\"url(#clip960)\" d=\"M 0 0 M834.134 1519.17 L834.134 1529.29 L846.197 1529.29 L846.197 1533.84 L834.134 1533.84 L834.134 1553.19 Q834.134 1557.55 835.312 1558.79 Q836.521 1560.03 840.182 1560.03 L846.197 1560.03 L846.197 1564.94 L840.182 1564.94 Q833.402 1564.94 830.824 1562.42 Q828.246 1559.87 828.246 1553.19 L828.246 1533.84 L823.949 1533.84 L823.949 1529.29 L828.246 1529.29 L828.246 1519.17 L834.134 1519.17 Z\" fill=\"#000000\" fill-rule=\"evenodd\" fill-opacity=\"1\" /><path clip-path=\"url(#clip960)\" d=\"M 0 0 M870.1 1547.02 Q863.003 1547.02 860.265 1548.64 Q857.528 1550.26 857.528 1554.18 Q857.528 1557.3 859.565 1559.14 Q861.634 1560.96 865.167 1560.96 Q870.037 1560.96 872.965 1557.52 Q875.925 1554.05 875.925 1548.32 L875.925 1547.02 L870.1 1547.02 M881.781 1544.6 L881.781 1564.94 L875.925 1564.94 L875.925 1559.52 Q873.92 1562.77 870.928 1564.33 Q867.936 1565.86 863.607 1565.86 Q858.133 1565.86 854.886 1562.8 Q851.672 1559.72 851.672 1554.56 Q851.672 1548.54 855.682 1545.49 Q859.724 1542.43 867.713 1542.43 L875.925 1542.43 L875.925 1541.86 Q875.925 1537.82 873.251 1535.62 Q870.61 1533.39 865.804 1533.39 Q862.748 1533.39 859.852 1534.12 Q856.955 1534.86 854.282 1536.32 L854.282 1530.91 Q857.496 1529.67 860.52 1529.06 Q863.544 1528.43 866.408 1528.43 Q874.143 1528.43 877.962 1532.44 Q881.781 1536.45 881.781 1544.6 Z\" fill=\"#000000\" fill-rule=\"evenodd\" fill-opacity=\"1\" /><path clip-path=\"url(#clip960)\" d=\"M 0 0 M893.845 1515.41 L899.701 1515.41 L899.701 1564.94 L893.845 1564.94 L893.845 1515.41 Z\" fill=\"#000000\" fill-rule=\"evenodd\" fill-opacity=\"1\" /><path clip-path=\"url(#clip960)\" d=\"M 0 0 M932.198 1517.42 L938.659 1517.42 L938.659 1546.28 Q938.659 1553.92 941.428 1557.3 Q944.197 1560.64 950.404 1560.64 Q956.579 1560.64 959.348 1557.3 Q962.117 1553.92 962.117 1546.28 L962.117 1517.42 L968.578 1517.42 L968.578 1547.08 Q968.578 1556.37 963.963 1561.12 Q959.379 1565.86 950.404 1565.86 Q941.396 1565.86 936.781 1561.12 Q932.198 1556.37 932.198 1547.08 L932.198 1517.42 Z\" fill=\"#000000\" fill-rule=\"evenodd\" fill-opacity=\"1\" /><path clip-path=\"url(#clip960)\" d=\"M 0 0 M1010.02 1543.42 L1010.02 1564.94 L1004.16 1564.94 L1004.16 1543.61 Q1004.16 1538.55 1002.19 1536.03 Q1000.22 1533.52 996.269 1533.52 Q991.526 1533.52 988.789 1536.54 Q986.052 1539.57 986.052 1544.79 L986.052 1564.94 L980.163 1564.94 L980.163 1529.29 L986.052 1529.29 L986.052 1534.83 Q988.152 1531.61 990.985 1530.02 Q993.85 1528.43 997.574 1528.43 Q1003.72 1528.43 1006.87 1532.25 Q1010.02 1536.03 1010.02 1543.42 Z\" fill=\"#000000\" fill-rule=\"evenodd\" fill-opacity=\"1\" /><path clip-path=\"url(#clip960)\" d=\"M 0 0 M1021.7 1529.29 L1027.56 1529.29 L1027.56 1564.94 L1021.7 1564.94 L1021.7 1529.29 M1021.7 1515.41 L1027.56 1515.41 L1027.56 1522.83 L1021.7 1522.83 L1021.7 1515.41 Z\" fill=\"#000000\" fill-rule=\"evenodd\" fill-opacity=\"1\" /><path clip-path=\"url(#clip960)\" d=\"M 0 0 M1045.6 1519.17 L1045.6 1529.29 L1057.67 1529.29 L1057.67 1533.84 L1045.6 1533.84 L1045.6 1553.19 Q1045.6 1557.55 1046.78 1558.79 Q1047.99 1560.03 1051.65 1560.03 L1057.67 1560.03 L1057.67 1564.94 L1051.65 1564.94 Q1044.87 1564.94 1042.29 1562.42 Q1039.71 1559.87 1039.71 1553.19 L1039.71 1533.84 L1035.42 1533.84 L1035.42 1529.29 L1039.71 1529.29 L1039.71 1519.17 L1045.6 1519.17 Z\" fill=\"#000000\" fill-rule=\"evenodd\" fill-opacity=\"1\" /><path clip-path=\"url(#clip960)\" d=\"M 0 0 M1088.09 1530.34 L1088.09 1535.88 Q1085.61 1534.6 1082.94 1533.97 Q1080.26 1533.33 1077.4 1533.33 Q1073.04 1533.33 1070.84 1534.67 Q1068.68 1536 1068.68 1538.68 Q1068.68 1540.71 1070.24 1541.89 Q1071.8 1543.04 1076.51 1544.09 L1078.51 1544.53 Q1084.75 1545.87 1087.36 1548.32 Q1090 1550.74 1090 1555.1 Q1090 1560.07 1086.06 1562.96 Q1082.14 1565.86 1075.27 1565.86 Q1072.4 1565.86 1069.28 1565.29 Q1066.2 1564.74 1062.76 1563.63 L1062.76 1557.58 Q1066.01 1559.27 1069.16 1560.13 Q1072.31 1560.96 1075.39 1560.96 Q1079.53 1560.96 1081.76 1559.56 Q1083.99 1558.12 1083.99 1555.55 Q1083.99 1553.16 1082.36 1551.89 Q1080.77 1550.61 1075.33 1549.43 L1073.29 1548.96 Q1067.85 1547.81 1065.43 1545.46 Q1063.01 1543.07 1063.01 1538.93 Q1063.01 1533.9 1066.58 1531.16 Q1070.14 1528.43 1076.7 1528.43 Q1079.95 1528.43 1082.81 1528.91 Q1085.68 1529.38 1088.09 1530.34 Z\" fill=\"#000000\" fill-rule=\"evenodd\" fill-opacity=\"1\" /><polyline clip-path=\"url(#clip962)\" style=\"stroke:#000000; stroke-width:2; stroke-opacity:0.1; fill:none\" points=\"\n",
       "  1440.78,1415.18 616.794,1338.4 \n",
       "  \"/>\n",
       "<polyline clip-path=\"url(#clip962)\" style=\"stroke:#000000; stroke-width:2; stroke-opacity:0.1; fill:none\" points=\"\n",
       "  616.794,1338.4 616.794,345.801 \n",
       "  \"/>\n",
       "<polyline clip-path=\"url(#clip962)\" style=\"stroke:#000000; stroke-width:2; stroke-opacity:0.1; fill:none\" points=\"\n",
       "  1551.44,1361.59 727.46,1284.82 \n",
       "  \"/>\n",
       "<polyline clip-path=\"url(#clip962)\" style=\"stroke:#000000; stroke-width:2; stroke-opacity:0.1; fill:none\" points=\"\n",
       "  727.46,1284.82 727.46,292.22 \n",
       "  \"/>\n",
       "<polyline clip-path=\"url(#clip962)\" style=\"stroke:#000000; stroke-width:2; stroke-opacity:0.1; fill:none\" points=\"\n",
       "  1662.11,1308.01 838.126,1231.24 \n",
       "  \"/>\n",
       "<polyline clip-path=\"url(#clip962)\" style=\"stroke:#000000; stroke-width:2; stroke-opacity:0.1; fill:none\" points=\"\n",
       "  838.126,1231.24 838.126,238.639 \n",
       "  \"/>\n",
       "<polyline clip-path=\"url(#clip962)\" style=\"stroke:#000000; stroke-width:2; stroke-opacity:0.1; fill:none\" points=\"\n",
       "  1772.77,1254.43 948.792,1177.65 \n",
       "  \"/>\n",
       "<polyline clip-path=\"url(#clip962)\" style=\"stroke:#000000; stroke-width:2; stroke-opacity:0.1; fill:none\" points=\"\n",
       "  948.792,1177.65 948.792,185.057 \n",
       "  \"/>\n",
       "<polyline clip-path=\"url(#clip962)\" style=\"stroke:#000000; stroke-width:2; stroke-opacity:0.1; fill:none\" points=\"\n",
       "  1883.44,1200.85 1059.46,1124.07 \n",
       "  \"/>\n",
       "<polyline clip-path=\"url(#clip962)\" style=\"stroke:#000000; stroke-width:2; stroke-opacity:0.1; fill:none\" points=\"\n",
       "  1059.46,1124.07 1059.46,131.476 \n",
       "  \"/>\n",
       "<polyline clip-path=\"url(#clip960)\" style=\"stroke:#000000; stroke-width:4; stroke-opacity:1; fill:none\" points=\"\n",
       "  1424.24,1423.18 1899.97,1192.85 \n",
       "  \"/>\n",
       "<polyline clip-path=\"url(#clip960)\" style=\"stroke:#000000; stroke-width:4; stroke-opacity:1; fill:none\" points=\"\n",
       "  1440.78,1415.18 1430.89,1414.25 \n",
       "  \"/>\n",
       "<polyline clip-path=\"url(#clip960)\" style=\"stroke:#000000; stroke-width:4; stroke-opacity:1; fill:none\" points=\"\n",
       "  1551.44,1361.59 1541.55,1360.67 \n",
       "  \"/>\n",
       "<polyline clip-path=\"url(#clip960)\" style=\"stroke:#000000; stroke-width:4; stroke-opacity:1; fill:none\" points=\"\n",
       "  1662.11,1308.01 1652.22,1307.09 \n",
       "  \"/>\n",
       "<polyline clip-path=\"url(#clip960)\" style=\"stroke:#000000; stroke-width:4; stroke-opacity:1; fill:none\" points=\"\n",
       "  1772.77,1254.43 1762.89,1253.51 \n",
       "  \"/>\n",
       "<polyline clip-path=\"url(#clip960)\" style=\"stroke:#000000; stroke-width:4; stroke-opacity:1; fill:none\" points=\"\n",
       "  1883.44,1200.85 1873.55,1199.93 \n",
       "  \"/>\n",
       "<path clip-path=\"url(#clip960)\" d=\"M 0 0 M1434.72 1463.82 L1464.39 1463.82 L1464.39 1467.75 L1434.72 1467.75 L1434.72 1463.82 Z\" fill=\"#000000\" fill-rule=\"evenodd\" fill-opacity=\"1\" /><path clip-path=\"url(#clip960)\" d=\"M 0 0 M1478.51 1476.71 L1494.83 1476.71 L1494.83 1480.65 L1472.89 1480.65 L1472.89 1476.71 Q1475.55 1473.96 1480.13 1469.33 Q1484.74 1464.68 1485.92 1463.33 Q1488.17 1460.81 1489.05 1459.07 Q1489.95 1457.31 1489.95 1455.62 Q1489.95 1452.87 1488 1451.13 Q1486.08 1449.4 1482.98 1449.4 Q1480.78 1449.4 1478.33 1450.16 Q1475.9 1450.93 1473.12 1452.48 L1473.12 1447.75 Q1475.94 1446.62 1478.4 1446.04 Q1480.85 1445.46 1482.89 1445.46 Q1488.26 1445.46 1491.45 1448.15 Q1494.65 1450.83 1494.65 1455.32 Q1494.65 1457.45 1493.84 1459.37 Q1493.05 1461.27 1490.94 1463.87 Q1490.37 1464.54 1487.26 1467.75 Q1484.16 1470.95 1478.51 1476.71 Z\" fill=\"#000000\" fill-rule=\"evenodd\" fill-opacity=\"1\" /><path clip-path=\"url(#clip960)\" d=\"M 0 0 M1545.2 1410.24 L1574.87 1410.24 L1574.87 1414.17 L1545.2 1414.17 L1545.2 1410.24 Z\" fill=\"#000000\" fill-rule=\"evenodd\" fill-opacity=\"1\" /><path clip-path=\"url(#clip960)\" d=\"M 0 0 M1585.78 1423.13 L1593.42 1423.13 L1593.42 1396.77 L1585.11 1398.43 L1585.11 1394.17 L1593.37 1392.51 L1598.05 1392.51 L1598.05 1423.13 L1605.68 1423.13 L1605.68 1427.07 L1585.78 1427.07 L1585.78 1423.13 Z\" fill=\"#000000\" fill-rule=\"evenodd\" fill-opacity=\"1\" /><path clip-path=\"url(#clip960)\" d=\"M 0 0 M1686.11 1342 Q1682.5 1342 1680.67 1345.57 Q1678.86 1349.11 1678.86 1356.24 Q1678.86 1363.35 1680.67 1366.91 Q1682.5 1370.45 1686.11 1370.45 Q1689.74 1370.45 1691.55 1366.91 Q1693.38 1363.35 1693.38 1356.24 Q1693.38 1349.11 1691.55 1345.57 Q1689.74 1342 1686.11 1342 M1686.11 1338.3 Q1691.92 1338.3 1694.97 1342.91 Q1698.05 1347.49 1698.05 1356.24 Q1698.05 1364.97 1694.97 1369.57 Q1691.92 1374.16 1686.11 1374.16 Q1680.3 1374.16 1677.22 1369.57 Q1674.16 1364.97 1674.16 1356.24 Q1674.16 1347.49 1677.22 1342.91 Q1680.3 1338.3 1686.11 1338.3 Z\" fill=\"#000000\" fill-rule=\"evenodd\" fill-opacity=\"1\" /><path clip-path=\"url(#clip960)\" d=\"M 0 0 M1787.16 1315.97 L1794.79 1315.97 L1794.79 1289.6 L1786.48 1291.27 L1786.48 1287.01 L1794.75 1285.34 L1799.42 1285.34 L1799.42 1315.97 L1807.06 1315.97 L1807.06 1319.9 L1787.16 1319.9 L1787.16 1315.97 Z\" fill=\"#000000\" fill-rule=\"evenodd\" fill-opacity=\"1\" /><path clip-path=\"url(#clip960)\" d=\"M 0 0 M1902.09 1262.39 L1918.41 1262.39 L1918.41 1266.32 L1896.47 1266.32 L1896.47 1262.39 Q1899.13 1259.63 1903.71 1255 Q1908.32 1250.35 1909.5 1249.01 Q1911.75 1246.48 1912.62 1244.75 Q1913.53 1242.99 1913.53 1241.3 Q1913.53 1238.55 1911.58 1236.81 Q1909.66 1235.07 1906.56 1235.07 Q1904.36 1235.07 1901.91 1235.84 Q1899.48 1236.6 1896.7 1238.15 L1896.7 1233.43 Q1899.52 1232.3 1901.98 1231.72 Q1904.43 1231.14 1906.47 1231.14 Q1911.84 1231.14 1915.03 1233.82 Q1918.23 1236.51 1918.23 1241 Q1918.23 1243.13 1917.42 1245.05 Q1916.63 1246.95 1914.52 1249.54 Q1913.94 1250.21 1910.84 1253.43 Q1907.74 1256.62 1902.09 1262.39 Z\" fill=\"#000000\" fill-rule=\"evenodd\" fill-opacity=\"1\" /><path clip-path=\"url(#clip960)\" d=\"M 0 0 M1606.38 1445 Q1599.38 1445 1595.24 1450.22 Q1591.14 1455.44 1591.14 1464.45 Q1591.14 1473.42 1595.24 1478.64 Q1599.38 1483.86 1606.38 1483.86 Q1613.39 1483.86 1617.46 1478.64 Q1621.57 1473.42 1621.57 1464.45 Q1621.57 1455.44 1617.46 1450.22 Q1613.39 1445 1606.38 1445 M1606.38 1439.78 Q1616.38 1439.78 1622.36 1446.49 Q1628.34 1453.18 1628.34 1464.45 Q1628.34 1475.68 1622.36 1482.4 Q1616.38 1489.08 1606.38 1489.08 Q1596.36 1489.08 1590.34 1482.4 Q1584.36 1475.71 1584.36 1464.45 Q1584.36 1453.18 1590.34 1446.49 Q1596.36 1439.78 1606.38 1439.78 Z\" fill=\"#000000\" fill-rule=\"evenodd\" fill-opacity=\"1\" /><path clip-path=\"url(#clip960)\" d=\"M 0 0 M1658.8 1457.98 Q1657.82 1457.41 1656.64 1457.16 Q1655.49 1456.87 1654.09 1456.87 Q1649.13 1456.87 1646.46 1460.12 Q1643.81 1463.33 1643.81 1469.38 L1643.81 1488.16 L1637.93 1488.16 L1637.93 1452.51 L1643.81 1452.51 L1643.81 1458.05 Q1645.66 1454.8 1648.62 1453.24 Q1651.58 1451.65 1655.81 1451.65 Q1656.42 1451.65 1657.15 1451.75 Q1657.88 1451.81 1658.77 1451.97 L1658.8 1457.98 Z\" fill=\"#000000\" fill-rule=\"evenodd\" fill-opacity=\"1\" /><path clip-path=\"url(#clip960)\" d=\"M 0 0 M1690.54 1470.37 Q1690.54 1463.9 1687.86 1460.24 Q1685.22 1456.55 1680.58 1456.55 Q1675.93 1456.55 1673.25 1460.24 Q1670.61 1463.9 1670.61 1470.37 Q1670.61 1476.83 1673.25 1480.52 Q1675.93 1484.18 1680.58 1484.18 Q1685.22 1484.18 1687.86 1480.52 Q1690.54 1476.83 1690.54 1470.37 M1670.61 1457.92 Q1672.46 1454.74 1675.26 1453.21 Q1678.09 1451.65 1682.01 1451.65 Q1688.5 1451.65 1692.54 1456.81 Q1696.62 1461.96 1696.62 1470.37 Q1696.62 1478.77 1692.54 1483.92 Q1688.5 1489.08 1682.01 1489.08 Q1678.09 1489.08 1675.26 1487.55 Q1672.46 1485.99 1670.61 1482.81 L1670.61 1488.16 L1664.72 1488.16 L1664.72 1438.63 L1670.61 1438.63 L1670.61 1457.92 Z\" fill=\"#000000\" fill-rule=\"evenodd\" fill-opacity=\"1\" /><path clip-path=\"url(#clip960)\" d=\"M 0 0 M1706.32 1452.51 L1712.18 1452.51 L1712.18 1488.16 L1706.32 1488.16 L1706.32 1452.51 M1706.32 1438.63 L1712.18 1438.63 L1712.18 1446.05 L1706.32 1446.05 L1706.32 1438.63 Z\" fill=\"#000000\" fill-rule=\"evenodd\" fill-opacity=\"1\" /><path clip-path=\"url(#clip960)\" d=\"M 0 0 M1730.23 1442.39 L1730.23 1452.51 L1742.29 1452.51 L1742.29 1457.06 L1730.23 1457.06 L1730.23 1476.41 Q1730.23 1480.77 1731.41 1482.01 Q1732.62 1483.26 1736.28 1483.26 L1742.29 1483.26 L1742.29 1488.16 L1736.28 1488.16 Q1729.5 1488.16 1726.92 1485.64 Q1724.34 1483.1 1724.34 1476.41 L1724.34 1457.06 L1720.04 1457.06 L1720.04 1452.51 L1724.34 1452.51 L1724.34 1442.39 L1730.23 1442.39 Z\" fill=\"#000000\" fill-rule=\"evenodd\" fill-opacity=\"1\" /><path clip-path=\"url(#clip960)\" d=\"M 0 0 M1766.19 1470.24 Q1759.1 1470.24 1756.36 1471.86 Q1753.62 1473.48 1753.62 1477.4 Q1753.62 1480.52 1755.66 1482.36 Q1757.73 1484.18 1761.26 1484.18 Q1766.13 1484.18 1769.06 1480.74 Q1772.02 1477.27 1772.02 1471.54 L1772.02 1470.24 L1766.19 1470.24 M1777.88 1467.82 L1777.88 1488.16 L1772.02 1488.16 L1772.02 1482.75 Q1770.01 1485.99 1767.02 1487.55 Q1764.03 1489.08 1759.7 1489.08 Q1754.23 1489.08 1750.98 1486.02 Q1747.77 1482.94 1747.77 1477.78 Q1747.77 1471.77 1751.78 1468.71 Q1755.82 1465.65 1763.81 1465.65 L1772.02 1465.65 L1772.02 1465.08 Q1772.02 1461.04 1769.35 1458.84 Q1766.7 1456.62 1761.9 1456.62 Q1758.84 1456.62 1755.95 1457.35 Q1753.05 1458.08 1750.38 1459.54 L1750.38 1454.13 Q1753.59 1452.89 1756.61 1452.29 Q1759.64 1451.65 1762.5 1451.65 Q1770.24 1451.65 1774.06 1455.66 Q1777.88 1459.67 1777.88 1467.82 Z\" fill=\"#000000\" fill-rule=\"evenodd\" fill-opacity=\"1\" /><path clip-path=\"url(#clip960)\" d=\"M 0 0 M1789.94 1438.63 L1795.79 1438.63 L1795.79 1488.16 L1789.94 1488.16 L1789.94 1438.63 Z\" fill=\"#000000\" fill-rule=\"evenodd\" fill-opacity=\"1\" /><path clip-path=\"url(#clip960)\" d=\"M 0 0 M1828.29 1440.64 L1834.75 1440.64 L1834.75 1469.51 Q1834.75 1477.14 1837.52 1480.52 Q1840.29 1483.86 1846.5 1483.86 Q1852.67 1483.86 1855.44 1480.52 Q1858.21 1477.14 1858.21 1469.51 L1858.21 1440.64 L1864.67 1440.64 L1864.67 1470.3 Q1864.67 1479.6 1860.06 1484.34 Q1855.47 1489.08 1846.5 1489.08 Q1837.49 1489.08 1832.88 1484.34 Q1828.29 1479.6 1828.29 1470.3 L1828.29 1440.64 Z\" fill=\"#000000\" fill-rule=\"evenodd\" fill-opacity=\"1\" /><path clip-path=\"url(#clip960)\" d=\"M 0 0 M1906.11 1466.64 L1906.11 1488.16 L1900.26 1488.16 L1900.26 1466.83 Q1900.26 1461.77 1898.28 1459.26 Q1896.31 1456.74 1892.36 1456.74 Q1887.62 1456.74 1884.88 1459.77 Q1882.15 1462.79 1882.15 1468.01 L1882.15 1488.16 L1876.26 1488.16 L1876.26 1452.51 L1882.15 1452.51 L1882.15 1458.05 Q1884.25 1454.83 1887.08 1453.24 Q1889.94 1451.65 1893.67 1451.65 Q1899.81 1451.65 1902.96 1455.47 Q1906.11 1459.26 1906.11 1466.64 Z\" fill=\"#000000\" fill-rule=\"evenodd\" fill-opacity=\"1\" /><path clip-path=\"url(#clip960)\" d=\"M 0 0 M1917.79 1452.51 L1923.65 1452.51 L1923.65 1488.16 L1917.79 1488.16 L1917.79 1452.51 M1917.79 1438.63 L1923.65 1438.63 L1923.65 1446.05 L1917.79 1446.05 L1917.79 1438.63 Z\" fill=\"#000000\" fill-rule=\"evenodd\" fill-opacity=\"1\" /><path clip-path=\"url(#clip960)\" d=\"M 0 0 M1941.7 1442.39 L1941.7 1452.51 L1953.76 1452.51 L1953.76 1457.06 L1941.7 1457.06 L1941.7 1476.41 Q1941.7 1480.77 1942.87 1482.01 Q1944.08 1483.26 1947.74 1483.26 L1953.76 1483.26 L1953.76 1488.16 L1947.74 1488.16 Q1940.96 1488.16 1938.39 1485.64 Q1935.81 1483.1 1935.81 1476.41 L1935.81 1457.06 L1931.51 1457.06 L1931.51 1452.51 L1935.81 1452.51 L1935.81 1442.39 L1941.7 1442.39 Z\" fill=\"#000000\" fill-rule=\"evenodd\" fill-opacity=\"1\" /><path clip-path=\"url(#clip960)\" d=\"M 0 0 M1984.19 1453.56 L1984.19 1459.1 Q1981.71 1457.82 1979.03 1457.19 Q1976.36 1456.55 1973.49 1456.55 Q1969.13 1456.55 1966.94 1457.89 Q1964.77 1459.23 1964.77 1461.9 Q1964.77 1463.94 1966.33 1465.11 Q1967.89 1466.26 1972.6 1467.31 L1974.61 1467.76 Q1980.85 1469.09 1983.46 1471.54 Q1986.1 1473.96 1986.1 1478.32 Q1986.1 1483.29 1982.15 1486.18 Q1978.24 1489.08 1971.36 1489.08 Q1968.5 1489.08 1965.38 1488.51 Q1962.29 1487.97 1958.85 1486.85 L1958.85 1480.8 Q1962.1 1482.49 1965.25 1483.35 Q1968.4 1484.18 1971.49 1484.18 Q1975.63 1484.18 1977.85 1482.78 Q1980.08 1481.35 1980.08 1478.77 Q1980.08 1476.38 1978.46 1475.11 Q1976.87 1473.83 1971.42 1472.66 L1969.39 1472.18 Q1963.94 1471.03 1961.53 1468.68 Q1959.11 1466.29 1959.11 1462.15 Q1959.11 1457.12 1962.67 1454.39 Q1966.24 1451.65 1972.79 1451.65 Q1976.04 1451.65 1978.9 1452.13 Q1981.77 1452.6 1984.19 1453.56 Z\" fill=\"#000000\" fill-rule=\"evenodd\" fill-opacity=\"1\" /><polyline clip-path=\"url(#clip962)\" style=\"stroke:#000000; stroke-width:2; stroke-opacity:0.1; fill:none\" points=\"\n",
       "  600.263,1311.91 1075.99,1081.58 \n",
       "  \"/>\n",
       "<polyline clip-path=\"url(#clip962)\" style=\"stroke:#000000; stroke-width:2; stroke-opacity:0.1; fill:none\" points=\"\n",
       "  1075.99,1081.58 1899.97,1158.35 \n",
       "  \"/>\n",
       "<polyline clip-path=\"url(#clip962)\" style=\"stroke:#000000; stroke-width:2; stroke-opacity:0.1; fill:none\" points=\"\n",
       "  600.263,1081.01 1075.99,850.674 \n",
       "  \"/>\n",
       "<polyline clip-path=\"url(#clip962)\" style=\"stroke:#000000; stroke-width:2; stroke-opacity:0.1; fill:none\" points=\"\n",
       "  1075.99,850.674 1899.97,927.452 \n",
       "  \"/>\n",
       "<polyline clip-path=\"url(#clip962)\" style=\"stroke:#000000; stroke-width:2; stroke-opacity:0.1; fill:none\" points=\"\n",
       "  600.263,850.104 1075.99,619.771 \n",
       "  \"/>\n",
       "<polyline clip-path=\"url(#clip962)\" style=\"stroke:#000000; stroke-width:2; stroke-opacity:0.1; fill:none\" points=\"\n",
       "  1075.99,619.771 1899.97,696.548 \n",
       "  \"/>\n",
       "<polyline clip-path=\"url(#clip962)\" style=\"stroke:#000000; stroke-width:2; stroke-opacity:0.1; fill:none\" points=\"\n",
       "  600.263,619.2 1075.99,388.867 \n",
       "  \"/>\n",
       "<polyline clip-path=\"url(#clip962)\" style=\"stroke:#000000; stroke-width:2; stroke-opacity:0.1; fill:none\" points=\"\n",
       "  1075.99,388.867 1899.97,465.645 \n",
       "  \"/>\n",
       "<polyline clip-path=\"url(#clip962)\" style=\"stroke:#000000; stroke-width:2; stroke-opacity:0.1; fill:none\" points=\"\n",
       "  600.263,388.297 1075.99,157.964 \n",
       "  \"/>\n",
       "<polyline clip-path=\"url(#clip962)\" style=\"stroke:#000000; stroke-width:2; stroke-opacity:0.1; fill:none\" points=\"\n",
       "  1075.99,157.964 1899.97,234.742 \n",
       "  \"/>\n",
       "<polyline clip-path=\"url(#clip960)\" style=\"stroke:#000000; stroke-width:4; stroke-opacity:1; fill:none\" points=\"\n",
       "  600.263,1346.4 600.263,353.805 \n",
       "  \"/>\n",
       "<polyline clip-path=\"url(#clip960)\" style=\"stroke:#000000; stroke-width:4; stroke-opacity:1; fill:none\" points=\"\n",
       "  600.263,1311.91 605.972,1309.15 \n",
       "  \"/>\n",
       "<polyline clip-path=\"url(#clip960)\" style=\"stroke:#000000; stroke-width:4; stroke-opacity:1; fill:none\" points=\"\n",
       "  600.263,1081.01 605.972,1078.24 \n",
       "  \"/>\n",
       "<polyline clip-path=\"url(#clip960)\" style=\"stroke:#000000; stroke-width:4; stroke-opacity:1; fill:none\" points=\"\n",
       "  600.263,850.104 605.972,847.34 \n",
       "  \"/>\n",
       "<polyline clip-path=\"url(#clip960)\" style=\"stroke:#000000; stroke-width:4; stroke-opacity:1; fill:none\" points=\"\n",
       "  600.263,619.2 605.972,616.436 \n",
       "  \"/>\n",
       "<polyline clip-path=\"url(#clip960)\" style=\"stroke:#000000; stroke-width:4; stroke-opacity:1; fill:none\" points=\"\n",
       "  600.263,388.297 605.972,385.533 \n",
       "  \"/>\n",
       "<path clip-path=\"url(#clip960)\" d=\"M 0 0 M516.148 1312.36 L545.823 1312.36 L545.823 1316.3 L516.148 1316.3 L516.148 1312.36 Z\" fill=\"#000000\" fill-rule=\"evenodd\" fill-opacity=\"1\" /><path clip-path=\"url(#clip960)\" d=\"M 0 0 M559.944 1325.26 L576.263 1325.26 L576.263 1329.19 L554.319 1329.19 L554.319 1325.26 Q556.981 1322.5 561.564 1317.87 Q566.171 1313.22 567.351 1311.88 Q569.596 1309.35 570.476 1307.62 Q571.379 1305.86 571.379 1304.17 Q571.379 1301.41 569.434 1299.68 Q567.513 1297.94 564.411 1297.94 Q562.212 1297.94 559.759 1298.7 Q557.328 1299.47 554.55 1301.02 L554.55 1296.3 Q557.374 1295.16 559.828 1294.58 Q562.282 1294.01 564.319 1294.01 Q569.689 1294.01 572.883 1296.69 Q576.078 1299.38 576.078 1303.87 Q576.078 1306 575.268 1307.92 Q574.481 1309.82 572.374 1312.41 Q571.795 1313.08 568.694 1316.3 Q565.592 1319.49 559.944 1325.26 Z\" fill=\"#000000\" fill-rule=\"evenodd\" fill-opacity=\"1\" /><path clip-path=\"url(#clip960)\" d=\"M 0 0 M515.777 1081.46 L545.453 1081.46 L545.453 1085.39 L515.777 1085.39 L515.777 1081.46 Z\" fill=\"#000000\" fill-rule=\"evenodd\" fill-opacity=\"1\" /><path clip-path=\"url(#clip960)\" d=\"M 0 0 M556.356 1094.35 L563.995 1094.35 L563.995 1067.99 L555.684 1069.65 L555.684 1065.39 L563.948 1063.73 L568.624 1063.73 L568.624 1094.35 L576.263 1094.35 L576.263 1098.29 L556.356 1098.29 L556.356 1094.35 Z\" fill=\"#000000\" fill-rule=\"evenodd\" fill-opacity=\"1\" /><path clip-path=\"url(#clip960)\" d=\"M 0 0 M564.319 835.902 Q560.708 835.902 558.879 839.467 Q557.073 843.009 557.073 850.138 Q557.073 857.245 558.879 860.81 Q560.708 864.351 564.319 864.351 Q567.953 864.351 569.758 860.81 Q571.587 857.245 571.587 850.138 Q571.587 843.009 569.758 839.467 Q567.953 835.902 564.319 835.902 M564.319 832.199 Q570.129 832.199 573.184 836.805 Q576.263 841.388 576.263 850.138 Q576.263 858.865 573.184 863.472 Q570.129 868.055 564.319 868.055 Q558.509 868.055 555.43 863.472 Q552.374 858.865 552.374 850.138 Q552.374 841.388 555.43 836.805 Q558.509 832.199 564.319 832.199 Z\" fill=\"#000000\" fill-rule=\"evenodd\" fill-opacity=\"1\" /><path clip-path=\"url(#clip960)\" d=\"M 0 0 M556.356 632.545 L563.995 632.545 L563.995 606.18 L555.684 607.846 L555.684 603.587 L563.948 601.92 L568.624 601.92 L568.624 632.545 L576.263 632.545 L576.263 636.48 L556.356 636.48 L556.356 632.545 Z\" fill=\"#000000\" fill-rule=\"evenodd\" fill-opacity=\"1\" /><path clip-path=\"url(#clip960)\" d=\"M 0 0 M559.944 401.642 L576.263 401.642 L576.263 405.577 L554.319 405.577 L554.319 401.642 Q556.981 398.887 561.564 394.258 Q566.171 389.605 567.351 388.262 Q569.596 385.739 570.476 384.003 Q571.379 382.244 571.379 380.554 Q571.379 377.799 569.434 376.063 Q567.513 374.327 564.411 374.327 Q562.212 374.327 559.759 375.091 Q557.328 375.855 554.55 377.406 L554.55 372.684 Q557.374 371.549 559.828 370.971 Q562.282 370.392 564.319 370.392 Q569.689 370.392 572.883 373.077 Q576.078 375.762 576.078 380.253 Q576.078 382.383 575.268 384.304 Q574.481 386.202 572.374 388.795 Q571.795 389.466 568.694 392.684 Q565.592 395.878 559.944 401.642 Z\" fill=\"#000000\" fill-rule=\"evenodd\" fill-opacity=\"1\" /><path clip-path=\"url(#clip960)\" d=\"M 0 0 M780.07 34.1734 Q778.814 33.4443 777.316 33.1202 Q775.857 32.7556 774.075 32.7556 Q767.755 32.7556 764.353 36.8875 Q760.99 40.9789 760.99 48.6757 L760.99 72.576 L753.496 72.576 L753.496 27.2059 L760.99 27.2059 L760.99 34.2544 Q763.34 30.1225 767.107 28.1376 Q770.875 26.1121 776.262 26.1121 Q777.032 26.1121 777.964 26.2337 Q778.895 26.3147 780.03 26.5172 L780.07 34.1734 Z\" fill=\"#000000\" fill-rule=\"evenodd\" fill-opacity=\"1\" /><path clip-path=\"url(#clip960)\" d=\"M 0 0 M824.873 48.0275 L824.873 51.6733 L790.603 51.6733 Q791.089 59.3701 795.221 63.421 Q799.393 67.4314 806.806 67.4314 Q811.1 67.4314 815.111 66.3781 Q819.161 65.3249 823.131 63.2184 L823.131 70.267 Q819.121 71.9684 814.908 72.8596 Q810.695 73.7508 806.361 73.7508 Q795.504 73.7508 789.144 67.4314 Q782.825 61.1119 782.825 50.3365 Q782.825 39.1965 788.82 32.6746 Q794.856 26.1121 805.064 26.1121 Q814.219 26.1121 819.526 32.0264 Q824.873 37.9003 824.873 48.0275 M817.42 45.84 Q817.339 39.7232 813.976 36.0774 Q810.655 32.4315 805.145 32.4315 Q798.907 32.4315 795.14 35.9558 Q791.413 39.4801 790.846 45.8805 L817.42 45.84 Z\" fill=\"#000000\" fill-rule=\"evenodd\" fill-opacity=\"1\" /><path clip-path=\"url(#clip960)\" d=\"M 0 0 M860.076 9.54393 L860.076 15.7418 L852.946 15.7418 Q848.936 15.7418 847.356 17.3622 Q845.816 18.9825 845.816 23.1955 L845.816 27.2059 L858.091 27.2059 L858.091 32.9987 L845.816 32.9987 L845.816 72.576 L838.322 72.576 L838.322 32.9987 L831.193 32.9987 L831.193 27.2059 L838.322 27.2059 L838.322 24.0462 Q838.322 16.471 841.847 13.0277 Q845.371 9.54393 853.027 9.54393 L860.076 9.54393 Z\" fill=\"#000000\" fill-rule=\"evenodd\" fill-opacity=\"1\" /><path clip-path=\"url(#clip960)\" d=\"M 0 0 M884.624 12.096 L935.787 12.096 L935.787 18.9825 L914.317 18.9825 L914.317 72.576 L906.094 72.576 L906.094 18.9825 L884.624 18.9825 L884.624 12.096 Z\" fill=\"#000000\" fill-rule=\"evenodd\" fill-opacity=\"1\" /><path clip-path=\"url(#clip960)\" d=\"M 0 0 M957.459 34.1734 Q956.204 33.4443 954.705 33.1202 Q953.246 32.7556 951.464 32.7556 Q945.145 32.7556 941.742 36.8875 Q938.38 40.9789 938.38 48.6757 L938.38 72.576 L930.885 72.576 L930.885 27.2059 L938.38 27.2059 L938.38 34.2544 Q940.729 30.1225 944.496 28.1376 Q948.264 26.1121 953.651 26.1121 Q954.421 26.1121 955.353 26.2337 Q956.285 26.3147 957.419 26.5172 L957.459 34.1734 Z\" fill=\"#000000\" fill-rule=\"evenodd\" fill-opacity=\"1\" /><path clip-path=\"url(#clip960)\" d=\"M 0 0 M985.897 49.7694 Q976.863 49.7694 973.379 51.8354 Q969.896 53.9013 969.896 58.8839 Q969.896 62.8538 972.488 65.2034 Q975.121 67.5124 979.618 67.5124 Q985.816 67.5124 989.542 63.1374 Q993.31 58.7219 993.31 51.4303 L993.31 49.7694 L985.897 49.7694 M1000.76 46.6907 L1000.76 72.576 L993.31 72.576 L993.31 65.6895 Q990.758 69.8214 986.95 71.8063 Q983.142 73.7508 977.633 73.7508 Q970.665 73.7508 966.533 69.8619 Q962.442 65.9325 962.442 59.3701 Q962.442 51.7138 967.546 47.825 Q972.691 43.9361 982.859 43.9361 L993.31 43.9361 L993.31 43.2069 Q993.31 38.0623 989.907 35.2672 Q986.545 32.4315 980.428 32.4315 Q976.539 32.4315 972.853 33.3632 Q969.166 34.295 965.764 36.1584 L965.764 29.2718 Q969.855 27.692 973.703 26.9223 Q977.552 26.1121 981.198 26.1121 Q991.041 26.1121 995.902 31.2163 Q1000.76 36.3204 1000.76 46.6907 Z\" fill=\"#000000\" fill-rule=\"evenodd\" fill-opacity=\"1\" /><path clip-path=\"url(#clip960)\" d=\"M 0 0 M1016.12 27.2059 L1023.57 27.2059 L1023.57 73.3862 Q1023.57 82.0551 1020.25 85.944 Q1016.97 89.8329 1009.63 89.8329 L1006.8 89.8329 L1006.8 83.5134 L1008.78 83.5134 Q1013.04 83.5134 1014.58 81.5285 Q1016.12 79.5841 1016.12 73.3862 L1016.12 27.2059 M1016.12 9.54393 L1023.57 9.54393 L1023.57 18.9825 L1016.12 18.9825 L1016.12 9.54393 Z\" fill=\"#000000\" fill-rule=\"evenodd\" fill-opacity=\"1\" /><path clip-path=\"url(#clip960)\" d=\"M 0 0 M1077.97 48.0275 L1077.97 51.6733 L1043.7 51.6733 Q1044.19 59.3701 1048.32 63.421 Q1052.49 67.4314 1059.91 67.4314 Q1064.2 67.4314 1068.21 66.3781 Q1072.26 65.3249 1076.23 63.2184 L1076.23 70.267 Q1072.22 71.9684 1068.01 72.8596 Q1063.8 73.7508 1059.46 73.7508 Q1048.6 73.7508 1042.24 67.4314 Q1035.93 61.1119 1035.93 50.3365 Q1035.93 39.1965 1041.92 32.6746 Q1047.96 26.1121 1058.16 26.1121 Q1067.32 26.1121 1072.63 32.0264 Q1077.97 37.9003 1077.97 48.0275 M1070.52 45.84 Q1070.44 39.7232 1067.08 36.0774 Q1063.76 32.4315 1058.25 32.4315 Q1052.01 32.4315 1048.24 35.9558 Q1044.51 39.4801 1043.95 45.8805 L1070.52 45.84 Z\" fill=\"#000000\" fill-rule=\"evenodd\" fill-opacity=\"1\" /><path clip-path=\"url(#clip960)\" d=\"M 0 0 M1122.86 28.9478 L1122.86 35.9153 Q1119.7 34.1734 1116.5 33.3227 Q1113.34 32.4315 1110.1 32.4315 Q1102.85 32.4315 1098.84 37.0496 Q1094.83 41.6271 1094.83 49.9314 Q1094.83 58.2358 1098.84 62.8538 Q1102.85 67.4314 1110.1 67.4314 Q1113.34 67.4314 1116.5 66.5807 Q1119.7 65.6895 1122.86 63.9476 L1122.86 70.8341 Q1119.74 72.2924 1116.38 73.0216 Q1113.05 73.7508 1109.29 73.7508 Q1099.04 73.7508 1093 67.3098 Q1086.97 60.8689 1086.97 49.9314 Q1086.97 38.832 1093.04 32.472 Q1099.16 26.1121 1109.77 26.1121 Q1113.22 26.1121 1116.5 26.8413 Q1119.78 27.5299 1122.86 28.9478 Z\" fill=\"#000000\" fill-rule=\"evenodd\" fill-opacity=\"1\" /><path clip-path=\"url(#clip960)\" d=\"M 0 0 M1143.19 14.324 L1143.19 27.2059 L1158.55 27.2059 L1158.55 32.9987 L1143.19 32.9987 L1143.19 57.6282 Q1143.19 63.1779 1144.69 64.7578 Q1146.23 66.3376 1150.89 66.3376 L1158.55 66.3376 L1158.55 72.576 L1150.89 72.576 Q1142.26 72.576 1138.98 69.3758 Q1135.7 66.1351 1135.7 57.6282 L1135.7 32.9987 L1130.23 32.9987 L1130.23 27.2059 L1135.7 27.2059 L1135.7 14.324 L1143.19 14.324 Z\" fill=\"#000000\" fill-rule=\"evenodd\" fill-opacity=\"1\" /><path clip-path=\"url(#clip960)\" d=\"M 0 0 M1185.93 32.4315 Q1179.93 32.4315 1176.45 37.1306 Q1172.97 41.7891 1172.97 49.9314 Q1172.97 58.0738 1176.41 62.7728 Q1179.89 67.4314 1185.93 67.4314 Q1191.89 67.4314 1195.37 62.7323 Q1198.85 58.0333 1198.85 49.9314 Q1198.85 41.8701 1195.37 37.1711 Q1191.89 32.4315 1185.93 32.4315 M1185.93 26.1121 Q1195.65 26.1121 1201.2 32.4315 Q1206.75 38.7509 1206.75 49.9314 Q1206.75 61.0714 1201.2 67.4314 Q1195.65 73.7508 1185.93 73.7508 Q1176.17 73.7508 1170.62 67.4314 Q1165.11 61.0714 1165.11 49.9314 Q1165.11 38.7509 1170.62 32.4315 Q1176.17 26.1121 1185.93 26.1121 Z\" fill=\"#000000\" fill-rule=\"evenodd\" fill-opacity=\"1\" /><path clip-path=\"url(#clip960)\" d=\"M 0 0 M1245.4 34.1734 Q1244.14 33.4443 1242.64 33.1202 Q1241.18 32.7556 1239.4 32.7556 Q1233.08 32.7556 1229.68 36.8875 Q1226.32 40.9789 1226.32 48.6757 L1226.32 72.576 L1218.82 72.576 L1218.82 27.2059 L1226.32 27.2059 L1226.32 34.2544 Q1228.67 30.1225 1232.43 28.1376 Q1236.2 26.1121 1241.59 26.1121 Q1242.36 26.1121 1243.29 26.2337 Q1244.22 26.3147 1245.36 26.5172 L1245.4 34.1734 Z\" fill=\"#000000\" fill-rule=\"evenodd\" fill-opacity=\"1\" /><path clip-path=\"url(#clip960)\" d=\"M 0 0 M1272.09 76.7889 Q1268.93 84.8907 1265.94 87.3618 Q1262.94 89.8329 1257.91 89.8329 L1251.96 89.8329 L1251.96 83.5945 L1256.34 83.5945 Q1259.41 83.5945 1261.12 82.1361 Q1262.82 80.6778 1264.88 75.2496 L1266.22 71.8468 L1247.87 27.2059 L1255.77 27.2059 L1269.95 62.6918 L1284.12 27.2059 L1292.02 27.2059 L1272.09 76.7889 Z\" fill=\"#000000\" fill-rule=\"evenodd\" fill-opacity=\"1\" /><path clip-path=\"url(#clip960)\" d=\"M 0 0 M1346.59 9.62495 Q1341.16 18.942 1338.53 28.0566 Q1335.89 37.1711 1335.89 46.5287 Q1335.89 55.8863 1338.53 65.0818 Q1341.2 74.2369 1346.59 83.5134 L1340.11 83.5134 Q1334.03 73.9938 1330.99 64.7983 Q1328 55.6027 1328 46.5287 Q1328 37.4952 1330.99 28.3401 Q1333.99 19.1851 1340.11 9.62495 L1346.59 9.62495 Z\" fill=\"#000000\" fill-rule=\"evenodd\" fill-opacity=\"1\" /><path clip-path=\"url(#clip960)\" d=\"M 0 0 M1363.52 65.6895 L1376.89 65.6895 L1376.89 19.5497 L1362.35 22.4663 L1362.35 15.0127 L1376.81 12.096 L1384.99 12.096 L1384.99 65.6895 L1398.36 65.6895 L1398.36 72.576 L1363.52 72.576 L1363.52 65.6895 Z\" fill=\"#000000\" fill-rule=\"evenodd\" fill-opacity=\"1\" /><path clip-path=\"url(#clip960)\" d=\"M 0 0 M1432.39 17.4837 Q1426.07 17.4837 1422.87 23.7221 Q1419.71 29.92 1419.71 42.3968 Q1419.71 54.833 1422.87 61.0714 Q1426.07 67.2693 1432.39 67.2693 Q1438.75 67.2693 1441.91 61.0714 Q1445.11 54.833 1445.11 42.3968 Q1445.11 29.92 1441.91 23.7221 Q1438.75 17.4837 1432.39 17.4837 M1432.39 11.0023 Q1442.56 11.0023 1447.9 19.0636 Q1453.29 27.0843 1453.29 42.3968 Q1453.29 57.6687 1447.9 65.73 Q1442.56 73.7508 1432.39 73.7508 Q1422.22 73.7508 1416.83 65.73 Q1411.48 57.6687 1411.48 42.3968 Q1411.48 27.0843 1416.83 19.0636 Q1422.22 11.0023 1432.39 11.0023 Z\" fill=\"#000000\" fill-rule=\"evenodd\" fill-opacity=\"1\" /><path clip-path=\"url(#clip960)\" d=\"M 0 0 M1510.57 32.4315 Q1504.57 32.4315 1501.09 37.1306 Q1497.61 41.7891 1497.61 49.9314 Q1497.61 58.0738 1501.05 62.7728 Q1504.53 67.4314 1510.57 67.4314 Q1516.52 67.4314 1520.01 62.7323 Q1523.49 58.0333 1523.49 49.9314 Q1523.49 41.8701 1520.01 37.1711 Q1516.52 32.4315 1510.57 32.4315 M1510.57 26.1121 Q1520.29 26.1121 1525.84 32.4315 Q1531.39 38.7509 1531.39 49.9314 Q1531.39 61.0714 1525.84 67.4314 Q1520.29 73.7508 1510.57 73.7508 Q1500.81 73.7508 1495.26 67.4314 Q1489.75 61.0714 1489.75 49.9314 Q1489.75 38.7509 1495.26 32.4315 Q1500.81 26.1121 1510.57 26.1121 Z\" fill=\"#000000\" fill-rule=\"evenodd\" fill-opacity=\"1\" /><path clip-path=\"url(#clip960)\" d=\"M 0 0 M1570.04 34.1734 Q1568.78 33.4443 1567.28 33.1202 Q1565.82 32.7556 1564.04 32.7556 Q1557.72 32.7556 1554.32 36.8875 Q1550.96 40.9789 1550.96 48.6757 L1550.96 72.576 L1543.46 72.576 L1543.46 27.2059 L1550.96 27.2059 L1550.96 34.2544 Q1553.31 30.1225 1557.07 28.1376 Q1560.84 26.1121 1566.23 26.1121 Q1567 26.1121 1567.93 26.2337 Q1568.86 26.3147 1570 26.5172 L1570.04 34.1734 Z\" fill=\"#000000\" fill-rule=\"evenodd\" fill-opacity=\"1\" /><path clip-path=\"url(#clip960)\" d=\"M 0 0 M1610.42 49.9314 Q1610.42 41.7081 1607.02 37.0496 Q1603.66 32.3505 1597.75 32.3505 Q1591.83 32.3505 1588.43 37.0496 Q1585.07 41.7081 1585.07 49.9314 Q1585.07 58.1548 1588.43 62.8538 Q1591.83 67.5124 1597.75 67.5124 Q1603.66 67.5124 1607.02 62.8538 Q1610.42 58.1548 1610.42 49.9314 M1585.07 34.0924 Q1587.42 30.0415 1590.98 28.0971 Q1594.59 26.1121 1599.57 26.1121 Q1607.83 26.1121 1612.98 32.6746 Q1618.16 39.2371 1618.16 49.9314 Q1618.16 60.6258 1612.98 67.1883 Q1607.83 73.7508 1599.57 73.7508 Q1594.59 73.7508 1590.98 71.8063 Q1587.42 69.8214 1585.07 65.7705 L1585.07 72.576 L1577.57 72.576 L1577.57 9.54393 L1585.07 9.54393 L1585.07 34.0924 Z\" fill=\"#000000\" fill-rule=\"evenodd\" fill-opacity=\"1\" /><path clip-path=\"url(#clip960)\" d=\"M 0 0 M1630.52 27.2059 L1637.97 27.2059 L1637.97 72.576 L1630.52 72.576 L1630.52 27.2059 M1630.52 9.54393 L1637.97 9.54393 L1637.97 18.9825 L1630.52 18.9825 L1630.52 9.54393 Z\" fill=\"#000000\" fill-rule=\"evenodd\" fill-opacity=\"1\" /><path clip-path=\"url(#clip960)\" d=\"M 0 0 M1660.94 14.324 L1660.94 27.2059 L1676.29 27.2059 L1676.29 32.9987 L1660.94 32.9987 L1660.94 57.6282 Q1660.94 63.1779 1662.44 64.7578 Q1663.98 66.3376 1668.64 66.3376 L1676.29 66.3376 L1676.29 72.576 L1668.64 72.576 Q1660.01 72.576 1656.73 69.3758 Q1653.45 66.1351 1653.45 57.6282 L1653.45 32.9987 L1647.98 32.9987 L1647.98 27.2059 L1653.45 27.2059 L1653.45 14.324 L1660.94 14.324 Z\" fill=\"#000000\" fill-rule=\"evenodd\" fill-opacity=\"1\" /><path clip-path=\"url(#clip960)\" d=\"M 0 0 M1715.02 28.5427 L1715.02 35.5912 Q1711.86 33.9709 1708.46 33.1607 Q1705.05 32.3505 1701.41 32.3505 Q1695.86 32.3505 1693.06 34.0519 Q1690.31 35.7533 1690.31 39.156 Q1690.31 41.7486 1692.29 43.2475 Q1694.28 44.7058 1700.27 46.0426 L1702.83 46.6097 Q1710.77 48.3111 1714.09 51.4303 Q1717.45 54.509 1717.45 60.0587 Q1717.45 66.3781 1712.43 70.0644 Q1707.44 73.7508 1698.69 73.7508 Q1695.05 73.7508 1691.08 73.0216 Q1687.15 72.3329 1682.77 70.9151 L1682.77 63.2184 Q1686.91 65.3654 1690.92 66.4591 Q1694.93 67.5124 1698.86 67.5124 Q1704.12 67.5124 1706.96 65.73 Q1709.79 63.9071 1709.79 60.6258 Q1709.79 57.5877 1707.73 55.9673 Q1705.7 54.3469 1698.77 52.8481 L1696.18 52.2405 Q1689.26 50.7821 1686.18 47.7845 Q1683.1 44.7463 1683.1 39.4801 Q1683.1 33.0797 1687.63 29.5959 Q1692.17 26.1121 1700.52 26.1121 Q1704.65 26.1121 1708.29 26.7198 Q1711.94 27.3274 1715.02 28.5427 Z\" fill=\"#000000\" fill-rule=\"evenodd\" fill-opacity=\"1\" /><path clip-path=\"url(#clip960)\" d=\"M 0 0 M1728.14 9.62495 L1734.63 9.62495 Q1740.7 19.1851 1743.7 28.3401 Q1746.74 37.4952 1746.74 46.5287 Q1746.74 55.6027 1743.7 64.7983 Q1740.7 73.9938 1734.63 83.5134 L1728.14 83.5134 Q1733.53 74.2369 1736.16 65.0818 Q1738.84 55.8863 1738.84 46.5287 Q1738.84 37.1711 1736.16 28.0566 Q1733.53 18.942 1728.14 9.62495 Z\" fill=\"#000000\" fill-rule=\"evenodd\" fill-opacity=\"1\" /><polyline clip-path=\"url(#clip962)\" style=\"stroke:#009af9; stroke-width:8; stroke-opacity:1; fill:none\" points=\"\n",
       "  1288.13,822.666 1308.43,782.683 1299.35,733.515 1280.96,690.185 1259.91,653.176 1238.34,621.448 1217.07,594.091 1196.46,570.424 1176.69,549.943 1157.83,532.268 \n",
       "  1139.93,517.107 1123.01,504.233 1107.09,493.465 1092.16,484.655 1078.25,477.687 1065.34,472.465 1053.46,468.911 1042.62,466.961 1032.82,466.564 1024.1,467.681 \n",
       "  1016.48,470.282 1009.98,474.345 1004.65,479.858 1000.52,486.814 997.66,495.217 996.119,505.078 995.975,516.413 997.319,529.252 1000.26,543.63 1004.92,559.594 \n",
       "  1011.48,577.202 1020.12,596.527 1031.12,617.653 1044.79,640.68 1061.59,665.717 1082.13,692.874 1107.29,722.212 1138.37,753.606 1177.39,786.198 1226.91,815.991 \n",
       "  1282.24,825.19 1308.26,789.602 1301.63,740.14 1283.98,695.87 1263.13,658.004 1241.56,625.546 1220.22,597.557 1199.49,573.329 1179.57,552.337 1160.56,534.188 \n",
       "  1142.49,518.579 1125.39,505.275 1109.28,494.088 1094.15,484.868 1080.03,477.493 1066.9,471.864 1054.79,467.9 1043.7,465.536 1033.65,464.717 1024.65,465.403 \n",
       "  1016.73,467.56 1009.91,471.166 1004.23,476.203 999.735,482.666 996.464,490.553 994.477,499.871 993.843,510.637 994.644,522.872 996.977,536.608 1000.96,551.888 \n",
       "  1006.74,568.763 1014.5,587.298 1024.46,607.569 1036.91,629.666 1052.24,653.694 1070.96,679.76 1093.79,707.954 1121.79,738.266 1156.56,770.318 1200.46,802.265 \n",
       "  1254.79,825.588 1300.74,812.7 1307.59,765.619 1293.99,718.05 1274.31,676.918 1252.94,641.723 1231.4,611.44 1210.31,585.244 1189.94,562.524 1170.42,542.825 \n",
       "  1151.82,525.801 1134.18,511.183 1117.5,498.761 1101.8,488.366 1087.08,479.862 1073.35,473.139 1060.62,468.106 1048.89,464.688 1038.17,462.825 1028.48,462.47 \n",
       "  1019.84,463.583 1012.27,466.135 1005.79,470.106 1000.45,475.481 996.279,482.254 993.33,490.428 991.659,500.01 991.335,511.015 992.44,523.469 995.072,537.403 \n",
       "  999.351,552.858 1005.42,569.888 1013.46,588.554 1023.7,608.933 1036.43,631.115 1052.03,655.199 1071.01,681.291 1094.09,709.471 1122.34,739.72 1157.33,771.634 \n",
       "  1201.42,803.307 1255.71,826.08 1301.16,812.551 1307.72,765.39 1294.07,717.845 1274.37,676.71 1253,641.486 1231.46,611.151 1210.36,584.886 1189.97,562.081 \n",
       "  1170.43,542.281 1151.8,525.142 1134.12,510.395 1117.4,497.83 1101.64,487.277 1086.86,478.602 1073.06,471.692 1060.24,466.456 1048.4,462.82 1037.57,460.723 \n",
       "  1027.75,460.116 1018.96,460.959 1011.22,463.221 1004.55,466.881 998.998,471.923 994.586,478.34 991.365,486.131 989.388,495.301 988.717,505.865 989.429,517.843 \n",
       "  991.613,531.263 995.378,546.162 1000.86,562.588 1008.21,580.597 1017.64,600.26 1029.4,621.656 1043.84,644.881 1061.38,670.034 1082.65,697.208 1108.5,726.44 \n",
       "  1140.25,757.553 1179.84,789.583 1229.62,818.264 1284.13,825.553 1308.91,789.156 1302.01,739.759 1284.33,695.507 1263.48,657.569 1241.92,624.972 1220.55,596.789 \n",
       "  1199.79,572.321 1179.82,551.046 1160.73,532.573 1142.57,516.6 1125.35,502.893 1109.09,491.263 1093.79,481.56 1079.45,473.66 1066.08,467.464 1053.69,462.89 \n",
       "  1042.28,459.868 1031.87,458.345 1022.46,458.274 1014.07,459.622 1006.74,462.361 1000.47,466.471 995.312,471.939 991.296,478.762 988.471,486.938 986.89,496.476 \n",
       "  986.619,507.391 987.734,519.705 990.328,533.448 994.512,548.657 1000.42,565.381 1008.22,583.677 1018.12,603.616 1030.37,625.28 1045.34,648.759 1063.46,674.154 \n",
       "  1085.38,701.548 1112,730.958 1144.67,762.146 1185.41,793.945 1236.35,821.255 1289.39,823.695 1309.41,783.813 1300.61,734.684 1282.39,691.135 1261.41,653.786 \n",
       "  1239.85,621.646 1218.54,593.817 1197.86,569.623 1177.97,548.561 1158.95,530.252 1140.86,514.403 1123.7,500.783 1107.5,489.211 1092.24,479.537 1077.94,471.644 \n",
       "  1064.6,465.43 1052.22,460.816 1040.81,457.734 1030.38,456.129 1020.94,455.958 1012.51,457.185 1005.11,459.782 998.769,463.73 993.512,469.016 989.378,475.633 \n",
       "  986.41,483.581 984.659,492.867 984.187,503.503 985.066,515.509 987.383,528.914 991.242,543.752 996.768,560.067 1004.11,577.914 1013.47,597.357 1025.09,618.473 \n",
       "  1039.27,641.349 1056.42,666.08 1077.11,692.755 1102.12,721.418 1132.61,751.95 1170.34,783.64 1217.6,813.446 1272.68,828.222 1307.24,801.068 1305.66,751.916 \n",
       "  1289.61,706.043 1269.25,666.541 1247.76,632.598 1226.29,603.249 1205.34,577.744 1185.13,555.525 1165.77,536.174 1147.31,519.369 1129.77,504.862 1113.18,492.453 \n",
       "  1097.53,481.983 1082.82,473.323 1069.07,466.365 1056.26,461.023 1044.42,457.224 1033.53,454.91 1023.63,454.03 1014.71,454.547 1006.81,456.428 999.931,459.652 \n",
       "  994.111,464.201 989.38,470.064 985.777,477.24 983.347,485.729 982.144,495.54 982.231,506.689 983.685,519.198 986.597,533.095 991.074,548.419 997.248,565.216 \n",
       "  1005.28,583.542 1015.38,603.463 1027.79,625.057 1042.85,648.412 1061,673.619 1082.84,700.757 1109.23,729.841 1141.44,760.651 1181.37,792.149 1231.16,819.94 \n",
       "  1285.02,826.2 1309.5,789.775 1302.77,740.452 1285.2,696.103 1264.42,657.988 1242.87,625.166 1221.5,596.723 1200.7,571.963 1180.67,550.365 1161.5,531.54 \n",
       "  1143.23,515.185 1125.88,501.065 1109.47,488.991 1093.99,478.812 1079.44,470.403 1065.84,463.663 1053.18,458.508 1041.47,454.868 1030.71,452.687 1020.92,451.917 \n",
       "  1012.1,452.52 1004.29,454.467 997.49,457.735 991.736,462.308 987.058,468.175 983.493,475.334 981.085,483.786 979.887,493.539 979.961,504.609 981.379,517.016 \n",
       "  984.23,530.788 988.617,545.962 994.668,562.58 1002.54,580.698 1012.42,600.379 1024.56,621.696 1039.26,644.735 1056.95,669.584 1078.17,696.324 1103.74,724.981 \n",
       "  1134.82,755.398 1173.13,786.776 1220.9,815.796 1275.6,828.58 1308.14,799.517 1305.64,750.322 1289.37,704.671 1268.97,665.318 1247.48,631.448 1226.02,602.112 \n",
       "  1205.07,576.573 1184.86,554.281 1165.48,534.822 1146.99,517.88 1129.42,503.207 1112.77,490.605 1097.05,479.917 1082.25,471.012 1068.39,463.785 1055.46,458.148 \n",
       "  1043.47,454.028 1032.41,451.365 1022.32,450.11 1013.18,450.223 1005.02,451.67 997.865,454.428 991.728,458.478 986.642,463.807 982.639,470.41 979.76,478.285 \n",
       "  978.053,487.439 977.573,497.881 978.387,509.631 980.572,522.711 984.222,537.153 989.451,552.995 996.394,570.285 1005.22,589.081 1016.14,609.447 1029.41,631.463 \n",
       "  1045.4,655.211 1064.55,680.777 1087.5,708.224 1115.17,737.524 1148.9,768.349 1190.66,799.295 1242.15,824.547 1293.17,822.858 1310.22,781.258 1300.56,732.394 \n",
       "  1282.17,689.139 1261.17,651.934 1239.63,619.811 1218.33,591.9 1197.64,567.545 1177.73,546.253 1158.66,527.653 1140.49,511.455 1123.23,497.433 1106.88,485.407 \n",
       "  1091.45,475.23 1076.94,466.78 1063.34,459.96 1050.67,454.687 1038.93,450.893 1028.12,448.521 1018.24,447.526 1009.32,447.869 1001.37,449.521 994.403,452.456 \n",
       "  \n",
       "  \"/>\n",
       "<path clip-path=\"url(#clip962)\" d=\"M1250.12 789.326 L1238.8 784.638 L1234.12 773.326 L1238.8 762.014 L1250.12 757.326 L1261.43 762.014 L1266.12 773.326 L1261.43 784.638 Z\" fill=\"#008000\" fill-rule=\"evenodd\" fill-opacity=\"1\" stroke=\"#000000\" stroke-opacity=\"1\" stroke-width=\"3.2\"/>\n",
       "<path clip-path=\"url(#clip960)\" d=\"\n",
       "M1299.3 348.236 L1826.46 348.236 L1826.46 166.796 L1299.3 166.796  Z\n",
       "  \" fill=\"#ffffff\" fill-rule=\"evenodd\" fill-opacity=\"1\"/>\n",
       "<polyline clip-path=\"url(#clip960)\" style=\"stroke:#000000; stroke-width:4; stroke-opacity:1; fill:none\" points=\"\n",
       "  1299.3,348.236 1826.46,348.236 1826.46,166.796 1299.3,166.796 1299.3,348.236 \n",
       "  \"/>\n",
       "<polyline clip-path=\"url(#clip960)\" style=\"stroke:#009af9; stroke-width:4; stroke-opacity:1; fill:none\" points=\"\n",
       "  1323.81,227.276 1470.82,227.276 \n",
       "  \"/>\n",
       "<path clip-path=\"url(#clip960)\" d=\"M 0 0 M1510.51 222.611 Q1509.79 222.195 1508.94 222.01 Q1508.1 221.801 1507.09 221.801 Q1503.48 221.801 1501.53 224.162 Q1499.61 226.5 1499.61 230.898 L1499.61 244.556 L1495.33 244.556 L1495.33 218.63 L1499.61 218.63 L1499.61 222.658 Q1500.95 220.297 1503.1 219.162 Q1505.26 218.005 1508.34 218.005 Q1508.78 218.005 1509.31 218.074 Q1509.84 218.121 1510.49 218.236 L1510.51 222.611 Z\" fill=\"#000000\" fill-rule=\"evenodd\" fill-opacity=\"1\" /><path clip-path=\"url(#clip960)\" d=\"M 0 0 M1536.11 230.528 L1536.11 232.611 L1516.53 232.611 Q1516.81 237.009 1519.17 239.324 Q1521.55 241.616 1525.79 241.616 Q1528.24 241.616 1530.54 241.014 Q1532.85 240.412 1535.12 239.209 L1535.12 243.236 Q1532.83 244.208 1530.42 244.718 Q1528.01 245.227 1525.54 245.227 Q1519.33 245.227 1515.7 241.616 Q1512.09 238.005 1512.09 231.847 Q1512.09 225.482 1515.51 221.755 Q1518.96 218.005 1524.79 218.005 Q1530.03 218.005 1533.06 221.385 Q1536.11 224.741 1536.11 230.528 M1531.85 229.278 Q1531.81 225.783 1529.89 223.699 Q1527.99 221.616 1524.84 221.616 Q1521.28 221.616 1519.12 223.63 Q1516.99 225.644 1516.67 229.301 L1531.85 229.278 Z\" fill=\"#000000\" fill-rule=\"evenodd\" fill-opacity=\"1\" /><path clip-path=\"url(#clip960)\" d=\"M 0 0 M1556.23 208.537 L1556.23 212.079 L1552.16 212.079 Q1549.86 212.079 1548.96 213.005 Q1548.08 213.931 1548.08 216.338 L1548.08 218.63 L1555.1 218.63 L1555.1 221.94 L1548.08 221.94 L1548.08 244.556 L1543.8 244.556 L1543.8 221.94 L1539.73 221.94 L1539.73 218.63 L1543.8 218.63 L1543.8 216.824 Q1543.8 212.496 1545.81 210.528 Q1547.83 208.537 1552.2 208.537 L1556.23 208.537 Z\" fill=\"#000000\" fill-rule=\"evenodd\" fill-opacity=\"1\" /><polyline clip-path=\"url(#clip960)\" style=\"stroke:#008000; stroke-width:4; stroke-opacity:1; fill:none\" points=\"\n",
       "  1323.81,287.756 1470.82,287.756 \n",
       "  \"/>\n",
       "<path clip-path=\"url(#clip960)\" d=\"M1397.31 313.356 L1379.22 305.855 L1371.71 287.756 L1379.22 269.657 L1397.31 262.156 L1415.41 269.657 L1422.91 287.756 L1415.41 305.855 Z\" fill=\"#008000\" fill-rule=\"evenodd\" fill-opacity=\"1\" stroke=\"#000000\" stroke-opacity=\"1\" stroke-width=\"5.12\"/>\n",
       "<path clip-path=\"url(#clip960)\" d=\"M 0 0 M1500 274.318 L1500 287.304 L1505.88 287.304 Q1509.15 287.304 1510.93 285.615 Q1512.71 283.925 1512.71 280.8 Q1512.71 277.698 1510.93 276.008 Q1509.15 274.318 1505.88 274.318 L1500 274.318 M1495.33 270.476 L1505.88 270.476 Q1511.69 270.476 1514.66 273.115 Q1517.64 275.73 1517.64 280.8 Q1517.64 285.915 1514.66 288.531 Q1511.69 291.147 1505.88 291.147 L1500 291.147 L1500 305.036 L1495.33 305.036 L1495.33 270.476 Z\" fill=\"#000000\" fill-rule=\"evenodd\" fill-opacity=\"1\" /><path clip-path=\"url(#clip960)\" d=\"M 0 0 M1523.73 269.017 L1527.99 269.017 L1527.99 305.036 L1523.73 305.036 L1523.73 269.017 Z\" fill=\"#000000\" fill-rule=\"evenodd\" fill-opacity=\"1\" /><path clip-path=\"url(#clip960)\" d=\"M 0 0 M1548.68 292.003 Q1543.52 292.003 1541.53 293.184 Q1539.54 294.364 1539.54 297.212 Q1539.54 299.48 1541.02 300.823 Q1542.53 302.142 1545.1 302.142 Q1548.64 302.142 1550.77 299.642 Q1552.92 297.119 1552.92 292.952 L1552.92 292.003 L1548.68 292.003 M1557.18 290.244 L1557.18 305.036 L1552.92 305.036 L1552.92 301.101 Q1551.46 303.462 1549.29 304.596 Q1547.11 305.707 1543.96 305.707 Q1539.98 305.707 1537.62 303.485 Q1535.28 301.239 1535.28 297.489 Q1535.28 293.114 1538.2 290.892 Q1541.14 288.67 1546.95 288.67 L1552.92 288.67 L1552.92 288.253 Q1552.92 285.314 1550.98 283.716 Q1549.05 282.096 1545.56 282.096 Q1543.34 282.096 1541.23 282.628 Q1539.12 283.161 1537.18 284.226 L1537.18 280.29 Q1539.52 279.388 1541.72 278.948 Q1543.91 278.485 1546 278.485 Q1551.62 278.485 1554.4 281.402 Q1557.18 284.318 1557.18 290.244 Z\" fill=\"#000000\" fill-rule=\"evenodd\" fill-opacity=\"1\" /><path clip-path=\"url(#clip960)\" d=\"M 0 0 M1587.5 289.388 L1587.5 305.036 L1583.24 305.036 L1583.24 289.527 Q1583.24 285.846 1581.81 284.017 Q1580.37 282.189 1577.5 282.189 Q1574.05 282.189 1572.06 284.388 Q1570.07 286.587 1570.07 290.383 L1570.07 305.036 L1565.79 305.036 L1565.79 279.11 L1570.07 279.11 L1570.07 283.138 Q1571.6 280.8 1573.66 279.642 Q1575.74 278.485 1578.45 278.485 Q1582.92 278.485 1585.21 281.263 Q1587.5 284.017 1587.5 289.388 Z\" fill=\"#000000\" fill-rule=\"evenodd\" fill-opacity=\"1\" /><path clip-path=\"url(#clip960)\" d=\"M 0 0 M1618.17 291.008 L1618.17 293.091 L1598.59 293.091 Q1598.87 297.489 1601.23 299.804 Q1603.61 302.096 1607.85 302.096 Q1610.3 302.096 1612.6 301.494 Q1614.91 300.892 1617.18 299.689 L1617.18 303.716 Q1614.89 304.688 1612.48 305.198 Q1610.07 305.707 1607.6 305.707 Q1601.39 305.707 1597.76 302.096 Q1594.15 298.485 1594.15 292.327 Q1594.15 285.962 1597.57 282.235 Q1601.02 278.485 1606.85 278.485 Q1612.09 278.485 1615.12 281.865 Q1618.17 285.221 1618.17 291.008 M1613.91 289.758 Q1613.87 286.263 1611.95 284.179 Q1610.05 282.096 1606.9 282.096 Q1603.34 282.096 1601.18 284.11 Q1599.05 286.124 1598.73 289.781 L1613.91 289.758 Z\" fill=\"#000000\" fill-rule=\"evenodd\" fill-opacity=\"1\" /><path clip-path=\"url(#clip960)\" d=\"M 0 0 M1629.38 271.749 L1629.38 279.11 L1638.15 279.11 L1638.15 282.42 L1629.38 282.42 L1629.38 296.494 Q1629.38 299.665 1630.23 300.568 Q1631.11 301.471 1633.78 301.471 L1638.15 301.471 L1638.15 305.036 L1633.78 305.036 Q1628.85 305.036 1626.97 303.207 Q1625.1 301.355 1625.1 296.494 L1625.1 282.42 L1621.97 282.42 L1621.97 279.11 L1625.1 279.11 L1625.1 271.749 L1629.38 271.749 Z\" fill=\"#000000\" fill-rule=\"evenodd\" fill-opacity=\"1\" /><path clip-path=\"url(#clip960)\" d=\"M 0 0 M1659.01 270.476 L1680.86 270.476 L1680.86 274.411 L1663.68 274.411 L1663.68 284.642 L1680.14 284.642 L1680.14 288.577 L1663.68 288.577 L1663.68 301.101 L1681.28 301.101 L1681.28 305.036 L1659.01 305.036 L1659.01 270.476 Z\" fill=\"#000000\" fill-rule=\"evenodd\" fill-opacity=\"1\" /><path clip-path=\"url(#clip960)\" d=\"M 0 0 M1700.56 292.003 Q1695.4 292.003 1693.4 293.184 Q1691.41 294.364 1691.41 297.212 Q1691.41 299.48 1692.9 300.823 Q1694.4 302.142 1696.97 302.142 Q1700.51 302.142 1702.64 299.642 Q1704.79 297.119 1704.79 292.952 L1704.79 292.003 L1700.56 292.003 M1709.05 290.244 L1709.05 305.036 L1704.79 305.036 L1704.79 301.101 Q1703.34 303.462 1701.16 304.596 Q1698.98 305.707 1695.84 305.707 Q1691.85 305.707 1689.49 303.485 Q1687.15 301.239 1687.15 297.489 Q1687.15 293.114 1690.07 290.892 Q1693.01 288.67 1698.82 288.67 L1704.79 288.67 L1704.79 288.253 Q1704.79 285.314 1702.85 283.716 Q1700.93 282.096 1697.43 282.096 Q1695.21 282.096 1693.1 282.628 Q1691 283.161 1689.05 284.226 L1689.05 280.29 Q1691.39 279.388 1693.59 278.948 Q1695.79 278.485 1697.87 278.485 Q1703.5 278.485 1706.28 281.402 Q1709.05 284.318 1709.05 290.244 Z\" fill=\"#000000\" fill-rule=\"evenodd\" fill-opacity=\"1\" /><path clip-path=\"url(#clip960)\" d=\"M 0 0 M1732.85 283.091 Q1732.13 282.675 1731.28 282.49 Q1730.44 282.281 1729.42 282.281 Q1725.81 282.281 1723.87 284.642 Q1721.95 286.98 1721.95 291.378 L1721.95 305.036 L1717.66 305.036 L1717.66 279.11 L1721.95 279.11 L1721.95 283.138 Q1723.29 280.777 1725.44 279.642 Q1727.59 278.485 1730.67 278.485 Q1731.11 278.485 1731.65 278.554 Q1732.18 278.601 1732.83 278.716 L1732.85 283.091 Z\" fill=\"#000000\" fill-rule=\"evenodd\" fill-opacity=\"1\" /><path clip-path=\"url(#clip960)\" d=\"M 0 0 M1741.53 271.749 L1741.53 279.11 L1750.3 279.11 L1750.3 282.42 L1741.53 282.42 L1741.53 296.494 Q1741.53 299.665 1742.39 300.568 Q1743.27 301.471 1745.93 301.471 L1750.3 301.471 L1750.3 305.036 L1745.93 305.036 Q1741 305.036 1739.12 303.207 Q1737.25 301.355 1737.25 296.494 L1737.25 282.42 L1734.12 282.42 L1734.12 279.11 L1737.25 279.11 L1737.25 271.749 L1741.53 271.749 Z\" fill=\"#000000\" fill-rule=\"evenodd\" fill-opacity=\"1\" /><path clip-path=\"url(#clip960)\" d=\"M 0 0 M1777.46 289.388 L1777.46 305.036 L1773.2 305.036 L1773.2 289.527 Q1773.2 285.846 1771.76 284.017 Q1770.33 282.189 1767.46 282.189 Q1764.01 282.189 1762.02 284.388 Q1760.02 286.587 1760.02 290.383 L1760.02 305.036 L1755.74 305.036 L1755.74 269.017 L1760.02 269.017 L1760.02 283.138 Q1761.55 280.8 1763.61 279.642 Q1765.7 278.485 1768.4 278.485 Q1772.87 278.485 1775.16 281.263 Q1777.46 284.017 1777.46 289.388 Z\" fill=\"#000000\" fill-rule=\"evenodd\" fill-opacity=\"1\" /></svg>\n"
      ]
     },
     "execution_count": 70,
     "metadata": {},
     "output_type": "execute_result"
    }
   ],
   "source": [
    "knots = 400\n",
    "function n_orbits_ref_traj(init_orbit::Orbit,orbits::Int) #knots,Nx,Nu\n",
    "    traj = zeros(knots-1,Nx+Nu)\n",
    "    h = init_orbit.period*orbits/(knots)\n",
    "    x = copy(init_orbit.x0)\n",
    "    R = [[0.7071068  0.0000000  0.7071068];\n",
    "         [0.0000000  1.0000000  0.0000000];\n",
    "         [-0.7071068  0.0000000  0.7071068]]\n",
    "#     print(size(R))\n",
    "    x[1:3] .= R*x[1:3]\n",
    "#     x[4:end] .= R*x[4:end]\n",
    "    u = [0,  0,  0, h]\n",
    "    traj[1,:] .= vcat(x,u)\n",
    "#     println(h)\n",
    "    for i in 2:size(traj)[1]\n",
    "#         integrator!(x, u, h)\n",
    "        x = dynamics_rk8(x, u[1:3], u[4])\n",
    "        traj[i,:] .= vcat(x,u)\n",
    "    end\n",
    "    x = dynamics_rk8(x, u[1:3], u[4])\n",
    "    next = vcat(x,u)\n",
    "    print(norm(next[1:Nx] - init_orbit.x0))\n",
    "#     @assert norm(next[1:Nx] - init_orbit.x0)<2.1 #max integrator error #decrease orbits or increase knots\n",
    "    traj = reshape(traj',((knots-1)*(Nx+Nu),1))\n",
    "    traj = vcat(traj,next[1:Nx])\n",
    "    return traj\n",
    "end\n",
    "orbits = 10\n",
    "z = n_orbits_ref_traj(transfer_orbit,orbits)\n",
    "X,U = unpackZ(knots, [(z...)...])\n",
    "plot3d_orbit(X, \"ref\")"
   ]
  },
  {
   "cell_type": "code",
   "execution_count": 71,
   "metadata": {
    "scrolled": true
   },
   "outputs": [
    {
     "data": {
      "text/plain": [
       "3203"
      ]
     },
     "execution_count": 71,
     "metadata": {},
     "output_type": "execute_result"
    }
   ],
   "source": [
    "n_nlp = (Nx+Nu)*(knots-1)+Nx # number of decision variables\n",
    "idx = get_cinds(Nx, knots)\n",
    "m_nlp = idx[end][end]\n",
    "# h = 1/knots*3 #transfer_orbit.period*5/knots"
   ]
  },
  {
   "cell_type": "code",
   "execution_count": 72,
   "metadata": {},
   "outputs": [
    {
     "name": "stdout",
     "output_type": "stream",
     "text": [
      "(39920,)"
     ]
    }
   ],
   "source": [
    "sj = sparsity_jacobian(n_nlp, m_nlp, knots);\n",
    "print(size(sj))\n",
    "# sh = sparsity_hessian(n_nlp, m_nlp);\n",
    "\n",
    "# TODO: Visualize results"
   ]
  },
  {
   "cell_type": "code",
   "execution_count": 73,
   "metadata": {},
   "outputs": [],
   "source": [
    "prob = ProblemMOI(n_nlp, knots, z, m_nlp=m_nlp, idx_ineq=idx, sparsity_jac=sj);"
   ]
  },
  {
   "cell_type": "code",
   "execution_count": 74,
   "metadata": {},
   "outputs": [
    {
     "name": "stdout",
     "output_type": "stream",
     "text": [
      "This is Ipopt version 3.13.4, running with linear solver mumps.\n",
      "NOTE: Other linear solvers might be more efficient (see Ipopt documentation).\n",
      "\n",
      "Number of nonzeros in equality constraint Jacobian...:    38324\n",
      "Number of nonzeros in inequality constraint Jacobian.:     1596\n",
      "Number of nonzeros in Lagrangian Hessian.............:        0\n",
      "\n",
      "Total number of variables............................:     3996\n",
      "                     variables with only lower bounds:        0\n",
      "                variables with lower and upper bounds:        0\n",
      "                     variables with only upper bounds:        0\n",
      "Total number of equality constraints.................:     2405\n",
      "Total number of inequality constraints...............:      798\n",
      "        inequality constraints with only lower bounds:        0\n",
      "   inequality constraints with lower and upper bounds:      798\n",
      "        inequality constraints with only upper bounds:        0\n",
      "\n",
      "iter    objective    inf_pr   inf_du lg(mu)  ||d||  lg(rg) alpha_du alpha_pr  ls\n",
      "   0  1.6804549e+02 2.36e+00 4.63e-01   0.0 0.00e+00    -  0.00e+00 0.00e+00   0\n",
      "   1  1.8004100e+02 1.94e+00 3.87e+02  -1.6 1.02e+01    -  1.80e-03 1.78e-01F  1\n",
      "   2  1.8020699e+02 1.92e+00 2.99e+02  -0.7 7.73e+00    -  1.83e-02 8.74e-03h  1\n",
      "   3  1.8542098e+02 1.78e+00 3.22e+03  -0.7 7.99e+00    -  5.26e-02 6.95e-02f  1\n",
      "   4  1.9054125e+02 1.72e+00 5.56e+03  -0.7 7.80e+00    -  7.18e-02 3.60e-02h  1\n",
      "   5r 1.9054125e+02 1.72e+00 9.99e+02   0.2 0.00e+00    -  0.00e+00 2.91e-07R 17\n",
      "   6r 1.9043042e+02 1.67e+00 9.93e+02   1.5 1.85e+02    -  1.01e-01 3.19e-03f  1\n",
      "   7r 1.9604264e+02 1.40e+00 9.36e+02  -5.6 1.29e+01    -  2.11e-01 5.64e-02f  1\n",
      "   8r 1.9604264e+02 1.40e+00 9.99e+02   0.1 0.00e+00    -  0.00e+00 3.40e-07R 21\n",
      "   9r 1.9295022e+02 1.38e+00 9.94e+02   1.6 1.66e+02    -  5.83e-02 3.13e-03f  1\n",
      "iter    objective    inf_pr   inf_du lg(mu)  ||d||  lg(rg) alpha_du alpha_pr  ls\n",
      "  10r 2.0228097e+02 1.07e+00 9.23e+02   1.2 1.08e+01    -  2.14e-01 6.87e-02f  1\n",
      "  11  2.0751115e+02 1.02e+00 2.64e+01  -0.7 7.47e+00    -  3.23e-01 4.51e-02h  4\n",
      "  12  2.1763341e+02 1.14e+00 3.62e+02  -0.7 8.46e+00    -  4.68e-01 1.43e-01h  2\n",
      "  13  2.2070260e+02 1.47e+00 8.11e+02  -0.7 8.12e+00    -  6.68e-01 2.23e-01f  1\n",
      "  14  2.0829109e+02 6.81e-01 8.51e+02  -0.7 1.54e+01    -  5.62e-01 1.46e-01f  1\n",
      "  15  2.0168316e+02 5.79e-01 9.83e+02  -0.7 5.02e+00    -  6.03e-01 2.62e-01f  1\n",
      "  16  1.9573401e+02 9.98e-01 1.18e+03  -0.7 3.11e+01    -  2.25e-01 7.76e-02f  2\n",
      "  17  1.7648741e+02 1.26e+00 1.06e+03  -0.7 5.35e+00    -  7.80e-01 4.65e-01f  1\n",
      "  18  1.5716729e+02 1.05e+00 9.67e+02  -0.7 4.31e+00    -  6.68e-01 3.97e-01f  1\n",
      "  19  1.4766537e+02 6.25e-01 1.07e+03  -0.7 2.09e+00    -  1.00e+00 5.38e-01f  1\n",
      "iter    objective    inf_pr   inf_du lg(mu)  ||d||  lg(rg) alpha_du alpha_pr  ls\n",
      "  20  1.3528310e+02 4.42e-01 8.68e+02  -0.8 1.24e+00    -  1.00e+00 2.93e-01f  1\n",
      "  21  1.2750401e+02 5.18e-02 8.77e+01  -0.8 6.35e-01    -  9.97e-01 1.00e+00f  1\n",
      "  22  1.1596876e+02 3.28e-02 1.41e+02  -1.1 5.50e-01    -  9.97e-01 9.24e-01f  1\n",
      "  23  1.0434375e+02 1.04e-01 2.81e+02  -1.5 9.37e-01    -  1.00e+00 8.38e-01f  1\n",
      "  24  9.7813350e+01 1.31e-01 4.85e+02  -1.7 1.92e+00    -  1.00e+00 2.83e-01f  1\n",
      "  25  9.3209629e+01 2.17e-01 5.03e+02  -1.3 1.85e+00    -  1.00e+00 2.68e-01f  1\n",
      "  26  9.8768671e+01 2.78e-01 1.20e+03  -1.1 1.07e+00    -  1.00e+00 7.88e-01f  1\n",
      "  27  9.1150876e+01 8.07e-02 4.07e+02  -1.2 5.30e-01    -  1.00e+00 1.00e+00f  1\n",
      "  28  8.3639606e+01 3.11e-02 1.46e+02  -1.6 5.09e-01    -  1.00e+00 6.27e-01f  1\n",
      "  29  7.8443674e+01 4.16e-02 1.05e+02  -1.7 4.76e-01    -  1.00e+00 5.44e-01f  1\n",
      "iter    objective    inf_pr   inf_du lg(mu)  ||d||  lg(rg) alpha_du alpha_pr  ls\n",
      "  30  7.6718679e+01 5.71e-02 3.49e+02  -1.4 8.56e-01    -  1.00e+00 5.25e-01f  1\n",
      "  31  7.3913451e+01 4.13e-02 6.69e+02  -1.8 1.15e+00    -  1.00e+00 4.00e-01f  1\n",
      "  32  7.0090071e+01 1.94e-01 1.27e+03  -2.0 1.74e+00    -  1.00e+00 5.89e-01f  1\n",
      "  33  6.8755303e+01 6.75e-01 2.12e+03  -1.7 2.07e+00    -  1.00e+00 7.29e-01f  1\n",
      "  34  6.9837687e+01 8.13e-01 1.95e+03  -1.5 2.14e+00    -  1.00e+00 4.65e-01f  1\n",
      "  35  7.0865593e+01 2.01e-01 7.76e+02  -1.5 7.37e-01    -  1.00e+00 1.00e+00f  1\n",
      "  36  6.6996521e+01 3.74e-02 1.97e+02  -1.8 2.90e-01    -  1.00e+00 8.00e-01f  1\n",
      "  37  6.4372048e+01 1.98e-02 1.34e+02  -2.0 5.87e-01    -  1.00e+00 7.05e-01f  1\n",
      "  38  6.2695037e+01 2.27e-02 4.01e+01  -2.0 5.51e-01    -  1.00e+00 6.82e-01h  1\n",
      "  39  6.1919337e+01 1.78e-02 8.82e+01  -2.2 3.66e-01    -  1.00e+00 3.22e-01h  1\n",
      "iter    objective    inf_pr   inf_du lg(mu)  ||d||  lg(rg) alpha_du alpha_pr  ls\n",
      "  40  6.1005680e+01 1.13e-02 1.01e+02  -2.2 4.14e-01    -  1.00e+00 5.40e-01h  1\n",
      "  41  6.2137144e+01 7.41e-03 8.07e+01  -1.9 3.55e-01    -  1.00e+00 8.52e-01f  1\n",
      "  42  6.0899245e+01 4.92e-03 2.25e+01  -2.0 2.58e-01    -  1.00e+00 1.00e+00h  1\n",
      "  43  5.9841633e+01 2.14e-03 3.03e+01  -2.4 1.71e-01    -  9.99e-01 5.93e-01h  1\n",
      "  44  6.0264465e+01 1.79e-01 1.27e+01  -2.1 7.36e-01    -  1.00e+00 6.85e-01h  1\n",
      "  45  6.2913407e+01 3.00e-03 1.24e+01  -1.8 4.51e-01    -  8.23e-01 1.00e+00f  1\n",
      "  46  6.2211771e+01 1.45e-03 1.28e+01  -1.9 2.18e-01    -  1.00e+00 5.24e-01h  1\n",
      "  47  6.1650670e+01 4.41e-04 2.25e+00  -1.9 2.33e-01    -  1.00e+00 1.00e+00h  1\n",
      "  48  6.0172062e+01 2.19e-03 2.31e+01  -2.3 2.14e-01    -  1.00e+00 6.57e-01h  1\n",
      "  49  5.9085789e+01 7.85e-03 1.05e+01  -2.4 4.46e-01    -  1.00e+00 8.73e-01h  1\n",
      "iter    objective    inf_pr   inf_du lg(mu)  ||d||  lg(rg) alpha_du alpha_pr  ls\n",
      "  50  5.8397901e+01 9.61e-04 2.67e+01  -2.4 4.91e-01    -  1.00e+00 8.93e-01h  1\n",
      "  51  5.9009321e+01 4.06e-04 1.25e+01  -2.2 2.15e-01    -  1.00e+00 1.00e+00h  1\n",
      "  52  5.8428602e+01 7.59e-04 1.59e+01  -2.5 1.35e-01    -  1.00e+00 5.48e-01h  1\n",
      "  53  5.8470398e+01 6.15e-04 2.11e+01  -2.2 4.03e-01    -  1.00e+00 1.91e-01h  3\n",
      "  54  5.8197388e+01 1.39e-03 5.59e+00  -2.3 2.36e-01    -  1.00e+00 1.00e+00h  1\n",
      "  55  5.8577781e+01 2.16e-03 4.13e+01  -2.1 7.09e-01    -  1.00e+00 2.27e-01h  2\n",
      "  56  5.8450681e+01 8.21e-04 3.92e+01  -2.2 2.55e-01    -  1.00e+00 1.00e+00h  1\n",
      "  57  5.8204390e+01 2.51e-03 2.43e+01  -2.2 3.01e-01    -  1.00e+00 1.00e+00h  1\n",
      "  58  5.8088296e+01 3.10e-03 3.43e+01  -2.2 4.63e-01    -  7.09e-01 2.04e-01h  1\n",
      "  59  5.7672868e+01 5.18e-03 2.17e+01  -2.5 4.20e-01    -  1.00e+00 4.37e-01h  2\n",
      "iter    objective    inf_pr   inf_du lg(mu)  ||d||  lg(rg) alpha_du alpha_pr  ls\n",
      "  60  5.8030913e+01 4.95e-04 1.30e+01  -2.2 1.47e-01    -  1.00e+00 1.00e+00h  1\n",
      "  61  5.7723934e+01 1.16e-04 6.59e+00  -2.3 8.57e-02    -  1.00e+00 1.00e+00h  1\n",
      "  62  5.6741658e+01 1.27e-03 5.76e+00  -3.0 1.44e-01    -  1.00e+00 8.69e-01h  1\n",
      "  63  5.6390350e+01 1.30e-03 2.50e+01  -2.9 1.25e-01    -  1.00e+00 5.96e-01h  1\n",
      "  64  5.6167008e+01 1.26e-03 3.74e+01  -2.9 1.63e-01    -  1.00e+00 6.88e-01h  1\n",
      "  65  5.5930536e+01 3.27e-03 3.26e+01  -2.9 2.37e-01    -  1.00e+00 7.04e-01h  1\n",
      "  66  5.6009525e+01 1.48e-02 2.91e+01  -2.7 5.49e-01    -  1.00e+00 5.06e-01h  1\n",
      "  67  5.5986767e+01 1.56e-02 3.25e+01  -2.5 7.08e-01    -  1.00e+00 1.25e-01h  1\n",
      "  68  5.6699195e+01 1.22e-02 3.53e+01  -2.2 1.57e+00    -  8.37e-01 1.89e-01f  2\n",
      "  69  5.6636244e+01 1.19e-03 9.36e+00  -2.4 2.30e-01    -  4.96e-01 8.91e-01h  1\n",
      "iter    objective    inf_pr   inf_du lg(mu)  ||d||  lg(rg) alpha_du alpha_pr  ls\n",
      "  70  5.6589719e+01 3.17e-04 3.61e+00  -2.4 1.71e-01    -  1.00e+00 1.00e+00h  1\n",
      "  71  5.5875396e+01 3.59e-04 1.93e+01  -2.9 1.52e-01    -  9.98e-01 8.41e-01h  1\n",
      "  72  5.5525731e+01 5.40e-04 2.98e+01  -2.9 1.44e-01    -  1.00e+00 7.36e-01h  1\n",
      "  73  5.5220718e+01 9.58e-04 1.10e+01  -3.0 1.51e-01    -  1.00e+00 9.19e-01h  1\n",
      "  74  5.4980986e+01 2.05e-03 4.83e+01  -3.2 1.16e-01    -  1.00e+00 1.00e+00h  1\n",
      "  75  5.4910516e+01 3.58e-04 1.26e+01  -3.2 9.47e-02    -  1.00e+00 8.96e-01h  1\n",
      "  76  5.4777207e+01 3.02e-04 8.88e+00  -3.6 3.65e-02    -  1.00e+00 9.54e-01h  1\n",
      "  77  5.4819751e+01 1.99e-03 2.78e+01  -3.4 1.26e-01    -  1.00e+00 8.34e-01h  1\n",
      "  78  5.4714218e+01 2.33e-03 1.26e+01  -3.6 1.20e-01    -  1.00e+00 9.68e-01h  1\n",
      "  79  5.4698247e+01 2.21e-03 1.35e+01  -3.7 2.58e-01    -  1.00e+00 7.92e-02h  1\n",
      "iter    objective    inf_pr   inf_du lg(mu)  ||d||  lg(rg) alpha_du alpha_pr  ls\n",
      "  80  5.4722207e+01 4.48e-03 1.29e+01  -3.4 1.16e-01    -  1.00e+00 7.60e-01h  1\n",
      "  81  5.4690953e+01 1.28e-02 2.88e+01  -3.5 5.24e-01    -  6.46e-01 2.63e-01h  1\n",
      "  82  5.4687635e+01 1.67e-02 4.10e+01  -3.2 9.65e-01    -  1.00e+00 1.12e-01h  1\n",
      "  83  5.4709645e+01 1.50e-03 5.14e+01  -3.5 2.54e-01    -  1.00e+00 1.00e+00H  1\n",
      "  84  5.4623524e+01 1.11e-03 4.81e+01  -3.6 1.90e-01    -  1.00e+00 2.64e-01h  1\n",
      "  85  5.4644819e+01 3.15e-04 7.62e+00  -3.2 7.80e-02    -  1.00e+00 9.18e-01f  1\n",
      "  86  5.4607849e+01 7.89e-05 2.37e+00  -3.3 6.26e-02    -  8.90e-01 1.00e+00h  1\n",
      "  87  5.4483809e+01 3.82e-04 1.64e+00  -3.8 4.74e-02    -  1.00e+00 9.68e-01h  1\n",
      "  88  5.4500538e+01 5.12e-04 4.00e+00  -3.5 6.23e-02    -  1.00e+00 9.36e-01h  1\n",
      "  89  5.4485615e+01 5.54e-04 5.24e+00  -4.3 1.89e-01    -  7.85e-01 8.87e-02h  1\n",
      "iter    objective    inf_pr   inf_du lg(mu)  ||d||  lg(rg) alpha_du alpha_pr  ls\n",
      "  90  5.4518036e+01 1.99e-03 1.01e+01  -3.3 2.29e-01    -  1.00e+00 3.67e-01h  1\n",
      "  91  5.4511407e+01 1.95e-03 1.19e+01  -3.4 1.39e-01    -  1.00e+00 2.55e-01h  1\n",
      "  92  5.4522843e+01 2.25e-04 1.34e+01  -3.4 9.61e-02    -  9.90e-01 1.00e+00H  1\n",
      "  93  5.4393818e+01 5.00e-04 1.11e+01  -3.9 7.08e-02    -  1.00e+00 9.65e-01h  1\n",
      "  94  5.4420744e+01 6.90e-05 1.88e+00  -3.6 5.63e-02    -  1.00e+00 1.00e+00h  1\n",
      "  95  5.4387744e+01 9.74e-05 1.63e+00  -3.8 2.86e-02    -  1.00e+00 1.00e+00h  1\n",
      "  96  5.4381260e+01 2.70e-04 2.05e+00  -3.8 2.50e-02    -  1.00e+00 9.49e-01h  1\n",
      "  97  5.4502963e+01 5.40e-03 1.35e+01  -3.4 1.23e-01    -  1.00e+00 1.00e+00h  1\n",
      "  98  5.4448407e+01 1.79e-03 1.42e+01  -3.5 1.07e-01    -  1.00e+00 9.32e-01h  1\n",
      "  99  5.4423491e+01 2.83e-04 4.81e+00  -3.5 3.99e-02    -  1.00e+00 1.00e+00h  1\n",
      "iter    objective    inf_pr   inf_du lg(mu)  ||d||  lg(rg) alpha_du alpha_pr  ls\n",
      " 100  5.4419104e+01 3.24e-04 2.69e+00  -3.5 2.96e-02    -  1.00e+00 1.00e+00h  1\n",
      " 101  5.4424187e+01 2.19e-04 1.82e+00  -3.5 3.56e-02    -  1.00e+00 1.00e+00h  1\n",
      " 102  5.4421756e+01 3.06e-04 2.88e+00  -3.5 3.65e-02    -  1.00e+00 1.00e+00h  1\n",
      " 103  5.4417886e+01 2.77e-04 3.35e+00  -3.5 6.43e-02    -  1.00e+00 6.04e-01H  1\n",
      " 104  5.4357279e+01 1.43e-03 6.31e+00  -3.9 8.14e-02    -  1.00e+00 1.00e+00h  1\n",
      " 105  5.4381298e+01 2.93e-05 2.66e+00  -3.6 7.90e-02    -  1.00e+00 1.00e+00h  1\n",
      " 106  5.4366735e+01 3.99e-05 6.95e-01  -3.7 2.03e-02    -  1.00e+00 1.00e+00h  1\n",
      " 107  5.4302457e+01 4.17e-04 1.96e+00  -4.5 3.96e-02    -  1.00e+00 9.83e-01h  1\n",
      " 108  5.4291783e+01 1.21e-03 4.24e+00  -4.6 6.63e-02    -  1.00e+00 1.00e+00h  1\n",
      " 109  5.4291545e+01 1.14e-03 6.67e+00  -4.3 7.14e-02    -  1.00e+00 1.00e+00h  1\n",
      "iter    objective    inf_pr   inf_du lg(mu)  ||d||  lg(rg) alpha_du alpha_pr  ls\n",
      " 110  5.4337669e+01 1.53e-03 9.20e+00  -3.7 1.67e-01    -  1.00e+00 4.07e-01h  1\n",
      " 111  5.4334920e+01 1.19e-04 2.36e+00  -3.8 4.78e-02    -  1.00e+00 1.00e+00h  1\n",
      " 112  5.4332092e+01 1.56e-04 1.06e+00  -3.8 2.78e-02    -  1.00e+00 1.00e+00h  1\n",
      " 113  5.4295350e+01 1.29e-03 4.01e+00  -4.2 8.50e-02    -  1.00e+00 9.49e-01h  1\n",
      " 114  5.4288714e+01 2.38e-03 8.94e+00  -4.3 2.05e-01    -  1.00e+00 2.87e-01h  1\n",
      " 115  5.4562373e+01 9.56e-03 2.35e+01  -3.4 1.82e-01    -  1.00e+00 8.79e-01f  1\n",
      " 116  5.4448458e+01 4.17e-03 1.62e+01  -3.5 1.55e-01    -  6.85e-01 6.42e-01h  1\n",
      " 117  5.4404827e+01 5.47e-05 1.73e+00  -3.5 3.15e-02    -  1.00e+00 1.00e+00h  1\n",
      " 118  5.4400030e+01 6.11e-06 5.73e-01  -3.5 2.22e-02    -  1.00e+00 1.00e+00h  1\n",
      " 119  5.4347153e+01 2.84e-04 7.64e-01  -3.8 3.99e-02    -  1.00e+00 8.39e-01h  1\n",
      "iter    objective    inf_pr   inf_du lg(mu)  ||d||  lg(rg) alpha_du alpha_pr  ls\n",
      " 120  5.4330488e+01 6.68e-04 3.45e+00  -3.9 9.87e-02    -  1.00e+00 5.00e-01h  2\n",
      " 121  5.4312681e+01 4.21e-04 3.44e+00  -3.9 3.94e-02    -  1.00e+00 1.00e+00h  1\n",
      " 122  5.4314968e+01 3.62e-04 2.59e+00  -3.9 6.21e-02    -  1.00e+00 1.00e+00h  1\n",
      " 123  5.4275225e+01 2.64e-04 1.33e+00  -4.3 4.66e-02    -  1.00e+00 9.97e-01h  1\n",
      " 124  5.4269069e+01 7.68e-05 1.10e+00  -4.3 4.65e-02    -  1.00e+00 9.97e-01h  1\n",
      " 125  5.4260508e+01 8.68e-05 4.12e-01  -4.4 2.56e-02    -  1.00e+00 1.00e+00h  1\n",
      " 126  5.4261666e+01 1.30e-04 1.99e+00  -4.5 7.70e-02    -  1.00e+00 1.00e+00H  1\n",
      " 127  5.4278273e+01 1.85e-04 2.66e+00  -4.1 4.05e-02    -  1.00e+00 1.00e+00h  1\n",
      " 128  5.4265866e+01 3.82e-04 9.76e-01  -4.2 5.28e-02    -  1.00e+00 1.00e+00h  1\n",
      " 129  5.4263333e+01 7.02e-04 1.95e+00  -4.2 3.03e-01    -  8.62e-01 1.74e-01h  2\n",
      "iter    objective    inf_pr   inf_du lg(mu)  ||d||  lg(rg) alpha_du alpha_pr  ls\n",
      " 130  5.4260453e+01 8.95e-04 2.34e+00  -4.2 1.89e-01    -  1.00e+00 2.76e-01h  1\n",
      " 131  5.4279767e+01 4.48e-04 9.43e-01  -3.9 5.59e-02    -  1.00e+00 5.00e-01h  2\n",
      " 132  5.4267614e+01 5.39e-06 3.80e-01  -4.1 4.97e-02    -  1.00e+00 1.00e+00h  1\n",
      " 133  5.4266493e+01 8.00e-07 2.10e-01  -4.1 1.29e-02    -  1.00e+00 1.00e+00h  1\n",
      " 134  5.4239713e+01 1.23e-05 6.07e-01  -4.8 7.37e-03    -  1.00e+00 9.62e-01h  1\n",
      " 135  5.4233421e+01 6.51e-06 9.67e-01  -4.8 1.15e-02    -  1.00e+00 9.98e-01h  1\n",
      " 136  5.4230317e+01 1.04e-05 1.72e-01  -5.0 8.93e-03    -  1.00e+00 9.99e-01h  1\n",
      " 137  5.4233557e+01 2.68e-05 5.46e-01  -4.7 1.54e-02    -  1.00e+00 9.67e-01h  1\n",
      " 138  5.4228484e+01 5.91e-06 1.65e+00  -5.1 1.26e-02    -  1.00e+00 9.98e-01h  1\n",
      " 139  5.4236356e+01 3.79e-05 6.48e-01  -4.6 1.04e-02    -  1.00e+00 1.00e+00h  1\n",
      "iter    objective    inf_pr   inf_du lg(mu)  ||d||  lg(rg) alpha_du alpha_pr  ls\n",
      " 140  5.4233643e+01 5.27e-06 7.89e-01  -4.7 9.37e-03    -  1.00e+00 1.00e+00h  1\n",
      " 141  5.4226582e+01 3.44e-05 5.08e-01  -5.2 1.56e-02    -  1.00e+00 1.00e+00h  1\n",
      " 142  5.4236067e+01 1.13e-04 1.38e+00  -4.6 2.76e-02    -  1.00e+00 1.00e+00h  1\n",
      " 143  5.4232104e+01 3.74e-05 1.44e+00  -4.7 3.37e-02    -  1.00e+00 1.00e+00h  1\n",
      " 144  5.4239396e+01 6.85e-05 7.56e-01  -4.4 1.32e-02    -  1.00e+00 1.00e+00h  1\n",
      " 145  5.4235831e+01 2.11e-04 1.74e+00  -4.5 2.23e-02    -  1.00e+00 1.00e+00h  1\n",
      " 146  5.4235325e+01 7.17e-04 4.25e+00  -4.5 2.89e-01    -  1.63e-01 1.13e-01h  2\n",
      " 147  5.4235113e+01 9.19e-04 5.69e+00  -4.5 1.32e-01    -  9.22e-01 1.98e-01h  2\n",
      " 148  5.4234749e+01 1.29e-03 7.69e+00  -4.5 1.37e-01    -  6.57e-01 2.55e-01h  2\n",
      " 149  5.4233644e+01 1.56e-03 9.15e+00  -4.5 1.08e-01    -  1.00e+00 3.56e-01h  2\n",
      "iter    objective    inf_pr   inf_du lg(mu)  ||d||  lg(rg) alpha_du alpha_pr  ls\n",
      " 150  5.4233602e+01 2.13e-03 1.13e+01  -4.5 1.99e-01    -  9.43e-01 2.19e-01h  2\n",
      " 151  5.4233664e+01 1.83e-03 1.08e+01  -4.5 8.67e-02    -  1.00e+00 2.50e-01h  3\n",
      " 152  5.4232472e+01 2.87e-05 2.39e+00  -4.5 2.15e-02    -  1.00e+00 1.00e+00h  1\n",
      " 153  5.4231288e+01 9.11e-05 1.12e+00  -4.5 1.53e-02    -  1.00e+00 1.00e+00h  1\n",
      " 154  5.4224838e+01 7.65e-04 2.65e+00  -4.8 4.02e-02    -  1.00e+00 1.00e+00h  1\n",
      " 155  5.4228479e+01 5.88e-03 1.18e+01  -4.6 1.84e-01    -  1.00e+00 5.89e-01h  1\n",
      " 156  5.4227620e+01 5.16e-03 1.27e+01  -4.7 1.06e-01    -  8.34e-01 1.31e-01h  1\n",
      " 157  5.4225404e+01 1.93e-03 8.21e+00  -4.7 3.30e-02    -  9.14e-01 6.26e-01f  1\n",
      " 158  5.4252097e+01 1.45e-04 1.71e+00  -4.2 3.01e-02    -  1.00e+00 1.00e+00f  1\n",
      " 159  5.4240725e+01 3.08e-05 7.06e-01  -4.3 1.22e-02    -  1.00e+00 1.00e+00h  1\n",
      "iter    objective    inf_pr   inf_du lg(mu)  ||d||  lg(rg) alpha_du alpha_pr  ls\n",
      " 160  5.4239580e+01 1.11e-06 3.05e-01  -4.3 4.33e-03    -  1.00e+00 1.00e+00h  1\n",
      " 161  5.4221063e+01 2.21e-05 8.73e-01  -5.0 1.34e-02    -  1.00e+00 9.76e-01h  1\n",
      " 162  5.4218761e+01 6.99e-06 1.86e-01  -4.9 1.04e-02    -  1.00e+00 1.00e+00h  1\n",
      " 163  5.4215068e+01 6.07e-06 2.85e-01  -5.4 1.16e-02    -  1.00e+00 9.99e-01h  1\n",
      " 164  5.4214779e+01 7.07e-06 3.49e-01  -5.4 5.85e-03    -  1.00e+00 9.79e-01h  1\n",
      " 165  5.4213486e+01 6.73e-06 4.51e-01  -5.7 6.03e-03    -  1.00e+00 1.00e+00h  1\n",
      " 166  5.4213110e+01 2.59e-05 9.00e-01  -7.2 3.22e-02    -  5.48e-01 2.60e-01h  1\n",
      " 167  5.4241655e+01 1.94e-06 1.04e+00  -4.8 9.55e-02    -  1.00e+00 1.00e+00H  1\n",
      " 168  5.4223412e+01 1.32e-05 6.49e-01  -4.9 8.86e-02    -  1.00e+00 6.43e-01h  1\n",
      " 169  5.4218607e+01 5.45e-06 3.86e-01  -4.9 1.10e-02    -  1.00e+00 1.00e+00h  1\n",
      "iter    objective    inf_pr   inf_du lg(mu)  ||d||  lg(rg) alpha_du alpha_pr  ls\n",
      " 170  5.4217831e+01 9.52e-06 3.42e-01  -4.9 4.52e-03    -  1.00e+00 1.00e+00h  1\n",
      " 171  5.4217243e+01 2.69e-04 2.17e+00  -4.9 2.76e-02    -  1.00e+00 8.69e-01h  1\n",
      " 172  5.4216946e+01 1.19e-03 6.10e+00  -5.0 4.16e-01    -  3.78e-01 1.08e-01h  2\n",
      " 173  5.4216761e+01 1.48e-03 8.44e+00  -5.0 6.04e-01    -  1.00e+00 4.50e-02h  3\n",
      " 174  5.4216338e+01 1.56e-03 9.94e+00  -5.0 2.58e-01    -  1.00e+00 7.75e-02h  4\n",
      " 175  5.4216153e+01 1.98e-03 1.22e+01  -5.0 1.63e-01    -  1.00e+00 2.50e-01h  3\n",
      " 176  5.4215572e+01 1.90e-03 1.26e+01  -5.0 1.57e-01    -  1.00e+00 6.95e-02h  2\n",
      " 177  5.4215691e+01 1.18e-03 9.19e+00  -5.0 4.49e-02    -  1.00e+00 3.94e-01h  2\n",
      " 178  5.4213376e+01 2.46e-04 2.38e+00  -5.0 1.53e-02    -  1.00e+00 8.36e-01h  1\n",
      " 179  5.4211029e+01 7.39e-06 2.45e-01  -5.9 2.11e-02    -  1.00e+00 1.00e+00h  1\n",
      "iter    objective    inf_pr   inf_du lg(mu)  ||d||  lg(rg) alpha_du alpha_pr  ls\n",
      " 180  5.4212278e+01 8.17e-06 1.07e-01  -5.0 1.75e-02    -  1.00e+00 1.00e+00h  1\n",
      " 181  5.4209404e+01 2.24e-05 3.88e-01  -5.5 1.44e-02    -  6.93e-01 9.78e-01h  1\n",
      " 182  5.4208592e+01 4.76e-05 9.98e-01  -5.9 1.16e-02    -  1.00e+00 1.00e+00h  1\n",
      " 183  5.4209248e+01 1.12e-04 2.02e+00  -5.4 1.97e-02    -  1.00e+00 1.00e+00h  1\n",
      " 184  5.4208619e+01 2.23e-04 3.18e+00  -5.4 9.75e-02    -  1.00e+00 2.33e-01h  1\n",
      " 185  5.4208119e+01 2.35e-04 3.72e+00  -5.4 1.44e-01    -  7.66e-01 7.74e-02h  1\n",
      " 186  5.4217211e+01 1.97e-04 3.47e+00  -4.5 7.76e-02    -  6.77e-01 2.58e-01f  1\n",
      " 187  5.4213858e+01 5.59e-05 1.28e+00  -4.8 3.25e-02    -  1.00e+00 7.17e-01h  1\n",
      " 188  5.4212592e+01 2.56e-07 1.72e-01  -4.8 2.24e-02    -  1.00e+00 1.00e+00f  1\n",
      " 189  5.4212102e+01 1.01e-06 5.12e-02  -4.8 5.48e-03    -  1.00e+00 1.00e+00h  1\n",
      "iter    objective    inf_pr   inf_du lg(mu)  ||d||  lg(rg) alpha_du alpha_pr  ls\n",
      " 190  5.4210826e+01 5.16e-06 1.21e-01  -4.9 1.28e-02    -  1.00e+00 1.00e+00h  1\n",
      " 191  5.4209149e+01 7.14e-07 1.73e-01  -5.0 8.85e-03    -  1.00e+00 1.00e+00h  1\n",
      " 192  5.4206606e+01 1.67e-07 1.44e-01  -5.4 6.18e-03    -  1.00e+00 1.00e+00h  1\n",
      " 193  5.4208840e+01 1.58e-07 6.85e-02  -5.0 5.09e-03    -  1.00e+00 1.00e+00h  1\n",
      " 194  5.4205717e+01 6.92e-07 8.81e-02  -5.7 4.90e-03    -  1.00e+00 1.00e+00h  1\n",
      " 195  5.4204846e+01 1.87e-06 1.11e-01  -6.2 4.10e-03    -  1.00e+00 1.00e+00h  1\n",
      " 196  5.4205081e+01 3.24e-06 2.39e-01  -5.8 4.85e-03    -  1.00e+00 1.00e+00h  1\n",
      " 197  5.4212353e+01 3.57e-05 1.21e+00  -5.0 1.58e-02    -  1.00e+00 1.00e+00h  1\n",
      " 198  5.4208895e+01 2.42e-05 4.61e-01  -5.1 2.21e-02    -  7.07e-01 7.73e-01h  1\n",
      " 199  5.4208255e+01 9.04e-06 3.64e-01  -5.1 1.17e-02    -  1.00e+00 7.50e-01f  1\n",
      "iter    objective    inf_pr   inf_du lg(mu)  ||d||  lg(rg) alpha_du alpha_pr  ls\n",
      " 200  5.4207997e+01 5.61e-07 1.87e-01  -5.1 7.13e-03    -  1.00e+00 1.00e+00f  1\n",
      " 201  5.4205070e+01 8.19e-06 1.55e-01  -5.8 5.36e-03    -  1.00e+00 9.97e-01h  1\n",
      " 202  5.4204749e+01 5.01e-05 8.23e-01  -5.8 1.06e-02    -  1.00e+00 9.95e-01h  1\n",
      " 203  5.4211591e+01 4.19e-05 1.69e+00  -4.9 2.61e-02    -  1.00e+00 4.92e-01f  2\n",
      " 204  5.4208986e+01 4.44e-05 6.64e-01  -5.0 1.55e-02    -  1.00e+00 7.90e-01h  1\n",
      " 205  5.4208770e+01 6.64e-06 4.53e-01  -5.0 7.97e-03    -  1.00e+00 1.00e+00h  1\n",
      " 206  5.4208565e+01 4.46e-06 3.73e-01  -5.0 5.38e-03    -  1.00e+00 1.00e+00h  1\n",
      " 207  5.4205880e+01 3.93e-05 5.31e-01  -5.3 9.19e-03    -  1.00e+00 9.89e-01h  1\n",
      " 208  5.4205762e+01 5.35e-05 1.05e+00  -5.4 4.94e-02    -  1.00e+00 1.25e-01h  4\n",
      " 209  5.4205660e+01 6.16e-05 2.53e+00  -5.4 2.91e-02    -  1.00e+00 1.00e+00H  1\n",
      "iter    objective    inf_pr   inf_du lg(mu)  ||d||  lg(rg) alpha_du alpha_pr  ls\n",
      " 210  5.4205499e+01 4.88e-04 6.04e+00  -5.4 1.00e-01    -  1.00e+00 4.29e-01H  1\n",
      " 211  5.4205309e+01 6.48e-04 7.56e+00  -5.4 3.31e-01    -  1.00e+00 5.87e-02h  2\n",
      " 212  5.4205137e+01 6.43e-04 7.94e+00  -5.4 1.33e-01    -  7.67e-01 6.83e-02h  4\n",
      " 213  5.4204982e+01 6.12e-04 7.89e+00  -5.4 6.50e-02    -  1.00e+00 5.79e-02h  1\n",
      " 214  5.4204593e+01 3.27e-04 4.38e+00  -5.4 1.90e-02    -  9.30e-01 5.00e-01f  2\n",
      " 215  5.4206101e+01 9.00e-05 2.27e+00  -5.6 3.04e-02    -  1.00e+00 1.00e+00H  1\n",
      " 216  5.4204882e+01 1.00e-04 2.84e+00  -5.7 3.33e-02    -  1.00e+00 2.60e-01h  1\n",
      " 217  5.4204205e+01 8.29e-05 2.18e+00  -5.7 5.13e-02    -  4.98e-01 1.85e-01h  2\n",
      " 218  5.4203890e+01 2.77e-06 6.97e-02  -5.5 6.68e-03    -  1.00e+00 1.00e+00h  1\n",
      " 219  5.4204950e+01 1.38e-06 2.86e-01  -5.2 6.87e-03    -  1.00e+00 1.00e+00h  1\n",
      "iter    objective    inf_pr   inf_du lg(mu)  ||d||  lg(rg) alpha_du alpha_pr  ls\n",
      " 220  5.4204279e+01 9.17e-07 1.51e-01  -5.3 3.98e-03    -  1.00e+00 1.00e+00h  1\n",
      " 221  5.4206078e+01 2.79e-06 1.21e-01  -5.0 5.08e-03    -  1.00e+00 1.00e+00h  1\n",
      " 222  5.4205232e+01 2.94e-06 1.61e-01  -5.1 5.28e-03    -  1.00e+00 1.00e+00h  1\n",
      " 223  5.4204993e+01 1.23e-05 5.37e-01  -5.1 7.60e-03    -  1.00e+00 1.00e+00h  1\n",
      " 224  5.4205118e+01 1.27e-05 7.15e-01  -5.1 8.77e-03    -  1.00e+00 1.00e+00h  1\n",
      " 225  5.4205013e+01 1.09e-05 7.80e-01  -5.1 1.05e-02    -  1.00e+00 1.00e+00h  1\n",
      " 226  5.4204851e+01 5.10e-06 3.68e-01  -5.1 1.18e-02    -  1.00e+00 1.00e+00h  1\n",
      " 227  5.4204844e+01 9.01e-07 3.57e-01  -5.1 8.43e-03    -  1.00e+00 1.00e+00H  1\n",
      " 228  5.4203279e+01 1.53e-05 5.69e-01  -5.4 9.54e-03    -  1.00e+00 1.00e+00h  1\n",
      " 229  5.4202716e+01 5.45e-06 4.21e-01  -5.5 9.64e-03    -  1.00e+00 1.00e+00h  1\n",
      "iter    objective    inf_pr   inf_du lg(mu)  ||d||  lg(rg) alpha_du alpha_pr  ls\n",
      " 230  5.4201709e+01 1.32e-06 2.00e-01  -6.1 9.73e-03    -  1.00e+00 1.00e+00h  1\n",
      " 231  5.4202166e+01 3.55e-06 2.23e-01  -5.7 4.23e-03    -  1.00e+00 1.00e+00h  1\n",
      " 232  5.4201901e+01 3.71e-06 2.85e-01  -5.8 3.77e-03    -  1.00e+00 1.00e+00h  1\n",
      " 233  5.4201730e+01 3.22e-06 4.62e-01  -6.0 8.57e-03    -  1.00e+00 8.04e-01H  1\n",
      " 234  5.4201525e+01 3.02e-06 4.20e-01  -6.1 6.75e-03    -  1.00e+00 1.00e+00h  1\n",
      " 235  5.4201706e+01 4.49e-07 1.75e-01  -5.8 4.28e-03    -  1.00e+00 1.00e+00h  1\n",
      " 236  5.4201418e+01 1.50e-06 1.11e-01  -6.0 2.53e-03    -  1.00e+00 1.00e+00h  1\n",
      " 237  5.4201930e+01 5.31e-06 2.25e-01  -5.7 4.94e-03    -  1.00e+00 1.00e+00h  1\n",
      " 238  5.4201540e+01 3.53e-06 4.20e-01  -5.8 3.89e-03    -  1.00e+00 1.00e+00h  1\n",
      " 239  5.4201474e+01 3.54e-06 3.46e-01  -5.8 8.27e-03    -  1.00e+00 5.10e-01h  1\n",
      "iter    objective    inf_pr   inf_du lg(mu)  ||d||  lg(rg) alpha_du alpha_pr  ls\n",
      " 240  5.4201520e+01 9.34e-06 5.33e-01  -5.8 1.38e-02    -  1.00e+00 4.69e-01h  1\n",
      " 241  5.4201340e+01 1.92e-05 9.02e-01  -5.8 2.22e-02    -  1.00e+00 4.61e-01h  1\n",
      " 242  5.4201760e+01 5.42e-05 1.64e+00  -5.2 2.31e-01    -  1.00e+00 8.23e-02f  1\n",
      " 243  5.4201917e+01 6.72e-05 2.05e+00  -5.4 1.09e-01    -  6.36e-01 1.35e-01h  2\n",
      " 244  5.4207702e+01 3.31e-05 2.12e+00  -5.4 4.88e-02    -  1.00e+00 1.00e+00H  1\n",
      " 245  5.4205618e+01 2.69e-05 1.99e+00  -5.4 8.89e-02    -  1.00e+00 1.86e-01h  1\n",
      " 246  5.4202859e+01 1.53e-05 1.10e+00  -5.4 3.57e-02    -  1.00e+00 4.83e-01F  1\n",
      " 247  5.4201781e+01 1.25e-05 5.62e-01  -5.4 1.39e-02    -  1.00e+00 7.41e-01f  1\n",
      " 248  5.4203432e+01 1.38e-05 1.08e+00  -5.4 2.80e-02    -  1.00e+00 9.69e-01H  1\n",
      " 249  5.4202574e+01 1.12e-06 1.06e+00  -5.4 1.34e-02    -  1.00e+00 9.48e-01F  1\n",
      "iter    objective    inf_pr   inf_du lg(mu)  ||d||  lg(rg) alpha_du alpha_pr  ls\n",
      " 250  5.4201488e+01 6.25e-07 6.36e-01  -5.4 1.48e-02    -  1.00e+00 4.40e-01h  1\n",
      " 251  5.4200951e+01 4.79e-07 5.41e-02  -5.4 5.53e-03    -  1.00e+00 1.00e+00h  1\n",
      " 252  5.4199670e+01 3.55e-07 5.00e-02  -5.9 3.34e-03    -  1.00e+00 1.00e+00h  1\n",
      " 253  5.4200053e+01 3.67e-06 1.45e-01  -5.6 6.20e-03    -  1.00e+00 1.00e+00h  1\n",
      " 254  5.4201812e+01 9.73e-05 8.17e-01  -5.1 9.92e-02    -  1.00e+00 2.96e-01h  2\n",
      " 255  5.4202250e+01 1.46e-04 1.33e+00  -5.3 1.06e-01    -  9.02e-01 2.50e-01h  3\n",
      " 256  5.4202375e+01 1.42e-04 1.30e+00  -5.3 1.03e-01    -  8.27e-01 1.61e-01h  3\n",
      " 257  5.4201990e+01 7.42e-05 7.85e-01  -5.3 2.14e-02    -  1.00e+00 4.79e-01h  1\n",
      " 258  5.4201015e+01 2.73e-05 3.88e-01  -5.3 1.10e-02    -  1.00e+00 6.47e-01h  1\n",
      " 259  5.4200716e+01 3.27e-05 2.94e-01  -5.3 1.80e-02    -  1.00e+00 1.00e+00f  1\n",
      "iter    objective    inf_pr   inf_du lg(mu)  ||d||  lg(rg) alpha_du alpha_pr  ls\n",
      " 260  5.4200646e+01 5.67e-05 6.22e-01  -5.3 1.05e+00    -  1.68e-01 1.47e-02h  4\n",
      " 261  5.4200598e+01 7.13e-05 7.78e-01  -5.3 5.68e-01    -  5.59e-01 2.15e-02h  5\n",
      " 262  5.4200573e+01 9.71e-05 9.17e-01  -5.3 1.06e+00    -  2.03e-01 1.50e-02h  5\n",
      " 263  5.4200517e+01 1.19e-04 1.14e+00  -5.3 7.37e-01    -  6.82e-01 2.02e-02h  5\n",
      " 264  5.4200445e+01 1.39e-04 1.44e+00  -5.3 1.22e+00    -  1.51e-01 1.19e-02h  5\n",
      " 265  5.4200328e+01 2.26e-04 2.06e+00  -5.3 2.04e+00    -  2.51e-01 1.45e-02h  4\n",
      " 266  5.4200262e+01 2.29e-04 2.28e+00  -5.3 1.42e+00    -  2.03e-01 5.10e-03h  6\n",
      " 267  5.4200230e+01 2.82e-04 2.80e+00  -5.3 4.39e-01    -  6.78e-01 6.22e-02h  4\n",
      " 268  5.4200183e+01 2.81e-04 3.01e+00  -5.3 5.25e-01    -  4.54e-01 1.38e-02h  6\n",
      " 269  5.4200098e+01 2.89e-04 3.19e+00  -5.3 1.81e-01    -  1.00e+00 1.25e-01h  4\n",
      "iter    objective    inf_pr   inf_du lg(mu)  ||d||  lg(rg) alpha_du alpha_pr  ls\n",
      " 270  5.4222606e+01 1.59e-03 4.66e+00  -5.3 3.64e-01    -  3.83e-01 3.36e-01w  1\n",
      " 271  5.4234353e+01 1.28e-03 4.52e+00  -5.3 1.20e-01    -  1.00e+00 8.38e-01w  1\n",
      " 272  5.4221970e+01 1.01e-03 3.12e+00  -5.3 1.96e-01    -  5.92e-02 2.12e-01w  1\n",
      " 273  5.4200008e+01 2.86e-04 3.28e+00  -5.3 4.28e-02    -  3.83e-01 2.10e-02h  4\n",
      " 274  5.4199951e+01 2.82e-04 3.17e+00  -5.3 1.90e-01    -  8.24e-01 1.83e-02h  6\n",
      " 275  5.4200550e+01 2.89e-04 4.52e-01  -5.3 5.23e-02    -  1.00e+00 1.00e+00h  1\n",
      " 276  5.4200399e+01 2.92e-04 5.73e-01  -5.3 4.57e-01    -  5.43e-01 1.92e-02h  5\n",
      " 277  5.4200393e+01 3.21e-04 8.62e-01  -5.3 2.29e-01    -  1.00e+00 9.75e-02h  3\n",
      " 278  5.4200240e+01 3.15e-04 9.68e-01  -5.3 1.99e-01    -  1.00e+00 4.04e-02h  5\n",
      " 279  5.4200133e+01 3.05e-04 1.08e+00  -5.3 1.65e-01    -  9.63e-01 5.45e-02h  5\n",
      "iter    objective    inf_pr   inf_du lg(mu)  ||d||  lg(rg) alpha_du alpha_pr  ls\n",
      " 280  5.4199831e+01 2.74e-04 1.21e+00  -5.3 8.74e-02    -  1.00e+00 1.65e-01h  3\n",
      " 281  5.4199795e+01 2.55e-04 1.40e+00  -5.3 1.10e-01    -  5.35e-01 1.13e-01h  4\n",
      " 282  5.4199605e+01 2.37e-04 1.60e+00  -5.3 9.89e-02    -  1.00e+00 1.25e-01h  4\n",
      " 283  5.4200542e+01 2.31e-04 2.00e+00  -4.9 1.11e-01    -  1.00e+00 1.96e-01h  3\n",
      " 284  5.4200430e+01 2.14e-04 2.23e+00  -5.1 9.44e-02    -  9.80e-01 9.32e-02h  4\n",
      " 285  5.4205190e+01 2.81e-05 2.15e+00  -5.1 4.52e-02    -  1.00e+00 1.00e+00H  1\n",
      " 286  5.4202608e+01 1.37e-05 1.73e+00  -5.1 7.15e-02    -  7.91e-01 5.00e-01h  2\n",
      " 287  5.4199908e+01 4.30e-05 1.47e-01  -5.1 1.97e-02    -  8.46e-01 1.00e+00h  1\n",
      " 288  5.4201004e+01 2.58e-06 3.12e-01  -5.1 3.63e-02    -  1.00e+00 1.00e+00h  1\n",
      " 289  5.4199709e+01 4.37e-06 5.74e-02  -5.1 1.67e-02    -  1.00e+00 8.67e-01h  1\n",
      "iter    objective    inf_pr   inf_du lg(mu)  ||d||  lg(rg) alpha_du alpha_pr  ls\n",
      " 290  5.4199508e+01 6.12e-07 3.34e-02  -5.1 6.21e-03    -  1.00e+00 1.00e+00f  1\n",
      " 291  5.4196551e+01 1.97e-07 5.25e-02  -5.8 3.46e-03    -  1.00e+00 1.00e+00h  1\n",
      " 292  5.4196362e+01 2.02e-07 3.66e-02  -5.8 2.26e-03    -  1.00e+00 1.00e+00h  1\n",
      " 293  5.4196821e+01 2.58e-07 4.38e-02  -5.5 2.63e-03    -  1.00e+00 1.00e+00h  1\n",
      " 294  5.4196578e+01 3.79e-07 4.33e-02  -5.6 2.42e-03    -  1.00e+00 1.00e+00h  1\n",
      " 295  5.4197453e+01 4.82e-06 1.33e-01  -5.4 5.83e-03    -  1.00e+00 1.00e+00h  1\n",
      " 296  5.4197016e+01 1.41e-06 1.52e-01  -5.5 5.92e-03    -  1.00e+00 1.00e+00h  1\n",
      " 297  5.4196898e+01 3.99e-07 1.92e-02  -5.5 4.34e-03    -  1.00e+00 1.00e+00h  1\n",
      " 298  5.4196891e+01 1.07e-08 6.97e-02  -5.5 3.12e-03    -  1.00e+00 1.00e+00h  1\n",
      " 299  5.4196886e+01 9.07e-08 1.50e-02  -5.5 1.20e-03    -  1.00e+00 1.00e+00h  1\n",
      "iter    objective    inf_pr   inf_du lg(mu)  ||d||  lg(rg) alpha_du alpha_pr  ls\n",
      " 300  5.4195823e+01 4.54e-06 1.53e-01  -6.2 5.16e-03    -  1.00e+00 9.94e-01h  1\n",
      " 301  5.4195974e+01 1.86e-07 1.46e-01  -5.9 3.48e-03    -  1.00e+00 1.00e+00h  1\n",
      " 302  5.4195622e+01 3.81e-08 4.27e-02  -6.3 2.52e-03    -  1.00e+00 1.00e+00h  1\n",
      " 303  5.4197942e+01 1.56e-06 6.57e-02  -5.3 6.14e-03    -  1.00e+00 1.00e+00h  1\n",
      " 304  5.4197378e+01 6.29e-07 3.17e-02  -5.3 6.10e-03    -  1.00e+00 1.00e+00h  1\n",
      " 305  5.4197216e+01 1.10e-07 2.99e-02  -5.3 4.20e-03    -  1.00e+00 1.00e+00h  1\n",
      " 306  5.4197191e+01 1.32e-07 3.36e-02  -5.3 1.99e-03    -  1.00e+00 1.00e+00h  1\n",
      " 307  5.4197176e+01 2.99e-06 1.77e-01  -5.3 4.65e-03    -  1.00e+00 1.00e+00h  1\n",
      " 308  5.4197166e+01 3.77e-06 2.72e-01  -5.3 2.14e-02    -  1.00e+00 1.25e-01h  4\n",
      " 309  5.4197139e+01 1.44e-05 5.89e-01  -5.3 3.47e-02    -  1.00e+00 2.50e-01h  3\n",
      "iter    objective    inf_pr   inf_du lg(mu)  ||d||  lg(rg) alpha_du alpha_pr  ls\n",
      " 310  5.4197047e+01 3.44e-05 1.10e+00  -5.3 1.77e-01    -  1.00e+00 6.91e-02h  3\n",
      " 311  5.4196958e+01 5.35e-05 1.59e+00  -5.3 3.45e-01    -  1.00e+00 3.54e-02h  3\n",
      " 312  5.4196891e+01 7.72e-05 2.12e+00  -5.3 2.03e-01    -  3.60e-01 9.27e-02h  4\n",
      " 313  5.4196799e+01 9.33e-05 2.61e+00  -5.3 8.18e-01    -  2.55e-01 1.51e-02h  5\n",
      " 314  5.4196718e+01 1.11e-04 3.08e+00  -5.3 4.44e-01    -  1.57e-01 2.87e-02h  5\n",
      " 315  5.4196666e+01 1.24e-04 3.46e+00  -5.3 3.81e-01    -  2.16e-01 4.27e-02h  4\n",
      " 316  5.4196613e+01 1.24e-04 3.57e+00  -5.3 3.36e-01    -  5.32e-01 2.43e-02h  5\n",
      " 317  5.4196517e+01 1.13e-04 3.22e+00  -5.3 8.52e-02    -  1.00e+00 1.01e-01h  4\n",
      " 318  5.4212217e+01 1.23e-03 4.00e+00  -5.3 1.30e-01    -  7.17e-01 8.62e-01w  1\n",
      " 319  5.4214103e+01 1.84e-04 5.04e+00  -5.3 1.12e-01    -  1.00e+00 1.00e+00w  1\n",
      "iter    objective    inf_pr   inf_du lg(mu)  ||d||  lg(rg) alpha_du alpha_pr  ls\n",
      " 320  5.4207956e+01 1.61e-04 3.45e+00  -5.3 9.32e-02    -  6.37e-01 1.89e-01w  1\n",
      " 321  5.4196509e+01 1.17e-04 3.13e+00  -5.3 1.20e-01    -  7.17e-01 1.08e-01h  3\n",
      " 322  5.4196487e+01 1.10e-04 2.69e+00  -5.3 8.16e-02    -  4.56e-01 8.21e-02h  4\n",
      " 323  5.4196451e+01 9.08e-05 1.07e+00  -5.3 3.89e-02    -  1.00e+00 5.00e-01h  2\n",
      " 324  5.4196255e+01 9.54e-05 8.84e-01  -5.3 1.13e-01    -  6.87e-01 1.05e-01h  3\n",
      " 325  5.4196021e+01 6.68e-05 6.35e-01  -5.3 4.98e-02    -  1.00e+00 3.48e-01h  1\n",
      " 326  5.4195927e+01 7.91e-05 7.91e-01  -5.3 5.85e-02    -  1.00e+00 3.60e-01h  2\n",
      " 327  5.4195765e+01 9.02e-05 1.16e+00  -5.3 1.81e-01    -  5.03e-01 7.08e-02h  3\n",
      " 328  5.4195623e+01 1.02e-04 1.54e+00  -5.3 2.88e-01    -  1.00e+00 4.97e-02h  4\n",
      " 329  5.4195501e+01 1.08e-04 1.72e+00  -5.3 3.26e-01    -  7.86e-01 3.44e-02h  4\n",
      "iter    objective    inf_pr   inf_du lg(mu)  ||d||  lg(rg) alpha_du alpha_pr  ls\n",
      " 330  5.4195664e+01 2.22e-04 2.38e+00  -5.1 4.57e-01    -  1.00e+00 7.32e-02h  3\n",
      " 331  5.4195566e+01 2.84e-04 2.99e+00  -5.2 1.44e+00    -  1.64e-01 1.64e-02h  5\n",
      " 332  5.4195514e+01 5.19e-04 4.21e+00  -5.2 1.95e+00    -  7.74e-02 2.31e-02h  4\n",
      " 333  5.4195425e+01 5.64e-04 4.75e+00  -5.2 4.26e+00    -  8.36e-02 4.68e-03h  5\n",
      " 334  5.4201775e+01 2.87e-03 8.18e+00  -4.3 2.97e+00    -  9.17e-01 4.83e-02h  2\n",
      " 335  5.4201812e+01 2.85e-03 8.17e+00  -4.6 1.66e+00    -  3.63e-01 6.63e-03h  7\n",
      " 336  5.4205654e+01 1.74e-04 1.04e+00  -4.6 4.33e-02    -  8.40e-01 1.00e+00h  1\n",
      " 337  5.4226480e+01 1.50e-04 1.11e+01  -4.6 8.87e-02    -  8.56e-01 1.00e+00H  1\n",
      " 338  5.4217524e+01 1.13e-04 8.46e+00  -4.6 4.85e-02    -  1.00e+00 2.12e-01h  1\n",
      " 339  5.4206779e+01 3.13e-04 2.27e+00  -4.6 5.84e-02    -  1.00e+00 7.85e-01h  1\n",
      "iter    objective    inf_pr   inf_du lg(mu)  ||d||  lg(rg) alpha_du alpha_pr  ls\n",
      " 340  5.4205884e+01 2.97e-04 1.70e+00  -4.6 1.22e-01    -  1.00e+00 6.09e-02h  4\n",
      " 341  5.4203750e+01 2.06e-05 5.73e+00  -4.6 1.45e-02    -  1.00e+00 1.00e+00h  1\n",
      " 342  5.4203181e+01 3.97e-06 1.81e+00  -4.6 1.32e-02    -  1.00e+00 1.00e+00h  1\n",
      " 343  5.4202559e+01 8.59e-06 1.62e+00  -4.6 8.58e-03    -  1.00e+00 1.00e+00h  1\n",
      " 344  5.4202739e+01 1.10e-06 1.96e+00  -4.6 8.31e-03    -  1.00e+00 1.00e+00H  1\n",
      " 345  5.4202376e+01 5.00e-06 7.59e-01  -4.6 7.02e-03    -  1.00e+00 1.00e+00h  1\n",
      " 346  5.4202287e+01 4.46e-07 3.59e-01  -4.6 5.36e-03    -  1.00e+00 1.00e+00h  1\n",
      " 347  5.4202303e+01 4.56e-07 9.74e-02  -4.6 2.29e-03    -  1.00e+00 1.00e+00h  1\n",
      " 348  5.4202330e+01 1.20e-07 5.91e-01  -4.6 5.13e-03    -  1.00e+00 1.00e+00H  1\n",
      " 349  5.4193303e+01 1.90e-05 1.11e+00  -5.5 1.23e-02    -  1.00e+00 9.41e-01h  1\n",
      "iter    objective    inf_pr   inf_du lg(mu)  ||d||  lg(rg) alpha_du alpha_pr  ls\n",
      " 350  5.4196815e+01 2.68e-06 3.20e-01  -4.8 1.34e-02    -  1.00e+00 1.00e+00h  1\n",
      " 351  5.4195775e+01 1.82e-06 1.95e-01  -4.9 1.05e-02    -  1.00e+00 1.00e+00h  1\n",
      " 352  5.4195729e+01 1.00e-06 1.59e-01  -4.9 4.68e-03    -  1.00e+00 1.00e+00h  1\n",
      " 353  5.4193561e+01 4.40e-05 1.03e+00  -5.2 1.49e-02    -  1.00e+00 9.82e-01h  1\n",
      " 354  5.4193487e+01 4.43e-05 1.53e+00  -5.2 3.00e-02    -  1.00e+00 2.50e-01h  3\n",
      " 355  5.4199383e+01 1.45e-05 1.81e+00  -4.8 1.09e-02    -  1.00e+00 9.77e-01h  1\n",
      " 356  5.4196293e+01 2.07e-05 5.58e-01  -4.9 1.11e-02    -  1.00e+00 8.41e-01h  1\n",
      " 357  5.4196047e+01 4.92e-07 9.05e-01  -4.9 1.28e-02    -  1.00e+00 1.00e+00F  1\n",
      " 358  5.4194464e+01 7.31e-07 2.02e-02  -5.1 8.34e-03    -  1.00e+00 9.94e-01h  1\n",
      " 359  5.4192458e+01 1.85e-06 9.39e-02  -5.4 3.48e-03    -  1.00e+00 1.00e+00h  1\n",
      "iter    objective    inf_pr   inf_du lg(mu)  ||d||  lg(rg) alpha_du alpha_pr  ls\n",
      " 360  5.4191307e+01 1.39e-06 1.38e-01  -5.9 4.28e-03    -  1.00e+00 1.00e+00h  1\n",
      " 361  5.4190994e+01 6.00e-07 1.49e-01  -6.1 3.91e-03    -  1.00e+00 1.00e+00h  1\n",
      " 362  5.4190942e+01 4.28e-07 6.81e-02  -6.2 3.04e-03    -  1.00e+00 1.00e+00h  1\n",
      " 363  5.4191157e+01 5.60e-07 1.03e-01  -5.9 2.73e-03    -  1.00e+00 1.00e+00h  1\n",
      " 364  5.4191030e+01 2.26e-07 9.60e-02  -6.0 1.90e-03    -  1.00e+00 1.00e+00h  1\n",
      " 365  5.4191310e+01 1.69e-06 1.11e-01  -5.7 2.82e-03    -  1.00e+00 1.00e+00h  1\n",
      " 366  5.4191205e+01 2.04e-05 5.44e-01  -5.8 1.24e-02    -  1.00e+00 6.67e-01h  1\n",
      " 367  5.4191154e+01 3.05e-05 9.88e-01  -5.8 2.31e-02    -  1.00e+00 2.50e-01h  2\n",
      " 368  5.4191091e+01 4.81e-05 1.44e+00  -5.8 3.67e-02    -  1.00e+00 1.96e-01h  2\n",
      " 369  5.4191055e+01 5.06e-05 1.66e+00  -5.8 2.44e-02    -  1.00e+00 2.16e-01h  3\n",
      "iter    objective    inf_pr   inf_du lg(mu)  ||d||  lg(rg) alpha_du alpha_pr  ls\n",
      " 370  5.4191036e+01 5.45e-05 1.71e+00  -5.8 1.59e-02    -  1.00e+00 4.92e-01h  2\n",
      " 371  5.4190980e+01 5.22e-05 1.82e+00  -5.8 2.13e-02    -  1.00e+00 1.99e-01h  2\n",
      " 372  5.4190946e+01 4.20e-05 1.59e+00  -5.8 1.05e-02    -  1.00e+00 2.37e-01h  3\n",
      " 373  5.4190878e+01 5.75e-05 1.20e+00  -5.8 1.32e-02    -  1.00e+00 7.56e-01h  1\n",
      " 374  5.4193883e+01 6.02e-05 1.66e+00  -5.1 2.66e-02    -  1.00e+00 3.32e-01f  2\n",
      " 375  5.4192771e+01 2.73e-05 5.72e-01  -5.2 8.08e-03    -  1.00e+00 7.28e-01h  1\n",
      " 376  5.4192634e+01 6.45e-07 9.27e-02  -5.2 8.66e-03    -  1.00e+00 1.00e+00f  1\n",
      " 377  5.4192525e+01 5.81e-07 1.37e-01  -5.2 4.63e-03    -  1.00e+00 1.00e+00h  1\n",
      " 378  5.4192521e+01 1.21e-06 1.07e-01  -5.2 1.61e-03    -  1.00e+00 1.00e+00h  1\n",
      " 379  5.4193722e+01 6.87e-05 1.15e+00  -5.0 4.22e-02    -  1.00e+00 3.25e-01h  2\n",
      "iter    objective    inf_pr   inf_du lg(mu)  ||d||  lg(rg) alpha_du alpha_pr  ls\n",
      " 380  5.4193568e+01 3.75e-05 1.17e+00  -5.1 1.24e-02    -  1.00e+00 4.76e-01h  1\n",
      " 381  5.4193319e+01 1.92e-05 1.87e-01  -5.1 1.12e-02    -  1.00e+00 1.00e+00f  1\n",
      " 382  5.4193878e+01 1.35e-05 5.31e-01  -5.1 1.19e-02    -  1.00e+00 1.00e+00h  1\n",
      " 383  5.4193221e+01 4.83e-05 1.62e-01  -5.1 1.50e-02    -  1.00e+00 1.00e+00h  1\n",
      " 384  5.4193733e+01 2.03e-06 1.32e+00  -5.1 1.20e-02    -  1.00e+00 1.00e+00H  1\n",
      " 385  5.4193608e+01 1.86e-06 1.21e+00  -5.1 1.61e-02    -  1.00e+00 1.25e-01h  4\n",
      " 386  5.4193161e+01 3.84e-06 1.12e-01  -5.1 8.55e-03    -  6.04e-01 1.00e+00H  1\n",
      " 387  5.4193127e+01 3.52e-06 1.32e-01  -5.1 1.91e-02    -  1.00e+00 8.93e-02h  2\n",
      " 388  5.4193084e+01 1.69e-06 3.69e-02  -5.1 3.07e-03    -  1.00e+00 1.00e+00h  1\n",
      " 389  5.4193074e+01 2.74e-06 1.55e-01  -5.1 1.06e-01    -  8.51e-01 5.56e-02h  5\n",
      "iter    objective    inf_pr   inf_du lg(mu)  ||d||  lg(rg) alpha_du alpha_pr  ls\n",
      " 390  5.4193182e+01 2.39e-06 1.32e-01  -5.1 1.05e-01    -  1.00e+00 1.25e-01h  4\n",
      " 391  5.4193091e+01 3.24e-08 4.83e-02  -5.1 8.80e-03    -  1.00e+00 1.00e+00h  1\n",
      " 392  5.4193047e+01 1.02e-08 2.91e-02  -5.1 1.98e-03    -  1.00e+00 1.00e+00h  1\n",
      " 393  5.4193035e+01 6.29e-08 1.73e-02  -5.1 1.57e-03    -  1.00e+00 1.00e+00h  1\n",
      " 394  5.4190549e+01 3.78e-06 2.33e-01  -6.0 7.30e-03    -  1.00e+00 9.91e-01h  1\n",
      " 395  5.4190981e+01 2.25e-07 9.48e-02  -5.6 7.27e-03    -  1.00e+00 1.00e+00h  1\n",
      " 396  5.4190663e+01 2.27e-08 2.49e-02  -5.7 5.56e-03    -  1.00e+00 1.00e+00h  1\n",
      " 397  5.4190001e+01 5.02e-07 2.29e-02  -6.5 2.51e-03    -  1.00e+00 1.00e+00h  1\n",
      " 398  5.4190808e+01 2.99e-06 1.90e-01  -5.7 6.88e-03    -  1.00e+00 1.00e+00h  1\n",
      " 399  5.4190442e+01 2.54e-06 3.05e-01  -5.8 7.80e-03    -  1.00e+00 1.00e+00h  1\n",
      "iter    objective    inf_pr   inf_du lg(mu)  ||d||  lg(rg) alpha_du alpha_pr  ls\n",
      " 400  5.4190486e+01 2.07e-06 2.61e-01  -5.8 1.17e-02    -  1.00e+00 5.53e-01H  1\n",
      " 401  5.4190347e+01 7.59e-07 1.01e-01  -5.8 5.06e-03    -  1.00e+00 1.00e+00f  1\n",
      " 402  5.4190298e+01 5.80e-07 6.45e-02  -5.8 4.14e-03    -  1.00e+00 1.00e+00h  1\n",
      " 403  5.4190271e+01 1.36e-06 1.01e-01  -5.8 4.03e-03    -  1.00e+00 1.00e+00h  1\n",
      " 404  5.4190228e+01 2.49e-06 1.79e-01  -5.8 1.66e-02    -  1.00e+00 2.50e-01h  3\n",
      " 405  5.4190187e+01 5.23e-06 2.84e-01  -5.9 2.45e-02    -  1.00e+00 2.50e-01h  3\n",
      " 406  5.4190159e+01 9.22e-06 4.11e-01  -6.0 6.34e-02    -  1.00e+00 1.12e-01h  3\n",
      " 407  5.4190096e+01 1.56e-05 5.19e-01  -6.0 4.58e-02    -  1.00e+00 2.05e-01h  3\n",
      " 408  5.4190066e+01 4.09e-05 7.52e-01  -6.0 1.23e-01    -  1.00e+00 1.39e-01h  2\n",
      " 409  5.4190020e+01 4.13e-05 8.13e-01  -6.0 1.31e-01    -  2.96e-01 3.51e-02h  2\n",
      "iter    objective    inf_pr   inf_du lg(mu)  ||d||  lg(rg) alpha_du alpha_pr  ls\n",
      " 410  5.4189944e+01 6.65e-05 1.00e+00  -6.0 8.60e-02    -  1.00e+00 2.34e-01h  2\n",
      " 411  5.4197419e+01 6.12e-05 1.03e+00  -4.7 1.66e-01    -  3.62e-01 1.46e-01h  2\n",
      " 412  5.4191848e+01 1.73e-05 4.10e-01  -5.3 3.76e-02    -  1.00e+00 8.00e-01h  1\n",
      " 413  5.4191480e+01 2.34e-06 3.06e-02  -5.3 6.46e-03    -  1.00e+00 1.00e+00h  1\n",
      " 414  5.4191368e+01 1.03e-05 1.42e-01  -5.3 1.07e-02    -  1.00e+00 1.00e+00h  1\n",
      " 415  5.4191383e+01 1.14e-05 1.77e-01  -5.3 3.25e-02    -  1.00e+00 1.60e-01h  3\n",
      " 416  5.4192699e+01 4.24e-06 4.05e-01  -5.3 2.27e-02    -  1.00e+00 9.42e-01H  1\n",
      " 417  5.4192397e+01 3.75e-06 4.06e-01  -5.3 1.90e-02    -  1.00e+00 1.25e-01h  4\n",
      " 418  5.4191498e+01 1.82e-06 1.64e-01  -5.3 1.24e-02    -  1.00e+00 6.46e-01H  1\n",
      " 419  5.4191320e+01 2.22e-06 3.61e-02  -5.3 7.34e-03    -  1.00e+00 1.00e+00f  1\n",
      "iter    objective    inf_pr   inf_du lg(mu)  ||d||  lg(rg) alpha_du alpha_pr  ls\n",
      " 420  5.4191236e+01 5.67e-07 2.08e-02  -5.3 3.75e-03    -  1.00e+00 1.00e+00h  1\n",
      " 421  5.4191254e+01 8.13e-07 4.20e-02  -5.3 4.33e-03    -  1.00e+00 1.00e+00h  1\n",
      " 422  5.4191414e+01 3.75e-07 1.04e-01  -5.3 7.37e-03    -  1.00e+00 1.00e+00H  1\n",
      " 423  5.4189792e+01 1.91e-06 8.54e-02  -5.9 1.12e-02    -  1.00e+00 9.98e-01h  1\n",
      " 424  5.4189920e+01 1.26e-07 1.74e-02  -5.6 6.58e-03    -  1.00e+00 1.00e+00h  1\n",
      " 425  5.4189843e+01 1.31e-07 1.01e-02  -5.6 2.71e-03    -  1.00e+00 1.00e+00h  1\n",
      " 426  5.4189028e+01 6.01e-07 2.15e-02  -6.5 2.36e-03    -  1.00e+00 1.00e+00h  1\n",
      " 427  5.4189122e+01 1.37e-06 4.04e-02  -6.1 3.67e-03    -  1.00e+00 1.00e+00h  1\n",
      " 428  5.4191163e+01 2.68e-06 1.16e-01  -5.4 9.47e-03    -  1.00e+00 1.00e+00h  1\n",
      " 429  5.4190330e+01 1.24e-06 5.75e-02  -5.5 1.20e-02    -  1.00e+00 7.00e-01h  1\n",
      "iter    objective    inf_pr   inf_du lg(mu)  ||d||  lg(rg) alpha_du alpha_pr  ls\n",
      " 430  5.4190101e+01 1.95e-07 2.14e-02  -5.5 4.58e-03    -  1.00e+00 1.00e+00h  1\n",
      " 431  5.4190052e+01 7.94e-08 1.42e-02  -5.5 2.31e-03    -  1.00e+00 1.00e+00h  1\n",
      " 432  5.4189163e+01 1.78e-06 3.20e-02  -6.1 4.56e-03    -  1.00e+00 1.00e+00h  1\n",
      " 433  5.4189216e+01 1.25e-07 8.43e-02  -6.2 5.41e-03    -  1.00e+00 1.00e+00H  1\n",
      " 434  5.4189014e+01 2.93e-08 5.80e-02  -6.2 5.36e-03    -  1.00e+00 8.55e-01h  1\n",
      " 435  5.4189200e+01 3.89e-08 7.78e-03  -5.9 3.61e-03    -  1.00e+00 1.00e+00f  1\n",
      " 436  5.4188790e+01 3.84e-07 1.03e-02  -6.8 2.14e-03    -  1.00e+00 1.00e+00h  1\n",
      " 437  5.4189351e+01 4.31e-06 1.18e-01  -6.0 8.85e-03    -  1.00e+00 1.00e+00h  1\n",
      " 438  5.4189088e+01 2.18e-06 1.33e-01  -6.1 8.89e-03    -  1.00e+00 5.51e-01h  1\n",
      " 439  5.4188993e+01 1.32e-06 8.60e-02  -6.1 5.97e-03    -  1.00e+00 5.07e-01h  1\n",
      "iter    objective    inf_pr   inf_du lg(mu)  ||d||  lg(rg) alpha_du alpha_pr  ls\n",
      " 440  5.4188923e+01 3.23e-06 7.98e-02  -6.1 5.97e-03    -  1.00e+00 1.00e+00f  1\n",
      " 441  5.4190341e+01 8.61e-06 2.30e-01  -5.3 5.66e-02    -  1.00e+00 1.84e-01h  2\n",
      " 442  5.4190023e+01 4.06e-06 1.34e-01  -5.5 7.33e-03    -  1.00e+00 6.51e-01h  1\n",
      " 443  5.4190005e+01 1.97e-07 3.33e-02  -5.5 6.04e-03    -  1.00e+00 1.00e+00h  1\n",
      " 444  5.4189920e+01 1.50e-07 3.03e-02  -5.5 3.73e-03    -  1.00e+00 1.00e+00h  1\n",
      " 445  5.4189927e+01 8.59e-07 5.32e-02  -5.5 3.05e-03    -  1.00e+00 1.00e+00h  1\n",
      " 446  5.4196768e+01 4.21e-05 4.01e-01  -4.7 1.39e-01    -  5.83e-01 2.34e-01h  1\n",
      " 447  5.4194743e+01 3.04e-05 3.37e-01  -5.1 3.28e-02    -  1.00e+00 2.86e-01h  1\n",
      " 448  5.4192289e+01 2.52e-06 3.72e-02  -5.1 1.70e-02    -  1.00e+00 1.00e+00h  1\n",
      " 449  5.4192179e+01 4.89e-06 9.86e-02  -5.1 7.28e-03    -  1.00e+00 1.00e+00h  1\n",
      "iter    objective    inf_pr   inf_du lg(mu)  ||d||  lg(rg) alpha_du alpha_pr  ls\n",
      " 450  5.4192225e+01 6.11e-06 1.65e-01  -5.1 3.91e-02    -  5.78e-01 1.25e-01h  4\n",
      " 451  5.4192173e+01 2.44e-05 3.39e-01  -5.1 1.55e-02    -  1.00e+00 1.00e+00h  1\n",
      " 452  5.4192172e+01 2.47e-05 3.73e-01  -5.1 1.86e-01    -  3.51e-01 1.97e-02h  5\n",
      " 453  5.4192157e+01 2.73e-05 4.39e-01  -5.1 3.73e-02    -  1.00e+00 2.45e-01h  3\n",
      " 454  5.4192125e+01 2.52e-05 4.38e-01  -5.1 2.85e-02    -  1.00e+00 1.25e-01h  4\n",
      " 455  5.4192142e+01 4.10e-05 5.11e-01  -5.1 4.07e-02    -  1.00e+00 3.83e-01h  2\n",
      " 456  5.4192110e+01 4.22e-05 5.61e-01  -5.1 1.57e-01    -  2.45e-01 2.90e-02h  5\n",
      " 457  5.4192101e+01 4.50e-05 6.13e-01  -5.1 1.40e-01    -  1.00e+00 4.61e-02h  5\n",
      " 458  5.4192073e+01 4.79e-05 6.81e-01  -5.1 7.77e-02    -  4.27e-01 1.07e-01h  4\n",
      " 459  5.4192050e+01 5.30e-05 7.71e-01  -5.1 2.46e-01    -  8.32e-01 3.22e-02h  5\n",
      "iter    objective    inf_pr   inf_du lg(mu)  ||d||  lg(rg) alpha_du alpha_pr  ls\n",
      " 460  5.4192055e+01 5.78e-05 8.54e-01  -5.1 2.73e-01    -  1.68e-01 2.83e-02h  5\n",
      " 461  5.4192030e+01 7.28e-05 9.60e-01  -5.1 1.30e-01    -  1.00e+00 1.10e-01h  4\n",
      " 462  5.4281266e+01 3.77e-03 2.91e+00  -5.1 3.71e-01    -  1.68e-01 5.28e-01w  1\n",
      " 463  5.4262400e+01 3.32e-03 2.57e+00  -5.1 1.87e-01    -  1.00e+00 1.21e-01w  1\n",
      " 464  5.4247047e+01 2.82e-03 2.04e+00  -5.1 1.06e-01    -  4.66e-01 1.63e-01w  1\n",
      " 465  5.4192051e+01 7.37e-05 1.02e+00  -5.1 2.93e-01    -  1.68e-01 1.65e-02h  5\n",
      " 466  5.4192045e+01 8.52e-05 1.09e+00  -5.1 1.57e-01    -  1.00e+00 9.09e-02h  4\n",
      " 467  5.4192021e+01 8.39e-05 1.10e+00  -5.1 1.34e-01    -  5.23e-01 2.62e-02h  6\n",
      " 468  5.4192024e+01 7.87e-05 1.04e+00  -5.1 6.88e-02    -  1.00e+00 1.25e-01h  4\n",
      " 469  5.4191933e+01 9.96e-06 7.98e-01  -5.1 6.59e-02    -  8.75e-01 1.00e+00H  1\n",
      "iter    objective    inf_pr   inf_du lg(mu)  ||d||  lg(rg) alpha_du alpha_pr  ls\n",
      " 470  5.4191927e+01 1.07e-05 8.59e-01  -5.1 2.75e-01    -  3.17e-01 1.21e-02h  5\n",
      " 471  5.4191823e+01 7.99e-06 7.41e-01  -5.1 1.38e-02    -  1.00e+00 2.50e-01h  3\n",
      " 472  5.4191710e+01 1.40e-05 6.96e-02  -5.1 1.11e-02    -  1.00e+00 1.00e+00h  1\n",
      " 473  5.4191698e+01 1.40e-05 2.59e-01  -5.1 5.99e-02    -  7.61e-01 8.26e-02h  4\n",
      " 474  5.4191591e+01 1.35e-05 1.32e-01  -5.1 1.17e-02    -  1.00e+00 1.00e+00h  1\n",
      " 475  5.4191573e+01 1.31e-05 1.36e-01  -5.1 6.14e-02    -  1.00e+00 3.31e-02h  5\n",
      " 476  5.4191570e+01 1.33e-06 3.38e-01  -5.1 4.78e-03    -  1.00e+00 1.00e+00h  1\n",
      " 477  5.4191895e+01 3.16e-07 3.29e-01  -5.1 1.09e-02    -  1.00e+00 1.00e+00H  1\n",
      " 478  5.4191546e+01 8.37e-08 4.13e-01  -5.1 7.82e-03    -  1.00e+00 1.00e+00H  1\n",
      " 479  5.4189285e+01 2.19e-06 2.90e-01  -5.5 5.71e-03    -  1.00e+00 9.92e-01h  1\n",
      "iter    objective    inf_pr   inf_du lg(mu)  ||d||  lg(rg) alpha_du alpha_pr  ls\n",
      " 480  5.4188891e+01 1.96e-06 1.82e-01  -5.6 8.22e-03    -  1.00e+00 1.00e+00h  1\n",
      " 481  5.4188944e+01 1.07e-06 1.44e-01  -5.6 5.56e-03    -  1.00e+00 1.00e+00h  1\n",
      " 482  5.4188837e+01 9.02e-08 6.24e-02  -5.6 6.41e-03    -  1.00e+00 1.00e+00h  1\n",
      " 483  5.4188798e+01 8.01e-08 2.72e-02  -5.6 2.25e-03    -  1.00e+00 1.00e+00h  1\n",
      " 484  5.4188773e+01 1.41e-07 4.93e-02  -5.6 2.04e-03    -  1.00e+00 1.00e+00h  1\n",
      " 485  5.4188050e+01 2.69e-06 1.69e-01  -6.2 5.27e-03    -  1.00e+00 9.90e-01h  1\n",
      " 486  5.4188178e+01 2.93e-06 1.53e-01  -5.9 5.66e-03    -  1.00e+00 1.00e+00h  1\n",
      " 487  5.4188181e+01 4.03e-06 3.54e-01  -6.0 1.47e-02    -  6.83e-01 5.57e-01H  1\n",
      " 488  5.4188784e+01 2.69e-06 3.15e-01  -5.4 8.68e-03    -  1.00e+00 4.23e-01h  1\n",
      " 489  5.4188831e+01 1.27e-07 6.73e-02  -5.5 2.72e-03    -  1.00e+00 1.00e+00h  1\n",
      "iter    objective    inf_pr   inf_du lg(mu)  ||d||  lg(rg) alpha_du alpha_pr  ls\n",
      " 490  5.4188803e+01 7.46e-08 2.06e-02  -5.5 9.37e-04    -  1.00e+00 1.00e+00h  1\n",
      " 491  5.4188773e+01 4.94e-07 7.72e-02  -5.5 2.16e-03    -  1.00e+00 1.00e+00h  1\n",
      " 492  5.4188763e+01 2.02e-06 2.21e-01  -5.5 2.93e-02    -  4.66e-01 1.21e-01h  3\n",
      " 493  5.4188556e+01 1.15e-05 1.22e+00  -6.0 2.95e-02    -  1.00e+00 2.93e-01h  2\n",
      " 494  5.4188415e+01 2.44e-05 1.20e+00  -5.9 3.12e-02    -  1.00e+00 3.63e-01h  2\n",
      " 495  5.4188336e+01 2.41e-05 1.20e+00  -5.9 3.58e-02    -  1.00e+00 1.13e-01h  4\n",
      " 496  5.4188237e+01 2.20e-05 1.23e+00  -5.9 2.33e-02    -  1.00e+00 1.76e-01h  3\n",
      " 497  5.4188401e+01 3.73e-07 3.77e-01  -5.9 9.57e-03    -  9.79e-01 1.00e+00H  1\n",
      " 498  5.4188049e+01 8.26e-07 1.96e-01  -5.9 1.19e-02    -  1.00e+00 4.45e-01h  1\n",
      " 499  5.4191403e+01 1.76e-05 5.01e-01  -5.2 1.41e-02    -  1.00e+00 1.00e+00f  1\n",
      "iter    objective    inf_pr   inf_du lg(mu)  ||d||  lg(rg) alpha_du alpha_pr  ls\n",
      " 500  5.4189952e+01 1.41e-06 8.73e-02  -5.3 1.19e-02    -  1.00e+00 1.00e+00h  1\n",
      "\n",
      "Number of Iterations....: 500\n",
      "\n",
      "                                   (scaled)                 (unscaled)\n",
      "Objective...............:   5.4189951899667854e+01    5.4189951899667854e+01\n",
      "Dual infeasibility......:   8.7286336081132010e-02    8.7286336081132010e-02\n",
      "Constraint violation....:   9.6329817811380281e-07    1.4113342272636942e-06\n",
      "Complementarity.........:   1.0610305755070761e-05    1.0610305755070761e-05\n",
      "Overall NLP error.......:   8.7286336081132010e-02    8.7286336081132010e-02\n",
      "\n",
      "\n",
      "Number of objective function evaluations             = 1190\n",
      "Number of objective gradient evaluations             = 499\n",
      "Number of equality constraint evaluations            = 1190\n",
      "Number of inequality constraint evaluations          = 1190\n",
      "Number of equality constraint Jacobian evaluations   = 503\n",
      "Number of inequality constraint Jacobian evaluations = 503\n",
      "Number of Lagrangian Hessian evaluations             = 0\n",
      "Total CPU secs in IPOPT (w/o function evaluations)   =     31.106\n",
      "Total CPU secs in NLP function evaluations           =   3084.224\n",
      "\n",
      "EXIT: Maximum Number of Iterations Exceeded.\n",
      "5611.054256 seconds (15.86 G allocations: 6.553 TiB, 23.50% gc time, 0.02% compilation time)\n"
     ]
    },
    {
     "data": {
      "text/plain": [
       "([0.1983414806464637, -7.342607912976337e-34, -0.1983414806464637, 2.744450170751811e-33, 15.556684458046954, -6.548161810916602e-33, 0.0016841427810664188, -0.055110186570454835, -0.010005850381679896, 0.013559927938812551  …  0.0010195251693599387, -0.0004599936259518968, -0.0032972568324159952, 0.0010095701388206865, -1.4622356614577443, 0.9047412531472073, 5.067603166168914e-33, -2.5211572368849415, -4.074674396786469, -7.210200229299714e-32], MathOptInterface.ITERATION_LIMIT)"
      ]
     },
     "execution_count": 74,
     "metadata": {},
     "output_type": "execute_result"
    }
   ],
   "source": [
    "@time z_sol, status = solve(z, prob) # solve"
   ]
  },
  {
   "cell_type": "code",
   "execution_count": 45,
   "metadata": {
    "scrolled": false
   },
   "outputs": [
    {
     "name": "stdout",
     "output_type": "stream",
     "text": [
      "17.36765724731271This is Ipopt version 3.13.4, running with linear solver mumps.\n",
      "NOTE: Other linear solvers might be more efficient (see Ipopt documentation).\n",
      "\n",
      "Number of nonzeros in equality constraint Jacobian...:   479924\n",
      "Number of nonzeros in inequality constraint Jacobian.:    19996\n",
      "Number of nonzeros in Lagrangian Hessian.............:        0\n",
      "\n",
      "Total number of variables............................:    49996\n",
      "                     variables with only lower bounds:        0\n",
      "                variables with lower and upper bounds:        0\n",
      "                     variables with only upper bounds:        0\n",
      "Total number of equality constraints.................:    30005\n",
      "Total number of inequality constraints...............:     9998\n",
      "        inequality constraints with only lower bounds:        0\n",
      "   inequality constraints with lower and upper bounds:     9998\n",
      "        inequality constraints with only upper bounds:        0\n",
      "\n",
      "iter    objective    inf_pr   inf_du lg(mu)  ||d||  lg(rg) alpha_du alpha_pr  ls\n",
      "   0  2.6695383e+03 4.95e+00 3.57e+00   0.0 0.00e+00    -  0.00e+00 0.00e+00   0\n",
      "   1  2.5726824e+03 4.67e+00 2.51e+02  -1.0 9.91e+00    -  3.88e-04 3.79e-02F  1\n",
      "   2  2.5586950e+03 4.63e+00 7.27e+02  -0.1 1.07e+01    -  7.78e-02 8.33e-03f  1\n",
      "   3  2.5400419e+03 4.59e+00 1.56e+03   1.1 3.68e+01    -  9.81e-02 7.80e-03f  1\n",
      "   4  2.5051273e+03 4.45e+00 1.05e+04   1.0 1.49e+01    -  6.91e-01 3.27e-02f  1\n",
      "   5  2.5684025e+03 4.21e+00 2.01e+04   2.0 1.72e+01    -  5.18e-01 5.57e-02f  1\n",
      "   6  7.2047256e+03 8.14e+00 5.73e+04   1.6 1.56e+01    -  5.13e-01 1.00e+00f  1\n",
      "   7  8.9237758e+03 4.42e+00 2.18e+04   1.6 7.88e+00    -  1.00e+00 6.89e-01f  1\n",
      "   8  1.8123107e+04 9.89e+00 5.27e+04   1.6 1.10e+01    -  1.00e+00 1.00e+00f  1\n",
      "   9  1.2284483e+04 6.13e+00 6.28e+04   1.6 5.47e+00    -  1.00e+00 1.00e+00f  1\n",
      "iter    objective    inf_pr   inf_du lg(mu)  ||d||  lg(rg) alpha_du alpha_pr  ls\n",
      "  10  9.5729618e+03 4.92e+00 5.68e+03   1.6 7.35e+00    -  1.00e+00 1.00e+00f  1\n",
      "  11  7.2007072e+03 9.82e+00 2.99e+03   1.6 7.08e+00    -  1.00e+00 1.00e+00f  1\n",
      "  12  6.0235246e+03 8.95e+00 3.12e+03   1.6 1.34e+01    -  1.00e+00 1.00e+00f  1\n",
      "  13  4.9105090e+03 8.17e+00 1.03e+03   1.6 9.54e+00    -  1.00e+00 1.00e+00f  1\n"
     ]
    },
    {
     "ename": "LoadError",
     "evalue": "InterruptException:",
     "output_type": "error",
     "traceback": [
      "InterruptException:",
      "",
      "Stacktrace:",
      "  [1] Array",
      "    @ ./boot.jl:448 [inlined]",
      "  [2] Array",
      "    @ ./boot.jl:457 [inlined]",
      "  [3] Array",
      "    @ ./boot.jl:465 [inlined]",
      "  [4] similar",
      "    @ ./abstractarray.jl:785 [inlined]",
      "  [5] similar",
      "    @ ./abstractarray.jl:784 [inlined]",
      "  [6] similar",
      "    @ ./broadcast.jl:197 [inlined]",
      "  [7] similar",
      "    @ ./broadcast.jl:196 [inlined]",
      "  [8] copy",
      "    @ ./broadcast.jl:908 [inlined]",
      "  [9] materialize",
      "    @ ./broadcast.jl:883 [inlined]",
      " [10] broadcast_preserving_zero_d",
      "    @ ./broadcast.jl:872 [inlined]",
      " [11] +(A::Vector{ForwardDiff.Dual{ForwardDiff.Tag{var\"#3#6\"{ProblemMOI}, Float64}, Float64, 12}}, Bs::Vector{ForwardDiff.Dual{ForwardDiff.Tag{var\"#3#6\"{ProblemMOI}, Float64}, Float64, 12}})",
      "    @ Base ./arraymath.jl:47",
      " [12] dynamics_rk8(x::Vector{ForwardDiff.Dual{ForwardDiff.Tag{var\"#3#6\"{ProblemMOI}, Float64}, Float64, 12}}, u::Vector{ForwardDiff.Dual{ForwardDiff.Tag{var\"#3#6\"{ProblemMOI}, Float64}, Float64, 12}}, h::ForwardDiff.Dual{ForwardDiff.Tag{var\"#3#6\"{ProblemMOI}, Float64}, Float64, 12})",
      "    @ Main ./In[10]:10",
      " [13] dynamics_constraints!(nlp::ProblemMOI, c::Vector{ForwardDiff.Dual{ForwardDiff.Tag{var\"#3#6\"{ProblemMOI}, Float64}, Float64, 12}}, ztraj::Vector{ForwardDiff.Dual{ForwardDiff.Tag{var\"#3#6\"{ProblemMOI}, Float64}, Float64, 12}})",
      "    @ Main ./In[18]:19",
      " [14] (::var\"#3#6\"{ProblemMOI})(x::Vector{ForwardDiff.Dual{ForwardDiff.Tag{var\"#3#6\"{ProblemMOI}, Float64}, Float64, 12}})",
      "    @ Main ./In[23]:7",
      " [15] chunk_mode_jacobian(f::var\"#3#6\"{ProblemMOI}, x::Vector{Float64}, cfg::ForwardDiff.JacobianConfig{ForwardDiff.Tag{var\"#3#6\"{ProblemMOI}, Float64}, Float64, 12, Vector{ForwardDiff.Dual{ForwardDiff.Tag{var\"#3#6\"{ProblemMOI}, Float64}, Float64, 12}}})",
      "    @ ForwardDiff ~/.julia/packages/ForwardDiff/QOqCN/src/jacobian.jl:234",
      " [16] jacobian(f::Function, x::Vector{Float64}, cfg::ForwardDiff.JacobianConfig{ForwardDiff.Tag{var\"#3#6\"{ProblemMOI}, Float64}, Float64, 12, Vector{ForwardDiff.Dual{ForwardDiff.Tag{var\"#3#6\"{ProblemMOI}, Float64}, Float64, 12}}}, ::Val{true})",
      "    @ ForwardDiff ~/.julia/packages/ForwardDiff/QOqCN/src/jacobian.jl:23",
      " [17] jacobian(f::Function, x::Vector{Float64}, cfg::ForwardDiff.JacobianConfig{ForwardDiff.Tag{var\"#3#6\"{ProblemMOI}, Float64}, Float64, 12, Vector{ForwardDiff.Dual{ForwardDiff.Tag{var\"#3#6\"{ProblemMOI}, Float64}, Float64, 12}}}) (repeats 2 times)",
      "    @ ForwardDiff ~/.julia/packages/ForwardDiff/QOqCN/src/jacobian.jl:19",
      " [18] dynamics_constraint_jacobian!(nlp::ProblemMOI, jac::SubArray{Float64, 1, Vector{Float64}, Tuple{UnitRange{Int64}}, true}, Z::Vector{Float64})",
      "    @ Main ./In[23]:7",
      " [19] jac_c!(nlp::ProblemMOI, jac::SubArray{Float64, 1, Vector{Float64}, Tuple{UnitRange{Int64}}, true}, Z::Vector{Float64})",
      "    @ Main ./In[26]:32",
      " [20] eval_constraint_jacobian(prob::ProblemMOI, jac::SubArray{Float64, 1, Vector{Float64}, Tuple{UnitRange{Int64}}, true}, x::Vector{Float64})",
      "    @ Main ./In[38]:233",
      " [21] eval_constraint_jacobian(model::Ipopt.Optimizer, values::Vector{Float64}, x::Vector{Float64})",
      "    @ Ipopt ~/.julia/packages/Ipopt/P1XLY/src/MOI_wrapper.jl:1175",
      " [22] (::Ipopt.var\"#eval_jac_g_cb#49\"{Ipopt.Optimizer, Vector{Tuple{Int64, Int64}}})(x::Vector{Float64}, mode::Symbol, rows::Vector{Int32}, cols::Vector{Int32}, values::Vector{Float64})",
      "    @ Ipopt ~/.julia/packages/Ipopt/P1XLY/src/MOI_wrapper.jl:1315",
      " [23] eval_jac_g_wrapper(n::Int32, x_ptr::Ptr{Float64}, new_x::Int32, m::Int32, nele_jac::Int32, iRow::Ptr{Int32}, jCol::Ptr{Int32}, values_ptr::Ptr{Float64}, user_data::Ptr{Nothing})",
      "    @ Ipopt ~/.julia/packages/Ipopt/P1XLY/src/Ipopt.jl:238",
      " [24] solveProblem(prob::IpoptProblem)",
      "    @ Ipopt ~/.julia/packages/Ipopt/P1XLY/src/Ipopt.jl:513",
      " [25] optimize!(model::Ipopt.Optimizer)",
      "    @ Ipopt ~/.julia/packages/Ipopt/P1XLY/src/MOI_wrapper.jl:1441",
      " [26] solve(x0::Matrix{Float64}, prob::ProblemMOI; tol::Float64, c_tol::Float64, max_iter::Int64)",
      "    @ Main ./In[38]:272",
      " [27] solve(x0::Matrix{Float64}, prob::ProblemMOI)",
      "    @ Main ./In[38]:249",
      " [28] top-level scope",
      "    @ ./In[45]:3",
      " [29] eval",
      "    @ ./boot.jl:360 [inlined]",
      " [30] include_string(mapexpr::typeof(REPL.softscope), mod::Module, code::String, filename::String)",
      "    @ Base ./loading.jl:1094"
     ]
    }
   ],
   "source": [
    "for orbits=1\n",
    "    z = n_orbits_ref_traj(transfer_orbit, 100*orbits)\n",
    "    z_sol, status = solve(z, prob) # solve\n",
    "    filename = \"/home/aipex/Mitch/16-745_final_project/reference_OOP2IP_$(orbits)00.jld\"\n",
    "    save(filename, \"ref_traj\", z, \"opt_traj\", z_sol, \"status\", status)\n",
    "end"
   ]
  },
  {
   "cell_type": "code",
   "execution_count": null,
   "metadata": {
    "scrolled": true
   },
   "outputs": [],
   "source": []
  },
  {
   "cell_type": "code",
   "execution_count": null,
   "metadata": {
    "scrolled": true
   },
   "outputs": [],
   "source": [
    "Xsol, Usol = unpackZ(knots, z_sol)\n",
    "plot3d_orbit(Xsol, \"Locally Optimal\")\n",
    "X, U = unpackZ(knots, z)\n",
    "plot3d!(X[1, :], X[2, :], X[3,:], label = \"Reference\", lw = 2, color=\"red\")\n"
   ]
  },
  {
   "cell_type": "code",
   "execution_count": null,
   "metadata": {
    "scrolled": false
   },
   "outputs": [],
   "source": [
    "knots_final = 10000\n",
    "Xfinal = zeros((Nx, knots_final))\n",
    "Xfinal[:, 1] .= Xsol[:,end]\n",
    "for k = 1:knots_final-1\n",
    "    Xfinal[:, k+1] = dynamics_rk8(Xfinal[:, k], zeros(3), 1e-2)\n",
    "end\n",
    "Plots.display(plot!(Xfinal[1,:], Xfinal[2,:], Xfinal[3,:], label=\"Final Orbit\", color=\"gold\"))"
   ]
  },
  {
   "cell_type": "code",
   "execution_count": null,
   "metadata": {
    "scrolled": true
   },
   "outputs": [],
   "source": [
    "for i=2:5\n",
    "    println(\"#### STARTING Ref traj $(i) ####\")\n",
    "    flush(stdout)\n",
    "    \n",
    "end\n",
    "    "
   ]
  },
  {
   "cell_type": "code",
   "execution_count": null,
   "metadata": {
    "scrolled": false
   },
   "outputs": [],
   "source": [
    "function evaluate_traj(filename, num_orbits)    \n",
    "    out = load(filename)\n",
    "    z_ref = out[\"ref_traj\"]\n",
    "    z_sol = out[\"opt_traj\"]\n",
    "    status = out[\"status\"]\n",
    "\n",
    "    Xsol,Usol = unpackZ(knots, z_sol)\n",
    "    X, U = unpackZ(knots, z_ref)\n",
    "    plot(Xsol[1, :], Xsol[2, :], aspect_ratio=:equal, lims=(-semiMajorAxis_goal*3,semiMajorAxis_goal*3), label=\"Solution\", lw=2)\n",
    "    xlabel!(\"Orbital Units\")\n",
    "    ylabel!(\"Orbital Units\")\n",
    "\n",
    "    plot!([goal_orbit.x0[1]], [goal_orbit.x0[2]], markershape=:xcross, markersize=5, label=\"Goal State\")\n",
    "\n",
    "    plot!([0], [0], lw=1, markershape=:o, label=\"Planet Earth\")\n",
    "\n",
    "    plot!(X[1, :], X[2, :], title = \"$(status): $(num_orbits) orbit reference Tmax=10\", label = \"Reference\", lw = 3)\n",
    "    flush(stdout)\n",
    "    \n",
    "    knots_final = 10000\n",
    "    Xfinal = zeros((Nx, knots_final))\n",
    "    Xfinal[:, 1] .= Xsol[:,end]\n",
    "    for k = 1:knots_final-1\n",
    "        Xfinal[:, k+1] = dynamics_rk8(Xfinal[:, k], zeros(3), 1e-2)\n",
    "    end\n",
    "    Plots.display(plot!(Xfinal[1,:], Xfinal[2,:], label=\"Final Orbit\" ))\n",
    "    \n",
    "    return sum(Usol[4, :])\n",
    "end\n",
    "\n",
    "for num_orbits=1:5\n",
    "# num_orbits = 1\n",
    "    filename = \"/home/aipex/Mitch/16-745_final_project/reference_$(num_orbits).jld\"\n",
    "\n",
    "    final_time = evaluate_traj(filename, num_orbits)\n",
    "#     display(final_time)\n",
    "end"
   ]
  },
  {
   "cell_type": "code",
   "execution_count": null,
   "metadata": {
    "scrolled": false
   },
   "outputs": [],
   "source": [
    "    \n",
    "for i=1:5\n",
    "    filename = \"/home/aipex/Mitch/16-745_final_project/reference_$(i).jld\"\n",
    "\n",
    "    out = load(filename)\n",
    "    z_ref = out[\"ref_traj\"]\n",
    "    z_sol = out[\"opt_traj\"]\n",
    "    status = out[\"status\"]\n",
    "\n",
    "    Xsol,Usol = unpackZ(knots, z_sol)\n",
    "    time = [0.0]\n",
    "    for k = 2:knots\n",
    "        push!(time, time[k-1]+Usol[4,k-1])\n",
    "    end\n",
    "    print(sum(Usol[4,:]))\n",
    "    if i == 1\n",
    "        plot(time[1:knots-1], [norm(Usol[1:3, k]) for k=1:knots-1], \n",
    "            label=\"Umag $(i)\", \n",
    "            xlabel=\"Time [Transfer Orbit Periods]\", \n",
    "            ylabel=\"Thrust Mag\", \n",
    "            title=\"Thrust Mag vs. Time: Reference orbits $(i)\")\n",
    "    elseif i == 5\n",
    "        Plots.display(plot!(time[1:knots-1], [norm(Usol[1:3, k]) for k=1:knots-1], \n",
    "            label=\"Umag $(i)\"))\n",
    "    else\n",
    "        plot!(time[1:knots-1], [norm(Usol[1:3, k]) for k=1:knots-1], \n",
    "            label=\"Umag $(i)\")\n",
    "    end\n",
    "    \n",
    "end\n",
    "\n",
    "# for k=2:knots-2\n",
    "#     Plots.display(plot!([k], [norm(Usol[1:3, k])], label=\"Ux\"))\n",
    "# end\n",
    "\n",
    "# plot!(1:knots-1, Usol[2, :], label=\"Uy\")\n",
    "# plot!(1:knots-1, Usol[3, :], label=\"Uz\")"
   ]
  },
  {
   "cell_type": "code",
   "execution_count": null,
   "metadata": {
    "scrolled": true
   },
   "outputs": [],
   "source": [
    "Xsol,Usol = unpackZ(knots, z_sol)\n",
    "plot(Xsol[1, :], Xsol[2, :], aspect_ratio=:equal, lims=(-semiMajorAxis_goal*3,semiMajorAxis_goal*3), label=\"Solution\", lw=2)\n",
    "xlabel!(\"Orbital Units\")\n",
    "ylabel!(\"Orbital Units\")\n",
    "plot!([goal_orbit.x0[1]], [goal_orbit.x0[2]], markershape=:xcross, markersize=5, label=\"Goal State\")\n",
    "plot!([0], [0], lw=1, markershape=:o, label=\"Planet Earth\")\n",
    "plot!(X[1, :], X[2, :], title = \"Optimal Solution Tmax=10\", label = \"Reference\", lw = 3)\n",
    "sum(Usol[4,:])"
   ]
  },
  {
   "cell_type": "code",
   "execution_count": null,
   "metadata": {
    "scrolled": true
   },
   "outputs": [],
   "source": [
    "knots_final = 10000\n",
    "Xfinal = zeros((Nx, knots_final))\n",
    "Xfinal[:, 1] .= Xsol[:,end]\n",
    "for k = 1:knots_final-1\n",
    "    Xfinal[:, k+1] = dynamics_rk8(Xfinal[:, k], zeros(3), 1e-2)\n",
    "end\n",
    "plot!(Xfinal[1,:], Xfinal[2,:], )"
   ]
  },
  {
   "cell_type": "code",
   "execution_count": null,
   "metadata": {
    "scrolled": true
   },
   "outputs": [],
   "source": [
    "plot(1:knots-1, Usol[1, :], label=\"Ux\")\n",
    "plot!(1:knots-1, Usol[2, :], label=\"Uy\")\n",
    "plot!(1:knots-1, Usol[3, :], label=\"Uz\")"
   ]
  },
  {
   "cell_type": "code",
   "execution_count": null,
   "metadata": {
    "scrolled": true
   },
   "outputs": [],
   "source": [
    "using Plots\n",
    "# define the Lorenz attractor\n",
    "Base.@kwdef mutable struct Trajectory\n",
    "#     dt::Float64 = 0.02\n",
    "#     σ::Float64 = 10\n",
    "#     ρ::Float64 = 28\n",
    "#     β::Float64 = 8/3\n",
    "    x::Float64 = Xsol[1,1]\n",
    "    y::Float64 = Xsol[2,1]\n",
    "    z::Float64 = Xsol[3,1]\n",
    "    ux::Float64 = Usol[1,1]\n",
    "    uy::Float64 = Usol[2,1]\n",
    "    uz::Float64 = Usol[3,1]\n",
    "    i::Int = 0\n",
    "end\n",
    "\n",
    "function step!(l::Trajectory)\n",
    "    l.i += 1\n",
    "    l.x = Xsol[1, l.i]\n",
    "    l.y = Xsol[2, l.i]\n",
    "    l.z = Xsol[3, l.i]\n",
    "#     l.ux = U[1, l.i]\n",
    "#     l.uy = U[2, l.i]\n",
    "#     l.uz = U[3, l.i]\n",
    "    \n",
    "#    \n",
    "end\n",
    "\n",
    "t = Trajectory()\n",
    "\n",
    "\n",
    "# initialize a 3D plot with 1 empty series\n",
    "plt = plot3d(\n",
    "    1,\n",
    "    lims=(-semiMajorAxis_goal*1.25,semiMajorAxis_goal*1.25),\n",
    "#     xlim = (-30, 30),\n",
    "#     ylim = (-30, 30),\n",
    "#     zlim = (0, 60),\n",
    "    title = \"Tmax = 1.0\",\n",
    "    marker = 2,\n",
    "    label = \"Reference Trajectory\", \n",
    "    camera = (45, 45), \n",
    "    aspect_ratio=:equal,\n",
    ")\n",
    "plot!([0], [0], [0], markershape=:o, markersize=3, label=\"Planet Earth\", color=:blue)\n",
    "xlabel!(\"Orbital Units\")\n",
    "ylabel!(\"Orbital Units\")\n",
    "# label!(\"Orbital Units\")\n",
    "# build an animated gif by pushing new points to the plot, saving every 10th frame\n",
    "@gif for i=1:knots\n",
    "    step!(t)\n",
    "    push!(plt, t.x, t.y, t.z)\n",
    "\n",
    "end every 10"
   ]
  },
  {
   "cell_type": "markdown",
   "metadata": {},
   "source": [
    "# DIRCOL Algorithm"
   ]
  },
  {
   "cell_type": "code",
   "execution_count": null,
   "metadata": {
    "scrolled": true
   },
   "outputs": [],
   "source": [
    "# TASK: Complete implement DIRCOL Algo\n",
    "\n"
   ]
  },
  {
   "cell_type": "markdown",
   "metadata": {},
   "source": [
    "### Forward Pass"
   ]
  },
  {
   "cell_type": "code",
   "execution_count": null,
   "metadata": {
    "scrolled": true
   },
   "outputs": [],
   "source": [
    "# TASK: Complete forward simulation of satelite "
   ]
  },
  {
   "cell_type": "markdown",
   "metadata": {},
   "source": [
    "## Part (b): Simple trajectory \n",
    "Planar example with quibit interpolation and no Thurst conditions"
   ]
  },
  {
   "cell_type": "code",
   "execution_count": null,
   "metadata": {
    "scrolled": true
   },
   "outputs": [],
   "source": [
    "# Task Solve Simple Trajectory"
   ]
  },
  {
   "cell_type": "code",
   "execution_count": null,
   "metadata": {
    "scrolled": true
   },
   "outputs": [],
   "source": [
    "# vis = Visualizer()\n",
    "# set_mesh!(vis, model)\n",
    "# render(vis)"
   ]
  },
  {
   "cell_type": "code",
   "execution_count": null,
   "metadata": {
    "scrolled": true
   },
   "outputs": [],
   "source": [
    "# visualize!(vis, model, tf, Xline)"
   ]
  },
  {
   "cell_type": "markdown",
   "metadata": {},
   "source": [
    "## Part (c): Higher Order DIRCOL\n",
    "Solve the simple planar problem with unconstrained thrust with higher order DIRCOL 3->8th order"
   ]
  },
  {
   "cell_type": "code",
   "execution_count": null,
   "metadata": {
    "scrolled": true
   },
   "outputs": [],
   "source": [
    "# TASK: Implement the following method"
   ]
  },
  {
   "cell_type": "code",
   "execution_count": null,
   "metadata": {
    "scrolled": true
   },
   "outputs": [],
   "source": [
    "# TASK: Plot the comparison\n"
   ]
  },
  {
   "cell_type": "markdown",
   "metadata": {},
   "source": [
    "## Part (d): Inequality Constraints \n",
    "Using the thruster constraints solve the optimization problem"
   ]
  },
  {
   "cell_type": "code",
   "execution_count": null,
   "metadata": {
    "scrolled": true
   },
   "outputs": [],
   "source": [
    "# TASK: Inequality constraints"
   ]
  },
  {
   "cell_type": "code",
   "execution_count": null,
   "metadata": {
    "scrolled": true
   },
   "outputs": [],
   "source": [
    "# render(vis)"
   ]
  },
  {
   "cell_type": "code",
   "execution_count": null,
   "metadata": {
    "scrolled": true
   },
   "outputs": [],
   "source": [
    "# visualize!(vis, model, tf, Xflip)"
   ]
  },
  {
   "cell_type": "markdown",
   "metadata": {},
   "source": [
    "## Part (e): Non-Planar Satellite Control\n"
   ]
  },
  {
   "cell_type": "code",
   "execution_count": null,
   "metadata": {
    "scrolled": true
   },
   "outputs": [],
   "source": [
    "# TASK: Non-Planar Control"
   ]
  },
  {
   "cell_type": "markdown",
   "metadata": {},
   "source": [
    "## TESTS"
   ]
  },
  {
   "cell_type": "code",
   "execution_count": null,
   "metadata": {
    "scrolled": true
   },
   "outputs": [],
   "source": [
    "# run_tests();"
   ]
  }
 ],
 "metadata": {
  "kernelspec": {
   "display_name": "Julia 1.6.1",
   "language": "julia",
   "name": "julia-1.6"
  },
  "language_info": {
   "file_extension": ".jl",
   "mimetype": "application/julia",
   "name": "julia",
   "version": "1.6.1"
  }
 },
 "nbformat": 4,
 "nbformat_minor": 4
}
