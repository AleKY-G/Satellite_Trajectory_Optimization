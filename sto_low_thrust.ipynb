{
 "cells": [
  {
   "cell_type": "code",
   "execution_count": 1,
   "metadata": {
    "scrolled": true
   },
   "outputs": [],
   "source": [
    "import Pkg; Pkg.activate(joinpath(@__DIR__,\"..\")); Pkg.instantiate();\n",
    "# Pkg.add(\"ForwardDiff\")\n",
    "# Pkg.add(\"RobotDynamics\")\n",
    "# Pkg.add(\"LinearAlgebra\")\n",
    "# Pkg.add(\"StaticArrays\")\n",
    "# Pkg.add(\"SparseArrays\")\n",
    "# Pkg.add(\"Plots\")\n",
    "# Pkg.add(\"Printf\")\n",
    "# Pkg.add(\"Ipopt\")\n",
    "# Pkg.add(\"MathOptInterface\")\n",
    "# Pkg.add(\"TrajOptPlots\")\n",
    "# Pkg.add(\"JLD\")\n",
    "Pkg.add(\"Symbolics\")\n",
    "using ForwardDiff\n",
    "using Test\n",
    "using RobotDynamics\n",
    "using LinearAlgebra\n",
    "using StaticArrays\n",
    "using SparseArrays\n",
    "using Plots\n",
    "using Ipopt\n",
    "using MathOptInterface\n",
    "using TrajOptPlots\n",
    "using JLD\n",
    "using Symbolics\n",
    "const MOI = MathOptInterface\n",
    "# Pkg.add(\"Multi-Threading\")\n",
    "# using Multi-Threading\n",
    "# using PyPlots\n",
    "using Printf\n",
    "\n",
    "# include(\"quadratic_cost.jl\")\n"
   ]
  },
  {
   "cell_type": "markdown",
   "metadata": {},
   "source": [
    "# Final Project Info\n",
    "In this we present a geostationary transfer orbit to a geosynchronous (GSO) or geostationary orbit (GEO).  We use Keplerian Orbital Dynamics to model our system. We make several assumptions like Earth Reference Frame, Spherical Earth, Kepler Dynamics. \n",
    "\n",
    "## The Model\n",
    "We'll be using the Kepler Dynamics:\n",
    "\n",
    "$\\newcommand{\\norm}[1]{\\left\\lVert#1\\right\\rVert}$\n",
    "\n",
    "$$ \n",
    "\\ddot{r} = F = \\frac{-\\mu}{\\norm{r}^3}*r+u \\\\\n",
    "x = [r, \\dot{r}] \\\\\n",
    "\\norm{u} \\le Tmax\n",
    "$$\n",
    "with the following model parameters:\n",
    "* $\\mu$: Gravitational Parameter = 63781\n",
    "* $r$: distance to earth center\n",
    "* $u$: control of ion thruster"
   ]
  },
  {
   "cell_type": "code",
   "execution_count": 2,
   "metadata": {
    "scrolled": true
   },
   "outputs": [
    {
     "data": {
      "text/plain": [
       "20"
      ]
     },
     "execution_count": 2,
     "metadata": {},
     "output_type": "execute_result"
    }
   ],
   "source": [
    "Threads.nthreads()"
   ]
  },
  {
   "cell_type": "code",
   "execution_count": 3,
   "metadata": {
    "scrolled": true
   },
   "outputs": [
    {
     "data": {
      "text/plain": [
       "make_orbit (generic function with 1 method)"
      ]
     },
     "execution_count": 3,
     "metadata": {},
     "output_type": "execute_result"
    }
   ],
   "source": [
    "# Problem Setup\n",
    "# Dont want KM and S\n",
    "# Rescale unite to order 1\n",
    "# Length unit = SMA \n",
    "# Time scale = T orbit period\n",
    "# Helps condition number \n",
    "\n",
    "Nx = 6 \n",
    "Nu = 4 # (ax, ay, az, h)\n",
    "\n",
    "# Hint can take big steps 10 knot points per-orbit\n",
    "# model = Kepler() # TODO\n",
    "# n,m = size(model)          # state and control dimensions\n",
    "# TODO FIX ME\n",
    "dt = 0.025                 # time step (sec)\n",
    "tf = 1.5                   # time horizon (sec)\n",
    "T = Int(tf/dt) + 1         # number of time steps\n",
    "\n",
    "# n_nlp = (Nx+Nu)*T # number of decision variables\n",
    "# m_nlp = Nx*(T+1)\n",
    "\n",
    "# Initial & final condition\n",
    "\n",
    "#cartesian and ECI\n",
    "#x,y,z,vx,vy,vz\n",
    "earthRadius_km = 6378.1 # [km]\n",
    "LEO_km = 500 #km above sealevel #circular low earth orbit # 250km \n",
    "GSO_km = 35786 #km above sealevel #circular geosychonous orbit\n",
    "μ_km_s = 3.986*10e5 #gravitational0 parameter [km^3 / s^2]\n",
    "semiMajorAxis_scale = (GSO_km+earthRadius_km+earthRadius_km+LEO_km)/2\n",
    "period_scale = sqrt(semiMajorAxis_scale^3/μ_km_s)*2*pi\n",
    "μ = μ_km_s*period_scale^2/semiMajorAxis_scale^3  #μ(OU^3/P^2)\n",
    "\n",
    "struct Orbit{T}\n",
    "    semiMajorAxis::T\n",
    "    period::T\n",
    "    perigee::T #closest radius to earth\n",
    "    perigee_V::T #velocity at perigee\n",
    "    x0::Vector{T}\n",
    "#     function Orbit(x0) \n",
    "#         print(x0) #best is to input point with velocity and calucate useful parts of orbit\n",
    "#     end\n",
    "end\n",
    "\n",
    "function make_orbit(x0)\n",
    "    velocity = norm(x0[4:end])\n",
    "    \n",
    "    radius = norm(x0[1:3])\n",
    "    \n",
    "    semiMajorAxis = 1/(-velocity^2/μ+2/radius)  #reverse vis a viv\n",
    "    \n",
    "    period = sqrt(semiMajorAxis^3/μ)*2*pi       #period equation\n",
    "    \n",
    "    E = velocity^2/2 - μ/radius   #specific energy of satellite\n",
    "    \n",
    "    J = norm(cross(x0[1:3],x0[4:end]))           #specific momentum of satellite\n",
    "    \n",
    "    perigee = -μ/(2*E) - 1/2*sqrt(μ^2/(E^2)+2*J^2/E) #solve quadratic when velocity of radius is 0\n",
    "    \n",
    "    perigee_v =  sqrt(μ*(2.0/perigee-1.0/semiMajorAxis)) # Vis a Viv\n",
    "    apogee  = -μ/(2*E) + 1/2(μ^2/(E^2)+2*J^2/E) #solve quadratic when velocity of radius is 0\n",
    "    apogee_v =  sqrt(μ*(2.0/apogee-1.0/semiMajorAxis)) # Vis a Viv\n",
    "    return Orbit(semiMajorAxis, period, perigee, perigee_v, x0)\n",
    "end"
   ]
  },
  {
   "cell_type": "code",
   "execution_count": 4,
   "metadata": {
    "scrolled": true
   },
   "outputs": [
    {
     "data": {
      "text/plain": [
       "Orbit{Float64}(1.0, 1.0, 0.28049720444841386, 15.556684458046954, [0.28049720444841386, 0.0, 0.0, 0.0, 15.556684458046954, 0.0])"
      ]
     },
     "execution_count": 4,
     "metadata": {},
     "output_type": "execute_result"
    }
   ],
   "source": [
    "# Geosynchronous Transfer orbit (starting position)\n",
    "semiMajorAxis_transfer = (GSO_km+earthRadius_km+earthRadius_km+LEO_km)/(2*semiMajorAxis_scale) #OU\n",
    "instantRadius_transfer = (earthRadius_km+LEO_km) / semiMajorAxis_scale # #OU\n",
    "instantVelocity_transfer = sqrt(μ*(2.0/instantRadius_transfer-1.0/semiMajorAxis_transfer)) #sqrt(OU^3/P^2/OU) =OU/P\n",
    "period_transfer = sqrt(semiMajorAxis_transfer^3/μ)*2*pi\n",
    "x0    = [instantRadius_transfer, 0.0, 0.0, 0.0, instantVelocity_transfer, 0.0] # initial state #geosynchronous transfer orbit (GTO, where rocket dropped satellite off)\n",
    "                                                                             #many kilometers above Africa in an elliptical orbit \n",
    "transfer_orbit = Orbit(semiMajorAxis_transfer, period_transfer, instantRadius_transfer, instantVelocity_transfer, x0)"
   ]
  },
  {
   "cell_type": "code",
   "execution_count": 5,
   "metadata": {
    "scrolled": true
   },
   "outputs": [
    {
     "data": {
      "text/plain": [
       "3-element Vector{Float64}:\n",
       " 0.0\n",
       " 0.0\n",
       " 0.0"
      ]
     },
     "execution_count": 5,
     "metadata": {},
     "output_type": "execute_result"
    }
   ],
   "source": [
    "# Geosynchronous Orbit (goal position)\n",
    "semiMajorAxis_goal = 2*(earthRadius_km+GSO_km)/(2*semiMajorAxis_scale)\n",
    "instantRadius_goal = (earthRadius_km+GSO_km) / semiMajorAxis_scale\n",
    "instantVelocity_goal = sqrt(μ*(2.0/instantRadius_goal-1.0/semiMajorAxis_goal)) # VisViva\n",
    "period_goal = sqrt(semiMajorAxis_goal^3/μ)*2*pi\n",
    "xgoal = [instantRadius_goal, 0.0, 0.0, 0.0, instantVelocity_goal, 0.0] # goal state #circular geosychonous orbit above africa\n",
    "goal_orbit = Orbit(semiMajorAxis_goal, period_goal, instantRadius_goal, instantVelocity_goal, xgoal)\n",
    "ugto = zeros(3)                  # hover controls\n"
   ]
  },
  {
   "cell_type": "markdown",
   "metadata": {},
   "source": [
    "## Cost Function"
   ]
  },
  {
   "cell_type": "markdown",
   "metadata": {},
   "source": [
    "\\begin{equation}\n",
    "    \\text{minimize} \\sum_{k=1}^{N-1} (||u_k||^2 + (r_k-\\bar{r})^2 + \\frac{1}{r_k} * h_k) + (r_N-\\bar{r})^2+(\\dot{r}_N-\\bar{\\dot{r}})^2 \\\\\n",
    "    x_1=x_{init} \\\\\n",
    "    r_N = \\bar{r} \\\\\n",
    "    \\dot{r_N} = \\bar{\\dot{r}} \\\\\n",
    "    x_N \\cdot \\dot{x}_N = 0 \\\\\n",
    "    f(x_k, u_k) = x_{k+1} \\forall k \\\\\n",
    "    0\\leq||u_k||\\leq T_{max} \\forall k \\\\\n",
    "    h_{min}\\leq h_k \\leq h_{max} \\forall k\n",
    "\\end{equation}"
   ]
  },
  {
   "cell_type": "code",
   "execution_count": 6,
   "metadata": {
    "scrolled": true
   },
   "outputs": [
    {
     "data": {
      "text/plain": [
       "cost (generic function with 1 method)"
      ]
     },
     "execution_count": 6,
     "metadata": {},
     "output_type": "execute_result"
    }
   ],
   "source": [
    "function cost(prob, Z)\n",
    "    X, U = unpackZ(prob.N, Z)\n",
    "   # U = Z[Nx+1:Nx+Nu, :]\n",
    "    N = prob.N\n",
    "    J = 0.0\n",
    "    for k = 1:N-1\n",
    "        r = norm(X[1:3, k])\n",
    "        J += norm(U[1:3, k])^2 + (r-goal_orbit.perigee)^2 + 1/r*U[end, k]\n",
    "    end \n",
    "    # Check major and semi-major axis \n",
    "    J += ((norm(X[1:3,end])-norm(xgoal[1:3]))^2+(norm(X[4:end,end])-norm(xgoal[4:end]))^2)\n",
    "    return J \n",
    "end"
   ]
  },
  {
   "cell_type": "markdown",
   "metadata": {},
   "source": [
    "## Dynamics"
   ]
  },
  {
   "cell_type": "code",
   "execution_count": 7,
   "metadata": {
    "scrolled": true
   },
   "outputs": [
    {
     "data": {
      "text/plain": [
       "dynamics (generic function with 1 method)"
      ]
     },
     "execution_count": 7,
     "metadata": {},
     "output_type": "execute_result"
    }
   ],
   "source": [
    "function dynamics(x, u)\n",
    "    # x = state [x, y, z, dx, dy, dz]\n",
    "    # u = control [ux, uy, uz, h]\n",
    "    r = x[1:3] #orbital units (OU)\n",
    "    ṙ = x[4:end] #\n",
    "    r̈ = (-μ/(norm(r)^3))*r + u[1:3] #μ(OU^3/P^2)/OU^3*OU\n",
    "    return [ṙ; r̈]\n",
    "end"
   ]
  },
  {
   "cell_type": "code",
   "execution_count": 8,
   "metadata": {
    "scrolled": true
   },
   "outputs": [
    {
     "data": {
      "text/plain": [
       "integrator! (generic function with 1 method)"
      ]
     },
     "execution_count": 8,
     "metadata": {},
     "output_type": "execute_result"
    }
   ],
   "source": [
    "function integrator!(x, u, h)\n",
    "    # x = state\n",
    "    # u = control\n",
    "    # h = time step\n",
    "#     ẋ = dynamics(x, u)\n",
    "    f1 = dynamics(x, u)\n",
    "    f2 = dynamics(x + 0.5*h*f1, u)\n",
    "    f3 = dynamics(x + 0.5*h*f2, u)\n",
    "    f4 = dynamics(x + h*f3, u)\n",
    "    x .+= (h/6.0)*(f1 + 2*f2 + 2*f3 + f4)\n",
    "end"
   ]
  },
  {
   "cell_type": "code",
   "execution_count": 9,
   "metadata": {
    "scrolled": true
   },
   "outputs": [
    {
     "data": {
      "text/plain": [
       "dynamics_rk4 (generic function with 1 method)"
      ]
     },
     "execution_count": 9,
     "metadata": {},
     "output_type": "execute_result"
    }
   ],
   "source": [
    "function dynamics_rk4(x, u, h) # Maybe rk8 or more\n",
    "    # x = state\n",
    "    # u = control\n",
    "    # h = time step\n",
    "#     ẋ = dynamics(x, u)\n",
    "    f1 = dynamics(x, u)\n",
    "    f2 = dynamics(x + 0.5*h*f1, u)\n",
    "    f3 = dynamics(x + 0.5*h*f2, u)\n",
    "    f4 = dynamics(x + h*f3, u)\n",
    "    return (x + (h/6.0)*(f1 + 2*f2 + 2*f3 + f4))\n",
    "end"
   ]
  },
  {
   "cell_type": "code",
   "execution_count": 10,
   "metadata": {
    "scrolled": true
   },
   "outputs": [
    {
     "data": {
      "text/plain": [
       "dynamics_rk8 (generic function with 1 method)"
      ]
     },
     "execution_count": 10,
     "metadata": {},
     "output_type": "execute_result"
    }
   ],
   "source": [
    "function dynamics_rk8(x, u, h)\n",
    "    f1 = dynamics(x, u)\n",
    "    f2 = dynamics(x+(h*4/27)*f1, u)\n",
    "    f3 = dynamics(x+ h/18*(f1+3*f2), u)\n",
    "    f4 = dynamics(x+ h/12*(f1+3*f3), u)\n",
    "    f5 = dynamics(x+ h/8*(f1+3*f4), u)\n",
    "    f6 = dynamics(x+ h/54*(12*f1-27*f3+42*f4+8*f5), u)\n",
    "    f7 = dynamics(x+ (h/4320)*(389*f1-54*f3+966*f4-824*f5+243*f6), u)\n",
    "    f8 = dynamics(x+  (h/20)*(-234*f1+81*f3-1164*f4+656*f5-122*f6+800*f7), u)\n",
    "    f9 = dynamics(x+ (h/288)*(-127*f1+18*f3-678*f4+456*f5-9*f6+576*f7+4*f8), u)\n",
    "    f10 = dynamics(x+ (h/820)*(1481*f1-81*f3+7104*f4-3376*f5+72*f6-5040*f7-60*f8+720*f9), u)\n",
    "    \n",
    "    return (x + h/840*(41*f1+27*f4+272*f5+27*f6+216*f7+216*f9+41*f10))\n",
    "\n",
    "end"
   ]
  },
  {
   "cell_type": "code",
   "execution_count": 11,
   "metadata": {
    "scrolled": true
   },
   "outputs": [
    {
     "data": {
      "text/plain": [
       "integrator_rk8! (generic function with 1 method)"
      ]
     },
     "execution_count": 11,
     "metadata": {},
     "output_type": "execute_result"
    }
   ],
   "source": [
    "function integrator_rk8!(x, u, h)\n",
    "    f1 = dynamics(x, u)\n",
    "    f2 = dynamics(x+(h*4/27)*f1, u)\n",
    "    f3 = dynamics(x+ h/18*(f1+3*f2), u)\n",
    "    f4 = dynamics(x+ h/12*(f1+3*f3), u)\n",
    "    f5 = dynamics(x+ h/8*(f1+3*f4), u)\n",
    "    f6 = dynamics(x+ h/54*(12*f1-27*f3+42*f4+8*f5), u)\n",
    "    f7 = dynamics(x+ (h/4320)*(389*f1-54*f3+966*f4-824*f5+243*f6), u)\n",
    "    f8 = dynamics(x+  (h/20)*(-234*f1+81*f3-1164*f4+656*f5-122*f6+800*f7), u)\n",
    "    f9 = dynamics(x+ (h/288)*(-127*f1+18*f3-678*f4+456*f5-9*f6+576*f7+4*f8), u)\n",
    "    f10 = dynamics(x+ (h/820)*(1481*f1-81*f3+7104*f4-3376*f5+72*f6-5040*f7-60*f8+720*f9), u)\n",
    "    \n",
    "    x .+= (h/840)*(41*f1+27*f4+272*f5+27*f6+216*f7+216*f9+41*f10)\n",
    "end"
   ]
  },
  {
   "cell_type": "code",
   "execution_count": 12,
   "metadata": {
    "scrolled": true
   },
   "outputs": [],
   "source": [
    "# function dynamics_rkX(x, u, h, s)\n",
    "#     k1 = dynamics(x, u)\n",
    "#     ks =\n",
    "#     for i = 1:s-2\n",
    "#         k = dynamics(x + 1/(s-2)*prev_k*h, u)\n",
    "        \n",
    "        "
   ]
  },
  {
   "cell_type": "code",
   "execution_count": 12,
   "metadata": {
    "scrolled": true
   },
   "outputs": [
    {
     "data": {
      "text/plain": [
       "get_energy (generic function with 1 method)"
      ]
     },
     "execution_count": 12,
     "metadata": {},
     "output_type": "execute_result"
    }
   ],
   "source": [
    "function get_energy(x)\n",
    "    return norm(x[4:end])^2/2 - μ/norm(x[1:3])\n",
    "end"
   ]
  },
  {
   "cell_type": "code",
   "execution_count": 13,
   "metadata": {
    "scrolled": true
   },
   "outputs": [
    {
     "data": {
      "text/plain": [
       "plot_orbit (generic function with 1 method)"
      ]
     },
     "execution_count": 13,
     "metadata": {},
     "output_type": "execute_result"
    }
   ],
   "source": [
    "knots = 174\n",
    "function plot_orbit(orbit::Orbit)\n",
    "    t = range(0, 100, length=knots) \n",
    "    h = 4/(knots-1)#t[2]-t[1]\n",
    "    traj = zeros(size(t)[1], size(x0)[1])\n",
    "    x = copy(orbit.x0)\n",
    "    traj[1,:] .= x\n",
    "    \n",
    "    u = zeros(3)\n",
    "    energy = zero(t)\n",
    "    energy[1] = get_energy(x)\n",
    "    for i in 2:size(t)[1]\n",
    "        x = dynamics_rk8(x, u, h)\n",
    "#         x = dynamics_rk8(x, u, h)\n",
    "        traj[i,:] .= x\n",
    "        energy[i] = get_energy(x)\n",
    "#         orbit = make_orbit(x)\n",
    "    end\n",
    "#     plot(t, energy)\n",
    "    plot(traj[:, 1], traj[:, 2], aspect_ratio=:equal, lims=(-semiMajorAxis_goal*1.5,semiMajorAxis_goal*1.5))\n",
    "    return traj\n",
    "end"
   ]
  },
  {
   "cell_type": "code",
   "execution_count": 15,
   "metadata": {
    "scrolled": true
   },
   "outputs": [
    {
     "data": {
      "text/plain": [
       "1.0"
      ]
     },
     "execution_count": 15,
     "metadata": {},
     "output_type": "execute_result"
    }
   ],
   "source": [
    "0.025*40"
   ]
  },
  {
   "cell_type": "code",
   "execution_count": 16,
   "metadata": {
    "scrolled": true
   },
   "outputs": [
    {
     "name": "stdout",
     "output_type": "stream",
     "text": [
      "DIFFERENCE: 15.210813463710045\n"
     ]
    },
    {
     "data": {
      "image/svg+xml": [
       "<?xml version=\"1.0\" encoding=\"utf-8\"?>\n",
       "<svg xmlns=\"http://www.w3.org/2000/svg\" xmlns:xlink=\"http://www.w3.org/1999/xlink\" width=\"600\" height=\"400\" viewBox=\"0 0 2400 1600\">\n",
       "<defs>\n",
       "  <clipPath id=\"clip460\">\n",
       "    <rect x=\"0\" y=\"0\" width=\"2400\" height=\"1600\"/>\n",
       "  </clipPath>\n",
       "</defs>\n",
       "<path clip-path=\"url(#clip460)\" d=\"\n",
       "M0 1600 L2400 1600 L2400 0 L0 0  Z\n",
       "  \" fill=\"#ffffff\" fill-rule=\"evenodd\" fill-opacity=\"1\"/>\n",
       "<defs>\n",
       "  <clipPath id=\"clip461\">\n",
       "    <rect x=\"480\" y=\"0\" width=\"1681\" height=\"1600\"/>\n",
       "  </clipPath>\n",
       "</defs>\n",
       "<path clip-path=\"url(#clip460)\" d=\"\n",
       "M530.515 1486.45 L1969.72 1486.45 L1969.72 47.2441 L530.515 47.2441  Z\n",
       "  \" fill=\"#ffffff\" fill-rule=\"evenodd\" fill-opacity=\"1\"/>\n",
       "<defs>\n",
       "  <clipPath id=\"clip462\">\n",
       "    <rect x=\"530\" y=\"47\" width=\"1440\" height=\"1440\"/>\n",
       "  </clipPath>\n",
       "</defs>\n",
       "<polyline clip-path=\"url(#clip462)\" style=\"stroke:#000000; stroke-width:2; stroke-opacity:0.1; fill:none\" points=\"\n",
       "  692.125,1486.45 692.125,47.2441 \n",
       "  \"/>\n",
       "<polyline clip-path=\"url(#clip462)\" style=\"stroke:#000000; stroke-width:2; stroke-opacity:0.1; fill:none\" points=\"\n",
       "  971.121,1486.45 971.121,47.2441 \n",
       "  \"/>\n",
       "<polyline clip-path=\"url(#clip462)\" style=\"stroke:#000000; stroke-width:2; stroke-opacity:0.1; fill:none\" points=\"\n",
       "  1250.12,1486.45 1250.12,47.2441 \n",
       "  \"/>\n",
       "<polyline clip-path=\"url(#clip462)\" style=\"stroke:#000000; stroke-width:2; stroke-opacity:0.1; fill:none\" points=\"\n",
       "  1529.11,1486.45 1529.11,47.2441 \n",
       "  \"/>\n",
       "<polyline clip-path=\"url(#clip462)\" style=\"stroke:#000000; stroke-width:2; stroke-opacity:0.1; fill:none\" points=\"\n",
       "  1808.11,1486.45 1808.11,47.2441 \n",
       "  \"/>\n",
       "<polyline clip-path=\"url(#clip460)\" style=\"stroke:#000000; stroke-width:4; stroke-opacity:1; fill:none\" points=\"\n",
       "  530.515,1486.45 1969.72,1486.45 \n",
       "  \"/>\n",
       "<polyline clip-path=\"url(#clip460)\" style=\"stroke:#000000; stroke-width:4; stroke-opacity:1; fill:none\" points=\"\n",
       "  692.125,1486.45 692.125,1469.18 \n",
       "  \"/>\n",
       "<polyline clip-path=\"url(#clip460)\" style=\"stroke:#000000; stroke-width:4; stroke-opacity:1; fill:none\" points=\"\n",
       "  971.121,1486.45 971.121,1469.18 \n",
       "  \"/>\n",
       "<polyline clip-path=\"url(#clip460)\" style=\"stroke:#000000; stroke-width:4; stroke-opacity:1; fill:none\" points=\"\n",
       "  1250.12,1486.45 1250.12,1469.18 \n",
       "  \"/>\n",
       "<polyline clip-path=\"url(#clip460)\" style=\"stroke:#000000; stroke-width:4; stroke-opacity:1; fill:none\" points=\"\n",
       "  1529.11,1486.45 1529.11,1469.18 \n",
       "  \"/>\n",
       "<polyline clip-path=\"url(#clip460)\" style=\"stroke:#000000; stroke-width:4; stroke-opacity:1; fill:none\" points=\"\n",
       "  1808.11,1486.45 1808.11,1469.18 \n",
       "  \"/>\n",
       "<path clip-path=\"url(#clip460)\" d=\"M 0 0 M662.067 1530.29 L691.743 1530.29 L691.743 1534.23 L662.067 1534.23 L662.067 1530.29 Z\" fill=\"#000000\" fill-rule=\"evenodd\" fill-opacity=\"1\" /><path clip-path=\"url(#clip460)\" d=\"M 0 0 M705.863 1543.18 L722.182 1543.18 L722.182 1547.12 L700.238 1547.12 L700.238 1543.18 Q702.9 1540.43 707.483 1535.8 Q712.09 1531.15 713.27 1529.81 Q715.516 1527.28 716.395 1525.55 Q717.298 1523.79 717.298 1522.1 Q717.298 1519.34 715.354 1517.61 Q713.432 1515.87 710.331 1515.87 Q708.132 1515.87 705.678 1516.63 Q703.247 1517.4 700.47 1518.95 L700.47 1514.23 Q703.294 1513.09 705.747 1512.51 Q708.201 1511.93 710.238 1511.93 Q715.608 1511.93 718.803 1514.62 Q721.997 1517.31 721.997 1521.8 Q721.997 1523.93 721.187 1525.85 Q720.4 1527.74 718.294 1530.34 Q717.715 1531.01 714.613 1534.23 Q711.511 1537.42 705.863 1543.18 Z\" fill=\"#000000\" fill-rule=\"evenodd\" fill-opacity=\"1\" /><path clip-path=\"url(#clip460)\" d=\"M 0 0 M940.878 1530.29 L970.554 1530.29 L970.554 1534.23 L940.878 1534.23 L940.878 1530.29 Z\" fill=\"#000000\" fill-rule=\"evenodd\" fill-opacity=\"1\" /><path clip-path=\"url(#clip460)\" d=\"M 0 0 M981.456 1543.18 L989.095 1543.18 L989.095 1516.82 L980.785 1518.49 L980.785 1514.23 L989.049 1512.56 L993.725 1512.56 L993.725 1543.18 L1001.36 1543.18 L1001.36 1547.12 L981.456 1547.12 L981.456 1543.18 Z\" fill=\"#000000\" fill-rule=\"evenodd\" fill-opacity=\"1\" /><path clip-path=\"url(#clip460)\" d=\"M 0 0 M1250.12 1515.64 Q1246.51 1515.64 1244.68 1519.2 Q1242.87 1522.75 1242.87 1529.87 Q1242.87 1536.98 1244.68 1540.55 Q1246.51 1544.09 1250.12 1544.09 Q1253.75 1544.09 1255.56 1540.55 Q1257.39 1536.98 1257.39 1529.87 Q1257.39 1522.75 1255.56 1519.2 Q1253.75 1515.64 1250.12 1515.64 M1250.12 1511.93 Q1255.93 1511.93 1258.98 1516.54 Q1262.06 1521.12 1262.06 1529.87 Q1262.06 1538.6 1258.98 1543.21 Q1255.93 1547.79 1250.12 1547.79 Q1244.31 1547.79 1241.23 1543.21 Q1238.17 1538.6 1238.17 1529.87 Q1238.17 1521.12 1241.23 1516.54 Q1244.31 1511.93 1250.12 1511.93 Z\" fill=\"#000000\" fill-rule=\"evenodd\" fill-opacity=\"1\" /><path clip-path=\"url(#clip460)\" d=\"M 0 0 M1519.5 1543.18 L1527.13 1543.18 L1527.13 1516.82 L1518.82 1518.49 L1518.82 1514.23 L1527.09 1512.56 L1531.76 1512.56 L1531.76 1543.18 L1539.4 1543.18 L1539.4 1547.12 L1519.5 1547.12 L1519.5 1543.18 Z\" fill=\"#000000\" fill-rule=\"evenodd\" fill-opacity=\"1\" /><path clip-path=\"url(#clip460)\" d=\"M 0 0 M1802.76 1543.18 L1819.08 1543.18 L1819.08 1547.12 L1797.14 1547.12 L1797.14 1543.18 Q1799.8 1540.43 1804.38 1535.8 Q1808.99 1531.15 1810.17 1529.81 Q1812.41 1527.28 1813.29 1525.55 Q1814.2 1523.79 1814.2 1522.1 Q1814.2 1519.34 1812.25 1517.61 Q1810.33 1515.87 1807.23 1515.87 Q1805.03 1515.87 1802.58 1516.63 Q1800.15 1517.4 1797.37 1518.95 L1797.37 1514.23 Q1800.19 1513.09 1802.65 1512.51 Q1805.1 1511.93 1807.14 1511.93 Q1812.51 1511.93 1815.7 1514.62 Q1818.9 1517.31 1818.9 1521.8 Q1818.9 1523.93 1818.09 1525.85 Q1817.3 1527.74 1815.19 1530.34 Q1814.61 1531.01 1811.51 1534.23 Q1808.41 1537.42 1802.76 1543.18 Z\" fill=\"#000000\" fill-rule=\"evenodd\" fill-opacity=\"1\" /><polyline clip-path=\"url(#clip462)\" style=\"stroke:#000000; stroke-width:2; stroke-opacity:0.1; fill:none\" points=\"\n",
       "  530.515,1324.84 1969.72,1324.84 \n",
       "  \"/>\n",
       "<polyline clip-path=\"url(#clip462)\" style=\"stroke:#000000; stroke-width:2; stroke-opacity:0.1; fill:none\" points=\"\n",
       "  530.515,1045.84 1969.72,1045.84 \n",
       "  \"/>\n",
       "<polyline clip-path=\"url(#clip462)\" style=\"stroke:#000000; stroke-width:2; stroke-opacity:0.1; fill:none\" points=\"\n",
       "  530.515,766.846 1969.72,766.846 \n",
       "  \"/>\n",
       "<polyline clip-path=\"url(#clip462)\" style=\"stroke:#000000; stroke-width:2; stroke-opacity:0.1; fill:none\" points=\"\n",
       "  530.515,487.85 1969.72,487.85 \n",
       "  \"/>\n",
       "<polyline clip-path=\"url(#clip462)\" style=\"stroke:#000000; stroke-width:2; stroke-opacity:0.1; fill:none\" points=\"\n",
       "  530.515,208.854 1969.72,208.854 \n",
       "  \"/>\n",
       "<polyline clip-path=\"url(#clip460)\" style=\"stroke:#000000; stroke-width:4; stroke-opacity:1; fill:none\" points=\"\n",
       "  530.515,1486.45 530.515,47.2441 \n",
       "  \"/>\n",
       "<polyline clip-path=\"url(#clip460)\" style=\"stroke:#000000; stroke-width:4; stroke-opacity:1; fill:none\" points=\"\n",
       "  530.515,1324.84 547.785,1324.84 \n",
       "  \"/>\n",
       "<polyline clip-path=\"url(#clip460)\" style=\"stroke:#000000; stroke-width:4; stroke-opacity:1; fill:none\" points=\"\n",
       "  530.515,1045.84 547.785,1045.84 \n",
       "  \"/>\n",
       "<polyline clip-path=\"url(#clip460)\" style=\"stroke:#000000; stroke-width:4; stroke-opacity:1; fill:none\" points=\"\n",
       "  530.515,766.846 547.785,766.846 \n",
       "  \"/>\n",
       "<polyline clip-path=\"url(#clip460)\" style=\"stroke:#000000; stroke-width:4; stroke-opacity:1; fill:none\" points=\"\n",
       "  530.515,487.85 547.785,487.85 \n",
       "  \"/>\n",
       "<polyline clip-path=\"url(#clip460)\" style=\"stroke:#000000; stroke-width:4; stroke-opacity:1; fill:none\" points=\"\n",
       "  530.515,208.854 547.785,208.854 \n",
       "  \"/>\n",
       "<path clip-path=\"url(#clip460)\" d=\"M 0 0 M434.4 1325.29 L464.075 1325.29 L464.075 1329.22 L434.4 1329.22 L434.4 1325.29 Z\" fill=\"#000000\" fill-rule=\"evenodd\" fill-opacity=\"1\" /><path clip-path=\"url(#clip460)\" d=\"M 0 0 M478.196 1338.18 L494.515 1338.18 L494.515 1342.12 L472.571 1342.12 L472.571 1338.18 Q475.233 1335.43 479.816 1330.8 Q484.422 1326.15 485.603 1324.8 Q487.848 1322.28 488.728 1320.54 Q489.631 1318.78 489.631 1317.1 Q489.631 1314.34 487.686 1312.6 Q485.765 1310.87 482.663 1310.87 Q480.464 1310.87 478.01 1311.63 Q475.58 1312.4 472.802 1313.95 L472.802 1309.22 Q475.626 1308.09 478.08 1307.51 Q480.534 1306.93 482.571 1306.93 Q487.941 1306.93 491.135 1309.62 Q494.33 1312.3 494.33 1316.79 Q494.33 1318.92 493.52 1320.85 Q492.733 1322.74 490.626 1325.34 Q490.047 1326.01 486.946 1329.22 Q483.844 1332.42 478.196 1338.18 Z\" fill=\"#000000\" fill-rule=\"evenodd\" fill-opacity=\"1\" /><path clip-path=\"url(#clip460)\" d=\"M 0 0 M434.029 1046.29 L463.705 1046.29 L463.705 1050.23 L434.029 1050.23 L434.029 1046.29 Z\" fill=\"#000000\" fill-rule=\"evenodd\" fill-opacity=\"1\" /><path clip-path=\"url(#clip460)\" d=\"M 0 0 M474.608 1059.19 L482.247 1059.19 L482.247 1032.82 L473.936 1034.49 L473.936 1030.23 L482.2 1028.56 L486.876 1028.56 L486.876 1059.19 L494.515 1059.19 L494.515 1063.12 L474.608 1063.12 L474.608 1059.19 Z\" fill=\"#000000\" fill-rule=\"evenodd\" fill-opacity=\"1\" /><path clip-path=\"url(#clip460)\" d=\"M 0 0 M482.571 752.645 Q478.96 752.645 477.131 756.209 Q475.325 759.751 475.325 766.881 Q475.325 773.987 477.131 777.552 Q478.96 781.094 482.571 781.094 Q486.205 781.094 488.01 777.552 Q489.839 773.987 489.839 766.881 Q489.839 759.751 488.01 756.209 Q486.205 752.645 482.571 752.645 M482.571 748.941 Q488.381 748.941 491.436 753.547 Q494.515 758.131 494.515 766.881 Q494.515 775.608 491.436 780.214 Q488.381 784.797 482.571 784.797 Q476.76 784.797 473.682 780.214 Q470.626 775.608 470.626 766.881 Q470.626 758.131 473.682 753.547 Q476.76 748.941 482.571 748.941 Z\" fill=\"#000000\" fill-rule=\"evenodd\" fill-opacity=\"1\" /><path clip-path=\"url(#clip460)\" d=\"M 0 0 M474.608 501.195 L482.247 501.195 L482.247 474.829 L473.936 476.496 L473.936 472.237 L482.2 470.57 L486.876 470.57 L486.876 501.195 L494.515 501.195 L494.515 505.13 L474.608 505.13 L474.608 501.195 Z\" fill=\"#000000\" fill-rule=\"evenodd\" fill-opacity=\"1\" /><path clip-path=\"url(#clip460)\" d=\"M 0 0 M478.196 222.199 L494.515 222.199 L494.515 226.134 L472.571 226.134 L472.571 222.199 Q475.233 219.444 479.816 214.814 Q484.422 210.162 485.603 208.819 Q487.848 206.296 488.728 204.56 Q489.631 202.801 489.631 201.111 Q489.631 198.356 487.686 196.62 Q485.765 194.884 482.663 194.884 Q480.464 194.884 478.01 195.648 Q475.58 196.412 472.802 197.963 L472.802 193.24 Q475.626 192.106 478.08 191.527 Q480.534 190.949 482.571 190.949 Q487.941 190.949 491.135 193.634 Q494.33 196.319 494.33 200.81 Q494.33 202.939 493.52 204.861 Q492.733 206.759 490.626 209.351 Q490.047 210.023 486.946 213.24 Q483.844 216.435 478.196 222.199 Z\" fill=\"#000000\" fill-rule=\"evenodd\" fill-opacity=\"1\" /><polyline clip-path=\"url(#clip462)\" style=\"stroke:#009af9; stroke-width:4; stroke-opacity:1; fill:none\" points=\"\n",
       "  1328.37,766.846 1297.77,678.544 1241.1,626.046 1184.45,597.303 1132.55,581.92 1085.74,574.78 1043.59,573.178 1005.62,575.535 971.394,580.848 940.574,588.445 \n",
       "  912.87,597.845 888.049,608.695 865.922,620.725 846.333,633.723 829.154,647.518 814.28,661.968 801.625,676.953 791.119,692.369 782.706,708.126 776.344,724.141 \n",
       "  771.999,740.338 769.652,756.646 769.289,772.997 770.909,789.322 774.52,805.553 780.137,821.622 787.789,837.452 797.513,852.966 809.359,868.076 823.391,882.683 \n",
       "  839.686,896.674 858.342,909.917 879.474,922.254 903.225,933.489 929.769,943.379 959.317,951.608 992.129,957.753 1028.52,961.231 1068.89,961.196 1113.68,956.35 \n",
       "  1163.37,944.554 1218.08,921.936 1275.79,880.782 1322.62,807.31 1316.94,711.076 1265.76,644.084 1207.93,607.042 1153.87,586.82 1104.91,576.562 1060.79,572.783 \n",
       "  1021.03,573.528 985.173,577.597 952.842,584.199 923.723,592.785 897.564,602.955 874.159,614.41 853.337,626.915 834.958,640.284 818.91,654.365 805.095,669.03 \n",
       "  793.439,684.17 783.877,699.69 776.361,715.506 770.852,731.539 767.324,747.719 765.758,763.977 766.146,780.246 768.49,796.461 772.799,812.556 779.093,828.46 \n",
       "  787.402,844.1 797.767,859.396 810.238,874.261 824.883,888.594 841.781,902.281 861.031,915.187 882.753,927.147 907.092,937.963 934.225,947.381 964.368,955.072 \n",
       "  997.785,960.596 1034.8,963.34 1075.8,962.412 1121.25,956.428 1171.58,943.088 1226.76,918.184 1284.05,873.29 1326.26,794.734 1312.02,700.053 1258.57,637.807 \n",
       "  1201.01,603.439 1147.56,584.686 1099.19,575.309 1055.58,572.094 1016.25,573.216 980.751,577.539 948.723,584.312 919.857,593.01 893.907,603.249 870.671,614.738 \n",
       "  849.984,627.251 831.708,640.609 815.732,654.661 801.961,669.284 790.321,684.372 780.749,699.832 773.197,715.581 767.627,731.543 764.01,747.649 762.329,763.831 \n",
       "  762.575,780.025 764.748,796.167 768.857,812.192 774.919,828.033 782.962,843.618 793.024,858.872 805.154,873.708 819.413,888.032 835.878,901.735 854.64,914.688 \n",
       "  875.812,926.738 899.531,937.698 925.962,947.332 955.305,955.339 987.805,961.318 1023.76,964.719 1063.55,964.751 1107.58,960.218 1156.32,949.18 1209.94,928.205 \n",
       "  1267.08,890.597 1317.54,823.69 1323.69,727.849 1277.3,653.773 1219.42,612.088 1164.38,589.13 1114.34,577.082 1069.18,572.019 1028.43,571.774 991.632,575.04 \n",
       "  958.396,580.963 928.395,588.959 901.366,598.605 877.094,609.586 855.402,621.657 836.144,634.627 819.2,648.336 804.47,662.657 791.873,677.476 781.34,692.699 \n",
       "  772.818,708.241 766.264,724.025 761.646,739.981 758.941,756.042 758.135,772.145 759.223,788.228 762.208,804.228 767.103,820.082 773.928,835.723 782.712,851.08 \n",
       "  793.498,866.076 806.336,880.625 821.29,894.631 838.439,907.982 857.879,920.546 879.725,932.165 904.118,942.644 931.227,951.74 961.257,959.135 994.459,964.409 \n",
       "  1031.14,966.978 1071.67,966 1116.48,960.184 1165.99,947.418 \n",
       "  \"/>\n",
       "<line clip-path=\"url(#clip462)\" x1=\"1328.37\" y1=\"766.846\" x2=\"1308.37\" y2=\"746.846\" style=\"stroke:#e26f46; stroke-width:3.2; stroke-opacity:1\"/>\n",
       "<line clip-path=\"url(#clip462)\" x1=\"1328.37\" y1=\"766.846\" x2=\"1308.37\" y2=\"786.846\" style=\"stroke:#e26f46; stroke-width:3.2; stroke-opacity:1\"/>\n",
       "<line clip-path=\"url(#clip462)\" x1=\"1328.37\" y1=\"766.846\" x2=\"1348.37\" y2=\"786.846\" style=\"stroke:#e26f46; stroke-width:3.2; stroke-opacity:1\"/>\n",
       "<line clip-path=\"url(#clip462)\" x1=\"1328.37\" y1=\"766.846\" x2=\"1348.37\" y2=\"746.846\" style=\"stroke:#e26f46; stroke-width:3.2; stroke-opacity:1\"/>\n",
       "<line clip-path=\"url(#clip462)\" x1=\"1165.99\" y1=\"947.418\" x2=\"1145.99\" y2=\"927.418\" style=\"stroke:#3da44d; stroke-width:3.2; stroke-opacity:1\"/>\n",
       "<line clip-path=\"url(#clip462)\" x1=\"1165.99\" y1=\"947.418\" x2=\"1145.99\" y2=\"967.418\" style=\"stroke:#3da44d; stroke-width:3.2; stroke-opacity:1\"/>\n",
       "<line clip-path=\"url(#clip462)\" x1=\"1165.99\" y1=\"947.418\" x2=\"1185.99\" y2=\"967.418\" style=\"stroke:#3da44d; stroke-width:3.2; stroke-opacity:1\"/>\n",
       "<line clip-path=\"url(#clip462)\" x1=\"1165.99\" y1=\"947.418\" x2=\"1185.99\" y2=\"927.418\" style=\"stroke:#3da44d; stroke-width:3.2; stroke-opacity:1\"/>\n",
       "<path clip-path=\"url(#clip460)\" d=\"\n",
       "M1598.17 337.138 L1896.21 337.138 L1896.21 95.2176 L1598.17 95.2176  Z\n",
       "  \" fill=\"#ffffff\" fill-rule=\"evenodd\" fill-opacity=\"1\"/>\n",
       "<polyline clip-path=\"url(#clip460)\" style=\"stroke:#000000; stroke-width:4; stroke-opacity:1; fill:none\" points=\"\n",
       "  1598.17,337.138 1896.21,337.138 1896.21,95.2176 1598.17,95.2176 1598.17,337.138 \n",
       "  \"/>\n",
       "<polyline clip-path=\"url(#clip460)\" style=\"stroke:#009af9; stroke-width:4; stroke-opacity:1; fill:none\" points=\"\n",
       "  1622.67,155.698 1769.69,155.698 \n",
       "  \"/>\n",
       "<path clip-path=\"url(#clip460)\" d=\"M 0 0 M1808.04 175.385 Q1806.23 180.015 1804.52 181.427 Q1802.81 182.839 1799.94 182.839 L1796.53 182.839 L1796.53 179.274 L1799.03 179.274 Q1800.79 179.274 1801.76 178.44 Q1802.74 177.607 1803.92 174.505 L1804.68 172.561 L1794.19 147.052 L1798.71 147.052 L1806.81 167.329 L1814.91 147.052 L1819.43 147.052 L1808.04 175.385 Z\" fill=\"#000000\" fill-rule=\"evenodd\" fill-opacity=\"1\" /><path clip-path=\"url(#clip460)\" d=\"M 0 0 M1826.72 169.042 L1834.36 169.042 L1834.36 142.677 L1826.05 144.343 L1826.05 140.084 L1834.31 138.418 L1838.99 138.418 L1838.99 169.042 L1846.62 169.042 L1846.62 172.978 L1826.72 172.978 L1826.72 169.042 Z\" fill=\"#000000\" fill-rule=\"evenodd\" fill-opacity=\"1\" /><polyline clip-path=\"url(#clip460)\" style=\"stroke:#e26f46; stroke-width:4; stroke-opacity:1; fill:none\" points=\"\n",
       "  1622.67,216.178 1769.69,216.178 \n",
       "  \"/>\n",
       "<line clip-path=\"url(#clip460)\" x1=\"1696.18\" y1=\"216.178\" x2=\"1670.58\" y2=\"190.578\" style=\"stroke:#e26f46; stroke-width:3.2; stroke-opacity:1\"/>\n",
       "<line clip-path=\"url(#clip460)\" x1=\"1696.18\" y1=\"216.178\" x2=\"1670.58\" y2=\"241.778\" style=\"stroke:#e26f46; stroke-width:3.2; stroke-opacity:1\"/>\n",
       "<line clip-path=\"url(#clip460)\" x1=\"1696.18\" y1=\"216.178\" x2=\"1721.78\" y2=\"241.778\" style=\"stroke:#e26f46; stroke-width:3.2; stroke-opacity:1\"/>\n",
       "<line clip-path=\"url(#clip460)\" x1=\"1696.18\" y1=\"216.178\" x2=\"1721.78\" y2=\"190.578\" style=\"stroke:#e26f46; stroke-width:3.2; stroke-opacity:1\"/>\n",
       "<path clip-path=\"url(#clip460)\" d=\"M 0 0 M1808.04 235.865 Q1806.23 240.495 1804.52 241.907 Q1802.81 243.319 1799.94 243.319 L1796.53 243.319 L1796.53 239.754 L1799.03 239.754 Q1800.79 239.754 1801.76 238.92 Q1802.74 238.087 1803.92 234.985 L1804.68 233.041 L1794.19 207.532 L1798.71 207.532 L1806.81 227.809 L1814.91 207.532 L1819.43 207.532 L1808.04 235.865 Z\" fill=\"#000000\" fill-rule=\"evenodd\" fill-opacity=\"1\" /><path clip-path=\"url(#clip460)\" d=\"M 0 0 M1829.93 229.522 L1846.25 229.522 L1846.25 233.458 L1824.31 233.458 L1824.31 229.522 Q1826.97 226.768 1831.56 222.138 Q1836.16 217.485 1837.34 216.143 Q1839.59 213.62 1840.47 211.884 Q1841.37 210.124 1841.37 208.435 Q1841.37 205.68 1839.43 203.944 Q1837.5 202.208 1834.4 202.208 Q1832.2 202.208 1829.75 202.972 Q1827.32 203.735 1824.54 205.286 L1824.54 200.564 Q1827.37 199.43 1829.82 198.851 Q1832.27 198.273 1834.31 198.273 Q1839.68 198.273 1842.87 200.958 Q1846.07 203.643 1846.07 208.134 Q1846.07 210.263 1845.26 212.185 Q1844.47 214.083 1842.37 216.675 Q1841.79 217.347 1838.68 220.564 Q1835.58 223.759 1829.93 229.522 Z\" fill=\"#000000\" fill-rule=\"evenodd\" fill-opacity=\"1\" /><polyline clip-path=\"url(#clip460)\" style=\"stroke:#3da44d; stroke-width:4; stroke-opacity:1; fill:none\" points=\"\n",
       "  1622.67,276.658 1769.69,276.658 \n",
       "  \"/>\n",
       "<line clip-path=\"url(#clip460)\" x1=\"1696.18\" y1=\"276.658\" x2=\"1670.58\" y2=\"251.058\" style=\"stroke:#3da44d; stroke-width:3.2; stroke-opacity:1\"/>\n",
       "<line clip-path=\"url(#clip460)\" x1=\"1696.18\" y1=\"276.658\" x2=\"1670.58\" y2=\"302.258\" style=\"stroke:#3da44d; stroke-width:3.2; stroke-opacity:1\"/>\n",
       "<line clip-path=\"url(#clip460)\" x1=\"1696.18\" y1=\"276.658\" x2=\"1721.78\" y2=\"302.258\" style=\"stroke:#3da44d; stroke-width:3.2; stroke-opacity:1\"/>\n",
       "<line clip-path=\"url(#clip460)\" x1=\"1696.18\" y1=\"276.658\" x2=\"1721.78\" y2=\"251.058\" style=\"stroke:#3da44d; stroke-width:3.2; stroke-opacity:1\"/>\n",
       "<path clip-path=\"url(#clip460)\" d=\"M 0 0 M1808.04 296.345 Q1806.23 300.975 1804.52 302.387 Q1802.81 303.799 1799.94 303.799 L1796.53 303.799 L1796.53 300.234 L1799.03 300.234 Q1800.79 300.234 1801.76 299.4 Q1802.74 298.567 1803.92 295.465 L1804.68 293.521 L1794.19 268.012 L1798.71 268.012 L1806.81 288.289 L1814.91 268.012 L1819.43 268.012 L1808.04 296.345 Z\" fill=\"#000000\" fill-rule=\"evenodd\" fill-opacity=\"1\" /><path clip-path=\"url(#clip460)\" d=\"M 0 0 M1840.07 275.303 Q1843.43 276.021 1845.31 278.289 Q1847.2 280.558 1847.2 283.891 Q1847.2 289.007 1843.68 291.808 Q1840.17 294.609 1833.68 294.609 Q1831.51 294.609 1829.19 294.169 Q1826.9 293.752 1824.45 292.896 L1824.45 288.382 Q1826.39 289.516 1828.71 290.095 Q1831.02 290.674 1833.55 290.674 Q1837.94 290.674 1840.24 288.938 Q1842.55 287.201 1842.55 283.891 Q1842.55 280.836 1840.4 279.123 Q1838.27 277.387 1834.45 277.387 L1830.42 277.387 L1830.42 273.544 L1834.63 273.544 Q1838.08 273.544 1839.91 272.178 Q1841.74 270.79 1841.74 268.197 Q1841.74 265.535 1839.84 264.123 Q1837.97 262.688 1834.45 262.688 Q1832.53 262.688 1830.33 263.104 Q1828.13 263.521 1825.49 264.401 L1825.49 260.234 Q1828.15 259.493 1830.47 259.123 Q1832.81 258.753 1834.87 258.753 Q1840.19 258.753 1843.29 261.183 Q1846.39 263.59 1846.39 267.711 Q1846.39 270.581 1844.75 272.572 Q1843.11 274.54 1840.07 275.303 Z\" fill=\"#000000\" fill-rule=\"evenodd\" fill-opacity=\"1\" /></svg>\n"
      ]
     },
     "execution_count": 16,
     "metadata": {},
     "output_type": "execute_result"
    }
   ],
   "source": [
    "# plot(t, energy)\n",
    "traj = plot_orbit(transfer_orbit)\n",
    "println(\"DIFFERENCE: \", norm(traj[end, :] - traj[1, :]))\n",
    "plot!([traj[1, 1]], [traj[1, 2]], markershape=:xcross, markersize=5)\n",
    "plot!([traj[end, 1]], [traj[end, 2]], markershape=:xcross, markersize=5)\n",
    "# time = 1/ radius "
   ]
  },
  {
   "cell_type": "markdown",
   "metadata": {},
   "source": [
    "## Constraints"
   ]
  },
  {
   "cell_type": "markdown",
   "metadata": {},
   "source": [
    "$ c = [c_{init}, c_{terminal}, c_{dynamics}, c_{thrust}, c_{time}] $"
   ]
  },
  {
   "cell_type": "code",
   "execution_count": 14,
   "metadata": {
    "scrolled": true
   },
   "outputs": [
    {
     "data": {
      "text/plain": [
       "unpackZ (generic function with 1 method)"
      ]
     },
     "execution_count": 14,
     "metadata": {},
     "output_type": "execute_result"
    }
   ],
   "source": [
    "function unpackZ(N, ztraj)\n",
    "    \"\"\"\n",
    "    Inputs: \n",
    "        ztraj -> Trajectory\n",
    "    \n",
    "    Returns: \n",
    "        xtraj -> state trajectory (Nx, T)\n",
    "        utraj -> control trajectory (Nu, T-1)\n",
    "    \"\"\"\n",
    "    Nt = N\n",
    "    z = reshape(ztraj[1:(end-Nx)],Nx+Nu,Nt-1)\n",
    "    xtraj = hcat(z[1:Nx,:], ztraj[end-(Nx-1):end])\n",
    "    utraj = z[(Nx+1):(Nx+Nu),:]\n",
    "    \n",
    "    return xtraj, utraj\n",
    "end"
   ]
  },
  {
   "cell_type": "code",
   "execution_count": 15,
   "metadata": {
    "scrolled": true
   },
   "outputs": [
    {
     "data": {
      "text/plain": [
       "dynamics_constraints! (generic function with 1 method)"
      ]
     },
     "execution_count": 15,
     "metadata": {},
     "output_type": "execute_result"
    }
   ],
   "source": [
    "function dynamics_constraints!(nlp, c, ztraj)\n",
    "    \"\"\"\n",
    "    Inputs: \n",
    "        c -> Constraint Vector: shape = \n",
    "        ztraj -> Current trajectory: shape ((Nx+Nu)*T, 1)\n",
    "    \n",
    "    Returns: \n",
    "        Nothing\n",
    "    \"\"\"\n",
    "#     h = nlp.h # dt? \n",
    "    X, U = unpackZ(nlp.N, ztraj)\n",
    "    N = nlp.N\n",
    "#     d = reshape(c, Nx, N-1)\n",
    "    d = reshape(view(c, nlp.idx_ineq[3]), Nx,(N-1))\n",
    "    \n",
    "    for k = 1:N-1\n",
    "        u = U[1:3, k]\n",
    "        h = U[4, k]\n",
    "        d[:, k] .= dynamics_rk8(X[:,k], u, h) - X[:,k+1]\n",
    "    end\n",
    "    \n",
    "    return d\n",
    "end\n",
    "    "
   ]
  },
  {
   "cell_type": "code",
   "execution_count": 16,
   "metadata": {
    "scrolled": true
   },
   "outputs": [
    {
     "data": {
      "text/plain": [
       "thrust_constraints! (generic function with 1 method)"
      ]
     },
     "execution_count": 16,
     "metadata": {},
     "output_type": "execute_result"
    }
   ],
   "source": [
    "function thrust_constraints!(nlp, c, ztraj)\n",
    "    \"\"\"\n",
    "    Inputs: \n",
    "        c -> Constraint Vector: shape = \n",
    "        ztraj -> Current trajectory: shape ((Nx+Nu)*T, 1)\n",
    "    \n",
    "    Returns: \n",
    "        Nothing\n",
    "    \"\"\"\n",
    "    N = nlp.N\n",
    "    d = view(c, nlp.idx_ineq[4]) #view(c, nlp.idx_ineq[end])#\n",
    "    X, U = unpackZ(nlp.N, ztraj)\n",
    "    \n",
    "    for k = 1:N-1\n",
    "        d[k] = norm(U[1:3,k])\n",
    "    end\n",
    "    \n",
    "#     d[1,:] .= norm.(U[1:3,:])\n",
    "    \n",
    "    return d\n",
    "end"
   ]
  },
  {
   "cell_type": "code",
   "execution_count": 17,
   "metadata": {
    "scrolled": true
   },
   "outputs": [
    {
     "data": {
      "text/plain": [
       "time_constraints! (generic function with 1 method)"
      ]
     },
     "execution_count": 17,
     "metadata": {},
     "output_type": "execute_result"
    }
   ],
   "source": [
    "function time_constraints!(nlp, c, ztraj)\n",
    "    N = nlp.N\n",
    "    d = view(c, nlp.idx_ineq[5])\n",
    "    X, U = unpackZ(nlp.N, ztraj)\n",
    "    \n",
    "#     for k=1:N-1\n",
    "#         d[:, k] .= U[end, k]\n",
    "#     end\n",
    "    \n",
    "    d[:] .= U[end, :]\n",
    "    \n",
    "    return d\n",
    "    \n",
    "end"
   ]
  },
  {
   "cell_type": "code",
   "execution_count": 18,
   "metadata": {
    "scrolled": true
   },
   "outputs": [
    {
     "data": {
      "text/plain": [
       "con! (generic function with 1 method)"
      ]
     },
     "execution_count": 18,
     "metadata": {},
     "output_type": "execute_result"
    }
   ],
   "source": [
    "function con!(nlp, c, Z)\n",
    "    X, U = unpackZ(nlp.N, Z)\n",
    "    c[nlp.idx_ineq[1]] .= X[:,1] - nlp.zref[1:Nx, 1] # Initial condition constraint\n",
    "    c[nlp.idx_ineq[2][1]] = (norm(X[1:3,end]) - norm(xgoal[1:3]))\n",
    "    c[nlp.idx_ineq[2][2]] = (norm(X[4:end, end])-norm(xgoal[4:end]))\n",
    "    c[nlp.idx_ineq[2][3]] = dot(X[1:3, end], X[4:end, end]) # Final condition constraint\n",
    "    c[nlp.idx_ineq[2][4]] = X[3,end]\n",
    "    c[nlp.idx_ineq[2][5]] = X[6,end]\n",
    "\n",
    "    dynamics_constraints!(nlp, c, Z) # Dynamics constraints\n",
    "    thrust_constraints!(nlp, c, Z) # Thrust constraints\n",
    "    time_constraints!(nlp, c, Z)\n",
    "end"
   ]
  },
  {
   "cell_type": "code",
   "execution_count": 22,
   "metadata": {
    "scrolled": true
   },
   "outputs": [],
   "source": [
    "# con!(prob, zeros(prob.m_nlp), z)"
   ]
  },
  {
   "cell_type": "code",
   "execution_count": 23,
   "metadata": {
    "scrolled": true
   },
   "outputs": [],
   "source": [
    "# prob.idx_ineq[2]"
   ]
  },
  {
   "cell_type": "markdown",
   "metadata": {},
   "source": [
    "## Constraint Jacobian"
   ]
  },
  {
   "cell_type": "code",
   "execution_count": 19,
   "metadata": {
    "scrolled": true
   },
   "outputs": [
    {
     "data": {
      "text/plain": [
       "terminal_constraint_jacobian! (generic function with 1 method)"
      ]
     },
     "execution_count": 19,
     "metadata": {},
     "output_type": "execute_result"
    }
   ],
   "source": [
    "function terminal_constraint_jacobian!(nlp, jac, Z)\n",
    "    X, U = unpackZ(nlp.N, Z)\n",
    "#     norms = [norm(u) for u in X[1:3,:]]\n",
    "    term_r = X[1:3, end]./(norm(X[1:3,end])+1e-12) #(3, 1)\n",
    "    term_v = X[4:6, end]./(norm(X[4:6,end])+1e-12) #(3, 1)\n",
    "#     term_d = X[4:end, end]+X[1:3, end] #(3, 1)\n",
    "    jac .= [([term_r, term_v, X[4:6, end], X[1:3, end], 1.0, 1.0]...)...]\n",
    "    \n",
    "end"
   ]
  },
  {
   "cell_type": "code",
   "execution_count": 20,
   "metadata": {},
   "outputs": [
    {
     "data": {
      "text/plain": [
       "integrate_wrapper (generic function with 1 method)"
      ]
     },
     "execution_count": 20,
     "metadata": {},
     "output_type": "execute_result"
    }
   ],
   "source": [
    "function integrate_wrapper(z)\n",
    "    x = z[1:Nx]\n",
    "    u = z[Nx+1:Nx+3]\n",
    "    h = z[Nx+4]\n",
    "    \n",
    "    \n",
    "    return dynamics_rk8(x, u, h)\n",
    "end"
   ]
  },
  {
   "cell_type": "code",
   "execution_count": 21,
   "metadata": {},
   "outputs": [
    {
     "ename": "LoadError",
     "evalue": "UndefVarError: z not defined",
     "output_type": "error",
     "traceback": [
      "UndefVarError: z not defined",
      "",
      "Stacktrace:",
      " [1] top-level scope",
      "   @ In[21]:2",
      " [2] eval",
      "   @ ./boot.jl:360 [inlined]",
      " [3] include_string(mapexpr::typeof(REPL.softscope), mod::Module, code::String, filename::String)",
      "   @ Base ./loading.jl:1094"
     ]
    }
   ],
   "source": [
    "N = 100\n",
    "Z = z \n",
    "ix = [Int((Nx+Nu)*i+1):Int((Nx+Nu)*i+Nx) for i=0:N-1]\n",
    "iu = [Int((Nx)*i+Nu*(i-1)+1):Int((Nx+Nu)*i-1) for i=1:N-1]\n",
    "X = Z[ix[1]]\n",
    "U = Z[iu[1]]\n",
    "H = Z[iu[1][end]+1]\n",
    "# integrator_rk8!(X, U, H)\n",
    "jacX = zeros(6*6)\n",
    "jacU = zeros(6*3)\n",
    "jacH = zeros(6)\n",
    "jacZ = zeros(6*10)\n",
    "ForwardDiff.jacobian!(jacX, x->integrator_rk8!(x, U, H), X)\n",
    "# ForwardDiff.jacobian!(jacU, u->integrator_rk8!(X, u, H), U)\n"
   ]
  },
  {
   "cell_type": "code",
   "execution_count": 54,
   "metadata": {},
   "outputs": [
    {
     "data": {
      "text/plain": [
       "0.0"
      ]
     },
     "execution_count": 54,
     "metadata": {},
     "output_type": "execute_result"
    }
   ],
   "source": [
    "sum(jacX -jacZ[1:36])"
   ]
  },
  {
   "cell_type": "code",
   "execution_count": 34,
   "metadata": {},
   "outputs": [
    {
     "data": {
      "text/plain": [
       "0.01"
      ]
     },
     "execution_count": 34,
     "metadata": {},
     "output_type": "execute_result"
    }
   ],
   "source": [
    "H"
   ]
  },
  {
   "cell_type": "code",
   "execution_count": 22,
   "metadata": {
    "scrolled": true
   },
   "outputs": [
    {
     "data": {
      "text/plain": [
       "dynamics_constraint_jacobian! (generic function with 1 method)"
      ]
     },
     "execution_count": 22,
     "metadata": {},
     "output_type": "execute_result"
    }
   ],
   "source": [
    "function dynamics_constraint_jacobian!(nlp, jac, Z)\n",
    "#     D = rehape(view(jac, nlp.cinds[3], :), \n",
    "    N = nlp.N\n",
    "    ix = [Int((Nx+Nu)*i+1):Int((Nx+Nu)*i+Nx) for i=0:N-1]\n",
    "    iu = [Int((Nx)*i+Nu*(i-1)+1):Int((Nx+Nu)*i) for i=1:N-1]\n",
    "    \n",
    "#     J = reshape(ForwardDiff.jacobian(x->dynamics_constraints!(nlp, zeros(eltype(x), nlp.m_nlp), x), Z), Nx*(N-1), nlp.n_nlp)\n",
    "\n",
    "    step = 96\n",
    "    step2 = 60\n",
    "    for k =0:N-2\n",
    "        j1 = view(jac, k*step+1:step*k+step2)\n",
    "        j2 = view(jac, step*k+step2+1:step*k+step)\n",
    "#         j1 = view(jac, (Nx*(Nx+Nu)*(k+1)+Nx*Nx)*k+1:Nx*(Nx+Nu)*(k+1))\n",
    "#         j2 = view(jac, Nx*(Nx+Nu)*(k+1)+1:Nx*(Nx+Nu)*(k+1)+Nx*Nx)\n",
    "#         X = Z[ix[k+1]]\n",
    "#         U = Z[iu[k+1]]\n",
    "#         H = Z[iu[k+1][end]+1]\n",
    "        ForwardDiff.jacobian!(j1, z->integrate_wrapper(z), Z[ix[k+1][1]:iu[k+1][end]])\n",
    "        j2 .= [(-1.0*Matrix(I, 6, 6)...)...]\n",
    "#         J = reshape(ForwardDiff.jacobian((x, u, h)->integrator_rk8!(x, u, h), X, U, H), Nx*(N-1), nlp.n_nlp)\n",
    "#         j1 .= [(J[(Nx*k)+1:Nx*(k+1), ix[k+1][1]:iu[k+1][end]+1]...)...]\n",
    "#         if sum(J[(Nx*k)+1:Nx*(k+1), ix[k+2]]+I) <= 1e-5\n",
    "#             println(\"success\")\n",
    "#         end\n",
    "#         j2 .=  [(J[(Nx*k)+1:Nx*(k+1), ix[k+2]]...)...] # (6, n_nlp)\n",
    "    end\n",
    "    \n",
    "    return nothing\n",
    "end"
   ]
  },
  {
   "cell_type": "code",
   "execution_count": null,
   "metadata": {},
   "outputs": [],
   "source": [
    "Nx*(prob.N-1)"
   ]
  },
  {
   "cell_type": "code",
   "execution_count": 23,
   "metadata": {
    "scrolled": true
   },
   "outputs": [
    {
     "data": {
      "text/plain": [
       "thrust_constraint_jacobian! (generic function with 1 method)"
      ]
     },
     "execution_count": 23,
     "metadata": {},
     "output_type": "execute_result"
    }
   ],
   "source": [
    "function thrust_constraint_jacobian!(nlp, jac, Z)\n",
    "#     D = view(jac, nlp.cinds[4], :)\n",
    "#     jac .= [(ForwardDiff.jacobian(x->thrust_constraints!(nlp, zeros(eltype(x), nlp.m_nlp), x), Z)...)...]\n",
    "    X, U = unpackZ(nlp.N, Z)\n",
    "    # N-1\n",
    "    norms_grad = [([u./(1e-12+norm(u)) for u in U[1:3,:]]...)...]\n",
    "    jac .= norms_grad # (3*(N-1))\n",
    "    return nothing\n",
    "end"
   ]
  },
  {
   "cell_type": "code",
   "execution_count": 24,
   "metadata": {
    "scrolled": true
   },
   "outputs": [
    {
     "data": {
      "text/plain": [
       "time_constraint_jacobian! (generic function with 1 method)"
      ]
     },
     "execution_count": 24,
     "metadata": {},
     "output_type": "execute_result"
    }
   ],
   "source": [
    "function time_constraint_jacobian!(nlp, jac, Z)\n",
    "#     jac .= [(ForwardDiff.jacobian(x->time_constraints!(nlp, zeros(eltype(x), nlp.m_nlp), x), Z)...)...]\n",
    "    jac .= 1 #(N-1)\n",
    "    return nothing\n",
    "end"
   ]
  },
  {
   "cell_type": "code",
   "execution_count": null,
   "metadata": {},
   "outputs": [],
   "source": [
    "Nx*(100-1)*(2*Nx+Nu)"
   ]
  },
  {
   "cell_type": "code",
   "execution_count": 25,
   "metadata": {
    "scrolled": true
   },
   "outputs": [
    {
     "data": {
      "text/plain": [
       "jac_c! (generic function with 1 method)"
      ]
     },
     "execution_count": 25,
     "metadata": {},
     "output_type": "execute_result"
    }
   ],
   "source": [
    "function jac_c!(nlp, jac, Z)\n",
    "    # m_nlp, n_nlp \n",
    "    \n",
    "#     xinds = [SVector{n}((k-1)*(n+m) .+ (1:n)) for k = 1:N]\n",
    "#     uinds = [SVector{m}((k-1)*(n+m) .+ (n+1:n+m)) for k = 1:N-1]\n",
    "    \n",
    "#     ix = [Int((Nx+Nu)*i+1):Int((Nx+Nu)*i+Nx) for i=0:N-2]\n",
    "#     sizeX = ix[end][end]-ix[1][1]\n",
    "#     iu = [Int((Nx)*i+Nu*(i-1)):Int((Nx+Nu)*i) for i=1:N-1]\n",
    "#     sizeU = ix[end][end]-ix[1][1]\n",
    "    N = nlp.N\n",
    "    i_init = 1:Nx\n",
    "    i_term = i_init[end]+1:i_init[end]+3+3+6+1+1\n",
    "    \n",
    "    i_dyn = i_term[end]+1:i_term[end]+(Nx*(Nx+Nu+Nx)*(N-1))\n",
    "    \n",
    "    i_thrust = i_dyn[end]+1:i_dyn[end]+3*(N-1)\n",
    "    \n",
    "    i_time = i_thrust[end]+1:i_thrust[end]+(N-1) # Definitely not sure about this\n",
    "#     print(i_time[end][end])\n",
    "    \n",
    "    jac_init = view(jac, i_init)\n",
    "    jac_term = view(jac, i_term)\n",
    "    jac_dynamics = view(jac, i_dyn)\n",
    "    jac_thrust = view(jac, i_thrust)\n",
    "    jac_time = view(jac, i_time)\n",
    "    # Sparse Matrix\n",
    "#     [I(Nx, Nx), I(Nx,Nx), forwardDIff(dynamics), forwardDIff(thrust)]\n",
    "#     ForwardDiff.jacobian!(reshape(jac,prob.m_nlp,prob.n_nlp), (c,x) -> con!(prob, c, x), zeros(prob.m_nlp), x)\n",
    "    jac_init .= 1 #[(I(Nx)*1.0...)...] # Initial Condtion Constraint\n",
    "    terminal_constraint_jacobian!(nlp, jac_term, Z) # I(Nx, Nx).flatten()\n",
    "    dynamics_constraint_jacobian!(nlp, jac_dynamics, Z)\n",
    "    thrust_constraint_jacobian!(nlp, jac_thrust, Z)\n",
    "    time_constraint_jacobian!(nlp, jac_time, Z)\n",
    "    \n",
    "    return nothing\n",
    "end"
   ]
  },
  {
   "cell_type": "code",
   "execution_count": 133,
   "metadata": {},
   "outputs": [
    {
     "name": "stdout",
     "output_type": "stream",
     "text": [
      "  0.008873 seconds (35.04 k allocations: 8.597 MiB)\n"
     ]
    }
   ],
   "source": [
    "jac = zeros(9920, )\n",
    "@time jac_c!(prob, jac, z)"
   ]
  },
  {
   "cell_type": "code",
   "execution_count": 134,
   "metadata": {},
   "outputs": [],
   "source": [
    "full_jac = zeros(prob.m_nlp, n_nlp)\n",
    "for i = 1:9920\n",
    "    full_jac[sj[i][1], sj[i][2]] = jac[i]\n",
    "end"
   ]
  },
  {
   "cell_type": "code",
   "execution_count": 143,
   "metadata": {},
   "outputs": [
    {
     "data": {
      "text/plain": [
       "1.0"
      ]
     },
     "execution_count": 143,
     "metadata": {},
     "output_type": "execute_result"
    }
   ],
   "source": [
    "sum(true_jac[594+12,:])"
   ]
  },
  {
   "cell_type": "code",
   "execution_count": 146,
   "metadata": {},
   "outputs": [
    {
     "data": {
      "text/plain": [
       "0.0"
      ]
     },
     "execution_count": 146,
     "metadata": {},
     "output_type": "execute_result"
    }
   ],
   "source": [
    "sum(full_jac[end-98:end,:] - true_jac[end-98:end,:])"
   ]
  },
  {
   "cell_type": "code",
   "execution_count": 76,
   "metadata": {},
   "outputs": [
    {
     "data": {
      "text/plain": [
       "803×996 Matrix{Float64}:\n",
       " 1.0       0.0         0.0       …  0.0        0.0        0.0\n",
       " 0.0       1.0         0.0          0.0        0.0        0.0\n",
       " 0.0       0.0         1.0          0.0        0.0        0.0\n",
       " 0.0       0.0         0.0          0.0        0.0        0.0\n",
       " 0.0       0.0         0.0          0.0        0.0        0.0\n",
       " 0.0       0.0         0.0       …  0.0        0.0        0.0\n",
       " 0.0       0.0         0.0          0.0        0.0        0.0\n",
       " 0.0       0.0         0.0          0.293386   0.909863  -0.293386\n",
       " 0.0       0.0         0.0          0.165615  -0.210321  -0.165615\n",
       " 0.0       0.0         0.0          0.0        0.0        0.0\n",
       " 0.0       0.0         0.0       …  0.0        0.0        1.0\n",
       " 1.04017   0.0306941  -0.125595     0.0        0.0        0.0\n",
       " 0.032274  0.926394   -0.032274     0.0        0.0        0.0\n",
       " ⋮                               ⋱                        ⋮\n",
       " 0.0       0.0         0.0          0.0        0.0        0.0\n",
       " 0.0       0.0         0.0          0.0        0.0        0.0\n",
       " 0.0       0.0         0.0          0.0        0.0        0.0\n",
       " 0.0       0.0         0.0          0.0        0.0        0.0\n",
       " 0.0       0.0         0.0       …  0.0        0.0        0.0\n",
       " 0.0       0.0         0.0          0.0        0.0        0.0\n",
       " 0.0       0.0         0.0          0.0        0.0        0.0\n",
       " 0.0       0.0         0.0          0.0        0.0        0.0\n",
       " 0.0       0.0         0.0          0.0        0.0        0.0\n",
       " 0.0       0.0         0.0       …  0.0        0.0        0.0\n",
       " 0.0       0.0         0.0          0.0        0.0        0.0\n",
       " 0.0       0.0         0.0          0.0        0.0        0.0"
      ]
     },
     "execution_count": 76,
     "metadata": {},
     "output_type": "execute_result"
    }
   ],
   "source": [
    "true_jac = zero(full_jac)\n",
    "ForwardDiff.jacobian!(true_jac, (c,x) -> con!(prob, c, x), zeros(prob.m_nlp), z)"
   ]
  },
  {
   "cell_type": "code",
   "execution_count": 144,
   "metadata": {},
   "outputs": [
    {
     "data": {
      "text/plain": [
       "-98.99999999999794"
      ]
     },
     "execution_count": 144,
     "metadata": {},
     "output_type": "execute_result"
    }
   ],
   "source": [
    "sum(full_jac-true_jac)"
   ]
  },
  {
   "cell_type": "markdown",
   "metadata": {},
   "source": [
    "## Part (a): Implement DIRCOL \n",
    "Implement DIRCOL by completing the provided methods. "
   ]
  },
  {
   "cell_type": "code",
   "execution_count": 35,
   "metadata": {
    "scrolled": true
   },
   "outputs": [
    {
     "data": {
      "text/plain": [
       "solve (generic function with 1 method)"
      ]
     },
     "execution_count": 35,
     "metadata": {},
     "output_type": "execute_result"
    }
   ],
   "source": [
    "\"\"\"\n",
    "    Problem{n,m,L}\n",
    "\n",
    "Describes a trajectory optimization problem with `n` states, `m` controls, and \n",
    "a model of type `L`. \n",
    "\n",
    "# Constructor\n",
    "    Problem(model::L, obj::Vector{<:QuadraticCost{n,m}}, tf, x0, xf) where {n,m,L}\n",
    "\n",
    "where `tf` is the final time, and `x0` is the initial state. \n",
    "\"\"\"\n",
    "# struct Problem{n,m,L}\n",
    "    # TODO \n",
    "# end\n",
    "# Base.size(prob::Problem{n,m}) where {n,m} = (n,m,prob.T)\n",
    "\n",
    "struct ProblemMOI <: MOI.AbstractNLPEvaluator\n",
    "    n_nlp::Int # num_primals\n",
    "    m_nlp::Int # num_duals\n",
    "    N::Int # num_knots\n",
    "#     h::Float64\n",
    "    idx_ineq # list of constraint ranges\n",
    "    obj_grad::Bool \n",
    "    con_jac::Bool\n",
    "    sparsity_jac\n",
    "#     sparsity_hess\n",
    "    primal_bounds\n",
    "    constraint_bounds\n",
    "    hessian_lagrangian::Bool\n",
    "    zref\n",
    "end\n",
    "\n",
    "function ProblemMOI(n_nlp, N, zref;\n",
    "        idx_ineq=get_cinds(Nx, N),\n",
    "        m_nlp = idx_ineq[end][end],\n",
    "        obj_grad=true,\n",
    "        con_jac=true,\n",
    "        sparsity_jac=sparsity_jacobian(n_nlp,m_nlp),\n",
    "#         sparsity_hess=sparsity_hessian(n_nlp,m_nlp),\n",
    "        primal_bounds=primal_bounds(n_nlp),\n",
    "        constraint_bounds=constraint_bounds(m_nlp,idx_ineq=idx_ineq),\n",
    "        hessian_lagrangian=false)\n",
    "\n",
    "    ProblemMOI(\n",
    "        n_nlp,\n",
    "        m_nlp,\n",
    "        N, # Nt\n",
    "#         h, \n",
    "        idx_ineq, # Indexes\n",
    "        obj_grad, \n",
    "        con_jac,\n",
    "        sparsity_jac,\n",
    "#         sparsity_hess,\n",
    "        primal_bounds,\n",
    "        constraint_bounds,\n",
    "        hessian_lagrangian, \n",
    "        zref)\n",
    "end\n",
    "\n",
    "function primal_bounds(n)\n",
    "    x_l = -Inf*ones(n)\n",
    "    x_u = Inf*ones(n)\n",
    "    return x_l, x_u\n",
    "end\n",
    "\n",
    "function get_cinds(n, N)\n",
    "    c_init_inds = 1:Nx\n",
    "    c_term_inds = (c_init_inds[end]+1):(c_init_inds[end]+5)\n",
    "    c_dyn_inds = (c_term_inds[end]+1):(c_term_inds[end]+((Nx)*(N-1)))\n",
    "    c_thrust_inds = (c_dyn_inds[end]+1):(c_dyn_inds[end]+((N-1)))\n",
    "    c_time_inds = c_thrust_inds[end]+1:c_thrust_inds[end]+(N-1)\n",
    "    \n",
    "    return [c_init_inds, c_term_inds, c_dyn_inds, c_thrust_inds, c_time_inds]\n",
    "end\n",
    "\n",
    "function constraint_bounds(m_nlp; idx_ineq)\n",
    "    lb = zeros(m_nlp) \n",
    "    lb[idx_ineq[1]] .= 0 ##x0\n",
    "    lb[idx_ineq[2]] .= 0 #xf\n",
    "    lb[idx_ineq[3]] .= 0\n",
    "    lb[idx_ineq[4]] .= 0 # Might have a minimum thrust requirment\n",
    "    lb[idx_ineq[5]] .= 1e-3\n",
    "\n",
    "    ub = zeros(m_nlp) #fill(-Inf,m_nlp)\n",
    "    ub[idx_ineq[1]] .= 0 #x0\n",
    "    ub[idx_ineq[2]] .= 0 #xf\n",
    "    ub[idx_ineq[3]] .= 0\n",
    "    ub[idx_ineq[4]] .= 1\n",
    "    ub[idx_ineq[5]] .= 1e-1\n",
    "\n",
    "    return lb, ub\n",
    "end\n",
    "\n",
    "function row_col!(row,col,r,c)\n",
    "#     println(\"starting row_col\")\n",
    "    for cc in c\n",
    "        for rr in r\n",
    "            push!(row,convert(Int,rr))\n",
    "            push!(col,convert(Int,cc))\n",
    "        end\n",
    "    end\n",
    "#     println(\"Finished row_col\")\n",
    "    return row, col\n",
    "end\n",
    "\n",
    "function sparsity_jacobian(n,m, N)\n",
    "#     N = (n-Nx)/(Nx+Nu)+1\n",
    "\n",
    "    row = []\n",
    "    col = []\n",
    "#     r = 1:m\n",
    "#     c = 1:n\n",
    "#     row_col!(row, col, r, c)\n",
    "    idx_ineq = get_cinds(0, N)\n",
    "    ix = [Int((Nx+Nu)*i+1):Int((Nx+Nu)*i+Nx) for i=0:N-1]\n",
    "    iu = [Int((Nx)*i+Nu*(i-1)+1):Int((Nx+Nu)*i-1) for i=1:N-1]\n",
    "# #     print(ix, iu)\n",
    "    # initial Constraints \n",
    "    for k=1:Nx\n",
    "        push!(row, convert(Int, k))\n",
    "        push!(col, convert(Int, k))\n",
    "    end\n",
    "    \n",
    "    # Terminal Constraints\n",
    "    for k = 1:3\n",
    "        push!(row, convert(Int, idx_ineq[2][1]))\n",
    "        push!(col, convert(Int, n-6+k))\n",
    "\n",
    "    end\n",
    "    for k = 1:3\n",
    "        push!(row, convert(Int, idx_ineq[2][2]))\n",
    "        push!(col, convert(Int, n-3+k))\n",
    "    end\n",
    "    for k=1:6\n",
    "        push!(row, convert(Int, idx_ineq[2][3]))\n",
    "        push!(col, convert(Int, n-6+k))\n",
    "    end\n",
    "    \n",
    "    push!(row, convert(Int, idx_ineq[2][4]))\n",
    "    push!(col, convert(Int, n-3))\n",
    "    push!(row, convert(Int, idx_ineq[2][5]))\n",
    "    push!(col, convert(Int, n))\n",
    "    \n",
    "    # \n",
    "#     push!(row, convert(Int, idx_ineq[2]))\n",
    "#     push!(col, convert(Int, n-Nx:n))\n",
    "    \n",
    "#     row_col!(row,col, idx_ineq[1], idx_ineq[1]) # init_con\n",
    "#     print(size(row))\n",
    "#     row_col!(row, col, idx_ineq[2], n-Nx+1:n) # term_con\n",
    "#     print(size(row))\n",
    "    \n",
    "    # Dynamics_con\n",
    "    for i=0:N-2\n",
    "        row_col!(row, col, idx_ineq[3][Nx*i+1:(Nx*(i+1))], ix[i+1][1]:iu[i+1][end]+1)\n",
    "        row_col!(row, col, idx_ineq[3][Nx*i+1:(Nx*(i+1))], ix[i+2]) # number of values will be idx_ineq[3][end]-idx_ineq[3][1]*n \n",
    "#     print(size(row))\n",
    "    end\n",
    "    \n",
    "    # Thrust Con + time con\n",
    "    idx_h = [i[end]+1 for i in iu]\n",
    "    for k=1:N-1\n",
    "        for j=1:3\n",
    "            push!(row, convert(Int, idx_ineq[4][k]))\n",
    "            push!(col, convert(Int, iu[k][j]))\n",
    "        end\n",
    "#         row_col!(row, col, ones(3)*idx_ineq[4][k], iu[k])\n",
    "#     print(size(row))\n",
    "    end\n",
    "    for k=1:N-1\n",
    "        push!(row, convert(Int, idx_ineq[5][k]))\n",
    "        push!(col, convert(Int, idx_h[k]))\n",
    "    end\n",
    "    \n",
    "    \n",
    "#     for k=1:\n",
    "        \n",
    "#     row_col!(row, col, idx_ineq[5], 1:n)\n",
    "#     print(size(row))\n",
    "\n",
    "    return collect(zip(row,col))\n",
    "end\n",
    "\n",
    "function sparsity_hessian(n,m)\n",
    "#     N = (n-Nx)/(Nx+Nu)+1\n",
    "\n",
    "    row = []\n",
    "    col = []\n",
    "    r = 1:m\n",
    "    c = 1:n\n",
    "    row_col!(row, col, r, c)\n",
    "    \n",
    "#     idx_ineq = get_cinds(0, N)\n",
    "#     ix = [Int((Nx+Nu)*i+1):Int((Nx+Nu)*i+Nx) for i=0:N-2]\n",
    "#     iu = [Int((Nx)*i+Nu*(i-1)):Int((Nx+Nu)*i) for i=1:N-1]\n",
    "# #     print(ix, iu)\n",
    "# #     row_col!(row,col, idx_ineq[1], idx_ineq[1]) # init_con\n",
    "# #     row_col!(row, col, idx_ineq[2], n-Nx:n) # term_con\n",
    "    \n",
    "    \n",
    "#     # Dynamics_con\n",
    "#     for x in ix\n",
    "#         row_col!(row, col, idx_ineq[3], x)\n",
    "#     end\n",
    "    \n",
    "#     # Thrust Con\n",
    "#     for u in iu\n",
    "#         row_col!(row, col, idx_ineq[4], u)\n",
    "#     end\n",
    "\n",
    "    return collect(zip(row,col))\n",
    "end\n",
    "\n",
    "function MOI.eval_objective(prob::MOI.AbstractNLPEvaluator, x)\n",
    "    cost(prob, x)\n",
    "end\n",
    "\n",
    "function MOI.eval_objective_gradient(prob::MOI.AbstractNLPEvaluator, grad_f, x)\n",
    "    ForwardDiff.gradient!(grad_f, x -> cost(prob, x), x)\n",
    "    return nothing\n",
    "end\n",
    "\n",
    "function MOI.eval_constraint(prob::MOI.AbstractNLPEvaluator,g,x)\n",
    "    con!(prob, g, x) # TODO: Implement con! (Mitch)\n",
    "    return nothing\n",
    "end\n",
    "\n",
    "function MOI.eval_constraint_jacobian(prob::MOI.AbstractNLPEvaluator, jac, x)\n",
    "#     IF DENSE\n",
    "#     ForwardDiff.jacobian!(jac, (c,x) -> con!(prob, c, x), zeros(prob.m_nlp), x)\n",
    "\n",
    "    # IF SPARSE\n",
    "    jac_c!(prob, jac, x)\n",
    "    return nothing #sparse(r, c, jac[prob.sparcity_jac])\n",
    "end\n",
    "\n",
    "function MOI.features_available(prob::MOI.AbstractNLPEvaluator)\n",
    "    return [:Grad, :Jac]\n",
    "end\n",
    "\n",
    "# TODO: Confirm meaning of these functions\n",
    "MOI.initialize(prob::MOI.AbstractNLPEvaluator, features) = nothing\n",
    "MOI.jacobian_structure(prob::MOI.AbstractNLPEvaluator) = prob.sparsity_jac #\n",
    "\n",
    "\n",
    "\n",
    "function solve(x0,prob::MOI.AbstractNLPEvaluator;\n",
    "        tol=1.0e-6,c_tol=1.0e-6,max_iter=1000)\n",
    "    x_l, x_u = prob.primal_bounds\n",
    "    c_l, c_u = prob.constraint_bounds\n",
    "\n",
    "    nlp_bounds = MOI.NLPBoundsPair.(c_l,c_u)\n",
    "    block_data = MOI.NLPBlockData(nlp_bounds,prob,true)\n",
    "\n",
    "    solver = Ipopt.Optimizer()\n",
    "    solver.options[\"max_iter\"] = max_iter\n",
    "    solver.options[\"tol\"] = tol\n",
    "    solver.options[\"constr_viol_tol\"] = c_tol\n",
    "\n",
    "    x = MOI.add_variables(solver, prob.n_nlp)\n",
    "\n",
    "    for i = 1:prob.n_nlp\n",
    "        xi = MOI.SingleVariable(x[i])\n",
    "        MOI.add_constraint(solver, xi, MOI.LessThan(x_u[i]))\n",
    "        MOI.add_constraint(solver, xi, MOI.GreaterThan(x_l[i]))\n",
    "        MOI.set(solver, MOI.VariablePrimalStart(), x[i], x0[i])\n",
    "    end\n",
    "\n",
    "    # Solve the problem\n",
    "    MOI.set(solver, MOI.NLPBlock(), block_data)\n",
    "    MOI.set(solver, MOI.ObjectiveSense(), MOI.MIN_SENSE)\n",
    "    MOI.optimize!(solver)\n",
    "\n",
    "    # Get the solution\n",
    "    res = MOI.get(solver, MOI.VariablePrimal(), x)\n",
    "    status = MOI.get(solver, MOI.TerminationStatus())\n",
    "\n",
    "    return res, status\n",
    "end"
   ]
  },
  {
   "cell_type": "code",
   "execution_count": null,
   "metadata": {
    "scrolled": true
   },
   "outputs": [],
   "source": [
    "knots = 100\n",
    "# t = range(0, orbit.period, length=knots) \n",
    "# h = t[2]-t[1]\n",
    "function impulse_ref_traj(init_orbit::Orbit,final_orbit::Orbit) #knots,Nx,Nu\n",
    "    time = knots #Int(ceil(init_orbit.period/2*knots/2+final_orbit.period*knots))\n",
    "    traj = zeros(time-1,Nx+Nu)\n",
    "    x = copy(init_orbit.x0)\n",
    "    h = init_orbit.period/(knots)\n",
    "\n",
    "    u = [0, 0, 0, h]\n",
    "    traj[1,:] .= vcat(x,u)\n",
    "    print(h)\n",
    "    for i in 2:size(traj)[1]\n",
    "        integrator_rk8!(x, u, h)\n",
    "        if (i == Int(ceil(init_orbit.period/2*knots)))\n",
    "            x = final_orbit.x0 .* -1\n",
    "            h = final_orbit.period/(knots)\n",
    "            u = [0, 0, 0, h]\n",
    "        end\n",
    "        traj[i,:] .= vcat(x,u)\n",
    "    end\n",
    "    traj = reshape(traj',((time-1)*(Nx+Nu),1))\n",
    "    traj = vcat(traj,final_orbit.x0)\n",
    "    return traj\n",
    "end\n",
    "z = impulse_ref_traj(transfer_orbit,goal_orbit)\n",
    "X,U = unpackZ(knots, [(z...)...])\n",
    "transition = Int(ceil(transfer_orbit.period*knots/2))\n",
    "# display(X[:,transition-5:transition+5]')\n",
    "plot(X[1, :], X[2, :], aspect_ratio=:equal, lims=(-semiMajorAxis_goal*1.5,semiMajorAxis_goal*1.5), title = \"Reference Trajectory\", label = \"Reference\", lw = 3)\n",
    "xlabel!(\"Orbital Units\")\n",
    "ylabel!(\"Orbital Units\")\n",
    "plot!([goal_orbit.x0[1]], [goal_orbit.x0[2]], markershape=:xcross, markersize=5, label=\"Goal State\")\n",
    "plot!([0], [0], lw=10, markershape=:o, label=\"Planet Earth\")"
   ]
  },
  {
   "cell_type": "code",
   "execution_count": null,
   "metadata": {
    "scrolled": true
   },
   "outputs": [],
   "source": [
    "knots = 100\n",
    "function impulse_ref_traj(init_orbit::Orbit,final_orbit::Orbit) #knots,Nx,Nu\n",
    "    time = knots #Int(ceil(init_orbit.period/2*knots/2+final_orbit.period*knots))\n",
    "    traj = zeros(time-1,Nx+Nu)\n",
    "    x = copy(init_orbit.x0)\n",
    "    u = zeros(Nu)\n",
    "    traj[1,:] .= vcat(x,u)\n",
    "    h = init_orbit.period/(knots)\n",
    "    for i in 2:size(traj)[1]\n",
    "        integrator_rk8!(x, u, h)\n",
    "        if (i == Int(ceil(init_orbit.period/2*knots)))\n",
    "            x = final_orbit.x0 .* -1\n",
    "            h = 5*final_orbit.period/(knots)\n",
    "        end\n",
    "        traj[i,:] .= vcat(x,u)\n",
    "    end\n",
    "    traj = reshape(traj',((time-1)*(Nx+Nu),1))\n",
    "    traj = vcat(traj,final_orbit.x0)\n",
    "    return traj\n",
    "end\n",
    "z = impulse_ref_traj(transfer_orbit,goal_orbit)\n",
    "X,U = unpackZ(knots, z)\n",
    "transition = Int(ceil(transfer_orbit.period*knots/5))\n",
    "# display(X[:,transition-5:transition+5]')\n",
    "plot(X[1, :], X[2, :], aspect_ratio=:equal, lims=(-semiMajorAxis_goal*1.5,semiMajorAxis_goal*1.5))\n",
    "plot!([goal_orbit.x0[1]], [goal_orbit.x0[2]], markershape=:xcross, markersize=5)"
   ]
  },
  {
   "cell_type": "code",
   "execution_count": 29,
   "metadata": {
    "scrolled": true
   },
   "outputs": [
    {
     "data": {
      "text/plain": [
       "plot3d_orbit (generic function with 1 method)"
      ]
     },
     "execution_count": 29,
     "metadata": {},
     "output_type": "execute_result"
    }
   ],
   "source": [
    "function plot3d_orbit(X, label)\n",
    "    plot3d(X[1, :], X[2, :], X[3,:], aspect_ratio=:equal, lims=(-semiMajorAxis_goal*1.25,semiMajorAxis_goal*1.25), title = \"$(label) Trajectory ($(orbits) orbits)\", label = \"$(label)\", lw = 2)\n",
    "#     plot!([traj[1, 1]], [traj[1, 2]], [traj[1, 3]], markershape=:xcross, markersize=5)\n",
    "#     plot!([traj[end, 1]], [traj[end, 2]], [traj[end, 3]], markershape=:xcross, markersize=5)\n",
    "    xlabel!(\"Orbital Units\")\n",
    "    ylabel!(\"Orbital Units\")\n",
    "#     plot!([goal_orbit.x0[1]], [goal_orbit.x0[2]], [goal_orbit.x0[3]], markershape=:xcross, markersize=5, label=\"Goal State\")\n",
    "    plot!([0], [0], [0],lw=10, markershape=:o, label=\"Planet Earth\", color=\"green\")\n",
    "end"
   ]
  },
  {
   "cell_type": "code",
   "execution_count": 74,
   "metadata": {},
   "outputs": [
    {
     "name": "stdout",
     "output_type": "stream",
     "text": [
      "17.015847992257346"
     ]
    },
    {
     "data": {
      "image/svg+xml": [
       "<?xml version=\"1.0\" encoding=\"utf-8\"?>\n",
       "<svg xmlns=\"http://www.w3.org/2000/svg\" xmlns:xlink=\"http://www.w3.org/1999/xlink\" width=\"600\" height=\"400\" viewBox=\"0 0 2400 1600\">\n",
       "<defs>\n",
       "  <clipPath id=\"clip180\">\n",
       "    <rect x=\"0\" y=\"0\" width=\"2400\" height=\"1600\"/>\n",
       "  </clipPath>\n",
       "</defs>\n",
       "<path clip-path=\"url(#clip180)\" d=\"\n",
       "M0 1600 L2400 1600 L2400 0 L0 0  Z\n",
       "  \" fill=\"#ffffff\" fill-rule=\"evenodd\" fill-opacity=\"1\"/>\n",
       "<defs>\n",
       "  <clipPath id=\"clip181\">\n",
       "    <rect x=\"480\" y=\"0\" width=\"1681\" height=\"1600\"/>\n",
       "  </clipPath>\n",
       "</defs>\n",
       "<defs>\n",
       "  <clipPath id=\"clip182\">\n",
       "    <rect x=\"600\" y=\"123\" width=\"1301\" height=\"1301\"/>\n",
       "  </clipPath>\n",
       "</defs>\n",
       "<path clip-path=\"url(#clip182)\" d=\"\n",
       "M600.263 1346.4 L600.263 353.805 L1075.99 123.472 L1899.97 200.25 L1899.97 1192.85 L1424.24 1423.18 L600.263 1346.4  Z\n",
       "  \" fill=\"#ffffff\" fill-rule=\"evenodd\" fill-opacity=\"1\"/>\n",
       "<polyline clip-path=\"url(#clip182)\" style=\"stroke:#000000; stroke-width:2; stroke-opacity:0.1; fill:none\" points=\"\n",
       "  628.896,1349.07 1104.62,1118.74 \n",
       "  \"/>\n",
       "<polyline clip-path=\"url(#clip182)\" style=\"stroke:#000000; stroke-width:2; stroke-opacity:0.1; fill:none\" points=\"\n",
       "  1104.62,1118.74 1104.62,126.14 \n",
       "  \"/>\n",
       "<polyline clip-path=\"url(#clip182)\" style=\"stroke:#000000; stroke-width:2; stroke-opacity:0.1; fill:none\" points=\"\n",
       "  820.575,1366.93 1296.3,1136.6 \n",
       "  \"/>\n",
       "<polyline clip-path=\"url(#clip182)\" style=\"stroke:#000000; stroke-width:2; stroke-opacity:0.1; fill:none\" points=\"\n",
       "  1296.3,1136.6 1296.3,144.001 \n",
       "  \"/>\n",
       "<polyline clip-path=\"url(#clip182)\" style=\"stroke:#000000; stroke-width:2; stroke-opacity:0.1; fill:none\" points=\"\n",
       "  1012.25,1384.79 1487.98,1154.46 \n",
       "  \"/>\n",
       "<polyline clip-path=\"url(#clip182)\" style=\"stroke:#000000; stroke-width:2; stroke-opacity:0.1; fill:none\" points=\"\n",
       "  1487.98,1154.46 1487.98,161.861 \n",
       "  \"/>\n",
       "<polyline clip-path=\"url(#clip182)\" style=\"stroke:#000000; stroke-width:2; stroke-opacity:0.1; fill:none\" points=\"\n",
       "  1203.93,1402.65 1679.66,1172.32 \n",
       "  \"/>\n",
       "<polyline clip-path=\"url(#clip182)\" style=\"stroke:#000000; stroke-width:2; stroke-opacity:0.1; fill:none\" points=\"\n",
       "  1679.66,1172.32 1679.66,179.721 \n",
       "  \"/>\n",
       "<polyline clip-path=\"url(#clip182)\" style=\"stroke:#000000; stroke-width:2; stroke-opacity:0.1; fill:none\" points=\"\n",
       "  1395.61,1420.51 1871.34,1190.18 \n",
       "  \"/>\n",
       "<polyline clip-path=\"url(#clip182)\" style=\"stroke:#000000; stroke-width:2; stroke-opacity:0.1; fill:none\" points=\"\n",
       "  1871.34,1190.18 1871.34,197.582 \n",
       "  \"/>\n",
       "<polyline clip-path=\"url(#clip180)\" style=\"stroke:#000000; stroke-width:4; stroke-opacity:1; fill:none\" points=\"\n",
       "  600.263,1346.4 1424.24,1423.18 \n",
       "  \"/>\n",
       "<polyline clip-path=\"url(#clip180)\" style=\"stroke:#000000; stroke-width:4; stroke-opacity:1; fill:none\" points=\"\n",
       "  628.896,1349.07 634.604,1346.31 \n",
       "  \"/>\n",
       "<polyline clip-path=\"url(#clip180)\" style=\"stroke:#000000; stroke-width:4; stroke-opacity:1; fill:none\" points=\"\n",
       "  820.575,1366.93 826.284,1364.17 \n",
       "  \"/>\n",
       "<polyline clip-path=\"url(#clip180)\" style=\"stroke:#000000; stroke-width:4; stroke-opacity:1; fill:none\" points=\"\n",
       "  1012.25,1384.79 1017.96,1382.03 \n",
       "  \"/>\n",
       "<polyline clip-path=\"url(#clip180)\" style=\"stroke:#000000; stroke-width:4; stroke-opacity:1; fill:none\" points=\"\n",
       "  1203.93,1402.65 1209.64,1399.89 \n",
       "  \"/>\n",
       "<polyline clip-path=\"url(#clip180)\" style=\"stroke:#000000; stroke-width:4; stroke-opacity:1; fill:none\" points=\"\n",
       "  1395.61,1420.51 1401.32,1417.75 \n",
       "  \"/>\n",
       "<path clip-path=\"url(#clip180)\" d=\"M 0 0 M574.838 1397.71 L604.514 1397.71 L604.514 1401.65 L574.838 1401.65 L574.838 1397.71 Z\" fill=\"#000000\" fill-rule=\"evenodd\" fill-opacity=\"1\" /><path clip-path=\"url(#clip180)\" d=\"M 0 0 M618.634 1410.61 L634.953 1410.61 L634.953 1414.54 L613.009 1414.54 L613.009 1410.61 Q615.671 1407.85 620.254 1403.22 Q624.861 1398.57 626.041 1397.23 Q628.287 1394.7 629.166 1392.97 Q630.069 1391.21 630.069 1389.52 Q630.069 1386.76 628.125 1385.03 Q626.204 1383.29 623.102 1383.29 Q620.903 1383.29 618.449 1384.06 Q616.018 1384.82 613.241 1386.37 L613.241 1381.65 Q616.065 1380.51 618.518 1379.94 Q620.972 1379.36 623.009 1379.36 Q628.379 1379.36 631.574 1382.04 Q634.768 1384.73 634.768 1389.22 Q634.768 1391.35 633.958 1393.27 Q633.171 1395.17 631.065 1397.76 Q630.486 1398.43 627.384 1401.65 Q624.282 1404.84 618.634 1410.61 Z\" fill=\"#000000\" fill-rule=\"evenodd\" fill-opacity=\"1\" /><path clip-path=\"url(#clip180)\" d=\"M 0 0 M766.332 1415.57 L796.008 1415.57 L796.008 1419.51 L766.332 1419.51 L766.332 1415.57 Z\" fill=\"#000000\" fill-rule=\"evenodd\" fill-opacity=\"1\" /><path clip-path=\"url(#clip180)\" d=\"M 0 0 M806.91 1428.47 L814.549 1428.47 L814.549 1402.1 L806.239 1403.77 L806.239 1399.51 L814.503 1397.84 L819.179 1397.84 L819.179 1428.47 L826.818 1428.47 L826.818 1432.4 L806.91 1432.4 L806.91 1428.47 Z\" fill=\"#000000\" fill-rule=\"evenodd\" fill-opacity=\"1\" /><path clip-path=\"url(#clip180)\" d=\"M 0 0 M988.254 1418.78 Q984.643 1418.78 982.814 1422.35 Q981.009 1425.89 981.009 1433.02 Q981.009 1440.12 982.814 1443.69 Q984.643 1447.23 988.254 1447.23 Q991.888 1447.23 993.694 1443.69 Q995.522 1440.12 995.522 1433.02 Q995.522 1425.89 993.694 1422.35 Q991.888 1418.78 988.254 1418.78 M988.254 1415.08 Q994.064 1415.08 997.12 1419.68 Q1000.2 1424.27 1000.2 1433.02 Q1000.2 1441.74 997.12 1446.35 Q994.064 1450.93 988.254 1450.93 Q982.444 1450.93 979.365 1446.35 Q976.31 1441.74 976.31 1433.02 Q976.31 1424.27 979.365 1419.68 Q982.444 1415.08 988.254 1415.08 Z\" fill=\"#000000\" fill-rule=\"evenodd\" fill-opacity=\"1\" /><path clip-path=\"url(#clip180)\" d=\"M 0 0 M1170.31 1464.19 L1177.95 1464.19 L1177.95 1437.82 L1169.64 1439.49 L1169.64 1435.23 L1177.91 1433.56 L1182.58 1433.56 L1182.58 1464.19 L1190.22 1464.19 L1190.22 1468.12 L1170.31 1468.12 L1170.31 1464.19 Z\" fill=\"#000000\" fill-rule=\"evenodd\" fill-opacity=\"1\" /><path clip-path=\"url(#clip180)\" d=\"M 0 0 M1366.26 1482.05 L1382.58 1482.05 L1382.58 1485.98 L1360.64 1485.98 L1360.64 1482.05 Q1363.3 1479.29 1367.89 1474.66 Q1372.49 1470.01 1373.67 1468.67 Q1375.92 1466.15 1376.8 1464.41 Q1377.7 1462.65 1377.7 1460.96 Q1377.7 1458.21 1375.76 1456.47 Q1373.83 1454.73 1370.73 1454.73 Q1368.53 1454.73 1366.08 1455.5 Q1363.65 1456.26 1360.87 1457.81 L1360.87 1453.09 Q1363.7 1451.96 1366.15 1451.38 Q1368.6 1450.8 1370.64 1450.8 Q1376.01 1450.8 1379.2 1453.48 Q1382.4 1456.17 1382.4 1460.66 Q1382.4 1462.79 1381.59 1464.71 Q1380.8 1466.61 1378.7 1469.2 Q1378.12 1469.87 1375.01 1473.09 Q1371.91 1476.28 1366.26 1482.05 Z\" fill=\"#000000\" fill-rule=\"evenodd\" fill-opacity=\"1\" /><path clip-path=\"url(#clip180)\" d=\"M 0 0 M710.289 1521.78 Q703.287 1521.78 699.149 1527 Q695.043 1532.22 695.043 1541.22 Q695.043 1550.2 699.149 1555.42 Q703.287 1560.64 710.289 1560.64 Q717.292 1560.64 721.366 1555.42 Q725.472 1550.2 725.472 1541.22 Q725.472 1532.22 721.366 1527 Q717.292 1521.78 710.289 1521.78 M710.289 1516.56 Q720.284 1516.56 726.267 1523.27 Q732.251 1529.96 732.251 1541.22 Q732.251 1552.46 726.267 1559.17 Q720.284 1565.86 710.289 1565.86 Q700.263 1565.86 694.248 1559.17 Q688.264 1552.49 688.264 1541.22 Q688.264 1529.96 694.248 1523.27 Q700.263 1516.56 710.289 1516.56 Z\" fill=\"#000000\" fill-rule=\"evenodd\" fill-opacity=\"1\" /><path clip-path=\"url(#clip180)\" d=\"M 0 0 M762.711 1534.76 Q761.724 1534.19 760.547 1533.93 Q759.401 1533.65 758 1533.65 Q753.035 1533.65 750.361 1536.89 Q747.72 1540.11 747.72 1546.16 L747.72 1564.94 L741.831 1564.94 L741.831 1529.29 L747.72 1529.29 L747.72 1534.83 Q749.566 1531.58 752.526 1530.02 Q755.486 1528.43 759.719 1528.43 Q760.324 1528.43 761.056 1528.52 Q761.788 1528.59 762.679 1528.75 L762.711 1534.76 Z\" fill=\"#000000\" fill-rule=\"evenodd\" fill-opacity=\"1\" /><path clip-path=\"url(#clip180)\" d=\"M 0 0 M794.444 1547.14 Q794.444 1540.68 791.77 1537.02 Q789.129 1533.33 784.482 1533.33 Q779.835 1533.33 777.161 1537.02 Q774.519 1540.68 774.519 1547.14 Q774.519 1553.6 777.161 1557.3 Q779.835 1560.96 784.482 1560.96 Q789.129 1560.96 791.77 1557.3 Q794.444 1553.6 794.444 1547.14 M774.519 1534.7 Q776.365 1531.52 779.166 1529.99 Q781.999 1528.43 785.914 1528.43 Q792.407 1528.43 796.449 1533.58 Q800.523 1538.74 800.523 1547.14 Q800.523 1555.55 796.449 1560.7 Q792.407 1565.86 785.914 1565.86 Q781.999 1565.86 779.166 1564.33 Q776.365 1562.77 774.519 1559.59 L774.519 1564.94 L768.631 1564.94 L768.631 1515.41 L774.519 1515.41 L774.519 1534.7 Z\" fill=\"#000000\" fill-rule=\"evenodd\" fill-opacity=\"1\" /><path clip-path=\"url(#clip180)\" d=\"M 0 0 M810.231 1529.29 L816.087 1529.29 L816.087 1564.94 L810.231 1564.94 L810.231 1529.29 M810.231 1515.41 L816.087 1515.41 L816.087 1522.83 L810.231 1522.83 L810.231 1515.41 Z\" fill=\"#000000\" fill-rule=\"evenodd\" fill-opacity=\"1\" /><path clip-path=\"url(#clip180)\" d=\"M 0 0 M834.134 1519.17 L834.134 1529.29 L846.197 1529.29 L846.197 1533.84 L834.134 1533.84 L834.134 1553.19 Q834.134 1557.55 835.312 1558.79 Q836.521 1560.03 840.182 1560.03 L846.197 1560.03 L846.197 1564.94 L840.182 1564.94 Q833.402 1564.94 830.824 1562.42 Q828.246 1559.87 828.246 1553.19 L828.246 1533.84 L823.949 1533.84 L823.949 1529.29 L828.246 1529.29 L828.246 1519.17 L834.134 1519.17 Z\" fill=\"#000000\" fill-rule=\"evenodd\" fill-opacity=\"1\" /><path clip-path=\"url(#clip180)\" d=\"M 0 0 M870.1 1547.02 Q863.003 1547.02 860.265 1548.64 Q857.528 1550.26 857.528 1554.18 Q857.528 1557.3 859.565 1559.14 Q861.634 1560.96 865.167 1560.96 Q870.037 1560.96 872.965 1557.52 Q875.925 1554.05 875.925 1548.32 L875.925 1547.02 L870.1 1547.02 M881.781 1544.6 L881.781 1564.94 L875.925 1564.94 L875.925 1559.52 Q873.92 1562.77 870.928 1564.33 Q867.936 1565.86 863.607 1565.86 Q858.133 1565.86 854.886 1562.8 Q851.672 1559.72 851.672 1554.56 Q851.672 1548.54 855.682 1545.49 Q859.724 1542.43 867.713 1542.43 L875.925 1542.43 L875.925 1541.86 Q875.925 1537.82 873.251 1535.62 Q870.61 1533.39 865.804 1533.39 Q862.748 1533.39 859.852 1534.12 Q856.955 1534.86 854.282 1536.32 L854.282 1530.91 Q857.496 1529.67 860.52 1529.06 Q863.544 1528.43 866.408 1528.43 Q874.143 1528.43 877.962 1532.44 Q881.781 1536.45 881.781 1544.6 Z\" fill=\"#000000\" fill-rule=\"evenodd\" fill-opacity=\"1\" /><path clip-path=\"url(#clip180)\" d=\"M 0 0 M893.845 1515.41 L899.701 1515.41 L899.701 1564.94 L893.845 1564.94 L893.845 1515.41 Z\" fill=\"#000000\" fill-rule=\"evenodd\" fill-opacity=\"1\" /><path clip-path=\"url(#clip180)\" d=\"M 0 0 M932.198 1517.42 L938.659 1517.42 L938.659 1546.28 Q938.659 1553.92 941.428 1557.3 Q944.197 1560.64 950.404 1560.64 Q956.579 1560.64 959.348 1557.3 Q962.117 1553.92 962.117 1546.28 L962.117 1517.42 L968.578 1517.42 L968.578 1547.08 Q968.578 1556.37 963.963 1561.12 Q959.379 1565.86 950.404 1565.86 Q941.396 1565.86 936.781 1561.12 Q932.198 1556.37 932.198 1547.08 L932.198 1517.42 Z\" fill=\"#000000\" fill-rule=\"evenodd\" fill-opacity=\"1\" /><path clip-path=\"url(#clip180)\" d=\"M 0 0 M1010.02 1543.42 L1010.02 1564.94 L1004.16 1564.94 L1004.16 1543.61 Q1004.16 1538.55 1002.19 1536.03 Q1000.22 1533.52 996.269 1533.52 Q991.526 1533.52 988.789 1536.54 Q986.052 1539.57 986.052 1544.79 L986.052 1564.94 L980.163 1564.94 L980.163 1529.29 L986.052 1529.29 L986.052 1534.83 Q988.152 1531.61 990.985 1530.02 Q993.85 1528.43 997.574 1528.43 Q1003.72 1528.43 1006.87 1532.25 Q1010.02 1536.03 1010.02 1543.42 Z\" fill=\"#000000\" fill-rule=\"evenodd\" fill-opacity=\"1\" /><path clip-path=\"url(#clip180)\" d=\"M 0 0 M1021.7 1529.29 L1027.56 1529.29 L1027.56 1564.94 L1021.7 1564.94 L1021.7 1529.29 M1021.7 1515.41 L1027.56 1515.41 L1027.56 1522.83 L1021.7 1522.83 L1021.7 1515.41 Z\" fill=\"#000000\" fill-rule=\"evenodd\" fill-opacity=\"1\" /><path clip-path=\"url(#clip180)\" d=\"M 0 0 M1045.6 1519.17 L1045.6 1529.29 L1057.67 1529.29 L1057.67 1533.84 L1045.6 1533.84 L1045.6 1553.19 Q1045.6 1557.55 1046.78 1558.79 Q1047.99 1560.03 1051.65 1560.03 L1057.67 1560.03 L1057.67 1564.94 L1051.65 1564.94 Q1044.87 1564.94 1042.29 1562.42 Q1039.71 1559.87 1039.71 1553.19 L1039.71 1533.84 L1035.42 1533.84 L1035.42 1529.29 L1039.71 1529.29 L1039.71 1519.17 L1045.6 1519.17 Z\" fill=\"#000000\" fill-rule=\"evenodd\" fill-opacity=\"1\" /><path clip-path=\"url(#clip180)\" d=\"M 0 0 M1088.09 1530.34 L1088.09 1535.88 Q1085.61 1534.6 1082.94 1533.97 Q1080.26 1533.33 1077.4 1533.33 Q1073.04 1533.33 1070.84 1534.67 Q1068.68 1536 1068.68 1538.68 Q1068.68 1540.71 1070.24 1541.89 Q1071.8 1543.04 1076.51 1544.09 L1078.51 1544.53 Q1084.75 1545.87 1087.36 1548.32 Q1090 1550.74 1090 1555.1 Q1090 1560.07 1086.06 1562.96 Q1082.14 1565.86 1075.27 1565.86 Q1072.4 1565.86 1069.28 1565.29 Q1066.2 1564.74 1062.76 1563.63 L1062.76 1557.58 Q1066.01 1559.27 1069.16 1560.13 Q1072.31 1560.96 1075.39 1560.96 Q1079.53 1560.96 1081.76 1559.56 Q1083.99 1558.12 1083.99 1555.55 Q1083.99 1553.16 1082.36 1551.89 Q1080.77 1550.61 1075.33 1549.43 L1073.29 1548.96 Q1067.85 1547.81 1065.43 1545.46 Q1063.01 1543.07 1063.01 1538.93 Q1063.01 1533.9 1066.58 1531.16 Q1070.14 1528.43 1076.7 1528.43 Q1079.95 1528.43 1082.81 1528.91 Q1085.68 1529.38 1088.09 1530.34 Z\" fill=\"#000000\" fill-rule=\"evenodd\" fill-opacity=\"1\" /><polyline clip-path=\"url(#clip182)\" style=\"stroke:#000000; stroke-width:2; stroke-opacity:0.1; fill:none\" points=\"\n",
       "  1440.78,1415.18 616.794,1338.4 \n",
       "  \"/>\n",
       "<polyline clip-path=\"url(#clip182)\" style=\"stroke:#000000; stroke-width:2; stroke-opacity:0.1; fill:none\" points=\"\n",
       "  616.794,1338.4 616.794,345.801 \n",
       "  \"/>\n",
       "<polyline clip-path=\"url(#clip182)\" style=\"stroke:#000000; stroke-width:2; stroke-opacity:0.1; fill:none\" points=\"\n",
       "  1551.44,1361.59 727.46,1284.82 \n",
       "  \"/>\n",
       "<polyline clip-path=\"url(#clip182)\" style=\"stroke:#000000; stroke-width:2; stroke-opacity:0.1; fill:none\" points=\"\n",
       "  727.46,1284.82 727.46,292.22 \n",
       "  \"/>\n",
       "<polyline clip-path=\"url(#clip182)\" style=\"stroke:#000000; stroke-width:2; stroke-opacity:0.1; fill:none\" points=\"\n",
       "  1662.11,1308.01 838.126,1231.24 \n",
       "  \"/>\n",
       "<polyline clip-path=\"url(#clip182)\" style=\"stroke:#000000; stroke-width:2; stroke-opacity:0.1; fill:none\" points=\"\n",
       "  838.126,1231.24 838.126,238.639 \n",
       "  \"/>\n",
       "<polyline clip-path=\"url(#clip182)\" style=\"stroke:#000000; stroke-width:2; stroke-opacity:0.1; fill:none\" points=\"\n",
       "  1772.77,1254.43 948.792,1177.65 \n",
       "  \"/>\n",
       "<polyline clip-path=\"url(#clip182)\" style=\"stroke:#000000; stroke-width:2; stroke-opacity:0.1; fill:none\" points=\"\n",
       "  948.792,1177.65 948.792,185.057 \n",
       "  \"/>\n",
       "<polyline clip-path=\"url(#clip182)\" style=\"stroke:#000000; stroke-width:2; stroke-opacity:0.1; fill:none\" points=\"\n",
       "  1883.44,1200.85 1059.46,1124.07 \n",
       "  \"/>\n",
       "<polyline clip-path=\"url(#clip182)\" style=\"stroke:#000000; stroke-width:2; stroke-opacity:0.1; fill:none\" points=\"\n",
       "  1059.46,1124.07 1059.46,131.476 \n",
       "  \"/>\n",
       "<polyline clip-path=\"url(#clip180)\" style=\"stroke:#000000; stroke-width:4; stroke-opacity:1; fill:none\" points=\"\n",
       "  1424.24,1423.18 1899.97,1192.85 \n",
       "  \"/>\n",
       "<polyline clip-path=\"url(#clip180)\" style=\"stroke:#000000; stroke-width:4; stroke-opacity:1; fill:none\" points=\"\n",
       "  1440.78,1415.18 1430.89,1414.25 \n",
       "  \"/>\n",
       "<polyline clip-path=\"url(#clip180)\" style=\"stroke:#000000; stroke-width:4; stroke-opacity:1; fill:none\" points=\"\n",
       "  1551.44,1361.59 1541.55,1360.67 \n",
       "  \"/>\n",
       "<polyline clip-path=\"url(#clip180)\" style=\"stroke:#000000; stroke-width:4; stroke-opacity:1; fill:none\" points=\"\n",
       "  1662.11,1308.01 1652.22,1307.09 \n",
       "  \"/>\n",
       "<polyline clip-path=\"url(#clip180)\" style=\"stroke:#000000; stroke-width:4; stroke-opacity:1; fill:none\" points=\"\n",
       "  1772.77,1254.43 1762.89,1253.51 \n",
       "  \"/>\n",
       "<polyline clip-path=\"url(#clip180)\" style=\"stroke:#000000; stroke-width:4; stroke-opacity:1; fill:none\" points=\"\n",
       "  1883.44,1200.85 1873.55,1199.93 \n",
       "  \"/>\n",
       "<path clip-path=\"url(#clip180)\" d=\"M 0 0 M1434.72 1463.82 L1464.39 1463.82 L1464.39 1467.75 L1434.72 1467.75 L1434.72 1463.82 Z\" fill=\"#000000\" fill-rule=\"evenodd\" fill-opacity=\"1\" /><path clip-path=\"url(#clip180)\" d=\"M 0 0 M1478.51 1476.71 L1494.83 1476.71 L1494.83 1480.65 L1472.89 1480.65 L1472.89 1476.71 Q1475.55 1473.96 1480.13 1469.33 Q1484.74 1464.68 1485.92 1463.33 Q1488.17 1460.81 1489.05 1459.07 Q1489.95 1457.31 1489.95 1455.62 Q1489.95 1452.87 1488 1451.13 Q1486.08 1449.4 1482.98 1449.4 Q1480.78 1449.4 1478.33 1450.16 Q1475.9 1450.93 1473.12 1452.48 L1473.12 1447.75 Q1475.94 1446.62 1478.4 1446.04 Q1480.85 1445.46 1482.89 1445.46 Q1488.26 1445.46 1491.45 1448.15 Q1494.65 1450.83 1494.65 1455.32 Q1494.65 1457.45 1493.84 1459.37 Q1493.05 1461.27 1490.94 1463.87 Q1490.37 1464.54 1487.26 1467.75 Q1484.16 1470.95 1478.51 1476.71 Z\" fill=\"#000000\" fill-rule=\"evenodd\" fill-opacity=\"1\" /><path clip-path=\"url(#clip180)\" d=\"M 0 0 M1545.2 1410.24 L1574.87 1410.24 L1574.87 1414.17 L1545.2 1414.17 L1545.2 1410.24 Z\" fill=\"#000000\" fill-rule=\"evenodd\" fill-opacity=\"1\" /><path clip-path=\"url(#clip180)\" d=\"M 0 0 M1585.78 1423.13 L1593.42 1423.13 L1593.42 1396.77 L1585.11 1398.43 L1585.11 1394.17 L1593.37 1392.51 L1598.05 1392.51 L1598.05 1423.13 L1605.68 1423.13 L1605.68 1427.07 L1585.78 1427.07 L1585.78 1423.13 Z\" fill=\"#000000\" fill-rule=\"evenodd\" fill-opacity=\"1\" /><path clip-path=\"url(#clip180)\" d=\"M 0 0 M1686.11 1342 Q1682.5 1342 1680.67 1345.57 Q1678.86 1349.11 1678.86 1356.24 Q1678.86 1363.35 1680.67 1366.91 Q1682.5 1370.45 1686.11 1370.45 Q1689.74 1370.45 1691.55 1366.91 Q1693.38 1363.35 1693.38 1356.24 Q1693.38 1349.11 1691.55 1345.57 Q1689.74 1342 1686.11 1342 M1686.11 1338.3 Q1691.92 1338.3 1694.97 1342.91 Q1698.05 1347.49 1698.05 1356.24 Q1698.05 1364.97 1694.97 1369.57 Q1691.92 1374.16 1686.11 1374.16 Q1680.3 1374.16 1677.22 1369.57 Q1674.16 1364.97 1674.16 1356.24 Q1674.16 1347.49 1677.22 1342.91 Q1680.3 1338.3 1686.11 1338.3 Z\" fill=\"#000000\" fill-rule=\"evenodd\" fill-opacity=\"1\" /><path clip-path=\"url(#clip180)\" d=\"M 0 0 M1787.16 1315.97 L1794.79 1315.97 L1794.79 1289.6 L1786.48 1291.27 L1786.48 1287.01 L1794.75 1285.34 L1799.42 1285.34 L1799.42 1315.97 L1807.06 1315.97 L1807.06 1319.9 L1787.16 1319.9 L1787.16 1315.97 Z\" fill=\"#000000\" fill-rule=\"evenodd\" fill-opacity=\"1\" /><path clip-path=\"url(#clip180)\" d=\"M 0 0 M1902.09 1262.39 L1918.41 1262.39 L1918.41 1266.32 L1896.47 1266.32 L1896.47 1262.39 Q1899.13 1259.63 1903.71 1255 Q1908.32 1250.35 1909.5 1249.01 Q1911.75 1246.48 1912.62 1244.75 Q1913.53 1242.99 1913.53 1241.3 Q1913.53 1238.55 1911.58 1236.81 Q1909.66 1235.07 1906.56 1235.07 Q1904.36 1235.07 1901.91 1235.84 Q1899.48 1236.6 1896.7 1238.15 L1896.7 1233.43 Q1899.52 1232.3 1901.98 1231.72 Q1904.43 1231.14 1906.47 1231.14 Q1911.84 1231.14 1915.03 1233.82 Q1918.23 1236.51 1918.23 1241 Q1918.23 1243.13 1917.42 1245.05 Q1916.63 1246.95 1914.52 1249.54 Q1913.94 1250.21 1910.84 1253.43 Q1907.74 1256.62 1902.09 1262.39 Z\" fill=\"#000000\" fill-rule=\"evenodd\" fill-opacity=\"1\" /><path clip-path=\"url(#clip180)\" d=\"M 0 0 M1606.38 1445 Q1599.38 1445 1595.24 1450.22 Q1591.14 1455.44 1591.14 1464.45 Q1591.14 1473.42 1595.24 1478.64 Q1599.38 1483.86 1606.38 1483.86 Q1613.39 1483.86 1617.46 1478.64 Q1621.57 1473.42 1621.57 1464.45 Q1621.57 1455.44 1617.46 1450.22 Q1613.39 1445 1606.38 1445 M1606.38 1439.78 Q1616.38 1439.78 1622.36 1446.49 Q1628.34 1453.18 1628.34 1464.45 Q1628.34 1475.68 1622.36 1482.4 Q1616.38 1489.08 1606.38 1489.08 Q1596.36 1489.08 1590.34 1482.4 Q1584.36 1475.71 1584.36 1464.45 Q1584.36 1453.18 1590.34 1446.49 Q1596.36 1439.78 1606.38 1439.78 Z\" fill=\"#000000\" fill-rule=\"evenodd\" fill-opacity=\"1\" /><path clip-path=\"url(#clip180)\" d=\"M 0 0 M1658.8 1457.98 Q1657.82 1457.41 1656.64 1457.16 Q1655.49 1456.87 1654.09 1456.87 Q1649.13 1456.87 1646.46 1460.12 Q1643.81 1463.33 1643.81 1469.38 L1643.81 1488.16 L1637.93 1488.16 L1637.93 1452.51 L1643.81 1452.51 L1643.81 1458.05 Q1645.66 1454.8 1648.62 1453.24 Q1651.58 1451.65 1655.81 1451.65 Q1656.42 1451.65 1657.15 1451.75 Q1657.88 1451.81 1658.77 1451.97 L1658.8 1457.98 Z\" fill=\"#000000\" fill-rule=\"evenodd\" fill-opacity=\"1\" /><path clip-path=\"url(#clip180)\" d=\"M 0 0 M1690.54 1470.37 Q1690.54 1463.9 1687.86 1460.24 Q1685.22 1456.55 1680.58 1456.55 Q1675.93 1456.55 1673.25 1460.24 Q1670.61 1463.9 1670.61 1470.37 Q1670.61 1476.83 1673.25 1480.52 Q1675.93 1484.18 1680.58 1484.18 Q1685.22 1484.18 1687.86 1480.52 Q1690.54 1476.83 1690.54 1470.37 M1670.61 1457.92 Q1672.46 1454.74 1675.26 1453.21 Q1678.09 1451.65 1682.01 1451.65 Q1688.5 1451.65 1692.54 1456.81 Q1696.62 1461.96 1696.62 1470.37 Q1696.62 1478.77 1692.54 1483.92 Q1688.5 1489.08 1682.01 1489.08 Q1678.09 1489.08 1675.26 1487.55 Q1672.46 1485.99 1670.61 1482.81 L1670.61 1488.16 L1664.72 1488.16 L1664.72 1438.63 L1670.61 1438.63 L1670.61 1457.92 Z\" fill=\"#000000\" fill-rule=\"evenodd\" fill-opacity=\"1\" /><path clip-path=\"url(#clip180)\" d=\"M 0 0 M1706.32 1452.51 L1712.18 1452.51 L1712.18 1488.16 L1706.32 1488.16 L1706.32 1452.51 M1706.32 1438.63 L1712.18 1438.63 L1712.18 1446.05 L1706.32 1446.05 L1706.32 1438.63 Z\" fill=\"#000000\" fill-rule=\"evenodd\" fill-opacity=\"1\" /><path clip-path=\"url(#clip180)\" d=\"M 0 0 M1730.23 1442.39 L1730.23 1452.51 L1742.29 1452.51 L1742.29 1457.06 L1730.23 1457.06 L1730.23 1476.41 Q1730.23 1480.77 1731.41 1482.01 Q1732.62 1483.26 1736.28 1483.26 L1742.29 1483.26 L1742.29 1488.16 L1736.28 1488.16 Q1729.5 1488.16 1726.92 1485.64 Q1724.34 1483.1 1724.34 1476.41 L1724.34 1457.06 L1720.04 1457.06 L1720.04 1452.51 L1724.34 1452.51 L1724.34 1442.39 L1730.23 1442.39 Z\" fill=\"#000000\" fill-rule=\"evenodd\" fill-opacity=\"1\" /><path clip-path=\"url(#clip180)\" d=\"M 0 0 M1766.19 1470.24 Q1759.1 1470.24 1756.36 1471.86 Q1753.62 1473.48 1753.62 1477.4 Q1753.62 1480.52 1755.66 1482.36 Q1757.73 1484.18 1761.26 1484.18 Q1766.13 1484.18 1769.06 1480.74 Q1772.02 1477.27 1772.02 1471.54 L1772.02 1470.24 L1766.19 1470.24 M1777.88 1467.82 L1777.88 1488.16 L1772.02 1488.16 L1772.02 1482.75 Q1770.01 1485.99 1767.02 1487.55 Q1764.03 1489.08 1759.7 1489.08 Q1754.23 1489.08 1750.98 1486.02 Q1747.77 1482.94 1747.77 1477.78 Q1747.77 1471.77 1751.78 1468.71 Q1755.82 1465.65 1763.81 1465.65 L1772.02 1465.65 L1772.02 1465.08 Q1772.02 1461.04 1769.35 1458.84 Q1766.7 1456.62 1761.9 1456.62 Q1758.84 1456.62 1755.95 1457.35 Q1753.05 1458.08 1750.38 1459.54 L1750.38 1454.13 Q1753.59 1452.89 1756.61 1452.29 Q1759.64 1451.65 1762.5 1451.65 Q1770.24 1451.65 1774.06 1455.66 Q1777.88 1459.67 1777.88 1467.82 Z\" fill=\"#000000\" fill-rule=\"evenodd\" fill-opacity=\"1\" /><path clip-path=\"url(#clip180)\" d=\"M 0 0 M1789.94 1438.63 L1795.79 1438.63 L1795.79 1488.16 L1789.94 1488.16 L1789.94 1438.63 Z\" fill=\"#000000\" fill-rule=\"evenodd\" fill-opacity=\"1\" /><path clip-path=\"url(#clip180)\" d=\"M 0 0 M1828.29 1440.64 L1834.75 1440.64 L1834.75 1469.51 Q1834.75 1477.14 1837.52 1480.52 Q1840.29 1483.86 1846.5 1483.86 Q1852.67 1483.86 1855.44 1480.52 Q1858.21 1477.14 1858.21 1469.51 L1858.21 1440.64 L1864.67 1440.64 L1864.67 1470.3 Q1864.67 1479.6 1860.06 1484.34 Q1855.47 1489.08 1846.5 1489.08 Q1837.49 1489.08 1832.88 1484.34 Q1828.29 1479.6 1828.29 1470.3 L1828.29 1440.64 Z\" fill=\"#000000\" fill-rule=\"evenodd\" fill-opacity=\"1\" /><path clip-path=\"url(#clip180)\" d=\"M 0 0 M1906.11 1466.64 L1906.11 1488.16 L1900.26 1488.16 L1900.26 1466.83 Q1900.26 1461.77 1898.28 1459.26 Q1896.31 1456.74 1892.36 1456.74 Q1887.62 1456.74 1884.88 1459.77 Q1882.15 1462.79 1882.15 1468.01 L1882.15 1488.16 L1876.26 1488.16 L1876.26 1452.51 L1882.15 1452.51 L1882.15 1458.05 Q1884.25 1454.83 1887.08 1453.24 Q1889.94 1451.65 1893.67 1451.65 Q1899.81 1451.65 1902.96 1455.47 Q1906.11 1459.26 1906.11 1466.64 Z\" fill=\"#000000\" fill-rule=\"evenodd\" fill-opacity=\"1\" /><path clip-path=\"url(#clip180)\" d=\"M 0 0 M1917.79 1452.51 L1923.65 1452.51 L1923.65 1488.16 L1917.79 1488.16 L1917.79 1452.51 M1917.79 1438.63 L1923.65 1438.63 L1923.65 1446.05 L1917.79 1446.05 L1917.79 1438.63 Z\" fill=\"#000000\" fill-rule=\"evenodd\" fill-opacity=\"1\" /><path clip-path=\"url(#clip180)\" d=\"M 0 0 M1941.7 1442.39 L1941.7 1452.51 L1953.76 1452.51 L1953.76 1457.06 L1941.7 1457.06 L1941.7 1476.41 Q1941.7 1480.77 1942.87 1482.01 Q1944.08 1483.26 1947.74 1483.26 L1953.76 1483.26 L1953.76 1488.16 L1947.74 1488.16 Q1940.96 1488.16 1938.39 1485.64 Q1935.81 1483.1 1935.81 1476.41 L1935.81 1457.06 L1931.51 1457.06 L1931.51 1452.51 L1935.81 1452.51 L1935.81 1442.39 L1941.7 1442.39 Z\" fill=\"#000000\" fill-rule=\"evenodd\" fill-opacity=\"1\" /><path clip-path=\"url(#clip180)\" d=\"M 0 0 M1984.19 1453.56 L1984.19 1459.1 Q1981.71 1457.82 1979.03 1457.19 Q1976.36 1456.55 1973.49 1456.55 Q1969.13 1456.55 1966.94 1457.89 Q1964.77 1459.23 1964.77 1461.9 Q1964.77 1463.94 1966.33 1465.11 Q1967.89 1466.26 1972.6 1467.31 L1974.61 1467.76 Q1980.85 1469.09 1983.46 1471.54 Q1986.1 1473.96 1986.1 1478.32 Q1986.1 1483.29 1982.15 1486.18 Q1978.24 1489.08 1971.36 1489.08 Q1968.5 1489.08 1965.38 1488.51 Q1962.29 1487.97 1958.85 1486.85 L1958.85 1480.8 Q1962.1 1482.49 1965.25 1483.35 Q1968.4 1484.18 1971.49 1484.18 Q1975.63 1484.18 1977.85 1482.78 Q1980.08 1481.35 1980.08 1478.77 Q1980.08 1476.38 1978.46 1475.11 Q1976.87 1473.83 1971.42 1472.66 L1969.39 1472.18 Q1963.94 1471.03 1961.53 1468.68 Q1959.11 1466.29 1959.11 1462.15 Q1959.11 1457.12 1962.67 1454.39 Q1966.24 1451.65 1972.79 1451.65 Q1976.04 1451.65 1978.9 1452.13 Q1981.77 1452.6 1984.19 1453.56 Z\" fill=\"#000000\" fill-rule=\"evenodd\" fill-opacity=\"1\" /><polyline clip-path=\"url(#clip182)\" style=\"stroke:#000000; stroke-width:2; stroke-opacity:0.1; fill:none\" points=\"\n",
       "  600.263,1311.91 1075.99,1081.58 \n",
       "  \"/>\n",
       "<polyline clip-path=\"url(#clip182)\" style=\"stroke:#000000; stroke-width:2; stroke-opacity:0.1; fill:none\" points=\"\n",
       "  1075.99,1081.58 1899.97,1158.35 \n",
       "  \"/>\n",
       "<polyline clip-path=\"url(#clip182)\" style=\"stroke:#000000; stroke-width:2; stroke-opacity:0.1; fill:none\" points=\"\n",
       "  600.263,1081.01 1075.99,850.674 \n",
       "  \"/>\n",
       "<polyline clip-path=\"url(#clip182)\" style=\"stroke:#000000; stroke-width:2; stroke-opacity:0.1; fill:none\" points=\"\n",
       "  1075.99,850.674 1899.97,927.452 \n",
       "  \"/>\n",
       "<polyline clip-path=\"url(#clip182)\" style=\"stroke:#000000; stroke-width:2; stroke-opacity:0.1; fill:none\" points=\"\n",
       "  600.263,850.104 1075.99,619.771 \n",
       "  \"/>\n",
       "<polyline clip-path=\"url(#clip182)\" style=\"stroke:#000000; stroke-width:2; stroke-opacity:0.1; fill:none\" points=\"\n",
       "  1075.99,619.771 1899.97,696.548 \n",
       "  \"/>\n",
       "<polyline clip-path=\"url(#clip182)\" style=\"stroke:#000000; stroke-width:2; stroke-opacity:0.1; fill:none\" points=\"\n",
       "  600.263,619.2 1075.99,388.867 \n",
       "  \"/>\n",
       "<polyline clip-path=\"url(#clip182)\" style=\"stroke:#000000; stroke-width:2; stroke-opacity:0.1; fill:none\" points=\"\n",
       "  1075.99,388.867 1899.97,465.645 \n",
       "  \"/>\n",
       "<polyline clip-path=\"url(#clip182)\" style=\"stroke:#000000; stroke-width:2; stroke-opacity:0.1; fill:none\" points=\"\n",
       "  600.263,388.297 1075.99,157.964 \n",
       "  \"/>\n",
       "<polyline clip-path=\"url(#clip182)\" style=\"stroke:#000000; stroke-width:2; stroke-opacity:0.1; fill:none\" points=\"\n",
       "  1075.99,157.964 1899.97,234.742 \n",
       "  \"/>\n",
       "<polyline clip-path=\"url(#clip180)\" style=\"stroke:#000000; stroke-width:4; stroke-opacity:1; fill:none\" points=\"\n",
       "  600.263,1346.4 600.263,353.805 \n",
       "  \"/>\n",
       "<polyline clip-path=\"url(#clip180)\" style=\"stroke:#000000; stroke-width:4; stroke-opacity:1; fill:none\" points=\"\n",
       "  600.263,1311.91 605.972,1309.15 \n",
       "  \"/>\n",
       "<polyline clip-path=\"url(#clip180)\" style=\"stroke:#000000; stroke-width:4; stroke-opacity:1; fill:none\" points=\"\n",
       "  600.263,1081.01 605.972,1078.24 \n",
       "  \"/>\n",
       "<polyline clip-path=\"url(#clip180)\" style=\"stroke:#000000; stroke-width:4; stroke-opacity:1; fill:none\" points=\"\n",
       "  600.263,850.104 605.972,847.34 \n",
       "  \"/>\n",
       "<polyline clip-path=\"url(#clip180)\" style=\"stroke:#000000; stroke-width:4; stroke-opacity:1; fill:none\" points=\"\n",
       "  600.263,619.2 605.972,616.436 \n",
       "  \"/>\n",
       "<polyline clip-path=\"url(#clip180)\" style=\"stroke:#000000; stroke-width:4; stroke-opacity:1; fill:none\" points=\"\n",
       "  600.263,388.297 605.972,385.533 \n",
       "  \"/>\n",
       "<path clip-path=\"url(#clip180)\" d=\"M 0 0 M516.148 1312.36 L545.823 1312.36 L545.823 1316.3 L516.148 1316.3 L516.148 1312.36 Z\" fill=\"#000000\" fill-rule=\"evenodd\" fill-opacity=\"1\" /><path clip-path=\"url(#clip180)\" d=\"M 0 0 M559.944 1325.26 L576.263 1325.26 L576.263 1329.19 L554.319 1329.19 L554.319 1325.26 Q556.981 1322.5 561.564 1317.87 Q566.171 1313.22 567.351 1311.88 Q569.596 1309.35 570.476 1307.62 Q571.379 1305.86 571.379 1304.17 Q571.379 1301.41 569.434 1299.68 Q567.513 1297.94 564.411 1297.94 Q562.212 1297.94 559.759 1298.7 Q557.328 1299.47 554.55 1301.02 L554.55 1296.3 Q557.374 1295.16 559.828 1294.58 Q562.282 1294.01 564.319 1294.01 Q569.689 1294.01 572.883 1296.69 Q576.078 1299.38 576.078 1303.87 Q576.078 1306 575.268 1307.92 Q574.481 1309.82 572.374 1312.41 Q571.795 1313.08 568.694 1316.3 Q565.592 1319.49 559.944 1325.26 Z\" fill=\"#000000\" fill-rule=\"evenodd\" fill-opacity=\"1\" /><path clip-path=\"url(#clip180)\" d=\"M 0 0 M515.777 1081.46 L545.453 1081.46 L545.453 1085.39 L515.777 1085.39 L515.777 1081.46 Z\" fill=\"#000000\" fill-rule=\"evenodd\" fill-opacity=\"1\" /><path clip-path=\"url(#clip180)\" d=\"M 0 0 M556.356 1094.35 L563.995 1094.35 L563.995 1067.99 L555.684 1069.65 L555.684 1065.39 L563.948 1063.73 L568.624 1063.73 L568.624 1094.35 L576.263 1094.35 L576.263 1098.29 L556.356 1098.29 L556.356 1094.35 Z\" fill=\"#000000\" fill-rule=\"evenodd\" fill-opacity=\"1\" /><path clip-path=\"url(#clip180)\" d=\"M 0 0 M564.319 835.902 Q560.708 835.902 558.879 839.467 Q557.073 843.009 557.073 850.138 Q557.073 857.245 558.879 860.81 Q560.708 864.351 564.319 864.351 Q567.953 864.351 569.758 860.81 Q571.587 857.245 571.587 850.138 Q571.587 843.009 569.758 839.467 Q567.953 835.902 564.319 835.902 M564.319 832.199 Q570.129 832.199 573.184 836.805 Q576.263 841.388 576.263 850.138 Q576.263 858.865 573.184 863.472 Q570.129 868.055 564.319 868.055 Q558.509 868.055 555.43 863.472 Q552.374 858.865 552.374 850.138 Q552.374 841.388 555.43 836.805 Q558.509 832.199 564.319 832.199 Z\" fill=\"#000000\" fill-rule=\"evenodd\" fill-opacity=\"1\" /><path clip-path=\"url(#clip180)\" d=\"M 0 0 M556.356 632.545 L563.995 632.545 L563.995 606.18 L555.684 607.846 L555.684 603.587 L563.948 601.92 L568.624 601.92 L568.624 632.545 L576.263 632.545 L576.263 636.48 L556.356 636.48 L556.356 632.545 Z\" fill=\"#000000\" fill-rule=\"evenodd\" fill-opacity=\"1\" /><path clip-path=\"url(#clip180)\" d=\"M 0 0 M559.944 401.642 L576.263 401.642 L576.263 405.577 L554.319 405.577 L554.319 401.642 Q556.981 398.887 561.564 394.258 Q566.171 389.605 567.351 388.262 Q569.596 385.739 570.476 384.003 Q571.379 382.244 571.379 380.554 Q571.379 377.799 569.434 376.063 Q567.513 374.327 564.411 374.327 Q562.212 374.327 559.759 375.091 Q557.328 375.855 554.55 377.406 L554.55 372.684 Q557.374 371.549 559.828 370.971 Q562.282 370.392 564.319 370.392 Q569.689 370.392 572.883 373.077 Q576.078 375.762 576.078 380.253 Q576.078 382.383 575.268 384.304 Q574.481 386.202 572.374 388.795 Q571.795 389.466 568.694 392.684 Q565.592 395.878 559.944 401.642 Z\" fill=\"#000000\" fill-rule=\"evenodd\" fill-opacity=\"1\" /><path clip-path=\"url(#clip180)\" d=\"M 0 0 M753.679 34.1734 Q752.423 33.4443 750.924 33.1202 Q749.466 32.7556 747.683 32.7556 Q741.364 32.7556 737.961 36.8875 Q734.599 40.9789 734.599 48.6757 L734.599 72.576 L727.105 72.576 L727.105 27.2059 L734.599 27.2059 L734.599 34.2544 Q736.948 30.1225 740.716 28.1376 Q744.483 26.1121 749.871 26.1121 Q750.64 26.1121 751.572 26.2337 Q752.504 26.3147 753.638 26.5172 L753.679 34.1734 Z\" fill=\"#000000\" fill-rule=\"evenodd\" fill-opacity=\"1\" /><path clip-path=\"url(#clip180)\" d=\"M 0 0 M798.482 48.0275 L798.482 51.6733 L764.211 51.6733 Q764.697 59.3701 768.829 63.421 Q773.001 67.4314 780.415 67.4314 Q784.709 67.4314 788.719 66.3781 Q792.77 65.3249 796.74 63.2184 L796.74 70.267 Q792.729 71.9684 788.516 72.8596 Q784.303 73.7508 779.969 73.7508 Q769.113 73.7508 762.753 67.4314 Q756.433 61.1119 756.433 50.3365 Q756.433 39.1965 762.429 32.6746 Q768.464 26.1121 778.673 26.1121 Q787.828 26.1121 793.134 32.0264 Q798.482 37.9003 798.482 48.0275 M791.028 45.84 Q790.947 39.7232 787.585 36.0774 Q784.263 32.4315 778.754 32.4315 Q772.515 32.4315 768.748 35.9558 Q765.021 39.4801 764.454 45.8805 L791.028 45.84 Z\" fill=\"#000000\" fill-rule=\"evenodd\" fill-opacity=\"1\" /><path clip-path=\"url(#clip180)\" d=\"M 0 0 M833.684 9.54393 L833.684 15.7418 L826.554 15.7418 Q822.544 15.7418 820.964 17.3622 Q819.425 18.9825 819.425 23.1955 L819.425 27.2059 L831.699 27.2059 L831.699 32.9987 L819.425 32.9987 L819.425 72.576 L811.931 72.576 L811.931 32.9987 L804.801 32.9987 L804.801 27.2059 L811.931 27.2059 L811.931 24.0462 Q811.931 16.471 815.455 13.0277 Q818.979 9.54393 826.635 9.54393 L833.684 9.54393 Z\" fill=\"#000000\" fill-rule=\"evenodd\" fill-opacity=\"1\" /><path clip-path=\"url(#clip180)\" d=\"M 0 0 M858.232 12.096 L909.395 12.096 L909.395 18.9825 L887.926 18.9825 L887.926 72.576 L879.702 72.576 L879.702 18.9825 L858.232 18.9825 L858.232 12.096 Z\" fill=\"#000000\" fill-rule=\"evenodd\" fill-opacity=\"1\" /><path clip-path=\"url(#clip180)\" d=\"M 0 0 M931.068 34.1734 Q929.812 33.4443 928.313 33.1202 Q926.855 32.7556 925.072 32.7556 Q918.753 32.7556 915.35 36.8875 Q911.988 40.9789 911.988 48.6757 L911.988 72.576 L904.494 72.576 L904.494 27.2059 L911.988 27.2059 L911.988 34.2544 Q914.337 30.1225 918.105 28.1376 Q921.872 26.1121 927.26 26.1121 Q928.03 26.1121 928.961 26.2337 Q929.893 26.3147 931.027 26.5172 L931.068 34.1734 Z\" fill=\"#000000\" fill-rule=\"evenodd\" fill-opacity=\"1\" /><path clip-path=\"url(#clip180)\" d=\"M 0 0 M959.505 49.7694 Q950.472 49.7694 946.988 51.8354 Q943.504 53.9013 943.504 58.8839 Q943.504 62.8538 946.097 65.2034 Q948.73 67.5124 953.226 67.5124 Q959.424 67.5124 963.151 63.1374 Q966.918 58.7219 966.918 51.4303 L966.918 49.7694 L959.505 49.7694 M974.372 46.6907 L974.372 72.576 L966.918 72.576 L966.918 65.6895 Q964.366 69.8214 960.558 71.8063 Q956.75 73.7508 951.241 73.7508 Q944.274 73.7508 940.142 69.8619 Q936.05 65.9325 936.05 59.3701 Q936.05 51.7138 941.154 47.825 Q946.299 43.9361 956.467 43.9361 L966.918 43.9361 L966.918 43.2069 Q966.918 38.0623 963.515 35.2672 Q960.153 32.4315 954.036 32.4315 Q950.147 32.4315 946.461 33.3632 Q942.775 34.295 939.372 36.1584 L939.372 29.2718 Q943.463 27.692 947.312 26.9223 Q951.16 26.1121 954.806 26.1121 Q964.65 26.1121 969.511 31.2163 Q974.372 36.3204 974.372 46.6907 Z\" fill=\"#000000\" fill-rule=\"evenodd\" fill-opacity=\"1\" /><path clip-path=\"url(#clip180)\" d=\"M 0 0 M989.725 27.2059 L997.178 27.2059 L997.178 73.3862 Q997.178 82.0551 993.857 85.944 Q990.575 89.8329 983.243 89.8329 L980.408 89.8329 L980.408 83.5134 L982.393 83.5134 Q986.646 83.5134 988.185 81.5285 Q989.725 79.5841 989.725 73.3862 L989.725 27.2059 M989.725 9.54393 L997.178 9.54393 L997.178 18.9825 L989.725 18.9825 L989.725 9.54393 Z\" fill=\"#000000\" fill-rule=\"evenodd\" fill-opacity=\"1\" /><path clip-path=\"url(#clip180)\" d=\"M 0 0 M1051.58 48.0275 L1051.58 51.6733 L1017.31 51.6733 Q1017.8 59.3701 1021.93 63.421 Q1026.1 67.4314 1033.52 67.4314 Q1037.81 67.4314 1041.82 66.3781 Q1045.87 65.3249 1049.84 63.2184 L1049.84 70.267 Q1045.83 71.9684 1041.62 72.8596 Q1037.4 73.7508 1033.07 73.7508 Q1022.21 73.7508 1015.85 67.4314 Q1009.53 61.1119 1009.53 50.3365 Q1009.53 39.1965 1015.53 32.6746 Q1021.56 26.1121 1031.77 26.1121 Q1040.93 26.1121 1046.23 32.0264 Q1051.58 37.9003 1051.58 48.0275 M1044.13 45.84 Q1044.05 39.7232 1040.69 36.0774 Q1037.36 32.4315 1031.85 32.4315 Q1025.62 32.4315 1021.85 35.9558 Q1018.12 39.4801 1017.55 45.8805 L1044.13 45.84 Z\" fill=\"#000000\" fill-rule=\"evenodd\" fill-opacity=\"1\" /><path clip-path=\"url(#clip180)\" d=\"M 0 0 M1096.47 28.9478 L1096.47 35.9153 Q1093.31 34.1734 1090.11 33.3227 Q1086.95 32.4315 1083.71 32.4315 Q1076.45 32.4315 1072.44 37.0496 Q1068.43 41.6271 1068.43 49.9314 Q1068.43 58.2358 1072.44 62.8538 Q1076.45 67.4314 1083.71 67.4314 Q1086.95 67.4314 1090.11 66.5807 Q1093.31 65.6895 1096.47 63.9476 L1096.47 70.8341 Q1093.35 72.2924 1089.98 73.0216 Q1086.66 73.7508 1082.9 73.7508 Q1072.65 73.7508 1066.61 67.3098 Q1060.58 60.8689 1060.58 49.9314 Q1060.58 38.832 1066.65 32.472 Q1072.77 26.1121 1083.38 26.1121 Q1086.82 26.1121 1090.11 26.8413 Q1093.39 27.5299 1096.47 28.9478 Z\" fill=\"#000000\" fill-rule=\"evenodd\" fill-opacity=\"1\" /><path clip-path=\"url(#clip180)\" d=\"M 0 0 M1116.8 14.324 L1116.8 27.2059 L1132.15 27.2059 L1132.15 32.9987 L1116.8 32.9987 L1116.8 57.6282 Q1116.8 63.1779 1118.3 64.7578 Q1119.84 66.3376 1124.5 66.3376 L1132.15 66.3376 L1132.15 72.576 L1124.5 72.576 Q1115.87 72.576 1112.59 69.3758 Q1109.31 66.1351 1109.31 57.6282 L1109.31 32.9987 L1103.84 32.9987 L1103.84 27.2059 L1109.31 27.2059 L1109.31 14.324 L1116.8 14.324 Z\" fill=\"#000000\" fill-rule=\"evenodd\" fill-opacity=\"1\" /><path clip-path=\"url(#clip180)\" d=\"M 0 0 M1159.54 32.4315 Q1153.54 32.4315 1150.06 37.1306 Q1146.58 41.7891 1146.58 49.9314 Q1146.58 58.0738 1150.02 62.7728 Q1153.5 67.4314 1159.54 67.4314 Q1165.49 67.4314 1168.98 62.7323 Q1172.46 58.0333 1172.46 49.9314 Q1172.46 41.8701 1168.98 37.1711 Q1165.49 32.4315 1159.54 32.4315 M1159.54 26.1121 Q1169.26 26.1121 1174.81 32.4315 Q1180.36 38.7509 1180.36 49.9314 Q1180.36 61.0714 1174.81 67.4314 Q1169.26 73.7508 1159.54 73.7508 Q1149.78 73.7508 1144.23 67.4314 Q1138.72 61.0714 1138.72 49.9314 Q1138.72 38.7509 1144.23 32.4315 Q1149.78 26.1121 1159.54 26.1121 Z\" fill=\"#000000\" fill-rule=\"evenodd\" fill-opacity=\"1\" /><path clip-path=\"url(#clip180)\" d=\"M 0 0 M1219.01 34.1734 Q1217.75 33.4443 1216.25 33.1202 Q1214.79 32.7556 1213.01 32.7556 Q1206.69 32.7556 1203.29 36.8875 Q1199.93 40.9789 1199.93 48.6757 L1199.93 72.576 L1192.43 72.576 L1192.43 27.2059 L1199.93 27.2059 L1199.93 34.2544 Q1202.28 30.1225 1206.04 28.1376 Q1209.81 26.1121 1215.2 26.1121 Q1215.97 26.1121 1216.9 26.2337 Q1217.83 26.3147 1218.97 26.5172 L1219.01 34.1734 Z\" fill=\"#000000\" fill-rule=\"evenodd\" fill-opacity=\"1\" /><path clip-path=\"url(#clip180)\" d=\"M 0 0 M1245.7 76.7889 Q1242.54 84.8907 1239.54 87.3618 Q1236.55 89.8329 1231.52 89.8329 L1225.57 89.8329 L1225.57 83.5945 L1229.94 83.5945 Q1233.02 83.5945 1234.72 82.1361 Q1236.42 80.6778 1238.49 75.2496 L1239.83 71.8468 L1221.48 27.2059 L1229.38 27.2059 L1243.55 62.6918 L1257.73 27.2059 L1265.63 27.2059 L1245.7 76.7889 Z\" fill=\"#000000\" fill-rule=\"evenodd\" fill-opacity=\"1\" /><path clip-path=\"url(#clip180)\" d=\"M 0 0 M1320.2 9.62495 Q1314.77 18.942 1312.14 28.0566 Q1309.5 37.1711 1309.5 46.5287 Q1309.5 55.8863 1312.14 65.0818 Q1314.81 74.2369 1320.2 83.5134 L1313.72 83.5134 Q1307.64 73.9938 1304.6 64.7983 Q1301.6 55.6027 1301.6 46.5287 Q1301.6 37.4952 1304.6 28.3401 Q1307.6 19.1851 1313.72 9.62495 L1320.2 9.62495 Z\" fill=\"#000000\" fill-rule=\"evenodd\" fill-opacity=\"1\" /><path clip-path=\"url(#clip180)\" d=\"M 0 0 M1337.13 65.6895 L1350.5 65.6895 L1350.5 19.5497 L1335.96 22.4663 L1335.96 15.0127 L1350.42 12.096 L1358.6 12.096 L1358.6 65.6895 L1371.97 65.6895 L1371.97 72.576 L1337.13 72.576 L1337.13 65.6895 Z\" fill=\"#000000\" fill-rule=\"evenodd\" fill-opacity=\"1\" /><path clip-path=\"url(#clip180)\" d=\"M 0 0 M1406 17.4837 Q1399.68 17.4837 1396.48 23.7221 Q1393.32 29.92 1393.32 42.3968 Q1393.32 54.833 1396.48 61.0714 Q1399.68 67.2693 1406 67.2693 Q1412.36 67.2693 1415.52 61.0714 Q1418.72 54.833 1418.72 42.3968 Q1418.72 29.92 1415.52 23.7221 Q1412.36 17.4837 1406 17.4837 M1406 11.0023 Q1416.16 11.0023 1421.51 19.0636 Q1426.9 27.0843 1426.9 42.3968 Q1426.9 57.6687 1421.51 65.73 Q1416.16 73.7508 1406 73.7508 Q1395.83 73.7508 1390.44 65.73 Q1385.09 57.6687 1385.09 42.3968 Q1385.09 27.0843 1390.44 19.0636 Q1395.83 11.0023 1406 11.0023 Z\" fill=\"#000000\" fill-rule=\"evenodd\" fill-opacity=\"1\" /><path clip-path=\"url(#clip180)\" d=\"M 0 0 M1458.78 17.4837 Q1452.46 17.4837 1449.26 23.7221 Q1446.1 29.92 1446.1 42.3968 Q1446.1 54.833 1449.26 61.0714 Q1452.46 67.2693 1458.78 67.2693 Q1465.14 67.2693 1468.3 61.0714 Q1471.5 54.833 1471.5 42.3968 Q1471.5 29.92 1468.3 23.7221 Q1465.14 17.4837 1458.78 17.4837 M1458.78 11.0023 Q1468.95 11.0023 1474.29 19.0636 Q1479.68 27.0843 1479.68 42.3968 Q1479.68 57.6687 1474.29 65.73 Q1468.95 73.7508 1458.78 73.7508 Q1448.61 73.7508 1443.22 65.73 Q1437.88 57.6687 1437.88 42.3968 Q1437.88 27.0843 1443.22 19.0636 Q1448.61 11.0023 1458.78 11.0023 Z\" fill=\"#000000\" fill-rule=\"evenodd\" fill-opacity=\"1\" /><path clip-path=\"url(#clip180)\" d=\"M 0 0 M1536.96 32.4315 Q1530.97 32.4315 1527.48 37.1306 Q1524 41.7891 1524 49.9314 Q1524 58.0738 1527.44 62.7728 Q1530.93 67.4314 1536.96 67.4314 Q1542.92 67.4314 1546.4 62.7323 Q1549.88 58.0333 1549.88 49.9314 Q1549.88 41.8701 1546.4 37.1711 Q1542.92 32.4315 1536.96 32.4315 M1536.96 26.1121 Q1546.68 26.1121 1552.23 32.4315 Q1557.78 38.7509 1557.78 49.9314 Q1557.78 61.0714 1552.23 67.4314 Q1546.68 73.7508 1536.96 73.7508 Q1527.2 73.7508 1521.65 67.4314 Q1516.14 61.0714 1516.14 49.9314 Q1516.14 38.7509 1521.65 32.4315 Q1527.2 26.1121 1536.96 26.1121 Z\" fill=\"#000000\" fill-rule=\"evenodd\" fill-opacity=\"1\" /><path clip-path=\"url(#clip180)\" d=\"M 0 0 M1596.43 34.1734 Q1595.17 33.4443 1593.67 33.1202 Q1592.22 32.7556 1590.43 32.7556 Q1584.11 32.7556 1580.71 36.8875 Q1577.35 40.9789 1577.35 48.6757 L1577.35 72.576 L1569.85 72.576 L1569.85 27.2059 L1577.35 27.2059 L1577.35 34.2544 Q1579.7 30.1225 1583.47 28.1376 Q1587.23 26.1121 1592.62 26.1121 Q1593.39 26.1121 1594.32 26.2337 Q1595.25 26.3147 1596.39 26.5172 L1596.43 34.1734 Z\" fill=\"#000000\" fill-rule=\"evenodd\" fill-opacity=\"1\" /><path clip-path=\"url(#clip180)\" d=\"M 0 0 M1636.82 49.9314 Q1636.82 41.7081 1633.41 37.0496 Q1630.05 32.3505 1624.14 32.3505 Q1618.22 32.3505 1614.82 37.0496 Q1611.46 41.7081 1611.46 49.9314 Q1611.46 58.1548 1614.82 62.8538 Q1618.22 67.5124 1624.14 67.5124 Q1630.05 67.5124 1633.41 62.8538 Q1636.82 58.1548 1636.82 49.9314 M1611.46 34.0924 Q1613.81 30.0415 1617.37 28.0971 Q1620.98 26.1121 1625.96 26.1121 Q1634.22 26.1121 1639.37 32.6746 Q1644.55 39.2371 1644.55 49.9314 Q1644.55 60.6258 1639.37 67.1883 Q1634.22 73.7508 1625.96 73.7508 Q1620.98 73.7508 1617.37 71.8063 Q1613.81 69.8214 1611.46 65.7705 L1611.46 72.576 L1603.96 72.576 L1603.96 9.54393 L1611.46 9.54393 L1611.46 34.0924 Z\" fill=\"#000000\" fill-rule=\"evenodd\" fill-opacity=\"1\" /><path clip-path=\"url(#clip180)\" d=\"M 0 0 M1656.91 27.2059 L1664.36 27.2059 L1664.36 72.576 L1656.91 72.576 L1656.91 27.2059 M1656.91 9.54393 L1664.36 9.54393 L1664.36 18.9825 L1656.91 18.9825 L1656.91 9.54393 Z\" fill=\"#000000\" fill-rule=\"evenodd\" fill-opacity=\"1\" /><path clip-path=\"url(#clip180)\" d=\"M 0 0 M1687.33 14.324 L1687.33 27.2059 L1702.68 27.2059 L1702.68 32.9987 L1687.33 32.9987 L1687.33 57.6282 Q1687.33 63.1779 1688.83 64.7578 Q1690.37 66.3376 1695.03 66.3376 L1702.68 66.3376 L1702.68 72.576 L1695.03 72.576 Q1686.4 72.576 1683.12 69.3758 Q1679.84 66.1351 1679.84 57.6282 L1679.84 32.9987 L1674.37 32.9987 L1674.37 27.2059 L1679.84 27.2059 L1679.84 14.324 L1687.33 14.324 Z\" fill=\"#000000\" fill-rule=\"evenodd\" fill-opacity=\"1\" /><path clip-path=\"url(#clip180)\" d=\"M 0 0 M1741.41 28.5427 L1741.41 35.5912 Q1738.25 33.9709 1734.85 33.1607 Q1731.45 32.3505 1727.8 32.3505 Q1722.25 32.3505 1719.45 34.0519 Q1716.7 35.7533 1716.7 39.156 Q1716.7 41.7486 1718.69 43.2475 Q1720.67 44.7058 1726.67 46.0426 L1729.22 46.6097 Q1737.16 48.3111 1740.48 51.4303 Q1743.84 54.509 1743.84 60.0587 Q1743.84 66.3781 1738.82 70.0644 Q1733.84 73.7508 1725.09 73.7508 Q1721.44 73.7508 1717.47 73.0216 Q1713.54 72.3329 1709.17 70.9151 L1709.17 63.2184 Q1713.3 65.3654 1717.31 66.4591 Q1721.32 67.5124 1725.25 67.5124 Q1730.51 67.5124 1733.35 65.73 Q1736.18 63.9071 1736.18 60.6258 Q1736.18 57.5877 1734.12 55.9673 Q1732.09 54.3469 1725.17 52.8481 L1722.57 52.2405 Q1715.65 50.7821 1712.57 47.7845 Q1709.49 44.7463 1709.49 39.4801 Q1709.49 33.0797 1714.03 29.5959 Q1718.56 26.1121 1726.91 26.1121 Q1731.04 26.1121 1734.69 26.7198 Q1738.33 27.3274 1741.41 28.5427 Z\" fill=\"#000000\" fill-rule=\"evenodd\" fill-opacity=\"1\" /><path clip-path=\"url(#clip180)\" d=\"M 0 0 M1754.54 9.62495 L1761.02 9.62495 Q1767.09 19.1851 1770.09 28.3401 Q1773.13 37.4952 1773.13 46.5287 Q1773.13 55.6027 1770.09 64.7983 Q1767.09 73.9938 1761.02 83.5134 L1754.54 83.5134 Q1759.92 74.2369 1762.56 65.0818 Q1765.23 55.8863 1765.23 46.5287 Q1765.23 37.1711 1762.56 28.0566 Q1759.92 18.942 1754.54 9.62495 Z\" fill=\"#000000\" fill-rule=\"evenodd\" fill-opacity=\"1\" /><polyline clip-path=\"url(#clip182)\" style=\"stroke:#009af9; stroke-width:8; stroke-opacity:1; fill:none\" points=\"\n",
       "  1303.88,778.336 1317.17,758.085 1295.64,743.967 1265.11,734.816 1233.09,728.693 1201.71,724.56 1171.69,721.843 1143.26,720.191 1116.5,719.377 1091.41,719.242 \n",
       "  1067.98,719.672 1046.16,720.582 1025.94,721.905 1007.29,723.589 990.183,725.59 974.612,727.873 960.568,730.409 948.049,733.17 937.062,736.136 927.619,739.285 \n",
       "  919.742,742.599 913.459,746.062 908.808,749.657 905.836,753.368 904.603,757.18 905.18,761.076 907.655,765.04 912.134,769.052 918.746,773.091 927.648,777.13 \n",
       "  939.034,781.14 953.144,785.081 970.285,788.9 990.851,792.527 1015.36,795.859 1044.52,798.739 1079.33,800.91 1121.21,801.913 1172.2,800.815 1234.21,795.426 \n",
       "  1297.91,781.076 1318.59,760.53 1299.72,745.534 1269.78,735.826 1237.78,729.343 1206.25,724.956 1175.99,722.044 1147.3,720.236 1120.27,719.29 1094.89,719.041 \n",
       "  1071.16,719.371 1049.05,720.189 1028.52,721.427 1009.55,723.032 992.12,724.958 976.211,727.17 961.814,729.638 948.926,732.334 937.551,735.236 927.698,738.324 \n",
       "  919.387,741.579 912.642,744.985 907.496,748.525 903.994,752.184 902.188,755.947 902.144,759.797 903.941,763.719 907.675,767.694 913.464,771.703 921.449,775.722 \n",
       "  931.804,779.724 944.743,783.672 960.536,787.523 979.527,791.216 1002.16,794.665 1029.05,797.745 1061,800.258 1099.19,801.865 1145.33,801.928 1201.6,799.06 \n",
       "  1267.46,789.91 1315.59,770.898 1312.27,752.453 1286.08,740.319 1254.62,732.337 1222.67,726.942 1191.67,723.298 1162.11,720.927 1134.16,719.528 1107.87,718.902 \n",
       "  1083.22,718.91 1060.19,719.448 1038.75,720.438 1018.87,721.819 1000.52,723.542 983.683,725.567 968.346,727.862 954.5,730.397 942.144,733.149 931.281,736.096 \n",
       "  921.925,739.219 914.093,742.5 907.813,745.924 903.118,749.474 900.053,753.137 898.672,756.896 899.04,760.738 901.238,764.644 905.362,768.599 911.53,772.581 \n",
       "  919.883,776.568 930.595,780.531 943.881,784.435 960.01,788.235 979.326,791.87 1002.28,795.254 1029.46,798.259 1061.69,800.686 1100.15,802.193 1146.5,802.136 \n",
       "  1202.91,799.118 1268.61,789.787 1316.02,770.713 1312.36,752.333 1286.12,740.225 1254.65,732.245 1222.68,726.841 1191.66,723.181 1162.08,720.789 1134.09,719.365 \n",
       "  1107.75,718.712 1083.05,718.689 1059.95,719.193 1038.42,720.148 1018.44,721.492 999.982,723.176 983.018,725.161 967.537,727.413 953.528,729.905 940.988,732.612 \n",
       "  929.921,735.514 920.336,738.59 912.25,741.825 905.686,745.201 900.676,748.704 897.26,752.32 895.488,756.033 895.419,759.83 897.129,763.694 900.705,767.608 \n",
       "  906.254,771.555 913.906,775.512 923.819,779.454 936.186,783.35 951.249,787.158 969.312,790.827 990.767,794.282 1016.13,797.418 1046.11,800.074 1081.67,801.986 \n",
       "  1124.22,802.682 1175.72,801.209 1237.77,795.351 1300.1,780.602 1319.21,760.169 1300.05,745.282 1270.09,735.589 1238.08,729.08 1206.51,724.645 1176.19,721.672 \n",
       "  1147.41,719.791 1120.24,718.764 1094.71,718.427 1070.79,718.661 1048.45,719.379 1027.65,720.511 1008.37,722.005 990.586,723.816 974.276,725.909 959.427,728.253 \n",
       "  946.032,730.824 934.09,733.597 923.606,736.554 914.591,739.676 907.063,742.948 901.048,746.353 896.579,749.878 893.698,753.508 892.455,757.229 892.914,761.027 \n",
       "  895.149,764.886 899.252,768.789 905.333,772.717 913.522,776.649 923.983,780.558 936.912,784.411 952.558,788.168 971.232,791.772 993.337,795.147 1019.41,798.182 \n",
       "  1050.16,800.706 1086.61,802.438 1130.21,802.868 1182.92,800.953 1245.95,794.252 1305.51,778.294 1318.52,758.166 1297.3,743.973 1266.91,734.692 1234.89,728.429 \n",
       "  1203.43,724.15 1173.26,721.282 1144.63,719.472 1117.6,718.494 1092.19,718.189 1068.38,718.443 1046.12,719.171 1025.4,720.306 1006.18,721.796 988.435,723.598 \n",
       "  972.147,725.678 957.301,728.005 943.891,730.554 931.914,733.304 921.375,736.235 912.283,739.329 904.656,742.571 898.517,745.945 893.897,749.438 890.836,753.035 \n",
       "  889.381,756.722 889.592,760.486 891.539,764.312 895.308,768.184 901.002,772.083 908.744,775.989 918.684,779.878 931.007,783.719 945.94,787.474 963.769,791.094 \n",
       "  984.86,794.509 1009.69,797.623 1038.91,800.289 1073.4,802.272 1114.42,803.164 1163.76,802.166 1223.27,797.494 1287.99,785.15 1320.12,764.817 1306.93,748.328 \n",
       "  1278.42,737.556 1246.58,730.353 1214.78,725.43 1184.07,722.087 1154.84,719.909 1127.19,718.632 1101.15,718.077 1076.7,718.118 1053.82,718.658 1032.48,719.627 \n",
       "  1012.63,720.966 994.258,722.632 977.337,724.585 961.851,726.795 947.788,729.235 935.145,731.882 923.921,734.716 914.123,737.719 905.763,740.874 898.862,744.167 \n",
       "  893.444,747.583 889.544,751.109 887.203,754.731 886.473,758.435 887.415,762.207 890.104,766.033 894.63,769.896 901.099,773.778 909.642,777.656 920.416,781.506 \n",
       "  933.614,785.295 949.476,788.982 968.305,792.513 990.489,795.815 1016.54,798.778 1047.15,801.239 1083.27,802.931 1126.27,803.374 1178.01,801.611 1239.86,795.443 \n",
       "  1301.24,780.544 1320.01,760.196 1301.05,745.282 1271.2,735.518 1239.21,728.929 1207.61,724.41 1177.22,721.35 1148.33,719.38 1121.03,718.26 1095.33,717.827 \n",
       "  1071.2,717.962 1048.62,718.578 1027.55,719.605 1007.96,720.991 989.823,722.692 973.123,724.672 957.839,726.901 943.962,729.354 931.486,732.008 920.413,734.844 \n",
       "  910.748,737.845 902.504,740.995 895.7,744.278 890.362,747.681 886.521,751.192 884.219,754.796 883.505,758.48 884.439,762.231 887.094,766.034 891.556,769.873 \n",
       "  897.929,773.73 906.337,777.585 916.933,781.412 929.9,785.181 945.468,788.853 963.926,792.376 985.64,795.681 1011.09,798.668 1040.93,801.184 1076.03,802.989 \n",
       "  1117.67,803.658 1167.6,802.364 1227.48,797.263 1291.31,784.352 1320.76,763.996 1306.54,747.784 1277.83,737.158 1245.99,730.02 1214.2,725.122 1183.51,721.781 \n",
       "  1154.27,719.589 1126.6,718.288 1100.52,717.701 1076.01,717.702 1053.05,718.198 1031.59,719.117 1011.62,720.404 993.089,722.013 975.986,723.907 960.29,726.055 \n",
       "  945.989,728.431 933.076,731.011 921.548,733.777 911.411,736.71 902.672,739.795 895.349,743.016 889.463,746.36 885.043,749.814 882.125,753.364 880.753,756.998 \n",
       "  880.981,760.703 882.874,764.464 886.51,768.268 891.982,772.097 899.4,775.932 908.899,779.752 920.643,783.528 934.831,787.229 951.712,790.81 971.601,794.213 \n",
       "  994.901,797.358 1022.15,800.128 1054.07,802.343 1091.66,803.705 1136.35,803.672 1190,801.139 1253.16,793.556 1309.53,776.807 1318.83,757.026 1296.73,743.195 \n",
       "  1266.21,734.072 1234.2,727.864 1202.76,723.587 1172.58,720.686 1143.91,718.822 1116.8,717.772 1091.27,717.382 1067.28,717.541 1044.82,718.164 1023.83,719.187 \n",
       "  1004.3,720.558 986.191,722.234 969.484,724.183 954.163,726.374 940.214,728.784 927.633,731.39 916.417,734.174 906.572,737.119 898.108,740.209 891.039,743.431 \n",
       "  885.389,746.771 881.186,750.216 878.465,753.754 877.271,757.373 877.656,761.059 879.684,764.799 883.431,768.578 888.988,772.38 896.463,776.188 905.987,779.978 \n",
       "  917.72,783.726 931.855,787.397 948.632,790.951 968.356,794.331 991.416,797.461 1018.32,800.229 1049.76,802.464 1086.7,803.889 1130.47,804.007 1182.86,801.82 \n",
       "  1244.88,795.065 1304.39,779.58 1320.49,759.403 1300.85,744.741 1270.92,735.081 1238.96,728.518 1207.39,723.986 1177.01,720.889 1148.09,718.865 1120.73,717.681 \n",
       "  1094.93,717.173 1070.68,717.226 1047.93,717.753 1026.66,718.686 1006.83,719.972 988.412,721.57 971.387,723.442 955.734,725.561 941.44,727.9 928.496,730.439 \n",
       "  916.9,733.157 906.653,736.037 897.765,739.066 890.247,742.227 884.118,745.509 879.405,748.899 876.138,752.383 874.356,755.951 874.109,759.59 875.452,763.286 \n",
       "  878.455,767.027 883.198,770.798 889.779,774.58 898.315,778.356 908.947,782.102 921.844,785.788 937.218,789.38 955.33,792.831 976.511,796.076 1001.19,799.029 \n",
       "  1029.94,801.558 1063.52,803.459 1103.03,804.387 1149.96,803.705 1206.11,800.065 1270.2,790.4 1317.23,771.65 1315.61,753.098 1290.35,740.594 1259.19,732.254 \n",
       "  1227.23,726.525 1196.04,722.56 1166.17,719.87 1137.81,718.153 1110.99,717.204 1085.72,716.883 1061.97,717.085 1039.7,717.732 1018.88,718.762 999.479,720.128 \n",
       "  981.467,721.79 964.821,723.714 949.526,725.873 935.568,728.243 922.94,730.805 911.64,733.538 901.67,736.429 893.038,739.461 885.758,742.621 879.848,745.897 \n",
       "  875.334,749.276 872.245,752.747 870.623,756.298 870.512,759.916 871.969,763.589 875.06,767.305 879.865,771.048 886.479,774.802 895.015,778.547 905.609,782.263 \n",
       "  918.426,785.92 933.668,789.484 951.587,792.911 972.5,796.14 996.815,799.087 1025.07,801.629 1058,803.578 1096.61,804.618 1142.31,804.176 1196.87,801.072 \n",
       "  1260.13,792.628 1313.11,775.122 1318.6,755.734 1295.53,742.308 1264.87,733.383 1232.9,727.262 1201.54,723.01 1171.42,720.098 1142.77,718.197 1115.65,717.093 \n",
       "  1090.08,716.635 1066.01,716.715 1043.41,717.25 1022.26,718.177 1002.52,719.446 984.154,721.015 967.145,722.851 951.471,724.926 937.119,727.215 924.079,729.698 \n",
       "  912.347,732.356 901.923,735.172 892.813,738.133 885.027,741.224 878.58,744.433 873.495,747.748 869.799,751.157 867.524,754.648 866.714,758.212 867.417,761.835 \n",
       "  869.692,765.505 873.61,769.209 879.254,772.931 886.724,776.655 896.139,780.361 907.643,784.025 921.409,787.618 937.651,791.103 956.638,794.43 978.706,797.535 \n",
       "  1004.29,800.322 1033.98,802.655 1068.57,804.317 1109.15,804.936 1157.24,803.822 1214.49,799.502 1278.3,788.699 1319.83,769.291 1314.01,751.42 1287.68,739.451 \n",
       "  1256.34,731.409 1224.43,725.851 1193.35,721.984 1163.6,719.349 1135.34,717.655 1108.61,716.71 1083.39,716.376 1059.66,716.553 1037.39,717.165 1016.54,718.153 \n",
       "  997.078,719.469 978.972,721.075 962.201,722.939 946.747,725.033 932.595,727.335 919.738,729.824 908.169,732.483 897.891,735.297 888.907,738.25 881.229,741.33 \n",
       "  874.871,744.525 869.854,747.822 866.204,751.211 863.955,754.681 863.145,758.221 863.823,761.818 866.046,765.461 869.88,769.138 875.408,772.832 882.722,776.529 \n",
       "  891.938,780.209 903.191,783.85 916.646,787.423 932.507,790.894 951.024,794.217 972.513,797.331 997.383,800.15 1026.17,802.551 1059.6,804.338 1098.67,805.193 \n",
       "  1144.77,804.531 1199.59,801.154 1262.67,792.368 1314.33,774.662 1318.84,755.406 1295.6,742.064 1264.95,733.157 1233.01,727.021 1201.65,722.738 1171.53,719.782 \n",
       "  1142.85,717.83 1115.68,716.668 1090.02,716.147 1065.85,716.159 1043.13,716.623 1021.82,717.476 1001.9,718.667 983.326,720.156 966.078,721.91 950.135,723.9 \n",
       "  935.482,726.103 922.106,728.498 910.001,731.066 899.165,733.793 889.601,736.663 881.315,739.663 874.32,742.78 868.632,746.004 864.275,749.324 861.275,752.727 \n",
       "  859.668,756.205 859.494,759.745 860.805,763.337 863.658,766.968 868.123,770.626 874.283,774.295 882.236,777.96 892.1,781.6 904.014,785.193 918.149,788.709 \n",
       "  934.714,792.112 953.97,795.353 976.244,798.368 1001.96,801.067 1031.68,803.313 1066.16,804.899 1106.46,805.47 1154.01,804.373 1210.41,800.242 1273.81,790.043 \n",
       "  1318.76,771.148 1316.33,752.77 1291.06,740.306 1259.98,731.926 1228.07,726.12 1196.89,722.056 1166.97,719.253 1138.51,717.411 1111.55,716.328 1086.09,715.865 \n",
       "  1062.1,715.918 1039.54,716.411 1018.37,717.282 998.571,718.483 980.101,719.975 962.94,721.726 947.065,723.708 932.461,725.899 919.117,728.278 907.025,730.827 \n",
       "  896.182,733.532 886.591,736.377 878.259,739.35 871.195,742.439 865.415,745.633 860.941,748.921 857.799,752.292 856.021,755.737 855.646,759.244 856.721,762.802 \n",
       "  859.301,766.401 863.452,770.028 869.25,773.668 876.787,777.307 886.172,780.926 897.536,784.503 911.035,788.012 926.86,791.42 945.249,794.683 966.499,797.745 \n",
       "  990.988,800.525 1019.21,802.911 1051.84,804.727 1089.77,805.69 1134.28,805.297 1186.96,802.553 1248.38,795.257 1306.2,779.595 1322.09,759.55 1302.98,744.784 \n",
       "  1273.35,734.944 1241.52,728.185 1209.94,723.449 1179.47,720.142 1150.38,717.901 1122.77,716.492 1096.66,715.753 1072.01,715.569 1048.8,715.852 1026.99,716.536 \n",
       "  1006.54,717.567 987.422,718.904 969.61,720.512 953.079,722.361 937.81,724.427 923.79,726.689 911.009,729.128 899.461,731.727 889.145,734.473 880.064,737.352 \n",
       "  872.226,740.352 865.643,743.462 860.331,746.67 856.313,749.966 853.616,753.341 852.272,756.784 852.321,760.285 853.812,763.834 856.8,767.418 861.351,771.025 \n",
       "  867.543,774.642 875.469,778.253 885.238,781.839 896.982,785.379 910.86,788.846 927.063,792.205 945.832,795.414 967.464,798.414 992.345,801.123 1020.97,803.425 \n",
       "  1054.02,805.141 1092.4,805.978 1137.39,805.417 1190.57,802.423 1252.22,794.715 1308.6,778.568 1321.95,758.668 1301.99,744.188 1272.19,734.511 1240.36,727.842 \n",
       "  1208.84,723.156 1178.43,719.874 1149.39,717.643 1121.83,716.234 1095.74,715.488 1071.11,715.29 1047.9,715.555 1026.07,716.217 1005.6,717.224 986.441,718.533 \n",
       "  968.574,720.111 951.973,721.928 936.618,723.961 922.496,726.188 909.597,728.591 897.913,731.154 887.442,733.862 878.188,736.703 870.156,739.664 863.356,742.734 \n",
       "  857.805,745.903 853.521,749.16 850.53,752.497 848.862,755.902 848.554,759.366 849.65,762.879 852.201,766.43 856.269,770.007 861.926,773.598 869.256,777.187 \n",
       "  878.36,780.757 889.357,784.29 902.391,787.761 917.636,791.139 935.304,794.386 955.661,797.453 979.043,800.27 1005.88,802.741 1036.75,804.723 1072.42,805.989 \n",
       "  1113.97,806.156 1162.82,804.51 1220.35,799.544 1283.03,788.039 1321.63,768.511 1314.75,750.898 1288.39,739.005 1257.16,730.932 1225.33,725.29 1194.28,721.31 \n",
       "  1164.49,718.542 1136.13,716.701 1109.24,715.597 1083.81,715.094 1059.81,715.094 1037.2,715.521 1015.95,716.318 996.021,717.437 977.382,718.841 960.008,720.497 \n",
       "  943.877,722.381 928.972,724.468 915.278,726.74 902.787,729.179 891.493,731.771 881.395,734.501 872.497,737.358 864.804,740.329 858.328,743.405 853.084,746.575 \n",
       "  849.093,749.829 846.379,753.159 844.973,756.553 844.912,760.003 846.24,763.499 849.007,767.029 853.274,770.583 859.111,774.148 866.604,777.709 875.85,781.25 \n",
       "  886.967,784.751 900.097,788.189 915.409,791.533 933.112,794.746 953.466,797.779 976.797,800.566 1003.53,803.011 1034.21,804.976 1069.59,806.244 1110.71,806.45 \n",
       "  1158.94,804.917 1215.68,800.245 1278.31,789.408 1320.55,770.308 1316.77,752.195 1291.35,739.853 1260.33,731.485 1228.49,725.637 1197.34,721.5 1167.42,718.605 \n",
       "  1138.9,716.657 1111.84,715.457 1086.23,714.868 1062.05,714.789 1039.24,715.142 1017.79,715.867 997.644,716.918 978.782,718.256 961.173,719.849 944.796,721.669 \n",
       "  929.63,723.695 915.662,725.907 902.881,728.287 891.28,730.82 880.857,733.493 871.613,736.293 863.553,739.209 856.686,742.23 851.025,745.347 846.588,748.549 \n",
       "  843.397,751.828 841.479,755.174 840.867,758.578 841.601,762.031 843.725,765.522 847.296,769.041 852.375,772.575 859.039,776.113 867.375,779.638 877.487,783.134 \n",
       "  889.499,786.579 903.561,789.949 919.853,793.212 938.598,796.325 960.071,799.237 984.624,801.871 1012.71,804.123 1044.94,805.832 1082.12,806.747 1125.38,806.429 \n",
       "  1176.17,804.043 1235.45,797.804 1296.12,784.212 1323.77,764.134 1310.46,747.857 1282.45,736.922 1250.93,729.419 1219.21,724.134 1188.4,720.389 1158.88,717.78 \n",
       "  1130.78,716.048 1104.12,715.016 1078.9,714.56 1055.08,714.586 1032.62,715.024 1011.49,715.819 991.653,716.925 973.074,718.307 955.729,719.935 939.597,721.782 \n",
       "  924.659,723.828 910.902,726.054 898.314,728.443 886.891,730.981 876.629,733.654 867.529,736.45 859.598,739.36 852.843,742.371 847.277,745.476 842.919,748.663 \n",
       "  839.788,751.925 837.912,755.253 837.323,758.637 838.058,762.068 840.162,765.536 843.687,769.031 848.695,772.542 855.259,776.056 863.461,779.558 873.403,783.032 \n",
       "  885.203,786.458 899.004,789.811 914.977,793.062 933.332,796.172 954.33,799.091 978.301,801.748 1005.67,804.049 1036.99,805.847 1073.02,806.919 1114.79,806.884 \n",
       "  1163.67,805.035 1220.9,799.907 1282.99,788.408 1322.05,769.026 1316.15,751.284 1290.22,739.208 1259.14,730.977 1227.33,725.195 1196.24,721.086 1166.37,718.194 \n",
       "  1137.89,716.231 1110.84,715.005 1085.22,714.381 1061,714.258 1038.13,714.563 1016.6,715.235 996.348,716.228 977.355,717.505 959.59,719.033 943.029,720.787 \n",
       "  927.654,722.743 913.447,724.883 900.397,727.19 888.496,729.648 877.74,732.245 868.127,734.967 859.661,737.806 852.349,740.749 846.2,743.787 841.228,746.911 \n",
       "  837.453,750.113 834.897,753.383 833.587,756.714 833.557,760.095 834.845,763.518 837.499,766.973 841.571,770.45 847.125,773.937 854.234,777.422 862.986,780.889 \n",
       "  873.482,784.323 885.844,787.701 900.218,791 916.78,794.188 935.747,797.224 957.386,800.056 982.038,802.612 1010.14,804.787 1042.28,806.43 1079.22,807.297 \n",
       "  1122.04,806.974 1172.12,804.682 1230.49,798.782 1291.6,785.979 1323.8,766.121 1313.4,749.232 1286.26,737.808 1254.94,729.971 1223.19,724.439 1192.25,720.498 \n",
       "  1162.55,717.723 1134.24,715.845 1107.36,714.68 1081.9,714.099 1057.81,714.007 1035.08,714.332 1013.64,715.016 993.486,716.015 974.569,717.292 956.864,718.815 \n",
       "  940.348,720.56 925.002,722.504 910.81,724.628 897.759,726.917 885.841,729.355 875.052,731.929 865.39,734.628 856.857,737.44 849.46,740.356 843.207,743.366 \n",
       "  838.112,746.461 834.191,749.633 831.467,752.874 829.964,756.173 829.715,759.524 830.756,762.918 833.129,766.344 836.886,769.793 842.086,773.255 848.797,776.717 \n",
       "  857.099,780.165 867.089,783.583 878.878,786.954 892.601,790.252 908.419,793.452 926.529,796.515 947.172,799.396 970.654,802.032 997.364,804.333 1027.81,806.173 \n",
       "  1062.66,807.354 1102.86,807.553 1149.62,806.187 1204.31,802.094 1265.92,792.775 1316.01,775.194 1321.76,755.972 1299.6,742.321 1269.44,733.067 1237.68,726.593 \n",
       "  1206.31,721.976 1176.03,718.688 1147.08,716.4 1119.53,714.898 1093.4,714.032 1068.65,713.692 1045.26,713.798 1023.17,714.286 1002.36,715.107 982.795,716.22 \n",
       "  964.439,717.593 947.269,719.197 931.263,721.009 916.402,723.01 902.673,725.181 890.064,727.508 878.568,729.976 868.181,732.574 858.904,735.29 850.739,738.114 \n",
       "  843.691,741.037 837.772,744.05 832.994,747.144 829.375,750.31 826.937,753.541 825.705,756.829 825.71,760.164 826.989,763.539 829.585,766.944 833.548,770.37 \n",
       "  838.935,773.806 845.816,777.24 854.268,780.659 864.387,784.047 876.282,787.385 890.085,790.651 905.954,793.817 924.081,796.848 944.703,799.698 968.117,802.306 \n",
       "  994.699,804.586 1024.94,806.415 1059.5,807.603 1099.26,807.843 1145.41,806.586 1199.3,802.753 1260.43,794.027 1313.15,777.179 1323.19,757.621 1302.65,743.417 \n",
       "  1272.93,733.791 1241.23,727.063 1209.8,722.259 1179.4,718.822 1150.3,716.41 1122.59,714.801 1096.28,713.839 1071.35,713.412 1047.76,713.437 1025.47,713.849 \n",
       "  1004.46,714.597 984.67,715.64 966.087,716.945 948.679,718.484 932.424,720.233 917.301,722.171 903.297,724.281 890.399,726.548 878.599,728.957 867.891,731.497 \n",
       "  858.274,734.157 849.75,736.926 842.323,739.794 836,742.754 830.795,745.796 826.721,748.912 823.798,752.095 822.049,755.336 821.501,758.627 822.188,761.961 \n",
       "  824.147,765.329 827.424,768.721 832.07,772.128 838.146,775.539 845.724,778.942 854.885,782.323 865.728,785.665 878.368,788.949 892.942,792.152 909.615,795.243 \n",
       "  928.59,798.186 950.116,800.931 974.506,803.41 1002.16,805.531 1033.61,807.155 1069.54,808.071 1110.92,807.922 1158.99,806.066 1214.96,801.198 1276.49,790.574 \n",
       "  1320.55,771.954 1319.97,753.476 1295.9,740.609 1265.35,731.817 1233.62,725.615 1202.42,721.165 1172.32,717.979 1143.55,715.753 1116.17,714.282 1090.17,713.426 \n",
       "  1065.52,713.081 1042.2,713.168 1020.16,713.628 999.373,714.412 979.794,715.482 961.397,716.804 944.157,718.354 928.05,720.107 913.058,722.045 899.167,724.151 \n",
       "  886.364,726.409 874.641,728.806 863.993,731.331 854.417,733.973 845.916,736.721 838.493,739.568 832.156,742.503 826.916,745.519 822.786,748.608 819.786,751.763 \n",
       "  817.935,754.975 817.262,758.237 817.796,761.541 819.574,764.879 822.638,768.242 827.038,771.621 832.829,775.006 840.08,778.384 848.867,781.744 859.281,785.069 \n",
       "  871.43,788.342 885.44,791.54 901.464,794.638 919.687,797.601 940.336,800.384 963.693,802.93 990.117,805.157 1020.07,806.948 1054.17,808.128 1093.25,808.412 \n",
       "  1138.41,807.307 1190.98,803.857 1251.04,796.042 1307.23,780.539 1325.03,760.634 1307.8,745.44 1279.01,735.127 1247.5,727.93 1215.98,722.781 1185.37,719.072 \n",
       "  1156.02,716.434 1128.02,714.628 1101.4,713.49 1076.14,712.902 1052.21,712.777 1029.56,713.047 1008.17,713.66 987.993,714.573 968.998,715.752 951.159,717.168 \n",
       "  934.45,718.797 918.852,720.617 904.346,722.611 890.92,724.764 878.563,727.062 867.268,729.492 857.03,732.043 847.848,734.705 839.725,737.468 832.665,740.325 \n",
       "  826.677,743.266 821.77,746.284 817.961,749.372 815.268,752.521 813.712,755.725 813.319,758.975 814.121,762.265 816.154,765.586 819.46,768.929 824.088,772.286 \n",
       "  830.095,775.647 837.546,778.999 846.518,782.33 857.102,785.625 869.403,788.866 883.547,792.032 899.684,795.095 917.997,798.023 938.708,800.771 962.096,803.282 \n",
       "  988.512,805.477 1018.41,807.241 1052.39,808.401 1091.26,808.683 1136.11,807.608 1188.21,804.264 1247.83,796.728 1304.89,781.713 1325.52,761.77 1309.69,746.213 \n",
       "  1281.31,735.632 1249.9,728.251 1218.36,722.965 1187.68,719.147 1158.24,716.418 1130.13,714.531 1103.39,713.32 1078,712.665 1053.94,712.477 1031.15,712.687 \n",
       "  1009.6,713.241 989.264,714.098 970.1,715.222 952.081,716.584 935.183,718.16 919.384,719.929 904.666,721.872 891.016,723.974 878.421,726.221 866.874,728.602 \n",
       "  856.37,731.104 846.906,733.717 838.483,736.433 831.105,739.243 824.778,742.138 819.513,745.111 815.321,748.155 812.219,751.261 810.227,754.424 809.369,757.635 \n",
       "  809.672,760.887 811.169,764.173 813.899,767.485 817.906,770.814 823.241,774.15 829.963,777.484 838.142,780.803 847.857,784.094 859.204,787.341 872.293,790.526 \n",
       "  887.258,793.624 904.255,796.609 923.479,799.443 945.165,802.079 969.611,804.454 997.193,806.479 1028.4,808.024 1063.89,808.894 1104.52,808.765 1151.47,807.065 \n",
       "  1205.92,802.663 1266.73,793.187 1316.49,775.782 1323.55,756.53 1302.28,742.631 1272.53,733.13 1240.94,726.427 1209.61,721.593 1179.28,718.095 1150.21,715.599 \n",
       "  1122.49,713.89 1096.12,712.816 1071.08,712.267 1047.34,712.162 1024.85,712.438 1003.59,713.044 983.506,713.941 964.58,715.095 946.779,716.478 930.079,718.069 \n",
       "  914.46,719.846 899.904,721.792 886.397,723.893 873.929,726.136 862.491,728.507 852.078,730.998 842.688,733.597 837.315,735.33 \n",
       "  \"/>\n",
       "<polyline clip-path=\"url(#clip182)\" style=\"stroke:#009af9; stroke-width:8; stroke-opacity:1; fill:none\" points=\"\n",
       "  834.321,736.296 826.982,739.086 820.676,741.96 815.411,744.91 811.202,747.929 808.062,751.01 806.011,754.146 805.07,757.33 805.268,760.555 806.635,763.814 \n",
       "  809.207,767.098 813.025,770.399 818.139,773.71 824.605,777.019 832.488,780.315 841.862,783.587 852.818,786.818 865.457,789.993 879.904,793.088 896.305,796.079 \n",
       "  914.837,798.932 935.717,801.605 959.215,804.042 985.669,806.165 1015.52,807.863 1049.33,808.972 1087.89,809.229 1132.21,808.186 1183.54,804.995 1242.32,797.9 \n",
       "  1300.53,783.728 1326.07,763.833 1312.97,747.633 1285.44,736.558 1254.24,728.833 1222.69,723.291 1191.91,719.267 1162.3,716.362 1134,714.322 1107.05,712.97 \n",
       "  1081.43,712.184 1057.12,711.871 1034.06,711.962 1012.23,712.401 991.592,713.146 972.108,714.16 953.748,715.415 936.489,716.884 920.307,718.547 905.182,720.387 \n",
       "  891.1,722.386 878.047,724.531 866.014,726.811 854.994,729.213 844.982,731.727 844.416,731.892 \n",
       "  \"/>\n",
       "<polyline clip-path=\"url(#clip182)\" style=\"stroke:#009af9; stroke-width:8; stroke-opacity:1; fill:none\" points=\"\n",
       "  835.977,734.345 827.981,737.058 820.997,739.859 815.032,742.738 810.096,745.69 806.201,748.707 803.363,751.783 801.6,754.911 800.937,758.084 801.398,761.295 \n",
       "  803.016,764.537 805.827,767.802 809.871,771.083 815.198,774.37 821.863,777.654 829.93,780.924 839.475,784.166 850.584,787.368 863.36,790.51 877.925,793.573 \n",
       "  894.423,796.53 913.028,799.349 933.954,801.988 957.464,804.392 983.891,806.484 1013.66,808.157 1047.34,809.25 1085.67,809.509 1129.66,808.501 1180.51,805.418 \n",
       "  1238.77,798.596 1297.55,784.949 1326.1,765.15 1314.84,748.557 1287.87,737.17 1256.82,729.234 1225.26,723.537 1194.41,719.393 1164.71,716.388 1136.3,714.261 \n",
       "  1109.23,712.832 1083.48,711.975 1059.02,711.596 1035.82,711.625 1013.84,712.004 993.037,712.691 973.383,713.649 954.845,714.849 937.398,716.264 921.018,717.875 \n",
       "  905.685,719.662 891.384,721.61 878.1,723.704 865.823,725.933 854.545,728.286 849.233,729.56 \n",
       "  \"/>\n",
       "<polyline clip-path=\"url(#clip182)\" style=\"stroke:#009af9; stroke-width:8; stroke-opacity:1; fill:none\" points=\"\n",
       "  844.262,730.752 834.969,733.321 826.669,735.987 819.363,738.74 813.058,741.573 807.76,744.48 803.481,747.453 800.236,750.486 798.04,753.572 796.914,756.705 \n",
       "  796.882,759.878 797.972,763.084 800.218,766.316 803.656,769.567 808.329,772.829 814.289,776.091 821.593,779.346 830.308,782.58 840.511,785.781 852.293,788.934 \n",
       "  865.762,792.02 881.043,795.019 898.288,797.901 917.68,800.633 939.441,803.169 963.852,805.449 991.263,807.391 1022.13,808.875 1057.05,809.721 1096.82,809.641 \n",
       "  1142.5,808.131 1195.27,804.23 1254.89,795.942 1309.49,780.178 1326.26,760.408 1309.16,745.254 1280.61,734.869 1249.28,727.557 1217.85,722.271 1187.27,718.412 \n",
       "  1157.88,715.615 1129.79,713.643 1103.02,712.332 1077.56,711.566 1053.37,711.258 1030.42,711.341 1008.67,711.763 988.078,712.481 968.614,713.463 950.25,714.678 \n",
       "  932.959,716.103 916.718,717.718 901.508,719.505 887.312,721.449 874.119,723.536 861.917,725.755 853.443,727.521 \n",
       "  \"/>\n",
       "<polyline clip-path=\"url(#clip182)\" style=\"stroke:#009af9; stroke-width:8; stroke-opacity:1; fill:none\" points=\"\n",
       "  850.698,728.094 840.457,730.544 831.192,733.096 822.903,735.741 815.592,738.473 809.264,741.284 803.927,744.166 799.591,747.114 796.268,750.121 793.976,753.181 \n",
       "  792.733,756.287 792.561,759.433 793.489,762.612 795.545,765.818 798.766,769.043 803.193,772.279 808.873,775.518 815.86,778.751 824.217,781.966 834.017,785.152 \n",
       "  845.344,788.295 858.297,791.377 872.994,794.378 889.573,797.274 908.201,800.034 929.082,802.616 952.467,804.97 978.671,807.022 1008.1,808.671 1041.27,809.77 \n",
       "  1078.88,810.084 1121.86,809.226 1171.37,806.487 1228.2,800.435 1288.03,788.263 1324.82,769.02 1319.5,751.349 1294.41,739.042 1263.84,730.491 1232.31,724.36 \n",
       "  1201.29,719.885 1171.34,716.613 1142.65,714.26 1115.26,712.633 1089.18,711.598 1064.37,711.056 1040.82,710.932 1018.46,711.168 997.273,711.718 977.217,712.544 \n",
       "  958.263,713.616 940.382,714.908 923.549,716.398 907.744,718.067 892.949,719.899 879.147,721.88 866.328,723.998 857.12,725.741 \n",
       "  \"/>\n",
       "<polyline clip-path=\"url(#clip182)\" style=\"stroke:#009af9; stroke-width:8; stroke-opacity:1; fill:none\" points=\"\n",
       "  854.482,726.24 843.602,728.598 833.683,731.061 824.723,733.622 816.723,736.272 809.685,739.005 803.615,741.813 798.52,744.69 794.411,747.629 791.301,750.625 \n",
       "  789.206,753.671 788.145,756.761 788.139,759.889 789.217,763.048 791.406,766.232 794.744,769.434 799.268,772.646 805.027,775.86 812.072,779.066 820.465,782.254 \n",
       "  830.277,785.413 841.59,788.529 854.499,791.585 869.118,794.562 885.582,797.435 904.05,800.176 924.719,802.745 947.828,805.093 973.679,807.151 1002.65,808.824 \n",
       "  1035.25,809.975 1072.11,810.389 1114.13,809.714 1162.4,807.321 1217.89,801.962 1278.04,791.114 1321.75,772.751 1322.95,754.18 1300.04,740.962 1270.04,731.814 \n",
       "  1238.56,725.275 1207.41,720.501 1177.24,716.997 1148.3,714.454 1120.64,712.667 1094.29,711.492 1069.21,710.826 1045.37,710.589 1022.73,710.721 1001.25,711.175 \n",
       "  980.903,711.91 961.649,712.896 943.462,714.105 926.316,715.516 910.19,717.109 895.063,718.867 880.921,720.777 867.749,722.825 860.462,724.123 \n",
       "  \"/>\n",
       "<polyline clip-path=\"url(#clip182)\" style=\"stroke:#009af9; stroke-width:8; stroke-opacity:1; fill:none\" points=\"\n",
       "  855.538,725 844.28,727.291 833.967,729.69 824.599,732.188 816.172,734.777 808.69,737.45 802.155,740.2 796.574,743.02 791.955,745.905 788.309,748.848 \n",
       "  785.65,751.843 783.995,754.885 783.362,757.967 783.776,761.084 785.262,764.228 787.851,767.395 791.579,770.575 796.487,773.763 802.62,776.95 810.032,780.126 \n",
       "  818.785,783.281 828.951,786.404 840.611,789.48 853.862,792.493 868.819,795.424 885.615,798.247 904.414,800.933 925.411,803.443 948.848,805.725 975.029,807.711 \n",
       "  1004.34,809.304 1037.27,810.362 1074.49,810.666 1116.87,809.855 1165.52,807.28 1221.31,801.653 1281.22,790.402 1323.01,771.789 1322.49,753.445 1299.08,740.443 \n",
       "  1268.99,731.415 1237.53,724.943 1206.43,720.203 1176.32,716.715 1147.43,714.175 1119.81,712.382 1093.49,711.195 1068.42,710.511 1044.58,710.253 1021.93,710.36 \n",
       "  1000.43,710.786 980.049,711.492 960.749,712.446 942.503,713.622 925.286,714.998 909.075,716.555 893.851,718.277 879.599,720.148 866.304,722.157 863.531,722.637 \n",
       "  \n",
       "  \"/>\n",
       "<polyline clip-path=\"url(#clip182)\" style=\"stroke:#009af9; stroke-width:8; stroke-opacity:1; fill:none\" points=\"\n",
       "  853.955,724.293 842.544,726.544 832.064,728.903 822.513,731.36 813.887,733.908 806.188,736.54 799.419,739.249 793.584,742.028 788.692,744.873 784.75,747.775 \n",
       "  781.773,750.731 779.775,753.734 778.774,756.779 778.79,759.859 779.847,762.969 781.974,766.102 785.203,769.253 789.571,772.413 795.12,775.576 801.898,778.732 \n",
       "  809.961,781.873 819.372,784.988 830.207,788.064 842.551,791.087 856.504,794.039 872.186,796.901 889.737,799.645 909.328,802.24 931.165,804.643 955.502,806.8 \n",
       "  982.662,808.634 1013.05,810.04 1047.21,810.857 1085.84,810.838 1129.86,809.563 1180.41,806.261 1237.92,799.371 1296.21,786.021 1326.93,766.435 1317.81,749.478 \n",
       "  1291.74,737.695 1261.04,729.432 1229.6,723.454 1198.73,719.055 1168.93,715.811 1140.36,713.453 1113.06,711.798 1087.04,710.718 1062.26,710.118 1038.69,709.925 \n",
       "  1016.28,710.084 995.011,710.549 974.835,711.285 955.724,712.261 937.65,713.452 920.587,714.837 904.515,716.399 889.415,718.12 875.27,719.988 866.143,721.372 \n",
       "  \n",
       "  \"/>\n",
       "<polyline clip-path=\"url(#clip182)\" style=\"stroke:#009af9; stroke-width:8; stroke-opacity:1; fill:none\" points=\"\n",
       "  862.066,721.99 849.795,724.115 838.445,726.354 828.013,728.698 818.493,731.138 809.884,733.667 802.187,736.278 795.403,738.964 789.537,741.721 784.596,744.54 \n",
       "  780.59,747.418 777.53,750.347 775.429,753.324 774.305,756.341 774.178,759.394 775.069,762.477 777.006,765.583 780.019,768.708 784.142,771.843 789.415,774.981 \n",
       "  795.884,778.116 803.6,781.237 812.623,784.334 823.023,787.398 834.879,790.413 848.284,793.364 863.347,796.232 880.198,798.994 898.99,801.62 919.912,804.075 \n",
       "  943.191,806.309 969.113,808.258 998.039,809.831 1030.43,810.898 1066.91,811.261 1108.27,810.597 1155.55,808.341 1209.74,803.396 1269.34,793.543 1317.93,776.248 \n",
       "  1326.02,757.047 1305.85,742.891 1276.68,733.081 1245.38,726.071 1214.17,720.934 1183.82,717.132 1154.63,714.332 1126.7,712.315 1100.03,710.93 1074.61,710.067 \n",
       "  1050.4,709.643 1027.37,709.596 1005.48,709.875 984.698,710.441 964.98,711.261 946.302,712.307 928.637,713.557 911.961,714.991 896.253,716.593 881.497,718.347 \n",
       "  868.798,720.087 \n",
       "  \"/>\n",
       "<polyline clip-path=\"url(#clip182)\" style=\"stroke:#009af9; stroke-width:8; stroke-opacity:1; fill:none\" points=\"\n",
       "  867.677,720.24 854.78,722.262 842.797,724.402 831.719,726.651 821.541,729 812.259,731.442 803.872,733.97 796.381,736.576 789.788,739.256 784.098,742.002 \n",
       "  779.317,744.809 775.455,747.672 772.523,750.586 770.534,753.544 769.506,756.542 769.457,759.574 770.41,762.634 772.389,765.718 775.426,768.818 779.552,771.929 \n",
       "  784.806,775.043 791.233,778.152 798.881,781.249 807.81,784.323 818.085,787.363 829.781,790.357 842.989,793.29 857.813,796.143 874.374,798.895 892.82,801.518 \n",
       "  913.326,803.978 936.108,806.231 961.431,808.215 989.63,809.85 1021.14,811.019 1056.51,811.545 1096.49,811.151 1142.04,809.357 1194.22,805.266 1252.78,797.059 \n",
       "  1307.65,781.846 1328.08,762.115 1313.39,746.406 1285.79,735.517 1254.82,727.796 1223.49,722.16 1192.86,717.984 1163.33,714.89 1135.01,712.633 1107.96,711.044 \n",
       "  1082.15,710.005 1057.56,709.426 1034.14,709.239 1011.87,709.391 990.695,709.839 970.592,710.55 951.527,711.495 933.472,712.648 916.402,713.991 900.296,715.505 \n",
       "  885.135,717.176 871.122,718.961 \n",
       "  \"/>\n",
       "<polyline clip-path=\"url(#clip182)\" style=\"stroke:#009af9; stroke-width:8; stroke-opacity:1; fill:none\" points=\"\n",
       "  870.902,718.989 857.585,720.934 845.172,723 833.654,725.176 823.024,727.456 813.277,729.83 804.411,732.293 796.425,734.836 789.321,737.454 783.1,740.141 \n",
       "  777.769,742.891 773.335,745.699 769.808,748.559 767.198,751.467 765.52,754.417 764.791,757.404 765.029,760.422 766.257,763.467 768.502,766.533 771.791,769.613 \n",
       "  776.159,772.702 781.643,775.792 788.288,778.876 796.143,781.945 805.265,784.99 815.72,788 827.584,790.963 840.944,793.863 855.903,796.682 872.582,799.399 \n",
       "  891.127,801.987 911.71,804.411 934.543,806.628 959.888,808.579 988.073,810.183 1019.52,811.326 1054.78,811.835 1094.57,811.439 1139.83,809.677 1191.6,805.687 \n",
       "  1249.79,797.729 1305.39,782.946 1328.35,763.227 1315.1,747.187 1287.97,736.039 1257.13,728.137 1225.81,722.366 1195.13,718.083 1165.53,714.899 1137.13,712.563 \n",
       "  1109.97,710.903 1084.06,709.798 1059.35,709.156 1035.81,708.91 1013.41,709.005 992.099,709.399 971.852,710.056 952.635,710.947 934.42,712.049 917.181,713.341 \n",
       "  900.897,714.805 885.549,716.426 873.255,717.929 \n",
       "  \"/>\n",
       "<polyline clip-path=\"url(#clip182)\" style=\"stroke:#009af9; stroke-width:8; stroke-opacity:1; fill:none\" points=\"\n",
       "  871.119,718.19 857.594,720.086 844.961,722.103 833.212,724.232 822.339,726.464 812.336,728.791 803.2,731.207 794.929,733.704 787.524,736.277 780.987,738.919 \n",
       "  775.322,741.625 770.535,744.39 766.634,747.208 763.63,750.075 761.535,752.985 760.363,755.933 760.132,758.915 760.863,761.926 762.577,764.959 765.302,768.009 \n",
       "  769.068,771.071 773.908,774.138 779.863,777.203 786.976,780.258 795.299,783.295 804.89,786.304 815.816,789.274 828.154,792.192 841.994,795.043 857.442,797.808 \n",
       "  874.621,800.465 893.68,802.985 914.797,805.334 938.189,807.465 964.126,809.316 992.948,810.802 1025.09,811.8 1061.12,812.128 1101.79,811.492 1148.05,809.385 \n",
       "  1200.9,804.852 1259.63,795.968 1312.2,779.981 1328.29,760.387 1311.76,745.184 1283.74,734.613 1252.73,727.068 1221.5,721.528 1190.98,717.402 1161.55,714.328 \n",
       "  1133.33,712.07 1106.35,710.466 1080.59,709.4 1056.02,708.786 1032.61,708.557 1010.31,708.662 989.099,709.059 968.931,709.713 949.779,710.598 931.614,711.69 \n",
       "  914.413,712.968 898.152,714.415 882.814,716.017 875.338,716.92 \n",
       "  \"/>\n",
       "<polyline clip-path=\"url(#clip182)\" style=\"stroke:#009af9; stroke-width:8; stroke-opacity:1; fill:none\" points=\"\n",
       "  868.38,717.76 854.838,719.634 842.176,721.626 830.383,723.729 819.452,725.934 809.378,728.233 800.156,730.619 791.785,733.086 784.264,735.628 777.596,738.239 \n",
       "  771.784,740.913 766.832,743.646 762.75,746.432 759.545,749.266 757.229,752.145 755.816,755.061 755.322,758.012 755.765,760.992 757.167,763.996 759.552,767.018 \n",
       "  762.948,770.054 767.387,773.096 772.904,776.139 779.541,779.175 787.345,782.196 796.368,785.194 806.672,788.159 818.327,791.078 831.414,793.938 846.029,796.723 \n",
       "  862.282,799.412 880.304,801.982 900.253,804.403 922.318,806.635 946.733,808.627 973.788,810.311 1003.85,811.59 1037.39,812.324 1075.03,812.299 1117.59,811.164 \n",
       "  1166.05,808.296 1221.18,802.485 1280.18,791.364 1323.1,773.129 1325.23,754.559 1303.18,741.12 1273.67,731.711 1242.45,724.909 1211.42,719.872 1181.26,716.104 \n",
       "  1152.24,713.295 1124.42,711.24 1097.83,709.793 1072.45,708.852 1048.23,708.336 1025.15,708.186 1003.16,708.354 982.235,708.801 962.332,709.496 943.425,710.412 \n",
       "  925.486,711.526 908.491,712.821 892.42,714.279 877.534,715.857 \n",
       "  \"/>\n",
       "<polyline clip-path=\"url(#clip182)\" style=\"stroke:#009af9; stroke-width:8; stroke-opacity:1; fill:none\" points=\"\n",
       "  877.254,715.887 862.977,717.632 849.575,719.502 837.036,721.489 825.352,723.584 814.515,725.777 804.519,728.062 795.36,730.432 787.036,732.882 779.548,735.404 \n",
       "  772.896,737.993 767.085,740.645 762.118,743.354 758.003,746.115 754.748,748.924 752.365,751.776 750.866,754.666 750.266,757.59 750.583,760.542 751.837,763.519 \n",
       "  754.05,766.514 757.25,769.523 761.466,772.539 766.731,775.558 773.085,778.571 780.571,781.572 789.238,784.551 799.145,787.501 810.355,790.41 822.945,793.264 \n",
       "  837.001,796.051 852.625,798.75 869.938,801.342 889.082,803.798 910.227,806.084 933.583,808.157 959.407,809.957 988.021,811.404 1019.84,812.383 1055.39,812.722 \n",
       "  1095.38,812.153 1140.71,810.218 1192.36,806.071 1250.17,798.022 1305.43,783.314 1329.06,763.662 1316.58,747.49 1289.84,736.181 1259.18,728.132 1227.94,722.225 \n",
       "  1197.29,717.813 1167.66,714.502 1139.2,712.042 1111.96,710.259 1085.92,709.03 1061.06,708.264 1037.34,707.894 1014.73,707.864 993.191,708.132 972.681,708.662 \n",
       "  953.173,709.427 934.638,710.401 917.05,711.564 900.386,712.898 884.627,714.389 879.373,714.967 \n",
       "  \"/>\n",
       "<polyline clip-path=\"url(#clip182)\" style=\"stroke:#009af9; stroke-width:8; stroke-opacity:1; fill:none\" points=\"\n",
       "  869.753,716.023 855.752,717.789 842.608,719.675 830.313,721.673 818.855,723.775 808.23,725.971 798.43,728.257 789.454,730.624 781.298,733.068 773.964,735.582 \n",
       "  767.452,738.162 761.765,740.801 756.909,743.496 752.891,746.242 749.719,749.033 747.403,751.867 745.956,754.737 745.392,757.64 745.729,760.571 746.985,763.525 \n",
       "  749.184,766.497 752.35,769.483 756.511,772.476 761.702,775.471 767.958,778.461 775.321,781.44 783.839,784.398 793.567,787.328 804.566,790.219 816.907,793.059 \n",
       "  830.674,795.833 845.963,798.526 862.887,801.116 881.578,803.58 902.197,805.884 924.938,807.99 950.038,809.843 977.792,811.371 1008.58,812.474 1042.87,813.002 \n",
       "  1081.32,812.729 1124.73,811.277 1174.1,807.972 1229.94,801.497 1288.21,789.366 1326.14,770.533 1323.81,752.555 1300.36,739.696 1270.55,730.633 1239.36,724.033 \n",
       "  1208.45,719.117 1178.44,715.419 1149.55,712.647 1121.86,710.604 1095.38,709.155 1070.07,708.197 1045.91,707.656 1022.86,707.472 1000.88,707.599 979.936,708 \n",
       "  959.995,708.644 941.027,709.505 923.004,710.562 905.904,711.796 889.704,713.191 881.292,714.037 \n",
       "  \"/>\n",
       "<polyline clip-path=\"url(#clip182)\" style=\"stroke:#009af9; stroke-width:8; stroke-opacity:1; fill:none\" points=\"\n",
       "  874.386,714.733 859.934,716.41 846.334,718.212 833.573,720.128 821.641,722.15 810.531,724.27 800.236,726.482 790.751,728.777 782.074,731.152 774.203,733.598 \n",
       "  767.138,736.112 760.881,738.689 755.436,741.323 750.807,744.009 747.002,746.744 744.029,749.523 741.899,752.342 740.623,755.196 740.217,758.081 740.696,760.992 \n",
       "  742.08,763.925 744.391,766.876 747.654,769.838 751.896,772.807 757.15,775.777 763.45,778.742 770.839,781.695 779.361,784.628 789.07,787.533 800.026,790.398 \n",
       "  812.298,793.214 825.966,795.967 841.122,798.639 857.874,801.213 876.35,803.664 896.703,805.961 919.117,808.068 943.816,809.935 971.081,811.493 1001.26,812.65 \n",
       "  1034.81,813.271 1072.32,813.151 1114.56,811.956 1162.46,809.106 1216.8,803.485 1275.41,792.913 1321.14,775.293 1327.43,756.355 1307.17,742.331 1278.27,732.485 \n",
       "  1247.24,725.357 1216.21,720.058 1185.97,716.067 1156.81,713.06 1128.82,710.822 1102.03,709.204 1076.41,708.099 1051.94,707.425 1028.58,707.121 1006.29,707.138 \n",
       "  985.028,707.436 964.771,707.983 945.485,708.753 927.141,709.723 909.714,710.874 893.183,712.189 883.176,713.125 \n",
       "  \"/>\n",
       "<polyline clip-path=\"url(#clip182)\" style=\"stroke:#009af9; stroke-width:8; stroke-opacity:1; fill:none\" points=\"\n",
       "  877.527,713.654 862.731,715.257 848.778,716.986 835.655,718.832 823.353,720.786 811.863,722.84 801.176,724.986 791.287,727.219 782.193,729.531 773.891,731.918 \n",
       "  766.38,734.373 759.661,736.892 753.736,739.471 748.609,742.103 744.286,744.786 740.773,747.514 738.08,750.284 736.216,753.091 735.195,755.932 735.03,758.801 \n",
       "  735.738,761.695 737.339,764.609 739.854,767.539 743.307,770.479 747.726,773.424 753.143,776.37 759.592,779.309 767.115,782.235 775.756,785.14 785.567,788.016 \n",
       "  796.607,790.853 808.944,793.64 822.655,796.363 837.831,799.007 854.578,801.554 873.021,803.978 893.306,806.253 915.614,808.34 940.161,810.192 967.216,811.745 \n",
       "  997.12,812.909 1030.31,813.555 1067.34,813.492 1108.95,812.409 1156.05,809.77 1209.47,804.564 1267.83,794.8 1317.12,778.061 1329,758.743 1311.11,743.992 \n",
       "  1282.94,733.639 1252.07,726.166 1221,720.616 1190.64,716.431 1161.32,713.266 1133.16,710.894 1106.18,709.16 1080.37,707.951 1055.71,707.182 1032.14,706.791 \n",
       "  1009.64,706.726 988.178,706.947 967.707,707.42 948.201,708.12 929.631,709.021 911.973,710.106 895.204,711.357 884.961,712.261 \n",
       "  \"/>\n",
       "<polyline clip-path=\"url(#clip182)\" style=\"stroke:#009af9; stroke-width:8; stroke-opacity:1; fill:none\" points=\"\n",
       "  879.303,712.76 864.253,714.302 850.038,715.972 836.644,717.759 824.062,719.656 812.28,721.654 801.291,723.745 791.088,725.923 781.668,728.182 773.027,730.516 \n",
       "  765.162,732.919 758.075,735.388 751.767,737.917 746.239,740.501 741.497,743.136 737.547,745.818 734.395,748.543 732.051,751.307 730.526,754.106 729.832,756.935 \n",
       "  729.984,759.791 730.999,762.67 732.896,765.567 735.697,768.477 739.426,771.396 744.111,774.318 749.783,777.239 756.478,780.151 764.235,783.049 773.1,785.924 \n",
       "  783.125,788.769 794.367,791.574 806.894,794.327 820.783,797.015 836.125,799.623 853.023,802.131 871.601,804.518 892.005,806.754 914.413,808.802 939.038,810.615 \n",
       "  966.148,812.129 996.075,813.255 1029.25,813.869 1066.22,813.779 1107.71,812.682 1154.61,810.056 1207.74,804.918 1265.9,795.341 1315.97,778.871 1329.53,759.483 \n",
       "  1312.5,744.506 1284.61,733.978 1253.84,726.376 1222.79,720.726 1192.41,716.458 1163.04,713.221 1134.82,710.783 1107.78,708.988 1081.89,707.721 1057.14,706.898 \n",
       "  1033.48,706.453 1010.88,706.336 989.309,706.506 968.723,706.93 949.094,707.58 930.393,708.432 912.595,709.469 895.678,710.672 886.675,711.431 \n",
       "  \"/>\n",
       "<polyline clip-path=\"url(#clip182)\" style=\"stroke:#009af9; stroke-width:8; stroke-opacity:1; fill:none\" points=\"\n",
       "  879.619,712.027 864.403,713.521 850.012,715.144 836.433,716.884 823.654,718.734 811.666,720.685 800.459,722.73 790.027,724.862 780.364,727.076 771.468,729.364 \n",
       "  763.336,731.723 755.967,734.148 749.361,736.632 743.521,739.173 738.45,741.766 734.153,744.406 730.636,747.091 727.907,749.815 725.976,752.574 724.854,755.366 \n",
       "  724.554,758.186 725.091,761.03 726.482,763.895 728.746,766.774 731.907,769.666 735.988,772.563 741.018,775.462 747.028,778.357 754.053,781.241 762.135,784.109 \n",
       "  771.318,786.952 781.655,789.763 793.203,792.53 806.031,795.244 820.217,797.891 835.85,800.455 853.036,802.917 871.898,805.253 892.585,807.436 915.272,809.426 \n",
       "  940.177,811.177 967.566,812.623 997.776,813.675 1031.24,814.204 1068.5,814.015 1110.3,812.799 1157.51,810.017 1210.91,804.662 1269.02,794.759 1317.8,777.976 \n",
       "  1329.49,758.701 1311.73,743.945 1283.68,733.552 1252.91,726.025 1221.91,720.415 1191.58,716.165 1162.27,712.933 1134.09,710.491 1107.08,708.685 1081.22,707.402 \n",
       "  1056.48,706.558 1032.82,706.091 1010.22,705.948 988.623,706.09 968.007,706.484 948.337,707.103 929.586,707.923 911.727,708.926 894.738,710.095 888.358,710.616 \n",
       "  \n",
       "  \"/>\n",
       "<polyline clip-path=\"url(#clip182)\" style=\"stroke:#009af9; stroke-width:8; stroke-opacity:1; fill:none\" points=\"\n",
       "  878.598,711.414 863.289,712.873 848.795,714.458 835.102,716.162 822.198,717.974 810.073,719.886 798.719,721.893 788.127,723.986 778.292,726.16 769.211,728.41 \n",
       "  760.881,730.73 753.299,733.115 746.467,735.56 740.386,738.062 735.058,740.616 730.487,743.219 726.68,745.865 723.642,748.552 721.383,751.275 719.912,754.032 \n",
       "  719.241,756.817 719.384,759.628 720.356,762.46 722.176,765.309 724.862,768.172 728.437,771.043 732.928,773.919 738.361,776.793 744.77,779.66 752.191,782.515 \n",
       "  760.663,785.351 770.235,788.159 780.957,790.931 792.89,793.659 806.102,796.329 820.672,798.928 836.691,801.441 854.266,803.848 873.523,806.125 894.612,808.242 \n",
       "  917.713,810.161 943.047,811.832 970.885,813.187 1001.57,814.133 1035.54,814.536 1073.37,814.192 1115.79,812.771 1163.69,809.702 1217.74,803.899 1275.77,793.272 \n",
       "  1321.45,775.797 1328.8,756.834 1309.3,742.62 1280.8,732.578 1249.97,725.266 1219.05,719.794 1188.84,715.635 1159.65,712.463 1131.59,710.061 1104.69,708.279 \n",
       "  1078.92,707.01 1054.26,706.172 1030.68,705.702 1008.13,705.553 986.579,705.684 965.994,706.063 946.343,706.664 927.598,707.463 909.734,708.443 892.728,709.587 \n",
       "  890.041,709.802 \n",
       "  \"/>\n",
       "<polyline clip-path=\"url(#clip182)\" style=\"stroke:#009af9; stroke-width:8; stroke-opacity:1; fill:none\" points=\"\n",
       "  876.56,710.88 861.211,712.31 846.665,713.866 832.909,715.539 819.931,717.319 807.719,719.199 796.265,721.172 785.562,723.232 775.604,725.371 766.386,727.586 \n",
       "  757.906,729.87 750.161,732.219 743.151,734.629 736.878,737.095 731.343,739.613 726.549,742.179 722.502,744.79 719.207,747.442 716.672,750.13 714.907,752.852 \n",
       "  713.921,755.604 713.727,758.381 714.34,761.182 715.775,764.001 718.05,766.834 721.186,769.678 725.207,772.529 730.137,775.38 736.006,778.228 742.847,781.066 \n",
       "  750.697,783.889 759.597,786.69 769.594,789.461 780.742,792.193 793.102,794.876 806.742,797.499 821.745,800.048 838.201,802.505 856.222,804.851 875.935,807.062 \n",
       "  897.493,809.106 921.081,810.943 946.926,812.521 975.307,813.77 1006.58,814.592 1041.19,814.843 1079.73,814.306 1122.95,812.625 1171.74,809.178 1226.6,802.771 \n",
       "  1284.27,791.163 1325.32,772.908 1327.34,754.471 1305.87,740.944 1276.85,731.344 1245.96,724.311 1215.13,719.021 1185.07,714.987 1156.04,711.901 1128.14,709.56 \n",
       "  1101.38,707.821 1075.75,706.581 1051.21,705.761 1027.73,705.301 1005.27,705.154 983.794,705.283 963.271,705.654 943.669,706.244 924.961,707.029 907.121,707.992 \n",
       "  891.669,709.013 \n",
       "  \"/>\n",
       "<polyline clip-path=\"url(#clip182)\" style=\"stroke:#009af9; stroke-width:8; stroke-opacity:1; fill:none\" points=\"\n",
       "  890.126,709.115 873.957,710.386 858.595,711.793 844.025,713.323 830.232,714.969 817.205,716.721 804.932,718.572 793.405,720.514 782.617,722.543 772.561,724.65 \n",
       "  763.233,726.832 754.629,729.083 746.747,731.398 739.587,733.774 733.148,736.206 727.433,738.689 722.444,741.221 718.185,743.797 714.662,746.414 711.882,749.068 \n",
       "  709.853,751.756 708.584,754.475 708.086,757.22 708.373,759.988 709.459,762.777 711.361,765.581 714.097,768.397 717.689,771.221 722.16,774.048 727.536,776.875 \n",
       "  733.848,779.694 741.128,782.502 749.415,785.292 758.751,788.056 769.183,790.788 780.767,793.478 793.564,796.115 807.645,798.688 823.092,801.183 840,803.582 \n",
       "  858.482,805.865 878.668,808.006 900.715,809.973 924.813,811.724 951.195,813.204 980.149,814.34 1012.04,815.027 1047.34,815.113 1086.64,814.365 1130.73,812.396 \n",
       "  1180.46,808.522 1236.11,801.422 1292.93,788.723 1328.39,769.83 1325.27,752.064 1302.03,739.234 1272.56,730.076 1241.64,723.324 1210.92,718.222 1181.02,714.317 \n",
       "  1152.16,711.323 1124.42,709.047 1097.82,707.354 1072.32,706.146 1047.91,705.347 1024.54,704.9 1002.18,704.759 980.789,704.887 960.336,705.254 940.791,705.835 \n",
       "  922.127,706.608 904.319,707.555 893.181,708.281 \n",
       "  \"/>\n",
       "<polyline clip-path=\"url(#clip182)\" style=\"stroke:#009af9; stroke-width:8; stroke-opacity:1; fill:none\" points=\"\n",
       "  887.344,708.661 871.182,709.912 855.816,711.296 841.23,712.803 827.409,714.424 814.342,716.149 802.017,717.972 790.427,719.886 779.563,721.884 769.419,723.961 \n",
       "  759.991,726.111 751.274,728.33 743.267,730.613 735.967,732.956 729.376,735.354 723.493,737.804 718.322,740.302 713.867,742.844 710.131,745.427 707.12,748.048 \n",
       "  704.844,750.703 703.309,753.389 702.526,756.102 702.507,758.839 703.265,761.597 704.816,764.372 707.176,767.159 710.365,769.957 714.404,772.759 719.318,775.563 \n",
       "  725.134,778.363 731.882,781.154 739.596,783.93 748.314,786.685 758.08,789.412 768.943,792.103 780.957,794.75 794.187,797.34 808.705,799.863 824.594,802.303 \n",
       "  841.951,804.643 860.892,806.861 881.549,808.931 904.085,810.819 928.694,812.482 955.615,813.862 985.145,814.881 1017.66,815.429 1053.65,815.343 1093.73,814.373 \n",
       "  1138.69,812.098 1189.37,807.764 1245.7,799.913 1301.07,786.088 1330.42,766.788 1322.76,749.769 1298.06,737.595 1268.22,728.851 1237.3,722.364 1206.71,717.439 \n",
       "  1176.96,713.658 1148.27,710.752 1120.7,708.54 1094.25,706.892 1068.89,705.715 1044.61,704.938 1021.35,704.503 999.082,704.368 977.774,704.497 957.391,704.859 \n",
       "  937.903,705.432 919.284,706.193 901.508,707.126 894.659,707.566 \n",
       "  \"/>\n",
       "<polyline clip-path=\"url(#clip182)\" style=\"stroke:#009af9; stroke-width:8; stroke-opacity:1; fill:none\" points=\"\n",
       "  884.554,708.215 868.401,709.446 853.032,710.809 838.431,712.294 824.584,713.889 811.48,715.589 799.108,717.385 787.457,719.271 776.522,721.24 766.295,723.287 \n",
       "  756.771,725.407 747.947,727.595 739.819,729.846 732.387,732.157 725.65,734.523 719.608,736.94 714.263,739.405 709.619,741.915 705.68,744.465 702.45,747.054 \n",
       "  699.937,749.676 698.149,752.33 697.094,755.011 696.784,757.717 697.23,760.445 698.447,763.19 700.45,765.95 703.258,768.721 706.888,771.499 711.365,774.279 \n",
       "  716.712,777.058 722.957,779.83 730.131,782.592 738.269,785.335 747.411,788.056 757.599,790.745 768.884,793.396 781.322,795.998 794.979,798.542 809.927,801.013 \n",
       "  826.252,803.398 844.053,805.678 863.448,807.831 884.573,809.829 907.595,811.637 932.713,813.21 960.173,814.488 990.281,815.387 1023.43,815.792 1060.11,815.529 \n",
       "  1100.98,814.326 1146.82,811.727 1198.44,806.9 1255.28,798.235 1308.51,783.284 1331.47,763.824 1319.91,747.588 1293.99,736.026 1263.88,727.668 1232.98,721.43 \n",
       "  1202.52,716.673 1172.94,713.01 1144.41,710.188 1117,708.036 1090.7,706.431 1065.49,705.284 1041.32,704.526 1018.17,704.104 996.001,703.974 974.775,704.102 \n",
       "  954.461,704.461 935.029,705.025 916.454,705.774 898.71,706.693 896.124,706.856 \n",
       "  \"/>\n",
       "<polyline clip-path=\"url(#clip182)\" style=\"stroke:#009af9; stroke-width:8; stroke-opacity:1; fill:none\" points=\"\n",
       "  881.776,707.765 865.632,708.977 850.26,710.32 835.646,711.781 821.775,713.353 808.635,715.027 796.215,716.797 784.507,718.655 773.502,720.596 763.194,722.613 \n",
       "  753.577,724.703 744.649,726.861 736.405,729.081 728.843,731.36 721.964,733.694 715.767,736.079 710.254,738.512 705.427,740.989 701.291,743.508 697.849,746.063 \n",
       "  695.107,748.654 693.074,751.276 691.757,753.926 691.165,756.602 691.311,759.299 692.207,762.016 693.866,764.747 696.306,767.491 699.545,770.244 703.602,773 \n",
       "  708.5,775.758 714.265,778.511 720.925,781.256 728.511,783.987 737.059,786.698 746.608,789.383 757.204,792.034 768.896,794.644 781.744,797.203 795.811,799.699 \n",
       "  811.174,802.12 827.92,804.45 846.15,806.67 865.983,808.758 887.56,810.684 911.05,812.413 936.659,813.897 964.639,815.073 995.307,815.853 1029.06,816.116 \n",
       "  1066.42,815.674 1108.05,814.237 1154.74,811.308 1207.22,805.973 1264.37,796.474 1314.82,780.484 1331.67,761.097 1316.93,745.611 1290.07,734.592 1259.76,726.574 \n",
       "  1228.91,720.557 1198.58,715.951 1169.16,712.392 1140.8,709.643 1113.54,707.544 1087.38,705.976 1062.29,704.854 1038.24,704.111 1015.19,703.697 993.102,703.569 \n",
       "  971.949,703.695 951.695,704.046 932.312,704.599 913.773,705.335 897.56,706.161 \n",
       "  \"/>\n",
       "<polyline clip-path=\"url(#clip182)\" style=\"stroke:#009af9; stroke-width:8; stroke-opacity:1; fill:none\" points=\"\n",
       "  896.054,706.237 879.133,707.291 862.991,708.483 847.61,709.803 832.975,711.24 819.073,712.787 805.891,714.435 793.418,716.177 781.645,718.006 770.565,719.918 \n",
       "  760.17,721.905 750.455,723.964 741.417,726.09 733.051,728.279 725.356,730.526 718.33,732.827 711.974,735.18 706.288,737.58 701.275,740.024 696.937,742.509 \n",
       "  693.279,745.032 690.306,747.59 688.025,750.18 686.443,752.798 685.568,755.443 685.412,758.11 685.985,760.796 687.301,763.499 689.375,766.216 692.222,768.942 \n",
       "  695.863,771.674 700.316,774.409 705.606,777.142 711.757,779.869 718.799,782.586 726.764,785.286 735.688,787.964 745.61,790.614 756.577,793.227 768.639,795.797 \n",
       "  781.856,798.313 796.293,800.763 812.027,803.135 829.147,805.412 847.756,807.576 867.974,809.602 889.945,811.461 913.841,813.117 939.872,814.518 968.296,815.601 \n",
       "  999.436,816.274 1033.7,816.408 1071.62,815.809 1113.87,814.166 1161.25,810.948 1214.38,805.171 1271.57,794.959 1319.26,778.197 1331.38,759.012 1314.48,744.109 \n",
       "  1287.01,733.49 1256.6,725.719 1225.81,719.861 1195.59,715.36 1166.29,711.872 1138.06,709.173 1110.91,707.105 1084.86,705.557 1059.86,704.445 1035.89,703.706 \n",
       "  1012.91,703.289 990.881,703.154 969.771,703.268 949.549,703.605 930.186,704.141 911.656,704.857 898.951,705.488 \n",
       "  \"/>\n",
       "<polyline clip-path=\"url(#clip182)\" style=\"stroke:#009af9; stroke-width:8; stroke-opacity:1; fill:none\" points=\"\n",
       "  893.935,705.737 877.001,706.766 860.836,707.933 845.421,709.226 830.742,710.636 816.784,712.153 803.536,713.771 790.987,715.482 779.128,717.279 767.95,719.158 \n",
       "  757.446,721.113 747.612,723.139 738.441,725.231 729.932,727.385 722.082,729.597 714.888,731.864 708.352,734.182 702.472,736.547 697.252,738.957 692.692,741.407 \n",
       "  688.798,743.896 685.573,746.42 683.024,748.976 681.156,751.561 679.979,754.172 679.501,756.808 679.732,759.463 680.685,762.136 682.373,764.824 684.811,767.523 \n",
       "  688.016,770.23 692.007,772.941 696.804,775.652 702.43,778.36 708.913,781.06 716.28,783.748 724.564,786.417 733.801,789.063 744.032,791.679 755.302,794.256 \n",
       "  767.663,796.788 781.174,799.263 795.902,801.671 811.924,803.998 829.328,806.228 848.219,808.342 868.717,810.315 890.968,812.118 915.144,813.713 941.458,815.049 \n",
       "  970.168,816.059 1001.6,816.652 1036.17,816.695 1074.4,815.987 1116.98,814.211 1164.7,810.818 1218.12,804.788 1275.19,794.199 1321.3,777.09 1331.23,758.048 \n",
       "  1313.45,743.411 1285.76,732.961 1255.34,725.288 1224.6,719.485 1194.44,715.015 1165.21,711.543 1137.03,708.846 1109.94,706.774 1083.92,705.216 1058.95,704.089 \n",
       "  1035,703.331 1012.03,702.893 989.993,702.733 968.871,702.821 948.626,703.13 929.231,703.636 910.659,704.322 900.342,704.814 \n",
       "  \"/>\n",
       "<polyline clip-path=\"url(#clip182)\" style=\"stroke:#009af9; stroke-width:8; stroke-opacity:1; fill:none\" points=\"\n",
       "  892.886,705.17 875.892,706.167 859.656,707.3 844.162,708.558 829.393,709.932 815.337,711.414 801.98,712.995 789.313,714.67 777.325,716.43 766.008,718.272 \n",
       "  755.355,720.189 745.361,722.177 736.02,724.231 727.328,726.347 719.284,728.521 711.885,730.75 705.129,733.029 699.018,735.357 693.553,737.728 688.734,740.142 \n",
       "  684.566,742.593 681.053,745.08 678.198,747.6 676.008,750.15 674.491,752.727 673.654,755.328 673.507,757.951 674.06,760.593 675.326,763.25 677.318,765.92 \n",
       "  680.052,768.599 683.543,771.285 687.812,773.974 692.879,776.662 698.766,779.344 705.501,782.018 713.112,784.677 721.631,787.317 731.095,789.933 741.543,792.516 \n",
       "  753.022,795.061 765.582,797.558 779.283,799.998 794.19,802.37 810.38,804.66 827.942,806.852 846.977,808.926 867.608,810.86 889.976,812.623 914.254,814.176 \n",
       "  940.651,815.471 969.423,816.442 1000.89,816.996 1035.47,817.002 1073.67,816.264 1116.16,814.466 1163.74,811.073 1216.94,805.086 1273.88,794.628 1320.59,777.7 \n",
       "  1331.72,758.6 1314.56,743.798 1287.12,733.214 1256.78,725.441 1226.06,719.557 1195.9,715.017 1166.65,711.482 1138.43,708.729 1111.3,706.603 1085.22,704.993 \n",
       "  1060.19,703.817 1036.17,703.011 1013.12,702.524 991.005,702.318 969.792,702.36 949.45,702.622 929.951,703.083 911.267,703.723 901.71,704.152 \n",
       "  \"/>\n",
       "<polyline clip-path=\"url(#clip182)\" style=\"stroke:#009af9; stroke-width:8; stroke-opacity:1; fill:none\" points=\"\n",
       "  893.376,704.526 876.255,705.477 859.886,706.566 844.25,707.779 829.332,709.109 815.117,710.546 801.594,712.083 788.752,713.713 776.579,715.429 765.069,717.227 \n",
       "  754.213,719.1 744.006,721.044 734.442,723.055 725.516,725.128 717.227,727.259 709.571,729.445 702.547,731.683 696.155,733.968 690.395,736.299 685.268,738.671 \n",
       "  680.778,741.082 676.927,743.53 673.719,746.011 671.16,748.523 669.255,751.063 668.012,753.628 667.439,756.216 667.546,758.823 668.343,761.448 669.843,764.088 \n",
       "  672.058,766.738 675.005,769.397 678.699,772.062 683.16,774.727 688.409,777.391 694.467,780.049 701.361,782.697 709.12,785.33 717.775,787.943 727.362,790.531 \n",
       "  737.921,793.086 749.496,795.602 762.137,798.071 775.903,800.482 790.858,802.826 807.077,805.088 824.647,807.253 843.667,809.302 864.255,811.212 886.551,812.954 \n",
       "  910.722,814.491 936.969,815.775 965.541,816.743 996.748,817.307 1030.98,817.343 1068.75,816.663 1110.68,814.975 1157.55,811.78 1209.97,806.17 1266.67,796.417 \n",
       "  1316.21,780.326 1332.63,761.018 1318.11,745.533 1291.52,734.442 1261.43,726.321 1230.73,720.187 1200.48,715.455 1171.1,711.765 1142.74,708.881 1115.45,706.641 \n",
       "  1089.21,704.931 1064.02,703.663 1039.82,702.773 1016.6,702.208 994.304,701.928 972.911,701.899 952.385,702.094 932.698,702.49 913.822,703.068 903.035,703.51 \n",
       "  \n",
       "  \"/>\n",
       "<polyline clip-path=\"url(#clip182)\" style=\"stroke:#009af9; stroke-width:8; stroke-opacity:1; fill:none\" points=\"\n",
       "  895.734,703.81 878.411,704.702 861.834,705.732 845.985,706.889 830.848,708.163 816.408,709.546 802.652,711.029 789.57,712.606 777.15,714.27 765.384,716.016 \n",
       "  754.264,717.838 743.784,719.732 733.937,721.693 724.72,723.717 716.128,725.801 708.159,727.939 700.81,730.13 694.082,732.369 687.974,734.654 682.485,736.982 \n",
       "  677.62,739.349 673.378,741.754 669.765,744.193 666.784,746.664 664.44,749.164 662.741,751.69 661.692,754.24 661.302,756.812 661.581,759.403 662.539,762.009 \n",
       "  664.188,764.629 666.541,767.26 669.614,769.897 673.423,772.54 677.986,775.183 683.323,777.823 689.457,780.458 696.413,783.081 704.219,785.69 712.906,788.279 \n",
       "  722.508,790.842 733.064,793.374 744.617,795.867 757.217,798.313 770.919,800.703 785.785,803.027 801.888,805.271 819.311,807.421 838.15,809.459 858.517,811.362 \n",
       "  880.547,813.104 904.396,814.649 930.258,815.953 958.366,816.957 989.013,817.579 1022.57,817.706 1059.49,817.169 1100.39,815.709 1146,812.892 1197.01,807.941 \n",
       "  1252.98,799.383 1306.33,784.92 1332.5,765.641 1323.71,748.926 1299.04,736.859 1269.48,728.084 1238.83,721.492 1208.44,716.419 1178.84,712.463 1150.22,709.361 \n",
       "  1122.65,706.939 1096.13,705.071 1070.66,703.664 1046.18,702.649 1022.68,701.97 1000.11,701.585 978.437,701.459 957.634,701.563 937.669,701.872 918.514,702.367 \n",
       "  904.338,702.879 \n",
       "  \"/>\n",
       "<polyline clip-path=\"url(#clip182)\" style=\"stroke:#009af9; stroke-width:8; stroke-opacity:1; fill:none\" points=\"\n",
       "  900.145,703.031 882.539,703.848 865.676,704.805 849.537,705.891 834.106,707.097 819.368,708.413 805.308,709.832 791.916,711.345 779.181,712.948 767.093,714.634 \n",
       "  755.643,716.397 744.825,718.233 734.633,720.137 725.061,722.105 716.106,724.134 707.763,726.219 700.03,728.357 692.906,730.544 686.39,732.779 680.482,735.057 \n",
       "  675.183,737.376 670.494,739.733 666.419,742.126 662.96,744.551 660.122,747.008 657.909,749.492 656.329,752.001 655.388,754.534 655.094,757.086 655.456,759.657 \n",
       "  656.486,762.243 658.193,764.842 660.592,767.451 663.697,770.066 667.523,772.686 672.089,775.307 677.413,777.924 683.519,780.536 690.429,783.137 698.171,785.724 \n",
       "  706.774,788.291 716.272,790.834 726.701,793.346 738.103,795.821 750.525,798.251 764.019,800.627 778.645,802.94 794.472,805.177 811.577,807.325 830.052,809.366 \n",
       "  850.002,811.28 871.551,813.043 894.846,814.622 920.066,815.976 947.425,817.053 977.191,817.781 1009.7,818.061 1045.37,817.747 1084.74,816.622 1128.5,814.332 \n",
       "  1177.39,810.263 1231.67,803.268 1287.79,791.281 1327.5,773.131 1330.24,754.757 1309.8,741.015 1281.5,731.112 1251.08,723.75 1220.53,718.121 1190.61,713.739 \n",
       "  1161.61,710.3 1133.63,707.599 1106.7,705.494 1080.81,703.883 1055.92,702.687 1032.01,701.847 1009.04,701.316 986.978,701.056 965.784,701.035 945.432,701.229 \n",
       "  925.894,701.615 907.142,702.176 905.67,702.234 \n",
       "  \"/>\n",
       "<polyline clip-path=\"url(#clip182)\" style=\"stroke:#009af9; stroke-width:8; stroke-opacity:1; fill:none\" points=\"\n",
       "  889.154,702.895 871.909,703.759 855.387,704.756 839.571,705.876 824.445,707.11 809.995,708.448 796.208,709.885 783.073,711.413 770.58,713.025 758.72,714.718 \n",
       "  747.485,716.485 736.868,718.322 726.863,720.224 717.467,722.188 708.673,724.211 700.481,726.287 692.886,728.415 685.888,730.591 679.485,732.812 673.679,735.076 \n",
       "  668.47,737.379 663.859,739.719 659.849,742.093 656.443,744.5 653.646,746.936 651.462,749.399 649.897,751.887 648.958,754.397 648.653,756.928 648.99,759.475 \n",
       "  649.98,762.038 651.633,764.613 653.962,767.198 656.98,769.79 660.703,772.387 665.148,774.984 670.332,777.58 676.278,780.169 683.006,782.75 690.544,785.317 \n",
       "  698.918,787.866 708.161,790.392 718.306,792.889 729.393,795.352 741.465,797.773 754.571,800.145 768.767,802.457 784.116,804.699 800.69,806.859 818.572,808.921 \n",
       "  837.859,810.867 858.663,812.675 881.117,814.316 905.382,815.756 931.647,816.948 960.149,817.834 991.178,818.329 1025.1,818.319 1062.39,817.63 1103.64,815.997 \n",
       "  1149.56,812.975 1200.82,807.766 1256.75,798.867 1309.09,784.033 1333.21,764.741 1323.37,748.256 1298.46,736.339 1268.9,727.634 1238.32,721.066 1208.02,715.99 \n",
       "  1178.48,712.013 1149.92,708.88 1122.38,706.417 1095.89,704.502 1070.41,703.042 1045.92,701.971 1022.38,701.233 999.758,700.786 978.019,700.595 957.131,700.632 \n",
       "  937.064,700.873 917.791,701.298 906.882,701.647 \n",
       "  \"/>\n",
       "<polyline clip-path=\"url(#clip182)\" style=\"stroke:#009af9; stroke-width:8; stroke-opacity:1; fill:none\" points=\"\n",
       "  899.289,701.89 881.533,702.635 864.503,703.519 848.182,704.531 832.551,705.661 817.597,706.901 803.305,708.243 789.664,709.68 776.661,711.205 764.288,712.812 \n",
       "  752.536,714.497 741.396,716.255 730.864,718.08 720.932,719.97 711.597,721.919 702.853,723.925 694.699,725.985 687.131,728.094 680.149,730.251 673.751,732.451 \n",
       "  667.937,734.693 662.709,736.974 658.067,739.291 654.014,741.642 650.553,744.025 647.687,746.436 645.422,748.875 643.762,751.338 642.715,753.823 642.287,756.328 \n",
       "  642.487,758.85 643.323,761.388 644.807,763.938 646.949,766.499 649.763,769.067 653.263,771.64 657.464,774.215 662.384,776.789 668.042,779.359 674.46,781.921 \n",
       "  681.66,784.471 689.669,787.005 698.515,789.518 708.231,792.006 718.852,794.463 730.419,796.882 742.975,799.257 756.573,801.578 771.268,803.836 787.127,806.019 \n",
       "  804.223,808.116 822.642,810.108 842.485,811.979 863.869,813.702 886.933,815.25 911.841,816.584 938.796,817.656 968.044,818.4 999.892,818.726 1034.73,818.507 \n",
       "  1073.05,817.551 1115.47,815.557 1162.73,812.011 1215.33,805.982 1271.61,795.729 1319.25,779.25 1333.42,760.081 1318.17,744.832 1291.56,733.842 1261.59,725.735 \n",
       "  1231.04,719.565 1200.92,714.768 1171.63,710.993 1143.33,708.01 1116.06,705.662 1089.81,703.835 1064.56,702.445 1040.28,701.426 1016.94,700.729 994.496,700.312 \n",
       "  972.922,700.144 952.183,700.197 932.252,700.449 913.101,700.879 908.139,701.039 \n",
       "  \"/>\n",
       "<polyline clip-path=\"url(#clip182)\" style=\"stroke:#009af9; stroke-width:8; stroke-opacity:1; fill:none\" points=\"\n",
       "  894.706,701.472 877.045,702.214 860.099,703.092 843.848,704.095 828.277,705.214 813.371,706.441 799.116,707.767 785.5,709.187 772.513,710.693 760.145,712.28 \n",
       "  748.386,713.943 737.231,715.678 726.671,717.48 716.702,719.345 707.318,721.269 698.516,723.249 690.292,725.281 682.644,727.363 675.57,729.491 669.069,731.663 \n",
       "  663.141,733.876 657.787,736.128 653.007,738.415 648.803,740.737 645.178,743.09 642.136,745.472 639.681,747.88 637.817,750.314 636.55,752.77 635.887,755.246 \n",
       "  635.836,757.74 636.404,760.25 637.602,762.773 639.44,765.307 641.93,767.85 645.084,770.399 648.918,772.951 653.446,775.504 658.688,778.053 664.661,780.598 \n",
       "  671.388,783.132 678.892,785.654 687.199,788.158 696.338,790.64 706.342,793.095 717.246,795.517 729.09,797.9 741.92,800.237 755.786,802.519 770.746,804.735 \n",
       "  786.866,806.876 804.219,808.928 822.893,810.873 842.987,812.694 864.62,814.366 887.931,815.858 913.087,817.133 940.289,818.142 969.786,818.817 1001.89,819.068 \n",
       "  1036.98,818.763 1075.57,817.708 1118.27,815.593 1165.8,811.891 1218.62,805.644 1274.79,795.072 1321.15,778.293 1333.43,759.223 1317.36,744.202 1290.54,733.361 \n",
       "  1260.55,725.339 1230.04,719.216 1199.98,714.443 1170.76,710.678 1142.5,707.696 1115.27,705.341 1089.05,703.501 1063.83,702.094 1039.57,701.056 1016.23,700.336 \n",
       "  993.785,699.895 972.198,699.701 951.438,699.725 931.477,699.947 912.287,700.347 909.385,700.436 \n",
       "  \"/>\n",
       "<polyline clip-path=\"url(#clip182)\" style=\"stroke:#009af9; stroke-width:8; stroke-opacity:1; fill:none\" points=\"\n",
       "  893.846,700.909 876.13,701.618 859.12,702.463 842.798,703.432 827.147,704.517 812.152,705.708 797.801,706.999 784.08,708.382 770.979,709.852 758.488,711.403 \n",
       "  746.599,713.029 735.303,714.727 724.595,716.491 714.467,718.318 704.916,720.205 695.936,722.147 687.525,724.142 679.679,726.186 672.396,728.276 665.676,730.411 \n",
       "  659.518,732.587 653.921,734.801 648.887,737.052 644.416,739.337 640.512,741.654 637.176,744 634.412,746.373 632.226,748.772 630.621,751.194 629.603,753.637 \n",
       "  629.18,756.099 629.359,758.578 630.148,761.071 631.557,763.576 633.596,766.091 636.277,768.614 639.613,771.141 643.618,773.672 648.309,776.201 653.701,778.728 \n",
       "  659.815,781.247 666.671,783.757 674.293,786.253 682.706,788.732 691.939,791.188 702.024,793.616 712.995,796.012 724.892,798.369 737.759,800.679 751.645,802.935 \n",
       "  766.607,805.127 782.708,807.244 800.021,809.273 818.63,811.198 838.632,813.001 860.141,814.658 883.292,816.141 908.244,817.413 935.193,818.426 964.375,819.119 \n",
       "  996.085,819.405 1030.7,819.161 1068.68,818.208 1110.63,816.261 1157.24,812.848 1209.08,807.114 1264.97,797.468 1314.88,781.801 1334.18,762.539 1321.82,746.621 \n",
       "  1296.25,735.097 1266.63,726.609 1236.15,720.155 1205.99,715.132 1176.61,711.168 1148.18,708.02 1120.75,705.525 1094.33,703.562 1068.9,702.045 1044.43,700.907 \n",
       "  1020.89,700.095 998.24,699.569 976.445,699.294 955.476,699.242 935.303,699.391 915.899,699.721 910.568,699.863 \n",
       "  \"/>\n",
       "<polyline clip-path=\"url(#clip182)\" style=\"stroke:#009af9; stroke-width:8; stroke-opacity:1; fill:none\" points=\"\n",
       "  897.241,700.216 879.306,700.86 862.072,701.642 845.523,702.55 829.641,703.574 814.41,704.707 799.817,705.941 785.849,707.268 772.496,708.682 759.747,710.179 \n",
       "  747.592,711.751 736.025,713.396 725.037,715.109 714.622,716.885 704.776,718.721 695.493,720.613 686.77,722.559 678.602,724.554 670.989,726.597 663.928,728.685 \n",
       "  657.418,730.814 651.458,732.983 646.049,735.189 641.192,737.43 636.887,739.704 633.138,742.008 629.947,744.34 627.318,746.699 625.255,749.082 623.762,751.487 \n",
       "  622.846,753.912 622.513,756.355 622.771,758.814 623.627,761.287 625.092,763.771 627.175,766.265 629.887,768.766 633.241,771.272 637.252,773.78 641.933,776.288 \n",
       "  647.302,778.792 653.377,781.29 660.179,783.778 667.729,786.252 676.052,788.71 685.176,791.146 695.131,793.556 705.951,795.934 717.672,798.275 730.336,800.571 \n",
       "  743.992,802.816 758.691,805 774.493,807.112 791.468,809.141 809.694,811.072 829.262,812.888 850.277,814.568 872.865,816.085 897.172,817.407 923.378,818.491 \n",
       "  951.698,819.281 982.4,819.704 1015.82,819.654 1052.37,818.979 1092.6,817.447 1137.16,814.683 1186.71,810.03 1241.22,802.272 1295.94,789.334 1330.97,770.748 \n",
       "  1329.96,752.88 1308.44,739.6 1280.03,729.933 1249.75,722.666 1219.4,717.051 1189.67,712.634 1160.82,709.125 1132.96,706.331 1106.1,704.117 1080.23,702.381 \n",
       "  1055.33,701.051 1031.36,700.067 1008.28,699.385 986.074,698.968 964.697,698.785 944.122,698.812 924.32,699.028 911.766,699.283 \n",
       "  \"/>\n",
       "<polyline clip-path=\"url(#clip182)\" style=\"stroke:#009af9; stroke-width:8; stroke-opacity:1; fill:none\" points=\"\n",
       "  905.267,699.414 886.939,699.957 869.315,700.641 852.375,701.456 836.101,702.392 820.479,703.439 805.493,704.59 791.13,705.837 777.378,707.174 764.226,708.595 \n",
       "  751.665,710.095 739.687,711.668 728.282,713.311 717.446,715.02 707.17,716.79 697.452,718.618 688.285,720.5 679.666,722.434 671.592,724.417 664.061,726.445 \n",
       "  657.071,728.517 650.621,730.63 644.71,732.781 639.339,734.968 634.508,737.189 630.219,739.442 626.474,741.725 623.275,744.035 620.625,746.371 618.53,748.731 \n",
       "  616.993,751.113 616.02,753.514 615.617,755.933 615.791,758.368 616.55,760.817 617.902,763.277 619.858,765.747 622.427,768.225 625.622,770.707 629.456,773.192 \n",
       "  633.942,775.677 639.097,778.16 644.937,780.637 651.482,783.106 658.753,785.563 666.772,788.004 675.565,790.426 685.159,792.824 695.587,795.193 706.882,797.528 \n",
       "  719.083,799.823 732.233,802.07 746.38,804.262 761.58,806.389 777.894,808.44 795.393,810.403 814.159,812.263 834.286,814.001 855.884,815.595 879.083,817.017 \n",
       "  904.038,818.231 930.935,819.193 960.002,819.842 991.522,820.096 1025.85,819.84 1063.42,818.904 1104.82,817.025 1150.71,813.77 1201.67,808.368 1257.02,799.384 \n",
       "  1308.97,784.688 1334.17,765.513 1325.65,748.837 1301.48,736.663 1272.32,727.719 1241.95,720.93 1211.76,715.645 1182.26,711.466 1153.68,708.135 1126.09,705.476 \n",
       "  1099.48,703.366 1073.86,701.712 1049.19,700.445 1025.43,699.512 1002.55,698.868 980.523,698.481 959.31,698.32 938.885,698.363 919.22,698.589 912.93,698.719 \n",
       "  \n",
       "  \"/>\n",
       "<polyline clip-path=\"url(#clip182)\" style=\"stroke:#009af9; stroke-width:8; stroke-opacity:1; fill:none\" points=\"\n",
       "  900.289,698.981 882.071,699.524 864.544,700.207 847.69,701.017 831.491,701.945 815.932,702.981 800.998,704.12 786.677,705.353 772.956,706.673 759.825,708.077 \n",
       "  747.275,709.557 735.298,711.111 723.884,712.732 713.029,714.418 702.725,716.164 692.968,717.967 683.752,719.825 675.075,721.733 666.933,723.689 659.323,725.69 \n",
       "  652.244,727.734 645.694,729.819 639.673,731.941 634.181,734.1 629.218,736.292 624.785,738.516 620.884,740.769 617.518,743.05 614.689,745.357 612.401,747.688 \n",
       "  610.657,750.04 609.464,752.413 608.827,754.804 608.752,757.211 609.245,759.632 610.316,762.065 611.973,764.509 614.225,766.961 617.084,769.419 620.561,771.881 \n",
       "  624.67,774.345 629.424,776.807 634.839,779.266 640.933,781.718 647.724,784.16 655.234,786.59 663.485,789.003 672.503,791.395 682.315,793.763 692.953,796.1 \n",
       "  704.45,798.403 716.846,800.664 730.183,802.877 744.509,805.034 759.879,807.125 776.355,809.14 794.006,811.066 812.914,812.887 833.172,814.587 854.891,816.141 \n",
       "  878.197,817.523 903.246,818.698 930.22,819.62 959.347,820.229 990.904,820.445 1025.24,820.153 1062.8,819.185 1104.13,817.281 1149.91,814.016 1200.7,808.634 \n",
       "  1255.88,799.731 1308.02,785.197 1334.21,766.07 1326.49,749.26 1302.66,736.951 1273.63,727.905 1243.31,721.034 1213.13,715.681 1183.63,711.442 1155.03,708.056 \n",
       "  1127.4,705.346 1100.76,703.186 1075.09,701.485 1050.36,700.173 1026.54,699.194 1003.6,698.507 981.496,698.076 960.205,697.872 939.696,697.871 919.941,698.054 \n",
       "  914.081,698.162 \n",
       "  \"/>\n",
       "<polyline clip-path=\"url(#clip182)\" style=\"stroke:#009af9; stroke-width:8; stroke-opacity:1; fill:none\" points=\"\n",
       "  900.915,698.404 882.594,698.905 864.959,699.545 847.991,700.313 831.671,701.198 815.984,702.193 800.916,703.289 786.454,704.48 772.585,705.759 759.3,707.12 \n",
       "  746.588,708.559 734.441,710.071 722.851,711.65 711.811,713.295 701.314,715 691.356,716.762 681.931,718.578 673.036,720.445 664.666,722.36 656.82,724.321 \n",
       "  649.495,726.325 642.69,728.37 636.402,730.453 630.633,732.572 625.382,734.725 620.65,736.91 616.438,739.126 612.748,741.369 609.582,743.639 606.944,745.934 \n",
       "  604.836,748.251 603.264,750.588 602.231,752.945 601.745,755.319 601.81,757.708 602.434,760.111 603.625,762.525 605.391,764.949 607.742,767.38 610.689,769.817 \n",
       "  614.243,772.257 618.416,774.699 623.224,777.139 628.68,779.575 634.802,782.004 641.608,784.423 649.118,786.83 \n",
       "  \"/>\n",
       "<path clip-path=\"url(#clip182)\" d=\"M1250.12 789.326 L1238.8 784.638 L1234.12 773.326 L1238.8 762.014 L1250.12 757.326 L1261.43 762.014 L1266.12 773.326 L1261.43 784.638 Z\" fill=\"#008000\" fill-rule=\"evenodd\" fill-opacity=\"1\" stroke=\"#000000\" stroke-opacity=\"1\" stroke-width=\"3.2\"/>\n",
       "<path clip-path=\"url(#clip180)\" d=\"\n",
       "M1299.3 348.236 L1826.46 348.236 L1826.46 166.796 L1299.3 166.796  Z\n",
       "  \" fill=\"#ffffff\" fill-rule=\"evenodd\" fill-opacity=\"1\"/>\n",
       "<polyline clip-path=\"url(#clip180)\" style=\"stroke:#000000; stroke-width:4; stroke-opacity:1; fill:none\" points=\"\n",
       "  1299.3,348.236 1826.46,348.236 1826.46,166.796 1299.3,166.796 1299.3,348.236 \n",
       "  \"/>\n",
       "<polyline clip-path=\"url(#clip180)\" style=\"stroke:#009af9; stroke-width:4; stroke-opacity:1; fill:none\" points=\"\n",
       "  1323.81,227.276 1470.82,227.276 \n",
       "  \"/>\n",
       "<path clip-path=\"url(#clip180)\" d=\"M 0 0 M1510.51 222.611 Q1509.79 222.195 1508.94 222.01 Q1508.1 221.801 1507.09 221.801 Q1503.48 221.801 1501.53 224.162 Q1499.61 226.5 1499.61 230.898 L1499.61 244.556 L1495.33 244.556 L1495.33 218.63 L1499.61 218.63 L1499.61 222.658 Q1500.95 220.297 1503.1 219.162 Q1505.26 218.005 1508.34 218.005 Q1508.78 218.005 1509.31 218.074 Q1509.84 218.121 1510.49 218.236 L1510.51 222.611 Z\" fill=\"#000000\" fill-rule=\"evenodd\" fill-opacity=\"1\" /><path clip-path=\"url(#clip180)\" d=\"M 0 0 M1536.11 230.528 L1536.11 232.611 L1516.53 232.611 Q1516.81 237.009 1519.17 239.324 Q1521.55 241.616 1525.79 241.616 Q1528.24 241.616 1530.54 241.014 Q1532.85 240.412 1535.12 239.209 L1535.12 243.236 Q1532.83 244.208 1530.42 244.718 Q1528.01 245.227 1525.54 245.227 Q1519.33 245.227 1515.7 241.616 Q1512.09 238.005 1512.09 231.847 Q1512.09 225.482 1515.51 221.755 Q1518.96 218.005 1524.79 218.005 Q1530.03 218.005 1533.06 221.385 Q1536.11 224.741 1536.11 230.528 M1531.85 229.278 Q1531.81 225.783 1529.89 223.699 Q1527.99 221.616 1524.84 221.616 Q1521.28 221.616 1519.12 223.63 Q1516.99 225.644 1516.67 229.301 L1531.85 229.278 Z\" fill=\"#000000\" fill-rule=\"evenodd\" fill-opacity=\"1\" /><path clip-path=\"url(#clip180)\" d=\"M 0 0 M1556.23 208.537 L1556.23 212.079 L1552.16 212.079 Q1549.86 212.079 1548.96 213.005 Q1548.08 213.931 1548.08 216.338 L1548.08 218.63 L1555.1 218.63 L1555.1 221.94 L1548.08 221.94 L1548.08 244.556 L1543.8 244.556 L1543.8 221.94 L1539.73 221.94 L1539.73 218.63 L1543.8 218.63 L1543.8 216.824 Q1543.8 212.496 1545.81 210.528 Q1547.83 208.537 1552.2 208.537 L1556.23 208.537 Z\" fill=\"#000000\" fill-rule=\"evenodd\" fill-opacity=\"1\" /><polyline clip-path=\"url(#clip180)\" style=\"stroke:#008000; stroke-width:4; stroke-opacity:1; fill:none\" points=\"\n",
       "  1323.81,287.756 1470.82,287.756 \n",
       "  \"/>\n",
       "<path clip-path=\"url(#clip180)\" d=\"M1397.31 313.356 L1379.22 305.855 L1371.71 287.756 L1379.22 269.657 L1397.31 262.156 L1415.41 269.657 L1422.91 287.756 L1415.41 305.855 Z\" fill=\"#008000\" fill-rule=\"evenodd\" fill-opacity=\"1\" stroke=\"#000000\" stroke-opacity=\"1\" stroke-width=\"5.12\"/>\n",
       "<path clip-path=\"url(#clip180)\" d=\"M 0 0 M1500 274.318 L1500 287.304 L1505.88 287.304 Q1509.15 287.304 1510.93 285.615 Q1512.71 283.925 1512.71 280.8 Q1512.71 277.698 1510.93 276.008 Q1509.15 274.318 1505.88 274.318 L1500 274.318 M1495.33 270.476 L1505.88 270.476 Q1511.69 270.476 1514.66 273.115 Q1517.64 275.73 1517.64 280.8 Q1517.64 285.915 1514.66 288.531 Q1511.69 291.147 1505.88 291.147 L1500 291.147 L1500 305.036 L1495.33 305.036 L1495.33 270.476 Z\" fill=\"#000000\" fill-rule=\"evenodd\" fill-opacity=\"1\" /><path clip-path=\"url(#clip180)\" d=\"M 0 0 M1523.73 269.017 L1527.99 269.017 L1527.99 305.036 L1523.73 305.036 L1523.73 269.017 Z\" fill=\"#000000\" fill-rule=\"evenodd\" fill-opacity=\"1\" /><path clip-path=\"url(#clip180)\" d=\"M 0 0 M1548.68 292.003 Q1543.52 292.003 1541.53 293.184 Q1539.54 294.364 1539.54 297.212 Q1539.54 299.48 1541.02 300.823 Q1542.53 302.142 1545.1 302.142 Q1548.64 302.142 1550.77 299.642 Q1552.92 297.119 1552.92 292.952 L1552.92 292.003 L1548.68 292.003 M1557.18 290.244 L1557.18 305.036 L1552.92 305.036 L1552.92 301.101 Q1551.46 303.462 1549.29 304.596 Q1547.11 305.707 1543.96 305.707 Q1539.98 305.707 1537.62 303.485 Q1535.28 301.239 1535.28 297.489 Q1535.28 293.114 1538.2 290.892 Q1541.14 288.67 1546.95 288.67 L1552.92 288.67 L1552.92 288.253 Q1552.92 285.314 1550.98 283.716 Q1549.05 282.096 1545.56 282.096 Q1543.34 282.096 1541.23 282.628 Q1539.12 283.161 1537.18 284.226 L1537.18 280.29 Q1539.52 279.388 1541.72 278.948 Q1543.91 278.485 1546 278.485 Q1551.62 278.485 1554.4 281.402 Q1557.18 284.318 1557.18 290.244 Z\" fill=\"#000000\" fill-rule=\"evenodd\" fill-opacity=\"1\" /><path clip-path=\"url(#clip180)\" d=\"M 0 0 M1587.5 289.388 L1587.5 305.036 L1583.24 305.036 L1583.24 289.527 Q1583.24 285.846 1581.81 284.017 Q1580.37 282.189 1577.5 282.189 Q1574.05 282.189 1572.06 284.388 Q1570.07 286.587 1570.07 290.383 L1570.07 305.036 L1565.79 305.036 L1565.79 279.11 L1570.07 279.11 L1570.07 283.138 Q1571.6 280.8 1573.66 279.642 Q1575.74 278.485 1578.45 278.485 Q1582.92 278.485 1585.21 281.263 Q1587.5 284.017 1587.5 289.388 Z\" fill=\"#000000\" fill-rule=\"evenodd\" fill-opacity=\"1\" /><path clip-path=\"url(#clip180)\" d=\"M 0 0 M1618.17 291.008 L1618.17 293.091 L1598.59 293.091 Q1598.87 297.489 1601.23 299.804 Q1603.61 302.096 1607.85 302.096 Q1610.3 302.096 1612.6 301.494 Q1614.91 300.892 1617.18 299.689 L1617.18 303.716 Q1614.89 304.688 1612.48 305.198 Q1610.07 305.707 1607.6 305.707 Q1601.39 305.707 1597.76 302.096 Q1594.15 298.485 1594.15 292.327 Q1594.15 285.962 1597.57 282.235 Q1601.02 278.485 1606.85 278.485 Q1612.09 278.485 1615.12 281.865 Q1618.17 285.221 1618.17 291.008 M1613.91 289.758 Q1613.87 286.263 1611.95 284.179 Q1610.05 282.096 1606.9 282.096 Q1603.34 282.096 1601.18 284.11 Q1599.05 286.124 1598.73 289.781 L1613.91 289.758 Z\" fill=\"#000000\" fill-rule=\"evenodd\" fill-opacity=\"1\" /><path clip-path=\"url(#clip180)\" d=\"M 0 0 M1629.38 271.749 L1629.38 279.11 L1638.15 279.11 L1638.15 282.42 L1629.38 282.42 L1629.38 296.494 Q1629.38 299.665 1630.23 300.568 Q1631.11 301.471 1633.78 301.471 L1638.15 301.471 L1638.15 305.036 L1633.78 305.036 Q1628.85 305.036 1626.97 303.207 Q1625.1 301.355 1625.1 296.494 L1625.1 282.42 L1621.97 282.42 L1621.97 279.11 L1625.1 279.11 L1625.1 271.749 L1629.38 271.749 Z\" fill=\"#000000\" fill-rule=\"evenodd\" fill-opacity=\"1\" /><path clip-path=\"url(#clip180)\" d=\"M 0 0 M1659.01 270.476 L1680.86 270.476 L1680.86 274.411 L1663.68 274.411 L1663.68 284.642 L1680.14 284.642 L1680.14 288.577 L1663.68 288.577 L1663.68 301.101 L1681.28 301.101 L1681.28 305.036 L1659.01 305.036 L1659.01 270.476 Z\" fill=\"#000000\" fill-rule=\"evenodd\" fill-opacity=\"1\" /><path clip-path=\"url(#clip180)\" d=\"M 0 0 M1700.56 292.003 Q1695.4 292.003 1693.4 293.184 Q1691.41 294.364 1691.41 297.212 Q1691.41 299.48 1692.9 300.823 Q1694.4 302.142 1696.97 302.142 Q1700.51 302.142 1702.64 299.642 Q1704.79 297.119 1704.79 292.952 L1704.79 292.003 L1700.56 292.003 M1709.05 290.244 L1709.05 305.036 L1704.79 305.036 L1704.79 301.101 Q1703.34 303.462 1701.16 304.596 Q1698.98 305.707 1695.84 305.707 Q1691.85 305.707 1689.49 303.485 Q1687.15 301.239 1687.15 297.489 Q1687.15 293.114 1690.07 290.892 Q1693.01 288.67 1698.82 288.67 L1704.79 288.67 L1704.79 288.253 Q1704.79 285.314 1702.85 283.716 Q1700.93 282.096 1697.43 282.096 Q1695.21 282.096 1693.1 282.628 Q1691 283.161 1689.05 284.226 L1689.05 280.29 Q1691.39 279.388 1693.59 278.948 Q1695.79 278.485 1697.87 278.485 Q1703.5 278.485 1706.28 281.402 Q1709.05 284.318 1709.05 290.244 Z\" fill=\"#000000\" fill-rule=\"evenodd\" fill-opacity=\"1\" /><path clip-path=\"url(#clip180)\" d=\"M 0 0 M1732.85 283.091 Q1732.13 282.675 1731.28 282.49 Q1730.44 282.281 1729.42 282.281 Q1725.81 282.281 1723.87 284.642 Q1721.95 286.98 1721.95 291.378 L1721.95 305.036 L1717.66 305.036 L1717.66 279.11 L1721.95 279.11 L1721.95 283.138 Q1723.29 280.777 1725.44 279.642 Q1727.59 278.485 1730.67 278.485 Q1731.11 278.485 1731.65 278.554 Q1732.18 278.601 1732.83 278.716 L1732.85 283.091 Z\" fill=\"#000000\" fill-rule=\"evenodd\" fill-opacity=\"1\" /><path clip-path=\"url(#clip180)\" d=\"M 0 0 M1741.53 271.749 L1741.53 279.11 L1750.3 279.11 L1750.3 282.42 L1741.53 282.42 L1741.53 296.494 Q1741.53 299.665 1742.39 300.568 Q1743.27 301.471 1745.93 301.471 L1750.3 301.471 L1750.3 305.036 L1745.93 305.036 Q1741 305.036 1739.12 303.207 Q1737.25 301.355 1737.25 296.494 L1737.25 282.42 L1734.12 282.42 L1734.12 279.11 L1737.25 279.11 L1737.25 271.749 L1741.53 271.749 Z\" fill=\"#000000\" fill-rule=\"evenodd\" fill-opacity=\"1\" /><path clip-path=\"url(#clip180)\" d=\"M 0 0 M1777.46 289.388 L1777.46 305.036 L1773.2 305.036 L1773.2 289.527 Q1773.2 285.846 1771.76 284.017 Q1770.33 282.189 1767.46 282.189 Q1764.01 282.189 1762.02 284.388 Q1760.02 286.587 1760.02 290.383 L1760.02 305.036 L1755.74 305.036 L1755.74 269.017 L1760.02 269.017 L1760.02 283.138 Q1761.55 280.8 1763.61 279.642 Q1765.7 278.485 1768.4 278.485 Q1772.87 278.485 1775.16 281.263 Q1777.46 284.017 1777.46 289.388 Z\" fill=\"#000000\" fill-rule=\"evenodd\" fill-opacity=\"1\" /></svg>\n"
      ]
     },
     "execution_count": 74,
     "metadata": {},
     "output_type": "execute_result"
    }
   ],
   "source": [
    "knots = 4000\n",
    "function n_orbits_ref_traj(init_orbit::Orbit,orbits::Int) #knots,Nx,Nu\n",
    "    traj = zeros(knots-1,Nx+Nu)\n",
    "    h = init_orbit.period*orbits/(knots)\n",
    "    x = copy(init_orbit.x0)\n",
    "#     R = [[0.7071068  0.0000000  0.7071068];\n",
    "#          [0.0000000  1.0000000  0.0000000];\n",
    "#          [-0.7071068  0.0000000  0.7071068]]\n",
    "    R = I(3)\n",
    "#     print(size(R))\n",
    "    x[1:3] .= R*x[1:3]\n",
    "#     x[4:end] .= R*x[4:end]\n",
    "    u = [0,  0,  0, h]\n",
    "    traj[1,:] .= vcat(x,u)\n",
    "#     println(h)\n",
    "    for i in 2:size(traj)[1]\n",
    "#         integrator!(x, u, h)\n",
    "        x = dynamics_rk8(x, u[1:3], u[4])\n",
    "        traj[i,:] .= vcat(x,u)\n",
    "    end\n",
    "    x = dynamics_rk8(x, u[1:3], u[4])\n",
    "    next = vcat(x,u)\n",
    "    print(norm(next[1:Nx] - init_orbit.x0))\n",
    "#     @assert norm(next[1:Nx] - init_orbit.x0)<2.1 #max integrator error #decrease orbits or increase knots\n",
    "    traj = reshape(traj',((knots-1)*(Nx+Nu),1))\n",
    "    traj = vcat(traj,next[1:Nx])\n",
    "    return traj\n",
    "end\n",
    "orbits = 100\n",
    "z = n_orbits_ref_traj(transfer_orbit,orbits)\n",
    "X,U = unpackZ(knots, [(z...)...])\n",
    "plot3d_orbit(X, \"ref\")"
   ]
  },
  {
   "cell_type": "code",
   "execution_count": 75,
   "metadata": {
    "scrolled": true
   },
   "outputs": [
    {
     "data": {
      "text/plain": [
       "32003"
      ]
     },
     "execution_count": 75,
     "metadata": {},
     "output_type": "execute_result"
    }
   ],
   "source": [
    "n_nlp = (Nx+Nu)*(knots-1)+Nx # number of decision variables\n",
    "idx = get_cinds(Nx, knots)\n",
    "m_nlp = idx[end][end]\n",
    "# h = 1/knots*3 #transfer_orbit.period*5/knots"
   ]
  },
  {
   "cell_type": "code",
   "execution_count": 76,
   "metadata": {},
   "outputs": [
    {
     "name": "stdout",
     "output_type": "stream",
     "text": [
      "(399920,)"
     ]
    }
   ],
   "source": [
    "sj = sparsity_jacobian(n_nlp, m_nlp, knots);\n",
    "print(size(sj))\n",
    "# sh = sparsity_hessian(n_nlp, m_nlp);\n",
    "\n",
    "# TODO: Visualize results"
   ]
  },
  {
   "cell_type": "code",
   "execution_count": 77,
   "metadata": {},
   "outputs": [],
   "source": [
    "prob = ProblemMOI(n_nlp, knots, z, m_nlp=m_nlp, idx_ineq=idx, sparsity_jac=sj);"
   ]
  },
  {
   "cell_type": "code",
   "execution_count": null,
   "metadata": {},
   "outputs": [],
   "source": [
    "@time z_sol, status = solve(z, prob, max_iter=4000) # solve"
   ]
  },
  {
   "cell_type": "code",
   "execution_count": 72,
   "metadata": {},
   "outputs": [
    {
     "data": {
      "text/plain": [
       "ITERATION_LIMIT::TerminationStatusCode = 11"
      ]
     },
     "execution_count": 72,
     "metadata": {},
     "output_type": "execute_result"
    }
   ],
   "source": [
    "status"
   ]
  },
  {
   "cell_type": "code",
   "execution_count": 45,
   "metadata": {
    "scrolled": false
   },
   "outputs": [
    {
     "name": "stdout",
     "output_type": "stream",
     "text": [
      "17.36765724731271This is Ipopt version 3.13.4, running with linear solver mumps.\n",
      "NOTE: Other linear solvers might be more efficient (see Ipopt documentation).\n",
      "\n",
      "Number of nonzeros in equality constraint Jacobian...:   479924\n",
      "Number of nonzeros in inequality constraint Jacobian.:    19996\n",
      "Number of nonzeros in Lagrangian Hessian.............:        0\n",
      "\n",
      "Total number of variables............................:    49996\n",
      "                     variables with only lower bounds:        0\n",
      "                variables with lower and upper bounds:        0\n",
      "                     variables with only upper bounds:        0\n",
      "Total number of equality constraints.................:    30005\n",
      "Total number of inequality constraints...............:     9998\n",
      "        inequality constraints with only lower bounds:        0\n",
      "   inequality constraints with lower and upper bounds:     9998\n",
      "        inequality constraints with only upper bounds:        0\n",
      "\n",
      "iter    objective    inf_pr   inf_du lg(mu)  ||d||  lg(rg) alpha_du alpha_pr  ls\n",
      "   0  2.6695383e+03 4.95e+00 3.57e+00   0.0 0.00e+00    -  0.00e+00 0.00e+00   0\n",
      "   1  2.5726824e+03 4.67e+00 2.51e+02  -1.0 9.91e+00    -  3.88e-04 3.79e-02F  1\n",
      "   2  2.5586950e+03 4.63e+00 7.27e+02  -0.1 1.07e+01    -  7.78e-02 8.33e-03f  1\n",
      "   3  2.5400419e+03 4.59e+00 1.56e+03   1.1 3.68e+01    -  9.81e-02 7.80e-03f  1\n",
      "   4  2.5051273e+03 4.45e+00 1.05e+04   1.0 1.49e+01    -  6.91e-01 3.27e-02f  1\n",
      "   5  2.5684025e+03 4.21e+00 2.01e+04   2.0 1.72e+01    -  5.18e-01 5.57e-02f  1\n",
      "   6  7.2047256e+03 8.14e+00 5.73e+04   1.6 1.56e+01    -  5.13e-01 1.00e+00f  1\n",
      "   7  8.9237758e+03 4.42e+00 2.18e+04   1.6 7.88e+00    -  1.00e+00 6.89e-01f  1\n",
      "   8  1.8123107e+04 9.89e+00 5.27e+04   1.6 1.10e+01    -  1.00e+00 1.00e+00f  1\n",
      "   9  1.2284483e+04 6.13e+00 6.28e+04   1.6 5.47e+00    -  1.00e+00 1.00e+00f  1\n",
      "iter    objective    inf_pr   inf_du lg(mu)  ||d||  lg(rg) alpha_du alpha_pr  ls\n",
      "  10  9.5729618e+03 4.92e+00 5.68e+03   1.6 7.35e+00    -  1.00e+00 1.00e+00f  1\n",
      "  11  7.2007072e+03 9.82e+00 2.99e+03   1.6 7.08e+00    -  1.00e+00 1.00e+00f  1\n",
      "  12  6.0235246e+03 8.95e+00 3.12e+03   1.6 1.34e+01    -  1.00e+00 1.00e+00f  1\n",
      "  13  4.9105090e+03 8.17e+00 1.03e+03   1.6 9.54e+00    -  1.00e+00 1.00e+00f  1\n"
     ]
    },
    {
     "ename": "LoadError",
     "evalue": "InterruptException:",
     "output_type": "error",
     "traceback": [
      "InterruptException:",
      "",
      "Stacktrace:",
      "  [1] Array",
      "    @ ./boot.jl:448 [inlined]",
      "  [2] Array",
      "    @ ./boot.jl:457 [inlined]",
      "  [3] Array",
      "    @ ./boot.jl:465 [inlined]",
      "  [4] similar",
      "    @ ./abstractarray.jl:785 [inlined]",
      "  [5] similar",
      "    @ ./abstractarray.jl:784 [inlined]",
      "  [6] similar",
      "    @ ./broadcast.jl:197 [inlined]",
      "  [7] similar",
      "    @ ./broadcast.jl:196 [inlined]",
      "  [8] copy",
      "    @ ./broadcast.jl:908 [inlined]",
      "  [9] materialize",
      "    @ ./broadcast.jl:883 [inlined]",
      " [10] broadcast_preserving_zero_d",
      "    @ ./broadcast.jl:872 [inlined]",
      " [11] +(A::Vector{ForwardDiff.Dual{ForwardDiff.Tag{var\"#3#6\"{ProblemMOI}, Float64}, Float64, 12}}, Bs::Vector{ForwardDiff.Dual{ForwardDiff.Tag{var\"#3#6\"{ProblemMOI}, Float64}, Float64, 12}})",
      "    @ Base ./arraymath.jl:47",
      " [12] dynamics_rk8(x::Vector{ForwardDiff.Dual{ForwardDiff.Tag{var\"#3#6\"{ProblemMOI}, Float64}, Float64, 12}}, u::Vector{ForwardDiff.Dual{ForwardDiff.Tag{var\"#3#6\"{ProblemMOI}, Float64}, Float64, 12}}, h::ForwardDiff.Dual{ForwardDiff.Tag{var\"#3#6\"{ProblemMOI}, Float64}, Float64, 12})",
      "    @ Main ./In[10]:10",
      " [13] dynamics_constraints!(nlp::ProblemMOI, c::Vector{ForwardDiff.Dual{ForwardDiff.Tag{var\"#3#6\"{ProblemMOI}, Float64}, Float64, 12}}, ztraj::Vector{ForwardDiff.Dual{ForwardDiff.Tag{var\"#3#6\"{ProblemMOI}, Float64}, Float64, 12}})",
      "    @ Main ./In[18]:19",
      " [14] (::var\"#3#6\"{ProblemMOI})(x::Vector{ForwardDiff.Dual{ForwardDiff.Tag{var\"#3#6\"{ProblemMOI}, Float64}, Float64, 12}})",
      "    @ Main ./In[23]:7",
      " [15] chunk_mode_jacobian(f::var\"#3#6\"{ProblemMOI}, x::Vector{Float64}, cfg::ForwardDiff.JacobianConfig{ForwardDiff.Tag{var\"#3#6\"{ProblemMOI}, Float64}, Float64, 12, Vector{ForwardDiff.Dual{ForwardDiff.Tag{var\"#3#6\"{ProblemMOI}, Float64}, Float64, 12}}})",
      "    @ ForwardDiff ~/.julia/packages/ForwardDiff/QOqCN/src/jacobian.jl:234",
      " [16] jacobian(f::Function, x::Vector{Float64}, cfg::ForwardDiff.JacobianConfig{ForwardDiff.Tag{var\"#3#6\"{ProblemMOI}, Float64}, Float64, 12, Vector{ForwardDiff.Dual{ForwardDiff.Tag{var\"#3#6\"{ProblemMOI}, Float64}, Float64, 12}}}, ::Val{true})",
      "    @ ForwardDiff ~/.julia/packages/ForwardDiff/QOqCN/src/jacobian.jl:23",
      " [17] jacobian(f::Function, x::Vector{Float64}, cfg::ForwardDiff.JacobianConfig{ForwardDiff.Tag{var\"#3#6\"{ProblemMOI}, Float64}, Float64, 12, Vector{ForwardDiff.Dual{ForwardDiff.Tag{var\"#3#6\"{ProblemMOI}, Float64}, Float64, 12}}}) (repeats 2 times)",
      "    @ ForwardDiff ~/.julia/packages/ForwardDiff/QOqCN/src/jacobian.jl:19",
      " [18] dynamics_constraint_jacobian!(nlp::ProblemMOI, jac::SubArray{Float64, 1, Vector{Float64}, Tuple{UnitRange{Int64}}, true}, Z::Vector{Float64})",
      "    @ Main ./In[23]:7",
      " [19] jac_c!(nlp::ProblemMOI, jac::SubArray{Float64, 1, Vector{Float64}, Tuple{UnitRange{Int64}}, true}, Z::Vector{Float64})",
      "    @ Main ./In[26]:32",
      " [20] eval_constraint_jacobian(prob::ProblemMOI, jac::SubArray{Float64, 1, Vector{Float64}, Tuple{UnitRange{Int64}}, true}, x::Vector{Float64})",
      "    @ Main ./In[38]:233",
      " [21] eval_constraint_jacobian(model::Ipopt.Optimizer, values::Vector{Float64}, x::Vector{Float64})",
      "    @ Ipopt ~/.julia/packages/Ipopt/P1XLY/src/MOI_wrapper.jl:1175",
      " [22] (::Ipopt.var\"#eval_jac_g_cb#49\"{Ipopt.Optimizer, Vector{Tuple{Int64, Int64}}})(x::Vector{Float64}, mode::Symbol, rows::Vector{Int32}, cols::Vector{Int32}, values::Vector{Float64})",
      "    @ Ipopt ~/.julia/packages/Ipopt/P1XLY/src/MOI_wrapper.jl:1315",
      " [23] eval_jac_g_wrapper(n::Int32, x_ptr::Ptr{Float64}, new_x::Int32, m::Int32, nele_jac::Int32, iRow::Ptr{Int32}, jCol::Ptr{Int32}, values_ptr::Ptr{Float64}, user_data::Ptr{Nothing})",
      "    @ Ipopt ~/.julia/packages/Ipopt/P1XLY/src/Ipopt.jl:238",
      " [24] solveProblem(prob::IpoptProblem)",
      "    @ Ipopt ~/.julia/packages/Ipopt/P1XLY/src/Ipopt.jl:513",
      " [25] optimize!(model::Ipopt.Optimizer)",
      "    @ Ipopt ~/.julia/packages/Ipopt/P1XLY/src/MOI_wrapper.jl:1441",
      " [26] solve(x0::Matrix{Float64}, prob::ProblemMOI; tol::Float64, c_tol::Float64, max_iter::Int64)",
      "    @ Main ./In[38]:272",
      " [27] solve(x0::Matrix{Float64}, prob::ProblemMOI)",
      "    @ Main ./In[38]:249",
      " [28] top-level scope",
      "    @ ./In[45]:3",
      " [29] eval",
      "    @ ./boot.jl:360 [inlined]",
      " [30] include_string(mapexpr::typeof(REPL.softscope), mod::Module, code::String, filename::String)",
      "    @ Base ./loading.jl:1094"
     ]
    }
   ],
   "source": [
    "for orbits=1\n",
    "    z = n_orbits_ref_traj(transfer_orbit, 100*orbits)\n",
    "    z_sol, status = solve(z, prob) # solve\n",
    "    filename = \"/home/aipex/Mitch/16-745_final_project/reference_OOP2IP_$(orbits)00.jld\"\n",
    "    save(filename, \"ref_traj\", z, \"opt_traj\", z_sol, \"status\", status)\n",
    "end"
   ]
  },
  {
   "cell_type": "code",
   "execution_count": null,
   "metadata": {
    "scrolled": true
   },
   "outputs": [],
   "source": []
  },
  {
   "cell_type": "code",
   "execution_count": 73,
   "metadata": {
    "scrolled": false
   },
   "outputs": [
    {
     "data": {
      "image/svg+xml": [
       "<?xml version=\"1.0\" encoding=\"utf-8\"?>\n",
       "<svg xmlns=\"http://www.w3.org/2000/svg\" xmlns:xlink=\"http://www.w3.org/1999/xlink\" width=\"600\" height=\"400\" viewBox=\"0 0 2400 1600\">\n",
       "<defs>\n",
       "  <clipPath id=\"clip140\">\n",
       "    <rect x=\"0\" y=\"0\" width=\"2400\" height=\"1600\"/>\n",
       "  </clipPath>\n",
       "</defs>\n",
       "<path clip-path=\"url(#clip140)\" d=\"\n",
       "M0 1600 L2400 1600 L2400 0 L0 0  Z\n",
       "  \" fill=\"#ffffff\" fill-rule=\"evenodd\" fill-opacity=\"1\"/>\n",
       "<defs>\n",
       "  <clipPath id=\"clip141\">\n",
       "    <rect x=\"480\" y=\"0\" width=\"1681\" height=\"1600\"/>\n",
       "  </clipPath>\n",
       "</defs>\n",
       "<defs>\n",
       "  <clipPath id=\"clip142\">\n",
       "    <rect x=\"600\" y=\"123\" width=\"1301\" height=\"1301\"/>\n",
       "  </clipPath>\n",
       "</defs>\n",
       "<path clip-path=\"url(#clip142)\" d=\"\n",
       "M600.263 1346.4 L600.263 353.805 L1075.99 123.472 L1899.97 200.25 L1899.97 1192.85 L1424.24 1423.18 L600.263 1346.4  Z\n",
       "  \" fill=\"#ffffff\" fill-rule=\"evenodd\" fill-opacity=\"1\"/>\n",
       "<polyline clip-path=\"url(#clip142)\" style=\"stroke:#000000; stroke-width:2; stroke-opacity:0.1; fill:none\" points=\"\n",
       "  628.896,1349.07 1104.62,1118.74 \n",
       "  \"/>\n",
       "<polyline clip-path=\"url(#clip142)\" style=\"stroke:#000000; stroke-width:2; stroke-opacity:0.1; fill:none\" points=\"\n",
       "  1104.62,1118.74 1104.62,126.14 \n",
       "  \"/>\n",
       "<polyline clip-path=\"url(#clip142)\" style=\"stroke:#000000; stroke-width:2; stroke-opacity:0.1; fill:none\" points=\"\n",
       "  820.575,1366.93 1296.3,1136.6 \n",
       "  \"/>\n",
       "<polyline clip-path=\"url(#clip142)\" style=\"stroke:#000000; stroke-width:2; stroke-opacity:0.1; fill:none\" points=\"\n",
       "  1296.3,1136.6 1296.3,144.001 \n",
       "  \"/>\n",
       "<polyline clip-path=\"url(#clip142)\" style=\"stroke:#000000; stroke-width:2; stroke-opacity:0.1; fill:none\" points=\"\n",
       "  1012.25,1384.79 1487.98,1154.46 \n",
       "  \"/>\n",
       "<polyline clip-path=\"url(#clip142)\" style=\"stroke:#000000; stroke-width:2; stroke-opacity:0.1; fill:none\" points=\"\n",
       "  1487.98,1154.46 1487.98,161.861 \n",
       "  \"/>\n",
       "<polyline clip-path=\"url(#clip142)\" style=\"stroke:#000000; stroke-width:2; stroke-opacity:0.1; fill:none\" points=\"\n",
       "  1203.93,1402.65 1679.66,1172.32 \n",
       "  \"/>\n",
       "<polyline clip-path=\"url(#clip142)\" style=\"stroke:#000000; stroke-width:2; stroke-opacity:0.1; fill:none\" points=\"\n",
       "  1679.66,1172.32 1679.66,179.721 \n",
       "  \"/>\n",
       "<polyline clip-path=\"url(#clip142)\" style=\"stroke:#000000; stroke-width:2; stroke-opacity:0.1; fill:none\" points=\"\n",
       "  1395.61,1420.51 1871.34,1190.18 \n",
       "  \"/>\n",
       "<polyline clip-path=\"url(#clip142)\" style=\"stroke:#000000; stroke-width:2; stroke-opacity:0.1; fill:none\" points=\"\n",
       "  1871.34,1190.18 1871.34,197.582 \n",
       "  \"/>\n",
       "<polyline clip-path=\"url(#clip140)\" style=\"stroke:#000000; stroke-width:4; stroke-opacity:1; fill:none\" points=\"\n",
       "  600.263,1346.4 1424.24,1423.18 \n",
       "  \"/>\n",
       "<polyline clip-path=\"url(#clip140)\" style=\"stroke:#000000; stroke-width:4; stroke-opacity:1; fill:none\" points=\"\n",
       "  628.896,1349.07 634.604,1346.31 \n",
       "  \"/>\n",
       "<polyline clip-path=\"url(#clip140)\" style=\"stroke:#000000; stroke-width:4; stroke-opacity:1; fill:none\" points=\"\n",
       "  820.575,1366.93 826.284,1364.17 \n",
       "  \"/>\n",
       "<polyline clip-path=\"url(#clip140)\" style=\"stroke:#000000; stroke-width:4; stroke-opacity:1; fill:none\" points=\"\n",
       "  1012.25,1384.79 1017.96,1382.03 \n",
       "  \"/>\n",
       "<polyline clip-path=\"url(#clip140)\" style=\"stroke:#000000; stroke-width:4; stroke-opacity:1; fill:none\" points=\"\n",
       "  1203.93,1402.65 1209.64,1399.89 \n",
       "  \"/>\n",
       "<polyline clip-path=\"url(#clip140)\" style=\"stroke:#000000; stroke-width:4; stroke-opacity:1; fill:none\" points=\"\n",
       "  1395.61,1420.51 1401.32,1417.75 \n",
       "  \"/>\n",
       "<path clip-path=\"url(#clip140)\" d=\"M 0 0 M574.838 1397.71 L604.514 1397.71 L604.514 1401.65 L574.838 1401.65 L574.838 1397.71 Z\" fill=\"#000000\" fill-rule=\"evenodd\" fill-opacity=\"1\" /><path clip-path=\"url(#clip140)\" d=\"M 0 0 M618.634 1410.61 L634.953 1410.61 L634.953 1414.54 L613.009 1414.54 L613.009 1410.61 Q615.671 1407.85 620.254 1403.22 Q624.861 1398.57 626.041 1397.23 Q628.287 1394.7 629.166 1392.97 Q630.069 1391.21 630.069 1389.52 Q630.069 1386.76 628.125 1385.03 Q626.204 1383.29 623.102 1383.29 Q620.903 1383.29 618.449 1384.06 Q616.018 1384.82 613.241 1386.37 L613.241 1381.65 Q616.065 1380.51 618.518 1379.94 Q620.972 1379.36 623.009 1379.36 Q628.379 1379.36 631.574 1382.04 Q634.768 1384.73 634.768 1389.22 Q634.768 1391.35 633.958 1393.27 Q633.171 1395.17 631.065 1397.76 Q630.486 1398.43 627.384 1401.65 Q624.282 1404.84 618.634 1410.61 Z\" fill=\"#000000\" fill-rule=\"evenodd\" fill-opacity=\"1\" /><path clip-path=\"url(#clip140)\" d=\"M 0 0 M766.332 1415.57 L796.008 1415.57 L796.008 1419.51 L766.332 1419.51 L766.332 1415.57 Z\" fill=\"#000000\" fill-rule=\"evenodd\" fill-opacity=\"1\" /><path clip-path=\"url(#clip140)\" d=\"M 0 0 M806.91 1428.47 L814.549 1428.47 L814.549 1402.1 L806.239 1403.77 L806.239 1399.51 L814.503 1397.84 L819.179 1397.84 L819.179 1428.47 L826.818 1428.47 L826.818 1432.4 L806.91 1432.4 L806.91 1428.47 Z\" fill=\"#000000\" fill-rule=\"evenodd\" fill-opacity=\"1\" /><path clip-path=\"url(#clip140)\" d=\"M 0 0 M988.254 1418.78 Q984.643 1418.78 982.814 1422.35 Q981.009 1425.89 981.009 1433.02 Q981.009 1440.12 982.814 1443.69 Q984.643 1447.23 988.254 1447.23 Q991.888 1447.23 993.694 1443.69 Q995.522 1440.12 995.522 1433.02 Q995.522 1425.89 993.694 1422.35 Q991.888 1418.78 988.254 1418.78 M988.254 1415.08 Q994.064 1415.08 997.12 1419.68 Q1000.2 1424.27 1000.2 1433.02 Q1000.2 1441.74 997.12 1446.35 Q994.064 1450.93 988.254 1450.93 Q982.444 1450.93 979.365 1446.35 Q976.31 1441.74 976.31 1433.02 Q976.31 1424.27 979.365 1419.68 Q982.444 1415.08 988.254 1415.08 Z\" fill=\"#000000\" fill-rule=\"evenodd\" fill-opacity=\"1\" /><path clip-path=\"url(#clip140)\" d=\"M 0 0 M1170.31 1464.19 L1177.95 1464.19 L1177.95 1437.82 L1169.64 1439.49 L1169.64 1435.23 L1177.91 1433.56 L1182.58 1433.56 L1182.58 1464.19 L1190.22 1464.19 L1190.22 1468.12 L1170.31 1468.12 L1170.31 1464.19 Z\" fill=\"#000000\" fill-rule=\"evenodd\" fill-opacity=\"1\" /><path clip-path=\"url(#clip140)\" d=\"M 0 0 M1366.26 1482.05 L1382.58 1482.05 L1382.58 1485.98 L1360.64 1485.98 L1360.64 1482.05 Q1363.3 1479.29 1367.89 1474.66 Q1372.49 1470.01 1373.67 1468.67 Q1375.92 1466.15 1376.8 1464.41 Q1377.7 1462.65 1377.7 1460.96 Q1377.7 1458.21 1375.76 1456.47 Q1373.83 1454.73 1370.73 1454.73 Q1368.53 1454.73 1366.08 1455.5 Q1363.65 1456.26 1360.87 1457.81 L1360.87 1453.09 Q1363.7 1451.96 1366.15 1451.38 Q1368.6 1450.8 1370.64 1450.8 Q1376.01 1450.8 1379.2 1453.48 Q1382.4 1456.17 1382.4 1460.66 Q1382.4 1462.79 1381.59 1464.71 Q1380.8 1466.61 1378.7 1469.2 Q1378.12 1469.87 1375.01 1473.09 Q1371.91 1476.28 1366.26 1482.05 Z\" fill=\"#000000\" fill-rule=\"evenodd\" fill-opacity=\"1\" /><path clip-path=\"url(#clip140)\" d=\"M 0 0 M710.289 1521.78 Q703.287 1521.78 699.149 1527 Q695.043 1532.22 695.043 1541.22 Q695.043 1550.2 699.149 1555.42 Q703.287 1560.64 710.289 1560.64 Q717.292 1560.64 721.366 1555.42 Q725.472 1550.2 725.472 1541.22 Q725.472 1532.22 721.366 1527 Q717.292 1521.78 710.289 1521.78 M710.289 1516.56 Q720.284 1516.56 726.267 1523.27 Q732.251 1529.96 732.251 1541.22 Q732.251 1552.46 726.267 1559.17 Q720.284 1565.86 710.289 1565.86 Q700.263 1565.86 694.248 1559.17 Q688.264 1552.49 688.264 1541.22 Q688.264 1529.96 694.248 1523.27 Q700.263 1516.56 710.289 1516.56 Z\" fill=\"#000000\" fill-rule=\"evenodd\" fill-opacity=\"1\" /><path clip-path=\"url(#clip140)\" d=\"M 0 0 M762.711 1534.76 Q761.724 1534.19 760.547 1533.93 Q759.401 1533.65 758 1533.65 Q753.035 1533.65 750.361 1536.89 Q747.72 1540.11 747.72 1546.16 L747.72 1564.94 L741.831 1564.94 L741.831 1529.29 L747.72 1529.29 L747.72 1534.83 Q749.566 1531.58 752.526 1530.02 Q755.486 1528.43 759.719 1528.43 Q760.324 1528.43 761.056 1528.52 Q761.788 1528.59 762.679 1528.75 L762.711 1534.76 Z\" fill=\"#000000\" fill-rule=\"evenodd\" fill-opacity=\"1\" /><path clip-path=\"url(#clip140)\" d=\"M 0 0 M794.444 1547.14 Q794.444 1540.68 791.77 1537.02 Q789.129 1533.33 784.482 1533.33 Q779.835 1533.33 777.161 1537.02 Q774.519 1540.68 774.519 1547.14 Q774.519 1553.6 777.161 1557.3 Q779.835 1560.96 784.482 1560.96 Q789.129 1560.96 791.77 1557.3 Q794.444 1553.6 794.444 1547.14 M774.519 1534.7 Q776.365 1531.52 779.166 1529.99 Q781.999 1528.43 785.914 1528.43 Q792.407 1528.43 796.449 1533.58 Q800.523 1538.74 800.523 1547.14 Q800.523 1555.55 796.449 1560.7 Q792.407 1565.86 785.914 1565.86 Q781.999 1565.86 779.166 1564.33 Q776.365 1562.77 774.519 1559.59 L774.519 1564.94 L768.631 1564.94 L768.631 1515.41 L774.519 1515.41 L774.519 1534.7 Z\" fill=\"#000000\" fill-rule=\"evenodd\" fill-opacity=\"1\" /><path clip-path=\"url(#clip140)\" d=\"M 0 0 M810.231 1529.29 L816.087 1529.29 L816.087 1564.94 L810.231 1564.94 L810.231 1529.29 M810.231 1515.41 L816.087 1515.41 L816.087 1522.83 L810.231 1522.83 L810.231 1515.41 Z\" fill=\"#000000\" fill-rule=\"evenodd\" fill-opacity=\"1\" /><path clip-path=\"url(#clip140)\" d=\"M 0 0 M834.134 1519.17 L834.134 1529.29 L846.197 1529.29 L846.197 1533.84 L834.134 1533.84 L834.134 1553.19 Q834.134 1557.55 835.312 1558.79 Q836.521 1560.03 840.182 1560.03 L846.197 1560.03 L846.197 1564.94 L840.182 1564.94 Q833.402 1564.94 830.824 1562.42 Q828.246 1559.87 828.246 1553.19 L828.246 1533.84 L823.949 1533.84 L823.949 1529.29 L828.246 1529.29 L828.246 1519.17 L834.134 1519.17 Z\" fill=\"#000000\" fill-rule=\"evenodd\" fill-opacity=\"1\" /><path clip-path=\"url(#clip140)\" d=\"M 0 0 M870.1 1547.02 Q863.003 1547.02 860.265 1548.64 Q857.528 1550.26 857.528 1554.18 Q857.528 1557.3 859.565 1559.14 Q861.634 1560.96 865.167 1560.96 Q870.037 1560.96 872.965 1557.52 Q875.925 1554.05 875.925 1548.32 L875.925 1547.02 L870.1 1547.02 M881.781 1544.6 L881.781 1564.94 L875.925 1564.94 L875.925 1559.52 Q873.92 1562.77 870.928 1564.33 Q867.936 1565.86 863.607 1565.86 Q858.133 1565.86 854.886 1562.8 Q851.672 1559.72 851.672 1554.56 Q851.672 1548.54 855.682 1545.49 Q859.724 1542.43 867.713 1542.43 L875.925 1542.43 L875.925 1541.86 Q875.925 1537.82 873.251 1535.62 Q870.61 1533.39 865.804 1533.39 Q862.748 1533.39 859.852 1534.12 Q856.955 1534.86 854.282 1536.32 L854.282 1530.91 Q857.496 1529.67 860.52 1529.06 Q863.544 1528.43 866.408 1528.43 Q874.143 1528.43 877.962 1532.44 Q881.781 1536.45 881.781 1544.6 Z\" fill=\"#000000\" fill-rule=\"evenodd\" fill-opacity=\"1\" /><path clip-path=\"url(#clip140)\" d=\"M 0 0 M893.845 1515.41 L899.701 1515.41 L899.701 1564.94 L893.845 1564.94 L893.845 1515.41 Z\" fill=\"#000000\" fill-rule=\"evenodd\" fill-opacity=\"1\" /><path clip-path=\"url(#clip140)\" d=\"M 0 0 M932.198 1517.42 L938.659 1517.42 L938.659 1546.28 Q938.659 1553.92 941.428 1557.3 Q944.197 1560.64 950.404 1560.64 Q956.579 1560.64 959.348 1557.3 Q962.117 1553.92 962.117 1546.28 L962.117 1517.42 L968.578 1517.42 L968.578 1547.08 Q968.578 1556.37 963.963 1561.12 Q959.379 1565.86 950.404 1565.86 Q941.396 1565.86 936.781 1561.12 Q932.198 1556.37 932.198 1547.08 L932.198 1517.42 Z\" fill=\"#000000\" fill-rule=\"evenodd\" fill-opacity=\"1\" /><path clip-path=\"url(#clip140)\" d=\"M 0 0 M1010.02 1543.42 L1010.02 1564.94 L1004.16 1564.94 L1004.16 1543.61 Q1004.16 1538.55 1002.19 1536.03 Q1000.22 1533.52 996.269 1533.52 Q991.526 1533.52 988.789 1536.54 Q986.052 1539.57 986.052 1544.79 L986.052 1564.94 L980.163 1564.94 L980.163 1529.29 L986.052 1529.29 L986.052 1534.83 Q988.152 1531.61 990.985 1530.02 Q993.85 1528.43 997.574 1528.43 Q1003.72 1528.43 1006.87 1532.25 Q1010.02 1536.03 1010.02 1543.42 Z\" fill=\"#000000\" fill-rule=\"evenodd\" fill-opacity=\"1\" /><path clip-path=\"url(#clip140)\" d=\"M 0 0 M1021.7 1529.29 L1027.56 1529.29 L1027.56 1564.94 L1021.7 1564.94 L1021.7 1529.29 M1021.7 1515.41 L1027.56 1515.41 L1027.56 1522.83 L1021.7 1522.83 L1021.7 1515.41 Z\" fill=\"#000000\" fill-rule=\"evenodd\" fill-opacity=\"1\" /><path clip-path=\"url(#clip140)\" d=\"M 0 0 M1045.6 1519.17 L1045.6 1529.29 L1057.67 1529.29 L1057.67 1533.84 L1045.6 1533.84 L1045.6 1553.19 Q1045.6 1557.55 1046.78 1558.79 Q1047.99 1560.03 1051.65 1560.03 L1057.67 1560.03 L1057.67 1564.94 L1051.65 1564.94 Q1044.87 1564.94 1042.29 1562.42 Q1039.71 1559.87 1039.71 1553.19 L1039.71 1533.84 L1035.42 1533.84 L1035.42 1529.29 L1039.71 1529.29 L1039.71 1519.17 L1045.6 1519.17 Z\" fill=\"#000000\" fill-rule=\"evenodd\" fill-opacity=\"1\" /><path clip-path=\"url(#clip140)\" d=\"M 0 0 M1088.09 1530.34 L1088.09 1535.88 Q1085.61 1534.6 1082.94 1533.97 Q1080.26 1533.33 1077.4 1533.33 Q1073.04 1533.33 1070.84 1534.67 Q1068.68 1536 1068.68 1538.68 Q1068.68 1540.71 1070.24 1541.89 Q1071.8 1543.04 1076.51 1544.09 L1078.51 1544.53 Q1084.75 1545.87 1087.36 1548.32 Q1090 1550.74 1090 1555.1 Q1090 1560.07 1086.06 1562.96 Q1082.14 1565.86 1075.27 1565.86 Q1072.4 1565.86 1069.28 1565.29 Q1066.2 1564.74 1062.76 1563.63 L1062.76 1557.58 Q1066.01 1559.27 1069.16 1560.13 Q1072.31 1560.96 1075.39 1560.96 Q1079.53 1560.96 1081.76 1559.56 Q1083.99 1558.12 1083.99 1555.55 Q1083.99 1553.16 1082.36 1551.89 Q1080.77 1550.61 1075.33 1549.43 L1073.29 1548.96 Q1067.85 1547.81 1065.43 1545.46 Q1063.01 1543.07 1063.01 1538.93 Q1063.01 1533.9 1066.58 1531.16 Q1070.14 1528.43 1076.7 1528.43 Q1079.95 1528.43 1082.81 1528.91 Q1085.68 1529.38 1088.09 1530.34 Z\" fill=\"#000000\" fill-rule=\"evenodd\" fill-opacity=\"1\" /><polyline clip-path=\"url(#clip142)\" style=\"stroke:#000000; stroke-width:2; stroke-opacity:0.1; fill:none\" points=\"\n",
       "  1440.78,1415.18 616.794,1338.4 \n",
       "  \"/>\n",
       "<polyline clip-path=\"url(#clip142)\" style=\"stroke:#000000; stroke-width:2; stroke-opacity:0.1; fill:none\" points=\"\n",
       "  616.794,1338.4 616.794,345.801 \n",
       "  \"/>\n",
       "<polyline clip-path=\"url(#clip142)\" style=\"stroke:#000000; stroke-width:2; stroke-opacity:0.1; fill:none\" points=\"\n",
       "  1551.44,1361.59 727.46,1284.82 \n",
       "  \"/>\n",
       "<polyline clip-path=\"url(#clip142)\" style=\"stroke:#000000; stroke-width:2; stroke-opacity:0.1; fill:none\" points=\"\n",
       "  727.46,1284.82 727.46,292.22 \n",
       "  \"/>\n",
       "<polyline clip-path=\"url(#clip142)\" style=\"stroke:#000000; stroke-width:2; stroke-opacity:0.1; fill:none\" points=\"\n",
       "  1662.11,1308.01 838.126,1231.24 \n",
       "  \"/>\n",
       "<polyline clip-path=\"url(#clip142)\" style=\"stroke:#000000; stroke-width:2; stroke-opacity:0.1; fill:none\" points=\"\n",
       "  838.126,1231.24 838.126,238.639 \n",
       "  \"/>\n",
       "<polyline clip-path=\"url(#clip142)\" style=\"stroke:#000000; stroke-width:2; stroke-opacity:0.1; fill:none\" points=\"\n",
       "  1772.77,1254.43 948.792,1177.65 \n",
       "  \"/>\n",
       "<polyline clip-path=\"url(#clip142)\" style=\"stroke:#000000; stroke-width:2; stroke-opacity:0.1; fill:none\" points=\"\n",
       "  948.792,1177.65 948.792,185.057 \n",
       "  \"/>\n",
       "<polyline clip-path=\"url(#clip142)\" style=\"stroke:#000000; stroke-width:2; stroke-opacity:0.1; fill:none\" points=\"\n",
       "  1883.44,1200.85 1059.46,1124.07 \n",
       "  \"/>\n",
       "<polyline clip-path=\"url(#clip142)\" style=\"stroke:#000000; stroke-width:2; stroke-opacity:0.1; fill:none\" points=\"\n",
       "  1059.46,1124.07 1059.46,131.476 \n",
       "  \"/>\n",
       "<polyline clip-path=\"url(#clip140)\" style=\"stroke:#000000; stroke-width:4; stroke-opacity:1; fill:none\" points=\"\n",
       "  1424.24,1423.18 1899.97,1192.85 \n",
       "  \"/>\n",
       "<polyline clip-path=\"url(#clip140)\" style=\"stroke:#000000; stroke-width:4; stroke-opacity:1; fill:none\" points=\"\n",
       "  1440.78,1415.18 1430.89,1414.25 \n",
       "  \"/>\n",
       "<polyline clip-path=\"url(#clip140)\" style=\"stroke:#000000; stroke-width:4; stroke-opacity:1; fill:none\" points=\"\n",
       "  1551.44,1361.59 1541.55,1360.67 \n",
       "  \"/>\n",
       "<polyline clip-path=\"url(#clip140)\" style=\"stroke:#000000; stroke-width:4; stroke-opacity:1; fill:none\" points=\"\n",
       "  1662.11,1308.01 1652.22,1307.09 \n",
       "  \"/>\n",
       "<polyline clip-path=\"url(#clip140)\" style=\"stroke:#000000; stroke-width:4; stroke-opacity:1; fill:none\" points=\"\n",
       "  1772.77,1254.43 1762.89,1253.51 \n",
       "  \"/>\n",
       "<polyline clip-path=\"url(#clip140)\" style=\"stroke:#000000; stroke-width:4; stroke-opacity:1; fill:none\" points=\"\n",
       "  1883.44,1200.85 1873.55,1199.93 \n",
       "  \"/>\n",
       "<path clip-path=\"url(#clip140)\" d=\"M 0 0 M1434.72 1463.82 L1464.39 1463.82 L1464.39 1467.75 L1434.72 1467.75 L1434.72 1463.82 Z\" fill=\"#000000\" fill-rule=\"evenodd\" fill-opacity=\"1\" /><path clip-path=\"url(#clip140)\" d=\"M 0 0 M1478.51 1476.71 L1494.83 1476.71 L1494.83 1480.65 L1472.89 1480.65 L1472.89 1476.71 Q1475.55 1473.96 1480.13 1469.33 Q1484.74 1464.68 1485.92 1463.33 Q1488.17 1460.81 1489.05 1459.07 Q1489.95 1457.31 1489.95 1455.62 Q1489.95 1452.87 1488 1451.13 Q1486.08 1449.4 1482.98 1449.4 Q1480.78 1449.4 1478.33 1450.16 Q1475.9 1450.93 1473.12 1452.48 L1473.12 1447.75 Q1475.94 1446.62 1478.4 1446.04 Q1480.85 1445.46 1482.89 1445.46 Q1488.26 1445.46 1491.45 1448.15 Q1494.65 1450.83 1494.65 1455.32 Q1494.65 1457.45 1493.84 1459.37 Q1493.05 1461.27 1490.94 1463.87 Q1490.37 1464.54 1487.26 1467.75 Q1484.16 1470.95 1478.51 1476.71 Z\" fill=\"#000000\" fill-rule=\"evenodd\" fill-opacity=\"1\" /><path clip-path=\"url(#clip140)\" d=\"M 0 0 M1545.2 1410.24 L1574.87 1410.24 L1574.87 1414.17 L1545.2 1414.17 L1545.2 1410.24 Z\" fill=\"#000000\" fill-rule=\"evenodd\" fill-opacity=\"1\" /><path clip-path=\"url(#clip140)\" d=\"M 0 0 M1585.78 1423.13 L1593.42 1423.13 L1593.42 1396.77 L1585.11 1398.43 L1585.11 1394.17 L1593.37 1392.51 L1598.05 1392.51 L1598.05 1423.13 L1605.68 1423.13 L1605.68 1427.07 L1585.78 1427.07 L1585.78 1423.13 Z\" fill=\"#000000\" fill-rule=\"evenodd\" fill-opacity=\"1\" /><path clip-path=\"url(#clip140)\" d=\"M 0 0 M1686.11 1342 Q1682.5 1342 1680.67 1345.57 Q1678.86 1349.11 1678.86 1356.24 Q1678.86 1363.35 1680.67 1366.91 Q1682.5 1370.45 1686.11 1370.45 Q1689.74 1370.45 1691.55 1366.91 Q1693.38 1363.35 1693.38 1356.24 Q1693.38 1349.11 1691.55 1345.57 Q1689.74 1342 1686.11 1342 M1686.11 1338.3 Q1691.92 1338.3 1694.97 1342.91 Q1698.05 1347.49 1698.05 1356.24 Q1698.05 1364.97 1694.97 1369.57 Q1691.92 1374.16 1686.11 1374.16 Q1680.3 1374.16 1677.22 1369.57 Q1674.16 1364.97 1674.16 1356.24 Q1674.16 1347.49 1677.22 1342.91 Q1680.3 1338.3 1686.11 1338.3 Z\" fill=\"#000000\" fill-rule=\"evenodd\" fill-opacity=\"1\" /><path clip-path=\"url(#clip140)\" d=\"M 0 0 M1787.16 1315.97 L1794.79 1315.97 L1794.79 1289.6 L1786.48 1291.27 L1786.48 1287.01 L1794.75 1285.34 L1799.42 1285.34 L1799.42 1315.97 L1807.06 1315.97 L1807.06 1319.9 L1787.16 1319.9 L1787.16 1315.97 Z\" fill=\"#000000\" fill-rule=\"evenodd\" fill-opacity=\"1\" /><path clip-path=\"url(#clip140)\" d=\"M 0 0 M1902.09 1262.39 L1918.41 1262.39 L1918.41 1266.32 L1896.47 1266.32 L1896.47 1262.39 Q1899.13 1259.63 1903.71 1255 Q1908.32 1250.35 1909.5 1249.01 Q1911.75 1246.48 1912.62 1244.75 Q1913.53 1242.99 1913.53 1241.3 Q1913.53 1238.55 1911.58 1236.81 Q1909.66 1235.07 1906.56 1235.07 Q1904.36 1235.07 1901.91 1235.84 Q1899.48 1236.6 1896.7 1238.15 L1896.7 1233.43 Q1899.52 1232.3 1901.98 1231.72 Q1904.43 1231.14 1906.47 1231.14 Q1911.84 1231.14 1915.03 1233.82 Q1918.23 1236.51 1918.23 1241 Q1918.23 1243.13 1917.42 1245.05 Q1916.63 1246.95 1914.52 1249.54 Q1913.94 1250.21 1910.84 1253.43 Q1907.74 1256.62 1902.09 1262.39 Z\" fill=\"#000000\" fill-rule=\"evenodd\" fill-opacity=\"1\" /><path clip-path=\"url(#clip140)\" d=\"M 0 0 M1606.38 1445 Q1599.38 1445 1595.24 1450.22 Q1591.14 1455.44 1591.14 1464.45 Q1591.14 1473.42 1595.24 1478.64 Q1599.38 1483.86 1606.38 1483.86 Q1613.39 1483.86 1617.46 1478.64 Q1621.57 1473.42 1621.57 1464.45 Q1621.57 1455.44 1617.46 1450.22 Q1613.39 1445 1606.38 1445 M1606.38 1439.78 Q1616.38 1439.78 1622.36 1446.49 Q1628.34 1453.18 1628.34 1464.45 Q1628.34 1475.68 1622.36 1482.4 Q1616.38 1489.08 1606.38 1489.08 Q1596.36 1489.08 1590.34 1482.4 Q1584.36 1475.71 1584.36 1464.45 Q1584.36 1453.18 1590.34 1446.49 Q1596.36 1439.78 1606.38 1439.78 Z\" fill=\"#000000\" fill-rule=\"evenodd\" fill-opacity=\"1\" /><path clip-path=\"url(#clip140)\" d=\"M 0 0 M1658.8 1457.98 Q1657.82 1457.41 1656.64 1457.16 Q1655.49 1456.87 1654.09 1456.87 Q1649.13 1456.87 1646.46 1460.12 Q1643.81 1463.33 1643.81 1469.38 L1643.81 1488.16 L1637.93 1488.16 L1637.93 1452.51 L1643.81 1452.51 L1643.81 1458.05 Q1645.66 1454.8 1648.62 1453.24 Q1651.58 1451.65 1655.81 1451.65 Q1656.42 1451.65 1657.15 1451.75 Q1657.88 1451.81 1658.77 1451.97 L1658.8 1457.98 Z\" fill=\"#000000\" fill-rule=\"evenodd\" fill-opacity=\"1\" /><path clip-path=\"url(#clip140)\" d=\"M 0 0 M1690.54 1470.37 Q1690.54 1463.9 1687.86 1460.24 Q1685.22 1456.55 1680.58 1456.55 Q1675.93 1456.55 1673.25 1460.24 Q1670.61 1463.9 1670.61 1470.37 Q1670.61 1476.83 1673.25 1480.52 Q1675.93 1484.18 1680.58 1484.18 Q1685.22 1484.18 1687.86 1480.52 Q1690.54 1476.83 1690.54 1470.37 M1670.61 1457.92 Q1672.46 1454.74 1675.26 1453.21 Q1678.09 1451.65 1682.01 1451.65 Q1688.5 1451.65 1692.54 1456.81 Q1696.62 1461.96 1696.62 1470.37 Q1696.62 1478.77 1692.54 1483.92 Q1688.5 1489.08 1682.01 1489.08 Q1678.09 1489.08 1675.26 1487.55 Q1672.46 1485.99 1670.61 1482.81 L1670.61 1488.16 L1664.72 1488.16 L1664.72 1438.63 L1670.61 1438.63 L1670.61 1457.92 Z\" fill=\"#000000\" fill-rule=\"evenodd\" fill-opacity=\"1\" /><path clip-path=\"url(#clip140)\" d=\"M 0 0 M1706.32 1452.51 L1712.18 1452.51 L1712.18 1488.16 L1706.32 1488.16 L1706.32 1452.51 M1706.32 1438.63 L1712.18 1438.63 L1712.18 1446.05 L1706.32 1446.05 L1706.32 1438.63 Z\" fill=\"#000000\" fill-rule=\"evenodd\" fill-opacity=\"1\" /><path clip-path=\"url(#clip140)\" d=\"M 0 0 M1730.23 1442.39 L1730.23 1452.51 L1742.29 1452.51 L1742.29 1457.06 L1730.23 1457.06 L1730.23 1476.41 Q1730.23 1480.77 1731.41 1482.01 Q1732.62 1483.26 1736.28 1483.26 L1742.29 1483.26 L1742.29 1488.16 L1736.28 1488.16 Q1729.5 1488.16 1726.92 1485.64 Q1724.34 1483.1 1724.34 1476.41 L1724.34 1457.06 L1720.04 1457.06 L1720.04 1452.51 L1724.34 1452.51 L1724.34 1442.39 L1730.23 1442.39 Z\" fill=\"#000000\" fill-rule=\"evenodd\" fill-opacity=\"1\" /><path clip-path=\"url(#clip140)\" d=\"M 0 0 M1766.19 1470.24 Q1759.1 1470.24 1756.36 1471.86 Q1753.62 1473.48 1753.62 1477.4 Q1753.62 1480.52 1755.66 1482.36 Q1757.73 1484.18 1761.26 1484.18 Q1766.13 1484.18 1769.06 1480.74 Q1772.02 1477.27 1772.02 1471.54 L1772.02 1470.24 L1766.19 1470.24 M1777.88 1467.82 L1777.88 1488.16 L1772.02 1488.16 L1772.02 1482.75 Q1770.01 1485.99 1767.02 1487.55 Q1764.03 1489.08 1759.7 1489.08 Q1754.23 1489.08 1750.98 1486.02 Q1747.77 1482.94 1747.77 1477.78 Q1747.77 1471.77 1751.78 1468.71 Q1755.82 1465.65 1763.81 1465.65 L1772.02 1465.65 L1772.02 1465.08 Q1772.02 1461.04 1769.35 1458.84 Q1766.7 1456.62 1761.9 1456.62 Q1758.84 1456.62 1755.95 1457.35 Q1753.05 1458.08 1750.38 1459.54 L1750.38 1454.13 Q1753.59 1452.89 1756.61 1452.29 Q1759.64 1451.65 1762.5 1451.65 Q1770.24 1451.65 1774.06 1455.66 Q1777.88 1459.67 1777.88 1467.82 Z\" fill=\"#000000\" fill-rule=\"evenodd\" fill-opacity=\"1\" /><path clip-path=\"url(#clip140)\" d=\"M 0 0 M1789.94 1438.63 L1795.79 1438.63 L1795.79 1488.16 L1789.94 1488.16 L1789.94 1438.63 Z\" fill=\"#000000\" fill-rule=\"evenodd\" fill-opacity=\"1\" /><path clip-path=\"url(#clip140)\" d=\"M 0 0 M1828.29 1440.64 L1834.75 1440.64 L1834.75 1469.51 Q1834.75 1477.14 1837.52 1480.52 Q1840.29 1483.86 1846.5 1483.86 Q1852.67 1483.86 1855.44 1480.52 Q1858.21 1477.14 1858.21 1469.51 L1858.21 1440.64 L1864.67 1440.64 L1864.67 1470.3 Q1864.67 1479.6 1860.06 1484.34 Q1855.47 1489.08 1846.5 1489.08 Q1837.49 1489.08 1832.88 1484.34 Q1828.29 1479.6 1828.29 1470.3 L1828.29 1440.64 Z\" fill=\"#000000\" fill-rule=\"evenodd\" fill-opacity=\"1\" /><path clip-path=\"url(#clip140)\" d=\"M 0 0 M1906.11 1466.64 L1906.11 1488.16 L1900.26 1488.16 L1900.26 1466.83 Q1900.26 1461.77 1898.28 1459.26 Q1896.31 1456.74 1892.36 1456.74 Q1887.62 1456.74 1884.88 1459.77 Q1882.15 1462.79 1882.15 1468.01 L1882.15 1488.16 L1876.26 1488.16 L1876.26 1452.51 L1882.15 1452.51 L1882.15 1458.05 Q1884.25 1454.83 1887.08 1453.24 Q1889.94 1451.65 1893.67 1451.65 Q1899.81 1451.65 1902.96 1455.47 Q1906.11 1459.26 1906.11 1466.64 Z\" fill=\"#000000\" fill-rule=\"evenodd\" fill-opacity=\"1\" /><path clip-path=\"url(#clip140)\" d=\"M 0 0 M1917.79 1452.51 L1923.65 1452.51 L1923.65 1488.16 L1917.79 1488.16 L1917.79 1452.51 M1917.79 1438.63 L1923.65 1438.63 L1923.65 1446.05 L1917.79 1446.05 L1917.79 1438.63 Z\" fill=\"#000000\" fill-rule=\"evenodd\" fill-opacity=\"1\" /><path clip-path=\"url(#clip140)\" d=\"M 0 0 M1941.7 1442.39 L1941.7 1452.51 L1953.76 1452.51 L1953.76 1457.06 L1941.7 1457.06 L1941.7 1476.41 Q1941.7 1480.77 1942.87 1482.01 Q1944.08 1483.26 1947.74 1483.26 L1953.76 1483.26 L1953.76 1488.16 L1947.74 1488.16 Q1940.96 1488.16 1938.39 1485.64 Q1935.81 1483.1 1935.81 1476.41 L1935.81 1457.06 L1931.51 1457.06 L1931.51 1452.51 L1935.81 1452.51 L1935.81 1442.39 L1941.7 1442.39 Z\" fill=\"#000000\" fill-rule=\"evenodd\" fill-opacity=\"1\" /><path clip-path=\"url(#clip140)\" d=\"M 0 0 M1984.19 1453.56 L1984.19 1459.1 Q1981.71 1457.82 1979.03 1457.19 Q1976.36 1456.55 1973.49 1456.55 Q1969.13 1456.55 1966.94 1457.89 Q1964.77 1459.23 1964.77 1461.9 Q1964.77 1463.94 1966.33 1465.11 Q1967.89 1466.26 1972.6 1467.31 L1974.61 1467.76 Q1980.85 1469.09 1983.46 1471.54 Q1986.1 1473.96 1986.1 1478.32 Q1986.1 1483.29 1982.15 1486.18 Q1978.24 1489.08 1971.36 1489.08 Q1968.5 1489.08 1965.38 1488.51 Q1962.29 1487.97 1958.85 1486.85 L1958.85 1480.8 Q1962.1 1482.49 1965.25 1483.35 Q1968.4 1484.18 1971.49 1484.18 Q1975.63 1484.18 1977.85 1482.78 Q1980.08 1481.35 1980.08 1478.77 Q1980.08 1476.38 1978.46 1475.11 Q1976.87 1473.83 1971.42 1472.66 L1969.39 1472.18 Q1963.94 1471.03 1961.53 1468.68 Q1959.11 1466.29 1959.11 1462.15 Q1959.11 1457.12 1962.67 1454.39 Q1966.24 1451.65 1972.79 1451.65 Q1976.04 1451.65 1978.9 1452.13 Q1981.77 1452.6 1984.19 1453.56 Z\" fill=\"#000000\" fill-rule=\"evenodd\" fill-opacity=\"1\" /><polyline clip-path=\"url(#clip142)\" style=\"stroke:#000000; stroke-width:2; stroke-opacity:0.1; fill:none\" points=\"\n",
       "  600.263,1311.91 1075.99,1081.58 \n",
       "  \"/>\n",
       "<polyline clip-path=\"url(#clip142)\" style=\"stroke:#000000; stroke-width:2; stroke-opacity:0.1; fill:none\" points=\"\n",
       "  1075.99,1081.58 1899.97,1158.35 \n",
       "  \"/>\n",
       "<polyline clip-path=\"url(#clip142)\" style=\"stroke:#000000; stroke-width:2; stroke-opacity:0.1; fill:none\" points=\"\n",
       "  600.263,1081.01 1075.99,850.674 \n",
       "  \"/>\n",
       "<polyline clip-path=\"url(#clip142)\" style=\"stroke:#000000; stroke-width:2; stroke-opacity:0.1; fill:none\" points=\"\n",
       "  1075.99,850.674 1899.97,927.452 \n",
       "  \"/>\n",
       "<polyline clip-path=\"url(#clip142)\" style=\"stroke:#000000; stroke-width:2; stroke-opacity:0.1; fill:none\" points=\"\n",
       "  600.263,850.104 1075.99,619.771 \n",
       "  \"/>\n",
       "<polyline clip-path=\"url(#clip142)\" style=\"stroke:#000000; stroke-width:2; stroke-opacity:0.1; fill:none\" points=\"\n",
       "  1075.99,619.771 1899.97,696.548 \n",
       "  \"/>\n",
       "<polyline clip-path=\"url(#clip142)\" style=\"stroke:#000000; stroke-width:2; stroke-opacity:0.1; fill:none\" points=\"\n",
       "  600.263,619.2 1075.99,388.867 \n",
       "  \"/>\n",
       "<polyline clip-path=\"url(#clip142)\" style=\"stroke:#000000; stroke-width:2; stroke-opacity:0.1; fill:none\" points=\"\n",
       "  1075.99,388.867 1899.97,465.645 \n",
       "  \"/>\n",
       "<polyline clip-path=\"url(#clip142)\" style=\"stroke:#000000; stroke-width:2; stroke-opacity:0.1; fill:none\" points=\"\n",
       "  600.263,388.297 1075.99,157.964 \n",
       "  \"/>\n",
       "<polyline clip-path=\"url(#clip142)\" style=\"stroke:#000000; stroke-width:2; stroke-opacity:0.1; fill:none\" points=\"\n",
       "  1075.99,157.964 1899.97,234.742 \n",
       "  \"/>\n",
       "<polyline clip-path=\"url(#clip140)\" style=\"stroke:#000000; stroke-width:4; stroke-opacity:1; fill:none\" points=\"\n",
       "  600.263,1346.4 600.263,353.805 \n",
       "  \"/>\n",
       "<polyline clip-path=\"url(#clip140)\" style=\"stroke:#000000; stroke-width:4; stroke-opacity:1; fill:none\" points=\"\n",
       "  600.263,1311.91 605.972,1309.15 \n",
       "  \"/>\n",
       "<polyline clip-path=\"url(#clip140)\" style=\"stroke:#000000; stroke-width:4; stroke-opacity:1; fill:none\" points=\"\n",
       "  600.263,1081.01 605.972,1078.24 \n",
       "  \"/>\n",
       "<polyline clip-path=\"url(#clip140)\" style=\"stroke:#000000; stroke-width:4; stroke-opacity:1; fill:none\" points=\"\n",
       "  600.263,850.104 605.972,847.34 \n",
       "  \"/>\n",
       "<polyline clip-path=\"url(#clip140)\" style=\"stroke:#000000; stroke-width:4; stroke-opacity:1; fill:none\" points=\"\n",
       "  600.263,619.2 605.972,616.436 \n",
       "  \"/>\n",
       "<polyline clip-path=\"url(#clip140)\" style=\"stroke:#000000; stroke-width:4; stroke-opacity:1; fill:none\" points=\"\n",
       "  600.263,388.297 605.972,385.533 \n",
       "  \"/>\n",
       "<path clip-path=\"url(#clip140)\" d=\"M 0 0 M516.148 1312.36 L545.823 1312.36 L545.823 1316.3 L516.148 1316.3 L516.148 1312.36 Z\" fill=\"#000000\" fill-rule=\"evenodd\" fill-opacity=\"1\" /><path clip-path=\"url(#clip140)\" d=\"M 0 0 M559.944 1325.26 L576.263 1325.26 L576.263 1329.19 L554.319 1329.19 L554.319 1325.26 Q556.981 1322.5 561.564 1317.87 Q566.171 1313.22 567.351 1311.88 Q569.596 1309.35 570.476 1307.62 Q571.379 1305.86 571.379 1304.17 Q571.379 1301.41 569.434 1299.68 Q567.513 1297.94 564.411 1297.94 Q562.212 1297.94 559.759 1298.7 Q557.328 1299.47 554.55 1301.02 L554.55 1296.3 Q557.374 1295.16 559.828 1294.58 Q562.282 1294.01 564.319 1294.01 Q569.689 1294.01 572.883 1296.69 Q576.078 1299.38 576.078 1303.87 Q576.078 1306 575.268 1307.92 Q574.481 1309.82 572.374 1312.41 Q571.795 1313.08 568.694 1316.3 Q565.592 1319.49 559.944 1325.26 Z\" fill=\"#000000\" fill-rule=\"evenodd\" fill-opacity=\"1\" /><path clip-path=\"url(#clip140)\" d=\"M 0 0 M515.777 1081.46 L545.453 1081.46 L545.453 1085.39 L515.777 1085.39 L515.777 1081.46 Z\" fill=\"#000000\" fill-rule=\"evenodd\" fill-opacity=\"1\" /><path clip-path=\"url(#clip140)\" d=\"M 0 0 M556.356 1094.35 L563.995 1094.35 L563.995 1067.99 L555.684 1069.65 L555.684 1065.39 L563.948 1063.73 L568.624 1063.73 L568.624 1094.35 L576.263 1094.35 L576.263 1098.29 L556.356 1098.29 L556.356 1094.35 Z\" fill=\"#000000\" fill-rule=\"evenodd\" fill-opacity=\"1\" /><path clip-path=\"url(#clip140)\" d=\"M 0 0 M564.319 835.902 Q560.708 835.902 558.879 839.467 Q557.073 843.009 557.073 850.138 Q557.073 857.245 558.879 860.81 Q560.708 864.351 564.319 864.351 Q567.953 864.351 569.758 860.81 Q571.587 857.245 571.587 850.138 Q571.587 843.009 569.758 839.467 Q567.953 835.902 564.319 835.902 M564.319 832.199 Q570.129 832.199 573.184 836.805 Q576.263 841.388 576.263 850.138 Q576.263 858.865 573.184 863.472 Q570.129 868.055 564.319 868.055 Q558.509 868.055 555.43 863.472 Q552.374 858.865 552.374 850.138 Q552.374 841.388 555.43 836.805 Q558.509 832.199 564.319 832.199 Z\" fill=\"#000000\" fill-rule=\"evenodd\" fill-opacity=\"1\" /><path clip-path=\"url(#clip140)\" d=\"M 0 0 M556.356 632.545 L563.995 632.545 L563.995 606.18 L555.684 607.846 L555.684 603.587 L563.948 601.92 L568.624 601.92 L568.624 632.545 L576.263 632.545 L576.263 636.48 L556.356 636.48 L556.356 632.545 Z\" fill=\"#000000\" fill-rule=\"evenodd\" fill-opacity=\"1\" /><path clip-path=\"url(#clip140)\" d=\"M 0 0 M559.944 401.642 L576.263 401.642 L576.263 405.577 L554.319 405.577 L554.319 401.642 Q556.981 398.887 561.564 394.258 Q566.171 389.605 567.351 388.262 Q569.596 385.739 570.476 384.003 Q571.379 382.244 571.379 380.554 Q571.379 377.799 569.434 376.063 Q567.513 374.327 564.411 374.327 Q562.212 374.327 559.759 375.091 Q557.328 375.855 554.55 377.406 L554.55 372.684 Q557.374 371.549 559.828 370.971 Q562.282 370.392 564.319 370.392 Q569.689 370.392 572.883 373.077 Q576.078 375.762 576.078 380.253 Q576.078 382.383 575.268 384.304 Q574.481 386.202 572.374 388.795 Q571.795 389.466 568.694 392.684 Q565.592 395.878 559.944 401.642 Z\" fill=\"#000000\" fill-rule=\"evenodd\" fill-opacity=\"1\" /><path clip-path=\"url(#clip140)\" d=\"M 0 0 M462.783 12.096 L470.966 12.096 L470.966 65.6895 L500.416 65.6895 L500.416 72.576 L462.783 72.576 L462.783 12.096 Z\" fill=\"#000000\" fill-rule=\"evenodd\" fill-opacity=\"1\" /><path clip-path=\"url(#clip140)\" d=\"M 0 0 M524.803 32.4315 Q518.807 32.4315 515.323 37.1306 Q511.84 41.7891 511.84 49.9314 Q511.84 58.0738 515.283 62.7728 Q518.767 67.4314 524.803 67.4314 Q530.757 67.4314 534.241 62.7323 Q537.725 58.0333 537.725 49.9314 Q537.725 41.8701 534.241 37.1711 Q530.757 32.4315 524.803 32.4315 M524.803 26.1121 Q534.525 26.1121 540.074 32.4315 Q545.624 38.7509 545.624 49.9314 Q545.624 61.0714 540.074 67.4314 Q534.525 73.7508 524.803 73.7508 Q515.04 73.7508 509.49 67.4314 Q503.981 61.0714 503.981 49.9314 Q503.981 38.7509 509.49 32.4315 Q515.04 26.1121 524.803 26.1121 Z\" fill=\"#000000\" fill-rule=\"evenodd\" fill-opacity=\"1\" /><path clip-path=\"url(#clip140)\" d=\"M 0 0 M590.63 28.9478 L590.63 35.9153 Q587.47 34.1734 584.27 33.3227 Q581.11 32.4315 577.869 32.4315 Q570.618 32.4315 566.608 37.0496 Q562.597 41.6271 562.597 49.9314 Q562.597 58.2358 566.608 62.8538 Q570.618 67.4314 577.869 67.4314 Q581.11 67.4314 584.27 66.5807 Q587.47 65.6895 590.63 63.9476 L590.63 70.8341 Q587.511 72.2924 584.148 73.0216 Q580.827 73.7508 577.059 73.7508 Q566.81 73.7508 560.775 67.3098 Q554.739 60.8689 554.739 49.9314 Q554.739 38.832 560.815 32.472 Q566.932 26.1121 577.545 26.1121 Q580.989 26.1121 584.27 26.8413 Q587.551 27.5299 590.63 28.9478 Z\" fill=\"#000000\" fill-rule=\"evenodd\" fill-opacity=\"1\" /><path clip-path=\"url(#clip140)\" d=\"M 0 0 M624.212 49.7694 Q615.178 49.7694 611.694 51.8354 Q608.211 53.9013 608.211 58.8839 Q608.211 62.8538 610.803 65.2034 Q613.436 67.5124 617.933 67.5124 Q624.131 67.5124 627.858 63.1374 Q631.625 58.7219 631.625 51.4303 L631.625 49.7694 L624.212 49.7694 M639.079 46.6907 L639.079 72.576 L631.625 72.576 L631.625 65.6895 Q629.073 69.8214 625.265 71.8063 Q621.457 73.7508 615.948 73.7508 Q608.98 73.7508 604.848 69.8619 Q600.757 65.9325 600.757 59.3701 Q600.757 51.7138 605.861 47.825 Q611.006 43.9361 621.174 43.9361 L631.625 43.9361 L631.625 43.2069 Q631.625 38.0623 628.222 35.2672 Q624.86 32.4315 618.743 32.4315 Q614.854 32.4315 611.168 33.3632 Q607.481 34.295 604.079 36.1584 L604.079 29.2718 Q608.17 27.692 612.018 26.9223 Q615.867 26.1121 619.513 26.1121 Q629.356 26.1121 634.217 31.2163 Q639.079 36.3204 639.079 46.6907 Z\" fill=\"#000000\" fill-rule=\"evenodd\" fill-opacity=\"1\" /><path clip-path=\"url(#clip140)\" d=\"M 0 0 M654.431 9.54393 L661.885 9.54393 L661.885 72.576 L654.431 72.576 L654.431 9.54393 Z\" fill=\"#000000\" fill-rule=\"evenodd\" fill-opacity=\"1\" /><path clip-path=\"url(#clip140)\" d=\"M 0 0 M677.481 9.54393 L684.935 9.54393 L684.935 72.576 L677.481 72.576 L677.481 9.54393 Z\" fill=\"#000000\" fill-rule=\"evenodd\" fill-opacity=\"1\" /><path clip-path=\"url(#clip140)\" d=\"M 0 0 M719.408 76.7889 Q716.248 84.8907 713.251 87.3618 Q710.253 89.8329 705.23 89.8329 L699.275 89.8329 L699.275 83.5945 L703.65 83.5945 Q706.729 83.5945 708.43 82.1361 Q710.131 80.6778 712.197 75.2496 L713.534 71.8468 L695.184 27.2059 L703.083 27.2059 L717.261 62.6918 L731.439 27.2059 L739.338 27.2059 L719.408 76.7889 Z\" fill=\"#000000\" fill-rule=\"evenodd\" fill-opacity=\"1\" /><path clip-path=\"url(#clip140)\" d=\"M 0 0 M800.872 17.6457 Q791.96 17.6457 786.693 24.2892 Q781.468 30.9327 781.468 42.3968 Q781.468 53.8203 786.693 60.4638 Q791.96 67.1073 800.872 67.1073 Q809.784 67.1073 814.969 60.4638 Q820.194 53.8203 820.194 42.3968 Q820.194 30.9327 814.969 24.2892 Q809.784 17.6457 800.872 17.6457 M800.872 11.0023 Q813.591 11.0023 821.207 19.5497 Q828.823 28.0566 828.823 42.3968 Q828.823 56.6965 821.207 65.2439 Q813.591 73.7508 800.872 73.7508 Q788.111 73.7508 780.455 65.2439 Q772.839 56.737 772.839 42.3968 Q772.839 28.0566 780.455 19.5497 Q788.111 11.0023 800.872 11.0023 Z\" fill=\"#000000\" fill-rule=\"evenodd\" fill-opacity=\"1\" /><path clip-path=\"url(#clip140)\" d=\"M 0 0 M848.51 65.7705 L848.51 89.8329 L841.016 89.8329 L841.016 27.2059 L848.51 27.2059 L848.51 34.0924 Q850.86 30.0415 854.425 28.0971 Q858.03 26.1121 863.013 26.1121 Q871.276 26.1121 876.421 32.6746 Q881.606 39.2371 881.606 49.9314 Q881.606 60.6258 876.421 67.1883 Q871.276 73.7508 863.013 73.7508 Q858.03 73.7508 854.425 71.8063 Q850.86 69.8214 848.51 65.7705 M873.869 49.9314 Q873.869 41.7081 870.466 37.0496 Q867.104 32.3505 861.19 32.3505 Q855.275 32.3505 851.873 37.0496 Q848.51 41.7081 848.51 49.9314 Q848.51 58.1548 851.873 62.8538 Q855.275 67.5124 861.19 67.5124 Q867.104 67.5124 870.466 62.8538 Q873.869 58.1548 873.869 49.9314 Z\" fill=\"#000000\" fill-rule=\"evenodd\" fill-opacity=\"1\" /><path clip-path=\"url(#clip140)\" d=\"M 0 0 M901.334 14.324 L901.334 27.2059 L916.687 27.2059 L916.687 32.9987 L901.334 32.9987 L901.334 57.6282 Q901.334 63.1779 902.833 64.7578 Q904.372 66.3376 909.031 66.3376 L916.687 66.3376 L916.687 72.576 L909.031 72.576 Q900.402 72.576 897.121 69.3758 Q893.84 66.1351 893.84 57.6282 L893.84 32.9987 L888.371 32.9987 L888.371 27.2059 L893.84 27.2059 L893.84 14.324 L901.334 14.324 Z\" fill=\"#000000\" fill-rule=\"evenodd\" fill-opacity=\"1\" /><path clip-path=\"url(#clip140)\" d=\"M 0 0 M926.49 27.2059 L933.944 27.2059 L933.944 72.576 L926.49 72.576 L926.49 27.2059 M926.49 9.54393 L933.944 9.54393 L933.944 18.9825 L926.49 18.9825 L926.49 9.54393 Z\" fill=\"#000000\" fill-rule=\"evenodd\" fill-opacity=\"1\" /><path clip-path=\"url(#clip140)\" d=\"M 0 0 M984.864 35.9153 Q987.659 30.8922 991.548 28.5022 Q995.437 26.1121 1000.7 26.1121 Q1007.79 26.1121 1011.64 31.0947 Q1015.49 36.0368 1015.49 45.1919 L1015.49 72.576 L1007.99 72.576 L1007.99 45.4349 Q1007.99 38.913 1005.69 35.7533 Q1003.38 32.5936 998.637 32.5936 Q992.844 32.5936 989.482 36.4419 Q986.119 40.2903 986.119 46.9338 L986.119 72.576 L978.625 72.576 L978.625 45.4349 Q978.625 38.8725 976.316 35.7533 Q974.007 32.5936 969.187 32.5936 Q963.475 32.5936 960.113 36.4824 Q956.75 40.3308 956.75 46.9338 L956.75 72.576 L949.256 72.576 L949.256 27.2059 L956.75 27.2059 L956.75 34.2544 Q959.302 30.082 962.867 28.0971 Q966.432 26.1121 971.334 26.1121 Q976.276 26.1121 979.719 28.6237 Q983.203 31.1352 984.864 35.9153 Z\" fill=\"#000000\" fill-rule=\"evenodd\" fill-opacity=\"1\" /><path clip-path=\"url(#clip140)\" d=\"M 0 0 M1050.97 49.7694 Q1041.94 49.7694 1038.46 51.8354 Q1034.97 53.9013 1034.97 58.8839 Q1034.97 62.8538 1037.57 65.2034 Q1040.2 67.5124 1044.7 67.5124 Q1050.89 67.5124 1054.62 63.1374 Q1058.39 58.7219 1058.39 51.4303 L1058.39 49.7694 L1050.97 49.7694 M1065.84 46.6907 L1065.84 72.576 L1058.39 72.576 L1058.39 65.6895 Q1055.84 69.8214 1052.03 71.8063 Q1048.22 73.7508 1042.71 73.7508 Q1035.74 73.7508 1031.61 69.8619 Q1027.52 65.9325 1027.52 59.3701 Q1027.52 51.7138 1032.62 47.825 Q1037.77 43.9361 1047.94 43.9361 L1058.39 43.9361 L1058.39 43.2069 Q1058.39 38.0623 1054.98 35.2672 Q1051.62 32.4315 1045.51 32.4315 Q1041.62 32.4315 1037.93 33.3632 Q1034.24 34.295 1030.84 36.1584 L1030.84 29.2718 Q1034.93 27.692 1038.78 26.9223 Q1042.63 26.1121 1046.28 26.1121 Q1056.12 26.1121 1060.98 31.2163 Q1065.84 36.3204 1065.84 46.6907 Z\" fill=\"#000000\" fill-rule=\"evenodd\" fill-opacity=\"1\" /><path clip-path=\"url(#clip140)\" d=\"M 0 0 M1081.19 9.54393 L1088.65 9.54393 L1088.65 72.576 L1081.19 72.576 L1081.19 9.54393 Z\" fill=\"#000000\" fill-rule=\"evenodd\" fill-opacity=\"1\" /><path clip-path=\"url(#clip140)\" d=\"M 0 0 M1122.55 12.096 L1173.72 12.096 L1173.72 18.9825 L1152.25 18.9825 L1152.25 72.576 L1144.02 72.576 L1144.02 18.9825 L1122.55 18.9825 L1122.55 12.096 Z\" fill=\"#000000\" fill-rule=\"evenodd\" fill-opacity=\"1\" /><path clip-path=\"url(#clip140)\" d=\"M 0 0 M1195.39 34.1734 Q1194.13 33.4443 1192.63 33.1202 Q1191.18 32.7556 1189.39 32.7556 Q1183.07 32.7556 1179.67 36.8875 Q1176.31 40.9789 1176.31 48.6757 L1176.31 72.576 L1168.82 72.576 L1168.82 27.2059 L1176.31 27.2059 L1176.31 34.2544 Q1178.66 30.1225 1182.43 28.1376 Q1186.19 26.1121 1191.58 26.1121 Q1192.35 26.1121 1193.28 26.2337 Q1194.21 26.3147 1195.35 26.5172 L1195.39 34.1734 Z\" fill=\"#000000\" fill-rule=\"evenodd\" fill-opacity=\"1\" /><path clip-path=\"url(#clip140)\" d=\"M 0 0 M1223.83 49.7694 Q1214.79 49.7694 1211.31 51.8354 Q1207.83 53.9013 1207.83 58.8839 Q1207.83 62.8538 1210.42 65.2034 Q1213.05 67.5124 1217.55 67.5124 Q1223.75 67.5124 1227.47 63.1374 Q1231.24 58.7219 1231.24 51.4303 L1231.24 49.7694 L1223.83 49.7694 M1238.69 46.6907 L1238.69 72.576 L1231.24 72.576 L1231.24 65.6895 Q1228.69 69.8214 1224.88 71.8063 Q1221.07 73.7508 1215.56 73.7508 Q1208.6 73.7508 1204.46 69.8619 Q1200.37 65.9325 1200.37 59.3701 Q1200.37 51.7138 1205.48 47.825 Q1210.62 43.9361 1220.79 43.9361 L1231.24 43.9361 L1231.24 43.2069 Q1231.24 38.0623 1227.84 35.2672 Q1224.47 32.4315 1218.36 32.4315 Q1214.47 32.4315 1210.78 33.3632 Q1207.1 34.295 1203.69 36.1584 L1203.69 29.2718 Q1207.78 27.692 1211.63 26.9223 Q1215.48 26.1121 1219.13 26.1121 Q1228.97 26.1121 1233.83 31.2163 Q1238.69 36.3204 1238.69 46.6907 Z\" fill=\"#000000\" fill-rule=\"evenodd\" fill-opacity=\"1\" /><path clip-path=\"url(#clip140)\" d=\"M 0 0 M1254.05 27.2059 L1261.5 27.2059 L1261.5 73.3862 Q1261.5 82.0551 1258.18 85.944 Q1254.9 89.8329 1247.56 89.8329 L1244.73 89.8329 L1244.73 83.5134 L1246.71 83.5134 Q1250.97 83.5134 1252.51 81.5285 Q1254.05 79.5841 1254.05 73.3862 L1254.05 27.2059 M1254.05 9.54393 L1261.5 9.54393 L1261.5 18.9825 L1254.05 18.9825 L1254.05 9.54393 Z\" fill=\"#000000\" fill-rule=\"evenodd\" fill-opacity=\"1\" /><path clip-path=\"url(#clip140)\" d=\"M 0 0 M1315.9 48.0275 L1315.9 51.6733 L1281.63 51.6733 Q1282.12 59.3701 1286.25 63.421 Q1290.42 67.4314 1297.84 67.4314 Q1302.13 67.4314 1306.14 66.3781 Q1310.19 65.3249 1314.16 63.2184 L1314.16 70.267 Q1310.15 71.9684 1305.94 72.8596 Q1301.73 73.7508 1297.39 73.7508 Q1286.53 73.7508 1280.17 67.4314 Q1273.86 61.1119 1273.86 50.3365 Q1273.86 39.1965 1279.85 32.6746 Q1285.89 26.1121 1296.09 26.1121 Q1305.25 26.1121 1310.56 32.0264 Q1315.9 37.9003 1315.9 48.0275 M1308.45 45.84 Q1308.37 39.7232 1305.01 36.0774 Q1301.68 32.4315 1296.18 32.4315 Q1289.94 32.4315 1286.17 35.9558 Q1282.44 39.4801 1281.88 45.8805 L1308.45 45.84 Z\" fill=\"#000000\" fill-rule=\"evenodd\" fill-opacity=\"1\" /><path clip-path=\"url(#clip140)\" d=\"M 0 0 M1360.79 28.9478 L1360.79 35.9153 Q1357.63 34.1734 1354.43 33.3227 Q1351.27 32.4315 1348.03 32.4315 Q1340.78 32.4315 1336.77 37.0496 Q1332.76 41.6271 1332.76 49.9314 Q1332.76 58.2358 1336.77 62.8538 Q1340.78 67.4314 1348.03 67.4314 Q1351.27 67.4314 1354.43 66.5807 Q1357.63 65.6895 1360.79 63.9476 L1360.79 70.8341 Q1357.67 72.2924 1354.31 73.0216 Q1350.98 73.7508 1347.22 73.7508 Q1336.97 73.7508 1330.93 67.3098 Q1324.9 60.8689 1324.9 49.9314 Q1324.9 38.832 1330.97 32.472 Q1337.09 26.1121 1347.7 26.1121 Q1351.15 26.1121 1354.43 26.8413 Q1357.71 27.5299 1360.79 28.9478 Z\" fill=\"#000000\" fill-rule=\"evenodd\" fill-opacity=\"1\" /><path clip-path=\"url(#clip140)\" d=\"M 0 0 M1381.12 14.324 L1381.12 27.2059 L1396.48 27.2059 L1396.48 32.9987 L1381.12 32.9987 L1381.12 57.6282 Q1381.12 63.1779 1382.62 64.7578 Q1384.16 66.3376 1388.82 66.3376 L1396.48 66.3376 L1396.48 72.576 L1388.82 72.576 Q1380.19 72.576 1376.91 69.3758 Q1373.63 66.1351 1373.63 57.6282 L1373.63 32.9987 L1368.16 32.9987 L1368.16 27.2059 L1373.63 27.2059 L1373.63 14.324 L1381.12 14.324 Z\" fill=\"#000000\" fill-rule=\"evenodd\" fill-opacity=\"1\" /><path clip-path=\"url(#clip140)\" d=\"M 0 0 M1423.86 32.4315 Q1417.86 32.4315 1414.38 37.1306 Q1410.9 41.7891 1410.9 49.9314 Q1410.9 58.0738 1414.34 62.7728 Q1417.82 67.4314 1423.86 67.4314 Q1429.82 67.4314 1433.3 62.7323 Q1436.78 58.0333 1436.78 49.9314 Q1436.78 41.8701 1433.3 37.1711 Q1429.82 32.4315 1423.86 32.4315 M1423.86 26.1121 Q1433.58 26.1121 1439.13 32.4315 Q1444.68 38.7509 1444.68 49.9314 Q1444.68 61.0714 1439.13 67.4314 Q1433.58 73.7508 1423.86 73.7508 Q1414.1 73.7508 1408.55 67.4314 Q1403.04 61.0714 1403.04 49.9314 Q1403.04 38.7509 1408.55 32.4315 Q1414.1 26.1121 1423.86 26.1121 Z\" fill=\"#000000\" fill-rule=\"evenodd\" fill-opacity=\"1\" /><path clip-path=\"url(#clip140)\" d=\"M 0 0 M1483.33 34.1734 Q1482.07 33.4443 1480.57 33.1202 Q1479.11 32.7556 1477.33 32.7556 Q1471.01 32.7556 1467.61 36.8875 Q1464.25 40.9789 1464.25 48.6757 L1464.25 72.576 L1456.75 72.576 L1456.75 27.2059 L1464.25 27.2059 L1464.25 34.2544 Q1466.6 30.1225 1470.36 28.1376 Q1474.13 26.1121 1479.52 26.1121 Q1480.29 26.1121 1481.22 26.2337 Q1482.15 26.3147 1483.29 26.5172 L1483.33 34.1734 Z\" fill=\"#000000\" fill-rule=\"evenodd\" fill-opacity=\"1\" /><path clip-path=\"url(#clip140)\" d=\"M 0 0 M1510.02 76.7889 Q1506.86 84.8907 1503.87 87.3618 Q1500.87 89.8329 1495.84 89.8329 L1489.89 89.8329 L1489.89 83.5945 L1494.26 83.5945 Q1497.34 83.5945 1499.04 82.1361 Q1500.75 80.6778 1502.81 75.2496 L1504.15 71.8468 L1485.8 27.2059 L1493.7 27.2059 L1507.88 62.6918 L1522.05 27.2059 L1529.95 27.2059 L1510.02 76.7889 Z\" fill=\"#000000\" fill-rule=\"evenodd\" fill-opacity=\"1\" /><path clip-path=\"url(#clip140)\" d=\"M 0 0 M1584.52 9.62495 Q1579.09 18.942 1576.46 28.0566 Q1573.82 37.1711 1573.82 46.5287 Q1573.82 55.8863 1576.46 65.0818 Q1579.13 74.2369 1584.52 83.5134 L1578.04 83.5134 Q1571.96 73.9938 1568.92 64.7983 Q1565.93 55.6027 1565.93 46.5287 Q1565.93 37.4952 1568.92 28.3401 Q1571.92 19.1851 1578.04 9.62495 L1584.52 9.62495 Z\" fill=\"#000000\" fill-rule=\"evenodd\" fill-opacity=\"1\" /><path clip-path=\"url(#clip140)\" d=\"M 0 0 M1601.45 65.6895 L1614.82 65.6895 L1614.82 19.5497 L1600.28 22.4663 L1600.28 15.0127 L1614.74 12.096 L1622.92 12.096 L1622.92 65.6895 L1636.29 65.6895 L1636.29 72.576 L1601.45 72.576 L1601.45 65.6895 Z\" fill=\"#000000\" fill-rule=\"evenodd\" fill-opacity=\"1\" /><path clip-path=\"url(#clip140)\" d=\"M 0 0 M1670.32 17.4837 Q1664 17.4837 1660.8 23.7221 Q1657.64 29.92 1657.64 42.3968 Q1657.64 54.833 1660.8 61.0714 Q1664 67.2693 1670.32 67.2693 Q1676.68 67.2693 1679.84 61.0714 Q1683.04 54.833 1683.04 42.3968 Q1683.04 29.92 1679.84 23.7221 Q1676.68 17.4837 1670.32 17.4837 M1670.32 11.0023 Q1680.48 11.0023 1685.83 19.0636 Q1691.22 27.0843 1691.22 42.3968 Q1691.22 57.6687 1685.83 65.73 Q1680.48 73.7508 1670.32 73.7508 Q1660.15 73.7508 1654.76 65.73 Q1649.41 57.6687 1649.41 42.3968 Q1649.41 27.0843 1654.76 19.0636 Q1660.15 11.0023 1670.32 11.0023 Z\" fill=\"#000000\" fill-rule=\"evenodd\" fill-opacity=\"1\" /><path clip-path=\"url(#clip140)\" d=\"M 0 0 M1723.1 17.4837 Q1716.78 17.4837 1713.58 23.7221 Q1710.42 29.92 1710.42 42.3968 Q1710.42 54.833 1713.58 61.0714 Q1716.78 67.2693 1723.1 67.2693 Q1729.46 67.2693 1732.62 61.0714 Q1735.82 54.833 1735.82 42.3968 Q1735.82 29.92 1732.62 23.7221 Q1729.46 17.4837 1723.1 17.4837 M1723.1 11.0023 Q1733.27 11.0023 1738.62 19.0636 Q1744 27.0843 1744 42.3968 Q1744 57.6687 1738.62 65.73 Q1733.27 73.7508 1723.1 73.7508 Q1712.93 73.7508 1707.55 65.73 Q1702.2 57.6687 1702.2 42.3968 Q1702.2 27.0843 1707.55 19.0636 Q1712.93 11.0023 1723.1 11.0023 Z\" fill=\"#000000\" fill-rule=\"evenodd\" fill-opacity=\"1\" /><path clip-path=\"url(#clip140)\" d=\"M 0 0 M1801.28 32.4315 Q1795.29 32.4315 1791.8 37.1306 Q1788.32 41.7891 1788.32 49.9314 Q1788.32 58.0738 1791.76 62.7728 Q1795.25 67.4314 1801.28 67.4314 Q1807.24 67.4314 1810.72 62.7323 Q1814.21 58.0333 1814.21 49.9314 Q1814.21 41.8701 1810.72 37.1711 Q1807.24 32.4315 1801.28 32.4315 M1801.28 26.1121 Q1811.01 26.1121 1816.55 32.4315 Q1822.1 38.7509 1822.1 49.9314 Q1822.1 61.0714 1816.55 67.4314 Q1811.01 73.7508 1801.28 73.7508 Q1791.52 73.7508 1785.97 67.4314 Q1780.46 61.0714 1780.46 49.9314 Q1780.46 38.7509 1785.97 32.4315 Q1791.52 26.1121 1801.28 26.1121 Z\" fill=\"#000000\" fill-rule=\"evenodd\" fill-opacity=\"1\" /><path clip-path=\"url(#clip140)\" d=\"M 0 0 M1860.75 34.1734 Q1859.49 33.4443 1858 33.1202 Q1856.54 32.7556 1854.75 32.7556 Q1848.44 32.7556 1845.03 36.8875 Q1841.67 40.9789 1841.67 48.6757 L1841.67 72.576 L1834.18 72.576 L1834.18 27.2059 L1841.67 27.2059 L1841.67 34.2544 Q1844.02 30.1225 1847.79 28.1376 Q1851.55 26.1121 1856.94 26.1121 Q1857.71 26.1121 1858.64 26.2337 Q1859.58 26.3147 1860.71 26.5172 L1860.75 34.1734 Z\" fill=\"#000000\" fill-rule=\"evenodd\" fill-opacity=\"1\" /><path clip-path=\"url(#clip140)\" d=\"M 0 0 M1901.14 49.9314 Q1901.14 41.7081 1897.73 37.0496 Q1894.37 32.3505 1888.46 32.3505 Q1882.54 32.3505 1879.14 37.0496 Q1875.78 41.7081 1875.78 49.9314 Q1875.78 58.1548 1879.14 62.8538 Q1882.54 67.5124 1888.46 67.5124 Q1894.37 67.5124 1897.73 62.8538 Q1901.14 58.1548 1901.14 49.9314 M1875.78 34.0924 Q1878.13 30.0415 1881.69 28.0971 Q1885.3 26.1121 1890.28 26.1121 Q1898.55 26.1121 1903.69 32.6746 Q1908.87 39.2371 1908.87 49.9314 Q1908.87 60.6258 1903.69 67.1883 Q1898.55 73.7508 1890.28 73.7508 Q1885.3 73.7508 1881.69 71.8063 Q1878.13 69.8214 1875.78 65.7705 L1875.78 72.576 L1868.28 72.576 L1868.28 9.54393 L1875.78 9.54393 L1875.78 34.0924 Z\" fill=\"#000000\" fill-rule=\"evenodd\" fill-opacity=\"1\" /><path clip-path=\"url(#clip140)\" d=\"M 0 0 M1921.23 27.2059 L1928.68 27.2059 L1928.68 72.576 L1921.23 72.576 L1921.23 27.2059 M1921.23 9.54393 L1928.68 9.54393 L1928.68 18.9825 L1921.23 18.9825 L1921.23 9.54393 Z\" fill=\"#000000\" fill-rule=\"evenodd\" fill-opacity=\"1\" /><path clip-path=\"url(#clip140)\" d=\"M 0 0 M1951.65 14.324 L1951.65 27.2059 L1967.01 27.2059 L1967.01 32.9987 L1951.65 32.9987 L1951.65 57.6282 Q1951.65 63.1779 1953.15 64.7578 Q1954.69 66.3376 1959.35 66.3376 L1967.01 66.3376 L1967.01 72.576 L1959.35 72.576 Q1950.72 72.576 1947.44 69.3758 Q1944.16 66.1351 1944.16 57.6282 L1944.16 32.9987 L1938.69 32.9987 L1938.69 27.2059 L1944.16 27.2059 L1944.16 14.324 L1951.65 14.324 Z\" fill=\"#000000\" fill-rule=\"evenodd\" fill-opacity=\"1\" /><path clip-path=\"url(#clip140)\" d=\"M 0 0 M2005.73 28.5427 L2005.73 35.5912 Q2002.57 33.9709 1999.17 33.1607 Q1995.77 32.3505 1992.12 32.3505 Q1986.57 32.3505 1983.78 34.0519 Q1981.02 35.7533 1981.02 39.156 Q1981.02 41.7486 1983.01 43.2475 Q1984.99 44.7058 1990.99 46.0426 L1993.54 46.6097 Q2001.48 48.3111 2004.8 51.4303 Q2008.16 54.509 2008.16 60.0587 Q2008.16 66.3781 2003.14 70.0644 Q1998.16 73.7508 1989.41 73.7508 Q1985.76 73.7508 1981.79 73.0216 Q1977.86 72.3329 1973.49 70.9151 L1973.49 63.2184 Q1977.62 65.3654 1981.63 66.4591 Q1985.64 67.5124 1989.57 67.5124 Q1994.84 67.5124 1997.67 65.73 Q2000.51 63.9071 2000.51 60.6258 Q2000.51 57.5877 1998.44 55.9673 Q1996.41 54.3469 1989.49 52.8481 L1986.9 52.2405 Q1979.97 50.7821 1976.89 47.7845 Q1973.81 44.7463 1973.81 39.4801 Q1973.81 33.0797 1978.35 29.5959 Q1982.88 26.1121 1991.23 26.1121 Q1995.36 26.1121 1999.01 26.7198 Q2002.65 27.3274 2005.73 28.5427 Z\" fill=\"#000000\" fill-rule=\"evenodd\" fill-opacity=\"1\" /><path clip-path=\"url(#clip140)\" d=\"M 0 0 M2018.86 9.62495 L2025.34 9.62495 Q2031.41 19.1851 2034.41 28.3401 Q2037.45 37.4952 2037.45 46.5287 Q2037.45 55.6027 2034.41 64.7983 Q2031.41 73.9938 2025.34 83.5134 L2018.86 83.5134 Q2024.24 74.2369 2026.88 65.0818 Q2029.55 55.8863 2029.55 46.5287 Q2029.55 37.1711 2026.88 28.0566 Q2024.24 18.942 2018.86 9.62495 Z\" fill=\"#000000\" fill-rule=\"evenodd\" fill-opacity=\"1\" /><polyline clip-path=\"url(#clip142)\" style=\"stroke:#009af9; stroke-width:8; stroke-opacity:1; fill:none\" points=\"\n",
       "  1303.88,778.336 1276.4,737.71 1148.93,719.735 1045.01,717.591 987.119,720.165 979.902,720.7 974.433,721.14 968.531,721.651 955.255,722.942 899.99,731.049 \n",
       "  860.571,741.814 840.022,754.175 839.627,767.416 860.172,780.336 864.421,781.964 866.965,782.868 869.411,783.693 872.517,784.689 919.226,795.353 1012.35,805.448 \n",
       "  1174.56,804.609 1308.08,749.226 1172.78,726.541 1060.11,727.624 980.495,736.961 937.068,747.898 932.641,749.548 930.028,750.612 928.001,751.493 926.496,752.183 \n",
       "  924.925,752.942 923.429,753.704 921.983,754.486 920.698,755.223 919.363,756.04 917.901,757.005 916.159,758.282 909.621,768.029 924.702,783.976 979.816,798.96 \n",
       "  1092.81,807.949 1277.37,791.492 1248.31,734.953 1080.79,758.403 1003.1,793.213 995.078,823.439 1030.73,845.575 1093.81,859.072 1173.48,863.922 1261.11,860.132 \n",
       "  1348.09,847.655 1423.81,826.512 1472.52,797.31 1468.52,763.024 1377.54,734.217 1209.15,731.24 1062.17,756.138 989.378,789.524 979.368,819.7 1012.81,842.833 \n",
       "  1075.19,857.835 1155.81,864.421 1245.86,862.532 1336.83,852.198 1419.07,833.617 1480.07,807.474 1502.41,775.809 1463.76,744.024 1350.02,723.387 1191.58,725.928 \n",
       "  1056.35,749.412 980.636,781.13 962.537,811.648 989.09,836.526 1047.66,853.93 1127.64,863.129 1219.82,863.861 1315.36,856.127 1404.87,840.2 1477.36,816.827 \n",
       "  1519.48,787.692 1515.75,756.29 1453.13,728.976 1333.87,714.455 1188.23,718.765 1060.31,739.63 978.118,769.08 947.216,799.63 961.444,826.482 1011.21,846.99 \n",
       "  1086.72,859.785 1178.61,864.215 1277.69,860.09 1374.52,847.618 1458.82,827.498 1519.26,801.158 1543.79,771.155 1521.67,741.61 1448.41,718.202 1332.6,706.821 \n",
       "  1198.01,710.719 1074.64,728.477 985.257,755.135 939.777,784.981 938.096,813.324 974.657,836.894 1041.5,853.61 1129.74,862.264 1230,862.296 1332.51,853.691 \n",
       "  1426.95,837.004 1502.53,813.479 1548.39,785.242 1554.94,755.486 1516.36,728.45 1434.08,708.881 1319.43,700.771 1192.29,705.839 1075.26,722.816 986.669,748.11 \n",
       "  936.964,777.213 928.904,805.886 959.665,830.714 1022.94,849.214 1110.31,859.775 1212.14,861.546 1318,854.381 1416.97,838.835 1498.01,816.224 1550.67,788.709 \n",
       "  1566.3,759.34 1539.88,731.894 1472.13,710.421 1371.04,698.479 1251.3,698.154 1131.4,709.447 1029.25,730.318 958.373,757.316 926.23,786.465 934.343,814.03 \n",
       "  979.505,836.901 1055.1,852.7 1152.04,859.886 1259.61,857.789 1366.25,846.581 1460.15,827.302 1530.1,801.873 1566.66,773.058 1563.56,744.311 1519.32,719.416 \n",
       "  1438.37,701.919 1331.13,694.457 1212.5,698.176 1099.21,712.462 1006.65,735.12 946.388,762.865 924.913,791.967 943.417,818.812 998.418,840.285 1082.67,854.024 \n",
       "  1186.12,858.571 1296.96,853.446 1402.52,839.17 1490.47,817.26 1549.98,790.148 1573.05,760.998 1555.88,733.396 1499.71,710.91 1411.11,696.555 1301.41,692.28 \n",
       "  1185.06,698.646 1077.22,714.743 991.584,738.359 938.488,766.395 923.802,795.32 948.569,821.608 1009.21,842.168 1098.19,854.659 1204.94,857.68 1317.02,850.881 \n",
       "  1421.34,835.011 1505.53,811.864 1559.24,784.13 1575.55,755.107 1552,728.331 1491.09,707.144 1400.1,694.241 1290.24,691.277 1175.31,698.631 1069.8,715.349 \n",
       "  986.757,739.287 936.207,767.426 923.978,796.29 951.162,822.394 1014.13,842.641 1105.12,854.659 1213.25,857.049 1325.72,849.539 1429.17,833.003 1511.23,809.363 \n",
       "  1561.82,781.404 1574.44,752.481 1547.1,726.148 1482.71,705.72 1388.97,693.843 1277.58,692.104 1162.72,700.786 1059.12,718.794 980.07,743.798 935.515,772.567 \n",
       "  930.849,801.436 966.309,826.783 1037.12,845.47 1134.26,855.238 1245.65,854.935 1357.6,844.621 1456.35,825.553 1529.69,800.057 1568.35,771.249 1567.24,742.703 \n",
       "  1526.1,718.029 1449.85,700.395 1348.03,692.112 1233.59,694.29 1121.29,706.661 1025.6,727.614 958.726,754.43 929.012,783.658 939.958,811.583 989.876,834.702 \n",
       "  1072.29,850.159 1176.84,856.076 1290.52,851.742 1399.24,837.713 1489.49,815.73 1550.03,788.493 1573.23,759.359 1556.01,731.973 1500.36,709.791 1413.15,695.64 \n",
       "  1305.29,691.343 1190.46,697.472 1083.26,713.257 997.359,736.695 943.683,764.789 929.023,793.959 955.19,820.508 1018.81,841.061 1111.79,853.009 1222.31,854.852 \n",
       "  1336.39,846.356 1439.59,828.584 1518.8,803.78 1563.94,775.1 1569.25,746.194 1534.15,720.718 1463.2,701.884 1365.42,692.053 1253.18,692.433 1140.59,702.958 \n",
       "  1041.75,722.311 969.068,748.081 931.745,777.04 934.615,805.542 977.439,829.966 1054.86,847.192 1157.14,855.029 1271.27,852.484 1382.67,839.894 1477.33,818.867 \n",
       "  1543.35,792.089 1572.5,762.958 1561.32,735.132 1511.4,712.058 1429.04,696.592 1324.47,690.657 1210.69,694.988 1101.92,709.062 1011.73,731.153 951.558,758.529 \n",
       "  929.196,787.758 947.771,815.124 1005.24,837.099 1094.45,850.796 1203.93,854.377 1319.44,847.325 1425.82,830.539 1509.06,806.222 1558.25,777.573 1567.06,748.354 \n",
       "  1534.5,722.378 1465.01,702.991 1367.79,692.657 1255.45,692.655 1142.42,702.909 1042.97,722.067 969.548,747.68 931.312,776.518 932.994,804.98 974.368,829.494 \n",
       "  1050.28,846.967 1151.26,855.199 1264.65,853.153 1376.21,841.071 1471.89,820.459 1539.62,793.913 1570.79,764.766 1561.49,736.701 1512.89,713.273 1431.15,697.427 \n",
       "  1326.58,691.159 1212.36,695.262 1102.95,709.22 1012.17,731.262 951.488,758.619 928.599,787.852 946.503,815.252 1003.01,837.327 1090.92,851.255 1199.05,855.264 \n",
       "  1313.65,848.845 1420.15,832.815 1505.01,809.219 1557.4,781.063 1570.68,751.93 1543.12,725.534 1478.18,705.248 1384.12,693.664 1272.93,692.276 1158.8,701.29 \n",
       "  1056.38,719.576 978.958,744.79 936.563,773.681 934.696,802.519 973.618,827.579 1048.29,845.62 1149.04,854.307 1262.82,852.524 1374.93,840.5 1470.89,819.788 \n",
       "  1538.23,793.068 1568.21,763.792 1556.9,735.76 1505.7,712.626 1421.18,697.415 1314.31,692.135 1199.05,697.505 1090.54,712.842 1003.1,736.137 948.246,764.342 \n",
       "  933.252,793.75 960.098,820.464 1025.12,840.956 1119.52,852.573 1230.74,853.857 1344.4,844.651 1445.83,826.144 1521.63,800.73 1561.65,771.698 1560.26,742.871 \n",
       "  1517.19,718.123 1437.9,700.861 1332.99,693.484 1216.75,697.016 1105.05,710.97 1012.92,733.397 952.548,761.213 931.531,790.665 952.122,817.868 1011.13,839.339 \n",
       "  1100.58,852.419 1208.93,855.55 1322.48,848.387 1427,831.823 1509.34,807.909 1558.92,779.617 1569.14,750.529 1538.28,724.38 1469.99,704.587 1372.96,693.803 \n",
       "  1259.79,693.497 1145.39,703.721 1044.79,723.12 971.157,749.11 933.983,778.257 937.856,806.767 982.036,830.971 1060.66,847.791 1163.55,855.099 1277.56,851.981 \n",
       "  1388.15,838.849 1481.29,817.377 1545.15,790.291 1571.66,761.031 1557.57,733.319 1504.75,710.654 1419.98,695.86 1313.96,690.745 1199.93,695.923 1092.12,710.747 \n",
       "  1003.97,733.36 946.511,760.954 926.93,790.064 947.74,817.042 1006.5,838.52 1096,851.758 1205.08,855.032 1319.92,847.857 1425.74,831.084 1508.8,806.835 \n",
       "  1558.3,778.238 1567.8,749.012 1536.13,722.944 1467.52,703.389 1370.98,692.828 1258.97,692.565 1145.83,702.589 1045.91,721.602 971.875,747.184 933.147,776.094 \n",
       "  934.705,804.668 976.432,829.254 1053.09,846.689 1154.97,854.741 1269.03,852.364 1380.63,839.842 1475.5,818.788 1541.49,791.92 1570.15,762.672 1557.84,734.773 \n",
       "  1506.19,711.799 1421.85,696.698 1315.61,691.392 1201.02,696.552 1092.73,711.533 1004.63,734.446 948.139,762.367 930.64,791.717 954.512,818.7 1016.73,839.8 \n",
       "  1109.19,852.275 1219.86,854.536 1334.42,846.325 1438.17,828.738 1517.88,804.069 1563.5,775.484 1569.32,746.61 1534.69,721.106 1464,702.208 1366.23,692.322 \n",
       "  1253.78,692.697 1140.89,703.3 1041.92,722.806 969.53,748.749 933.037,777.839 937.229,806.361 981.683,830.636 1060.74,847.527 1164.23,854.858 1278.78,851.712 \n",
       "  1389.69,838.529 1482.92,817.036 1546.74,790.015 1573.35,760.885 1559.72,733.282 1507.76,710.618 1424.04,695.654 1319,690.198 1205.54,694.909 1097.49,709.207 \n",
       "  1008.1,731.358 948.452,758.657 926.003,787.75 943.74,815.04 999.654,837.112 1086.94,851.167 1194.79,855.388 1309.61,849.194 1416.77,833.333 1502.6,809.791 \n",
       "  1556.1,781.558 1570.36,752.261 1543.61,725.656 1479.42,705.121 1386.17,693.212 1275.85,691.357 1162.28,699.715 1059.51,717.183 980.102,741.563 933.685,769.844 \n",
       "  925.85,798.57 957.541,824.224 1024.93,843.667 1119.85,854.499 1230.81,855.347 1344.21,846.057 1445.94,827.738 1523.24,802.637 1566.47,773.869 1570.2,745.032 \n",
       "  1534.02,719.728 1462.56,701.077 1364.88,691.34 1253.13,691.669 1141.04,701.967 1042.21,720.942 968.596,746.277 929.147,774.899 928.768,803.329 967.695,828.094 \n",
       "  1041.37,846.128 1140.89,855.152 1254.01,853.997 1366.71,842.778 1464.87,822.895 1536.27,796.849 1572.26,767.885 1568.68,739.568 1526.31,715.352 1450.6,698.123 \n",
       "  1350.87,689.884 1239.14,691.551 1128.61,702.879 1032.31,722.516 961.622,748.151 924.939,776.759 926.738,804.958 967.016,829.4 1041.17,847.14 1140.48,856.009 \n",
       "  1253.01,854.9 1365.14,843.928 1463.3,824.417 1535.67,798.73 1573.62,769.968 1572.73,741.603 1533.27,717.029 1460.1,699.15 1362.05,690.054 1250.78,690.786 \n",
       "  1139.43,701.237 1041.12,720.165 967.438,745.355 927.19,773.852 925.32,802.287 962.277,827.268 1033.84,845.763 1131.56,855.493 1243.7,855.249 1356.65,845.037 \n",
       "  1456.65,826.1 1531.66,800.762 1572.79,772.115 1575.36,743.61 1539.4,718.619 1469.49,700.044 1374.04,690.001 1264.23,689.609 1152.77,698.893 1052.54,716.795 \n",
       "  975.26,741.265 930.147,769.479 922.833,798.136 954.576,823.817 1021.96,843.397 1117.09,854.435 1228.47,855.518 1342.47,846.47 1445.06,828.397 1523.66,803.542 \n",
       "  1568.82,774.98 1575.34,746.204 1542.84,720.668 1475.63,701.363 1381.98,690.487 1273,689.22 1161.32,697.64 1059.75,714.751 979.942,738.591 931.12,766.438 \n",
       "  919.073,795.098 945.437,821.246 1007.35,841.803 1097.7,854.323 1205.99,857.311 1319.53,850.402 1424.9,834.419 1509.74,811.257 1564.24,783.647 1582.25,754.821 \n",
       "  1561.95,728.111 1505.94,706.561 1420.84,692.59 1316.47,687.726 1204.62,692.468 1097.8,706.259 1007.94,727.551 945.128,753.977 916.484,782.589 925.373,810.175 \n",
       "  970.924,833.604 1048.07,850.197 1148.13,858.059 1259.76,856.286 1370.27,845.074 1467.11,825.697 1539.28,800.358 1578.62,771.938 1580.73,743.673 1545.46,718.769 \n",
       "  1476.86,700.02 1382.73,689.507 1273.69,688.393 1162,696.794 1060.15,713.76 979.534,737.383 929.182,765.019 914.774,793.579 938.012,819.863 996.374,840.902 \n",
       "  1083.35,854.307 1189.18,858.532 1301.91,853.057 1408.69,838.482 1497.27,816.458 1557.51,789.487 1582.5,760.654 1569.35,733.272 1519.58,710.482 1438.98,694.874 \n",
       "  1336.84,688.204 1224.85,691.196 1115.71,703.476 1021.66,723.631 953.27,749.367 918.154,777.786 920.22,805.703 959.256,829.994 1030.95,847.926 1127.34,857.465 \n",
       "  1237.63,857.504 1349.39,848.008 1449.93,830.034 1527.81,805.622 1574.17,777.554 1583.89,749.009 1556.02,723.199 1493.84,703.001 1404.46,690.636 1297.91,687.44 \n",
       "  1186.03,693.728 1081.16,708.778 994.794,730.906 936.318,757.665 912.026,786.139 924.567,813.234 972.613,835.995 1050.96,851.936 1151.08,859.312 1262.03,857.306 \n",
       "  1371.7,846.126 1468.1,827.008 1540.76,802.039 1581.81,773.932 1586.81,745.753 1555.26,720.57 1490.61,701.106 1399.93,689.461 1293.08,686.888 1181.59,693.661 \n",
       "  1077.51,709.052 992.104,731.405 934.617,758.309 911.288,786.852 924.722,813.932 973.507,836.606 1052.3,852.414 1152.48,859.661 1263.19,857.58 1372.49,846.404 \n",
       "  1468.61,827.352 1541.24,802.48 1582.57,774.462 1588.15,746.318 1557.37,721.082 1493.52,701.457 1403.49,689.545 1296.96,686.633 1185.4,693.034 1080.76,708.047 \n",
       "  994.22,730.053 934.998,756.683 909.372,785.083 920.008,812.233 965.733,835.253 1041.67,851.703 1139.75,859.836 1249.55,858.797 1359.43,848.696 1457.75,830.591 \n",
       "  1534.05,806.411 1580.23,778.728 1591.43,750.474 1566.46,724.638 1507.98,703.953 1422.2,690.609 1318.22,686.021 1207.04,690.67 1100.39,704.064 1009.58,724.779 \n",
       "  944.201,750.62 911.168,778.861 913.938,806.514 952.2,830.653 1021.96,848.736 1115.89,858.858 1224.05,859.952 1335.01,851.894 1437.05,835.531 1519.41,812.612 \n",
       "  1573.46,785.566 1593.61,757.234 1577.85,730.58 1527.9,708.378 1449,692.933 1349.39,685.841 1239.4,687.836 1130.46,698.706 1033.89,717.323 959.73,741.747 \n",
       "  915.644,769.436 906.126,797.522 932.093,823.103 990.87,843.547 1076.41,856.76 1179.88,861.386 1290.6,856.936 1397.13,843.856 1488.47,823.498 1555.18,797.967 \n",
       "  1590.33,769.892 1590.26,742.173 1554.91,717.684 1487.88,698.973 1396.08,687.995 1289.04,685.902 1177.9,692.913 1074.26,708.283 988.896,730.391 930.533,756.931 \n",
       "  905.058,785.158 914.952,812.179 959.095,835.239 1032.91,852.001 1128.84,860.766 1237.09,860.644 1346.69,851.647 1446.49,834.68 1526.33,811.455 1578,784.338 \n",
       "  1596.15,756.1 1578.88,729.625 1527.93,707.63 1448.55,692.375 1348.84,685.424 1239.03,687.487 1130.36,698.353 1033.96,716.907 959.701,741.249 915.159,768.875 \n",
       "  904.867,796.958 929.845,822.641 987.47,843.302 1071.8,856.84 1174.21,861.899 1284.32,857.983 1390.99,845.499 1483.41,825.719 1552.21,800.648 1590.45,772.809 \n",
       "  1594.26,745.011 1563.14,720.082 1500.16,700.567 1411.7,688.458 1306.73,684.995 1195.95,690.53 1090.68,704.484 1001.56,725.422 937.547,751.203 905.02,779.209 \n",
       "  907.098,806.624 943.415,830.712 1010.23,849.083 1100.87,859.923 1206.35,862.159 1316.19,855.563 1419.43,840.776 1505.78,819.241 1566.5,793.086 1595.39,764.928 \n",
       "  1589.47,737.608 1549.28,713.891 1478.88,696.176 1385.46,686.232 1278.47,685.032 1168.64,692.661 1066.91,708.328 983.341,730.454 926.151,756.835 900.939,784.858 \n",
       "  910.148,811.759 952.855,834.884 1024.84,851.961 1118.98,861.326 1226.02,862.057 1335.43,854.084 1436.52,838.203 1519.39,815.981 1575.99,789.594 1600.87,761.607 \n",
       "  1591.64,734.744 1549.25,711.622 1477.88,694.488 1384.46,684.988 1278.06,684.031 1168.95,691.702 1067.66,707.262 983.996,729.209 926.109,755.42 899.629,783.372 \n",
       "  907.194,810.356 948.159,833.74 1018.56,851.232 1111.55,861.116 1218.08,862.429 1327.75,855.054 1429.82,839.726 1514.42,817.94 1573.38,791.822 1601.05,763.915 \n",
       "  1594.81,736.916 1555.32,713.424 1486.39,695.699 1394.69,685.45 1289.06,683.672 1179.68,690.544 1077.08,705.416 991.203,726.865 930.386,752.825 900.56,780.786 \n",
       "  904.622,808.026 942.141,831.894 1009.43,850.089 1099.96,860.875 1204.96,863.234 1314.29,856.955 1417.49,842.656 1504.69,821.714 1567.59,796.147 1600.16,768.405 \n",
       "  1599.26,741.135 1564.97,716.942 1500.51,698.144 1412.02,686.543 1307.98,683.268 1198.38,688.656 1093.74,702.195 1004.16,722.577 938.254,747.834 902.343,775.537 \n",
       "  899.836,803.025 930.938,827.667 992.64,847.104 1079.01,859.483 1181.78,863.627 1291.13,859.15 1396.63,846.491 1488.23,826.868 1557.27,802.159 1597.3,774.712 \n",
       "  1604.64,747.128 1578.69,721.999 1522,701.664 1439.96,688.008 1340.27,682.289 1232.22,685.025 1125.79,695.958 1030.88,714.067 956.351,737.685 909.148,764.632 \n",
       "  893.756,792.396 911.707,818.378 961.356,840.136 1038.07,855.621 1134.67,863.373 1242.12,862.663 1350.32,853.555 1449.13,836.904 1529.27,814.285 1583.21,787.83 \n",
       "  1605.94,760.019 1595.39,733.45 1552.57,710.602 1481.54,693.605 1388.97,684.041 1283.46,682.797 1174.87,689.979 1073.3,704.923 988.224,726.246 927.584,751.964 \n",
       "  897.037,779.688 899.532,806.819 934.919,830.809 999.905,849.406 1088.39,860.873 1192.04,864.134 1301.13,858.883 1405.45,845.626 1495.29,825.617 1562.31,800.741 \n",
       "  1600.33,773.325 1605.9,745.91 1578.56,721.03 1520.86,700.977 1438.16,687.591 1338.1,682.11 1229.93,685.055 1123.61,696.158 1029,714.393 954.855,738.081 \n",
       "  908.062,765.038 893.014,792.761 911.14,818.68 960.788,840.388 1037.33,855.861 1133.64,863.658 1240.77,863.06 1348.77,854.133 1447.65,837.713 1528.27,815.339 \n",
       "  1583.19,789.093 1607.43,761.396 1598.8,734.796 1558.13,711.729 1489.18,694.31 1398.28,684.124 1293.8,682.108 1185.3,688.454 1082.73,702.58 995.463,723.191 \n",
       "  931.501,748.392 896.703,775.87 894.232,803.115 924.299,827.639 984.129,847.214 1068.22,860.054 1168.88,864.985 1276.95,861.569 1382.59,850.127 1476.2,831.714 \n",
       "  1549.32,808.006 1595.36,781.144 1610.22,753.561 1592.57,727.755 1544.05,706.06 1469.09,690.423 1374.47,682.227 1268.66,682.182 1161.18,690.289 1061.65,705.816 \n",
       "  978.956,727.37 920.432,753.035 891.31,780.524 894.208,807.386 928.873,831.211 992.237,849.863 1078.64,861.679 1180.35,865.601 1288.29,861.283 1392.83,849.111 \n",
       "  1484.65,830.171 1555.56,806.163 1599.23,779.233 1611.77,751.78 1592.12,726.25 1542.03,704.915 1465.94,689.659 1370.63,681.844 1264.58,682.173 1157.24,690.606 \n",
       "  1058.14,706.392 976.074,728.125 918.365,753.866 890.104,781.332 893.784,808.089 929.08,831.765 992.846,850.258 1079.42,861.918 1181.14,865.705 1289.01,861.276 \n",
       "  1393.49,849.016 1485.2,830.015 1555.92,805.966 1599.4,779.008 1611.8,751.54 1591.99,726.012 1541.77,704.686 1465.64,689.449 1370.4,681.644 1264.52,681.954 \n",
       "  1157.37,690.34 1058.39,706.054 976.285,727.707 918.309,753.381 889.539,780.804 892.476,807.571 926.886,831.333 989.759,849.994 1075.54,861.91 1176.66,866.029 \n",
       "  1284.24,861.987 1388.83,850.137 1481.22,831.516 1553.25,807.766 1598.55,780.987 1613.13,753.534 1595.74,727.829 1547.91,706.132 1473.87,690.351 1380.16,681.873 \n",
       "  1275.01,681.442 1167.67,689.093 1067.57,704.156 983.519,725.3 922.887,750.665 890.964,778.021 890.584,804.958 921.755,829.115 981.69,848.373 1065.14,861.061 \n",
       "  1164.81,866.084 1271.98,863.007 1377.23,852.104 1471.41,834.328 1546.36,811.228 1595.54,784.826 1614.68,757.426 1602.17,731.404 1559.15,709.019 1489.39,692.201 \n",
       "  1398.93,682.399 1295.56,680.469 1188.23,686.581 1086.19,700.205 998.326,720.158 932.261,744.715 893.646,771.76 885.809,798.946 909.428,823.925 962.384,844.546 \n",
       "  1040.04,859.043 1135.7,866.187 1241.18,865.384 1347.43,856.721 1445.36,840.942 1526.67,819.385 1584.4,793.887 1613.61,766.631 1611.77,739.948 1579.01,716.118 \n",
       "  1518.13,697.181 1434.34,684.764 1334.82,679.923 1228.06,683.077 1123.17,693.97 1029.17,711.663 954.132,734.639 904.5,760.93 884.543,788.285 895.993,814.357 \n",
       "  937.857,836.903 1006.52,853.981 1096.1,864.122 1198.95,866.458 1306.25,860.793 1408.73,847.621 1497.58,828.084 1565.19,803.864 1605.88,777.033 1616.26,749.879 \n",
       "  1595.47,724.72 1545.25,703.698 1469.98,688.587 1376.05,680.656 1271.42,680.57 1164.94,688.329 1065.64,703.268 981.932,724.117 920.829,749.119 887.399,776.171 \n",
       "  884.468,802.988 912.296,827.313 968.528,847.104 1048.41,860.698 1145.24,866.954 1250.9,865.344 1356.48,856.004 1453.07,839.723 1532.57,817.865 1588.27,792.262 \n",
       "  1615.51,765.057 1611.96,738.541 1577.84,714.959 1516.03,696.308 1431.76,684.171 1332.13,679.576 1225.55,682.91 1121.05,693.88 1027.48,711.545 952.694,734.411 \n",
       "  902.975,760.551 882.48,787.763 892.926,813.762 933.429,836.369 1000.55,853.687 1088.63,864.247 1190.29,867.151 1297.02,862.157 1399.81,849.692 1490,830.802 \n",
       "  1560.02,807.066 1603.97,780.489 1618.15,753.313 1601.38,727.819 1555.13,706.151 1483.28,690.12 1391.84,681.062 1288.54,679.725 1182.03,686.215 1081.22,699.983 \n",
       "  994.516,719.864 929.14,744.198 890.473,770.965 881.68,797.942 903.538,822.881 954.238,843.694 1029.53,858.648 1123.2,866.506 1227.45,866.613 1333.6,858.951 \n",
       "  1432.81,844.153 1516.8,823.458 1578.56,798.599 1612.96,771.632 1617.14,744.802 1590.75,720.351 1536.01,700.302 1457.53,686.31 1361.89,679.531 1257.05,680.513 \n",
       "  1151.64,689.165 1054.34,704.768 973.149,726.03 914.725,751.184 883.839,778.15 883.013,804.709 912.3,828.683 969.297,848.105 1049.37,861.388 1145.95,867.433 \n",
       "  1251.11,865.717 1356.19,856.362 1452.5,840.122 1532.04,818.326 1588.17,792.79 1616.15,765.637 1613.67,739.13 1581,715.473 1520.91,696.619 1438.45,684.113 \n",
       "  1340.46,678.967 1235.04,681.587 1130.84,691.745 1036.39,708.588 959.403,730.733 906.195,756.377 881.108,783.421 886.202,809.645 921.066,832.9 982.8,851.285 \n",
       "  1066.32,863.305 1164.81,867.986 1270.25,864.952 1374.06,854.453 1467.8,837.341 1543.86,815.007 1596.04,789.281 1620.1,762.26 1614.11,736.142 1578.63,713.046 \n",
       "  1516.53,694.829 1432.87,682.959 1334.45,678.392 1229.22,681.49 1125.65,692 1032.13,709.064 956.213,731.302 903.996,756.934 879.687,783.889 885.266,809.998 \n",
       "  920.302,833.148 981.963,851.458 1065.28,863.449 1163.53,868.152 1268.8,865.193 1372.56,854.819 1466.43,837.864 1542.84,815.701 1595.58,790.116 1620.44,763.182 \n",
       "  1615.45,737.073 1581.02,713.877 1519.92,695.463 1437.11,683.321 1339.19,678.434 1234.08,681.196 1130.25,691.389 1036.11,708.184 959.211,730.219 905.754,755.72 \n",
       "  880.046,782.632 884.126,808.786 917.704,832.079 978.067,850.641 1060.36,862.982 1157.97,868.092 1263.02,865.544 1367,855.55 1461.5,838.924 1538.93,816.993 \n",
       "  1593.02,791.534 1619.42,764.595 1615.99,738.364 1583.03,714.964 1523.24,696.28 1441.45,683.813 1344.24,678.551 1239.43,680.902 1135.47,690.685 1040.72,707.107 \n",
       "  962.741,728.832 907.776,754.112 880.187,780.92 882.145,807.11 913.447,830.602 971.568,849.534 1051.93,862.39 1148.16,868.138 1252.56,866.319 1356.8,857.058 \n",
       "  1452.49,841.078 1531.98,819.669 1588.89,794.536 1618.66,767.704 1618.95,741.332 1589.77,717.507 1533.51,698.133 1454.74,684.745 1359.74,678.389 1256.07,679.551 \n",
       "  1151.93,688.129 1055.52,703.44 974.469,724.276 915.168,748.995 882.314,775.635 878.502,802.081 904.054,826.257 956.966,846.263 1033,860.518 1126.11,867.904 \n",
       "  1228.93,867.854 1333.37,860.39 1431.29,846.113 1515.1,826.158 1578.29,802.093 1615.94,775.792 1625.15,749.309 1605.23,724.691 1557.71,703.848 1486.32,688.411 \n",
       "  1396.54,679.598 1295.3,678.104 1190.49,684.055 1090.32,697.001 1002.71,715.931 934.529,739.355 891.08,765.428 875.705,792.105 889.538,817.32 931.439,839.115 \n",
       "  998.042,855.799 1084.1,866.101 1182.98,869.25 1287.06,865.019 1388.26,853.759 1478.82,836.347 1551.9,814.107 1601.93,788.738 1625.06,762.181 1619.57,736.491 \n",
       "  1585.92,713.625 1526.73,695.321 1446.51,682.964 1351.39,677.488 1248.54,679.303 1145.76,688.271 1050.97,703.695 971.363,724.4 912.947,748.808 880.104,775.064 \n",
       "  875.3,801.174 898.91,825.187 949.149,845.281 1022.14,859.92 1112.35,868 1212.99,868.928 1316.37,862.652 1414.69,849.652 1500.58,830.916 1567.66,807.836 \n",
       "  1610.87,782.181 1626.98,755.84 1614.75,730.802 1575.17,708.977 1511.22,691.99 1427.73,681.103 1330.99,677.119 1228.24,680.333 1127.18,690.501 1035.29,706.868 \n",
       "  959.445,728.231 905.436,752.995 877.334,779.293 877.252,805.122 905.209,828.548 959.114,847.807 1034.92,861.448 1126.93,868.44 1228.13,868.263 1331.08,860.937 \n",
       "  1427.81,847.024 1511.11,827.569 1574.72,804.039 1613.84,778.206 1625.56,752.035 1609.01,727.437 1565.47,706.333 1498.22,690.272 1412.37,680.462 1314.25,677.639 \n",
       "  1211.4,682.021 1111.64,693.243 1022.24,710.468 950.052,732.354 900.308,757.263 876.588,783.367 880.595,808.678 911.788,831.307 967.684,849.644 1044.26,862.402 \n",
       "  1135.45,868.649 1234.68,868.021 1335.17,860.573 1429.05,846.941 1510.35,828.042 1572.88,805.365 1612.63,780.479 1626.98,755.162 1615.16,731.151 1577.9,710.012 \n",
       "  1517.89,693.304 1439.28,682.151 1347.78,677.329 1249.74,679.126 1151.81,687.389 1060.31,701.614 982.196,720.717 922.319,743.506 885.141,768.237 872.855,793.299 \n",
       "  886.248,816.982 924.355,837.681 984.944,854.082 1063.29,864.91 1154.7,869.525 1252.64,867.562 1349.72,859.247 1440.59,845.05 1518.03,826.114 1577.39,803.66 \n",
       "  1614.78,779.201 1627.79,754.375 1615.62,730.833 1579.34,710.199 1521.46,693.745 1445.44,682.492 1356.82,677.254 1261.22,678.335 1164.92,685.644 1074.43,698.651 \n",
       "  995.427,716.519 933.033,738.089 891.148,762.089 872.946,786.727 879.285,810.36 909.908,831.735 962.613,849.224 1033.98,861.773 1119.38,868.563 1212.92,869.165 \n",
       "  1308.71,863.596 1400.57,852.245 1482.64,835.863 1550.3,815.312 1598.43,792.083 1624.05,767.661 1625.63,743.727 1603.39,721.757 1558.87,703.07 1494.7,688.796 \n",
       "  1415,679.884 1325.23,676.888 1230.31,679.978 1137.05,688.928 1050.88,703.178 977.209,721.841 920.681,743.753 884.749,767.675 872.09,791.982 883.276,814.851 \n",
       "  917.335,835.122 972.907,851.702 1045.29,863.178 1131.25,869.064 1223.82,868.897 1317.24,862.855 1407.07,851.249 1486.41,835.012 1551.32,815.078 1598,792.653 \n",
       "  1623.73,769.082 1627.04,745.793 1607.6,724.029 1566.7,705.31 1506.53,690.649 1430.73,680.987 1344,676.925 1251.64,678.695 1158.79,686.241 1071.89,699.036 \n",
       "  995.481,716.407 934.848,737.141 893.3,760.034 873.307,783.524 875.557,806.371 900.422,827.581 945.518,845.213 1008.62,858.669 1087,867.184 1173.67,870.043 \n",
       "  1264.72,867.278 1354.9,859.054 1440.46,845.561 1513.55,828.011 1571.21,807.257 1610.35,784.275 1627.94,760.622 1623.08,737.976 1596.37,717.413 1548.76,699.975 \n",
       "  1483.27,686.926 1404.41,679.089 1316.99,676.815 1225.78,680.162 1136.1,688.915 1053.1,702.555 981.547,720.287 925.564,741.066 887.814,764.132 871.809,787.469 \n",
       "  877.94,810.055 905.899,830.489 953.417,847.397 1017.96,860.042 1095.82,867.698 1183.85,869.928 1276.25,866.422 1365.04,857.632 1447.28,844.041 1518.31,826.409 \n",
       "  1574.79,805.38 1612.16,782.435 1628.06,759.343 1622.07,736.61 1594.68,716.39 1547.49,699.416 1483.18,686.674 1404.28,678.838 1317.95,676.562 1227.83,679.772 \n",
       "  1137.75,688.445 1053.7,702.166 982.723,719.63 926.8,740.116 889.078,762.481 871.719,785.475 875.437,807.335 899.501,827.364 942.743,844.478 1005.33,858.107 \n",
       "  1080.32,866.591 1165.14,869.831 1253.46,867.674 1341.71,860.308 1424.99,848.109 1500.55,831.206 1559.93,811.467 1602,789.571 1624.29,766.918 1625.92,744.641 \n",
       "  1605.83,723.272 1566.38,705.378 1509.46,691.232 1438.16,681.611 1356.42,677.049 1266.72,677.879 1178.02,684.022 1091.24,695.427 1013.54,711.369 950.483,730.549 \n",
       "  904.233,752.126 877.144,775.202 871.496,798.17 886.922,819.199 923.337,838.164 977.078,853.108 1045.93,863.685 1126.21,869.288 1212.31,869.614 1300.56,864.734 \n",
       "  1389.24,854.436 1469.34,839.509 1535.19,821.313 1585.57,800.452 1617.58,778.071 1629.35,755.887 1621.15,734.643 1593.39,715.432 1545.33,698.708 1482.96,686.605 \n",
       "  1407.9,679.095 1325.03,676.635 1238.12,679.286 1151.74,686.936 1070.47,699.209 998.662,715.493 938.287,735.761 896.977,757.636 875.372,780.256 874.396,802.515 \n",
       "  894.164,823.158 934.732,841.409 993.495,855.707 1067.28,865.271 1149.79,869.473 1237.86,868.33 1325.15,862.065 1408.45,851.04 1483.36,835.823 1545.88,817.196 \n",
       "  1593.41,795.633 1621.52,772.734 1628.54,750.178 1615.07,729.283 1581.1,710.31 1530.36,695.248 1462.55,684.027 1384.98,677.907 1301.28,676.85 1214.76,680.814 \n",
       "  1129.79,689.643 1050.82,702.937 981.186,720.336 925.411,741.114 888.279,763.797 872.2,786.409 877.26,808.938 902.831,828.813 948.401,845.947 1009.54,858.72 \n",
       "  1083.75,866.86 1167.13,869.916 1255.25,867.691 1341.97,860.425 1426.24,848.063 1500.3,831.514 1559.26,812.071 1601.44,790.491 1624.46,767.964 1627.01,745.727 \n",
       "  1609.7,725.514 1573.7,707.75 1520.64,693.353 1453.03,683.108 1374.18,677.627 1288.18,677.293 1199.68,682.209 1116.04,691.809 1035.87,706.428 970.172,724.154 \n",
       "  919.359,744.517 886.222,766.41 872.52,788.647 879.259,810.482 905.283,829.645 949.06,845.874 1008.31,858.351 1081.31,866.545 1162.23,869.767 1248.63,867.947 \n",
       "  1334.88,861.146 1417.1,849.651 1489.88,834.251 1550.43,815.56 1595.01,794.741 1621.49,772.991 1628.98,751.278 1616.83,730.435 1586.11,712.106 1538.32,696.872 \n",
       "  1474.62,685.338 1398.44,678.395 1314.96,676.514 1230.15,679.587 1146.29,687.365 1067.65,699.462 998.239,715.264 939.596,734.749 898.859,755.601 876.016,777.323 \n",
       "  872.03,798.336 886.311,818.108 918.171,835.702 967.497,850.602 1032.92,861.782 1108.08,868.142 1190.5,869.66 1276.38,866.217 1360.33,858.042 1440.05,845.277 \n",
       "  1508.77,828.982 1564.64,809.661 1604.02,788.517 1625.07,766.636 1626.87,745.182 1609.66,725.299 1574.49,707.85 1522.64,693.579 1456.65,683.321 1380.21,677.669 \n",
       "  1296.69,676.902 1209.94,681.166 1125.1,690.29 1046.75,703.803 980.477,720.571 927.884,739.977 890.933,761.534 873.186,782.835 874.097,804.49 893.398,823.693 \n",
       "  929.78,840.485 981.607,854.083 1046.57,863.826 1121.72,869.206 1203.02,869.918 1287.78,865.846 1372.04,856.961 1449.37,843.879 1515.45,827.539 1569.32,808.188 \n",
       "  1606.47,787.438 1625.92,766.354 1627.53,745.692 1611.39,726.383 1578.23,709.281 1529.4,695.159 1467.1,684.725 1393.8,678.495 1312.77,676.887 1228.06,680.101 \n",
       "  1140.13,688.556 1059.97,701.418 989.123,718.382 934.2,737.681 895.863,758.58 875.496,780.037 873.484,800.612 889.026,819.835 921.386,836.906 970.802,851.407 \n",
       "  1034.26,862.064 1108.61,868.313 1189.26,869.836 1272.75,866.648 1354.93,858.936 1431.85,847.101 1499.8,831.753 1556.03,813.501 1597.51,793.231 1622.09,771.913 \n",
       "  1628.4,750.683 1615.96,730.401 1585.37,712.306 1537.51,697.094 1475.37,685.797 1401.81,678.906 1319.13,676.786 1236.35,679.487 1154.34,686.681 1074.6,698.447 \n",
       "  1006.41,713.344 949.815,731.006 907.288,750.622 880.796,771.213 871.354,791.91 879.46,811.786 904.894,829.926 947.346,845.653 1004.68,857.9 1074.83,866.09 \n",
       "  1153.06,869.637 1236.65,868.418 1320.29,862.504 1399.89,852.28 1473.4,837.934 1534.91,820.566 1582.19,800.986 1613.74,779.651 1626.86,758.297 1621.19,737.33 \n",
       "  1596.7,718.209 1554.88,701.963 1497.87,689.315 1428.21,680.832 1350.39,677.002 1268.66,677.862 1186.17,683.276 1106.8,692.969 1034.23,706.47 971.061,723.393 \n",
       "  921.542,742.704 888.423,763.077 871.983,784.324 873.533,804.551 892.247,823.272 928.018,839.99 978.805,853.523 1041.42,863.199 1113.8,868.79 1192.43,869.996 \n",
       "  1277.63,866.496 1361.39,858.304 1438.35,846.055 1506.03,830.274 1559.87,812.288 1600.27,792.032 1623.94,770.754 1629.42,749.641 1616.94,730.044 1586.97,712.28 \n",
       "  1541.62,697.575 1482.26,686.321 1411.89,679.166 1333.69,676.462 1251.76,678.343 1170.16,684.658 1091.45,695.261 1020.65,709.519 961.55,726.505 915.887,745.55 \n",
       "  885.444,765.866 871.593,786.599 875.335,807.104 896.987,826.031 935.247,842.351 987.196,855.181 1052.41,864.433 1123.67,869.271 1200.15,869.961 1280.02,866.416 \n",
       "  1357.02,858.949 1433.29,847.135 1500.9,831.834 1554.38,814.655 1594.86,795.677 1620.94,775.245 1630.29,754.671 1622.3,734.816 1597.31,716.753 1556.05,701.159 \n",
       "  1500.27,688.866 1430.71,680.365 1352.13,676.472 1270.86,677.295 1192.6,682.258 1117.39,690.997 1047.93,703.132 986.672,718.242 936.06,735.826 898.549,755.224 \n",
       "  876.386,775.409 870.546,795.531 882.396,815.652 910.054,832.776 952.165,847.218 1006.86,858.445 1072.04,866.036 1147.3,869.691 1225.84,868.989 1306.35,863.975 \n",
       "  1386.84,854.481 1460.89,841.017 1523.37,824.67 1573.66,805.696 1607.5,786.009 1625.53,766.033 1627.61,746.588 1614.1,728.375 1585.66,712.023 1543.24,698.118 \n",
       "  1488.09,687.233 1422.04,679.912 1343.77,676.556 1266.07,677.694 1181.82,683.494 1103.51,693.358 1031.11,707.154 974.042,722.544 928.621,739.701 895.588,758.255 \n",
       "  876.276,777.786 872.31,797.173 885.255,816.759 915.554,834.395 961.74,849.13 1019.22,859.928 1086.24,866.856 1159.95,869.725 1236.72,868.501 1314.45,863.253 \n",
       "  1391.99,853.823 1461.67,841.071 1522.11,825.42 1570.55,807.657 1605.6,788.311 1625,769.066 1629.52,749.908 1618.64,731.459 1592.18,714.523 1548.45,699.291 \n",
       "  1490.39,687.522 1424.34,680.096 1351.54,676.718 1270.58,677.582 1193.94,682.447 1119.82,691.006 1045.25,704.138 984.8,719.359 934.611,737.205 898.254,756.561 \n",
       "  877.207,776.554 872.41,797.482 884.309,816.028 911.217,832.629 954.384,847.402 1007.7,858.325 1073.04,865.974 1145.81,869.619 1222.66,869.146 1299.97,864.671 \n",
       "  1375.14,856.412 1444.92,844.757 1506.24,830.308 1556.99,813.675 1595.89,795.257 1620.81,775.988 1630.86,756.759 1626.1,738.409 1607.61,721.794 1576.24,707.088 \n",
       "  1532.7,694.681 1477.2,684.937 1412.6,678.579 1342.68,675.923 1276.19,676.705 1206.2,680.708 1139.65,687.574 1082.29,696.157 1026.76,707.348 971.67,722.325 \n",
       "  932.689,736.666 899.172,754.002 877.609,772.223 870.349,784.935 869.326,796.117 872.3,805.115 876.348,811.409 879.9,816.331 881.869,819.053 883.724,821.018 \n",
       "  885.699,822.79 887.844,824.443 890.165,826.026 892.796,827.648 895.94,829.412 899.484,831.226 903.431,833.081 907.476,834.847 912.197,836.752 917.285,838.659 \n",
       "  922.281,840.415 927.526,842.141 932.984,843.827 939.125,845.596 945.444,847.301 951.389,848.813 957.437,850.264 963.56,851.649 969.732,852.967 976.464,854.317 \n",
       "  983.222,855.593 989.512,856.716 996.29,857.856 1003.07,858.929 1009.4,859.876 1016.17,860.828 1022.49,861.668 1029.22,862.508 1035.97,863.299 1042.29,863.996 \n",
       "  1048.91,864.679 1055.12,865.282 1061.29,865.842 1067.84,866.396 1073.91,866.876 1080,867.324 1086.03,867.734 1091.99,868.11 1098.14,868.465 1104.12,868.782 \n",
       "  1110.01,869.065 1115.58,869.309 1121.05,869.525 1126.52,869.717 1132.01,869.888 1137.39,870.033 1142.66,870.155 1147.66,870.253 1152.72,870.333 1157.66,870.394 \n",
       "  1162.49,870.437 1167.1,870.463 1171.66,870.474 1176.11,870.471 1180.51,870.455 1184.77,870.426 1188.97,870.387 1193.07,870.336 1197.08,870.276 1201,870.207 \n",
       "  1204.83,870.13 1208.57,870.045 1212.23,869.953 1215.77,869.855 1219.26,869.751 1222.68,869.642 1226.03,869.526 1229.29,869.407 1232.51,869.283 1235.71,869.153 \n",
       "  1238.8,869.021 1241.85,868.884 1244.85,868.743 1247.8,868.6 1250.7,868.453 1253.58,868.302 1256.41,868.148 1259.18,867.992 1261.91,867.834 1264.59,867.674 \n",
       "  \n",
       "  \"/>\n",
       "<path clip-path=\"url(#clip142)\" d=\"M1250.12 789.326 L1238.8 784.638 L1234.12 773.326 L1238.8 762.014 L1250.12 757.326 L1261.43 762.014 L1266.12 773.326 L1261.43 784.638 Z\" fill=\"#008000\" fill-rule=\"evenodd\" fill-opacity=\"1\" stroke=\"#000000\" stroke-opacity=\"1\" stroke-width=\"3.2\"/>\n",
       "<path clip-path=\"url(#clip140)\" d=\"\n",
       "M1223.79 348.236 L1826.46 348.236 L1826.46 166.796 L1223.79 166.796  Z\n",
       "  \" fill=\"#ffffff\" fill-rule=\"evenodd\" fill-opacity=\"1\"/>\n",
       "<polyline clip-path=\"url(#clip140)\" style=\"stroke:#000000; stroke-width:4; stroke-opacity:1; fill:none\" points=\"\n",
       "  1223.79,348.236 1826.46,348.236 1826.46,166.796 1223.79,166.796 1223.79,348.236 \n",
       "  \"/>\n",
       "<polyline clip-path=\"url(#clip140)\" style=\"stroke:#009af9; stroke-width:4; stroke-opacity:1; fill:none\" points=\"\n",
       "  1248.3,227.276 1395.32,227.276 \n",
       "  \"/>\n",
       "<path clip-path=\"url(#clip140)\" d=\"M 0 0 M1419.82 209.996 L1424.49 209.996 L1424.49 240.621 L1441.32 240.621 L1441.32 244.556 L1419.82 244.556 L1419.82 209.996 Z\" fill=\"#000000\" fill-rule=\"evenodd\" fill-opacity=\"1\" /><path clip-path=\"url(#clip140)\" d=\"M 0 0 M1455.26 221.616 Q1451.83 221.616 1449.84 224.301 Q1447.85 226.963 1447.85 231.616 Q1447.85 236.269 1449.82 238.954 Q1451.81 241.616 1455.26 241.616 Q1458.66 241.616 1460.65 238.931 Q1462.64 236.246 1462.64 231.616 Q1462.64 227.01 1460.65 224.324 Q1458.66 221.616 1455.26 221.616 M1455.26 218.005 Q1460.81 218.005 1463.98 221.616 Q1467.16 225.227 1467.16 231.616 Q1467.16 237.982 1463.98 241.616 Q1460.81 245.227 1455.26 245.227 Q1449.68 245.227 1446.51 241.616 Q1443.36 237.982 1443.36 231.616 Q1443.36 225.227 1446.51 221.616 Q1449.68 218.005 1455.26 218.005 Z\" fill=\"#000000\" fill-rule=\"evenodd\" fill-opacity=\"1\" /><path clip-path=\"url(#clip140)\" d=\"M 0 0 M1492.87 219.625 L1492.87 223.607 Q1491.07 222.611 1489.24 222.125 Q1487.43 221.616 1485.58 221.616 Q1481.44 221.616 1479.15 224.255 Q1476.86 226.871 1476.86 231.616 Q1476.86 236.361 1479.15 239 Q1481.44 241.616 1485.58 241.616 Q1487.43 241.616 1489.24 241.13 Q1491.07 240.621 1492.87 239.625 L1492.87 243.56 Q1491.09 244.394 1489.17 244.81 Q1487.27 245.227 1485.12 245.227 Q1479.26 245.227 1475.81 241.546 Q1472.36 237.866 1472.36 231.616 Q1472.36 225.273 1475.84 221.639 Q1479.33 218.005 1485.4 218.005 Q1487.36 218.005 1489.24 218.422 Q1491.11 218.815 1492.87 219.625 Z\" fill=\"#000000\" fill-rule=\"evenodd\" fill-opacity=\"1\" /><path clip-path=\"url(#clip140)\" d=\"M 0 0 M1512.06 231.523 Q1506.9 231.523 1504.91 232.704 Q1502.92 233.884 1502.92 236.732 Q1502.92 239 1504.4 240.343 Q1505.91 241.662 1508.48 241.662 Q1512.02 241.662 1514.15 239.162 Q1516.3 236.639 1516.3 232.472 L1516.3 231.523 L1512.06 231.523 M1520.56 229.764 L1520.56 244.556 L1516.3 244.556 L1516.3 240.621 Q1514.84 242.982 1512.67 244.116 Q1510.49 245.227 1507.34 245.227 Q1503.36 245.227 1501 243.005 Q1498.66 240.759 1498.66 237.009 Q1498.66 232.634 1501.58 230.412 Q1504.52 228.19 1510.33 228.19 L1516.3 228.19 L1516.3 227.773 Q1516.3 224.834 1514.35 223.236 Q1512.43 221.616 1508.94 221.616 Q1506.72 221.616 1504.61 222.148 Q1502.5 222.681 1500.56 223.746 L1500.56 219.81 Q1502.9 218.908 1505.1 218.468 Q1507.29 218.005 1509.38 218.005 Q1515 218.005 1517.78 220.922 Q1520.56 223.838 1520.56 229.764 Z\" fill=\"#000000\" fill-rule=\"evenodd\" fill-opacity=\"1\" /><path clip-path=\"url(#clip140)\" d=\"M 0 0 M1529.33 208.537 L1533.59 208.537 L1533.59 244.556 L1529.33 244.556 L1529.33 208.537 Z\" fill=\"#000000\" fill-rule=\"evenodd\" fill-opacity=\"1\" /><path clip-path=\"url(#clip140)\" d=\"M 0 0 M1542.5 208.537 L1546.76 208.537 L1546.76 244.556 L1542.5 244.556 L1542.5 208.537 Z\" fill=\"#000000\" fill-rule=\"evenodd\" fill-opacity=\"1\" /><path clip-path=\"url(#clip140)\" d=\"M 0 0 M1566.46 246.963 Q1564.66 251.593 1562.94 253.005 Q1561.23 254.417 1558.36 254.417 L1554.96 254.417 L1554.96 250.852 L1557.46 250.852 Q1559.22 250.852 1560.19 250.019 Q1561.16 249.185 1562.34 246.083 L1563.1 244.139 L1552.62 218.63 L1557.13 218.63 L1565.23 238.908 L1573.34 218.63 L1577.85 218.63 L1566.46 246.963 Z\" fill=\"#000000\" fill-rule=\"evenodd\" fill-opacity=\"1\" /><path clip-path=\"url(#clip140)\" d=\"M 0 0 M1613.01 213.167 Q1607.92 213.167 1604.91 216.963 Q1601.92 220.76 1601.92 227.31 Q1601.92 233.838 1604.91 237.634 Q1607.92 241.431 1613.01 241.431 Q1618.1 241.431 1621.07 237.634 Q1624.05 233.838 1624.05 227.31 Q1624.05 220.76 1621.07 216.963 Q1618.1 213.167 1613.01 213.167 M1613.01 209.371 Q1620.28 209.371 1624.63 214.255 Q1628.98 219.116 1628.98 227.31 Q1628.98 235.482 1624.63 240.366 Q1620.28 245.227 1613.01 245.227 Q1605.72 245.227 1601.35 240.366 Q1596.99 235.505 1596.99 227.31 Q1596.99 219.116 1601.35 214.255 Q1605.72 209.371 1613.01 209.371 Z\" fill=\"#000000\" fill-rule=\"evenodd\" fill-opacity=\"1\" /><path clip-path=\"url(#clip140)\" d=\"M 0 0 M1640.23 240.667 L1640.23 254.417 L1635.95 254.417 L1635.95 218.63 L1640.23 218.63 L1640.23 222.565 Q1641.58 220.25 1643.61 219.139 Q1645.67 218.005 1648.52 218.005 Q1653.24 218.005 1656.18 221.755 Q1659.15 225.505 1659.15 231.616 Q1659.15 237.727 1656.18 241.477 Q1653.24 245.227 1648.52 245.227 Q1645.67 245.227 1643.61 244.116 Q1641.58 242.982 1640.23 240.667 M1654.72 231.616 Q1654.72 226.917 1652.78 224.255 Q1650.86 221.57 1647.48 221.57 Q1644.1 221.57 1642.16 224.255 Q1640.23 226.917 1640.23 231.616 Q1640.23 236.315 1642.16 239 Q1644.1 241.662 1647.48 241.662 Q1650.86 241.662 1652.78 239 Q1654.72 236.315 1654.72 231.616 Z\" fill=\"#000000\" fill-rule=\"evenodd\" fill-opacity=\"1\" /><path clip-path=\"url(#clip140)\" d=\"M 0 0 M1670.42 211.269 L1670.42 218.63 L1679.19 218.63 L1679.19 221.94 L1670.42 221.94 L1670.42 236.014 Q1670.42 239.185 1671.28 240.088 Q1672.15 240.991 1674.82 240.991 L1679.19 240.991 L1679.19 244.556 L1674.82 244.556 Q1669.89 244.556 1668.01 242.727 Q1666.14 240.875 1666.14 236.014 L1666.14 221.94 L1663.01 221.94 L1663.01 218.63 L1666.14 218.63 L1666.14 211.269 L1670.42 211.269 Z\" fill=\"#000000\" fill-rule=\"evenodd\" fill-opacity=\"1\" /><path clip-path=\"url(#clip140)\" d=\"M 0 0 M1684.79 218.63 L1689.05 218.63 L1689.05 244.556 L1684.79 244.556 L1684.79 218.63 M1684.79 208.537 L1689.05 208.537 L1689.05 213.931 L1684.79 213.931 L1684.79 208.537 Z\" fill=\"#000000\" fill-rule=\"evenodd\" fill-opacity=\"1\" /><path clip-path=\"url(#clip140)\" d=\"M 0 0 M1718.15 223.607 Q1719.75 220.736 1721.97 219.371 Q1724.19 218.005 1727.2 218.005 Q1731.25 218.005 1733.45 220.852 Q1735.65 223.676 1735.65 228.908 L1735.65 244.556 L1731.37 244.556 L1731.37 229.047 Q1731.37 225.32 1730.05 223.514 Q1728.73 221.709 1726.02 221.709 Q1722.71 221.709 1720.79 223.908 Q1718.87 226.107 1718.87 229.903 L1718.87 244.556 L1714.59 244.556 L1714.59 229.047 Q1714.59 225.297 1713.27 223.514 Q1711.95 221.709 1709.19 221.709 Q1705.93 221.709 1704.01 223.931 Q1702.09 226.13 1702.09 229.903 L1702.09 244.556 L1697.8 244.556 L1697.8 218.63 L1702.09 218.63 L1702.09 222.658 Q1703.54 220.273 1705.58 219.139 Q1707.62 218.005 1710.42 218.005 Q1713.24 218.005 1715.21 219.44 Q1717.2 220.875 1718.15 223.607 Z\" fill=\"#000000\" fill-rule=\"evenodd\" fill-opacity=\"1\" /><path clip-path=\"url(#clip140)\" d=\"M 0 0 M1755.93 231.523 Q1750.77 231.523 1748.77 232.704 Q1746.78 233.884 1746.78 236.732 Q1746.78 239 1748.27 240.343 Q1749.77 241.662 1752.34 241.662 Q1755.88 241.662 1758.01 239.162 Q1760.16 236.639 1760.16 232.472 L1760.16 231.523 L1755.93 231.523 M1764.42 229.764 L1764.42 244.556 L1760.16 244.556 L1760.16 240.621 Q1758.71 242.982 1756.53 244.116 Q1754.35 245.227 1751.21 245.227 Q1747.22 245.227 1744.86 243.005 Q1742.52 240.759 1742.52 237.009 Q1742.52 232.634 1745.44 230.412 Q1748.38 228.19 1754.19 228.19 L1760.16 228.19 L1760.16 227.773 Q1760.16 224.834 1758.22 223.236 Q1756.3 221.616 1752.8 221.616 Q1750.58 221.616 1748.47 222.148 Q1746.37 222.681 1744.42 223.746 L1744.42 219.81 Q1746.76 218.908 1748.96 218.468 Q1751.16 218.005 1753.24 218.005 Q1758.87 218.005 1761.65 220.922 Q1764.42 223.838 1764.42 229.764 Z\" fill=\"#000000\" fill-rule=\"evenodd\" fill-opacity=\"1\" /><path clip-path=\"url(#clip140)\" d=\"M 0 0 M1773.2 208.537 L1777.46 208.537 L1777.46 244.556 L1773.2 244.556 L1773.2 208.537 Z\" fill=\"#000000\" fill-rule=\"evenodd\" fill-opacity=\"1\" /><polyline clip-path=\"url(#clip140)\" style=\"stroke:#008000; stroke-width:4; stroke-opacity:1; fill:none\" points=\"\n",
       "  1248.3,287.756 1395.32,287.756 \n",
       "  \"/>\n",
       "<path clip-path=\"url(#clip140)\" d=\"M1321.81 313.356 L1303.71 305.855 L1296.21 287.756 L1303.71 269.657 L1321.81 262.156 L1339.91 269.657 L1347.41 287.756 L1339.91 305.855 Z\" fill=\"#008000\" fill-rule=\"evenodd\" fill-opacity=\"1\" stroke=\"#000000\" stroke-opacity=\"1\" stroke-width=\"5.12\"/>\n",
       "<path clip-path=\"url(#clip140)\" d=\"M 0 0 M1424.49 274.318 L1424.49 287.304 L1430.37 287.304 Q1433.64 287.304 1435.42 285.615 Q1437.2 283.925 1437.2 280.8 Q1437.2 277.698 1435.42 276.008 Q1433.64 274.318 1430.37 274.318 L1424.49 274.318 M1419.82 270.476 L1430.37 270.476 Q1436.18 270.476 1439.15 273.115 Q1442.13 275.73 1442.13 280.8 Q1442.13 285.915 1439.15 288.531 Q1436.18 291.147 1430.37 291.147 L1424.49 291.147 L1424.49 305.036 L1419.82 305.036 L1419.82 270.476 Z\" fill=\"#000000\" fill-rule=\"evenodd\" fill-opacity=\"1\" /><path clip-path=\"url(#clip140)\" d=\"M 0 0 M1448.22 269.017 L1452.48 269.017 L1452.48 305.036 L1448.22 305.036 L1448.22 269.017 Z\" fill=\"#000000\" fill-rule=\"evenodd\" fill-opacity=\"1\" /><path clip-path=\"url(#clip140)\" d=\"M 0 0 M1473.17 292.003 Q1468.01 292.003 1466.02 293.184 Q1464.03 294.364 1464.03 297.212 Q1464.03 299.48 1465.51 300.823 Q1467.02 302.142 1469.59 302.142 Q1473.13 302.142 1475.26 299.642 Q1477.41 297.119 1477.41 292.952 L1477.41 292.003 L1473.17 292.003 M1481.67 290.244 L1481.67 305.036 L1477.41 305.036 L1477.41 301.101 Q1475.95 303.462 1473.78 304.596 Q1471.6 305.707 1468.45 305.707 Q1464.47 305.707 1462.11 303.485 Q1459.77 301.239 1459.77 297.489 Q1459.77 293.114 1462.69 290.892 Q1465.63 288.67 1471.44 288.67 L1477.41 288.67 L1477.41 288.253 Q1477.41 285.314 1475.47 283.716 Q1473.54 282.096 1470.05 282.096 Q1467.83 282.096 1465.72 282.628 Q1463.61 283.161 1461.67 284.226 L1461.67 280.29 Q1464.01 279.388 1466.21 278.948 Q1468.41 278.485 1470.49 278.485 Q1476.11 278.485 1478.89 281.402 Q1481.67 284.318 1481.67 290.244 Z\" fill=\"#000000\" fill-rule=\"evenodd\" fill-opacity=\"1\" /><path clip-path=\"url(#clip140)\" d=\"M 0 0 M1511.99 289.388 L1511.99 305.036 L1507.73 305.036 L1507.73 289.527 Q1507.73 285.846 1506.3 284.017 Q1504.86 282.189 1501.99 282.189 Q1498.54 282.189 1496.55 284.388 Q1494.56 286.587 1494.56 290.383 L1494.56 305.036 L1490.28 305.036 L1490.28 279.11 L1494.56 279.11 L1494.56 283.138 Q1496.09 280.8 1498.15 279.642 Q1500.23 278.485 1502.94 278.485 Q1507.41 278.485 1509.7 281.263 Q1511.99 284.017 1511.99 289.388 Z\" fill=\"#000000\" fill-rule=\"evenodd\" fill-opacity=\"1\" /><path clip-path=\"url(#clip140)\" d=\"M 0 0 M1542.66 291.008 L1542.66 293.091 L1523.08 293.091 Q1523.36 297.489 1525.72 299.804 Q1528.1 302.096 1532.34 302.096 Q1534.79 302.096 1537.09 301.494 Q1539.4 300.892 1541.67 299.689 L1541.67 303.716 Q1539.38 304.688 1536.97 305.198 Q1534.56 305.707 1532.09 305.707 Q1525.88 305.707 1522.25 302.096 Q1518.64 298.485 1518.64 292.327 Q1518.64 285.962 1522.06 282.235 Q1525.51 278.485 1531.35 278.485 Q1536.58 278.485 1539.61 281.865 Q1542.66 285.221 1542.66 291.008 M1538.41 289.758 Q1538.36 286.263 1536.44 284.179 Q1534.54 282.096 1531.39 282.096 Q1527.83 282.096 1525.67 284.11 Q1523.54 286.124 1523.22 289.781 L1538.41 289.758 Z\" fill=\"#000000\" fill-rule=\"evenodd\" fill-opacity=\"1\" /><path clip-path=\"url(#clip140)\" d=\"M 0 0 M1553.87 271.749 L1553.87 279.11 L1562.64 279.11 L1562.64 282.42 L1553.87 282.42 L1553.87 296.494 Q1553.87 299.665 1554.73 300.568 Q1555.6 301.471 1558.27 301.471 L1562.64 301.471 L1562.64 305.036 L1558.27 305.036 Q1553.34 305.036 1551.46 303.207 Q1549.59 301.355 1549.59 296.494 L1549.59 282.42 L1546.46 282.42 L1546.46 279.11 L1549.59 279.11 L1549.59 271.749 L1553.87 271.749 Z\" fill=\"#000000\" fill-rule=\"evenodd\" fill-opacity=\"1\" /><path clip-path=\"url(#clip140)\" d=\"M 0 0 M1583.5 270.476 L1605.35 270.476 L1605.35 274.411 L1588.17 274.411 L1588.17 284.642 L1604.63 284.642 L1604.63 288.577 L1588.17 288.577 L1588.17 301.101 L1605.77 301.101 L1605.77 305.036 L1583.5 305.036 L1583.5 270.476 Z\" fill=\"#000000\" fill-rule=\"evenodd\" fill-opacity=\"1\" /><path clip-path=\"url(#clip140)\" d=\"M 0 0 M1625.05 292.003 Q1619.89 292.003 1617.9 293.184 Q1615.91 294.364 1615.91 297.212 Q1615.91 299.48 1617.39 300.823 Q1618.89 302.142 1621.46 302.142 Q1625 302.142 1627.13 299.642 Q1629.28 297.119 1629.28 292.952 L1629.28 292.003 L1625.05 292.003 M1633.54 290.244 L1633.54 305.036 L1629.28 305.036 L1629.28 301.101 Q1627.83 303.462 1625.65 304.596 Q1623.47 305.707 1620.33 305.707 Q1616.35 305.707 1613.98 303.485 Q1611.65 301.239 1611.65 297.489 Q1611.65 293.114 1614.56 290.892 Q1617.5 288.67 1623.31 288.67 L1629.28 288.67 L1629.28 288.253 Q1629.28 285.314 1627.34 283.716 Q1625.42 282.096 1621.92 282.096 Q1619.7 282.096 1617.6 282.628 Q1615.49 283.161 1613.54 284.226 L1613.54 280.29 Q1615.88 279.388 1618.08 278.948 Q1620.28 278.485 1622.36 278.485 Q1627.99 278.485 1630.77 281.402 Q1633.54 284.318 1633.54 290.244 Z\" fill=\"#000000\" fill-rule=\"evenodd\" fill-opacity=\"1\" /><path clip-path=\"url(#clip140)\" d=\"M 0 0 M1657.34 283.091 Q1656.62 282.675 1655.77 282.49 Q1654.93 282.281 1653.91 282.281 Q1650.3 282.281 1648.36 284.642 Q1646.44 286.98 1646.44 291.378 L1646.44 305.036 L1642.16 305.036 L1642.16 279.11 L1646.44 279.11 L1646.44 283.138 Q1647.78 280.777 1649.93 279.642 Q1652.09 278.485 1655.16 278.485 Q1655.6 278.485 1656.14 278.554 Q1656.67 278.601 1657.32 278.716 L1657.34 283.091 Z\" fill=\"#000000\" fill-rule=\"evenodd\" fill-opacity=\"1\" /><path clip-path=\"url(#clip140)\" d=\"M 0 0 M1666.02 271.749 L1666.02 279.11 L1674.79 279.11 L1674.79 282.42 L1666.02 282.42 L1666.02 296.494 Q1666.02 299.665 1666.88 300.568 Q1667.76 301.471 1670.42 301.471 L1674.79 301.471 L1674.79 305.036 L1670.42 305.036 Q1665.49 305.036 1663.61 303.207 Q1661.74 301.355 1661.74 296.494 L1661.74 282.42 L1658.61 282.42 L1658.61 279.11 L1661.74 279.11 L1661.74 271.749 L1666.02 271.749 Z\" fill=\"#000000\" fill-rule=\"evenodd\" fill-opacity=\"1\" /><path clip-path=\"url(#clip140)\" d=\"M 0 0 M1701.95 289.388 L1701.95 305.036 L1697.69 305.036 L1697.69 289.527 Q1697.69 285.846 1696.25 284.017 Q1694.82 282.189 1691.95 282.189 Q1688.5 282.189 1686.51 284.388 Q1684.52 286.587 1684.52 290.383 L1684.52 305.036 L1680.23 305.036 L1680.23 269.017 L1684.52 269.017 L1684.52 283.138 Q1686.04 280.8 1688.1 279.642 Q1690.19 278.485 1692.9 278.485 Q1697.36 278.485 1699.65 281.263 Q1701.95 284.017 1701.95 289.388 Z\" fill=\"#000000\" fill-rule=\"evenodd\" fill-opacity=\"1\" /></svg>\n"
      ]
     },
     "execution_count": 73,
     "metadata": {},
     "output_type": "execute_result"
    }
   ],
   "source": [
    "Xsol, Usol = unpackZ(knots, z_sol)\n",
    "plot3d_orbit(Xsol, \"Locally Optimal\")\n",
    "# X, U = unpackZ(knots, z)\n",
    "# plot3d!(X[1, :], X[2, :], X[3,:], label = \"Reference\", lw = 2, color=\"red\")\n"
   ]
  },
  {
   "cell_type": "code",
   "execution_count": 70,
   "metadata": {},
   "outputs": [
    {
     "data": {
      "image/svg+xml": [
       "<?xml version=\"1.0\" encoding=\"utf-8\"?>\n",
       "<svg xmlns=\"http://www.w3.org/2000/svg\" xmlns:xlink=\"http://www.w3.org/1999/xlink\" width=\"600\" height=\"400\" viewBox=\"0 0 2400 1600\">\n",
       "<defs>\n",
       "  <clipPath id=\"clip100\">\n",
       "    <rect x=\"0\" y=\"0\" width=\"2400\" height=\"1600\"/>\n",
       "  </clipPath>\n",
       "</defs>\n",
       "<path clip-path=\"url(#clip100)\" d=\"\n",
       "M0 1600 L2400 1600 L2400 0 L0 0  Z\n",
       "  \" fill=\"#ffffff\" fill-rule=\"evenodd\" fill-opacity=\"1\"/>\n",
       "<defs>\n",
       "  <clipPath id=\"clip101\">\n",
       "    <rect x=\"480\" y=\"0\" width=\"1681\" height=\"1600\"/>\n",
       "  </clipPath>\n",
       "</defs>\n",
       "<path clip-path=\"url(#clip100)\" d=\"\n",
       "M249.542 1423.18 L2352.76 1423.18 L2352.76 123.472 L249.542 123.472  Z\n",
       "  \" fill=\"#ffffff\" fill-rule=\"evenodd\" fill-opacity=\"1\"/>\n",
       "<defs>\n",
       "  <clipPath id=\"clip102\">\n",
       "    <rect x=\"249\" y=\"123\" width=\"2104\" height=\"1301\"/>\n",
       "  </clipPath>\n",
       "</defs>\n",
       "<polyline clip-path=\"url(#clip102)\" style=\"stroke:#000000; stroke-width:2; stroke-opacity:0.1; fill:none\" points=\"\n",
       "  309.067,1423.18 309.067,123.472 \n",
       "  \"/>\n",
       "<polyline clip-path=\"url(#clip102)\" style=\"stroke:#000000; stroke-width:2; stroke-opacity:0.1; fill:none\" points=\"\n",
       "  862.716,1423.18 862.716,123.472 \n",
       "  \"/>\n",
       "<polyline clip-path=\"url(#clip102)\" style=\"stroke:#000000; stroke-width:2; stroke-opacity:0.1; fill:none\" points=\"\n",
       "  1416.36,1423.18 1416.36,123.472 \n",
       "  \"/>\n",
       "<polyline clip-path=\"url(#clip102)\" style=\"stroke:#000000; stroke-width:2; stroke-opacity:0.1; fill:none\" points=\"\n",
       "  1970.01,1423.18 1970.01,123.472 \n",
       "  \"/>\n",
       "<polyline clip-path=\"url(#clip100)\" style=\"stroke:#000000; stroke-width:4; stroke-opacity:1; fill:none\" points=\"\n",
       "  249.542,1423.18 2352.76,1423.18 \n",
       "  \"/>\n",
       "<polyline clip-path=\"url(#clip100)\" style=\"stroke:#000000; stroke-width:4; stroke-opacity:1; fill:none\" points=\"\n",
       "  309.067,1423.18 309.067,1407.58 \n",
       "  \"/>\n",
       "<polyline clip-path=\"url(#clip100)\" style=\"stroke:#000000; stroke-width:4; stroke-opacity:1; fill:none\" points=\"\n",
       "  862.716,1423.18 862.716,1407.58 \n",
       "  \"/>\n",
       "<polyline clip-path=\"url(#clip100)\" style=\"stroke:#000000; stroke-width:4; stroke-opacity:1; fill:none\" points=\"\n",
       "  1416.36,1423.18 1416.36,1407.58 \n",
       "  \"/>\n",
       "<polyline clip-path=\"url(#clip100)\" style=\"stroke:#000000; stroke-width:4; stroke-opacity:1; fill:none\" points=\"\n",
       "  1970.01,1423.18 1970.01,1407.58 \n",
       "  \"/>\n",
       "<path clip-path=\"url(#clip100)\" d=\"M 0 0 M309.067 1452.37 Q305.456 1452.37 303.627 1455.94 Q301.822 1459.48 301.822 1466.61 Q301.822 1473.71 303.627 1477.28 Q305.456 1480.82 309.067 1480.82 Q312.701 1480.82 314.507 1477.28 Q316.335 1473.71 316.335 1466.61 Q316.335 1459.48 314.507 1455.94 Q312.701 1452.37 309.067 1452.37 M309.067 1448.67 Q314.877 1448.67 317.933 1453.27 Q321.011 1457.86 321.011 1466.61 Q321.011 1475.33 317.933 1479.94 Q314.877 1484.52 309.067 1484.52 Q303.257 1484.52 300.178 1479.94 Q297.123 1475.33 297.123 1466.61 Q297.123 1457.86 300.178 1453.27 Q303.257 1448.67 309.067 1448.67 Z\" fill=\"#000000\" fill-rule=\"evenodd\" fill-opacity=\"1\" /><path clip-path=\"url(#clip100)\" d=\"M 0 0 M837.415 1449.29 L855.772 1449.29 L855.772 1453.23 L841.698 1453.23 L841.698 1461.7 Q842.716 1461.35 843.735 1461.19 Q844.753 1461 845.772 1461 Q851.559 1461 854.938 1464.18 Q858.318 1467.35 858.318 1472.76 Q858.318 1478.34 854.846 1481.44 Q851.373 1484.52 845.054 1484.52 Q842.878 1484.52 840.61 1484.15 Q838.364 1483.78 835.957 1483.04 L835.957 1478.34 Q838.04 1479.48 840.262 1480.03 Q842.485 1480.59 844.961 1480.59 Q848.966 1480.59 851.304 1478.48 Q853.642 1476.38 853.642 1472.76 Q853.642 1469.15 851.304 1467.05 Q848.966 1464.94 844.961 1464.94 Q843.086 1464.94 841.211 1465.36 Q839.36 1465.77 837.415 1466.65 L837.415 1449.29 Z\" fill=\"#000000\" fill-rule=\"evenodd\" fill-opacity=\"1\" /><path clip-path=\"url(#clip100)\" d=\"M 0 0 M877.531 1452.37 Q873.92 1452.37 872.091 1455.94 Q870.285 1459.48 870.285 1466.61 Q870.285 1473.71 872.091 1477.28 Q873.92 1480.82 877.531 1480.82 Q881.165 1480.82 882.97 1477.28 Q884.799 1473.71 884.799 1466.61 Q884.799 1459.48 882.97 1455.94 Q881.165 1452.37 877.531 1452.37 M877.531 1448.67 Q883.341 1448.67 886.396 1453.27 Q889.475 1457.86 889.475 1466.61 Q889.475 1475.33 886.396 1479.94 Q883.341 1484.52 877.531 1484.52 Q871.721 1484.52 868.642 1479.94 Q865.586 1475.33 865.586 1466.61 Q865.586 1457.86 868.642 1453.27 Q871.721 1448.67 877.531 1448.67 Z\" fill=\"#000000\" fill-rule=\"evenodd\" fill-opacity=\"1\" /><path clip-path=\"url(#clip100)\" d=\"M 0 0 M1375.97 1479.92 L1383.61 1479.92 L1383.61 1453.55 L1375.3 1455.22 L1375.3 1450.96 L1383.56 1449.29 L1388.24 1449.29 L1388.24 1479.92 L1395.88 1479.92 L1395.88 1483.85 L1375.97 1483.85 L1375.97 1479.92 Z\" fill=\"#000000\" fill-rule=\"evenodd\" fill-opacity=\"1\" /><path clip-path=\"url(#clip100)\" d=\"M 0 0 M1415.32 1452.37 Q1411.71 1452.37 1409.88 1455.94 Q1408.08 1459.48 1408.08 1466.61 Q1408.08 1473.71 1409.88 1477.28 Q1411.71 1480.82 1415.32 1480.82 Q1418.96 1480.82 1420.76 1477.28 Q1422.59 1473.71 1422.59 1466.61 Q1422.59 1459.48 1420.76 1455.94 Q1418.96 1452.37 1415.32 1452.37 M1415.32 1448.67 Q1421.13 1448.67 1424.19 1453.27 Q1427.27 1457.86 1427.27 1466.61 Q1427.27 1475.33 1424.19 1479.94 Q1421.13 1484.52 1415.32 1484.52 Q1409.51 1484.52 1406.43 1479.94 Q1403.38 1475.33 1403.38 1466.61 Q1403.38 1457.86 1406.43 1453.27 Q1409.51 1448.67 1415.32 1448.67 Z\" fill=\"#000000\" fill-rule=\"evenodd\" fill-opacity=\"1\" /><path clip-path=\"url(#clip100)\" d=\"M 0 0 M1445.49 1452.37 Q1441.87 1452.37 1440.05 1455.94 Q1438.24 1459.48 1438.24 1466.61 Q1438.24 1473.71 1440.05 1477.28 Q1441.87 1480.82 1445.49 1480.82 Q1449.12 1480.82 1450.92 1477.28 Q1452.75 1473.71 1452.75 1466.61 Q1452.75 1459.48 1450.92 1455.94 Q1449.12 1452.37 1445.49 1452.37 M1445.49 1448.67 Q1451.3 1448.67 1454.35 1453.27 Q1457.43 1457.86 1457.43 1466.61 Q1457.43 1475.33 1454.35 1479.94 Q1451.3 1484.52 1445.49 1484.52 Q1439.68 1484.52 1436.6 1479.94 Q1433.54 1475.33 1433.54 1466.61 Q1433.54 1457.86 1436.6 1453.27 Q1439.68 1448.67 1445.49 1448.67 Z\" fill=\"#000000\" fill-rule=\"evenodd\" fill-opacity=\"1\" /><path clip-path=\"url(#clip100)\" d=\"M 0 0 M1929.62 1479.92 L1937.26 1479.92 L1937.26 1453.55 L1928.95 1455.22 L1928.95 1450.96 L1937.21 1449.29 L1941.89 1449.29 L1941.89 1479.92 L1949.53 1479.92 L1949.53 1483.85 L1929.62 1483.85 L1929.62 1479.92 Z\" fill=\"#000000\" fill-rule=\"evenodd\" fill-opacity=\"1\" /><path clip-path=\"url(#clip100)\" d=\"M 0 0 M1959.02 1449.29 L1977.38 1449.29 L1977.38 1453.23 L1963.3 1453.23 L1963.3 1461.7 Q1964.32 1461.35 1965.34 1461.19 Q1966.36 1461 1967.38 1461 Q1973.16 1461 1976.54 1464.18 Q1979.92 1467.35 1979.92 1472.76 Q1979.92 1478.34 1976.45 1481.44 Q1972.98 1484.52 1966.66 1484.52 Q1964.48 1484.52 1962.21 1484.15 Q1959.97 1483.78 1957.56 1483.04 L1957.56 1478.34 Q1959.64 1479.48 1961.87 1480.03 Q1964.09 1480.59 1966.56 1480.59 Q1970.57 1480.59 1972.91 1478.48 Q1975.25 1476.38 1975.25 1472.76 Q1975.25 1469.15 1972.91 1467.05 Q1970.57 1464.94 1966.56 1464.94 Q1964.69 1464.94 1962.81 1465.36 Q1960.96 1465.77 1959.02 1466.65 L1959.02 1449.29 Z\" fill=\"#000000\" fill-rule=\"evenodd\" fill-opacity=\"1\" /><path clip-path=\"url(#clip100)\" d=\"M 0 0 M1999.13 1452.37 Q1995.52 1452.37 1993.69 1455.94 Q1991.89 1459.48 1991.89 1466.61 Q1991.89 1473.71 1993.69 1477.28 Q1995.52 1480.82 1999.13 1480.82 Q2002.77 1480.82 2004.57 1477.28 Q2006.4 1473.71 2006.4 1466.61 Q2006.4 1459.48 2004.57 1455.94 Q2002.77 1452.37 1999.13 1452.37 M1999.13 1448.67 Q2004.94 1448.67 2008 1453.27 Q2011.08 1457.86 2011.08 1466.61 Q2011.08 1475.33 2008 1479.94 Q2004.94 1484.52 1999.13 1484.52 Q1993.32 1484.52 1990.25 1479.94 Q1987.19 1475.33 1987.19 1466.61 Q1987.19 1457.86 1990.25 1453.27 Q1993.32 1448.67 1999.13 1448.67 Z\" fill=\"#000000\" fill-rule=\"evenodd\" fill-opacity=\"1\" /><path clip-path=\"url(#clip100)\" d=\"M 0 0 M836.341 1520.52 L876.54 1520.52 L876.54 1525.93 L859.671 1525.93 L859.671 1568.04 L853.21 1568.04 L853.21 1525.93 L836.341 1525.93 L836.341 1520.52 Z\" fill=\"#000000\" fill-rule=\"evenodd\" fill-opacity=\"1\" /><path clip-path=\"url(#clip100)\" d=\"M 0 0 M880.487 1532.4 L886.344 1532.4 L886.344 1568.04 L880.487 1568.04 L880.487 1532.4 M880.487 1518.52 L886.344 1518.52 L886.344 1525.93 L880.487 1525.93 L880.487 1518.52 Z\" fill=\"#000000\" fill-rule=\"evenodd\" fill-opacity=\"1\" /><path clip-path=\"url(#clip100)\" d=\"M 0 0 M926.352 1539.24 Q928.548 1535.29 931.604 1533.41 Q934.659 1531.54 938.797 1531.54 Q944.367 1531.54 947.391 1535.45 Q950.414 1539.33 950.414 1546.53 L950.414 1568.04 L944.526 1568.04 L944.526 1546.72 Q944.526 1541.59 942.712 1539.11 Q940.898 1536.63 937.174 1536.63 Q932.622 1536.63 929.981 1539.65 Q927.339 1542.68 927.339 1547.9 L927.339 1568.04 L921.45 1568.04 L921.45 1546.72 Q921.45 1541.56 919.636 1539.11 Q917.822 1536.63 914.034 1536.63 Q909.547 1536.63 906.905 1539.68 Q904.263 1542.71 904.263 1547.9 L904.263 1568.04 L898.375 1568.04 L898.375 1532.4 L904.263 1532.4 L904.263 1537.93 Q906.268 1534.66 909.069 1533.1 Q911.87 1531.54 915.721 1531.54 Q919.604 1531.54 922.31 1533.51 Q925.047 1535.48 926.352 1539.24 Z\" fill=\"#000000\" fill-rule=\"evenodd\" fill-opacity=\"1\" /><path clip-path=\"url(#clip100)\" d=\"M 0 0 M992.587 1548.76 L992.587 1551.62 L965.66 1551.62 Q966.042 1557.67 969.289 1560.85 Q972.567 1564 978.392 1564 Q981.766 1564 984.917 1563.17 Q988.099 1562.35 991.219 1560.69 L991.219 1566.23 Q988.068 1567.57 984.757 1568.27 Q981.447 1568.97 978.042 1568.97 Q969.512 1568.97 964.514 1564 Q959.549 1559.04 959.549 1550.57 Q959.549 1541.82 964.26 1536.69 Q969.002 1531.54 977.023 1531.54 Q984.216 1531.54 988.386 1536.18 Q992.587 1540.8 992.587 1548.76 M986.731 1547.04 Q986.667 1542.23 984.025 1539.37 Q981.415 1536.5 977.087 1536.5 Q972.185 1536.5 969.225 1539.27 Q966.297 1542.04 965.851 1547.07 L986.731 1547.04 Z\" fill=\"#000000\" fill-rule=\"evenodd\" fill-opacity=\"1\" /><path clip-path=\"url(#clip100)\" d=\"M 0 0 M1022.38 1518.52 L1035.87 1518.52 L1035.87 1523.07 L1028.24 1523.07 L1028.24 1572.09 L1035.87 1572.09 L1035.87 1576.64 L1022.38 1576.64 L1022.38 1518.52 Z\" fill=\"#000000\" fill-rule=\"evenodd\" fill-opacity=\"1\" /><path clip-path=\"url(#clip100)\" d=\"M 0 0 M1042.02 1520.52 L1082.22 1520.52 L1082.22 1525.93 L1065.35 1525.93 L1065.35 1568.04 L1058.89 1568.04 L1058.89 1525.93 L1042.02 1525.93 L1042.02 1520.52 Z\" fill=\"#000000\" fill-rule=\"evenodd\" fill-opacity=\"1\" /><path clip-path=\"url(#clip100)\" d=\"M 0 0 M1099.24 1537.87 Q1098.26 1537.3 1097.08 1537.04 Q1095.93 1536.76 1094.53 1536.76 Q1089.57 1536.76 1086.9 1540 Q1084.25 1543.22 1084.25 1549.27 L1084.25 1568.04 L1078.37 1568.04 L1078.37 1532.4 L1084.25 1532.4 L1084.25 1537.93 Q1086.1 1534.69 1089.06 1533.13 Q1092.02 1531.54 1096.25 1531.54 Q1096.86 1531.54 1097.59 1531.63 Q1098.32 1531.7 1099.21 1531.85 L1099.24 1537.87 Z\" fill=\"#000000\" fill-rule=\"evenodd\" fill-opacity=\"1\" /><path clip-path=\"url(#clip100)\" d=\"M 0 0 M1121.59 1550.12 Q1114.49 1550.12 1111.75 1551.75 Q1109.02 1553.37 1109.02 1557.29 Q1109.02 1560.4 1111.05 1562.25 Q1113.12 1564.07 1116.65 1564.07 Q1121.52 1564.07 1124.45 1560.63 Q1127.41 1557.16 1127.41 1551.43 L1127.41 1550.12 L1121.59 1550.12 M1133.27 1547.71 L1133.27 1568.04 L1127.41 1568.04 L1127.41 1562.63 Q1125.41 1565.88 1122.42 1567.44 Q1119.42 1568.97 1115.1 1568.97 Q1109.62 1568.97 1106.37 1565.91 Q1103.16 1562.82 1103.16 1557.67 Q1103.16 1551.65 1107.17 1548.6 Q1111.21 1545.54 1119.2 1545.54 L1127.41 1545.54 L1127.41 1544.97 Q1127.41 1540.93 1124.74 1538.73 Q1122.1 1536.5 1117.29 1536.5 Q1114.24 1536.5 1111.34 1537.23 Q1108.44 1537.97 1105.77 1539.43 L1105.77 1534.02 Q1108.98 1532.78 1112.01 1532.17 Q1115.03 1531.54 1117.9 1531.54 Q1125.63 1531.54 1129.45 1535.55 Q1133.27 1539.56 1133.27 1547.71 Z\" fill=\"#000000\" fill-rule=\"evenodd\" fill-opacity=\"1\" /><path clip-path=\"url(#clip100)\" d=\"M 0 0 M1174.96 1546.53 L1174.96 1568.04 L1169.11 1568.04 L1169.11 1546.72 Q1169.11 1541.66 1167.13 1539.14 Q1165.16 1536.63 1161.21 1536.63 Q1156.47 1536.63 1153.74 1539.65 Q1151 1542.68 1151 1547.9 L1151 1568.04 L1145.11 1568.04 L1145.11 1532.4 L1151 1532.4 L1151 1537.93 Q1153.1 1534.72 1155.93 1533.13 Q1158.8 1531.54 1162.52 1531.54 Q1168.66 1531.54 1171.81 1535.36 Q1174.96 1539.14 1174.96 1546.53 Z\" fill=\"#000000\" fill-rule=\"evenodd\" fill-opacity=\"1\" /><path clip-path=\"url(#clip100)\" d=\"M 0 0 M1209.37 1533.45 L1209.37 1538.98 Q1206.89 1537.71 1204.22 1537.07 Q1201.54 1536.44 1198.68 1536.44 Q1194.32 1536.44 1192.12 1537.77 Q1189.96 1539.11 1189.96 1541.79 Q1189.96 1543.82 1191.52 1545 Q1193.08 1546.15 1197.79 1547.2 L1199.79 1547.64 Q1206.03 1548.98 1208.64 1551.43 Q1211.28 1553.85 1211.28 1558.21 Q1211.28 1563.17 1207.33 1566.07 Q1203.42 1568.97 1196.54 1568.97 Q1193.68 1568.97 1190.56 1568.39 Q1187.47 1567.85 1184.04 1566.74 L1184.04 1560.69 Q1187.28 1562.38 1190.43 1563.24 Q1193.58 1564.07 1196.67 1564.07 Q1200.81 1564.07 1203.04 1562.66 Q1205.27 1561.23 1205.27 1558.65 Q1205.27 1556.27 1203.64 1554.99 Q1202.05 1553.72 1196.61 1552.54 L1194.57 1552.07 Q1189.13 1550.92 1186.71 1548.56 Q1184.29 1546.18 1184.29 1542.04 Q1184.29 1537.01 1187.86 1534.27 Q1191.42 1531.54 1197.98 1531.54 Q1201.22 1531.54 1204.09 1532.01 Q1206.95 1532.49 1209.37 1533.45 Z\" fill=\"#000000\" fill-rule=\"evenodd\" fill-opacity=\"1\" /><path clip-path=\"url(#clip100)\" d=\"M 0 0 M1238.65 1518.52 L1238.65 1523.39 L1233.05 1523.39 Q1229.9 1523.39 1228.66 1524.66 Q1227.45 1525.93 1227.45 1529.24 L1227.45 1532.4 L1237.09 1532.4 L1237.09 1536.95 L1227.45 1536.95 L1227.45 1568.04 L1221.56 1568.04 L1221.56 1536.95 L1215.96 1536.95 L1215.96 1532.4 L1221.56 1532.4 L1221.56 1529.91 Q1221.56 1523.96 1224.33 1521.26 Q1227.1 1518.52 1233.12 1518.52 L1238.65 1518.52 Z\" fill=\"#000000\" fill-rule=\"evenodd\" fill-opacity=\"1\" /><path clip-path=\"url(#clip100)\" d=\"M 0 0 M1274.05 1548.76 L1274.05 1551.62 L1247.12 1551.62 Q1247.5 1557.67 1250.75 1560.85 Q1254.03 1564 1259.85 1564 Q1263.23 1564 1266.38 1563.17 Q1269.56 1562.35 1272.68 1560.69 L1272.68 1566.23 Q1269.53 1567.57 1266.22 1568.27 Q1262.91 1568.97 1259.5 1568.97 Q1250.97 1568.97 1245.97 1564 Q1241.01 1559.04 1241.01 1550.57 Q1241.01 1541.82 1245.72 1536.69 Q1250.46 1531.54 1258.48 1531.54 Q1265.68 1531.54 1269.85 1536.18 Q1274.05 1540.8 1274.05 1548.76 M1268.19 1547.04 Q1268.13 1542.23 1265.49 1539.37 Q1262.88 1536.5 1258.55 1536.5 Q1253.64 1536.5 1250.68 1539.27 Q1247.76 1542.04 1247.31 1547.07 L1268.19 1547.04 Z\" fill=\"#000000\" fill-rule=\"evenodd\" fill-opacity=\"1\" /><path clip-path=\"url(#clip100)\" d=\"M 0 0 M1304.32 1537.87 Q1303.33 1537.3 1302.15 1537.04 Q1301.01 1536.76 1299.61 1536.76 Q1294.64 1536.76 1291.97 1540 Q1289.32 1543.22 1289.32 1549.27 L1289.32 1568.04 L1283.44 1568.04 L1283.44 1532.4 L1289.32 1532.4 L1289.32 1537.93 Q1291.17 1534.69 1294.13 1533.13 Q1297.09 1531.54 1301.32 1531.54 Q1301.93 1531.54 1302.66 1531.63 Q1303.39 1531.7 1304.28 1531.85 L1304.32 1537.87 Z\" fill=\"#000000\" fill-rule=\"evenodd\" fill-opacity=\"1\" /><path clip-path=\"url(#clip100)\" d=\"M 0 0 M1350.72 1524.88 Q1343.72 1524.88 1339.58 1530.1 Q1335.48 1535.32 1335.48 1544.33 Q1335.48 1553.31 1339.58 1558.53 Q1343.72 1563.75 1350.72 1563.75 Q1357.72 1563.75 1361.8 1558.53 Q1365.9 1553.31 1365.9 1544.33 Q1365.9 1535.32 1361.8 1530.1 Q1357.72 1524.88 1350.72 1524.88 M1350.72 1519.66 Q1360.72 1519.66 1366.7 1526.38 Q1372.68 1533.06 1372.68 1544.33 Q1372.68 1555.57 1366.7 1562.28 Q1360.72 1568.97 1350.72 1568.97 Q1340.7 1568.97 1334.68 1562.28 Q1328.7 1555.6 1328.7 1544.33 Q1328.7 1533.06 1334.68 1526.38 Q1340.7 1519.66 1350.72 1519.66 Z\" fill=\"#000000\" fill-rule=\"evenodd\" fill-opacity=\"1\" /><path clip-path=\"url(#clip100)\" d=\"M 0 0 M1403.14 1537.87 Q1402.16 1537.3 1400.98 1537.04 Q1399.83 1536.76 1398.43 1536.76 Q1393.47 1536.76 1390.79 1540 Q1388.15 1543.22 1388.15 1549.27 L1388.15 1568.04 L1382.26 1568.04 L1382.26 1532.4 L1388.15 1532.4 L1388.15 1537.93 Q1390 1534.69 1392.96 1533.13 Q1395.92 1531.54 1400.15 1531.54 Q1400.76 1531.54 1401.49 1531.63 Q1402.22 1531.7 1403.11 1531.85 L1403.14 1537.87 Z\" fill=\"#000000\" fill-rule=\"evenodd\" fill-opacity=\"1\" /><path clip-path=\"url(#clip100)\" d=\"M 0 0 M1434.88 1550.25 Q1434.88 1543.79 1432.2 1540.13 Q1429.56 1536.44 1424.91 1536.44 Q1420.27 1536.44 1417.59 1540.13 Q1414.95 1543.79 1414.95 1550.25 Q1414.95 1556.71 1417.59 1560.4 Q1420.27 1564.07 1424.91 1564.07 Q1429.56 1564.07 1432.2 1560.4 Q1434.88 1556.71 1434.88 1550.25 M1414.95 1537.81 Q1416.8 1534.62 1419.6 1533.1 Q1422.43 1531.54 1426.35 1531.54 Q1432.84 1531.54 1436.88 1536.69 Q1440.96 1541.85 1440.96 1550.25 Q1440.96 1558.65 1436.88 1563.81 Q1432.84 1568.97 1426.35 1568.97 Q1422.43 1568.97 1419.6 1567.44 Q1416.8 1565.88 1414.95 1562.7 L1414.95 1568.04 L1409.06 1568.04 L1409.06 1518.52 L1414.95 1518.52 L1414.95 1537.81 Z\" fill=\"#000000\" fill-rule=\"evenodd\" fill-opacity=\"1\" /><path clip-path=\"url(#clip100)\" d=\"M 0 0 M1450.66 1532.4 L1456.52 1532.4 L1456.52 1568.04 L1450.66 1568.04 L1450.66 1532.4 M1450.66 1518.52 L1456.52 1518.52 L1456.52 1525.93 L1450.66 1525.93 L1450.66 1518.52 Z\" fill=\"#000000\" fill-rule=\"evenodd\" fill-opacity=\"1\" /><path clip-path=\"url(#clip100)\" d=\"M 0 0 M1474.57 1522.27 L1474.57 1532.4 L1486.63 1532.4 L1486.63 1536.95 L1474.57 1536.95 L1474.57 1556.3 Q1474.57 1560.66 1475.74 1561.9 Q1476.95 1563.14 1480.61 1563.14 L1486.63 1563.14 L1486.63 1568.04 L1480.61 1568.04 Q1473.83 1568.04 1471.26 1565.53 Q1468.68 1562.98 1468.68 1556.3 L1468.68 1536.95 L1464.38 1536.95 L1464.38 1532.4 L1468.68 1532.4 L1468.68 1522.27 L1474.57 1522.27 Z\" fill=\"#000000\" fill-rule=\"evenodd\" fill-opacity=\"1\" /><path clip-path=\"url(#clip100)\" d=\"M 0 0 M1521.74 1525.81 L1521.74 1543.66 L1529.82 1543.66 Q1534.31 1543.66 1536.76 1541.34 Q1539.21 1539.02 1539.21 1534.72 Q1539.21 1530.45 1536.76 1528.13 Q1534.31 1525.81 1529.82 1525.81 L1521.74 1525.81 M1515.31 1520.52 L1529.82 1520.52 Q1537.81 1520.52 1541.88 1524.15 Q1545.99 1527.75 1545.99 1534.72 Q1545.99 1541.75 1541.88 1545.35 Q1537.81 1548.95 1529.82 1548.95 L1521.74 1548.95 L1521.74 1568.04 L1515.31 1568.04 L1515.31 1520.52 Z\" fill=\"#000000\" fill-rule=\"evenodd\" fill-opacity=\"1\" /><path clip-path=\"url(#clip100)\" d=\"M 0 0 M1582.53 1548.76 L1582.53 1551.62 L1555.6 1551.62 Q1555.98 1557.67 1559.23 1560.85 Q1562.51 1564 1568.33 1564 Q1571.71 1564 1574.86 1563.17 Q1578.04 1562.35 1581.16 1560.69 L1581.16 1566.23 Q1578.01 1567.57 1574.7 1568.27 Q1571.39 1568.97 1567.98 1568.97 Q1559.45 1568.97 1554.46 1564 Q1549.49 1559.04 1549.49 1550.57 Q1549.49 1541.82 1554.2 1536.69 Q1558.94 1531.54 1566.96 1531.54 Q1574.16 1531.54 1578.33 1536.18 Q1582.53 1540.8 1582.53 1548.76 M1576.67 1547.04 Q1576.61 1542.23 1573.97 1539.37 Q1571.36 1536.5 1567.03 1536.5 Q1562.13 1536.5 1559.17 1539.27 Q1556.24 1542.04 1555.79 1547.07 L1576.67 1547.04 Z\" fill=\"#000000\" fill-rule=\"evenodd\" fill-opacity=\"1\" /><path clip-path=\"url(#clip100)\" d=\"M 0 0 M1612.8 1537.87 Q1611.81 1537.3 1610.63 1537.04 Q1609.49 1536.76 1608.09 1536.76 Q1603.12 1536.76 1600.45 1540 Q1597.81 1543.22 1597.81 1549.27 L1597.81 1568.04 L1591.92 1568.04 L1591.92 1532.4 L1597.81 1532.4 L1597.81 1537.93 Q1599.65 1534.69 1602.61 1533.13 Q1605.57 1531.54 1609.81 1531.54 Q1610.41 1531.54 1611.14 1531.63 Q1611.88 1531.7 1612.77 1531.85 L1612.8 1537.87 Z\" fill=\"#000000\" fill-rule=\"evenodd\" fill-opacity=\"1\" /><path clip-path=\"url(#clip100)\" d=\"M 0 0 M1618.94 1532.4 L1624.8 1532.4 L1624.8 1568.04 L1618.94 1568.04 L1618.94 1532.4 M1618.94 1518.52 L1624.8 1518.52 L1624.8 1525.93 L1618.94 1525.93 L1618.94 1518.52 Z\" fill=\"#000000\" fill-rule=\"evenodd\" fill-opacity=\"1\" /><path clip-path=\"url(#clip100)\" d=\"M 0 0 M1650.86 1536.5 Q1646.15 1536.5 1643.42 1540.19 Q1640.68 1543.85 1640.68 1550.25 Q1640.68 1556.65 1643.39 1560.34 Q1646.12 1564 1650.86 1564 Q1655.54 1564 1658.28 1560.31 Q1661.02 1556.62 1661.02 1550.25 Q1661.02 1543.92 1658.28 1540.23 Q1655.54 1536.5 1650.86 1536.5 M1650.86 1531.54 Q1658.5 1531.54 1662.86 1536.5 Q1667.22 1541.47 1667.22 1550.25 Q1667.22 1559 1662.86 1564 Q1658.5 1568.97 1650.86 1568.97 Q1643.19 1568.97 1638.83 1564 Q1634.51 1559 1634.51 1550.25 Q1634.51 1541.47 1638.83 1536.5 Q1643.19 1531.54 1650.86 1531.54 Z\" fill=\"#000000\" fill-rule=\"evenodd\" fill-opacity=\"1\" /><path clip-path=\"url(#clip100)\" d=\"M 0 0 M1700.39 1537.81 L1700.39 1518.52 L1706.25 1518.52 L1706.25 1568.04 L1700.39 1568.04 L1700.39 1562.7 Q1698.54 1565.88 1695.71 1567.44 Q1692.91 1568.97 1688.96 1568.97 Q1682.5 1568.97 1678.43 1563.81 Q1674.39 1558.65 1674.39 1550.25 Q1674.39 1541.85 1678.43 1536.69 Q1682.5 1531.54 1688.96 1531.54 Q1692.91 1531.54 1695.71 1533.1 Q1698.54 1534.62 1700.39 1537.81 M1680.43 1550.25 Q1680.43 1556.71 1683.08 1560.4 Q1685.75 1564.07 1690.4 1564.07 Q1695.04 1564.07 1697.72 1560.4 Q1700.39 1556.71 1700.39 1550.25 Q1700.39 1543.79 1697.72 1540.13 Q1695.04 1536.44 1690.4 1536.44 Q1685.75 1536.44 1683.08 1540.13 Q1680.43 1543.79 1680.43 1550.25 Z\" fill=\"#000000\" fill-rule=\"evenodd\" fill-opacity=\"1\" /><path clip-path=\"url(#clip100)\" d=\"M 0 0 M1741.04 1533.45 L1741.04 1538.98 Q1738.55 1537.71 1735.88 1537.07 Q1733.21 1536.44 1730.34 1536.44 Q1725.98 1536.44 1723.78 1537.77 Q1721.62 1539.11 1721.62 1541.79 Q1721.62 1543.82 1723.18 1545 Q1724.74 1546.15 1729.45 1547.2 L1731.45 1547.64 Q1737.69 1548.98 1740.3 1551.43 Q1742.94 1553.85 1742.94 1558.21 Q1742.94 1563.17 1739 1566.07 Q1735.08 1568.97 1728.21 1568.97 Q1725.34 1568.97 1722.22 1568.39 Q1719.14 1567.85 1715.7 1566.74 L1715.7 1560.69 Q1718.95 1562.38 1722.1 1563.24 Q1725.25 1564.07 1728.34 1564.07 Q1732.47 1564.07 1734.7 1562.66 Q1736.93 1561.23 1736.93 1558.65 Q1736.93 1556.27 1735.31 1554.99 Q1733.71 1553.72 1728.27 1552.54 L1726.23 1552.07 Q1720.79 1550.92 1718.37 1548.56 Q1715.95 1546.18 1715.95 1542.04 Q1715.95 1537.01 1719.52 1534.27 Q1723.08 1531.54 1729.64 1531.54 Q1732.89 1531.54 1735.75 1532.01 Q1738.62 1532.49 1741.04 1533.45 Z\" fill=\"#000000\" fill-rule=\"evenodd\" fill-opacity=\"1\" /><path clip-path=\"url(#clip100)\" d=\"M 0 0 M1765.96 1518.52 L1765.96 1576.64 L1752.46 1576.64 L1752.46 1572.09 L1760.07 1572.09 L1760.07 1523.07 L1752.46 1523.07 L1752.46 1518.52 L1765.96 1518.52 Z\" fill=\"#000000\" fill-rule=\"evenodd\" fill-opacity=\"1\" /><polyline clip-path=\"url(#clip102)\" style=\"stroke:#000000; stroke-width:2; stroke-opacity:0.1; fill:none\" points=\"\n",
       "  249.542,1252.41 2352.76,1252.41 \n",
       "  \"/>\n",
       "<polyline clip-path=\"url(#clip102)\" style=\"stroke:#000000; stroke-width:2; stroke-opacity:0.1; fill:none\" points=\"\n",
       "  249.542,1034.28 2352.76,1034.28 \n",
       "  \"/>\n",
       "<polyline clip-path=\"url(#clip102)\" style=\"stroke:#000000; stroke-width:2; stroke-opacity:0.1; fill:none\" points=\"\n",
       "  249.542,816.164 2352.76,816.164 \n",
       "  \"/>\n",
       "<polyline clip-path=\"url(#clip102)\" style=\"stroke:#000000; stroke-width:2; stroke-opacity:0.1; fill:none\" points=\"\n",
       "  249.542,598.043 2352.76,598.043 \n",
       "  \"/>\n",
       "<polyline clip-path=\"url(#clip102)\" style=\"stroke:#000000; stroke-width:2; stroke-opacity:0.1; fill:none\" points=\"\n",
       "  249.542,379.923 2352.76,379.923 \n",
       "  \"/>\n",
       "<polyline clip-path=\"url(#clip102)\" style=\"stroke:#000000; stroke-width:2; stroke-opacity:0.1; fill:none\" points=\"\n",
       "  249.542,161.802 2352.76,161.802 \n",
       "  \"/>\n",
       "<polyline clip-path=\"url(#clip100)\" style=\"stroke:#000000; stroke-width:4; stroke-opacity:1; fill:none\" points=\"\n",
       "  249.542,1423.18 249.542,123.472 \n",
       "  \"/>\n",
       "<polyline clip-path=\"url(#clip100)\" style=\"stroke:#000000; stroke-width:4; stroke-opacity:1; fill:none\" points=\"\n",
       "  249.542,1252.41 274.781,1252.41 \n",
       "  \"/>\n",
       "<polyline clip-path=\"url(#clip100)\" style=\"stroke:#000000; stroke-width:4; stroke-opacity:1; fill:none\" points=\"\n",
       "  249.542,1034.28 274.781,1034.28 \n",
       "  \"/>\n",
       "<polyline clip-path=\"url(#clip100)\" style=\"stroke:#000000; stroke-width:4; stroke-opacity:1; fill:none\" points=\"\n",
       "  249.542,816.164 274.781,816.164 \n",
       "  \"/>\n",
       "<polyline clip-path=\"url(#clip100)\" style=\"stroke:#000000; stroke-width:4; stroke-opacity:1; fill:none\" points=\"\n",
       "  249.542,598.043 274.781,598.043 \n",
       "  \"/>\n",
       "<polyline clip-path=\"url(#clip100)\" style=\"stroke:#000000; stroke-width:4; stroke-opacity:1; fill:none\" points=\"\n",
       "  249.542,379.923 274.781,379.923 \n",
       "  \"/>\n",
       "<polyline clip-path=\"url(#clip100)\" style=\"stroke:#000000; stroke-width:4; stroke-opacity:1; fill:none\" points=\"\n",
       "  249.542,161.802 274.781,161.802 \n",
       "  \"/>\n",
       "<path clip-path=\"url(#clip100)\" d=\"M 0 0 M127.2 1238.2 Q123.589 1238.2 121.76 1241.77 Q119.955 1245.31 119.955 1252.44 Q119.955 1259.55 121.76 1263.11 Q123.589 1266.65 127.2 1266.65 Q130.834 1266.65 132.64 1263.11 Q134.468 1259.55 134.468 1252.44 Q134.468 1245.31 132.64 1241.77 Q130.834 1238.2 127.2 1238.2 M127.2 1234.5 Q133.01 1234.5 136.066 1239.11 Q139.144 1243.69 139.144 1252.44 Q139.144 1261.17 136.066 1265.77 Q133.01 1270.36 127.2 1270.36 Q121.39 1270.36 118.311 1265.77 Q115.256 1261.17 115.256 1252.44 Q115.256 1243.69 118.311 1239.11 Q121.39 1234.5 127.2 1234.5 Z\" fill=\"#000000\" fill-rule=\"evenodd\" fill-opacity=\"1\" /><path clip-path=\"url(#clip100)\" d=\"M 0 0 M147.362 1263.81 L152.246 1263.81 L152.246 1269.69 L147.362 1269.69 L147.362 1263.81 Z\" fill=\"#000000\" fill-rule=\"evenodd\" fill-opacity=\"1\" /><path clip-path=\"url(#clip100)\" d=\"M 0 0 M172.431 1238.2 Q168.82 1238.2 166.991 1241.77 Q165.186 1245.31 165.186 1252.44 Q165.186 1259.55 166.991 1263.11 Q168.82 1266.65 172.431 1266.65 Q176.065 1266.65 177.871 1263.11 Q179.7 1259.55 179.7 1252.44 Q179.7 1245.31 177.871 1241.77 Q176.065 1238.2 172.431 1238.2 M172.431 1234.5 Q178.241 1234.5 181.297 1239.11 Q184.376 1243.69 184.376 1252.44 Q184.376 1261.17 181.297 1265.77 Q178.241 1270.36 172.431 1270.36 Q166.621 1270.36 163.542 1265.77 Q160.487 1261.17 160.487 1252.44 Q160.487 1243.69 163.542 1239.11 Q166.621 1234.5 172.431 1234.5 Z\" fill=\"#000000\" fill-rule=\"evenodd\" fill-opacity=\"1\" /><path clip-path=\"url(#clip100)\" d=\"M 0 0 M192.639 1235.13 L210.996 1235.13 L210.996 1239.06 L196.922 1239.06 L196.922 1247.53 Q197.94 1247.19 198.959 1247.02 Q199.977 1246.84 200.996 1246.84 Q206.783 1246.84 210.162 1250.01 Q213.542 1253.18 213.542 1258.6 Q213.542 1264.18 210.07 1267.28 Q206.598 1270.36 200.278 1270.36 Q198.102 1270.36 195.834 1269.99 Q193.588 1269.62 191.181 1268.87 L191.181 1264.18 Q193.264 1265.31 195.487 1265.87 Q197.709 1266.42 200.186 1266.42 Q204.19 1266.42 206.528 1264.31 Q208.866 1262.21 208.866 1258.6 Q208.866 1254.99 206.528 1252.88 Q204.19 1250.77 200.186 1250.77 Q198.311 1250.77 196.436 1251.19 Q194.584 1251.61 192.639 1252.49 L192.639 1235.13 Z\" fill=\"#000000\" fill-rule=\"evenodd\" fill-opacity=\"1\" /><path clip-path=\"url(#clip100)\" d=\"M 0 0 M126.205 1020.08 Q122.593 1020.08 120.765 1023.65 Q118.959 1027.19 118.959 1034.32 Q118.959 1041.43 120.765 1044.99 Q122.593 1048.53 126.205 1048.53 Q129.839 1048.53 131.644 1044.99 Q133.473 1041.43 133.473 1034.32 Q133.473 1027.19 131.644 1023.65 Q129.839 1020.08 126.205 1020.08 M126.205 1016.38 Q132.015 1016.38 135.07 1020.99 Q138.149 1025.57 138.149 1034.32 Q138.149 1043.05 135.07 1047.65 Q132.015 1052.24 126.205 1052.24 Q120.394 1052.24 117.316 1047.65 Q114.26 1043.05 114.26 1034.32 Q114.26 1025.57 117.316 1020.99 Q120.394 1016.38 126.205 1016.38 Z\" fill=\"#000000\" fill-rule=\"evenodd\" fill-opacity=\"1\" /><path clip-path=\"url(#clip100)\" d=\"M 0 0 M146.366 1045.68 L151.251 1045.68 L151.251 1051.56 L146.366 1051.56 L146.366 1045.68 Z\" fill=\"#000000\" fill-rule=\"evenodd\" fill-opacity=\"1\" /><path clip-path=\"url(#clip100)\" d=\"M 0 0 M162.246 1047.63 L169.885 1047.63 L169.885 1021.26 L161.575 1022.93 L161.575 1018.67 L169.839 1017 L174.514 1017 L174.514 1047.63 L182.153 1047.63 L182.153 1051.56 L162.246 1051.56 L162.246 1047.63 Z\" fill=\"#000000\" fill-rule=\"evenodd\" fill-opacity=\"1\" /><path clip-path=\"url(#clip100)\" d=\"M 0 0 M201.598 1020.08 Q197.987 1020.08 196.158 1023.65 Q194.352 1027.19 194.352 1034.32 Q194.352 1041.43 196.158 1044.99 Q197.987 1048.53 201.598 1048.53 Q205.232 1048.53 207.037 1044.99 Q208.866 1041.43 208.866 1034.32 Q208.866 1027.19 207.037 1023.65 Q205.232 1020.08 201.598 1020.08 M201.598 1016.38 Q207.408 1016.38 210.463 1020.99 Q213.542 1025.57 213.542 1034.32 Q213.542 1043.05 210.463 1047.65 Q207.408 1052.24 201.598 1052.24 Q195.787 1052.24 192.709 1047.65 Q189.653 1043.05 189.653 1034.32 Q189.653 1025.57 192.709 1020.99 Q195.787 1016.38 201.598 1016.38 Z\" fill=\"#000000\" fill-rule=\"evenodd\" fill-opacity=\"1\" /><path clip-path=\"url(#clip100)\" d=\"M 0 0 M127.2 801.963 Q123.589 801.963 121.76 805.527 Q119.955 809.069 119.955 816.199 Q119.955 823.305 121.76 826.87 Q123.589 830.412 127.2 830.412 Q130.834 830.412 132.64 826.87 Q134.468 823.305 134.468 816.199 Q134.468 809.069 132.64 805.527 Q130.834 801.963 127.2 801.963 M127.2 798.259 Q133.01 798.259 136.066 802.865 Q139.144 807.449 139.144 816.199 Q139.144 824.926 136.066 829.532 Q133.01 834.115 127.2 834.115 Q121.39 834.115 118.311 829.532 Q115.256 824.926 115.256 816.199 Q115.256 807.449 118.311 802.865 Q121.39 798.259 127.2 798.259 Z\" fill=\"#000000\" fill-rule=\"evenodd\" fill-opacity=\"1\" /><path clip-path=\"url(#clip100)\" d=\"M 0 0 M147.362 827.564 L152.246 827.564 L152.246 833.444 L147.362 833.444 L147.362 827.564 Z\" fill=\"#000000\" fill-rule=\"evenodd\" fill-opacity=\"1\" /><path clip-path=\"url(#clip100)\" d=\"M 0 0 M163.241 829.509 L170.88 829.509 L170.88 803.143 L162.57 804.81 L162.57 800.551 L170.834 798.884 L175.51 798.884 L175.51 829.509 L183.149 829.509 L183.149 833.444 L163.241 833.444 L163.241 829.509 Z\" fill=\"#000000\" fill-rule=\"evenodd\" fill-opacity=\"1\" /><path clip-path=\"url(#clip100)\" d=\"M 0 0 M192.639 798.884 L210.996 798.884 L210.996 802.819 L196.922 802.819 L196.922 811.291 Q197.94 810.944 198.959 810.782 Q199.977 810.597 200.996 810.597 Q206.783 810.597 210.162 813.768 Q213.542 816.939 213.542 822.356 Q213.542 827.935 210.07 831.037 Q206.598 834.115 200.278 834.115 Q198.102 834.115 195.834 833.745 Q193.588 833.375 191.181 832.634 L191.181 827.935 Q193.264 829.069 195.487 829.625 Q197.709 830.18 200.186 830.18 Q204.19 830.18 206.528 828.074 Q208.866 825.967 208.866 822.356 Q208.866 818.745 206.528 816.639 Q204.19 814.532 200.186 814.532 Q198.311 814.532 196.436 814.949 Q194.584 815.365 192.639 816.245 L192.639 798.884 Z\" fill=\"#000000\" fill-rule=\"evenodd\" fill-opacity=\"1\" /><path clip-path=\"url(#clip100)\" d=\"M 0 0 M126.205 583.842 Q122.593 583.842 120.765 587.407 Q118.959 590.949 118.959 598.078 Q118.959 605.185 120.765 608.749 Q122.593 612.291 126.205 612.291 Q129.839 612.291 131.644 608.749 Q133.473 605.185 133.473 598.078 Q133.473 590.949 131.644 587.407 Q129.839 583.842 126.205 583.842 M126.205 580.138 Q132.015 580.138 135.07 584.745 Q138.149 589.328 138.149 598.078 Q138.149 606.805 135.07 611.411 Q132.015 615.995 126.205 615.995 Q120.394 615.995 117.316 611.411 Q114.26 606.805 114.26 598.078 Q114.26 589.328 117.316 584.745 Q120.394 580.138 126.205 580.138 Z\" fill=\"#000000\" fill-rule=\"evenodd\" fill-opacity=\"1\" /><path clip-path=\"url(#clip100)\" d=\"M 0 0 M146.366 609.444 L151.251 609.444 L151.251 615.323 L146.366 615.323 L146.366 609.444 Z\" fill=\"#000000\" fill-rule=\"evenodd\" fill-opacity=\"1\" /><path clip-path=\"url(#clip100)\" d=\"M 0 0 M165.464 611.388 L181.783 611.388 L181.783 615.323 L159.839 615.323 L159.839 611.388 Q162.501 608.634 167.084 604.004 Q171.69 599.351 172.871 598.009 Q175.116 595.486 175.996 593.749 Q176.899 591.99 176.899 590.3 Q176.899 587.546 174.954 585.81 Q173.033 584.074 169.931 584.074 Q167.732 584.074 165.278 584.837 Q162.848 585.601 160.07 587.152 L160.07 582.43 Q162.894 581.296 165.348 580.717 Q167.802 580.138 169.839 580.138 Q175.209 580.138 178.403 582.824 Q181.598 585.509 181.598 589.999 Q181.598 592.129 180.788 594.05 Q180.001 595.949 177.894 598.541 Q177.315 599.212 174.214 602.43 Q171.112 605.624 165.464 611.388 Z\" fill=\"#000000\" fill-rule=\"evenodd\" fill-opacity=\"1\" /><path clip-path=\"url(#clip100)\" d=\"M 0 0 M201.598 583.842 Q197.987 583.842 196.158 587.407 Q194.352 590.949 194.352 598.078 Q194.352 605.185 196.158 608.749 Q197.987 612.291 201.598 612.291 Q205.232 612.291 207.037 608.749 Q208.866 605.185 208.866 598.078 Q208.866 590.949 207.037 587.407 Q205.232 583.842 201.598 583.842 M201.598 580.138 Q207.408 580.138 210.463 584.745 Q213.542 589.328 213.542 598.078 Q213.542 606.805 210.463 611.411 Q207.408 615.995 201.598 615.995 Q195.787 615.995 192.709 611.411 Q189.653 606.805 189.653 598.078 Q189.653 589.328 192.709 584.745 Q195.787 580.138 201.598 580.138 Z\" fill=\"#000000\" fill-rule=\"evenodd\" fill-opacity=\"1\" /><path clip-path=\"url(#clip100)\" d=\"M 0 0 M127.2 365.722 Q123.589 365.722 121.76 369.286 Q119.955 372.828 119.955 379.958 Q119.955 387.064 121.76 390.629 Q123.589 394.17 127.2 394.17 Q130.834 394.17 132.64 390.629 Q134.468 387.064 134.468 379.958 Q134.468 372.828 132.64 369.286 Q130.834 365.722 127.2 365.722 M127.2 362.018 Q133.01 362.018 136.066 366.624 Q139.144 371.208 139.144 379.958 Q139.144 388.684 136.066 393.291 Q133.01 397.874 127.2 397.874 Q121.39 397.874 118.311 393.291 Q115.256 388.684 115.256 379.958 Q115.256 371.208 118.311 366.624 Q121.39 362.018 127.2 362.018 Z\" fill=\"#000000\" fill-rule=\"evenodd\" fill-opacity=\"1\" /><path clip-path=\"url(#clip100)\" d=\"M 0 0 M147.362 391.323 L152.246 391.323 L152.246 397.203 L147.362 397.203 L147.362 391.323 Z\" fill=\"#000000\" fill-rule=\"evenodd\" fill-opacity=\"1\" /><path clip-path=\"url(#clip100)\" d=\"M 0 0 M166.459 393.268 L182.778 393.268 L182.778 397.203 L160.834 397.203 L160.834 393.268 Q163.496 390.513 168.079 385.883 Q172.686 381.231 173.866 379.888 Q176.112 377.365 176.991 375.629 Q177.894 373.87 177.894 372.18 Q177.894 369.425 175.95 367.689 Q174.028 365.953 170.927 365.953 Q168.727 365.953 166.274 366.717 Q163.843 367.481 161.065 369.032 L161.065 364.31 Q163.89 363.175 166.343 362.597 Q168.797 362.018 170.834 362.018 Q176.204 362.018 179.399 364.703 Q182.593 367.388 182.593 371.879 Q182.593 374.009 181.783 375.93 Q180.996 377.828 178.889 380.421 Q178.311 381.092 175.209 384.309 Q172.107 387.504 166.459 393.268 Z\" fill=\"#000000\" fill-rule=\"evenodd\" fill-opacity=\"1\" /><path clip-path=\"url(#clip100)\" d=\"M 0 0 M192.639 362.643 L210.996 362.643 L210.996 366.578 L196.922 366.578 L196.922 375.05 Q197.94 374.703 198.959 374.541 Q199.977 374.356 200.996 374.356 Q206.783 374.356 210.162 377.527 Q213.542 380.698 213.542 386.115 Q213.542 391.694 210.07 394.795 Q206.598 397.874 200.278 397.874 Q198.102 397.874 195.834 397.504 Q193.588 397.133 191.181 396.393 L191.181 391.694 Q193.264 392.828 195.487 393.383 Q197.709 393.939 200.186 393.939 Q204.19 393.939 206.528 391.833 Q208.866 389.726 208.866 386.115 Q208.866 382.504 206.528 380.397 Q204.19 378.291 200.186 378.291 Q198.311 378.291 196.436 378.708 Q194.584 379.124 192.639 380.004 L192.639 362.643 Z\" fill=\"#000000\" fill-rule=\"evenodd\" fill-opacity=\"1\" /><path clip-path=\"url(#clip100)\" d=\"M 0 0 M126.205 147.601 Q122.593 147.601 120.765 151.166 Q118.959 154.707 118.959 161.837 Q118.959 168.943 120.765 172.508 Q122.593 176.05 126.205 176.05 Q129.839 176.05 131.644 172.508 Q133.473 168.943 133.473 161.837 Q133.473 154.707 131.644 151.166 Q129.839 147.601 126.205 147.601 M126.205 143.897 Q132.015 143.897 135.07 148.504 Q138.149 153.087 138.149 161.837 Q138.149 170.564 135.07 175.17 Q132.015 179.754 126.205 179.754 Q120.394 179.754 117.316 175.17 Q114.26 170.564 114.26 161.837 Q114.26 153.087 117.316 148.504 Q120.394 143.897 126.205 143.897 Z\" fill=\"#000000\" fill-rule=\"evenodd\" fill-opacity=\"1\" /><path clip-path=\"url(#clip100)\" d=\"M 0 0 M146.366 173.203 L151.251 173.203 L151.251 179.082 L146.366 179.082 L146.366 173.203 Z\" fill=\"#000000\" fill-rule=\"evenodd\" fill-opacity=\"1\" /><path clip-path=\"url(#clip100)\" d=\"M 0 0 M175.602 160.448 Q178.959 161.166 180.834 163.434 Q182.732 165.703 182.732 169.036 Q182.732 174.152 179.214 176.953 Q175.695 179.754 169.214 179.754 Q167.038 179.754 164.723 179.314 Q162.431 178.897 159.978 178.041 L159.978 173.527 Q161.922 174.661 164.237 175.24 Q166.552 175.818 169.075 175.818 Q173.473 175.818 175.764 174.082 Q178.079 172.346 178.079 169.036 Q178.079 165.981 175.926 164.268 Q173.797 162.531 169.977 162.531 L165.95 162.531 L165.95 158.689 L170.163 158.689 Q173.612 158.689 175.44 157.323 Q177.269 155.934 177.269 153.342 Q177.269 150.68 175.371 149.268 Q173.496 147.832 169.977 147.832 Q168.056 147.832 165.857 148.249 Q163.658 148.666 161.019 149.545 L161.019 145.379 Q163.681 144.638 165.996 144.268 Q168.334 143.897 170.394 143.897 Q175.718 143.897 178.82 146.328 Q181.922 148.735 181.922 152.856 Q181.922 155.726 180.278 157.717 Q178.635 159.684 175.602 160.448 Z\" fill=\"#000000\" fill-rule=\"evenodd\" fill-opacity=\"1\" /><path clip-path=\"url(#clip100)\" d=\"M 0 0 M201.598 147.601 Q197.987 147.601 196.158 151.166 Q194.352 154.707 194.352 161.837 Q194.352 168.943 196.158 172.508 Q197.987 176.05 201.598 176.05 Q205.232 176.05 207.037 172.508 Q208.866 168.943 208.866 161.837 Q208.866 154.707 207.037 151.166 Q205.232 147.601 201.598 147.601 M201.598 143.897 Q207.408 143.897 210.463 148.504 Q213.542 153.087 213.542 161.837 Q213.542 170.564 210.463 175.17 Q207.408 179.754 201.598 179.754 Q195.787 179.754 192.709 175.17 Q189.653 170.564 189.653 161.837 Q189.653 153.087 192.709 148.504 Q195.787 143.897 201.598 143.897 Z\" fill=\"#000000\" fill-rule=\"evenodd\" fill-opacity=\"1\" /><path clip-path=\"url(#clip100)\" d=\"M 0 0 M16.4842 953.985 L16.4842 913.785 L21.895 913.785 L21.895 930.654 L64.0042 930.654 L64.0042 937.116 L21.895 937.116 L21.895 953.985 L16.4842 953.985 Z\" fill=\"#000000\" fill-rule=\"evenodd\" fill-opacity=\"1\" /><path clip-path=\"url(#clip100)\" d=\"M 0 0 M42.4881 878.201 L64.0042 878.201 L64.0042 884.057 L42.679 884.057 Q37.6183 884.057 35.1038 886.031 Q32.5894 888.004 32.5894 891.951 Q32.5894 896.693 35.6131 899.431 Q38.6368 902.168 43.8567 902.168 L64.0042 902.168 L64.0042 908.056 L14.479 908.056 L14.479 902.168 L33.8944 902.168 Q30.6797 900.067 29.0883 897.234 Q27.4968 894.37 27.4968 890.646 Q27.4968 884.503 31.3163 881.352 Q35.1038 878.201 42.4881 878.201 Z\" fill=\"#000000\" fill-rule=\"evenodd\" fill-opacity=\"1\" /><path clip-path=\"url(#clip100)\" d=\"M 0 0 M33.8307 845.863 Q33.2578 846.85 33.0032 848.028 Q32.7167 849.173 32.7167 850.574 Q32.7167 855.539 35.9632 858.213 Q39.1779 860.854 45.2253 860.854 L64.0042 860.854 L64.0042 866.743 L28.3562 866.743 L28.3562 860.854 L33.8944 860.854 Q30.6479 859.008 29.0883 856.048 Q27.4968 853.088 27.4968 848.855 Q27.4968 848.25 27.5923 847.518 Q27.656 846.786 27.8151 845.895 L33.8307 845.863 Z\" fill=\"#000000\" fill-rule=\"evenodd\" fill-opacity=\"1\" /><path clip-path=\"url(#clip100)\" d=\"M 0 0 M49.9359 840.325 L28.3562 840.325 L28.3562 834.469 L49.7131 834.469 Q54.7739 834.469 57.3202 832.495 Q59.8346 830.522 59.8346 826.575 Q59.8346 821.833 56.8109 819.095 Q53.7872 816.326 48.5673 816.326 L28.3562 816.326 L28.3562 810.47 L64.0042 810.47 L64.0042 816.326 L58.5296 816.326 Q61.7762 818.459 63.3676 821.292 Q64.9272 824.092 64.9272 827.816 Q64.9272 833.959 61.1078 837.142 Q57.2883 840.325 49.9359 840.325 M27.4968 825.588 L27.4968 825.588 Z\" fill=\"#000000\" fill-rule=\"evenodd\" fill-opacity=\"1\" /><path clip-path=\"url(#clip100)\" d=\"M 0 0 M29.4065 775.681 L34.9447 775.681 Q33.6716 778.164 33.035 780.838 Q32.3984 783.511 32.3984 786.376 Q32.3984 790.736 33.7352 792.932 Q35.072 795.097 37.7456 795.097 Q39.7826 795.097 40.9603 793.537 Q42.1061 791.978 43.1565 787.267 L43.6021 785.262 Q44.9389 779.023 47.3897 776.413 Q49.8086 773.772 54.1691 773.772 Q59.1344 773.772 62.0308 777.718 Q64.9272 781.633 64.9272 788.508 Q64.9272 791.373 64.3543 794.492 Q63.8132 797.579 62.6992 801.017 L56.6518 801.017 Q58.3387 797.77 59.198 794.619 Q60.0256 791.468 60.0256 788.381 Q60.0256 784.243 58.6251 782.015 Q57.1929 779.787 54.6147 779.787 Q52.2276 779.787 50.9545 781.41 Q49.6813 783.002 48.5037 788.445 L48.0262 790.482 Q46.8804 795.924 44.5251 798.343 Q42.138 800.762 38.0002 800.762 Q32.9713 800.762 30.2341 797.197 Q27.4968 793.633 27.4968 787.076 Q27.4968 783.829 27.9743 780.965 Q28.4517 778.1 29.4065 775.681 Z\" fill=\"#000000\" fill-rule=\"evenodd\" fill-opacity=\"1\" /><path clip-path=\"url(#clip100)\" d=\"M 0 0 M18.2347 758.653 L28.3562 758.653 L28.3562 746.59 L32.9077 746.59 L32.9077 758.653 L52.2594 758.653 Q56.6199 758.653 57.8613 757.475 Q59.1026 756.266 59.1026 752.606 L59.1026 746.59 L64.0042 746.59 L64.0042 752.606 Q64.0042 759.385 61.4897 761.963 Q58.9434 764.541 52.2594 764.541 L32.9077 764.541 L32.9077 768.838 L28.3562 768.838 L28.3562 764.541 L18.2347 764.541 L18.2347 758.653 Z\" fill=\"#000000\" fill-rule=\"evenodd\" fill-opacity=\"1\" /><path clip-path=\"url(#clip100)\" d=\"M 0 0 M16.4842 717.913 L16.4842 708.332 L48.8219 696.205 L16.4842 684.015 L16.4842 674.435 L64.0042 674.435 L64.0042 680.705 L22.277 680.705 L54.8694 692.959 L54.8694 699.42 L22.277 711.674 L64.0042 711.674 L64.0042 717.913 L16.4842 717.913 Z\" fill=\"#000000\" fill-rule=\"evenodd\" fill-opacity=\"1\" /><path clip-path=\"url(#clip100)\" d=\"M 0 0 M46.0847 645.725 Q46.0847 652.823 47.7079 655.56 Q49.3312 658.298 53.2461 658.298 Q56.3653 658.298 58.2114 656.261 Q60.0256 654.192 60.0256 650.659 Q60.0256 645.789 56.5881 642.861 Q53.1188 639.901 47.3897 639.901 L46.0847 639.901 L46.0847 645.725 M43.6657 634.044 L64.0042 634.044 L64.0042 639.901 L58.5933 639.901 Q61.8398 641.906 63.3994 644.898 Q64.9272 647.89 64.9272 652.218 Q64.9272 657.693 61.8716 660.939 Q58.7843 664.154 53.6281 664.154 Q47.6125 664.154 44.5569 660.144 Q41.5014 656.101 41.5014 648.113 L41.5014 639.901 L40.9285 639.901 Q36.8862 639.901 34.6901 642.574 Q32.4621 645.216 32.4621 650.022 Q32.4621 653.078 33.1941 655.974 Q33.9262 658.871 35.3903 661.544 L29.9795 661.544 Q28.7381 658.329 28.1334 655.306 Q27.4968 652.282 27.4968 649.418 Q27.4968 641.683 31.5072 637.864 Q35.5176 634.044 43.6657 634.044 Z\" fill=\"#000000\" fill-rule=\"evenodd\" fill-opacity=\"1\" /><path clip-path=\"url(#clip100)\" d=\"M 0 0 M45.7664 598.524 Q39.4007 598.524 35.8996 601.165 Q32.3984 603.775 32.3984 608.518 Q32.3984 613.228 35.8996 615.87 Q39.4007 618.48 45.7664 618.48 Q52.1003 618.48 55.6014 615.87 Q59.1026 613.228 59.1026 608.518 Q59.1026 603.775 55.6014 601.165 Q52.1003 598.524 45.7664 598.524 M59.58 592.667 Q68.683 592.667 73.1071 596.709 Q77.5631 600.752 77.5631 609.091 Q77.5631 612.178 77.0857 614.915 Q76.6401 617.653 75.6852 620.231 L69.9879 620.231 Q71.3884 617.653 72.0568 615.138 Q72.7252 612.624 72.7252 610.014 Q72.7252 604.253 69.7015 601.388 Q66.7096 598.524 60.6303 598.524 L57.7339 598.524 Q60.885 600.338 62.4446 603.171 Q64.0042 606.003 64.0042 609.95 Q64.0042 616.507 59.0071 620.517 Q54.01 624.528 45.7664 624.528 Q37.491 624.528 32.4939 620.517 Q27.4968 616.507 27.4968 609.95 Q27.4968 606.003 29.0564 603.171 Q30.616 600.338 33.7671 598.524 L28.3562 598.524 L28.3562 592.667 L59.58 592.667 Z\" fill=\"#000000\" fill-rule=\"evenodd\" fill-opacity=\"1\" /><path clip-path=\"url(#clip100)\" d=\"M 0 0 M514.848 12.096 L566.011 12.096 L566.011 18.9825 L544.541 18.9825 L544.541 72.576 L536.318 72.576 L536.318 18.9825 L514.848 18.9825 L514.848 12.096 Z\" fill=\"#000000\" fill-rule=\"evenodd\" fill-opacity=\"1\" /><path clip-path=\"url(#clip100)\" d=\"M 0 0 M611.3 45.1919 L611.3 72.576 L603.847 72.576 L603.847 45.4349 Q603.847 38.994 601.335 35.7938 Q598.823 32.5936 593.8 32.5936 Q587.764 32.5936 584.281 36.4419 Q580.797 40.2903 580.797 46.9338 L580.797 72.576 L573.303 72.576 L573.303 9.54393 L580.797 9.54393 L580.797 34.2544 Q583.471 30.163 587.076 28.1376 Q590.722 26.1121 595.461 26.1121 Q603.279 26.1121 607.29 30.9732 Q611.3 35.7938 611.3 45.1919 Z\" fill=\"#000000\" fill-rule=\"evenodd\" fill-opacity=\"1\" /><path clip-path=\"url(#clip100)\" d=\"M 0 0 M652.457 34.1734 Q651.202 33.4443 649.703 33.1202 Q648.244 32.7556 646.462 32.7556 Q640.143 32.7556 636.74 36.8875 Q633.378 40.9789 633.378 48.6757 L633.378 72.576 L625.883 72.576 L625.883 27.2059 L633.378 27.2059 L633.378 34.2544 Q635.727 30.1225 639.495 28.1376 Q643.262 26.1121 648.65 26.1121 Q649.419 26.1121 650.351 26.2337 Q651.283 26.3147 652.417 26.5172 L652.457 34.1734 Z\" fill=\"#000000\" fill-rule=\"evenodd\" fill-opacity=\"1\" /><path clip-path=\"url(#clip100)\" d=\"M 0 0 M659.506 54.671 L659.506 27.2059 L666.96 27.2059 L666.96 54.3874 Q666.96 60.8284 669.471 64.0691 Q671.983 67.2693 677.006 67.2693 Q683.042 67.2693 686.526 63.421 Q690.05 59.5726 690.05 52.9291 L690.05 27.2059 L697.503 27.2059 L697.503 72.576 L690.05 72.576 L690.05 65.6084 Q687.336 69.7404 683.73 71.7658 Q680.166 73.7508 675.426 73.7508 Q667.608 73.7508 663.557 68.8897 Q659.506 64.0286 659.506 54.671 M678.262 26.1121 L678.262 26.1121 Z\" fill=\"#000000\" fill-rule=\"evenodd\" fill-opacity=\"1\" /><path clip-path=\"url(#clip100)\" d=\"M 0 0 M741.78 28.5427 L741.78 35.5912 Q738.62 33.9709 735.217 33.1607 Q731.815 32.3505 728.169 32.3505 Q722.619 32.3505 719.824 34.0519 Q717.069 35.7533 717.069 39.156 Q717.069 41.7486 719.054 43.2475 Q721.039 44.7058 727.035 46.0426 L729.587 46.6097 Q737.526 48.3111 740.848 51.4303 Q744.21 54.509 744.21 60.0587 Q744.21 66.3781 739.187 70.0644 Q734.205 73.7508 725.455 73.7508 Q721.809 73.7508 717.839 73.0216 Q713.91 72.3329 709.535 70.9151 L709.535 63.2184 Q713.667 65.3654 717.677 66.4591 Q721.687 67.5124 725.617 67.5124 Q730.883 67.5124 733.719 65.73 Q736.554 63.9071 736.554 60.6258 Q736.554 57.5877 734.488 55.9673 Q732.463 54.3469 725.536 52.8481 L722.943 52.2405 Q716.016 50.7821 712.937 47.7845 Q709.859 44.7463 709.859 39.4801 Q709.859 33.0797 714.396 29.5959 Q718.933 26.1121 727.278 26.1121 Q731.41 26.1121 735.055 26.7198 Q738.701 27.3274 741.78 28.5427 Z\" fill=\"#000000\" fill-rule=\"evenodd\" fill-opacity=\"1\" /><path clip-path=\"url(#clip100)\" d=\"M 0 0 M763.452 14.324 L763.452 27.2059 L778.805 27.2059 L778.805 32.9987 L763.452 32.9987 L763.452 57.6282 Q763.452 63.1779 764.951 64.7578 Q766.49 66.3376 771.149 66.3376 L778.805 66.3376 L778.805 72.576 L771.149 72.576 Q762.52 72.576 759.239 69.3758 Q755.958 66.1351 755.958 57.6282 L755.958 32.9987 L750.489 32.9987 L750.489 27.2059 L755.958 27.2059 L755.958 14.324 L763.452 14.324 Z\" fill=\"#000000\" fill-rule=\"evenodd\" fill-opacity=\"1\" /><path clip-path=\"url(#clip100)\" d=\"M 0 0 M815.304 12.096 L827.497 12.096 L842.931 53.2532 L858.446 12.096 L870.639 12.096 L870.639 72.576 L862.659 72.576 L862.659 19.4686 L847.063 60.9499 L838.84 60.9499 L823.244 19.4686 L823.244 72.576 L815.304 72.576 L815.304 12.096 Z\" fill=\"#000000\" fill-rule=\"evenodd\" fill-opacity=\"1\" /><path clip-path=\"url(#clip100)\" d=\"M 0 0 M907.178 49.7694 Q898.145 49.7694 894.661 51.8354 Q891.177 53.9013 891.177 58.8839 Q891.177 62.8538 893.77 65.2034 Q896.403 67.5124 900.899 67.5124 Q907.097 67.5124 910.824 63.1374 Q914.591 58.7219 914.591 51.4303 L914.591 49.7694 L907.178 49.7694 M922.045 46.6907 L922.045 72.576 L914.591 72.576 L914.591 65.6895 Q912.039 69.8214 908.232 71.8063 Q904.424 73.7508 898.914 73.7508 Q891.947 73.7508 887.815 69.8619 Q883.724 65.9325 883.724 59.3701 Q883.724 51.7138 888.828 47.825 Q893.972 43.9361 904.14 43.9361 L914.591 43.9361 L914.591 43.2069 Q914.591 38.0623 911.189 35.2672 Q907.826 32.4315 901.71 32.4315 Q897.821 32.4315 894.134 33.3632 Q890.448 34.295 887.045 36.1584 L887.045 29.2718 Q891.137 27.692 894.985 26.9223 Q898.833 26.1121 902.479 26.1121 Q912.323 26.1121 917.184 31.2163 Q922.045 36.3204 922.045 46.6907 Z\" fill=\"#000000\" fill-rule=\"evenodd\" fill-opacity=\"1\" /><path clip-path=\"url(#clip100)\" d=\"M 0 0 M967.253 49.3643 Q967.253 41.2625 963.891 36.8065 Q960.569 32.3505 954.533 32.3505 Q948.538 32.3505 945.176 36.8065 Q941.854 41.2625 941.854 49.3643 Q941.854 57.4256 945.176 61.8816 Q948.538 66.3376 954.533 66.3376 Q960.569 66.3376 963.891 61.8816 Q967.253 57.4256 967.253 49.3643 M974.707 66.9452 Q974.707 78.5308 969.562 84.1616 Q964.418 89.8329 953.804 89.8329 Q949.875 89.8329 946.391 89.2252 Q942.907 88.6581 939.626 87.4428 L939.626 80.1917 Q942.907 81.9741 946.107 82.8248 Q949.308 83.6755 952.629 83.6755 Q959.962 83.6755 963.607 79.8271 Q967.253 76.0193 967.253 68.282 L967.253 64.5957 Q964.944 68.6061 961.339 70.5911 Q957.734 72.576 952.71 72.576 Q944.366 72.576 939.261 66.2161 Q934.157 59.8562 934.157 49.3643 Q934.157 38.832 939.261 32.472 Q944.366 26.1121 952.71 26.1121 Q957.734 26.1121 961.339 28.0971 Q964.944 30.082 967.253 34.0924 L967.253 27.2059 L974.707 27.2059 L974.707 66.9452 Z\" fill=\"#000000\" fill-rule=\"evenodd\" fill-opacity=\"1\" /><path clip-path=\"url(#clip100)\" d=\"M 0 0 M1011.08 27.2059 L1018.98 27.2059 L1033.16 65.2844 L1047.34 27.2059 L1055.24 27.2059 L1038.23 72.576 L1028.1 72.576 L1011.08 27.2059 Z\" fill=\"#000000\" fill-rule=\"evenodd\" fill-opacity=\"1\" /><path clip-path=\"url(#clip100)\" d=\"M 0 0 M1094.45 28.5427 L1094.45 35.5912 Q1091.29 33.9709 1087.89 33.1607 Q1084.49 32.3505 1080.84 32.3505 Q1075.29 32.3505 1072.5 34.0519 Q1069.74 35.7533 1069.74 39.156 Q1069.74 41.7486 1071.73 43.2475 Q1073.71 44.7058 1079.71 46.0426 L1082.26 46.6097 Q1090.2 48.3111 1093.52 51.4303 Q1096.88 54.509 1096.88 60.0587 Q1096.88 66.3781 1091.86 70.0644 Q1086.88 73.7508 1078.13 73.7508 Q1074.48 73.7508 1070.51 73.0216 Q1066.58 72.3329 1062.21 70.9151 L1062.21 63.2184 Q1066.34 65.3654 1070.35 66.4591 Q1074.36 67.5124 1078.29 67.5124 Q1083.55 67.5124 1086.39 65.73 Q1089.23 63.9071 1089.23 60.6258 Q1089.23 57.5877 1087.16 55.9673 Q1085.13 54.3469 1078.21 52.8481 L1075.61 52.2405 Q1068.69 50.7821 1065.61 47.7845 Q1062.53 44.7463 1062.53 39.4801 Q1062.53 33.0797 1067.07 29.5959 Q1071.6 26.1121 1079.95 26.1121 Q1084.08 26.1121 1087.73 26.7198 Q1091.37 27.3274 1094.45 28.5427 Z\" fill=\"#000000\" fill-rule=\"evenodd\" fill-opacity=\"1\" /><path clip-path=\"url(#clip100)\" d=\"M 0 0 M1109.8 62.2867 L1118.35 62.2867 L1118.35 72.576 L1109.8 72.576 L1109.8 62.2867 Z\" fill=\"#000000\" fill-rule=\"evenodd\" fill-opacity=\"1\" /><path clip-path=\"url(#clip100)\" d=\"M 0 0 M1153.43 12.096 L1204.6 12.096 L1204.6 18.9825 L1183.13 18.9825 L1183.13 72.576 L1174.9 72.576 L1174.9 18.9825 L1153.43 18.9825 L1153.43 12.096 Z\" fill=\"#000000\" fill-rule=\"evenodd\" fill-opacity=\"1\" /><path clip-path=\"url(#clip100)\" d=\"M 0 0 M1209.62 27.2059 L1217.07 27.2059 L1217.07 72.576 L1209.62 72.576 L1209.62 27.2059 M1209.62 9.54393 L1217.07 9.54393 L1217.07 18.9825 L1209.62 18.9825 L1209.62 9.54393 Z\" fill=\"#000000\" fill-rule=\"evenodd\" fill-opacity=\"1\" /><path clip-path=\"url(#clip100)\" d=\"M 0 0 M1267.99 35.9153 Q1270.79 30.8922 1274.68 28.5022 Q1278.57 26.1121 1283.83 26.1121 Q1290.92 26.1121 1294.77 31.0947 Q1298.62 36.0368 1298.62 45.1919 L1298.62 72.576 L1291.12 72.576 L1291.12 45.4349 Q1291.12 38.913 1288.81 35.7533 Q1286.5 32.5936 1281.77 32.5936 Q1275.97 32.5936 1272.61 36.4419 Q1269.25 40.2903 1269.25 46.9338 L1269.25 72.576 L1261.75 72.576 L1261.75 45.4349 Q1261.75 38.8725 1259.44 35.7533 Q1257.14 32.5936 1252.32 32.5936 Q1246.6 32.5936 1243.24 36.4824 Q1239.88 40.3308 1239.88 46.9338 L1239.88 72.576 L1232.38 72.576 L1232.38 27.2059 L1239.88 27.2059 L1239.88 34.2544 Q1242.43 30.082 1246 28.0971 Q1249.56 26.1121 1254.46 26.1121 Q1259.4 26.1121 1262.85 28.6237 Q1266.33 31.1352 1267.99 35.9153 Z\" fill=\"#000000\" fill-rule=\"evenodd\" fill-opacity=\"1\" /><path clip-path=\"url(#clip100)\" d=\"M 0 0 M1352.29 48.0275 L1352.29 51.6733 L1318.02 51.6733 Q1318.51 59.3701 1322.64 63.421 Q1326.81 67.4314 1334.22 67.4314 Q1338.52 67.4314 1342.53 66.3781 Q1346.58 65.3249 1350.55 63.2184 L1350.55 70.267 Q1346.54 71.9684 1342.33 72.8596 Q1338.11 73.7508 1333.78 73.7508 Q1322.92 73.7508 1316.56 67.4314 Q1310.24 61.1119 1310.24 50.3365 Q1310.24 39.1965 1316.24 32.6746 Q1322.27 26.1121 1332.48 26.1121 Q1341.64 26.1121 1346.94 32.0264 Q1352.29 37.9003 1352.29 48.0275 M1344.84 45.84 Q1344.76 39.7232 1341.39 36.0774 Q1338.07 32.4315 1332.56 32.4315 Q1326.33 32.4315 1322.56 35.9558 Q1318.83 39.4801 1318.26 45.8805 L1344.84 45.84 Z\" fill=\"#000000\" fill-rule=\"evenodd\" fill-opacity=\"1\" /><path clip-path=\"url(#clip100)\" d=\"M 0 0 M1366.43 62.2867 L1374.98 62.2867 L1374.98 72.576 L1366.43 72.576 L1366.43 62.2867 M1366.43 29.6769 L1374.98 29.6769 L1374.98 39.9662 L1366.43 39.9662 L1366.43 29.6769 Z\" fill=\"#000000\" fill-rule=\"evenodd\" fill-opacity=\"1\" /><path clip-path=\"url(#clip100)\" d=\"M 0 0 M1447.85 44.2197 Q1450.49 45.1109 1452.96 48.0275 Q1455.47 50.9442 1457.98 56.0483 L1466.28 72.576 L1457.49 72.576 L1449.76 57.061 Q1446.76 50.9847 1443.92 48.9997 Q1441.13 47.0148 1436.27 47.0148 L1427.35 47.0148 L1427.35 72.576 L1419.17 72.576 L1419.17 12.096 L1437.64 12.096 Q1448.01 12.096 1453.12 16.4305 Q1458.22 20.7649 1458.22 29.5149 Q1458.22 35.2267 1455.55 38.994 Q1452.92 42.7613 1447.85 44.2197 M1427.35 18.8205 L1427.35 40.2903 L1437.64 40.2903 Q1443.56 40.2903 1446.56 37.5762 Q1449.59 34.8216 1449.59 29.5149 Q1449.59 24.2082 1446.56 21.5346 Q1443.56 18.8205 1437.64 18.8205 L1427.35 18.8205 Z\" fill=\"#000000\" fill-rule=\"evenodd\" fill-opacity=\"1\" /><path clip-path=\"url(#clip100)\" d=\"M 0 0 M1511.57 48.0275 L1511.57 51.6733 L1477.3 51.6733 Q1477.79 59.3701 1481.92 63.421 Q1486.09 67.4314 1493.51 67.4314 Q1497.8 67.4314 1501.81 66.3781 Q1505.86 65.3249 1509.83 63.2184 L1509.83 70.267 Q1505.82 71.9684 1501.61 72.8596 Q1497.4 73.7508 1493.06 73.7508 Q1482.2 73.7508 1475.84 67.4314 Q1469.52 61.1119 1469.52 50.3365 Q1469.52 39.1965 1475.52 32.6746 Q1481.56 26.1121 1491.76 26.1121 Q1500.92 26.1121 1506.23 32.0264 Q1511.57 37.9003 1511.57 48.0275 M1504.12 45.84 Q1504.04 39.7232 1500.68 36.0774 Q1497.35 32.4315 1491.85 32.4315 Q1485.61 32.4315 1481.84 35.9558 Q1478.11 39.4801 1477.55 45.8805 L1504.12 45.84 Z\" fill=\"#000000\" fill-rule=\"evenodd\" fill-opacity=\"1\" /><path clip-path=\"url(#clip100)\" d=\"M 0 0 M1546.78 9.54393 L1546.78 15.7418 L1539.65 15.7418 Q1535.64 15.7418 1534.06 17.3622 Q1532.52 18.9825 1532.52 23.1955 L1532.52 27.2059 L1544.79 27.2059 L1544.79 32.9987 L1532.52 32.9987 L1532.52 72.576 L1525.02 72.576 L1525.02 32.9987 L1517.89 32.9987 L1517.89 27.2059 L1525.02 27.2059 L1525.02 24.0462 Q1525.02 16.471 1528.55 13.0277 Q1532.07 9.54393 1539.73 9.54393 L1546.78 9.54393 Z\" fill=\"#000000\" fill-rule=\"evenodd\" fill-opacity=\"1\" /><path clip-path=\"url(#clip100)\" d=\"M 0 0 M1591.82 48.0275 L1591.82 51.6733 L1557.55 51.6733 Q1558.04 59.3701 1562.17 63.421 Q1566.34 67.4314 1573.75 67.4314 Q1578.05 67.4314 1582.06 66.3781 Q1586.11 65.3249 1590.08 63.2184 L1590.08 70.267 Q1586.07 71.9684 1581.86 72.8596 Q1577.64 73.7508 1573.31 73.7508 Q1562.45 73.7508 1556.09 67.4314 Q1549.77 61.1119 1549.77 50.3365 Q1549.77 39.1965 1555.77 32.6746 Q1561.8 26.1121 1572.01 26.1121 Q1581.17 26.1121 1586.47 32.0264 Q1591.82 37.9003 1591.82 48.0275 M1584.37 45.84 Q1584.29 39.7232 1580.92 36.0774 Q1577.6 32.4315 1572.09 32.4315 Q1565.86 32.4315 1562.09 35.9558 Q1558.36 39.4801 1557.79 45.8805 L1584.37 45.84 Z\" fill=\"#000000\" fill-rule=\"evenodd\" fill-opacity=\"1\" /><path clip-path=\"url(#clip100)\" d=\"M 0 0 M1630.35 34.1734 Q1629.09 33.4443 1627.59 33.1202 Q1626.13 32.7556 1624.35 32.7556 Q1618.03 32.7556 1614.63 36.8875 Q1611.27 40.9789 1611.27 48.6757 L1611.27 72.576 L1603.77 72.576 L1603.77 27.2059 L1611.27 27.2059 L1611.27 34.2544 Q1613.62 30.1225 1617.38 28.1376 Q1621.15 26.1121 1626.54 26.1121 Q1627.31 26.1121 1628.24 26.2337 Q1629.17 26.3147 1630.31 26.5172 L1630.35 34.1734 Z\" fill=\"#000000\" fill-rule=\"evenodd\" fill-opacity=\"1\" /><path clip-path=\"url(#clip100)\" d=\"M 0 0 M1675.15 48.0275 L1675.15 51.6733 L1640.88 51.6733 Q1641.36 59.3701 1645.5 63.421 Q1649.67 67.4314 1657.08 67.4314 Q1661.38 67.4314 1665.39 66.3781 Q1669.44 65.3249 1673.41 63.2184 L1673.41 70.267 Q1669.4 71.9684 1665.18 72.8596 Q1660.97 73.7508 1656.64 73.7508 Q1645.78 73.7508 1639.42 67.4314 Q1633.1 61.1119 1633.1 50.3365 Q1633.1 39.1965 1639.1 32.6746 Q1645.13 26.1121 1655.34 26.1121 Q1664.49 26.1121 1669.8 32.0264 Q1675.15 37.9003 1675.15 48.0275 M1667.7 45.84 Q1667.61 39.7232 1664.25 36.0774 Q1660.93 32.4315 1655.42 32.4315 Q1649.18 32.4315 1645.42 35.9558 Q1641.69 39.4801 1641.12 45.8805 L1667.7 45.84 Z\" fill=\"#000000\" fill-rule=\"evenodd\" fill-opacity=\"1\" /><path clip-path=\"url(#clip100)\" d=\"M 0 0 M1725.1 45.1919 L1725.1 72.576 L1717.64 72.576 L1717.64 45.4349 Q1717.64 38.994 1715.13 35.7938 Q1712.62 32.5936 1707.6 32.5936 Q1701.56 32.5936 1698.08 36.4419 Q1694.59 40.2903 1694.59 46.9338 L1694.59 72.576 L1687.1 72.576 L1687.1 27.2059 L1694.59 27.2059 L1694.59 34.2544 Q1697.27 30.163 1700.87 28.1376 Q1704.52 26.1121 1709.26 26.1121 Q1717.08 26.1121 1721.09 30.9732 Q1725.1 35.7938 1725.1 45.1919 Z\" fill=\"#000000\" fill-rule=\"evenodd\" fill-opacity=\"1\" /><path clip-path=\"url(#clip100)\" d=\"M 0 0 M1772.61 28.9478 L1772.61 35.9153 Q1769.45 34.1734 1766.25 33.3227 Q1763.09 32.4315 1759.85 32.4315 Q1752.6 32.4315 1748.59 37.0496 Q1744.58 41.6271 1744.58 49.9314 Q1744.58 58.2358 1748.59 62.8538 Q1752.6 67.4314 1759.85 67.4314 Q1763.09 67.4314 1766.25 66.5807 Q1769.45 65.6895 1772.61 63.9476 L1772.61 70.8341 Q1769.49 72.2924 1766.13 73.0216 Q1762.81 73.7508 1759.04 73.7508 Q1748.79 73.7508 1742.76 67.3098 Q1736.72 60.8689 1736.72 49.9314 Q1736.72 38.832 1742.8 32.472 Q1748.92 26.1121 1759.53 26.1121 Q1762.97 26.1121 1766.25 26.8413 Q1769.53 27.5299 1772.61 28.9478 Z\" fill=\"#000000\" fill-rule=\"evenodd\" fill-opacity=\"1\" /><path clip-path=\"url(#clip100)\" d=\"M 0 0 M1824.38 48.0275 L1824.38 51.6733 L1790.11 51.6733 Q1790.6 59.3701 1794.73 63.421 Q1798.9 67.4314 1806.32 67.4314 Q1810.61 67.4314 1814.62 66.3781 Q1818.67 65.3249 1822.64 63.2184 L1822.64 70.267 Q1818.63 71.9684 1814.42 72.8596 Q1810.21 73.7508 1805.87 73.7508 Q1795.01 73.7508 1788.66 67.4314 Q1782.34 61.1119 1782.34 50.3365 Q1782.34 39.1965 1788.33 32.6746 Q1794.37 26.1121 1804.58 26.1121 Q1813.73 26.1121 1819.04 32.0264 Q1824.38 37.9003 1824.38 48.0275 M1816.93 45.84 Q1816.85 39.7232 1813.49 36.0774 Q1810.17 32.4315 1804.66 32.4315 Q1798.42 32.4315 1794.65 35.9558 Q1790.92 39.4801 1790.36 45.8805 L1816.93 45.84 Z\" fill=\"#000000\" fill-rule=\"evenodd\" fill-opacity=\"1\" /><path clip-path=\"url(#clip100)\" d=\"M 0 0 M1880.57 32.4315 Q1874.57 32.4315 1871.09 37.1306 Q1867.61 41.7891 1867.61 49.9314 Q1867.61 58.0738 1871.05 62.7728 Q1874.53 67.4314 1880.57 67.4314 Q1886.52 67.4314 1890.01 62.7323 Q1893.49 58.0333 1893.49 49.9314 Q1893.49 41.8701 1890.01 37.1711 Q1886.52 32.4315 1880.57 32.4315 M1880.57 26.1121 Q1890.29 26.1121 1895.84 32.4315 Q1901.39 38.7509 1901.39 49.9314 Q1901.39 61.0714 1895.84 67.4314 Q1890.29 73.7508 1880.57 73.7508 Q1870.81 73.7508 1865.26 67.4314 Q1859.75 61.0714 1859.75 49.9314 Q1859.75 38.7509 1865.26 32.4315 Q1870.81 26.1121 1880.57 26.1121 Z\" fill=\"#000000\" fill-rule=\"evenodd\" fill-opacity=\"1\" /><path clip-path=\"url(#clip100)\" d=\"M 0 0 M1940.04 34.1734 Q1938.78 33.4443 1937.28 33.1202 Q1935.82 32.7556 1934.04 32.7556 Q1927.72 32.7556 1924.32 36.8875 Q1920.96 40.9789 1920.96 48.6757 L1920.96 72.576 L1913.46 72.576 L1913.46 27.2059 L1920.96 27.2059 L1920.96 34.2544 Q1923.31 30.1225 1927.07 28.1376 Q1930.84 26.1121 1936.23 26.1121 Q1937 26.1121 1937.93 26.2337 Q1938.86 26.3147 1940 26.5172 L1940.04 34.1734 Z\" fill=\"#000000\" fill-rule=\"evenodd\" fill-opacity=\"1\" /><path clip-path=\"url(#clip100)\" d=\"M 0 0 M1980.42 49.9314 Q1980.42 41.7081 1977.02 37.0496 Q1973.66 32.3505 1967.75 32.3505 Q1961.83 32.3505 1958.43 37.0496 Q1955.07 41.7081 1955.07 49.9314 Q1955.07 58.1548 1958.43 62.8538 Q1961.83 67.5124 1967.75 67.5124 Q1973.66 67.5124 1977.02 62.8538 Q1980.42 58.1548 1980.42 49.9314 M1955.07 34.0924 Q1957.42 30.0415 1960.98 28.0971 Q1964.59 26.1121 1969.57 26.1121 Q1977.83 26.1121 1982.98 32.6746 Q1988.16 39.2371 1988.16 49.9314 Q1988.16 60.6258 1982.98 67.1883 Q1977.83 73.7508 1969.57 73.7508 Q1964.59 73.7508 1960.98 71.8063 Q1957.42 69.8214 1955.07 65.7705 L1955.07 72.576 L1947.57 72.576 L1947.57 9.54393 L1955.07 9.54393 L1955.07 34.0924 Z\" fill=\"#000000\" fill-rule=\"evenodd\" fill-opacity=\"1\" /><path clip-path=\"url(#clip100)\" d=\"M 0 0 M2000.52 27.2059 L2007.97 27.2059 L2007.97 72.576 L2000.52 72.576 L2000.52 27.2059 M2000.52 9.54393 L2007.97 9.54393 L2007.97 18.9825 L2000.52 18.9825 L2000.52 9.54393 Z\" fill=\"#000000\" fill-rule=\"evenodd\" fill-opacity=\"1\" /><path clip-path=\"url(#clip100)\" d=\"M 0 0 M2030.94 14.324 L2030.94 27.2059 L2046.29 27.2059 L2046.29 32.9987 L2030.94 32.9987 L2030.94 57.6282 Q2030.94 63.1779 2032.44 64.7578 Q2033.98 66.3376 2038.64 66.3376 L2046.29 66.3376 L2046.29 72.576 L2038.64 72.576 Q2030.01 72.576 2026.73 69.3758 Q2023.45 66.1351 2023.45 57.6282 L2023.45 32.9987 L2017.98 32.9987 L2017.98 27.2059 L2023.45 27.2059 L2023.45 14.324 L2030.94 14.324 Z\" fill=\"#000000\" fill-rule=\"evenodd\" fill-opacity=\"1\" /><path clip-path=\"url(#clip100)\" d=\"M 0 0 M2085.02 28.5427 L2085.02 35.5912 Q2081.86 33.9709 2078.46 33.1607 Q2075.05 32.3505 2071.41 32.3505 Q2065.86 32.3505 2063.06 34.0519 Q2060.31 35.7533 2060.31 39.156 Q2060.31 41.7486 2062.29 43.2475 Q2064.28 44.7058 2070.27 46.0426 L2072.83 46.6097 Q2080.77 48.3111 2084.09 51.4303 Q2087.45 54.509 2087.45 60.0587 Q2087.45 66.3781 2082.43 70.0644 Q2077.44 73.7508 2068.69 73.7508 Q2065.05 73.7508 2061.08 73.0216 Q2057.15 72.3329 2052.77 70.9151 L2052.77 63.2184 Q2056.91 65.3654 2060.92 66.4591 Q2064.93 67.5124 2068.86 67.5124 Q2074.12 67.5124 2076.96 65.73 Q2079.79 63.9071 2079.79 60.6258 Q2079.79 57.5877 2077.73 55.9673 Q2075.7 54.3469 2068.78 52.8481 L2066.18 52.2405 Q2059.26 50.7821 2056.18 47.7845 Q2053.1 44.7463 2053.1 39.4801 Q2053.1 33.0797 2057.64 29.5959 Q2062.17 26.1121 2070.52 26.1121 Q2074.65 26.1121 2078.29 26.7198 Q2081.94 27.3274 2085.02 28.5427 Z\" fill=\"#000000\" fill-rule=\"evenodd\" fill-opacity=\"1\" /><polyline clip-path=\"url(#clip102)\" style=\"stroke:#009af9; stroke-width:4; stroke-opacity:1; fill:none\" points=\"\n",
       "  309.067,1253.94 309.788,1259.27 310.894,1299.99 311.992,1354.4 312.747,1365.19 312.852,1358.55 312.933,1358.09 313.023,1355.39 313.232,1212.05 314.273,1199.64 \n",
       "  315.364,1289.43 316.458,1252.6 317.548,1264.95 318.587,1357.63 318.719,1360.53 318.793,1361.3 318.86,1363.56 318.942,1320.39 319.857,1262.62 320.957,1233.11 \n",
       "  322.063,1105.89 323.17,1097.11 324.276,1167.44 325.38,1195.84 326.47,1236.73 327.371,1349.56 327.495,1354.58 327.574,1356.46 327.638,1366.81 327.688,1358.29 \n",
       "  327.743,1357.81 327.798,1358.29 327.854,1365.95 327.906,1366.19 327.964,1366.64 328.031,1368.62 328.12,1298.5 328.783,1250.46 329.851,1240 330.95,1167.37 \n",
       "  332.055,736.183 333.066,1105.21 334.173,1186.62 335.279,876.92 336.386,579.775 337.491,354.632 338.597,216.674 339.702,160.256 340.807,191.664 341.913,293.204 \n",
       "  343.018,464.755 344.123,707.034 345.229,998.587 346.335,1182.57 347.442,1153.88 348.548,1123.94 349.654,924.775 350.76,661.25 351.866,444.01 352.971,299.742 \n",
       "  354.077,225.957 355.182,226.614 356.287,299.286 357.392,441.026 358.498,646.241 359.603,898.334 360.709,1115.17 361.815,1106.09 362.921,1038.33 364.028,1081.32 \n",
       "  365.134,1037.84 366.24,830.961 367.345,614.32 368.451,447.126 369.556,332.302 370.661,309.397 371.766,349.716 372.871,450.563 373.977,609.041 375.082,820.153 \n",
       "  376.187,1051.46 377.293,1165.96 378.399,1111.76 379.505,1068.51 380.611,1109.18 381.717,1135.86 382.823,1005.83 383.929,835.398 385.034,691.648 386.139,569.174 \n",
       "  387.244,532.365 388.349,540.19 389.454,598.315 390.559,707.213 391.664,858.854 392.77,1033.53 393.875,1174.52 394.981,1197.75 396.086,1134.88 397.192,1088.85 \n",
       "  398.298,1107.12 399.404,1144.77 400.509,1201.18 401.615,1088.78 402.72,982.969 403.825,886.392 404.93,819.172 406.035,817.538 407.14,851.494 408.245,920.19 \n",
       "  409.35,1015.16 410.455,1123.1 411.56,1215.42 412.665,1239.52 413.771,1210.91 414.876,1153.76 415.982,1152.36 417.087,1180.22 418.193,1214.73 419.298,1242.62 \n",
       "  420.403,1169.45 421.508,1093.02 422.613,1028.89 423.718,1070.81 424.823,1064.84 425.928,1104.49 427.033,1154.18 428.138,1201.67 429.243,1262.45 430.348,1239.64 \n",
       "  431.453,1243.19 432.558,1256.08 433.663,1092.14 434.769,1050.22 435.874,1215.38 436.98,1234.59 438.085,1266.67 439.19,1147.25 440.295,1119.55 441.401,1061.97 \n",
       "  442.506,1093.74 443.611,1253.3 444.716,1225.93 445.821,1274.28 446.926,1279.03 448.031,1311.59 449.136,1297.02 450.242,1324.51 451.347,1283.17 452.452,1243.05 \n",
       "  453.558,1221.55 454.663,1219.03 455.769,1260.18 456.874,1302.31 457.979,1318.24 459.085,1321.73 460.19,1295.72 461.295,1286.95 462.4,1291.81 463.505,1265.05 \n",
       "  464.611,1287.43 465.716,1305.4 466.821,1323.22 467.926,1346.44 469.031,1355.55 470.136,1298.23 471.242,1327.31 472.347,1305.97 473.452,1271.94 474.558,1231.01 \n",
       "  475.663,1336.26 476.768,1342.12 477.873,1287.18 478.978,1315.48 480.084,1337.52 481.189,1334.75 482.294,1330.38 483.399,1331.02 484.504,1318.84 485.609,1346.88 \n",
       "  486.714,1358.45 487.819,1316.93 488.924,1368.56 490.029,1347.14 491.135,1338.04 492.24,1327.26 493.345,1288.96 494.45,1330.66 495.555,1335.72 496.661,1333.19 \n",
       "  497.766,1337.86 498.871,1339.45 499.976,1348.92 501.081,1380.72 502.186,1378.7 503.291,1353.12 504.397,1370.18 505.502,1363.33 506.607,1348.97 507.712,1330.72 \n",
       "  508.817,1343.19 509.923,1345.99 511.028,1340.34 512.133,1346.66 513.238,1286.57 514.344,1336.41 515.449,1338.33 516.554,1356.75 517.659,1293.07 518.765,1364.99 \n",
       "  519.87,1349.52 520.975,1349.75 522.08,1342.15 523.185,1341.53 524.291,1345.06 525.396,1318.99 526.501,1372.07 527.607,1362.51 528.712,1357.81 529.817,1341.63 \n",
       "  530.922,1340.32 532.028,1336.13 533.133,1325.61 534.238,1347.32 535.344,1342.41 536.449,1343.75 537.554,1344.46 538.66,1345.28 539.765,1354.23 540.87,1350.07 \n",
       "  541.976,1356.66 543.081,1359.19 544.186,1363.13 545.291,1356.31 546.397,1336.37 547.502,1350.15 548.607,1335.18 549.713,1360.16 550.818,1351.6 551.923,1345.7 \n",
       "  553.029,1359.93 554.134,1357.89 555.239,1352.75 556.344,1273.13 557.45,1349.28 558.555,1358.41 559.66,1306.36 560.765,1328.34 561.87,1338.37 562.976,1368.76 \n",
       "  564.081,1342.32 565.186,1294.68 566.291,1334 567.397,1337.87 568.502,1346.08 569.607,1340.27 570.712,1338.51 571.818,1356.17 572.923,1338.78 574.028,1350.66 \n",
       "  575.134,1359.2 576.239,1362.43 577.344,1365.38 578.449,1332.11 579.555,1343.31 580.66,1305.7 581.765,1361.7 582.871,1349.68 583.976,1295.34 585.081,1344.61 \n",
       "  586.187,1335.95 587.292,1361.95 588.397,1360.04 589.503,1350.62 590.608,1309.84 591.713,1296.73 592.819,1258.76 593.924,1349.02 595.03,1294.11 596.135,1274.39 \n",
       "  597.24,1340.86 598.346,1343.9 599.451,1348.44 600.556,1328.35 601.662,1342.76 602.767,1333.89 603.872,1329.66 604.978,1321.07 606.083,1317.75 607.188,1348.41 \n",
       "  608.294,1271.79 609.399,1338.24 610.504,1303.62 611.61,1356.1 612.715,1259.72 613.82,1338.53 614.926,1322.95 616.031,1213.02 617.137,1326.2 618.242,1347.84 \n",
       "  619.347,1333.03 620.453,1379.8 621.558,1332.1 622.663,1364.31 623.769,1346.85 624.874,1345.59 625.979,1315.95 627.085,1324.05 628.19,1310.19 629.295,1361.5 \n",
       "  630.401,1326.89 631.506,1347.92 632.611,1268.8 633.716,1340.18 634.822,1366.74 635.927,1303.57 637.032,1356.62 638.137,1340.65 639.243,1340.62 640.348,1329.96 \n",
       "  641.453,1349.42 642.558,1348.09 643.664,1345.12 644.769,1356.75 645.874,1339.34 646.98,1341.18 648.085,1366.41 649.19,1356.11 650.296,1333.62 651.401,1352.66 \n",
       "  652.506,1334.72 653.612,1334.52 654.717,1324.72 655.822,1344.43 656.928,1341.21 658.033,1340.39 659.138,1359.97 660.244,1341.21 661.349,1355.28 662.455,1342.64 \n",
       "  663.56,1345.42 664.666,1347.94 665.771,1333.87 666.876,1339.18 667.982,1342.09 669.087,1335.61 670.193,1345.21 671.298,1329.61 672.404,1346.06 673.509,1369.38 \n",
       "  674.614,1347.9 675.72,1198.61 676.825,850.707 677.931,817.102 679.036,1236.66 680.142,1351.08 681.247,1297.69 682.353,1287.29 683.458,1309.75 684.564,1318.72 \n",
       "  685.669,1323.95 686.774,1343.42 687.88,1327.49 688.985,1332.5 690.091,1374.69 691.196,1273.14 692.301,1327.29 693.407,1333.96 694.512,1341.28 695.618,1345.12 \n",
       "  696.723,1291.96 697.829,1335 698.934,1339.82 700.039,1341.9 701.145,1332.28 702.25,1324.93 703.355,1357.13 704.461,1335.35 705.566,1310.24 706.671,1321.65 \n",
       "  707.777,1328.97 708.882,1314.59 709.987,1258.86 711.092,1295.84 712.198,1325.29 713.303,1335.11 714.408,1335.48 715.514,1319.37 716.619,1305.14 717.724,1324.84 \n",
       "  718.829,1312.82 719.935,1306.46 721.04,1293.7 722.145,1360.7 723.251,1347.05 724.356,1348.53 725.461,1363.48 726.567,1325.17 727.672,1334.43 728.777,1344.55 \n",
       "  729.883,1267.06 730.988,881.674 732.093,1354.53 733.199,1348.12 734.304,1340.78 735.409,1361.12 736.515,1342.76 737.62,1343.06 738.725,1353.35 739.831,1370.21 \n",
       "  740.936,1361.5 742.041,1348.99 743.147,1339.3 744.252,1306.75 745.357,1356.98 746.463,1335.01 747.568,1353.5 748.673,1349.02 749.779,1347.94 750.884,1367.75 \n",
       "  751.99,1344.96 753.095,1334.24 754.2,1318.92 755.306,1319.19 756.411,1320.76 757.517,1324.39 758.622,1291.75 759.727,1352.21 760.833,1363.08 761.938,1335.94 \n",
       "  763.044,1222.29 764.149,1341.31 765.254,1362.6 766.36,1346.93 767.465,1329.65 768.57,1353.51 769.676,1319.78 770.781,1367.79 771.887,1290.57 772.992,1340.94 \n",
       "  774.097,1347.48 775.203,1343.84 776.308,1346.6 777.413,1347.7 778.519,1346.62 779.624,1351.98 780.729,1361.32 781.835,1327.74 782.94,1348.91 784.045,1358.56 \n",
       "  785.15,1342.7 786.256,1335.07 787.361,1323.5 788.466,1346.05 789.571,1342.18 790.677,1337.41 791.782,1348.44 792.887,1259.62 793.993,1362.93 795.098,1298.11 \n",
       "  796.203,1338.26 797.308,1337.86 798.414,1341.12 799.519,1369.89 800.624,1337.61 801.73,1327.58 802.835,1343.33 803.94,1341.22 805.046,1362.58 806.151,1307.14 \n",
       "  807.256,1333.91 808.361,1306.18 809.467,1355.36 810.572,1241.7 811.677,1355.26 812.783,1373.42 813.888,1315.51 814.993,1349.24 816.099,1347.99 817.204,1334.91 \n",
       "  818.309,1341.15 819.414,1342.17 820.52,1346.03 821.625,1372.15 822.73,1372.07 823.836,1362.25 824.941,1345.85 826.046,1350.41 827.151,1354.73 828.257,1365.02 \n",
       "  829.362,1358.77 830.467,1376.49 831.573,1348.13 832.678,1360.7 833.783,1366.35 834.888,1356.17 835.994,1374.24 837.099,1371.05 838.204,1361.45 839.309,1316.15 \n",
       "  840.414,1369.4 841.52,1344.08 842.625,1344.98 843.73,1334.98 844.835,1335.61 845.94,1340.08 847.046,1350.07 848.151,1340.7 849.256,1343.1 850.361,1347.68 \n",
       "  851.466,1333.39 852.571,1324.29 853.676,1365.61 854.782,1361.5 855.887,1357.51 856.992,1354.89 858.097,1357.12 859.202,1363.91 860.307,1335.22 861.412,1353.9 \n",
       "  862.518,1348.89 863.623,1361.15 864.728,1346.22 865.833,1349.16 866.938,1365.75 868.043,1341.88 869.148,1346.79 870.253,1353.1 871.359,1359.66 872.464,1363.4 \n",
       "  873.569,1357.31 874.674,1352.21 875.779,1348.36 876.884,1353.27 877.989,1341.61 879.094,1339.3 880.2,1339.11 881.305,1353.22 882.41,1346.55 883.515,1356.36 \n",
       "  884.62,1351.48 885.725,1346.62 886.83,1342.73 887.935,1341.89 889.041,1362.53 890.146,1338.43 891.251,1362.34 892.356,1369.84 893.461,1340.92 894.566,1348.36 \n",
       "  895.671,1354.07 896.777,1338.85 897.882,1339.3 898.987,1338.61 900.092,1360.53 901.197,1355.21 902.302,1348.79 903.407,1345.16 904.513,1341.5 905.618,1365.96 \n",
       "  906.723,1359.07 907.828,1343.27 908.933,1332.51 910.038,1344.97 911.143,1355.36 912.248,1350.56 913.353,1347.33 914.458,1346.12 915.563,1346.79 916.668,1347.85 \n",
       "  917.773,1330.01 918.878,1327.56 919.983,1337.1 921.088,1324.92 922.193,1318.24 923.298,1318.66 924.403,1325.77 925.508,1335.57 926.613,1339.35 927.718,1353.45 \n",
       "  928.823,1361.24 929.928,1353.01 931.033,1348.97 932.138,1357.73 933.243,1360.62 934.348,1352.82 935.453,1351 936.558,1353.89 937.663,1356.31 938.768,1356.24 \n",
       "  939.873,1343.67 940.978,1334.9 942.083,1340.36 943.187,1328.75 944.292,1334.39 945.397,1342.79 946.502,1350.39 947.607,1356.9 948.712,1362.67 949.817,1359.8 \n",
       "  950.922,1354.83 952.027,1350.22 953.132,1346.82 954.236,1345.46 955.341,1346.53 956.446,1349.6 957.551,1353.92 958.656,1359.29 959.761,1354.29 960.865,1350.95 \n",
       "  961.97,1371.03 963.075,1346.2 964.18,1346.77 965.285,1348.6 966.39,1351.7 967.495,1348.64 968.599,1346.81 969.704,1346.05 970.809,1354.41 971.914,1367.32 \n",
       "  973.019,1347.87 974.124,1346.06 975.228,1355.29 976.333,1351.88 977.438,1372.28 978.543,1374.79 979.648,1347.34 980.753,1349.04 981.857,1352.41 982.962,1345.07 \n",
       "  984.067,1344.41 985.172,1346.51 986.277,1350.85 987.382,1346.12 988.486,1344.96 989.591,1345.85 990.696,1347.56 991.801,1349.44 992.906,1352.34 994.01,1355.66 \n",
       "  995.115,1360.12 996.22,1364.79 997.325,1351.8 998.43,1348.74 999.534,1346.8 1000.64,1346.9 1001.74,1349.8 1002.85,1355.2 1003.95,1360.61 1005.06,1335.05 \n",
       "  1006.16,1334.38 1007.27,1337.72 1008.37,1367.7 1009.48,1349.78 1010.58,1366.83 1011.69,1367.11 1012.79,1361 1013.9,1374.56 1015,1345.96 1016.11,1347.13 \n",
       "  1017.21,1361.39 1018.31,1350.42 1019.42,1355.13 1020.52,1349.85 1021.63,1348.47 1022.73,1349.21 1023.84,1350.97 1024.94,1348.73 1026.05,1348.6 1027.15,1349.89 \n",
       "  1028.26,1351.99 1029.36,1373.18 1030.47,1375.56 1031.57,1344.96 1032.67,1346.56 1033.78,1353.89 1034.88,1372.17 1035.99,1349.56 1037.09,1348.69 1038.2,1349.22 \n",
       "  1039.3,1351.55 1040.41,1355.12 1041.51,1350.92 1042.62,1351.16 1043.72,1364.52 1044.82,1373.47 1045.93,1341.88 1047.03,1344.15 1048.14,1346.76 1049.24,1350.42 \n",
       "  1050.35,1346.95 1051.45,1345.54 1052.56,1344.87 1053.66,1344.75 1054.77,1345.37 1055.87,1350.86 1056.97,1367.26 1058.08,1343.74 1059.18,1343.62 1060.29,1351.78 \n",
       "  1061.39,1352.88 1062.5,1349.11 1063.6,1348.34 1064.71,1346.61 1065.81,1350.06 1066.91,1346.34 1068.02,1344.8 1069.12,1344.74 1070.23,1353.04 1071.33,1345.36 \n",
       "  1072.44,1337.63 1073.54,1370.32 1074.65,1361.03 1075.75,1329.07 1076.85,1350.27 1077.96,1353.51 1079.06,1335.38 1080.17,1338.18 1081.27,1359.9 1082.38,1345.48 \n",
       "  1083.48,1346.55 1084.58,1351.5 1085.69,1352.56 1086.79,1354.37 1087.9,1357.16 1089,1360.59 1090.11,1364.05 1091.21,1347.83 1092.32,1350.43 1093.42,1346.56 \n",
       "  1094.52,1368.12 1095.63,1364.84 1096.73,1343.26 1097.84,1361.79 1098.94,1369.62 1100.05,1352.6 1101.15,1345.64 1102.25,1364.52 1103.36,1358.02 1104.46,1351.68 \n",
       "  1105.57,1346.72 1106.67,1352.29 1107.77,1352.33 1108.88,1355.76 1109.98,1358.73 1111.09,1362.25 1112.19,1349.78 1113.3,1342.18 1114.4,1337.2 1115.5,1334.84 \n",
       "  1116.61,1335.51 1117.71,1338.31 1118.82,1342.14 1119.92,1349.95 1121.02,1345.78 1122.13,1344.8 1123.23,1345.67 1124.34,1347.58 1125.44,1358.95 1126.54,1354.5 \n",
       "  1127.65,1351.87 1128.75,1360.74 1129.86,1355.5 1130.96,1351.54 1132.07,1349.62 1133.17,1349.57 1134.27,1350.68 1135.38,1352.33 1136.48,1370.6 1137.59,1356.62 \n",
       "  1138.69,1359.42 1139.79,1358.47 1140.9,1354.47 1142,1350.99 1143.11,1348.67 1144.21,1348.07 1145.31,1358.65 1146.42,1353.64 1147.52,1366.57 1148.63,1360.68 \n",
       "  1149.73,1351.18 1150.83,1353.8 1151.94,1357.12 1153.04,1358.94 1154.15,1361.78 1155.25,1355.84 1156.35,1368.2 1157.46,1350.19 1158.56,1348.69 1159.67,1347.98 \n",
       "  1160.77,1356.59 1161.87,1352.13 1162.98,1347.7 1164.08,1354.14 1165.18,1367.95 1166.29,1368.25 1167.39,1359.33 1168.5,1361.07 1169.6,1353.92 1170.7,1372.75 \n",
       "  1171.81,1347.93 1172.91,1361.26 1174.02,1357.22 1175.12,1354.41 1176.22,1353.12 1177.33,1353.56 1178.43,1355.62 1179.53,1358.88 1180.64,1362.45 1181.74,1365.3 \n",
       "  1182.85,1350.1 1183.95,1366.74 1185.05,1366.03 1186.16,1340.42 1187.26,1342.5 1188.36,1345.34 1189.47,1342.74 1190.57,1349.55 1191.68,1351.55 1192.78,1353.57 \n",
       "  1193.88,1366.2 1194.99,1360.75 1196.09,1355.77 1197.19,1352.03 1198.3,1349.94 1199.4,1349.65 1200.5,1358.05 1201.61,1352.57 1202.71,1356.67 1203.81,1346.46 \n",
       "  1204.92,1346.79 1206.02,1353.13 1207.12,1347.98 1208.23,1355.37 1209.33,1368.27 1210.44,1363.86 1211.54,1347.44 1212.64,1355.09 1213.75,1352.26 1214.85,1350.61 \n",
       "  1215.95,1350.01 1217.06,1350.43 1218.16,1357.24 1219.26,1353.52 1220.37,1351.35 1221.47,1350.88 1222.57,1352.48 1223.68,1355.56 1224.78,1359.18 1225.88,1363.4 \n",
       "  1226.99,1357.78 1228.09,1350.88 1229.19,1355.5 1230.3,1348.67 1231.4,1349.18 1232.5,1349.4 1233.61,1349.51 1234.71,1372.99 1235.81,1352.71 1236.92,1350.68 \n",
       "  1238.02,1349.46 1239.12,1349.3 1240.23,1363.08 1241.33,1352.39 1242.43,1349.78 1243.54,1349.18 1244.64,1358.87 1245.74,1354.3 1246.85,1351.67 1247.95,1351.37 \n",
       "  1249.05,1352.91 1250.16,1355.29 1251.26,1358.04 1252.36,1360.93 1253.47,1363.86 1254.57,1366.62 1255.67,1353.69 1256.77,1355.77 1257.88,1358.16 1258.98,1348.09 \n",
       "  1260.08,1348 1261.19,1349.09 1262.29,1351.52 1263.39,1348.23 1264.5,1349.25 1265.6,1358.56 1266.7,1360.69 1267.8,1350.11 1268.91,1351.97 1270.01,1348.68 \n",
       "  1271.11,1347.62 1272.22,1362.89 1273.32,1357.89 1274.42,1353.33 1275.52,1349.89 1276.63,1348.05 1277.73,1348.01 1278.83,1356.94 1279.94,1351.49 1281.04,1350.75 \n",
       "  1282.14,1351.51 1283.24,1352.34 1284.35,1356.28 1285.45,1351.82 1286.55,1350.31 1287.66,1365.15 1288.76,1351.51 1289.86,1357.49 1290.96,1367.9 1292.07,1369.79 \n",
       "  1293.17,1351.39 1294.27,1351.31 1295.38,1352.09 1296.48,1366.86 1297.58,1353.52 1298.68,1352.05 1299.79,1351.71 1300.89,1352.53 1301.99,1355.44 1303.09,1352.93 \n",
       "  1304.2,1351.57 1305.3,1351.27 1306.4,1351.76 1307.51,1365.07 1308.61,1352.32 1309.71,1350.12 1310.81,1348.56 1311.92,1362.33 1313.02,1347.62 1314.12,1353.53 \n",
       "  1315.22,1349.21 1316.33,1345.85 1317.43,1344.06 1318.53,1361.08 1319.63,1351.19 1320.74,1350.91 1321.84,1350.23 1322.94,1349.66 1324.04,1362.41 1325.15,1357.44 \n",
       "  1326.25,1353.85 1327.35,1351.82 1328.45,1351.16 1329.56,1351.62 1330.66,1363.8 1331.76,1351.78 1332.86,1349.32 1333.96,1348.01 1335.07,1347.83 1336.17,1356.22 \n",
       "  1337.27,1351.99 1338.37,1349.98 1339.48,1349.83 1340.58,1354.9 1341.68,1359.52 1342.78,1349.27 1343.88,1347.85 1344.99,1350.18 1346.09,1364.03 1347.19,1351.93 \n",
       "  1348.29,1354.51 1349.39,1362.72 1350.5,1350.34 1351.6,1361.15 1352.7,1357.16 1353.8,1365.3 1354.9,1366.96 1356.01,1350.91 1357.11,1362.54 1358.21,1351.53 \n",
       "  1359.31,1352.4 1360.41,1353.49 1361.51,1354.75 1362.62,1366.3 1363.72,1349.9 1364.82,1359.06 1365.92,1355.98 1367.02,1353.95 1368.12,1353.14 1369.22,1353.48 \n",
       "  1370.33,1360.42 1371.43,1357.56 1372.53,1355.6 1373.63,1362.94 1374.73,1354.92 1375.83,1364.57 1376.94,1352.95 1378.04,1359.09 1379.14,1363.08 1380.24,1361.16 \n",
       "  1381.34,1356.04 1382.44,1353.1 1383.54,1348.88 1384.65,1350.3 1385.75,1350.44 1386.85,1362.59 1387.95,1359.48 1389.05,1356.93 1390.15,1357.17 1391.25,1359.67 \n",
       "  1392.35,1362.48 1393.46,1359.28 1394.56,1366.34 1395.66,1354.78 1396.76,1354.11 1397.86,1354.59 1398.96,1356 1400.06,1353.01 1401.17,1351.64 1402.27,1351.42 \n",
       "  1403.37,1352.06 1404.47,1353.12 1405.57,1355.93 1406.67,1369.91 1407.77,1356.96 1408.87,1351.44 1409.98,1350.46 1411.08,1360.08 1412.18,1356.18 1413.28,1352.14 \n",
       "  1414.38,1348.68 1415.48,1346.62 1416.58,1356.82 1417.68,1359.02 1418.78,1353.75 1419.89,1371.93 1420.99,1348.77 1422.09,1361.65 1423.19,1356.6 1424.29,1353.18 \n",
       "  1425.39,1351.38 1426.49,1350.56 1427.59,1366.78 1428.69,1362.88 1429.79,1373.12 1430.89,1356.63 1432,1369.41 1433.1,1365.77 1434.2,1356.59 1435.3,1357.88 \n",
       "  1436.4,1359.3 1437.5,1369.68 1438.6,1353.16 1439.7,1348.12 1440.8,1355.34 1441.9,1352.13 1443,1350.6 1444.1,1367.65 1445.2,1369.44 1446.3,1351.79 \n",
       "  1447.4,1358.6 1448.5,1354.07 1449.6,1355.75 1450.7,1365.42 1451.8,1350.48 1452.9,1360.66 1454,1351.81 1455.1,1347.85 1456.2,1364.88 1457.3,1358.91 \n",
       "  1458.4,1360.73 1459.5,1352.16 1460.6,1370.31 1461.7,1348.79 1462.8,1350.41 1463.9,1351.97 1465,1358.03 1466.1,1355.29 1467.2,1352.52 1468.3,1366.45 \n",
       "  1469.4,1362.39 1470.5,1376.82 1471.6,1350.22 1472.7,1343.54 1473.8,1368.13 1474.9,1358.92 1476,1362.75 1477.1,1354.97 1478.2,1349.41 1479.3,1375.25 \n",
       "  1480.4,1369.93 1481.5,1364.66 1482.6,1348.96 1483.7,1353.65 1484.79,1367.22 1485.89,1364.49 1486.99,1361.52 1488.09,1366.74 1489.19,1368.51 1490.29,1354.96 \n",
       "  1491.39,1353.9 1492.49,1371.31 1493.59,1360.47 1494.69,1360.1 1495.79,1369.95 1496.88,1372.28 1497.98,1365.27 1499.08,1355.65 1500.18,1359.14 1501.28,1356.57 \n",
       "  1502.38,1354.29 1503.48,1352 1504.58,1369.31 1505.67,1349.13 1506.77,1359.8 1507.87,1371.62 1508.97,1367.37 1510.07,1360.86 1511.17,1352.59 1512.27,1347.28 \n",
       "  1513.36,1349.32 1514.46,1345.1 1515.56,1366.88 1516.66,1349.69 1517.76,1348.54 1518.86,1347.42 1519.95,1379.06 1521.05,1377.6 1522.15,1374.28 1523.25,1369.95 \n",
       "  1524.35,1365.08 1525.45,1360.16 1526.54,1347.8 1527.64,1370.64 1528.74,1364.98 1529.84,1359.63 1530.94,1353.5 1532.03,1368.16 1533.13,1351.81 1534.23,1352.51 \n",
       "  1535.33,1357.76 1536.43,1355.42 1537.52,1353.64 1538.62,1367.69 1539.72,1350.28 1540.82,1348.58 1541.91,1375.51 1543.01,1345.34 1544.11,1372.69 1545.21,1368.55 \n",
       "  1546.31,1362.29 1547.4,1347.73 1548.5,1357.92 1549.6,1351.16 1550.7,1371.1 1551.79,1364.68 1552.89,1344.19 1553.99,1354.82 1555.09,1353.41 1556.18,1353.52 \n",
       "  1557.28,1366.53 1558.38,1363.69 1559.48,1353.58 1560.57,1356.89 1561.67,1353.18 1562.77,1356.77 1563.87,1373.74 1564.96,1375.08 1566.06,1375.5 1567.16,1352.35 \n",
       "  1568.25,1346.34 1569.35,1341.82 1570.45,1374.49 1571.54,1378.29 1572.64,1380.45 1573.74,1379.54 1574.83,1375.71 1575.93,1347.63 1577.03,1364.73 1578.12,1359.5 \n",
       "  1579.22,1354.65 1580.32,1350.07 1581.41,1348.36 1582.51,1378.35 1583.6,1361.58 1584.7,1380.76 1585.8,1378.74 1586.89,1374.11 1587.99,1367.45 1589.08,1360.21 \n",
       "  1590.18,1354.06 1591.27,1349.97 1592.37,1360.88 1593.47,1347.86 1594.56,1348.36 1595.66,1349.2 1596.75,1359.66 1597.85,1356.2 1598.94,1369.31 1600.04,1365.65 \n",
       "  1601.13,1360.96 1602.22,1355.36 1603.32,1349.35 1604.41,1343.87 1605.51,1339.89 1606.6,1374.67 1607.7,1357.35 1608.79,1381.7 1609.89,1380.08 1610.98,1331.29 \n",
       "  1612.07,1367.57 1613.17,1361.09 1614.26,1356.33 1615.36,1353.31 1616.45,1375.98 1617.54,1372.75 1618.64,1349.22 1619.73,1374.58 1620.83,1349.01 1621.92,1373.24 \n",
       "  1623.01,1370.49 1624.11,1366.32 1625.2,1360.88 1626.29,1358.72 1627.39,1379.01 1628.48,1366.54 1629.57,1371.95 1630.67,1366.2 1631.76,1380.47 1632.85,1382.22 \n",
       "  1633.95,1340.22 1635.04,1369.3 1636.14,1375.12 1637.23,1345.32 1638.32,1365.65 1639.42,1360.86 1640.51,1373.94 1641.6,1371.65 1642.7,1366.53 1643.79,1374.17 \n",
       "  1644.88,1374.03 1645.97,1352.9 1647.07,1371.36 1648.16,1354.21 1649.25,1363.19 1650.35,1358.76 1651.44,1380.08 1652.53,1379.54 1653.62,1345.78 1654.72,1379.81 \n",
       "  1655.81,1340.55 1656.9,1380.94 1657.99,1379.68 1659.09,1377.41 1660.18,1374.11 1661.27,1355.65 1662.36,1359.84 1663.46,1361.28 1664.55,1365.41 1665.64,1367.14 \n",
       "  1666.73,1368.4 1667.82,1369.05 1668.91,1368.82 1670.01,1364.53 1671.1,1368.17 1672.19,1348.56 1673.28,1360.11 1674.37,1363.27 1675.46,1352.66 1676.56,1348.52 \n",
       "  1677.65,1375.42 1678.74,1341.24 1679.83,1380.83 1680.92,1381.4 1682.01,1340.64 1683.1,1375.47 1684.19,1369.62 1685.28,1363.72 1686.37,1359.29 1687.46,1357.13 \n",
       "  1688.55,1356.82 1689.64,1357.47 1690.73,1358.28 1691.82,1366.44 1692.91,1366.59 1694,1358.85 1695.09,1359.17 1696.18,1374.92 1697.27,1376.95 1698.36,1378.34 \n",
       "  1699.45,1378.29 1700.54,1364.36 1701.63,1366.99 1702.72,1371.48 1703.81,1364.79 1704.9,1382.42 1705.98,1348.54 1707.07,1358.75 1708.16,1374.99 1709.25,1368.25 \n",
       "  1710.33,1341.54 1711.42,1354.88 1712.51,1349.58 1713.6,1371.76 1714.68,1369.67 1715.77,1371.44 1716.85,1371.92 1717.94,1352.09 1719.03,1354.76 1720.11,1366.54 \n",
       "  1721.2,1361.82 1722.28,1346.65 1723.37,1345.47 1724.45,1375.8 1725.53,1371.63 1726.62,1342.41 1727.7,1337.25 1728.78,1339.18 1729.86,1378.35 1730.95,1378.92 \n",
       "  1732.03,1376.71 1733.11,1372.92 1734.19,1368.55 1735.27,1345.01 1736.35,1346.5 1737.43,1375.58 1738.51,1373.3 1739.58,1374.45 1740.66,1376.2 1741.74,1377.02 \n",
       "  1742.82,1346.38 1743.9,1347.42 1744.97,1371.25 1746.05,1366.74 1747.13,1355.7 1748.21,1379.53 1749.28,1379.78 1750.36,1378.51 1751.43,1350.24 1752.51,1377.88 \n",
       "  1753.58,1342.12 1754.66,1342.46 1755.73,1379.15 1756.81,1377.36 1757.88,1378.02 1758.96,1379.44 1760.03,1379.99 1761.1,1379.69 1762.18,1372.3 1763.25,1345.82 \n",
       "  1764.33,1341.2 1765.4,1355.86 1766.47,1383.98 1767.55,1384.52 1768.62,1383.81 1769.69,1381.6 1770.77,1363.71 1771.84,1385.85 1772.91,1358.14 1773.98,1386.4 \n",
       "  1775.06,1384.89 1776.13,1381.65 1777.2,1376.46 1778.27,1383.79 1779.34,1337.5 1780.41,1380.76 1781.48,1373.46 1782.55,1376.78 1783.62,1342.33 1784.69,1358.27 \n",
       "  1785.76,1379.58 1786.82,1347.25 1787.89,1372.24 1788.95,1366.32 1790.02,1339.69 1791.08,1353.61 1792.14,1380.6 1793.2,1376.52 1794.25,1340.74 1795.31,1376.44 \n",
       "  1796.36,1380.57 1797.41,1338.31 1798.46,1379.37 1799.5,1337.63 1800.55,1363.9 1801.59,1368.18 1802.63,1373.1 1803.66,1376.58 1804.7,1346.41 1805.74,1339.43 \n",
       "  1806.77,1347.59 1807.81,1360.21 1808.84,1372.51 1809.87,1375.41 1810.9,1347.9 1811.93,1372.8 1812.96,1344.27 1813.99,1375.1 1815.02,1378.55 1816.04,1379.89 \n",
       "  1817.07,1378.56 1818.09,1341.36 1819.13,1368.37 1820.15,1340.29 1821.18,1340.53 1822.21,1380.12 1823.23,1342.07 1824.26,1374.71 1825.28,1369.32 1826.3,1363.82 \n",
       "  1827.31,1359.22 1828.33,1355.88 1829.34,1374.04 1830.36,1372.3 1831.37,1354 1832.38,1366.59 1833.39,1363.28 1834.4,1363.66 1835.41,1374.11 1836.41,1372.85 \n",
       "  1837.42,1370.41 1838.43,1345.55 1839.44,1362.11 1840.45,1379.95 1841.45,1351.41 1842.46,1366.33 1843.46,1370.49 1844.47,1367.67 1845.47,1377.71 1846.47,1379.49 \n",
       "  1847.47,1379.48 1848.47,1377.85 1849.46,1347.42 1850.47,1351.06 1851.47,1351.57 1852.47,1366.13 1853.46,1370.14 1854.45,1368.96 1855.44,1359.25 1856.44,1357.61 \n",
       "  1857.43,1368.24 1858.42,1355.41 1859.41,1368.7 1860.4,1368.31 1861.39,1367.26 1862.37,1365.34 1863.36,1348.02 1864.36,1345.8 1865.36,1377.36 1866.34,1376.63 \n",
       "  1867.32,1343.36 1868.32,1371.17 1869.31,1343.32 1870.3,1362.98 1871.28,1377.71 1872.26,1357.06 1873.24,1375.73 1874.21,1373.38 1875.18,1370.76 1876.14,1368.19 \n",
       "  1877.11,1367.97 1878.08,1357.57 1879.05,1366.04 1880.02,1360.69 1880.99,1359.59 1881.96,1363.68 1882.93,1366.36 1883.9,1357.51 1884.88,1366.36 1885.85,1356.64 \n",
       "  1886.82,1364.12 1887.79,1361.88 1888.76,1375.53 1889.72,1376.79 1890.68,1345.45 1891.66,1376.52 1892.61,1370.06 1893.57,1345.81 1894.55,1375.88 1895.5,1377.2 \n",
       "  1896.46,1377.4 1897.41,1346.17 1898.38,1374.94 1899.34,1372.64 1900.3,1353.76 1901.27,1352.76 1902.23,1371.8 1903.19,1371.02 1904.15,1353.65 1905.11,1354.72 \n",
       "  1906.08,1364.93 1907.04,1372.97 1907.99,1374.2 1908.95,1374.67 1909.9,1374.2 1910.85,1372.77 1911.8,1373.43 1912.75,1343.72 1913.72,1363.86 1914.67,1359.34 \n",
       "  1915.63,1363.83 1916.59,1378.79 1917.54,1376.12 1918.49,1372.4 1919.43,1349.2 1920.4,1342.77 1921.36,1378.87 1922.3,1377.26 1923.25,1374.32 1924.19,1348.45 \n",
       "  1925.15,1347.3 1926.11,1374.07 1927.06,1347.1 1928.02,1375.59 1928.96,1374.44 1929.91,1372.34 1930.86,1347.05 1931.82,1375.37 1932.77,1377.59 1933.71,1358.74 \n",
       "  1934.67,1343.77 1935.63,1377.6 1936.57,1375.37 1937.51,1371.9 1938.45,1367.18 1939.4,1383.17 1940.32,1382.68 1941.24,1380.55 1942.17,1334.59 1943.13,1370.42 \n",
       "  1944.06,1363.13 1945,1384.19 1945.93,1385.3 1946.86,1384.23 1947.79,1339.23 1948.74,1376.11 1949.67,1370.73 1950.6,1376.02 1951.53,1379.34 1952.45,1339.07 \n",
       "  1953.41,1380.11 1954.34,1378.28 1955.26,1375.6 1956.19,1374.01 1957.12,1347.21 1958.07,1376.02 1959,1347.49 1959.95,1348.72 1960.9,1371.74 1961.84,1368.47 \n",
       "  1962.78,1348.49 1963.73,1346.96 1964.68,1376.31 1965.6,1345.62 1966.55,1373.36 1967.48,1370.16 1968.41,1366.23 1969.34,1378.62 1970.26,1381.3 1971.18,1337.45 \n",
       "  1972.14,1349.07 1973.09,1381.61 1974.02,1379.44 1974.95,1376.13 1975.87,1385.18 1976.78,1385.96 1977.69,1385.63 1978.6,1352.63 1979.55,1381 1980.46,1376.19 \n",
       "  1981.38,1384.75 1982.29,1385.83 1983.2,1385.5 1984.11,1383.43 1985.02,1379.45 1985.94,1334 1986.89,1377.96 1987.82,1376.83 1988.75,1380.18 1989.68,1381.47 \n",
       "  1990.6,1348.61 1991.55,1346.75 1992.49,1346.05 1993.44,1371.72 1994.37,1367.84 1995.3,1378.28 1996.21,1378.24 1997.12,1377.18 1998.03,1375.1 1998.95,1347.67 \n",
       "  1999.89,1344.73 2000.83,1362.45 2001.76,1379.31 2002.68,1351.51 2003.61,1376.58 2004.52,1343.81 2005.46,1369.32 2006.37,1376.69 2007.27,1379.16 2008.17,1380.61 \n",
       "  2009.08,1381.02 2009.99,1369.55 2010.92,1346.94 2011.87,1344.39 2012.82,1378.29 2013.75,1342.03 2014.7,1378.28 2015.62,1358.35 2016.56,1375.69 2017.48,1373.57 \n",
       "  2018.41,1366.74 2019.33,1364.55 2020.25,1374.06 2021.16,1345.05 2022.11,1355.81 2023.04,1369.93 2023.96,1366.29 2024.89,1361.48 2025.81,1356.07 2026.73,1378.55 \n",
       "  2027.63,1377.05 2028.53,1374.49 2029.43,1371.07 2030.34,1367.24 2031.25,1363.46 2032.17,1359.95 2033.09,1382.02 2033.99,1338.86 2034.94,1380.05 2035.85,1377.7 \n",
       "  2036.76,1374.72 2037.67,1371.31 2038.58,1346.78 2039.5,1375.25 2040.4,1373.53 2041.29,1371.32 2042.19,1357.93 2043.1,1366.17 2043.99,1358.77 2044.9,1361.7 \n",
       "  2045.81,1358.64 2046.72,1365.09 2047.62,1358.18 2048.52,1361.35 2049.43,1368 2050.32,1368.82 2051.21,1358.02 2052.12,1369.58 2053.01,1369.41 2053.91,1356.21 \n",
       "  2054.81,1348.92 2055.73,1359.64 2056.64,1377.36 2057.53,1377.92 2058.42,1377.71 2059.31,1376.61 2060.2,1345.39 2061.12,1371.23 2062.01,1367.22 2062.9,1378.78 \n",
       "  2063.77,1378.83 2064.64,1378 2065.51,1362.63 2066.4,1348.18 2067.31,1367.86 2068.2,1369.23 2069.09,1366.98 2069.99,1369.1 2070.88,1355.75 2071.79,1366.57 \n",
       "  2072.68,1358.98 2073.58,1360.65 2074.47,1360.55 2075.37,1359.75 2076.26,1363.82 2077.14,1363.61 2078.03,1356.52 2078.92,1355.73 2079.81,1362.2 2080.7,1361.19 \n",
       "  2081.6,1353.13 2082.51,1352.48 2083.42,1352.06 2084.32,1368.23 2085.21,1366.8 2086.1,1349.19 2087.01,1374.98 2087.88,1347.19 2088.78,1375.52 2089.65,1374.8 \n",
       "  2090.52,1373.5 2091.38,1371.8 2092.26,1369.85 2093.13,1371.61 2094,1365.55 2094.89,1352.6 2095.79,1360.76 2096.69,1369.38 2097.56,1356.59 2098.46,1365.58 \n",
       "  2099.34,1371.3 2100.2,1371.76 2101.06,1371.61 2101.91,1370.62 2102.77,1368.54 2103.63,1371.66 2104.5,1374.6 2105.37,1377.44 2106.25,1379.64 2107.13,1339.79 \n",
       "  2108.06,1365.56 2108.97,1340.64 2109.9,1365.12 2110.79,1370.46 2111.68,1367.2 2112.55,1375.47 2113.41,1375.95 2114.26,1375.27 2115.11,1359.97 2115.99,1359.42 \n",
       "  2116.87,1359.36 2117.75,1365.31 2118.62,1364.68 2119.49,1363.7 2120.36,1362.58 2121.23,1363.66 2122.1,1362.25 2122.97,1361.91 2123.84,1361.53 2124.72,1363.82 \n",
       "  2125.59,1360.44 2126.47,1363.94 2127.35,1358.82 2128.24,1362.62 2129.13,1361.23 2130.01,1349.24 2130.92,1374.98 2131.78,1375.83 2132.65,1353.63 2133.54,1375.23 \n",
       "  2134.39,1374.01 2135.25,1372.34 2136.1,1372.66 2136.95,1372.97 2137.8,1372.49 2138.65,1371.37 2139.51,1363.88 2140.38,1363.38 2141.25,1358.42 2142.13,1364.74 \n",
       "  2143,1360.02 2143.88,1363.31 2144.76,1367.45 2145.63,1356.49 2146.51,1365.2 2147.38,1368.83 2148.25,1358.53 2149.13,1367.76 2150,1357.11 2150.89,1356.82 \n",
       "  2151.77,1360.82 2152.65,1361.73 2153.53,1357.51 2154.42,1361.96 2155.29,1364.83 2156.15,1365.07 2157.02,1365.68 2157.88,1366.14 2158.74,1358.48 2159.61,1357.87 \n",
       "  2160.49,1368.01 2161.34,1359.84 2162.21,1371.53 2163.06,1372.82 2163.91,1365.82 2164.77,1368.31 2165.62,1373.58 2166.47,1372.75 2167.32,1374.17 2168.17,1348.04 \n",
       "  2169.06,1347.28 2169.95,1359.78 2170.82,1361.62 2171.7,1373.44 2172.55,1358.98 2173.42,1352.4 2174.29,1353.91 2175.16,1365.67 2176.02,1359.83 2176.88,1364.9 \n",
       "  2177.74,1360.93 2178.6,1361.28 2179.46,1361.46 2180.33,1363.93 2181.19,1366.11 2182.05,1359.58 2182.91,1360.27 2183.78,1364.05 2184.62,1363.31 2185.47,1364.65 \n",
       "  2186.31,1365.96 2187.16,1357.27 2188.03,1355.44 2188.89,1356.31 2189.76,1364.51 2190.6,1352.74 2191.46,1368.8 2192.29,1370.57 2193.11,1366.57 2193.94,1373.34 \n",
       "  2194.76,1350.28 2195.62,1350.32 2196.48,1370.6 2197.31,1368.84 2198.13,1355.78 2198.98,1357.06 2199.82,1357.87 2200.67,1364.02 2201.52,1365.39 2202.38,1366.17 \n",
       "  2203.24,1348.67 2204.13,1346.67 2205.01,1363.74 2205.87,1376.66 2206.69,1376.66 2207.51,1376.1 2208.32,1374.99 2209.13,1373.32 2209.95,1371.19 2210.78,1374.13 \n",
       "  2211.61,1374.53 2212.44,1348.95 2213.32,1373.22 2214.14,1371.78 2214.96,1370.08 2215.78,1368.25 2216.6,1356.99 2217.45,1368.31 2218.28,1368.48 2219.12,1356.37 \n",
       "  2219.98,1356.82 2220.85,1367.28 2221.7,1358.76 2222.56,1372.15 2223.39,1373.33 2224.21,1374.15 2225.01,1374.61 2225.81,1374.64 2226.61,1374.16 2227.42,1373.13 \n",
       "  2228.23,1371.53 2229.06,1345.95 2229.93,1377.43 2230.75,1343.86 2231.64,1360.95 2232.49,1345.1 2233.36,1374.01 2234.15,1371.89 2234.93,1371.44 2235.71,1366.95 \n",
       "  2236.51,1372.27 2237.31,1351.96 2238.17,1352.54 2239.02,1353.34 2239.88,1366.34 2240.71,1364.03 2241.53,1361.83 2242.35,1367.66 2243.15,1367.72 2243.96,1356.92 \n",
       "  2244.8,1366.01 2245.63,1364.36 2246.45,1362.38 2247.26,1356.97 2248.08,1370.82 2248.87,1371.55 2249.66,1371.37 2250.47,1369.97 2251.28,1346.24 2252.14,1348.65 \n",
       "  2253.01,1372.49 2253.84,1375.59 2254.65,1348.43 2255.51,1377.1 2256.31,1373.55 2257.11,1333.5 2257.98,1370.86 2258.79,1363.02 2259.61,1365 2260.44,1372.82 \n",
       "  2261.26,1343.95 2262.12,1373.18 2262.93,1371.79 2263.73,1347.84 2264.56,1366.68 2265.36,1356.01 2266.18,1357.58 2267,1360.54 2267.81,1360.23 2268.62,1355.92 \n",
       "  2269.42,1358.89 2270.23,1359.1 2271.02,1363.99 2271.81,1356.77 2272.61,1359.3 2273.41,1360.64 2274.2,1361.12 2274.98,1364.51 2275.74,1364.88 2276.5,1364.98 \n",
       "  2277.26,1360.88 2278.05,1360.68 2278.84,1359.99 2279.62,1366.92 2280.32,1356.74 2281.06,1354.95 2281.77,1356.21 2282.42,1366.01 2283.1,1344.93 2283.87,1335.34 \n",
       "  2284.53,1343.72 2285.27,1330.26 2286.02,1373.22 2286.54,1375.13 2287,1375.1 2287.39,1373.8 2287.66,1348.05 2287.87,1353.82 2287.99,1358.43 2288.08,1359.19 \n",
       "  2288.16,1359.18 2288.23,1364.98 2288.3,1364.84 2288.38,1356.75 2288.47,1355.76 2288.56,1354.62 2288.65,1364.34 2288.74,1351.77 2288.85,1350.18 2288.95,1363.73 \n",
       "  2289.05,1363.5 2289.15,1363.27 2289.25,1345.42 2289.35,1344.99 2289.46,1362.59 2289.56,1362.39 2289.65,1362.22 2289.75,1362.07 2289.84,1359.08 2289.94,1359.05 \n",
       "  2290.04,1351.5 2290.13,1359.04 2290.22,1359.05 2290.31,1352.8 2290.4,1359.09 2290.49,1353.68 2290.57,1359.19 2290.66,1350.58 2290.74,1361.2 2290.82,1359.39 \n",
       "  2290.9,1355.75 2290.98,1356.13 2291.05,1352.96 2291.13,1356.91 2291.2,1361.29 2291.27,1361.33 2291.34,1361.37 2291.41,1355.27 2291.48,1360.29 2291.55,1360.4 \n",
       "  2291.61,1359.2 2291.67,1359.46 2291.73,1361.68 2291.79,1360.82 2291.85,1360.91 2291.91,1361.01 2291.97,1360.61 2292.03,1361.19 2292.08,1361.27 2292.13,1361.35 \n",
       "  2292.18,1361.28 2292.23,1362.11 2292.28,1362.14 2292.33,1361.63 2292.38,1362.2 2292.42,1361.74 2292.47,1361.79 2292.51,1361.84 2292.55,1361.88 2292.59,1361.92 \n",
       "  2292.63,1361.96 2292.67,1362 2292.71,1362.37 2292.75,1362.4 2292.79,1362.42 2292.82,1362.43 2292.86,1362.54 2292.89,1362.45 2292.92,1361.01 2292.96,1362.63 \n",
       "  2292.99,1362.48 2293.02,1362.27 2293.05,1362.49 2293.08,1362.5 2293.11,1361.26 2293.14,1361.29 2293.17,1362.34 2293.2,1362.52 2293.23,1362.79 \n",
       "  \"/>\n",
       "<path clip-path=\"url(#clip100)\" d=\"\n",
       "M1917.36 287.756 L2282.65 287.756 L2282.65 166.796 L1917.36 166.796  Z\n",
       "  \" fill=\"#ffffff\" fill-rule=\"evenodd\" fill-opacity=\"1\"/>\n",
       "<polyline clip-path=\"url(#clip100)\" style=\"stroke:#000000; stroke-width:4; stroke-opacity:1; fill:none\" points=\"\n",
       "  1917.36,287.756 2282.65,287.756 2282.65,166.796 1917.36,166.796 1917.36,287.756 \n",
       "  \"/>\n",
       "<polyline clip-path=\"url(#clip100)\" style=\"stroke:#009af9; stroke-width:4; stroke-opacity:1; fill:none\" points=\"\n",
       "  1940.73,227.276 2080.95,227.276 \n",
       "  \"/>\n",
       "<path clip-path=\"url(#clip100)\" d=\"M 0 0 M2104.31 209.996 L2109.01 209.996 L2109.01 230.991 Q2109.01 236.547 2111.03 239 Q2113.04 241.431 2117.55 241.431 Q2122.05 241.431 2124.06 239 Q2126.07 236.547 2126.07 230.991 L2126.07 209.996 L2130.77 209.996 L2130.77 231.57 Q2130.77 238.329 2127.42 241.778 Q2124.08 245.227 2117.55 245.227 Q2111 245.227 2107.65 241.778 Q2104.31 238.329 2104.31 231.57 L2104.31 209.996 Z\" fill=\"#000000\" fill-rule=\"evenodd\" fill-opacity=\"1\" /><path clip-path=\"url(#clip100)\" d=\"M 0 0 M2159.55 223.607 Q2161.14 220.736 2163.36 219.371 Q2165.59 218.005 2168.6 218.005 Q2172.65 218.005 2174.85 220.852 Q2177.05 223.676 2177.05 228.908 L2177.05 244.556 L2172.76 244.556 L2172.76 229.047 Q2172.76 225.32 2171.44 223.514 Q2170.12 221.709 2167.42 221.709 Q2164.11 221.709 2162.18 223.908 Q2160.26 226.107 2160.26 229.903 L2160.26 244.556 L2155.98 244.556 L2155.98 229.047 Q2155.98 225.297 2154.66 223.514 Q2153.34 221.709 2150.59 221.709 Q2147.32 221.709 2145.4 223.931 Q2143.48 226.13 2143.48 229.903 L2143.48 244.556 L2139.2 244.556 L2139.2 218.63 L2143.48 218.63 L2143.48 222.658 Q2144.94 220.273 2146.98 219.139 Q2149.01 218.005 2151.81 218.005 Q2154.64 218.005 2156.61 219.44 Q2158.6 220.875 2159.55 223.607 Z\" fill=\"#000000\" fill-rule=\"evenodd\" fill-opacity=\"1\" /><path clip-path=\"url(#clip100)\" d=\"M 0 0 M2197.32 231.523 Q2192.16 231.523 2190.17 232.704 Q2188.18 233.884 2188.18 236.732 Q2188.18 239 2189.66 240.343 Q2191.17 241.662 2193.73 241.662 Q2197.28 241.662 2199.41 239.162 Q2201.56 236.639 2201.56 232.472 L2201.56 231.523 L2197.32 231.523 M2205.82 229.764 L2205.82 244.556 L2201.56 244.556 L2201.56 240.621 Q2200.1 242.982 2197.92 244.116 Q2195.75 245.227 2192.6 245.227 Q2188.62 245.227 2186.26 243.005 Q2183.92 240.759 2183.92 237.009 Q2183.92 232.634 2186.84 230.412 Q2189.78 228.19 2195.59 228.19 L2201.56 228.19 L2201.56 227.773 Q2201.56 224.834 2199.61 223.236 Q2197.69 221.616 2194.2 221.616 Q2191.98 221.616 2189.87 222.148 Q2187.76 222.681 2185.82 223.746 L2185.82 219.81 Q2188.16 218.908 2190.36 218.468 Q2192.55 218.005 2194.64 218.005 Q2200.26 218.005 2203.04 220.922 Q2205.82 223.838 2205.82 229.764 Z\" fill=\"#000000\" fill-rule=\"evenodd\" fill-opacity=\"1\" /><path clip-path=\"url(#clip100)\" d=\"M 0 0 M2231.65 231.292 Q2231.65 226.662 2229.73 224.116 Q2227.83 221.57 2224.38 221.57 Q2220.96 221.57 2219.04 224.116 Q2217.14 226.662 2217.14 231.292 Q2217.14 235.898 2219.04 238.445 Q2220.96 240.991 2224.38 240.991 Q2227.83 240.991 2229.73 238.445 Q2231.65 235.898 2231.65 231.292 M2235.91 241.338 Q2235.91 247.958 2232.97 251.176 Q2230.03 254.417 2223.97 254.417 Q2221.72 254.417 2219.73 254.07 Q2217.74 253.745 2215.86 253.051 L2215.86 248.908 Q2217.74 249.926 2219.57 250.412 Q2221.4 250.898 2223.3 250.898 Q2227.48 250.898 2229.57 248.699 Q2231.65 246.523 2231.65 242.102 L2231.65 239.996 Q2230.33 242.287 2228.27 243.421 Q2226.21 244.556 2223.34 244.556 Q2218.57 244.556 2215.66 240.921 Q2212.74 237.287 2212.74 231.292 Q2212.74 225.273 2215.66 221.639 Q2218.57 218.005 2223.34 218.005 Q2226.21 218.005 2228.27 219.139 Q2230.33 220.273 2231.65 222.565 L2231.65 218.63 L2235.91 218.63 L2235.91 241.338 Z\" fill=\"#000000\" fill-rule=\"evenodd\" fill-opacity=\"1\" /></svg>\n"
      ]
     },
     "execution_count": 70,
     "metadata": {},
     "output_type": "execute_result"
    }
   ],
   "source": [
    "time = [0.0]\n",
    "for k = 2:knots\n",
    "    push!(time, time[k-1]+Usol[4,k-1])\n",
    "end\n",
    "plot(time[1:knots-1], [norm(Usol[1:3, k]) for k=1:knots-1], \n",
    "            label=\"Umag\", \n",
    "            xlabel=\"Time [Transfer Orbit Periods]\", \n",
    "            ylabel=\"Thrust Mag\", \n",
    "            title=\"Thrust Mag vs. Time: Reference orbits\")"
   ]
  },
  {
   "cell_type": "code",
   "execution_count": null,
   "metadata": {
    "scrolled": false
   },
   "outputs": [],
   "source": [
    "knots_final = 10000\n",
    "Xfinal = zeros((Nx, knots_final))\n",
    "Xfinal[:, 1] .= Xsol[:,end]\n",
    "for k = 1:knots_final-1\n",
    "    Xfinal[:, k+1] = dynamics_rk8(Xfinal[:, k], zeros(3), 1e-2)\n",
    "end\n",
    "Plots.display(plot!(Xfinal[1,:], Xfinal[2,:], Xfinal[3,:], label=\"Final Orbit\", color=\"gold\"))"
   ]
  },
  {
   "cell_type": "code",
   "execution_count": null,
   "metadata": {
    "scrolled": true
   },
   "outputs": [],
   "source": [
    "for i=2:5\n",
    "    println(\"#### STARTING Ref traj $(i) ####\")\n",
    "    flush(stdout)\n",
    "    \n",
    "end\n",
    "    "
   ]
  },
  {
   "cell_type": "code",
   "execution_count": null,
   "metadata": {
    "scrolled": false
   },
   "outputs": [],
   "source": [
    "function evaluate_traj(filename, num_orbits)    \n",
    "    out = load(filename)\n",
    "    z_ref = out[\"ref_traj\"]\n",
    "    z_sol = out[\"opt_traj\"]\n",
    "    status = out[\"status\"]\n",
    "\n",
    "    Xsol,Usol = unpackZ(knots, z_sol)\n",
    "    X, U = unpackZ(knots, z_ref)\n",
    "    plot(Xsol[1, :], Xsol[2, :], aspect_ratio=:equal, lims=(-semiMajorAxis_goal*3,semiMajorAxis_goal*3), label=\"Solution\", lw=2)\n",
    "    xlabel!(\"Orbital Units\")\n",
    "    ylabel!(\"Orbital Units\")\n",
    "\n",
    "    plot!([goal_orbit.x0[1]], [goal_orbit.x0[2]], markershape=:xcross, markersize=5, label=\"Goal State\")\n",
    "\n",
    "    plot!([0], [0], lw=1, markershape=:o, label=\"Planet Earth\")\n",
    "\n",
    "    plot!(X[1, :], X[2, :], title = \"$(status): $(num_orbits) orbit reference Tmax=10\", label = \"Reference\", lw = 3)\n",
    "    flush(stdout)\n",
    "    \n",
    "    knots_final = 10000\n",
    "    Xfinal = zeros((Nx, knots_final))\n",
    "    Xfinal[:, 1] .= Xsol[:,end]\n",
    "    for k = 1:knots_final-1\n",
    "        Xfinal[:, k+1] = dynamics_rk8(Xfinal[:, k], zeros(3), 1e-2)\n",
    "    end\n",
    "    Plots.display(plot!(Xfinal[1,:], Xfinal[2,:], label=\"Final Orbit\" ))\n",
    "    \n",
    "    return sum(Usol[4, :])\n",
    "end\n",
    "\n",
    "for num_orbits=1:5\n",
    "# num_orbits = 1\n",
    "    filename = \"/home/aipex/Mitch/16-745_final_project/reference_$(num_orbits).jld\"\n",
    "\n",
    "    final_time = evaluate_traj(filename, num_orbits)\n",
    "#     display(final_time)\n",
    "end"
   ]
  },
  {
   "cell_type": "code",
   "execution_count": null,
   "metadata": {
    "scrolled": false
   },
   "outputs": [],
   "source": [
    "    \n",
    "for i=1:5\n",
    "    filename = \"/home/aipex/Mitch/16-745_final_project/reference_$(i).jld\"\n",
    "\n",
    "    out = load(filename)\n",
    "    z_ref = out[\"ref_traj\"]\n",
    "    z_sol = out[\"opt_traj\"]\n",
    "    status = out[\"status\"]\n",
    "\n",
    "    Xsol,Usol = unpackZ(knots, z_sol)\n",
    "    time = [0.0]\n",
    "    for k = 2:knots\n",
    "        push!(time, time[k-1]+Usol[4,k-1])\n",
    "    end\n",
    "    print(sum(Usol[4,:]))\n",
    "    if i == 1\n",
    "        plot(time[1:knots-1], [norm(Usol[1:3, k]) for k=1:knots-1], \n",
    "            label=\"Umag $(i)\", \n",
    "            xlabel=\"Time [Transfer Orbit Periods]\", \n",
    "            ylabel=\"Thrust Mag\", \n",
    "            title=\"Thrust Mag vs. Time: Reference orbits $(i)\")\n",
    "    elseif i == 5\n",
    "        Plots.display(plot!(time[1:knots-1], [norm(Usol[1:3, k]) for k=1:knots-1], \n",
    "            label=\"Umag $(i)\"))\n",
    "    else\n",
    "        plot!(time[1:knots-1], [norm(Usol[1:3, k]) for k=1:knots-1], \n",
    "            label=\"Umag $(i)\")\n",
    "    end\n",
    "    \n",
    "end\n",
    "\n",
    "# for k=2:knots-2\n",
    "#     Plots.display(plot!([k], [norm(Usol[1:3, k])], label=\"Ux\"))\n",
    "# end\n",
    "\n",
    "# plot!(1:knots-1, Usol[2, :], label=\"Uy\")\n",
    "# plot!(1:knots-1, Usol[3, :], label=\"Uz\")"
   ]
  },
  {
   "cell_type": "code",
   "execution_count": null,
   "metadata": {
    "scrolled": true
   },
   "outputs": [],
   "source": [
    "Xsol,Usol = unpackZ(knots, z_sol)\n",
    "plot(Xsol[1, :], Xsol[2, :], aspect_ratio=:equal, lims=(-semiMajorAxis_goal*3,semiMajorAxis_goal*3), label=\"Solution\", lw=2)\n",
    "xlabel!(\"Orbital Units\")\n",
    "ylabel!(\"Orbital Units\")\n",
    "plot!([goal_orbit.x0[1]], [goal_orbit.x0[2]], markershape=:xcross, markersize=5, label=\"Goal State\")\n",
    "plot!([0], [0], lw=1, markershape=:o, label=\"Planet Earth\")\n",
    "plot!(X[1, :], X[2, :], title = \"Optimal Solution Tmax=10\", label = \"Reference\", lw = 3)\n",
    "sum(Usol[4,:])"
   ]
  },
  {
   "cell_type": "code",
   "execution_count": null,
   "metadata": {
    "scrolled": true
   },
   "outputs": [],
   "source": [
    "knots_final = 10000\n",
    "Xfinal = zeros((Nx, knots_final))\n",
    "Xfinal[:, 1] .= Xsol[:,end]\n",
    "for k = 1:knots_final-1\n",
    "    Xfinal[:, k+1] = dynamics_rk8(Xfinal[:, k], zeros(3), 1e-2)\n",
    "end\n",
    "plot!(Xfinal[1,:], Xfinal[2,:], )"
   ]
  },
  {
   "cell_type": "code",
   "execution_count": null,
   "metadata": {
    "scrolled": true
   },
   "outputs": [],
   "source": [
    "plot(1:knots-1, Usol[1, :], label=\"Ux\")\n",
    "plot!(1:knots-1, Usol[2, :], label=\"Uy\")\n",
    "plot!(1:knots-1, Usol[3, :], label=\"Uz\")"
   ]
  },
  {
   "cell_type": "code",
   "execution_count": 71,
   "metadata": {
    "scrolled": true
   },
   "outputs": [
    {
     "name": "stderr",
     "output_type": "stream",
     "text": [
      "┌ Info: Saved animation to \n",
      "│   fn = /home/aipex/Mitch/16-745_final_project/tmp.gif\n",
      "└ @ Plots /home/aipex/.julia/packages/Plots/lzHOt/src/animation.jl:104\n"
     ]
    },
    {
     "data": {
      "text/html": [
       "<img src=\"data:image/gif;base64,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\" />"
      ],
      "text/plain": [
       "Plots.AnimatedGif(\"/home/aipex/Mitch/16-745_final_project/tmp.gif\")"
      ]
     },
     "execution_count": 71,
     "metadata": {},
     "output_type": "execute_result"
    }
   ],
   "source": [
    "using Plots\n",
    "# define the Lorenz attractor\n",
    "Base.@kwdef mutable struct Trajectory\n",
    "#     dt::Float64 = 0.02\n",
    "#     σ::Float64 = 10\n",
    "#     ρ::Float64 = 28\n",
    "#     β::Float64 = 8/3\n",
    "    x::Float64 = Xsol[1,1]\n",
    "    y::Float64 = Xsol[2,1]\n",
    "    z::Float64 = Xsol[3,1]\n",
    "    ux::Float64 = Usol[1,1]\n",
    "    uy::Float64 = Usol[2,1]\n",
    "    uz::Float64 = Usol[3,1]\n",
    "    i::Int = 0\n",
    "end\n",
    "\n",
    "function step!(l::Trajectory)\n",
    "    l.i += 1\n",
    "    l.x = Xsol[1, l.i]\n",
    "    l.y = Xsol[2, l.i]\n",
    "    l.z = Xsol[3, l.i]\n",
    "#     l.ux = U[1, l.i]\n",
    "#     l.uy = U[2, l.i]\n",
    "#     l.uz = U[3, l.i]\n",
    "    \n",
    "#    \n",
    "end\n",
    "\n",
    "t = Trajectory()\n",
    "\n",
    "\n",
    "# initialize a 3D plot with 1 empty series\n",
    "plt = plot3d(\n",
    "    1,\n",
    "    lims=(-semiMajorAxis_goal*1.25,semiMajorAxis_goal*1.25),\n",
    "#     xlim = (-30, 30),\n",
    "#     ylim = (-30, 30),\n",
    "#     zlim = (0, 60),\n",
    "    title = \"Tmax = 1.0\",\n",
    "    marker = 2,\n",
    "    label = \"Reference Trajectory\", \n",
    "    camera = (45, 45), \n",
    "    aspect_ratio=:equal,\n",
    ")\n",
    "plot!([0], [0], [0], markershape=:o, markersize=3, label=\"Planet Earth\", color=:blue)\n",
    "xlabel!(\"Orbital Units\")\n",
    "ylabel!(\"Orbital Units\")\n",
    "# label!(\"Orbital Units\")\n",
    "# build an animated gif by pushing new points to the plot, saving every 10th frame\n",
    "@gif for i=1:knots\n",
    "    step!(t)\n",
    "    push!(plt, t.x, t.y, t.z)\n",
    "\n",
    "end every 10"
   ]
  },
  {
   "cell_type": "markdown",
   "metadata": {},
   "source": [
    "# DIRCOL Algorithm"
   ]
  },
  {
   "cell_type": "code",
   "execution_count": null,
   "metadata": {
    "scrolled": true
   },
   "outputs": [],
   "source": [
    "# TASK: Complete implement DIRCOL Algo\n",
    "\n"
   ]
  },
  {
   "cell_type": "markdown",
   "metadata": {},
   "source": [
    "### Forward Pass"
   ]
  },
  {
   "cell_type": "code",
   "execution_count": null,
   "metadata": {
    "scrolled": true
   },
   "outputs": [],
   "source": [
    "# TASK: Complete forward simulation of satelite "
   ]
  },
  {
   "cell_type": "markdown",
   "metadata": {},
   "source": [
    "## Part (b): Simple trajectory \n",
    "Planar example with quibit interpolation and no Thurst conditions"
   ]
  },
  {
   "cell_type": "code",
   "execution_count": null,
   "metadata": {
    "scrolled": true
   },
   "outputs": [],
   "source": [
    "# Task Solve Simple Trajectory"
   ]
  },
  {
   "cell_type": "code",
   "execution_count": null,
   "metadata": {
    "scrolled": true
   },
   "outputs": [],
   "source": [
    "# vis = Visualizer()\n",
    "# set_mesh!(vis, model)\n",
    "# render(vis)"
   ]
  },
  {
   "cell_type": "code",
   "execution_count": null,
   "metadata": {
    "scrolled": true
   },
   "outputs": [],
   "source": [
    "# visualize!(vis, model, tf, Xline)"
   ]
  },
  {
   "cell_type": "markdown",
   "metadata": {},
   "source": [
    "## Part (c): Higher Order DIRCOL\n",
    "Solve the simple planar problem with unconstrained thrust with higher order DIRCOL 3->8th order"
   ]
  },
  {
   "cell_type": "code",
   "execution_count": null,
   "metadata": {
    "scrolled": true
   },
   "outputs": [],
   "source": [
    "# TASK: Implement the following method"
   ]
  },
  {
   "cell_type": "code",
   "execution_count": null,
   "metadata": {
    "scrolled": true
   },
   "outputs": [],
   "source": [
    "# TASK: Plot the comparison\n"
   ]
  },
  {
   "cell_type": "markdown",
   "metadata": {},
   "source": [
    "## Part (d): Inequality Constraints \n",
    "Using the thruster constraints solve the optimization problem"
   ]
  },
  {
   "cell_type": "code",
   "execution_count": null,
   "metadata": {
    "scrolled": true
   },
   "outputs": [],
   "source": [
    "# TASK: Inequality constraints"
   ]
  },
  {
   "cell_type": "code",
   "execution_count": null,
   "metadata": {
    "scrolled": true
   },
   "outputs": [],
   "source": [
    "# render(vis)"
   ]
  },
  {
   "cell_type": "code",
   "execution_count": null,
   "metadata": {
    "scrolled": true
   },
   "outputs": [],
   "source": [
    "# visualize!(vis, model, tf, Xflip)"
   ]
  },
  {
   "cell_type": "markdown",
   "metadata": {},
   "source": [
    "## Part (e): Non-Planar Satellite Control\n"
   ]
  },
  {
   "cell_type": "code",
   "execution_count": null,
   "metadata": {
    "scrolled": true
   },
   "outputs": [],
   "source": [
    "# TASK: Non-Planar Control"
   ]
  },
  {
   "cell_type": "markdown",
   "metadata": {},
   "source": [
    "## TESTS"
   ]
  },
  {
   "cell_type": "code",
   "execution_count": null,
   "metadata": {
    "scrolled": true
   },
   "outputs": [],
   "source": [
    "# run_tests();"
   ]
  }
 ],
 "metadata": {
  "kernelspec": {
   "display_name": "Julia 1.6.1",
   "language": "julia",
   "name": "julia-1.6"
  },
  "language_info": {
   "file_extension": ".jl",
   "mimetype": "application/julia",
   "name": "julia",
   "version": "1.6.1"
  }
 },
 "nbformat": 4,
 "nbformat_minor": 4
}
