{
 "cells": [
  {
   "cell_type": "code",
   "execution_count": 1,
   "metadata": {
    "scrolled": true
   },
   "outputs": [],
   "source": [
    "import Pkg; Pkg.activate(joinpath(@__DIR__,\"..\")); Pkg.instantiate();\n",
    "# Pkg.add(\"ForwardDiff\")\n",
    "# Pkg.add(\"RobotDynamics\")\n",
    "# Pkg.add(\"LinearAlgebra\")\n",
    "# Pkg.add(\"StaticArrays\")\n",
    "# Pkg.add(\"SparseArrays\")\n",
    "# Pkg.add(\"Plots\")\n",
    "# Pkg.add(\"Printf\")\n",
    "# Pkg.add(\"Ipopt\")\n",
    "# Pkg.add(\"MathOptInterface\")\n",
    "# Pkg.add(\"TrajOptPlots\")\n",
    "# Pkg.add(\"JLD\")\n",
    "Pkg.add(\"Symbolics\")\n",
    "using ForwardDiff\n",
    "using Test\n",
    "using RobotDynamics\n",
    "using LinearAlgebra\n",
    "using StaticArrays\n",
    "using SparseArrays\n",
    "using Plots\n",
    "using Ipopt\n",
    "using MathOptInterface\n",
    "using TrajOptPlots\n",
    "using JLD\n",
    "using Symbolics\n",
    "const MOI = MathOptInterface\n",
    "# Pkg.add(\"Multi-Threading\")\n",
    "# using Multi-Threading\n",
    "# using PyPlots\n",
    "using Printf\n",
    "\n",
    "# include(\"quadratic_cost.jl\")\n"
   ]
  },
  {
   "cell_type": "markdown",
   "metadata": {},
   "source": [
    "# Final Project Info\n",
    "In this we present a geostationary transfer orbit to a geosynchronous (GSO) or geostationary orbit (GEO).  We use Keplerian Orbital Dynamics to model our system. We make several assumptions like Earth Reference Frame, Spherical Earth, Kepler Dynamics. \n",
    "\n",
    "## The Model\n",
    "We'll be using the Kepler Dynamics:\n",
    "\n",
    "$\\newcommand{\\norm}[1]{\\left\\lVert#1\\right\\rVert}$\n",
    "\n",
    "$$ \n",
    "\\ddot{r} = F = \\frac{-\\mu}{\\norm{r}^3}*r+u \\\\\n",
    "x = [r, \\dot{r}] \\\\\n",
    "\\norm{u} \\le Tmax\n",
    "$$\n",
    "with the following model parameters:\n",
    "* $\\mu$: Gravitational Parameter = 63781\n",
    "* $r$: distance to earth center\n",
    "* $u$: control of ion thruster"
   ]
  },
  {
   "cell_type": "code",
   "execution_count": 2,
   "metadata": {
    "scrolled": true
   },
   "outputs": [
    {
     "data": {
      "text/plain": [
       "20"
      ]
     },
     "execution_count": 2,
     "metadata": {},
     "output_type": "execute_result"
    }
   ],
   "source": [
    "Threads.nthreads()"
   ]
  },
  {
   "cell_type": "code",
   "execution_count": 3,
   "metadata": {
    "scrolled": true
   },
   "outputs": [
    {
     "data": {
      "text/plain": [
       "make_orbit (generic function with 1 method)"
      ]
     },
     "execution_count": 3,
     "metadata": {},
     "output_type": "execute_result"
    }
   ],
   "source": [
    "# Problem Setup\n",
    "# Dont want KM and S\n",
    "# Rescale unite to order 1\n",
    "# Length unit = SMA \n",
    "# Time scale = T orbit period\n",
    "# Helps condition number \n",
    "\n",
    "Nx = 6 \n",
    "Nu = 4 # (ax, ay, az, h)\n",
    "\n",
    "# Hint can take big steps 10 knot points per-orbit\n",
    "# model = Kepler() # TODO\n",
    "# n,m = size(model)          # state and control dimensions\n",
    "# TODO FIX ME\n",
    "dt = 0.025                 # time step (sec)\n",
    "tf = 1.5                   # time horizon (sec)\n",
    "T = Int(tf/dt) + 1         # number of time steps\n",
    "\n",
    "# n_nlp = (Nx+Nu)*T # number of decision variables\n",
    "# m_nlp = Nx*(T+1)\n",
    "\n",
    "# Initial & final condition\n",
    "\n",
    "#cartesian and ECI\n",
    "#x,y,z,vx,vy,vz\n",
    "earthRadius_km = 6378.1 # [km]\n",
    "LEO_km = 500 #km above sealevel #circular low earth orbit # 250km \n",
    "GSO_km = 35786 #km above sealevel #circular geosychonous orbit\n",
    "μ_km_s = 3.986*10e5 #gravitational0 parameter [km^3 / s^2]\n",
    "semiMajorAxis_scale = (GSO_km+earthRadius_km+earthRadius_km+LEO_km)/2\n",
    "period_scale = sqrt(semiMajorAxis_scale^3/μ_km_s)*2*pi\n",
    "μ = μ_km_s*period_scale^2/semiMajorAxis_scale^3  #μ(OU^3/P^2)\n",
    "\n",
    "struct Orbit{T}\n",
    "    semiMajorAxis::T\n",
    "    period::T\n",
    "    perigee::T #closest radius to earth\n",
    "    perigee_V::T #velocity at perigee\n",
    "    x0::Vector{T}\n",
    "#     function Orbit(x0) \n",
    "#         print(x0) #best is to input point with velocity and calucate useful parts of orbit\n",
    "#     end\n",
    "end\n",
    "\n",
    "function make_orbit(x0)\n",
    "    velocity = norm(x0[4:end])\n",
    "    \n",
    "    radius = norm(x0[1:3])\n",
    "    \n",
    "    semiMajorAxis = 1/(-velocity^2/μ+2/radius)  #reverse vis a viv\n",
    "    \n",
    "    period = sqrt(semiMajorAxis^3/μ)*2*pi       #period equation\n",
    "    \n",
    "    E = velocity^2/2 - μ/radius   #specific energy of satellite\n",
    "    \n",
    "    J = norm(cross(x0[1:3],x0[4:end]))           #specific momentum of satellite\n",
    "    \n",
    "    perigee = -μ/(2*E) - 1/2*sqrt(μ^2/(E^2)+2*J^2/E) #solve quadratic when velocity of radius is 0\n",
    "    \n",
    "    perigee_v =  sqrt(μ*(2.0/perigee-1.0/semiMajorAxis)) # Vis a Viv\n",
    "    apogee  = -μ/(2*E) + 1/2(μ^2/(E^2)+2*J^2/E) #solve quadratic when velocity of radius is 0\n",
    "    apogee_v =  sqrt(μ*(2.0/apogee-1.0/semiMajorAxis)) # Vis a Viv\n",
    "    return Orbit(semiMajorAxis, period, perigee, perigee_v, x0)\n",
    "end"
   ]
  },
  {
   "cell_type": "code",
   "execution_count": 4,
   "metadata": {
    "scrolled": true
   },
   "outputs": [
    {
     "data": {
      "text/plain": [
       "Orbit{Float64}(1.0, 1.0, 0.28049720444841386, 15.556684458046954, [0.28049720444841386, 0.0, 0.0, 0.0, 15.556684458046954, 0.0])"
      ]
     },
     "execution_count": 4,
     "metadata": {},
     "output_type": "execute_result"
    }
   ],
   "source": [
    "# Geosynchronous Transfer orbit (starting position)\n",
    "semiMajorAxis_transfer = (GSO_km+earthRadius_km+earthRadius_km+LEO_km)/(2*semiMajorAxis_scale) #OU\n",
    "instantRadius_transfer = (earthRadius_km+LEO_km) / semiMajorAxis_scale # #OU\n",
    "instantVelocity_transfer = sqrt(μ*(2.0/instantRadius_transfer-1.0/semiMajorAxis_transfer)) #sqrt(OU^3/P^2/OU) =OU/P\n",
    "period_transfer = sqrt(semiMajorAxis_transfer^3/μ)*2*pi\n",
    "x0    = [instantRadius_transfer, 0.0, 0.0, 0.0, instantVelocity_transfer, 0.0] # initial state #geosynchronous transfer orbit (GTO, where rocket dropped satellite off)\n",
    "                                                                             #many kilometers above Africa in an elliptical orbit \n",
    "transfer_orbit = Orbit(semiMajorAxis_transfer, period_transfer, instantRadius_transfer, instantVelocity_transfer, x0)"
   ]
  },
  {
   "cell_type": "code",
   "execution_count": 5,
   "metadata": {
    "scrolled": true
   },
   "outputs": [
    {
     "data": {
      "text/plain": [
       "3-element Vector{Float64}:\n",
       " 0.0\n",
       " 0.0\n",
       " 0.0"
      ]
     },
     "execution_count": 5,
     "metadata": {},
     "output_type": "execute_result"
    }
   ],
   "source": [
    "# Geosynchronous Orbit (goal position)\n",
    "semiMajorAxis_goal = 2*(earthRadius_km+GSO_km)/(2*semiMajorAxis_scale)\n",
    "instantRadius_goal = (earthRadius_km+GSO_km) / semiMajorAxis_scale\n",
    "instantVelocity_goal = sqrt(μ*(2.0/instantRadius_goal-1.0/semiMajorAxis_goal)) # VisViva\n",
    "period_goal = sqrt(semiMajorAxis_goal^3/μ)*2*pi\n",
    "xgoal = [instantRadius_goal, 0.0, 0.0, 0.0, instantVelocity_goal, 0.0] # goal state #circular geosychonous orbit above africa\n",
    "goal_orbit = Orbit(semiMajorAxis_goal, period_goal, instantRadius_goal, instantVelocity_goal, xgoal)\n",
    "ugto = zeros(3)                  # hover controls\n"
   ]
  },
  {
   "cell_type": "markdown",
   "metadata": {},
   "source": [
    "## Cost Function"
   ]
  },
  {
   "cell_type": "markdown",
   "metadata": {},
   "source": [
    "\\begin{equation}\n",
    "    \\text{minimize} \\sum_{k=1}^{N-1} (||u_k||^2 + (r_k-\\bar{r})^2 + \\frac{1}{r_k} * h_k) + (r_N-\\bar{r})^2+(\\dot{r}_N-\\bar{\\dot{r}})^2 \\\\\n",
    "    x_1=x_{init} \\\\\n",
    "    r_N = \\bar{r} \\\\\n",
    "    \\dot{r_N} = \\bar{\\dot{r}} \\\\\n",
    "    x_N \\cdot \\dot{x}_N = 0 \\\\\n",
    "    f(x_k, u_k) = x_{k+1} \\forall k \\\\\n",
    "    0\\leq||u_k||\\leq T_{max} \\forall k \\\\\n",
    "    h_{min}\\leq h_k \\leq h_{max} \\forall k\n",
    "\\end{equation}"
   ]
  },
  {
   "cell_type": "code",
   "execution_count": 6,
   "metadata": {
    "scrolled": true
   },
   "outputs": [
    {
     "data": {
      "text/plain": [
       "cost (generic function with 1 method)"
      ]
     },
     "execution_count": 6,
     "metadata": {},
     "output_type": "execute_result"
    }
   ],
   "source": [
    "function cost(prob, Z)\n",
    "    X, U = unpackZ(prob.N, Z)\n",
    "   # U = Z[Nx+1:Nx+Nu, :]\n",
    "    N = prob.N\n",
    "    J = 0.0\n",
    "    for k = 1:N-1\n",
    "        r = norm(X[1:3, k])\n",
    "        J += norm(U[1:3, k])^2 + (r-goal_orbit.perigee)^2 + 1/r*U[end, k]\n",
    "    end \n",
    "    # Check major and semi-major axis \n",
    "    J += ((norm(X[1:3,end])-norm(xgoal[1:3]))^2+(norm(X[4:end,end])-norm(xgoal[4:end]))^2)\n",
    "    return J \n",
    "end"
   ]
  },
  {
   "cell_type": "markdown",
   "metadata": {},
   "source": [
    "## Dynamics"
   ]
  },
  {
   "cell_type": "code",
   "execution_count": 7,
   "metadata": {
    "scrolled": true
   },
   "outputs": [
    {
     "data": {
      "text/plain": [
       "dynamics (generic function with 1 method)"
      ]
     },
     "execution_count": 7,
     "metadata": {},
     "output_type": "execute_result"
    }
   ],
   "source": [
    "function dynamics(x, u)\n",
    "    # x = state [x, y, z, dx, dy, dz]\n",
    "    # u = control [ux, uy, uz, h]\n",
    "    r = x[1:3] #orbital units (OU)\n",
    "    ṙ = x[4:end] #\n",
    "    r̈ = (-μ/(norm(r)^3))*r + u[1:3] #μ(OU^3/P^2)/OU^3*OU\n",
    "    return [ṙ; r̈]\n",
    "end"
   ]
  },
  {
   "cell_type": "code",
   "execution_count": 8,
   "metadata": {
    "scrolled": true
   },
   "outputs": [
    {
     "data": {
      "text/plain": [
       "integrator! (generic function with 1 method)"
      ]
     },
     "execution_count": 8,
     "metadata": {},
     "output_type": "execute_result"
    }
   ],
   "source": [
    "function integrator!(x, u, h)\n",
    "    # x = state\n",
    "    # u = control\n",
    "    # h = time step\n",
    "#     ẋ = dynamics(x, u)\n",
    "    f1 = dynamics(x, u)\n",
    "    f2 = dynamics(x + 0.5*h*f1, u)\n",
    "    f3 = dynamics(x + 0.5*h*f2, u)\n",
    "    f4 = dynamics(x + h*f3, u)\n",
    "    x .+= (h/6.0)*(f1 + 2*f2 + 2*f3 + f4)\n",
    "end"
   ]
  },
  {
   "cell_type": "code",
   "execution_count": 9,
   "metadata": {
    "scrolled": true
   },
   "outputs": [
    {
     "data": {
      "text/plain": [
       "dynamics_rk4 (generic function with 1 method)"
      ]
     },
     "execution_count": 9,
     "metadata": {},
     "output_type": "execute_result"
    }
   ],
   "source": [
    "function dynamics_rk4(x, u, h) # Maybe rk8 or more\n",
    "    # x = state\n",
    "    # u = control\n",
    "    # h = time step\n",
    "#     ẋ = dynamics(x, u)\n",
    "    f1 = dynamics(x, u)\n",
    "    f2 = dynamics(x + 0.5*h*f1, u)\n",
    "    f3 = dynamics(x + 0.5*h*f2, u)\n",
    "    f4 = dynamics(x + h*f3, u)\n",
    "    return (x + (h/6.0)*(f1 + 2*f2 + 2*f3 + f4))\n",
    "end"
   ]
  },
  {
   "cell_type": "code",
   "execution_count": 10,
   "metadata": {
    "scrolled": true
   },
   "outputs": [
    {
     "data": {
      "text/plain": [
       "dynamics_rk8 (generic function with 1 method)"
      ]
     },
     "execution_count": 10,
     "metadata": {},
     "output_type": "execute_result"
    }
   ],
   "source": [
    "function dynamics_rk8(x, u, h)\n",
    "    f1 = dynamics(x, u)\n",
    "    f2 = dynamics(x+(h*4/27)*f1, u)\n",
    "    f3 = dynamics(x+ h/18*(f1+3*f2), u)\n",
    "    f4 = dynamics(x+ h/12*(f1+3*f3), u)\n",
    "    f5 = dynamics(x+ h/8*(f1+3*f4), u)\n",
    "    f6 = dynamics(x+ h/54*(12*f1-27*f3+42*f4+8*f5), u)\n",
    "    f7 = dynamics(x+ (h/4320)*(389*f1-54*f3+966*f4-824*f5+243*f6), u)\n",
    "    f8 = dynamics(x+  (h/20)*(-234*f1+81*f3-1164*f4+656*f5-122*f6+800*f7), u)\n",
    "    f9 = dynamics(x+ (h/288)*(-127*f1+18*f3-678*f4+456*f5-9*f6+576*f7+4*f8), u)\n",
    "    f10 = dynamics(x+ (h/820)*(1481*f1-81*f3+7104*f4-3376*f5+72*f6-5040*f7-60*f8+720*f9), u)\n",
    "    \n",
    "    return (x + h/840*(41*f1+27*f4+272*f5+27*f6+216*f7+216*f9+41*f10))\n",
    "\n",
    "end"
   ]
  },
  {
   "cell_type": "code",
   "execution_count": 11,
   "metadata": {
    "scrolled": true
   },
   "outputs": [
    {
     "data": {
      "text/plain": [
       "integrator_rk8! (generic function with 1 method)"
      ]
     },
     "execution_count": 11,
     "metadata": {},
     "output_type": "execute_result"
    }
   ],
   "source": [
    "function integrator_rk8!(x, u, h)\n",
    "    f1 = dynamics(x, u)\n",
    "    f2 = dynamics(x+(h*4/27)*f1, u)\n",
    "    f3 = dynamics(x+ h/18*(f1+3*f2), u)\n",
    "    f4 = dynamics(x+ h/12*(f1+3*f3), u)\n",
    "    f5 = dynamics(x+ h/8*(f1+3*f4), u)\n",
    "    f6 = dynamics(x+ h/54*(12*f1-27*f3+42*f4+8*f5), u)\n",
    "    f7 = dynamics(x+ (h/4320)*(389*f1-54*f3+966*f4-824*f5+243*f6), u)\n",
    "    f8 = dynamics(x+  (h/20)*(-234*f1+81*f3-1164*f4+656*f5-122*f6+800*f7), u)\n",
    "    f9 = dynamics(x+ (h/288)*(-127*f1+18*f3-678*f4+456*f5-9*f6+576*f7+4*f8), u)\n",
    "    f10 = dynamics(x+ (h/820)*(1481*f1-81*f3+7104*f4-3376*f5+72*f6-5040*f7-60*f8+720*f9), u)\n",
    "    \n",
    "    x .+= (h/840)*(41*f1+27*f4+272*f5+27*f6+216*f7+216*f9+41*f10)\n",
    "end"
   ]
  },
  {
   "cell_type": "code",
   "execution_count": 12,
   "metadata": {
    "scrolled": true
   },
   "outputs": [],
   "source": [
    "# function dynamics_rkX(x, u, h, s)\n",
    "#     k1 = dynamics(x, u)\n",
    "#     ks =\n",
    "#     for i = 1:s-2\n",
    "#         k = dynamics(x + 1/(s-2)*prev_k*h, u)\n",
    "        \n",
    "        "
   ]
  },
  {
   "cell_type": "code",
   "execution_count": 12,
   "metadata": {
    "scrolled": true
   },
   "outputs": [
    {
     "data": {
      "text/plain": [
       "get_energy (generic function with 1 method)"
      ]
     },
     "execution_count": 12,
     "metadata": {},
     "output_type": "execute_result"
    }
   ],
   "source": [
    "function get_energy(x)\n",
    "    return norm(x[4:end])^2/2 - μ/norm(x[1:3])\n",
    "end"
   ]
  },
  {
   "cell_type": "code",
   "execution_count": 13,
   "metadata": {
    "scrolled": true
   },
   "outputs": [
    {
     "data": {
      "text/plain": [
       "plot_orbit (generic function with 1 method)"
      ]
     },
     "execution_count": 13,
     "metadata": {},
     "output_type": "execute_result"
    }
   ],
   "source": [
    "knots = 174\n",
    "function plot_orbit(orbit::Orbit)\n",
    "    t = range(0, 100, length=knots) \n",
    "    h = 4/(knots-1)#t[2]-t[1]\n",
    "    traj = zeros(size(t)[1], size(x0)[1])\n",
    "    x = copy(orbit.x0)\n",
    "    traj[1,:] .= x\n",
    "    \n",
    "    u = zeros(3)\n",
    "    energy = zero(t)\n",
    "    energy[1] = get_energy(x)\n",
    "    for i in 2:size(t)[1]\n",
    "        x = dynamics_rk8(x, u, h)\n",
    "#         x = dynamics_rk8(x, u, h)\n",
    "        traj[i,:] .= x\n",
    "        energy[i] = get_energy(x)\n",
    "#         orbit = make_orbit(x)\n",
    "    end\n",
    "#     plot(t, energy)\n",
    "    plot(traj[:, 1], traj[:, 2], aspect_ratio=:equal, lims=(-semiMajorAxis_goal*1.5,semiMajorAxis_goal*1.5))\n",
    "    return traj\n",
    "end"
   ]
  },
  {
   "cell_type": "code",
   "execution_count": 15,
   "metadata": {
    "scrolled": true
   },
   "outputs": [
    {
     "data": {
      "text/plain": [
       "1.0"
      ]
     },
     "execution_count": 15,
     "metadata": {},
     "output_type": "execute_result"
    }
   ],
   "source": [
    "0.025*40"
   ]
  },
  {
   "cell_type": "code",
   "execution_count": 16,
   "metadata": {
    "scrolled": true
   },
   "outputs": [
    {
     "name": "stdout",
     "output_type": "stream",
     "text": [
      "DIFFERENCE: 15.210813463710045\n"
     ]
    },
    {
     "data": {
      "image/svg+xml": [
       "<?xml version=\"1.0\" encoding=\"utf-8\"?>\n",
       "<svg xmlns=\"http://www.w3.org/2000/svg\" xmlns:xlink=\"http://www.w3.org/1999/xlink\" width=\"600\" height=\"400\" viewBox=\"0 0 2400 1600\">\n",
       "<defs>\n",
       "  <clipPath id=\"clip460\">\n",
       "    <rect x=\"0\" y=\"0\" width=\"2400\" height=\"1600\"/>\n",
       "  </clipPath>\n",
       "</defs>\n",
       "<path clip-path=\"url(#clip460)\" d=\"\n",
       "M0 1600 L2400 1600 L2400 0 L0 0  Z\n",
       "  \" fill=\"#ffffff\" fill-rule=\"evenodd\" fill-opacity=\"1\"/>\n",
       "<defs>\n",
       "  <clipPath id=\"clip461\">\n",
       "    <rect x=\"480\" y=\"0\" width=\"1681\" height=\"1600\"/>\n",
       "  </clipPath>\n",
       "</defs>\n",
       "<path clip-path=\"url(#clip460)\" d=\"\n",
       "M530.515 1486.45 L1969.72 1486.45 L1969.72 47.2441 L530.515 47.2441  Z\n",
       "  \" fill=\"#ffffff\" fill-rule=\"evenodd\" fill-opacity=\"1\"/>\n",
       "<defs>\n",
       "  <clipPath id=\"clip462\">\n",
       "    <rect x=\"530\" y=\"47\" width=\"1440\" height=\"1440\"/>\n",
       "  </clipPath>\n",
       "</defs>\n",
       "<polyline clip-path=\"url(#clip462)\" style=\"stroke:#000000; stroke-width:2; stroke-opacity:0.1; fill:none\" points=\"\n",
       "  692.125,1486.45 692.125,47.2441 \n",
       "  \"/>\n",
       "<polyline clip-path=\"url(#clip462)\" style=\"stroke:#000000; stroke-width:2; stroke-opacity:0.1; fill:none\" points=\"\n",
       "  971.121,1486.45 971.121,47.2441 \n",
       "  \"/>\n",
       "<polyline clip-path=\"url(#clip462)\" style=\"stroke:#000000; stroke-width:2; stroke-opacity:0.1; fill:none\" points=\"\n",
       "  1250.12,1486.45 1250.12,47.2441 \n",
       "  \"/>\n",
       "<polyline clip-path=\"url(#clip462)\" style=\"stroke:#000000; stroke-width:2; stroke-opacity:0.1; fill:none\" points=\"\n",
       "  1529.11,1486.45 1529.11,47.2441 \n",
       "  \"/>\n",
       "<polyline clip-path=\"url(#clip462)\" style=\"stroke:#000000; stroke-width:2; stroke-opacity:0.1; fill:none\" points=\"\n",
       "  1808.11,1486.45 1808.11,47.2441 \n",
       "  \"/>\n",
       "<polyline clip-path=\"url(#clip460)\" style=\"stroke:#000000; stroke-width:4; stroke-opacity:1; fill:none\" points=\"\n",
       "  530.515,1486.45 1969.72,1486.45 \n",
       "  \"/>\n",
       "<polyline clip-path=\"url(#clip460)\" style=\"stroke:#000000; stroke-width:4; stroke-opacity:1; fill:none\" points=\"\n",
       "  692.125,1486.45 692.125,1469.18 \n",
       "  \"/>\n",
       "<polyline clip-path=\"url(#clip460)\" style=\"stroke:#000000; stroke-width:4; stroke-opacity:1; fill:none\" points=\"\n",
       "  971.121,1486.45 971.121,1469.18 \n",
       "  \"/>\n",
       "<polyline clip-path=\"url(#clip460)\" style=\"stroke:#000000; stroke-width:4; stroke-opacity:1; fill:none\" points=\"\n",
       "  1250.12,1486.45 1250.12,1469.18 \n",
       "  \"/>\n",
       "<polyline clip-path=\"url(#clip460)\" style=\"stroke:#000000; stroke-width:4; stroke-opacity:1; fill:none\" points=\"\n",
       "  1529.11,1486.45 1529.11,1469.18 \n",
       "  \"/>\n",
       "<polyline clip-path=\"url(#clip460)\" style=\"stroke:#000000; stroke-width:4; stroke-opacity:1; fill:none\" points=\"\n",
       "  1808.11,1486.45 1808.11,1469.18 \n",
       "  \"/>\n",
       "<path clip-path=\"url(#clip460)\" d=\"M 0 0 M662.067 1530.29 L691.743 1530.29 L691.743 1534.23 L662.067 1534.23 L662.067 1530.29 Z\" fill=\"#000000\" fill-rule=\"evenodd\" fill-opacity=\"1\" /><path clip-path=\"url(#clip460)\" d=\"M 0 0 M705.863 1543.18 L722.182 1543.18 L722.182 1547.12 L700.238 1547.12 L700.238 1543.18 Q702.9 1540.43 707.483 1535.8 Q712.09 1531.15 713.27 1529.81 Q715.516 1527.28 716.395 1525.55 Q717.298 1523.79 717.298 1522.1 Q717.298 1519.34 715.354 1517.61 Q713.432 1515.87 710.331 1515.87 Q708.132 1515.87 705.678 1516.63 Q703.247 1517.4 700.47 1518.95 L700.47 1514.23 Q703.294 1513.09 705.747 1512.51 Q708.201 1511.93 710.238 1511.93 Q715.608 1511.93 718.803 1514.62 Q721.997 1517.31 721.997 1521.8 Q721.997 1523.93 721.187 1525.85 Q720.4 1527.74 718.294 1530.34 Q717.715 1531.01 714.613 1534.23 Q711.511 1537.42 705.863 1543.18 Z\" fill=\"#000000\" fill-rule=\"evenodd\" fill-opacity=\"1\" /><path clip-path=\"url(#clip460)\" d=\"M 0 0 M940.878 1530.29 L970.554 1530.29 L970.554 1534.23 L940.878 1534.23 L940.878 1530.29 Z\" fill=\"#000000\" fill-rule=\"evenodd\" fill-opacity=\"1\" /><path clip-path=\"url(#clip460)\" d=\"M 0 0 M981.456 1543.18 L989.095 1543.18 L989.095 1516.82 L980.785 1518.49 L980.785 1514.23 L989.049 1512.56 L993.725 1512.56 L993.725 1543.18 L1001.36 1543.18 L1001.36 1547.12 L981.456 1547.12 L981.456 1543.18 Z\" fill=\"#000000\" fill-rule=\"evenodd\" fill-opacity=\"1\" /><path clip-path=\"url(#clip460)\" d=\"M 0 0 M1250.12 1515.64 Q1246.51 1515.64 1244.68 1519.2 Q1242.87 1522.75 1242.87 1529.87 Q1242.87 1536.98 1244.68 1540.55 Q1246.51 1544.09 1250.12 1544.09 Q1253.75 1544.09 1255.56 1540.55 Q1257.39 1536.98 1257.39 1529.87 Q1257.39 1522.75 1255.56 1519.2 Q1253.75 1515.64 1250.12 1515.64 M1250.12 1511.93 Q1255.93 1511.93 1258.98 1516.54 Q1262.06 1521.12 1262.06 1529.87 Q1262.06 1538.6 1258.98 1543.21 Q1255.93 1547.79 1250.12 1547.79 Q1244.31 1547.79 1241.23 1543.21 Q1238.17 1538.6 1238.17 1529.87 Q1238.17 1521.12 1241.23 1516.54 Q1244.31 1511.93 1250.12 1511.93 Z\" fill=\"#000000\" fill-rule=\"evenodd\" fill-opacity=\"1\" /><path clip-path=\"url(#clip460)\" d=\"M 0 0 M1519.5 1543.18 L1527.13 1543.18 L1527.13 1516.82 L1518.82 1518.49 L1518.82 1514.23 L1527.09 1512.56 L1531.76 1512.56 L1531.76 1543.18 L1539.4 1543.18 L1539.4 1547.12 L1519.5 1547.12 L1519.5 1543.18 Z\" fill=\"#000000\" fill-rule=\"evenodd\" fill-opacity=\"1\" /><path clip-path=\"url(#clip460)\" d=\"M 0 0 M1802.76 1543.18 L1819.08 1543.18 L1819.08 1547.12 L1797.14 1547.12 L1797.14 1543.18 Q1799.8 1540.43 1804.38 1535.8 Q1808.99 1531.15 1810.17 1529.81 Q1812.41 1527.28 1813.29 1525.55 Q1814.2 1523.79 1814.2 1522.1 Q1814.2 1519.34 1812.25 1517.61 Q1810.33 1515.87 1807.23 1515.87 Q1805.03 1515.87 1802.58 1516.63 Q1800.15 1517.4 1797.37 1518.95 L1797.37 1514.23 Q1800.19 1513.09 1802.65 1512.51 Q1805.1 1511.93 1807.14 1511.93 Q1812.51 1511.93 1815.7 1514.62 Q1818.9 1517.31 1818.9 1521.8 Q1818.9 1523.93 1818.09 1525.85 Q1817.3 1527.74 1815.19 1530.34 Q1814.61 1531.01 1811.51 1534.23 Q1808.41 1537.42 1802.76 1543.18 Z\" fill=\"#000000\" fill-rule=\"evenodd\" fill-opacity=\"1\" /><polyline clip-path=\"url(#clip462)\" style=\"stroke:#000000; stroke-width:2; stroke-opacity:0.1; fill:none\" points=\"\n",
       "  530.515,1324.84 1969.72,1324.84 \n",
       "  \"/>\n",
       "<polyline clip-path=\"url(#clip462)\" style=\"stroke:#000000; stroke-width:2; stroke-opacity:0.1; fill:none\" points=\"\n",
       "  530.515,1045.84 1969.72,1045.84 \n",
       "  \"/>\n",
       "<polyline clip-path=\"url(#clip462)\" style=\"stroke:#000000; stroke-width:2; stroke-opacity:0.1; fill:none\" points=\"\n",
       "  530.515,766.846 1969.72,766.846 \n",
       "  \"/>\n",
       "<polyline clip-path=\"url(#clip462)\" style=\"stroke:#000000; stroke-width:2; stroke-opacity:0.1; fill:none\" points=\"\n",
       "  530.515,487.85 1969.72,487.85 \n",
       "  \"/>\n",
       "<polyline clip-path=\"url(#clip462)\" style=\"stroke:#000000; stroke-width:2; stroke-opacity:0.1; fill:none\" points=\"\n",
       "  530.515,208.854 1969.72,208.854 \n",
       "  \"/>\n",
       "<polyline clip-path=\"url(#clip460)\" style=\"stroke:#000000; stroke-width:4; stroke-opacity:1; fill:none\" points=\"\n",
       "  530.515,1486.45 530.515,47.2441 \n",
       "  \"/>\n",
       "<polyline clip-path=\"url(#clip460)\" style=\"stroke:#000000; stroke-width:4; stroke-opacity:1; fill:none\" points=\"\n",
       "  530.515,1324.84 547.785,1324.84 \n",
       "  \"/>\n",
       "<polyline clip-path=\"url(#clip460)\" style=\"stroke:#000000; stroke-width:4; stroke-opacity:1; fill:none\" points=\"\n",
       "  530.515,1045.84 547.785,1045.84 \n",
       "  \"/>\n",
       "<polyline clip-path=\"url(#clip460)\" style=\"stroke:#000000; stroke-width:4; stroke-opacity:1; fill:none\" points=\"\n",
       "  530.515,766.846 547.785,766.846 \n",
       "  \"/>\n",
       "<polyline clip-path=\"url(#clip460)\" style=\"stroke:#000000; stroke-width:4; stroke-opacity:1; fill:none\" points=\"\n",
       "  530.515,487.85 547.785,487.85 \n",
       "  \"/>\n",
       "<polyline clip-path=\"url(#clip460)\" style=\"stroke:#000000; stroke-width:4; stroke-opacity:1; fill:none\" points=\"\n",
       "  530.515,208.854 547.785,208.854 \n",
       "  \"/>\n",
       "<path clip-path=\"url(#clip460)\" d=\"M 0 0 M434.4 1325.29 L464.075 1325.29 L464.075 1329.22 L434.4 1329.22 L434.4 1325.29 Z\" fill=\"#000000\" fill-rule=\"evenodd\" fill-opacity=\"1\" /><path clip-path=\"url(#clip460)\" d=\"M 0 0 M478.196 1338.18 L494.515 1338.18 L494.515 1342.12 L472.571 1342.12 L472.571 1338.18 Q475.233 1335.43 479.816 1330.8 Q484.422 1326.15 485.603 1324.8 Q487.848 1322.28 488.728 1320.54 Q489.631 1318.78 489.631 1317.1 Q489.631 1314.34 487.686 1312.6 Q485.765 1310.87 482.663 1310.87 Q480.464 1310.87 478.01 1311.63 Q475.58 1312.4 472.802 1313.95 L472.802 1309.22 Q475.626 1308.09 478.08 1307.51 Q480.534 1306.93 482.571 1306.93 Q487.941 1306.93 491.135 1309.62 Q494.33 1312.3 494.33 1316.79 Q494.33 1318.92 493.52 1320.85 Q492.733 1322.74 490.626 1325.34 Q490.047 1326.01 486.946 1329.22 Q483.844 1332.42 478.196 1338.18 Z\" fill=\"#000000\" fill-rule=\"evenodd\" fill-opacity=\"1\" /><path clip-path=\"url(#clip460)\" d=\"M 0 0 M434.029 1046.29 L463.705 1046.29 L463.705 1050.23 L434.029 1050.23 L434.029 1046.29 Z\" fill=\"#000000\" fill-rule=\"evenodd\" fill-opacity=\"1\" /><path clip-path=\"url(#clip460)\" d=\"M 0 0 M474.608 1059.19 L482.247 1059.19 L482.247 1032.82 L473.936 1034.49 L473.936 1030.23 L482.2 1028.56 L486.876 1028.56 L486.876 1059.19 L494.515 1059.19 L494.515 1063.12 L474.608 1063.12 L474.608 1059.19 Z\" fill=\"#000000\" fill-rule=\"evenodd\" fill-opacity=\"1\" /><path clip-path=\"url(#clip460)\" d=\"M 0 0 M482.571 752.645 Q478.96 752.645 477.131 756.209 Q475.325 759.751 475.325 766.881 Q475.325 773.987 477.131 777.552 Q478.96 781.094 482.571 781.094 Q486.205 781.094 488.01 777.552 Q489.839 773.987 489.839 766.881 Q489.839 759.751 488.01 756.209 Q486.205 752.645 482.571 752.645 M482.571 748.941 Q488.381 748.941 491.436 753.547 Q494.515 758.131 494.515 766.881 Q494.515 775.608 491.436 780.214 Q488.381 784.797 482.571 784.797 Q476.76 784.797 473.682 780.214 Q470.626 775.608 470.626 766.881 Q470.626 758.131 473.682 753.547 Q476.76 748.941 482.571 748.941 Z\" fill=\"#000000\" fill-rule=\"evenodd\" fill-opacity=\"1\" /><path clip-path=\"url(#clip460)\" d=\"M 0 0 M474.608 501.195 L482.247 501.195 L482.247 474.829 L473.936 476.496 L473.936 472.237 L482.2 470.57 L486.876 470.57 L486.876 501.195 L494.515 501.195 L494.515 505.13 L474.608 505.13 L474.608 501.195 Z\" fill=\"#000000\" fill-rule=\"evenodd\" fill-opacity=\"1\" /><path clip-path=\"url(#clip460)\" d=\"M 0 0 M478.196 222.199 L494.515 222.199 L494.515 226.134 L472.571 226.134 L472.571 222.199 Q475.233 219.444 479.816 214.814 Q484.422 210.162 485.603 208.819 Q487.848 206.296 488.728 204.56 Q489.631 202.801 489.631 201.111 Q489.631 198.356 487.686 196.62 Q485.765 194.884 482.663 194.884 Q480.464 194.884 478.01 195.648 Q475.58 196.412 472.802 197.963 L472.802 193.24 Q475.626 192.106 478.08 191.527 Q480.534 190.949 482.571 190.949 Q487.941 190.949 491.135 193.634 Q494.33 196.319 494.33 200.81 Q494.33 202.939 493.52 204.861 Q492.733 206.759 490.626 209.351 Q490.047 210.023 486.946 213.24 Q483.844 216.435 478.196 222.199 Z\" fill=\"#000000\" fill-rule=\"evenodd\" fill-opacity=\"1\" /><polyline clip-path=\"url(#clip462)\" style=\"stroke:#009af9; stroke-width:4; stroke-opacity:1; fill:none\" points=\"\n",
       "  1328.37,766.846 1297.77,678.544 1241.1,626.046 1184.45,597.303 1132.55,581.92 1085.74,574.78 1043.59,573.178 1005.62,575.535 971.394,580.848 940.574,588.445 \n",
       "  912.87,597.845 888.049,608.695 865.922,620.725 846.333,633.723 829.154,647.518 814.28,661.968 801.625,676.953 791.119,692.369 782.706,708.126 776.344,724.141 \n",
       "  771.999,740.338 769.652,756.646 769.289,772.997 770.909,789.322 774.52,805.553 780.137,821.622 787.789,837.452 797.513,852.966 809.359,868.076 823.391,882.683 \n",
       "  839.686,896.674 858.342,909.917 879.474,922.254 903.225,933.489 929.769,943.379 959.317,951.608 992.129,957.753 1028.52,961.231 1068.89,961.196 1113.68,956.35 \n",
       "  1163.37,944.554 1218.08,921.936 1275.79,880.782 1322.62,807.31 1316.94,711.076 1265.76,644.084 1207.93,607.042 1153.87,586.82 1104.91,576.562 1060.79,572.783 \n",
       "  1021.03,573.528 985.173,577.597 952.842,584.199 923.723,592.785 897.564,602.955 874.159,614.41 853.337,626.915 834.958,640.284 818.91,654.365 805.095,669.03 \n",
       "  793.439,684.17 783.877,699.69 776.361,715.506 770.852,731.539 767.324,747.719 765.758,763.977 766.146,780.246 768.49,796.461 772.799,812.556 779.093,828.46 \n",
       "  787.402,844.1 797.767,859.396 810.238,874.261 824.883,888.594 841.781,902.281 861.031,915.187 882.753,927.147 907.092,937.963 934.225,947.381 964.368,955.072 \n",
       "  997.785,960.596 1034.8,963.34 1075.8,962.412 1121.25,956.428 1171.58,943.088 1226.76,918.184 1284.05,873.29 1326.26,794.734 1312.02,700.053 1258.57,637.807 \n",
       "  1201.01,603.439 1147.56,584.686 1099.19,575.309 1055.58,572.094 1016.25,573.216 980.751,577.539 948.723,584.312 919.857,593.01 893.907,603.249 870.671,614.738 \n",
       "  849.984,627.251 831.708,640.609 815.732,654.661 801.961,669.284 790.321,684.372 780.749,699.832 773.197,715.581 767.627,731.543 764.01,747.649 762.329,763.831 \n",
       "  762.575,780.025 764.748,796.167 768.857,812.192 774.919,828.033 782.962,843.618 793.024,858.872 805.154,873.708 819.413,888.032 835.878,901.735 854.64,914.688 \n",
       "  875.812,926.738 899.531,937.698 925.962,947.332 955.305,955.339 987.805,961.318 1023.76,964.719 1063.55,964.751 1107.58,960.218 1156.32,949.18 1209.94,928.205 \n",
       "  1267.08,890.597 1317.54,823.69 1323.69,727.849 1277.3,653.773 1219.42,612.088 1164.38,589.13 1114.34,577.082 1069.18,572.019 1028.43,571.774 991.632,575.04 \n",
       "  958.396,580.963 928.395,588.959 901.366,598.605 877.094,609.586 855.402,621.657 836.144,634.627 819.2,648.336 804.47,662.657 791.873,677.476 781.34,692.699 \n",
       "  772.818,708.241 766.264,724.025 761.646,739.981 758.941,756.042 758.135,772.145 759.223,788.228 762.208,804.228 767.103,820.082 773.928,835.723 782.712,851.08 \n",
       "  793.498,866.076 806.336,880.625 821.29,894.631 838.439,907.982 857.879,920.546 879.725,932.165 904.118,942.644 931.227,951.74 961.257,959.135 994.459,964.409 \n",
       "  1031.14,966.978 1071.67,966 1116.48,960.184 1165.99,947.418 \n",
       "  \"/>\n",
       "<line clip-path=\"url(#clip462)\" x1=\"1328.37\" y1=\"766.846\" x2=\"1308.37\" y2=\"746.846\" style=\"stroke:#e26f46; stroke-width:3.2; stroke-opacity:1\"/>\n",
       "<line clip-path=\"url(#clip462)\" x1=\"1328.37\" y1=\"766.846\" x2=\"1308.37\" y2=\"786.846\" style=\"stroke:#e26f46; stroke-width:3.2; stroke-opacity:1\"/>\n",
       "<line clip-path=\"url(#clip462)\" x1=\"1328.37\" y1=\"766.846\" x2=\"1348.37\" y2=\"786.846\" style=\"stroke:#e26f46; stroke-width:3.2; stroke-opacity:1\"/>\n",
       "<line clip-path=\"url(#clip462)\" x1=\"1328.37\" y1=\"766.846\" x2=\"1348.37\" y2=\"746.846\" style=\"stroke:#e26f46; stroke-width:3.2; stroke-opacity:1\"/>\n",
       "<line clip-path=\"url(#clip462)\" x1=\"1165.99\" y1=\"947.418\" x2=\"1145.99\" y2=\"927.418\" style=\"stroke:#3da44d; stroke-width:3.2; stroke-opacity:1\"/>\n",
       "<line clip-path=\"url(#clip462)\" x1=\"1165.99\" y1=\"947.418\" x2=\"1145.99\" y2=\"967.418\" style=\"stroke:#3da44d; stroke-width:3.2; stroke-opacity:1\"/>\n",
       "<line clip-path=\"url(#clip462)\" x1=\"1165.99\" y1=\"947.418\" x2=\"1185.99\" y2=\"967.418\" style=\"stroke:#3da44d; stroke-width:3.2; stroke-opacity:1\"/>\n",
       "<line clip-path=\"url(#clip462)\" x1=\"1165.99\" y1=\"947.418\" x2=\"1185.99\" y2=\"927.418\" style=\"stroke:#3da44d; stroke-width:3.2; stroke-opacity:1\"/>\n",
       "<path clip-path=\"url(#clip460)\" d=\"\n",
       "M1598.17 337.138 L1896.21 337.138 L1896.21 95.2176 L1598.17 95.2176  Z\n",
       "  \" fill=\"#ffffff\" fill-rule=\"evenodd\" fill-opacity=\"1\"/>\n",
       "<polyline clip-path=\"url(#clip460)\" style=\"stroke:#000000; stroke-width:4; stroke-opacity:1; fill:none\" points=\"\n",
       "  1598.17,337.138 1896.21,337.138 1896.21,95.2176 1598.17,95.2176 1598.17,337.138 \n",
       "  \"/>\n",
       "<polyline clip-path=\"url(#clip460)\" style=\"stroke:#009af9; stroke-width:4; stroke-opacity:1; fill:none\" points=\"\n",
       "  1622.67,155.698 1769.69,155.698 \n",
       "  \"/>\n",
       "<path clip-path=\"url(#clip460)\" d=\"M 0 0 M1808.04 175.385 Q1806.23 180.015 1804.52 181.427 Q1802.81 182.839 1799.94 182.839 L1796.53 182.839 L1796.53 179.274 L1799.03 179.274 Q1800.79 179.274 1801.76 178.44 Q1802.74 177.607 1803.92 174.505 L1804.68 172.561 L1794.19 147.052 L1798.71 147.052 L1806.81 167.329 L1814.91 147.052 L1819.43 147.052 L1808.04 175.385 Z\" fill=\"#000000\" fill-rule=\"evenodd\" fill-opacity=\"1\" /><path clip-path=\"url(#clip460)\" d=\"M 0 0 M1826.72 169.042 L1834.36 169.042 L1834.36 142.677 L1826.05 144.343 L1826.05 140.084 L1834.31 138.418 L1838.99 138.418 L1838.99 169.042 L1846.62 169.042 L1846.62 172.978 L1826.72 172.978 L1826.72 169.042 Z\" fill=\"#000000\" fill-rule=\"evenodd\" fill-opacity=\"1\" /><polyline clip-path=\"url(#clip460)\" style=\"stroke:#e26f46; stroke-width:4; stroke-opacity:1; fill:none\" points=\"\n",
       "  1622.67,216.178 1769.69,216.178 \n",
       "  \"/>\n",
       "<line clip-path=\"url(#clip460)\" x1=\"1696.18\" y1=\"216.178\" x2=\"1670.58\" y2=\"190.578\" style=\"stroke:#e26f46; stroke-width:3.2; stroke-opacity:1\"/>\n",
       "<line clip-path=\"url(#clip460)\" x1=\"1696.18\" y1=\"216.178\" x2=\"1670.58\" y2=\"241.778\" style=\"stroke:#e26f46; stroke-width:3.2; stroke-opacity:1\"/>\n",
       "<line clip-path=\"url(#clip460)\" x1=\"1696.18\" y1=\"216.178\" x2=\"1721.78\" y2=\"241.778\" style=\"stroke:#e26f46; stroke-width:3.2; stroke-opacity:1\"/>\n",
       "<line clip-path=\"url(#clip460)\" x1=\"1696.18\" y1=\"216.178\" x2=\"1721.78\" y2=\"190.578\" style=\"stroke:#e26f46; stroke-width:3.2; stroke-opacity:1\"/>\n",
       "<path clip-path=\"url(#clip460)\" d=\"M 0 0 M1808.04 235.865 Q1806.23 240.495 1804.52 241.907 Q1802.81 243.319 1799.94 243.319 L1796.53 243.319 L1796.53 239.754 L1799.03 239.754 Q1800.79 239.754 1801.76 238.92 Q1802.74 238.087 1803.92 234.985 L1804.68 233.041 L1794.19 207.532 L1798.71 207.532 L1806.81 227.809 L1814.91 207.532 L1819.43 207.532 L1808.04 235.865 Z\" fill=\"#000000\" fill-rule=\"evenodd\" fill-opacity=\"1\" /><path clip-path=\"url(#clip460)\" d=\"M 0 0 M1829.93 229.522 L1846.25 229.522 L1846.25 233.458 L1824.31 233.458 L1824.31 229.522 Q1826.97 226.768 1831.56 222.138 Q1836.16 217.485 1837.34 216.143 Q1839.59 213.62 1840.47 211.884 Q1841.37 210.124 1841.37 208.435 Q1841.37 205.68 1839.43 203.944 Q1837.5 202.208 1834.4 202.208 Q1832.2 202.208 1829.75 202.972 Q1827.32 203.735 1824.54 205.286 L1824.54 200.564 Q1827.37 199.43 1829.82 198.851 Q1832.27 198.273 1834.31 198.273 Q1839.68 198.273 1842.87 200.958 Q1846.07 203.643 1846.07 208.134 Q1846.07 210.263 1845.26 212.185 Q1844.47 214.083 1842.37 216.675 Q1841.79 217.347 1838.68 220.564 Q1835.58 223.759 1829.93 229.522 Z\" fill=\"#000000\" fill-rule=\"evenodd\" fill-opacity=\"1\" /><polyline clip-path=\"url(#clip460)\" style=\"stroke:#3da44d; stroke-width:4; stroke-opacity:1; fill:none\" points=\"\n",
       "  1622.67,276.658 1769.69,276.658 \n",
       "  \"/>\n",
       "<line clip-path=\"url(#clip460)\" x1=\"1696.18\" y1=\"276.658\" x2=\"1670.58\" y2=\"251.058\" style=\"stroke:#3da44d; stroke-width:3.2; stroke-opacity:1\"/>\n",
       "<line clip-path=\"url(#clip460)\" x1=\"1696.18\" y1=\"276.658\" x2=\"1670.58\" y2=\"302.258\" style=\"stroke:#3da44d; stroke-width:3.2; stroke-opacity:1\"/>\n",
       "<line clip-path=\"url(#clip460)\" x1=\"1696.18\" y1=\"276.658\" x2=\"1721.78\" y2=\"302.258\" style=\"stroke:#3da44d; stroke-width:3.2; stroke-opacity:1\"/>\n",
       "<line clip-path=\"url(#clip460)\" x1=\"1696.18\" y1=\"276.658\" x2=\"1721.78\" y2=\"251.058\" style=\"stroke:#3da44d; stroke-width:3.2; stroke-opacity:1\"/>\n",
       "<path clip-path=\"url(#clip460)\" d=\"M 0 0 M1808.04 296.345 Q1806.23 300.975 1804.52 302.387 Q1802.81 303.799 1799.94 303.799 L1796.53 303.799 L1796.53 300.234 L1799.03 300.234 Q1800.79 300.234 1801.76 299.4 Q1802.74 298.567 1803.92 295.465 L1804.68 293.521 L1794.19 268.012 L1798.71 268.012 L1806.81 288.289 L1814.91 268.012 L1819.43 268.012 L1808.04 296.345 Z\" fill=\"#000000\" fill-rule=\"evenodd\" fill-opacity=\"1\" /><path clip-path=\"url(#clip460)\" d=\"M 0 0 M1840.07 275.303 Q1843.43 276.021 1845.31 278.289 Q1847.2 280.558 1847.2 283.891 Q1847.2 289.007 1843.68 291.808 Q1840.17 294.609 1833.68 294.609 Q1831.51 294.609 1829.19 294.169 Q1826.9 293.752 1824.45 292.896 L1824.45 288.382 Q1826.39 289.516 1828.71 290.095 Q1831.02 290.674 1833.55 290.674 Q1837.94 290.674 1840.24 288.938 Q1842.55 287.201 1842.55 283.891 Q1842.55 280.836 1840.4 279.123 Q1838.27 277.387 1834.45 277.387 L1830.42 277.387 L1830.42 273.544 L1834.63 273.544 Q1838.08 273.544 1839.91 272.178 Q1841.74 270.79 1841.74 268.197 Q1841.74 265.535 1839.84 264.123 Q1837.97 262.688 1834.45 262.688 Q1832.53 262.688 1830.33 263.104 Q1828.13 263.521 1825.49 264.401 L1825.49 260.234 Q1828.15 259.493 1830.47 259.123 Q1832.81 258.753 1834.87 258.753 Q1840.19 258.753 1843.29 261.183 Q1846.39 263.59 1846.39 267.711 Q1846.39 270.581 1844.75 272.572 Q1843.11 274.54 1840.07 275.303 Z\" fill=\"#000000\" fill-rule=\"evenodd\" fill-opacity=\"1\" /></svg>\n"
      ]
     },
     "execution_count": 16,
     "metadata": {},
     "output_type": "execute_result"
    }
   ],
   "source": [
    "# plot(t, energy)\n",
    "traj = plot_orbit(transfer_orbit)\n",
    "println(\"DIFFERENCE: \", norm(traj[end, :] - traj[1, :]))\n",
    "plot!([traj[1, 1]], [traj[1, 2]], markershape=:xcross, markersize=5)\n",
    "plot!([traj[end, 1]], [traj[end, 2]], markershape=:xcross, markersize=5)\n",
    "# time = 1/ radius "
   ]
  },
  {
   "cell_type": "markdown",
   "metadata": {},
   "source": [
    "## Constraints"
   ]
  },
  {
   "cell_type": "markdown",
   "metadata": {},
   "source": [
    "$ c = [c_{init}, c_{terminal}, c_{dynamics}, c_{thrust}, c_{time}] $"
   ]
  },
  {
   "cell_type": "code",
   "execution_count": 14,
   "metadata": {
    "scrolled": true
   },
   "outputs": [
    {
     "data": {
      "text/plain": [
       "unpackZ (generic function with 1 method)"
      ]
     },
     "execution_count": 14,
     "metadata": {},
     "output_type": "execute_result"
    }
   ],
   "source": [
    "function unpackZ(N, ztraj)\n",
    "    \"\"\"\n",
    "    Inputs: \n",
    "        ztraj -> Trajectory\n",
    "    \n",
    "    Returns: \n",
    "        xtraj -> state trajectory (Nx, T)\n",
    "        utraj -> control trajectory (Nu, T-1)\n",
    "    \"\"\"\n",
    "    Nt = N\n",
    "    z = reshape(ztraj[1:(end-Nx)],Nx+Nu,Nt-1)\n",
    "    xtraj = hcat(z[1:Nx,:], ztraj[end-(Nx-1):end])\n",
    "    utraj = z[(Nx+1):(Nx+Nu),:]\n",
    "    \n",
    "    return xtraj, utraj\n",
    "end"
   ]
  },
  {
   "cell_type": "code",
   "execution_count": 15,
   "metadata": {
    "scrolled": true
   },
   "outputs": [
    {
     "data": {
      "text/plain": [
       "dynamics_constraints! (generic function with 1 method)"
      ]
     },
     "execution_count": 15,
     "metadata": {},
     "output_type": "execute_result"
    }
   ],
   "source": [
    "function dynamics_constraints!(nlp, c, ztraj)\n",
    "    \"\"\"\n",
    "    Inputs: \n",
    "        c -> Constraint Vector: shape = \n",
    "        ztraj -> Current trajectory: shape ((Nx+Nu)*T, 1)\n",
    "    \n",
    "    Returns: \n",
    "        Nothing\n",
    "    \"\"\"\n",
    "#     h = nlp.h # dt? \n",
    "    X, U = unpackZ(nlp.N, ztraj)\n",
    "    N = nlp.N\n",
    "#     d = reshape(c, Nx, N-1)\n",
    "    d = reshape(view(c, nlp.idx_ineq[3]), Nx,(N-1))\n",
    "    \n",
    "    for k = 1:N-1\n",
    "        u = U[1:3, k]\n",
    "        h = U[4, k]\n",
    "        d[:, k] .= dynamics_rk8(X[:,k], u, h) - X[:,k+1]\n",
    "    end\n",
    "    \n",
    "    return d\n",
    "end\n",
    "    "
   ]
  },
  {
   "cell_type": "code",
   "execution_count": 16,
   "metadata": {
    "scrolled": true
   },
   "outputs": [
    {
     "data": {
      "text/plain": [
       "thrust_constraints! (generic function with 1 method)"
      ]
     },
     "execution_count": 16,
     "metadata": {},
     "output_type": "execute_result"
    }
   ],
   "source": [
    "function thrust_constraints!(nlp, c, ztraj)\n",
    "    \"\"\"\n",
    "    Inputs: \n",
    "        c -> Constraint Vector: shape = \n",
    "        ztraj -> Current trajectory: shape ((Nx+Nu)*T, 1)\n",
    "    \n",
    "    Returns: \n",
    "        Nothing\n",
    "    \"\"\"\n",
    "    N = nlp.N\n",
    "    d = view(c, nlp.idx_ineq[4]) #view(c, nlp.idx_ineq[end])#\n",
    "    X, U = unpackZ(nlp.N, ztraj)\n",
    "    \n",
    "    for k = 1:N-1\n",
    "        d[k] = norm(U[1:3,k])\n",
    "    end\n",
    "    \n",
    "#     d[1,:] .= norm.(U[1:3,:])\n",
    "    \n",
    "    return d\n",
    "end"
   ]
  },
  {
   "cell_type": "code",
   "execution_count": 17,
   "metadata": {
    "scrolled": true
   },
   "outputs": [
    {
     "data": {
      "text/plain": [
       "time_constraints! (generic function with 1 method)"
      ]
     },
     "execution_count": 17,
     "metadata": {},
     "output_type": "execute_result"
    }
   ],
   "source": [
    "function time_constraints!(nlp, c, ztraj)\n",
    "    N = nlp.N\n",
    "    d = view(c, nlp.idx_ineq[5])\n",
    "    X, U = unpackZ(nlp.N, ztraj)\n",
    "    \n",
    "#     for k=1:N-1\n",
    "#         d[:, k] .= U[end, k]\n",
    "#     end\n",
    "    \n",
    "    d[:] .= U[end, :]\n",
    "    \n",
    "    return d\n",
    "    \n",
    "end"
   ]
  },
  {
   "cell_type": "code",
   "execution_count": 18,
   "metadata": {
    "scrolled": true
   },
   "outputs": [
    {
     "data": {
      "text/plain": [
       "con! (generic function with 1 method)"
      ]
     },
     "execution_count": 18,
     "metadata": {},
     "output_type": "execute_result"
    }
   ],
   "source": [
    "function con!(nlp, c, Z)\n",
    "    X, U = unpackZ(nlp.N, Z)\n",
    "    c[nlp.idx_ineq[1]] .= X[:,1] - nlp.zref[1:Nx, 1] # Initial condition constraint\n",
    "    c[nlp.idx_ineq[2][1]] = (norm(X[1:3,end]) - norm(xgoal[1:3]))\n",
    "    c[nlp.idx_ineq[2][2]] = (norm(X[4:end, end])-norm(xgoal[4:end]))\n",
    "    c[nlp.idx_ineq[2][3]] = dot(X[1:3, end], X[4:end, end]) # Final condition constraint\n",
    "    c[nlp.idx_ineq[2][4]] = X[3,end]\n",
    "    c[nlp.idx_ineq[2][5]] = X[6,end]\n",
    "\n",
    "    dynamics_constraints!(nlp, c, Z) # Dynamics constraints\n",
    "    thrust_constraints!(nlp, c, Z) # Thrust constraints\n",
    "    time_constraints!(nlp, c, Z)\n",
    "end"
   ]
  },
  {
   "cell_type": "code",
   "execution_count": 22,
   "metadata": {
    "scrolled": true
   },
   "outputs": [],
   "source": [
    "# con!(prob, zeros(prob.m_nlp), z)"
   ]
  },
  {
   "cell_type": "code",
   "execution_count": 23,
   "metadata": {
    "scrolled": true
   },
   "outputs": [],
   "source": [
    "# prob.idx_ineq[2]"
   ]
  },
  {
   "cell_type": "markdown",
   "metadata": {},
   "source": [
    "## Constraint Jacobian"
   ]
  },
  {
   "cell_type": "code",
   "execution_count": 19,
   "metadata": {
    "scrolled": true
   },
   "outputs": [
    {
     "data": {
      "text/plain": [
       "terminal_constraint_jacobian! (generic function with 1 method)"
      ]
     },
     "execution_count": 19,
     "metadata": {},
     "output_type": "execute_result"
    }
   ],
   "source": [
    "function terminal_constraint_jacobian!(nlp, jac, Z)\n",
    "    X, U = unpackZ(nlp.N, Z)\n",
    "#     norms = [norm(u) for u in X[1:3,:]]\n",
    "    term_r = X[1:3, end]./(norm(X[1:3,end])+1e-12) #(3, 1)\n",
    "    term_v = X[4:6, end]./(norm(X[4:6,end])+1e-12) #(3, 1)\n",
    "#     term_d = X[4:end, end]+X[1:3, end] #(3, 1)\n",
    "    jac .= [([term_r, term_v, X[4:6, end], X[1:3, end], 1.0, 1.0]...)...]\n",
    "    \n",
    "end"
   ]
  },
  {
   "cell_type": "code",
   "execution_count": 20,
   "metadata": {},
   "outputs": [
    {
     "data": {
      "text/plain": [
       "integrate_wrapper (generic function with 1 method)"
      ]
     },
     "execution_count": 20,
     "metadata": {},
     "output_type": "execute_result"
    }
   ],
   "source": [
    "function integrate_wrapper(z)\n",
    "    x = z[1:Nx]\n",
    "    u = z[Nx+1:Nx+3]\n",
    "    h = z[Nx+4]\n",
    "    \n",
    "    \n",
    "    return dynamics_rk8(x, u, h)\n",
    "end"
   ]
  },
  {
   "cell_type": "code",
   "execution_count": 21,
   "metadata": {},
   "outputs": [
    {
     "ename": "LoadError",
     "evalue": "UndefVarError: z not defined",
     "output_type": "error",
     "traceback": [
      "UndefVarError: z not defined",
      "",
      "Stacktrace:",
      " [1] top-level scope",
      "   @ In[21]:2",
      " [2] eval",
      "   @ ./boot.jl:360 [inlined]",
      " [3] include_string(mapexpr::typeof(REPL.softscope), mod::Module, code::String, filename::String)",
      "   @ Base ./loading.jl:1094"
     ]
    }
   ],
   "source": [
    "N = 100\n",
    "Z = z \n",
    "ix = [Int((Nx+Nu)*i+1):Int((Nx+Nu)*i+Nx) for i=0:N-1]\n",
    "iu = [Int((Nx)*i+Nu*(i-1)+1):Int((Nx+Nu)*i-1) for i=1:N-1]\n",
    "X = Z[ix[1]]\n",
    "U = Z[iu[1]]\n",
    "H = Z[iu[1][end]+1]\n",
    "# integrator_rk8!(X, U, H)\n",
    "jacX = zeros(6*6)\n",
    "jacU = zeros(6*3)\n",
    "jacH = zeros(6)\n",
    "jacZ = zeros(6*10)\n",
    "ForwardDiff.jacobian!(jacX, x->integrator_rk8!(x, U, H), X)\n",
    "# ForwardDiff.jacobian!(jacU, u->integrator_rk8!(X, u, H), U)\n"
   ]
  },
  {
   "cell_type": "code",
   "execution_count": 54,
   "metadata": {},
   "outputs": [
    {
     "data": {
      "text/plain": [
       "0.0"
      ]
     },
     "execution_count": 54,
     "metadata": {},
     "output_type": "execute_result"
    }
   ],
   "source": [
    "sum(jacX -jacZ[1:36])"
   ]
  },
  {
   "cell_type": "code",
   "execution_count": 34,
   "metadata": {},
   "outputs": [
    {
     "data": {
      "text/plain": [
       "0.01"
      ]
     },
     "execution_count": 34,
     "metadata": {},
     "output_type": "execute_result"
    }
   ],
   "source": [
    "H"
   ]
  },
  {
   "cell_type": "code",
   "execution_count": 22,
   "metadata": {
    "scrolled": true
   },
   "outputs": [
    {
     "data": {
      "text/plain": [
       "dynamics_constraint_jacobian! (generic function with 1 method)"
      ]
     },
     "execution_count": 22,
     "metadata": {},
     "output_type": "execute_result"
    }
   ],
   "source": [
    "function dynamics_constraint_jacobian!(nlp, jac, Z)\n",
    "#     D = rehape(view(jac, nlp.cinds[3], :), \n",
    "    N = nlp.N\n",
    "    ix = [Int((Nx+Nu)*i+1):Int((Nx+Nu)*i+Nx) for i=0:N-1]\n",
    "    iu = [Int((Nx)*i+Nu*(i-1)+1):Int((Nx+Nu)*i) for i=1:N-1]\n",
    "    \n",
    "#     J = reshape(ForwardDiff.jacobian(x->dynamics_constraints!(nlp, zeros(eltype(x), nlp.m_nlp), x), Z), Nx*(N-1), nlp.n_nlp)\n",
    "\n",
    "    step = 96\n",
    "    step2 = 60\n",
    "    for k =0:N-2\n",
    "        j1 = view(jac, k*step+1:step*k+step2)\n",
    "        j2 = view(jac, step*k+step2+1:step*k+step)\n",
    "#         j1 = view(jac, (Nx*(Nx+Nu)*(k+1)+Nx*Nx)*k+1:Nx*(Nx+Nu)*(k+1))\n",
    "#         j2 = view(jac, Nx*(Nx+Nu)*(k+1)+1:Nx*(Nx+Nu)*(k+1)+Nx*Nx)\n",
    "#         X = Z[ix[k+1]]\n",
    "#         U = Z[iu[k+1]]\n",
    "#         H = Z[iu[k+1][end]+1]\n",
    "        ForwardDiff.jacobian!(j1, z->integrate_wrapper(z), Z[ix[k+1][1]:iu[k+1][end]])\n",
    "        j2 .= [(-1.0*Matrix(I, 6, 6)...)...]\n",
    "#         J = reshape(ForwardDiff.jacobian((x, u, h)->integrator_rk8!(x, u, h), X, U, H), Nx*(N-1), nlp.n_nlp)\n",
    "#         j1 .= [(J[(Nx*k)+1:Nx*(k+1), ix[k+1][1]:iu[k+1][end]+1]...)...]\n",
    "#         if sum(J[(Nx*k)+1:Nx*(k+1), ix[k+2]]+I) <= 1e-5\n",
    "#             println(\"success\")\n",
    "#         end\n",
    "#         j2 .=  [(J[(Nx*k)+1:Nx*(k+1), ix[k+2]]...)...] # (6, n_nlp)\n",
    "    end\n",
    "    \n",
    "    return nothing\n",
    "end"
   ]
  },
  {
   "cell_type": "code",
   "execution_count": null,
   "metadata": {},
   "outputs": [],
   "source": [
    "Nx*(prob.N-1)"
   ]
  },
  {
   "cell_type": "code",
   "execution_count": 23,
   "metadata": {
    "scrolled": true
   },
   "outputs": [
    {
     "data": {
      "text/plain": [
       "thrust_constraint_jacobian! (generic function with 1 method)"
      ]
     },
     "execution_count": 23,
     "metadata": {},
     "output_type": "execute_result"
    }
   ],
   "source": [
    "function thrust_constraint_jacobian!(nlp, jac, Z)\n",
    "#     D = view(jac, nlp.cinds[4], :)\n",
    "#     jac .= [(ForwardDiff.jacobian(x->thrust_constraints!(nlp, zeros(eltype(x), nlp.m_nlp), x), Z)...)...]\n",
    "    X, U = unpackZ(nlp.N, Z)\n",
    "    # N-1\n",
    "    norms_grad = [([u./(1e-12+norm(u)) for u in U[1:3,:]]...)...]\n",
    "    jac .= norms_grad # (3*(N-1))\n",
    "    return nothing\n",
    "end"
   ]
  },
  {
   "cell_type": "code",
   "execution_count": 24,
   "metadata": {
    "scrolled": true
   },
   "outputs": [
    {
     "data": {
      "text/plain": [
       "time_constraint_jacobian! (generic function with 1 method)"
      ]
     },
     "execution_count": 24,
     "metadata": {},
     "output_type": "execute_result"
    }
   ],
   "source": [
    "function time_constraint_jacobian!(nlp, jac, Z)\n",
    "#     jac .= [(ForwardDiff.jacobian(x->time_constraints!(nlp, zeros(eltype(x), nlp.m_nlp), x), Z)...)...]\n",
    "    jac .= 1 #(N-1)\n",
    "    return nothing\n",
    "end"
   ]
  },
  {
   "cell_type": "code",
   "execution_count": null,
   "metadata": {},
   "outputs": [],
   "source": [
    "Nx*(100-1)*(2*Nx+Nu)"
   ]
  },
  {
   "cell_type": "code",
   "execution_count": 25,
   "metadata": {
    "scrolled": true
   },
   "outputs": [
    {
     "data": {
      "text/plain": [
       "jac_c! (generic function with 1 method)"
      ]
     },
     "execution_count": 25,
     "metadata": {},
     "output_type": "execute_result"
    }
   ],
   "source": [
    "function jac_c!(nlp, jac, Z)\n",
    "    # m_nlp, n_nlp \n",
    "    \n",
    "#     xinds = [SVector{n}((k-1)*(n+m) .+ (1:n)) for k = 1:N]\n",
    "#     uinds = [SVector{m}((k-1)*(n+m) .+ (n+1:n+m)) for k = 1:N-1]\n",
    "    \n",
    "#     ix = [Int((Nx+Nu)*i+1):Int((Nx+Nu)*i+Nx) for i=0:N-2]\n",
    "#     sizeX = ix[end][end]-ix[1][1]\n",
    "#     iu = [Int((Nx)*i+Nu*(i-1)):Int((Nx+Nu)*i) for i=1:N-1]\n",
    "#     sizeU = ix[end][end]-ix[1][1]\n",
    "    N = nlp.N\n",
    "    i_init = 1:Nx\n",
    "    i_term = i_init[end]+1:i_init[end]+3+3+6+1+1\n",
    "    \n",
    "    i_dyn = i_term[end]+1:i_term[end]+(Nx*(Nx+Nu+Nx)*(N-1))\n",
    "    \n",
    "    i_thrust = i_dyn[end]+1:i_dyn[end]+3*(N-1)\n",
    "    \n",
    "    i_time = i_thrust[end]+1:i_thrust[end]+(N-1) # Definitely not sure about this\n",
    "#     print(i_time[end][end])\n",
    "    \n",
    "    jac_init = view(jac, i_init)\n",
    "    jac_term = view(jac, i_term)\n",
    "    jac_dynamics = view(jac, i_dyn)\n",
    "    jac_thrust = view(jac, i_thrust)\n",
    "    jac_time = view(jac, i_time)\n",
    "    # Sparse Matrix\n",
    "#     [I(Nx, Nx), I(Nx,Nx), forwardDIff(dynamics), forwardDIff(thrust)]\n",
    "#     ForwardDiff.jacobian!(reshape(jac,prob.m_nlp,prob.n_nlp), (c,x) -> con!(prob, c, x), zeros(prob.m_nlp), x)\n",
    "    jac_init .= 1 #[(I(Nx)*1.0...)...] # Initial Condtion Constraint\n",
    "    terminal_constraint_jacobian!(nlp, jac_term, Z) # I(Nx, Nx).flatten()\n",
    "    dynamics_constraint_jacobian!(nlp, jac_dynamics, Z)\n",
    "    thrust_constraint_jacobian!(nlp, jac_thrust, Z)\n",
    "    time_constraint_jacobian!(nlp, jac_time, Z)\n",
    "    \n",
    "    return nothing\n",
    "end"
   ]
  },
  {
   "cell_type": "code",
   "execution_count": 133,
   "metadata": {},
   "outputs": [
    {
     "name": "stdout",
     "output_type": "stream",
     "text": [
      "  0.008873 seconds (35.04 k allocations: 8.597 MiB)\n"
     ]
    }
   ],
   "source": [
    "jac = zeros(9920, )\n",
    "@time jac_c!(prob, jac, z)"
   ]
  },
  {
   "cell_type": "code",
   "execution_count": 134,
   "metadata": {},
   "outputs": [],
   "source": [
    "full_jac = zeros(prob.m_nlp, n_nlp)\n",
    "for i = 1:9920\n",
    "    full_jac[sj[i][1], sj[i][2]] = jac[i]\n",
    "end"
   ]
  },
  {
   "cell_type": "code",
   "execution_count": 143,
   "metadata": {},
   "outputs": [
    {
     "data": {
      "text/plain": [
       "1.0"
      ]
     },
     "execution_count": 143,
     "metadata": {},
     "output_type": "execute_result"
    }
   ],
   "source": [
    "sum(true_jac[594+12,:])"
   ]
  },
  {
   "cell_type": "code",
   "execution_count": 146,
   "metadata": {},
   "outputs": [
    {
     "data": {
      "text/plain": [
       "0.0"
      ]
     },
     "execution_count": 146,
     "metadata": {},
     "output_type": "execute_result"
    }
   ],
   "source": [
    "sum(full_jac[end-98:end,:] - true_jac[end-98:end,:])"
   ]
  },
  {
   "cell_type": "code",
   "execution_count": 76,
   "metadata": {},
   "outputs": [
    {
     "data": {
      "text/plain": [
       "803×996 Matrix{Float64}:\n",
       " 1.0       0.0         0.0       …  0.0        0.0        0.0\n",
       " 0.0       1.0         0.0          0.0        0.0        0.0\n",
       " 0.0       0.0         1.0          0.0        0.0        0.0\n",
       " 0.0       0.0         0.0          0.0        0.0        0.0\n",
       " 0.0       0.0         0.0          0.0        0.0        0.0\n",
       " 0.0       0.0         0.0       …  0.0        0.0        0.0\n",
       " 0.0       0.0         0.0          0.0        0.0        0.0\n",
       " 0.0       0.0         0.0          0.293386   0.909863  -0.293386\n",
       " 0.0       0.0         0.0          0.165615  -0.210321  -0.165615\n",
       " 0.0       0.0         0.0          0.0        0.0        0.0\n",
       " 0.0       0.0         0.0       …  0.0        0.0        1.0\n",
       " 1.04017   0.0306941  -0.125595     0.0        0.0        0.0\n",
       " 0.032274  0.926394   -0.032274     0.0        0.0        0.0\n",
       " ⋮                               ⋱                        ⋮\n",
       " 0.0       0.0         0.0          0.0        0.0        0.0\n",
       " 0.0       0.0         0.0          0.0        0.0        0.0\n",
       " 0.0       0.0         0.0          0.0        0.0        0.0\n",
       " 0.0       0.0         0.0          0.0        0.0        0.0\n",
       " 0.0       0.0         0.0       …  0.0        0.0        0.0\n",
       " 0.0       0.0         0.0          0.0        0.0        0.0\n",
       " 0.0       0.0         0.0          0.0        0.0        0.0\n",
       " 0.0       0.0         0.0          0.0        0.0        0.0\n",
       " 0.0       0.0         0.0          0.0        0.0        0.0\n",
       " 0.0       0.0         0.0       …  0.0        0.0        0.0\n",
       " 0.0       0.0         0.0          0.0        0.0        0.0\n",
       " 0.0       0.0         0.0          0.0        0.0        0.0"
      ]
     },
     "execution_count": 76,
     "metadata": {},
     "output_type": "execute_result"
    }
   ],
   "source": [
    "true_jac = zero(full_jac)\n",
    "ForwardDiff.jacobian!(true_jac, (c,x) -> con!(prob, c, x), zeros(prob.m_nlp), z)"
   ]
  },
  {
   "cell_type": "code",
   "execution_count": 144,
   "metadata": {},
   "outputs": [
    {
     "data": {
      "text/plain": [
       "-98.99999999999794"
      ]
     },
     "execution_count": 144,
     "metadata": {},
     "output_type": "execute_result"
    }
   ],
   "source": [
    "sum(full_jac-true_jac)"
   ]
  },
  {
   "cell_type": "markdown",
   "metadata": {},
   "source": [
    "## Part (a): Implement DIRCOL \n",
    "Implement DIRCOL by completing the provided methods. "
   ]
  },
  {
   "cell_type": "code",
   "execution_count": 35,
   "metadata": {
    "scrolled": true
   },
   "outputs": [
    {
     "data": {
      "text/plain": [
       "solve (generic function with 1 method)"
      ]
     },
     "execution_count": 35,
     "metadata": {},
     "output_type": "execute_result"
    }
   ],
   "source": [
    "\"\"\"\n",
    "    Problem{n,m,L}\n",
    "\n",
    "Describes a trajectory optimization problem with `n` states, `m` controls, and \n",
    "a model of type `L`. \n",
    "\n",
    "# Constructor\n",
    "    Problem(model::L, obj::Vector{<:QuadraticCost{n,m}}, tf, x0, xf) where {n,m,L}\n",
    "\n",
    "where `tf` is the final time, and `x0` is the initial state. \n",
    "\"\"\"\n",
    "# struct Problem{n,m,L}\n",
    "    # TODO \n",
    "# end\n",
    "# Base.size(prob::Problem{n,m}) where {n,m} = (n,m,prob.T)\n",
    "\n",
    "struct ProblemMOI <: MOI.AbstractNLPEvaluator\n",
    "    n_nlp::Int # num_primals\n",
    "    m_nlp::Int # num_duals\n",
    "    N::Int # num_knots\n",
    "#     h::Float64\n",
    "    idx_ineq # list of constraint ranges\n",
    "    obj_grad::Bool \n",
    "    con_jac::Bool\n",
    "    sparsity_jac\n",
    "#     sparsity_hess\n",
    "    primal_bounds\n",
    "    constraint_bounds\n",
    "    hessian_lagrangian::Bool\n",
    "    zref\n",
    "end\n",
    "\n",
    "function ProblemMOI(n_nlp, N, zref;\n",
    "        idx_ineq=get_cinds(Nx, N),\n",
    "        m_nlp = idx_ineq[end][end],\n",
    "        obj_grad=true,\n",
    "        con_jac=true,\n",
    "        sparsity_jac=sparsity_jacobian(n_nlp,m_nlp),\n",
    "#         sparsity_hess=sparsity_hessian(n_nlp,m_nlp),\n",
    "        primal_bounds=primal_bounds(n_nlp),\n",
    "        constraint_bounds=constraint_bounds(m_nlp,idx_ineq=idx_ineq),\n",
    "        hessian_lagrangian=false)\n",
    "\n",
    "    ProblemMOI(\n",
    "        n_nlp,\n",
    "        m_nlp,\n",
    "        N, # Nt\n",
    "#         h, \n",
    "        idx_ineq, # Indexes\n",
    "        obj_grad, \n",
    "        con_jac,\n",
    "        sparsity_jac,\n",
    "#         sparsity_hess,\n",
    "        primal_bounds,\n",
    "        constraint_bounds,\n",
    "        hessian_lagrangian, \n",
    "        zref)\n",
    "end\n",
    "\n",
    "function primal_bounds(n)\n",
    "    x_l = -Inf*ones(n)\n",
    "    x_u = Inf*ones(n)\n",
    "    return x_l, x_u\n",
    "end\n",
    "\n",
    "function get_cinds(n, N)\n",
    "    c_init_inds = 1:Nx\n",
    "    c_term_inds = (c_init_inds[end]+1):(c_init_inds[end]+5)\n",
    "    c_dyn_inds = (c_term_inds[end]+1):(c_term_inds[end]+((Nx)*(N-1)))\n",
    "    c_thrust_inds = (c_dyn_inds[end]+1):(c_dyn_inds[end]+((N-1)))\n",
    "    c_time_inds = c_thrust_inds[end]+1:c_thrust_inds[end]+(N-1)\n",
    "    \n",
    "    return [c_init_inds, c_term_inds, c_dyn_inds, c_thrust_inds, c_time_inds]\n",
    "end\n",
    "\n",
    "function constraint_bounds(m_nlp; idx_ineq)\n",
    "    lb = zeros(m_nlp) \n",
    "    lb[idx_ineq[1]] .= 0 ##x0\n",
    "    lb[idx_ineq[2]] .= 0 #xf\n",
    "    lb[idx_ineq[3]] .= 0\n",
    "    lb[idx_ineq[4]] .= 0 # Might have a minimum thrust requirment\n",
    "    lb[idx_ineq[5]] .= 1e-3\n",
    "\n",
    "    ub = zeros(m_nlp) #fill(-Inf,m_nlp)\n",
    "    ub[idx_ineq[1]] .= 0 #x0\n",
    "    ub[idx_ineq[2]] .= 0 #xf\n",
    "    ub[idx_ineq[3]] .= 0\n",
    "    ub[idx_ineq[4]] .= 1\n",
    "    ub[idx_ineq[5]] .= 1e-1\n",
    "\n",
    "    return lb, ub\n",
    "end\n",
    "\n",
    "function row_col!(row,col,r,c)\n",
    "#     println(\"starting row_col\")\n",
    "    for cc in c\n",
    "        for rr in r\n",
    "            push!(row,convert(Int,rr))\n",
    "            push!(col,convert(Int,cc))\n",
    "        end\n",
    "    end\n",
    "#     println(\"Finished row_col\")\n",
    "    return row, col\n",
    "end\n",
    "\n",
    "function sparsity_jacobian(n,m, N)\n",
    "#     N = (n-Nx)/(Nx+Nu)+1\n",
    "\n",
    "    row = []\n",
    "    col = []\n",
    "#     r = 1:m\n",
    "#     c = 1:n\n",
    "#     row_col!(row, col, r, c)\n",
    "    idx_ineq = get_cinds(0, N)\n",
    "    ix = [Int((Nx+Nu)*i+1):Int((Nx+Nu)*i+Nx) for i=0:N-1]\n",
    "    iu = [Int((Nx)*i+Nu*(i-1)+1):Int((Nx+Nu)*i-1) for i=1:N-1]\n",
    "# #     print(ix, iu)\n",
    "    # initial Constraints \n",
    "    for k=1:Nx\n",
    "        push!(row, convert(Int, k))\n",
    "        push!(col, convert(Int, k))\n",
    "    end\n",
    "    \n",
    "    # Terminal Constraints\n",
    "    for k = 1:3\n",
    "        push!(row, convert(Int, idx_ineq[2][1]))\n",
    "        push!(col, convert(Int, n-6+k))\n",
    "\n",
    "    end\n",
    "    for k = 1:3\n",
    "        push!(row, convert(Int, idx_ineq[2][2]))\n",
    "        push!(col, convert(Int, n-3+k))\n",
    "    end\n",
    "    for k=1:6\n",
    "        push!(row, convert(Int, idx_ineq[2][3]))\n",
    "        push!(col, convert(Int, n-6+k))\n",
    "    end\n",
    "    \n",
    "    push!(row, convert(Int, idx_ineq[2][4]))\n",
    "    push!(col, convert(Int, n-3))\n",
    "    push!(row, convert(Int, idx_ineq[2][5]))\n",
    "    push!(col, convert(Int, n))\n",
    "    \n",
    "    # \n",
    "#     push!(row, convert(Int, idx_ineq[2]))\n",
    "#     push!(col, convert(Int, n-Nx:n))\n",
    "    \n",
    "#     row_col!(row,col, idx_ineq[1], idx_ineq[1]) # init_con\n",
    "#     print(size(row))\n",
    "#     row_col!(row, col, idx_ineq[2], n-Nx+1:n) # term_con\n",
    "#     print(size(row))\n",
    "    \n",
    "    # Dynamics_con\n",
    "    for i=0:N-2\n",
    "        row_col!(row, col, idx_ineq[3][Nx*i+1:(Nx*(i+1))], ix[i+1][1]:iu[i+1][end]+1)\n",
    "        row_col!(row, col, idx_ineq[3][Nx*i+1:(Nx*(i+1))], ix[i+2]) # number of values will be idx_ineq[3][end]-idx_ineq[3][1]*n \n",
    "#     print(size(row))\n",
    "    end\n",
    "    \n",
    "    # Thrust Con + time con\n",
    "    idx_h = [i[end]+1 for i in iu]\n",
    "    for k=1:N-1\n",
    "        for j=1:3\n",
    "            push!(row, convert(Int, idx_ineq[4][k]))\n",
    "            push!(col, convert(Int, iu[k][j]))\n",
    "        end\n",
    "#         row_col!(row, col, ones(3)*idx_ineq[4][k], iu[k])\n",
    "#     print(size(row))\n",
    "    end\n",
    "    for k=1:N-1\n",
    "        push!(row, convert(Int, idx_ineq[5][k]))\n",
    "        push!(col, convert(Int, idx_h[k]))\n",
    "    end\n",
    "    \n",
    "    \n",
    "#     for k=1:\n",
    "        \n",
    "#     row_col!(row, col, idx_ineq[5], 1:n)\n",
    "#     print(size(row))\n",
    "\n",
    "    return collect(zip(row,col))\n",
    "end\n",
    "\n",
    "function sparsity_hessian(n,m)\n",
    "#     N = (n-Nx)/(Nx+Nu)+1\n",
    "\n",
    "    row = []\n",
    "    col = []\n",
    "    r = 1:m\n",
    "    c = 1:n\n",
    "    row_col!(row, col, r, c)\n",
    "    \n",
    "#     idx_ineq = get_cinds(0, N)\n",
    "#     ix = [Int((Nx+Nu)*i+1):Int((Nx+Nu)*i+Nx) for i=0:N-2]\n",
    "#     iu = [Int((Nx)*i+Nu*(i-1)):Int((Nx+Nu)*i) for i=1:N-1]\n",
    "# #     print(ix, iu)\n",
    "# #     row_col!(row,col, idx_ineq[1], idx_ineq[1]) # init_con\n",
    "# #     row_col!(row, col, idx_ineq[2], n-Nx:n) # term_con\n",
    "    \n",
    "    \n",
    "#     # Dynamics_con\n",
    "#     for x in ix\n",
    "#         row_col!(row, col, idx_ineq[3], x)\n",
    "#     end\n",
    "    \n",
    "#     # Thrust Con\n",
    "#     for u in iu\n",
    "#         row_col!(row, col, idx_ineq[4], u)\n",
    "#     end\n",
    "\n",
    "    return collect(zip(row,col))\n",
    "end\n",
    "\n",
    "function MOI.eval_objective(prob::MOI.AbstractNLPEvaluator, x)\n",
    "    cost(prob, x)\n",
    "end\n",
    "\n",
    "function MOI.eval_objective_gradient(prob::MOI.AbstractNLPEvaluator, grad_f, x)\n",
    "    ForwardDiff.gradient!(grad_f, x -> cost(prob, x), x)\n",
    "    return nothing\n",
    "end\n",
    "\n",
    "function MOI.eval_constraint(prob::MOI.AbstractNLPEvaluator,g,x)\n",
    "    con!(prob, g, x) # TODO: Implement con! (Mitch)\n",
    "    return nothing\n",
    "end\n",
    "\n",
    "function MOI.eval_constraint_jacobian(prob::MOI.AbstractNLPEvaluator, jac, x)\n",
    "#     IF DENSE\n",
    "#     ForwardDiff.jacobian!(jac, (c,x) -> con!(prob, c, x), zeros(prob.m_nlp), x)\n",
    "\n",
    "    # IF SPARSE\n",
    "    jac_c!(prob, jac, x)\n",
    "    return nothing #sparse(r, c, jac[prob.sparcity_jac])\n",
    "end\n",
    "\n",
    "function MOI.features_available(prob::MOI.AbstractNLPEvaluator)\n",
    "    return [:Grad, :Jac]\n",
    "end\n",
    "\n",
    "# TODO: Confirm meaning of these functions\n",
    "MOI.initialize(prob::MOI.AbstractNLPEvaluator, features) = nothing\n",
    "MOI.jacobian_structure(prob::MOI.AbstractNLPEvaluator) = prob.sparsity_jac #\n",
    "\n",
    "\n",
    "\n",
    "function solve(x0,prob::MOI.AbstractNLPEvaluator;\n",
    "        tol=1.0e-6,c_tol=1.0e-6,max_iter=1000)\n",
    "    x_l, x_u = prob.primal_bounds\n",
    "    c_l, c_u = prob.constraint_bounds\n",
    "\n",
    "    nlp_bounds = MOI.NLPBoundsPair.(c_l,c_u)\n",
    "    block_data = MOI.NLPBlockData(nlp_bounds,prob,true)\n",
    "\n",
    "    solver = Ipopt.Optimizer()\n",
    "    solver.options[\"max_iter\"] = max_iter\n",
    "    solver.options[\"tol\"] = tol\n",
    "    solver.options[\"constr_viol_tol\"] = c_tol\n",
    "\n",
    "    x = MOI.add_variables(solver, prob.n_nlp)\n",
    "\n",
    "    for i = 1:prob.n_nlp\n",
    "        xi = MOI.SingleVariable(x[i])\n",
    "        MOI.add_constraint(solver, xi, MOI.LessThan(x_u[i]))\n",
    "        MOI.add_constraint(solver, xi, MOI.GreaterThan(x_l[i]))\n",
    "        MOI.set(solver, MOI.VariablePrimalStart(), x[i], x0[i])\n",
    "    end\n",
    "\n",
    "    # Solve the problem\n",
    "    MOI.set(solver, MOI.NLPBlock(), block_data)\n",
    "    MOI.set(solver, MOI.ObjectiveSense(), MOI.MIN_SENSE)\n",
    "    MOI.optimize!(solver)\n",
    "\n",
    "    # Get the solution\n",
    "    res = MOI.get(solver, MOI.VariablePrimal(), x)\n",
    "    status = MOI.get(solver, MOI.TerminationStatus())\n",
    "\n",
    "    return res, status\n",
    "end"
   ]
  },
  {
   "cell_type": "code",
   "execution_count": null,
   "metadata": {
    "scrolled": true
   },
   "outputs": [],
   "source": [
    "knots = 100\n",
    "# t = range(0, orbit.period, length=knots) \n",
    "# h = t[2]-t[1]\n",
    "function impulse_ref_traj(init_orbit::Orbit,final_orbit::Orbit) #knots,Nx,Nu\n",
    "    time = knots #Int(ceil(init_orbit.period/2*knots/2+final_orbit.period*knots))\n",
    "    traj = zeros(time-1,Nx+Nu)\n",
    "    x = copy(init_orbit.x0)\n",
    "    h = init_orbit.period/(knots)\n",
    "\n",
    "    u = [0, 0, 0, h]\n",
    "    traj[1,:] .= vcat(x,u)\n",
    "    print(h)\n",
    "    for i in 2:size(traj)[1]\n",
    "        integrator_rk8!(x, u, h)\n",
    "        if (i == Int(ceil(init_orbit.period/2*knots)))\n",
    "            x = final_orbit.x0 .* -1\n",
    "            h = final_orbit.period/(knots)\n",
    "            u = [0, 0, 0, h]\n",
    "        end\n",
    "        traj[i,:] .= vcat(x,u)\n",
    "    end\n",
    "    traj = reshape(traj',((time-1)*(Nx+Nu),1))\n",
    "    traj = vcat(traj,final_orbit.x0)\n",
    "    return traj\n",
    "end\n",
    "z = impulse_ref_traj(transfer_orbit,goal_orbit)\n",
    "X,U = unpackZ(knots, [(z...)...])\n",
    "transition = Int(ceil(transfer_orbit.period*knots/2))\n",
    "# display(X[:,transition-5:transition+5]')\n",
    "plot(X[1, :], X[2, :], aspect_ratio=:equal, lims=(-semiMajorAxis_goal*1.5,semiMajorAxis_goal*1.5), title = \"Reference Trajectory\", label = \"Reference\", lw = 3)\n",
    "xlabel!(\"Orbital Units\")\n",
    "ylabel!(\"Orbital Units\")\n",
    "plot!([goal_orbit.x0[1]], [goal_orbit.x0[2]], markershape=:xcross, markersize=5, label=\"Goal State\")\n",
    "plot!([0], [0], lw=10, markershape=:o, label=\"Planet Earth\")"
   ]
  },
  {
   "cell_type": "code",
   "execution_count": null,
   "metadata": {
    "scrolled": true
   },
   "outputs": [],
   "source": [
    "knots = 100\n",
    "function impulse_ref_traj(init_orbit::Orbit,final_orbit::Orbit) #knots,Nx,Nu\n",
    "    time = knots #Int(ceil(init_orbit.period/2*knots/2+final_orbit.period*knots))\n",
    "    traj = zeros(time-1,Nx+Nu)\n",
    "    x = copy(init_orbit.x0)\n",
    "    u = zeros(Nu)\n",
    "    traj[1,:] .= vcat(x,u)\n",
    "    h = init_orbit.period/(knots)\n",
    "    for i in 2:size(traj)[1]\n",
    "        integrator_rk8!(x, u, h)\n",
    "        if (i == Int(ceil(init_orbit.period/2*knots)))\n",
    "            x = final_orbit.x0 .* -1\n",
    "            h = 5*final_orbit.period/(knots)\n",
    "        end\n",
    "        traj[i,:] .= vcat(x,u)\n",
    "    end\n",
    "    traj = reshape(traj',((time-1)*(Nx+Nu),1))\n",
    "    traj = vcat(traj,final_orbit.x0)\n",
    "    return traj\n",
    "end\n",
    "z = impulse_ref_traj(transfer_orbit,goal_orbit)\n",
    "X,U = unpackZ(knots, z)\n",
    "transition = Int(ceil(transfer_orbit.period*knots/5))\n",
    "# display(X[:,transition-5:transition+5]')\n",
    "plot(X[1, :], X[2, :], aspect_ratio=:equal, lims=(-semiMajorAxis_goal*1.5,semiMajorAxis_goal*1.5))\n",
    "plot!([goal_orbit.x0[1]], [goal_orbit.x0[2]], markershape=:xcross, markersize=5)"
   ]
  },
  {
   "cell_type": "code",
   "execution_count": 29,
   "metadata": {
    "scrolled": true
   },
   "outputs": [
    {
     "data": {
      "text/plain": [
       "plot3d_orbit (generic function with 1 method)"
      ]
     },
     "execution_count": 29,
     "metadata": {},
     "output_type": "execute_result"
    }
   ],
   "source": [
    "function plot3d_orbit(X, label)\n",
    "    plot3d(X[1, :], X[2, :], X[3,:], aspect_ratio=:equal, lims=(-semiMajorAxis_goal*1.25,semiMajorAxis_goal*1.25), title = \"$(label) Trajectory ($(orbits) orbits)\", label = \"$(label)\", lw = 2)\n",
    "#     plot!([traj[1, 1]], [traj[1, 2]], [traj[1, 3]], markershape=:xcross, markersize=5)\n",
    "#     plot!([traj[end, 1]], [traj[end, 2]], [traj[end, 3]], markershape=:xcross, markersize=5)\n",
    "    xlabel!(\"Orbital Units\")\n",
    "    ylabel!(\"Orbital Units\")\n",
    "#     plot!([goal_orbit.x0[1]], [goal_orbit.x0[2]], [goal_orbit.x0[3]], markershape=:xcross, markersize=5, label=\"Goal State\")\n",
    "    plot!([0], [0], [0],lw=10, markershape=:o, label=\"Planet Earth\", color=\"green\")\n",
    "end"
   ]
  },
  {
   "cell_type": "code",
   "execution_count": 46,
   "metadata": {},
   "outputs": [
    {
     "name": "stdout",
     "output_type": "stream",
     "text": [
      "9.55460365858184"
     ]
    },
    {
     "data": {
      "image/svg+xml": [
       "<?xml version=\"1.0\" encoding=\"utf-8\"?>\n",
       "<svg xmlns=\"http://www.w3.org/2000/svg\" xmlns:xlink=\"http://www.w3.org/1999/xlink\" width=\"600\" height=\"400\" viewBox=\"0 0 2400 1600\">\n",
       "<defs>\n",
       "  <clipPath id=\"clip780\">\n",
       "    <rect x=\"0\" y=\"0\" width=\"2400\" height=\"1600\"/>\n",
       "  </clipPath>\n",
       "</defs>\n",
       "<path clip-path=\"url(#clip780)\" d=\"\n",
       "M0 1600 L2400 1600 L2400 0 L0 0  Z\n",
       "  \" fill=\"#ffffff\" fill-rule=\"evenodd\" fill-opacity=\"1\"/>\n",
       "<defs>\n",
       "  <clipPath id=\"clip781\">\n",
       "    <rect x=\"480\" y=\"0\" width=\"1681\" height=\"1600\"/>\n",
       "  </clipPath>\n",
       "</defs>\n",
       "<defs>\n",
       "  <clipPath id=\"clip782\">\n",
       "    <rect x=\"600\" y=\"123\" width=\"1301\" height=\"1301\"/>\n",
       "  </clipPath>\n",
       "</defs>\n",
       "<path clip-path=\"url(#clip782)\" d=\"\n",
       "M600.263 1346.4 L600.263 353.805 L1075.99 123.472 L1899.97 200.25 L1899.97 1192.85 L1424.24 1423.18 L600.263 1346.4  Z\n",
       "  \" fill=\"#ffffff\" fill-rule=\"evenodd\" fill-opacity=\"1\"/>\n",
       "<polyline clip-path=\"url(#clip782)\" style=\"stroke:#000000; stroke-width:2; stroke-opacity:0.1; fill:none\" points=\"\n",
       "  628.896,1349.07 1104.62,1118.74 \n",
       "  \"/>\n",
       "<polyline clip-path=\"url(#clip782)\" style=\"stroke:#000000; stroke-width:2; stroke-opacity:0.1; fill:none\" points=\"\n",
       "  1104.62,1118.74 1104.62,126.14 \n",
       "  \"/>\n",
       "<polyline clip-path=\"url(#clip782)\" style=\"stroke:#000000; stroke-width:2; stroke-opacity:0.1; fill:none\" points=\"\n",
       "  820.575,1366.93 1296.3,1136.6 \n",
       "  \"/>\n",
       "<polyline clip-path=\"url(#clip782)\" style=\"stroke:#000000; stroke-width:2; stroke-opacity:0.1; fill:none\" points=\"\n",
       "  1296.3,1136.6 1296.3,144.001 \n",
       "  \"/>\n",
       "<polyline clip-path=\"url(#clip782)\" style=\"stroke:#000000; stroke-width:2; stroke-opacity:0.1; fill:none\" points=\"\n",
       "  1012.25,1384.79 1487.98,1154.46 \n",
       "  \"/>\n",
       "<polyline clip-path=\"url(#clip782)\" style=\"stroke:#000000; stroke-width:2; stroke-opacity:0.1; fill:none\" points=\"\n",
       "  1487.98,1154.46 1487.98,161.861 \n",
       "  \"/>\n",
       "<polyline clip-path=\"url(#clip782)\" style=\"stroke:#000000; stroke-width:2; stroke-opacity:0.1; fill:none\" points=\"\n",
       "  1203.93,1402.65 1679.66,1172.32 \n",
       "  \"/>\n",
       "<polyline clip-path=\"url(#clip782)\" style=\"stroke:#000000; stroke-width:2; stroke-opacity:0.1; fill:none\" points=\"\n",
       "  1679.66,1172.32 1679.66,179.721 \n",
       "  \"/>\n",
       "<polyline clip-path=\"url(#clip782)\" style=\"stroke:#000000; stroke-width:2; stroke-opacity:0.1; fill:none\" points=\"\n",
       "  1395.61,1420.51 1871.34,1190.18 \n",
       "  \"/>\n",
       "<polyline clip-path=\"url(#clip782)\" style=\"stroke:#000000; stroke-width:2; stroke-opacity:0.1; fill:none\" points=\"\n",
       "  1871.34,1190.18 1871.34,197.582 \n",
       "  \"/>\n",
       "<polyline clip-path=\"url(#clip780)\" style=\"stroke:#000000; stroke-width:4; stroke-opacity:1; fill:none\" points=\"\n",
       "  600.263,1346.4 1424.24,1423.18 \n",
       "  \"/>\n",
       "<polyline clip-path=\"url(#clip780)\" style=\"stroke:#000000; stroke-width:4; stroke-opacity:1; fill:none\" points=\"\n",
       "  628.896,1349.07 634.604,1346.31 \n",
       "  \"/>\n",
       "<polyline clip-path=\"url(#clip780)\" style=\"stroke:#000000; stroke-width:4; stroke-opacity:1; fill:none\" points=\"\n",
       "  820.575,1366.93 826.284,1364.17 \n",
       "  \"/>\n",
       "<polyline clip-path=\"url(#clip780)\" style=\"stroke:#000000; stroke-width:4; stroke-opacity:1; fill:none\" points=\"\n",
       "  1012.25,1384.79 1017.96,1382.03 \n",
       "  \"/>\n",
       "<polyline clip-path=\"url(#clip780)\" style=\"stroke:#000000; stroke-width:4; stroke-opacity:1; fill:none\" points=\"\n",
       "  1203.93,1402.65 1209.64,1399.89 \n",
       "  \"/>\n",
       "<polyline clip-path=\"url(#clip780)\" style=\"stroke:#000000; stroke-width:4; stroke-opacity:1; fill:none\" points=\"\n",
       "  1395.61,1420.51 1401.32,1417.75 \n",
       "  \"/>\n",
       "<path clip-path=\"url(#clip780)\" d=\"M 0 0 M574.838 1397.71 L604.514 1397.71 L604.514 1401.65 L574.838 1401.65 L574.838 1397.71 Z\" fill=\"#000000\" fill-rule=\"evenodd\" fill-opacity=\"1\" /><path clip-path=\"url(#clip780)\" d=\"M 0 0 M618.634 1410.61 L634.953 1410.61 L634.953 1414.54 L613.009 1414.54 L613.009 1410.61 Q615.671 1407.85 620.254 1403.22 Q624.861 1398.57 626.041 1397.23 Q628.287 1394.7 629.166 1392.97 Q630.069 1391.21 630.069 1389.52 Q630.069 1386.76 628.125 1385.03 Q626.204 1383.29 623.102 1383.29 Q620.903 1383.29 618.449 1384.06 Q616.018 1384.82 613.241 1386.37 L613.241 1381.65 Q616.065 1380.51 618.518 1379.94 Q620.972 1379.36 623.009 1379.36 Q628.379 1379.36 631.574 1382.04 Q634.768 1384.73 634.768 1389.22 Q634.768 1391.35 633.958 1393.27 Q633.171 1395.17 631.065 1397.76 Q630.486 1398.43 627.384 1401.65 Q624.282 1404.84 618.634 1410.61 Z\" fill=\"#000000\" fill-rule=\"evenodd\" fill-opacity=\"1\" /><path clip-path=\"url(#clip780)\" d=\"M 0 0 M766.332 1415.57 L796.008 1415.57 L796.008 1419.51 L766.332 1419.51 L766.332 1415.57 Z\" fill=\"#000000\" fill-rule=\"evenodd\" fill-opacity=\"1\" /><path clip-path=\"url(#clip780)\" d=\"M 0 0 M806.91 1428.47 L814.549 1428.47 L814.549 1402.1 L806.239 1403.77 L806.239 1399.51 L814.503 1397.84 L819.179 1397.84 L819.179 1428.47 L826.818 1428.47 L826.818 1432.4 L806.91 1432.4 L806.91 1428.47 Z\" fill=\"#000000\" fill-rule=\"evenodd\" fill-opacity=\"1\" /><path clip-path=\"url(#clip780)\" d=\"M 0 0 M988.254 1418.78 Q984.643 1418.78 982.814 1422.35 Q981.009 1425.89 981.009 1433.02 Q981.009 1440.12 982.814 1443.69 Q984.643 1447.23 988.254 1447.23 Q991.888 1447.23 993.694 1443.69 Q995.522 1440.12 995.522 1433.02 Q995.522 1425.89 993.694 1422.35 Q991.888 1418.78 988.254 1418.78 M988.254 1415.08 Q994.064 1415.08 997.12 1419.68 Q1000.2 1424.27 1000.2 1433.02 Q1000.2 1441.74 997.12 1446.35 Q994.064 1450.93 988.254 1450.93 Q982.444 1450.93 979.365 1446.35 Q976.31 1441.74 976.31 1433.02 Q976.31 1424.27 979.365 1419.68 Q982.444 1415.08 988.254 1415.08 Z\" fill=\"#000000\" fill-rule=\"evenodd\" fill-opacity=\"1\" /><path clip-path=\"url(#clip780)\" d=\"M 0 0 M1170.31 1464.19 L1177.95 1464.19 L1177.95 1437.82 L1169.64 1439.49 L1169.64 1435.23 L1177.91 1433.56 L1182.58 1433.56 L1182.58 1464.19 L1190.22 1464.19 L1190.22 1468.12 L1170.31 1468.12 L1170.31 1464.19 Z\" fill=\"#000000\" fill-rule=\"evenodd\" fill-opacity=\"1\" /><path clip-path=\"url(#clip780)\" d=\"M 0 0 M1366.26 1482.05 L1382.58 1482.05 L1382.58 1485.98 L1360.64 1485.98 L1360.64 1482.05 Q1363.3 1479.29 1367.89 1474.66 Q1372.49 1470.01 1373.67 1468.67 Q1375.92 1466.15 1376.8 1464.41 Q1377.7 1462.65 1377.7 1460.96 Q1377.7 1458.21 1375.76 1456.47 Q1373.83 1454.73 1370.73 1454.73 Q1368.53 1454.73 1366.08 1455.5 Q1363.65 1456.26 1360.87 1457.81 L1360.87 1453.09 Q1363.7 1451.96 1366.15 1451.38 Q1368.6 1450.8 1370.64 1450.8 Q1376.01 1450.8 1379.2 1453.48 Q1382.4 1456.17 1382.4 1460.66 Q1382.4 1462.79 1381.59 1464.71 Q1380.8 1466.61 1378.7 1469.2 Q1378.12 1469.87 1375.01 1473.09 Q1371.91 1476.28 1366.26 1482.05 Z\" fill=\"#000000\" fill-rule=\"evenodd\" fill-opacity=\"1\" /><path clip-path=\"url(#clip780)\" d=\"M 0 0 M710.289 1521.78 Q703.287 1521.78 699.149 1527 Q695.043 1532.22 695.043 1541.22 Q695.043 1550.2 699.149 1555.42 Q703.287 1560.64 710.289 1560.64 Q717.292 1560.64 721.366 1555.42 Q725.472 1550.2 725.472 1541.22 Q725.472 1532.22 721.366 1527 Q717.292 1521.78 710.289 1521.78 M710.289 1516.56 Q720.284 1516.56 726.267 1523.27 Q732.251 1529.96 732.251 1541.22 Q732.251 1552.46 726.267 1559.17 Q720.284 1565.86 710.289 1565.86 Q700.263 1565.86 694.248 1559.17 Q688.264 1552.49 688.264 1541.22 Q688.264 1529.96 694.248 1523.27 Q700.263 1516.56 710.289 1516.56 Z\" fill=\"#000000\" fill-rule=\"evenodd\" fill-opacity=\"1\" /><path clip-path=\"url(#clip780)\" d=\"M 0 0 M762.711 1534.76 Q761.724 1534.19 760.547 1533.93 Q759.401 1533.65 758 1533.65 Q753.035 1533.65 750.361 1536.89 Q747.72 1540.11 747.72 1546.16 L747.72 1564.94 L741.831 1564.94 L741.831 1529.29 L747.72 1529.29 L747.72 1534.83 Q749.566 1531.58 752.526 1530.02 Q755.486 1528.43 759.719 1528.43 Q760.324 1528.43 761.056 1528.52 Q761.788 1528.59 762.679 1528.75 L762.711 1534.76 Z\" fill=\"#000000\" fill-rule=\"evenodd\" fill-opacity=\"1\" /><path clip-path=\"url(#clip780)\" d=\"M 0 0 M794.444 1547.14 Q794.444 1540.68 791.77 1537.02 Q789.129 1533.33 784.482 1533.33 Q779.835 1533.33 777.161 1537.02 Q774.519 1540.68 774.519 1547.14 Q774.519 1553.6 777.161 1557.3 Q779.835 1560.96 784.482 1560.96 Q789.129 1560.96 791.77 1557.3 Q794.444 1553.6 794.444 1547.14 M774.519 1534.7 Q776.365 1531.52 779.166 1529.99 Q781.999 1528.43 785.914 1528.43 Q792.407 1528.43 796.449 1533.58 Q800.523 1538.74 800.523 1547.14 Q800.523 1555.55 796.449 1560.7 Q792.407 1565.86 785.914 1565.86 Q781.999 1565.86 779.166 1564.33 Q776.365 1562.77 774.519 1559.59 L774.519 1564.94 L768.631 1564.94 L768.631 1515.41 L774.519 1515.41 L774.519 1534.7 Z\" fill=\"#000000\" fill-rule=\"evenodd\" fill-opacity=\"1\" /><path clip-path=\"url(#clip780)\" d=\"M 0 0 M810.231 1529.29 L816.087 1529.29 L816.087 1564.94 L810.231 1564.94 L810.231 1529.29 M810.231 1515.41 L816.087 1515.41 L816.087 1522.83 L810.231 1522.83 L810.231 1515.41 Z\" fill=\"#000000\" fill-rule=\"evenodd\" fill-opacity=\"1\" /><path clip-path=\"url(#clip780)\" d=\"M 0 0 M834.134 1519.17 L834.134 1529.29 L846.197 1529.29 L846.197 1533.84 L834.134 1533.84 L834.134 1553.19 Q834.134 1557.55 835.312 1558.79 Q836.521 1560.03 840.182 1560.03 L846.197 1560.03 L846.197 1564.94 L840.182 1564.94 Q833.402 1564.94 830.824 1562.42 Q828.246 1559.87 828.246 1553.19 L828.246 1533.84 L823.949 1533.84 L823.949 1529.29 L828.246 1529.29 L828.246 1519.17 L834.134 1519.17 Z\" fill=\"#000000\" fill-rule=\"evenodd\" fill-opacity=\"1\" /><path clip-path=\"url(#clip780)\" d=\"M 0 0 M870.1 1547.02 Q863.003 1547.02 860.265 1548.64 Q857.528 1550.26 857.528 1554.18 Q857.528 1557.3 859.565 1559.14 Q861.634 1560.96 865.167 1560.96 Q870.037 1560.96 872.965 1557.52 Q875.925 1554.05 875.925 1548.32 L875.925 1547.02 L870.1 1547.02 M881.781 1544.6 L881.781 1564.94 L875.925 1564.94 L875.925 1559.52 Q873.92 1562.77 870.928 1564.33 Q867.936 1565.86 863.607 1565.86 Q858.133 1565.86 854.886 1562.8 Q851.672 1559.72 851.672 1554.56 Q851.672 1548.54 855.682 1545.49 Q859.724 1542.43 867.713 1542.43 L875.925 1542.43 L875.925 1541.86 Q875.925 1537.82 873.251 1535.62 Q870.61 1533.39 865.804 1533.39 Q862.748 1533.39 859.852 1534.12 Q856.955 1534.86 854.282 1536.32 L854.282 1530.91 Q857.496 1529.67 860.52 1529.06 Q863.544 1528.43 866.408 1528.43 Q874.143 1528.43 877.962 1532.44 Q881.781 1536.45 881.781 1544.6 Z\" fill=\"#000000\" fill-rule=\"evenodd\" fill-opacity=\"1\" /><path clip-path=\"url(#clip780)\" d=\"M 0 0 M893.845 1515.41 L899.701 1515.41 L899.701 1564.94 L893.845 1564.94 L893.845 1515.41 Z\" fill=\"#000000\" fill-rule=\"evenodd\" fill-opacity=\"1\" /><path clip-path=\"url(#clip780)\" d=\"M 0 0 M932.198 1517.42 L938.659 1517.42 L938.659 1546.28 Q938.659 1553.92 941.428 1557.3 Q944.197 1560.64 950.404 1560.64 Q956.579 1560.64 959.348 1557.3 Q962.117 1553.92 962.117 1546.28 L962.117 1517.42 L968.578 1517.42 L968.578 1547.08 Q968.578 1556.37 963.963 1561.12 Q959.379 1565.86 950.404 1565.86 Q941.396 1565.86 936.781 1561.12 Q932.198 1556.37 932.198 1547.08 L932.198 1517.42 Z\" fill=\"#000000\" fill-rule=\"evenodd\" fill-opacity=\"1\" /><path clip-path=\"url(#clip780)\" d=\"M 0 0 M1010.02 1543.42 L1010.02 1564.94 L1004.16 1564.94 L1004.16 1543.61 Q1004.16 1538.55 1002.19 1536.03 Q1000.22 1533.52 996.269 1533.52 Q991.526 1533.52 988.789 1536.54 Q986.052 1539.57 986.052 1544.79 L986.052 1564.94 L980.163 1564.94 L980.163 1529.29 L986.052 1529.29 L986.052 1534.83 Q988.152 1531.61 990.985 1530.02 Q993.85 1528.43 997.574 1528.43 Q1003.72 1528.43 1006.87 1532.25 Q1010.02 1536.03 1010.02 1543.42 Z\" fill=\"#000000\" fill-rule=\"evenodd\" fill-opacity=\"1\" /><path clip-path=\"url(#clip780)\" d=\"M 0 0 M1021.7 1529.29 L1027.56 1529.29 L1027.56 1564.94 L1021.7 1564.94 L1021.7 1529.29 M1021.7 1515.41 L1027.56 1515.41 L1027.56 1522.83 L1021.7 1522.83 L1021.7 1515.41 Z\" fill=\"#000000\" fill-rule=\"evenodd\" fill-opacity=\"1\" /><path clip-path=\"url(#clip780)\" d=\"M 0 0 M1045.6 1519.17 L1045.6 1529.29 L1057.67 1529.29 L1057.67 1533.84 L1045.6 1533.84 L1045.6 1553.19 Q1045.6 1557.55 1046.78 1558.79 Q1047.99 1560.03 1051.65 1560.03 L1057.67 1560.03 L1057.67 1564.94 L1051.65 1564.94 Q1044.87 1564.94 1042.29 1562.42 Q1039.71 1559.87 1039.71 1553.19 L1039.71 1533.84 L1035.42 1533.84 L1035.42 1529.29 L1039.71 1529.29 L1039.71 1519.17 L1045.6 1519.17 Z\" fill=\"#000000\" fill-rule=\"evenodd\" fill-opacity=\"1\" /><path clip-path=\"url(#clip780)\" d=\"M 0 0 M1088.09 1530.34 L1088.09 1535.88 Q1085.61 1534.6 1082.94 1533.97 Q1080.26 1533.33 1077.4 1533.33 Q1073.04 1533.33 1070.84 1534.67 Q1068.68 1536 1068.68 1538.68 Q1068.68 1540.71 1070.24 1541.89 Q1071.8 1543.04 1076.51 1544.09 L1078.51 1544.53 Q1084.75 1545.87 1087.36 1548.32 Q1090 1550.74 1090 1555.1 Q1090 1560.07 1086.06 1562.96 Q1082.14 1565.86 1075.27 1565.86 Q1072.4 1565.86 1069.28 1565.29 Q1066.2 1564.74 1062.76 1563.63 L1062.76 1557.58 Q1066.01 1559.27 1069.16 1560.13 Q1072.31 1560.96 1075.39 1560.96 Q1079.53 1560.96 1081.76 1559.56 Q1083.99 1558.12 1083.99 1555.55 Q1083.99 1553.16 1082.36 1551.89 Q1080.77 1550.61 1075.33 1549.43 L1073.29 1548.96 Q1067.85 1547.81 1065.43 1545.46 Q1063.01 1543.07 1063.01 1538.93 Q1063.01 1533.9 1066.58 1531.16 Q1070.14 1528.43 1076.7 1528.43 Q1079.95 1528.43 1082.81 1528.91 Q1085.68 1529.38 1088.09 1530.34 Z\" fill=\"#000000\" fill-rule=\"evenodd\" fill-opacity=\"1\" /><polyline clip-path=\"url(#clip782)\" style=\"stroke:#000000; stroke-width:2; stroke-opacity:0.1; fill:none\" points=\"\n",
       "  1440.78,1415.18 616.794,1338.4 \n",
       "  \"/>\n",
       "<polyline clip-path=\"url(#clip782)\" style=\"stroke:#000000; stroke-width:2; stroke-opacity:0.1; fill:none\" points=\"\n",
       "  616.794,1338.4 616.794,345.801 \n",
       "  \"/>\n",
       "<polyline clip-path=\"url(#clip782)\" style=\"stroke:#000000; stroke-width:2; stroke-opacity:0.1; fill:none\" points=\"\n",
       "  1551.44,1361.59 727.46,1284.82 \n",
       "  \"/>\n",
       "<polyline clip-path=\"url(#clip782)\" style=\"stroke:#000000; stroke-width:2; stroke-opacity:0.1; fill:none\" points=\"\n",
       "  727.46,1284.82 727.46,292.22 \n",
       "  \"/>\n",
       "<polyline clip-path=\"url(#clip782)\" style=\"stroke:#000000; stroke-width:2; stroke-opacity:0.1; fill:none\" points=\"\n",
       "  1662.11,1308.01 838.126,1231.24 \n",
       "  \"/>\n",
       "<polyline clip-path=\"url(#clip782)\" style=\"stroke:#000000; stroke-width:2; stroke-opacity:0.1; fill:none\" points=\"\n",
       "  838.126,1231.24 838.126,238.639 \n",
       "  \"/>\n",
       "<polyline clip-path=\"url(#clip782)\" style=\"stroke:#000000; stroke-width:2; stroke-opacity:0.1; fill:none\" points=\"\n",
       "  1772.77,1254.43 948.792,1177.65 \n",
       "  \"/>\n",
       "<polyline clip-path=\"url(#clip782)\" style=\"stroke:#000000; stroke-width:2; stroke-opacity:0.1; fill:none\" points=\"\n",
       "  948.792,1177.65 948.792,185.057 \n",
       "  \"/>\n",
       "<polyline clip-path=\"url(#clip782)\" style=\"stroke:#000000; stroke-width:2; stroke-opacity:0.1; fill:none\" points=\"\n",
       "  1883.44,1200.85 1059.46,1124.07 \n",
       "  \"/>\n",
       "<polyline clip-path=\"url(#clip782)\" style=\"stroke:#000000; stroke-width:2; stroke-opacity:0.1; fill:none\" points=\"\n",
       "  1059.46,1124.07 1059.46,131.476 \n",
       "  \"/>\n",
       "<polyline clip-path=\"url(#clip780)\" style=\"stroke:#000000; stroke-width:4; stroke-opacity:1; fill:none\" points=\"\n",
       "  1424.24,1423.18 1899.97,1192.85 \n",
       "  \"/>\n",
       "<polyline clip-path=\"url(#clip780)\" style=\"stroke:#000000; stroke-width:4; stroke-opacity:1; fill:none\" points=\"\n",
       "  1440.78,1415.18 1430.89,1414.25 \n",
       "  \"/>\n",
       "<polyline clip-path=\"url(#clip780)\" style=\"stroke:#000000; stroke-width:4; stroke-opacity:1; fill:none\" points=\"\n",
       "  1551.44,1361.59 1541.55,1360.67 \n",
       "  \"/>\n",
       "<polyline clip-path=\"url(#clip780)\" style=\"stroke:#000000; stroke-width:4; stroke-opacity:1; fill:none\" points=\"\n",
       "  1662.11,1308.01 1652.22,1307.09 \n",
       "  \"/>\n",
       "<polyline clip-path=\"url(#clip780)\" style=\"stroke:#000000; stroke-width:4; stroke-opacity:1; fill:none\" points=\"\n",
       "  1772.77,1254.43 1762.89,1253.51 \n",
       "  \"/>\n",
       "<polyline clip-path=\"url(#clip780)\" style=\"stroke:#000000; stroke-width:4; stroke-opacity:1; fill:none\" points=\"\n",
       "  1883.44,1200.85 1873.55,1199.93 \n",
       "  \"/>\n",
       "<path clip-path=\"url(#clip780)\" d=\"M 0 0 M1434.72 1463.82 L1464.39 1463.82 L1464.39 1467.75 L1434.72 1467.75 L1434.72 1463.82 Z\" fill=\"#000000\" fill-rule=\"evenodd\" fill-opacity=\"1\" /><path clip-path=\"url(#clip780)\" d=\"M 0 0 M1478.51 1476.71 L1494.83 1476.71 L1494.83 1480.65 L1472.89 1480.65 L1472.89 1476.71 Q1475.55 1473.96 1480.13 1469.33 Q1484.74 1464.68 1485.92 1463.33 Q1488.17 1460.81 1489.05 1459.07 Q1489.95 1457.31 1489.95 1455.62 Q1489.95 1452.87 1488 1451.13 Q1486.08 1449.4 1482.98 1449.4 Q1480.78 1449.4 1478.33 1450.16 Q1475.9 1450.93 1473.12 1452.48 L1473.12 1447.75 Q1475.94 1446.62 1478.4 1446.04 Q1480.85 1445.46 1482.89 1445.46 Q1488.26 1445.46 1491.45 1448.15 Q1494.65 1450.83 1494.65 1455.32 Q1494.65 1457.45 1493.84 1459.37 Q1493.05 1461.27 1490.94 1463.87 Q1490.37 1464.54 1487.26 1467.75 Q1484.16 1470.95 1478.51 1476.71 Z\" fill=\"#000000\" fill-rule=\"evenodd\" fill-opacity=\"1\" /><path clip-path=\"url(#clip780)\" d=\"M 0 0 M1545.2 1410.24 L1574.87 1410.24 L1574.87 1414.17 L1545.2 1414.17 L1545.2 1410.24 Z\" fill=\"#000000\" fill-rule=\"evenodd\" fill-opacity=\"1\" /><path clip-path=\"url(#clip780)\" d=\"M 0 0 M1585.78 1423.13 L1593.42 1423.13 L1593.42 1396.77 L1585.11 1398.43 L1585.11 1394.17 L1593.37 1392.51 L1598.05 1392.51 L1598.05 1423.13 L1605.68 1423.13 L1605.68 1427.07 L1585.78 1427.07 L1585.78 1423.13 Z\" fill=\"#000000\" fill-rule=\"evenodd\" fill-opacity=\"1\" /><path clip-path=\"url(#clip780)\" d=\"M 0 0 M1686.11 1342 Q1682.5 1342 1680.67 1345.57 Q1678.86 1349.11 1678.86 1356.24 Q1678.86 1363.35 1680.67 1366.91 Q1682.5 1370.45 1686.11 1370.45 Q1689.74 1370.45 1691.55 1366.91 Q1693.38 1363.35 1693.38 1356.24 Q1693.38 1349.11 1691.55 1345.57 Q1689.74 1342 1686.11 1342 M1686.11 1338.3 Q1691.92 1338.3 1694.97 1342.91 Q1698.05 1347.49 1698.05 1356.24 Q1698.05 1364.97 1694.97 1369.57 Q1691.92 1374.16 1686.11 1374.16 Q1680.3 1374.16 1677.22 1369.57 Q1674.16 1364.97 1674.16 1356.24 Q1674.16 1347.49 1677.22 1342.91 Q1680.3 1338.3 1686.11 1338.3 Z\" fill=\"#000000\" fill-rule=\"evenodd\" fill-opacity=\"1\" /><path clip-path=\"url(#clip780)\" d=\"M 0 0 M1787.16 1315.97 L1794.79 1315.97 L1794.79 1289.6 L1786.48 1291.27 L1786.48 1287.01 L1794.75 1285.34 L1799.42 1285.34 L1799.42 1315.97 L1807.06 1315.97 L1807.06 1319.9 L1787.16 1319.9 L1787.16 1315.97 Z\" fill=\"#000000\" fill-rule=\"evenodd\" fill-opacity=\"1\" /><path clip-path=\"url(#clip780)\" d=\"M 0 0 M1902.09 1262.39 L1918.41 1262.39 L1918.41 1266.32 L1896.47 1266.32 L1896.47 1262.39 Q1899.13 1259.63 1903.71 1255 Q1908.32 1250.35 1909.5 1249.01 Q1911.75 1246.48 1912.62 1244.75 Q1913.53 1242.99 1913.53 1241.3 Q1913.53 1238.55 1911.58 1236.81 Q1909.66 1235.07 1906.56 1235.07 Q1904.36 1235.07 1901.91 1235.84 Q1899.48 1236.6 1896.7 1238.15 L1896.7 1233.43 Q1899.52 1232.3 1901.98 1231.72 Q1904.43 1231.14 1906.47 1231.14 Q1911.84 1231.14 1915.03 1233.82 Q1918.23 1236.51 1918.23 1241 Q1918.23 1243.13 1917.42 1245.05 Q1916.63 1246.95 1914.52 1249.54 Q1913.94 1250.21 1910.84 1253.43 Q1907.74 1256.62 1902.09 1262.39 Z\" fill=\"#000000\" fill-rule=\"evenodd\" fill-opacity=\"1\" /><path clip-path=\"url(#clip780)\" d=\"M 0 0 M1606.38 1445 Q1599.38 1445 1595.24 1450.22 Q1591.14 1455.44 1591.14 1464.45 Q1591.14 1473.42 1595.24 1478.64 Q1599.38 1483.86 1606.38 1483.86 Q1613.39 1483.86 1617.46 1478.64 Q1621.57 1473.42 1621.57 1464.45 Q1621.57 1455.44 1617.46 1450.22 Q1613.39 1445 1606.38 1445 M1606.38 1439.78 Q1616.38 1439.78 1622.36 1446.49 Q1628.34 1453.18 1628.34 1464.45 Q1628.34 1475.68 1622.36 1482.4 Q1616.38 1489.08 1606.38 1489.08 Q1596.36 1489.08 1590.34 1482.4 Q1584.36 1475.71 1584.36 1464.45 Q1584.36 1453.18 1590.34 1446.49 Q1596.36 1439.78 1606.38 1439.78 Z\" fill=\"#000000\" fill-rule=\"evenodd\" fill-opacity=\"1\" /><path clip-path=\"url(#clip780)\" d=\"M 0 0 M1658.8 1457.98 Q1657.82 1457.41 1656.64 1457.16 Q1655.49 1456.87 1654.09 1456.87 Q1649.13 1456.87 1646.46 1460.12 Q1643.81 1463.33 1643.81 1469.38 L1643.81 1488.16 L1637.93 1488.16 L1637.93 1452.51 L1643.81 1452.51 L1643.81 1458.05 Q1645.66 1454.8 1648.62 1453.24 Q1651.58 1451.65 1655.81 1451.65 Q1656.42 1451.65 1657.15 1451.75 Q1657.88 1451.81 1658.77 1451.97 L1658.8 1457.98 Z\" fill=\"#000000\" fill-rule=\"evenodd\" fill-opacity=\"1\" /><path clip-path=\"url(#clip780)\" d=\"M 0 0 M1690.54 1470.37 Q1690.54 1463.9 1687.86 1460.24 Q1685.22 1456.55 1680.58 1456.55 Q1675.93 1456.55 1673.25 1460.24 Q1670.61 1463.9 1670.61 1470.37 Q1670.61 1476.83 1673.25 1480.52 Q1675.93 1484.18 1680.58 1484.18 Q1685.22 1484.18 1687.86 1480.52 Q1690.54 1476.83 1690.54 1470.37 M1670.61 1457.92 Q1672.46 1454.74 1675.26 1453.21 Q1678.09 1451.65 1682.01 1451.65 Q1688.5 1451.65 1692.54 1456.81 Q1696.62 1461.96 1696.62 1470.37 Q1696.62 1478.77 1692.54 1483.92 Q1688.5 1489.08 1682.01 1489.08 Q1678.09 1489.08 1675.26 1487.55 Q1672.46 1485.99 1670.61 1482.81 L1670.61 1488.16 L1664.72 1488.16 L1664.72 1438.63 L1670.61 1438.63 L1670.61 1457.92 Z\" fill=\"#000000\" fill-rule=\"evenodd\" fill-opacity=\"1\" /><path clip-path=\"url(#clip780)\" d=\"M 0 0 M1706.32 1452.51 L1712.18 1452.51 L1712.18 1488.16 L1706.32 1488.16 L1706.32 1452.51 M1706.32 1438.63 L1712.18 1438.63 L1712.18 1446.05 L1706.32 1446.05 L1706.32 1438.63 Z\" fill=\"#000000\" fill-rule=\"evenodd\" fill-opacity=\"1\" /><path clip-path=\"url(#clip780)\" d=\"M 0 0 M1730.23 1442.39 L1730.23 1452.51 L1742.29 1452.51 L1742.29 1457.06 L1730.23 1457.06 L1730.23 1476.41 Q1730.23 1480.77 1731.41 1482.01 Q1732.62 1483.26 1736.28 1483.26 L1742.29 1483.26 L1742.29 1488.16 L1736.28 1488.16 Q1729.5 1488.16 1726.92 1485.64 Q1724.34 1483.1 1724.34 1476.41 L1724.34 1457.06 L1720.04 1457.06 L1720.04 1452.51 L1724.34 1452.51 L1724.34 1442.39 L1730.23 1442.39 Z\" fill=\"#000000\" fill-rule=\"evenodd\" fill-opacity=\"1\" /><path clip-path=\"url(#clip780)\" d=\"M 0 0 M1766.19 1470.24 Q1759.1 1470.24 1756.36 1471.86 Q1753.62 1473.48 1753.62 1477.4 Q1753.62 1480.52 1755.66 1482.36 Q1757.73 1484.18 1761.26 1484.18 Q1766.13 1484.18 1769.06 1480.74 Q1772.02 1477.27 1772.02 1471.54 L1772.02 1470.24 L1766.19 1470.24 M1777.88 1467.82 L1777.88 1488.16 L1772.02 1488.16 L1772.02 1482.75 Q1770.01 1485.99 1767.02 1487.55 Q1764.03 1489.08 1759.7 1489.08 Q1754.23 1489.08 1750.98 1486.02 Q1747.77 1482.94 1747.77 1477.78 Q1747.77 1471.77 1751.78 1468.71 Q1755.82 1465.65 1763.81 1465.65 L1772.02 1465.65 L1772.02 1465.08 Q1772.02 1461.04 1769.35 1458.84 Q1766.7 1456.62 1761.9 1456.62 Q1758.84 1456.62 1755.95 1457.35 Q1753.05 1458.08 1750.38 1459.54 L1750.38 1454.13 Q1753.59 1452.89 1756.61 1452.29 Q1759.64 1451.65 1762.5 1451.65 Q1770.24 1451.65 1774.06 1455.66 Q1777.88 1459.67 1777.88 1467.82 Z\" fill=\"#000000\" fill-rule=\"evenodd\" fill-opacity=\"1\" /><path clip-path=\"url(#clip780)\" d=\"M 0 0 M1789.94 1438.63 L1795.79 1438.63 L1795.79 1488.16 L1789.94 1488.16 L1789.94 1438.63 Z\" fill=\"#000000\" fill-rule=\"evenodd\" fill-opacity=\"1\" /><path clip-path=\"url(#clip780)\" d=\"M 0 0 M1828.29 1440.64 L1834.75 1440.64 L1834.75 1469.51 Q1834.75 1477.14 1837.52 1480.52 Q1840.29 1483.86 1846.5 1483.86 Q1852.67 1483.86 1855.44 1480.52 Q1858.21 1477.14 1858.21 1469.51 L1858.21 1440.64 L1864.67 1440.64 L1864.67 1470.3 Q1864.67 1479.6 1860.06 1484.34 Q1855.47 1489.08 1846.5 1489.08 Q1837.49 1489.08 1832.88 1484.34 Q1828.29 1479.6 1828.29 1470.3 L1828.29 1440.64 Z\" fill=\"#000000\" fill-rule=\"evenodd\" fill-opacity=\"1\" /><path clip-path=\"url(#clip780)\" d=\"M 0 0 M1906.11 1466.64 L1906.11 1488.16 L1900.26 1488.16 L1900.26 1466.83 Q1900.26 1461.77 1898.28 1459.26 Q1896.31 1456.74 1892.36 1456.74 Q1887.62 1456.74 1884.88 1459.77 Q1882.15 1462.79 1882.15 1468.01 L1882.15 1488.16 L1876.26 1488.16 L1876.26 1452.51 L1882.15 1452.51 L1882.15 1458.05 Q1884.25 1454.83 1887.08 1453.24 Q1889.94 1451.65 1893.67 1451.65 Q1899.81 1451.65 1902.96 1455.47 Q1906.11 1459.26 1906.11 1466.64 Z\" fill=\"#000000\" fill-rule=\"evenodd\" fill-opacity=\"1\" /><path clip-path=\"url(#clip780)\" d=\"M 0 0 M1917.79 1452.51 L1923.65 1452.51 L1923.65 1488.16 L1917.79 1488.16 L1917.79 1452.51 M1917.79 1438.63 L1923.65 1438.63 L1923.65 1446.05 L1917.79 1446.05 L1917.79 1438.63 Z\" fill=\"#000000\" fill-rule=\"evenodd\" fill-opacity=\"1\" /><path clip-path=\"url(#clip780)\" d=\"M 0 0 M1941.7 1442.39 L1941.7 1452.51 L1953.76 1452.51 L1953.76 1457.06 L1941.7 1457.06 L1941.7 1476.41 Q1941.7 1480.77 1942.87 1482.01 Q1944.08 1483.26 1947.74 1483.26 L1953.76 1483.26 L1953.76 1488.16 L1947.74 1488.16 Q1940.96 1488.16 1938.39 1485.64 Q1935.81 1483.1 1935.81 1476.41 L1935.81 1457.06 L1931.51 1457.06 L1931.51 1452.51 L1935.81 1452.51 L1935.81 1442.39 L1941.7 1442.39 Z\" fill=\"#000000\" fill-rule=\"evenodd\" fill-opacity=\"1\" /><path clip-path=\"url(#clip780)\" d=\"M 0 0 M1984.19 1453.56 L1984.19 1459.1 Q1981.71 1457.82 1979.03 1457.19 Q1976.36 1456.55 1973.49 1456.55 Q1969.13 1456.55 1966.94 1457.89 Q1964.77 1459.23 1964.77 1461.9 Q1964.77 1463.94 1966.33 1465.11 Q1967.89 1466.26 1972.6 1467.31 L1974.61 1467.76 Q1980.85 1469.09 1983.46 1471.54 Q1986.1 1473.96 1986.1 1478.32 Q1986.1 1483.29 1982.15 1486.18 Q1978.24 1489.08 1971.36 1489.08 Q1968.5 1489.08 1965.38 1488.51 Q1962.29 1487.97 1958.85 1486.85 L1958.85 1480.8 Q1962.1 1482.49 1965.25 1483.35 Q1968.4 1484.18 1971.49 1484.18 Q1975.63 1484.18 1977.85 1482.78 Q1980.08 1481.35 1980.08 1478.77 Q1980.08 1476.38 1978.46 1475.11 Q1976.87 1473.83 1971.42 1472.66 L1969.39 1472.18 Q1963.94 1471.03 1961.53 1468.68 Q1959.11 1466.29 1959.11 1462.15 Q1959.11 1457.12 1962.67 1454.39 Q1966.24 1451.65 1972.79 1451.65 Q1976.04 1451.65 1978.9 1452.13 Q1981.77 1452.6 1984.19 1453.56 Z\" fill=\"#000000\" fill-rule=\"evenodd\" fill-opacity=\"1\" /><polyline clip-path=\"url(#clip782)\" style=\"stroke:#000000; stroke-width:2; stroke-opacity:0.1; fill:none\" points=\"\n",
       "  600.263,1311.91 1075.99,1081.58 \n",
       "  \"/>\n",
       "<polyline clip-path=\"url(#clip782)\" style=\"stroke:#000000; stroke-width:2; stroke-opacity:0.1; fill:none\" points=\"\n",
       "  1075.99,1081.58 1899.97,1158.35 \n",
       "  \"/>\n",
       "<polyline clip-path=\"url(#clip782)\" style=\"stroke:#000000; stroke-width:2; stroke-opacity:0.1; fill:none\" points=\"\n",
       "  600.263,1081.01 1075.99,850.674 \n",
       "  \"/>\n",
       "<polyline clip-path=\"url(#clip782)\" style=\"stroke:#000000; stroke-width:2; stroke-opacity:0.1; fill:none\" points=\"\n",
       "  1075.99,850.674 1899.97,927.452 \n",
       "  \"/>\n",
       "<polyline clip-path=\"url(#clip782)\" style=\"stroke:#000000; stroke-width:2; stroke-opacity:0.1; fill:none\" points=\"\n",
       "  600.263,850.104 1075.99,619.771 \n",
       "  \"/>\n",
       "<polyline clip-path=\"url(#clip782)\" style=\"stroke:#000000; stroke-width:2; stroke-opacity:0.1; fill:none\" points=\"\n",
       "  1075.99,619.771 1899.97,696.548 \n",
       "  \"/>\n",
       "<polyline clip-path=\"url(#clip782)\" style=\"stroke:#000000; stroke-width:2; stroke-opacity:0.1; fill:none\" points=\"\n",
       "  600.263,619.2 1075.99,388.867 \n",
       "  \"/>\n",
       "<polyline clip-path=\"url(#clip782)\" style=\"stroke:#000000; stroke-width:2; stroke-opacity:0.1; fill:none\" points=\"\n",
       "  1075.99,388.867 1899.97,465.645 \n",
       "  \"/>\n",
       "<polyline clip-path=\"url(#clip782)\" style=\"stroke:#000000; stroke-width:2; stroke-opacity:0.1; fill:none\" points=\"\n",
       "  600.263,388.297 1075.99,157.964 \n",
       "  \"/>\n",
       "<polyline clip-path=\"url(#clip782)\" style=\"stroke:#000000; stroke-width:2; stroke-opacity:0.1; fill:none\" points=\"\n",
       "  1075.99,157.964 1899.97,234.742 \n",
       "  \"/>\n",
       "<polyline clip-path=\"url(#clip780)\" style=\"stroke:#000000; stroke-width:4; stroke-opacity:1; fill:none\" points=\"\n",
       "  600.263,1346.4 600.263,353.805 \n",
       "  \"/>\n",
       "<polyline clip-path=\"url(#clip780)\" style=\"stroke:#000000; stroke-width:4; stroke-opacity:1; fill:none\" points=\"\n",
       "  600.263,1311.91 605.972,1309.15 \n",
       "  \"/>\n",
       "<polyline clip-path=\"url(#clip780)\" style=\"stroke:#000000; stroke-width:4; stroke-opacity:1; fill:none\" points=\"\n",
       "  600.263,1081.01 605.972,1078.24 \n",
       "  \"/>\n",
       "<polyline clip-path=\"url(#clip780)\" style=\"stroke:#000000; stroke-width:4; stroke-opacity:1; fill:none\" points=\"\n",
       "  600.263,850.104 605.972,847.34 \n",
       "  \"/>\n",
       "<polyline clip-path=\"url(#clip780)\" style=\"stroke:#000000; stroke-width:4; stroke-opacity:1; fill:none\" points=\"\n",
       "  600.263,619.2 605.972,616.436 \n",
       "  \"/>\n",
       "<polyline clip-path=\"url(#clip780)\" style=\"stroke:#000000; stroke-width:4; stroke-opacity:1; fill:none\" points=\"\n",
       "  600.263,388.297 605.972,385.533 \n",
       "  \"/>\n",
       "<path clip-path=\"url(#clip780)\" d=\"M 0 0 M516.148 1312.36 L545.823 1312.36 L545.823 1316.3 L516.148 1316.3 L516.148 1312.36 Z\" fill=\"#000000\" fill-rule=\"evenodd\" fill-opacity=\"1\" /><path clip-path=\"url(#clip780)\" d=\"M 0 0 M559.944 1325.26 L576.263 1325.26 L576.263 1329.19 L554.319 1329.19 L554.319 1325.26 Q556.981 1322.5 561.564 1317.87 Q566.171 1313.22 567.351 1311.88 Q569.596 1309.35 570.476 1307.62 Q571.379 1305.86 571.379 1304.17 Q571.379 1301.41 569.434 1299.68 Q567.513 1297.94 564.411 1297.94 Q562.212 1297.94 559.759 1298.7 Q557.328 1299.47 554.55 1301.02 L554.55 1296.3 Q557.374 1295.16 559.828 1294.58 Q562.282 1294.01 564.319 1294.01 Q569.689 1294.01 572.883 1296.69 Q576.078 1299.38 576.078 1303.87 Q576.078 1306 575.268 1307.92 Q574.481 1309.82 572.374 1312.41 Q571.795 1313.08 568.694 1316.3 Q565.592 1319.49 559.944 1325.26 Z\" fill=\"#000000\" fill-rule=\"evenodd\" fill-opacity=\"1\" /><path clip-path=\"url(#clip780)\" d=\"M 0 0 M515.777 1081.46 L545.453 1081.46 L545.453 1085.39 L515.777 1085.39 L515.777 1081.46 Z\" fill=\"#000000\" fill-rule=\"evenodd\" fill-opacity=\"1\" /><path clip-path=\"url(#clip780)\" d=\"M 0 0 M556.356 1094.35 L563.995 1094.35 L563.995 1067.99 L555.684 1069.65 L555.684 1065.39 L563.948 1063.73 L568.624 1063.73 L568.624 1094.35 L576.263 1094.35 L576.263 1098.29 L556.356 1098.29 L556.356 1094.35 Z\" fill=\"#000000\" fill-rule=\"evenodd\" fill-opacity=\"1\" /><path clip-path=\"url(#clip780)\" d=\"M 0 0 M564.319 835.902 Q560.708 835.902 558.879 839.467 Q557.073 843.009 557.073 850.138 Q557.073 857.245 558.879 860.81 Q560.708 864.351 564.319 864.351 Q567.953 864.351 569.758 860.81 Q571.587 857.245 571.587 850.138 Q571.587 843.009 569.758 839.467 Q567.953 835.902 564.319 835.902 M564.319 832.199 Q570.129 832.199 573.184 836.805 Q576.263 841.388 576.263 850.138 Q576.263 858.865 573.184 863.472 Q570.129 868.055 564.319 868.055 Q558.509 868.055 555.43 863.472 Q552.374 858.865 552.374 850.138 Q552.374 841.388 555.43 836.805 Q558.509 832.199 564.319 832.199 Z\" fill=\"#000000\" fill-rule=\"evenodd\" fill-opacity=\"1\" /><path clip-path=\"url(#clip780)\" d=\"M 0 0 M556.356 632.545 L563.995 632.545 L563.995 606.18 L555.684 607.846 L555.684 603.587 L563.948 601.92 L568.624 601.92 L568.624 632.545 L576.263 632.545 L576.263 636.48 L556.356 636.48 L556.356 632.545 Z\" fill=\"#000000\" fill-rule=\"evenodd\" fill-opacity=\"1\" /><path clip-path=\"url(#clip780)\" d=\"M 0 0 M559.944 401.642 L576.263 401.642 L576.263 405.577 L554.319 405.577 L554.319 401.642 Q556.981 398.887 561.564 394.258 Q566.171 389.605 567.351 388.262 Q569.596 385.739 570.476 384.003 Q571.379 382.244 571.379 380.554 Q571.379 377.799 569.434 376.063 Q567.513 374.327 564.411 374.327 Q562.212 374.327 559.759 375.091 Q557.328 375.855 554.55 377.406 L554.55 372.684 Q557.374 371.549 559.828 370.971 Q562.282 370.392 564.319 370.392 Q569.689 370.392 572.883 373.077 Q576.078 375.762 576.078 380.253 Q576.078 382.383 575.268 384.304 Q574.481 386.202 572.374 388.795 Q571.795 389.466 568.694 392.684 Q565.592 395.878 559.944 401.642 Z\" fill=\"#000000\" fill-rule=\"evenodd\" fill-opacity=\"1\" /><path clip-path=\"url(#clip780)\" d=\"M 0 0 M753.679 34.1734 Q752.423 33.4443 750.924 33.1202 Q749.466 32.7556 747.683 32.7556 Q741.364 32.7556 737.961 36.8875 Q734.599 40.9789 734.599 48.6757 L734.599 72.576 L727.105 72.576 L727.105 27.2059 L734.599 27.2059 L734.599 34.2544 Q736.948 30.1225 740.716 28.1376 Q744.483 26.1121 749.871 26.1121 Q750.64 26.1121 751.572 26.2337 Q752.504 26.3147 753.638 26.5172 L753.679 34.1734 Z\" fill=\"#000000\" fill-rule=\"evenodd\" fill-opacity=\"1\" /><path clip-path=\"url(#clip780)\" d=\"M 0 0 M798.482 48.0275 L798.482 51.6733 L764.211 51.6733 Q764.697 59.3701 768.829 63.421 Q773.001 67.4314 780.415 67.4314 Q784.709 67.4314 788.719 66.3781 Q792.77 65.3249 796.74 63.2184 L796.74 70.267 Q792.729 71.9684 788.516 72.8596 Q784.303 73.7508 779.969 73.7508 Q769.113 73.7508 762.753 67.4314 Q756.433 61.1119 756.433 50.3365 Q756.433 39.1965 762.429 32.6746 Q768.464 26.1121 778.673 26.1121 Q787.828 26.1121 793.134 32.0264 Q798.482 37.9003 798.482 48.0275 M791.028 45.84 Q790.947 39.7232 787.585 36.0774 Q784.263 32.4315 778.754 32.4315 Q772.515 32.4315 768.748 35.9558 Q765.021 39.4801 764.454 45.8805 L791.028 45.84 Z\" fill=\"#000000\" fill-rule=\"evenodd\" fill-opacity=\"1\" /><path clip-path=\"url(#clip780)\" d=\"M 0 0 M833.684 9.54393 L833.684 15.7418 L826.554 15.7418 Q822.544 15.7418 820.964 17.3622 Q819.425 18.9825 819.425 23.1955 L819.425 27.2059 L831.699 27.2059 L831.699 32.9987 L819.425 32.9987 L819.425 72.576 L811.931 72.576 L811.931 32.9987 L804.801 32.9987 L804.801 27.2059 L811.931 27.2059 L811.931 24.0462 Q811.931 16.471 815.455 13.0277 Q818.979 9.54393 826.635 9.54393 L833.684 9.54393 Z\" fill=\"#000000\" fill-rule=\"evenodd\" fill-opacity=\"1\" /><path clip-path=\"url(#clip780)\" d=\"M 0 0 M858.232 12.096 L909.395 12.096 L909.395 18.9825 L887.926 18.9825 L887.926 72.576 L879.702 72.576 L879.702 18.9825 L858.232 18.9825 L858.232 12.096 Z\" fill=\"#000000\" fill-rule=\"evenodd\" fill-opacity=\"1\" /><path clip-path=\"url(#clip780)\" d=\"M 0 0 M931.068 34.1734 Q929.812 33.4443 928.313 33.1202 Q926.855 32.7556 925.072 32.7556 Q918.753 32.7556 915.35 36.8875 Q911.988 40.9789 911.988 48.6757 L911.988 72.576 L904.494 72.576 L904.494 27.2059 L911.988 27.2059 L911.988 34.2544 Q914.337 30.1225 918.105 28.1376 Q921.872 26.1121 927.26 26.1121 Q928.03 26.1121 928.961 26.2337 Q929.893 26.3147 931.027 26.5172 L931.068 34.1734 Z\" fill=\"#000000\" fill-rule=\"evenodd\" fill-opacity=\"1\" /><path clip-path=\"url(#clip780)\" d=\"M 0 0 M959.505 49.7694 Q950.472 49.7694 946.988 51.8354 Q943.504 53.9013 943.504 58.8839 Q943.504 62.8538 946.097 65.2034 Q948.73 67.5124 953.226 67.5124 Q959.424 67.5124 963.151 63.1374 Q966.918 58.7219 966.918 51.4303 L966.918 49.7694 L959.505 49.7694 M974.372 46.6907 L974.372 72.576 L966.918 72.576 L966.918 65.6895 Q964.366 69.8214 960.558 71.8063 Q956.75 73.7508 951.241 73.7508 Q944.274 73.7508 940.142 69.8619 Q936.05 65.9325 936.05 59.3701 Q936.05 51.7138 941.154 47.825 Q946.299 43.9361 956.467 43.9361 L966.918 43.9361 L966.918 43.2069 Q966.918 38.0623 963.515 35.2672 Q960.153 32.4315 954.036 32.4315 Q950.147 32.4315 946.461 33.3632 Q942.775 34.295 939.372 36.1584 L939.372 29.2718 Q943.463 27.692 947.312 26.9223 Q951.16 26.1121 954.806 26.1121 Q964.65 26.1121 969.511 31.2163 Q974.372 36.3204 974.372 46.6907 Z\" fill=\"#000000\" fill-rule=\"evenodd\" fill-opacity=\"1\" /><path clip-path=\"url(#clip780)\" d=\"M 0 0 M989.725 27.2059 L997.178 27.2059 L997.178 73.3862 Q997.178 82.0551 993.857 85.944 Q990.575 89.8329 983.243 89.8329 L980.408 89.8329 L980.408 83.5134 L982.393 83.5134 Q986.646 83.5134 988.185 81.5285 Q989.725 79.5841 989.725 73.3862 L989.725 27.2059 M989.725 9.54393 L997.178 9.54393 L997.178 18.9825 L989.725 18.9825 L989.725 9.54393 Z\" fill=\"#000000\" fill-rule=\"evenodd\" fill-opacity=\"1\" /><path clip-path=\"url(#clip780)\" d=\"M 0 0 M1051.58 48.0275 L1051.58 51.6733 L1017.31 51.6733 Q1017.8 59.3701 1021.93 63.421 Q1026.1 67.4314 1033.52 67.4314 Q1037.81 67.4314 1041.82 66.3781 Q1045.87 65.3249 1049.84 63.2184 L1049.84 70.267 Q1045.83 71.9684 1041.62 72.8596 Q1037.4 73.7508 1033.07 73.7508 Q1022.21 73.7508 1015.85 67.4314 Q1009.53 61.1119 1009.53 50.3365 Q1009.53 39.1965 1015.53 32.6746 Q1021.56 26.1121 1031.77 26.1121 Q1040.93 26.1121 1046.23 32.0264 Q1051.58 37.9003 1051.58 48.0275 M1044.13 45.84 Q1044.05 39.7232 1040.69 36.0774 Q1037.36 32.4315 1031.85 32.4315 Q1025.62 32.4315 1021.85 35.9558 Q1018.12 39.4801 1017.55 45.8805 L1044.13 45.84 Z\" fill=\"#000000\" fill-rule=\"evenodd\" fill-opacity=\"1\" /><path clip-path=\"url(#clip780)\" d=\"M 0 0 M1096.47 28.9478 L1096.47 35.9153 Q1093.31 34.1734 1090.11 33.3227 Q1086.95 32.4315 1083.71 32.4315 Q1076.45 32.4315 1072.44 37.0496 Q1068.43 41.6271 1068.43 49.9314 Q1068.43 58.2358 1072.44 62.8538 Q1076.45 67.4314 1083.71 67.4314 Q1086.95 67.4314 1090.11 66.5807 Q1093.31 65.6895 1096.47 63.9476 L1096.47 70.8341 Q1093.35 72.2924 1089.98 73.0216 Q1086.66 73.7508 1082.9 73.7508 Q1072.65 73.7508 1066.61 67.3098 Q1060.58 60.8689 1060.58 49.9314 Q1060.58 38.832 1066.65 32.472 Q1072.77 26.1121 1083.38 26.1121 Q1086.82 26.1121 1090.11 26.8413 Q1093.39 27.5299 1096.47 28.9478 Z\" fill=\"#000000\" fill-rule=\"evenodd\" fill-opacity=\"1\" /><path clip-path=\"url(#clip780)\" d=\"M 0 0 M1116.8 14.324 L1116.8 27.2059 L1132.15 27.2059 L1132.15 32.9987 L1116.8 32.9987 L1116.8 57.6282 Q1116.8 63.1779 1118.3 64.7578 Q1119.84 66.3376 1124.5 66.3376 L1132.15 66.3376 L1132.15 72.576 L1124.5 72.576 Q1115.87 72.576 1112.59 69.3758 Q1109.31 66.1351 1109.31 57.6282 L1109.31 32.9987 L1103.84 32.9987 L1103.84 27.2059 L1109.31 27.2059 L1109.31 14.324 L1116.8 14.324 Z\" fill=\"#000000\" fill-rule=\"evenodd\" fill-opacity=\"1\" /><path clip-path=\"url(#clip780)\" d=\"M 0 0 M1159.54 32.4315 Q1153.54 32.4315 1150.06 37.1306 Q1146.58 41.7891 1146.58 49.9314 Q1146.58 58.0738 1150.02 62.7728 Q1153.5 67.4314 1159.54 67.4314 Q1165.49 67.4314 1168.98 62.7323 Q1172.46 58.0333 1172.46 49.9314 Q1172.46 41.8701 1168.98 37.1711 Q1165.49 32.4315 1159.54 32.4315 M1159.54 26.1121 Q1169.26 26.1121 1174.81 32.4315 Q1180.36 38.7509 1180.36 49.9314 Q1180.36 61.0714 1174.81 67.4314 Q1169.26 73.7508 1159.54 73.7508 Q1149.78 73.7508 1144.23 67.4314 Q1138.72 61.0714 1138.72 49.9314 Q1138.72 38.7509 1144.23 32.4315 Q1149.78 26.1121 1159.54 26.1121 Z\" fill=\"#000000\" fill-rule=\"evenodd\" fill-opacity=\"1\" /><path clip-path=\"url(#clip780)\" d=\"M 0 0 M1219.01 34.1734 Q1217.75 33.4443 1216.25 33.1202 Q1214.79 32.7556 1213.01 32.7556 Q1206.69 32.7556 1203.29 36.8875 Q1199.93 40.9789 1199.93 48.6757 L1199.93 72.576 L1192.43 72.576 L1192.43 27.2059 L1199.93 27.2059 L1199.93 34.2544 Q1202.28 30.1225 1206.04 28.1376 Q1209.81 26.1121 1215.2 26.1121 Q1215.97 26.1121 1216.9 26.2337 Q1217.83 26.3147 1218.97 26.5172 L1219.01 34.1734 Z\" fill=\"#000000\" fill-rule=\"evenodd\" fill-opacity=\"1\" /><path clip-path=\"url(#clip780)\" d=\"M 0 0 M1245.7 76.7889 Q1242.54 84.8907 1239.54 87.3618 Q1236.55 89.8329 1231.52 89.8329 L1225.57 89.8329 L1225.57 83.5945 L1229.94 83.5945 Q1233.02 83.5945 1234.72 82.1361 Q1236.42 80.6778 1238.49 75.2496 L1239.83 71.8468 L1221.48 27.2059 L1229.38 27.2059 L1243.55 62.6918 L1257.73 27.2059 L1265.63 27.2059 L1245.7 76.7889 Z\" fill=\"#000000\" fill-rule=\"evenodd\" fill-opacity=\"1\" /><path clip-path=\"url(#clip780)\" d=\"M 0 0 M1320.2 9.62495 Q1314.77 18.942 1312.14 28.0566 Q1309.5 37.1711 1309.5 46.5287 Q1309.5 55.8863 1312.14 65.0818 Q1314.81 74.2369 1320.2 83.5134 L1313.72 83.5134 Q1307.64 73.9938 1304.6 64.7983 Q1301.6 55.6027 1301.6 46.5287 Q1301.6 37.4952 1304.6 28.3401 Q1307.6 19.1851 1313.72 9.62495 L1320.2 9.62495 Z\" fill=\"#000000\" fill-rule=\"evenodd\" fill-opacity=\"1\" /><path clip-path=\"url(#clip780)\" d=\"M 0 0 M1337.13 65.6895 L1350.5 65.6895 L1350.5 19.5497 L1335.96 22.4663 L1335.96 15.0127 L1350.42 12.096 L1358.6 12.096 L1358.6 65.6895 L1371.97 65.6895 L1371.97 72.576 L1337.13 72.576 L1337.13 65.6895 Z\" fill=\"#000000\" fill-rule=\"evenodd\" fill-opacity=\"1\" /><path clip-path=\"url(#clip780)\" d=\"M 0 0 M1406 17.4837 Q1399.68 17.4837 1396.48 23.7221 Q1393.32 29.92 1393.32 42.3968 Q1393.32 54.833 1396.48 61.0714 Q1399.68 67.2693 1406 67.2693 Q1412.36 67.2693 1415.52 61.0714 Q1418.72 54.833 1418.72 42.3968 Q1418.72 29.92 1415.52 23.7221 Q1412.36 17.4837 1406 17.4837 M1406 11.0023 Q1416.16 11.0023 1421.51 19.0636 Q1426.9 27.0843 1426.9 42.3968 Q1426.9 57.6687 1421.51 65.73 Q1416.16 73.7508 1406 73.7508 Q1395.83 73.7508 1390.44 65.73 Q1385.09 57.6687 1385.09 42.3968 Q1385.09 27.0843 1390.44 19.0636 Q1395.83 11.0023 1406 11.0023 Z\" fill=\"#000000\" fill-rule=\"evenodd\" fill-opacity=\"1\" /><path clip-path=\"url(#clip780)\" d=\"M 0 0 M1458.78 17.4837 Q1452.46 17.4837 1449.26 23.7221 Q1446.1 29.92 1446.1 42.3968 Q1446.1 54.833 1449.26 61.0714 Q1452.46 67.2693 1458.78 67.2693 Q1465.14 67.2693 1468.3 61.0714 Q1471.5 54.833 1471.5 42.3968 Q1471.5 29.92 1468.3 23.7221 Q1465.14 17.4837 1458.78 17.4837 M1458.78 11.0023 Q1468.95 11.0023 1474.29 19.0636 Q1479.68 27.0843 1479.68 42.3968 Q1479.68 57.6687 1474.29 65.73 Q1468.95 73.7508 1458.78 73.7508 Q1448.61 73.7508 1443.22 65.73 Q1437.88 57.6687 1437.88 42.3968 Q1437.88 27.0843 1443.22 19.0636 Q1448.61 11.0023 1458.78 11.0023 Z\" fill=\"#000000\" fill-rule=\"evenodd\" fill-opacity=\"1\" /><path clip-path=\"url(#clip780)\" d=\"M 0 0 M1536.96 32.4315 Q1530.97 32.4315 1527.48 37.1306 Q1524 41.7891 1524 49.9314 Q1524 58.0738 1527.44 62.7728 Q1530.93 67.4314 1536.96 67.4314 Q1542.92 67.4314 1546.4 62.7323 Q1549.88 58.0333 1549.88 49.9314 Q1549.88 41.8701 1546.4 37.1711 Q1542.92 32.4315 1536.96 32.4315 M1536.96 26.1121 Q1546.68 26.1121 1552.23 32.4315 Q1557.78 38.7509 1557.78 49.9314 Q1557.78 61.0714 1552.23 67.4314 Q1546.68 73.7508 1536.96 73.7508 Q1527.2 73.7508 1521.65 67.4314 Q1516.14 61.0714 1516.14 49.9314 Q1516.14 38.7509 1521.65 32.4315 Q1527.2 26.1121 1536.96 26.1121 Z\" fill=\"#000000\" fill-rule=\"evenodd\" fill-opacity=\"1\" /><path clip-path=\"url(#clip780)\" d=\"M 0 0 M1596.43 34.1734 Q1595.17 33.4443 1593.67 33.1202 Q1592.22 32.7556 1590.43 32.7556 Q1584.11 32.7556 1580.71 36.8875 Q1577.35 40.9789 1577.35 48.6757 L1577.35 72.576 L1569.85 72.576 L1569.85 27.2059 L1577.35 27.2059 L1577.35 34.2544 Q1579.7 30.1225 1583.47 28.1376 Q1587.23 26.1121 1592.62 26.1121 Q1593.39 26.1121 1594.32 26.2337 Q1595.25 26.3147 1596.39 26.5172 L1596.43 34.1734 Z\" fill=\"#000000\" fill-rule=\"evenodd\" fill-opacity=\"1\" /><path clip-path=\"url(#clip780)\" d=\"M 0 0 M1636.82 49.9314 Q1636.82 41.7081 1633.41 37.0496 Q1630.05 32.3505 1624.14 32.3505 Q1618.22 32.3505 1614.82 37.0496 Q1611.46 41.7081 1611.46 49.9314 Q1611.46 58.1548 1614.82 62.8538 Q1618.22 67.5124 1624.14 67.5124 Q1630.05 67.5124 1633.41 62.8538 Q1636.82 58.1548 1636.82 49.9314 M1611.46 34.0924 Q1613.81 30.0415 1617.37 28.0971 Q1620.98 26.1121 1625.96 26.1121 Q1634.22 26.1121 1639.37 32.6746 Q1644.55 39.2371 1644.55 49.9314 Q1644.55 60.6258 1639.37 67.1883 Q1634.22 73.7508 1625.96 73.7508 Q1620.98 73.7508 1617.37 71.8063 Q1613.81 69.8214 1611.46 65.7705 L1611.46 72.576 L1603.96 72.576 L1603.96 9.54393 L1611.46 9.54393 L1611.46 34.0924 Z\" fill=\"#000000\" fill-rule=\"evenodd\" fill-opacity=\"1\" /><path clip-path=\"url(#clip780)\" d=\"M 0 0 M1656.91 27.2059 L1664.36 27.2059 L1664.36 72.576 L1656.91 72.576 L1656.91 27.2059 M1656.91 9.54393 L1664.36 9.54393 L1664.36 18.9825 L1656.91 18.9825 L1656.91 9.54393 Z\" fill=\"#000000\" fill-rule=\"evenodd\" fill-opacity=\"1\" /><path clip-path=\"url(#clip780)\" d=\"M 0 0 M1687.33 14.324 L1687.33 27.2059 L1702.68 27.2059 L1702.68 32.9987 L1687.33 32.9987 L1687.33 57.6282 Q1687.33 63.1779 1688.83 64.7578 Q1690.37 66.3376 1695.03 66.3376 L1702.68 66.3376 L1702.68 72.576 L1695.03 72.576 Q1686.4 72.576 1683.12 69.3758 Q1679.84 66.1351 1679.84 57.6282 L1679.84 32.9987 L1674.37 32.9987 L1674.37 27.2059 L1679.84 27.2059 L1679.84 14.324 L1687.33 14.324 Z\" fill=\"#000000\" fill-rule=\"evenodd\" fill-opacity=\"1\" /><path clip-path=\"url(#clip780)\" d=\"M 0 0 M1741.41 28.5427 L1741.41 35.5912 Q1738.25 33.9709 1734.85 33.1607 Q1731.45 32.3505 1727.8 32.3505 Q1722.25 32.3505 1719.45 34.0519 Q1716.7 35.7533 1716.7 39.156 Q1716.7 41.7486 1718.69 43.2475 Q1720.67 44.7058 1726.67 46.0426 L1729.22 46.6097 Q1737.16 48.3111 1740.48 51.4303 Q1743.84 54.509 1743.84 60.0587 Q1743.84 66.3781 1738.82 70.0644 Q1733.84 73.7508 1725.09 73.7508 Q1721.44 73.7508 1717.47 73.0216 Q1713.54 72.3329 1709.17 70.9151 L1709.17 63.2184 Q1713.3 65.3654 1717.31 66.4591 Q1721.32 67.5124 1725.25 67.5124 Q1730.51 67.5124 1733.35 65.73 Q1736.18 63.9071 1736.18 60.6258 Q1736.18 57.5877 1734.12 55.9673 Q1732.09 54.3469 1725.17 52.8481 L1722.57 52.2405 Q1715.65 50.7821 1712.57 47.7845 Q1709.49 44.7463 1709.49 39.4801 Q1709.49 33.0797 1714.03 29.5959 Q1718.56 26.1121 1726.91 26.1121 Q1731.04 26.1121 1734.69 26.7198 Q1738.33 27.3274 1741.41 28.5427 Z\" fill=\"#000000\" fill-rule=\"evenodd\" fill-opacity=\"1\" /><path clip-path=\"url(#clip780)\" d=\"M 0 0 M1754.54 9.62495 L1761.02 9.62495 Q1767.09 19.1851 1770.09 28.3401 Q1773.13 37.4952 1773.13 46.5287 Q1773.13 55.6027 1770.09 64.7983 Q1767.09 73.9938 1761.02 83.5134 L1754.54 83.5134 Q1759.92 74.2369 1762.56 65.0818 Q1765.23 55.8863 1765.23 46.5287 Q1765.23 37.1711 1762.56 28.0566 Q1759.92 18.942 1754.54 9.62495 Z\" fill=\"#000000\" fill-rule=\"evenodd\" fill-opacity=\"1\" /><polyline clip-path=\"url(#clip782)\" style=\"stroke:#009af9; stroke-width:8; stroke-opacity:1; fill:none\" points=\"\n",
       "  1579.71,804.037 1628.71,744.021 1533.14,695.173 1329.5,676.134 1095.5,694.144 920.224,742.298 870.043,802.255 963.586,851.307 1165.17,870.998 1398.79,854.003 \n",
       "  1576.78,806.759 1632.58,746.981 1545.36,697.033 1347.74,675.582 1113.57,690.622 930.193,736.499 865.65,796.093 943.534,847.287 1134.67,871.199 1368.4,859.1 \n",
       "  1558.81,815.498 1636.13,756.417 1572.06,703.506 1390.1,676.138 1156.86,684.31 957.56,724.998 864.749,783.316 911.849,838.039 1081.41,869.372 1311.92,866.071 \n",
       "  1520.31,829.397 1631.73,772.566 1606.25,715.985 1453.03,679.949 1227.02,677.365 1009.18,709.128 877.282,763.837 878.095,821.957 1010.95,862.848 1228.48,872.093 \n",
       "  1453.76,846.502 1607.44,795.14 1635.54,736.087 1528.22,690.097 1323.19,673.319 1092.43,691.621 916.798,738.547 857.509,797.648 934.901,848.311 1121.73,872.979 \n",
       "  1353.07,863.182 1548.98,822.366 1641.98,764.633 1600.08,709.872 1437.73,676.929 1210.79,677.124 997.261,710.361 870.29,765.195 873.062,822.836 1004.27,863.644 \n",
       "  1219.02,873.808 1444.4,849.955 1604.23,800.199 1644.6,741.354 1551.94,693.272 1357.5,672.158 1126.82,685.11 937.493,727.734 852.958,785.675 901.224,839.516 \n",
       "  1065.83,871.318 1291.77,870.568 1504,837.581 1632.3,783.317 1634.29,725.73 1509.34,683.849 1298.74,671.503 1072.02,692.745 903.846,740.536 849.353,799.123 \n",
       "  926.09,849.291 1108.65,874.685 1337.34,867.101 1537.8,829.063 1645.08,772.94 1624.45,716.922 1482.62,679.146 1265.5,671.832 1043.33,697.322 887.775,747.347 \n",
       "  848.766,805.757 938.511,853.791 1127.96,876.114 1356.45,865.669 1551.21,825.838 1650.38,769.308 1622.52,714.035 1476.49,677.555 1258.63,671.433 1037.98,697.586 \n",
       "  884.318,747.701 845.965,805.923 934.685,853.922 1122.33,876.68 1350,867.143 1546.61,828.343 1650.97,772.397 1630.64,716.721 1491.96,678.63 1278.06,669.961 \n",
       "  1055.4,693.386 893.012,741.604 840.986,799.654 915.091,849.614 1092.21,876.148 1317.81,871.179 1522.8,836.287 1644.62,782.16 1646.14,725.321 1526.93,683.098 \n",
       "  1323.33,668.356 1097.36,685.57 917.738,729.469 838.862,786.692 884.347,839.899 1040.15,873.055 1259.16,876.241 1475.54,848.563 1624.51,798.349 1661.56,740.634 \n",
       "  1575.64,692.673 1392.43,668.794 1166.66,676.119 965.694,712.435 849.295,766.89 851.83,823.28 972.244,864.911 1174.7,879.537 1399.44,862.912 1580.41,819.969 \n",
       "  1664.56,763.331 1627.25,709.604 1479.44,674.53 1264.42,668.378 1045.14,692.928 885.645,740.972 832.299,798.465 900.347,848.679 1069.76,877.084 1291.35,875.524 \n",
       "  1501.15,844.507 1638.78,792.995 1664.71,735.812 1571.52,689.391 1385.98,667.065 1161.38,675.234 962.138,711.529 845.223,765.524 843.83,821.768 958.067,864.25 \n",
       "  1155.23,880.95 1379.32,867.196 1567.01,826.924 1665.37,771.52 1646.71,716.608 1516.31,677.66 1310.9,665.642 1088.31,683.924 911.114,727.337 828.908,783.663 \n",
       "  864.473,837.122 1007.6,872.814 1218.22,880.856 1437.77,859.073 1605.44,813.54 1674.89,756.871 1626.95,704.733 1474.88,671.532 1260.68,666.434 1043.5,690.83 \n",
       "  883.161,737.964 823.639,794.838 881.019,845.838 1039.32,877.036 1255.16,879.974 1469.7,853.907 1624.7,805.951 1678.13,749.131 1615.55,698.854 1453.92,668.744 \n",
       "  1237.03,666.955 1023.61,693.952 871.311,742.406 821.085,799.215 886.198,849.087 1048.91,878.667 1265.48,880.092 1478.03,853.035 1629.96,804.74 1680.86,748.071 \n",
       "  1617.22,698.103 1455.98,668.118 1239.98,666.082 1026.6,692.517 872.395,740.383 818.046,796.981 877.663,847.362 1035.28,878.286 1249.33,881.686 1463.66,856.722 \n",
       "  1622.25,809.957 1683.75,753.616 1632.12,702.401 1480.84,669.671 1269.36,663.958 1052.8,686.734 887.495,732.046 816.273,788.091 857.369,840.335 999.902,875.295 \n",
       "  1206.93,884.009 1425.12,864.289 1598.51,821.233 1682.69,765.891 1656.15,712.437 1525.68,674.553 1324.67,661.93 1104.54,677.785 921.506,718.044 822.173,772.409 \n",
       "  831.624,827.028 947.207,868.049 1139.44,885.13 1359.66,874.012 1552.38,837.538 1669.14,784.907 1680.65,729.351 1584.02,684.826 1403.52,662.511 1184.47,668.003 \n",
       "  981.803,699.905 846.239,750.198 811.512,806.286 886.049,854.184 1051.07,882.01 1265.48,882.911 1476.16,856.714 1631.1,809.92 1692.11,754.087 1644.16,702.982 \n",
       "  1499.08,669.201 1292.62,661.067 1075.63,680.57 901.482,722.888 812.842,777.602 831.243,831.288 951.945,870.839 1145.31,886.655 1364.21,874.939 1555.51,838.577 \n",
       "  1672.89,786.4 1687.98,731.044 1597.14,685.904 1422.32,661.899 1205.82,664.828 999.961,693.969 854.372,742.261 803.998,798.048 860.731,847.919 1010.74,879.944 \n",
       "  1217.97,886.513 1432.94,866.107 1604.47,823.619 1691.82,769.165 1674.27,715.685 1555.98,675.88 1365.05,659.202 1146.78,669.6 952.948,704.591 829.386,755.862 \n",
       "  805.149,811.275 885.727,857.767 1051.95,884.437 1264.67,885.074 1474.06,859.575 1631.21,813.928 1699.49,758.795 1663,707.037 1530.24,670.721 1332.16,658.31 \n",
       "  1114.91,672.687 929.055,710.487 817.729,762.897 806.594,817.742 898.006,862.337 1070.65,886.419 1284.64,884.492 1490.77,857.042 1641.79,810.391 1703.13,755.238 \n",
       "  1660.77,704.213 1524.4,668.995 1325.23,657.643 1108.83,672.747 924.639,710.834 814.634,763.187 803.709,817.865 894.132,862.45 1065.2,886.868 1278.09,885.644 \n",
       "  1484.75,859.098 1638.64,813.235 1705.18,758.383 1669.43,706.878 1539.43,670.296 1344.38,656.857 1128.1,669.574 939.144,705.575 819.796,756.765 796.614,811.674 \n",
       "  874.566,858.049 1036.09,885.592 1245.15,888.231 1455.38,865.424 1620.28,822.246 1703.45,768.25 1686.55,715.361 1573.3,675.256 1388.7,656.785 1173.48,664.019 \n",
       "  975.087,695.348 837.176,743.85 789.937,798.843 843.539,848.261 986.043,881.314 1186.18,890.827 1400.29,874.773 1581.84,836.675 1691.45,784.821 1705.36,730.46 \n",
       "  1620.58,685.381 1455.47,659.357 1245.81,658.024 1037.03,681.662 874.286,725.135 792.646,779.026 809.547,831.707 921.146,871.856 1103.31,890.894 1316.94,884.788 \n",
       "  1516.35,854.881 1659.05,807.575 1714.65,752.961 1671.33,702.671 1538.29,667.416 1343.87,654.703 1129.45,667.23 940.623,702.318 817.452,752.491 785.918,807.095 \n",
       "  852.503,854.576 1002.95,884.94 1205.44,891.833 1417.37,873.849 1594.3,834.79 1699.21,782.851 1710.15,728.908 1624.86,684.245 1461.15,658.206 1253.27,656.237 \n",
       "  1044.68,678.738 878.922,720.992 790.476,774.165 797.6,827.18 898.615,869.038 1072.41,891.098 1282.96,888.843 1486.8,862.778 1641.97,818.292 1716.58,764.549 \n",
       "  1695.32,712.597 1582.55,673.116 1401.43,654.221 1189.18,659.79 989.391,688.668 843.001,734.911 779.891,789.03 812.792,839.957 934.8,877.325 1120.93,893.567 \n",
       "  1333.32,885.428 1528.91,854.591 1668.18,807.314 1723.02,753.159 1682.34,703.066 1554.37,667.151 1364.93,652.668 1152.27,662.536 959.29,694.751 824.838,742.801 \n",
       "  775.85,797.002 821.991,846.469 953.827,881.313 1144.86,894.606 1356.92,883.738 1547.79,850.905 1679.56,802.651 1726.1,748.563 1678.17,699.379 1545.28,664.86 \n",
       "  1353.8,651.857 1141.7,662.944 951.034,695.911 819.517,744.209 773.037,798.273 820.596,847.435 952.645,882.035 1143.1,895.315 1354.57,884.711 1545.66,852.33 \n",
       "  1670.94,807.438 \n",
       "  \"/>\n",
       "<polyline clip-path=\"url(#clip782)\" style=\"stroke:#009af9; stroke-width:8; stroke-opacity:1; fill:none\" points=\"\n",
       "  1680.81,802.658 1728.86,750.602 1685.24,701.112 1556.74,665.696 1368.41,651.263 1156.98,660.624 963.643,691.941 838.084,734.958 \n",
       "  \"/>\n",
       "<polyline clip-path=\"url(#clip782)\" style=\"stroke:#009af9; stroke-width:8; stroke-opacity:1; fill:none\" points=\"\n",
       "  822.487,742.509 770.673,792.92 808.261,842.958 931.295,879.546 1115.87,895.653 1326.33,888.216 1522.21,858.697 1648.25,818.423 \n",
       "  \"/>\n",
       "<polyline clip-path=\"url(#clip782)\" style=\"stroke:#009af9; stroke-width:8; stroke-opacity:1; fill:none\" points=\"\n",
       "  1674.15,805.883 1729.87,759.294 1701.87,708.482 1587.26,670.092 1407.99,651.483 1198.42,656.221 998.712,683.387 861.945,723.404 \n",
       "  \"/>\n",
       "<polyline clip-path=\"url(#clip782)\" style=\"stroke:#009af9; stroke-width:8; stroke-opacity:1; fill:none\" points=\"\n",
       "  834.425,736.729 772.315,780.857 788.636,832.527 892.721,872.954 1029.86,890.133 \n",
       "  \"/>\n",
       "<polyline clip-path=\"url(#clip782)\" style=\"stroke:#009af9; stroke-width:8; stroke-opacity:1; fill:none\" points=\"\n",
       "  1075.81,894.415 1271.73,893.092 1474.78,869.061 1624.92,829.722 \n",
       "  \"/>\n",
       "<polyline clip-path=\"url(#clip782)\" style=\"stroke:#009af9; stroke-width:8; stroke-opacity:1; fill:none\" points=\"\n",
       "  1657.02,814.177 1723.54,774.727 1722.39,722.224 1632.23,679.341 1507.53,659.981 \n",
       "  \"/>\n",
       "<polyline clip-path=\"url(#clip782)\" style=\"stroke:#009af9; stroke-width:8; stroke-opacity:1; fill:none\" points=\"\n",
       "  1440.87,653.77 1266.38,651.428 1059.62,671.65 888.638,711.005 785.525,762.079 769.501,815.275 843.397,860.637 963.573,883.956 \n",
       "  \"/>\n",
       "<polyline clip-path=\"url(#clip782)\" style=\"stroke:#009af9; stroke-width:8; stroke-opacity:1; fill:none\" points=\"\n",
       "  1046.93,891.723 1190.96,897.118 1399.74,881.512 1580.79,845.82 1652.1,816.561 \n",
       "  \"/>\n",
       "<polyline clip-path=\"url(#clip782)\" style=\"stroke:#009af9; stroke-width:8; stroke-opacity:1; fill:none\" points=\"\n",
       "  1704.18,791.343 1736.88,743.196 1683.01,695.287 1561.79,665.037 \n",
       "  \"/>\n",
       "<polyline clip-path=\"url(#clip782)\" style=\"stroke:#009af9; stroke-width:8; stroke-opacity:1; fill:none\" points=\"\n",
       "  1470.25,656.507 1359.46,649.016 1149.71,659.224 958.484,690.549 862.521,723.126 \n",
       "  \"/>\n",
       "<polyline clip-path=\"url(#clip782)\" style=\"stroke:#009af9; stroke-width:8; stroke-opacity:1; fill:none\" points=\"\n",
       "  807.224,749.899 762.876,790.496 794.345,840.662 909.564,878.47 950.133,882.704 \n",
       "  \"/>\n",
       "<polyline clip-path=\"url(#clip782)\" style=\"stroke:#009af9; stroke-width:8; stroke-opacity:1; fill:none\" points=\"\n",
       "  1100.83,896.746 1294.77,892.932 1494.19,867.007 1620.13,832.041 \n",
       "  \"/>\n",
       "<polyline clip-path=\"url(#clip782)\" style=\"stroke:#009af9; stroke-width:8; stroke-opacity:1; fill:none\" points=\"\n",
       "  1688.75,798.816 1731.39,771.725 1725.97,719.744 1633.87,677.514 1537.53,662.777 \n",
       "  \"/>\n",
       "<polyline clip-path=\"url(#clip782)\" style=\"stroke:#009af9; stroke-width:8; stroke-opacity:1; fill:none\" points=\"\n",
       "  1422.27,652.036 1269.4,649.902 1063.41,669.544 895.61,707.105 \n",
       "  \"/>\n",
       "<polyline clip-path=\"url(#clip782)\" style=\"stroke:#009af9; stroke-width:8; stroke-opacity:1; fill:none\" points=\"\n",
       "  891.322,708.065 784.359,758.449 761.809,811.543 827.593,857.737 936.15,881.401 \n",
       "  \"/>\n",
       "<polyline clip-path=\"url(#clip782)\" style=\"stroke:#009af9; stroke-width:8; stroke-opacity:1; fill:none\" points=\"\n",
       "  1073.6,894.208 1162.28,898.903 1370.74,886.527 1557.59,853.83 1624.73,829.814 \n",
       "  \"/>\n",
       "<polyline clip-path=\"url(#clip782)\" style=\"stroke:#009af9; stroke-width:8; stroke-opacity:1; fill:none\" points=\"\n",
       "  1705.18,790.862 1742.45,753.565 1707.35,703.968 1594.4,668.075 \n",
       "  \"/>\n",
       "<polyline clip-path=\"url(#clip782)\" style=\"stroke:#009af9; stroke-width:8; stroke-opacity:1; fill:none\" points=\"\n",
       "  1590.34,666.785 1412.37,648.678 1205.3,652.889 1006.22,678.656 886.472,711.53 \n",
       "  \"/>\n",
       "<polyline clip-path=\"url(#clip782)\" style=\"stroke:#009af9; stroke-width:8; stroke-opacity:1; fill:none\" points=\"\n",
       "  794.201,756.205 766.427,773.34 768.329,825.337 855.893,868.1 937.181,881.497 \n",
       "  \"/>\n",
       "<polyline clip-path=\"url(#clip782)\" style=\"stroke:#009af9; stroke-width:8; stroke-opacity:1; fill:none\" points=\"\n",
       "  1091.26,895.854 1212.88,898.655 1418.97,881.104 1593.59,844.888 \n",
       "  \"/>\n",
       "<polyline clip-path=\"url(#clip782)\" style=\"stroke:#009af9; stroke-width:8; stroke-opacity:1; fill:none\" points=\"\n",
       "  1595.32,844.53 1710.84,795.396 1745.21,742.364 1692.37,694.775 1585.88,667.282 \n",
       "  \"/>\n",
       "<polyline clip-path=\"url(#clip782)\" style=\"stroke:#009af9; stroke-width:8; stroke-opacity:1; fill:none\" points=\"\n",
       "  1561.61,661.015 1375.96,647.032 1168.11,655.286 974.644,684.314 886.814,711.364 \n",
       "  \"/>\n",
       "<polyline clip-path=\"url(#clip782)\" style=\"stroke:#009af9; stroke-width:8; stroke-opacity:1; fill:none\" points=\"\n",
       "  789.497,758.482 758.26,781.471 773.105,832.531 871.339,873.255 914.658,879.399 \n",
       "  \"/>\n",
       "<polyline clip-path=\"url(#clip782)\" style=\"stroke:#009af9; stroke-width:8; stroke-opacity:1; fill:none\" points=\"\n",
       "  1105.77,897.206 1237.36,898.42 1441.32,878.544 1594.9,844.256 \n",
       "  \"/>\n",
       "<polyline clip-path=\"url(#clip782)\" style=\"stroke:#009af9; stroke-width:8; stroke-opacity:1; fill:none\" points=\"\n",
       "  1612.14,840.406 1720.24,790.631 1746.89,737.847 1687.48,691.2 1588.94,667.566 \n",
       "  \"/>\n",
       "<polyline clip-path=\"url(#clip782)\" style=\"stroke:#009af9; stroke-width:8; stroke-opacity:1; fill:none\" points=\"\n",
       "  1552.27,658.774 1364.7,646.186 1157.24,655.616 965.818,685.422 892.507,708.607 \n",
       "  \"/>\n",
       "<polyline clip-path=\"url(#clip782)\" style=\"stroke:#009af9; stroke-width:8; stroke-opacity:1; fill:none\" points=\"\n",
       "  781.952,762.135 754.795,782.857 771.414,833.653 870.341,874.09 894.937,877.561 \n",
       "  \"/>\n",
       "<polyline clip-path=\"url(#clip782)\" style=\"stroke:#009af9; stroke-width:8; stroke-opacity:1; fill:none\" points=\"\n",
       "  1114.58,898.027 1235.51,899.199 1439.13,879.636 1590.71,846.281 \n",
       "  \"/>\n",
       "<polyline clip-path=\"url(#clip782)\" style=\"stroke:#009af9; stroke-width:8; stroke-opacity:1; fill:none\" points=\"\n",
       "  1610.52,841.923 1720.49,792.505 1750.31,739.809 1694.89,692.814 1599.05,668.509 \n",
       "  \"/>\n",
       "<polyline clip-path=\"url(#clip782)\" style=\"stroke:#009af9; stroke-width:8; stroke-opacity:1; fill:none\" points=\"\n",
       "  1563.66,659.532 1378.97,645.635 1172.3,653.49 978.835,681.75 898.802,705.559 \n",
       "  \"/>\n",
       "<polyline clip-path=\"url(#clip782)\" style=\"stroke:#009af9; stroke-width:8; stroke-opacity:1; fill:none\" points=\"\n",
       "  767.598,769.085 755.165,777.551 762.75,828.807 852.781,870.689 895.537,877.617 \n",
       "  \"/>\n",
       "<polyline clip-path=\"url(#clip782)\" style=\"stroke:#009af9; stroke-width:8; stroke-opacity:1; fill:none\" points=\"\n",
       "  1123.98,898.903 1207.53,900.922 1412.36,884.241 1581.93,850.534 \n",
       "  \"/>\n",
       "<polyline clip-path=\"url(#clip782)\" style=\"stroke:#009af9; stroke-width:8; stroke-opacity:1; fill:none\" points=\"\n",
       "  1590,848.931 1710.64,800.93 1754.09,748.291 1713.06,699.839 1615.11,670.005 \n",
       "  \"/>\n",
       "<polyline clip-path=\"url(#clip782)\" style=\"stroke:#009af9; stroke-width:8; stroke-opacity:1; fill:none\" points=\"\n",
       "  1594.4,663.699 1418.01,645.93 1213.45,649.51 1014.99,673.833 906.789,701.693 \n",
       "  \"/>\n",
       "<polyline clip-path=\"url(#clip782)\" style=\"stroke:#009af9; stroke-width:8; stroke-opacity:1; fill:none\" points=\"\n",
       "  855.832,714.813 762.543,765.582 750.58,817.655 821.79,862.36 893.484,877.426 \n",
       "  \"/>\n",
       "<polyline clip-path=\"url(#clip782)\" style=\"stroke:#009af9; stroke-width:8; stroke-opacity:1; fill:none\" points=\"\n",
       "  964.183,892.282 1154.02,902.488 1359.8,891.32 1547.51,860.649 1588.73,847.24 \n",
       "  \"/>\n",
       "<polyline clip-path=\"url(#clip782)\" style=\"stroke:#009af9; stroke-width:8; stroke-opacity:1; fill:none\" points=\"\n",
       "  1738.44,774.755 1752.88,763.489 1736.7,713.033 1640.27,672.513 1637.31,672.073 \n",
       "  \"/>\n",
       "<polyline clip-path=\"url(#clip782)\" style=\"stroke:#009af9; stroke-width:8; stroke-opacity:1; fill:none\" points=\"\n",
       "  1364.87,646.689 1280.81,645.276 1077.05,663.048 920.168,695.215 \n",
       "  \"/>\n",
       "<polyline clip-path=\"url(#clip782)\" style=\"stroke:#009af9; stroke-width:8; stroke-opacity:1; fill:none\" points=\"\n",
       "  901.764,698.988 783.751,747.167 742.316,799.654 784.122,847.837 875.708,875.769 \n",
       "  \"/>\n",
       "<polyline clip-path=\"url(#clip782)\" style=\"stroke:#009af9; stroke-width:8; stroke-opacity:1; fill:none\" points=\"\n",
       "  902.175,883.841 1077.06,901.812 1280.18,898.85 1478.46,875.467 1585.02,849.038 \n",
       "  \"/>\n",
       "<polyline clip-path=\"url(#clip782)\" style=\"stroke:#009af9; stroke-width:8; stroke-opacity:1; fill:none\" points=\"\n",
       "  1639.67,835.483 1737.67,785.4 1756.55,733.347 1693.26,687.774 1619.01,670.369 \n",
       "  \"/>\n",
       "<polyline clip-path=\"url(#clip782)\" style=\"stroke:#009af9; stroke-width:8; stroke-opacity:1; fill:none\" points=\"\n",
       "  1558.04,656.076 1372.82,643.399 1167.67,651.8 975.838,679.907 914.819,697.805 \n",
       "  \"/>\n",
       "<polyline clip-path=\"url(#clip782)\" style=\"stroke:#009af9; stroke-width:8; stroke-opacity:1; fill:none\" points=\"\n",
       "  828.399,723.153 749.143,774.524 750.762,825.714 832.85,868.473 869.176,875.161 \n",
       "  \"/>\n",
       "<polyline clip-path=\"url(#clip782)\" style=\"stroke:#009af9; stroke-width:8; stroke-opacity:1; fill:none\" points=\"\n",
       "  982.057,895.942 1174.32,903.739 1378.76,890.646 1562.67,858.781 1570.14,856.244 \n",
       "  \"/>\n",
       "<polyline clip-path=\"url(#clip782)\" style=\"stroke:#009af9; stroke-width:8; stroke-opacity:1; fill:none\" points=\"\n",
       "  1749.78,769.268 1759.35,761.339 1740.73,711.33 1648.33,673.101 \n",
       "  \"/>\n",
       "<polyline clip-path=\"url(#clip782)\" style=\"stroke:#009af9; stroke-width:8; stroke-opacity:1; fill:none\" points=\"\n",
       "  1643.77,671.212 1483.92,647.394 1286.71,643.681 1083.62,660.66 927.842,691.499 \n",
       "  \"/>\n",
       "<polyline clip-path=\"url(#clip782)\" style=\"stroke:#009af9; stroke-width:8; stroke-opacity:1; fill:none\" points=\"\n",
       "  907.054,695.614 785.103,742.957 737.098,795.141 770.537,843.873 858.9,874.203 \n",
       "  \"/>\n",
       "<polyline clip-path=\"url(#clip782)\" style=\"stroke:#009af9; stroke-width:8; stroke-opacity:1; fill:none\" points=\"\n",
       "  879.976,881.437 1047.97,901.916 1247.9,902.104 1448.23,882.001 1574.13,854.311 \n",
       "  \"/>\n",
       "<polyline clip-path=\"url(#clip782)\" style=\"stroke:#009af9; stroke-width:8; stroke-opacity:1; fill:none\" points=\"\n",
       "  1617.41,844.792 1728.88,796.338 1765.12,744.26 1720.43,696.739 1638.32,672.168 \n",
       "  \"/>\n",
       "<polyline clip-path=\"url(#clip782)\" style=\"stroke:#009af9; stroke-width:8; stroke-opacity:1; fill:none\" points=\"\n",
       "  1601.82,661.247 1427.92,643.363 1226.05,645.896 1027.92,668.445 924.351,693.189 \n",
       "  \"/>\n",
       "<polyline clip-path=\"url(#clip782)\" style=\"stroke:#009af9; stroke-width:8; stroke-opacity:1; fill:none\" points=\"\n",
       "  864.626,707.458 761.713,756.803 735.205,808.744 789.111,855.165 860.917,874.391 \n",
       "  \"/>\n",
       "<polyline clip-path=\"url(#clip782)\" style=\"stroke:#009af9; stroke-width:8; stroke-opacity:1; fill:none\" points=\"\n",
       "  914.884,888.841 1092.83,904.556 1295.23,899.899 1490.69,875.62 1573.48,854.626 \n",
       "  \"/>\n",
       "<polyline clip-path=\"url(#clip782)\" style=\"stroke:#009af9; stroke-width:8; stroke-opacity:1; fill:none\" points=\"\n",
       "  1648.92,835.495 1745.48,785.744 1765.43,734.063 1705.68,688.446 1641.72,672.485 \n",
       "  \"/>\n",
       "<polyline clip-path=\"url(#clip782)\" style=\"stroke:#009af9; stroke-width:8; stroke-opacity:1; fill:none\" points=\"\n",
       "  1575.46,655.95 1394.89,641.604 1191.9,647.626 997.874,673.079 927.553,691.639 \n",
       "  \"/>\n",
       "<polyline clip-path=\"url(#clip782)\" style=\"stroke:#009af9; stroke-width:8; stroke-opacity:1; fill:none\" points=\"\n",
       "  842.762,714.018 750.447,764.114 735.051,815.639 798.811,860.672 853.598,873.709 \n",
       "  \"/>\n",
       "<polyline clip-path=\"url(#clip782)\" style=\"stroke:#009af9; stroke-width:8; stroke-opacity:1; fill:none\" points=\"\n",
       "  931.803,892.319 1113.55,905.758 1316.2,898.966 1508.81,873.003 1568.82,856.883 \n",
       "  \"/>\n",
       "<polyline clip-path=\"url(#clip782)\" style=\"stroke:#009af9; stroke-width:8; stroke-opacity:1; fill:none\" points=\"\n",
       "  1662.03,831.845 1752.54,781.767 1766.58,730.395 1701.99,685.55 1649.85,673.242 \n",
       "  \"/>\n",
       "<polyline clip-path=\"url(#clip782)\" style=\"stroke:#009af9; stroke-width:8; stroke-opacity:1; fill:none\" points=\"\n",
       "  1568.59,654.062 1386.69,640.727 1183.96,647.574 991.262,673.555 932.146,689.415 \n",
       "  \"/>\n",
       "<polyline clip-path=\"url(#clip782)\" style=\"stroke:#009af9; stroke-width:8; stroke-opacity:1; fill:none\" points=\"\n",
       "  837.875,714.708 747.043,764.769 732.442,816.137 796.154,861.04 846.176,873.018 \n",
       "  \"/>\n",
       "<polyline clip-path=\"url(#clip782)\" style=\"stroke:#009af9; stroke-width:8; stroke-opacity:1; fill:none\" points=\"\n",
       "  928.417,892.71 1109.18,906.398 1311.18,900.073 1504.05,874.711 1564.98,858.741 \n",
       "  \"/>\n",
       "<polyline clip-path=\"url(#clip782)\" style=\"stroke:#009af9; stroke-width:8; stroke-opacity:1; fill:none\" points=\"\n",
       "  1658.86,834.133 1752.42,784.432 1770.7,733.058 1710.98,687.711 1655.91,673.807 \n",
       "  \"/>\n",
       "<polyline clip-path=\"url(#clip782)\" style=\"stroke:#009af9; stroke-width:8; stroke-opacity:1; fill:none\" points=\"\n",
       "  1582.17,655.187 1403.57,640.365 1201.95,645.465 1007.51,669.719 935.374,687.852 \n",
       "  \"/>\n",
       "<polyline clip-path=\"url(#clip782)\" style=\"stroke:#009af9; stroke-width:8; stroke-opacity:1; fill:none\" points=\"\n",
       "  849.334,709.483 751.04,758.799 727.211,810.293 781.272,856.291 840.973,872.533 \n",
       "  \"/>\n",
       "<polyline clip-path=\"url(#clip782)\" style=\"stroke:#009af9; stroke-width:8; stroke-opacity:1; fill:none\" points=\"\n",
       "  905.049,889.965 1080.05,906.338 1280.28,903.015 1476.09,880.512 1561.79,860.286 \n",
       "  \"/>\n",
       "<polyline clip-path=\"url(#clip782)\" style=\"stroke:#009af9; stroke-width:8; stroke-opacity:1; fill:none\" points=\"\n",
       "  1638.55,842.17 1743.7,793.66 1776.04,742.142 1730.79,695.216 1662.59,674.429 \n",
       "  \"/>\n",
       "<polyline clip-path=\"url(#clip782)\" style=\"stroke:#009af9; stroke-width:8; stroke-opacity:1; fill:none\" points=\"\n",
       "  1614.61,659.807 1444.63,641.144 1245.92,641.98 1047.79,662.189 939.978,685.623 \n",
       "  \"/>\n",
       "<polyline clip-path=\"url(#clip782)\" style=\"stroke:#009af9; stroke-width:8; stroke-opacity:1; fill:none\" points=\"\n",
       "  879.446,698.781 765.639,746.355 723.027,797.903 757.749,845.855 831.57,871.657 \n",
       "  \"/>\n",
       "<polyline clip-path=\"url(#clip782)\" style=\"stroke:#009af9; stroke-width:8; stroke-opacity:1; fill:none\" points=\"\n",
       "  864.587,883.196 1027.8,904.486 1223.47,906.644 1423.07,889.384 1555.04,863.555 \n",
       "  \"/>\n",
       "<polyline clip-path=\"url(#clip782)\" style=\"stroke:#009af9; stroke-width:8; stroke-opacity:1; fill:none\" points=\"\n",
       "  1597.54,855.236 1721.55,809.175 1777.07,757.899 1756.06,708.855 1677.34,675.804 \n",
       "  \"/>\n",
       "<polyline clip-path=\"url(#clip782)\" style=\"stroke:#009af9; stroke-width:8; stroke-opacity:1; fill:none\" points=\"\n",
       "  1661.54,669.169 1507.24,644.61 1315.55,638.747 1114.33,652.429 950.221,680.664 \n",
       "  \"/>\n",
       "<polyline clip-path=\"url(#clip782)\" style=\"stroke:#009af9; stroke-width:8; stroke-opacity:1; fill:none\" points=\"\n",
       "  932.783,683.664 797.223,727.908 727.226,778.738 732.817,828.796 810.911,869.732 \n",
       "  \"/>\n",
       "<polyline clip-path=\"url(#clip782)\" style=\"stroke:#009af9; stroke-width:8; stroke-opacity:1; fill:none\" points=\"\n",
       "  813.062,870.859 956.272,898.883 1141.75,908.864 1342.82,899.395 1530.64,871.856 1548.01,866.958 \n",
       "  \"/>\n",
       "<polyline clip-path=\"url(#clip782)\" style=\"stroke:#009af9; stroke-width:8; stroke-opacity:1; fill:none\" points=\"\n",
       "  1678.33,830.205 1764.77,780.409 1777.61,729.591 1714.99,685.022 1677.97,675.862 \n",
       "  \"/>\n",
       "<polyline clip-path=\"url(#clip782)\" style=\"stroke:#009af9; stroke-width:8; stroke-opacity:1; fill:none\" points=\"\n",
       "  1585.86,653.078 1408.68,638.332 1208.79,642.895 1014.77,666.108 946.331,682.547 \n",
       "  \"/>\n",
       "<polyline clip-path=\"url(#clip782)\" style=\"stroke:#009af9; stroke-width:8; stroke-opacity:1; fill:none\" points=\"\n",
       "  854.341,704.645 750.367,752.991 717.588,804.244 760.553,851.11 822.356,870.798 \n",
       "  \"/>\n",
       "<polyline clip-path=\"url(#clip782)\" style=\"stroke:#009af9; stroke-width:8; stroke-opacity:1; fill:none\" points=\"\n",
       "  873.033,886.942 1038.97,906.681 1234.8,907.562 1432.84,889.485 1549.81,866.085 \n",
       "  \"/>\n",
       "<polyline clip-path=\"url(#clip782)\" style=\"stroke:#009af9; stroke-width:8; stroke-opacity:1; fill:none\" points=\"\n",
       "  1605.13,855.019 1727.42,809.032 1782.48,758.008 1762.56,709.134 1687.73,676.772 \n",
       "  \"/>\n",
       "<polyline clip-path=\"url(#clip782)\" style=\"stroke:#009af9; stroke-width:8; stroke-opacity:1; fill:none\" points=\"\n",
       "  1670.44,669.295 1519.1,644.106 1329.84,637.118 1129.31,649.316 957.696,677.045 \n",
       "  \"/>\n",
       "<polyline clip-path=\"url(#clip782)\" style=\"stroke:#009af9; stroke-width:8; stroke-opacity:1; fill:none\" points=\"\n",
       "  945.761,678.973 804.986,721.907 726.714,772.073 721.834,822.424 790.91,865.911 805.279,869.207 \n",
       "  \"/>\n",
       "<polyline clip-path=\"url(#clip782)\" style=\"stroke:#009af9; stroke-width:8; stroke-opacity:1; fill:none\" points=\"\n",
       "  924.163,896.471 1102.9,909.863 1302.17,904.247 1494.24,880.429 1546.68,867.6 \n",
       "  \"/>\n",
       "<polyline clip-path=\"url(#clip782)\" style=\"stroke:#009af9; stroke-width:8; stroke-opacity:1; fill:none\" points=\"\n",
       "  1652.43,841.732 1754.82,793.535 1787.2,742.526 1745.07,695.782 1686.07,676.617 \n",
       "  \"/>\n",
       "<polyline clip-path=\"url(#clip782)\" style=\"stroke:#009af9; stroke-width:8; stroke-opacity:1; fill:none\" points=\"\n",
       "  1634.27,659.791 1470.14,639.547 1275.46,637.863 1077.23,654.969 954.575,678.556 \n",
       "  \"/>\n",
       "<polyline clip-path=\"url(#clip782)\" style=\"stroke:#009af9; stroke-width:8; stroke-opacity:1; fill:none\" points=\"\n",
       "  902.939,688.486 776.694,733.758 715.902,784.512 728.862,833.731 801.728,868.876 \n",
       "  \"/>\n",
       "<polyline clip-path=\"url(#clip782)\" style=\"stroke:#009af9; stroke-width:8; stroke-opacity:1; fill:none\" points=\"\n",
       "  813.666,874.634 958.525,901.61 1143.45,910.976 1343.03,901.474 1529.93,874.427 1536.07,872.738 \n",
       "  \"/>\n",
       "<polyline clip-path=\"url(#clip782)\" style=\"stroke:#009af9; stroke-width:8; stroke-opacity:1; fill:none\" points=\"\n",
       "  1678.59,833.548 1768.7,784.431 1787.97,733.789 1733.74,688.542 1693.65,677.323 \n",
       "  \"/>\n",
       "<polyline clip-path=\"url(#clip782)\" style=\"stroke:#009af9; stroke-width:8; stroke-opacity:1; fill:none\" points=\"\n",
       "  1613.41,654.874 1443.41,637.391 1246.97,638.483 1050.93,657.998 956.166,677.785 \n",
       "  \"/>\n",
       "<polyline clip-path=\"url(#clip782)\" style=\"stroke:#009af9; stroke-width:8; stroke-opacity:1; fill:none\" points=\"\n",
       "  882.045,693.263 763.337,739.454 710.91,790.267 731.795,838.786 800.863,868.795 \n",
       "  \"/>\n",
       "<polyline clip-path=\"url(#clip782)\" style=\"stroke:#009af9; stroke-width:8; stroke-opacity:1; fill:none\" points=\"\n",
       "  823.038,878.43 972.158,903.842 1158.89,911.609 1357.98,900.708 1533.43,874.016 \n",
       "  \"/>\n",
       "<polyline clip-path=\"url(#clip782)\" style=\"stroke:#009af9; stroke-width:8; stroke-opacity:1; fill:none\" points=\"\n",
       "  1542.56,872.628 1687.77,831.166 1774.08,781.91 1789.87,731.491 1733.02,686.696 1701.11,678.018 \n",
       "  \"/>\n",
       "<polyline clip-path=\"url(#clip782)\" style=\"stroke:#009af9; stroke-width:8; stroke-opacity:1; fill:none\" points=\"\n",
       "  1611.14,653.556 1440.65,636.537 1244.47,637.93 1049.03,657.546 959.207,676.313 \n",
       "  \"/>\n",
       "<polyline clip-path=\"url(#clip782)\" style=\"stroke:#009af9; stroke-width:8; stroke-opacity:1; fill:none\" points=\"\n",
       "  880.598,692.737 761.787,738.763 708.478,789.435 727.719,837.958 795.474,868.293 \n",
       "  \"/>\n",
       "<polyline clip-path=\"url(#clip782)\" style=\"stroke:#009af9; stroke-width:8; stroke-opacity:1; fill:none\" points=\"\n",
       "  816.817,877.848 963.763,903.796 1148.89,912.366 1347.51,902.443 1529.53,875.906 \n",
       "  \"/>\n",
       "<polyline clip-path=\"url(#clip782)\" style=\"stroke:#009af9; stroke-width:8; stroke-opacity:1; fill:none\" points=\"\n",
       "  1533.23,875.366 1681.4,834.743 1772.4,785.966 1794.15,735.506 1743.76,690.054 1704.21,678.308 \n",
       "  \"/>\n",
       "<polyline clip-path=\"url(#clip782)\" style=\"stroke:#009af9; stroke-width:8; stroke-opacity:1; fill:none\" points=\"\n",
       "  1627.9,655.639 1461.91,636.828 1267.82,636.118 1071.34,653.601 962.889,674.531 \n",
       "  \"/>\n",
       "<polyline clip-path=\"url(#clip782)\" style=\"stroke:#009af9; stroke-width:8; stroke-opacity:1; fill:none\" points=\"\n",
       "  898.522,686.953 772.224,731.745 709.092,782.044 717.369,831.201 785.734,867.386 \n",
       "  \"/>\n",
       "<polyline clip-path=\"url(#clip782)\" style=\"stroke:#009af9; stroke-width:8; stroke-opacity:1; fill:none\" points=\"\n",
       "  795.851,872.741 934.099,901.212 1113.86,912.898 1311.52,906.29 1501.17,882.276 1531.81,874.802 \n",
       "  \"/>\n",
       "<polyline clip-path=\"url(#clip782)\" style=\"stroke:#009af9; stroke-width:8; stroke-opacity:1; fill:none\" points=\"\n",
       "  1658.03,844.01 1761.59,796.5 1798.35,745.956 1763.49,698.98 1707.88,678.65 \n",
       "  \"/>\n",
       "<polyline clip-path=\"url(#clip782)\" style=\"stroke:#009af9; stroke-width:8; stroke-opacity:1; fill:none\" points=\"\n",
       "  1661.55,661.711 1505.83,639.022 1316.68,633.88 1118.8,646.956 969.318,671.418 \n",
       "  \"/>\n",
       "<polyline clip-path=\"url(#clip782)\" style=\"stroke:#009af9; stroke-width:8; stroke-opacity:1; fill:none\" points=\"\n",
       "  938.033,676.537 797.959,718.752 716.788,768.087 705.004,818.112 764.031,862.328 781.415,866.983 \n",
       "  \"/>\n",
       "<polyline clip-path=\"url(#clip782)\" style=\"stroke:#009af9; stroke-width:8; stroke-opacity:1; fill:none\" points=\"\n",
       "  886.097,895.013 1055.3,911.952 1249.71,910.983 1444.2,892.251 1532.36,874.537 \n",
       "  \"/>\n",
       "<polyline clip-path=\"url(#clip782)\" style=\"stroke:#009af9; stroke-width:8; stroke-opacity:1; fill:none\" points=\"\n",
       "  1613.71,858.189 1736.42,813.191 1796.54,763.055 1786.33,714.233 1720.12,679.79 \n",
       "  \"/>\n",
       "<polyline clip-path=\"url(#clip782)\" style=\"stroke:#009af9; stroke-width:8; stroke-opacity:1; fill:none\" points=\"\n",
       "  1707.09,673.012 1569.01,644.701 1389.84,632.947 1192.66,639.266 1002.85,662.84 971.609,670.309 \n",
       "  \"/>\n",
       "<polyline clip-path=\"url(#clip782)\" style=\"stroke:#009af9; stroke-width:8; stroke-opacity:1; fill:none\" points=\"\n",
       "  844.801,700.628 738.805,747.763 698.395,798.186 728.652,845.433 784.248,867.247 \n",
       "  \"/>\n",
       "<polyline clip-path=\"url(#clip782)\" style=\"stroke:#009af9; stroke-width:8; stroke-opacity:1; fill:none\" points=\"\n",
       "  825.593,883.469 976.736,907.454 1162.74,914.353 1359.89,903.312 1523.86,878.651 \n",
       "  \"/>\n",
       "<polyline clip-path=\"url(#clip782)\" style=\"stroke:#009af9; stroke-width:8; stroke-opacity:1; fill:none\" points=\"\n",
       "  1543.12,875.753 1689.19,835.187 1779.57,786.766 1802.81,736.634 1755.94,691.148 1719.9,679.77 \n",
       "  \"/>\n",
       "<polyline clip-path=\"url(#clip782)\" style=\"stroke:#009af9; stroke-width:8; stroke-opacity:1; fill:none\" points=\"\n",
       "  1644.89,656.082 1483.74,635.887 1292.93,633.128 1096.65,648.153 972.603,669.827 \n",
       "  \"/>\n",
       "<polyline clip-path=\"url(#clip782)\" style=\"stroke:#009af9; stroke-width:8; stroke-opacity:1; fill:none\" points=\"\n",
       "  919.805,679.052 784.776,721.9 708.606,771.262 700.841,820.893 762.357,864.533 766.358,865.58 \n",
       "  \"/>\n",
       "<polyline clip-path=\"url(#clip782)\" style=\"stroke:#009af9; stroke-width:8; stroke-opacity:1; fill:none\" points=\"\n",
       "  885.295,896.698 1054.11,913.363 1247.54,912.46 1441.33,894.123 1526.58,877.334 \n",
       "  \"/>\n",
       "<polyline clip-path=\"url(#clip782)\" style=\"stroke:#009af9; stroke-width:8; stroke-opacity:1; fill:none\" points=\"\n",
       "  1611.22,860.664 1735.97,816.277 1800,766.514 1795.3,717.595 1731.49,680.85 \n",
       "  \"/>\n",
       "<polyline clip-path=\"url(#clip782)\" style=\"stroke:#009af9; stroke-width:8; stroke-opacity:1; fill:none\" points=\"\n",
       "  1722.44,675.637 1590.52,645.887 1416.02,632.069 1220.75,635.911 1029.12,656.932 975.011,668.662 \n",
       "  \"/>\n",
       "<polyline clip-path=\"url(#clip782)\" style=\"stroke:#009af9; stroke-width:8; stroke-opacity:1; fill:none\" points=\"\n",
       "  865.066,692.496 749.045,738.155 695.461,788.205 710.896,836.412 771.401,866.05 \n",
       "  \"/>\n",
       "<polyline clip-path=\"url(#clip782)\" style=\"stroke:#009af9; stroke-width:8; stroke-opacity:1; fill:none\" points=\"\n",
       "  793.326,876.79 932.418,904.344 1110.87,915.683 1306.55,909.428 1495.31,886.37 1519.65,880.69 \n",
       "  \"/>\n",
       "<polyline clip-path=\"url(#clip782)\" style=\"stroke:#009af9; stroke-width:8; stroke-opacity:1; fill:none\" points=\"\n",
       "  1653.85,849.369 1762.66,802.99 1808.34,752.949 1785.25,705.412 1728.87,680.606 \n",
       "  \"/>\n",
       "<polyline clip-path=\"url(#clip782)\" style=\"stroke:#009af9; stroke-width:8; stroke-opacity:1; fill:none\" points=\"\n",
       "  1696.22,666.237 1552.2,640.254 1370.94,630.667 1174.76,638.66 987.83,663.243 984.512,664.061 \n",
       "  \"/>\n",
       "<polyline clip-path=\"url(#clip782)\" style=\"stroke:#009af9; stroke-width:8; stroke-opacity:1; fill:none\" points=\"\n",
       "  833.164,701.383 729.751,748.376 690.23,798.441 719.358,845.435 769.807,865.902 \n",
       "  \"/>\n",
       "<polyline clip-path=\"url(#clip782)\" style=\"stroke:#009af9; stroke-width:8; stroke-opacity:1; fill:none\" points=\"\n",
       "  813.461,883.611 960.936,908.317 1143.71,916.561 1339.48,907.36 1514.4,883.232 \n",
       "  \"/>\n",
       "<polyline clip-path=\"url(#clip782)\" style=\"stroke:#009af9; stroke-width:8; stroke-opacity:1; fill:none\" points=\"\n",
       "  1524.4,881.852 1676.02,843.15 1775.93,795.962 1811.99,746.018 1779.83,699.383 1732.61,680.954 \n",
       "  \"/>\n",
       "<polyline clip-path=\"url(#clip782)\" style=\"stroke:#009af9; stroke-width:8; stroke-opacity:1; fill:none\" points=\"\n",
       "  1683.34,661.723 1534.2,637.614 1350.54,629.989 1154.65,639.773 985.351,663.655 \n",
       "  \"/>\n",
       "<polyline clip-path=\"url(#clip782)\" style=\"stroke:#009af9; stroke-width:8; stroke-opacity:1; fill:none\" points=\"\n",
       "  970.324,665.775 819.92,704.831 721.637,752.195 687.31,802.126 720.996,848.584 765.005,865.454 \n",
       "  \"/>\n",
       "<polyline clip-path=\"url(#clip782)\" style=\"stroke:#009af9; stroke-width:8; stroke-opacity:1; fill:none\" points=\"\n",
       "  818.525,885.97 968.049,909.796 1151.51,917.218 1346.84,907.367 1512.95,883.931 \n",
       "  \"/>\n",
       "<polyline clip-path=\"url(#clip782)\" style=\"stroke:#009af9; stroke-width:8; stroke-opacity:1; fill:none\" points=\"\n",
       "  1530.61,881.441 1680.79,842.559 1779.44,795.382 1814.73,745.558 1782.44,699.052 1737.38,681.399 \n",
       "  \"/>\n",
       "<polyline clip-path=\"url(#clip782)\" style=\"stroke:#009af9; stroke-width:8; stroke-opacity:1; fill:none\" points=\"\n",
       "  1686.42,661.431 1538.14,637.205 1355.35,629.275 1159.94,638.594 988.241,662.256 \n",
       "  \"/>\n",
       "<polyline clip-path=\"url(#clip782)\" style=\"stroke:#009af9; stroke-width:8; stroke-opacity:1; fill:none\" points=\"\n",
       "  975.292,664.04 823.489,702.564 722.643,749.548 684.729,799.379 714.176,846.113 760.476,865.032 \n",
       "  \"/>\n",
       "<polyline clip-path=\"url(#clip782)\" style=\"stroke:#009af9; stroke-width:8; stroke-opacity:1; fill:none\" points=\"\n",
       "  807.377,884.197 953.166,909.123 1134.18,917.955 1328.94,909.669 1508.63,886.027 \n",
       "  \"/>\n",
       "<polyline clip-path=\"url(#clip782)\" style=\"stroke:#009af9; stroke-width:8; stroke-opacity:1; fill:none\" points=\"\n",
       "  1514.42,885.264 1668.71,847.634 1773.6,801.228 1816.74,751.522 1793.02,704.383 1742.32,681.858 \n",
       "  \"/>\n",
       "<polyline clip-path=\"url(#clip782)\" style=\"stroke:#009af9; stroke-width:8; stroke-opacity:1; fill:none\" points=\"\n",
       "  1705.22,665.375 1563.68,639.104 1385.11,628.676 1190.58,635.323 1003.05,658.256 990.551,661.137 \n",
       "  \"/>\n",
       "<polyline clip-path=\"url(#clip782)\" style=\"stroke:#009af9; stroke-width:8; stroke-opacity:1; fill:none\" points=\"\n",
       "  844.633,694.765 733.968,740.536 684.028,790.174 700.599,837.84 754.4,864.466 \n",
       "  \"/>\n",
       "<polyline clip-path=\"url(#clip782)\" style=\"stroke:#009af9; stroke-width:8; stroke-opacity:1; fill:none\" points=\"\n",
       "  781.637,877.945 917.55,905.806 1092.37,918.183 1285.62,913.653 1474.77,892.763 1510.44,885.146 \n",
       "  \"/>\n",
       "<polyline clip-path=\"url(#clip782)\" style=\"stroke:#009af9; stroke-width:8; stroke-opacity:1; fill:none\" points=\"\n",
       "  1637.78,857.959 1755.69,813.3 1814.8,763.984 1808.22,715.749 1751.31,682.696 \n",
       "  \"/>\n",
       "<polyline clip-path=\"url(#clip782)\" style=\"stroke:#009af9; stroke-width:8; stroke-opacity:1; fill:none\" points=\"\n",
       "  1736.7,674.207 1608.54,644.194 1438.65,629.208 1246.79,630.994 1055.3,649.344 987.887,662.427 \n",
       "  \"/>\n",
       "<polyline clip-path=\"url(#clip782)\" style=\"stroke:#009af9; stroke-width:8; stroke-opacity:1; fill:none\" points=\"\n",
       "  886.435,682.117 759.811,725.494 690.082,774.431 685.258,823.247 741.549,863.268 \n",
       "  \"/>\n",
       "<polyline clip-path=\"url(#clip782)\" style=\"stroke:#009af9; stroke-width:8; stroke-opacity:1; fill:none\" points=\"\n",
       "  745.804,866.294 864.623,898.607 1027.92,916.477 1216.83,917.865 1409.6,902.633 1510.14,885.295 \n",
       "  \"/>\n",
       "<polyline clip-path=\"url(#clip782)\" style=\"stroke:#009af9; stroke-width:8; stroke-opacity:1; fill:none\" points=\"\n",
       "  1584.07,872.544 1720.24,831.064 1802.49,782.953 1821.39,733.732 1774.75,689.047 1756.99,683.226 \n",
       "  \"/>\n",
       "<polyline clip-path=\"url(#clip782)\" style=\"stroke:#009af9; stroke-width:8; stroke-opacity:1; fill:none\" points=\"\n",
       "  1667.91,654.026 1513.12,632.692 1328.12,627.495 1134.14,639.033 992.62,660.136 \n",
       "  \"/>\n",
       "<polyline clip-path=\"url(#clip782)\" style=\"stroke:#009af9; stroke-width:8; stroke-opacity:1; fill:none\" points=\"\n",
       "  953.443,665.978 806.729,705.232 710.77,752.291 676.483,801.763 707.699,847.996 746.514,863.731 \n",
       "  \"/>\n",
       "<polyline clip-path=\"url(#clip782)\" style=\"stroke:#009af9; stroke-width:8; stroke-opacity:1; fill:none\" points=\"\n",
       "  800.761,885.723 944.98,910.663 1123.89,920.002 1317.16,912.701 1500.68,889.874 \n",
       "  \"/>\n",
       "<polyline clip-path=\"url(#clip782)\" style=\"stroke:#009af9; stroke-width:8; stroke-opacity:1; fill:none\" points=\"\n",
       "  1502.85,889.604 1659.96,853.339 1770.71,808.015 1822.59,758.762 1809.72,711.15 1757.37,683.261 \n",
       "  \"/>\n",
       "<polyline clip-path=\"url(#clip782)\" style=\"stroke:#009af9; stroke-width:8; stroke-opacity:1; fill:none\" points=\"\n",
       "  1733.54,670.565 1602.65,641.604 1431.85,627.545 1240.46,629.983 1050.14,648.641 993.521,659.7 \n",
       "  \"/>\n",
       "<path clip-path=\"url(#clip782)\" d=\"M1250.12 789.326 L1238.8 784.638 L1234.12 773.326 L1238.8 762.014 L1250.12 757.326 L1261.43 762.014 L1266.12 773.326 L1261.43 784.638 Z\" fill=\"#008000\" fill-rule=\"evenodd\" fill-opacity=\"1\" stroke=\"#000000\" stroke-opacity=\"1\" stroke-width=\"3.2\"/>\n",
       "<path clip-path=\"url(#clip780)\" d=\"\n",
       "M1299.3 348.236 L1826.46 348.236 L1826.46 166.796 L1299.3 166.796  Z\n",
       "  \" fill=\"#ffffff\" fill-rule=\"evenodd\" fill-opacity=\"1\"/>\n",
       "<polyline clip-path=\"url(#clip780)\" style=\"stroke:#000000; stroke-width:4; stroke-opacity:1; fill:none\" points=\"\n",
       "  1299.3,348.236 1826.46,348.236 1826.46,166.796 1299.3,166.796 1299.3,348.236 \n",
       "  \"/>\n",
       "<polyline clip-path=\"url(#clip780)\" style=\"stroke:#009af9; stroke-width:4; stroke-opacity:1; fill:none\" points=\"\n",
       "  1323.81,227.276 1470.82,227.276 \n",
       "  \"/>\n",
       "<path clip-path=\"url(#clip780)\" d=\"M 0 0 M1510.51 222.611 Q1509.79 222.195 1508.94 222.01 Q1508.1 221.801 1507.09 221.801 Q1503.48 221.801 1501.53 224.162 Q1499.61 226.5 1499.61 230.898 L1499.61 244.556 L1495.33 244.556 L1495.33 218.63 L1499.61 218.63 L1499.61 222.658 Q1500.95 220.297 1503.1 219.162 Q1505.26 218.005 1508.34 218.005 Q1508.78 218.005 1509.31 218.074 Q1509.84 218.121 1510.49 218.236 L1510.51 222.611 Z\" fill=\"#000000\" fill-rule=\"evenodd\" fill-opacity=\"1\" /><path clip-path=\"url(#clip780)\" d=\"M 0 0 M1536.11 230.528 L1536.11 232.611 L1516.53 232.611 Q1516.81 237.009 1519.17 239.324 Q1521.55 241.616 1525.79 241.616 Q1528.24 241.616 1530.54 241.014 Q1532.85 240.412 1535.12 239.209 L1535.12 243.236 Q1532.83 244.208 1530.42 244.718 Q1528.01 245.227 1525.54 245.227 Q1519.33 245.227 1515.7 241.616 Q1512.09 238.005 1512.09 231.847 Q1512.09 225.482 1515.51 221.755 Q1518.96 218.005 1524.79 218.005 Q1530.03 218.005 1533.06 221.385 Q1536.11 224.741 1536.11 230.528 M1531.85 229.278 Q1531.81 225.783 1529.89 223.699 Q1527.99 221.616 1524.84 221.616 Q1521.28 221.616 1519.12 223.63 Q1516.99 225.644 1516.67 229.301 L1531.85 229.278 Z\" fill=\"#000000\" fill-rule=\"evenodd\" fill-opacity=\"1\" /><path clip-path=\"url(#clip780)\" d=\"M 0 0 M1556.23 208.537 L1556.23 212.079 L1552.16 212.079 Q1549.86 212.079 1548.96 213.005 Q1548.08 213.931 1548.08 216.338 L1548.08 218.63 L1555.1 218.63 L1555.1 221.94 L1548.08 221.94 L1548.08 244.556 L1543.8 244.556 L1543.8 221.94 L1539.73 221.94 L1539.73 218.63 L1543.8 218.63 L1543.8 216.824 Q1543.8 212.496 1545.81 210.528 Q1547.83 208.537 1552.2 208.537 L1556.23 208.537 Z\" fill=\"#000000\" fill-rule=\"evenodd\" fill-opacity=\"1\" /><polyline clip-path=\"url(#clip780)\" style=\"stroke:#008000; stroke-width:4; stroke-opacity:1; fill:none\" points=\"\n",
       "  1323.81,287.756 1470.82,287.756 \n",
       "  \"/>\n",
       "<path clip-path=\"url(#clip780)\" d=\"M1397.31 313.356 L1379.22 305.855 L1371.71 287.756 L1379.22 269.657 L1397.31 262.156 L1415.41 269.657 L1422.91 287.756 L1415.41 305.855 Z\" fill=\"#008000\" fill-rule=\"evenodd\" fill-opacity=\"1\" stroke=\"#000000\" stroke-opacity=\"1\" stroke-width=\"5.12\"/>\n",
       "<path clip-path=\"url(#clip780)\" d=\"M 0 0 M1500 274.318 L1500 287.304 L1505.88 287.304 Q1509.15 287.304 1510.93 285.615 Q1512.71 283.925 1512.71 280.8 Q1512.71 277.698 1510.93 276.008 Q1509.15 274.318 1505.88 274.318 L1500 274.318 M1495.33 270.476 L1505.88 270.476 Q1511.69 270.476 1514.66 273.115 Q1517.64 275.73 1517.64 280.8 Q1517.64 285.915 1514.66 288.531 Q1511.69 291.147 1505.88 291.147 L1500 291.147 L1500 305.036 L1495.33 305.036 L1495.33 270.476 Z\" fill=\"#000000\" fill-rule=\"evenodd\" fill-opacity=\"1\" /><path clip-path=\"url(#clip780)\" d=\"M 0 0 M1523.73 269.017 L1527.99 269.017 L1527.99 305.036 L1523.73 305.036 L1523.73 269.017 Z\" fill=\"#000000\" fill-rule=\"evenodd\" fill-opacity=\"1\" /><path clip-path=\"url(#clip780)\" d=\"M 0 0 M1548.68 292.003 Q1543.52 292.003 1541.53 293.184 Q1539.54 294.364 1539.54 297.212 Q1539.54 299.48 1541.02 300.823 Q1542.53 302.142 1545.1 302.142 Q1548.64 302.142 1550.77 299.642 Q1552.92 297.119 1552.92 292.952 L1552.92 292.003 L1548.68 292.003 M1557.18 290.244 L1557.18 305.036 L1552.92 305.036 L1552.92 301.101 Q1551.46 303.462 1549.29 304.596 Q1547.11 305.707 1543.96 305.707 Q1539.98 305.707 1537.62 303.485 Q1535.28 301.239 1535.28 297.489 Q1535.28 293.114 1538.2 290.892 Q1541.14 288.67 1546.95 288.67 L1552.92 288.67 L1552.92 288.253 Q1552.92 285.314 1550.98 283.716 Q1549.05 282.096 1545.56 282.096 Q1543.34 282.096 1541.23 282.628 Q1539.12 283.161 1537.18 284.226 L1537.18 280.29 Q1539.52 279.388 1541.72 278.948 Q1543.91 278.485 1546 278.485 Q1551.62 278.485 1554.4 281.402 Q1557.18 284.318 1557.18 290.244 Z\" fill=\"#000000\" fill-rule=\"evenodd\" fill-opacity=\"1\" /><path clip-path=\"url(#clip780)\" d=\"M 0 0 M1587.5 289.388 L1587.5 305.036 L1583.24 305.036 L1583.24 289.527 Q1583.24 285.846 1581.81 284.017 Q1580.37 282.189 1577.5 282.189 Q1574.05 282.189 1572.06 284.388 Q1570.07 286.587 1570.07 290.383 L1570.07 305.036 L1565.79 305.036 L1565.79 279.11 L1570.07 279.11 L1570.07 283.138 Q1571.6 280.8 1573.66 279.642 Q1575.74 278.485 1578.45 278.485 Q1582.92 278.485 1585.21 281.263 Q1587.5 284.017 1587.5 289.388 Z\" fill=\"#000000\" fill-rule=\"evenodd\" fill-opacity=\"1\" /><path clip-path=\"url(#clip780)\" d=\"M 0 0 M1618.17 291.008 L1618.17 293.091 L1598.59 293.091 Q1598.87 297.489 1601.23 299.804 Q1603.61 302.096 1607.85 302.096 Q1610.3 302.096 1612.6 301.494 Q1614.91 300.892 1617.18 299.689 L1617.18 303.716 Q1614.89 304.688 1612.48 305.198 Q1610.07 305.707 1607.6 305.707 Q1601.39 305.707 1597.76 302.096 Q1594.15 298.485 1594.15 292.327 Q1594.15 285.962 1597.57 282.235 Q1601.02 278.485 1606.85 278.485 Q1612.09 278.485 1615.12 281.865 Q1618.17 285.221 1618.17 291.008 M1613.91 289.758 Q1613.87 286.263 1611.95 284.179 Q1610.05 282.096 1606.9 282.096 Q1603.34 282.096 1601.18 284.11 Q1599.05 286.124 1598.73 289.781 L1613.91 289.758 Z\" fill=\"#000000\" fill-rule=\"evenodd\" fill-opacity=\"1\" /><path clip-path=\"url(#clip780)\" d=\"M 0 0 M1629.38 271.749 L1629.38 279.11 L1638.15 279.11 L1638.15 282.42 L1629.38 282.42 L1629.38 296.494 Q1629.38 299.665 1630.23 300.568 Q1631.11 301.471 1633.78 301.471 L1638.15 301.471 L1638.15 305.036 L1633.78 305.036 Q1628.85 305.036 1626.97 303.207 Q1625.1 301.355 1625.1 296.494 L1625.1 282.42 L1621.97 282.42 L1621.97 279.11 L1625.1 279.11 L1625.1 271.749 L1629.38 271.749 Z\" fill=\"#000000\" fill-rule=\"evenodd\" fill-opacity=\"1\" /><path clip-path=\"url(#clip780)\" d=\"M 0 0 M1659.01 270.476 L1680.86 270.476 L1680.86 274.411 L1663.68 274.411 L1663.68 284.642 L1680.14 284.642 L1680.14 288.577 L1663.68 288.577 L1663.68 301.101 L1681.28 301.101 L1681.28 305.036 L1659.01 305.036 L1659.01 270.476 Z\" fill=\"#000000\" fill-rule=\"evenodd\" fill-opacity=\"1\" /><path clip-path=\"url(#clip780)\" d=\"M 0 0 M1700.56 292.003 Q1695.4 292.003 1693.4 293.184 Q1691.41 294.364 1691.41 297.212 Q1691.41 299.48 1692.9 300.823 Q1694.4 302.142 1696.97 302.142 Q1700.51 302.142 1702.64 299.642 Q1704.79 297.119 1704.79 292.952 L1704.79 292.003 L1700.56 292.003 M1709.05 290.244 L1709.05 305.036 L1704.79 305.036 L1704.79 301.101 Q1703.34 303.462 1701.16 304.596 Q1698.98 305.707 1695.84 305.707 Q1691.85 305.707 1689.49 303.485 Q1687.15 301.239 1687.15 297.489 Q1687.15 293.114 1690.07 290.892 Q1693.01 288.67 1698.82 288.67 L1704.79 288.67 L1704.79 288.253 Q1704.79 285.314 1702.85 283.716 Q1700.93 282.096 1697.43 282.096 Q1695.21 282.096 1693.1 282.628 Q1691 283.161 1689.05 284.226 L1689.05 280.29 Q1691.39 279.388 1693.59 278.948 Q1695.79 278.485 1697.87 278.485 Q1703.5 278.485 1706.28 281.402 Q1709.05 284.318 1709.05 290.244 Z\" fill=\"#000000\" fill-rule=\"evenodd\" fill-opacity=\"1\" /><path clip-path=\"url(#clip780)\" d=\"M 0 0 M1732.85 283.091 Q1732.13 282.675 1731.28 282.49 Q1730.44 282.281 1729.42 282.281 Q1725.81 282.281 1723.87 284.642 Q1721.95 286.98 1721.95 291.378 L1721.95 305.036 L1717.66 305.036 L1717.66 279.11 L1721.95 279.11 L1721.95 283.138 Q1723.29 280.777 1725.44 279.642 Q1727.59 278.485 1730.67 278.485 Q1731.11 278.485 1731.65 278.554 Q1732.18 278.601 1732.83 278.716 L1732.85 283.091 Z\" fill=\"#000000\" fill-rule=\"evenodd\" fill-opacity=\"1\" /><path clip-path=\"url(#clip780)\" d=\"M 0 0 M1741.53 271.749 L1741.53 279.11 L1750.3 279.11 L1750.3 282.42 L1741.53 282.42 L1741.53 296.494 Q1741.53 299.665 1742.39 300.568 Q1743.27 301.471 1745.93 301.471 L1750.3 301.471 L1750.3 305.036 L1745.93 305.036 Q1741 305.036 1739.12 303.207 Q1737.25 301.355 1737.25 296.494 L1737.25 282.42 L1734.12 282.42 L1734.12 279.11 L1737.25 279.11 L1737.25 271.749 L1741.53 271.749 Z\" fill=\"#000000\" fill-rule=\"evenodd\" fill-opacity=\"1\" /><path clip-path=\"url(#clip780)\" d=\"M 0 0 M1777.46 289.388 L1777.46 305.036 L1773.2 305.036 L1773.2 289.527 Q1773.2 285.846 1771.76 284.017 Q1770.33 282.189 1767.46 282.189 Q1764.01 282.189 1762.02 284.388 Q1760.02 286.587 1760.02 290.383 L1760.02 305.036 L1755.74 305.036 L1755.74 269.017 L1760.02 269.017 L1760.02 283.138 Q1761.55 280.8 1763.61 279.642 Q1765.7 278.485 1768.4 278.485 Q1772.87 278.485 1775.16 281.263 Q1777.46 284.017 1777.46 289.388 Z\" fill=\"#000000\" fill-rule=\"evenodd\" fill-opacity=\"1\" /></svg>\n"
      ]
     },
     "execution_count": 46,
     "metadata": {},
     "output_type": "execute_result"
    }
   ],
   "source": [
    "knots = 1000\n",
    "function n_orbits_ref_traj(init_orbit::Orbit,orbits::Int) #knots,Nx,Nu\n",
    "    traj = zeros(knots-1,Nx+Nu)\n",
    "    h = init_orbit.period*orbits/(knots)\n",
    "    x = copy(init_orbit.x0)\n",
    "#     R = [[0.7071068  0.0000000  0.7071068];\n",
    "#          [0.0000000  1.0000000  0.0000000];\n",
    "#          [-0.7071068  0.0000000  0.7071068]]\n",
    "    R = I(3)\n",
    "#     print(size(R))\n",
    "    x[1:3] .= R*x[1:3]\n",
    "#     x[4:end] .= R*x[4:end]\n",
    "    u = [0,  0,  0, h]\n",
    "    traj[1,:] .= vcat(x,u)\n",
    "#     println(h)\n",
    "    for i in 2:size(traj)[1]\n",
    "#         integrator!(x, u, h)\n",
    "        x = dynamics_rk8(x, u[1:3], u[4])\n",
    "        traj[i,:] .= vcat(x,u)\n",
    "    end\n",
    "    x = dynamics_rk8(x, u[1:3], u[4])\n",
    "    next = vcat(x,u)\n",
    "    print(norm(next[1:Nx] - init_orbit.x0))\n",
    "#     @assert norm(next[1:Nx] - init_orbit.x0)<2.1 #max integrator error #decrease orbits or increase knots\n",
    "    traj = reshape(traj',((knots-1)*(Nx+Nu),1))\n",
    "    traj = vcat(traj,next[1:Nx])\n",
    "    return traj\n",
    "end\n",
    "orbits = 100\n",
    "z = n_orbits_ref_traj(goal_orbit,orbits)\n",
    "X,U = unpackZ(knots, [(z...)...])\n",
    "plot3d_orbit(X, \"ref\")"
   ]
  },
  {
   "cell_type": "code",
   "execution_count": 47,
   "metadata": {
    "scrolled": true
   },
   "outputs": [
    {
     "data": {
      "text/plain": [
       "8003"
      ]
     },
     "execution_count": 47,
     "metadata": {},
     "output_type": "execute_result"
    }
   ],
   "source": [
    "n_nlp = (Nx+Nu)*(knots-1)+Nx # number of decision variables\n",
    "idx = get_cinds(Nx, knots)\n",
    "m_nlp = idx[end][end]\n",
    "# h = 1/knots*3 #transfer_orbit.period*5/knots"
   ]
  },
  {
   "cell_type": "code",
   "execution_count": 48,
   "metadata": {},
   "outputs": [
    {
     "name": "stdout",
     "output_type": "stream",
     "text": [
      "(99920,)"
     ]
    }
   ],
   "source": [
    "sj = sparsity_jacobian(n_nlp, m_nlp, knots);\n",
    "print(size(sj))\n",
    "# sh = sparsity_hessian(n_nlp, m_nlp);\n",
    "\n",
    "# TODO: Visualize results"
   ]
  },
  {
   "cell_type": "code",
   "execution_count": 49,
   "metadata": {},
   "outputs": [],
   "source": [
    "prob = ProblemMOI(n_nlp, knots, z, m_nlp=m_nlp, idx_ineq=idx, sparsity_jac=sj);"
   ]
  },
  {
   "cell_type": "code",
   "execution_count": null,
   "metadata": {},
   "outputs": [],
   "source": [
    "@time z_sol, status = solve(z, prob, max_iter=2000) # solve"
   ]
  },
  {
   "cell_type": "code",
   "execution_count": 45,
   "metadata": {
    "scrolled": false
   },
   "outputs": [
    {
     "name": "stdout",
     "output_type": "stream",
     "text": [
      "17.36765724731271This is Ipopt version 3.13.4, running with linear solver mumps.\n",
      "NOTE: Other linear solvers might be more efficient (see Ipopt documentation).\n",
      "\n",
      "Number of nonzeros in equality constraint Jacobian...:   479924\n",
      "Number of nonzeros in inequality constraint Jacobian.:    19996\n",
      "Number of nonzeros in Lagrangian Hessian.............:        0\n",
      "\n",
      "Total number of variables............................:    49996\n",
      "                     variables with only lower bounds:        0\n",
      "                variables with lower and upper bounds:        0\n",
      "                     variables with only upper bounds:        0\n",
      "Total number of equality constraints.................:    30005\n",
      "Total number of inequality constraints...............:     9998\n",
      "        inequality constraints with only lower bounds:        0\n",
      "   inequality constraints with lower and upper bounds:     9998\n",
      "        inequality constraints with only upper bounds:        0\n",
      "\n",
      "iter    objective    inf_pr   inf_du lg(mu)  ||d||  lg(rg) alpha_du alpha_pr  ls\n",
      "   0  2.6695383e+03 4.95e+00 3.57e+00   0.0 0.00e+00    -  0.00e+00 0.00e+00   0\n",
      "   1  2.5726824e+03 4.67e+00 2.51e+02  -1.0 9.91e+00    -  3.88e-04 3.79e-02F  1\n",
      "   2  2.5586950e+03 4.63e+00 7.27e+02  -0.1 1.07e+01    -  7.78e-02 8.33e-03f  1\n",
      "   3  2.5400419e+03 4.59e+00 1.56e+03   1.1 3.68e+01    -  9.81e-02 7.80e-03f  1\n",
      "   4  2.5051273e+03 4.45e+00 1.05e+04   1.0 1.49e+01    -  6.91e-01 3.27e-02f  1\n",
      "   5  2.5684025e+03 4.21e+00 2.01e+04   2.0 1.72e+01    -  5.18e-01 5.57e-02f  1\n",
      "   6  7.2047256e+03 8.14e+00 5.73e+04   1.6 1.56e+01    -  5.13e-01 1.00e+00f  1\n",
      "   7  8.9237758e+03 4.42e+00 2.18e+04   1.6 7.88e+00    -  1.00e+00 6.89e-01f  1\n",
      "   8  1.8123107e+04 9.89e+00 5.27e+04   1.6 1.10e+01    -  1.00e+00 1.00e+00f  1\n",
      "   9  1.2284483e+04 6.13e+00 6.28e+04   1.6 5.47e+00    -  1.00e+00 1.00e+00f  1\n",
      "iter    objective    inf_pr   inf_du lg(mu)  ||d||  lg(rg) alpha_du alpha_pr  ls\n",
      "  10  9.5729618e+03 4.92e+00 5.68e+03   1.6 7.35e+00    -  1.00e+00 1.00e+00f  1\n",
      "  11  7.2007072e+03 9.82e+00 2.99e+03   1.6 7.08e+00    -  1.00e+00 1.00e+00f  1\n",
      "  12  6.0235246e+03 8.95e+00 3.12e+03   1.6 1.34e+01    -  1.00e+00 1.00e+00f  1\n",
      "  13  4.9105090e+03 8.17e+00 1.03e+03   1.6 9.54e+00    -  1.00e+00 1.00e+00f  1\n"
     ]
    },
    {
     "ename": "LoadError",
     "evalue": "InterruptException:",
     "output_type": "error",
     "traceback": [
      "InterruptException:",
      "",
      "Stacktrace:",
      "  [1] Array",
      "    @ ./boot.jl:448 [inlined]",
      "  [2] Array",
      "    @ ./boot.jl:457 [inlined]",
      "  [3] Array",
      "    @ ./boot.jl:465 [inlined]",
      "  [4] similar",
      "    @ ./abstractarray.jl:785 [inlined]",
      "  [5] similar",
      "    @ ./abstractarray.jl:784 [inlined]",
      "  [6] similar",
      "    @ ./broadcast.jl:197 [inlined]",
      "  [7] similar",
      "    @ ./broadcast.jl:196 [inlined]",
      "  [8] copy",
      "    @ ./broadcast.jl:908 [inlined]",
      "  [9] materialize",
      "    @ ./broadcast.jl:883 [inlined]",
      " [10] broadcast_preserving_zero_d",
      "    @ ./broadcast.jl:872 [inlined]",
      " [11] +(A::Vector{ForwardDiff.Dual{ForwardDiff.Tag{var\"#3#6\"{ProblemMOI}, Float64}, Float64, 12}}, Bs::Vector{ForwardDiff.Dual{ForwardDiff.Tag{var\"#3#6\"{ProblemMOI}, Float64}, Float64, 12}})",
      "    @ Base ./arraymath.jl:47",
      " [12] dynamics_rk8(x::Vector{ForwardDiff.Dual{ForwardDiff.Tag{var\"#3#6\"{ProblemMOI}, Float64}, Float64, 12}}, u::Vector{ForwardDiff.Dual{ForwardDiff.Tag{var\"#3#6\"{ProblemMOI}, Float64}, Float64, 12}}, h::ForwardDiff.Dual{ForwardDiff.Tag{var\"#3#6\"{ProblemMOI}, Float64}, Float64, 12})",
      "    @ Main ./In[10]:10",
      " [13] dynamics_constraints!(nlp::ProblemMOI, c::Vector{ForwardDiff.Dual{ForwardDiff.Tag{var\"#3#6\"{ProblemMOI}, Float64}, Float64, 12}}, ztraj::Vector{ForwardDiff.Dual{ForwardDiff.Tag{var\"#3#6\"{ProblemMOI}, Float64}, Float64, 12}})",
      "    @ Main ./In[18]:19",
      " [14] (::var\"#3#6\"{ProblemMOI})(x::Vector{ForwardDiff.Dual{ForwardDiff.Tag{var\"#3#6\"{ProblemMOI}, Float64}, Float64, 12}})",
      "    @ Main ./In[23]:7",
      " [15] chunk_mode_jacobian(f::var\"#3#6\"{ProblemMOI}, x::Vector{Float64}, cfg::ForwardDiff.JacobianConfig{ForwardDiff.Tag{var\"#3#6\"{ProblemMOI}, Float64}, Float64, 12, Vector{ForwardDiff.Dual{ForwardDiff.Tag{var\"#3#6\"{ProblemMOI}, Float64}, Float64, 12}}})",
      "    @ ForwardDiff ~/.julia/packages/ForwardDiff/QOqCN/src/jacobian.jl:234",
      " [16] jacobian(f::Function, x::Vector{Float64}, cfg::ForwardDiff.JacobianConfig{ForwardDiff.Tag{var\"#3#6\"{ProblemMOI}, Float64}, Float64, 12, Vector{ForwardDiff.Dual{ForwardDiff.Tag{var\"#3#6\"{ProblemMOI}, Float64}, Float64, 12}}}, ::Val{true})",
      "    @ ForwardDiff ~/.julia/packages/ForwardDiff/QOqCN/src/jacobian.jl:23",
      " [17] jacobian(f::Function, x::Vector{Float64}, cfg::ForwardDiff.JacobianConfig{ForwardDiff.Tag{var\"#3#6\"{ProblemMOI}, Float64}, Float64, 12, Vector{ForwardDiff.Dual{ForwardDiff.Tag{var\"#3#6\"{ProblemMOI}, Float64}, Float64, 12}}}) (repeats 2 times)",
      "    @ ForwardDiff ~/.julia/packages/ForwardDiff/QOqCN/src/jacobian.jl:19",
      " [18] dynamics_constraint_jacobian!(nlp::ProblemMOI, jac::SubArray{Float64, 1, Vector{Float64}, Tuple{UnitRange{Int64}}, true}, Z::Vector{Float64})",
      "    @ Main ./In[23]:7",
      " [19] jac_c!(nlp::ProblemMOI, jac::SubArray{Float64, 1, Vector{Float64}, Tuple{UnitRange{Int64}}, true}, Z::Vector{Float64})",
      "    @ Main ./In[26]:32",
      " [20] eval_constraint_jacobian(prob::ProblemMOI, jac::SubArray{Float64, 1, Vector{Float64}, Tuple{UnitRange{Int64}}, true}, x::Vector{Float64})",
      "    @ Main ./In[38]:233",
      " [21] eval_constraint_jacobian(model::Ipopt.Optimizer, values::Vector{Float64}, x::Vector{Float64})",
      "    @ Ipopt ~/.julia/packages/Ipopt/P1XLY/src/MOI_wrapper.jl:1175",
      " [22] (::Ipopt.var\"#eval_jac_g_cb#49\"{Ipopt.Optimizer, Vector{Tuple{Int64, Int64}}})(x::Vector{Float64}, mode::Symbol, rows::Vector{Int32}, cols::Vector{Int32}, values::Vector{Float64})",
      "    @ Ipopt ~/.julia/packages/Ipopt/P1XLY/src/MOI_wrapper.jl:1315",
      " [23] eval_jac_g_wrapper(n::Int32, x_ptr::Ptr{Float64}, new_x::Int32, m::Int32, nele_jac::Int32, iRow::Ptr{Int32}, jCol::Ptr{Int32}, values_ptr::Ptr{Float64}, user_data::Ptr{Nothing})",
      "    @ Ipopt ~/.julia/packages/Ipopt/P1XLY/src/Ipopt.jl:238",
      " [24] solveProblem(prob::IpoptProblem)",
      "    @ Ipopt ~/.julia/packages/Ipopt/P1XLY/src/Ipopt.jl:513",
      " [25] optimize!(model::Ipopt.Optimizer)",
      "    @ Ipopt ~/.julia/packages/Ipopt/P1XLY/src/MOI_wrapper.jl:1441",
      " [26] solve(x0::Matrix{Float64}, prob::ProblemMOI; tol::Float64, c_tol::Float64, max_iter::Int64)",
      "    @ Main ./In[38]:272",
      " [27] solve(x0::Matrix{Float64}, prob::ProblemMOI)",
      "    @ Main ./In[38]:249",
      " [28] top-level scope",
      "    @ ./In[45]:3",
      " [29] eval",
      "    @ ./boot.jl:360 [inlined]",
      " [30] include_string(mapexpr::typeof(REPL.softscope), mod::Module, code::String, filename::String)",
      "    @ Base ./loading.jl:1094"
     ]
    }
   ],
   "source": [
    "for orbits=1\n",
    "    z = n_orbits_ref_traj(transfer_orbit, 100*orbits)\n",
    "    z_sol, status = solve(z, prob) # solve\n",
    "    filename = \"/home/aipex/Mitch/16-745_final_project/reference_OOP2IP_$(orbits)00.jld\"\n",
    "    save(filename, \"ref_traj\", z, \"opt_traj\", z_sol, \"status\", status)\n",
    "end"
   ]
  },
  {
   "cell_type": "code",
   "execution_count": null,
   "metadata": {
    "scrolled": true
   },
   "outputs": [],
   "source": []
  },
  {
   "cell_type": "code",
   "execution_count": 169,
   "metadata": {
    "scrolled": true
   },
   "outputs": [
    {
     "data": {
      "image/svg+xml": [
       "<?xml version=\"1.0\" encoding=\"utf-8\"?>\n",
       "<svg xmlns=\"http://www.w3.org/2000/svg\" xmlns:xlink=\"http://www.w3.org/1999/xlink\" width=\"600\" height=\"400\" viewBox=\"0 0 2400 1600\">\n",
       "<defs>\n",
       "  <clipPath id=\"clip700\">\n",
       "    <rect x=\"0\" y=\"0\" width=\"2400\" height=\"1600\"/>\n",
       "  </clipPath>\n",
       "</defs>\n",
       "<path clip-path=\"url(#clip700)\" d=\"\n",
       "M0 1600 L2400 1600 L2400 0 L0 0  Z\n",
       "  \" fill=\"#ffffff\" fill-rule=\"evenodd\" fill-opacity=\"1\"/>\n",
       "<defs>\n",
       "  <clipPath id=\"clip701\">\n",
       "    <rect x=\"480\" y=\"0\" width=\"1681\" height=\"1600\"/>\n",
       "  </clipPath>\n",
       "</defs>\n",
       "<defs>\n",
       "  <clipPath id=\"clip702\">\n",
       "    <rect x=\"600\" y=\"123\" width=\"1301\" height=\"1301\"/>\n",
       "  </clipPath>\n",
       "</defs>\n",
       "<path clip-path=\"url(#clip702)\" d=\"\n",
       "M600.263 1346.4 L600.263 353.805 L1075.99 123.472 L1899.97 200.25 L1899.97 1192.85 L1424.24 1423.18 L600.263 1346.4  Z\n",
       "  \" fill=\"#ffffff\" fill-rule=\"evenodd\" fill-opacity=\"1\"/>\n",
       "<polyline clip-path=\"url(#clip702)\" style=\"stroke:#000000; stroke-width:2; stroke-opacity:0.1; fill:none\" points=\"\n",
       "  628.896,1349.07 1104.62,1118.74 \n",
       "  \"/>\n",
       "<polyline clip-path=\"url(#clip702)\" style=\"stroke:#000000; stroke-width:2; stroke-opacity:0.1; fill:none\" points=\"\n",
       "  1104.62,1118.74 1104.62,126.14 \n",
       "  \"/>\n",
       "<polyline clip-path=\"url(#clip702)\" style=\"stroke:#000000; stroke-width:2; stroke-opacity:0.1; fill:none\" points=\"\n",
       "  820.575,1366.93 1296.3,1136.6 \n",
       "  \"/>\n",
       "<polyline clip-path=\"url(#clip702)\" style=\"stroke:#000000; stroke-width:2; stroke-opacity:0.1; fill:none\" points=\"\n",
       "  1296.3,1136.6 1296.3,144.001 \n",
       "  \"/>\n",
       "<polyline clip-path=\"url(#clip702)\" style=\"stroke:#000000; stroke-width:2; stroke-opacity:0.1; fill:none\" points=\"\n",
       "  1012.25,1384.79 1487.98,1154.46 \n",
       "  \"/>\n",
       "<polyline clip-path=\"url(#clip702)\" style=\"stroke:#000000; stroke-width:2; stroke-opacity:0.1; fill:none\" points=\"\n",
       "  1487.98,1154.46 1487.98,161.861 \n",
       "  \"/>\n",
       "<polyline clip-path=\"url(#clip702)\" style=\"stroke:#000000; stroke-width:2; stroke-opacity:0.1; fill:none\" points=\"\n",
       "  1203.93,1402.65 1679.66,1172.32 \n",
       "  \"/>\n",
       "<polyline clip-path=\"url(#clip702)\" style=\"stroke:#000000; stroke-width:2; stroke-opacity:0.1; fill:none\" points=\"\n",
       "  1679.66,1172.32 1679.66,179.721 \n",
       "  \"/>\n",
       "<polyline clip-path=\"url(#clip702)\" style=\"stroke:#000000; stroke-width:2; stroke-opacity:0.1; fill:none\" points=\"\n",
       "  1395.61,1420.51 1871.34,1190.18 \n",
       "  \"/>\n",
       "<polyline clip-path=\"url(#clip702)\" style=\"stroke:#000000; stroke-width:2; stroke-opacity:0.1; fill:none\" points=\"\n",
       "  1871.34,1190.18 1871.34,197.582 \n",
       "  \"/>\n",
       "<polyline clip-path=\"url(#clip700)\" style=\"stroke:#000000; stroke-width:4; stroke-opacity:1; fill:none\" points=\"\n",
       "  600.263,1346.4 1424.24,1423.18 \n",
       "  \"/>\n",
       "<polyline clip-path=\"url(#clip700)\" style=\"stroke:#000000; stroke-width:4; stroke-opacity:1; fill:none\" points=\"\n",
       "  628.896,1349.07 634.604,1346.31 \n",
       "  \"/>\n",
       "<polyline clip-path=\"url(#clip700)\" style=\"stroke:#000000; stroke-width:4; stroke-opacity:1; fill:none\" points=\"\n",
       "  820.575,1366.93 826.284,1364.17 \n",
       "  \"/>\n",
       "<polyline clip-path=\"url(#clip700)\" style=\"stroke:#000000; stroke-width:4; stroke-opacity:1; fill:none\" points=\"\n",
       "  1012.25,1384.79 1017.96,1382.03 \n",
       "  \"/>\n",
       "<polyline clip-path=\"url(#clip700)\" style=\"stroke:#000000; stroke-width:4; stroke-opacity:1; fill:none\" points=\"\n",
       "  1203.93,1402.65 1209.64,1399.89 \n",
       "  \"/>\n",
       "<polyline clip-path=\"url(#clip700)\" style=\"stroke:#000000; stroke-width:4; stroke-opacity:1; fill:none\" points=\"\n",
       "  1395.61,1420.51 1401.32,1417.75 \n",
       "  \"/>\n",
       "<path clip-path=\"url(#clip700)\" d=\"M 0 0 M574.838 1397.71 L604.514 1397.71 L604.514 1401.65 L574.838 1401.65 L574.838 1397.71 Z\" fill=\"#000000\" fill-rule=\"evenodd\" fill-opacity=\"1\" /><path clip-path=\"url(#clip700)\" d=\"M 0 0 M618.634 1410.61 L634.953 1410.61 L634.953 1414.54 L613.009 1414.54 L613.009 1410.61 Q615.671 1407.85 620.254 1403.22 Q624.861 1398.57 626.041 1397.23 Q628.287 1394.7 629.166 1392.97 Q630.069 1391.21 630.069 1389.52 Q630.069 1386.76 628.125 1385.03 Q626.204 1383.29 623.102 1383.29 Q620.903 1383.29 618.449 1384.06 Q616.018 1384.82 613.241 1386.37 L613.241 1381.65 Q616.065 1380.51 618.518 1379.94 Q620.972 1379.36 623.009 1379.36 Q628.379 1379.36 631.574 1382.04 Q634.768 1384.73 634.768 1389.22 Q634.768 1391.35 633.958 1393.27 Q633.171 1395.17 631.065 1397.76 Q630.486 1398.43 627.384 1401.65 Q624.282 1404.84 618.634 1410.61 Z\" fill=\"#000000\" fill-rule=\"evenodd\" fill-opacity=\"1\" /><path clip-path=\"url(#clip700)\" d=\"M 0 0 M766.332 1415.57 L796.008 1415.57 L796.008 1419.51 L766.332 1419.51 L766.332 1415.57 Z\" fill=\"#000000\" fill-rule=\"evenodd\" fill-opacity=\"1\" /><path clip-path=\"url(#clip700)\" d=\"M 0 0 M806.91 1428.47 L814.549 1428.47 L814.549 1402.1 L806.239 1403.77 L806.239 1399.51 L814.503 1397.84 L819.179 1397.84 L819.179 1428.47 L826.818 1428.47 L826.818 1432.4 L806.91 1432.4 L806.91 1428.47 Z\" fill=\"#000000\" fill-rule=\"evenodd\" fill-opacity=\"1\" /><path clip-path=\"url(#clip700)\" d=\"M 0 0 M988.254 1418.78 Q984.643 1418.78 982.814 1422.35 Q981.009 1425.89 981.009 1433.02 Q981.009 1440.12 982.814 1443.69 Q984.643 1447.23 988.254 1447.23 Q991.888 1447.23 993.694 1443.69 Q995.522 1440.12 995.522 1433.02 Q995.522 1425.89 993.694 1422.35 Q991.888 1418.78 988.254 1418.78 M988.254 1415.08 Q994.064 1415.08 997.12 1419.68 Q1000.2 1424.27 1000.2 1433.02 Q1000.2 1441.74 997.12 1446.35 Q994.064 1450.93 988.254 1450.93 Q982.444 1450.93 979.365 1446.35 Q976.31 1441.74 976.31 1433.02 Q976.31 1424.27 979.365 1419.68 Q982.444 1415.08 988.254 1415.08 Z\" fill=\"#000000\" fill-rule=\"evenodd\" fill-opacity=\"1\" /><path clip-path=\"url(#clip700)\" d=\"M 0 0 M1170.31 1464.19 L1177.95 1464.19 L1177.95 1437.82 L1169.64 1439.49 L1169.64 1435.23 L1177.91 1433.56 L1182.58 1433.56 L1182.58 1464.19 L1190.22 1464.19 L1190.22 1468.12 L1170.31 1468.12 L1170.31 1464.19 Z\" fill=\"#000000\" fill-rule=\"evenodd\" fill-opacity=\"1\" /><path clip-path=\"url(#clip700)\" d=\"M 0 0 M1366.26 1482.05 L1382.58 1482.05 L1382.58 1485.98 L1360.64 1485.98 L1360.64 1482.05 Q1363.3 1479.29 1367.89 1474.66 Q1372.49 1470.01 1373.67 1468.67 Q1375.92 1466.15 1376.8 1464.41 Q1377.7 1462.65 1377.7 1460.96 Q1377.7 1458.21 1375.76 1456.47 Q1373.83 1454.73 1370.73 1454.73 Q1368.53 1454.73 1366.08 1455.5 Q1363.65 1456.26 1360.87 1457.81 L1360.87 1453.09 Q1363.7 1451.96 1366.15 1451.38 Q1368.6 1450.8 1370.64 1450.8 Q1376.01 1450.8 1379.2 1453.48 Q1382.4 1456.17 1382.4 1460.66 Q1382.4 1462.79 1381.59 1464.71 Q1380.8 1466.61 1378.7 1469.2 Q1378.12 1469.87 1375.01 1473.09 Q1371.91 1476.28 1366.26 1482.05 Z\" fill=\"#000000\" fill-rule=\"evenodd\" fill-opacity=\"1\" /><path clip-path=\"url(#clip700)\" d=\"M 0 0 M710.289 1521.78 Q703.287 1521.78 699.149 1527 Q695.043 1532.22 695.043 1541.22 Q695.043 1550.2 699.149 1555.42 Q703.287 1560.64 710.289 1560.64 Q717.292 1560.64 721.366 1555.42 Q725.472 1550.2 725.472 1541.22 Q725.472 1532.22 721.366 1527 Q717.292 1521.78 710.289 1521.78 M710.289 1516.56 Q720.284 1516.56 726.267 1523.27 Q732.251 1529.96 732.251 1541.22 Q732.251 1552.46 726.267 1559.17 Q720.284 1565.86 710.289 1565.86 Q700.263 1565.86 694.248 1559.17 Q688.264 1552.49 688.264 1541.22 Q688.264 1529.96 694.248 1523.27 Q700.263 1516.56 710.289 1516.56 Z\" fill=\"#000000\" fill-rule=\"evenodd\" fill-opacity=\"1\" /><path clip-path=\"url(#clip700)\" d=\"M 0 0 M762.711 1534.76 Q761.724 1534.19 760.547 1533.93 Q759.401 1533.65 758 1533.65 Q753.035 1533.65 750.361 1536.89 Q747.72 1540.11 747.72 1546.16 L747.72 1564.94 L741.831 1564.94 L741.831 1529.29 L747.72 1529.29 L747.72 1534.83 Q749.566 1531.58 752.526 1530.02 Q755.486 1528.43 759.719 1528.43 Q760.324 1528.43 761.056 1528.52 Q761.788 1528.59 762.679 1528.75 L762.711 1534.76 Z\" fill=\"#000000\" fill-rule=\"evenodd\" fill-opacity=\"1\" /><path clip-path=\"url(#clip700)\" d=\"M 0 0 M794.444 1547.14 Q794.444 1540.68 791.77 1537.02 Q789.129 1533.33 784.482 1533.33 Q779.835 1533.33 777.161 1537.02 Q774.519 1540.68 774.519 1547.14 Q774.519 1553.6 777.161 1557.3 Q779.835 1560.96 784.482 1560.96 Q789.129 1560.96 791.77 1557.3 Q794.444 1553.6 794.444 1547.14 M774.519 1534.7 Q776.365 1531.52 779.166 1529.99 Q781.999 1528.43 785.914 1528.43 Q792.407 1528.43 796.449 1533.58 Q800.523 1538.74 800.523 1547.14 Q800.523 1555.55 796.449 1560.7 Q792.407 1565.86 785.914 1565.86 Q781.999 1565.86 779.166 1564.33 Q776.365 1562.77 774.519 1559.59 L774.519 1564.94 L768.631 1564.94 L768.631 1515.41 L774.519 1515.41 L774.519 1534.7 Z\" fill=\"#000000\" fill-rule=\"evenodd\" fill-opacity=\"1\" /><path clip-path=\"url(#clip700)\" d=\"M 0 0 M810.231 1529.29 L816.087 1529.29 L816.087 1564.94 L810.231 1564.94 L810.231 1529.29 M810.231 1515.41 L816.087 1515.41 L816.087 1522.83 L810.231 1522.83 L810.231 1515.41 Z\" fill=\"#000000\" fill-rule=\"evenodd\" fill-opacity=\"1\" /><path clip-path=\"url(#clip700)\" d=\"M 0 0 M834.134 1519.17 L834.134 1529.29 L846.197 1529.29 L846.197 1533.84 L834.134 1533.84 L834.134 1553.19 Q834.134 1557.55 835.312 1558.79 Q836.521 1560.03 840.182 1560.03 L846.197 1560.03 L846.197 1564.94 L840.182 1564.94 Q833.402 1564.94 830.824 1562.42 Q828.246 1559.87 828.246 1553.19 L828.246 1533.84 L823.949 1533.84 L823.949 1529.29 L828.246 1529.29 L828.246 1519.17 L834.134 1519.17 Z\" fill=\"#000000\" fill-rule=\"evenodd\" fill-opacity=\"1\" /><path clip-path=\"url(#clip700)\" d=\"M 0 0 M870.1 1547.02 Q863.003 1547.02 860.265 1548.64 Q857.528 1550.26 857.528 1554.18 Q857.528 1557.3 859.565 1559.14 Q861.634 1560.96 865.167 1560.96 Q870.037 1560.96 872.965 1557.52 Q875.925 1554.05 875.925 1548.32 L875.925 1547.02 L870.1 1547.02 M881.781 1544.6 L881.781 1564.94 L875.925 1564.94 L875.925 1559.52 Q873.92 1562.77 870.928 1564.33 Q867.936 1565.86 863.607 1565.86 Q858.133 1565.86 854.886 1562.8 Q851.672 1559.72 851.672 1554.56 Q851.672 1548.54 855.682 1545.49 Q859.724 1542.43 867.713 1542.43 L875.925 1542.43 L875.925 1541.86 Q875.925 1537.82 873.251 1535.62 Q870.61 1533.39 865.804 1533.39 Q862.748 1533.39 859.852 1534.12 Q856.955 1534.86 854.282 1536.32 L854.282 1530.91 Q857.496 1529.67 860.52 1529.06 Q863.544 1528.43 866.408 1528.43 Q874.143 1528.43 877.962 1532.44 Q881.781 1536.45 881.781 1544.6 Z\" fill=\"#000000\" fill-rule=\"evenodd\" fill-opacity=\"1\" /><path clip-path=\"url(#clip700)\" d=\"M 0 0 M893.845 1515.41 L899.701 1515.41 L899.701 1564.94 L893.845 1564.94 L893.845 1515.41 Z\" fill=\"#000000\" fill-rule=\"evenodd\" fill-opacity=\"1\" /><path clip-path=\"url(#clip700)\" d=\"M 0 0 M932.198 1517.42 L938.659 1517.42 L938.659 1546.28 Q938.659 1553.92 941.428 1557.3 Q944.197 1560.64 950.404 1560.64 Q956.579 1560.64 959.348 1557.3 Q962.117 1553.92 962.117 1546.28 L962.117 1517.42 L968.578 1517.42 L968.578 1547.08 Q968.578 1556.37 963.963 1561.12 Q959.379 1565.86 950.404 1565.86 Q941.396 1565.86 936.781 1561.12 Q932.198 1556.37 932.198 1547.08 L932.198 1517.42 Z\" fill=\"#000000\" fill-rule=\"evenodd\" fill-opacity=\"1\" /><path clip-path=\"url(#clip700)\" d=\"M 0 0 M1010.02 1543.42 L1010.02 1564.94 L1004.16 1564.94 L1004.16 1543.61 Q1004.16 1538.55 1002.19 1536.03 Q1000.22 1533.52 996.269 1533.52 Q991.526 1533.52 988.789 1536.54 Q986.052 1539.57 986.052 1544.79 L986.052 1564.94 L980.163 1564.94 L980.163 1529.29 L986.052 1529.29 L986.052 1534.83 Q988.152 1531.61 990.985 1530.02 Q993.85 1528.43 997.574 1528.43 Q1003.72 1528.43 1006.87 1532.25 Q1010.02 1536.03 1010.02 1543.42 Z\" fill=\"#000000\" fill-rule=\"evenodd\" fill-opacity=\"1\" /><path clip-path=\"url(#clip700)\" d=\"M 0 0 M1021.7 1529.29 L1027.56 1529.29 L1027.56 1564.94 L1021.7 1564.94 L1021.7 1529.29 M1021.7 1515.41 L1027.56 1515.41 L1027.56 1522.83 L1021.7 1522.83 L1021.7 1515.41 Z\" fill=\"#000000\" fill-rule=\"evenodd\" fill-opacity=\"1\" /><path clip-path=\"url(#clip700)\" d=\"M 0 0 M1045.6 1519.17 L1045.6 1529.29 L1057.67 1529.29 L1057.67 1533.84 L1045.6 1533.84 L1045.6 1553.19 Q1045.6 1557.55 1046.78 1558.79 Q1047.99 1560.03 1051.65 1560.03 L1057.67 1560.03 L1057.67 1564.94 L1051.65 1564.94 Q1044.87 1564.94 1042.29 1562.42 Q1039.71 1559.87 1039.71 1553.19 L1039.71 1533.84 L1035.42 1533.84 L1035.42 1529.29 L1039.71 1529.29 L1039.71 1519.17 L1045.6 1519.17 Z\" fill=\"#000000\" fill-rule=\"evenodd\" fill-opacity=\"1\" /><path clip-path=\"url(#clip700)\" d=\"M 0 0 M1088.09 1530.34 L1088.09 1535.88 Q1085.61 1534.6 1082.94 1533.97 Q1080.26 1533.33 1077.4 1533.33 Q1073.04 1533.33 1070.84 1534.67 Q1068.68 1536 1068.68 1538.68 Q1068.68 1540.71 1070.24 1541.89 Q1071.8 1543.04 1076.51 1544.09 L1078.51 1544.53 Q1084.75 1545.87 1087.36 1548.32 Q1090 1550.74 1090 1555.1 Q1090 1560.07 1086.06 1562.96 Q1082.14 1565.86 1075.27 1565.86 Q1072.4 1565.86 1069.28 1565.29 Q1066.2 1564.74 1062.76 1563.63 L1062.76 1557.58 Q1066.01 1559.27 1069.16 1560.13 Q1072.31 1560.96 1075.39 1560.96 Q1079.53 1560.96 1081.76 1559.56 Q1083.99 1558.12 1083.99 1555.55 Q1083.99 1553.16 1082.36 1551.89 Q1080.77 1550.61 1075.33 1549.43 L1073.29 1548.96 Q1067.85 1547.81 1065.43 1545.46 Q1063.01 1543.07 1063.01 1538.93 Q1063.01 1533.9 1066.58 1531.16 Q1070.14 1528.43 1076.7 1528.43 Q1079.95 1528.43 1082.81 1528.91 Q1085.68 1529.38 1088.09 1530.34 Z\" fill=\"#000000\" fill-rule=\"evenodd\" fill-opacity=\"1\" /><polyline clip-path=\"url(#clip702)\" style=\"stroke:#000000; stroke-width:2; stroke-opacity:0.1; fill:none\" points=\"\n",
       "  1440.78,1415.18 616.794,1338.4 \n",
       "  \"/>\n",
       "<polyline clip-path=\"url(#clip702)\" style=\"stroke:#000000; stroke-width:2; stroke-opacity:0.1; fill:none\" points=\"\n",
       "  616.794,1338.4 616.794,345.801 \n",
       "  \"/>\n",
       "<polyline clip-path=\"url(#clip702)\" style=\"stroke:#000000; stroke-width:2; stroke-opacity:0.1; fill:none\" points=\"\n",
       "  1551.44,1361.59 727.46,1284.82 \n",
       "  \"/>\n",
       "<polyline clip-path=\"url(#clip702)\" style=\"stroke:#000000; stroke-width:2; stroke-opacity:0.1; fill:none\" points=\"\n",
       "  727.46,1284.82 727.46,292.22 \n",
       "  \"/>\n",
       "<polyline clip-path=\"url(#clip702)\" style=\"stroke:#000000; stroke-width:2; stroke-opacity:0.1; fill:none\" points=\"\n",
       "  1662.11,1308.01 838.126,1231.24 \n",
       "  \"/>\n",
       "<polyline clip-path=\"url(#clip702)\" style=\"stroke:#000000; stroke-width:2; stroke-opacity:0.1; fill:none\" points=\"\n",
       "  838.126,1231.24 838.126,238.639 \n",
       "  \"/>\n",
       "<polyline clip-path=\"url(#clip702)\" style=\"stroke:#000000; stroke-width:2; stroke-opacity:0.1; fill:none\" points=\"\n",
       "  1772.77,1254.43 948.792,1177.65 \n",
       "  \"/>\n",
       "<polyline clip-path=\"url(#clip702)\" style=\"stroke:#000000; stroke-width:2; stroke-opacity:0.1; fill:none\" points=\"\n",
       "  948.792,1177.65 948.792,185.057 \n",
       "  \"/>\n",
       "<polyline clip-path=\"url(#clip702)\" style=\"stroke:#000000; stroke-width:2; stroke-opacity:0.1; fill:none\" points=\"\n",
       "  1883.44,1200.85 1059.46,1124.07 \n",
       "  \"/>\n",
       "<polyline clip-path=\"url(#clip702)\" style=\"stroke:#000000; stroke-width:2; stroke-opacity:0.1; fill:none\" points=\"\n",
       "  1059.46,1124.07 1059.46,131.476 \n",
       "  \"/>\n",
       "<polyline clip-path=\"url(#clip700)\" style=\"stroke:#000000; stroke-width:4; stroke-opacity:1; fill:none\" points=\"\n",
       "  1424.24,1423.18 1899.97,1192.85 \n",
       "  \"/>\n",
       "<polyline clip-path=\"url(#clip700)\" style=\"stroke:#000000; stroke-width:4; stroke-opacity:1; fill:none\" points=\"\n",
       "  1440.78,1415.18 1430.89,1414.25 \n",
       "  \"/>\n",
       "<polyline clip-path=\"url(#clip700)\" style=\"stroke:#000000; stroke-width:4; stroke-opacity:1; fill:none\" points=\"\n",
       "  1551.44,1361.59 1541.55,1360.67 \n",
       "  \"/>\n",
       "<polyline clip-path=\"url(#clip700)\" style=\"stroke:#000000; stroke-width:4; stroke-opacity:1; fill:none\" points=\"\n",
       "  1662.11,1308.01 1652.22,1307.09 \n",
       "  \"/>\n",
       "<polyline clip-path=\"url(#clip700)\" style=\"stroke:#000000; stroke-width:4; stroke-opacity:1; fill:none\" points=\"\n",
       "  1772.77,1254.43 1762.89,1253.51 \n",
       "  \"/>\n",
       "<polyline clip-path=\"url(#clip700)\" style=\"stroke:#000000; stroke-width:4; stroke-opacity:1; fill:none\" points=\"\n",
       "  1883.44,1200.85 1873.55,1199.93 \n",
       "  \"/>\n",
       "<path clip-path=\"url(#clip700)\" d=\"M 0 0 M1434.72 1463.82 L1464.39 1463.82 L1464.39 1467.75 L1434.72 1467.75 L1434.72 1463.82 Z\" fill=\"#000000\" fill-rule=\"evenodd\" fill-opacity=\"1\" /><path clip-path=\"url(#clip700)\" d=\"M 0 0 M1478.51 1476.71 L1494.83 1476.71 L1494.83 1480.65 L1472.89 1480.65 L1472.89 1476.71 Q1475.55 1473.96 1480.13 1469.33 Q1484.74 1464.68 1485.92 1463.33 Q1488.17 1460.81 1489.05 1459.07 Q1489.95 1457.31 1489.95 1455.62 Q1489.95 1452.87 1488 1451.13 Q1486.08 1449.4 1482.98 1449.4 Q1480.78 1449.4 1478.33 1450.16 Q1475.9 1450.93 1473.12 1452.48 L1473.12 1447.75 Q1475.94 1446.62 1478.4 1446.04 Q1480.85 1445.46 1482.89 1445.46 Q1488.26 1445.46 1491.45 1448.15 Q1494.65 1450.83 1494.65 1455.32 Q1494.65 1457.45 1493.84 1459.37 Q1493.05 1461.27 1490.94 1463.87 Q1490.37 1464.54 1487.26 1467.75 Q1484.16 1470.95 1478.51 1476.71 Z\" fill=\"#000000\" fill-rule=\"evenodd\" fill-opacity=\"1\" /><path clip-path=\"url(#clip700)\" d=\"M 0 0 M1545.2 1410.24 L1574.87 1410.24 L1574.87 1414.17 L1545.2 1414.17 L1545.2 1410.24 Z\" fill=\"#000000\" fill-rule=\"evenodd\" fill-opacity=\"1\" /><path clip-path=\"url(#clip700)\" d=\"M 0 0 M1585.78 1423.13 L1593.42 1423.13 L1593.42 1396.77 L1585.11 1398.43 L1585.11 1394.17 L1593.37 1392.51 L1598.05 1392.51 L1598.05 1423.13 L1605.68 1423.13 L1605.68 1427.07 L1585.78 1427.07 L1585.78 1423.13 Z\" fill=\"#000000\" fill-rule=\"evenodd\" fill-opacity=\"1\" /><path clip-path=\"url(#clip700)\" d=\"M 0 0 M1686.11 1342 Q1682.5 1342 1680.67 1345.57 Q1678.86 1349.11 1678.86 1356.24 Q1678.86 1363.35 1680.67 1366.91 Q1682.5 1370.45 1686.11 1370.45 Q1689.74 1370.45 1691.55 1366.91 Q1693.38 1363.35 1693.38 1356.24 Q1693.38 1349.11 1691.55 1345.57 Q1689.74 1342 1686.11 1342 M1686.11 1338.3 Q1691.92 1338.3 1694.97 1342.91 Q1698.05 1347.49 1698.05 1356.24 Q1698.05 1364.97 1694.97 1369.57 Q1691.92 1374.16 1686.11 1374.16 Q1680.3 1374.16 1677.22 1369.57 Q1674.16 1364.97 1674.16 1356.24 Q1674.16 1347.49 1677.22 1342.91 Q1680.3 1338.3 1686.11 1338.3 Z\" fill=\"#000000\" fill-rule=\"evenodd\" fill-opacity=\"1\" /><path clip-path=\"url(#clip700)\" d=\"M 0 0 M1787.16 1315.97 L1794.79 1315.97 L1794.79 1289.6 L1786.48 1291.27 L1786.48 1287.01 L1794.75 1285.34 L1799.42 1285.34 L1799.42 1315.97 L1807.06 1315.97 L1807.06 1319.9 L1787.16 1319.9 L1787.16 1315.97 Z\" fill=\"#000000\" fill-rule=\"evenodd\" fill-opacity=\"1\" /><path clip-path=\"url(#clip700)\" d=\"M 0 0 M1902.09 1262.39 L1918.41 1262.39 L1918.41 1266.32 L1896.47 1266.32 L1896.47 1262.39 Q1899.13 1259.63 1903.71 1255 Q1908.32 1250.35 1909.5 1249.01 Q1911.75 1246.48 1912.62 1244.75 Q1913.53 1242.99 1913.53 1241.3 Q1913.53 1238.55 1911.58 1236.81 Q1909.66 1235.07 1906.56 1235.07 Q1904.36 1235.07 1901.91 1235.84 Q1899.48 1236.6 1896.7 1238.15 L1896.7 1233.43 Q1899.52 1232.3 1901.98 1231.72 Q1904.43 1231.14 1906.47 1231.14 Q1911.84 1231.14 1915.03 1233.82 Q1918.23 1236.51 1918.23 1241 Q1918.23 1243.13 1917.42 1245.05 Q1916.63 1246.95 1914.52 1249.54 Q1913.94 1250.21 1910.84 1253.43 Q1907.74 1256.62 1902.09 1262.39 Z\" fill=\"#000000\" fill-rule=\"evenodd\" fill-opacity=\"1\" /><path clip-path=\"url(#clip700)\" d=\"M 0 0 M1606.38 1445 Q1599.38 1445 1595.24 1450.22 Q1591.14 1455.44 1591.14 1464.45 Q1591.14 1473.42 1595.24 1478.64 Q1599.38 1483.86 1606.38 1483.86 Q1613.39 1483.86 1617.46 1478.64 Q1621.57 1473.42 1621.57 1464.45 Q1621.57 1455.44 1617.46 1450.22 Q1613.39 1445 1606.38 1445 M1606.38 1439.78 Q1616.38 1439.78 1622.36 1446.49 Q1628.34 1453.18 1628.34 1464.45 Q1628.34 1475.68 1622.36 1482.4 Q1616.38 1489.08 1606.38 1489.08 Q1596.36 1489.08 1590.34 1482.4 Q1584.36 1475.71 1584.36 1464.45 Q1584.36 1453.18 1590.34 1446.49 Q1596.36 1439.78 1606.38 1439.78 Z\" fill=\"#000000\" fill-rule=\"evenodd\" fill-opacity=\"1\" /><path clip-path=\"url(#clip700)\" d=\"M 0 0 M1658.8 1457.98 Q1657.82 1457.41 1656.64 1457.16 Q1655.49 1456.87 1654.09 1456.87 Q1649.13 1456.87 1646.46 1460.12 Q1643.81 1463.33 1643.81 1469.38 L1643.81 1488.16 L1637.93 1488.16 L1637.93 1452.51 L1643.81 1452.51 L1643.81 1458.05 Q1645.66 1454.8 1648.62 1453.24 Q1651.58 1451.65 1655.81 1451.65 Q1656.42 1451.65 1657.15 1451.75 Q1657.88 1451.81 1658.77 1451.97 L1658.8 1457.98 Z\" fill=\"#000000\" fill-rule=\"evenodd\" fill-opacity=\"1\" /><path clip-path=\"url(#clip700)\" d=\"M 0 0 M1690.54 1470.37 Q1690.54 1463.9 1687.86 1460.24 Q1685.22 1456.55 1680.58 1456.55 Q1675.93 1456.55 1673.25 1460.24 Q1670.61 1463.9 1670.61 1470.37 Q1670.61 1476.83 1673.25 1480.52 Q1675.93 1484.18 1680.58 1484.18 Q1685.22 1484.18 1687.86 1480.52 Q1690.54 1476.83 1690.54 1470.37 M1670.61 1457.92 Q1672.46 1454.74 1675.26 1453.21 Q1678.09 1451.65 1682.01 1451.65 Q1688.5 1451.65 1692.54 1456.81 Q1696.62 1461.96 1696.62 1470.37 Q1696.62 1478.77 1692.54 1483.92 Q1688.5 1489.08 1682.01 1489.08 Q1678.09 1489.08 1675.26 1487.55 Q1672.46 1485.99 1670.61 1482.81 L1670.61 1488.16 L1664.72 1488.16 L1664.72 1438.63 L1670.61 1438.63 L1670.61 1457.92 Z\" fill=\"#000000\" fill-rule=\"evenodd\" fill-opacity=\"1\" /><path clip-path=\"url(#clip700)\" d=\"M 0 0 M1706.32 1452.51 L1712.18 1452.51 L1712.18 1488.16 L1706.32 1488.16 L1706.32 1452.51 M1706.32 1438.63 L1712.18 1438.63 L1712.18 1446.05 L1706.32 1446.05 L1706.32 1438.63 Z\" fill=\"#000000\" fill-rule=\"evenodd\" fill-opacity=\"1\" /><path clip-path=\"url(#clip700)\" d=\"M 0 0 M1730.23 1442.39 L1730.23 1452.51 L1742.29 1452.51 L1742.29 1457.06 L1730.23 1457.06 L1730.23 1476.41 Q1730.23 1480.77 1731.41 1482.01 Q1732.62 1483.26 1736.28 1483.26 L1742.29 1483.26 L1742.29 1488.16 L1736.28 1488.16 Q1729.5 1488.16 1726.92 1485.64 Q1724.34 1483.1 1724.34 1476.41 L1724.34 1457.06 L1720.04 1457.06 L1720.04 1452.51 L1724.34 1452.51 L1724.34 1442.39 L1730.23 1442.39 Z\" fill=\"#000000\" fill-rule=\"evenodd\" fill-opacity=\"1\" /><path clip-path=\"url(#clip700)\" d=\"M 0 0 M1766.19 1470.24 Q1759.1 1470.24 1756.36 1471.86 Q1753.62 1473.48 1753.62 1477.4 Q1753.62 1480.52 1755.66 1482.36 Q1757.73 1484.18 1761.26 1484.18 Q1766.13 1484.18 1769.06 1480.74 Q1772.02 1477.27 1772.02 1471.54 L1772.02 1470.24 L1766.19 1470.24 M1777.88 1467.82 L1777.88 1488.16 L1772.02 1488.16 L1772.02 1482.75 Q1770.01 1485.99 1767.02 1487.55 Q1764.03 1489.08 1759.7 1489.08 Q1754.23 1489.08 1750.98 1486.02 Q1747.77 1482.94 1747.77 1477.78 Q1747.77 1471.77 1751.78 1468.71 Q1755.82 1465.65 1763.81 1465.65 L1772.02 1465.65 L1772.02 1465.08 Q1772.02 1461.04 1769.35 1458.84 Q1766.7 1456.62 1761.9 1456.62 Q1758.84 1456.62 1755.95 1457.35 Q1753.05 1458.08 1750.38 1459.54 L1750.38 1454.13 Q1753.59 1452.89 1756.61 1452.29 Q1759.64 1451.65 1762.5 1451.65 Q1770.24 1451.65 1774.06 1455.66 Q1777.88 1459.67 1777.88 1467.82 Z\" fill=\"#000000\" fill-rule=\"evenodd\" fill-opacity=\"1\" /><path clip-path=\"url(#clip700)\" d=\"M 0 0 M1789.94 1438.63 L1795.79 1438.63 L1795.79 1488.16 L1789.94 1488.16 L1789.94 1438.63 Z\" fill=\"#000000\" fill-rule=\"evenodd\" fill-opacity=\"1\" /><path clip-path=\"url(#clip700)\" d=\"M 0 0 M1828.29 1440.64 L1834.75 1440.64 L1834.75 1469.51 Q1834.75 1477.14 1837.52 1480.52 Q1840.29 1483.86 1846.5 1483.86 Q1852.67 1483.86 1855.44 1480.52 Q1858.21 1477.14 1858.21 1469.51 L1858.21 1440.64 L1864.67 1440.64 L1864.67 1470.3 Q1864.67 1479.6 1860.06 1484.34 Q1855.47 1489.08 1846.5 1489.08 Q1837.49 1489.08 1832.88 1484.34 Q1828.29 1479.6 1828.29 1470.3 L1828.29 1440.64 Z\" fill=\"#000000\" fill-rule=\"evenodd\" fill-opacity=\"1\" /><path clip-path=\"url(#clip700)\" d=\"M 0 0 M1906.11 1466.64 L1906.11 1488.16 L1900.26 1488.16 L1900.26 1466.83 Q1900.26 1461.77 1898.28 1459.26 Q1896.31 1456.74 1892.36 1456.74 Q1887.62 1456.74 1884.88 1459.77 Q1882.15 1462.79 1882.15 1468.01 L1882.15 1488.16 L1876.26 1488.16 L1876.26 1452.51 L1882.15 1452.51 L1882.15 1458.05 Q1884.25 1454.83 1887.08 1453.24 Q1889.94 1451.65 1893.67 1451.65 Q1899.81 1451.65 1902.96 1455.47 Q1906.11 1459.26 1906.11 1466.64 Z\" fill=\"#000000\" fill-rule=\"evenodd\" fill-opacity=\"1\" /><path clip-path=\"url(#clip700)\" d=\"M 0 0 M1917.79 1452.51 L1923.65 1452.51 L1923.65 1488.16 L1917.79 1488.16 L1917.79 1452.51 M1917.79 1438.63 L1923.65 1438.63 L1923.65 1446.05 L1917.79 1446.05 L1917.79 1438.63 Z\" fill=\"#000000\" fill-rule=\"evenodd\" fill-opacity=\"1\" /><path clip-path=\"url(#clip700)\" d=\"M 0 0 M1941.7 1442.39 L1941.7 1452.51 L1953.76 1452.51 L1953.76 1457.06 L1941.7 1457.06 L1941.7 1476.41 Q1941.7 1480.77 1942.87 1482.01 Q1944.08 1483.26 1947.74 1483.26 L1953.76 1483.26 L1953.76 1488.16 L1947.74 1488.16 Q1940.96 1488.16 1938.39 1485.64 Q1935.81 1483.1 1935.81 1476.41 L1935.81 1457.06 L1931.51 1457.06 L1931.51 1452.51 L1935.81 1452.51 L1935.81 1442.39 L1941.7 1442.39 Z\" fill=\"#000000\" fill-rule=\"evenodd\" fill-opacity=\"1\" /><path clip-path=\"url(#clip700)\" d=\"M 0 0 M1984.19 1453.56 L1984.19 1459.1 Q1981.71 1457.82 1979.03 1457.19 Q1976.36 1456.55 1973.49 1456.55 Q1969.13 1456.55 1966.94 1457.89 Q1964.77 1459.23 1964.77 1461.9 Q1964.77 1463.94 1966.33 1465.11 Q1967.89 1466.26 1972.6 1467.31 L1974.61 1467.76 Q1980.85 1469.09 1983.46 1471.54 Q1986.1 1473.96 1986.1 1478.32 Q1986.1 1483.29 1982.15 1486.18 Q1978.24 1489.08 1971.36 1489.08 Q1968.5 1489.08 1965.38 1488.51 Q1962.29 1487.97 1958.85 1486.85 L1958.85 1480.8 Q1962.1 1482.49 1965.25 1483.35 Q1968.4 1484.18 1971.49 1484.18 Q1975.63 1484.18 1977.85 1482.78 Q1980.08 1481.35 1980.08 1478.77 Q1980.08 1476.38 1978.46 1475.11 Q1976.87 1473.83 1971.42 1472.66 L1969.39 1472.18 Q1963.94 1471.03 1961.53 1468.68 Q1959.11 1466.29 1959.11 1462.15 Q1959.11 1457.12 1962.67 1454.39 Q1966.24 1451.65 1972.79 1451.65 Q1976.04 1451.65 1978.9 1452.13 Q1981.77 1452.6 1984.19 1453.56 Z\" fill=\"#000000\" fill-rule=\"evenodd\" fill-opacity=\"1\" /><polyline clip-path=\"url(#clip702)\" style=\"stroke:#000000; stroke-width:2; stroke-opacity:0.1; fill:none\" points=\"\n",
       "  600.263,1311.91 1075.99,1081.58 \n",
       "  \"/>\n",
       "<polyline clip-path=\"url(#clip702)\" style=\"stroke:#000000; stroke-width:2; stroke-opacity:0.1; fill:none\" points=\"\n",
       "  1075.99,1081.58 1899.97,1158.35 \n",
       "  \"/>\n",
       "<polyline clip-path=\"url(#clip702)\" style=\"stroke:#000000; stroke-width:2; stroke-opacity:0.1; fill:none\" points=\"\n",
       "  600.263,1081.01 1075.99,850.674 \n",
       "  \"/>\n",
       "<polyline clip-path=\"url(#clip702)\" style=\"stroke:#000000; stroke-width:2; stroke-opacity:0.1; fill:none\" points=\"\n",
       "  1075.99,850.674 1899.97,927.452 \n",
       "  \"/>\n",
       "<polyline clip-path=\"url(#clip702)\" style=\"stroke:#000000; stroke-width:2; stroke-opacity:0.1; fill:none\" points=\"\n",
       "  600.263,850.104 1075.99,619.771 \n",
       "  \"/>\n",
       "<polyline clip-path=\"url(#clip702)\" style=\"stroke:#000000; stroke-width:2; stroke-opacity:0.1; fill:none\" points=\"\n",
       "  1075.99,619.771 1899.97,696.548 \n",
       "  \"/>\n",
       "<polyline clip-path=\"url(#clip702)\" style=\"stroke:#000000; stroke-width:2; stroke-opacity:0.1; fill:none\" points=\"\n",
       "  600.263,619.2 1075.99,388.867 \n",
       "  \"/>\n",
       "<polyline clip-path=\"url(#clip702)\" style=\"stroke:#000000; stroke-width:2; stroke-opacity:0.1; fill:none\" points=\"\n",
       "  1075.99,388.867 1899.97,465.645 \n",
       "  \"/>\n",
       "<polyline clip-path=\"url(#clip702)\" style=\"stroke:#000000; stroke-width:2; stroke-opacity:0.1; fill:none\" points=\"\n",
       "  600.263,388.297 1075.99,157.964 \n",
       "  \"/>\n",
       "<polyline clip-path=\"url(#clip702)\" style=\"stroke:#000000; stroke-width:2; stroke-opacity:0.1; fill:none\" points=\"\n",
       "  1075.99,157.964 1899.97,234.742 \n",
       "  \"/>\n",
       "<polyline clip-path=\"url(#clip700)\" style=\"stroke:#000000; stroke-width:4; stroke-opacity:1; fill:none\" points=\"\n",
       "  600.263,1346.4 600.263,353.805 \n",
       "  \"/>\n",
       "<polyline clip-path=\"url(#clip700)\" style=\"stroke:#000000; stroke-width:4; stroke-opacity:1; fill:none\" points=\"\n",
       "  600.263,1311.91 605.972,1309.15 \n",
       "  \"/>\n",
       "<polyline clip-path=\"url(#clip700)\" style=\"stroke:#000000; stroke-width:4; stroke-opacity:1; fill:none\" points=\"\n",
       "  600.263,1081.01 605.972,1078.24 \n",
       "  \"/>\n",
       "<polyline clip-path=\"url(#clip700)\" style=\"stroke:#000000; stroke-width:4; stroke-opacity:1; fill:none\" points=\"\n",
       "  600.263,850.104 605.972,847.34 \n",
       "  \"/>\n",
       "<polyline clip-path=\"url(#clip700)\" style=\"stroke:#000000; stroke-width:4; stroke-opacity:1; fill:none\" points=\"\n",
       "  600.263,619.2 605.972,616.436 \n",
       "  \"/>\n",
       "<polyline clip-path=\"url(#clip700)\" style=\"stroke:#000000; stroke-width:4; stroke-opacity:1; fill:none\" points=\"\n",
       "  600.263,388.297 605.972,385.533 \n",
       "  \"/>\n",
       "<path clip-path=\"url(#clip700)\" d=\"M 0 0 M516.148 1312.36 L545.823 1312.36 L545.823 1316.3 L516.148 1316.3 L516.148 1312.36 Z\" fill=\"#000000\" fill-rule=\"evenodd\" fill-opacity=\"1\" /><path clip-path=\"url(#clip700)\" d=\"M 0 0 M559.944 1325.26 L576.263 1325.26 L576.263 1329.19 L554.319 1329.19 L554.319 1325.26 Q556.981 1322.5 561.564 1317.87 Q566.171 1313.22 567.351 1311.88 Q569.596 1309.35 570.476 1307.62 Q571.379 1305.86 571.379 1304.17 Q571.379 1301.41 569.434 1299.68 Q567.513 1297.94 564.411 1297.94 Q562.212 1297.94 559.759 1298.7 Q557.328 1299.47 554.55 1301.02 L554.55 1296.3 Q557.374 1295.16 559.828 1294.58 Q562.282 1294.01 564.319 1294.01 Q569.689 1294.01 572.883 1296.69 Q576.078 1299.38 576.078 1303.87 Q576.078 1306 575.268 1307.92 Q574.481 1309.82 572.374 1312.41 Q571.795 1313.08 568.694 1316.3 Q565.592 1319.49 559.944 1325.26 Z\" fill=\"#000000\" fill-rule=\"evenodd\" fill-opacity=\"1\" /><path clip-path=\"url(#clip700)\" d=\"M 0 0 M515.777 1081.46 L545.453 1081.46 L545.453 1085.39 L515.777 1085.39 L515.777 1081.46 Z\" fill=\"#000000\" fill-rule=\"evenodd\" fill-opacity=\"1\" /><path clip-path=\"url(#clip700)\" d=\"M 0 0 M556.356 1094.35 L563.995 1094.35 L563.995 1067.99 L555.684 1069.65 L555.684 1065.39 L563.948 1063.73 L568.624 1063.73 L568.624 1094.35 L576.263 1094.35 L576.263 1098.29 L556.356 1098.29 L556.356 1094.35 Z\" fill=\"#000000\" fill-rule=\"evenodd\" fill-opacity=\"1\" /><path clip-path=\"url(#clip700)\" d=\"M 0 0 M564.319 835.902 Q560.708 835.902 558.879 839.467 Q557.073 843.009 557.073 850.138 Q557.073 857.245 558.879 860.81 Q560.708 864.351 564.319 864.351 Q567.953 864.351 569.758 860.81 Q571.587 857.245 571.587 850.138 Q571.587 843.009 569.758 839.467 Q567.953 835.902 564.319 835.902 M564.319 832.199 Q570.129 832.199 573.184 836.805 Q576.263 841.388 576.263 850.138 Q576.263 858.865 573.184 863.472 Q570.129 868.055 564.319 868.055 Q558.509 868.055 555.43 863.472 Q552.374 858.865 552.374 850.138 Q552.374 841.388 555.43 836.805 Q558.509 832.199 564.319 832.199 Z\" fill=\"#000000\" fill-rule=\"evenodd\" fill-opacity=\"1\" /><path clip-path=\"url(#clip700)\" d=\"M 0 0 M556.356 632.545 L563.995 632.545 L563.995 606.18 L555.684 607.846 L555.684 603.587 L563.948 601.92 L568.624 601.92 L568.624 632.545 L576.263 632.545 L576.263 636.48 L556.356 636.48 L556.356 632.545 Z\" fill=\"#000000\" fill-rule=\"evenodd\" fill-opacity=\"1\" /><path clip-path=\"url(#clip700)\" d=\"M 0 0 M559.944 401.642 L576.263 401.642 L576.263 405.577 L554.319 405.577 L554.319 401.642 Q556.981 398.887 561.564 394.258 Q566.171 389.605 567.351 388.262 Q569.596 385.739 570.476 384.003 Q571.379 382.244 571.379 380.554 Q571.379 377.799 569.434 376.063 Q567.513 374.327 564.411 374.327 Q562.212 374.327 559.759 375.091 Q557.328 375.855 554.55 377.406 L554.55 372.684 Q557.374 371.549 559.828 370.971 Q562.282 370.392 564.319 370.392 Q569.689 370.392 572.883 373.077 Q576.078 375.762 576.078 380.253 Q576.078 382.383 575.268 384.304 Q574.481 386.202 572.374 388.795 Q571.795 389.466 568.694 392.684 Q565.592 395.878 559.944 401.642 Z\" fill=\"#000000\" fill-rule=\"evenodd\" fill-opacity=\"1\" /><path clip-path=\"url(#clip700)\" d=\"M 0 0 M515.566 12.096 L523.749 12.096 L523.749 65.6895 L553.199 65.6895 L553.199 72.576 L515.566 72.576 L515.566 12.096 Z\" fill=\"#000000\" fill-rule=\"evenodd\" fill-opacity=\"1\" /><path clip-path=\"url(#clip700)\" d=\"M 0 0 M577.586 32.4315 Q571.59 32.4315 568.107 37.1306 Q564.623 41.7891 564.623 49.9314 Q564.623 58.0738 568.066 62.7728 Q571.55 67.4314 577.586 67.4314 Q583.541 67.4314 587.024 62.7323 Q590.508 58.0333 590.508 49.9314 Q590.508 41.8701 587.024 37.1711 Q583.541 32.4315 577.586 32.4315 M577.586 26.1121 Q587.308 26.1121 592.858 32.4315 Q598.407 38.7509 598.407 49.9314 Q598.407 61.0714 592.858 67.4314 Q587.308 73.7508 577.586 73.7508 Q567.823 73.7508 562.273 67.4314 Q556.764 61.0714 556.764 49.9314 Q556.764 38.7509 562.273 32.4315 Q567.823 26.1121 577.586 26.1121 Z\" fill=\"#000000\" fill-rule=\"evenodd\" fill-opacity=\"1\" /><path clip-path=\"url(#clip700)\" d=\"M 0 0 M643.413 28.9478 L643.413 35.9153 Q640.253 34.1734 637.053 33.3227 Q633.893 32.4315 630.653 32.4315 Q623.402 32.4315 619.391 37.0496 Q615.381 41.6271 615.381 49.9314 Q615.381 58.2358 619.391 62.8538 Q623.402 67.4314 630.653 67.4314 Q633.893 67.4314 637.053 66.5807 Q640.253 65.6895 643.413 63.9476 L643.413 70.8341 Q640.294 72.2924 636.932 73.0216 Q633.61 73.7508 629.842 73.7508 Q619.594 73.7508 613.558 67.3098 Q607.522 60.8689 607.522 49.9314 Q607.522 38.832 613.598 32.472 Q619.715 26.1121 630.329 26.1121 Q633.772 26.1121 637.053 26.8413 Q640.334 27.5299 643.413 28.9478 Z\" fill=\"#000000\" fill-rule=\"evenodd\" fill-opacity=\"1\" /><path clip-path=\"url(#clip700)\" d=\"M 0 0 M676.995 49.7694 Q667.961 49.7694 664.478 51.8354 Q660.994 53.9013 660.994 58.8839 Q660.994 62.8538 663.586 65.2034 Q666.22 67.5124 670.716 67.5124 Q676.914 67.5124 680.641 63.1374 Q684.408 58.7219 684.408 51.4303 L684.408 49.7694 L676.995 49.7694 M691.862 46.6907 L691.862 72.576 L684.408 72.576 L684.408 65.6895 Q681.856 69.8214 678.048 71.8063 Q674.24 73.7508 668.731 73.7508 Q661.764 73.7508 657.632 69.8619 Q653.54 65.9325 653.54 59.3701 Q653.54 51.7138 658.644 47.825 Q663.789 43.9361 673.957 43.9361 L684.408 43.9361 L684.408 43.2069 Q684.408 38.0623 681.005 35.2672 Q677.643 32.4315 671.526 32.4315 Q667.637 32.4315 663.951 33.3632 Q660.265 34.295 656.862 36.1584 L656.862 29.2718 Q660.953 27.692 664.802 26.9223 Q668.65 26.1121 672.296 26.1121 Q682.14 26.1121 687.001 31.2163 Q691.862 36.3204 691.862 46.6907 Z\" fill=\"#000000\" fill-rule=\"evenodd\" fill-opacity=\"1\" /><path clip-path=\"url(#clip700)\" d=\"M 0 0 M707.215 9.54393 L714.668 9.54393 L714.668 72.576 L707.215 72.576 L707.215 9.54393 Z\" fill=\"#000000\" fill-rule=\"evenodd\" fill-opacity=\"1\" /><path clip-path=\"url(#clip700)\" d=\"M 0 0 M730.264 9.54393 L737.718 9.54393 L737.718 72.576 L730.264 72.576 L730.264 9.54393 Z\" fill=\"#000000\" fill-rule=\"evenodd\" fill-opacity=\"1\" /><path clip-path=\"url(#clip700)\" d=\"M 0 0 M772.191 76.7889 Q769.032 84.8907 766.034 87.3618 Q763.036 89.8329 758.013 89.8329 L752.058 89.8329 L752.058 83.5945 L756.433 83.5945 Q759.512 83.5945 761.213 82.1361 Q762.915 80.6778 764.981 75.2496 L766.317 71.8468 L747.967 27.2059 L755.866 27.2059 L770.044 62.6918 L784.222 27.2059 L792.122 27.2059 L772.191 76.7889 Z\" fill=\"#000000\" fill-rule=\"evenodd\" fill-opacity=\"1\" /><path clip-path=\"url(#clip700)\" d=\"M 0 0 M853.655 17.6457 Q844.743 17.6457 839.477 24.2892 Q834.251 30.9327 834.251 42.3968 Q834.251 53.8203 839.477 60.4638 Q844.743 67.1073 853.655 67.1073 Q862.567 67.1073 867.752 60.4638 Q872.978 53.8203 872.978 42.3968 Q872.978 30.9327 867.752 24.2892 Q862.567 17.6457 853.655 17.6457 M853.655 11.0023 Q866.375 11.0023 873.99 19.5497 Q881.606 28.0566 881.606 42.3968 Q881.606 56.6965 873.99 65.2439 Q866.375 73.7508 853.655 73.7508 Q840.895 73.7508 833.238 65.2439 Q825.623 56.737 825.623 42.3968 Q825.623 28.0566 833.238 19.5497 Q840.895 11.0023 853.655 11.0023 Z\" fill=\"#000000\" fill-rule=\"evenodd\" fill-opacity=\"1\" /><path clip-path=\"url(#clip700)\" d=\"M 0 0 M901.294 65.7705 L901.294 89.8329 L893.799 89.8329 L893.799 27.2059 L901.294 27.2059 L901.294 34.0924 Q903.643 30.0415 907.208 28.0971 Q910.813 26.1121 915.796 26.1121 Q924.06 26.1121 929.204 32.6746 Q934.389 39.2371 934.389 49.9314 Q934.389 60.6258 929.204 67.1883 Q924.06 73.7508 915.796 73.7508 Q910.813 73.7508 907.208 71.8063 Q903.643 69.8214 901.294 65.7705 M926.652 49.9314 Q926.652 41.7081 923.249 37.0496 Q919.887 32.3505 913.973 32.3505 Q908.059 32.3505 904.656 37.0496 Q901.294 41.7081 901.294 49.9314 Q901.294 58.1548 904.656 62.8538 Q908.059 67.5124 913.973 67.5124 Q919.887 67.5124 923.249 62.8538 Q926.652 58.1548 926.652 49.9314 Z\" fill=\"#000000\" fill-rule=\"evenodd\" fill-opacity=\"1\" /><path clip-path=\"url(#clip700)\" d=\"M 0 0 M954.117 14.324 L954.117 27.2059 L969.47 27.2059 L969.47 32.9987 L954.117 32.9987 L954.117 57.6282 Q954.117 63.1779 955.616 64.7578 Q957.156 66.3376 961.814 66.3376 L969.47 66.3376 L969.47 72.576 L961.814 72.576 Q953.186 72.576 949.904 69.3758 Q946.623 66.1351 946.623 57.6282 L946.623 32.9987 L941.154 32.9987 L941.154 27.2059 L946.623 27.2059 L946.623 14.324 L954.117 14.324 Z\" fill=\"#000000\" fill-rule=\"evenodd\" fill-opacity=\"1\" /><path clip-path=\"url(#clip700)\" d=\"M 0 0 M979.273 27.2059 L986.727 27.2059 L986.727 72.576 L979.273 72.576 L979.273 27.2059 M979.273 9.54393 L986.727 9.54393 L986.727 18.9825 L979.273 18.9825 L979.273 9.54393 Z\" fill=\"#000000\" fill-rule=\"evenodd\" fill-opacity=\"1\" /><path clip-path=\"url(#clip700)\" d=\"M 0 0 M1037.65 35.9153 Q1040.44 30.8922 1044.33 28.5022 Q1048.22 26.1121 1053.49 26.1121 Q1060.58 26.1121 1064.42 31.0947 Q1068.27 36.0368 1068.27 45.1919 L1068.27 72.576 L1060.78 72.576 L1060.78 45.4349 Q1060.78 38.913 1058.47 35.7533 Q1056.16 32.5936 1051.42 32.5936 Q1045.63 32.5936 1042.27 36.4419 Q1038.9 40.2903 1038.9 46.9338 L1038.9 72.576 L1031.41 72.576 L1031.41 45.4349 Q1031.41 38.8725 1029.1 35.7533 Q1026.79 32.5936 1021.97 32.5936 Q1016.26 32.5936 1012.9 36.4824 Q1009.53 40.3308 1009.53 46.9338 L1009.53 72.576 L1002.04 72.576 L1002.04 27.2059 L1009.53 27.2059 L1009.53 34.2544 Q1012.09 30.082 1015.65 28.0971 Q1019.22 26.1121 1024.12 26.1121 Q1029.06 26.1121 1032.5 28.6237 Q1035.99 31.1352 1037.65 35.9153 Z\" fill=\"#000000\" fill-rule=\"evenodd\" fill-opacity=\"1\" /><path clip-path=\"url(#clip700)\" d=\"M 0 0 M1103.76 49.7694 Q1094.72 49.7694 1091.24 51.8354 Q1087.76 53.9013 1087.76 58.8839 Q1087.76 62.8538 1090.35 65.2034 Q1092.98 67.5124 1097.48 67.5124 Q1103.68 67.5124 1107.4 63.1374 Q1111.17 58.7219 1111.17 51.4303 L1111.17 49.7694 L1103.76 49.7694 M1118.62 46.6907 L1118.62 72.576 L1111.17 72.576 L1111.17 65.6895 Q1108.62 69.8214 1104.81 71.8063 Q1101 73.7508 1095.49 73.7508 Q1088.53 73.7508 1084.39 69.8619 Q1080.3 65.9325 1080.3 59.3701 Q1080.3 51.7138 1085.41 47.825 Q1090.55 43.9361 1100.72 43.9361 L1111.17 43.9361 L1111.17 43.2069 Q1111.17 38.0623 1107.77 35.2672 Q1104.41 32.4315 1098.29 32.4315 Q1094.4 32.4315 1090.71 33.3632 Q1087.03 34.295 1083.62 36.1584 L1083.62 29.2718 Q1087.72 27.692 1091.56 26.9223 Q1095.41 26.1121 1099.06 26.1121 Q1108.9 26.1121 1113.76 31.2163 Q1118.62 36.3204 1118.62 46.6907 Z\" fill=\"#000000\" fill-rule=\"evenodd\" fill-opacity=\"1\" /><path clip-path=\"url(#clip700)\" d=\"M 0 0 M1133.98 9.54393 L1141.43 9.54393 L1141.43 72.576 L1133.98 72.576 L1133.98 9.54393 Z\" fill=\"#000000\" fill-rule=\"evenodd\" fill-opacity=\"1\" /><path clip-path=\"url(#clip700)\" d=\"M 0 0 M1175.34 12.096 L1226.5 12.096 L1226.5 18.9825 L1205.03 18.9825 L1205.03 72.576 L1196.81 72.576 L1196.81 18.9825 L1175.34 18.9825 L1175.34 12.096 Z\" fill=\"#000000\" fill-rule=\"evenodd\" fill-opacity=\"1\" /><path clip-path=\"url(#clip700)\" d=\"M 0 0 M1248.17 34.1734 Q1246.92 33.4443 1245.42 33.1202 Q1243.96 32.7556 1242.18 32.7556 Q1235.86 32.7556 1232.45 36.8875 Q1229.09 40.9789 1229.09 48.6757 L1229.09 72.576 L1221.6 72.576 L1221.6 27.2059 L1229.09 27.2059 L1229.09 34.2544 Q1231.44 30.1225 1235.21 28.1376 Q1238.98 26.1121 1244.36 26.1121 Q1245.13 26.1121 1246.07 26.2337 Q1247 26.3147 1248.13 26.5172 L1248.17 34.1734 Z\" fill=\"#000000\" fill-rule=\"evenodd\" fill-opacity=\"1\" /><path clip-path=\"url(#clip700)\" d=\"M 0 0 M1276.61 49.7694 Q1267.58 49.7694 1264.09 51.8354 Q1260.61 53.9013 1260.61 58.8839 Q1260.61 62.8538 1263.2 65.2034 Q1265.83 67.5124 1270.33 67.5124 Q1276.53 67.5124 1280.26 63.1374 Q1284.02 58.7219 1284.02 51.4303 L1284.02 49.7694 L1276.61 49.7694 M1291.48 46.6907 L1291.48 72.576 L1284.02 72.576 L1284.02 65.6895 Q1281.47 69.8214 1277.66 71.8063 Q1273.86 73.7508 1268.35 73.7508 Q1261.38 73.7508 1257.25 69.8619 Q1253.16 65.9325 1253.16 59.3701 Q1253.16 51.7138 1258.26 47.825 Q1263.4 43.9361 1273.57 43.9361 L1284.02 43.9361 L1284.02 43.2069 Q1284.02 38.0623 1280.62 35.2672 Q1277.26 32.4315 1271.14 32.4315 Q1267.25 32.4315 1263.57 33.3632 Q1259.88 34.295 1256.48 36.1584 L1256.48 29.2718 Q1260.57 27.692 1264.42 26.9223 Q1268.26 26.1121 1271.91 26.1121 Q1281.75 26.1121 1286.62 31.2163 Q1291.48 36.3204 1291.48 46.6907 Z\" fill=\"#000000\" fill-rule=\"evenodd\" fill-opacity=\"1\" /><path clip-path=\"url(#clip700)\" d=\"M 0 0 M1306.83 27.2059 L1314.28 27.2059 L1314.28 73.3862 Q1314.28 82.0551 1310.96 85.944 Q1307.68 89.8329 1300.35 89.8329 L1297.51 89.8329 L1297.51 83.5134 L1299.5 83.5134 Q1303.75 83.5134 1305.29 81.5285 Q1306.83 79.5841 1306.83 73.3862 L1306.83 27.2059 M1306.83 9.54393 L1314.28 9.54393 L1314.28 18.9825 L1306.83 18.9825 L1306.83 9.54393 Z\" fill=\"#000000\" fill-rule=\"evenodd\" fill-opacity=\"1\" /><path clip-path=\"url(#clip700)\" d=\"M 0 0 M1368.69 48.0275 L1368.69 51.6733 L1334.42 51.6733 Q1334.9 59.3701 1339.03 63.421 Q1343.21 67.4314 1350.62 67.4314 Q1354.91 67.4314 1358.92 66.3781 Q1362.98 65.3249 1366.94 63.2184 L1366.94 70.267 Q1362.93 71.9684 1358.72 72.8596 Q1354.51 73.7508 1350.17 73.7508 Q1339.32 73.7508 1332.96 67.4314 Q1326.64 61.1119 1326.64 50.3365 Q1326.64 39.1965 1332.63 32.6746 Q1338.67 26.1121 1348.88 26.1121 Q1358.03 26.1121 1363.34 32.0264 Q1368.69 37.9003 1368.69 48.0275 M1361.23 45.84 Q1361.15 39.7232 1357.79 36.0774 Q1354.47 32.4315 1348.96 32.4315 Q1342.72 32.4315 1338.95 35.9558 Q1335.23 39.4801 1334.66 45.8805 L1361.23 45.84 Z\" fill=\"#000000\" fill-rule=\"evenodd\" fill-opacity=\"1\" /><path clip-path=\"url(#clip700)\" d=\"M 0 0 M1413.57 28.9478 L1413.57 35.9153 Q1410.41 34.1734 1407.21 33.3227 Q1404.05 32.4315 1400.81 32.4315 Q1393.56 32.4315 1389.55 37.0496 Q1385.54 41.6271 1385.54 49.9314 Q1385.54 58.2358 1389.55 62.8538 Q1393.56 67.4314 1400.81 67.4314 Q1404.05 67.4314 1407.21 66.5807 Q1410.41 65.6895 1413.57 63.9476 L1413.57 70.8341 Q1410.45 72.2924 1407.09 73.0216 Q1403.77 73.7508 1400 73.7508 Q1389.75 73.7508 1383.72 67.3098 Q1377.68 60.8689 1377.68 49.9314 Q1377.68 38.832 1383.76 32.472 Q1389.87 26.1121 1400.49 26.1121 Q1403.93 26.1121 1407.21 26.8413 Q1410.49 27.5299 1413.57 28.9478 Z\" fill=\"#000000\" fill-rule=\"evenodd\" fill-opacity=\"1\" /><path clip-path=\"url(#clip700)\" d=\"M 0 0 M1433.91 14.324 L1433.91 27.2059 L1449.26 27.2059 L1449.26 32.9987 L1433.91 32.9987 L1433.91 57.6282 Q1433.91 63.1779 1435.41 64.7578 Q1436.94 66.3376 1441.6 66.3376 L1449.26 66.3376 L1449.26 72.576 L1441.6 72.576 Q1432.97 72.576 1429.69 69.3758 Q1426.41 66.1351 1426.41 57.6282 L1426.41 32.9987 L1420.94 32.9987 L1420.94 27.2059 L1426.41 27.2059 L1426.41 14.324 L1433.91 14.324 Z\" fill=\"#000000\" fill-rule=\"evenodd\" fill-opacity=\"1\" /><path clip-path=\"url(#clip700)\" d=\"M 0 0 M1476.64 32.4315 Q1470.65 32.4315 1467.16 37.1306 Q1463.68 41.7891 1463.68 49.9314 Q1463.68 58.0738 1467.12 62.7728 Q1470.61 67.4314 1476.64 67.4314 Q1482.6 67.4314 1486.08 62.7323 Q1489.57 58.0333 1489.57 49.9314 Q1489.57 41.8701 1486.08 37.1711 Q1482.6 32.4315 1476.64 32.4315 M1476.64 26.1121 Q1486.37 26.1121 1491.92 32.4315 Q1497.47 38.7509 1497.47 49.9314 Q1497.47 61.0714 1491.92 67.4314 Q1486.37 73.7508 1476.64 73.7508 Q1466.88 73.7508 1461.33 67.4314 Q1455.82 61.0714 1455.82 49.9314 Q1455.82 38.7509 1461.33 32.4315 Q1466.88 26.1121 1476.64 26.1121 Z\" fill=\"#000000\" fill-rule=\"evenodd\" fill-opacity=\"1\" /><path clip-path=\"url(#clip700)\" d=\"M 0 0 M1536.11 34.1734 Q1534.85 33.4443 1533.36 33.1202 Q1531.9 32.7556 1530.12 32.7556 Q1523.8 32.7556 1520.39 36.8875 Q1517.03 40.9789 1517.03 48.6757 L1517.03 72.576 L1509.54 72.576 L1509.54 27.2059 L1517.03 27.2059 L1517.03 34.2544 Q1519.38 30.1225 1523.15 28.1376 Q1526.92 26.1121 1532.3 26.1121 Q1533.07 26.1121 1534 26.2337 Q1534.94 26.3147 1536.07 26.5172 L1536.11 34.1734 Z\" fill=\"#000000\" fill-rule=\"evenodd\" fill-opacity=\"1\" /><path clip-path=\"url(#clip700)\" d=\"M 0 0 M1562.81 76.7889 Q1559.65 84.8907 1556.65 87.3618 Q1553.65 89.8329 1548.63 89.8329 L1542.67 89.8329 L1542.67 83.5945 L1547.05 83.5945 Q1550.13 83.5945 1551.83 82.1361 Q1553.53 80.6778 1555.6 75.2496 L1556.93 71.8468 L1538.58 27.2059 L1546.48 27.2059 L1560.66 62.6918 L1574.84 27.2059 L1582.74 27.2059 L1562.81 76.7889 Z\" fill=\"#000000\" fill-rule=\"evenodd\" fill-opacity=\"1\" /><path clip-path=\"url(#clip700)\" d=\"M 0 0 M1637.3 9.62495 Q1631.87 18.942 1629.24 28.0566 Q1626.61 37.1711 1626.61 46.5287 Q1626.61 55.8863 1629.24 65.0818 Q1631.91 74.2369 1637.3 83.5134 L1630.82 83.5134 Q1624.74 73.9938 1621.71 64.7983 Q1618.71 55.6027 1618.71 46.5287 Q1618.71 37.4952 1621.71 28.3401 Q1624.7 19.1851 1630.82 9.62495 L1637.3 9.62495 Z\" fill=\"#000000\" fill-rule=\"evenodd\" fill-opacity=\"1\" /><path clip-path=\"url(#clip700)\" d=\"M 0 0 M1652.9 12.096 L1685.02 12.096 L1685.02 18.9825 L1660.39 18.9825 L1660.39 33.8088 Q1662.17 33.2012 1663.96 32.9176 Q1665.74 32.5936 1667.52 32.5936 Q1677.65 32.5936 1683.56 38.1433 Q1689.48 43.6931 1689.48 53.1722 Q1689.48 62.9348 1683.4 68.3631 Q1677.33 73.7508 1666.27 73.7508 Q1662.46 73.7508 1658.49 73.1026 Q1654.56 72.4545 1650.35 71.1582 L1650.35 62.9348 Q1653.99 64.9198 1657.88 65.892 Q1661.77 66.8642 1666.1 66.8642 Q1673.11 66.8642 1677.2 63.1779 Q1681.3 59.4916 1681.3 53.1722 Q1681.3 46.8528 1677.2 43.1664 Q1673.11 39.4801 1666.1 39.4801 Q1662.82 39.4801 1659.54 40.2093 Q1656.3 40.9384 1652.9 42.4778 L1652.9 12.096 Z\" fill=\"#000000\" fill-rule=\"evenodd\" fill-opacity=\"1\" /><path clip-path=\"url(#clip700)\" d=\"M 0 0 M1748.5 32.4315 Q1742.5 32.4315 1739.02 37.1306 Q1735.54 41.7891 1735.54 49.9314 Q1735.54 58.0738 1738.98 62.7728 Q1742.46 67.4314 1748.5 67.4314 Q1754.45 67.4314 1757.94 62.7323 Q1761.42 58.0333 1761.42 49.9314 Q1761.42 41.8701 1757.94 37.1711 Q1754.45 32.4315 1748.5 32.4315 M1748.5 26.1121 Q1758.22 26.1121 1763.77 32.4315 Q1769.32 38.7509 1769.32 49.9314 Q1769.32 61.0714 1763.77 67.4314 Q1758.22 73.7508 1748.5 73.7508 Q1738.74 73.7508 1733.19 67.4314 Q1727.68 61.0714 1727.68 49.9314 Q1727.68 38.7509 1733.19 32.4315 Q1738.74 26.1121 1748.5 26.1121 Z\" fill=\"#000000\" fill-rule=\"evenodd\" fill-opacity=\"1\" /><path clip-path=\"url(#clip700)\" d=\"M 0 0 M1807.97 34.1734 Q1806.71 33.4443 1805.21 33.1202 Q1803.75 32.7556 1801.97 32.7556 Q1795.65 32.7556 1792.25 36.8875 Q1788.89 40.9789 1788.89 48.6757 L1788.89 72.576 L1781.39 72.576 L1781.39 27.2059 L1788.89 27.2059 L1788.89 34.2544 Q1791.24 30.1225 1795 28.1376 Q1798.77 26.1121 1804.16 26.1121 Q1804.93 26.1121 1805.86 26.2337 Q1806.79 26.3147 1807.93 26.5172 L1807.97 34.1734 Z\" fill=\"#000000\" fill-rule=\"evenodd\" fill-opacity=\"1\" /><path clip-path=\"url(#clip700)\" d=\"M 0 0 M1848.35 49.9314 Q1848.35 41.7081 1844.95 37.0496 Q1841.59 32.3505 1835.68 32.3505 Q1829.76 32.3505 1826.36 37.0496 Q1823 41.7081 1823 49.9314 Q1823 58.1548 1826.36 62.8538 Q1829.76 67.5124 1835.68 67.5124 Q1841.59 67.5124 1844.95 62.8538 Q1848.35 58.1548 1848.35 49.9314 M1823 34.0924 Q1825.35 30.0415 1828.91 28.0971 Q1832.52 26.1121 1837.5 26.1121 Q1845.76 26.1121 1850.91 32.6746 Q1856.09 39.2371 1856.09 49.9314 Q1856.09 60.6258 1850.91 67.1883 Q1845.76 73.7508 1837.5 73.7508 Q1832.52 73.7508 1828.91 71.8063 Q1825.35 69.8214 1823 65.7705 L1823 72.576 L1815.5 72.576 L1815.5 9.54393 L1823 9.54393 L1823 34.0924 Z\" fill=\"#000000\" fill-rule=\"evenodd\" fill-opacity=\"1\" /><path clip-path=\"url(#clip700)\" d=\"M 0 0 M1868.45 27.2059 L1875.9 27.2059 L1875.9 72.576 L1868.45 72.576 L1868.45 27.2059 M1868.45 9.54393 L1875.9 9.54393 L1875.9 18.9825 L1868.45 18.9825 L1868.45 9.54393 Z\" fill=\"#000000\" fill-rule=\"evenodd\" fill-opacity=\"1\" /><path clip-path=\"url(#clip700)\" d=\"M 0 0 M1898.87 14.324 L1898.87 27.2059 L1914.22 27.2059 L1914.22 32.9987 L1898.87 32.9987 L1898.87 57.6282 Q1898.87 63.1779 1900.37 64.7578 Q1901.91 66.3376 1906.57 66.3376 L1914.22 66.3376 L1914.22 72.576 L1906.57 72.576 Q1897.94 72.576 1894.66 69.3758 Q1891.38 66.1351 1891.38 57.6282 L1891.38 32.9987 L1885.91 32.9987 L1885.91 27.2059 L1891.38 27.2059 L1891.38 14.324 L1898.87 14.324 Z\" fill=\"#000000\" fill-rule=\"evenodd\" fill-opacity=\"1\" /><path clip-path=\"url(#clip700)\" d=\"M 0 0 M1952.95 28.5427 L1952.95 35.5912 Q1949.79 33.9709 1946.39 33.1607 Q1942.98 32.3505 1939.34 32.3505 Q1933.79 32.3505 1930.99 34.0519 Q1928.24 35.7533 1928.24 39.156 Q1928.24 41.7486 1930.22 43.2475 Q1932.21 44.7058 1938.2 46.0426 L1940.76 46.6097 Q1948.7 48.3111 1952.02 51.4303 Q1955.38 54.509 1955.38 60.0587 Q1955.38 66.3781 1950.36 70.0644 Q1945.37 73.7508 1936.62 73.7508 Q1932.98 73.7508 1929.01 73.0216 Q1925.08 72.3329 1920.7 70.9151 L1920.7 63.2184 Q1924.84 65.3654 1928.85 66.4591 Q1932.86 67.5124 1936.79 67.5124 Q1942.05 67.5124 1944.89 65.73 Q1947.72 63.9071 1947.72 60.6258 Q1947.72 57.5877 1945.66 55.9673 Q1943.63 54.3469 1936.7 52.8481 L1934.11 52.2405 Q1927.19 50.7821 1924.11 47.7845 Q1921.03 44.7463 1921.03 39.4801 Q1921.03 33.0797 1925.56 29.5959 Q1930.1 26.1121 1938.45 26.1121 Q1942.58 26.1121 1946.22 26.7198 Q1949.87 27.3274 1952.95 28.5427 Z\" fill=\"#000000\" fill-rule=\"evenodd\" fill-opacity=\"1\" /><path clip-path=\"url(#clip700)\" d=\"M 0 0 M1966.07 9.62495 L1972.56 9.62495 Q1978.63 19.1851 1981.63 28.3401 Q1984.67 37.4952 1984.67 46.5287 Q1984.67 55.6027 1981.63 64.7983 Q1978.63 73.9938 1972.56 83.5134 L1966.07 83.5134 Q1971.46 74.2369 1974.09 65.0818 Q1976.77 55.8863 1976.77 46.5287 Q1976.77 37.1711 1974.09 28.0566 Q1971.46 18.942 1966.07 9.62495 Z\" fill=\"#000000\" fill-rule=\"evenodd\" fill-opacity=\"1\" /><polyline clip-path=\"url(#clip702)\" style=\"stroke:#009af9; stroke-width:8; stroke-opacity:1; fill:none\" points=\"\n",
       "  1288.13,822.666 1303.42,807.041 1249.16,634.747 1161.61,531.368 1160.79,530.576 1085.14,468.646 1084.44,468.178 1083.75,467.712 1083.06,467.249 1020.09,433.041 \n",
       "  1019.52,432.81 1018.95,432.581 1018.39,432.354 1017.82,432.129 1017.26,431.906 1016.69,431.685 1016.13,431.465 1015.57,431.248 1015.01,431.033 1014.46,430.819 \n",
       "  1013.9,430.608 964.16,418.864 963.722,418.835 925.885,424.025 900.349,443.972 900.159,444.241 888.082,477.754 888.033,478.153 887.985,478.554 887.939,478.957 \n",
       "  887.895,479.36 891.345,525.86 891.462,526.386 891.581,526.913 912.617,585.392 954.115,654.742 954.647,655.487 1021.32,734.012 1118.69,816.326 1248.51,883.244 \n",
       "  1366.56,873.506 1371.5,764.557 1302.44,650.825 1216.87,564.732 1133.12,505.416 1132.32,504.944 1131.51,504.475 1130.71,504.007 1129.91,503.542 1129.11,503.079 \n",
       "  1128.31,502.617 1127.51,502.159 1126.71,501.702 1125.92,501.247 1050.86,466.413 1050.15,466.166 1049.45,465.92 1048.76,465.677 984.38,450.383 983.794,450.317 \n",
       "  931.278,451.616 891.633,467.374 865.984,495.947 855.519,535.833 861.487,585.513 885.132,643.278 885.462,643.89 885.793,644.503 886.126,645.116 886.461,645.73 \n",
       "  886.798,646.345 887.136,646.96 930.662,710.981 993.588,777.874 994.315,778.545 1076.24,844.109 1174.02,902.329 1280.52,945.072 1382.67,963.005 1462.63,949.188 \n",
       "  1504.49,904.218 1502.57,837.443 1462.44,761.941 1395.18,688.898 1312.1,625.628 1222.59,576.127 1133.92,542.177 1133.05,541.919 1132.19,541.662 1131.33,541.406 \n",
       "  1130.47,541.152 1048.62,523.767 1047.85,523.673 1047.08,523.581 1046.31,523.49 1045.55,523.401 1044.78,523.313 1044.02,523.226 1043.26,523.141 973.335,522.282 \n",
       "  918.07,535.871 880.217,562.464 879.934,562.79 861.843,600.66 864.81,647.471 889.539,700.6 889.896,701.154 890.255,701.708 890.616,702.262 890.98,702.817 \n",
       "  937.999,759.317 1004.87,815.495 1005.63,816.043 1089.39,868.079 1185.03,912.114 1286.06,944.535 1384.71,962.464 1472.75,964.257 1542.58,949.869 1588.34,920.935 \n",
       "  1588.67,920.581 1588.99,920.226 1606.73,879.586 1596.35,831.476 1559.64,780.178 1500.26,729.816 1423.14,684.028 1333.95,645.785 1238.75,617.317 1237.79,617.088 \n",
       "  1142.73,599.972 1053.77,594.828 1052.93,594.838 1052.09,594.849 1051.26,594.861 1050.42,594.875 1049.59,594.889 1048.75,594.904 972.385,602.358 912.95,620.961 \n",
       "  874.501,649.259 859.934,685.179 859.915,685.569 859.899,685.959 859.885,686.35 859.874,686.741 859.866,687.133 871.93,728.3 872.18,728.727 909.631,771.836 \n",
       "  910.127,772.266 910.626,772.696 911.126,773.127 972.328,814.966 1052.76,852.454 1147.12,882.905 1248.94,904.212 1351.17,915.036 1446.7,914.913 1529,904.272 \n",
       "  1592.64,884.35 1633.63,857.042 1649.65,824.692 1640.08,789.877 1605.89,755.198 1549.49,723.105 1474.51,695.76 1385.59,674.926 1288.13,661.892 1188.14,657.41 \n",
       "  1091.91,661.651 1005.76,674.176 935.639,693.945 935.037,694.175 934.438,694.405 933.84,694.636 885.636,720.169 885.276,720.446 884.919,720.724 884.565,721.002 \n",
       "  884.213,721.28 883.863,721.559 883.516,721.838 883.172,722.117 882.83,722.397 882.491,722.677 882.155,722.957 881.821,723.238 861.811,752.518 869.398,782.583 \n",
       "  869.615,782.879 869.835,783.175 905.559,811.442 966.671,835.487 1048.92,853.265 1146.28,863.297 1251.42,864.813 1356.31,857.83 1452.89,843.149 1533.71,822.27 \n",
       "  \n",
       "  \"/>\n",
       "<path clip-path=\"url(#clip702)\" d=\"M1250.12 789.326 L1238.8 784.638 L1234.12 773.326 L1238.8 762.014 L1250.12 757.326 L1261.43 762.014 L1266.12 773.326 L1261.43 784.638 Z\" fill=\"#008000\" fill-rule=\"evenodd\" fill-opacity=\"1\" stroke=\"#000000\" stroke-opacity=\"1\" stroke-width=\"3.2\"/>\n",
       "<polyline clip-path=\"url(#clip702)\" style=\"stroke:#ff0000; stroke-width:8; stroke-opacity:1; fill:none\" points=\"\n",
       "  1288.13,822.666 1308.43,782.683 1299.35,733.515 1280.96,690.185 1259.91,653.176 1238.34,621.448 1217.07,594.091 1196.46,570.424 1176.69,549.943 1157.83,532.268 \n",
       "  1139.93,517.107 1123.01,504.233 1107.09,493.465 1092.16,484.655 1078.25,477.687 1065.34,472.465 1053.46,468.911 1042.62,466.961 1032.82,466.564 1024.1,467.681 \n",
       "  1016.48,470.282 1009.98,474.345 1004.65,479.858 1000.52,486.814 997.66,495.217 996.119,505.078 995.975,516.413 997.319,529.252 1000.26,543.63 1004.92,559.594 \n",
       "  1011.48,577.202 1020.12,596.527 1031.12,617.653 1044.79,640.68 1061.59,665.717 1082.13,692.874 1107.29,722.212 1138.37,753.606 1177.39,786.198 1226.91,815.991 \n",
       "  1282.24,825.19 1308.26,789.602 1301.63,740.14 1283.98,695.87 1263.13,658.004 1241.56,625.546 1220.22,597.557 1199.49,573.329 1179.57,552.337 1160.56,534.188 \n",
       "  1142.49,518.579 1125.39,505.275 1109.28,494.088 1094.15,484.868 1080.03,477.493 1066.9,471.864 1054.79,467.9 1043.7,465.536 1033.65,464.717 1024.65,465.403 \n",
       "  1016.73,467.56 1009.91,471.166 1004.23,476.203 999.735,482.666 996.464,490.553 994.477,499.871 993.843,510.637 994.644,522.872 996.977,536.608 1000.96,551.888 \n",
       "  1006.74,568.763 1014.5,587.298 1024.46,607.569 1036.91,629.666 1052.24,653.694 1070.96,679.76 1093.79,707.954 1121.79,738.266 1156.56,770.318 1200.46,802.265 \n",
       "  1254.79,825.588 1300.74,812.7 1307.59,765.619 1293.99,718.05 1274.31,676.918 1252.94,641.723 1231.4,611.44 1210.31,585.244 1189.94,562.524 1170.42,542.825 \n",
       "  1151.82,525.801 1134.18,511.183 1117.5,498.761 1101.8,488.366 1087.08,479.862 1073.35,473.139 1060.62,468.106 1048.89,464.688 1038.17,462.825 1028.48,462.47 \n",
       "  1019.84,463.583 1012.27,466.135 1005.79,470.106 1000.45,475.481 996.279,482.254 993.33,490.428 991.659,500.01 991.335,511.015 992.44,523.469 995.072,537.403 \n",
       "  999.351,552.858 1005.42,569.888 1013.46,588.554 1023.7,608.933 1036.43,631.115 1052.03,655.199 1071.01,681.291 1094.09,709.471 1122.34,739.72 1157.33,771.634 \n",
       "  1201.42,803.307 1255.71,826.08 1301.16,812.551 1307.72,765.39 1294.07,717.845 1274.37,676.71 1253,641.486 1231.46,611.151 1210.36,584.886 1189.97,562.081 \n",
       "  1170.43,542.281 1151.8,525.142 1134.12,510.395 1117.4,497.83 1101.64,487.277 1086.86,478.602 1073.06,471.692 1060.24,466.456 1048.4,462.82 1037.57,460.723 \n",
       "  1027.75,460.116 1018.96,460.959 1011.22,463.221 1004.55,466.881 998.998,471.923 994.586,478.34 991.365,486.131 989.388,495.301 988.717,505.865 989.429,517.843 \n",
       "  991.613,531.263 995.378,546.162 1000.86,562.588 1008.21,580.597 1017.64,600.26 1029.4,621.656 1043.84,644.881 1061.38,670.034 1082.65,697.208 1108.5,726.44 \n",
       "  1140.25,757.553 1179.84,789.583 1229.62,818.264 1284.13,825.553 1308.91,789.156 1302.01,739.759 1284.33,695.507 1263.48,657.569 1241.92,624.972 1220.55,596.789 \n",
       "  1199.79,572.321 1179.82,551.046 1160.73,532.573 1142.57,516.6 1125.35,502.893 1109.09,491.263 1093.79,481.56 1079.45,473.66 1066.08,467.464 1053.69,462.89 \n",
       "  1042.28,459.868 1031.87,458.345 1022.46,458.274 1014.07,459.622 1006.74,462.361 1000.47,466.471 995.312,471.939 991.296,478.762 988.471,486.938 986.89,496.476 \n",
       "  986.619,507.391 987.734,519.705 990.328,533.448 994.512,548.657 1000.42,565.381 1008.22,583.677 1018.12,603.616 1030.37,625.28 1045.34,648.759 1063.46,674.154 \n",
       "  \n",
       "  \"/>\n",
       "<path clip-path=\"url(#clip700)\" d=\"\n",
       "M1223.79 408.716 L1826.46 408.716 L1826.46 166.796 L1223.79 166.796  Z\n",
       "  \" fill=\"#ffffff\" fill-rule=\"evenodd\" fill-opacity=\"1\"/>\n",
       "<polyline clip-path=\"url(#clip700)\" style=\"stroke:#000000; stroke-width:4; stroke-opacity:1; fill:none\" points=\"\n",
       "  1223.79,408.716 1826.46,408.716 1826.46,166.796 1223.79,166.796 1223.79,408.716 \n",
       "  \"/>\n",
       "<polyline clip-path=\"url(#clip700)\" style=\"stroke:#009af9; stroke-width:4; stroke-opacity:1; fill:none\" points=\"\n",
       "  1248.3,227.276 1395.32,227.276 \n",
       "  \"/>\n",
       "<path clip-path=\"url(#clip700)\" d=\"M 0 0 M1419.82 209.996 L1424.49 209.996 L1424.49 240.621 L1441.32 240.621 L1441.32 244.556 L1419.82 244.556 L1419.82 209.996 Z\" fill=\"#000000\" fill-rule=\"evenodd\" fill-opacity=\"1\" /><path clip-path=\"url(#clip700)\" d=\"M 0 0 M1455.26 221.616 Q1451.83 221.616 1449.84 224.301 Q1447.85 226.963 1447.85 231.616 Q1447.85 236.269 1449.82 238.954 Q1451.81 241.616 1455.26 241.616 Q1458.66 241.616 1460.65 238.931 Q1462.64 236.246 1462.64 231.616 Q1462.64 227.01 1460.65 224.324 Q1458.66 221.616 1455.26 221.616 M1455.26 218.005 Q1460.81 218.005 1463.98 221.616 Q1467.16 225.227 1467.16 231.616 Q1467.16 237.982 1463.98 241.616 Q1460.81 245.227 1455.26 245.227 Q1449.68 245.227 1446.51 241.616 Q1443.36 237.982 1443.36 231.616 Q1443.36 225.227 1446.51 221.616 Q1449.68 218.005 1455.26 218.005 Z\" fill=\"#000000\" fill-rule=\"evenodd\" fill-opacity=\"1\" /><path clip-path=\"url(#clip700)\" d=\"M 0 0 M1492.87 219.625 L1492.87 223.607 Q1491.07 222.611 1489.24 222.125 Q1487.43 221.616 1485.58 221.616 Q1481.44 221.616 1479.15 224.255 Q1476.86 226.871 1476.86 231.616 Q1476.86 236.361 1479.15 239 Q1481.44 241.616 1485.58 241.616 Q1487.43 241.616 1489.24 241.13 Q1491.07 240.621 1492.87 239.625 L1492.87 243.56 Q1491.09 244.394 1489.17 244.81 Q1487.27 245.227 1485.12 245.227 Q1479.26 245.227 1475.81 241.546 Q1472.36 237.866 1472.36 231.616 Q1472.36 225.273 1475.84 221.639 Q1479.33 218.005 1485.4 218.005 Q1487.36 218.005 1489.24 218.422 Q1491.11 218.815 1492.87 219.625 Z\" fill=\"#000000\" fill-rule=\"evenodd\" fill-opacity=\"1\" /><path clip-path=\"url(#clip700)\" d=\"M 0 0 M1512.06 231.523 Q1506.9 231.523 1504.91 232.704 Q1502.92 233.884 1502.92 236.732 Q1502.92 239 1504.4 240.343 Q1505.91 241.662 1508.48 241.662 Q1512.02 241.662 1514.15 239.162 Q1516.3 236.639 1516.3 232.472 L1516.3 231.523 L1512.06 231.523 M1520.56 229.764 L1520.56 244.556 L1516.3 244.556 L1516.3 240.621 Q1514.84 242.982 1512.67 244.116 Q1510.49 245.227 1507.34 245.227 Q1503.36 245.227 1501 243.005 Q1498.66 240.759 1498.66 237.009 Q1498.66 232.634 1501.58 230.412 Q1504.52 228.19 1510.33 228.19 L1516.3 228.19 L1516.3 227.773 Q1516.3 224.834 1514.35 223.236 Q1512.43 221.616 1508.94 221.616 Q1506.72 221.616 1504.61 222.148 Q1502.5 222.681 1500.56 223.746 L1500.56 219.81 Q1502.9 218.908 1505.1 218.468 Q1507.29 218.005 1509.38 218.005 Q1515 218.005 1517.78 220.922 Q1520.56 223.838 1520.56 229.764 Z\" fill=\"#000000\" fill-rule=\"evenodd\" fill-opacity=\"1\" /><path clip-path=\"url(#clip700)\" d=\"M 0 0 M1529.33 208.537 L1533.59 208.537 L1533.59 244.556 L1529.33 244.556 L1529.33 208.537 Z\" fill=\"#000000\" fill-rule=\"evenodd\" fill-opacity=\"1\" /><path clip-path=\"url(#clip700)\" d=\"M 0 0 M1542.5 208.537 L1546.76 208.537 L1546.76 244.556 L1542.5 244.556 L1542.5 208.537 Z\" fill=\"#000000\" fill-rule=\"evenodd\" fill-opacity=\"1\" /><path clip-path=\"url(#clip700)\" d=\"M 0 0 M1566.46 246.963 Q1564.66 251.593 1562.94 253.005 Q1561.23 254.417 1558.36 254.417 L1554.96 254.417 L1554.96 250.852 L1557.46 250.852 Q1559.22 250.852 1560.19 250.019 Q1561.16 249.185 1562.34 246.083 L1563.1 244.139 L1552.62 218.63 L1557.13 218.63 L1565.23 238.908 L1573.34 218.63 L1577.85 218.63 L1566.46 246.963 Z\" fill=\"#000000\" fill-rule=\"evenodd\" fill-opacity=\"1\" /><path clip-path=\"url(#clip700)\" d=\"M 0 0 M1613.01 213.167 Q1607.92 213.167 1604.91 216.963 Q1601.92 220.76 1601.92 227.31 Q1601.92 233.838 1604.91 237.634 Q1607.92 241.431 1613.01 241.431 Q1618.1 241.431 1621.07 237.634 Q1624.05 233.838 1624.05 227.31 Q1624.05 220.76 1621.07 216.963 Q1618.1 213.167 1613.01 213.167 M1613.01 209.371 Q1620.28 209.371 1624.63 214.255 Q1628.98 219.116 1628.98 227.31 Q1628.98 235.482 1624.63 240.366 Q1620.28 245.227 1613.01 245.227 Q1605.72 245.227 1601.35 240.366 Q1596.99 235.505 1596.99 227.31 Q1596.99 219.116 1601.35 214.255 Q1605.72 209.371 1613.01 209.371 Z\" fill=\"#000000\" fill-rule=\"evenodd\" fill-opacity=\"1\" /><path clip-path=\"url(#clip700)\" d=\"M 0 0 M1640.23 240.667 L1640.23 254.417 L1635.95 254.417 L1635.95 218.63 L1640.23 218.63 L1640.23 222.565 Q1641.58 220.25 1643.61 219.139 Q1645.67 218.005 1648.52 218.005 Q1653.24 218.005 1656.18 221.755 Q1659.15 225.505 1659.15 231.616 Q1659.15 237.727 1656.18 241.477 Q1653.24 245.227 1648.52 245.227 Q1645.67 245.227 1643.61 244.116 Q1641.58 242.982 1640.23 240.667 M1654.72 231.616 Q1654.72 226.917 1652.78 224.255 Q1650.86 221.57 1647.48 221.57 Q1644.1 221.57 1642.16 224.255 Q1640.23 226.917 1640.23 231.616 Q1640.23 236.315 1642.16 239 Q1644.1 241.662 1647.48 241.662 Q1650.86 241.662 1652.78 239 Q1654.72 236.315 1654.72 231.616 Z\" fill=\"#000000\" fill-rule=\"evenodd\" fill-opacity=\"1\" /><path clip-path=\"url(#clip700)\" d=\"M 0 0 M1670.42 211.269 L1670.42 218.63 L1679.19 218.63 L1679.19 221.94 L1670.42 221.94 L1670.42 236.014 Q1670.42 239.185 1671.28 240.088 Q1672.15 240.991 1674.82 240.991 L1679.19 240.991 L1679.19 244.556 L1674.82 244.556 Q1669.89 244.556 1668.01 242.727 Q1666.14 240.875 1666.14 236.014 L1666.14 221.94 L1663.01 221.94 L1663.01 218.63 L1666.14 218.63 L1666.14 211.269 L1670.42 211.269 Z\" fill=\"#000000\" fill-rule=\"evenodd\" fill-opacity=\"1\" /><path clip-path=\"url(#clip700)\" d=\"M 0 0 M1684.79 218.63 L1689.05 218.63 L1689.05 244.556 L1684.79 244.556 L1684.79 218.63 M1684.79 208.537 L1689.05 208.537 L1689.05 213.931 L1684.79 213.931 L1684.79 208.537 Z\" fill=\"#000000\" fill-rule=\"evenodd\" fill-opacity=\"1\" /><path clip-path=\"url(#clip700)\" d=\"M 0 0 M1718.15 223.607 Q1719.75 220.736 1721.97 219.371 Q1724.19 218.005 1727.2 218.005 Q1731.25 218.005 1733.45 220.852 Q1735.65 223.676 1735.65 228.908 L1735.65 244.556 L1731.37 244.556 L1731.37 229.047 Q1731.37 225.32 1730.05 223.514 Q1728.73 221.709 1726.02 221.709 Q1722.71 221.709 1720.79 223.908 Q1718.87 226.107 1718.87 229.903 L1718.87 244.556 L1714.59 244.556 L1714.59 229.047 Q1714.59 225.297 1713.27 223.514 Q1711.95 221.709 1709.19 221.709 Q1705.93 221.709 1704.01 223.931 Q1702.09 226.13 1702.09 229.903 L1702.09 244.556 L1697.8 244.556 L1697.8 218.63 L1702.09 218.63 L1702.09 222.658 Q1703.54 220.273 1705.58 219.139 Q1707.62 218.005 1710.42 218.005 Q1713.24 218.005 1715.21 219.44 Q1717.2 220.875 1718.15 223.607 Z\" fill=\"#000000\" fill-rule=\"evenodd\" fill-opacity=\"1\" /><path clip-path=\"url(#clip700)\" d=\"M 0 0 M1755.93 231.523 Q1750.77 231.523 1748.77 232.704 Q1746.78 233.884 1746.78 236.732 Q1746.78 239 1748.27 240.343 Q1749.77 241.662 1752.34 241.662 Q1755.88 241.662 1758.01 239.162 Q1760.16 236.639 1760.16 232.472 L1760.16 231.523 L1755.93 231.523 M1764.42 229.764 L1764.42 244.556 L1760.16 244.556 L1760.16 240.621 Q1758.71 242.982 1756.53 244.116 Q1754.35 245.227 1751.21 245.227 Q1747.22 245.227 1744.86 243.005 Q1742.52 240.759 1742.52 237.009 Q1742.52 232.634 1745.44 230.412 Q1748.38 228.19 1754.19 228.19 L1760.16 228.19 L1760.16 227.773 Q1760.16 224.834 1758.22 223.236 Q1756.3 221.616 1752.8 221.616 Q1750.58 221.616 1748.47 222.148 Q1746.37 222.681 1744.42 223.746 L1744.42 219.81 Q1746.76 218.908 1748.96 218.468 Q1751.16 218.005 1753.24 218.005 Q1758.87 218.005 1761.65 220.922 Q1764.42 223.838 1764.42 229.764 Z\" fill=\"#000000\" fill-rule=\"evenodd\" fill-opacity=\"1\" /><path clip-path=\"url(#clip700)\" d=\"M 0 0 M1773.2 208.537 L1777.46 208.537 L1777.46 244.556 L1773.2 244.556 L1773.2 208.537 Z\" fill=\"#000000\" fill-rule=\"evenodd\" fill-opacity=\"1\" /><polyline clip-path=\"url(#clip700)\" style=\"stroke:#008000; stroke-width:4; stroke-opacity:1; fill:none\" points=\"\n",
       "  1248.3,287.756 1395.32,287.756 \n",
       "  \"/>\n",
       "<path clip-path=\"url(#clip700)\" d=\"M1321.81 313.356 L1303.71 305.855 L1296.21 287.756 L1303.71 269.657 L1321.81 262.156 L1339.91 269.657 L1347.41 287.756 L1339.91 305.855 Z\" fill=\"#008000\" fill-rule=\"evenodd\" fill-opacity=\"1\" stroke=\"#000000\" stroke-opacity=\"1\" stroke-width=\"5.12\"/>\n",
       "<path clip-path=\"url(#clip700)\" d=\"M 0 0 M1424.49 274.318 L1424.49 287.304 L1430.37 287.304 Q1433.64 287.304 1435.42 285.615 Q1437.2 283.925 1437.2 280.8 Q1437.2 277.698 1435.42 276.008 Q1433.64 274.318 1430.37 274.318 L1424.49 274.318 M1419.82 270.476 L1430.37 270.476 Q1436.18 270.476 1439.15 273.115 Q1442.13 275.73 1442.13 280.8 Q1442.13 285.915 1439.15 288.531 Q1436.18 291.147 1430.37 291.147 L1424.49 291.147 L1424.49 305.036 L1419.82 305.036 L1419.82 270.476 Z\" fill=\"#000000\" fill-rule=\"evenodd\" fill-opacity=\"1\" /><path clip-path=\"url(#clip700)\" d=\"M 0 0 M1448.22 269.017 L1452.48 269.017 L1452.48 305.036 L1448.22 305.036 L1448.22 269.017 Z\" fill=\"#000000\" fill-rule=\"evenodd\" fill-opacity=\"1\" /><path clip-path=\"url(#clip700)\" d=\"M 0 0 M1473.17 292.003 Q1468.01 292.003 1466.02 293.184 Q1464.03 294.364 1464.03 297.212 Q1464.03 299.48 1465.51 300.823 Q1467.02 302.142 1469.59 302.142 Q1473.13 302.142 1475.26 299.642 Q1477.41 297.119 1477.41 292.952 L1477.41 292.003 L1473.17 292.003 M1481.67 290.244 L1481.67 305.036 L1477.41 305.036 L1477.41 301.101 Q1475.95 303.462 1473.78 304.596 Q1471.6 305.707 1468.45 305.707 Q1464.47 305.707 1462.11 303.485 Q1459.77 301.239 1459.77 297.489 Q1459.77 293.114 1462.69 290.892 Q1465.63 288.67 1471.44 288.67 L1477.41 288.67 L1477.41 288.253 Q1477.41 285.314 1475.47 283.716 Q1473.54 282.096 1470.05 282.096 Q1467.83 282.096 1465.72 282.628 Q1463.61 283.161 1461.67 284.226 L1461.67 280.29 Q1464.01 279.388 1466.21 278.948 Q1468.41 278.485 1470.49 278.485 Q1476.11 278.485 1478.89 281.402 Q1481.67 284.318 1481.67 290.244 Z\" fill=\"#000000\" fill-rule=\"evenodd\" fill-opacity=\"1\" /><path clip-path=\"url(#clip700)\" d=\"M 0 0 M1511.99 289.388 L1511.99 305.036 L1507.73 305.036 L1507.73 289.527 Q1507.73 285.846 1506.3 284.017 Q1504.86 282.189 1501.99 282.189 Q1498.54 282.189 1496.55 284.388 Q1494.56 286.587 1494.56 290.383 L1494.56 305.036 L1490.28 305.036 L1490.28 279.11 L1494.56 279.11 L1494.56 283.138 Q1496.09 280.8 1498.15 279.642 Q1500.23 278.485 1502.94 278.485 Q1507.41 278.485 1509.7 281.263 Q1511.99 284.017 1511.99 289.388 Z\" fill=\"#000000\" fill-rule=\"evenodd\" fill-opacity=\"1\" /><path clip-path=\"url(#clip700)\" d=\"M 0 0 M1542.66 291.008 L1542.66 293.091 L1523.08 293.091 Q1523.36 297.489 1525.72 299.804 Q1528.1 302.096 1532.34 302.096 Q1534.79 302.096 1537.09 301.494 Q1539.4 300.892 1541.67 299.689 L1541.67 303.716 Q1539.38 304.688 1536.97 305.198 Q1534.56 305.707 1532.09 305.707 Q1525.88 305.707 1522.25 302.096 Q1518.64 298.485 1518.64 292.327 Q1518.64 285.962 1522.06 282.235 Q1525.51 278.485 1531.35 278.485 Q1536.58 278.485 1539.61 281.865 Q1542.66 285.221 1542.66 291.008 M1538.41 289.758 Q1538.36 286.263 1536.44 284.179 Q1534.54 282.096 1531.39 282.096 Q1527.83 282.096 1525.67 284.11 Q1523.54 286.124 1523.22 289.781 L1538.41 289.758 Z\" fill=\"#000000\" fill-rule=\"evenodd\" fill-opacity=\"1\" /><path clip-path=\"url(#clip700)\" d=\"M 0 0 M1553.87 271.749 L1553.87 279.11 L1562.64 279.11 L1562.64 282.42 L1553.87 282.42 L1553.87 296.494 Q1553.87 299.665 1554.73 300.568 Q1555.6 301.471 1558.27 301.471 L1562.64 301.471 L1562.64 305.036 L1558.27 305.036 Q1553.34 305.036 1551.46 303.207 Q1549.59 301.355 1549.59 296.494 L1549.59 282.42 L1546.46 282.42 L1546.46 279.11 L1549.59 279.11 L1549.59 271.749 L1553.87 271.749 Z\" fill=\"#000000\" fill-rule=\"evenodd\" fill-opacity=\"1\" /><path clip-path=\"url(#clip700)\" d=\"M 0 0 M1583.5 270.476 L1605.35 270.476 L1605.35 274.411 L1588.17 274.411 L1588.17 284.642 L1604.63 284.642 L1604.63 288.577 L1588.17 288.577 L1588.17 301.101 L1605.77 301.101 L1605.77 305.036 L1583.5 305.036 L1583.5 270.476 Z\" fill=\"#000000\" fill-rule=\"evenodd\" fill-opacity=\"1\" /><path clip-path=\"url(#clip700)\" d=\"M 0 0 M1625.05 292.003 Q1619.89 292.003 1617.9 293.184 Q1615.91 294.364 1615.91 297.212 Q1615.91 299.48 1617.39 300.823 Q1618.89 302.142 1621.46 302.142 Q1625 302.142 1627.13 299.642 Q1629.28 297.119 1629.28 292.952 L1629.28 292.003 L1625.05 292.003 M1633.54 290.244 L1633.54 305.036 L1629.28 305.036 L1629.28 301.101 Q1627.83 303.462 1625.65 304.596 Q1623.47 305.707 1620.33 305.707 Q1616.35 305.707 1613.98 303.485 Q1611.65 301.239 1611.65 297.489 Q1611.65 293.114 1614.56 290.892 Q1617.5 288.67 1623.31 288.67 L1629.28 288.67 L1629.28 288.253 Q1629.28 285.314 1627.34 283.716 Q1625.42 282.096 1621.92 282.096 Q1619.7 282.096 1617.6 282.628 Q1615.49 283.161 1613.54 284.226 L1613.54 280.29 Q1615.88 279.388 1618.08 278.948 Q1620.28 278.485 1622.36 278.485 Q1627.99 278.485 1630.77 281.402 Q1633.54 284.318 1633.54 290.244 Z\" fill=\"#000000\" fill-rule=\"evenodd\" fill-opacity=\"1\" /><path clip-path=\"url(#clip700)\" d=\"M 0 0 M1657.34 283.091 Q1656.62 282.675 1655.77 282.49 Q1654.93 282.281 1653.91 282.281 Q1650.3 282.281 1648.36 284.642 Q1646.44 286.98 1646.44 291.378 L1646.44 305.036 L1642.16 305.036 L1642.16 279.11 L1646.44 279.11 L1646.44 283.138 Q1647.78 280.777 1649.93 279.642 Q1652.09 278.485 1655.16 278.485 Q1655.6 278.485 1656.14 278.554 Q1656.67 278.601 1657.32 278.716 L1657.34 283.091 Z\" fill=\"#000000\" fill-rule=\"evenodd\" fill-opacity=\"1\" /><path clip-path=\"url(#clip700)\" d=\"M 0 0 M1666.02 271.749 L1666.02 279.11 L1674.79 279.11 L1674.79 282.42 L1666.02 282.42 L1666.02 296.494 Q1666.02 299.665 1666.88 300.568 Q1667.76 301.471 1670.42 301.471 L1674.79 301.471 L1674.79 305.036 L1670.42 305.036 Q1665.49 305.036 1663.61 303.207 Q1661.74 301.355 1661.74 296.494 L1661.74 282.42 L1658.61 282.42 L1658.61 279.11 L1661.74 279.11 L1661.74 271.749 L1666.02 271.749 Z\" fill=\"#000000\" fill-rule=\"evenodd\" fill-opacity=\"1\" /><path clip-path=\"url(#clip700)\" d=\"M 0 0 M1701.95 289.388 L1701.95 305.036 L1697.69 305.036 L1697.69 289.527 Q1697.69 285.846 1696.25 284.017 Q1694.82 282.189 1691.95 282.189 Q1688.5 282.189 1686.51 284.388 Q1684.52 286.587 1684.52 290.383 L1684.52 305.036 L1680.23 305.036 L1680.23 269.017 L1684.52 269.017 L1684.52 283.138 Q1686.04 280.8 1688.1 279.642 Q1690.19 278.485 1692.9 278.485 Q1697.36 278.485 1699.65 281.263 Q1701.95 284.017 1701.95 289.388 Z\" fill=\"#000000\" fill-rule=\"evenodd\" fill-opacity=\"1\" /><polyline clip-path=\"url(#clip700)\" style=\"stroke:#ff0000; stroke-width:4; stroke-opacity:1; fill:none\" points=\"\n",
       "  1248.3,348.236 1395.32,348.236 \n",
       "  \"/>\n",
       "<path clip-path=\"url(#clip700)\" d=\"M 0 0 M1436.21 349.312 Q1437.71 349.821 1439.12 351.488 Q1440.56 353.155 1441.99 356.071 L1446.74 365.516 L1441.72 365.516 L1437.3 356.65 Q1435.58 353.178 1433.96 352.044 Q1432.36 350.909 1429.59 350.909 L1424.49 350.909 L1424.49 365.516 L1419.82 365.516 L1419.82 330.956 L1430.37 330.956 Q1436.3 330.956 1439.22 333.433 Q1442.13 335.909 1442.13 340.909 Q1442.13 344.173 1440.61 346.326 Q1439.1 348.479 1436.21 349.312 M1424.49 334.798 L1424.49 347.067 L1430.37 347.067 Q1433.75 347.067 1435.47 345.516 Q1437.2 343.942 1437.2 340.909 Q1437.2 337.877 1435.47 336.349 Q1433.75 334.798 1430.37 334.798 L1424.49 334.798 Z\" fill=\"#000000\" fill-rule=\"evenodd\" fill-opacity=\"1\" /><path clip-path=\"url(#clip700)\" d=\"M 0 0 M1472.62 351.488 L1472.62 353.571 L1453.04 353.571 Q1453.31 357.969 1455.67 360.284 Q1458.06 362.576 1462.29 362.576 Q1464.75 362.576 1467.04 361.974 Q1469.36 361.372 1471.62 360.169 L1471.62 364.196 Q1469.33 365.168 1466.92 365.678 Q1464.52 366.187 1462.04 366.187 Q1455.84 366.187 1452.2 362.576 Q1448.59 358.965 1448.59 352.807 Q1448.59 346.442 1452.02 342.715 Q1455.47 338.965 1461.3 338.965 Q1466.53 338.965 1469.56 342.345 Q1472.62 345.701 1472.62 351.488 M1468.36 350.238 Q1468.31 346.743 1466.39 344.659 Q1464.49 342.576 1461.35 342.576 Q1457.78 342.576 1455.63 344.59 Q1453.5 346.604 1453.17 350.261 L1468.36 350.238 Z\" fill=\"#000000\" fill-rule=\"evenodd\" fill-opacity=\"1\" /><path clip-path=\"url(#clip700)\" d=\"M 0 0 M1492.73 329.497 L1492.73 333.039 L1488.66 333.039 Q1486.37 333.039 1485.47 333.965 Q1484.59 334.891 1484.59 337.298 L1484.59 339.59 L1491.6 339.59 L1491.6 342.9 L1484.59 342.9 L1484.59 365.516 L1480.3 365.516 L1480.3 342.9 L1476.23 342.9 L1476.23 339.59 L1480.3 339.59 L1480.3 337.784 Q1480.3 333.456 1482.32 331.488 Q1484.33 329.497 1488.71 329.497 L1492.73 329.497 Z\" fill=\"#000000\" fill-rule=\"evenodd\" fill-opacity=\"1\" /><path clip-path=\"url(#clip700)\" d=\"M 0 0 M1518.48 351.488 L1518.48 353.571 L1498.89 353.571 Q1499.17 357.969 1501.53 360.284 Q1503.92 362.576 1508.15 362.576 Q1510.6 362.576 1512.9 361.974 Q1515.21 361.372 1517.48 360.169 L1517.48 364.196 Q1515.19 365.168 1512.78 365.678 Q1510.37 366.187 1507.9 366.187 Q1501.69 366.187 1498.06 362.576 Q1494.45 358.965 1494.45 352.807 Q1494.45 346.442 1497.87 342.715 Q1501.32 338.965 1507.16 338.965 Q1512.39 338.965 1515.42 342.345 Q1518.48 345.701 1518.48 351.488 M1514.22 350.238 Q1514.17 346.743 1512.25 344.659 Q1510.35 342.576 1507.2 342.576 Q1503.64 342.576 1501.48 344.59 Q1499.35 346.604 1499.03 350.261 L1514.22 350.238 Z\" fill=\"#000000\" fill-rule=\"evenodd\" fill-opacity=\"1\" /><path clip-path=\"url(#clip700)\" d=\"M 0 0 M1540.49 343.571 Q1539.77 343.155 1538.91 342.97 Q1538.08 342.761 1537.06 342.761 Q1533.45 342.761 1531.51 345.122 Q1529.59 347.46 1529.59 351.858 L1529.59 365.516 L1525.3 365.516 L1525.3 339.59 L1529.59 339.59 L1529.59 343.618 Q1530.93 341.257 1533.08 340.122 Q1535.23 338.965 1538.31 338.965 Q1538.75 338.965 1539.29 339.034 Q1539.82 339.081 1540.47 339.196 L1540.49 343.571 Z\" fill=\"#000000\" fill-rule=\"evenodd\" fill-opacity=\"1\" /><path clip-path=\"url(#clip700)\" d=\"M 0 0 M1566.09 351.488 L1566.09 353.571 L1546.51 353.571 Q1546.79 357.969 1549.15 360.284 Q1551.53 362.576 1555.77 362.576 Q1558.22 362.576 1560.51 361.974 Q1562.83 361.372 1565.1 360.169 L1565.1 364.196 Q1562.8 365.168 1560.4 365.678 Q1557.99 366.187 1555.51 366.187 Q1549.31 366.187 1545.67 362.576 Q1542.06 358.965 1542.06 352.807 Q1542.06 346.442 1545.49 342.715 Q1548.94 338.965 1554.77 338.965 Q1560 338.965 1563.04 342.345 Q1566.09 345.701 1566.09 351.488 M1561.83 350.238 Q1561.79 346.743 1559.86 344.659 Q1557.97 342.576 1554.82 342.576 Q1551.25 342.576 1549.1 344.59 Q1546.97 346.604 1546.65 350.261 L1561.83 350.238 Z\" fill=\"#000000\" fill-rule=\"evenodd\" fill-opacity=\"1\" /><path clip-path=\"url(#clip700)\" d=\"M 0 0 M1594.63 349.868 L1594.63 365.516 L1590.37 365.516 L1590.37 350.007 Q1590.37 346.326 1588.94 344.497 Q1587.5 342.669 1584.63 342.669 Q1581.18 342.669 1579.19 344.868 Q1577.2 347.067 1577.2 350.863 L1577.2 365.516 L1572.92 365.516 L1572.92 339.59 L1577.2 339.59 L1577.2 343.618 Q1578.73 341.28 1580.79 340.122 Q1582.87 338.965 1585.58 338.965 Q1590.05 338.965 1592.34 341.743 Q1594.63 344.497 1594.63 349.868 Z\" fill=\"#000000\" fill-rule=\"evenodd\" fill-opacity=\"1\" /><path clip-path=\"url(#clip700)\" d=\"M 0 0 M1621.78 340.585 L1621.78 344.567 Q1619.98 343.571 1618.15 343.085 Q1616.35 342.576 1614.49 342.576 Q1610.35 342.576 1608.06 345.215 Q1605.77 347.831 1605.77 352.576 Q1605.77 357.321 1608.06 359.96 Q1610.35 362.576 1614.49 362.576 Q1616.35 362.576 1618.15 362.09 Q1619.98 361.581 1621.78 360.585 L1621.78 364.52 Q1620 365.354 1618.08 365.77 Q1616.18 366.187 1614.03 366.187 Q1608.17 366.187 1604.72 362.506 Q1601.28 358.826 1601.28 352.576 Q1601.28 346.233 1604.75 342.599 Q1608.24 338.965 1614.31 338.965 Q1616.28 338.965 1618.15 339.382 Q1620.03 339.775 1621.78 340.585 Z\" fill=\"#000000\" fill-rule=\"evenodd\" fill-opacity=\"1\" /><path clip-path=\"url(#clip700)\" d=\"M 0 0 M1651.37 351.488 L1651.37 353.571 L1631.78 353.571 Q1632.06 357.969 1634.42 360.284 Q1636.81 362.576 1641.04 362.576 Q1643.5 362.576 1645.79 361.974 Q1648.1 361.372 1650.37 360.169 L1650.37 364.196 Q1648.08 365.168 1645.67 365.678 Q1643.27 366.187 1640.79 366.187 Q1634.59 366.187 1630.95 362.576 Q1627.34 358.965 1627.34 352.807 Q1627.34 346.442 1630.77 342.715 Q1634.22 338.965 1640.05 338.965 Q1645.28 338.965 1648.31 342.345 Q1651.37 345.701 1651.37 351.488 M1647.11 350.238 Q1647.06 346.743 1645.14 344.659 Q1643.24 342.576 1640.09 342.576 Q1636.53 342.576 1634.38 344.59 Q1632.25 346.604 1631.92 350.261 L1647.11 350.238 Z\" fill=\"#000000\" fill-rule=\"evenodd\" fill-opacity=\"1\" /></svg>\n"
      ]
     },
     "execution_count": 169,
     "metadata": {},
     "output_type": "execute_result"
    }
   ],
   "source": [
    "Xsol, Usol = unpackZ(knots, z_sol)\n",
    "plot3d_orbit(Xsol, \"Locally Optimal\")\n",
    "X, U = unpackZ(knots, z)\n",
    "plot3d!(X[1, :], X[2, :], X[3,:], label = \"Reference\", lw = 2, color=\"red\")\n"
   ]
  },
  {
   "cell_type": "code",
   "execution_count": null,
   "metadata": {
    "scrolled": false
   },
   "outputs": [],
   "source": [
    "knots_final = 10000\n",
    "Xfinal = zeros((Nx, knots_final))\n",
    "Xfinal[:, 1] .= Xsol[:,end]\n",
    "for k = 1:knots_final-1\n",
    "    Xfinal[:, k+1] = dynamics_rk8(Xfinal[:, k], zeros(3), 1e-2)\n",
    "end\n",
    "Plots.display(plot!(Xfinal[1,:], Xfinal[2,:], Xfinal[3,:], label=\"Final Orbit\", color=\"gold\"))"
   ]
  },
  {
   "cell_type": "code",
   "execution_count": null,
   "metadata": {
    "scrolled": true
   },
   "outputs": [],
   "source": [
    "for i=2:5\n",
    "    println(\"#### STARTING Ref traj $(i) ####\")\n",
    "    flush(stdout)\n",
    "    \n",
    "end\n",
    "    "
   ]
  },
  {
   "cell_type": "code",
   "execution_count": null,
   "metadata": {
    "scrolled": false
   },
   "outputs": [],
   "source": [
    "function evaluate_traj(filename, num_orbits)    \n",
    "    out = load(filename)\n",
    "    z_ref = out[\"ref_traj\"]\n",
    "    z_sol = out[\"opt_traj\"]\n",
    "    status = out[\"status\"]\n",
    "\n",
    "    Xsol,Usol = unpackZ(knots, z_sol)\n",
    "    X, U = unpackZ(knots, z_ref)\n",
    "    plot(Xsol[1, :], Xsol[2, :], aspect_ratio=:equal, lims=(-semiMajorAxis_goal*3,semiMajorAxis_goal*3), label=\"Solution\", lw=2)\n",
    "    xlabel!(\"Orbital Units\")\n",
    "    ylabel!(\"Orbital Units\")\n",
    "\n",
    "    plot!([goal_orbit.x0[1]], [goal_orbit.x0[2]], markershape=:xcross, markersize=5, label=\"Goal State\")\n",
    "\n",
    "    plot!([0], [0], lw=1, markershape=:o, label=\"Planet Earth\")\n",
    "\n",
    "    plot!(X[1, :], X[2, :], title = \"$(status): $(num_orbits) orbit reference Tmax=10\", label = \"Reference\", lw = 3)\n",
    "    flush(stdout)\n",
    "    \n",
    "    knots_final = 10000\n",
    "    Xfinal = zeros((Nx, knots_final))\n",
    "    Xfinal[:, 1] .= Xsol[:,end]\n",
    "    for k = 1:knots_final-1\n",
    "        Xfinal[:, k+1] = dynamics_rk8(Xfinal[:, k], zeros(3), 1e-2)\n",
    "    end\n",
    "    Plots.display(plot!(Xfinal[1,:], Xfinal[2,:], label=\"Final Orbit\" ))\n",
    "    \n",
    "    return sum(Usol[4, :])\n",
    "end\n",
    "\n",
    "for num_orbits=1:5\n",
    "# num_orbits = 1\n",
    "    filename = \"/home/aipex/Mitch/16-745_final_project/reference_$(num_orbits).jld\"\n",
    "\n",
    "    final_time = evaluate_traj(filename, num_orbits)\n",
    "#     display(final_time)\n",
    "end"
   ]
  },
  {
   "cell_type": "code",
   "execution_count": null,
   "metadata": {
    "scrolled": false
   },
   "outputs": [],
   "source": [
    "    \n",
    "for i=1:5\n",
    "    filename = \"/home/aipex/Mitch/16-745_final_project/reference_$(i).jld\"\n",
    "\n",
    "    out = load(filename)\n",
    "    z_ref = out[\"ref_traj\"]\n",
    "    z_sol = out[\"opt_traj\"]\n",
    "    status = out[\"status\"]\n",
    "\n",
    "    Xsol,Usol = unpackZ(knots, z_sol)\n",
    "    time = [0.0]\n",
    "    for k = 2:knots\n",
    "        push!(time, time[k-1]+Usol[4,k-1])\n",
    "    end\n",
    "    print(sum(Usol[4,:]))\n",
    "    if i == 1\n",
    "        plot(time[1:knots-1], [norm(Usol[1:3, k]) for k=1:knots-1], \n",
    "            label=\"Umag $(i)\", \n",
    "            xlabel=\"Time [Transfer Orbit Periods]\", \n",
    "            ylabel=\"Thrust Mag\", \n",
    "            title=\"Thrust Mag vs. Time: Reference orbits $(i)\")\n",
    "    elseif i == 5\n",
    "        Plots.display(plot!(time[1:knots-1], [norm(Usol[1:3, k]) for k=1:knots-1], \n",
    "            label=\"Umag $(i)\"))\n",
    "    else\n",
    "        plot!(time[1:knots-1], [norm(Usol[1:3, k]) for k=1:knots-1], \n",
    "            label=\"Umag $(i)\")\n",
    "    end\n",
    "    \n",
    "end\n",
    "\n",
    "# for k=2:knots-2\n",
    "#     Plots.display(plot!([k], [norm(Usol[1:3, k])], label=\"Ux\"))\n",
    "# end\n",
    "\n",
    "# plot!(1:knots-1, Usol[2, :], label=\"Uy\")\n",
    "# plot!(1:knots-1, Usol[3, :], label=\"Uz\")"
   ]
  },
  {
   "cell_type": "code",
   "execution_count": null,
   "metadata": {
    "scrolled": true
   },
   "outputs": [],
   "source": [
    "Xsol,Usol = unpackZ(knots, z_sol)\n",
    "plot(Xsol[1, :], Xsol[2, :], aspect_ratio=:equal, lims=(-semiMajorAxis_goal*3,semiMajorAxis_goal*3), label=\"Solution\", lw=2)\n",
    "xlabel!(\"Orbital Units\")\n",
    "ylabel!(\"Orbital Units\")\n",
    "plot!([goal_orbit.x0[1]], [goal_orbit.x0[2]], markershape=:xcross, markersize=5, label=\"Goal State\")\n",
    "plot!([0], [0], lw=1, markershape=:o, label=\"Planet Earth\")\n",
    "plot!(X[1, :], X[2, :], title = \"Optimal Solution Tmax=10\", label = \"Reference\", lw = 3)\n",
    "sum(Usol[4,:])"
   ]
  },
  {
   "cell_type": "code",
   "execution_count": null,
   "metadata": {
    "scrolled": true
   },
   "outputs": [],
   "source": [
    "knots_final = 10000\n",
    "Xfinal = zeros((Nx, knots_final))\n",
    "Xfinal[:, 1] .= Xsol[:,end]\n",
    "for k = 1:knots_final-1\n",
    "    Xfinal[:, k+1] = dynamics_rk8(Xfinal[:, k], zeros(3), 1e-2)\n",
    "end\n",
    "plot!(Xfinal[1,:], Xfinal[2,:], )"
   ]
  },
  {
   "cell_type": "code",
   "execution_count": null,
   "metadata": {
    "scrolled": true
   },
   "outputs": [],
   "source": [
    "plot(1:knots-1, Usol[1, :], label=\"Ux\")\n",
    "plot!(1:knots-1, Usol[2, :], label=\"Uy\")\n",
    "plot!(1:knots-1, Usol[3, :], label=\"Uz\")"
   ]
  },
  {
   "cell_type": "code",
   "execution_count": null,
   "metadata": {
    "scrolled": true
   },
   "outputs": [],
   "source": [
    "using Plots\n",
    "# define the Lorenz attractor\n",
    "Base.@kwdef mutable struct Trajectory\n",
    "#     dt::Float64 = 0.02\n",
    "#     σ::Float64 = 10\n",
    "#     ρ::Float64 = 28\n",
    "#     β::Float64 = 8/3\n",
    "    x::Float64 = Xsol[1,1]\n",
    "    y::Float64 = Xsol[2,1]\n",
    "    z::Float64 = Xsol[3,1]\n",
    "    ux::Float64 = Usol[1,1]\n",
    "    uy::Float64 = Usol[2,1]\n",
    "    uz::Float64 = Usol[3,1]\n",
    "    i::Int = 0\n",
    "end\n",
    "\n",
    "function step!(l::Trajectory)\n",
    "    l.i += 1\n",
    "    l.x = Xsol[1, l.i]\n",
    "    l.y = Xsol[2, l.i]\n",
    "    l.z = Xsol[3, l.i]\n",
    "#     l.ux = U[1, l.i]\n",
    "#     l.uy = U[2, l.i]\n",
    "#     l.uz = U[3, l.i]\n",
    "    \n",
    "#    \n",
    "end\n",
    "\n",
    "t = Trajectory()\n",
    "\n",
    "\n",
    "# initialize a 3D plot with 1 empty series\n",
    "plt = plot3d(\n",
    "    1,\n",
    "    lims=(-semiMajorAxis_goal*1.25,semiMajorAxis_goal*1.25),\n",
    "#     xlim = (-30, 30),\n",
    "#     ylim = (-30, 30),\n",
    "#     zlim = (0, 60),\n",
    "    title = \"Tmax = 1.0\",\n",
    "    marker = 2,\n",
    "    label = \"Reference Trajectory\", \n",
    "    camera = (45, 45), \n",
    "    aspect_ratio=:equal,\n",
    ")\n",
    "plot!([0], [0], [0], markershape=:o, markersize=3, label=\"Planet Earth\", color=:blue)\n",
    "xlabel!(\"Orbital Units\")\n",
    "ylabel!(\"Orbital Units\")\n",
    "# label!(\"Orbital Units\")\n",
    "# build an animated gif by pushing new points to the plot, saving every 10th frame\n",
    "@gif for i=1:knots\n",
    "    step!(t)\n",
    "    push!(plt, t.x, t.y, t.z)\n",
    "\n",
    "end every 10"
   ]
  },
  {
   "cell_type": "markdown",
   "metadata": {},
   "source": [
    "# DIRCOL Algorithm"
   ]
  },
  {
   "cell_type": "code",
   "execution_count": null,
   "metadata": {
    "scrolled": true
   },
   "outputs": [],
   "source": [
    "# TASK: Complete implement DIRCOL Algo\n",
    "\n"
   ]
  },
  {
   "cell_type": "markdown",
   "metadata": {},
   "source": [
    "### Forward Pass"
   ]
  },
  {
   "cell_type": "code",
   "execution_count": null,
   "metadata": {
    "scrolled": true
   },
   "outputs": [],
   "source": [
    "# TASK: Complete forward simulation of satelite "
   ]
  },
  {
   "cell_type": "markdown",
   "metadata": {},
   "source": [
    "## Part (b): Simple trajectory \n",
    "Planar example with quibit interpolation and no Thurst conditions"
   ]
  },
  {
   "cell_type": "code",
   "execution_count": null,
   "metadata": {
    "scrolled": true
   },
   "outputs": [],
   "source": [
    "# Task Solve Simple Trajectory"
   ]
  },
  {
   "cell_type": "code",
   "execution_count": null,
   "metadata": {
    "scrolled": true
   },
   "outputs": [],
   "source": [
    "# vis = Visualizer()\n",
    "# set_mesh!(vis, model)\n",
    "# render(vis)"
   ]
  },
  {
   "cell_type": "code",
   "execution_count": null,
   "metadata": {
    "scrolled": true
   },
   "outputs": [],
   "source": [
    "# visualize!(vis, model, tf, Xline)"
   ]
  },
  {
   "cell_type": "markdown",
   "metadata": {},
   "source": [
    "## Part (c): Higher Order DIRCOL\n",
    "Solve the simple planar problem with unconstrained thrust with higher order DIRCOL 3->8th order"
   ]
  },
  {
   "cell_type": "code",
   "execution_count": null,
   "metadata": {
    "scrolled": true
   },
   "outputs": [],
   "source": [
    "# TASK: Implement the following method"
   ]
  },
  {
   "cell_type": "code",
   "execution_count": null,
   "metadata": {
    "scrolled": true
   },
   "outputs": [],
   "source": [
    "# TASK: Plot the comparison\n"
   ]
  },
  {
   "cell_type": "markdown",
   "metadata": {},
   "source": [
    "## Part (d): Inequality Constraints \n",
    "Using the thruster constraints solve the optimization problem"
   ]
  },
  {
   "cell_type": "code",
   "execution_count": null,
   "metadata": {
    "scrolled": true
   },
   "outputs": [],
   "source": [
    "# TASK: Inequality constraints"
   ]
  },
  {
   "cell_type": "code",
   "execution_count": null,
   "metadata": {
    "scrolled": true
   },
   "outputs": [],
   "source": [
    "# render(vis)"
   ]
  },
  {
   "cell_type": "code",
   "execution_count": null,
   "metadata": {
    "scrolled": true
   },
   "outputs": [],
   "source": [
    "# visualize!(vis, model, tf, Xflip)"
   ]
  },
  {
   "cell_type": "markdown",
   "metadata": {},
   "source": [
    "## Part (e): Non-Planar Satellite Control\n"
   ]
  },
  {
   "cell_type": "code",
   "execution_count": null,
   "metadata": {
    "scrolled": true
   },
   "outputs": [],
   "source": [
    "# TASK: Non-Planar Control"
   ]
  },
  {
   "cell_type": "markdown",
   "metadata": {},
   "source": [
    "## TESTS"
   ]
  },
  {
   "cell_type": "code",
   "execution_count": null,
   "metadata": {
    "scrolled": true
   },
   "outputs": [],
   "source": [
    "# run_tests();"
   ]
  }
 ],
 "metadata": {
  "kernelspec": {
   "display_name": "Julia 1.6.1",
   "language": "julia",
   "name": "julia-1.6"
  },
  "language_info": {
   "file_extension": ".jl",
   "mimetype": "application/julia",
   "name": "julia",
   "version": "1.6.1"
  }
 },
 "nbformat": 4,
 "nbformat_minor": 4
}
