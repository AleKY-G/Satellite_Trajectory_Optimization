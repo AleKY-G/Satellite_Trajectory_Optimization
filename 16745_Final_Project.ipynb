{
  "nbformat": 4,
  "nbformat_minor": 0,
  "metadata": {
    "colab": {
      "name": "16745_Final_Project.ipynb",
      "provenance": [],
      "collapsed_sections": [],
      "authorship_tag": "ABX9TyOsoZfFtMezXbqNXWVYX/Tb",
      "include_colab_link": true
    },
    "kernelspec": {
      "name": "python3",
      "display_name": "Python 3"
    },
    "language_info": {
      "name": "python"
    }
  },
  "cells": [
    {
      "cell_type": "markdown",
      "metadata": {
        "id": "view-in-github",
        "colab_type": "text"
      },
      "source": [
        "<a href=\"https://colab.research.google.com/github/mfogelson/16-745_final_project/blob/main/16745_Final_Project.ipynb\" target=\"_parent\"><img src=\"https://colab.research.google.com/assets/colab-badge.svg\" alt=\"Open In Colab\"/></a>"
      ]
    },
    {
      "cell_type": "code",
      "metadata": {
        "colab": {
          "base_uri": "https://localhost:8080/"
        },
        "id": "g_lKVcIDf5Rb",
        "outputId": "a11203de-56f4-41c5-ce85-c97115636b2d"
      },
      "source": [
        "!curl -sSL \"https://julialang-s3.julialang.org/bin/linux/x64/1.2/julia-1.5.3-linux-x86_64.tar.gz\" -o julia.tar.gz\n",
        "!tar -xzf julia.tar.gz -C /usr --strip-components 1\n",
        "!rm -rf julia.tar.gz*\n",
        "!julia -e 'using Pkg; pkg\"add IJulia; precompile\"'\n",
        "!echo \"DONE\""
      ],
      "execution_count": 2,
      "outputs": [
        {
          "output_type": "stream",
          "text": [
            "\n",
            "gzip: stdin: not in gzip format\n",
            "tar: Child returned status 1\n",
            "tar: Error is not recoverable: exiting now\n",
            "  Updating registry at `~/.julia/registries/General`\n",
            "  Updating git-repo `https://github.com/JuliaRegistries/General.git`\n",
            "\u001b[?25l\u001b[2K\u001b[?25h Resolving package versions...\n",
            "  Updating `~/.julia/environments/v1.2/Project.toml`\n",
            " [no changes]\n",
            "  Updating `~/.julia/environments/v1.2/Manifest.toml`\n",
            " [no changes]\n",
            "Precompiling project...\n",
            "DONE\n"
          ],
          "name": "stdout"
        }
      ]
    },
    {
      "cell_type": "code",
      "metadata": {
        "colab": {
          "base_uri": "https://localhost:8080/"
        },
        "id": "jiHOT2Bagifs",
        "outputId": "ab9ab4b7-3c10-417a-f010-8bf2468e055c"
      },
      "source": [
        "!julia --version"
      ],
      "execution_count": 3,
      "outputs": [
        {
          "output_type": "stream",
          "text": [
            "julia version 1.2.0\n"
          ],
          "name": "stdout"
        }
      ]
    },
    {
      "cell_type": "markdown",
      "metadata": {
        "id": "nuAhDlzchG95"
      },
      "source": [
        "# 16-745 Final Project: GTO to GO \n",
        "## By: Jusin Morris, Alex Withers, Mitchell Fogelson\n",
        "## Date: 04/01/21\n",
        "\n",
        "### Description: \n",
        "### Controlling a satallite to move from 1 geo-synchronous orbit to another \n",
        " "
      ]
    },
    {
      "cell_type": "markdown",
      "metadata": {
        "id": "WCefNbErhgac"
      },
      "source": [
        "### Part 1: Dynamics"
      ]
    },
    {
      "cell_type": "code",
      "metadata": {
        "id": "gRcxBy-shT0F"
      },
      "source": [
        ""
      ],
      "execution_count": null,
      "outputs": []
    }
  ]
}