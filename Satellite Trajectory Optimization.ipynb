{
 "cells": [
  {
   "cell_type": "code",
   "execution_count": 2,
   "metadata": {
    "scrolled": true
   },
   "outputs": [],
   "source": [
    "import Pkg; Pkg.activate(joinpath(@__DIR__,\"..\")); Pkg.instantiate();\n",
    "# Pkg.add(\"ForwardDiff\")\n",
    "# Pkg.add(\"RobotDynamics\")\n",
    "# Pkg.add(\"LinearAlgebra\")\n",
    "# Pkg.add(\"StaticArrays\")\n",
    "# Pkg.add(\"SparseArrays\")\n",
    "# Pkg.add(\"Plots\")\n",
    "# Pkg.add(\"Printf\")\n",
    "# Pkg.add(\"Ipopt\")\n",
    "# Pkg.add(\"MathOptInterface\")\n",
    "# Pkg.add(\"TrajOptPlots\")\n",
    "# Pkg.add(\"JLD\")\n",
    "# Pkg.add(\"Symbolics\")\n",
    "Pkg.add(\"Rotations\")\n",
    "using ForwardDiff\n",
    "using Test\n",
    "using RobotDynamics\n",
    "using LinearAlgebra\n",
    "using StaticArrays\n",
    "using SparseArrays\n",
    "using Plots\n",
    "using Ipopt\n",
    "using MathOptInterface\n",
    "using TrajOptPlots\n",
    "using JLD\n",
    "using Symbolics\n",
    "const MOI = MathOptInterface\n",
    "using Rotations\n",
    "# Pkg.add(\"Multi-Threading\")\n",
    "# using Multi-Threading\n",
    "# using PyPlots\n",
    "using Printf\n",
    "\n",
    "# include(\"quadratic_cost.jl\")\n"
   ]
  },
  {
   "cell_type": "markdown",
   "metadata": {},
   "source": [
    "# Final Project Info\n",
    "In this we present a geostationary transfer orbit to a geosynchronous (GSO) or geostationary orbit (GEO).  We use Keplerian Orbital Dynamics to model our system. We make several assumptions like Earth Reference Frame, Spherical Earth, Kepler Dynamics. \n",
    "\n",
    "## The Model\n",
    "We'll be using the Kepler Dynamics:\n",
    "\n",
    "$\\newcommand{\\norm}[1]{\\left\\lVert#1\\right\\rVert}$\n",
    "\n",
    "$$ \n",
    "\\ddot{r} = F = \\frac{-\\mu}{\\norm{r}^3}*r+u \\\\\n",
    "x = [r, \\dot{r}] \\\\\n",
    "\\norm{u} \\le Tmax\n",
    "$$\n",
    "with the following model parameters:\n",
    "* $\\mu$: Gravitational Parameter = 63781\n",
    "* $r$: distance to earth center\n",
    "* $u$: control of ion thruster"
   ]
  },
  {
   "cell_type": "markdown",
   "metadata": {},
   "source": [
    "### Problem Setup"
   ]
  },
  {
   "cell_type": "code",
   "execution_count": 3,
   "metadata": {
    "scrolled": true
   },
   "outputs": [
    {
     "data": {
      "text/plain": [
       "make_orbit (generic function with 1 method)"
      ]
     },
     "execution_count": 3,
     "metadata": {},
     "output_type": "execute_result"
    }
   ],
   "source": [
    "# Problem Setup\n",
    "\n",
    "Nx = 6 # (x, y, z, ẋ, ẏ, ż)\n",
    "Nu = 4 # (ax, ay, az, h)\n",
    "\n",
    "\n",
    "#cartesian and ECI\n",
    "\n",
    "earthRadius_km = 6378.1 # [km]\n",
    "LEO_km = 500 #km above sealevel #circular low earth orbit # 250km \n",
    "GSO_km = 35786 #km above sealevel #circular geosychonous orbit\n",
    "μ_km_s = 3.986*10e5 #gravitational0 parameter [km^3 / s^2]\n",
    "semiMajorAxis_scale = (GSO_km+earthRadius_km+earthRadius_km+LEO_km)/2\n",
    "period_scale = sqrt(semiMajorAxis_scale^3/μ_km_s)*2*pi\n",
    "μ = μ_km_s*period_scale^2/semiMajorAxis_scale^3  #μ(OU^3/P^2)\n",
    "\n",
    "struct Orbit{T}\n",
    "    semiMajorAxis::T\n",
    "    period::T\n",
    "    perigee::T #closest radius to earth\n",
    "    perigee_V::T #velocity at perigee\n",
    "    x0::Vector{T}\n",
    "#     function Orbit(x0) \n",
    "#         print(x0) #best is to input point with velocity and calucate useful parts of orbit\n",
    "#     end\n",
    "end\n",
    "\n",
    "function make_orbit(x0)\n",
    "    velocity = norm(x0[4:end])\n",
    "    \n",
    "    radius = norm(x0[1:3])\n",
    "    \n",
    "    semiMajorAxis = 1/(-velocity^2/μ+2/radius)  #reverse vis a viv\n",
    "    \n",
    "    period = sqrt(semiMajorAxis^3/μ)*2*pi       #period equation\n",
    "    \n",
    "    E = velocity^2/2 - μ/radius   #specific energy of satellite\n",
    "    \n",
    "    J = norm(cross(x0[1:3],x0[4:end]))           #specific momentum of satellite\n",
    "    \n",
    "    perigee = -μ/(2*E) - 1/2*sqrt(μ^2/(E^2)+2*J^2/E) #solve quadratic when velocity of radius is 0\n",
    "    \n",
    "    perigee_v =  sqrt(μ*(2.0/perigee-1.0/semiMajorAxis)) # Vis a Viv\n",
    "    apogee  = -μ/(2*E) + 1/2(μ^2/(E^2)+2*J^2/E) #solve quadratic when velocity of radius is 0\n",
    "    apogee_v =  sqrt(μ*(2.0/apogee-1.0/semiMajorAxis)) # Vis a Viv\n",
    "    return Orbit(semiMajorAxis, period, perigee, perigee_v, x0)\n",
    "end"
   ]
  },
  {
   "cell_type": "code",
   "execution_count": 4,
   "metadata": {
    "scrolled": true
   },
   "outputs": [
    {
     "data": {
      "text/plain": [
       "Orbit{Float64}(1.0, 1.0, 0.28049720444841386, 15.556684458046954, [0.28049720444841386, 0.0, 0.0, 0.0, 15.556684458046954, 0.0])"
      ]
     },
     "execution_count": 4,
     "metadata": {},
     "output_type": "execute_result"
    }
   ],
   "source": [
    "# Geosynchronous Transfer orbit (starting position)\n",
    "semiMajorAxis_transfer = (GSO_km+earthRadius_km+earthRadius_km+LEO_km)/(2*semiMajorAxis_scale) #OU\n",
    "instantRadius_transfer = (earthRadius_km+LEO_km) / semiMajorAxis_scale # #OU\n",
    "instantVelocity_transfer = sqrt(μ*(2.0/instantRadius_transfer-1.0/semiMajorAxis_transfer)) #sqrt(OU^3/P^2/OU) =OU/P\n",
    "period_transfer = sqrt(semiMajorAxis_transfer^3/μ)*2*pi\n",
    "x0    = [instantRadius_transfer, 0.0, 0.0, 0.0, instantVelocity_transfer, 0.0] # initial state #geosynchronous transfer orbit (GTO, where rocket dropped satellite off)\n",
    "                                                                             #many kilometers above Africa in an elliptical orbit \n",
    "transfer_orbit = Orbit(semiMajorAxis_transfer, period_transfer, instantRadius_transfer, instantVelocity_transfer, x0)"
   ]
  },
  {
   "cell_type": "code",
   "execution_count": 5,
   "metadata": {
    "scrolled": true
   },
   "outputs": [
    {
     "data": {
      "text/plain": [
       "3-element Vector{Float64}:\n",
       " 0.0\n",
       " 0.0\n",
       " 0.0"
      ]
     },
     "execution_count": 5,
     "metadata": {},
     "output_type": "execute_result"
    }
   ],
   "source": [
    "# Geosynchronous Orbit (goal position)\n",
    "semiMajorAxis_goal = 2*(earthRadius_km+GSO_km)/(2*semiMajorAxis_scale)\n",
    "instantRadius_goal = (earthRadius_km+GSO_km) / semiMajorAxis_scale\n",
    "instantVelocity_goal = sqrt(μ*(2.0/instantRadius_goal-1.0/semiMajorAxis_goal)) # VisViva\n",
    "period_goal = sqrt(semiMajorAxis_goal^3/μ)*2*pi\n",
    "xgoal = [instantRadius_goal, 0.0, 0.0, 0.0, instantVelocity_goal, 0.0] # goal state #circular geosychonous orbit above africa\n",
    "goal_orbit = Orbit(semiMajorAxis_goal, period_goal, instantRadius_goal, instantVelocity_goal, xgoal)\n",
    "ugto = zeros(3)                  # hover controls\n"
   ]
  },
  {
   "cell_type": "markdown",
   "metadata": {},
   "source": [
    "## Cost Function"
   ]
  },
  {
   "cell_type": "markdown",
   "metadata": {},
   "source": [
    "\\begin{equation}\n",
    "    \\text{minimize} \\sum_{k=1}^{N-1} (||u_k||^2 + (r_k-\\bar{r})^2 + \\frac{1}{r_k} * h_k) + (r_N-\\bar{r})^2+(\\dot{r}_N-\\bar{\\dot{r}})^2 \\\\\n",
    "    x_1=x_{init} \\\\\n",
    "    r_N = \\bar{r} \\\\\n",
    "    \\dot{r_N} = \\bar{\\dot{r}} \\\\\n",
    "    x_N \\cdot \\dot{x}_N = 0 \\\\\n",
    "    f(x_k, u_k) = x_{k+1} \\forall k \\\\\n",
    "    0\\leq||u_k||\\leq T_{max} \\forall k \\\\\n",
    "    h_{min}\\leq h_k \\leq h_{max} \\forall k\n",
    "\\end{equation}"
   ]
  },
  {
   "cell_type": "code",
   "execution_count": 6,
   "metadata": {
    "scrolled": true
   },
   "outputs": [
    {
     "data": {
      "text/plain": [
       "cost (generic function with 1 method)"
      ]
     },
     "execution_count": 6,
     "metadata": {},
     "output_type": "execute_result"
    }
   ],
   "source": [
    "function cost(prob, Z)\n",
    "    X, U = unpackZ(prob.N, Z)\n",
    "\n",
    "    N = prob.N\n",
    "    J = 0.0\n",
    "    for k = 1:N-1\n",
    "        r = norm(X[1:3, k])\n",
    "        J += norm(U[1:3, k])^2 + (r-goal_orbit.perigee)^2 + 1/r*U[end, k]\n",
    "    end \n",
    "    # Check major and semi-major axis \n",
    "    J += ((norm(X[1:3,end])-norm(xgoal[1:3]))^2+(norm(X[4:end,end])-norm(xgoal[4:end]))^2)\n",
    "    return J \n",
    "end"
   ]
  },
  {
   "cell_type": "markdown",
   "metadata": {},
   "source": [
    "## Dynamics"
   ]
  },
  {
   "cell_type": "code",
   "execution_count": 7,
   "metadata": {
    "scrolled": true
   },
   "outputs": [
    {
     "data": {
      "text/plain": [
       "dynamics (generic function with 1 method)"
      ]
     },
     "execution_count": 7,
     "metadata": {},
     "output_type": "execute_result"
    }
   ],
   "source": [
    "function dynamics(x, u)\n",
    "    # x = state [x, y, z, dx, dy, dz]\n",
    "    # u = control [ux, uy, uz, h]\n",
    "    r = x[1:3] #orbital units (OU)\n",
    "    ṙ = x[4:end] #\n",
    "    r̈ = (-μ/(norm(r)^3))*r + u[1:3] #μ(OU^3/P^2)/OU^3*OU\n",
    "    return [ṙ; r̈]\n",
    "end"
   ]
  },
  {
   "cell_type": "code",
   "execution_count": 8,
   "metadata": {
    "scrolled": true
   },
   "outputs": [
    {
     "data": {
      "text/plain": [
       "dynamics_rk4! (generic function with 1 method)"
      ]
     },
     "execution_count": 8,
     "metadata": {},
     "output_type": "execute_result"
    }
   ],
   "source": [
    "function dynamics_rk4!(x, u, h)\n",
    "    # x = state\n",
    "    # u = control\n",
    "    # h = time step\n",
    "#     ẋ = dynamics(x, u)\n",
    "    f1 = dynamics(x, u)\n",
    "    f2 = dynamics(x + 0.5*h*f1, u)\n",
    "    f3 = dynamics(x + 0.5*h*f2, u)\n",
    "    f4 = dynamics(x + h*f3, u)\n",
    "    x .+= (h/6.0)*(f1 + 2*f2 + 2*f3 + f4)\n",
    "end"
   ]
  },
  {
   "cell_type": "code",
   "execution_count": 9,
   "metadata": {
    "scrolled": true
   },
   "outputs": [
    {
     "data": {
      "text/plain": [
       "dynamics_rk4 (generic function with 1 method)"
      ]
     },
     "execution_count": 9,
     "metadata": {},
     "output_type": "execute_result"
    }
   ],
   "source": [
    "function dynamics_rk4(x, u, h) # Maybe rk8 or more\n",
    "    # x = state\n",
    "    # u = control\n",
    "    # h = time step\n",
    "#     ẋ = dynamics(x, u)\n",
    "    f1 = dynamics(x, u)\n",
    "    f2 = dynamics(x + 0.5*h*f1, u)\n",
    "    f3 = dynamics(x + 0.5*h*f2, u)\n",
    "    f4 = dynamics(x + h*f3, u)\n",
    "    return (x + (h/6.0)*(f1 + 2*f2 + 2*f3 + f4))\n",
    "end"
   ]
  },
  {
   "cell_type": "code",
   "execution_count": 10,
   "metadata": {
    "scrolled": true
   },
   "outputs": [
    {
     "data": {
      "text/plain": [
       "dynamics_rk8 (generic function with 1 method)"
      ]
     },
     "execution_count": 10,
     "metadata": {},
     "output_type": "execute_result"
    }
   ],
   "source": [
    "function dynamics_rk8(x, u, h)\n",
    "    f1 = dynamics(x, u)\n",
    "    f2 = dynamics(x+(h*4/27)*f1, u)\n",
    "    f3 = dynamics(x+ h/18*(f1+3*f2), u)\n",
    "    f4 = dynamics(x+ h/12*(f1+3*f3), u)\n",
    "    f5 = dynamics(x+ h/8*(f1+3*f4), u)\n",
    "    f6 = dynamics(x+ h/54*(12*f1-27*f3+42*f4+8*f5), u)\n",
    "    f7 = dynamics(x+ (h/4320)*(389*f1-54*f3+966*f4-824*f5+243*f6), u)\n",
    "    f8 = dynamics(x+  (h/20)*(-234*f1+81*f3-1164*f4+656*f5-122*f6+800*f7), u)\n",
    "    f9 = dynamics(x+ (h/288)*(-127*f1+18*f3-678*f4+456*f5-9*f6+576*f7+4*f8), u)\n",
    "    f10 = dynamics(x+ (h/820)*(1481*f1-81*f3+7104*f4-3376*f5+72*f6-5040*f7-60*f8+720*f9), u)\n",
    "    \n",
    "    return (x + h/840*(41*f1+27*f4+272*f5+27*f6+216*f7+216*f9+41*f10))\n",
    "\n",
    "end"
   ]
  },
  {
   "cell_type": "code",
   "execution_count": 11,
   "metadata": {
    "scrolled": true
   },
   "outputs": [
    {
     "data": {
      "text/plain": [
       "dynamics_rk8! (generic function with 1 method)"
      ]
     },
     "execution_count": 11,
     "metadata": {},
     "output_type": "execute_result"
    }
   ],
   "source": [
    "function dynamics_rk8!(x, u, h)\n",
    "    f1 = dynamics(x, u)\n",
    "    f2 = dynamics(x+(h*4/27)*f1, u)\n",
    "    f3 = dynamics(x+ h/18*(f1+3*f2), u)\n",
    "    f4 = dynamics(x+ h/12*(f1+3*f3), u)\n",
    "    f5 = dynamics(x+ h/8*(f1+3*f4), u)\n",
    "    f6 = dynamics(x+ h/54*(12*f1-27*f3+42*f4+8*f5), u)\n",
    "    f7 = dynamics(x+ (h/4320)*(389*f1-54*f3+966*f4-824*f5+243*f6), u)\n",
    "    f8 = dynamics(x+  (h/20)*(-234*f1+81*f3-1164*f4+656*f5-122*f6+800*f7), u)\n",
    "    f9 = dynamics(x+ (h/288)*(-127*f1+18*f3-678*f4+456*f5-9*f6+576*f7+4*f8), u)\n",
    "    f10 = dynamics(x+ (h/820)*(1481*f1-81*f3+7104*f4-3376*f5+72*f6-5040*f7-60*f8+720*f9), u)\n",
    "    \n",
    "    x .+= (h/840)*(41*f1+27*f4+272*f5+27*f6+216*f7+216*f9+41*f10)\n",
    "end"
   ]
  },
  {
   "cell_type": "code",
   "execution_count": 46,
   "metadata": {
    "scrolled": true
   },
   "outputs": [
    {
     "data": {
      "text/plain": [
       "plot_orbit (generic function with 3 methods)"
      ]
     },
     "execution_count": 46,
     "metadata": {},
     "output_type": "execute_result"
    }
   ],
   "source": [
    "function plot_orbit(orbit::Orbit, model, knots=100, orbits=1)\n",
    "    h = orbits/(knots-1)#t[2]-t[1]\n",
    "    traj = zeros(knots, Nx)\n",
    "    x = copy(orbit.x0)\n",
    "    traj[1,:] .= x\n",
    "    \n",
    "    u = zeros(3)\n",
    "\n",
    "    for i in 2:knots\n",
    "        x = model(x, u, h)\n",
    "        traj[i,:] .= x\n",
    "    end\n",
    "#     plot(t, energy)\n",
    "    plot(traj[:, 1], traj[:, 2], aspect_ratio=:equal, lims=(-semiMajorAxis_goal*1.5,semiMajorAxis_goal*1.5), label=\"Trajectory: knots=$(knots) orbits=$(orbits)\\n\")\n",
    "    xlabel!(\"Orbital Units\")\n",
    "    ylabel!(\"Orbital Units\")\n",
    "    Plots.display(title!(\"$(model) Trajectory\"))\n",
    "    return traj\n",
    "end"
   ]
  },
  {
   "cell_type": "code",
   "execution_count": 48,
   "metadata": {
    "scrolled": false
   },
   "outputs": [
    {
     "data": {
      "image/svg+xml": [
       "<?xml version=\"1.0\" encoding=\"utf-8\"?>\n",
       "<svg xmlns=\"http://www.w3.org/2000/svg\" xmlns:xlink=\"http://www.w3.org/1999/xlink\" width=\"600\" height=\"400\" viewBox=\"0 0 2400 1600\">\n",
       "<defs>\n",
       "  <clipPath id=\"clip570\">\n",
       "    <rect x=\"0\" y=\"0\" width=\"2400\" height=\"1600\"/>\n",
       "  </clipPath>\n",
       "</defs>\n",
       "<path clip-path=\"url(#clip570)\" d=\"\n",
       "M0 1600 L2400 1600 L2400 0 L0 0  Z\n",
       "  \" fill=\"#ffffff\" fill-rule=\"evenodd\" fill-opacity=\"1\"/>\n",
       "<defs>\n",
       "  <clipPath id=\"clip571\">\n",
       "    <rect x=\"480\" y=\"0\" width=\"1681\" height=\"1600\"/>\n",
       "  </clipPath>\n",
       "</defs>\n",
       "<path clip-path=\"url(#clip570)\" d=\"\n",
       "M631.897 1423.18 L1931.6 1423.18 L1931.6 123.472 L631.897 123.472  Z\n",
       "  \" fill=\"#ffffff\" fill-rule=\"evenodd\" fill-opacity=\"1\"/>\n",
       "<defs>\n",
       "  <clipPath id=\"clip572\">\n",
       "    <rect x=\"631\" y=\"123\" width=\"1301\" height=\"1301\"/>\n",
       "  </clipPath>\n",
       "</defs>\n",
       "<polyline clip-path=\"url(#clip572)\" style=\"stroke:#000000; stroke-width:2; stroke-opacity:0.1; fill:none\" points=\"\n",
       "  777.843,1423.18 777.843,123.472 \n",
       "  \"/>\n",
       "<polyline clip-path=\"url(#clip572)\" style=\"stroke:#000000; stroke-width:2; stroke-opacity:0.1; fill:none\" points=\"\n",
       "  1029.8,1423.18 1029.8,123.472 \n",
       "  \"/>\n",
       "<polyline clip-path=\"url(#clip572)\" style=\"stroke:#000000; stroke-width:2; stroke-opacity:0.1; fill:none\" points=\"\n",
       "  1281.75,1423.18 1281.75,123.472 \n",
       "  \"/>\n",
       "<polyline clip-path=\"url(#clip572)\" style=\"stroke:#000000; stroke-width:2; stroke-opacity:0.1; fill:none\" points=\"\n",
       "  1533.71,1423.18 1533.71,123.472 \n",
       "  \"/>\n",
       "<polyline clip-path=\"url(#clip572)\" style=\"stroke:#000000; stroke-width:2; stroke-opacity:0.1; fill:none\" points=\"\n",
       "  1785.66,1423.18 1785.66,123.472 \n",
       "  \"/>\n",
       "<polyline clip-path=\"url(#clip570)\" style=\"stroke:#000000; stroke-width:4; stroke-opacity:1; fill:none\" points=\"\n",
       "  631.897,1423.18 1931.6,1423.18 \n",
       "  \"/>\n",
       "<polyline clip-path=\"url(#clip570)\" style=\"stroke:#000000; stroke-width:4; stroke-opacity:1; fill:none\" points=\"\n",
       "  777.843,1423.18 777.843,1407.58 \n",
       "  \"/>\n",
       "<polyline clip-path=\"url(#clip570)\" style=\"stroke:#000000; stroke-width:4; stroke-opacity:1; fill:none\" points=\"\n",
       "  1029.8,1423.18 1029.8,1407.58 \n",
       "  \"/>\n",
       "<polyline clip-path=\"url(#clip570)\" style=\"stroke:#000000; stroke-width:4; stroke-opacity:1; fill:none\" points=\"\n",
       "  1281.75,1423.18 1281.75,1407.58 \n",
       "  \"/>\n",
       "<polyline clip-path=\"url(#clip570)\" style=\"stroke:#000000; stroke-width:4; stroke-opacity:1; fill:none\" points=\"\n",
       "  1533.71,1423.18 1533.71,1407.58 \n",
       "  \"/>\n",
       "<polyline clip-path=\"url(#clip570)\" style=\"stroke:#000000; stroke-width:4; stroke-opacity:1; fill:none\" points=\"\n",
       "  1785.66,1423.18 1785.66,1407.58 \n",
       "  \"/>\n",
       "<path clip-path=\"url(#clip570)\" d=\"M 0 0 M747.785 1467.02 L777.461 1467.02 L777.461 1470.96 L747.785 1470.96 L747.785 1467.02 Z\" fill=\"#000000\" fill-rule=\"evenodd\" fill-opacity=\"1\" /><path clip-path=\"url(#clip570)\" d=\"M 0 0 M791.581 1479.92 L807.9 1479.92 L807.9 1483.85 L785.956 1483.85 L785.956 1479.92 Q788.618 1477.16 793.201 1472.53 Q797.808 1467.88 798.988 1466.54 Q801.234 1464.01 802.113 1462.28 Q803.016 1460.52 803.016 1458.83 Q803.016 1456.07 801.072 1454.34 Q799.15 1452.6 796.048 1452.6 Q793.849 1452.6 791.396 1453.37 Q788.965 1454.13 786.187 1455.68 L786.187 1450.96 Q789.011 1449.82 791.465 1449.25 Q793.919 1448.67 795.956 1448.67 Q801.326 1448.67 804.521 1451.35 Q807.715 1454.04 807.715 1458.53 Q807.715 1460.66 806.905 1462.58 Q806.118 1464.48 804.011 1467.07 Q803.433 1467.74 800.331 1470.96 Q797.229 1474.15 791.581 1479.92 Z\" fill=\"#000000\" fill-rule=\"evenodd\" fill-opacity=\"1\" /><path clip-path=\"url(#clip570)\" d=\"M 0 0 M999.554 1467.02 L1029.23 1467.02 L1029.23 1470.96 L999.554 1470.96 L999.554 1467.02 Z\" fill=\"#000000\" fill-rule=\"evenodd\" fill-opacity=\"1\" /><path clip-path=\"url(#clip570)\" d=\"M 0 0 M1040.13 1479.92 L1047.77 1479.92 L1047.77 1453.55 L1039.46 1455.22 L1039.46 1450.96 L1047.72 1449.29 L1052.4 1449.29 L1052.4 1479.92 L1060.04 1479.92 L1060.04 1483.85 L1040.13 1483.85 L1040.13 1479.92 Z\" fill=\"#000000\" fill-rule=\"evenodd\" fill-opacity=\"1\" /><path clip-path=\"url(#clip570)\" d=\"M 0 0 M1281.75 1452.37 Q1278.14 1452.37 1276.31 1455.94 Q1274.51 1459.48 1274.51 1466.61 Q1274.51 1473.71 1276.31 1477.28 Q1278.14 1480.82 1281.75 1480.82 Q1285.39 1480.82 1287.19 1477.28 Q1289.02 1473.71 1289.02 1466.61 Q1289.02 1459.48 1287.19 1455.94 Q1285.39 1452.37 1281.75 1452.37 M1281.75 1448.67 Q1287.56 1448.67 1290.62 1453.27 Q1293.7 1457.86 1293.7 1466.61 Q1293.7 1475.33 1290.62 1479.94 Q1287.56 1484.52 1281.75 1484.52 Q1275.94 1484.52 1272.86 1479.94 Q1269.81 1475.33 1269.81 1466.61 Q1269.81 1457.86 1272.86 1453.27 Q1275.94 1448.67 1281.75 1448.67 Z\" fill=\"#000000\" fill-rule=\"evenodd\" fill-opacity=\"1\" /><path clip-path=\"url(#clip570)\" d=\"M 0 0 M1524.09 1479.92 L1531.73 1479.92 L1531.73 1453.55 L1523.42 1455.22 L1523.42 1450.96 L1531.68 1449.29 L1536.36 1449.29 L1536.36 1479.92 L1543.99 1479.92 L1543.99 1483.85 L1524.09 1483.85 L1524.09 1479.92 Z\" fill=\"#000000\" fill-rule=\"evenodd\" fill-opacity=\"1\" /><path clip-path=\"url(#clip570)\" d=\"M 0 0 M1780.31 1479.92 L1796.63 1479.92 L1796.63 1483.85 L1774.69 1483.85 L1774.69 1479.92 Q1777.35 1477.16 1781.93 1472.53 Q1786.54 1467.88 1787.72 1466.54 Q1789.96 1464.01 1790.84 1462.28 Q1791.75 1460.52 1791.75 1458.83 Q1791.75 1456.07 1789.8 1454.34 Q1787.88 1452.6 1784.78 1452.6 Q1782.58 1452.6 1780.13 1453.37 Q1777.7 1454.13 1774.92 1455.68 L1774.92 1450.96 Q1777.74 1449.82 1780.2 1449.25 Q1782.65 1448.67 1784.69 1448.67 Q1790.06 1448.67 1793.25 1451.35 Q1796.45 1454.04 1796.45 1458.53 Q1796.45 1460.66 1795.64 1462.58 Q1794.85 1464.48 1792.74 1467.07 Q1792.16 1467.74 1789.06 1470.96 Q1785.96 1474.15 1780.31 1479.92 Z\" fill=\"#000000\" fill-rule=\"evenodd\" fill-opacity=\"1\" /><path clip-path=\"url(#clip570)\" d=\"M 0 0 M1102.91 1524.88 Q1095.9 1524.88 1091.77 1530.1 Q1087.66 1535.32 1087.66 1544.33 Q1087.66 1553.31 1091.77 1558.53 Q1095.9 1563.75 1102.91 1563.75 Q1109.91 1563.75 1113.98 1558.53 Q1118.09 1553.31 1118.09 1544.33 Q1118.09 1535.32 1113.98 1530.1 Q1109.91 1524.88 1102.91 1524.88 M1102.91 1519.66 Q1112.9 1519.66 1118.88 1526.38 Q1124.87 1533.06 1124.87 1544.33 Q1124.87 1555.57 1118.88 1562.28 Q1112.9 1568.97 1102.91 1568.97 Q1092.88 1568.97 1086.86 1562.28 Q1080.88 1555.6 1080.88 1544.33 Q1080.88 1533.06 1086.86 1526.38 Q1092.88 1519.66 1102.91 1519.66 Z\" fill=\"#000000\" fill-rule=\"evenodd\" fill-opacity=\"1\" /><path clip-path=\"url(#clip570)\" d=\"M 0 0 M1155.33 1537.87 Q1154.34 1537.3 1153.16 1537.04 Q1152.02 1536.76 1150.62 1536.76 Q1145.65 1536.76 1142.98 1540 Q1140.34 1543.22 1140.34 1549.27 L1140.34 1568.04 L1134.45 1568.04 L1134.45 1532.4 L1140.34 1532.4 L1140.34 1537.93 Q1142.18 1534.69 1145.14 1533.13 Q1148.1 1531.54 1152.34 1531.54 Q1152.94 1531.54 1153.67 1531.63 Q1154.4 1531.7 1155.3 1531.85 L1155.33 1537.87 Z\" fill=\"#000000\" fill-rule=\"evenodd\" fill-opacity=\"1\" /><path clip-path=\"url(#clip570)\" d=\"M 0 0 M1187.06 1550.25 Q1187.06 1543.79 1184.39 1540.13 Q1181.75 1536.44 1177.1 1536.44 Q1172.45 1536.44 1169.78 1540.13 Q1167.14 1543.79 1167.14 1550.25 Q1167.14 1556.71 1169.78 1560.4 Q1172.45 1564.07 1177.1 1564.07 Q1181.75 1564.07 1184.39 1560.4 Q1187.06 1556.71 1187.06 1550.25 M1167.14 1537.81 Q1168.98 1534.62 1171.78 1533.1 Q1174.62 1531.54 1178.53 1531.54 Q1185.02 1531.54 1189.07 1536.69 Q1193.14 1541.85 1193.14 1550.25 Q1193.14 1558.65 1189.07 1563.81 Q1185.02 1568.97 1178.53 1568.97 Q1174.62 1568.97 1171.78 1567.44 Q1168.98 1565.88 1167.14 1562.7 L1167.14 1568.04 L1161.25 1568.04 L1161.25 1518.52 L1167.14 1518.52 L1167.14 1537.81 Z\" fill=\"#000000\" fill-rule=\"evenodd\" fill-opacity=\"1\" /><path clip-path=\"url(#clip570)\" d=\"M 0 0 M1202.85 1532.4 L1208.7 1532.4 L1208.7 1568.04 L1202.85 1568.04 L1202.85 1532.4 M1202.85 1518.52 L1208.7 1518.52 L1208.7 1525.93 L1202.85 1525.93 L1202.85 1518.52 Z\" fill=\"#000000\" fill-rule=\"evenodd\" fill-opacity=\"1\" /><path clip-path=\"url(#clip570)\" d=\"M 0 0 M1226.75 1522.27 L1226.75 1532.4 L1238.81 1532.4 L1238.81 1536.95 L1226.75 1536.95 L1226.75 1556.3 Q1226.75 1560.66 1227.93 1561.9 Q1229.14 1563.14 1232.8 1563.14 L1238.81 1563.14 L1238.81 1568.04 L1232.8 1568.04 Q1226.02 1568.04 1223.44 1565.53 Q1220.86 1562.98 1220.86 1556.3 L1220.86 1536.95 L1216.57 1536.95 L1216.57 1532.4 L1220.86 1532.4 L1220.86 1522.27 L1226.75 1522.27 Z\" fill=\"#000000\" fill-rule=\"evenodd\" fill-opacity=\"1\" /><path clip-path=\"url(#clip570)\" d=\"M 0 0 M1262.72 1550.12 Q1255.62 1550.12 1252.88 1551.75 Q1250.15 1553.37 1250.15 1557.29 Q1250.15 1560.4 1252.18 1562.25 Q1254.25 1564.07 1257.78 1564.07 Q1262.65 1564.07 1265.58 1560.63 Q1268.54 1557.16 1268.54 1551.43 L1268.54 1550.12 L1262.72 1550.12 M1274.4 1547.71 L1274.4 1568.04 L1268.54 1568.04 L1268.54 1562.63 Q1266.54 1565.88 1263.55 1567.44 Q1260.55 1568.97 1256.22 1568.97 Q1250.75 1568.97 1247.5 1565.91 Q1244.29 1562.82 1244.29 1557.67 Q1244.29 1551.65 1248.3 1548.6 Q1252.34 1545.54 1260.33 1545.54 L1268.54 1545.54 L1268.54 1544.97 Q1268.54 1540.93 1265.87 1538.73 Q1263.23 1536.5 1258.42 1536.5 Q1255.37 1536.5 1252.47 1537.23 Q1249.57 1537.97 1246.9 1539.43 L1246.9 1534.02 Q1250.11 1532.78 1253.14 1532.17 Q1256.16 1531.54 1259.03 1531.54 Q1266.76 1531.54 1270.58 1535.55 Q1274.4 1539.56 1274.4 1547.71 Z\" fill=\"#000000\" fill-rule=\"evenodd\" fill-opacity=\"1\" /><path clip-path=\"url(#clip570)\" d=\"M 0 0 M1286.46 1518.52 L1292.32 1518.52 L1292.32 1568.04 L1286.46 1568.04 L1286.46 1518.52 Z\" fill=\"#000000\" fill-rule=\"evenodd\" fill-opacity=\"1\" /><path clip-path=\"url(#clip570)\" d=\"M 0 0 M1324.81 1520.52 L1331.28 1520.52 L1331.28 1549.39 Q1331.28 1557.03 1334.05 1560.4 Q1336.81 1563.75 1343.02 1563.75 Q1349.2 1563.75 1351.96 1560.4 Q1354.73 1557.03 1354.73 1549.39 L1354.73 1520.52 L1361.19 1520.52 L1361.19 1550.19 Q1361.19 1559.48 1356.58 1564.22 Q1352 1568.97 1343.02 1568.97 Q1334.01 1568.97 1329.4 1564.22 Q1324.81 1559.48 1324.81 1550.19 L1324.81 1520.52 Z\" fill=\"#000000\" fill-rule=\"evenodd\" fill-opacity=\"1\" /><path clip-path=\"url(#clip570)\" d=\"M 0 0 M1402.64 1546.53 L1402.64 1568.04 L1396.78 1568.04 L1396.78 1546.72 Q1396.78 1541.66 1394.81 1539.14 Q1392.83 1536.63 1388.89 1536.63 Q1384.14 1536.63 1381.41 1539.65 Q1378.67 1542.68 1378.67 1547.9 L1378.67 1568.04 L1372.78 1568.04 L1372.78 1532.4 L1378.67 1532.4 L1378.67 1537.93 Q1380.77 1534.72 1383.6 1533.13 Q1386.47 1531.54 1390.19 1531.54 Q1396.33 1531.54 1399.48 1535.36 Q1402.64 1539.14 1402.64 1546.53 Z\" fill=\"#000000\" fill-rule=\"evenodd\" fill-opacity=\"1\" /><path clip-path=\"url(#clip570)\" d=\"M 0 0 M1414.32 1532.4 L1420.17 1532.4 L1420.17 1568.04 L1414.32 1568.04 L1414.32 1532.4 M1414.32 1518.52 L1420.17 1518.52 L1420.17 1525.93 L1414.32 1525.93 L1414.32 1518.52 Z\" fill=\"#000000\" fill-rule=\"evenodd\" fill-opacity=\"1\" /><path clip-path=\"url(#clip570)\" d=\"M 0 0 M1438.22 1522.27 L1438.22 1532.4 L1450.28 1532.4 L1450.28 1536.95 L1438.22 1536.95 L1438.22 1556.3 Q1438.22 1560.66 1439.4 1561.9 Q1440.61 1563.14 1444.27 1563.14 L1450.28 1563.14 L1450.28 1568.04 L1444.27 1568.04 Q1437.49 1568.04 1434.91 1565.53 Q1432.33 1562.98 1432.33 1556.3 L1432.33 1536.95 L1428.03 1536.95 L1428.03 1532.4 L1432.33 1532.4 L1432.33 1522.27 L1438.22 1522.27 Z\" fill=\"#000000\" fill-rule=\"evenodd\" fill-opacity=\"1\" /><path clip-path=\"url(#clip570)\" d=\"M 0 0 M1480.71 1533.45 L1480.71 1538.98 Q1478.23 1537.71 1475.55 1537.07 Q1472.88 1536.44 1470.02 1536.44 Q1465.66 1536.44 1463.46 1537.77 Q1461.3 1539.11 1461.3 1541.79 Q1461.3 1543.82 1462.86 1545 Q1464.41 1546.15 1469.13 1547.2 L1471.13 1547.64 Q1477.37 1548.98 1479.98 1551.43 Q1482.62 1553.85 1482.62 1558.21 Q1482.62 1563.17 1478.67 1566.07 Q1474.76 1568.97 1467.88 1568.97 Q1465.02 1568.97 1461.9 1568.39 Q1458.81 1567.85 1455.38 1566.74 L1455.38 1560.69 Q1458.62 1562.38 1461.77 1563.24 Q1464.92 1564.07 1468.01 1564.07 Q1472.15 1564.07 1474.38 1562.66 Q1476.61 1561.23 1476.61 1558.65 Q1476.61 1556.27 1474.98 1554.99 Q1473.39 1553.72 1467.95 1552.54 L1465.91 1552.07 Q1460.47 1550.92 1458.05 1548.56 Q1455.63 1546.18 1455.63 1542.04 Q1455.63 1537.01 1459.19 1534.27 Q1462.76 1531.54 1469.32 1531.54 Q1472.56 1531.54 1475.43 1532.01 Q1478.29 1532.49 1480.71 1533.45 Z\" fill=\"#000000\" fill-rule=\"evenodd\" fill-opacity=\"1\" /><polyline clip-path=\"url(#clip572)\" style=\"stroke:#000000; stroke-width:2; stroke-opacity:0.1; fill:none\" points=\"\n",
       "  631.897,1277.23 1931.6,1277.23 \n",
       "  \"/>\n",
       "<polyline clip-path=\"url(#clip572)\" style=\"stroke:#000000; stroke-width:2; stroke-opacity:0.1; fill:none\" points=\"\n",
       "  631.897,1025.28 1931.6,1025.28 \n",
       "  \"/>\n",
       "<polyline clip-path=\"url(#clip572)\" style=\"stroke:#000000; stroke-width:2; stroke-opacity:0.1; fill:none\" points=\"\n",
       "  631.897,773.326 1931.6,773.326 \n",
       "  \"/>\n",
       "<polyline clip-path=\"url(#clip572)\" style=\"stroke:#000000; stroke-width:2; stroke-opacity:0.1; fill:none\" points=\"\n",
       "  631.897,521.372 1931.6,521.372 \n",
       "  \"/>\n",
       "<polyline clip-path=\"url(#clip572)\" style=\"stroke:#000000; stroke-width:2; stroke-opacity:0.1; fill:none\" points=\"\n",
       "  631.897,269.418 1931.6,269.418 \n",
       "  \"/>\n",
       "<polyline clip-path=\"url(#clip570)\" style=\"stroke:#000000; stroke-width:4; stroke-opacity:1; fill:none\" points=\"\n",
       "  631.897,1423.18 631.897,123.472 \n",
       "  \"/>\n",
       "<polyline clip-path=\"url(#clip570)\" style=\"stroke:#000000; stroke-width:4; stroke-opacity:1; fill:none\" points=\"\n",
       "  631.897,1277.23 647.494,1277.23 \n",
       "  \"/>\n",
       "<polyline clip-path=\"url(#clip570)\" style=\"stroke:#000000; stroke-width:4; stroke-opacity:1; fill:none\" points=\"\n",
       "  631.897,1025.28 647.494,1025.28 \n",
       "  \"/>\n",
       "<polyline clip-path=\"url(#clip570)\" style=\"stroke:#000000; stroke-width:4; stroke-opacity:1; fill:none\" points=\"\n",
       "  631.897,773.326 647.494,773.326 \n",
       "  \"/>\n",
       "<polyline clip-path=\"url(#clip570)\" style=\"stroke:#000000; stroke-width:4; stroke-opacity:1; fill:none\" points=\"\n",
       "  631.897,521.372 647.494,521.372 \n",
       "  \"/>\n",
       "<polyline clip-path=\"url(#clip570)\" style=\"stroke:#000000; stroke-width:4; stroke-opacity:1; fill:none\" points=\"\n",
       "  631.897,269.418 647.494,269.418 \n",
       "  \"/>\n",
       "<path clip-path=\"url(#clip570)\" d=\"M 0 0 M535.782 1277.69 L565.457 1277.69 L565.457 1281.62 L535.782 1281.62 L535.782 1277.69 Z\" fill=\"#000000\" fill-rule=\"evenodd\" fill-opacity=\"1\" /><path clip-path=\"url(#clip570)\" d=\"M 0 0 M579.578 1290.58 L595.897 1290.58 L595.897 1294.51 L573.953 1294.51 L573.953 1290.58 Q576.615 1287.82 581.198 1283.19 Q585.805 1278.54 586.985 1277.2 Q589.23 1274.68 590.11 1272.94 Q591.013 1271.18 591.013 1269.49 Q591.013 1266.74 589.068 1265 Q587.147 1263.26 584.045 1263.26 Q581.846 1263.26 579.393 1264.03 Q576.962 1264.79 574.184 1266.34 L574.184 1261.62 Q577.008 1260.49 579.462 1259.91 Q581.916 1259.33 583.953 1259.33 Q589.323 1259.33 592.517 1262.01 Q595.712 1264.7 595.712 1269.19 Q595.712 1271.32 594.902 1273.24 Q594.115 1275.14 592.008 1277.73 Q591.429 1278.4 588.328 1281.62 Q585.226 1284.82 579.578 1290.58 Z\" fill=\"#000000\" fill-rule=\"evenodd\" fill-opacity=\"1\" /><path clip-path=\"url(#clip570)\" d=\"M 0 0 M535.411 1025.73 L565.087 1025.73 L565.087 1029.67 L535.411 1029.67 L535.411 1025.73 Z\" fill=\"#000000\" fill-rule=\"evenodd\" fill-opacity=\"1\" /><path clip-path=\"url(#clip570)\" d=\"M 0 0 M575.99 1038.62 L583.629 1038.62 L583.629 1012.26 L575.318 1013.93 L575.318 1009.67 L583.582 1008 L588.258 1008 L588.258 1038.62 L595.897 1038.62 L595.897 1042.56 L575.99 1042.56 L575.99 1038.62 Z\" fill=\"#000000\" fill-rule=\"evenodd\" fill-opacity=\"1\" /><path clip-path=\"url(#clip570)\" d=\"M 0 0 M583.953 759.125 Q580.342 759.125 578.513 762.689 Q576.707 766.231 576.707 773.361 Q576.707 780.467 578.513 784.032 Q580.342 787.574 583.953 787.574 Q587.587 787.574 589.392 784.032 Q591.221 780.467 591.221 773.361 Q591.221 766.231 589.392 762.689 Q587.587 759.125 583.953 759.125 M583.953 755.421 Q589.763 755.421 592.818 760.027 Q595.897 764.611 595.897 773.361 Q595.897 782.088 592.818 786.694 Q589.763 791.277 583.953 791.277 Q578.143 791.277 575.064 786.694 Q572.008 782.088 572.008 773.361 Q572.008 764.611 575.064 760.027 Q578.143 755.421 583.953 755.421 Z\" fill=\"#000000\" fill-rule=\"evenodd\" fill-opacity=\"1\" /><path clip-path=\"url(#clip570)\" d=\"M 0 0 M575.99 534.717 L583.629 534.717 L583.629 508.351 L575.318 510.018 L575.318 505.758 L583.582 504.092 L588.258 504.092 L588.258 534.717 L595.897 534.717 L595.897 538.652 L575.99 538.652 L575.99 534.717 Z\" fill=\"#000000\" fill-rule=\"evenodd\" fill-opacity=\"1\" /><path clip-path=\"url(#clip570)\" d=\"M 0 0 M579.578 282.762 L595.897 282.762 L595.897 286.698 L573.953 286.698 L573.953 282.762 Q576.615 280.008 581.198 275.378 Q585.805 270.726 586.985 269.383 Q589.23 266.86 590.11 265.124 Q591.013 263.364 591.013 261.675 Q591.013 258.92 589.068 257.184 Q587.147 255.448 584.045 255.448 Q581.846 255.448 579.393 256.212 Q576.962 256.976 574.184 258.526 L574.184 253.804 Q577.008 252.67 579.462 252.091 Q581.916 251.513 583.953 251.513 Q589.323 251.513 592.517 254.198 Q595.712 256.883 595.712 261.374 Q595.712 263.503 594.902 265.425 Q594.115 267.323 592.008 269.915 Q591.429 270.587 588.328 273.804 Q585.226 276.999 579.578 282.762 Z\" fill=\"#000000\" fill-rule=\"evenodd\" fill-opacity=\"1\" /><path clip-path=\"url(#clip570)\" d=\"M 0 0 M441.996 952.171 Q441.996 959.173 447.216 963.31 Q452.436 967.416 461.443 967.416 Q470.419 967.416 475.639 963.31 Q480.858 959.173 480.858 952.171 Q480.858 945.168 475.639 941.094 Q470.419 936.988 461.443 936.988 Q452.436 936.988 447.216 941.094 Q441.996 945.168 441.996 952.171 M436.776 952.171 Q436.776 942.176 443.492 936.193 Q450.176 930.209 461.443 930.209 Q472.678 930.209 479.394 936.193 Q486.078 942.176 486.078 952.171 Q486.078 962.196 479.394 968.212 Q472.71 974.196 461.443 974.196 Q450.176 974.196 443.492 968.212 Q436.776 962.196 436.776 952.171 Z\" fill=\"#000000\" fill-rule=\"evenodd\" fill-opacity=\"1\" /><path clip-path=\"url(#clip570)\" d=\"M 0 0 M454.982 899.749 Q454.409 900.736 454.154 901.913 Q453.868 903.059 453.868 904.46 Q453.868 909.425 457.114 912.098 Q460.329 914.74 466.376 914.74 L485.155 914.74 L485.155 920.628 L449.507 920.628 L449.507 914.74 L455.045 914.74 Q451.799 912.894 450.239 909.934 Q448.648 906.974 448.648 902.741 Q448.648 902.136 448.743 901.404 Q448.807 900.672 448.966 899.781 L454.982 899.749 Z\" fill=\"#000000\" fill-rule=\"evenodd\" fill-opacity=\"1\" /><path clip-path=\"url(#clip570)\" d=\"M 0 0 M467.363 868.016 Q460.902 868.016 457.242 870.689 Q453.55 873.331 453.55 877.978 Q453.55 882.625 457.242 885.299 Q460.902 887.941 467.363 887.941 Q473.824 887.941 477.516 885.299 Q481.177 882.625 481.177 877.978 Q481.177 873.331 477.516 870.689 Q473.824 868.016 467.363 868.016 M454.918 887.941 Q451.735 886.094 450.208 883.294 Q448.648 880.461 448.648 876.546 Q448.648 870.053 453.804 866.011 Q458.96 861.937 467.363 861.937 Q475.766 861.937 480.922 866.011 Q486.078 870.053 486.078 876.546 Q486.078 880.461 484.551 883.294 Q482.991 886.094 479.808 887.941 L485.155 887.941 L485.155 893.829 L435.63 893.829 L435.63 887.941 L454.918 887.941 Z\" fill=\"#000000\" fill-rule=\"evenodd\" fill-opacity=\"1\" /><path clip-path=\"url(#clip570)\" d=\"M 0 0 M449.507 852.229 L449.507 846.372 L485.155 846.372 L485.155 852.229 L449.507 852.229 M435.63 852.229 L435.63 846.372 L443.046 846.372 L443.046 852.229 L435.63 852.229 Z\" fill=\"#000000\" fill-rule=\"evenodd\" fill-opacity=\"1\" /><path clip-path=\"url(#clip570)\" d=\"M 0 0 M439.386 828.326 L449.507 828.326 L449.507 816.263 L454.059 816.263 L454.059 828.326 L473.411 828.326 Q477.771 828.326 479.012 827.148 Q480.254 825.939 480.254 822.278 L480.254 816.263 L485.155 816.263 L485.155 822.278 Q485.155 829.058 482.641 831.636 Q480.095 834.214 473.411 834.214 L454.059 834.214 L454.059 838.511 L449.507 838.511 L449.507 834.214 L439.386 834.214 L439.386 828.326 Z\" fill=\"#000000\" fill-rule=\"evenodd\" fill-opacity=\"1\" /><path clip-path=\"url(#clip570)\" d=\"M 0 0 M467.236 792.359 Q467.236 799.457 468.859 802.194 Q470.482 804.932 474.397 804.932 Q477.516 804.932 479.362 802.895 Q481.177 800.826 481.177 797.293 Q481.177 792.423 477.739 789.495 Q474.27 786.535 468.541 786.535 L467.236 786.535 L467.236 792.359 M464.817 780.678 L485.155 780.678 L485.155 786.535 L479.744 786.535 Q482.991 788.54 484.551 791.532 Q486.078 794.524 486.078 798.852 Q486.078 804.327 483.023 807.573 Q479.935 810.788 474.779 810.788 Q468.764 810.788 465.708 806.778 Q462.653 802.736 462.653 794.747 L462.653 786.535 L462.08 786.535 Q458.037 786.535 455.841 789.208 Q453.613 791.85 453.613 796.656 Q453.613 799.712 454.345 802.608 Q455.077 805.505 456.541 808.178 L451.131 808.178 Q449.889 804.964 449.285 801.94 Q448.648 798.916 448.648 796.052 Q448.648 788.317 452.658 784.498 Q456.669 780.678 464.817 780.678 Z\" fill=\"#000000\" fill-rule=\"evenodd\" fill-opacity=\"1\" /><path clip-path=\"url(#clip570)\" d=\"M 0 0 M435.63 768.615 L435.63 762.759 L485.155 762.759 L485.155 768.615 L435.63 768.615 Z\" fill=\"#000000\" fill-rule=\"evenodd\" fill-opacity=\"1\" /><path clip-path=\"url(#clip570)\" d=\"M 0 0 M437.635 730.262 L437.635 723.801 L466.504 723.801 Q474.143 723.801 477.516 721.032 Q480.858 718.263 480.858 712.056 Q480.858 705.881 477.516 703.112 Q474.143 700.343 466.504 700.343 L437.635 700.343 L437.635 693.882 L467.299 693.882 Q476.593 693.882 481.336 698.497 Q486.078 703.08 486.078 712.056 Q486.078 721.064 481.336 725.679 Q476.593 730.262 467.299 730.262 L437.635 730.262 Z\" fill=\"#000000\" fill-rule=\"evenodd\" fill-opacity=\"1\" /><path clip-path=\"url(#clip570)\" d=\"M 0 0 M463.639 652.441 L485.155 652.441 L485.155 658.298 L463.83 658.298 Q458.769 658.298 456.255 660.271 Q453.741 662.244 453.741 666.191 Q453.741 670.934 456.764 673.671 Q459.788 676.408 465.008 676.408 L485.155 676.408 L485.155 682.296 L449.507 682.296 L449.507 676.408 L455.045 676.408 Q451.831 674.307 450.239 671.475 Q448.648 668.61 448.648 664.886 Q448.648 658.743 452.467 655.592 Q456.255 652.441 463.639 652.441 Z\" fill=\"#000000\" fill-rule=\"evenodd\" fill-opacity=\"1\" /><path clip-path=\"url(#clip570)\" d=\"M 0 0 M449.507 640.76 L449.507 634.904 L485.155 634.904 L485.155 640.76 L449.507 640.76 M435.63 640.76 L435.63 634.904 L443.046 634.904 L443.046 640.76 L435.63 640.76 Z\" fill=\"#000000\" fill-rule=\"evenodd\" fill-opacity=\"1\" /><path clip-path=\"url(#clip570)\" d=\"M 0 0 M439.386 616.857 L449.507 616.857 L449.507 604.794 L454.059 604.794 L454.059 616.857 L473.411 616.857 Q477.771 616.857 479.012 615.679 Q480.254 614.47 480.254 610.809 L480.254 604.794 L485.155 604.794 L485.155 610.809 Q485.155 617.589 482.641 620.167 Q480.095 622.745 473.411 622.745 L454.059 622.745 L454.059 627.042 L449.507 627.042 L449.507 622.745 L439.386 622.745 L439.386 616.857 Z\" fill=\"#000000\" fill-rule=\"evenodd\" fill-opacity=\"1\" /><path clip-path=\"url(#clip570)\" d=\"M 0 0 M450.558 574.366 L456.096 574.366 Q454.823 576.848 454.186 579.522 Q453.55 582.196 453.55 585.06 Q453.55 589.421 454.886 591.617 Q456.223 593.781 458.897 593.781 Q460.934 593.781 462.111 592.222 Q463.257 590.662 464.308 585.951 L464.753 583.946 Q466.09 577.708 468.541 575.098 Q470.96 572.456 475.32 572.456 Q480.286 572.456 483.182 576.403 Q486.078 580.318 486.078 587.193 Q486.078 590.057 485.505 593.176 Q484.964 596.264 483.85 599.701 L477.803 599.701 Q479.49 596.455 480.349 593.304 Q481.177 590.153 481.177 587.065 Q481.177 582.928 479.776 580.7 Q478.344 578.472 475.766 578.472 Q473.379 578.472 472.106 580.095 Q470.832 581.686 469.655 587.129 L469.177 589.166 Q468.032 594.609 465.676 597.028 Q463.289 599.447 459.151 599.447 Q454.122 599.447 451.385 595.882 Q448.648 592.317 448.648 585.76 Q448.648 582.514 449.125 579.649 Q449.603 576.785 450.558 574.366 Z\" fill=\"#000000\" fill-rule=\"evenodd\" fill-opacity=\"1\" /><path clip-path=\"url(#clip570)\" d=\"M 0 0 M813.223 34.0924 L813.223 9.54393 L820.677 9.54393 L820.677 72.576 L813.223 72.576 L813.223 65.7705 Q810.874 69.8214 807.269 71.8063 Q803.704 73.7508 798.681 73.7508 Q790.457 73.7508 785.272 67.1883 Q780.127 60.6258 780.127 49.9314 Q780.127 39.2371 785.272 32.6746 Q790.457 26.1121 798.681 26.1121 Q803.704 26.1121 807.269 28.0971 Q810.874 30.0415 813.223 34.0924 M787.824 49.9314 Q787.824 58.1548 791.186 62.8538 Q794.589 67.5124 800.504 67.5124 Q806.418 67.5124 809.821 62.8538 Q813.223 58.1548 813.223 49.9314 Q813.223 41.7081 809.821 37.0496 Q806.418 32.3505 800.504 32.3505 Q794.589 32.3505 791.186 37.0496 Q787.824 41.7081 787.824 49.9314 Z\" fill=\"#000000\" fill-rule=\"evenodd\" fill-opacity=\"1\" /><path clip-path=\"url(#clip570)\" d=\"M 0 0 M854.907 76.7889 Q851.747 84.8907 848.75 87.3618 Q845.752 89.8329 840.729 89.8329 L834.774 89.8329 L834.774 83.5945 L839.149 83.5945 Q842.228 83.5945 843.929 82.1361 Q845.631 80.6778 847.697 75.2496 L849.033 71.8468 L830.683 27.2059 L838.582 27.2059 L852.76 62.6918 L866.938 27.2059 L874.838 27.2059 L854.907 76.7889 Z\" fill=\"#000000\" fill-rule=\"evenodd\" fill-opacity=\"1\" /><path clip-path=\"url(#clip570)\" d=\"M 0 0 M922.841 45.1919 L922.841 72.576 L915.387 72.576 L915.387 45.4349 Q915.387 38.994 912.876 35.7938 Q910.364 32.5936 905.341 32.5936 Q899.305 32.5936 895.821 36.4419 Q892.338 40.2903 892.338 46.9338 L892.338 72.576 L884.843 72.576 L884.843 27.2059 L892.338 27.2059 L892.338 34.2544 Q895.011 30.163 898.616 28.1376 Q902.262 26.1121 907.002 26.1121 Q914.82 26.1121 918.83 30.9732 Q922.841 35.7938 922.841 45.1919 Z\" fill=\"#000000\" fill-rule=\"evenodd\" fill-opacity=\"1\" /><path clip-path=\"url(#clip570)\" d=\"M 0 0 M958.327 49.7694 Q949.293 49.7694 945.809 51.8354 Q942.326 53.9013 942.326 58.8839 Q942.326 62.8538 944.918 65.2034 Q947.551 67.5124 952.048 67.5124 Q958.246 67.5124 961.973 63.1374 Q965.74 58.7219 965.74 51.4303 L965.74 49.7694 L958.327 49.7694 M973.194 46.6907 L973.194 72.576 L965.74 72.576 L965.74 65.6895 Q963.188 69.8214 959.38 71.8063 Q955.572 73.7508 950.063 73.7508 Q943.095 73.7508 938.963 69.8619 Q934.872 65.9325 934.872 59.3701 Q934.872 51.7138 939.976 47.825 Q945.121 43.9361 955.289 43.9361 L965.74 43.9361 L965.74 43.2069 Q965.74 38.0623 962.337 35.2672 Q958.975 32.4315 952.858 32.4315 Q948.969 32.4315 945.283 33.3632 Q941.596 34.295 938.194 36.1584 L938.194 29.2718 Q942.285 27.692 946.134 26.9223 Q949.982 26.1121 953.628 26.1121 Q963.471 26.1121 968.332 31.2163 Q973.194 36.3204 973.194 46.6907 Z\" fill=\"#000000\" fill-rule=\"evenodd\" fill-opacity=\"1\" /><path clip-path=\"url(#clip570)\" d=\"M 0 0 M1023.87 35.9153 Q1026.67 30.8922 1030.55 28.5022 Q1034.44 26.1121 1039.71 26.1121 Q1046.8 26.1121 1050.65 31.0947 Q1054.5 36.0368 1054.5 45.1919 L1054.5 72.576 L1047 72.576 L1047 45.4349 Q1047 38.913 1044.69 35.7533 Q1042.38 32.5936 1037.64 32.5936 Q1031.85 32.5936 1028.49 36.4419 Q1025.13 40.2903 1025.13 46.9338 L1025.13 72.576 L1017.63 72.576 L1017.63 45.4349 Q1017.63 38.8725 1015.32 35.7533 Q1013.01 32.5936 1008.19 32.5936 Q1002.48 32.5936 999.119 36.4824 Q995.757 40.3308 995.757 46.9338 L995.757 72.576 L988.263 72.576 L988.263 27.2059 L995.757 27.2059 L995.757 34.2544 Q998.309 30.082 1001.87 28.0971 Q1005.44 26.1121 1010.34 26.1121 Q1015.28 26.1121 1018.73 28.6237 Q1022.21 31.1352 1023.87 35.9153 Z\" fill=\"#000000\" fill-rule=\"evenodd\" fill-opacity=\"1\" /><path clip-path=\"url(#clip570)\" d=\"M 0 0 M1069.36 27.2059 L1076.82 27.2059 L1076.82 72.576 L1069.36 72.576 L1069.36 27.2059 M1069.36 9.54393 L1076.82 9.54393 L1076.82 18.9825 L1069.36 18.9825 L1069.36 9.54393 Z\" fill=\"#000000\" fill-rule=\"evenodd\" fill-opacity=\"1\" /><path clip-path=\"url(#clip570)\" d=\"M 0 0 M1125.06 28.9478 L1125.06 35.9153 Q1121.9 34.1734 1118.7 33.3227 Q1115.54 32.4315 1112.3 32.4315 Q1105.05 32.4315 1101.04 37.0496 Q1097.03 41.6271 1097.03 49.9314 Q1097.03 58.2358 1101.04 62.8538 Q1105.05 67.4314 1112.3 67.4314 Q1115.54 67.4314 1118.7 66.5807 Q1121.9 65.6895 1125.06 63.9476 L1125.06 70.8341 Q1121.94 72.2924 1118.58 73.0216 Q1115.26 73.7508 1111.49 73.7508 Q1101.24 73.7508 1095.21 67.3098 Q1089.17 60.8689 1089.17 49.9314 Q1089.17 38.832 1095.25 32.472 Q1101.36 26.1121 1111.98 26.1121 Q1115.42 26.1121 1118.7 26.8413 Q1121.98 27.5299 1125.06 28.9478 Z\" fill=\"#000000\" fill-rule=\"evenodd\" fill-opacity=\"1\" /><path clip-path=\"url(#clip570)\" d=\"M 0 0 M1166.95 28.5427 L1166.95 35.5912 Q1163.79 33.9709 1160.39 33.1607 Q1156.98 32.3505 1153.34 32.3505 Q1147.79 32.3505 1144.99 34.0519 Q1142.24 35.7533 1142.24 39.156 Q1142.24 41.7486 1144.22 43.2475 Q1146.21 44.7058 1152.2 46.0426 L1154.76 46.6097 Q1162.69 48.3111 1166.02 51.4303 Q1169.38 54.509 1169.38 60.0587 Q1169.38 66.3781 1164.36 70.0644 Q1159.37 73.7508 1150.62 73.7508 Q1146.98 73.7508 1143.01 73.0216 Q1139.08 72.3329 1134.7 70.9151 L1134.7 63.2184 Q1138.84 65.3654 1142.85 66.4591 Q1146.86 67.5124 1150.79 67.5124 Q1156.05 67.5124 1158.89 65.73 Q1161.72 63.9071 1161.72 60.6258 Q1161.72 57.5877 1159.66 55.9673 Q1157.63 54.3469 1150.7 52.8481 L1148.11 52.2405 Q1141.18 50.7821 1138.11 47.7845 Q1135.03 44.7463 1135.03 39.4801 Q1135.03 33.0797 1139.56 29.5959 Q1144.1 26.1121 1152.45 26.1121 Q1156.58 26.1121 1160.22 26.7198 Q1163.87 27.3274 1166.95 28.5427 Z\" fill=\"#000000\" fill-rule=\"evenodd\" fill-opacity=\"1\" /><path clip-path=\"url(#clip570)\" d=\"M 0 0 M1215.72 86.3491 L1215.72 92.1419 L1172.62 92.1419 L1172.62 86.3491 L1215.72 86.3491 Z\" fill=\"#000000\" fill-rule=\"evenodd\" fill-opacity=\"1\" /><path clip-path=\"url(#clip570)\" d=\"M 0 0 M1249.02 34.1734 Q1247.76 33.4443 1246.27 33.1202 Q1244.81 32.7556 1243.02 32.7556 Q1236.7 32.7556 1233.3 36.8875 Q1229.94 40.9789 1229.94 48.6757 L1229.94 72.576 L1222.45 72.576 L1222.45 27.2059 L1229.94 27.2059 L1229.94 34.2544 Q1232.29 30.1225 1236.06 28.1376 Q1239.82 26.1121 1245.21 26.1121 Q1245.98 26.1121 1246.91 26.2337 Q1247.84 26.3147 1248.98 26.5172 L1249.02 34.1734 Z\" fill=\"#000000\" fill-rule=\"evenodd\" fill-opacity=\"1\" /><path clip-path=\"url(#clip570)\" d=\"M 0 0 M1256.55 9.54393 L1264.05 9.54393 L1264.05 46.7717 L1286.29 27.2059 L1295.81 27.2059 L1271.75 48.4326 L1296.82 72.576 L1287.1 72.576 L1264.05 50.4176 L1264.05 72.576 L1256.55 72.576 L1256.55 9.54393 Z\" fill=\"#000000\" fill-rule=\"evenodd\" fill-opacity=\"1\" /><path clip-path=\"url(#clip570)\" d=\"M 0 0 M1328.42 19.2256 L1307.76 51.5113 L1328.42 51.5113 L1328.42 19.2256 M1326.27 12.096 L1336.56 12.096 L1336.56 51.5113 L1345.19 51.5113 L1345.19 58.3168 L1336.56 58.3168 L1336.56 72.576 L1328.42 72.576 L1328.42 58.3168 L1301.11 58.3168 L1301.11 50.4176 L1326.27 12.096 Z\" fill=\"#000000\" fill-rule=\"evenodd\" fill-opacity=\"1\" /><path clip-path=\"url(#clip570)\" d=\"M 0 0 M1375.97 12.096 L1427.14 12.096 L1427.14 18.9825 L1405.67 18.9825 L1405.67 72.576 L1397.44 72.576 L1397.44 18.9825 L1375.97 18.9825 L1375.97 12.096 Z\" fill=\"#000000\" fill-rule=\"evenodd\" fill-opacity=\"1\" /><path clip-path=\"url(#clip570)\" d=\"M 0 0 M1448.81 34.1734 Q1447.55 33.4443 1446.06 33.1202 Q1444.6 32.7556 1442.81 32.7556 Q1436.5 32.7556 1433.09 36.8875 Q1429.73 40.9789 1429.73 48.6757 L1429.73 72.576 L1422.24 72.576 L1422.24 27.2059 L1429.73 27.2059 L1429.73 34.2544 Q1432.08 30.1225 1435.85 28.1376 Q1439.61 26.1121 1445 26.1121 Q1445.77 26.1121 1446.7 26.2337 Q1447.64 26.3147 1448.77 26.5172 L1448.81 34.1734 Z\" fill=\"#000000\" fill-rule=\"evenodd\" fill-opacity=\"1\" /><path clip-path=\"url(#clip570)\" d=\"M 0 0 M1477.25 49.7694 Q1468.21 49.7694 1464.73 51.8354 Q1461.25 53.9013 1461.25 58.8839 Q1461.25 62.8538 1463.84 65.2034 Q1466.47 67.5124 1470.97 67.5124 Q1477.17 67.5124 1480.89 63.1374 Q1484.66 58.7219 1484.66 51.4303 L1484.66 49.7694 L1477.25 49.7694 M1492.11 46.6907 L1492.11 72.576 L1484.66 72.576 L1484.66 65.6895 Q1482.11 69.8214 1478.3 71.8063 Q1474.49 73.7508 1468.98 73.7508 Q1462.02 73.7508 1457.88 69.8619 Q1453.79 65.9325 1453.79 59.3701 Q1453.79 51.7138 1458.9 47.825 Q1464.04 43.9361 1474.21 43.9361 L1484.66 43.9361 L1484.66 43.2069 Q1484.66 38.0623 1481.26 35.2672 Q1477.9 32.4315 1471.78 32.4315 Q1467.89 32.4315 1464.2 33.3632 Q1460.52 34.295 1457.11 36.1584 L1457.11 29.2718 Q1461.21 27.692 1465.05 26.9223 Q1468.9 26.1121 1472.55 26.1121 Q1482.39 26.1121 1487.25 31.2163 Q1492.11 36.3204 1492.11 46.6907 Z\" fill=\"#000000\" fill-rule=\"evenodd\" fill-opacity=\"1\" /><path clip-path=\"url(#clip570)\" d=\"M 0 0 M1507.47 27.2059 L1514.92 27.2059 L1514.92 73.3862 Q1514.92 82.0551 1511.6 85.944 Q1508.32 89.8329 1500.99 89.8329 L1498.15 89.8329 L1498.15 83.5134 L1500.14 83.5134 Q1504.39 83.5134 1505.93 81.5285 Q1507.47 79.5841 1507.47 73.3862 L1507.47 27.2059 M1507.47 9.54393 L1514.92 9.54393 L1514.92 18.9825 L1507.47 18.9825 L1507.47 9.54393 Z\" fill=\"#000000\" fill-rule=\"evenodd\" fill-opacity=\"1\" /><path clip-path=\"url(#clip570)\" d=\"M 0 0 M1569.32 48.0275 L1569.32 51.6733 L1535.05 51.6733 Q1535.54 59.3701 1539.67 63.421 Q1543.84 67.4314 1551.26 67.4314 Q1555.55 67.4314 1559.56 66.3781 Q1563.61 65.3249 1567.58 63.2184 L1567.58 70.267 Q1563.57 71.9684 1559.36 72.8596 Q1555.15 73.7508 1550.81 73.7508 Q1539.96 73.7508 1533.6 67.4314 Q1527.28 61.1119 1527.28 50.3365 Q1527.28 39.1965 1533.27 32.6746 Q1539.31 26.1121 1549.52 26.1121 Q1558.67 26.1121 1563.98 32.0264 Q1569.32 37.9003 1569.32 48.0275 M1561.87 45.84 Q1561.79 39.7232 1558.43 36.0774 Q1555.11 32.4315 1549.6 32.4315 Q1543.36 32.4315 1539.59 35.9558 Q1535.86 39.4801 1535.3 45.8805 L1561.87 45.84 Z\" fill=\"#000000\" fill-rule=\"evenodd\" fill-opacity=\"1\" /><path clip-path=\"url(#clip570)\" d=\"M 0 0 M1614.21 28.9478 L1614.21 35.9153 Q1611.05 34.1734 1607.85 33.3227 Q1604.69 32.4315 1601.45 32.4315 Q1594.2 32.4315 1590.19 37.0496 Q1586.18 41.6271 1586.18 49.9314 Q1586.18 58.2358 1590.19 62.8538 Q1594.2 67.4314 1601.45 67.4314 Q1604.69 67.4314 1607.85 66.5807 Q1611.05 65.6895 1614.21 63.9476 L1614.21 70.8341 Q1611.09 72.2924 1607.73 73.0216 Q1604.41 73.7508 1600.64 73.7508 Q1590.39 73.7508 1584.35 67.3098 Q1578.32 60.8689 1578.32 49.9314 Q1578.32 38.832 1584.39 32.472 Q1590.51 26.1121 1601.12 26.1121 Q1604.57 26.1121 1607.85 26.8413 Q1611.13 27.5299 1614.21 28.9478 Z\" fill=\"#000000\" fill-rule=\"evenodd\" fill-opacity=\"1\" /><path clip-path=\"url(#clip570)\" d=\"M 0 0 M1634.54 14.324 L1634.54 27.2059 L1649.9 27.2059 L1649.9 32.9987 L1634.54 32.9987 L1634.54 57.6282 Q1634.54 63.1779 1636.04 64.7578 Q1637.58 66.3376 1642.24 66.3376 L1649.9 66.3376 L1649.9 72.576 L1642.24 72.576 Q1633.61 72.576 1630.33 69.3758 Q1627.05 66.1351 1627.05 57.6282 L1627.05 32.9987 L1621.58 32.9987 L1621.58 27.2059 L1627.05 27.2059 L1627.05 14.324 L1634.54 14.324 Z\" fill=\"#000000\" fill-rule=\"evenodd\" fill-opacity=\"1\" /><path clip-path=\"url(#clip570)\" d=\"M 0 0 M1677.28 32.4315 Q1671.29 32.4315 1667.8 37.1306 Q1664.32 41.7891 1664.32 49.9314 Q1664.32 58.0738 1667.76 62.7728 Q1671.25 67.4314 1677.28 67.4314 Q1683.24 67.4314 1686.72 62.7323 Q1690.2 58.0333 1690.2 49.9314 Q1690.2 41.8701 1686.72 37.1711 Q1683.24 32.4315 1677.28 32.4315 M1677.28 26.1121 Q1687 26.1121 1692.55 32.4315 Q1698.1 38.7509 1698.1 49.9314 Q1698.1 61.0714 1692.55 67.4314 Q1687 73.7508 1677.28 73.7508 Q1667.52 73.7508 1661.97 67.4314 Q1656.46 61.0714 1656.46 49.9314 Q1656.46 38.7509 1661.97 32.4315 Q1667.52 26.1121 1677.28 26.1121 Z\" fill=\"#000000\" fill-rule=\"evenodd\" fill-opacity=\"1\" /><path clip-path=\"url(#clip570)\" d=\"M 0 0 M1736.75 34.1734 Q1735.49 33.4443 1733.99 33.1202 Q1732.54 32.7556 1730.75 32.7556 Q1724.43 32.7556 1721.03 36.8875 Q1717.67 40.9789 1717.67 48.6757 L1717.67 72.576 L1710.17 72.576 L1710.17 27.2059 L1717.67 27.2059 L1717.67 34.2544 Q1720.02 30.1225 1723.79 28.1376 Q1727.55 26.1121 1732.94 26.1121 Q1733.71 26.1121 1734.64 26.2337 Q1735.57 26.3147 1736.71 26.5172 L1736.75 34.1734 Z\" fill=\"#000000\" fill-rule=\"evenodd\" fill-opacity=\"1\" /><path clip-path=\"url(#clip570)\" d=\"M 0 0 M1763.44 76.7889 Q1760.28 84.8907 1757.29 87.3618 Q1754.29 89.8329 1749.27 89.8329 L1743.31 89.8329 L1743.31 83.5945 L1747.69 83.5945 Q1750.76 83.5945 1752.47 82.1361 Q1754.17 80.6778 1756.23 75.2496 L1757.57 71.8468 L1739.22 27.2059 L1747.12 27.2059 L1761.3 62.6918 L1775.48 27.2059 L1783.37 27.2059 L1763.44 76.7889 Z\" fill=\"#000000\" fill-rule=\"evenodd\" fill-opacity=\"1\" /><polyline clip-path=\"url(#clip572)\" style=\"stroke:#009af9; stroke-width:4; stroke-opacity:1; fill:none\" points=\"\n",
       "  1352.42,773.326 1313.85,676.884 1249.66,632.247 1190.25,615.933 1139.43,615.235 1097.17,624.261 1062.92,639.853 1036.22,660.09 1016.74,683.674 1004.29,709.647 \n",
       "  998.819,737.226 1000.43,765.708 1009.38,794.379 1026.09,822.434 1051.23,848.84 1085.77,872.107 1131.1,889.797 1189.09,897.303 1261.11,884.209 1335.65,824.064 \n",
       "  1342.47,721.402 1282.2,662.701 1217.84,652.019 1167.08,669.382 1134.11,703.323 1120.77,746.663 1129,793.482 1161.5,836.741 1221.51,864.229 1304.71,848.37 \n",
       "  1349.98,761.85 1303.65,687.317 1234.89,680.769 1188.97,722.307 1188.21,787.768 1249.21,838.682 1333.37,800.879 1320.28,719.531 1253.1,747.938 1280.35,877.531 \n",
       "  1326.97,907.126 1364.69,907.955 1390.18,888.676 1399.5,852.376 1383.66,800.07 1307.89,740.253 1158.67,784.503 1078.93,838.98 1012.55,889.537 952.633,937.378 \n",
       "  896.64,983.283 843.334,1027.73 791.999,1071.04 742.184,1113.43 693.582,1155.05 645.974,1196.03 599.198,1236.46 553.128,1276.41 507.669,1315.93 462.743,1355.09 \n",
       "  418.285,1393.91 374.245,1432.43 330.579,1470.68 287.249,1508.68 244.224,1546.46 201.477,1584.03 158.984,1621.41 116.726,1658.61 74.6831,1695.65 32.8401,1732.53 \n",
       "  -8.81726,1769.28 -50.3018,1805.89 -91.6249,1842.37 -132.797,1878.74 -173.827,1915 -214.724,1951.15 -255.495,1987.2 -296.147,2023.16 -336.688,2059.03 -377.122,2094.81 \n",
       "  -417.455,2130.52 -457.692,2166.15 -497.838,2201.71 -537.897,2237.19 -577.873,2272.61 -617.771,2307.97 -657.592,2343.26 -697.341,2378.5 -737.021,2413.68 -776.634,2448.8 \n",
       "  -816.184,2483.88 -855.672,2518.9 -895.101,2553.88 -934.473,2588.8 -973.791,2623.69 -1013.06,2658.53 -1052.27,2693.33 -1091.44,2728.09 -1130.55,2762.81 -1169.63,2797.49 \n",
       "  \n",
       "  \"/>\n",
       "<path clip-path=\"url(#clip570)\" d=\"\n",
       "M884.198 287.756 L1860.2 287.756 L1860.2 166.796 L884.198 166.796  Z\n",
       "  \" fill=\"#ffffff\" fill-rule=\"evenodd\" fill-opacity=\"1\"/>\n",
       "<polyline clip-path=\"url(#clip570)\" style=\"stroke:#000000; stroke-width:4; stroke-opacity:1; fill:none\" points=\"\n",
       "  884.198,287.756 1860.2,287.756 1860.2,166.796 884.198,166.796 884.198,287.756 \n",
       "  \"/>\n",
       "<polyline clip-path=\"url(#clip570)\" style=\"stroke:#009af9; stroke-width:4; stroke-opacity:1; fill:none\" points=\"\n",
       "  907.998,227.276 1050.8,227.276 \n",
       "  \"/>\n",
       "<path clip-path=\"url(#clip570)\" d=\"M 0 0 M1074.6 184.076 L1103.83 184.076 L1103.83 188.011 L1091.57 188.011 L1091.57 218.636 L1086.87 218.636 L1086.87 188.011 L1074.6 188.011 L1074.6 184.076 Z\" fill=\"#000000\" fill-rule=\"evenodd\" fill-opacity=\"1\" /><path clip-path=\"url(#clip570)\" d=\"M 0 0 M1116.22 196.691 Q1115.5 196.275 1114.65 196.09 Q1113.81 195.881 1112.79 195.881 Q1109.18 195.881 1107.24 198.242 Q1105.32 200.58 1105.32 204.978 L1105.32 218.636 L1101.03 218.636 L1101.03 192.71 L1105.32 192.71 L1105.32 196.738 Q1106.66 194.377 1108.81 193.242 Q1110.96 192.085 1114.04 192.085 Q1114.48 192.085 1115.02 192.154 Q1115.55 192.201 1116.2 192.316 L1116.22 196.691 Z\" fill=\"#000000\" fill-rule=\"evenodd\" fill-opacity=\"1\" /><path clip-path=\"url(#clip570)\" d=\"M 0 0 M1132.47 205.603 Q1127.31 205.603 1125.32 206.784 Q1123.33 207.964 1123.33 210.812 Q1123.33 213.08 1124.81 214.423 Q1126.31 215.742 1128.88 215.742 Q1132.42 215.742 1134.55 213.242 Q1136.71 210.719 1136.71 206.552 L1136.71 205.603 L1132.47 205.603 M1140.96 203.844 L1140.96 218.636 L1136.71 218.636 L1136.71 214.701 Q1135.25 217.062 1133.07 218.196 Q1130.89 219.307 1127.75 219.307 Q1123.77 219.307 1121.4 217.085 Q1119.07 214.839 1119.07 211.089 Q1119.07 206.714 1121.98 204.492 Q1124.92 202.27 1130.73 202.27 L1136.71 202.27 L1136.71 201.853 Q1136.71 198.914 1134.76 197.316 Q1132.84 195.696 1129.34 195.696 Q1127.12 195.696 1125.02 196.228 Q1122.91 196.761 1120.96 197.826 L1120.96 193.89 Q1123.3 192.988 1125.5 192.548 Q1127.7 192.085 1129.78 192.085 Q1135.41 192.085 1138.19 195.002 Q1140.96 197.918 1140.96 203.844 Z\" fill=\"#000000\" fill-rule=\"evenodd\" fill-opacity=\"1\" /><path clip-path=\"url(#clip570)\" d=\"M 0 0 M1149.74 192.71 L1154 192.71 L1154 219.099 Q1154 224.052 1152.1 226.275 Q1150.22 228.497 1146.03 228.497 L1144.41 228.497 L1144.41 224.886 L1145.55 224.886 Q1147.98 224.886 1148.86 223.751 Q1149.74 222.64 1149.74 219.099 L1149.74 192.71 M1149.74 182.617 L1154 182.617 L1154 188.011 L1149.74 188.011 L1149.74 182.617 Z\" fill=\"#000000\" fill-rule=\"evenodd\" fill-opacity=\"1\" /><path clip-path=\"url(#clip570)\" d=\"M 0 0 M1185.08 204.608 L1185.08 206.691 L1165.5 206.691 Q1165.78 211.089 1168.14 213.404 Q1170.52 215.696 1174.76 215.696 Q1177.21 215.696 1179.51 215.094 Q1181.82 214.492 1184.09 213.289 L1184.09 217.316 Q1181.8 218.288 1179.39 218.798 Q1176.98 219.307 1174.51 219.307 Q1168.3 219.307 1164.67 215.696 Q1161.06 212.085 1161.06 205.927 Q1161.06 199.562 1164.48 195.835 Q1167.93 192.085 1173.77 192.085 Q1179 192.085 1182.03 195.465 Q1185.08 198.821 1185.08 204.608 M1180.83 203.358 Q1180.78 199.863 1178.86 197.779 Q1176.96 195.696 1173.81 195.696 Q1170.25 195.696 1168.09 197.71 Q1165.96 199.724 1165.64 203.381 L1180.83 203.358 Z\" fill=\"#000000\" fill-rule=\"evenodd\" fill-opacity=\"1\" /><path clip-path=\"url(#clip570)\" d=\"M 0 0 M1210.73 193.705 L1210.73 197.687 Q1208.93 196.691 1207.1 196.205 Q1205.29 195.696 1203.44 195.696 Q1199.3 195.696 1197.01 198.335 Q1194.71 200.951 1194.71 205.696 Q1194.71 210.441 1197.01 213.08 Q1199.3 215.696 1203.44 215.696 Q1205.29 215.696 1207.1 215.21 Q1208.93 214.701 1210.73 213.705 L1210.73 217.64 Q1208.95 218.474 1207.03 218.89 Q1205.13 219.307 1202.98 219.307 Q1197.12 219.307 1193.67 215.626 Q1190.22 211.946 1190.22 205.696 Q1190.22 199.353 1193.7 195.719 Q1197.19 192.085 1203.26 192.085 Q1205.22 192.085 1207.1 192.502 Q1208.97 192.895 1210.73 193.705 Z\" fill=\"#000000\" fill-rule=\"evenodd\" fill-opacity=\"1\" /><path clip-path=\"url(#clip570)\" d=\"M 0 0 M1222.35 185.349 L1222.35 192.71 L1231.13 192.71 L1231.13 196.02 L1222.35 196.02 L1222.35 210.094 Q1222.35 213.265 1223.21 214.168 Q1224.09 215.071 1226.75 215.071 L1231.13 215.071 L1231.13 218.636 L1226.75 218.636 Q1221.82 218.636 1219.95 216.807 Q1218.07 214.955 1218.07 210.094 L1218.07 196.02 L1214.95 196.02 L1214.95 192.71 L1218.07 192.71 L1218.07 185.349 L1222.35 185.349 Z\" fill=\"#000000\" fill-rule=\"evenodd\" fill-opacity=\"1\" /><path clip-path=\"url(#clip570)\" d=\"M 0 0 M1246.77 195.696 Q1243.35 195.696 1241.36 198.381 Q1239.37 201.043 1239.37 205.696 Q1239.37 210.349 1241.33 213.034 Q1243.32 215.696 1246.77 215.696 Q1250.18 215.696 1252.17 213.011 Q1254.16 210.326 1254.16 205.696 Q1254.16 201.09 1252.17 198.404 Q1250.18 195.696 1246.77 195.696 M1246.77 192.085 Q1252.33 192.085 1255.5 195.696 Q1258.67 199.307 1258.67 205.696 Q1258.67 212.062 1255.5 215.696 Q1252.33 219.307 1246.77 219.307 Q1241.2 219.307 1238.02 215.696 Q1234.88 212.062 1234.88 205.696 Q1234.88 199.307 1238.02 195.696 Q1241.2 192.085 1246.77 192.085 Z\" fill=\"#000000\" fill-rule=\"evenodd\" fill-opacity=\"1\" /><path clip-path=\"url(#clip570)\" d=\"M 0 0 M1280.76 196.691 Q1280.04 196.275 1279.18 196.09 Q1278.35 195.881 1277.33 195.881 Q1273.72 195.881 1271.77 198.242 Q1269.85 200.58 1269.85 204.978 L1269.85 218.636 L1265.57 218.636 L1265.57 192.71 L1269.85 192.71 L1269.85 196.738 Q1271.2 194.377 1273.35 193.242 Q1275.5 192.085 1278.58 192.085 Q1279.02 192.085 1279.55 192.154 Q1280.08 192.201 1280.73 192.316 L1280.76 196.691 Z\" fill=\"#000000\" fill-rule=\"evenodd\" fill-opacity=\"1\" /><path clip-path=\"url(#clip570)\" d=\"M 0 0 M1296.01 221.043 Q1294.2 225.673 1292.49 227.085 Q1290.78 228.497 1287.91 228.497 L1284.51 228.497 L1284.51 224.932 L1287.01 224.932 Q1288.76 224.932 1289.74 224.099 Q1290.71 223.265 1291.89 220.163 L1292.65 218.219 L1282.17 192.71 L1286.68 192.71 L1294.78 212.988 L1302.88 192.71 L1307.4 192.71 L1296.01 221.043 Z\" fill=\"#000000\" fill-rule=\"evenodd\" fill-opacity=\"1\" /><path clip-path=\"url(#clip570)\" d=\"M 0 0 M1310.92 212.756 L1315.8 212.756 L1315.8 218.636 L1310.92 218.636 L1310.92 212.756 M1310.92 194.122 L1315.8 194.122 L1315.8 200.002 L1310.92 200.002 L1310.92 194.122 Z\" fill=\"#000000\" fill-rule=\"evenodd\" fill-opacity=\"1\" /><path clip-path=\"url(#clip570)\" d=\"M 0 0 M1340.71 182.617 L1344.99 182.617 L1344.99 203.89 L1357.7 192.71 L1363.14 192.71 L1349.39 204.839 L1363.72 218.636 L1358.16 218.636 L1344.99 205.974 L1344.99 218.636 L1340.71 218.636 L1340.71 182.617 Z\" fill=\"#000000\" fill-rule=\"evenodd\" fill-opacity=\"1\" /><path clip-path=\"url(#clip570)\" d=\"M 0 0 M1389.88 202.988 L1389.88 218.636 L1385.62 218.636 L1385.62 203.127 Q1385.62 199.446 1384.18 197.617 Q1382.75 195.789 1379.88 195.789 Q1376.43 195.789 1374.44 197.988 Q1372.44 200.187 1372.44 203.983 L1372.44 218.636 L1368.16 218.636 L1368.16 192.71 L1372.44 192.71 L1372.44 196.738 Q1373.97 194.4 1376.03 193.242 Q1378.12 192.085 1380.82 192.085 Q1385.29 192.085 1387.58 194.863 Q1389.88 197.617 1389.88 202.988 Z\" fill=\"#000000\" fill-rule=\"evenodd\" fill-opacity=\"1\" /><path clip-path=\"url(#clip570)\" d=\"M 0 0 M1408.42 195.696 Q1404.99 195.696 1403 198.381 Q1401.01 201.043 1401.01 205.696 Q1401.01 210.349 1402.98 213.034 Q1404.97 215.696 1408.42 215.696 Q1411.82 215.696 1413.81 213.011 Q1415.8 210.326 1415.8 205.696 Q1415.8 201.09 1413.81 198.404 Q1411.82 195.696 1408.42 195.696 M1408.42 192.085 Q1413.97 192.085 1417.14 195.696 Q1420.31 199.307 1420.31 205.696 Q1420.31 212.062 1417.14 215.696 Q1413.97 219.307 1408.42 219.307 Q1402.84 219.307 1399.67 215.696 Q1396.52 212.062 1396.52 205.696 Q1396.52 199.307 1399.67 195.696 Q1402.84 192.085 1408.42 192.085 Z\" fill=\"#000000\" fill-rule=\"evenodd\" fill-opacity=\"1\" /><path clip-path=\"url(#clip570)\" d=\"M 0 0 M1431.59 185.349 L1431.59 192.71 L1440.36 192.71 L1440.36 196.02 L1431.59 196.02 L1431.59 210.094 Q1431.59 213.265 1432.44 214.168 Q1433.32 215.071 1435.99 215.071 L1440.36 215.071 L1440.36 218.636 L1435.99 218.636 Q1431.06 218.636 1429.18 216.807 Q1427.31 214.955 1427.31 210.094 L1427.31 196.02 L1424.18 196.02 L1424.18 192.71 L1427.31 192.71 L1427.31 185.349 L1431.59 185.349 Z\" fill=\"#000000\" fill-rule=\"evenodd\" fill-opacity=\"1\" /><path clip-path=\"url(#clip570)\" d=\"M 0 0 M1462.49 193.474 L1462.49 197.502 Q1460.68 196.576 1458.74 196.113 Q1456.8 195.65 1454.71 195.65 Q1451.54 195.65 1449.94 196.622 Q1448.37 197.594 1448.37 199.539 Q1448.37 201.02 1449.5 201.877 Q1450.64 202.71 1454.06 203.474 L1455.52 203.798 Q1460.06 204.77 1461.96 206.552 Q1463.88 208.312 1463.88 211.483 Q1463.88 215.094 1461.01 217.201 Q1458.16 219.307 1453.16 219.307 Q1451.08 219.307 1448.81 218.89 Q1446.56 218.497 1444.06 217.687 L1444.06 213.289 Q1446.43 214.515 1448.72 215.14 Q1451.01 215.742 1453.25 215.742 Q1456.26 215.742 1457.88 214.724 Q1459.5 213.682 1459.5 211.807 Q1459.5 210.071 1458.32 209.145 Q1457.17 208.219 1453.21 207.363 L1451.73 207.015 Q1447.77 206.182 1446.01 204.469 Q1444.25 202.733 1444.25 199.724 Q1444.25 196.066 1446.84 194.076 Q1449.43 192.085 1454.2 192.085 Q1456.56 192.085 1458.65 192.432 Q1460.73 192.779 1462.49 193.474 Z\" fill=\"#000000\" fill-rule=\"evenodd\" fill-opacity=\"1\" /><path clip-path=\"url(#clip570)\" d=\"M 0 0 M1471.22 197.108 L1500.89 197.108 L1500.89 200.997 L1471.22 200.997 L1471.22 197.108 M1471.22 206.552 L1500.89 206.552 L1500.89 210.488 L1471.22 210.488 L1471.22 206.552 Z\" fill=\"#000000\" fill-rule=\"evenodd\" fill-opacity=\"1\" /><path clip-path=\"url(#clip570)\" d=\"M 0 0 M1511.8 214.701 L1519.43 214.701 L1519.43 188.335 L1511.12 190.002 L1511.12 185.742 L1519.39 184.076 L1524.06 184.076 L1524.06 214.701 L1531.7 214.701 L1531.7 218.636 L1511.8 218.636 L1511.8 214.701 Z\" fill=\"#000000\" fill-rule=\"evenodd\" fill-opacity=\"1\" /><path clip-path=\"url(#clip570)\" d=\"M 0 0 M1551.15 187.154 Q1547.54 187.154 1545.71 190.719 Q1543.9 194.261 1543.9 201.39 Q1543.9 208.497 1545.71 212.062 Q1547.54 215.603 1551.15 215.603 Q1554.78 215.603 1556.59 212.062 Q1558.42 208.497 1558.42 201.39 Q1558.42 194.261 1556.59 190.719 Q1554.78 187.154 1551.15 187.154 M1551.15 183.451 Q1556.96 183.451 1560.01 188.057 Q1563.09 192.64 1563.09 201.39 Q1563.09 210.117 1560.01 214.724 Q1556.96 219.307 1551.15 219.307 Q1545.34 219.307 1542.26 214.724 Q1539.2 210.117 1539.2 201.39 Q1539.2 192.64 1542.26 188.057 Q1545.34 183.451 1551.15 183.451 Z\" fill=\"#000000\" fill-rule=\"evenodd\" fill-opacity=\"1\" /><path clip-path=\"url(#clip570)\" d=\"M 0 0 M1581.31 187.154 Q1577.7 187.154 1575.87 190.719 Q1574.06 194.261 1574.06 201.39 Q1574.06 208.497 1575.87 212.062 Q1577.7 215.603 1581.31 215.603 Q1584.94 215.603 1586.75 212.062 Q1588.58 208.497 1588.58 201.39 Q1588.58 194.261 1586.75 190.719 Q1584.94 187.154 1581.31 187.154 M1581.31 183.451 Q1587.12 183.451 1590.17 188.057 Q1593.25 192.64 1593.25 201.39 Q1593.25 210.117 1590.17 214.724 Q1587.12 219.307 1581.31 219.307 Q1575.5 219.307 1572.42 214.724 Q1569.36 210.117 1569.36 201.39 Q1569.36 192.64 1572.42 188.057 Q1575.5 183.451 1581.31 183.451 Z\" fill=\"#000000\" fill-rule=\"evenodd\" fill-opacity=\"1\" /><path clip-path=\"url(#clip570)\" d=\"M 0 0 M1625.98 195.696 Q1622.56 195.696 1620.57 198.381 Q1618.58 201.043 1618.58 205.696 Q1618.58 210.349 1620.55 213.034 Q1622.54 215.696 1625.98 215.696 Q1629.39 215.696 1631.38 213.011 Q1633.37 210.326 1633.37 205.696 Q1633.37 201.09 1631.38 198.404 Q1629.39 195.696 1625.98 195.696 M1625.98 192.085 Q1631.54 192.085 1634.71 195.696 Q1637.88 199.307 1637.88 205.696 Q1637.88 212.062 1634.71 215.696 Q1631.54 219.307 1625.98 219.307 Q1620.41 219.307 1617.23 215.696 Q1614.09 212.062 1614.09 205.696 Q1614.09 199.307 1617.23 195.696 Q1620.41 192.085 1625.98 192.085 Z\" fill=\"#000000\" fill-rule=\"evenodd\" fill-opacity=\"1\" /><path clip-path=\"url(#clip570)\" d=\"M 0 0 M1659.97 196.691 Q1659.25 196.275 1658.39 196.09 Q1657.56 195.881 1656.54 195.881 Q1652.93 195.881 1650.98 198.242 Q1649.06 200.58 1649.06 204.978 L1649.06 218.636 L1644.78 218.636 L1644.78 192.71 L1649.06 192.71 L1649.06 196.738 Q1650.41 194.377 1652.56 193.242 Q1654.71 192.085 1657.79 192.085 Q1658.23 192.085 1658.76 192.154 Q1659.29 192.201 1659.94 192.316 L1659.97 196.691 Z\" fill=\"#000000\" fill-rule=\"evenodd\" fill-opacity=\"1\" /><path clip-path=\"url(#clip570)\" d=\"M 0 0 M1683.04 205.696 Q1683.04 200.997 1681.1 198.335 Q1679.18 195.65 1675.8 195.65 Q1672.42 195.65 1670.48 198.335 Q1668.55 200.997 1668.55 205.696 Q1668.55 210.395 1670.48 213.08 Q1672.42 215.742 1675.8 215.742 Q1679.18 215.742 1681.1 213.08 Q1683.04 210.395 1683.04 205.696 M1668.55 196.645 Q1669.9 194.33 1671.93 193.219 Q1673.99 192.085 1676.84 192.085 Q1681.56 192.085 1684.5 195.835 Q1687.47 199.585 1687.47 205.696 Q1687.47 211.807 1684.5 215.557 Q1681.56 219.307 1676.84 219.307 Q1673.99 219.307 1671.93 218.196 Q1669.9 217.062 1668.55 214.747 L1668.55 218.636 L1664.27 218.636 L1664.27 182.617 L1668.55 182.617 L1668.55 196.645 Z\" fill=\"#000000\" fill-rule=\"evenodd\" fill-opacity=\"1\" /><path clip-path=\"url(#clip570)\" d=\"M 0 0 M1694.53 192.71 L1698.79 192.71 L1698.79 218.636 L1694.53 218.636 L1694.53 192.71 M1694.53 182.617 L1698.79 182.617 L1698.79 188.011 L1694.53 188.011 L1694.53 182.617 Z\" fill=\"#000000\" fill-rule=\"evenodd\" fill-opacity=\"1\" /><path clip-path=\"url(#clip570)\" d=\"M 0 0 M1711.91 185.349 L1711.91 192.71 L1720.68 192.71 L1720.68 196.02 L1711.91 196.02 L1711.91 210.094 Q1711.91 213.265 1712.77 214.168 Q1713.65 215.071 1716.31 215.071 L1720.68 215.071 L1720.68 218.636 L1716.31 218.636 Q1711.38 218.636 1709.5 216.807 Q1707.63 214.955 1707.63 210.094 L1707.63 196.02 L1704.5 196.02 L1704.5 192.71 L1707.63 192.71 L1707.63 185.349 L1711.91 185.349 Z\" fill=\"#000000\" fill-rule=\"evenodd\" fill-opacity=\"1\" /><path clip-path=\"url(#clip570)\" d=\"M 0 0 M1742.81 193.474 L1742.81 197.502 Q1741.01 196.576 1739.06 196.113 Q1737.12 195.65 1735.04 195.65 Q1731.86 195.65 1730.27 196.622 Q1728.69 197.594 1728.69 199.539 Q1728.69 201.02 1729.83 201.877 Q1730.96 202.71 1734.39 203.474 L1735.85 203.798 Q1740.38 204.77 1742.28 206.552 Q1744.2 208.312 1744.2 211.483 Q1744.2 215.094 1741.33 217.201 Q1738.48 219.307 1733.48 219.307 Q1731.4 219.307 1729.13 218.89 Q1726.89 218.497 1724.39 217.687 L1724.39 213.289 Q1726.75 214.515 1729.04 215.14 Q1731.33 215.742 1733.58 215.742 Q1736.59 215.742 1738.21 214.724 Q1739.83 213.682 1739.83 211.807 Q1739.83 210.071 1738.65 209.145 Q1737.49 208.219 1733.53 207.363 L1732.05 207.015 Q1728.09 206.182 1726.33 204.469 Q1724.57 202.733 1724.57 199.724 Q1724.57 196.066 1727.16 194.076 Q1729.76 192.085 1734.53 192.085 Q1736.89 192.085 1738.97 192.432 Q1741.05 192.779 1742.81 193.474 Z\" fill=\"#000000\" fill-rule=\"evenodd\" fill-opacity=\"1\" /><path clip-path=\"url(#clip570)\" d=\"M 0 0 M1751.54 197.108 L1781.22 197.108 L1781.22 200.997 L1751.54 200.997 L1751.54 197.108 M1751.54 206.552 L1781.22 206.552 L1781.22 210.488 L1751.54 210.488 L1751.54 206.552 Z\" fill=\"#000000\" fill-rule=\"evenodd\" fill-opacity=\"1\" /><path clip-path=\"url(#clip570)\" d=\"M 0 0 M1805.47 200.002 Q1808.83 200.719 1810.71 202.988 Q1812.6 205.256 1812.6 208.589 Q1812.6 213.705 1809.09 216.506 Q1805.57 219.307 1799.09 219.307 Q1796.91 219.307 1794.6 218.867 Q1792.3 218.451 1789.85 217.594 L1789.85 213.08 Q1791.79 214.214 1794.11 214.793 Q1796.42 215.372 1798.95 215.372 Q1803.35 215.372 1805.64 213.636 Q1807.95 211.9 1807.95 208.589 Q1807.95 205.534 1805.8 203.821 Q1803.67 202.085 1799.85 202.085 L1795.82 202.085 L1795.82 198.242 L1800.03 198.242 Q1803.48 198.242 1805.31 196.877 Q1807.14 195.488 1807.14 192.895 Q1807.14 190.233 1805.24 188.821 Q1803.37 187.386 1799.85 187.386 Q1797.93 187.386 1795.73 187.803 Q1793.53 188.219 1790.89 189.099 L1790.89 184.932 Q1793.55 184.191 1795.87 183.821 Q1798.21 183.451 1800.27 183.451 Q1805.59 183.451 1808.69 185.881 Q1811.79 188.289 1811.79 192.409 Q1811.79 195.279 1810.15 197.27 Q1808.51 199.238 1805.47 200.002 Z\" fill=\"#000000\" fill-rule=\"evenodd\" fill-opacity=\"1\" /></svg>\n"
      ]
     },
     "metadata": {},
     "output_type": "display_data"
    },
    {
     "name": "stdout",
     "output_type": "stream",
     "text": [
      "DIFFERENCE: 24.38818135303061\n"
     ]
    }
   ],
   "source": [
    "# plot(t, energy)\n",
    "traj = plot_orbit(transfer_orbit, dynamics_rk4, 100, 3)\n",
    "println(\"DIFFERENCE: \", norm(traj[end, :] - traj[1, :]))\n",
    "\n",
    "# time = 1/ radius "
   ]
  },
  {
   "cell_type": "markdown",
   "metadata": {},
   "source": [
    "## Constraints"
   ]
  },
  {
   "cell_type": "markdown",
   "metadata": {},
   "source": [
    "$ c = [c_{init}, c_{terminal}, c_{dynamics}, c_{thrust}, c_{time}] $"
   ]
  },
  {
   "cell_type": "code",
   "execution_count": 49,
   "metadata": {
    "scrolled": true
   },
   "outputs": [
    {
     "data": {
      "text/plain": [
       "unpackZ (generic function with 1 method)"
      ]
     },
     "execution_count": 49,
     "metadata": {},
     "output_type": "execute_result"
    }
   ],
   "source": [
    "function unpackZ(N, ztraj)\n",
    "    \"\"\"\n",
    "    Inputs: \n",
    "        ztraj -> Trajectory\n",
    "    \n",
    "    Returns: \n",
    "        xtraj -> state trajectory (Nx, T)\n",
    "        utraj -> control trajectory (Nu, T-1)\n",
    "    \"\"\"\n",
    "    Nt = N\n",
    "    z = reshape(ztraj[1:(end-Nx)],Nx+Nu,Nt-1)\n",
    "    xtraj = hcat(z[1:Nx,:], ztraj[end-(Nx-1):end])\n",
    "    utraj = z[(Nx+1):(Nx+Nu),:]\n",
    "    \n",
    "    return xtraj, utraj\n",
    "end"
   ]
  },
  {
   "cell_type": "code",
   "execution_count": 50,
   "metadata": {
    "scrolled": true
   },
   "outputs": [
    {
     "data": {
      "text/plain": [
       "dynamics_constraints! (generic function with 1 method)"
      ]
     },
     "execution_count": 50,
     "metadata": {},
     "output_type": "execute_result"
    }
   ],
   "source": [
    "function dynamics_constraints!(nlp, c, ztraj)\n",
    "    \"\"\"\n",
    "    Inputs: \n",
    "        c -> Constraint Vector: shape = \n",
    "        ztraj -> Current trajectory: shape ((Nx+Nu)*T, 1)\n",
    "    \n",
    "    Returns: \n",
    "        Nothing\n",
    "    \"\"\"\n",
    "\n",
    "    X, U = unpackZ(nlp.N, ztraj)\n",
    "    N = nlp.N\n",
    "\n",
    "    d = reshape(view(c, nlp.idx_ineq[3]), Nx, (N-1))\n",
    "    \n",
    "    for k = 1:N-1\n",
    "        u = U[1:3, k]\n",
    "        h = U[4, k]\n",
    "#         d[:, k] .= dynamics_rk8(X[:,k], u, h) - X[:,k+1]\n",
    "        d[:, k] .= nlp.model(X[:, k], u, h) - X[:, k+1]\n",
    "    end\n",
    "    \n",
    "    return d\n",
    "end\n",
    "    "
   ]
  },
  {
   "cell_type": "code",
   "execution_count": 51,
   "metadata": {
    "scrolled": true
   },
   "outputs": [
    {
     "data": {
      "text/plain": [
       "thrust_constraints! (generic function with 1 method)"
      ]
     },
     "execution_count": 51,
     "metadata": {},
     "output_type": "execute_result"
    }
   ],
   "source": [
    "function thrust_constraints!(nlp, c, ztraj)\n",
    "    \"\"\"\n",
    "    Inputs: \n",
    "        c -> Constraint Vector: shape = \n",
    "        ztraj -> Current trajectory: shape ((Nx+Nu)*T, 1)\n",
    "    \n",
    "    Returns: \n",
    "        Nothing\n",
    "    \"\"\"\n",
    "    N = nlp.N\n",
    "    d = view(c, nlp.idx_ineq[4]) \n",
    "    X, U = unpackZ(nlp.N, ztraj)\n",
    "    \n",
    "    for k = 1:N-1\n",
    "        d[k] = norm(U[1:3,k])\n",
    "    end\n",
    "    \n",
    "    \n",
    "    return d\n",
    "end"
   ]
  },
  {
   "cell_type": "code",
   "execution_count": 52,
   "metadata": {
    "scrolled": true
   },
   "outputs": [
    {
     "data": {
      "text/plain": [
       "time_constraints! (generic function with 1 method)"
      ]
     },
     "execution_count": 52,
     "metadata": {},
     "output_type": "execute_result"
    }
   ],
   "source": [
    "function time_constraints!(nlp, c, ztraj)\n",
    "    N = nlp.N\n",
    "    d = view(c, nlp.idx_ineq[5])\n",
    "    X, U = unpackZ(nlp.N, ztraj)\n",
    "    \n",
    "    d[:] .= U[end, :]\n",
    "    \n",
    "    return d\n",
    "    \n",
    "end"
   ]
  },
  {
   "cell_type": "code",
   "execution_count": 53,
   "metadata": {
    "scrolled": true
   },
   "outputs": [
    {
     "data": {
      "text/plain": [
       "con! (generic function with 1 method)"
      ]
     },
     "execution_count": 53,
     "metadata": {},
     "output_type": "execute_result"
    }
   ],
   "source": [
    "function con!(nlp, c, Z)\n",
    "    X, U = unpackZ(nlp.N, Z)\n",
    "    c[nlp.idx_ineq[1]] .= X[:,1] - nlp.zref[1:Nx, 1] # Initial condition constraint\n",
    "    c[nlp.idx_ineq[2][1]] = (norm(X[1:3,end]) - norm(xgoal[1:3]))\n",
    "    c[nlp.idx_ineq[2][2]] = (norm(X[4:end, end])-norm(xgoal[4:end]))\n",
    "    c[nlp.idx_ineq[2][3]] = dot(X[1:3, end], X[4:end, end]) # Final condition constraint\n",
    "    c[nlp.idx_ineq[2][4]] = X[3,end]\n",
    "    c[nlp.idx_ineq[2][5]] = X[6,end]\n",
    "\n",
    "    dynamics_constraints!(nlp, c, Z) # Dynamics constraints\n",
    "    thrust_constraints!(nlp, c, Z) # Thrust constraints\n",
    "    time_constraints!(nlp, c, Z)\n",
    "end"
   ]
  },
  {
   "cell_type": "markdown",
   "metadata": {},
   "source": [
    "## Constraint Jacobian"
   ]
  },
  {
   "cell_type": "code",
   "execution_count": 54,
   "metadata": {
    "scrolled": true
   },
   "outputs": [
    {
     "data": {
      "text/plain": [
       "terminal_constraint_jacobian! (generic function with 1 method)"
      ]
     },
     "execution_count": 54,
     "metadata": {},
     "output_type": "execute_result"
    }
   ],
   "source": [
    "function terminal_constraint_jacobian!(nlp, jac, Z)\n",
    "    X, U = unpackZ(nlp.N, Z)\n",
    "\n",
    "    term_r = X[1:3, end]./(norm(X[1:3,end])+1e-12) #(3, 1)\n",
    "    term_v = X[4:6, end]./(norm(X[4:6,end])+1e-12) #(3, 1)\n",
    "\n",
    "    jac .= [([term_r, term_v, X[4:6, end], X[1:3, end], 1.0, 1.0]...)...]\n",
    "    \n",
    "end"
   ]
  },
  {
   "cell_type": "code",
   "execution_count": 55,
   "metadata": {},
   "outputs": [
    {
     "data": {
      "text/plain": [
       "dynamics_wrapper (generic function with 1 method)"
      ]
     },
     "execution_count": 55,
     "metadata": {},
     "output_type": "execute_result"
    }
   ],
   "source": [
    "function dynamics_wrapper(nlp, zk)\n",
    "    # zk is the state at time k \n",
    "    \n",
    "    x = zk[1:Nx]\n",
    "    u = zk[Nx+1:Nx+3]\n",
    "    h = zk[Nx+4]\n",
    "    \n",
    "    out = nlp.model(x, u, h)\n",
    "    \n",
    "    return out\n",
    "end"
   ]
  },
  {
   "cell_type": "code",
   "execution_count": 56,
   "metadata": {
    "scrolled": true
   },
   "outputs": [
    {
     "data": {
      "text/plain": [
       "dynamics_constraint_jacobian! (generic function with 1 method)"
      ]
     },
     "execution_count": 56,
     "metadata": {},
     "output_type": "execute_result"
    }
   ],
   "source": [
    "function dynamics_constraint_jacobian!(nlp, jac, Z)\n",
    "#     D = rehape(view(jac, nlp.cinds[3], :), \n",
    "    N = nlp.N\n",
    "    ix = [Int((Nx+Nu)*i+1):Int((Nx+Nu)*i+Nx) for i=0:N-1]\n",
    "    iu = [Int((Nx)*i+Nu*(i-1)+1):Int((Nx+Nu)*i) for i=1:N-1]\n",
    "    \n",
    "    step = 96\n",
    "    step2 = 60\n",
    "    for k =0:N-2\n",
    "        j1 = view(jac, k*step+1:step*k+step2)\n",
    "        j2 = view(jac, step*k+step2+1:step*k+step)\n",
    "\n",
    "        ForwardDiff.jacobian!(j1, z->dynamics_wrapper(nlp, z), Z[ix[k+1][1]:iu[k+1][end]])\n",
    "        j2 .= [(-1.0*Matrix(I, 6, 6)...)...]\n",
    "\n",
    "    end\n",
    "    \n",
    "    return nothing\n",
    "end"
   ]
  },
  {
   "cell_type": "code",
   "execution_count": 57,
   "metadata": {
    "scrolled": true
   },
   "outputs": [
    {
     "data": {
      "text/plain": [
       "thrust_constraint_jacobian! (generic function with 1 method)"
      ]
     },
     "execution_count": 57,
     "metadata": {},
     "output_type": "execute_result"
    }
   ],
   "source": [
    "function thrust_constraint_jacobian!(nlp, jac, Z)\n",
    "\n",
    "    X, U = unpackZ(nlp.N, Z)\n",
    "\n",
    "    norms_grad = [([u./(1e-12+norm(u)) for u in U[1:3,:]]...)...]\n",
    "    jac .= norms_grad # (3*(N-1))\n",
    "    return nothing\n",
    "end"
   ]
  },
  {
   "cell_type": "code",
   "execution_count": 58,
   "metadata": {
    "scrolled": true
   },
   "outputs": [
    {
     "data": {
      "text/plain": [
       "jac_c! (generic function with 1 method)"
      ]
     },
     "execution_count": 58,
     "metadata": {},
     "output_type": "execute_result"
    }
   ],
   "source": [
    "function jac_c!(nlp, jac, Z)\n",
    "    N = nlp.N\n",
    "    i_init = 1:Nx\n",
    "    i_term = i_init[end]+1:i_init[end]+3+3+6+1+1\n",
    "    \n",
    "    i_dyn = i_term[end]+1:i_term[end]+(Nx*(Nx+Nu+Nx)*(N-1))\n",
    "    \n",
    "    i_thrust = i_dyn[end]+1:i_dyn[end]+3*(N-1)\n",
    "    \n",
    "    i_time = i_thrust[end]+1:i_thrust[end]+(N-1) # Definitely not sure about this\n",
    "\n",
    "    \n",
    "    jac_init = view(jac, i_init)\n",
    "    jac_term = view(jac, i_term)\n",
    "    jac_dynamics = view(jac, i_dyn)\n",
    "    jac_thrust = view(jac, i_thrust)\n",
    "    jac_time = view(jac, i_time)\n",
    "\n",
    "    jac_init .= 1 # Initial Condtion Constraint\n",
    "    terminal_constraint_jacobian!(nlp, jac_term, Z) \n",
    "    dynamics_constraint_jacobian!(nlp, jac_dynamics, Z)\n",
    "    thrust_constraint_jacobian!(nlp, jac_thrust, Z)\n",
    "    jac_time .= 1\n",
    "    \n",
    "    return nothing\n",
    "end"
   ]
  },
  {
   "cell_type": "markdown",
   "metadata": {},
   "source": [
    "## Part (a): Implement DIRCOL \n",
    "Implement DIRCOL by completing the provided methods. "
   ]
  },
  {
   "cell_type": "code",
   "execution_count": 59,
   "metadata": {
    "scrolled": true
   },
   "outputs": [
    {
     "data": {
      "text/plain": [
       "solve (generic function with 1 method)"
      ]
     },
     "execution_count": 59,
     "metadata": {},
     "output_type": "execute_result"
    }
   ],
   "source": [
    "\"\"\"\n",
    "    Problem{n,m,L}\n",
    "\n",
    "Describes a trajectory optimization problem with `n` states, `m` controls, and \n",
    "a model of type `L`. \n",
    "\n",
    "# Constructor\n",
    "    Problem(model::L, obj::Vector{<:QuadraticCost{n,m}}, tf, x0, xf) where {n,m,L}\n",
    "\n",
    "where `tf` is the final time, and `x0` is the initial state. \n",
    "\"\"\"\n",
    "\n",
    "\n",
    "struct ProblemMOI <: MOI.AbstractNLPEvaluator\n",
    "    n_nlp::Int # num_primals\n",
    "    m_nlp::Int # num_duals\n",
    "    N::Int # num_knots\n",
    "    idx_ineq # list of constraint ranges\n",
    "    obj_grad::Bool \n",
    "    con_jac::Bool\n",
    "    sparsity_jac\n",
    "    primal_bounds\n",
    "    constraint_bounds\n",
    "    hessian_lagrangian::Bool\n",
    "    zref\n",
    "    model\n",
    "end\n",
    "\n",
    "function ProblemMOI(n_nlp, N, zref;\n",
    "        idx_ineq=get_cinds(Nx, N),\n",
    "        m_nlp = idx_ineq[end][end],\n",
    "        obj_grad=true,\n",
    "        con_jac=true,\n",
    "        sparsity_jac=sparsity_jacobian(n_nlp,m_nlp),\n",
    "        primal_bounds=primal_bounds(n_nlp),\n",
    "        constraint_bounds=constraint_bounds(m_nlp,idx_ineq=idx_ineq),\n",
    "        hessian_lagrangian=false, \n",
    "        model=dynamics_rk8)\n",
    "\n",
    "    ProblemMOI(\n",
    "        n_nlp,\n",
    "        m_nlp,\n",
    "        N, # Nt\n",
    "        idx_ineq, # Indexes\n",
    "        obj_grad, \n",
    "        con_jac,\n",
    "        sparsity_jac,\n",
    "        primal_bounds,\n",
    "        constraint_bounds,\n",
    "        hessian_lagrangian, \n",
    "        zref, \n",
    "        model)\n",
    "end\n",
    "\n",
    "function primal_bounds(n)\n",
    "    x_l = -Inf*ones(n)\n",
    "    x_u = Inf*ones(n)\n",
    "    return x_l, x_u\n",
    "end\n",
    "\n",
    "function get_cinds(n, N)\n",
    "    c_init_inds = 1:Nx\n",
    "    c_term_inds = (c_init_inds[end]+1):(c_init_inds[end]+5)\n",
    "    c_dyn_inds = (c_term_inds[end]+1):(c_term_inds[end]+((Nx)*(N-1)))\n",
    "    c_thrust_inds = (c_dyn_inds[end]+1):(c_dyn_inds[end]+((N-1)))\n",
    "    c_time_inds = c_thrust_inds[end]+1:c_thrust_inds[end]+(N-1)\n",
    "    \n",
    "    return [c_init_inds, c_term_inds, c_dyn_inds, c_thrust_inds, c_time_inds]\n",
    "end\n",
    "\n",
    "function constraint_bounds(m_nlp; idx_ineq)\n",
    "    lb = zeros(m_nlp) \n",
    "    lb[idx_ineq[1]] .= 0 ##x0\n",
    "    lb[idx_ineq[2]] .= 0 #xf\n",
    "    lb[idx_ineq[3]] .= 0\n",
    "    lb[idx_ineq[4]] .= 0 # Might have a minimum thrust requirment\n",
    "    lb[idx_ineq[5]] .= 1e-3\n",
    "\n",
    "    ub = zeros(m_nlp) #fill(-Inf,m_nlp)\n",
    "    ub[idx_ineq[1]] .= 0 #x0\n",
    "    ub[idx_ineq[2]] .= 0 #xf\n",
    "    ub[idx_ineq[3]] .= 0\n",
    "    ub[idx_ineq[4]] .= 10.0\n",
    "    ub[idx_ineq[5]] .= 1e-1\n",
    "\n",
    "    return lb, ub\n",
    "end\n",
    "\n",
    "function row_col!(row,col,r,c)\n",
    "    for cc in c\n",
    "        for rr in r\n",
    "            push!(row,convert(Int,rr))\n",
    "            push!(col,convert(Int,cc))\n",
    "        end\n",
    "    end\n",
    "    return row, col\n",
    "end\n",
    "\n",
    "function sparsity_jacobian(n,m, N)\n",
    "    row = []\n",
    "    col = []\n",
    "\n",
    "    idx_ineq = get_cinds(0, N)\n",
    "    ix = [Int((Nx+Nu)*i+1):Int((Nx+Nu)*i+Nx) for i=0:N-1]\n",
    "    iu = [Int((Nx)*i+Nu*(i-1)+1):Int((Nx+Nu)*i-1) for i=1:N-1]\n",
    "\n",
    "    # initial Constraints \n",
    "    for k=1:Nx\n",
    "        push!(row, convert(Int, k))\n",
    "        push!(col, convert(Int, k))\n",
    "    end\n",
    "    \n",
    "    # Terminal Constraints\n",
    "    for k = 1:3\n",
    "        push!(row, convert(Int, idx_ineq[2][1]))\n",
    "        push!(col, convert(Int, n-6+k))\n",
    "\n",
    "    end\n",
    "    for k = 1:3\n",
    "        push!(row, convert(Int, idx_ineq[2][2]))\n",
    "        push!(col, convert(Int, n-3+k))\n",
    "    end\n",
    "    for k=1:6\n",
    "        push!(row, convert(Int, idx_ineq[2][3]))\n",
    "        push!(col, convert(Int, n-6+k))\n",
    "    end\n",
    "    \n",
    "    push!(row, convert(Int, idx_ineq[2][4]))\n",
    "    push!(col, convert(Int, n-3))\n",
    "    push!(row, convert(Int, idx_ineq[2][5]))\n",
    "    push!(col, convert(Int, n))\n",
    "    \n",
    "    \n",
    "    # Dynamics_con\n",
    "    for i=0:N-2\n",
    "        row_col!(row, col, idx_ineq[3][Nx*i+1:(Nx*(i+1))], ix[i+1][1]:iu[i+1][end]+1)\n",
    "        row_col!(row, col, idx_ineq[3][Nx*i+1:(Nx*(i+1))], ix[i+2]) # number of values will be idx_ineq[3][end]-idx_ineq[3][1]*n \n",
    "    end\n",
    "    \n",
    "    # Thrust Con + time con\n",
    "    idx_h = [i[end]+1 for i in iu]\n",
    "    for k=1:N-1\n",
    "        for j=1:3\n",
    "            push!(row, convert(Int, idx_ineq[4][k]))\n",
    "            push!(col, convert(Int, iu[k][j]))\n",
    "        end\n",
    "\n",
    "    end\n",
    "    for k=1:N-1\n",
    "        push!(row, convert(Int, idx_ineq[5][k]))\n",
    "        push!(col, convert(Int, idx_h[k]))\n",
    "    end\n",
    "    \n",
    "\n",
    "    return collect(zip(row,col))\n",
    "end\n",
    "\n",
    "function sparsity_hessian(n,m)\n",
    "#     N = (n-Nx)/(Nx+Nu)+1\n",
    "\n",
    "    row = []\n",
    "    col = []\n",
    "    r = 1:m\n",
    "    c = 1:n\n",
    "    row_col!(row, col, r, c)\n",
    "    \n",
    "    return collect(zip(row,col))\n",
    "end\n",
    "\n",
    "function MOI.eval_objective(prob::MOI.AbstractNLPEvaluator, x)\n",
    "    cost(prob, x)\n",
    "end\n",
    "\n",
    "function MOI.eval_objective_gradient(prob::MOI.AbstractNLPEvaluator, grad_f, x)\n",
    "    ForwardDiff.gradient!(grad_f, x -> cost(prob, x), x)\n",
    "    return nothing\n",
    "end\n",
    "\n",
    "function MOI.eval_constraint(prob::MOI.AbstractNLPEvaluator,g,x)\n",
    "    con!(prob, g, x) # TODO: Implement con! (Mitch)\n",
    "    return nothing\n",
    "end\n",
    "\n",
    "function MOI.eval_constraint_jacobian(prob::MOI.AbstractNLPEvaluator, jac, x)\n",
    "#     IF DENSE\n",
    "#     ForwardDiff.jacobian!(jac, (c,x) -> con!(prob, c, x), zeros(prob.m_nlp), x)\n",
    "\n",
    "    # IF SPARSE\n",
    "    jac_c!(prob, jac, x)\n",
    "    return nothing #sparse(r, c, jac[prob.sparcity_jac])\n",
    "end\n",
    "\n",
    "function MOI.features_available(prob::MOI.AbstractNLPEvaluator)\n",
    "    return [:Grad, :Jac]\n",
    "end\n",
    "\n",
    "# TODO: Confirm meaning of these functions\n",
    "MOI.initialize(prob::MOI.AbstractNLPEvaluator, features) = nothing\n",
    "MOI.jacobian_structure(prob::MOI.AbstractNLPEvaluator) = prob.sparsity_jac #\n",
    "\n",
    "\n",
    "\n",
    "function solve(x0,prob::MOI.AbstractNLPEvaluator; \n",
    "        solver=Ipopt.Optimizer(), tol=1.0e-6,c_tol=1.0e-6,max_iter=100)\n",
    "    x_l, x_u = prob.primal_bounds\n",
    "    c_l, c_u = prob.constraint_bounds\n",
    "\n",
    "    nlp_bounds = MOI.NLPBoundsPair.(c_l,c_u)\n",
    "    block_data = MOI.NLPBlockData(nlp_bounds,prob,true)\n",
    "\n",
    "#     solver = Ipopt.Optimizer()\n",
    "    solver.options[\"max_iter\"] = max_iter\n",
    "    solver.options[\"tol\"] = tol\n",
    "    solver.options[\"constr_viol_tol\"] = c_tol\n",
    "\n",
    "    x = MOI.add_variables(solver, prob.n_nlp)\n",
    "\n",
    "    for i = 1:prob.n_nlp\n",
    "        xi = MOI.SingleVariable(x[i])\n",
    "        MOI.add_constraint(solver, xi, MOI.LessThan(x_u[i]))\n",
    "        MOI.add_constraint(solver, xi, MOI.GreaterThan(x_l[i]))\n",
    "        MOI.set(solver, MOI.VariablePrimalStart(), x[i], x0[i])\n",
    "    end\n",
    "\n",
    "    # Solve the problem\n",
    "    MOI.set(solver, MOI.NLPBlock(), block_data)\n",
    "    MOI.set(solver, MOI.ObjectiveSense(), MOI.MIN_SENSE)\n",
    "    MOI.optimize!(solver)\n",
    "\n",
    "    # Get the solution\n",
    "    res = MOI.get(solver, MOI.VariablePrimal(), x)\n",
    "    status = MOI.get(solver, MOI.TerminationStatus())\n",
    "\n",
    "    return res, status, solver\n",
    "end"
   ]
  },
  {
   "cell_type": "code",
   "execution_count": 60,
   "metadata": {
    "scrolled": true
   },
   "outputs": [
    {
     "data": {
      "text/plain": [
       "plot3d_orbit (generic function with 2 methods)"
      ]
     },
     "execution_count": 60,
     "metadata": {},
     "output_type": "execute_result"
    }
   ],
   "source": [
    "function plot3d_orbit(X, label=\"Name of Traj Here\")\n",
    "    plot3d(X[1, :], X[2, :], X[3,:], aspect_ratio=:equal, lims=(-semiMajorAxis_goal*1.25,semiMajorAxis_goal*1.25), title = \"$(label) Trajectory ($(orbits) orbits)\", label = \"$(label)\", lw = 2)\n",
    "    xlabel!(\"Orbital Units\")\n",
    "    ylabel!(\"Orbital Units\")\n",
    "    \n",
    "    plot!([0], [0], [0],lw=10, markershape=:o, label=\"Planet Earth\", color=\"green\")\n",
    "end"
   ]
  },
  {
   "cell_type": "markdown",
   "metadata": {},
   "source": [
    "### TODO: Allow for arbitrary RPY for trajectory"
   ]
  },
  {
   "cell_type": "code",
   "execution_count": 72,
   "metadata": {},
   "outputs": [
    {
     "name": "stdout",
     "output_type": "stream",
     "text": [
      "15.756263324181962"
     ]
    },
    {
     "data": {
      "image/svg+xml": [
       "<?xml version=\"1.0\" encoding=\"utf-8\"?>\n",
       "<svg xmlns=\"http://www.w3.org/2000/svg\" xmlns:xlink=\"http://www.w3.org/1999/xlink\" width=\"600\" height=\"400\" viewBox=\"0 0 2400 1600\">\n",
       "<defs>\n",
       "  <clipPath id=\"clip610\">\n",
       "    <rect x=\"0\" y=\"0\" width=\"2400\" height=\"1600\"/>\n",
       "  </clipPath>\n",
       "</defs>\n",
       "<path clip-path=\"url(#clip610)\" d=\"\n",
       "M0 1600 L2400 1600 L2400 0 L0 0  Z\n",
       "  \" fill=\"#ffffff\" fill-rule=\"evenodd\" fill-opacity=\"1\"/>\n",
       "<defs>\n",
       "  <clipPath id=\"clip611\">\n",
       "    <rect x=\"480\" y=\"0\" width=\"1681\" height=\"1600\"/>\n",
       "  </clipPath>\n",
       "</defs>\n",
       "<defs>\n",
       "  <clipPath id=\"clip612\">\n",
       "    <rect x=\"600\" y=\"123\" width=\"1301\" height=\"1301\"/>\n",
       "  </clipPath>\n",
       "</defs>\n",
       "<path clip-path=\"url(#clip612)\" d=\"\n",
       "M600.263 1346.4 L600.263 353.805 L1075.99 123.472 L1899.97 200.25 L1899.97 1192.85 L1424.24 1423.18 L600.263 1346.4  Z\n",
       "  \" fill=\"#ffffff\" fill-rule=\"evenodd\" fill-opacity=\"1\"/>\n",
       "<polyline clip-path=\"url(#clip612)\" style=\"stroke:#000000; stroke-width:2; stroke-opacity:0.1; fill:none\" points=\"\n",
       "  628.896,1349.07 1104.62,1118.74 \n",
       "  \"/>\n",
       "<polyline clip-path=\"url(#clip612)\" style=\"stroke:#000000; stroke-width:2; stroke-opacity:0.1; fill:none\" points=\"\n",
       "  1104.62,1118.74 1104.62,126.14 \n",
       "  \"/>\n",
       "<polyline clip-path=\"url(#clip612)\" style=\"stroke:#000000; stroke-width:2; stroke-opacity:0.1; fill:none\" points=\"\n",
       "  820.575,1366.93 1296.3,1136.6 \n",
       "  \"/>\n",
       "<polyline clip-path=\"url(#clip612)\" style=\"stroke:#000000; stroke-width:2; stroke-opacity:0.1; fill:none\" points=\"\n",
       "  1296.3,1136.6 1296.3,144.001 \n",
       "  \"/>\n",
       "<polyline clip-path=\"url(#clip612)\" style=\"stroke:#000000; stroke-width:2; stroke-opacity:0.1; fill:none\" points=\"\n",
       "  1012.25,1384.79 1487.98,1154.46 \n",
       "  \"/>\n",
       "<polyline clip-path=\"url(#clip612)\" style=\"stroke:#000000; stroke-width:2; stroke-opacity:0.1; fill:none\" points=\"\n",
       "  1487.98,1154.46 1487.98,161.861 \n",
       "  \"/>\n",
       "<polyline clip-path=\"url(#clip612)\" style=\"stroke:#000000; stroke-width:2; stroke-opacity:0.1; fill:none\" points=\"\n",
       "  1203.93,1402.65 1679.66,1172.32 \n",
       "  \"/>\n",
       "<polyline clip-path=\"url(#clip612)\" style=\"stroke:#000000; stroke-width:2; stroke-opacity:0.1; fill:none\" points=\"\n",
       "  1679.66,1172.32 1679.66,179.721 \n",
       "  \"/>\n",
       "<polyline clip-path=\"url(#clip612)\" style=\"stroke:#000000; stroke-width:2; stroke-opacity:0.1; fill:none\" points=\"\n",
       "  1395.61,1420.51 1871.34,1190.18 \n",
       "  \"/>\n",
       "<polyline clip-path=\"url(#clip612)\" style=\"stroke:#000000; stroke-width:2; stroke-opacity:0.1; fill:none\" points=\"\n",
       "  1871.34,1190.18 1871.34,197.582 \n",
       "  \"/>\n",
       "<polyline clip-path=\"url(#clip610)\" style=\"stroke:#000000; stroke-width:4; stroke-opacity:1; fill:none\" points=\"\n",
       "  600.263,1346.4 1424.24,1423.18 \n",
       "  \"/>\n",
       "<polyline clip-path=\"url(#clip610)\" style=\"stroke:#000000; stroke-width:4; stroke-opacity:1; fill:none\" points=\"\n",
       "  628.896,1349.07 634.604,1346.31 \n",
       "  \"/>\n",
       "<polyline clip-path=\"url(#clip610)\" style=\"stroke:#000000; stroke-width:4; stroke-opacity:1; fill:none\" points=\"\n",
       "  820.575,1366.93 826.284,1364.17 \n",
       "  \"/>\n",
       "<polyline clip-path=\"url(#clip610)\" style=\"stroke:#000000; stroke-width:4; stroke-opacity:1; fill:none\" points=\"\n",
       "  1012.25,1384.79 1017.96,1382.03 \n",
       "  \"/>\n",
       "<polyline clip-path=\"url(#clip610)\" style=\"stroke:#000000; stroke-width:4; stroke-opacity:1; fill:none\" points=\"\n",
       "  1203.93,1402.65 1209.64,1399.89 \n",
       "  \"/>\n",
       "<polyline clip-path=\"url(#clip610)\" style=\"stroke:#000000; stroke-width:4; stroke-opacity:1; fill:none\" points=\"\n",
       "  1395.61,1420.51 1401.32,1417.75 \n",
       "  \"/>\n",
       "<path clip-path=\"url(#clip610)\" d=\"M 0 0 M574.838 1397.71 L604.514 1397.71 L604.514 1401.65 L574.838 1401.65 L574.838 1397.71 Z\" fill=\"#000000\" fill-rule=\"evenodd\" fill-opacity=\"1\" /><path clip-path=\"url(#clip610)\" d=\"M 0 0 M618.634 1410.61 L634.953 1410.61 L634.953 1414.54 L613.009 1414.54 L613.009 1410.61 Q615.671 1407.85 620.254 1403.22 Q624.861 1398.57 626.041 1397.23 Q628.287 1394.7 629.166 1392.97 Q630.069 1391.21 630.069 1389.52 Q630.069 1386.76 628.125 1385.03 Q626.204 1383.29 623.102 1383.29 Q620.903 1383.29 618.449 1384.06 Q616.018 1384.82 613.241 1386.37 L613.241 1381.65 Q616.065 1380.51 618.518 1379.94 Q620.972 1379.36 623.009 1379.36 Q628.379 1379.36 631.574 1382.04 Q634.768 1384.73 634.768 1389.22 Q634.768 1391.35 633.958 1393.27 Q633.171 1395.17 631.065 1397.76 Q630.486 1398.43 627.384 1401.65 Q624.282 1404.84 618.634 1410.61 Z\" fill=\"#000000\" fill-rule=\"evenodd\" fill-opacity=\"1\" /><path clip-path=\"url(#clip610)\" d=\"M 0 0 M766.332 1415.57 L796.008 1415.57 L796.008 1419.51 L766.332 1419.51 L766.332 1415.57 Z\" fill=\"#000000\" fill-rule=\"evenodd\" fill-opacity=\"1\" /><path clip-path=\"url(#clip610)\" d=\"M 0 0 M806.91 1428.47 L814.549 1428.47 L814.549 1402.1 L806.239 1403.77 L806.239 1399.51 L814.503 1397.84 L819.179 1397.84 L819.179 1428.47 L826.818 1428.47 L826.818 1432.4 L806.91 1432.4 L806.91 1428.47 Z\" fill=\"#000000\" fill-rule=\"evenodd\" fill-opacity=\"1\" /><path clip-path=\"url(#clip610)\" d=\"M 0 0 M988.254 1418.78 Q984.643 1418.78 982.814 1422.35 Q981.009 1425.89 981.009 1433.02 Q981.009 1440.12 982.814 1443.69 Q984.643 1447.23 988.254 1447.23 Q991.888 1447.23 993.694 1443.69 Q995.522 1440.12 995.522 1433.02 Q995.522 1425.89 993.694 1422.35 Q991.888 1418.78 988.254 1418.78 M988.254 1415.08 Q994.064 1415.08 997.12 1419.68 Q1000.2 1424.27 1000.2 1433.02 Q1000.2 1441.74 997.12 1446.35 Q994.064 1450.93 988.254 1450.93 Q982.444 1450.93 979.365 1446.35 Q976.31 1441.74 976.31 1433.02 Q976.31 1424.27 979.365 1419.68 Q982.444 1415.08 988.254 1415.08 Z\" fill=\"#000000\" fill-rule=\"evenodd\" fill-opacity=\"1\" /><path clip-path=\"url(#clip610)\" d=\"M 0 0 M1170.31 1464.19 L1177.95 1464.19 L1177.95 1437.82 L1169.64 1439.49 L1169.64 1435.23 L1177.91 1433.56 L1182.58 1433.56 L1182.58 1464.19 L1190.22 1464.19 L1190.22 1468.12 L1170.31 1468.12 L1170.31 1464.19 Z\" fill=\"#000000\" fill-rule=\"evenodd\" fill-opacity=\"1\" /><path clip-path=\"url(#clip610)\" d=\"M 0 0 M1366.26 1482.05 L1382.58 1482.05 L1382.58 1485.98 L1360.64 1485.98 L1360.64 1482.05 Q1363.3 1479.29 1367.89 1474.66 Q1372.49 1470.01 1373.67 1468.67 Q1375.92 1466.15 1376.8 1464.41 Q1377.7 1462.65 1377.7 1460.96 Q1377.7 1458.21 1375.76 1456.47 Q1373.83 1454.73 1370.73 1454.73 Q1368.53 1454.73 1366.08 1455.5 Q1363.65 1456.26 1360.87 1457.81 L1360.87 1453.09 Q1363.7 1451.96 1366.15 1451.38 Q1368.6 1450.8 1370.64 1450.8 Q1376.01 1450.8 1379.2 1453.48 Q1382.4 1456.17 1382.4 1460.66 Q1382.4 1462.79 1381.59 1464.71 Q1380.8 1466.61 1378.7 1469.2 Q1378.12 1469.87 1375.01 1473.09 Q1371.91 1476.28 1366.26 1482.05 Z\" fill=\"#000000\" fill-rule=\"evenodd\" fill-opacity=\"1\" /><path clip-path=\"url(#clip610)\" d=\"M 0 0 M710.289 1521.78 Q703.287 1521.78 699.149 1527 Q695.043 1532.22 695.043 1541.22 Q695.043 1550.2 699.149 1555.42 Q703.287 1560.64 710.289 1560.64 Q717.292 1560.64 721.366 1555.42 Q725.472 1550.2 725.472 1541.22 Q725.472 1532.22 721.366 1527 Q717.292 1521.78 710.289 1521.78 M710.289 1516.56 Q720.284 1516.56 726.267 1523.27 Q732.251 1529.96 732.251 1541.22 Q732.251 1552.46 726.267 1559.17 Q720.284 1565.86 710.289 1565.86 Q700.263 1565.86 694.248 1559.17 Q688.264 1552.49 688.264 1541.22 Q688.264 1529.96 694.248 1523.27 Q700.263 1516.56 710.289 1516.56 Z\" fill=\"#000000\" fill-rule=\"evenodd\" fill-opacity=\"1\" /><path clip-path=\"url(#clip610)\" d=\"M 0 0 M762.711 1534.76 Q761.724 1534.19 760.547 1533.93 Q759.401 1533.65 758 1533.65 Q753.035 1533.65 750.361 1536.89 Q747.72 1540.11 747.72 1546.16 L747.72 1564.94 L741.831 1564.94 L741.831 1529.29 L747.72 1529.29 L747.72 1534.83 Q749.566 1531.58 752.526 1530.02 Q755.486 1528.43 759.719 1528.43 Q760.324 1528.43 761.056 1528.52 Q761.788 1528.59 762.679 1528.75 L762.711 1534.76 Z\" fill=\"#000000\" fill-rule=\"evenodd\" fill-opacity=\"1\" /><path clip-path=\"url(#clip610)\" d=\"M 0 0 M794.444 1547.14 Q794.444 1540.68 791.77 1537.02 Q789.129 1533.33 784.482 1533.33 Q779.835 1533.33 777.161 1537.02 Q774.519 1540.68 774.519 1547.14 Q774.519 1553.6 777.161 1557.3 Q779.835 1560.96 784.482 1560.96 Q789.129 1560.96 791.77 1557.3 Q794.444 1553.6 794.444 1547.14 M774.519 1534.7 Q776.365 1531.52 779.166 1529.99 Q781.999 1528.43 785.914 1528.43 Q792.407 1528.43 796.449 1533.58 Q800.523 1538.74 800.523 1547.14 Q800.523 1555.55 796.449 1560.7 Q792.407 1565.86 785.914 1565.86 Q781.999 1565.86 779.166 1564.33 Q776.365 1562.77 774.519 1559.59 L774.519 1564.94 L768.631 1564.94 L768.631 1515.41 L774.519 1515.41 L774.519 1534.7 Z\" fill=\"#000000\" fill-rule=\"evenodd\" fill-opacity=\"1\" /><path clip-path=\"url(#clip610)\" d=\"M 0 0 M810.231 1529.29 L816.087 1529.29 L816.087 1564.94 L810.231 1564.94 L810.231 1529.29 M810.231 1515.41 L816.087 1515.41 L816.087 1522.83 L810.231 1522.83 L810.231 1515.41 Z\" fill=\"#000000\" fill-rule=\"evenodd\" fill-opacity=\"1\" /><path clip-path=\"url(#clip610)\" d=\"M 0 0 M834.134 1519.17 L834.134 1529.29 L846.197 1529.29 L846.197 1533.84 L834.134 1533.84 L834.134 1553.19 Q834.134 1557.55 835.312 1558.79 Q836.521 1560.03 840.182 1560.03 L846.197 1560.03 L846.197 1564.94 L840.182 1564.94 Q833.402 1564.94 830.824 1562.42 Q828.246 1559.87 828.246 1553.19 L828.246 1533.84 L823.949 1533.84 L823.949 1529.29 L828.246 1529.29 L828.246 1519.17 L834.134 1519.17 Z\" fill=\"#000000\" fill-rule=\"evenodd\" fill-opacity=\"1\" /><path clip-path=\"url(#clip610)\" d=\"M 0 0 M870.1 1547.02 Q863.003 1547.02 860.265 1548.64 Q857.528 1550.26 857.528 1554.18 Q857.528 1557.3 859.565 1559.14 Q861.634 1560.96 865.167 1560.96 Q870.037 1560.96 872.965 1557.52 Q875.925 1554.05 875.925 1548.32 L875.925 1547.02 L870.1 1547.02 M881.781 1544.6 L881.781 1564.94 L875.925 1564.94 L875.925 1559.52 Q873.92 1562.77 870.928 1564.33 Q867.936 1565.86 863.607 1565.86 Q858.133 1565.86 854.886 1562.8 Q851.672 1559.72 851.672 1554.56 Q851.672 1548.54 855.682 1545.49 Q859.724 1542.43 867.713 1542.43 L875.925 1542.43 L875.925 1541.86 Q875.925 1537.82 873.251 1535.62 Q870.61 1533.39 865.804 1533.39 Q862.748 1533.39 859.852 1534.12 Q856.955 1534.86 854.282 1536.32 L854.282 1530.91 Q857.496 1529.67 860.52 1529.06 Q863.544 1528.43 866.408 1528.43 Q874.143 1528.43 877.962 1532.44 Q881.781 1536.45 881.781 1544.6 Z\" fill=\"#000000\" fill-rule=\"evenodd\" fill-opacity=\"1\" /><path clip-path=\"url(#clip610)\" d=\"M 0 0 M893.845 1515.41 L899.701 1515.41 L899.701 1564.94 L893.845 1564.94 L893.845 1515.41 Z\" fill=\"#000000\" fill-rule=\"evenodd\" fill-opacity=\"1\" /><path clip-path=\"url(#clip610)\" d=\"M 0 0 M932.198 1517.42 L938.659 1517.42 L938.659 1546.28 Q938.659 1553.92 941.428 1557.3 Q944.197 1560.64 950.404 1560.64 Q956.579 1560.64 959.348 1557.3 Q962.117 1553.92 962.117 1546.28 L962.117 1517.42 L968.578 1517.42 L968.578 1547.08 Q968.578 1556.37 963.963 1561.12 Q959.379 1565.86 950.404 1565.86 Q941.396 1565.86 936.781 1561.12 Q932.198 1556.37 932.198 1547.08 L932.198 1517.42 Z\" fill=\"#000000\" fill-rule=\"evenodd\" fill-opacity=\"1\" /><path clip-path=\"url(#clip610)\" d=\"M 0 0 M1010.02 1543.42 L1010.02 1564.94 L1004.16 1564.94 L1004.16 1543.61 Q1004.16 1538.55 1002.19 1536.03 Q1000.22 1533.52 996.269 1533.52 Q991.526 1533.52 988.789 1536.54 Q986.052 1539.57 986.052 1544.79 L986.052 1564.94 L980.163 1564.94 L980.163 1529.29 L986.052 1529.29 L986.052 1534.83 Q988.152 1531.61 990.985 1530.02 Q993.85 1528.43 997.574 1528.43 Q1003.72 1528.43 1006.87 1532.25 Q1010.02 1536.03 1010.02 1543.42 Z\" fill=\"#000000\" fill-rule=\"evenodd\" fill-opacity=\"1\" /><path clip-path=\"url(#clip610)\" d=\"M 0 0 M1021.7 1529.29 L1027.56 1529.29 L1027.56 1564.94 L1021.7 1564.94 L1021.7 1529.29 M1021.7 1515.41 L1027.56 1515.41 L1027.56 1522.83 L1021.7 1522.83 L1021.7 1515.41 Z\" fill=\"#000000\" fill-rule=\"evenodd\" fill-opacity=\"1\" /><path clip-path=\"url(#clip610)\" d=\"M 0 0 M1045.6 1519.17 L1045.6 1529.29 L1057.67 1529.29 L1057.67 1533.84 L1045.6 1533.84 L1045.6 1553.19 Q1045.6 1557.55 1046.78 1558.79 Q1047.99 1560.03 1051.65 1560.03 L1057.67 1560.03 L1057.67 1564.94 L1051.65 1564.94 Q1044.87 1564.94 1042.29 1562.42 Q1039.71 1559.87 1039.71 1553.19 L1039.71 1533.84 L1035.42 1533.84 L1035.42 1529.29 L1039.71 1529.29 L1039.71 1519.17 L1045.6 1519.17 Z\" fill=\"#000000\" fill-rule=\"evenodd\" fill-opacity=\"1\" /><path clip-path=\"url(#clip610)\" d=\"M 0 0 M1088.09 1530.34 L1088.09 1535.88 Q1085.61 1534.6 1082.94 1533.97 Q1080.26 1533.33 1077.4 1533.33 Q1073.04 1533.33 1070.84 1534.67 Q1068.68 1536 1068.68 1538.68 Q1068.68 1540.71 1070.24 1541.89 Q1071.8 1543.04 1076.51 1544.09 L1078.51 1544.53 Q1084.75 1545.87 1087.36 1548.32 Q1090 1550.74 1090 1555.1 Q1090 1560.07 1086.06 1562.96 Q1082.14 1565.86 1075.27 1565.86 Q1072.4 1565.86 1069.28 1565.29 Q1066.2 1564.74 1062.76 1563.63 L1062.76 1557.58 Q1066.01 1559.27 1069.16 1560.13 Q1072.31 1560.96 1075.39 1560.96 Q1079.53 1560.96 1081.76 1559.56 Q1083.99 1558.12 1083.99 1555.55 Q1083.99 1553.16 1082.36 1551.89 Q1080.77 1550.61 1075.33 1549.43 L1073.29 1548.96 Q1067.85 1547.81 1065.43 1545.46 Q1063.01 1543.07 1063.01 1538.93 Q1063.01 1533.9 1066.58 1531.16 Q1070.14 1528.43 1076.7 1528.43 Q1079.95 1528.43 1082.81 1528.91 Q1085.68 1529.38 1088.09 1530.34 Z\" fill=\"#000000\" fill-rule=\"evenodd\" fill-opacity=\"1\" /><polyline clip-path=\"url(#clip612)\" style=\"stroke:#000000; stroke-width:2; stroke-opacity:0.1; fill:none\" points=\"\n",
       "  1440.78,1415.18 616.794,1338.4 \n",
       "  \"/>\n",
       "<polyline clip-path=\"url(#clip612)\" style=\"stroke:#000000; stroke-width:2; stroke-opacity:0.1; fill:none\" points=\"\n",
       "  616.794,1338.4 616.794,345.801 \n",
       "  \"/>\n",
       "<polyline clip-path=\"url(#clip612)\" style=\"stroke:#000000; stroke-width:2; stroke-opacity:0.1; fill:none\" points=\"\n",
       "  1551.44,1361.59 727.46,1284.82 \n",
       "  \"/>\n",
       "<polyline clip-path=\"url(#clip612)\" style=\"stroke:#000000; stroke-width:2; stroke-opacity:0.1; fill:none\" points=\"\n",
       "  727.46,1284.82 727.46,292.22 \n",
       "  \"/>\n",
       "<polyline clip-path=\"url(#clip612)\" style=\"stroke:#000000; stroke-width:2; stroke-opacity:0.1; fill:none\" points=\"\n",
       "  1662.11,1308.01 838.126,1231.24 \n",
       "  \"/>\n",
       "<polyline clip-path=\"url(#clip612)\" style=\"stroke:#000000; stroke-width:2; stroke-opacity:0.1; fill:none\" points=\"\n",
       "  838.126,1231.24 838.126,238.639 \n",
       "  \"/>\n",
       "<polyline clip-path=\"url(#clip612)\" style=\"stroke:#000000; stroke-width:2; stroke-opacity:0.1; fill:none\" points=\"\n",
       "  1772.77,1254.43 948.792,1177.65 \n",
       "  \"/>\n",
       "<polyline clip-path=\"url(#clip612)\" style=\"stroke:#000000; stroke-width:2; stroke-opacity:0.1; fill:none\" points=\"\n",
       "  948.792,1177.65 948.792,185.057 \n",
       "  \"/>\n",
       "<polyline clip-path=\"url(#clip612)\" style=\"stroke:#000000; stroke-width:2; stroke-opacity:0.1; fill:none\" points=\"\n",
       "  1883.44,1200.85 1059.46,1124.07 \n",
       "  \"/>\n",
       "<polyline clip-path=\"url(#clip612)\" style=\"stroke:#000000; stroke-width:2; stroke-opacity:0.1; fill:none\" points=\"\n",
       "  1059.46,1124.07 1059.46,131.476 \n",
       "  \"/>\n",
       "<polyline clip-path=\"url(#clip610)\" style=\"stroke:#000000; stroke-width:4; stroke-opacity:1; fill:none\" points=\"\n",
       "  1424.24,1423.18 1899.97,1192.85 \n",
       "  \"/>\n",
       "<polyline clip-path=\"url(#clip610)\" style=\"stroke:#000000; stroke-width:4; stroke-opacity:1; fill:none\" points=\"\n",
       "  1440.78,1415.18 1430.89,1414.25 \n",
       "  \"/>\n",
       "<polyline clip-path=\"url(#clip610)\" style=\"stroke:#000000; stroke-width:4; stroke-opacity:1; fill:none\" points=\"\n",
       "  1551.44,1361.59 1541.55,1360.67 \n",
       "  \"/>\n",
       "<polyline clip-path=\"url(#clip610)\" style=\"stroke:#000000; stroke-width:4; stroke-opacity:1; fill:none\" points=\"\n",
       "  1662.11,1308.01 1652.22,1307.09 \n",
       "  \"/>\n",
       "<polyline clip-path=\"url(#clip610)\" style=\"stroke:#000000; stroke-width:4; stroke-opacity:1; fill:none\" points=\"\n",
       "  1772.77,1254.43 1762.89,1253.51 \n",
       "  \"/>\n",
       "<polyline clip-path=\"url(#clip610)\" style=\"stroke:#000000; stroke-width:4; stroke-opacity:1; fill:none\" points=\"\n",
       "  1883.44,1200.85 1873.55,1199.93 \n",
       "  \"/>\n",
       "<path clip-path=\"url(#clip610)\" d=\"M 0 0 M1434.72 1463.82 L1464.39 1463.82 L1464.39 1467.75 L1434.72 1467.75 L1434.72 1463.82 Z\" fill=\"#000000\" fill-rule=\"evenodd\" fill-opacity=\"1\" /><path clip-path=\"url(#clip610)\" d=\"M 0 0 M1478.51 1476.71 L1494.83 1476.71 L1494.83 1480.65 L1472.89 1480.65 L1472.89 1476.71 Q1475.55 1473.96 1480.13 1469.33 Q1484.74 1464.68 1485.92 1463.33 Q1488.17 1460.81 1489.05 1459.07 Q1489.95 1457.31 1489.95 1455.62 Q1489.95 1452.87 1488 1451.13 Q1486.08 1449.4 1482.98 1449.4 Q1480.78 1449.4 1478.33 1450.16 Q1475.9 1450.93 1473.12 1452.48 L1473.12 1447.75 Q1475.94 1446.62 1478.4 1446.04 Q1480.85 1445.46 1482.89 1445.46 Q1488.26 1445.46 1491.45 1448.15 Q1494.65 1450.83 1494.65 1455.32 Q1494.65 1457.45 1493.84 1459.37 Q1493.05 1461.27 1490.94 1463.87 Q1490.37 1464.54 1487.26 1467.75 Q1484.16 1470.95 1478.51 1476.71 Z\" fill=\"#000000\" fill-rule=\"evenodd\" fill-opacity=\"1\" /><path clip-path=\"url(#clip610)\" d=\"M 0 0 M1545.2 1410.24 L1574.87 1410.24 L1574.87 1414.17 L1545.2 1414.17 L1545.2 1410.24 Z\" fill=\"#000000\" fill-rule=\"evenodd\" fill-opacity=\"1\" /><path clip-path=\"url(#clip610)\" d=\"M 0 0 M1585.78 1423.13 L1593.42 1423.13 L1593.42 1396.77 L1585.11 1398.43 L1585.11 1394.17 L1593.37 1392.51 L1598.05 1392.51 L1598.05 1423.13 L1605.68 1423.13 L1605.68 1427.07 L1585.78 1427.07 L1585.78 1423.13 Z\" fill=\"#000000\" fill-rule=\"evenodd\" fill-opacity=\"1\" /><path clip-path=\"url(#clip610)\" d=\"M 0 0 M1686.11 1342 Q1682.5 1342 1680.67 1345.57 Q1678.86 1349.11 1678.86 1356.24 Q1678.86 1363.35 1680.67 1366.91 Q1682.5 1370.45 1686.11 1370.45 Q1689.74 1370.45 1691.55 1366.91 Q1693.38 1363.35 1693.38 1356.24 Q1693.38 1349.11 1691.55 1345.57 Q1689.74 1342 1686.11 1342 M1686.11 1338.3 Q1691.92 1338.3 1694.97 1342.91 Q1698.05 1347.49 1698.05 1356.24 Q1698.05 1364.97 1694.97 1369.57 Q1691.92 1374.16 1686.11 1374.16 Q1680.3 1374.16 1677.22 1369.57 Q1674.16 1364.97 1674.16 1356.24 Q1674.16 1347.49 1677.22 1342.91 Q1680.3 1338.3 1686.11 1338.3 Z\" fill=\"#000000\" fill-rule=\"evenodd\" fill-opacity=\"1\" /><path clip-path=\"url(#clip610)\" d=\"M 0 0 M1787.16 1315.97 L1794.79 1315.97 L1794.79 1289.6 L1786.48 1291.27 L1786.48 1287.01 L1794.75 1285.34 L1799.42 1285.34 L1799.42 1315.97 L1807.06 1315.97 L1807.06 1319.9 L1787.16 1319.9 L1787.16 1315.97 Z\" fill=\"#000000\" fill-rule=\"evenodd\" fill-opacity=\"1\" /><path clip-path=\"url(#clip610)\" d=\"M 0 0 M1902.09 1262.39 L1918.41 1262.39 L1918.41 1266.32 L1896.47 1266.32 L1896.47 1262.39 Q1899.13 1259.63 1903.71 1255 Q1908.32 1250.35 1909.5 1249.01 Q1911.75 1246.48 1912.62 1244.75 Q1913.53 1242.99 1913.53 1241.3 Q1913.53 1238.55 1911.58 1236.81 Q1909.66 1235.07 1906.56 1235.07 Q1904.36 1235.07 1901.91 1235.84 Q1899.48 1236.6 1896.7 1238.15 L1896.7 1233.43 Q1899.52 1232.3 1901.98 1231.72 Q1904.43 1231.14 1906.47 1231.14 Q1911.84 1231.14 1915.03 1233.82 Q1918.23 1236.51 1918.23 1241 Q1918.23 1243.13 1917.42 1245.05 Q1916.63 1246.95 1914.52 1249.54 Q1913.94 1250.21 1910.84 1253.43 Q1907.74 1256.62 1902.09 1262.39 Z\" fill=\"#000000\" fill-rule=\"evenodd\" fill-opacity=\"1\" /><path clip-path=\"url(#clip610)\" d=\"M 0 0 M1606.38 1445 Q1599.38 1445 1595.24 1450.22 Q1591.14 1455.44 1591.14 1464.45 Q1591.14 1473.42 1595.24 1478.64 Q1599.38 1483.86 1606.38 1483.86 Q1613.39 1483.86 1617.46 1478.64 Q1621.57 1473.42 1621.57 1464.45 Q1621.57 1455.44 1617.46 1450.22 Q1613.39 1445 1606.38 1445 M1606.38 1439.78 Q1616.38 1439.78 1622.36 1446.49 Q1628.34 1453.18 1628.34 1464.45 Q1628.34 1475.68 1622.36 1482.4 Q1616.38 1489.08 1606.38 1489.08 Q1596.36 1489.08 1590.34 1482.4 Q1584.36 1475.71 1584.36 1464.45 Q1584.36 1453.18 1590.34 1446.49 Q1596.36 1439.78 1606.38 1439.78 Z\" fill=\"#000000\" fill-rule=\"evenodd\" fill-opacity=\"1\" /><path clip-path=\"url(#clip610)\" d=\"M 0 0 M1658.8 1457.98 Q1657.82 1457.41 1656.64 1457.16 Q1655.49 1456.87 1654.09 1456.87 Q1649.13 1456.87 1646.46 1460.12 Q1643.81 1463.33 1643.81 1469.38 L1643.81 1488.16 L1637.93 1488.16 L1637.93 1452.51 L1643.81 1452.51 L1643.81 1458.05 Q1645.66 1454.8 1648.62 1453.24 Q1651.58 1451.65 1655.81 1451.65 Q1656.42 1451.65 1657.15 1451.75 Q1657.88 1451.81 1658.77 1451.97 L1658.8 1457.98 Z\" fill=\"#000000\" fill-rule=\"evenodd\" fill-opacity=\"1\" /><path clip-path=\"url(#clip610)\" d=\"M 0 0 M1690.54 1470.37 Q1690.54 1463.9 1687.86 1460.24 Q1685.22 1456.55 1680.58 1456.55 Q1675.93 1456.55 1673.25 1460.24 Q1670.61 1463.9 1670.61 1470.37 Q1670.61 1476.83 1673.25 1480.52 Q1675.93 1484.18 1680.58 1484.18 Q1685.22 1484.18 1687.86 1480.52 Q1690.54 1476.83 1690.54 1470.37 M1670.61 1457.92 Q1672.46 1454.74 1675.26 1453.21 Q1678.09 1451.65 1682.01 1451.65 Q1688.5 1451.65 1692.54 1456.81 Q1696.62 1461.96 1696.62 1470.37 Q1696.62 1478.77 1692.54 1483.92 Q1688.5 1489.08 1682.01 1489.08 Q1678.09 1489.08 1675.26 1487.55 Q1672.46 1485.99 1670.61 1482.81 L1670.61 1488.16 L1664.72 1488.16 L1664.72 1438.63 L1670.61 1438.63 L1670.61 1457.92 Z\" fill=\"#000000\" fill-rule=\"evenodd\" fill-opacity=\"1\" /><path clip-path=\"url(#clip610)\" d=\"M 0 0 M1706.32 1452.51 L1712.18 1452.51 L1712.18 1488.16 L1706.32 1488.16 L1706.32 1452.51 M1706.32 1438.63 L1712.18 1438.63 L1712.18 1446.05 L1706.32 1446.05 L1706.32 1438.63 Z\" fill=\"#000000\" fill-rule=\"evenodd\" fill-opacity=\"1\" /><path clip-path=\"url(#clip610)\" d=\"M 0 0 M1730.23 1442.39 L1730.23 1452.51 L1742.29 1452.51 L1742.29 1457.06 L1730.23 1457.06 L1730.23 1476.41 Q1730.23 1480.77 1731.41 1482.01 Q1732.62 1483.26 1736.28 1483.26 L1742.29 1483.26 L1742.29 1488.16 L1736.28 1488.16 Q1729.5 1488.16 1726.92 1485.64 Q1724.34 1483.1 1724.34 1476.41 L1724.34 1457.06 L1720.04 1457.06 L1720.04 1452.51 L1724.34 1452.51 L1724.34 1442.39 L1730.23 1442.39 Z\" fill=\"#000000\" fill-rule=\"evenodd\" fill-opacity=\"1\" /><path clip-path=\"url(#clip610)\" d=\"M 0 0 M1766.19 1470.24 Q1759.1 1470.24 1756.36 1471.86 Q1753.62 1473.48 1753.62 1477.4 Q1753.62 1480.52 1755.66 1482.36 Q1757.73 1484.18 1761.26 1484.18 Q1766.13 1484.18 1769.06 1480.74 Q1772.02 1477.27 1772.02 1471.54 L1772.02 1470.24 L1766.19 1470.24 M1777.88 1467.82 L1777.88 1488.16 L1772.02 1488.16 L1772.02 1482.75 Q1770.01 1485.99 1767.02 1487.55 Q1764.03 1489.08 1759.7 1489.08 Q1754.23 1489.08 1750.98 1486.02 Q1747.77 1482.94 1747.77 1477.78 Q1747.77 1471.77 1751.78 1468.71 Q1755.82 1465.65 1763.81 1465.65 L1772.02 1465.65 L1772.02 1465.08 Q1772.02 1461.04 1769.35 1458.84 Q1766.7 1456.62 1761.9 1456.62 Q1758.84 1456.62 1755.95 1457.35 Q1753.05 1458.08 1750.38 1459.54 L1750.38 1454.13 Q1753.59 1452.89 1756.61 1452.29 Q1759.64 1451.65 1762.5 1451.65 Q1770.24 1451.65 1774.06 1455.66 Q1777.88 1459.67 1777.88 1467.82 Z\" fill=\"#000000\" fill-rule=\"evenodd\" fill-opacity=\"1\" /><path clip-path=\"url(#clip610)\" d=\"M 0 0 M1789.94 1438.63 L1795.79 1438.63 L1795.79 1488.16 L1789.94 1488.16 L1789.94 1438.63 Z\" fill=\"#000000\" fill-rule=\"evenodd\" fill-opacity=\"1\" /><path clip-path=\"url(#clip610)\" d=\"M 0 0 M1828.29 1440.64 L1834.75 1440.64 L1834.75 1469.51 Q1834.75 1477.14 1837.52 1480.52 Q1840.29 1483.86 1846.5 1483.86 Q1852.67 1483.86 1855.44 1480.52 Q1858.21 1477.14 1858.21 1469.51 L1858.21 1440.64 L1864.67 1440.64 L1864.67 1470.3 Q1864.67 1479.6 1860.06 1484.34 Q1855.47 1489.08 1846.5 1489.08 Q1837.49 1489.08 1832.88 1484.34 Q1828.29 1479.6 1828.29 1470.3 L1828.29 1440.64 Z\" fill=\"#000000\" fill-rule=\"evenodd\" fill-opacity=\"1\" /><path clip-path=\"url(#clip610)\" d=\"M 0 0 M1906.11 1466.64 L1906.11 1488.16 L1900.26 1488.16 L1900.26 1466.83 Q1900.26 1461.77 1898.28 1459.26 Q1896.31 1456.74 1892.36 1456.74 Q1887.62 1456.74 1884.88 1459.77 Q1882.15 1462.79 1882.15 1468.01 L1882.15 1488.16 L1876.26 1488.16 L1876.26 1452.51 L1882.15 1452.51 L1882.15 1458.05 Q1884.25 1454.83 1887.08 1453.24 Q1889.94 1451.65 1893.67 1451.65 Q1899.81 1451.65 1902.96 1455.47 Q1906.11 1459.26 1906.11 1466.64 Z\" fill=\"#000000\" fill-rule=\"evenodd\" fill-opacity=\"1\" /><path clip-path=\"url(#clip610)\" d=\"M 0 0 M1917.79 1452.51 L1923.65 1452.51 L1923.65 1488.16 L1917.79 1488.16 L1917.79 1452.51 M1917.79 1438.63 L1923.65 1438.63 L1923.65 1446.05 L1917.79 1446.05 L1917.79 1438.63 Z\" fill=\"#000000\" fill-rule=\"evenodd\" fill-opacity=\"1\" /><path clip-path=\"url(#clip610)\" d=\"M 0 0 M1941.7 1442.39 L1941.7 1452.51 L1953.76 1452.51 L1953.76 1457.06 L1941.7 1457.06 L1941.7 1476.41 Q1941.7 1480.77 1942.87 1482.01 Q1944.08 1483.26 1947.74 1483.26 L1953.76 1483.26 L1953.76 1488.16 L1947.74 1488.16 Q1940.96 1488.16 1938.39 1485.64 Q1935.81 1483.1 1935.81 1476.41 L1935.81 1457.06 L1931.51 1457.06 L1931.51 1452.51 L1935.81 1452.51 L1935.81 1442.39 L1941.7 1442.39 Z\" fill=\"#000000\" fill-rule=\"evenodd\" fill-opacity=\"1\" /><path clip-path=\"url(#clip610)\" d=\"M 0 0 M1984.19 1453.56 L1984.19 1459.1 Q1981.71 1457.82 1979.03 1457.19 Q1976.36 1456.55 1973.49 1456.55 Q1969.13 1456.55 1966.94 1457.89 Q1964.77 1459.23 1964.77 1461.9 Q1964.77 1463.94 1966.33 1465.11 Q1967.89 1466.26 1972.6 1467.31 L1974.61 1467.76 Q1980.85 1469.09 1983.46 1471.54 Q1986.1 1473.96 1986.1 1478.32 Q1986.1 1483.29 1982.15 1486.18 Q1978.24 1489.08 1971.36 1489.08 Q1968.5 1489.08 1965.38 1488.51 Q1962.29 1487.97 1958.85 1486.85 L1958.85 1480.8 Q1962.1 1482.49 1965.25 1483.35 Q1968.4 1484.18 1971.49 1484.18 Q1975.63 1484.18 1977.85 1482.78 Q1980.08 1481.35 1980.08 1478.77 Q1980.08 1476.38 1978.46 1475.11 Q1976.87 1473.83 1971.42 1472.66 L1969.39 1472.18 Q1963.94 1471.03 1961.53 1468.68 Q1959.11 1466.29 1959.11 1462.15 Q1959.11 1457.12 1962.67 1454.39 Q1966.24 1451.65 1972.79 1451.65 Q1976.04 1451.65 1978.9 1452.13 Q1981.77 1452.6 1984.19 1453.56 Z\" fill=\"#000000\" fill-rule=\"evenodd\" fill-opacity=\"1\" /><polyline clip-path=\"url(#clip612)\" style=\"stroke:#000000; stroke-width:2; stroke-opacity:0.1; fill:none\" points=\"\n",
       "  600.263,1311.91 1075.99,1081.58 \n",
       "  \"/>\n",
       "<polyline clip-path=\"url(#clip612)\" style=\"stroke:#000000; stroke-width:2; stroke-opacity:0.1; fill:none\" points=\"\n",
       "  1075.99,1081.58 1899.97,1158.35 \n",
       "  \"/>\n",
       "<polyline clip-path=\"url(#clip612)\" style=\"stroke:#000000; stroke-width:2; stroke-opacity:0.1; fill:none\" points=\"\n",
       "  600.263,1081.01 1075.99,850.674 \n",
       "  \"/>\n",
       "<polyline clip-path=\"url(#clip612)\" style=\"stroke:#000000; stroke-width:2; stroke-opacity:0.1; fill:none\" points=\"\n",
       "  1075.99,850.674 1899.97,927.452 \n",
       "  \"/>\n",
       "<polyline clip-path=\"url(#clip612)\" style=\"stroke:#000000; stroke-width:2; stroke-opacity:0.1; fill:none\" points=\"\n",
       "  600.263,850.104 1075.99,619.771 \n",
       "  \"/>\n",
       "<polyline clip-path=\"url(#clip612)\" style=\"stroke:#000000; stroke-width:2; stroke-opacity:0.1; fill:none\" points=\"\n",
       "  1075.99,619.771 1899.97,696.548 \n",
       "  \"/>\n",
       "<polyline clip-path=\"url(#clip612)\" style=\"stroke:#000000; stroke-width:2; stroke-opacity:0.1; fill:none\" points=\"\n",
       "  600.263,619.2 1075.99,388.867 \n",
       "  \"/>\n",
       "<polyline clip-path=\"url(#clip612)\" style=\"stroke:#000000; stroke-width:2; stroke-opacity:0.1; fill:none\" points=\"\n",
       "  1075.99,388.867 1899.97,465.645 \n",
       "  \"/>\n",
       "<polyline clip-path=\"url(#clip612)\" style=\"stroke:#000000; stroke-width:2; stroke-opacity:0.1; fill:none\" points=\"\n",
       "  600.263,388.297 1075.99,157.964 \n",
       "  \"/>\n",
       "<polyline clip-path=\"url(#clip612)\" style=\"stroke:#000000; stroke-width:2; stroke-opacity:0.1; fill:none\" points=\"\n",
       "  1075.99,157.964 1899.97,234.742 \n",
       "  \"/>\n",
       "<polyline clip-path=\"url(#clip610)\" style=\"stroke:#000000; stroke-width:4; stroke-opacity:1; fill:none\" points=\"\n",
       "  600.263,1346.4 600.263,353.805 \n",
       "  \"/>\n",
       "<polyline clip-path=\"url(#clip610)\" style=\"stroke:#000000; stroke-width:4; stroke-opacity:1; fill:none\" points=\"\n",
       "  600.263,1311.91 605.972,1309.15 \n",
       "  \"/>\n",
       "<polyline clip-path=\"url(#clip610)\" style=\"stroke:#000000; stroke-width:4; stroke-opacity:1; fill:none\" points=\"\n",
       "  600.263,1081.01 605.972,1078.24 \n",
       "  \"/>\n",
       "<polyline clip-path=\"url(#clip610)\" style=\"stroke:#000000; stroke-width:4; stroke-opacity:1; fill:none\" points=\"\n",
       "  600.263,850.104 605.972,847.34 \n",
       "  \"/>\n",
       "<polyline clip-path=\"url(#clip610)\" style=\"stroke:#000000; stroke-width:4; stroke-opacity:1; fill:none\" points=\"\n",
       "  600.263,619.2 605.972,616.436 \n",
       "  \"/>\n",
       "<polyline clip-path=\"url(#clip610)\" style=\"stroke:#000000; stroke-width:4; stroke-opacity:1; fill:none\" points=\"\n",
       "  600.263,388.297 605.972,385.533 \n",
       "  \"/>\n",
       "<path clip-path=\"url(#clip610)\" d=\"M 0 0 M516.148 1312.36 L545.823 1312.36 L545.823 1316.3 L516.148 1316.3 L516.148 1312.36 Z\" fill=\"#000000\" fill-rule=\"evenodd\" fill-opacity=\"1\" /><path clip-path=\"url(#clip610)\" d=\"M 0 0 M559.944 1325.26 L576.263 1325.26 L576.263 1329.19 L554.319 1329.19 L554.319 1325.26 Q556.981 1322.5 561.564 1317.87 Q566.171 1313.22 567.351 1311.88 Q569.596 1309.35 570.476 1307.62 Q571.379 1305.86 571.379 1304.17 Q571.379 1301.41 569.434 1299.68 Q567.513 1297.94 564.411 1297.94 Q562.212 1297.94 559.759 1298.7 Q557.328 1299.47 554.55 1301.02 L554.55 1296.3 Q557.374 1295.16 559.828 1294.58 Q562.282 1294.01 564.319 1294.01 Q569.689 1294.01 572.883 1296.69 Q576.078 1299.38 576.078 1303.87 Q576.078 1306 575.268 1307.92 Q574.481 1309.82 572.374 1312.41 Q571.795 1313.08 568.694 1316.3 Q565.592 1319.49 559.944 1325.26 Z\" fill=\"#000000\" fill-rule=\"evenodd\" fill-opacity=\"1\" /><path clip-path=\"url(#clip610)\" d=\"M 0 0 M515.777 1081.46 L545.453 1081.46 L545.453 1085.39 L515.777 1085.39 L515.777 1081.46 Z\" fill=\"#000000\" fill-rule=\"evenodd\" fill-opacity=\"1\" /><path clip-path=\"url(#clip610)\" d=\"M 0 0 M556.356 1094.35 L563.995 1094.35 L563.995 1067.99 L555.684 1069.65 L555.684 1065.39 L563.948 1063.73 L568.624 1063.73 L568.624 1094.35 L576.263 1094.35 L576.263 1098.29 L556.356 1098.29 L556.356 1094.35 Z\" fill=\"#000000\" fill-rule=\"evenodd\" fill-opacity=\"1\" /><path clip-path=\"url(#clip610)\" d=\"M 0 0 M564.319 835.902 Q560.708 835.902 558.879 839.467 Q557.073 843.009 557.073 850.138 Q557.073 857.245 558.879 860.81 Q560.708 864.351 564.319 864.351 Q567.953 864.351 569.758 860.81 Q571.587 857.245 571.587 850.138 Q571.587 843.009 569.758 839.467 Q567.953 835.902 564.319 835.902 M564.319 832.199 Q570.129 832.199 573.184 836.805 Q576.263 841.388 576.263 850.138 Q576.263 858.865 573.184 863.472 Q570.129 868.055 564.319 868.055 Q558.509 868.055 555.43 863.472 Q552.374 858.865 552.374 850.138 Q552.374 841.388 555.43 836.805 Q558.509 832.199 564.319 832.199 Z\" fill=\"#000000\" fill-rule=\"evenodd\" fill-opacity=\"1\" /><path clip-path=\"url(#clip610)\" d=\"M 0 0 M556.356 632.545 L563.995 632.545 L563.995 606.18 L555.684 607.846 L555.684 603.587 L563.948 601.92 L568.624 601.92 L568.624 632.545 L576.263 632.545 L576.263 636.48 L556.356 636.48 L556.356 632.545 Z\" fill=\"#000000\" fill-rule=\"evenodd\" fill-opacity=\"1\" /><path clip-path=\"url(#clip610)\" d=\"M 0 0 M559.944 401.642 L576.263 401.642 L576.263 405.577 L554.319 405.577 L554.319 401.642 Q556.981 398.887 561.564 394.258 Q566.171 389.605 567.351 388.262 Q569.596 385.739 570.476 384.003 Q571.379 382.244 571.379 380.554 Q571.379 377.799 569.434 376.063 Q567.513 374.327 564.411 374.327 Q562.212 374.327 559.759 375.091 Q557.328 375.855 554.55 377.406 L554.55 372.684 Q557.374 371.549 559.828 370.971 Q562.282 370.392 564.319 370.392 Q569.689 370.392 572.883 373.077 Q576.078 375.762 576.078 380.253 Q576.078 382.383 575.268 384.304 Q574.481 386.202 572.374 388.795 Q571.795 389.466 568.694 392.684 Q565.592 395.878 559.944 401.642 Z\" fill=\"#000000\" fill-rule=\"evenodd\" fill-opacity=\"1\" /><path clip-path=\"url(#clip610)\" d=\"M 0 0 M780.07 34.1734 Q778.814 33.4443 777.316 33.1202 Q775.857 32.7556 774.075 32.7556 Q767.755 32.7556 764.353 36.8875 Q760.99 40.9789 760.99 48.6757 L760.99 72.576 L753.496 72.576 L753.496 27.2059 L760.99 27.2059 L760.99 34.2544 Q763.34 30.1225 767.107 28.1376 Q770.875 26.1121 776.262 26.1121 Q777.032 26.1121 777.964 26.2337 Q778.895 26.3147 780.03 26.5172 L780.07 34.1734 Z\" fill=\"#000000\" fill-rule=\"evenodd\" fill-opacity=\"1\" /><path clip-path=\"url(#clip610)\" d=\"M 0 0 M824.873 48.0275 L824.873 51.6733 L790.603 51.6733 Q791.089 59.3701 795.221 63.421 Q799.393 67.4314 806.806 67.4314 Q811.1 67.4314 815.111 66.3781 Q819.161 65.3249 823.131 63.2184 L823.131 70.267 Q819.121 71.9684 814.908 72.8596 Q810.695 73.7508 806.361 73.7508 Q795.504 73.7508 789.144 67.4314 Q782.825 61.1119 782.825 50.3365 Q782.825 39.1965 788.82 32.6746 Q794.856 26.1121 805.064 26.1121 Q814.219 26.1121 819.526 32.0264 Q824.873 37.9003 824.873 48.0275 M817.42 45.84 Q817.339 39.7232 813.976 36.0774 Q810.655 32.4315 805.145 32.4315 Q798.907 32.4315 795.14 35.9558 Q791.413 39.4801 790.846 45.8805 L817.42 45.84 Z\" fill=\"#000000\" fill-rule=\"evenodd\" fill-opacity=\"1\" /><path clip-path=\"url(#clip610)\" d=\"M 0 0 M860.076 9.54393 L860.076 15.7418 L852.946 15.7418 Q848.936 15.7418 847.356 17.3622 Q845.816 18.9825 845.816 23.1955 L845.816 27.2059 L858.091 27.2059 L858.091 32.9987 L845.816 32.9987 L845.816 72.576 L838.322 72.576 L838.322 32.9987 L831.193 32.9987 L831.193 27.2059 L838.322 27.2059 L838.322 24.0462 Q838.322 16.471 841.847 13.0277 Q845.371 9.54393 853.027 9.54393 L860.076 9.54393 Z\" fill=\"#000000\" fill-rule=\"evenodd\" fill-opacity=\"1\" /><path clip-path=\"url(#clip610)\" d=\"M 0 0 M884.624 12.096 L935.787 12.096 L935.787 18.9825 L914.317 18.9825 L914.317 72.576 L906.094 72.576 L906.094 18.9825 L884.624 18.9825 L884.624 12.096 Z\" fill=\"#000000\" fill-rule=\"evenodd\" fill-opacity=\"1\" /><path clip-path=\"url(#clip610)\" d=\"M 0 0 M957.459 34.1734 Q956.204 33.4443 954.705 33.1202 Q953.246 32.7556 951.464 32.7556 Q945.145 32.7556 941.742 36.8875 Q938.38 40.9789 938.38 48.6757 L938.38 72.576 L930.885 72.576 L930.885 27.2059 L938.38 27.2059 L938.38 34.2544 Q940.729 30.1225 944.496 28.1376 Q948.264 26.1121 953.651 26.1121 Q954.421 26.1121 955.353 26.2337 Q956.285 26.3147 957.419 26.5172 L957.459 34.1734 Z\" fill=\"#000000\" fill-rule=\"evenodd\" fill-opacity=\"1\" /><path clip-path=\"url(#clip610)\" d=\"M 0 0 M985.897 49.7694 Q976.863 49.7694 973.379 51.8354 Q969.896 53.9013 969.896 58.8839 Q969.896 62.8538 972.488 65.2034 Q975.121 67.5124 979.618 67.5124 Q985.816 67.5124 989.542 63.1374 Q993.31 58.7219 993.31 51.4303 L993.31 49.7694 L985.897 49.7694 M1000.76 46.6907 L1000.76 72.576 L993.31 72.576 L993.31 65.6895 Q990.758 69.8214 986.95 71.8063 Q983.142 73.7508 977.633 73.7508 Q970.665 73.7508 966.533 69.8619 Q962.442 65.9325 962.442 59.3701 Q962.442 51.7138 967.546 47.825 Q972.691 43.9361 982.859 43.9361 L993.31 43.9361 L993.31 43.2069 Q993.31 38.0623 989.907 35.2672 Q986.545 32.4315 980.428 32.4315 Q976.539 32.4315 972.853 33.3632 Q969.166 34.295 965.764 36.1584 L965.764 29.2718 Q969.855 27.692 973.703 26.9223 Q977.552 26.1121 981.198 26.1121 Q991.041 26.1121 995.902 31.2163 Q1000.76 36.3204 1000.76 46.6907 Z\" fill=\"#000000\" fill-rule=\"evenodd\" fill-opacity=\"1\" /><path clip-path=\"url(#clip610)\" d=\"M 0 0 M1016.12 27.2059 L1023.57 27.2059 L1023.57 73.3862 Q1023.57 82.0551 1020.25 85.944 Q1016.97 89.8329 1009.63 89.8329 L1006.8 89.8329 L1006.8 83.5134 L1008.78 83.5134 Q1013.04 83.5134 1014.58 81.5285 Q1016.12 79.5841 1016.12 73.3862 L1016.12 27.2059 M1016.12 9.54393 L1023.57 9.54393 L1023.57 18.9825 L1016.12 18.9825 L1016.12 9.54393 Z\" fill=\"#000000\" fill-rule=\"evenodd\" fill-opacity=\"1\" /><path clip-path=\"url(#clip610)\" d=\"M 0 0 M1077.97 48.0275 L1077.97 51.6733 L1043.7 51.6733 Q1044.19 59.3701 1048.32 63.421 Q1052.49 67.4314 1059.91 67.4314 Q1064.2 67.4314 1068.21 66.3781 Q1072.26 65.3249 1076.23 63.2184 L1076.23 70.267 Q1072.22 71.9684 1068.01 72.8596 Q1063.8 73.7508 1059.46 73.7508 Q1048.6 73.7508 1042.24 67.4314 Q1035.93 61.1119 1035.93 50.3365 Q1035.93 39.1965 1041.92 32.6746 Q1047.96 26.1121 1058.16 26.1121 Q1067.32 26.1121 1072.63 32.0264 Q1077.97 37.9003 1077.97 48.0275 M1070.52 45.84 Q1070.44 39.7232 1067.08 36.0774 Q1063.76 32.4315 1058.25 32.4315 Q1052.01 32.4315 1048.24 35.9558 Q1044.51 39.4801 1043.95 45.8805 L1070.52 45.84 Z\" fill=\"#000000\" fill-rule=\"evenodd\" fill-opacity=\"1\" /><path clip-path=\"url(#clip610)\" d=\"M 0 0 M1122.86 28.9478 L1122.86 35.9153 Q1119.7 34.1734 1116.5 33.3227 Q1113.34 32.4315 1110.1 32.4315 Q1102.85 32.4315 1098.84 37.0496 Q1094.83 41.6271 1094.83 49.9314 Q1094.83 58.2358 1098.84 62.8538 Q1102.85 67.4314 1110.1 67.4314 Q1113.34 67.4314 1116.5 66.5807 Q1119.7 65.6895 1122.86 63.9476 L1122.86 70.8341 Q1119.74 72.2924 1116.38 73.0216 Q1113.05 73.7508 1109.29 73.7508 Q1099.04 73.7508 1093 67.3098 Q1086.97 60.8689 1086.97 49.9314 Q1086.97 38.832 1093.04 32.472 Q1099.16 26.1121 1109.77 26.1121 Q1113.22 26.1121 1116.5 26.8413 Q1119.78 27.5299 1122.86 28.9478 Z\" fill=\"#000000\" fill-rule=\"evenodd\" fill-opacity=\"1\" /><path clip-path=\"url(#clip610)\" d=\"M 0 0 M1143.19 14.324 L1143.19 27.2059 L1158.55 27.2059 L1158.55 32.9987 L1143.19 32.9987 L1143.19 57.6282 Q1143.19 63.1779 1144.69 64.7578 Q1146.23 66.3376 1150.89 66.3376 L1158.55 66.3376 L1158.55 72.576 L1150.89 72.576 Q1142.26 72.576 1138.98 69.3758 Q1135.7 66.1351 1135.7 57.6282 L1135.7 32.9987 L1130.23 32.9987 L1130.23 27.2059 L1135.7 27.2059 L1135.7 14.324 L1143.19 14.324 Z\" fill=\"#000000\" fill-rule=\"evenodd\" fill-opacity=\"1\" /><path clip-path=\"url(#clip610)\" d=\"M 0 0 M1185.93 32.4315 Q1179.93 32.4315 1176.45 37.1306 Q1172.97 41.7891 1172.97 49.9314 Q1172.97 58.0738 1176.41 62.7728 Q1179.89 67.4314 1185.93 67.4314 Q1191.89 67.4314 1195.37 62.7323 Q1198.85 58.0333 1198.85 49.9314 Q1198.85 41.8701 1195.37 37.1711 Q1191.89 32.4315 1185.93 32.4315 M1185.93 26.1121 Q1195.65 26.1121 1201.2 32.4315 Q1206.75 38.7509 1206.75 49.9314 Q1206.75 61.0714 1201.2 67.4314 Q1195.65 73.7508 1185.93 73.7508 Q1176.17 73.7508 1170.62 67.4314 Q1165.11 61.0714 1165.11 49.9314 Q1165.11 38.7509 1170.62 32.4315 Q1176.17 26.1121 1185.93 26.1121 Z\" fill=\"#000000\" fill-rule=\"evenodd\" fill-opacity=\"1\" /><path clip-path=\"url(#clip610)\" d=\"M 0 0 M1245.4 34.1734 Q1244.14 33.4443 1242.64 33.1202 Q1241.18 32.7556 1239.4 32.7556 Q1233.08 32.7556 1229.68 36.8875 Q1226.32 40.9789 1226.32 48.6757 L1226.32 72.576 L1218.82 72.576 L1218.82 27.2059 L1226.32 27.2059 L1226.32 34.2544 Q1228.67 30.1225 1232.43 28.1376 Q1236.2 26.1121 1241.59 26.1121 Q1242.36 26.1121 1243.29 26.2337 Q1244.22 26.3147 1245.36 26.5172 L1245.4 34.1734 Z\" fill=\"#000000\" fill-rule=\"evenodd\" fill-opacity=\"1\" /><path clip-path=\"url(#clip610)\" d=\"M 0 0 M1272.09 76.7889 Q1268.93 84.8907 1265.94 87.3618 Q1262.94 89.8329 1257.91 89.8329 L1251.96 89.8329 L1251.96 83.5945 L1256.34 83.5945 Q1259.41 83.5945 1261.12 82.1361 Q1262.82 80.6778 1264.88 75.2496 L1266.22 71.8468 L1247.87 27.2059 L1255.77 27.2059 L1269.95 62.6918 L1284.12 27.2059 L1292.02 27.2059 L1272.09 76.7889 Z\" fill=\"#000000\" fill-rule=\"evenodd\" fill-opacity=\"1\" /><path clip-path=\"url(#clip610)\" d=\"M 0 0 M1346.59 9.62495 Q1341.16 18.942 1338.53 28.0566 Q1335.89 37.1711 1335.89 46.5287 Q1335.89 55.8863 1338.53 65.0818 Q1341.2 74.2369 1346.59 83.5134 L1340.11 83.5134 Q1334.03 73.9938 1330.99 64.7983 Q1328 55.6027 1328 46.5287 Q1328 37.4952 1330.99 28.3401 Q1333.99 19.1851 1340.11 9.62495 L1346.59 9.62495 Z\" fill=\"#000000\" fill-rule=\"evenodd\" fill-opacity=\"1\" /><path clip-path=\"url(#clip610)\" d=\"M 0 0 M1362.19 12.096 L1394.31 12.096 L1394.31 18.9825 L1369.68 18.9825 L1369.68 33.8088 Q1371.46 33.2012 1373.24 32.9176 Q1375.03 32.5936 1376.81 32.5936 Q1386.94 32.5936 1392.85 38.1433 Q1398.76 43.6931 1398.76 53.1722 Q1398.76 62.9348 1392.69 68.3631 Q1386.61 73.7508 1375.55 73.7508 Q1371.75 73.7508 1367.78 73.1026 Q1363.85 72.4545 1359.63 71.1582 L1359.63 62.9348 Q1363.28 64.9198 1367.17 65.892 Q1371.06 66.8642 1375.39 66.8642 Q1382.4 66.8642 1386.49 63.1779 Q1390.58 59.4916 1390.58 53.1722 Q1390.58 46.8528 1386.49 43.1664 Q1382.4 39.4801 1375.39 39.4801 Q1372.11 39.4801 1368.83 40.2093 Q1365.59 40.9384 1362.19 42.4778 L1362.19 12.096 Z\" fill=\"#000000\" fill-rule=\"evenodd\" fill-opacity=\"1\" /><path clip-path=\"url(#clip610)\" d=\"M 0 0 M1432.39 17.4837 Q1426.07 17.4837 1422.87 23.7221 Q1419.71 29.92 1419.71 42.3968 Q1419.71 54.833 1422.87 61.0714 Q1426.07 67.2693 1432.39 67.2693 Q1438.75 67.2693 1441.91 61.0714 Q1445.11 54.833 1445.11 42.3968 Q1445.11 29.92 1441.91 23.7221 Q1438.75 17.4837 1432.39 17.4837 M1432.39 11.0023 Q1442.56 11.0023 1447.9 19.0636 Q1453.29 27.0843 1453.29 42.3968 Q1453.29 57.6687 1447.9 65.73 Q1442.56 73.7508 1432.39 73.7508 Q1422.22 73.7508 1416.83 65.73 Q1411.48 57.6687 1411.48 42.3968 Q1411.48 27.0843 1416.83 19.0636 Q1422.22 11.0023 1432.39 11.0023 Z\" fill=\"#000000\" fill-rule=\"evenodd\" fill-opacity=\"1\" /><path clip-path=\"url(#clip610)\" d=\"M 0 0 M1510.57 32.4315 Q1504.57 32.4315 1501.09 37.1306 Q1497.61 41.7891 1497.61 49.9314 Q1497.61 58.0738 1501.05 62.7728 Q1504.53 67.4314 1510.57 67.4314 Q1516.52 67.4314 1520.01 62.7323 Q1523.49 58.0333 1523.49 49.9314 Q1523.49 41.8701 1520.01 37.1711 Q1516.52 32.4315 1510.57 32.4315 M1510.57 26.1121 Q1520.29 26.1121 1525.84 32.4315 Q1531.39 38.7509 1531.39 49.9314 Q1531.39 61.0714 1525.84 67.4314 Q1520.29 73.7508 1510.57 73.7508 Q1500.81 73.7508 1495.26 67.4314 Q1489.75 61.0714 1489.75 49.9314 Q1489.75 38.7509 1495.26 32.4315 Q1500.81 26.1121 1510.57 26.1121 Z\" fill=\"#000000\" fill-rule=\"evenodd\" fill-opacity=\"1\" /><path clip-path=\"url(#clip610)\" d=\"M 0 0 M1570.04 34.1734 Q1568.78 33.4443 1567.28 33.1202 Q1565.82 32.7556 1564.04 32.7556 Q1557.72 32.7556 1554.32 36.8875 Q1550.96 40.9789 1550.96 48.6757 L1550.96 72.576 L1543.46 72.576 L1543.46 27.2059 L1550.96 27.2059 L1550.96 34.2544 Q1553.31 30.1225 1557.07 28.1376 Q1560.84 26.1121 1566.23 26.1121 Q1567 26.1121 1567.93 26.2337 Q1568.86 26.3147 1570 26.5172 L1570.04 34.1734 Z\" fill=\"#000000\" fill-rule=\"evenodd\" fill-opacity=\"1\" /><path clip-path=\"url(#clip610)\" d=\"M 0 0 M1610.42 49.9314 Q1610.42 41.7081 1607.02 37.0496 Q1603.66 32.3505 1597.75 32.3505 Q1591.83 32.3505 1588.43 37.0496 Q1585.07 41.7081 1585.07 49.9314 Q1585.07 58.1548 1588.43 62.8538 Q1591.83 67.5124 1597.75 67.5124 Q1603.66 67.5124 1607.02 62.8538 Q1610.42 58.1548 1610.42 49.9314 M1585.07 34.0924 Q1587.42 30.0415 1590.98 28.0971 Q1594.59 26.1121 1599.57 26.1121 Q1607.83 26.1121 1612.98 32.6746 Q1618.16 39.2371 1618.16 49.9314 Q1618.16 60.6258 1612.98 67.1883 Q1607.83 73.7508 1599.57 73.7508 Q1594.59 73.7508 1590.98 71.8063 Q1587.42 69.8214 1585.07 65.7705 L1585.07 72.576 L1577.57 72.576 L1577.57 9.54393 L1585.07 9.54393 L1585.07 34.0924 Z\" fill=\"#000000\" fill-rule=\"evenodd\" fill-opacity=\"1\" /><path clip-path=\"url(#clip610)\" d=\"M 0 0 M1630.52 27.2059 L1637.97 27.2059 L1637.97 72.576 L1630.52 72.576 L1630.52 27.2059 M1630.52 9.54393 L1637.97 9.54393 L1637.97 18.9825 L1630.52 18.9825 L1630.52 9.54393 Z\" fill=\"#000000\" fill-rule=\"evenodd\" fill-opacity=\"1\" /><path clip-path=\"url(#clip610)\" d=\"M 0 0 M1660.94 14.324 L1660.94 27.2059 L1676.29 27.2059 L1676.29 32.9987 L1660.94 32.9987 L1660.94 57.6282 Q1660.94 63.1779 1662.44 64.7578 Q1663.98 66.3376 1668.64 66.3376 L1676.29 66.3376 L1676.29 72.576 L1668.64 72.576 Q1660.01 72.576 1656.73 69.3758 Q1653.45 66.1351 1653.45 57.6282 L1653.45 32.9987 L1647.98 32.9987 L1647.98 27.2059 L1653.45 27.2059 L1653.45 14.324 L1660.94 14.324 Z\" fill=\"#000000\" fill-rule=\"evenodd\" fill-opacity=\"1\" /><path clip-path=\"url(#clip610)\" d=\"M 0 0 M1715.02 28.5427 L1715.02 35.5912 Q1711.86 33.9709 1708.46 33.1607 Q1705.05 32.3505 1701.41 32.3505 Q1695.86 32.3505 1693.06 34.0519 Q1690.31 35.7533 1690.31 39.156 Q1690.31 41.7486 1692.29 43.2475 Q1694.28 44.7058 1700.27 46.0426 L1702.83 46.6097 Q1710.77 48.3111 1714.09 51.4303 Q1717.45 54.509 1717.45 60.0587 Q1717.45 66.3781 1712.43 70.0644 Q1707.44 73.7508 1698.69 73.7508 Q1695.05 73.7508 1691.08 73.0216 Q1687.15 72.3329 1682.77 70.9151 L1682.77 63.2184 Q1686.91 65.3654 1690.92 66.4591 Q1694.93 67.5124 1698.86 67.5124 Q1704.12 67.5124 1706.96 65.73 Q1709.79 63.9071 1709.79 60.6258 Q1709.79 57.5877 1707.73 55.9673 Q1705.7 54.3469 1698.77 52.8481 L1696.18 52.2405 Q1689.26 50.7821 1686.18 47.7845 Q1683.1 44.7463 1683.1 39.4801 Q1683.1 33.0797 1687.63 29.5959 Q1692.17 26.1121 1700.52 26.1121 Q1704.65 26.1121 1708.29 26.7198 Q1711.94 27.3274 1715.02 28.5427 Z\" fill=\"#000000\" fill-rule=\"evenodd\" fill-opacity=\"1\" /><path clip-path=\"url(#clip610)\" d=\"M 0 0 M1728.14 9.62495 L1734.63 9.62495 Q1740.7 19.1851 1743.7 28.3401 Q1746.74 37.4952 1746.74 46.5287 Q1746.74 55.6027 1743.7 64.7983 Q1740.7 73.9938 1734.63 83.5134 L1728.14 83.5134 Q1733.53 74.2369 1736.16 65.0818 Q1738.84 55.8863 1738.84 46.5287 Q1738.84 37.1711 1736.16 28.0566 Q1733.53 18.942 1728.14 9.62495 Z\" fill=\"#000000\" fill-rule=\"evenodd\" fill-opacity=\"1\" /><polyline clip-path=\"url(#clip612)\" style=\"stroke:#009af9; stroke-width:8; stroke-opacity:1; fill:none\" points=\"\n",
       "  1303.88,778.336 1295.44,743.915 1232.6,728.585 1170.97,721.637 1115.51,719.029 1066.64,719.148 1024.14,721.173 987.76,724.625 957.341,729.188 932.809,734.642 \n",
       "  914.194,740.82 901.633,747.583 895.389,754.813 895.873,762.393 903.695,770.196 919.744,778.069 945.343,785.796 982.534,793.03 1034.7,799.118 1108.03,802.523 \n",
       "  1214.55,798.067 1318.14,766.853 1277.58,738.75 1212.17,726.85 1151.06,721.848 1096.86,720.628 1049.61,721.851 1009.04,724.809 974.889,729.069 947.02,734.344 \n",
       "  925.395,740.424 910.095,747.147 901.329,754.373 899.459,761.972 905.035,769.81 918.873,777.728 942.188,785.512 976.842,792.831 1025.86,799.088 1094.64,802.96 \n",
       "  1193.54,800.418 1311.17,774.854 1288.07,742.53 1221.38,729.022 1157.97,723.534 1101.81,722.219 1053.04,723.515 1011.35,726.622 976.426,731.066 948.1,736.534 \n",
       "  926.309,742.801 911.12,749.691 902.74,757.057 901.532,764.757 908.067,772.644 923.194,780.544 948.188,788.218 985.015,795.289 1036.9,801.07 1109.61,803.996 \n",
       "  1213.78,799.096 1317.72,768.725 1277.76,739.983 1209.55,728.434 1146.34,724.126 1090.88,723.691 1043.12,725.71 1002.69,729.436 969.295,734.422 942.777,740.365 \n",
       "  923.098,747.044 910.369,754.282 904.851,761.924 906.993,769.817 917.488,777.792 937.376,785.635 968.24,793.032 1012.59,799.458 1074.72,803.849 1162.52,803.417 \n",
       "  1282.58,787.328 1306.38,750.475 1239.96,733.239 1172.37,726.896 1112.66,725.715 1061.45,727.575 1018.44,731.454 983.294,736.77 955.83,743.145 936.018,750.308 \n",
       "  924.004,758.044 920.129,766.16 924.977,774.463 939.457,782.726 964.973,790.644 1003.73,797.735 1059.42,803.087 1138.61,804.54 1250.9,794.721 1317.17,759.135 \n",
       "  1255.85,737.133 1184.43,729.494 1121.15,728.087 1067.28,730.113 1022.45,734.321 986.248,740.023 958.398,746.788 938.827,754.31 927.658,762.346 925.238,770.679 \n",
       "  932.187,779.086 949.495,787.297 978.71,794.942 1022.3,801.409 1084.44,805.504 1172.43,804.18 1288.67,786.512 1304.14,750.286 1232.98,734.43 1162.57,729.692 \n",
       "  1101.71,730.143 1050.79,733.58 1009.37,738.944 977.08,745.626 953.733,753.221 939.374,761.429 934.289,769.991 939.051,778.655 954.616,787.126 982.502,795.008 \n",
       "  1025.14,801.662 1086.62,805.855 1173.93,804.509 1288.62,786.985 1305.43,750.911 1233.32,735.104 1161.79,730.805 1100.41,731.833 1049.6,735.889 1008.92,741.872 \n",
       "  978.015,749.141 956.726,757.273 945.166,765.939 943.735,774.848 953.182,783.699 974.749,792.115 1010.43,799.545 1063.5,805.012 1139.53,806.369 1245.6,797.156 \n",
       "  1320.59,763.34 1261.88,739.477 1186.64,732.069 1120.54,731.64 1065.35,734.884 1020.65,740.36 985.949,747.291 960.95,755.188 945.618,763.694 940.186,772.514 \n",
       "  945.195,781.358 961.591,789.895 990.903,797.674 1035.59,803.973 1099.75,807.384 1189.99,804.389 1300.89,783.443 1299.25,748.647 1223.6,735.017 1151.49,732.117 \n",
       "  1090.52,734.241 1040.81,739.21 1001.82,745.956 973.137,753.853 954.633,762.471 946.446,771.47 949.038,780.532 963.274,789.308 990.577,797.342 1033.25,803.919 \n",
       "  1095.09,807.697 1182.14,805.464 1292.45,787.074 1306.57,751.51 1231.47,736.241 1157.47,732.995 1094.95,735.212 1044.29,740.441 1004.91,747.51 976.405,755.737 \n",
       "  958.614,764.66 951.699,773.906 956.169,783.128 972.981,791.93 1003.72,799.778 1050.96,805.809 1118.91,808.324 1213.54,802.982 1315.15,777.154 1288.59,745.542 \n",
       "  1210.32,734.721 1138.83,733.441 1079.32,736.745 1031.63,742.655 995.182,750.17 969.581,758.682 954.739,767.761 950.879,777.047 958.589,786.184 978.93,794.755 \n",
       "  1013.64,802.167 1065.53,807.427 1139.17,808.482 1239.65,799.793 1322.94,768.473 1271.94,741.926 1193.26,733.998 1123.94,734.05 1066.79,738.093 1021.35,744.447 \n",
       "  987.025,752.228 963.453,760.881 950.563,770.001 948.598,779.243 958.166,788.253 980.343,796.608 1016.88,803.7 1070.61,808.493 1146.03,808.831 1247.47,798.865 \n",
       "  1323.58,766.403 1267.57,741.213 1188.64,733.97 1119.61,734.372 1062.82,738.617 1017.73,745.086 983.698,752.921 960.342,761.584 947.557,770.679 945.552,779.868 \n",
       "  954.879,788.809 976.532,797.095 1012.13,804.147 1064.27,809.004 1137.06,809.725 1235.05,801.277 1322.57,771.388 1277.85,743.155 1198.1,734.429 1127.19,734.195 \n",
       "  1068.58,738.104 1021.79,744.372 986.115,752.074 961.105,760.645 946.583,769.682 942.673,778.846 949.823,787.809 968.882,796.19 1001.25,803.471 1049.15,808.831 \n",
       "  1116.1,810.704 1206.86,805.359 1309.01,782.247 1299.36,748.583 1220.07,735.941 1145.44,734.205 1083.21,737.478 1033.31,743.488 994.993,751.126 967.728,759.739 \n",
       "  951.263,768.877 945.653,778.179 951.285,787.299 968.936,795.85 999.917,803.316 1046.32,808.896 1111.44,811.102 1199.73,806.502 1302.72,785.523 1306.35,750.95 \n",
       "  1227.72,736.779 1151.45,734.611 1087.77,737.834 1036.8,743.939 997.798,751.729 970.173,760.507 953.642,769.8 948.238,779.228 954.333,788.427 972.703,796.993 \n",
       "  1004.66,804.382 1052.3,809.745 1118.88,811.503 1208.49,805.997 1308.75,783.385 1302.99,749.621 1223.01,736.616 1146.95,735.104 1083.84,738.802 1033.68,745.287 \n",
       "  995.712,753.384 969.343,762.406 954.306,771.875 950.659,781.4 958.814,790.605 979.606,799.05 1014.43,806.141 1065.52,810.918 1136.25,811.542 1229.92,803.619 \n",
       "  1320.93,776.521 1290.14,745.861 1208.47,735.815 1134.37,735.616 1073.49,740.029 1025.51,746.951 989.634,755.325 965.333,764.512 952.375,774.055 950.861,783.571 \n",
       "  961.25,792.675 984.434,800.912 1021.89,807.643 1075.94,811.823 1150.01,811.387 1246.37,801.293 1326.05,771.102 1279.5,743.494 1197.47,735.39 1124.89,736.052 \n",
       "  1065.6,740.918 1019.08,748.094 984.551,756.605 961.467,765.849 949.62,775.389 949.115,784.851 960.409,793.858 984.38,801.955 1022.48,808.508 1076.96,812.47 \n",
       "  1151.12,811.796 1246.98,801.523 1326.38,771.474 1280.73,743.673 1198.47,735.428 1125.48,736.041 1065.81,740.885 1018.9,748.046 983.95,756.54 960.392,765.766 \n",
       "  947.979,775.287 946.777,784.736 957.185,793.744 980.005,801.878 1016.56,808.54 1068.93,812.768 1140.15,812.739 1232.76,804.206 1321.81,777.319 1293.41,746.405 \n",
       "  1211.22,735.991 1136.02,735.719 1074.11,740.155 1025.19,747.121 988.407,755.533 963.147,764.742 949.099,774.292 946.264,783.807 954.975,792.921 975.942,801.213 \n",
       "  1010.37,808.119 1060.14,812.755 1128.05,813.503 1216.92,806.759 1312.28,783.656 1306.78,750.241 1226.01,736.975 1148.26,735.607 1083.76,739.594 1032.58,746.386 \n",
       "  993.851,754.757 966.89,763.997 951.314,773.619 947.062,783.232 954.398,792.463 973.954,800.897 1006.83,807.984 1054.76,812.889 1120.31,814.119 1206.26,808.47 \n",
       "  1303.26,788.047 1315.76,753.727 1237.46,737.964 1157.72,735.642 1091.07,739.252 1038.01,745.895 997.651,754.223 969.227,763.472 952.288,773.133 946.703,782.803 \n",
       "  952.662,792.111 970.709,800.65 1001.82,807.896 1047.57,813.073 1110.25,814.837 1192.57,810.421 1289.65,793.111 1324.6,758.835 1252.3,739.448 1170.45,735.59 \n",
       "  1101.08,738.502 1045.46,744.782 1002.7,752.905 971.958,762.041 952.687,771.652 944.658,781.33 947.957,790.711 962.997,799.412 990.583,806.961 1032.02,812.691 \n",
       "  1089.29,815.502 1164.96,813.277 1258.9,801.126 1329.88,770.55 1281.19,743.571 1197.28,735.836 1123.05,736.999 1062.62,742.364 1015.35,749.973 980.315,758.827 \n",
       "  956.832,768.314 944.544,777.998 943.398,787.513 953.648,796.498 975.899,804.537 1011.18,811.076 1061.1,815.264 1127.92,815.591 1213.69,808.869 1307.31,787.633 \n",
       "  1316.82,753.655 1237.7,738.041 1157.05,735.897 1089.67,739.689 1036.01,746.483 995.102,754.919 966.088,764.231 948.433,773.916 941.91,783.583 946.593,792.876 \n",
       "  962.873,801.417 991.511,808.738 1033.74,814.174 1091.39,816.638 1166.75,814.064 1259.31,801.787 1330.63,771.734 1284.96,744.158 1200.53,735.999 1125.28,737.059 \n",
       "  1063.93,742.432 1015.87,750.085 980.113,758.987 955.921,768.517 942.879,778.235 940.871,787.778 950.073,796.796 970.988,804.891 1004.5,811.546 1052.01,815.993 \n",
       "  1115.46,816.916 1196.89,811.683 1290.8,794.223 1328.39,760.482 1258.31,740.003 1175,735.674 1103.89,738.457 1046.63,744.715 1002.3,752.846 969.939,761.988 \n",
       "  948.888,771.599 938.794,781.277 939.594,790.678 951.513,799.455 975.093,807.203 1011.27,813.385 1061.45,817.179 1127.61,817.16 1211.35,810.415 1303.43,790.342 \n",
       "  1323.4,756.38 1247.06,738.796 1164.62,735.819 1095.11,739.26 1039.41,745.883 996.512,754.221 965.46,763.472 945.611,773.12 936.62,782.78 938.427,792.115 \n",
       "  951.253,800.783 975.629,808.383 1012.46,814.375 1063.11,817.943 1129.45,817.667 1212.89,810.672 1304.05,790.528 1324.33,756.658 1248.17,738.895 1165.34,735.859 \n",
       "  1095.43,739.3 1039.36,745.935 996.109,754.284 964.688,763.542 944.424,773.191 934.94,782.85 936.139,792.187 948.197,800.869 971.585,808.511 1007.12,814.604 \n",
       "  1056.06,818.389 1120.11,818.577 1200.79,812.644 1292.2,794.974 1330.96,761.642 1262.52,740.423 1178.12,735.748 1105.69,738.433 1047.18,744.668 1001.62,752.788 \n",
       "  967.966,761.916 945.464,771.507 933.667,781.166 932.403,790.567 941.76,799.39 962.104,807.279 994.114,813.781 1038.86,818.248 1097.84,819.626 1172.74,815.967 \n",
       "  1262.16,803.08 1332.47,773.914 1292.71,745.333 1207.39,736.197 1129.95,736.915 1066.41,742.166 1016.22,749.764 978.267,758.627 951.676,768.119 935.885,777.807 \n",
       "  930.608,787.347 935.823,796.427 951.766,804.716 978.962,811.812 1018.28,817.171 1071,819.957 1138.74,818.72 1222.3,810.551 1310.23,789.227 1324.2,755.692 \n",
       "  1246.71,738.594 1163.59,735.847 1093.43,739.453 1037.08,746.19 993.457,754.597 961.533,763.878 940.585,773.528 930.177,783.177 930.142,792.508 940.561,801.21 \n",
       "  961.778,808.935 994.433,815.236 1039.52,819.475 1098.43,820.629 1172.64,816.822 1260.69,804.116 1332.42,775.768 1298.28,746.358 1213.02,736.355 1134.39,736.732 \n",
       "  1069.63,741.851 1018.3,749.402 979.256,758.256 951.586,767.759 934.669,777.469 928.165,787.047 931.987,796.184 946.298,804.566 971.521,811.818 1008.39,817.448 \n",
       "  1057.99,820.723 1121.76,820.422 1200.79,814.219 1289.67,797.169 1335.27,764.822 1273.35,741.536 1187.82,735.665 1113.14,737.85 1052.39,743.861 1004.65,751.878 \n",
       "  968.835,760.963 944.085,770.547 929.857,780.233 925.867,789.701 932.075,798.654 948.682,806.775 976.147,813.684 1015.23,818.865 1067.05,821.544 1133,820.406 \n",
       "  1213.81,812.918 1301.39,793.748 1332.75,760.642 1262.94,740.055 1177.97,735.571 1104.82,738.376 1045.51,744.696 999.032,752.869 964.281,762.022 940.435,771.618 \n",
       "  926.962,781.277 923.586,790.69 930.264,799.568 947.188,807.603 974.799,814.421 1013.83,819.52 1065.33,822.147 1130.63,821.04 1210.45,813.787 1297.73,795.36 \n",
       "  1335.03,762.635 1268.93,740.723 1183.46,735.51 1109.23,737.973 1048.81,744.106 1001.25,752.166 965.412,761.25 940.447,770.807 925.784,780.454 921.11,789.885 \n",
       "  926.34,798.817 941.614,806.956 967.308,813.953 1004.07,819.348 1052.84,822.469 1114.86,822.222 1191.11,816.593 1278.05,801.43 1337.42,771.212 1290.92,744.204 \n",
       "  1204.93,735.785 1127.12,736.805 1063.06,742.209 1012.12,749.878 973.131,758.756 945.162,768.229 927.559,777.883 919.931,787.399 922.119,796.498 934.184,804.898 \n",
       "  956.405,812.278 989.312,818.231 1033.72,822.185 1090.73,823.246 1161.51,819.856 1245.33,808.928 1324.66,784.611 1320.3,752.293 1239.22,737.494 1156.43,735.688 \n",
       "  1086.72,739.74 1030.55,746.706 986.785,755.22 954.358,764.535 932.492,774.173 920.682,783.789 918.663,793.097 926.385,801.823 944.012,809.674 971.934,816.296 \n",
       "  1010.8,821.215 1061.53,823.729 1125.27,822.69 1202.67,815.972 1288.59,799.26 1338.97,768.069 1284.97,742.836 1198.76,735.508 1121.71,737.013 1058.39,742.666 \n",
       "  1008.04,750.47 969.495,759.419 941.824,768.921 924.37,778.576 916.729,788.076 918.723,797.152 930.378,805.531 951.932,812.909 983.846,818.904 1026.84,822.985 \n",
       "  1081.91,824.342 1150.11,821.603 1231.25,812.14 1313.87,790.794 1332.21,757.927 1258.55,739.064 1173.6,735.274 1100.6,738.38 1041.21,744.84 994.389,753.069 \n",
       "  958.999,762.226 934.179,771.799 919.342,781.425 914.139,790.819 918.433,799.718 932.285,807.856 955.961,814.921 989.949,820.519 1034.99,824.094 1092.06,824.785 \n",
       "  1162.12,821.115 1244.31,810.229 1323.21,786.782 1326.49,754.294 1247.86,737.941 1163.85,735.348 1092.41,739.016 1034.47,745.769 988.912,754.155 954.632,763.389 \n",
       "  930.785,772.985 916.801,782.597 912.342,791.947 917.275,800.78 931.661,808.831 955.758,815.795 990.038,821.28 1035.21,824.738 1092.22,825.323 1161.96,821.586 \n",
       "  1243.54,810.762 1322.36,787.68 1328.76,755.164 1251.3,738.17 1166.85,735.251 1094.73,738.765 1036.13,745.438 989.916,753.777 954.972,762.986 930.432,772.569 \n",
       "  915.702,782.182 910.42,791.548 914.427,800.415 927.75,808.53 950.607,815.6 983.419,821.256 1026.83,824.991 1081.71,826.036 1148.96,823.109 1228.28,813.821 \n",
       "  1310.07,793.553 1337.7,761.144 1269.77,740.104 1183.78,735.071 1108.69,737.591 1047.15,743.74 998.211,751.788 960.687,760.838 933.651,770.354 916.445,779.969 \n",
       "  908.647,789.4 910.039,798.399 920.586,806.723 940.437,814.101 969.928,820.204 1009.61,824.59 1060.23,826.616 1122.7,825.252 1197.44,818.666 1280.53,803.294 \n",
       "  1340.44,774.386 1303.63,745.992 1218.01,735.751 1137.59,735.899 1070.51,740.864 1016.46,748.282 974.252,757.005 942.837,766.384 921.444,775.998 909.552,785.539 \n",
       "  906.85,794.753 913.217,803.401 928.708,811.233 953.556,817.957 988.188,823.2 1033.24,826.442 1089.52,826.893 1157.81,823.227 1237.37,812.981 1316.77,791.547 \n",
       "  1336.67,759.153 1265.65,739.351 1179.89,734.888 1105.29,737.648 1044.12,743.907 995.385,752.002 957.92,761.066 930.794,770.576 913.343,780.176 905.134,789.591 \n",
       "  905.927,798.583 915.662,806.919 934.446,814.343 962.564,820.55 1000.49,825.135 1048.89,827.524 1108.58,826.821 1180.12,821.484 1261.38,808.596 1332.88,783.293 \n",
       "  1323.9,751.861 1242.99,737.052 1159.27,735.055 1088.06,738.969 1030.09,745.825 984.205,754.238 949.281,763.459 924.453,773.021 909.111,782.598 902.862,791.931 \n",
       "  905.5,800.789 916.99,808.94 937.46,816.129 967.21,822.042 1006.73,826.261 1056.68,828.187 1117.84,826.876 1190.59,820.69 1271.93,806.531 1338.1,779.703 \n",
       "  1317.59,749.357 1234.38,736.348 1151.63,735.175 1081.67,739.484 1024.81,746.546 979.892,755.069 945.799,764.344 921.689,773.923 906.965,783.49 901.244,792.793 \n",
       "  904.325,801.606 916.171,809.702 936.906,816.826 966.821,822.67 1006.38,826.823 1056.23,828.694 1117.12,827.358 1189.37,821.227 1270.15,807.314 1337.35,781.014 \n",
       "  1321.09,750.326 1238.85,736.549 1155.53,734.994 1084.79,739.117 1027.16,746.08 981.495,754.549 946.665,763.796 921.808,773.367 906.307,782.942 899.759,792.27 \n",
       "  901.941,801.127 912.792,809.291 932.407,816.518 961.04,822.514 999.115,826.894 1047.23,829.112 1106.08,828.331 1176.12,823.14 1255.54,810.938 1328.89,787.283 \n",
       "  1333.33,755.405 1257.22,737.989 1171.99,734.618 1098.35,737.864 1037.92,744.362 989.656,752.575 952.387,761.688 925.187,771.206 907.383,780.792 898.52,790.187 \n",
       "  898.325,799.167 906.687,807.519 923.647,815.013 949.399,821.381 984.294,826.28 1028.85,829.239 1083.72,829.56 1149.49,826.108 1225.65,816.869 1304.8,798.123 \n",
       "  1345.38,767.318 1291.66,742.558 1205.13,734.754 1126.24,735.915 1060.5,741.339 1007.35,748.966 965.567,757.768 934.133,767.15 912.269,776.727 899.429,786.219 \n",
       "  895.262,795.393 899.581,804.041 912.351,811.947 933.681,818.872 963.831,824.523 1003.22,828.511 1052.41,830.287 1112.05,829.004 1182.44,823.237 1261.39,810.383 \n",
       "  1332.34,786.159 1332.95,754.569 1256.06,737.631 1170.94,734.412 1097.34,737.694 1036.81,744.187 988.312,752.376 950.675,761.458 922.972,770.946 904.519,780.507 \n",
       "  894.846,789.89 893.66,798.878 900.825,807.268 916.344,814.845 940.366,821.361 973.182,826.507 1015.24,829.868 1067.11,830.839 1129.39,828.478 1202.06,821.167 \n",
       "  1281.27,805.938 1342.49,778.74 1319.66,748.973 1236.69,735.959 1153.55,734.64 1082.8,738.822 1024.9,745.779 978.719,754.211 943.126,763.409 917.246,772.932 \n",
       "  900.439,782.47 892.269,791.786 892.468,800.672 900.918,808.927 917.638,816.337 942.786,822.653 976.66,827.563 1019.7,830.641 1072.48,831.272 1135.54,828.483 \n",
       "  1208.69,820.608 1287.44,804.606 1344.83,776.691 1316.15,747.685 1232.26,735.568 1149.64,734.647 1079.49,739.012 1022.09,746.056 976.292,754.53 940.986,763.744 \n",
       "  915.303,773.265 898.609,782.794 890.471,792.095 890.617,800.966 898.926,809.209 915.407,816.615 940.204,822.943 973.597,827.889 1016,831.044 1067.96,831.819 \n",
       "  1130.01,829.297 1202.04,821.922 1280.37,806.876 1342.39,780.253 1324.41,750.131 1242.82,736.152 1159,734.3 1087.19,738.199 1028.17,744.992 980.861,753.324 \n",
       "  944.11,762.462 917.021,771.953 898.927,781.488 889.364,790.828 888.035,799.77 894.788,808.122 909.6,815.683 932.58,822.227 963.965,827.47 1004.13,831.043 \n",
       "  \n",
       "  \"/>\n",
       "<path clip-path=\"url(#clip612)\" d=\"M1250.12 789.326 L1238.8 784.638 L1234.12 773.326 L1238.8 762.014 L1250.12 757.326 L1261.43 762.014 L1266.12 773.326 L1261.43 784.638 Z\" fill=\"#008000\" fill-rule=\"evenodd\" fill-opacity=\"1\" stroke=\"#000000\" stroke-opacity=\"1\" stroke-width=\"3.2\"/>\n",
       "<path clip-path=\"url(#clip610)\" d=\"\n",
       "M1299.3 348.236 L1826.46 348.236 L1826.46 166.796 L1299.3 166.796  Z\n",
       "  \" fill=\"#ffffff\" fill-rule=\"evenodd\" fill-opacity=\"1\"/>\n",
       "<polyline clip-path=\"url(#clip610)\" style=\"stroke:#000000; stroke-width:4; stroke-opacity:1; fill:none\" points=\"\n",
       "  1299.3,348.236 1826.46,348.236 1826.46,166.796 1299.3,166.796 1299.3,348.236 \n",
       "  \"/>\n",
       "<polyline clip-path=\"url(#clip610)\" style=\"stroke:#009af9; stroke-width:4; stroke-opacity:1; fill:none\" points=\"\n",
       "  1323.81,227.276 1470.82,227.276 \n",
       "  \"/>\n",
       "<path clip-path=\"url(#clip610)\" d=\"M 0 0 M1510.51 222.611 Q1509.79 222.195 1508.94 222.01 Q1508.1 221.801 1507.09 221.801 Q1503.48 221.801 1501.53 224.162 Q1499.61 226.5 1499.61 230.898 L1499.61 244.556 L1495.33 244.556 L1495.33 218.63 L1499.61 218.63 L1499.61 222.658 Q1500.95 220.297 1503.1 219.162 Q1505.26 218.005 1508.34 218.005 Q1508.78 218.005 1509.31 218.074 Q1509.84 218.121 1510.49 218.236 L1510.51 222.611 Z\" fill=\"#000000\" fill-rule=\"evenodd\" fill-opacity=\"1\" /><path clip-path=\"url(#clip610)\" d=\"M 0 0 M1536.11 230.528 L1536.11 232.611 L1516.53 232.611 Q1516.81 237.009 1519.17 239.324 Q1521.55 241.616 1525.79 241.616 Q1528.24 241.616 1530.54 241.014 Q1532.85 240.412 1535.12 239.209 L1535.12 243.236 Q1532.83 244.208 1530.42 244.718 Q1528.01 245.227 1525.54 245.227 Q1519.33 245.227 1515.7 241.616 Q1512.09 238.005 1512.09 231.847 Q1512.09 225.482 1515.51 221.755 Q1518.96 218.005 1524.79 218.005 Q1530.03 218.005 1533.06 221.385 Q1536.11 224.741 1536.11 230.528 M1531.85 229.278 Q1531.81 225.783 1529.89 223.699 Q1527.99 221.616 1524.84 221.616 Q1521.28 221.616 1519.12 223.63 Q1516.99 225.644 1516.67 229.301 L1531.85 229.278 Z\" fill=\"#000000\" fill-rule=\"evenodd\" fill-opacity=\"1\" /><path clip-path=\"url(#clip610)\" d=\"M 0 0 M1556.23 208.537 L1556.23 212.079 L1552.16 212.079 Q1549.86 212.079 1548.96 213.005 Q1548.08 213.931 1548.08 216.338 L1548.08 218.63 L1555.1 218.63 L1555.1 221.94 L1548.08 221.94 L1548.08 244.556 L1543.8 244.556 L1543.8 221.94 L1539.73 221.94 L1539.73 218.63 L1543.8 218.63 L1543.8 216.824 Q1543.8 212.496 1545.81 210.528 Q1547.83 208.537 1552.2 208.537 L1556.23 208.537 Z\" fill=\"#000000\" fill-rule=\"evenodd\" fill-opacity=\"1\" /><polyline clip-path=\"url(#clip610)\" style=\"stroke:#008000; stroke-width:4; stroke-opacity:1; fill:none\" points=\"\n",
       "  1323.81,287.756 1470.82,287.756 \n",
       "  \"/>\n",
       "<path clip-path=\"url(#clip610)\" d=\"M1397.31 313.356 L1379.22 305.855 L1371.71 287.756 L1379.22 269.657 L1397.31 262.156 L1415.41 269.657 L1422.91 287.756 L1415.41 305.855 Z\" fill=\"#008000\" fill-rule=\"evenodd\" fill-opacity=\"1\" stroke=\"#000000\" stroke-opacity=\"1\" stroke-width=\"5.12\"/>\n",
       "<path clip-path=\"url(#clip610)\" d=\"M 0 0 M1500 274.318 L1500 287.304 L1505.88 287.304 Q1509.15 287.304 1510.93 285.615 Q1512.71 283.925 1512.71 280.8 Q1512.71 277.698 1510.93 276.008 Q1509.15 274.318 1505.88 274.318 L1500 274.318 M1495.33 270.476 L1505.88 270.476 Q1511.69 270.476 1514.66 273.115 Q1517.64 275.73 1517.64 280.8 Q1517.64 285.915 1514.66 288.531 Q1511.69 291.147 1505.88 291.147 L1500 291.147 L1500 305.036 L1495.33 305.036 L1495.33 270.476 Z\" fill=\"#000000\" fill-rule=\"evenodd\" fill-opacity=\"1\" /><path clip-path=\"url(#clip610)\" d=\"M 0 0 M1523.73 269.017 L1527.99 269.017 L1527.99 305.036 L1523.73 305.036 L1523.73 269.017 Z\" fill=\"#000000\" fill-rule=\"evenodd\" fill-opacity=\"1\" /><path clip-path=\"url(#clip610)\" d=\"M 0 0 M1548.68 292.003 Q1543.52 292.003 1541.53 293.184 Q1539.54 294.364 1539.54 297.212 Q1539.54 299.48 1541.02 300.823 Q1542.53 302.142 1545.1 302.142 Q1548.64 302.142 1550.77 299.642 Q1552.92 297.119 1552.92 292.952 L1552.92 292.003 L1548.68 292.003 M1557.18 290.244 L1557.18 305.036 L1552.92 305.036 L1552.92 301.101 Q1551.46 303.462 1549.29 304.596 Q1547.11 305.707 1543.96 305.707 Q1539.98 305.707 1537.62 303.485 Q1535.28 301.239 1535.28 297.489 Q1535.28 293.114 1538.2 290.892 Q1541.14 288.67 1546.95 288.67 L1552.92 288.67 L1552.92 288.253 Q1552.92 285.314 1550.98 283.716 Q1549.05 282.096 1545.56 282.096 Q1543.34 282.096 1541.23 282.628 Q1539.12 283.161 1537.18 284.226 L1537.18 280.29 Q1539.52 279.388 1541.72 278.948 Q1543.91 278.485 1546 278.485 Q1551.62 278.485 1554.4 281.402 Q1557.18 284.318 1557.18 290.244 Z\" fill=\"#000000\" fill-rule=\"evenodd\" fill-opacity=\"1\" /><path clip-path=\"url(#clip610)\" d=\"M 0 0 M1587.5 289.388 L1587.5 305.036 L1583.24 305.036 L1583.24 289.527 Q1583.24 285.846 1581.81 284.017 Q1580.37 282.189 1577.5 282.189 Q1574.05 282.189 1572.06 284.388 Q1570.07 286.587 1570.07 290.383 L1570.07 305.036 L1565.79 305.036 L1565.79 279.11 L1570.07 279.11 L1570.07 283.138 Q1571.6 280.8 1573.66 279.642 Q1575.74 278.485 1578.45 278.485 Q1582.92 278.485 1585.21 281.263 Q1587.5 284.017 1587.5 289.388 Z\" fill=\"#000000\" fill-rule=\"evenodd\" fill-opacity=\"1\" /><path clip-path=\"url(#clip610)\" d=\"M 0 0 M1618.17 291.008 L1618.17 293.091 L1598.59 293.091 Q1598.87 297.489 1601.23 299.804 Q1603.61 302.096 1607.85 302.096 Q1610.3 302.096 1612.6 301.494 Q1614.91 300.892 1617.18 299.689 L1617.18 303.716 Q1614.89 304.688 1612.48 305.198 Q1610.07 305.707 1607.6 305.707 Q1601.39 305.707 1597.76 302.096 Q1594.15 298.485 1594.15 292.327 Q1594.15 285.962 1597.57 282.235 Q1601.02 278.485 1606.85 278.485 Q1612.09 278.485 1615.12 281.865 Q1618.17 285.221 1618.17 291.008 M1613.91 289.758 Q1613.87 286.263 1611.95 284.179 Q1610.05 282.096 1606.9 282.096 Q1603.34 282.096 1601.18 284.11 Q1599.05 286.124 1598.73 289.781 L1613.91 289.758 Z\" fill=\"#000000\" fill-rule=\"evenodd\" fill-opacity=\"1\" /><path clip-path=\"url(#clip610)\" d=\"M 0 0 M1629.38 271.749 L1629.38 279.11 L1638.15 279.11 L1638.15 282.42 L1629.38 282.42 L1629.38 296.494 Q1629.38 299.665 1630.23 300.568 Q1631.11 301.471 1633.78 301.471 L1638.15 301.471 L1638.15 305.036 L1633.78 305.036 Q1628.85 305.036 1626.97 303.207 Q1625.1 301.355 1625.1 296.494 L1625.1 282.42 L1621.97 282.42 L1621.97 279.11 L1625.1 279.11 L1625.1 271.749 L1629.38 271.749 Z\" fill=\"#000000\" fill-rule=\"evenodd\" fill-opacity=\"1\" /><path clip-path=\"url(#clip610)\" d=\"M 0 0 M1659.01 270.476 L1680.86 270.476 L1680.86 274.411 L1663.68 274.411 L1663.68 284.642 L1680.14 284.642 L1680.14 288.577 L1663.68 288.577 L1663.68 301.101 L1681.28 301.101 L1681.28 305.036 L1659.01 305.036 L1659.01 270.476 Z\" fill=\"#000000\" fill-rule=\"evenodd\" fill-opacity=\"1\" /><path clip-path=\"url(#clip610)\" d=\"M 0 0 M1700.56 292.003 Q1695.4 292.003 1693.4 293.184 Q1691.41 294.364 1691.41 297.212 Q1691.41 299.48 1692.9 300.823 Q1694.4 302.142 1696.97 302.142 Q1700.51 302.142 1702.64 299.642 Q1704.79 297.119 1704.79 292.952 L1704.79 292.003 L1700.56 292.003 M1709.05 290.244 L1709.05 305.036 L1704.79 305.036 L1704.79 301.101 Q1703.34 303.462 1701.16 304.596 Q1698.98 305.707 1695.84 305.707 Q1691.85 305.707 1689.49 303.485 Q1687.15 301.239 1687.15 297.489 Q1687.15 293.114 1690.07 290.892 Q1693.01 288.67 1698.82 288.67 L1704.79 288.67 L1704.79 288.253 Q1704.79 285.314 1702.85 283.716 Q1700.93 282.096 1697.43 282.096 Q1695.21 282.096 1693.1 282.628 Q1691 283.161 1689.05 284.226 L1689.05 280.29 Q1691.39 279.388 1693.59 278.948 Q1695.79 278.485 1697.87 278.485 Q1703.5 278.485 1706.28 281.402 Q1709.05 284.318 1709.05 290.244 Z\" fill=\"#000000\" fill-rule=\"evenodd\" fill-opacity=\"1\" /><path clip-path=\"url(#clip610)\" d=\"M 0 0 M1732.85 283.091 Q1732.13 282.675 1731.28 282.49 Q1730.44 282.281 1729.42 282.281 Q1725.81 282.281 1723.87 284.642 Q1721.95 286.98 1721.95 291.378 L1721.95 305.036 L1717.66 305.036 L1717.66 279.11 L1721.95 279.11 L1721.95 283.138 Q1723.29 280.777 1725.44 279.642 Q1727.59 278.485 1730.67 278.485 Q1731.11 278.485 1731.65 278.554 Q1732.18 278.601 1732.83 278.716 L1732.85 283.091 Z\" fill=\"#000000\" fill-rule=\"evenodd\" fill-opacity=\"1\" /><path clip-path=\"url(#clip610)\" d=\"M 0 0 M1741.53 271.749 L1741.53 279.11 L1750.3 279.11 L1750.3 282.42 L1741.53 282.42 L1741.53 296.494 Q1741.53 299.665 1742.39 300.568 Q1743.27 301.471 1745.93 301.471 L1750.3 301.471 L1750.3 305.036 L1745.93 305.036 Q1741 305.036 1739.12 303.207 Q1737.25 301.355 1737.25 296.494 L1737.25 282.42 L1734.12 282.42 L1734.12 279.11 L1737.25 279.11 L1737.25 271.749 L1741.53 271.749 Z\" fill=\"#000000\" fill-rule=\"evenodd\" fill-opacity=\"1\" /><path clip-path=\"url(#clip610)\" d=\"M 0 0 M1777.46 289.388 L1777.46 305.036 L1773.2 305.036 L1773.2 289.527 Q1773.2 285.846 1771.76 284.017 Q1770.33 282.189 1767.46 282.189 Q1764.01 282.189 1762.02 284.388 Q1760.02 286.587 1760.02 290.383 L1760.02 305.036 L1755.74 305.036 L1755.74 269.017 L1760.02 269.017 L1760.02 283.138 Q1761.55 280.8 1763.61 279.642 Q1765.7 278.485 1768.4 278.485 Q1772.87 278.485 1775.16 281.263 Q1777.46 284.017 1777.46 289.388 Z\" fill=\"#000000\" fill-rule=\"evenodd\" fill-opacity=\"1\" /></svg>\n"
      ]
     },
     "execution_count": 72,
     "metadata": {},
     "output_type": "execute_result"
    }
   ],
   "source": [
    "knots = 1000\n",
    "function n_orbits_ref_traj(init_orbit::Orbit, orbits::Int, roll=0, pitch=0, yaw=0) #knots,Nx,Nu\n",
    "    traj = zeros(knots-1,Nx+Nu)\n",
    "    h = init_orbit.period*orbits/(knots)\n",
    "    x = copy(init_orbit.x0)\n",
    "    R = RotXYZ(roll, pitch, yaw)\n",
    "#     [[0.7071068  0.0000000  0.7071068];\n",
    "#          [0.0000000  1.0000000  0.0000000];\n",
    "#          [-0.7071068  0.0000000  0.7071068]]\n",
    "#     print(size(R))\n",
    "    x[1:3] .= R*x[1:3]\n",
    "#     x[4:end] .= R*x[4:end]\n",
    "    u = [0,  0,  0, h]\n",
    "    traj[1,:] .= vcat(x,u)\n",
    "#     println(h)\n",
    "    for i in 2:size(traj)[1]\n",
    "#         integrator!(x, u, h)\n",
    "        x = dynamics_rk8(x, u[1:3], u[4])\n",
    "        traj[i,:] .= vcat(x,u)\n",
    "    end\n",
    "    x = dynamics_rk8(x, u[1:3], u[4])\n",
    "    next = vcat(x,u)\n",
    "    print(norm(next[1:Nx] - init_orbit.x0))\n",
    "#     @assert norm(next[1:Nx] - init_orbit.x0)<2.1 #max integrator error #decrease orbits or increase knots\n",
    "    traj = reshape(traj',((knots-1)*(Nx+Nu),1))\n",
    "    traj = vcat(traj,next[1:Nx])\n",
    "    return traj\n",
    "end\n",
    "orbits = 50\n",
    "z = n_orbits_ref_traj(transfer_orbit,orbits)\n",
    "X,U = unpackZ(knots, [(z...)...])\n",
    "plot3d_orbit(X, \"ref\")"
   ]
  },
  {
   "cell_type": "markdown",
   "metadata": {},
   "source": [
    "### Setup IPOPT "
   ]
  },
  {
   "cell_type": "code",
   "execution_count": null,
   "metadata": {
    "scrolled": true
   },
   "outputs": [],
   "source": [
    "knots = 1000 # Number of knot points NOTE: DO NOT MAKE TOO LARGE Assume ~41 knots/orbit RK8 or ~81 knots/orbit RK4\n",
    "orbits = 50\n",
    "n_nlp = (Nx+Nu)*(knots-1)+Nx; # number of decision variables\n",
    "idx = get_cinds(Nx, knots); # constraint indexs\n",
    "m_nlp = idx[end][end]; # number of constraints"
   ]
  },
  {
   "cell_type": "code",
   "execution_count": null,
   "metadata": {},
   "outputs": [],
   "source": [
    "sj = sparsity_jacobian(n_nlp, m_nlp, knots); # Get sparcity indexes"
   ]
  },
  {
   "cell_type": "code",
   "execution_count": null,
   "metadata": {},
   "outputs": [],
   "source": [
    "zref = n_orbits_ref_traj(transfer_orbit, orbits); # Get initial guess"
   ]
  },
  {
   "cell_type": "code",
   "execution_count": null,
   "metadata": {},
   "outputs": [],
   "source": [
    "prob = ProblemMOI(n_nlp, knots, z, m_nlp=m_nlp, idx_ineq=idx, sparsity_jac=sj);"
   ]
  },
  {
   "cell_type": "code",
   "execution_count": null,
   "metadata": {},
   "outputs": [],
   "source": [
    "@time z_sol, status = solve(z_sol, prob) # solve"
   ]
  },
  {
   "cell_type": "markdown",
   "metadata": {},
   "source": [
    "### TODO: Add save feature"
   ]
  },
  {
   "cell_type": "code",
   "execution_count": null,
   "metadata": {},
   "outputs": [],
   "source": [
    "filename = \"/home/aipex/Mitch/16-745_final_project/reference_OOP2IP_$(orbits)00.jld\"\n",
    "save(filename, \"ref_traj\", z, \"opt_traj\", z_sol, \"status\", status)"
   ]
  },
  {
   "cell_type": "markdown",
   "metadata": {},
   "source": [
    "### Plotting"
   ]
  },
  {
   "cell_type": "code",
   "execution_count": null,
   "metadata": {
    "scrolled": true
   },
   "outputs": [],
   "source": [
    "Xsol, Usol = unpackZ(knots, z_sol)\n",
    "plot3d_orbit(Xsol, \"Locally Optimal\")\n",
    "X, U = unpackZ(knots, z)\n",
    "plot3d!(X[1, :], X[2, :], X[3,:], label = \"Reference\", lw = 2, color=\"red\")\n"
   ]
  },
  {
   "cell_type": "code",
   "execution_count": null,
   "metadata": {
    "scrolled": false
   },
   "outputs": [],
   "source": [
    "for orbits=1\n",
    "    z = n_orbits_ref_traj(transfer_orbit, 100*orbits)\n",
    "    z_sol, status = solve(z, prob) # solve\n",
    "    \n",
    "end"
   ]
  },
  {
   "cell_type": "code",
   "execution_count": null,
   "metadata": {
    "scrolled": false
   },
   "outputs": [],
   "source": [
    "knots_final = 10000\n",
    "Xfinal = zeros((Nx, knots_final))\n",
    "Xfinal[:, 1] .= Xsol[:,end]\n",
    "for k = 1:knots_final-1\n",
    "    Xfinal[:, k+1] = dynamics_rk8(Xfinal[:, k], zeros(3), 1e-2)\n",
    "end\n",
    "Plots.display(plot!(Xfinal[1,:], Xfinal[2,:], Xfinal[3,:], label=\"Final Orbit\", color=\"gold\"))"
   ]
  },
  {
   "cell_type": "markdown",
   "metadata": {},
   "source": [
    "### Loading Previous Models"
   ]
  },
  {
   "cell_type": "code",
   "execution_count": null,
   "metadata": {
    "scrolled": false
   },
   "outputs": [],
   "source": [
    "function evaluate_traj(filename, num_orbits)    \n",
    "    out = load(filename)\n",
    "    z_ref = out[\"ref_traj\"]\n",
    "    z_sol = out[\"opt_traj\"]\n",
    "    status = out[\"status\"]\n",
    "\n",
    "    Xsol,Usol = unpackZ(knots, z_sol)\n",
    "    X, U = unpackZ(knots, z_ref)\n",
    "    plot(Xsol[1, :], Xsol[2, :], aspect_ratio=:equal, lims=(-semiMajorAxis_goal*3,semiMajorAxis_goal*3), label=\"Solution\", lw=2)\n",
    "    xlabel!(\"Orbital Units\")\n",
    "    ylabel!(\"Orbital Units\")\n",
    "\n",
    "    plot!([goal_orbit.x0[1]], [goal_orbit.x0[2]], markershape=:xcross, markersize=5, label=\"Goal State\")\n",
    "\n",
    "    plot!([0], [0], lw=1, markershape=:o, label=\"Planet Earth\")\n",
    "\n",
    "    plot!(X[1, :], X[2, :], title = \"$(status): $(num_orbits) orbit reference Tmax=10\", label = \"Reference\", lw = 3)\n",
    "    flush(stdout)\n",
    "    \n",
    "    knots_final = 10000\n",
    "    Xfinal = zeros((Nx, knots_final))\n",
    "    Xfinal[:, 1] .= Xsol[:,end]\n",
    "    for k = 1:knots_final-1\n",
    "        Xfinal[:, k+1] = dynamics_rk8(Xfinal[:, k], zeros(3), 1e-2)\n",
    "    end\n",
    "    Plots.display(plot!(Xfinal[1,:], Xfinal[2,:], label=\"Final Orbit\" ))\n",
    "    \n",
    "    return sum(Usol[4, :])\n",
    "end\n",
    "\n",
    "for num_orbits=1:5\n",
    "# num_orbits = 1\n",
    "    filename = \"/home/aipex/Mitch/16-745_final_project/reference_$(num_orbits).jld\"\n",
    "\n",
    "    final_time = evaluate_traj(filename, num_orbits)\n",
    "#     display(final_time)\n",
    "end"
   ]
  },
  {
   "cell_type": "code",
   "execution_count": null,
   "metadata": {
    "scrolled": false
   },
   "outputs": [],
   "source": [
    "    \n",
    "for i=1:5\n",
    "    filename = \"/home/aipex/Mitch/16-745_final_project/reference_$(i).jld\"\n",
    "\n",
    "    out = load(filename)\n",
    "    z_ref = out[\"ref_traj\"]\n",
    "    z_sol = out[\"opt_traj\"]\n",
    "    status = out[\"status\"]\n",
    "\n",
    "    Xsol,Usol = unpackZ(knots, z_sol)\n",
    "    time = [0.0]\n",
    "    for k = 2:knots\n",
    "        push!(time, time[k-1]+Usol[4,k-1])\n",
    "    end\n",
    "    print(sum(Usol[4,:]))\n",
    "    if i == 1\n",
    "        plot(time[1:knots-1], [norm(Usol[1:3, k]) for k=1:knots-1], \n",
    "            label=\"Umag $(i)\", \n",
    "            xlabel=\"Time [Transfer Orbit Periods]\", \n",
    "            ylabel=\"Thrust Mag\", \n",
    "            title=\"Thrust Mag vs. Time: Reference orbits $(i)\")\n",
    "    elseif i == 5\n",
    "        Plots.display(plot!(time[1:knots-1], [norm(Usol[1:3, k]) for k=1:knots-1], \n",
    "            label=\"Umag $(i)\"))\n",
    "    else\n",
    "        plot!(time[1:knots-1], [norm(Usol[1:3, k]) for k=1:knots-1], \n",
    "            label=\"Umag $(i)\")\n",
    "    end\n",
    "    \n",
    "end\n",
    "\n",
    "# for k=2:knots-2\n",
    "#     Plots.display(plot!([k], [norm(Usol[1:3, k])], label=\"Ux\"))\n",
    "# end\n",
    "\n",
    "# plot!(1:knots-1, Usol[2, :], label=\"Uy\")\n",
    "# plot!(1:knots-1, Usol[3, :], label=\"Uz\")"
   ]
  },
  {
   "cell_type": "code",
   "execution_count": null,
   "metadata": {
    "scrolled": true
   },
   "outputs": [],
   "source": [
    "Xsol,Usol = unpackZ(knots, z_sol)\n",
    "plot(Xsol[1, :], Xsol[2, :], aspect_ratio=:equal, lims=(-semiMajorAxis_goal*3,semiMajorAxis_goal*3), label=\"Solution\", lw=2)\n",
    "xlabel!(\"Orbital Units\")\n",
    "ylabel!(\"Orbital Units\")\n",
    "plot!([goal_orbit.x0[1]], [goal_orbit.x0[2]], markershape=:xcross, markersize=5, label=\"Goal State\")\n",
    "plot!([0], [0], lw=1, markershape=:o, label=\"Planet Earth\")\n",
    "plot!(X[1, :], X[2, :], title = \"Optimal Solution Tmax=10\", label = \"Reference\", lw = 3)\n",
    "sum(Usol[4,:])"
   ]
  },
  {
   "cell_type": "code",
   "execution_count": null,
   "metadata": {
    "scrolled": true
   },
   "outputs": [],
   "source": [
    "knots_final = 10000\n",
    "Xfinal = zeros((Nx, knots_final))\n",
    "Xfinal[:, 1] .= Xsol[:,end]\n",
    "for k = 1:knots_final-1\n",
    "    Xfinal[:, k+1] = dynamics_rk8(Xfinal[:, k], zeros(3), 1e-2)\n",
    "end\n",
    "plot!(Xfinal[1,:], Xfinal[2,:], )"
   ]
  },
  {
   "cell_type": "code",
   "execution_count": null,
   "metadata": {
    "scrolled": true
   },
   "outputs": [],
   "source": [
    "plot(1:knots-1, Usol[1, :], label=\"Ux\")\n",
    "plot!(1:knots-1, Usol[2, :], label=\"Uy\")\n",
    "plot!(1:knots-1, Usol[3, :], label=\"Uz\")"
   ]
  },
  {
   "cell_type": "markdown",
   "metadata": {},
   "source": [
    "### Animations"
   ]
  },
  {
   "cell_type": "code",
   "execution_count": null,
   "metadata": {
    "scrolled": true
   },
   "outputs": [],
   "source": [
    "# define the Lorenz attractor\n",
    "Base.@kwdef mutable struct Trajectory\n",
    "#     dt::Float64 = 0.02\n",
    "#     σ::Float64 = 10\n",
    "#     ρ::Float64 = 28\n",
    "#     β::Float64 = 8/3\n",
    "    x::Float64 = Xsol[1,1]\n",
    "    y::Float64 = Xsol[2,1]\n",
    "    z::Float64 = Xsol[3,1]\n",
    "    ux::Float64 = Usol[1,1]\n",
    "    uy::Float64 = Usol[2,1]\n",
    "    uz::Float64 = Usol[3,1]\n",
    "    i::Int = 0\n",
    "end\n",
    "\n",
    "function step!(l::Trajectory)\n",
    "    l.i += 1\n",
    "    l.x = Xsol[1, l.i]\n",
    "    l.y = Xsol[2, l.i]\n",
    "    l.z = Xsol[3, l.i]\n",
    "#     l.ux = U[1, l.i]\n",
    "#     l.uy = U[2, l.i]\n",
    "#     l.uz = U[3, l.i]\n",
    "    \n",
    "#    \n",
    "end\n",
    "\n",
    "t = Trajectory()\n",
    "\n",
    "\n",
    "# initialize a 3D plot with 1 empty series\n",
    "plt = plot3d(\n",
    "    1,\n",
    "    lims=(-semiMajorAxis_goal*1.25,semiMajorAxis_goal*1.25),\n",
    "#     xlim = (-30, 30),\n",
    "#     ylim = (-30, 30),\n",
    "#     zlim = (0, 60),\n",
    "    title = \"Tmax = 1.0\",\n",
    "    marker = 2,\n",
    "    label = \"Reference Trajectory\", \n",
    "    camera = (45, 45), \n",
    "    aspect_ratio=:equal,\n",
    ")\n",
    "plot!([0], [0], [0], markershape=:o, markersize=3, label=\"Planet Earth\", color=:blue)\n",
    "xlabel!(\"Orbital Units\")\n",
    "ylabel!(\"Orbital Units\")\n",
    "# label!(\"Orbital Units\")\n",
    "# build an animated gif by pushing new points to the plot, saving every 10th frame\n",
    "@gif for i=1:knots\n",
    "    step!(t)\n",
    "    push!(plt, t.x, t.y, t.z)\n",
    "\n",
    "end every 10"
   ]
  }
 ],
 "metadata": {
  "kernelspec": {
   "display_name": "Julia 1.6.1",
   "language": "julia",
   "name": "julia-1.6"
  },
  "language_info": {
   "file_extension": ".jl",
   "mimetype": "application/julia",
   "name": "julia",
   "version": "1.6.1"
  }
 },
 "nbformat": 4,
 "nbformat_minor": 4
}
