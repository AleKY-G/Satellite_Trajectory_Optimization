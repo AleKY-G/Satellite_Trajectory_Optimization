{
 "cells": [
  {
   "cell_type": "code",
   "execution_count": 2,
   "metadata": {
    "scrolled": true
   },
   "outputs": [],
   "source": [
    "import Pkg; Pkg.activate(joinpath(@__DIR__,\"..\")); Pkg.instantiate();\n",
    "# Pkg.add(\"ForwardDiff\")\n",
    "# Pkg.add(\"RobotDynamics\")\n",
    "# Pkg.add(\"LinearAlgebra\")\n",
    "# Pkg.add(\"StaticArrays\")\n",
    "# Pkg.add(\"SparseArrays\")\n",
    "# Pkg.add(\"Plots\")\n",
    "# Pkg.add(\"Printf\")\n",
    "# Pkg.add(\"Ipopt\")\n",
    "# Pkg.add(\"MathOptInterface\")\n",
    "# Pkg.add(\"TrajOptPlots\")\n",
    "# Pkg.add(\"JLD\")\n",
    "# Pkg.add(\"Symbolics\")\n",
    "Pkg.add(\"Rotations\")\n",
    "using ForwardDiff\n",
    "using Test\n",
    "using RobotDynamics\n",
    "using LinearAlgebra\n",
    "using StaticArrays\n",
    "using SparseArrays\n",
    "using Plots\n",
    "using Ipopt\n",
    "using MathOptInterface\n",
    "using TrajOptPlots\n",
    "using JLD\n",
    "using Symbolics\n",
    "const MOI = MathOptInterface\n",
    "using Rotations\n",
    "# Pkg.add(\"Multi-Threading\")\n",
    "# using Multi-Threading\n",
    "# using PyPlots\n",
    "using Printf\n",
    "\n",
    "# include(\"quadratic_cost.jl\")\n"
   ]
  },
  {
   "cell_type": "markdown",
   "metadata": {},
   "source": [
    "# Final Project Info\n",
    "In this we present a geostationary transfer orbit to a geosynchronous (GSO) or geostationary orbit (GEO).  We use Keplerian Orbital Dynamics to model our system. We make several assumptions like Earth Reference Frame, Spherical Earth, Kepler Dynamics. \n",
    "\n",
    "## The Model\n",
    "We'll be using the Kepler Dynamics:\n",
    "\n",
    "$\\newcommand{\\norm}[1]{\\left\\lVert#1\\right\\rVert}$\n",
    "\n",
    "$$ \n",
    "\\ddot{r} = F = \\frac{-\\mu}{\\norm{r}^3}*r+u \\\\\n",
    "x = [r, \\dot{r}] \\\\\n",
    "\\norm{u} \\le Tmax\n",
    "$$\n",
    "with the following model parameters:\n",
    "* $\\mu$: Gravitational Parameter = 63781\n",
    "* $r$: distance to earth center\n",
    "* $u$: control of ion thruster"
   ]
  },
  {
   "cell_type": "markdown",
   "metadata": {},
   "source": [
    "### Problem Setup"
   ]
  },
  {
   "cell_type": "code",
   "execution_count": 3,
   "metadata": {
    "scrolled": true
   },
   "outputs": [
    {
     "data": {
      "text/plain": [
       "make_orbit (generic function with 1 method)"
      ]
     },
     "execution_count": 3,
     "metadata": {},
     "output_type": "execute_result"
    }
   ],
   "source": [
    "# Problem Setup\n",
    "\n",
    "Nx = 6 # (x, y, z, ẋ, ẏ, ż)\n",
    "Nu = 4 # (ax, ay, az, h)\n",
    "\n",
    "\n",
    "#cartesian and ECI\n",
    "\n",
    "earthRadius_km = 6378.1 # [km]\n",
    "LEO_km = 500 #km above sealevel #circular low earth orbit # 250km \n",
    "GSO_km = 35786 #km above sealevel #circular geosychonous orbit\n",
    "μ_km_s = 3.986*10e5 #gravitational0 parameter [km^3 / s^2]\n",
    "semiMajorAxis_scale = (GSO_km+earthRadius_km+earthRadius_km+LEO_km)/2\n",
    "period_scale = sqrt(semiMajorAxis_scale^3/μ_km_s)*2*pi\n",
    "μ = μ_km_s*period_scale^2/semiMajorAxis_scale^3  #μ(OU^3/P^2)\n",
    "\n",
    "struct Orbit{T}\n",
    "    semiMajorAxis::T\n",
    "    period::T\n",
    "    perigee::T #closest radius to earth\n",
    "    perigee_V::T #velocity at perigee\n",
    "    x0::Vector{T}\n",
    "#     function Orbit(x0) \n",
    "#         print(x0) #best is to input point with velocity and calucate useful parts of orbit\n",
    "#     end\n",
    "end\n",
    "\n",
    "function make_orbit(x0)\n",
    "    velocity = norm(x0[4:end])\n",
    "    \n",
    "    radius = norm(x0[1:3])\n",
    "    \n",
    "    semiMajorAxis = 1/(-velocity^2/μ+2/radius)  #reverse vis a viv\n",
    "    \n",
    "    period = sqrt(semiMajorAxis^3/μ)*2*pi       #period equation\n",
    "    \n",
    "    E = velocity^2/2 - μ/radius   #specific energy of satellite\n",
    "    \n",
    "    J = norm(cross(x0[1:3],x0[4:end]))           #specific momentum of satellite\n",
    "    \n",
    "    perigee = -μ/(2*E) - 1/2*sqrt(μ^2/(E^2)+2*J^2/E) #solve quadratic when velocity of radius is 0\n",
    "    \n",
    "    perigee_v =  sqrt(μ*(2.0/perigee-1.0/semiMajorAxis)) # Vis a Viv\n",
    "    apogee  = -μ/(2*E) + 1/2(μ^2/(E^2)+2*J^2/E) #solve quadratic when velocity of radius is 0\n",
    "    apogee_v =  sqrt(μ*(2.0/apogee-1.0/semiMajorAxis)) # Vis a Viv\n",
    "    return Orbit(semiMajorAxis, period, perigee, perigee_v, x0)\n",
    "end"
   ]
  },
  {
   "cell_type": "code",
   "execution_count": 4,
   "metadata": {
    "scrolled": true
   },
   "outputs": [
    {
     "data": {
      "text/plain": [
       "Orbit{Float64}(1.0, 1.0, 0.28049720444841386, 15.556684458046954, [0.28049720444841386, 0.0, 0.0, 0.0, 15.556684458046954, 0.0])"
      ]
     },
     "execution_count": 4,
     "metadata": {},
     "output_type": "execute_result"
    }
   ],
   "source": [
    "# Geosynchronous Transfer orbit (starting position)\n",
    "semiMajorAxis_transfer = (GSO_km+earthRadius_km+earthRadius_km+LEO_km)/(2*semiMajorAxis_scale) #OU\n",
    "instantRadius_transfer = (earthRadius_km+LEO_km) / semiMajorAxis_scale # #OU\n",
    "instantVelocity_transfer = sqrt(μ*(2.0/instantRadius_transfer-1.0/semiMajorAxis_transfer)) #sqrt(OU^3/P^2/OU) =OU/P\n",
    "period_transfer = sqrt(semiMajorAxis_transfer^3/μ)*2*pi\n",
    "x0    = [instantRadius_transfer, 0.0, 0.0, 0.0, instantVelocity_transfer, 0.0] # initial state #geosynchronous transfer orbit (GTO, where rocket dropped satellite off)\n",
    "                                                                             #many kilometers above Africa in an elliptical orbit \n",
    "transfer_orbit = Orbit(semiMajorAxis_transfer, period_transfer, instantRadius_transfer, instantVelocity_transfer, x0)"
   ]
  },
  {
   "cell_type": "code",
   "execution_count": 5,
   "metadata": {
    "scrolled": true
   },
   "outputs": [
    {
     "data": {
      "text/plain": [
       "3-element Vector{Float64}:\n",
       " 0.0\n",
       " 0.0\n",
       " 0.0"
      ]
     },
     "execution_count": 5,
     "metadata": {},
     "output_type": "execute_result"
    }
   ],
   "source": [
    "# Geosynchronous Orbit (goal position)\n",
    "semiMajorAxis_goal = 2*(earthRadius_km+GSO_km)/(2*semiMajorAxis_scale)\n",
    "instantRadius_goal = (earthRadius_km+GSO_km) / semiMajorAxis_scale\n",
    "instantVelocity_goal = sqrt(μ*(2.0/instantRadius_goal-1.0/semiMajorAxis_goal)) # VisViva\n",
    "period_goal = sqrt(semiMajorAxis_goal^3/μ)*2*pi\n",
    "xgoal = [instantRadius_goal, 0.0, 0.0, 0.0, instantVelocity_goal, 0.0] # goal state #circular geosychonous orbit above africa\n",
    "goal_orbit = Orbit(semiMajorAxis_goal, period_goal, instantRadius_goal, instantVelocity_goal, xgoal)\n",
    "ugto = zeros(3)                  # hover controls\n"
   ]
  },
  {
   "cell_type": "markdown",
   "metadata": {},
   "source": [
    "## Cost Function"
   ]
  },
  {
   "cell_type": "markdown",
   "metadata": {},
   "source": [
    "\\begin{equation}\n",
    "    \\text{minimize} \\sum_{k=1}^{N-1} (||u_k||^2 + (r_k-\\bar{r})^2 + \\frac{1}{r_k} * h_k) + (r_N-\\bar{r})^2+(\\dot{r}_N-\\bar{\\dot{r}})^2 \\\\\n",
    "    x_1=x_{init} \\\\\n",
    "    r_N = \\bar{r} \\\\\n",
    "    \\dot{r_N} = \\bar{\\dot{r}} \\\\\n",
    "    x_N \\cdot \\dot{x}_N = 0 \\\\\n",
    "    f(x_k, u_k) = x_{k+1} \\forall k \\\\\n",
    "    0\\leq||u_k||\\leq T_{max} \\forall k \\\\\n",
    "    h_{min}\\leq h_k \\leq h_{max} \\forall k\n",
    "\\end{equation}"
   ]
  },
  {
   "cell_type": "code",
   "execution_count": 6,
   "metadata": {
    "scrolled": true
   },
   "outputs": [
    {
     "data": {
      "text/plain": [
       "cost (generic function with 1 method)"
      ]
     },
     "execution_count": 6,
     "metadata": {},
     "output_type": "execute_result"
    }
   ],
   "source": [
    "function cost(prob, Z)\n",
    "    X, U = unpackZ(prob.N, Z)\n",
    "\n",
    "    N = prob.N\n",
    "    J = 0.0\n",
    "    for k = 1:N-1\n",
    "        r = norm(X[1:3, k])\n",
    "        J += norm(U[1:3, k])^2 + (r-goal_orbit.perigee)^2 + 1/r*U[end, k]\n",
    "    end \n",
    "    # Check major and semi-major axis \n",
    "    J += ((norm(X[1:3,end])-norm(xgoal[1:3]))^2+(norm(X[4:end,end])-norm(xgoal[4:end]))^2)\n",
    "    return J \n",
    "end"
   ]
  },
  {
   "cell_type": "markdown",
   "metadata": {},
   "source": [
    "## Dynamics"
   ]
  },
  {
   "cell_type": "code",
   "execution_count": 7,
   "metadata": {
    "scrolled": true
   },
   "outputs": [
    {
     "data": {
      "text/plain": [
       "dynamics (generic function with 1 method)"
      ]
     },
     "execution_count": 7,
     "metadata": {},
     "output_type": "execute_result"
    }
   ],
   "source": [
    "function dynamics(x, u)\n",
    "    # x = state [x, y, z, dx, dy, dz]\n",
    "    # u = control [ux, uy, uz, h]\n",
    "    r = x[1:3] #orbital units (OU)\n",
    "    ṙ = x[4:end] #\n",
    "    r̈ = (-μ/(norm(r)^3))*r + u[1:3] #μ(OU^3/P^2)/OU^3*OU\n",
    "    return [ṙ; r̈]\n",
    "end"
   ]
  },
  {
   "cell_type": "code",
   "execution_count": 8,
   "metadata": {
    "scrolled": true
   },
   "outputs": [
    {
     "data": {
      "text/plain": [
       "dynamics_rk4! (generic function with 1 method)"
      ]
     },
     "execution_count": 8,
     "metadata": {},
     "output_type": "execute_result"
    }
   ],
   "source": [
    "function dynamics_rk4!(x, u, h)\n",
    "    # x = state\n",
    "    # u = control\n",
    "    # h = time step\n",
    "#     ẋ = dynamics(x, u)\n",
    "    f1 = dynamics(x, u)\n",
    "    f2 = dynamics(x + 0.5*h*f1, u)\n",
    "    f3 = dynamics(x + 0.5*h*f2, u)\n",
    "    f4 = dynamics(x + h*f3, u)\n",
    "    x .+= (h/6.0)*(f1 + 2*f2 + 2*f3 + f4)\n",
    "end"
   ]
  },
  {
   "cell_type": "code",
   "execution_count": 9,
   "metadata": {
    "scrolled": true
   },
   "outputs": [
    {
     "data": {
      "text/plain": [
       "dynamics_rk4 (generic function with 1 method)"
      ]
     },
     "execution_count": 9,
     "metadata": {},
     "output_type": "execute_result"
    }
   ],
   "source": [
    "function dynamics_rk4(x, u, h) # Maybe rk8 or more\n",
    "    # x = state\n",
    "    # u = control\n",
    "    # h = time step\n",
    "#     ẋ = dynamics(x, u)\n",
    "    f1 = dynamics(x, u)\n",
    "    f2 = dynamics(x + 0.5*h*f1, u)\n",
    "    f3 = dynamics(x + 0.5*h*f2, u)\n",
    "    f4 = dynamics(x + h*f3, u)\n",
    "    return (x + (h/6.0)*(f1 + 2*f2 + 2*f3 + f4))\n",
    "end"
   ]
  },
  {
   "cell_type": "code",
   "execution_count": 10,
   "metadata": {
    "scrolled": true
   },
   "outputs": [
    {
     "data": {
      "text/plain": [
       "dynamics_rk8 (generic function with 1 method)"
      ]
     },
     "execution_count": 10,
     "metadata": {},
     "output_type": "execute_result"
    }
   ],
   "source": [
    "function dynamics_rk8(x, u, h)\n",
    "    f1 = dynamics(x, u)\n",
    "    f2 = dynamics(x+(h*4/27)*f1, u)\n",
    "    f3 = dynamics(x+ h/18*(f1+3*f2), u)\n",
    "    f4 = dynamics(x+ h/12*(f1+3*f3), u)\n",
    "    f5 = dynamics(x+ h/8*(f1+3*f4), u)\n",
    "    f6 = dynamics(x+ h/54*(12*f1-27*f3+42*f4+8*f5), u)\n",
    "    f7 = dynamics(x+ (h/4320)*(389*f1-54*f3+966*f4-824*f5+243*f6), u)\n",
    "    f8 = dynamics(x+  (h/20)*(-234*f1+81*f3-1164*f4+656*f5-122*f6+800*f7), u)\n",
    "    f9 = dynamics(x+ (h/288)*(-127*f1+18*f3-678*f4+456*f5-9*f6+576*f7+4*f8), u)\n",
    "    f10 = dynamics(x+ (h/820)*(1481*f1-81*f3+7104*f4-3376*f5+72*f6-5040*f7-60*f8+720*f9), u)\n",
    "    \n",
    "    return (x + h/840*(41*f1+27*f4+272*f5+27*f6+216*f7+216*f9+41*f10))\n",
    "\n",
    "end"
   ]
  },
  {
   "cell_type": "code",
   "execution_count": 11,
   "metadata": {
    "scrolled": true
   },
   "outputs": [
    {
     "data": {
      "text/plain": [
       "dynamics_rk8! (generic function with 1 method)"
      ]
     },
     "execution_count": 11,
     "metadata": {},
     "output_type": "execute_result"
    }
   ],
   "source": [
    "function dynamics_rk8!(x, u, h)\n",
    "    f1 = dynamics(x, u)\n",
    "    f2 = dynamics(x+(h*4/27)*f1, u)\n",
    "    f3 = dynamics(x+ h/18*(f1+3*f2), u)\n",
    "    f4 = dynamics(x+ h/12*(f1+3*f3), u)\n",
    "    f5 = dynamics(x+ h/8*(f1+3*f4), u)\n",
    "    f6 = dynamics(x+ h/54*(12*f1-27*f3+42*f4+8*f5), u)\n",
    "    f7 = dynamics(x+ (h/4320)*(389*f1-54*f3+966*f4-824*f5+243*f6), u)\n",
    "    f8 = dynamics(x+  (h/20)*(-234*f1+81*f3-1164*f4+656*f5-122*f6+800*f7), u)\n",
    "    f9 = dynamics(x+ (h/288)*(-127*f1+18*f3-678*f4+456*f5-9*f6+576*f7+4*f8), u)\n",
    "    f10 = dynamics(x+ (h/820)*(1481*f1-81*f3+7104*f4-3376*f5+72*f6-5040*f7-60*f8+720*f9), u)\n",
    "    \n",
    "    x .+= (h/840)*(41*f1+27*f4+272*f5+27*f6+216*f7+216*f9+41*f10)\n",
    "end"
   ]
  },
  {
   "cell_type": "code",
   "execution_count": 46,
   "metadata": {
    "scrolled": true
   },
   "outputs": [
    {
     "data": {
      "text/plain": [
       "plot_orbit (generic function with 3 methods)"
      ]
     },
     "execution_count": 46,
     "metadata": {},
     "output_type": "execute_result"
    }
   ],
   "source": [
    "function plot_orbit(orbit::Orbit, model, knots=100, orbits=1)\n",
    "    h = orbits/(knots-1)#t[2]-t[1]\n",
    "    traj = zeros(knots, Nx)\n",
    "    x = copy(orbit.x0)\n",
    "    traj[1,:] .= x\n",
    "    \n",
    "    u = zeros(3)\n",
    "\n",
    "    for i in 2:knots\n",
    "        x = model(x, u, h)\n",
    "        traj[i,:] .= x\n",
    "    end\n",
    "#     plot(t, energy)\n",
    "    plot(traj[:, 1], traj[:, 2], aspect_ratio=:equal, lims=(-semiMajorAxis_goal*1.5,semiMajorAxis_goal*1.5), label=\"Trajectory: knots=$(knots) orbits=$(orbits)\\n\")\n",
    "    xlabel!(\"Orbital Units\")\n",
    "    ylabel!(\"Orbital Units\")\n",
    "    Plots.display(title!(\"$(model) Trajectory\"))\n",
    "    return traj\n",
    "end"
   ]
  },
  {
   "cell_type": "code",
   "execution_count": 48,
   "metadata": {
    "scrolled": false
   },
   "outputs": [
    {
     "data": {
      "image/svg+xml": [
       "<?xml version=\"1.0\" encoding=\"utf-8\"?>\n",
       "<svg xmlns=\"http://www.w3.org/2000/svg\" xmlns:xlink=\"http://www.w3.org/1999/xlink\" width=\"600\" height=\"400\" viewBox=\"0 0 2400 1600\">\n",
       "<defs>\n",
       "  <clipPath id=\"clip570\">\n",
       "    <rect x=\"0\" y=\"0\" width=\"2400\" height=\"1600\"/>\n",
       "  </clipPath>\n",
       "</defs>\n",
       "<path clip-path=\"url(#clip570)\" d=\"\n",
       "M0 1600 L2400 1600 L2400 0 L0 0  Z\n",
       "  \" fill=\"#ffffff\" fill-rule=\"evenodd\" fill-opacity=\"1\"/>\n",
       "<defs>\n",
       "  <clipPath id=\"clip571\">\n",
       "    <rect x=\"480\" y=\"0\" width=\"1681\" height=\"1600\"/>\n",
       "  </clipPath>\n",
       "</defs>\n",
       "<path clip-path=\"url(#clip570)\" d=\"\n",
       "M631.897 1423.18 L1931.6 1423.18 L1931.6 123.472 L631.897 123.472  Z\n",
       "  \" fill=\"#ffffff\" fill-rule=\"evenodd\" fill-opacity=\"1\"/>\n",
       "<defs>\n",
       "  <clipPath id=\"clip572\">\n",
       "    <rect x=\"631\" y=\"123\" width=\"1301\" height=\"1301\"/>\n",
       "  </clipPath>\n",
       "</defs>\n",
       "<polyline clip-path=\"url(#clip572)\" style=\"stroke:#000000; stroke-width:2; stroke-opacity:0.1; fill:none\" points=\"\n",
       "  777.843,1423.18 777.843,123.472 \n",
       "  \"/>\n",
       "<polyline clip-path=\"url(#clip572)\" style=\"stroke:#000000; stroke-width:2; stroke-opacity:0.1; fill:none\" points=\"\n",
       "  1029.8,1423.18 1029.8,123.472 \n",
       "  \"/>\n",
       "<polyline clip-path=\"url(#clip572)\" style=\"stroke:#000000; stroke-width:2; stroke-opacity:0.1; fill:none\" points=\"\n",
       "  1281.75,1423.18 1281.75,123.472 \n",
       "  \"/>\n",
       "<polyline clip-path=\"url(#clip572)\" style=\"stroke:#000000; stroke-width:2; stroke-opacity:0.1; fill:none\" points=\"\n",
       "  1533.71,1423.18 1533.71,123.472 \n",
       "  \"/>\n",
       "<polyline clip-path=\"url(#clip572)\" style=\"stroke:#000000; stroke-width:2; stroke-opacity:0.1; fill:none\" points=\"\n",
       "  1785.66,1423.18 1785.66,123.472 \n",
       "  \"/>\n",
       "<polyline clip-path=\"url(#clip570)\" style=\"stroke:#000000; stroke-width:4; stroke-opacity:1; fill:none\" points=\"\n",
       "  631.897,1423.18 1931.6,1423.18 \n",
       "  \"/>\n",
       "<polyline clip-path=\"url(#clip570)\" style=\"stroke:#000000; stroke-width:4; stroke-opacity:1; fill:none\" points=\"\n",
       "  777.843,1423.18 777.843,1407.58 \n",
       "  \"/>\n",
       "<polyline clip-path=\"url(#clip570)\" style=\"stroke:#000000; stroke-width:4; stroke-opacity:1; fill:none\" points=\"\n",
       "  1029.8,1423.18 1029.8,1407.58 \n",
       "  \"/>\n",
       "<polyline clip-path=\"url(#clip570)\" style=\"stroke:#000000; stroke-width:4; stroke-opacity:1; fill:none\" points=\"\n",
       "  1281.75,1423.18 1281.75,1407.58 \n",
       "  \"/>\n",
       "<polyline clip-path=\"url(#clip570)\" style=\"stroke:#000000; stroke-width:4; stroke-opacity:1; fill:none\" points=\"\n",
       "  1533.71,1423.18 1533.71,1407.58 \n",
       "  \"/>\n",
       "<polyline clip-path=\"url(#clip570)\" style=\"stroke:#000000; stroke-width:4; stroke-opacity:1; fill:none\" points=\"\n",
       "  1785.66,1423.18 1785.66,1407.58 \n",
       "  \"/>\n",
       "<path clip-path=\"url(#clip570)\" d=\"M 0 0 M747.785 1467.02 L777.461 1467.02 L777.461 1470.96 L747.785 1470.96 L747.785 1467.02 Z\" fill=\"#000000\" fill-rule=\"evenodd\" fill-opacity=\"1\" /><path clip-path=\"url(#clip570)\" d=\"M 0 0 M791.581 1479.92 L807.9 1479.92 L807.9 1483.85 L785.956 1483.85 L785.956 1479.92 Q788.618 1477.16 793.201 1472.53 Q797.808 1467.88 798.988 1466.54 Q801.234 1464.01 802.113 1462.28 Q803.016 1460.52 803.016 1458.83 Q803.016 1456.07 801.072 1454.34 Q799.15 1452.6 796.048 1452.6 Q793.849 1452.6 791.396 1453.37 Q788.965 1454.13 786.187 1455.68 L786.187 1450.96 Q789.011 1449.82 791.465 1449.25 Q793.919 1448.67 795.956 1448.67 Q801.326 1448.67 804.521 1451.35 Q807.715 1454.04 807.715 1458.53 Q807.715 1460.66 806.905 1462.58 Q806.118 1464.48 804.011 1467.07 Q803.433 1467.74 800.331 1470.96 Q797.229 1474.15 791.581 1479.92 Z\" fill=\"#000000\" fill-rule=\"evenodd\" fill-opacity=\"1\" /><path clip-path=\"url(#clip570)\" d=\"M 0 0 M999.554 1467.02 L1029.23 1467.02 L1029.23 1470.96 L999.554 1470.96 L999.554 1467.02 Z\" fill=\"#000000\" fill-rule=\"evenodd\" fill-opacity=\"1\" /><path clip-path=\"url(#clip570)\" d=\"M 0 0 M1040.13 1479.92 L1047.77 1479.92 L1047.77 1453.55 L1039.46 1455.22 L1039.46 1450.96 L1047.72 1449.29 L1052.4 1449.29 L1052.4 1479.92 L1060.04 1479.92 L1060.04 1483.85 L1040.13 1483.85 L1040.13 1479.92 Z\" fill=\"#000000\" fill-rule=\"evenodd\" fill-opacity=\"1\" /><path clip-path=\"url(#clip570)\" d=\"M 0 0 M1281.75 1452.37 Q1278.14 1452.37 1276.31 1455.94 Q1274.51 1459.48 1274.51 1466.61 Q1274.51 1473.71 1276.31 1477.28 Q1278.14 1480.82 1281.75 1480.82 Q1285.39 1480.82 1287.19 1477.28 Q1289.02 1473.71 1289.02 1466.61 Q1289.02 1459.48 1287.19 1455.94 Q1285.39 1452.37 1281.75 1452.37 M1281.75 1448.67 Q1287.56 1448.67 1290.62 1453.27 Q1293.7 1457.86 1293.7 1466.61 Q1293.7 1475.33 1290.62 1479.94 Q1287.56 1484.52 1281.75 1484.52 Q1275.94 1484.52 1272.86 1479.94 Q1269.81 1475.33 1269.81 1466.61 Q1269.81 1457.86 1272.86 1453.27 Q1275.94 1448.67 1281.75 1448.67 Z\" fill=\"#000000\" fill-rule=\"evenodd\" fill-opacity=\"1\" /><path clip-path=\"url(#clip570)\" d=\"M 0 0 M1524.09 1479.92 L1531.73 1479.92 L1531.73 1453.55 L1523.42 1455.22 L1523.42 1450.96 L1531.68 1449.29 L1536.36 1449.29 L1536.36 1479.92 L1543.99 1479.92 L1543.99 1483.85 L1524.09 1483.85 L1524.09 1479.92 Z\" fill=\"#000000\" fill-rule=\"evenodd\" fill-opacity=\"1\" /><path clip-path=\"url(#clip570)\" d=\"M 0 0 M1780.31 1479.92 L1796.63 1479.92 L1796.63 1483.85 L1774.69 1483.85 L1774.69 1479.92 Q1777.35 1477.16 1781.93 1472.53 Q1786.54 1467.88 1787.72 1466.54 Q1789.96 1464.01 1790.84 1462.28 Q1791.75 1460.52 1791.75 1458.83 Q1791.75 1456.07 1789.8 1454.34 Q1787.88 1452.6 1784.78 1452.6 Q1782.58 1452.6 1780.13 1453.37 Q1777.7 1454.13 1774.92 1455.68 L1774.92 1450.96 Q1777.74 1449.82 1780.2 1449.25 Q1782.65 1448.67 1784.69 1448.67 Q1790.06 1448.67 1793.25 1451.35 Q1796.45 1454.04 1796.45 1458.53 Q1796.45 1460.66 1795.64 1462.58 Q1794.85 1464.48 1792.74 1467.07 Q1792.16 1467.74 1789.06 1470.96 Q1785.96 1474.15 1780.31 1479.92 Z\" fill=\"#000000\" fill-rule=\"evenodd\" fill-opacity=\"1\" /><path clip-path=\"url(#clip570)\" d=\"M 0 0 M1102.91 1524.88 Q1095.9 1524.88 1091.77 1530.1 Q1087.66 1535.32 1087.66 1544.33 Q1087.66 1553.31 1091.77 1558.53 Q1095.9 1563.75 1102.91 1563.75 Q1109.91 1563.75 1113.98 1558.53 Q1118.09 1553.31 1118.09 1544.33 Q1118.09 1535.32 1113.98 1530.1 Q1109.91 1524.88 1102.91 1524.88 M1102.91 1519.66 Q1112.9 1519.66 1118.88 1526.38 Q1124.87 1533.06 1124.87 1544.33 Q1124.87 1555.57 1118.88 1562.28 Q1112.9 1568.97 1102.91 1568.97 Q1092.88 1568.97 1086.86 1562.28 Q1080.88 1555.6 1080.88 1544.33 Q1080.88 1533.06 1086.86 1526.38 Q1092.88 1519.66 1102.91 1519.66 Z\" fill=\"#000000\" fill-rule=\"evenodd\" fill-opacity=\"1\" /><path clip-path=\"url(#clip570)\" d=\"M 0 0 M1155.33 1537.87 Q1154.34 1537.3 1153.16 1537.04 Q1152.02 1536.76 1150.62 1536.76 Q1145.65 1536.76 1142.98 1540 Q1140.34 1543.22 1140.34 1549.27 L1140.34 1568.04 L1134.45 1568.04 L1134.45 1532.4 L1140.34 1532.4 L1140.34 1537.93 Q1142.18 1534.69 1145.14 1533.13 Q1148.1 1531.54 1152.34 1531.54 Q1152.94 1531.54 1153.67 1531.63 Q1154.4 1531.7 1155.3 1531.85 L1155.33 1537.87 Z\" fill=\"#000000\" fill-rule=\"evenodd\" fill-opacity=\"1\" /><path clip-path=\"url(#clip570)\" d=\"M 0 0 M1187.06 1550.25 Q1187.06 1543.79 1184.39 1540.13 Q1181.75 1536.44 1177.1 1536.44 Q1172.45 1536.44 1169.78 1540.13 Q1167.14 1543.79 1167.14 1550.25 Q1167.14 1556.71 1169.78 1560.4 Q1172.45 1564.07 1177.1 1564.07 Q1181.75 1564.07 1184.39 1560.4 Q1187.06 1556.71 1187.06 1550.25 M1167.14 1537.81 Q1168.98 1534.62 1171.78 1533.1 Q1174.62 1531.54 1178.53 1531.54 Q1185.02 1531.54 1189.07 1536.69 Q1193.14 1541.85 1193.14 1550.25 Q1193.14 1558.65 1189.07 1563.81 Q1185.02 1568.97 1178.53 1568.97 Q1174.62 1568.97 1171.78 1567.44 Q1168.98 1565.88 1167.14 1562.7 L1167.14 1568.04 L1161.25 1568.04 L1161.25 1518.52 L1167.14 1518.52 L1167.14 1537.81 Z\" fill=\"#000000\" fill-rule=\"evenodd\" fill-opacity=\"1\" /><path clip-path=\"url(#clip570)\" d=\"M 0 0 M1202.85 1532.4 L1208.7 1532.4 L1208.7 1568.04 L1202.85 1568.04 L1202.85 1532.4 M1202.85 1518.52 L1208.7 1518.52 L1208.7 1525.93 L1202.85 1525.93 L1202.85 1518.52 Z\" fill=\"#000000\" fill-rule=\"evenodd\" fill-opacity=\"1\" /><path clip-path=\"url(#clip570)\" d=\"M 0 0 M1226.75 1522.27 L1226.75 1532.4 L1238.81 1532.4 L1238.81 1536.95 L1226.75 1536.95 L1226.75 1556.3 Q1226.75 1560.66 1227.93 1561.9 Q1229.14 1563.14 1232.8 1563.14 L1238.81 1563.14 L1238.81 1568.04 L1232.8 1568.04 Q1226.02 1568.04 1223.44 1565.53 Q1220.86 1562.98 1220.86 1556.3 L1220.86 1536.95 L1216.57 1536.95 L1216.57 1532.4 L1220.86 1532.4 L1220.86 1522.27 L1226.75 1522.27 Z\" fill=\"#000000\" fill-rule=\"evenodd\" fill-opacity=\"1\" /><path clip-path=\"url(#clip570)\" d=\"M 0 0 M1262.72 1550.12 Q1255.62 1550.12 1252.88 1551.75 Q1250.15 1553.37 1250.15 1557.29 Q1250.15 1560.4 1252.18 1562.25 Q1254.25 1564.07 1257.78 1564.07 Q1262.65 1564.07 1265.58 1560.63 Q1268.54 1557.16 1268.54 1551.43 L1268.54 1550.12 L1262.72 1550.12 M1274.4 1547.71 L1274.4 1568.04 L1268.54 1568.04 L1268.54 1562.63 Q1266.54 1565.88 1263.55 1567.44 Q1260.55 1568.97 1256.22 1568.97 Q1250.75 1568.97 1247.5 1565.91 Q1244.29 1562.82 1244.29 1557.67 Q1244.29 1551.65 1248.3 1548.6 Q1252.34 1545.54 1260.33 1545.54 L1268.54 1545.54 L1268.54 1544.97 Q1268.54 1540.93 1265.87 1538.73 Q1263.23 1536.5 1258.42 1536.5 Q1255.37 1536.5 1252.47 1537.23 Q1249.57 1537.97 1246.9 1539.43 L1246.9 1534.02 Q1250.11 1532.78 1253.14 1532.17 Q1256.16 1531.54 1259.03 1531.54 Q1266.76 1531.54 1270.58 1535.55 Q1274.4 1539.56 1274.4 1547.71 Z\" fill=\"#000000\" fill-rule=\"evenodd\" fill-opacity=\"1\" /><path clip-path=\"url(#clip570)\" d=\"M 0 0 M1286.46 1518.52 L1292.32 1518.52 L1292.32 1568.04 L1286.46 1568.04 L1286.46 1518.52 Z\" fill=\"#000000\" fill-rule=\"evenodd\" fill-opacity=\"1\" /><path clip-path=\"url(#clip570)\" d=\"M 0 0 M1324.81 1520.52 L1331.28 1520.52 L1331.28 1549.39 Q1331.28 1557.03 1334.05 1560.4 Q1336.81 1563.75 1343.02 1563.75 Q1349.2 1563.75 1351.96 1560.4 Q1354.73 1557.03 1354.73 1549.39 L1354.73 1520.52 L1361.19 1520.52 L1361.19 1550.19 Q1361.19 1559.48 1356.58 1564.22 Q1352 1568.97 1343.02 1568.97 Q1334.01 1568.97 1329.4 1564.22 Q1324.81 1559.48 1324.81 1550.19 L1324.81 1520.52 Z\" fill=\"#000000\" fill-rule=\"evenodd\" fill-opacity=\"1\" /><path clip-path=\"url(#clip570)\" d=\"M 0 0 M1402.64 1546.53 L1402.64 1568.04 L1396.78 1568.04 L1396.78 1546.72 Q1396.78 1541.66 1394.81 1539.14 Q1392.83 1536.63 1388.89 1536.63 Q1384.14 1536.63 1381.41 1539.65 Q1378.67 1542.68 1378.67 1547.9 L1378.67 1568.04 L1372.78 1568.04 L1372.78 1532.4 L1378.67 1532.4 L1378.67 1537.93 Q1380.77 1534.72 1383.6 1533.13 Q1386.47 1531.54 1390.19 1531.54 Q1396.33 1531.54 1399.48 1535.36 Q1402.64 1539.14 1402.64 1546.53 Z\" fill=\"#000000\" fill-rule=\"evenodd\" fill-opacity=\"1\" /><path clip-path=\"url(#clip570)\" d=\"M 0 0 M1414.32 1532.4 L1420.17 1532.4 L1420.17 1568.04 L1414.32 1568.04 L1414.32 1532.4 M1414.32 1518.52 L1420.17 1518.52 L1420.17 1525.93 L1414.32 1525.93 L1414.32 1518.52 Z\" fill=\"#000000\" fill-rule=\"evenodd\" fill-opacity=\"1\" /><path clip-path=\"url(#clip570)\" d=\"M 0 0 M1438.22 1522.27 L1438.22 1532.4 L1450.28 1532.4 L1450.28 1536.95 L1438.22 1536.95 L1438.22 1556.3 Q1438.22 1560.66 1439.4 1561.9 Q1440.61 1563.14 1444.27 1563.14 L1450.28 1563.14 L1450.28 1568.04 L1444.27 1568.04 Q1437.49 1568.04 1434.91 1565.53 Q1432.33 1562.98 1432.33 1556.3 L1432.33 1536.95 L1428.03 1536.95 L1428.03 1532.4 L1432.33 1532.4 L1432.33 1522.27 L1438.22 1522.27 Z\" fill=\"#000000\" fill-rule=\"evenodd\" fill-opacity=\"1\" /><path clip-path=\"url(#clip570)\" d=\"M 0 0 M1480.71 1533.45 L1480.71 1538.98 Q1478.23 1537.71 1475.55 1537.07 Q1472.88 1536.44 1470.02 1536.44 Q1465.66 1536.44 1463.46 1537.77 Q1461.3 1539.11 1461.3 1541.79 Q1461.3 1543.82 1462.86 1545 Q1464.41 1546.15 1469.13 1547.2 L1471.13 1547.64 Q1477.37 1548.98 1479.98 1551.43 Q1482.62 1553.85 1482.62 1558.21 Q1482.62 1563.17 1478.67 1566.07 Q1474.76 1568.97 1467.88 1568.97 Q1465.02 1568.97 1461.9 1568.39 Q1458.81 1567.85 1455.38 1566.74 L1455.38 1560.69 Q1458.62 1562.38 1461.77 1563.24 Q1464.92 1564.07 1468.01 1564.07 Q1472.15 1564.07 1474.38 1562.66 Q1476.61 1561.23 1476.61 1558.65 Q1476.61 1556.27 1474.98 1554.99 Q1473.39 1553.72 1467.95 1552.54 L1465.91 1552.07 Q1460.47 1550.92 1458.05 1548.56 Q1455.63 1546.18 1455.63 1542.04 Q1455.63 1537.01 1459.19 1534.27 Q1462.76 1531.54 1469.32 1531.54 Q1472.56 1531.54 1475.43 1532.01 Q1478.29 1532.49 1480.71 1533.45 Z\" fill=\"#000000\" fill-rule=\"evenodd\" fill-opacity=\"1\" /><polyline clip-path=\"url(#clip572)\" style=\"stroke:#000000; stroke-width:2; stroke-opacity:0.1; fill:none\" points=\"\n",
       "  631.897,1277.23 1931.6,1277.23 \n",
       "  \"/>\n",
       "<polyline clip-path=\"url(#clip572)\" style=\"stroke:#000000; stroke-width:2; stroke-opacity:0.1; fill:none\" points=\"\n",
       "  631.897,1025.28 1931.6,1025.28 \n",
       "  \"/>\n",
       "<polyline clip-path=\"url(#clip572)\" style=\"stroke:#000000; stroke-width:2; stroke-opacity:0.1; fill:none\" points=\"\n",
       "  631.897,773.326 1931.6,773.326 \n",
       "  \"/>\n",
       "<polyline clip-path=\"url(#clip572)\" style=\"stroke:#000000; stroke-width:2; stroke-opacity:0.1; fill:none\" points=\"\n",
       "  631.897,521.372 1931.6,521.372 \n",
       "  \"/>\n",
       "<polyline clip-path=\"url(#clip572)\" style=\"stroke:#000000; stroke-width:2; stroke-opacity:0.1; fill:none\" points=\"\n",
       "  631.897,269.418 1931.6,269.418 \n",
       "  \"/>\n",
       "<polyline clip-path=\"url(#clip570)\" style=\"stroke:#000000; stroke-width:4; stroke-opacity:1; fill:none\" points=\"\n",
       "  631.897,1423.18 631.897,123.472 \n",
       "  \"/>\n",
       "<polyline clip-path=\"url(#clip570)\" style=\"stroke:#000000; stroke-width:4; stroke-opacity:1; fill:none\" points=\"\n",
       "  631.897,1277.23 647.494,1277.23 \n",
       "  \"/>\n",
       "<polyline clip-path=\"url(#clip570)\" style=\"stroke:#000000; stroke-width:4; stroke-opacity:1; fill:none\" points=\"\n",
       "  631.897,1025.28 647.494,1025.28 \n",
       "  \"/>\n",
       "<polyline clip-path=\"url(#clip570)\" style=\"stroke:#000000; stroke-width:4; stroke-opacity:1; fill:none\" points=\"\n",
       "  631.897,773.326 647.494,773.326 \n",
       "  \"/>\n",
       "<polyline clip-path=\"url(#clip570)\" style=\"stroke:#000000; stroke-width:4; stroke-opacity:1; fill:none\" points=\"\n",
       "  631.897,521.372 647.494,521.372 \n",
       "  \"/>\n",
       "<polyline clip-path=\"url(#clip570)\" style=\"stroke:#000000; stroke-width:4; stroke-opacity:1; fill:none\" points=\"\n",
       "  631.897,269.418 647.494,269.418 \n",
       "  \"/>\n",
       "<path clip-path=\"url(#clip570)\" d=\"M 0 0 M535.782 1277.69 L565.457 1277.69 L565.457 1281.62 L535.782 1281.62 L535.782 1277.69 Z\" fill=\"#000000\" fill-rule=\"evenodd\" fill-opacity=\"1\" /><path clip-path=\"url(#clip570)\" d=\"M 0 0 M579.578 1290.58 L595.897 1290.58 L595.897 1294.51 L573.953 1294.51 L573.953 1290.58 Q576.615 1287.82 581.198 1283.19 Q585.805 1278.54 586.985 1277.2 Q589.23 1274.68 590.11 1272.94 Q591.013 1271.18 591.013 1269.49 Q591.013 1266.74 589.068 1265 Q587.147 1263.26 584.045 1263.26 Q581.846 1263.26 579.393 1264.03 Q576.962 1264.79 574.184 1266.34 L574.184 1261.62 Q577.008 1260.49 579.462 1259.91 Q581.916 1259.33 583.953 1259.33 Q589.323 1259.33 592.517 1262.01 Q595.712 1264.7 595.712 1269.19 Q595.712 1271.32 594.902 1273.24 Q594.115 1275.14 592.008 1277.73 Q591.429 1278.4 588.328 1281.62 Q585.226 1284.82 579.578 1290.58 Z\" fill=\"#000000\" fill-rule=\"evenodd\" fill-opacity=\"1\" /><path clip-path=\"url(#clip570)\" d=\"M 0 0 M535.411 1025.73 L565.087 1025.73 L565.087 1029.67 L535.411 1029.67 L535.411 1025.73 Z\" fill=\"#000000\" fill-rule=\"evenodd\" fill-opacity=\"1\" /><path clip-path=\"url(#clip570)\" d=\"M 0 0 M575.99 1038.62 L583.629 1038.62 L583.629 1012.26 L575.318 1013.93 L575.318 1009.67 L583.582 1008 L588.258 1008 L588.258 1038.62 L595.897 1038.62 L595.897 1042.56 L575.99 1042.56 L575.99 1038.62 Z\" fill=\"#000000\" fill-rule=\"evenodd\" fill-opacity=\"1\" /><path clip-path=\"url(#clip570)\" d=\"M 0 0 M583.953 759.125 Q580.342 759.125 578.513 762.689 Q576.707 766.231 576.707 773.361 Q576.707 780.467 578.513 784.032 Q580.342 787.574 583.953 787.574 Q587.587 787.574 589.392 784.032 Q591.221 780.467 591.221 773.361 Q591.221 766.231 589.392 762.689 Q587.587 759.125 583.953 759.125 M583.953 755.421 Q589.763 755.421 592.818 760.027 Q595.897 764.611 595.897 773.361 Q595.897 782.088 592.818 786.694 Q589.763 791.277 583.953 791.277 Q578.143 791.277 575.064 786.694 Q572.008 782.088 572.008 773.361 Q572.008 764.611 575.064 760.027 Q578.143 755.421 583.953 755.421 Z\" fill=\"#000000\" fill-rule=\"evenodd\" fill-opacity=\"1\" /><path clip-path=\"url(#clip570)\" d=\"M 0 0 M575.99 534.717 L583.629 534.717 L583.629 508.351 L575.318 510.018 L575.318 505.758 L583.582 504.092 L588.258 504.092 L588.258 534.717 L595.897 534.717 L595.897 538.652 L575.99 538.652 L575.99 534.717 Z\" fill=\"#000000\" fill-rule=\"evenodd\" fill-opacity=\"1\" /><path clip-path=\"url(#clip570)\" d=\"M 0 0 M579.578 282.762 L595.897 282.762 L595.897 286.698 L573.953 286.698 L573.953 282.762 Q576.615 280.008 581.198 275.378 Q585.805 270.726 586.985 269.383 Q589.23 266.86 590.11 265.124 Q591.013 263.364 591.013 261.675 Q591.013 258.92 589.068 257.184 Q587.147 255.448 584.045 255.448 Q581.846 255.448 579.393 256.212 Q576.962 256.976 574.184 258.526 L574.184 253.804 Q577.008 252.67 579.462 252.091 Q581.916 251.513 583.953 251.513 Q589.323 251.513 592.517 254.198 Q595.712 256.883 595.712 261.374 Q595.712 263.503 594.902 265.425 Q594.115 267.323 592.008 269.915 Q591.429 270.587 588.328 273.804 Q585.226 276.999 579.578 282.762 Z\" fill=\"#000000\" fill-rule=\"evenodd\" fill-opacity=\"1\" /><path clip-path=\"url(#clip570)\" d=\"M 0 0 M441.996 952.171 Q441.996 959.173 447.216 963.31 Q452.436 967.416 461.443 967.416 Q470.419 967.416 475.639 963.31 Q480.858 959.173 480.858 952.171 Q480.858 945.168 475.639 941.094 Q470.419 936.988 461.443 936.988 Q452.436 936.988 447.216 941.094 Q441.996 945.168 441.996 952.171 M436.776 952.171 Q436.776 942.176 443.492 936.193 Q450.176 930.209 461.443 930.209 Q472.678 930.209 479.394 936.193 Q486.078 942.176 486.078 952.171 Q486.078 962.196 479.394 968.212 Q472.71 974.196 461.443 974.196 Q450.176 974.196 443.492 968.212 Q436.776 962.196 436.776 952.171 Z\" fill=\"#000000\" fill-rule=\"evenodd\" fill-opacity=\"1\" /><path clip-path=\"url(#clip570)\" d=\"M 0 0 M454.982 899.749 Q454.409 900.736 454.154 901.913 Q453.868 903.059 453.868 904.46 Q453.868 909.425 457.114 912.098 Q460.329 914.74 466.376 914.74 L485.155 914.74 L485.155 920.628 L449.507 920.628 L449.507 914.74 L455.045 914.74 Q451.799 912.894 450.239 909.934 Q448.648 906.974 448.648 902.741 Q448.648 902.136 448.743 901.404 Q448.807 900.672 448.966 899.781 L454.982 899.749 Z\" fill=\"#000000\" fill-rule=\"evenodd\" fill-opacity=\"1\" /><path clip-path=\"url(#clip570)\" d=\"M 0 0 M467.363 868.016 Q460.902 868.016 457.242 870.689 Q453.55 873.331 453.55 877.978 Q453.55 882.625 457.242 885.299 Q460.902 887.941 467.363 887.941 Q473.824 887.941 477.516 885.299 Q481.177 882.625 481.177 877.978 Q481.177 873.331 477.516 870.689 Q473.824 868.016 467.363 868.016 M454.918 887.941 Q451.735 886.094 450.208 883.294 Q448.648 880.461 448.648 876.546 Q448.648 870.053 453.804 866.011 Q458.96 861.937 467.363 861.937 Q475.766 861.937 480.922 866.011 Q486.078 870.053 486.078 876.546 Q486.078 880.461 484.551 883.294 Q482.991 886.094 479.808 887.941 L485.155 887.941 L485.155 893.829 L435.63 893.829 L435.63 887.941 L454.918 887.941 Z\" fill=\"#000000\" fill-rule=\"evenodd\" fill-opacity=\"1\" /><path clip-path=\"url(#clip570)\" d=\"M 0 0 M449.507 852.229 L449.507 846.372 L485.155 846.372 L485.155 852.229 L449.507 852.229 M435.63 852.229 L435.63 846.372 L443.046 846.372 L443.046 852.229 L435.63 852.229 Z\" fill=\"#000000\" fill-rule=\"evenodd\" fill-opacity=\"1\" /><path clip-path=\"url(#clip570)\" d=\"M 0 0 M439.386 828.326 L449.507 828.326 L449.507 816.263 L454.059 816.263 L454.059 828.326 L473.411 828.326 Q477.771 828.326 479.012 827.148 Q480.254 825.939 480.254 822.278 L480.254 816.263 L485.155 816.263 L485.155 822.278 Q485.155 829.058 482.641 831.636 Q480.095 834.214 473.411 834.214 L454.059 834.214 L454.059 838.511 L449.507 838.511 L449.507 834.214 L439.386 834.214 L439.386 828.326 Z\" fill=\"#000000\" fill-rule=\"evenodd\" fill-opacity=\"1\" /><path clip-path=\"url(#clip570)\" d=\"M 0 0 M467.236 792.359 Q467.236 799.457 468.859 802.194 Q470.482 804.932 474.397 804.932 Q477.516 804.932 479.362 802.895 Q481.177 800.826 481.177 797.293 Q481.177 792.423 477.739 789.495 Q474.27 786.535 468.541 786.535 L467.236 786.535 L467.236 792.359 M464.817 780.678 L485.155 780.678 L485.155 786.535 L479.744 786.535 Q482.991 788.54 484.551 791.532 Q486.078 794.524 486.078 798.852 Q486.078 804.327 483.023 807.573 Q479.935 810.788 474.779 810.788 Q468.764 810.788 465.708 806.778 Q462.653 802.736 462.653 794.747 L462.653 786.535 L462.08 786.535 Q458.037 786.535 455.841 789.208 Q453.613 791.85 453.613 796.656 Q453.613 799.712 454.345 802.608 Q455.077 805.505 456.541 808.178 L451.131 808.178 Q449.889 804.964 449.285 801.94 Q448.648 798.916 448.648 796.052 Q448.648 788.317 452.658 784.498 Q456.669 780.678 464.817 780.678 Z\" fill=\"#000000\" fill-rule=\"evenodd\" fill-opacity=\"1\" /><path clip-path=\"url(#clip570)\" d=\"M 0 0 M435.63 768.615 L435.63 762.759 L485.155 762.759 L485.155 768.615 L435.63 768.615 Z\" fill=\"#000000\" fill-rule=\"evenodd\" fill-opacity=\"1\" /><path clip-path=\"url(#clip570)\" d=\"M 0 0 M437.635 730.262 L437.635 723.801 L466.504 723.801 Q474.143 723.801 477.516 721.032 Q480.858 718.263 480.858 712.056 Q480.858 705.881 477.516 703.112 Q474.143 700.343 466.504 700.343 L437.635 700.343 L437.635 693.882 L467.299 693.882 Q476.593 693.882 481.336 698.497 Q486.078 703.08 486.078 712.056 Q486.078 721.064 481.336 725.679 Q476.593 730.262 467.299 730.262 L437.635 730.262 Z\" fill=\"#000000\" fill-rule=\"evenodd\" fill-opacity=\"1\" /><path clip-path=\"url(#clip570)\" d=\"M 0 0 M463.639 652.441 L485.155 652.441 L485.155 658.298 L463.83 658.298 Q458.769 658.298 456.255 660.271 Q453.741 662.244 453.741 666.191 Q453.741 670.934 456.764 673.671 Q459.788 676.408 465.008 676.408 L485.155 676.408 L485.155 682.296 L449.507 682.296 L449.507 676.408 L455.045 676.408 Q451.831 674.307 450.239 671.475 Q448.648 668.61 448.648 664.886 Q448.648 658.743 452.467 655.592 Q456.255 652.441 463.639 652.441 Z\" fill=\"#000000\" fill-rule=\"evenodd\" fill-opacity=\"1\" /><path clip-path=\"url(#clip570)\" d=\"M 0 0 M449.507 640.76 L449.507 634.904 L485.155 634.904 L485.155 640.76 L449.507 640.76 M435.63 640.76 L435.63 634.904 L443.046 634.904 L443.046 640.76 L435.63 640.76 Z\" fill=\"#000000\" fill-rule=\"evenodd\" fill-opacity=\"1\" /><path clip-path=\"url(#clip570)\" d=\"M 0 0 M439.386 616.857 L449.507 616.857 L449.507 604.794 L454.059 604.794 L454.059 616.857 L473.411 616.857 Q477.771 616.857 479.012 615.679 Q480.254 614.47 480.254 610.809 L480.254 604.794 L485.155 604.794 L485.155 610.809 Q485.155 617.589 482.641 620.167 Q480.095 622.745 473.411 622.745 L454.059 622.745 L454.059 627.042 L449.507 627.042 L449.507 622.745 L439.386 622.745 L439.386 616.857 Z\" fill=\"#000000\" fill-rule=\"evenodd\" fill-opacity=\"1\" /><path clip-path=\"url(#clip570)\" d=\"M 0 0 M450.558 574.366 L456.096 574.366 Q454.823 576.848 454.186 579.522 Q453.55 582.196 453.55 585.06 Q453.55 589.421 454.886 591.617 Q456.223 593.781 458.897 593.781 Q460.934 593.781 462.111 592.222 Q463.257 590.662 464.308 585.951 L464.753 583.946 Q466.09 577.708 468.541 575.098 Q470.96 572.456 475.32 572.456 Q480.286 572.456 483.182 576.403 Q486.078 580.318 486.078 587.193 Q486.078 590.057 485.505 593.176 Q484.964 596.264 483.85 599.701 L477.803 599.701 Q479.49 596.455 480.349 593.304 Q481.177 590.153 481.177 587.065 Q481.177 582.928 479.776 580.7 Q478.344 578.472 475.766 578.472 Q473.379 578.472 472.106 580.095 Q470.832 581.686 469.655 587.129 L469.177 589.166 Q468.032 594.609 465.676 597.028 Q463.289 599.447 459.151 599.447 Q454.122 599.447 451.385 595.882 Q448.648 592.317 448.648 585.76 Q448.648 582.514 449.125 579.649 Q449.603 576.785 450.558 574.366 Z\" fill=\"#000000\" fill-rule=\"evenodd\" fill-opacity=\"1\" /><path clip-path=\"url(#clip570)\" d=\"M 0 0 M813.223 34.0924 L813.223 9.54393 L820.677 9.54393 L820.677 72.576 L813.223 72.576 L813.223 65.7705 Q810.874 69.8214 807.269 71.8063 Q803.704 73.7508 798.681 73.7508 Q790.457 73.7508 785.272 67.1883 Q780.127 60.6258 780.127 49.9314 Q780.127 39.2371 785.272 32.6746 Q790.457 26.1121 798.681 26.1121 Q803.704 26.1121 807.269 28.0971 Q810.874 30.0415 813.223 34.0924 M787.824 49.9314 Q787.824 58.1548 791.186 62.8538 Q794.589 67.5124 800.504 67.5124 Q806.418 67.5124 809.821 62.8538 Q813.223 58.1548 813.223 49.9314 Q813.223 41.7081 809.821 37.0496 Q806.418 32.3505 800.504 32.3505 Q794.589 32.3505 791.186 37.0496 Q787.824 41.7081 787.824 49.9314 Z\" fill=\"#000000\" fill-rule=\"evenodd\" fill-opacity=\"1\" /><path clip-path=\"url(#clip570)\" d=\"M 0 0 M854.907 76.7889 Q851.747 84.8907 848.75 87.3618 Q845.752 89.8329 840.729 89.8329 L834.774 89.8329 L834.774 83.5945 L839.149 83.5945 Q842.228 83.5945 843.929 82.1361 Q845.631 80.6778 847.697 75.2496 L849.033 71.8468 L830.683 27.2059 L838.582 27.2059 L852.76 62.6918 L866.938 27.2059 L874.838 27.2059 L854.907 76.7889 Z\" fill=\"#000000\" fill-rule=\"evenodd\" fill-opacity=\"1\" /><path clip-path=\"url(#clip570)\" d=\"M 0 0 M922.841 45.1919 L922.841 72.576 L915.387 72.576 L915.387 45.4349 Q915.387 38.994 912.876 35.7938 Q910.364 32.5936 905.341 32.5936 Q899.305 32.5936 895.821 36.4419 Q892.338 40.2903 892.338 46.9338 L892.338 72.576 L884.843 72.576 L884.843 27.2059 L892.338 27.2059 L892.338 34.2544 Q895.011 30.163 898.616 28.1376 Q902.262 26.1121 907.002 26.1121 Q914.82 26.1121 918.83 30.9732 Q922.841 35.7938 922.841 45.1919 Z\" fill=\"#000000\" fill-rule=\"evenodd\" fill-opacity=\"1\" /><path clip-path=\"url(#clip570)\" d=\"M 0 0 M958.327 49.7694 Q949.293 49.7694 945.809 51.8354 Q942.326 53.9013 942.326 58.8839 Q942.326 62.8538 944.918 65.2034 Q947.551 67.5124 952.048 67.5124 Q958.246 67.5124 961.973 63.1374 Q965.74 58.7219 965.74 51.4303 L965.74 49.7694 L958.327 49.7694 M973.194 46.6907 L973.194 72.576 L965.74 72.576 L965.74 65.6895 Q963.188 69.8214 959.38 71.8063 Q955.572 73.7508 950.063 73.7508 Q943.095 73.7508 938.963 69.8619 Q934.872 65.9325 934.872 59.3701 Q934.872 51.7138 939.976 47.825 Q945.121 43.9361 955.289 43.9361 L965.74 43.9361 L965.74 43.2069 Q965.74 38.0623 962.337 35.2672 Q958.975 32.4315 952.858 32.4315 Q948.969 32.4315 945.283 33.3632 Q941.596 34.295 938.194 36.1584 L938.194 29.2718 Q942.285 27.692 946.134 26.9223 Q949.982 26.1121 953.628 26.1121 Q963.471 26.1121 968.332 31.2163 Q973.194 36.3204 973.194 46.6907 Z\" fill=\"#000000\" fill-rule=\"evenodd\" fill-opacity=\"1\" /><path clip-path=\"url(#clip570)\" d=\"M 0 0 M1023.87 35.9153 Q1026.67 30.8922 1030.55 28.5022 Q1034.44 26.1121 1039.71 26.1121 Q1046.8 26.1121 1050.65 31.0947 Q1054.5 36.0368 1054.5 45.1919 L1054.5 72.576 L1047 72.576 L1047 45.4349 Q1047 38.913 1044.69 35.7533 Q1042.38 32.5936 1037.64 32.5936 Q1031.85 32.5936 1028.49 36.4419 Q1025.13 40.2903 1025.13 46.9338 L1025.13 72.576 L1017.63 72.576 L1017.63 45.4349 Q1017.63 38.8725 1015.32 35.7533 Q1013.01 32.5936 1008.19 32.5936 Q1002.48 32.5936 999.119 36.4824 Q995.757 40.3308 995.757 46.9338 L995.757 72.576 L988.263 72.576 L988.263 27.2059 L995.757 27.2059 L995.757 34.2544 Q998.309 30.082 1001.87 28.0971 Q1005.44 26.1121 1010.34 26.1121 Q1015.28 26.1121 1018.73 28.6237 Q1022.21 31.1352 1023.87 35.9153 Z\" fill=\"#000000\" fill-rule=\"evenodd\" fill-opacity=\"1\" /><path clip-path=\"url(#clip570)\" d=\"M 0 0 M1069.36 27.2059 L1076.82 27.2059 L1076.82 72.576 L1069.36 72.576 L1069.36 27.2059 M1069.36 9.54393 L1076.82 9.54393 L1076.82 18.9825 L1069.36 18.9825 L1069.36 9.54393 Z\" fill=\"#000000\" fill-rule=\"evenodd\" fill-opacity=\"1\" /><path clip-path=\"url(#clip570)\" d=\"M 0 0 M1125.06 28.9478 L1125.06 35.9153 Q1121.9 34.1734 1118.7 33.3227 Q1115.54 32.4315 1112.3 32.4315 Q1105.05 32.4315 1101.04 37.0496 Q1097.03 41.6271 1097.03 49.9314 Q1097.03 58.2358 1101.04 62.8538 Q1105.05 67.4314 1112.3 67.4314 Q1115.54 67.4314 1118.7 66.5807 Q1121.9 65.6895 1125.06 63.9476 L1125.06 70.8341 Q1121.94 72.2924 1118.58 73.0216 Q1115.26 73.7508 1111.49 73.7508 Q1101.24 73.7508 1095.21 67.3098 Q1089.17 60.8689 1089.17 49.9314 Q1089.17 38.832 1095.25 32.472 Q1101.36 26.1121 1111.98 26.1121 Q1115.42 26.1121 1118.7 26.8413 Q1121.98 27.5299 1125.06 28.9478 Z\" fill=\"#000000\" fill-rule=\"evenodd\" fill-opacity=\"1\" /><path clip-path=\"url(#clip570)\" d=\"M 0 0 M1166.95 28.5427 L1166.95 35.5912 Q1163.79 33.9709 1160.39 33.1607 Q1156.98 32.3505 1153.34 32.3505 Q1147.79 32.3505 1144.99 34.0519 Q1142.24 35.7533 1142.24 39.156 Q1142.24 41.7486 1144.22 43.2475 Q1146.21 44.7058 1152.2 46.0426 L1154.76 46.6097 Q1162.69 48.3111 1166.02 51.4303 Q1169.38 54.509 1169.38 60.0587 Q1169.38 66.3781 1164.36 70.0644 Q1159.37 73.7508 1150.62 73.7508 Q1146.98 73.7508 1143.01 73.0216 Q1139.08 72.3329 1134.7 70.9151 L1134.7 63.2184 Q1138.84 65.3654 1142.85 66.4591 Q1146.86 67.5124 1150.79 67.5124 Q1156.05 67.5124 1158.89 65.73 Q1161.72 63.9071 1161.72 60.6258 Q1161.72 57.5877 1159.66 55.9673 Q1157.63 54.3469 1150.7 52.8481 L1148.11 52.2405 Q1141.18 50.7821 1138.11 47.7845 Q1135.03 44.7463 1135.03 39.4801 Q1135.03 33.0797 1139.56 29.5959 Q1144.1 26.1121 1152.45 26.1121 Q1156.58 26.1121 1160.22 26.7198 Q1163.87 27.3274 1166.95 28.5427 Z\" fill=\"#000000\" fill-rule=\"evenodd\" fill-opacity=\"1\" /><path clip-path=\"url(#clip570)\" d=\"M 0 0 M1215.72 86.3491 L1215.72 92.1419 L1172.62 92.1419 L1172.62 86.3491 L1215.72 86.3491 Z\" fill=\"#000000\" fill-rule=\"evenodd\" fill-opacity=\"1\" /><path clip-path=\"url(#clip570)\" d=\"M 0 0 M1249.02 34.1734 Q1247.76 33.4443 1246.27 33.1202 Q1244.81 32.7556 1243.02 32.7556 Q1236.7 32.7556 1233.3 36.8875 Q1229.94 40.9789 1229.94 48.6757 L1229.94 72.576 L1222.45 72.576 L1222.45 27.2059 L1229.94 27.2059 L1229.94 34.2544 Q1232.29 30.1225 1236.06 28.1376 Q1239.82 26.1121 1245.21 26.1121 Q1245.98 26.1121 1246.91 26.2337 Q1247.84 26.3147 1248.98 26.5172 L1249.02 34.1734 Z\" fill=\"#000000\" fill-rule=\"evenodd\" fill-opacity=\"1\" /><path clip-path=\"url(#clip570)\" d=\"M 0 0 M1256.55 9.54393 L1264.05 9.54393 L1264.05 46.7717 L1286.29 27.2059 L1295.81 27.2059 L1271.75 48.4326 L1296.82 72.576 L1287.1 72.576 L1264.05 50.4176 L1264.05 72.576 L1256.55 72.576 L1256.55 9.54393 Z\" fill=\"#000000\" fill-rule=\"evenodd\" fill-opacity=\"1\" /><path clip-path=\"url(#clip570)\" d=\"M 0 0 M1328.42 19.2256 L1307.76 51.5113 L1328.42 51.5113 L1328.42 19.2256 M1326.27 12.096 L1336.56 12.096 L1336.56 51.5113 L1345.19 51.5113 L1345.19 58.3168 L1336.56 58.3168 L1336.56 72.576 L1328.42 72.576 L1328.42 58.3168 L1301.11 58.3168 L1301.11 50.4176 L1326.27 12.096 Z\" fill=\"#000000\" fill-rule=\"evenodd\" fill-opacity=\"1\" /><path clip-path=\"url(#clip570)\" d=\"M 0 0 M1375.97 12.096 L1427.14 12.096 L1427.14 18.9825 L1405.67 18.9825 L1405.67 72.576 L1397.44 72.576 L1397.44 18.9825 L1375.97 18.9825 L1375.97 12.096 Z\" fill=\"#000000\" fill-rule=\"evenodd\" fill-opacity=\"1\" /><path clip-path=\"url(#clip570)\" d=\"M 0 0 M1448.81 34.1734 Q1447.55 33.4443 1446.06 33.1202 Q1444.6 32.7556 1442.81 32.7556 Q1436.5 32.7556 1433.09 36.8875 Q1429.73 40.9789 1429.73 48.6757 L1429.73 72.576 L1422.24 72.576 L1422.24 27.2059 L1429.73 27.2059 L1429.73 34.2544 Q1432.08 30.1225 1435.85 28.1376 Q1439.61 26.1121 1445 26.1121 Q1445.77 26.1121 1446.7 26.2337 Q1447.64 26.3147 1448.77 26.5172 L1448.81 34.1734 Z\" fill=\"#000000\" fill-rule=\"evenodd\" fill-opacity=\"1\" /><path clip-path=\"url(#clip570)\" d=\"M 0 0 M1477.25 49.7694 Q1468.21 49.7694 1464.73 51.8354 Q1461.25 53.9013 1461.25 58.8839 Q1461.25 62.8538 1463.84 65.2034 Q1466.47 67.5124 1470.97 67.5124 Q1477.17 67.5124 1480.89 63.1374 Q1484.66 58.7219 1484.66 51.4303 L1484.66 49.7694 L1477.25 49.7694 M1492.11 46.6907 L1492.11 72.576 L1484.66 72.576 L1484.66 65.6895 Q1482.11 69.8214 1478.3 71.8063 Q1474.49 73.7508 1468.98 73.7508 Q1462.02 73.7508 1457.88 69.8619 Q1453.79 65.9325 1453.79 59.3701 Q1453.79 51.7138 1458.9 47.825 Q1464.04 43.9361 1474.21 43.9361 L1484.66 43.9361 L1484.66 43.2069 Q1484.66 38.0623 1481.26 35.2672 Q1477.9 32.4315 1471.78 32.4315 Q1467.89 32.4315 1464.2 33.3632 Q1460.52 34.295 1457.11 36.1584 L1457.11 29.2718 Q1461.21 27.692 1465.05 26.9223 Q1468.9 26.1121 1472.55 26.1121 Q1482.39 26.1121 1487.25 31.2163 Q1492.11 36.3204 1492.11 46.6907 Z\" fill=\"#000000\" fill-rule=\"evenodd\" fill-opacity=\"1\" /><path clip-path=\"url(#clip570)\" d=\"M 0 0 M1507.47 27.2059 L1514.92 27.2059 L1514.92 73.3862 Q1514.92 82.0551 1511.6 85.944 Q1508.32 89.8329 1500.99 89.8329 L1498.15 89.8329 L1498.15 83.5134 L1500.14 83.5134 Q1504.39 83.5134 1505.93 81.5285 Q1507.47 79.5841 1507.47 73.3862 L1507.47 27.2059 M1507.47 9.54393 L1514.92 9.54393 L1514.92 18.9825 L1507.47 18.9825 L1507.47 9.54393 Z\" fill=\"#000000\" fill-rule=\"evenodd\" fill-opacity=\"1\" /><path clip-path=\"url(#clip570)\" d=\"M 0 0 M1569.32 48.0275 L1569.32 51.6733 L1535.05 51.6733 Q1535.54 59.3701 1539.67 63.421 Q1543.84 67.4314 1551.26 67.4314 Q1555.55 67.4314 1559.56 66.3781 Q1563.61 65.3249 1567.58 63.2184 L1567.58 70.267 Q1563.57 71.9684 1559.36 72.8596 Q1555.15 73.7508 1550.81 73.7508 Q1539.96 73.7508 1533.6 67.4314 Q1527.28 61.1119 1527.28 50.3365 Q1527.28 39.1965 1533.27 32.6746 Q1539.31 26.1121 1549.52 26.1121 Q1558.67 26.1121 1563.98 32.0264 Q1569.32 37.9003 1569.32 48.0275 M1561.87 45.84 Q1561.79 39.7232 1558.43 36.0774 Q1555.11 32.4315 1549.6 32.4315 Q1543.36 32.4315 1539.59 35.9558 Q1535.86 39.4801 1535.3 45.8805 L1561.87 45.84 Z\" fill=\"#000000\" fill-rule=\"evenodd\" fill-opacity=\"1\" /><path clip-path=\"url(#clip570)\" d=\"M 0 0 M1614.21 28.9478 L1614.21 35.9153 Q1611.05 34.1734 1607.85 33.3227 Q1604.69 32.4315 1601.45 32.4315 Q1594.2 32.4315 1590.19 37.0496 Q1586.18 41.6271 1586.18 49.9314 Q1586.18 58.2358 1590.19 62.8538 Q1594.2 67.4314 1601.45 67.4314 Q1604.69 67.4314 1607.85 66.5807 Q1611.05 65.6895 1614.21 63.9476 L1614.21 70.8341 Q1611.09 72.2924 1607.73 73.0216 Q1604.41 73.7508 1600.64 73.7508 Q1590.39 73.7508 1584.35 67.3098 Q1578.32 60.8689 1578.32 49.9314 Q1578.32 38.832 1584.39 32.472 Q1590.51 26.1121 1601.12 26.1121 Q1604.57 26.1121 1607.85 26.8413 Q1611.13 27.5299 1614.21 28.9478 Z\" fill=\"#000000\" fill-rule=\"evenodd\" fill-opacity=\"1\" /><path clip-path=\"url(#clip570)\" d=\"M 0 0 M1634.54 14.324 L1634.54 27.2059 L1649.9 27.2059 L1649.9 32.9987 L1634.54 32.9987 L1634.54 57.6282 Q1634.54 63.1779 1636.04 64.7578 Q1637.58 66.3376 1642.24 66.3376 L1649.9 66.3376 L1649.9 72.576 L1642.24 72.576 Q1633.61 72.576 1630.33 69.3758 Q1627.05 66.1351 1627.05 57.6282 L1627.05 32.9987 L1621.58 32.9987 L1621.58 27.2059 L1627.05 27.2059 L1627.05 14.324 L1634.54 14.324 Z\" fill=\"#000000\" fill-rule=\"evenodd\" fill-opacity=\"1\" /><path clip-path=\"url(#clip570)\" d=\"M 0 0 M1677.28 32.4315 Q1671.29 32.4315 1667.8 37.1306 Q1664.32 41.7891 1664.32 49.9314 Q1664.32 58.0738 1667.76 62.7728 Q1671.25 67.4314 1677.28 67.4314 Q1683.24 67.4314 1686.72 62.7323 Q1690.2 58.0333 1690.2 49.9314 Q1690.2 41.8701 1686.72 37.1711 Q1683.24 32.4315 1677.28 32.4315 M1677.28 26.1121 Q1687 26.1121 1692.55 32.4315 Q1698.1 38.7509 1698.1 49.9314 Q1698.1 61.0714 1692.55 67.4314 Q1687 73.7508 1677.28 73.7508 Q1667.52 73.7508 1661.97 67.4314 Q1656.46 61.0714 1656.46 49.9314 Q1656.46 38.7509 1661.97 32.4315 Q1667.52 26.1121 1677.28 26.1121 Z\" fill=\"#000000\" fill-rule=\"evenodd\" fill-opacity=\"1\" /><path clip-path=\"url(#clip570)\" d=\"M 0 0 M1736.75 34.1734 Q1735.49 33.4443 1733.99 33.1202 Q1732.54 32.7556 1730.75 32.7556 Q1724.43 32.7556 1721.03 36.8875 Q1717.67 40.9789 1717.67 48.6757 L1717.67 72.576 L1710.17 72.576 L1710.17 27.2059 L1717.67 27.2059 L1717.67 34.2544 Q1720.02 30.1225 1723.79 28.1376 Q1727.55 26.1121 1732.94 26.1121 Q1733.71 26.1121 1734.64 26.2337 Q1735.57 26.3147 1736.71 26.5172 L1736.75 34.1734 Z\" fill=\"#000000\" fill-rule=\"evenodd\" fill-opacity=\"1\" /><path clip-path=\"url(#clip570)\" d=\"M 0 0 M1763.44 76.7889 Q1760.28 84.8907 1757.29 87.3618 Q1754.29 89.8329 1749.27 89.8329 L1743.31 89.8329 L1743.31 83.5945 L1747.69 83.5945 Q1750.76 83.5945 1752.47 82.1361 Q1754.17 80.6778 1756.23 75.2496 L1757.57 71.8468 L1739.22 27.2059 L1747.12 27.2059 L1761.3 62.6918 L1775.48 27.2059 L1783.37 27.2059 L1763.44 76.7889 Z\" fill=\"#000000\" fill-rule=\"evenodd\" fill-opacity=\"1\" /><polyline clip-path=\"url(#clip572)\" style=\"stroke:#009af9; stroke-width:4; stroke-opacity:1; fill:none\" points=\"\n",
       "  1352.42,773.326 1313.85,676.884 1249.66,632.247 1190.25,615.933 1139.43,615.235 1097.17,624.261 1062.92,639.853 1036.22,660.09 1016.74,683.674 1004.29,709.647 \n",
       "  998.819,737.226 1000.43,765.708 1009.38,794.379 1026.09,822.434 1051.23,848.84 1085.77,872.107 1131.1,889.797 1189.09,897.303 1261.11,884.209 1335.65,824.064 \n",
       "  1342.47,721.402 1282.2,662.701 1217.84,652.019 1167.08,669.382 1134.11,703.323 1120.77,746.663 1129,793.482 1161.5,836.741 1221.51,864.229 1304.71,848.37 \n",
       "  1349.98,761.85 1303.65,687.317 1234.89,680.769 1188.97,722.307 1188.21,787.768 1249.21,838.682 1333.37,800.879 1320.28,719.531 1253.1,747.938 1280.35,877.531 \n",
       "  1326.97,907.126 1364.69,907.955 1390.18,888.676 1399.5,852.376 1383.66,800.07 1307.89,740.253 1158.67,784.503 1078.93,838.98 1012.55,889.537 952.633,937.378 \n",
       "  896.64,983.283 843.334,1027.73 791.999,1071.04 742.184,1113.43 693.582,1155.05 645.974,1196.03 599.198,1236.46 553.128,1276.41 507.669,1315.93 462.743,1355.09 \n",
       "  418.285,1393.91 374.245,1432.43 330.579,1470.68 287.249,1508.68 244.224,1546.46 201.477,1584.03 158.984,1621.41 116.726,1658.61 74.6831,1695.65 32.8401,1732.53 \n",
       "  -8.81726,1769.28 -50.3018,1805.89 -91.6249,1842.37 -132.797,1878.74 -173.827,1915 -214.724,1951.15 -255.495,1987.2 -296.147,2023.16 -336.688,2059.03 -377.122,2094.81 \n",
       "  -417.455,2130.52 -457.692,2166.15 -497.838,2201.71 -537.897,2237.19 -577.873,2272.61 -617.771,2307.97 -657.592,2343.26 -697.341,2378.5 -737.021,2413.68 -776.634,2448.8 \n",
       "  -816.184,2483.88 -855.672,2518.9 -895.101,2553.88 -934.473,2588.8 -973.791,2623.69 -1013.06,2658.53 -1052.27,2693.33 -1091.44,2728.09 -1130.55,2762.81 -1169.63,2797.49 \n",
       "  \n",
       "  \"/>\n",
       "<path clip-path=\"url(#clip570)\" d=\"\n",
       "M884.198 287.756 L1860.2 287.756 L1860.2 166.796 L884.198 166.796  Z\n",
       "  \" fill=\"#ffffff\" fill-rule=\"evenodd\" fill-opacity=\"1\"/>\n",
       "<polyline clip-path=\"url(#clip570)\" style=\"stroke:#000000; stroke-width:4; stroke-opacity:1; fill:none\" points=\"\n",
       "  884.198,287.756 1860.2,287.756 1860.2,166.796 884.198,166.796 884.198,287.756 \n",
       "  \"/>\n",
       "<polyline clip-path=\"url(#clip570)\" style=\"stroke:#009af9; stroke-width:4; stroke-opacity:1; fill:none\" points=\"\n",
       "  907.998,227.276 1050.8,227.276 \n",
       "  \"/>\n",
       "<path clip-path=\"url(#clip570)\" d=\"M 0 0 M1074.6 184.076 L1103.83 184.076 L1103.83 188.011 L1091.57 188.011 L1091.57 218.636 L1086.87 218.636 L1086.87 188.011 L1074.6 188.011 L1074.6 184.076 Z\" fill=\"#000000\" fill-rule=\"evenodd\" fill-opacity=\"1\" /><path clip-path=\"url(#clip570)\" d=\"M 0 0 M1116.22 196.691 Q1115.5 196.275 1114.65 196.09 Q1113.81 195.881 1112.79 195.881 Q1109.18 195.881 1107.24 198.242 Q1105.32 200.58 1105.32 204.978 L1105.32 218.636 L1101.03 218.636 L1101.03 192.71 L1105.32 192.71 L1105.32 196.738 Q1106.66 194.377 1108.81 193.242 Q1110.96 192.085 1114.04 192.085 Q1114.48 192.085 1115.02 192.154 Q1115.55 192.201 1116.2 192.316 L1116.22 196.691 Z\" fill=\"#000000\" fill-rule=\"evenodd\" fill-opacity=\"1\" /><path clip-path=\"url(#clip570)\" d=\"M 0 0 M1132.47 205.603 Q1127.31 205.603 1125.32 206.784 Q1123.33 207.964 1123.33 210.812 Q1123.33 213.08 1124.81 214.423 Q1126.31 215.742 1128.88 215.742 Q1132.42 215.742 1134.55 213.242 Q1136.71 210.719 1136.71 206.552 L1136.71 205.603 L1132.47 205.603 M1140.96 203.844 L1140.96 218.636 L1136.71 218.636 L1136.71 214.701 Q1135.25 217.062 1133.07 218.196 Q1130.89 219.307 1127.75 219.307 Q1123.77 219.307 1121.4 217.085 Q1119.07 214.839 1119.07 211.089 Q1119.07 206.714 1121.98 204.492 Q1124.92 202.27 1130.73 202.27 L1136.71 202.27 L1136.71 201.853 Q1136.71 198.914 1134.76 197.316 Q1132.84 195.696 1129.34 195.696 Q1127.12 195.696 1125.02 196.228 Q1122.91 196.761 1120.96 197.826 L1120.96 193.89 Q1123.3 192.988 1125.5 192.548 Q1127.7 192.085 1129.78 192.085 Q1135.41 192.085 1138.19 195.002 Q1140.96 197.918 1140.96 203.844 Z\" fill=\"#000000\" fill-rule=\"evenodd\" fill-opacity=\"1\" /><path clip-path=\"url(#clip570)\" d=\"M 0 0 M1149.74 192.71 L1154 192.71 L1154 219.099 Q1154 224.052 1152.1 226.275 Q1150.22 228.497 1146.03 228.497 L1144.41 228.497 L1144.41 224.886 L1145.55 224.886 Q1147.98 224.886 1148.86 223.751 Q1149.74 222.64 1149.74 219.099 L1149.74 192.71 M1149.74 182.617 L1154 182.617 L1154 188.011 L1149.74 188.011 L1149.74 182.617 Z\" fill=\"#000000\" fill-rule=\"evenodd\" fill-opacity=\"1\" /><path clip-path=\"url(#clip570)\" d=\"M 0 0 M1185.08 204.608 L1185.08 206.691 L1165.5 206.691 Q1165.78 211.089 1168.14 213.404 Q1170.52 215.696 1174.76 215.696 Q1177.21 215.696 1179.51 215.094 Q1181.82 214.492 1184.09 213.289 L1184.09 217.316 Q1181.8 218.288 1179.39 218.798 Q1176.98 219.307 1174.51 219.307 Q1168.3 219.307 1164.67 215.696 Q1161.06 212.085 1161.06 205.927 Q1161.06 199.562 1164.48 195.835 Q1167.93 192.085 1173.77 192.085 Q1179 192.085 1182.03 195.465 Q1185.08 198.821 1185.08 204.608 M1180.83 203.358 Q1180.78 199.863 1178.86 197.779 Q1176.96 195.696 1173.81 195.696 Q1170.25 195.696 1168.09 197.71 Q1165.96 199.724 1165.64 203.381 L1180.83 203.358 Z\" fill=\"#000000\" fill-rule=\"evenodd\" fill-opacity=\"1\" /><path clip-path=\"url(#clip570)\" d=\"M 0 0 M1210.73 193.705 L1210.73 197.687 Q1208.93 196.691 1207.1 196.205 Q1205.29 195.696 1203.44 195.696 Q1199.3 195.696 1197.01 198.335 Q1194.71 200.951 1194.71 205.696 Q1194.71 210.441 1197.01 213.08 Q1199.3 215.696 1203.44 215.696 Q1205.29 215.696 1207.1 215.21 Q1208.93 214.701 1210.73 213.705 L1210.73 217.64 Q1208.95 218.474 1207.03 218.89 Q1205.13 219.307 1202.98 219.307 Q1197.12 219.307 1193.67 215.626 Q1190.22 211.946 1190.22 205.696 Q1190.22 199.353 1193.7 195.719 Q1197.19 192.085 1203.26 192.085 Q1205.22 192.085 1207.1 192.502 Q1208.97 192.895 1210.73 193.705 Z\" fill=\"#000000\" fill-rule=\"evenodd\" fill-opacity=\"1\" /><path clip-path=\"url(#clip570)\" d=\"M 0 0 M1222.35 185.349 L1222.35 192.71 L1231.13 192.71 L1231.13 196.02 L1222.35 196.02 L1222.35 210.094 Q1222.35 213.265 1223.21 214.168 Q1224.09 215.071 1226.75 215.071 L1231.13 215.071 L1231.13 218.636 L1226.75 218.636 Q1221.82 218.636 1219.95 216.807 Q1218.07 214.955 1218.07 210.094 L1218.07 196.02 L1214.95 196.02 L1214.95 192.71 L1218.07 192.71 L1218.07 185.349 L1222.35 185.349 Z\" fill=\"#000000\" fill-rule=\"evenodd\" fill-opacity=\"1\" /><path clip-path=\"url(#clip570)\" d=\"M 0 0 M1246.77 195.696 Q1243.35 195.696 1241.36 198.381 Q1239.37 201.043 1239.37 205.696 Q1239.37 210.349 1241.33 213.034 Q1243.32 215.696 1246.77 215.696 Q1250.18 215.696 1252.17 213.011 Q1254.16 210.326 1254.16 205.696 Q1254.16 201.09 1252.17 198.404 Q1250.18 195.696 1246.77 195.696 M1246.77 192.085 Q1252.33 192.085 1255.5 195.696 Q1258.67 199.307 1258.67 205.696 Q1258.67 212.062 1255.5 215.696 Q1252.33 219.307 1246.77 219.307 Q1241.2 219.307 1238.02 215.696 Q1234.88 212.062 1234.88 205.696 Q1234.88 199.307 1238.02 195.696 Q1241.2 192.085 1246.77 192.085 Z\" fill=\"#000000\" fill-rule=\"evenodd\" fill-opacity=\"1\" /><path clip-path=\"url(#clip570)\" d=\"M 0 0 M1280.76 196.691 Q1280.04 196.275 1279.18 196.09 Q1278.35 195.881 1277.33 195.881 Q1273.72 195.881 1271.77 198.242 Q1269.85 200.58 1269.85 204.978 L1269.85 218.636 L1265.57 218.636 L1265.57 192.71 L1269.85 192.71 L1269.85 196.738 Q1271.2 194.377 1273.35 193.242 Q1275.5 192.085 1278.58 192.085 Q1279.02 192.085 1279.55 192.154 Q1280.08 192.201 1280.73 192.316 L1280.76 196.691 Z\" fill=\"#000000\" fill-rule=\"evenodd\" fill-opacity=\"1\" /><path clip-path=\"url(#clip570)\" d=\"M 0 0 M1296.01 221.043 Q1294.2 225.673 1292.49 227.085 Q1290.78 228.497 1287.91 228.497 L1284.51 228.497 L1284.51 224.932 L1287.01 224.932 Q1288.76 224.932 1289.74 224.099 Q1290.71 223.265 1291.89 220.163 L1292.65 218.219 L1282.17 192.71 L1286.68 192.71 L1294.78 212.988 L1302.88 192.71 L1307.4 192.71 L1296.01 221.043 Z\" fill=\"#000000\" fill-rule=\"evenodd\" fill-opacity=\"1\" /><path clip-path=\"url(#clip570)\" d=\"M 0 0 M1310.92 212.756 L1315.8 212.756 L1315.8 218.636 L1310.92 218.636 L1310.92 212.756 M1310.92 194.122 L1315.8 194.122 L1315.8 200.002 L1310.92 200.002 L1310.92 194.122 Z\" fill=\"#000000\" fill-rule=\"evenodd\" fill-opacity=\"1\" /><path clip-path=\"url(#clip570)\" d=\"M 0 0 M1340.71 182.617 L1344.99 182.617 L1344.99 203.89 L1357.7 192.71 L1363.14 192.71 L1349.39 204.839 L1363.72 218.636 L1358.16 218.636 L1344.99 205.974 L1344.99 218.636 L1340.71 218.636 L1340.71 182.617 Z\" fill=\"#000000\" fill-rule=\"evenodd\" fill-opacity=\"1\" /><path clip-path=\"url(#clip570)\" d=\"M 0 0 M1389.88 202.988 L1389.88 218.636 L1385.62 218.636 L1385.62 203.127 Q1385.62 199.446 1384.18 197.617 Q1382.75 195.789 1379.88 195.789 Q1376.43 195.789 1374.44 197.988 Q1372.44 200.187 1372.44 203.983 L1372.44 218.636 L1368.16 218.636 L1368.16 192.71 L1372.44 192.71 L1372.44 196.738 Q1373.97 194.4 1376.03 193.242 Q1378.12 192.085 1380.82 192.085 Q1385.29 192.085 1387.58 194.863 Q1389.88 197.617 1389.88 202.988 Z\" fill=\"#000000\" fill-rule=\"evenodd\" fill-opacity=\"1\" /><path clip-path=\"url(#clip570)\" d=\"M 0 0 M1408.42 195.696 Q1404.99 195.696 1403 198.381 Q1401.01 201.043 1401.01 205.696 Q1401.01 210.349 1402.98 213.034 Q1404.97 215.696 1408.42 215.696 Q1411.82 215.696 1413.81 213.011 Q1415.8 210.326 1415.8 205.696 Q1415.8 201.09 1413.81 198.404 Q1411.82 195.696 1408.42 195.696 M1408.42 192.085 Q1413.97 192.085 1417.14 195.696 Q1420.31 199.307 1420.31 205.696 Q1420.31 212.062 1417.14 215.696 Q1413.97 219.307 1408.42 219.307 Q1402.84 219.307 1399.67 215.696 Q1396.52 212.062 1396.52 205.696 Q1396.52 199.307 1399.67 195.696 Q1402.84 192.085 1408.42 192.085 Z\" fill=\"#000000\" fill-rule=\"evenodd\" fill-opacity=\"1\" /><path clip-path=\"url(#clip570)\" d=\"M 0 0 M1431.59 185.349 L1431.59 192.71 L1440.36 192.71 L1440.36 196.02 L1431.59 196.02 L1431.59 210.094 Q1431.59 213.265 1432.44 214.168 Q1433.32 215.071 1435.99 215.071 L1440.36 215.071 L1440.36 218.636 L1435.99 218.636 Q1431.06 218.636 1429.18 216.807 Q1427.31 214.955 1427.31 210.094 L1427.31 196.02 L1424.18 196.02 L1424.18 192.71 L1427.31 192.71 L1427.31 185.349 L1431.59 185.349 Z\" fill=\"#000000\" fill-rule=\"evenodd\" fill-opacity=\"1\" /><path clip-path=\"url(#clip570)\" d=\"M 0 0 M1462.49 193.474 L1462.49 197.502 Q1460.68 196.576 1458.74 196.113 Q1456.8 195.65 1454.71 195.65 Q1451.54 195.65 1449.94 196.622 Q1448.37 197.594 1448.37 199.539 Q1448.37 201.02 1449.5 201.877 Q1450.64 202.71 1454.06 203.474 L1455.52 203.798 Q1460.06 204.77 1461.96 206.552 Q1463.88 208.312 1463.88 211.483 Q1463.88 215.094 1461.01 217.201 Q1458.16 219.307 1453.16 219.307 Q1451.08 219.307 1448.81 218.89 Q1446.56 218.497 1444.06 217.687 L1444.06 213.289 Q1446.43 214.515 1448.72 215.14 Q1451.01 215.742 1453.25 215.742 Q1456.26 215.742 1457.88 214.724 Q1459.5 213.682 1459.5 211.807 Q1459.5 210.071 1458.32 209.145 Q1457.17 208.219 1453.21 207.363 L1451.73 207.015 Q1447.77 206.182 1446.01 204.469 Q1444.25 202.733 1444.25 199.724 Q1444.25 196.066 1446.84 194.076 Q1449.43 192.085 1454.2 192.085 Q1456.56 192.085 1458.65 192.432 Q1460.73 192.779 1462.49 193.474 Z\" fill=\"#000000\" fill-rule=\"evenodd\" fill-opacity=\"1\" /><path clip-path=\"url(#clip570)\" d=\"M 0 0 M1471.22 197.108 L1500.89 197.108 L1500.89 200.997 L1471.22 200.997 L1471.22 197.108 M1471.22 206.552 L1500.89 206.552 L1500.89 210.488 L1471.22 210.488 L1471.22 206.552 Z\" fill=\"#000000\" fill-rule=\"evenodd\" fill-opacity=\"1\" /><path clip-path=\"url(#clip570)\" d=\"M 0 0 M1511.8 214.701 L1519.43 214.701 L1519.43 188.335 L1511.12 190.002 L1511.12 185.742 L1519.39 184.076 L1524.06 184.076 L1524.06 214.701 L1531.7 214.701 L1531.7 218.636 L1511.8 218.636 L1511.8 214.701 Z\" fill=\"#000000\" fill-rule=\"evenodd\" fill-opacity=\"1\" /><path clip-path=\"url(#clip570)\" d=\"M 0 0 M1551.15 187.154 Q1547.54 187.154 1545.71 190.719 Q1543.9 194.261 1543.9 201.39 Q1543.9 208.497 1545.71 212.062 Q1547.54 215.603 1551.15 215.603 Q1554.78 215.603 1556.59 212.062 Q1558.42 208.497 1558.42 201.39 Q1558.42 194.261 1556.59 190.719 Q1554.78 187.154 1551.15 187.154 M1551.15 183.451 Q1556.96 183.451 1560.01 188.057 Q1563.09 192.64 1563.09 201.39 Q1563.09 210.117 1560.01 214.724 Q1556.96 219.307 1551.15 219.307 Q1545.34 219.307 1542.26 214.724 Q1539.2 210.117 1539.2 201.39 Q1539.2 192.64 1542.26 188.057 Q1545.34 183.451 1551.15 183.451 Z\" fill=\"#000000\" fill-rule=\"evenodd\" fill-opacity=\"1\" /><path clip-path=\"url(#clip570)\" d=\"M 0 0 M1581.31 187.154 Q1577.7 187.154 1575.87 190.719 Q1574.06 194.261 1574.06 201.39 Q1574.06 208.497 1575.87 212.062 Q1577.7 215.603 1581.31 215.603 Q1584.94 215.603 1586.75 212.062 Q1588.58 208.497 1588.58 201.39 Q1588.58 194.261 1586.75 190.719 Q1584.94 187.154 1581.31 187.154 M1581.31 183.451 Q1587.12 183.451 1590.17 188.057 Q1593.25 192.64 1593.25 201.39 Q1593.25 210.117 1590.17 214.724 Q1587.12 219.307 1581.31 219.307 Q1575.5 219.307 1572.42 214.724 Q1569.36 210.117 1569.36 201.39 Q1569.36 192.64 1572.42 188.057 Q1575.5 183.451 1581.31 183.451 Z\" fill=\"#000000\" fill-rule=\"evenodd\" fill-opacity=\"1\" /><path clip-path=\"url(#clip570)\" d=\"M 0 0 M1625.98 195.696 Q1622.56 195.696 1620.57 198.381 Q1618.58 201.043 1618.58 205.696 Q1618.58 210.349 1620.55 213.034 Q1622.54 215.696 1625.98 215.696 Q1629.39 215.696 1631.38 213.011 Q1633.37 210.326 1633.37 205.696 Q1633.37 201.09 1631.38 198.404 Q1629.39 195.696 1625.98 195.696 M1625.98 192.085 Q1631.54 192.085 1634.71 195.696 Q1637.88 199.307 1637.88 205.696 Q1637.88 212.062 1634.71 215.696 Q1631.54 219.307 1625.98 219.307 Q1620.41 219.307 1617.23 215.696 Q1614.09 212.062 1614.09 205.696 Q1614.09 199.307 1617.23 195.696 Q1620.41 192.085 1625.98 192.085 Z\" fill=\"#000000\" fill-rule=\"evenodd\" fill-opacity=\"1\" /><path clip-path=\"url(#clip570)\" d=\"M 0 0 M1659.97 196.691 Q1659.25 196.275 1658.39 196.09 Q1657.56 195.881 1656.54 195.881 Q1652.93 195.881 1650.98 198.242 Q1649.06 200.58 1649.06 204.978 L1649.06 218.636 L1644.78 218.636 L1644.78 192.71 L1649.06 192.71 L1649.06 196.738 Q1650.41 194.377 1652.56 193.242 Q1654.71 192.085 1657.79 192.085 Q1658.23 192.085 1658.76 192.154 Q1659.29 192.201 1659.94 192.316 L1659.97 196.691 Z\" fill=\"#000000\" fill-rule=\"evenodd\" fill-opacity=\"1\" /><path clip-path=\"url(#clip570)\" d=\"M 0 0 M1683.04 205.696 Q1683.04 200.997 1681.1 198.335 Q1679.18 195.65 1675.8 195.65 Q1672.42 195.65 1670.48 198.335 Q1668.55 200.997 1668.55 205.696 Q1668.55 210.395 1670.48 213.08 Q1672.42 215.742 1675.8 215.742 Q1679.18 215.742 1681.1 213.08 Q1683.04 210.395 1683.04 205.696 M1668.55 196.645 Q1669.9 194.33 1671.93 193.219 Q1673.99 192.085 1676.84 192.085 Q1681.56 192.085 1684.5 195.835 Q1687.47 199.585 1687.47 205.696 Q1687.47 211.807 1684.5 215.557 Q1681.56 219.307 1676.84 219.307 Q1673.99 219.307 1671.93 218.196 Q1669.9 217.062 1668.55 214.747 L1668.55 218.636 L1664.27 218.636 L1664.27 182.617 L1668.55 182.617 L1668.55 196.645 Z\" fill=\"#000000\" fill-rule=\"evenodd\" fill-opacity=\"1\" /><path clip-path=\"url(#clip570)\" d=\"M 0 0 M1694.53 192.71 L1698.79 192.71 L1698.79 218.636 L1694.53 218.636 L1694.53 192.71 M1694.53 182.617 L1698.79 182.617 L1698.79 188.011 L1694.53 188.011 L1694.53 182.617 Z\" fill=\"#000000\" fill-rule=\"evenodd\" fill-opacity=\"1\" /><path clip-path=\"url(#clip570)\" d=\"M 0 0 M1711.91 185.349 L1711.91 192.71 L1720.68 192.71 L1720.68 196.02 L1711.91 196.02 L1711.91 210.094 Q1711.91 213.265 1712.77 214.168 Q1713.65 215.071 1716.31 215.071 L1720.68 215.071 L1720.68 218.636 L1716.31 218.636 Q1711.38 218.636 1709.5 216.807 Q1707.63 214.955 1707.63 210.094 L1707.63 196.02 L1704.5 196.02 L1704.5 192.71 L1707.63 192.71 L1707.63 185.349 L1711.91 185.349 Z\" fill=\"#000000\" fill-rule=\"evenodd\" fill-opacity=\"1\" /><path clip-path=\"url(#clip570)\" d=\"M 0 0 M1742.81 193.474 L1742.81 197.502 Q1741.01 196.576 1739.06 196.113 Q1737.12 195.65 1735.04 195.65 Q1731.86 195.65 1730.27 196.622 Q1728.69 197.594 1728.69 199.539 Q1728.69 201.02 1729.83 201.877 Q1730.96 202.71 1734.39 203.474 L1735.85 203.798 Q1740.38 204.77 1742.28 206.552 Q1744.2 208.312 1744.2 211.483 Q1744.2 215.094 1741.33 217.201 Q1738.48 219.307 1733.48 219.307 Q1731.4 219.307 1729.13 218.89 Q1726.89 218.497 1724.39 217.687 L1724.39 213.289 Q1726.75 214.515 1729.04 215.14 Q1731.33 215.742 1733.58 215.742 Q1736.59 215.742 1738.21 214.724 Q1739.83 213.682 1739.83 211.807 Q1739.83 210.071 1738.65 209.145 Q1737.49 208.219 1733.53 207.363 L1732.05 207.015 Q1728.09 206.182 1726.33 204.469 Q1724.57 202.733 1724.57 199.724 Q1724.57 196.066 1727.16 194.076 Q1729.76 192.085 1734.53 192.085 Q1736.89 192.085 1738.97 192.432 Q1741.05 192.779 1742.81 193.474 Z\" fill=\"#000000\" fill-rule=\"evenodd\" fill-opacity=\"1\" /><path clip-path=\"url(#clip570)\" d=\"M 0 0 M1751.54 197.108 L1781.22 197.108 L1781.22 200.997 L1751.54 200.997 L1751.54 197.108 M1751.54 206.552 L1781.22 206.552 L1781.22 210.488 L1751.54 210.488 L1751.54 206.552 Z\" fill=\"#000000\" fill-rule=\"evenodd\" fill-opacity=\"1\" /><path clip-path=\"url(#clip570)\" d=\"M 0 0 M1805.47 200.002 Q1808.83 200.719 1810.71 202.988 Q1812.6 205.256 1812.6 208.589 Q1812.6 213.705 1809.09 216.506 Q1805.57 219.307 1799.09 219.307 Q1796.91 219.307 1794.6 218.867 Q1792.3 218.451 1789.85 217.594 L1789.85 213.08 Q1791.79 214.214 1794.11 214.793 Q1796.42 215.372 1798.95 215.372 Q1803.35 215.372 1805.64 213.636 Q1807.95 211.9 1807.95 208.589 Q1807.95 205.534 1805.8 203.821 Q1803.67 202.085 1799.85 202.085 L1795.82 202.085 L1795.82 198.242 L1800.03 198.242 Q1803.48 198.242 1805.31 196.877 Q1807.14 195.488 1807.14 192.895 Q1807.14 190.233 1805.24 188.821 Q1803.37 187.386 1799.85 187.386 Q1797.93 187.386 1795.73 187.803 Q1793.53 188.219 1790.89 189.099 L1790.89 184.932 Q1793.55 184.191 1795.87 183.821 Q1798.21 183.451 1800.27 183.451 Q1805.59 183.451 1808.69 185.881 Q1811.79 188.289 1811.79 192.409 Q1811.79 195.279 1810.15 197.27 Q1808.51 199.238 1805.47 200.002 Z\" fill=\"#000000\" fill-rule=\"evenodd\" fill-opacity=\"1\" /></svg>\n"
      ]
     },
     "metadata": {},
     "output_type": "display_data"
    },
    {
     "name": "stdout",
     "output_type": "stream",
     "text": [
      "DIFFERENCE: 24.38818135303061\n"
     ]
    }
   ],
   "source": [
    "# plot(t, energy)\n",
    "traj = plot_orbit(transfer_orbit, dynamics_rk4, 100, 3)\n",
    "println(\"DIFFERENCE: \", norm(traj[end, :] - traj[1, :]))\n",
    "\n",
    "# time = 1/ radius "
   ]
  },
  {
   "cell_type": "markdown",
   "metadata": {},
   "source": [
    "## Constraints"
   ]
  },
  {
   "cell_type": "markdown",
   "metadata": {},
   "source": [
    "$ c = [c_{init}, c_{terminal}, c_{dynamics}, c_{thrust}, c_{time}] $"
   ]
  },
  {
   "cell_type": "code",
   "execution_count": 49,
   "metadata": {
    "scrolled": true
   },
   "outputs": [
    {
     "data": {
      "text/plain": [
       "unpackZ (generic function with 1 method)"
      ]
     },
     "execution_count": 49,
     "metadata": {},
     "output_type": "execute_result"
    }
   ],
   "source": [
    "function unpackZ(N, ztraj)\n",
    "    \"\"\"\n",
    "    Inputs: \n",
    "        ztraj -> Trajectory\n",
    "    \n",
    "    Returns: \n",
    "        xtraj -> state trajectory (Nx, T)\n",
    "        utraj -> control trajectory (Nu, T-1)\n",
    "    \"\"\"\n",
    "    Nt = N\n",
    "    z = reshape(ztraj[1:(end-Nx)],Nx+Nu,Nt-1)\n",
    "    xtraj = hcat(z[1:Nx,:], ztraj[end-(Nx-1):end])\n",
    "    utraj = z[(Nx+1):(Nx+Nu),:]\n",
    "    \n",
    "    return xtraj, utraj\n",
    "end"
   ]
  },
  {
   "cell_type": "code",
   "execution_count": 50,
   "metadata": {
    "scrolled": true
   },
   "outputs": [
    {
     "data": {
      "text/plain": [
       "dynamics_constraints! (generic function with 1 method)"
      ]
     },
     "execution_count": 50,
     "metadata": {},
     "output_type": "execute_result"
    }
   ],
   "source": [
    "function dynamics_constraints!(nlp, c, ztraj)\n",
    "    \"\"\"\n",
    "    Inputs: \n",
    "        c -> Constraint Vector: shape = \n",
    "        ztraj -> Current trajectory: shape ((Nx+Nu)*T, 1)\n",
    "    \n",
    "    Returns: \n",
    "        Nothing\n",
    "    \"\"\"\n",
    "\n",
    "    X, U = unpackZ(nlp.N, ztraj)\n",
    "    N = nlp.N\n",
    "\n",
    "    d = reshape(view(c, nlp.idx_ineq[3]), Nx, (N-1))\n",
    "    \n",
    "    for k = 1:N-1\n",
    "        u = U[1:3, k]\n",
    "        h = U[4, k]\n",
    "#         d[:, k] .= dynamics_rk8(X[:,k], u, h) - X[:,k+1]\n",
    "        d[:, k] .= nlp.model(X[:, k], u, h) - X[:, k+1]\n",
    "    end\n",
    "    \n",
    "    return d\n",
    "end\n",
    "    "
   ]
  },
  {
   "cell_type": "code",
   "execution_count": 51,
   "metadata": {
    "scrolled": true
   },
   "outputs": [
    {
     "data": {
      "text/plain": [
       "thrust_constraints! (generic function with 1 method)"
      ]
     },
     "execution_count": 51,
     "metadata": {},
     "output_type": "execute_result"
    }
   ],
   "source": [
    "function thrust_constraints!(nlp, c, ztraj)\n",
    "    \"\"\"\n",
    "    Inputs: \n",
    "        c -> Constraint Vector: shape = \n",
    "        ztraj -> Current trajectory: shape ((Nx+Nu)*T, 1)\n",
    "    \n",
    "    Returns: \n",
    "        Nothing\n",
    "    \"\"\"\n",
    "    N = nlp.N\n",
    "    d = view(c, nlp.idx_ineq[4]) \n",
    "    X, U = unpackZ(nlp.N, ztraj)\n",
    "    \n",
    "    for k = 1:N-1\n",
    "        d[k] = norm(U[1:3,k])\n",
    "    end\n",
    "    \n",
    "    \n",
    "    return d\n",
    "end"
   ]
  },
  {
   "cell_type": "code",
   "execution_count": 52,
   "metadata": {
    "scrolled": true
   },
   "outputs": [
    {
     "data": {
      "text/plain": [
       "time_constraints! (generic function with 1 method)"
      ]
     },
     "execution_count": 52,
     "metadata": {},
     "output_type": "execute_result"
    }
   ],
   "source": [
    "function time_constraints!(nlp, c, ztraj)\n",
    "    N = nlp.N\n",
    "    d = view(c, nlp.idx_ineq[5])\n",
    "    X, U = unpackZ(nlp.N, ztraj)\n",
    "    \n",
    "    d[:] .= U[end, :]\n",
    "    \n",
    "    return d\n",
    "    \n",
    "end"
   ]
  },
  {
   "cell_type": "code",
   "execution_count": 53,
   "metadata": {
    "scrolled": true
   },
   "outputs": [
    {
     "data": {
      "text/plain": [
       "con! (generic function with 1 method)"
      ]
     },
     "execution_count": 53,
     "metadata": {},
     "output_type": "execute_result"
    }
   ],
   "source": [
    "function con!(nlp, c, Z)\n",
    "    X, U = unpackZ(nlp.N, Z)\n",
    "    c[nlp.idx_ineq[1]] .= X[:,1] - nlp.zref[1:Nx, 1] # Initial condition constraint\n",
    "    c[nlp.idx_ineq[2][1]] = (norm(X[1:3,end]) - norm(xgoal[1:3]))\n",
    "    c[nlp.idx_ineq[2][2]] = (norm(X[4:end, end])-norm(xgoal[4:end]))\n",
    "    c[nlp.idx_ineq[2][3]] = dot(X[1:3, end], X[4:end, end]) # Final condition constraint\n",
    "    c[nlp.idx_ineq[2][4]] = X[3,end]\n",
    "    c[nlp.idx_ineq[2][5]] = X[6,end]\n",
    "\n",
    "    dynamics_constraints!(nlp, c, Z) # Dynamics constraints\n",
    "    thrust_constraints!(nlp, c, Z) # Thrust constraints\n",
    "    time_constraints!(nlp, c, Z)\n",
    "end"
   ]
  },
  {
   "cell_type": "markdown",
   "metadata": {},
   "source": [
    "## Constraint Jacobian"
   ]
  },
  {
   "cell_type": "code",
   "execution_count": 54,
   "metadata": {
    "scrolled": true
   },
   "outputs": [
    {
     "data": {
      "text/plain": [
       "terminal_constraint_jacobian! (generic function with 1 method)"
      ]
     },
     "execution_count": 54,
     "metadata": {},
     "output_type": "execute_result"
    }
   ],
   "source": [
    "function terminal_constraint_jacobian!(nlp, jac, Z)\n",
    "    X, U = unpackZ(nlp.N, Z)\n",
    "\n",
    "    term_r = X[1:3, end]./(norm(X[1:3,end])+1e-12) #(3, 1)\n",
    "    term_v = X[4:6, end]./(norm(X[4:6,end])+1e-12) #(3, 1)\n",
    "\n",
    "    jac .= [([term_r, term_v, X[4:6, end], X[1:3, end], 1.0, 1.0]...)...]\n",
    "    \n",
    "end"
   ]
  },
  {
   "cell_type": "code",
   "execution_count": 55,
   "metadata": {},
   "outputs": [
    {
     "data": {
      "text/plain": [
       "dynamics_wrapper (generic function with 1 method)"
      ]
     },
     "execution_count": 55,
     "metadata": {},
     "output_type": "execute_result"
    }
   ],
   "source": [
    "function dynamics_wrapper(nlp, zk)\n",
    "    # zk is the state at time k \n",
    "    \n",
    "    x = zk[1:Nx]\n",
    "    u = zk[Nx+1:Nx+3]\n",
    "    h = zk[Nx+4]\n",
    "    \n",
    "    out = nlp.model(x, u, h)\n",
    "    \n",
    "    return out\n",
    "end"
   ]
  },
  {
   "cell_type": "code",
   "execution_count": 56,
   "metadata": {
    "scrolled": true
   },
   "outputs": [
    {
     "data": {
      "text/plain": [
       "dynamics_constraint_jacobian! (generic function with 1 method)"
      ]
     },
     "execution_count": 56,
     "metadata": {},
     "output_type": "execute_result"
    }
   ],
   "source": [
    "function dynamics_constraint_jacobian!(nlp, jac, Z)\n",
    "#     D = rehape(view(jac, nlp.cinds[3], :), \n",
    "    N = nlp.N\n",
    "    ix = [Int((Nx+Nu)*i+1):Int((Nx+Nu)*i+Nx) for i=0:N-1]\n",
    "    iu = [Int((Nx)*i+Nu*(i-1)+1):Int((Nx+Nu)*i) for i=1:N-1]\n",
    "    \n",
    "    step = 96\n",
    "    step2 = 60\n",
    "    for k =0:N-2\n",
    "        j1 = view(jac, k*step+1:step*k+step2)\n",
    "        j2 = view(jac, step*k+step2+1:step*k+step)\n",
    "\n",
    "        ForwardDiff.jacobian!(j1, z->dynamics_wrapper(nlp, z), Z[ix[k+1][1]:iu[k+1][end]])\n",
    "        j2 .= [(-1.0*Matrix(I, 6, 6)...)...]\n",
    "\n",
    "    end\n",
    "    \n",
    "    return nothing\n",
    "end"
   ]
  },
  {
   "cell_type": "code",
   "execution_count": 57,
   "metadata": {
    "scrolled": true
   },
   "outputs": [
    {
     "data": {
      "text/plain": [
       "thrust_constraint_jacobian! (generic function with 1 method)"
      ]
     },
     "execution_count": 57,
     "metadata": {},
     "output_type": "execute_result"
    }
   ],
   "source": [
    "function thrust_constraint_jacobian!(nlp, jac, Z)\n",
    "\n",
    "    X, U = unpackZ(nlp.N, Z)\n",
    "\n",
    "    norms_grad = [([u./(1e-12+norm(u)) for u in U[1:3,:]]...)...]\n",
    "    jac .= norms_grad # (3*(N-1))\n",
    "    return nothing\n",
    "end"
   ]
  },
  {
   "cell_type": "code",
   "execution_count": 58,
   "metadata": {
    "scrolled": true
   },
   "outputs": [
    {
     "data": {
      "text/plain": [
       "jac_c! (generic function with 1 method)"
      ]
     },
     "execution_count": 58,
     "metadata": {},
     "output_type": "execute_result"
    }
   ],
   "source": [
    "function jac_c!(nlp, jac, Z)\n",
    "    N = nlp.N\n",
    "    i_init = 1:Nx\n",
    "    i_term = i_init[end]+1:i_init[end]+3+3+6+1+1\n",
    "    \n",
    "    i_dyn = i_term[end]+1:i_term[end]+(Nx*(Nx+Nu+Nx)*(N-1))\n",
    "    \n",
    "    i_thrust = i_dyn[end]+1:i_dyn[end]+3*(N-1)\n",
    "    \n",
    "    i_time = i_thrust[end]+1:i_thrust[end]+(N-1) # Definitely not sure about this\n",
    "\n",
    "    \n",
    "    jac_init = view(jac, i_init)\n",
    "    jac_term = view(jac, i_term)\n",
    "    jac_dynamics = view(jac, i_dyn)\n",
    "    jac_thrust = view(jac, i_thrust)\n",
    "    jac_time = view(jac, i_time)\n",
    "\n",
    "    jac_init .= 1 # Initial Condtion Constraint\n",
    "    terminal_constraint_jacobian!(nlp, jac_term, Z) \n",
    "    dynamics_constraint_jacobian!(nlp, jac_dynamics, Z)\n",
    "    thrust_constraint_jacobian!(nlp, jac_thrust, Z)\n",
    "    jac_time .= 1\n",
    "    \n",
    "    return nothing\n",
    "end"
   ]
  },
  {
   "cell_type": "markdown",
   "metadata": {},
   "source": [
    "## Part (a): Implement DIRCOL \n",
    "Implement DIRCOL by completing the provided methods. "
   ]
  },
  {
   "cell_type": "code",
   "execution_count": 59,
   "metadata": {
    "scrolled": true
   },
   "outputs": [
    {
     "data": {
      "text/plain": [
       "solve (generic function with 1 method)"
      ]
     },
     "execution_count": 59,
     "metadata": {},
     "output_type": "execute_result"
    }
   ],
   "source": [
    "\"\"\"\n",
    "    Problem{n,m,L}\n",
    "\n",
    "Describes a trajectory optimization problem with `n` states, `m` controls, and \n",
    "a model of type `L`. \n",
    "\n",
    "# Constructor\n",
    "    Problem(model::L, obj::Vector{<:QuadraticCost{n,m}}, tf, x0, xf) where {n,m,L}\n",
    "\n",
    "where `tf` is the final time, and `x0` is the initial state. \n",
    "\"\"\"\n",
    "\n",
    "\n",
    "struct ProblemMOI <: MOI.AbstractNLPEvaluator\n",
    "    n_nlp::Int # num_primals\n",
    "    m_nlp::Int # num_duals\n",
    "    N::Int # num_knots\n",
    "    idx_ineq # list of constraint ranges\n",
    "    obj_grad::Bool \n",
    "    con_jac::Bool\n",
    "    sparsity_jac\n",
    "    primal_bounds\n",
    "    constraint_bounds\n",
    "    hessian_lagrangian::Bool\n",
    "    zref\n",
    "    model\n",
    "end\n",
    "\n",
    "function ProblemMOI(n_nlp, N, zref;\n",
    "        idx_ineq=get_cinds(Nx, N),\n",
    "        m_nlp = idx_ineq[end][end],\n",
    "        obj_grad=true,\n",
    "        con_jac=true,\n",
    "        sparsity_jac=sparsity_jacobian(n_nlp,m_nlp),\n",
    "        primal_bounds=primal_bounds(n_nlp),\n",
    "        constraint_bounds=constraint_bounds(m_nlp,idx_ineq=idx_ineq),\n",
    "        hessian_lagrangian=false, \n",
    "        model=dynamics_rk8)\n",
    "\n",
    "    ProblemMOI(\n",
    "        n_nlp,\n",
    "        m_nlp,\n",
    "        N, # Nt\n",
    "        idx_ineq, # Indexes\n",
    "        obj_grad, \n",
    "        con_jac,\n",
    "        sparsity_jac,\n",
    "        primal_bounds,\n",
    "        constraint_bounds,\n",
    "        hessian_lagrangian, \n",
    "        zref, \n",
    "        model)\n",
    "end\n",
    "\n",
    "function primal_bounds(n)\n",
    "    x_l = -Inf*ones(n)\n",
    "    x_u = Inf*ones(n)\n",
    "    return x_l, x_u\n",
    "end\n",
    "\n",
    "function get_cinds(n, N)\n",
    "    c_init_inds = 1:Nx\n",
    "    c_term_inds = (c_init_inds[end]+1):(c_init_inds[end]+5)\n",
    "    c_dyn_inds = (c_term_inds[end]+1):(c_term_inds[end]+((Nx)*(N-1)))\n",
    "    c_thrust_inds = (c_dyn_inds[end]+1):(c_dyn_inds[end]+((N-1)))\n",
    "    c_time_inds = c_thrust_inds[end]+1:c_thrust_inds[end]+(N-1)\n",
    "    \n",
    "    return [c_init_inds, c_term_inds, c_dyn_inds, c_thrust_inds, c_time_inds]\n",
    "end\n",
    "\n",
    "function constraint_bounds(m_nlp; idx_ineq)\n",
    "    lb = zeros(m_nlp) \n",
    "    lb[idx_ineq[1]] .= 0 ##x0\n",
    "    lb[idx_ineq[2]] .= 0 #xf\n",
    "    lb[idx_ineq[3]] .= 0\n",
    "    lb[idx_ineq[4]] .= 0 # Might have a minimum thrust requirment\n",
    "    lb[idx_ineq[5]] .= 1e-3\n",
    "\n",
    "    ub = zeros(m_nlp) #fill(-Inf,m_nlp)\n",
    "    ub[idx_ineq[1]] .= 0 #x0\n",
    "    ub[idx_ineq[2]] .= 0 #xf\n",
    "    ub[idx_ineq[3]] .= 0\n",
    "    ub[idx_ineq[4]] .= 10.0\n",
    "    ub[idx_ineq[5]] .= 1e-1\n",
    "\n",
    "    return lb, ub\n",
    "end\n",
    "\n",
    "function row_col!(row,col,r,c)\n",
    "    for cc in c\n",
    "        for rr in r\n",
    "            push!(row,convert(Int,rr))\n",
    "            push!(col,convert(Int,cc))\n",
    "        end\n",
    "    end\n",
    "    return row, col\n",
    "end\n",
    "\n",
    "function sparsity_jacobian(n,m, N)\n",
    "    row = []\n",
    "    col = []\n",
    "\n",
    "    idx_ineq = get_cinds(0, N)\n",
    "    ix = [Int((Nx+Nu)*i+1):Int((Nx+Nu)*i+Nx) for i=0:N-1]\n",
    "    iu = [Int((Nx)*i+Nu*(i-1)+1):Int((Nx+Nu)*i-1) for i=1:N-1]\n",
    "\n",
    "    # initial Constraints \n",
    "    for k=1:Nx\n",
    "        push!(row, convert(Int, k))\n",
    "        push!(col, convert(Int, k))\n",
    "    end\n",
    "    \n",
    "    # Terminal Constraints\n",
    "    for k = 1:3\n",
    "        push!(row, convert(Int, idx_ineq[2][1]))\n",
    "        push!(col, convert(Int, n-6+k))\n",
    "\n",
    "    end\n",
    "    for k = 1:3\n",
    "        push!(row, convert(Int, idx_ineq[2][2]))\n",
    "        push!(col, convert(Int, n-3+k))\n",
    "    end\n",
    "    for k=1:6\n",
    "        push!(row, convert(Int, idx_ineq[2][3]))\n",
    "        push!(col, convert(Int, n-6+k))\n",
    "    end\n",
    "    \n",
    "    push!(row, convert(Int, idx_ineq[2][4]))\n",
    "    push!(col, convert(Int, n-3))\n",
    "    push!(row, convert(Int, idx_ineq[2][5]))\n",
    "    push!(col, convert(Int, n))\n",
    "    \n",
    "    \n",
    "    # Dynamics_con\n",
    "    for i=0:N-2\n",
    "        row_col!(row, col, idx_ineq[3][Nx*i+1:(Nx*(i+1))], ix[i+1][1]:iu[i+1][end]+1)\n",
    "        row_col!(row, col, idx_ineq[3][Nx*i+1:(Nx*(i+1))], ix[i+2]) # number of values will be idx_ineq[3][end]-idx_ineq[3][1]*n \n",
    "    end\n",
    "    \n",
    "    # Thrust Con + time con\n",
    "    idx_h = [i[end]+1 for i in iu]\n",
    "    for k=1:N-1\n",
    "        for j=1:3\n",
    "            push!(row, convert(Int, idx_ineq[4][k]))\n",
    "            push!(col, convert(Int, iu[k][j]))\n",
    "        end\n",
    "\n",
    "    end\n",
    "    for k=1:N-1\n",
    "        push!(row, convert(Int, idx_ineq[5][k]))\n",
    "        push!(col, convert(Int, idx_h[k]))\n",
    "    end\n",
    "    \n",
    "\n",
    "    return collect(zip(row,col))\n",
    "end\n",
    "\n",
    "function sparsity_hessian(n,m)\n",
    "#     N = (n-Nx)/(Nx+Nu)+1\n",
    "\n",
    "    row = []\n",
    "    col = []\n",
    "    r = 1:m\n",
    "    c = 1:n\n",
    "    row_col!(row, col, r, c)\n",
    "    \n",
    "    return collect(zip(row,col))\n",
    "end\n",
    "\n",
    "function MOI.eval_objective(prob::MOI.AbstractNLPEvaluator, x)\n",
    "    cost(prob, x)\n",
    "end\n",
    "\n",
    "function MOI.eval_objective_gradient(prob::MOI.AbstractNLPEvaluator, grad_f, x)\n",
    "    ForwardDiff.gradient!(grad_f, x -> cost(prob, x), x)\n",
    "    return nothing\n",
    "end\n",
    "\n",
    "function MOI.eval_constraint(prob::MOI.AbstractNLPEvaluator,g,x)\n",
    "    con!(prob, g, x) # TODO: Implement con! (Mitch)\n",
    "    return nothing\n",
    "end\n",
    "\n",
    "function MOI.eval_constraint_jacobian(prob::MOI.AbstractNLPEvaluator, jac, x)\n",
    "#     IF DENSE\n",
    "#     ForwardDiff.jacobian!(jac, (c,x) -> con!(prob, c, x), zeros(prob.m_nlp), x)\n",
    "\n",
    "    # IF SPARSE\n",
    "    jac_c!(prob, jac, x)\n",
    "    return nothing #sparse(r, c, jac[prob.sparcity_jac])\n",
    "end\n",
    "\n",
    "function MOI.features_available(prob::MOI.AbstractNLPEvaluator)\n",
    "    return [:Grad, :Jac]\n",
    "end\n",
    "\n",
    "# TODO: Confirm meaning of these functions\n",
    "MOI.initialize(prob::MOI.AbstractNLPEvaluator, features) = nothing\n",
    "MOI.jacobian_structure(prob::MOI.AbstractNLPEvaluator) = prob.sparsity_jac #\n",
    "\n",
    "\n",
    "\n",
    "function solve(x0,prob::MOI.AbstractNLPEvaluator; \n",
    "        solver=Ipopt.Optimizer(), tol=1.0e-6,c_tol=1.0e-6,max_iter=100)\n",
    "    x_l, x_u = prob.primal_bounds\n",
    "    c_l, c_u = prob.constraint_bounds\n",
    "\n",
    "    nlp_bounds = MOI.NLPBoundsPair.(c_l,c_u)\n",
    "    block_data = MOI.NLPBlockData(nlp_bounds,prob,true)\n",
    "\n",
    "#     solver = Ipopt.Optimizer()\n",
    "    solver.options[\"max_iter\"] = max_iter\n",
    "    solver.options[\"tol\"] = tol\n",
    "    solver.options[\"constr_viol_tol\"] = c_tol\n",
    "\n",
    "    x = MOI.add_variables(solver, prob.n_nlp)\n",
    "\n",
    "    for i = 1:prob.n_nlp\n",
    "        xi = MOI.SingleVariable(x[i])\n",
    "        MOI.add_constraint(solver, xi, MOI.LessThan(x_u[i]))\n",
    "        MOI.add_constraint(solver, xi, MOI.GreaterThan(x_l[i]))\n",
    "        MOI.set(solver, MOI.VariablePrimalStart(), x[i], x0[i])\n",
    "    end\n",
    "\n",
    "    # Solve the problem\n",
    "    MOI.set(solver, MOI.NLPBlock(), block_data)\n",
    "    MOI.set(solver, MOI.ObjectiveSense(), MOI.MIN_SENSE)\n",
    "    MOI.optimize!(solver)\n",
    "\n",
    "    # Get the solution\n",
    "    res = MOI.get(solver, MOI.VariablePrimal(), x)\n",
    "    status = MOI.get(solver, MOI.TerminationStatus())\n",
    "\n",
    "    return res, status, solver\n",
    "end"
   ]
  },
  {
   "cell_type": "code",
   "execution_count": 60,
   "metadata": {
    "scrolled": true
   },
   "outputs": [
    {
     "data": {
      "text/plain": [
       "plot3d_orbit (generic function with 2 methods)"
      ]
     },
     "execution_count": 60,
     "metadata": {},
     "output_type": "execute_result"
    }
   ],
   "source": [
    "function plot3d_orbit(X, label=\"Name of Traj Here\")\n",
    "    plot3d(X[1, :], X[2, :], X[3,:], aspect_ratio=:equal, lims=(-semiMajorAxis_goal*1.25,semiMajorAxis_goal*1.25), title = \"$(label) Trajectory ($(orbits) orbits)\", label = \"$(label)\", lw = 2)\n",
    "    xlabel!(\"Orbital Units\")\n",
    "    ylabel!(\"Orbital Units\")\n",
    "    \n",
    "    plot!([0], [0], [0],lw=10, markershape=:o, label=\"Planet Earth\", color=\"green\")\n",
    "end"
   ]
  },
  {
   "cell_type": "markdown",
   "metadata": {},
   "source": [
    "### TODO: Allow for arbitrary RPY for trajectory"
   ]
  },
  {
   "cell_type": "code",
   "execution_count": 68,
   "metadata": {},
   "outputs": [
    {
     "data": {
      "text/plain": [
       "3×3 RotXYZ{Float64} with indices SOneTo(3)×SOneTo(3)(0.0, 0.0, 0.0):\n",
       " 1.0  -0.0   0.0\n",
       " 0.0   1.0  -0.0\n",
       " 0.0   0.0   1.0"
      ]
     },
     "execution_count": 68,
     "metadata": {},
     "output_type": "execute_result"
    }
   ],
   "source": [
    "one(RotXYZ{Float64})"
   ]
  },
  {
   "cell_type": "code",
   "execution_count": null,
   "metadata": {},
   "outputs": [],
   "source": [
    "knots = 1000\n",
    "function n_orbits_ref_traj(init_orbit::Orbit, orbits::Int) #knots,Nx,Nu\n",
    "    traj = zeros(knots-1,Nx+Nu)\n",
    "    h = init_orbit.period*orbits/(knots)\n",
    "    x = copy(init_orbit.x0)\n",
    "    R = [[0.7071068  0.0000000  0.7071068];\n",
    "         [0.0000000  1.0000000  0.0000000];\n",
    "         [-0.7071068  0.0000000  0.7071068]]\n",
    "#     print(size(R))\n",
    "    x[1:3] .= R*x[1:3]\n",
    "#     x[4:end] .= R*x[4:end]\n",
    "    u = [0,  0,  0, h]\n",
    "    traj[1,:] .= vcat(x,u)\n",
    "#     println(h)\n",
    "    for i in 2:size(traj)[1]\n",
    "#         integrator!(x, u, h)\n",
    "        x = dynamics_rk8(x, u[1:3], u[4])\n",
    "        traj[i,:] .= vcat(x,u)\n",
    "    end\n",
    "    x = dynamics_rk8(x, u[1:3], u[4])\n",
    "    next = vcat(x,u)\n",
    "    print(norm(next[1:Nx] - init_orbit.x0))\n",
    "#     @assert norm(next[1:Nx] - init_orbit.x0)<2.1 #max integrator error #decrease orbits or increase knots\n",
    "    traj = reshape(traj',((knots-1)*(Nx+Nu),1))\n",
    "    traj = vcat(traj,next[1:Nx])\n",
    "    return traj\n",
    "end\n",
    "orbits = 50\n",
    "z = n_orbits_ref_traj(transfer_orbit,orbits)\n",
    "X,U = unpackZ(knots, [(z...)...])\n",
    "plot3d_orbit(X, \"ref\")"
   ]
  },
  {
   "cell_type": "markdown",
   "metadata": {},
   "source": [
    "### Setup IPOPT "
   ]
  },
  {
   "cell_type": "code",
   "execution_count": null,
   "metadata": {
    "scrolled": true
   },
   "outputs": [],
   "source": [
    "knots = 1000 # Number of knot points NOTE: DO NOT MAKE TOO LARGE Assume ~41 knots/orbit RK8 or ~81 knots/orbit RK4\n",
    "orbits = 50\n",
    "n_nlp = (Nx+Nu)*(knots-1)+Nx; # number of decision variables\n",
    "idx = get_cinds(Nx, knots); # constraint indexs\n",
    "m_nlp = idx[end][end]; # number of constraints"
   ]
  },
  {
   "cell_type": "code",
   "execution_count": null,
   "metadata": {},
   "outputs": [],
   "source": [
    "sj = sparsity_jacobian(n_nlp, m_nlp, knots); # Get sparcity indexes"
   ]
  },
  {
   "cell_type": "code",
   "execution_count": null,
   "metadata": {},
   "outputs": [],
   "source": [
    "zref = n_orbits_ref_traj(transfer_orbit, orbits); # Get initial guess"
   ]
  },
  {
   "cell_type": "code",
   "execution_count": null,
   "metadata": {},
   "outputs": [],
   "source": [
    "prob = ProblemMOI(n_nlp, knots, z, m_nlp=m_nlp, idx_ineq=idx, sparsity_jac=sj);"
   ]
  },
  {
   "cell_type": "code",
   "execution_count": null,
   "metadata": {},
   "outputs": [],
   "source": [
    "@time z_sol, status = solve(z_sol, prob) # solve"
   ]
  },
  {
   "cell_type": "markdown",
   "metadata": {},
   "source": [
    "### TODO: Add save feature"
   ]
  },
  {
   "cell_type": "code",
   "execution_count": null,
   "metadata": {},
   "outputs": [],
   "source": [
    "filename = \"/home/aipex/Mitch/16-745_final_project/reference_OOP2IP_$(orbits)00.jld\"\n",
    "save(filename, \"ref_traj\", z, \"opt_traj\", z_sol, \"status\", status)"
   ]
  },
  {
   "cell_type": "markdown",
   "metadata": {},
   "source": [
    "### Plotting"
   ]
  },
  {
   "cell_type": "code",
   "execution_count": null,
   "metadata": {
    "scrolled": true
   },
   "outputs": [],
   "source": [
    "Xsol, Usol = unpackZ(knots, z_sol)\n",
    "plot3d_orbit(Xsol, \"Locally Optimal\")\n",
    "X, U = unpackZ(knots, z)\n",
    "plot3d!(X[1, :], X[2, :], X[3,:], label = \"Reference\", lw = 2, color=\"red\")\n"
   ]
  },
  {
   "cell_type": "code",
   "execution_count": null,
   "metadata": {
    "scrolled": false
   },
   "outputs": [],
   "source": [
    "for orbits=1\n",
    "    z = n_orbits_ref_traj(transfer_orbit, 100*orbits)\n",
    "    z_sol, status = solve(z, prob) # solve\n",
    "    \n",
    "end"
   ]
  },
  {
   "cell_type": "code",
   "execution_count": null,
   "metadata": {
    "scrolled": false
   },
   "outputs": [],
   "source": [
    "knots_final = 10000\n",
    "Xfinal = zeros((Nx, knots_final))\n",
    "Xfinal[:, 1] .= Xsol[:,end]\n",
    "for k = 1:knots_final-1\n",
    "    Xfinal[:, k+1] = dynamics_rk8(Xfinal[:, k], zeros(3), 1e-2)\n",
    "end\n",
    "Plots.display(plot!(Xfinal[1,:], Xfinal[2,:], Xfinal[3,:], label=\"Final Orbit\", color=\"gold\"))"
   ]
  },
  {
   "cell_type": "markdown",
   "metadata": {},
   "source": [
    "### Loading Previous Models"
   ]
  },
  {
   "cell_type": "code",
   "execution_count": null,
   "metadata": {
    "scrolled": false
   },
   "outputs": [],
   "source": [
    "function evaluate_traj(filename, num_orbits)    \n",
    "    out = load(filename)\n",
    "    z_ref = out[\"ref_traj\"]\n",
    "    z_sol = out[\"opt_traj\"]\n",
    "    status = out[\"status\"]\n",
    "\n",
    "    Xsol,Usol = unpackZ(knots, z_sol)\n",
    "    X, U = unpackZ(knots, z_ref)\n",
    "    plot(Xsol[1, :], Xsol[2, :], aspect_ratio=:equal, lims=(-semiMajorAxis_goal*3,semiMajorAxis_goal*3), label=\"Solution\", lw=2)\n",
    "    xlabel!(\"Orbital Units\")\n",
    "    ylabel!(\"Orbital Units\")\n",
    "\n",
    "    plot!([goal_orbit.x0[1]], [goal_orbit.x0[2]], markershape=:xcross, markersize=5, label=\"Goal State\")\n",
    "\n",
    "    plot!([0], [0], lw=1, markershape=:o, label=\"Planet Earth\")\n",
    "\n",
    "    plot!(X[1, :], X[2, :], title = \"$(status): $(num_orbits) orbit reference Tmax=10\", label = \"Reference\", lw = 3)\n",
    "    flush(stdout)\n",
    "    \n",
    "    knots_final = 10000\n",
    "    Xfinal = zeros((Nx, knots_final))\n",
    "    Xfinal[:, 1] .= Xsol[:,end]\n",
    "    for k = 1:knots_final-1\n",
    "        Xfinal[:, k+1] = dynamics_rk8(Xfinal[:, k], zeros(3), 1e-2)\n",
    "    end\n",
    "    Plots.display(plot!(Xfinal[1,:], Xfinal[2,:], label=\"Final Orbit\" ))\n",
    "    \n",
    "    return sum(Usol[4, :])\n",
    "end\n",
    "\n",
    "for num_orbits=1:5\n",
    "# num_orbits = 1\n",
    "    filename = \"/home/aipex/Mitch/16-745_final_project/reference_$(num_orbits).jld\"\n",
    "\n",
    "    final_time = evaluate_traj(filename, num_orbits)\n",
    "#     display(final_time)\n",
    "end"
   ]
  },
  {
   "cell_type": "code",
   "execution_count": null,
   "metadata": {
    "scrolled": false
   },
   "outputs": [],
   "source": [
    "    \n",
    "for i=1:5\n",
    "    filename = \"/home/aipex/Mitch/16-745_final_project/reference_$(i).jld\"\n",
    "\n",
    "    out = load(filename)\n",
    "    z_ref = out[\"ref_traj\"]\n",
    "    z_sol = out[\"opt_traj\"]\n",
    "    status = out[\"status\"]\n",
    "\n",
    "    Xsol,Usol = unpackZ(knots, z_sol)\n",
    "    time = [0.0]\n",
    "    for k = 2:knots\n",
    "        push!(time, time[k-1]+Usol[4,k-1])\n",
    "    end\n",
    "    print(sum(Usol[4,:]))\n",
    "    if i == 1\n",
    "        plot(time[1:knots-1], [norm(Usol[1:3, k]) for k=1:knots-1], \n",
    "            label=\"Umag $(i)\", \n",
    "            xlabel=\"Time [Transfer Orbit Periods]\", \n",
    "            ylabel=\"Thrust Mag\", \n",
    "            title=\"Thrust Mag vs. Time: Reference orbits $(i)\")\n",
    "    elseif i == 5\n",
    "        Plots.display(plot!(time[1:knots-1], [norm(Usol[1:3, k]) for k=1:knots-1], \n",
    "            label=\"Umag $(i)\"))\n",
    "    else\n",
    "        plot!(time[1:knots-1], [norm(Usol[1:3, k]) for k=1:knots-1], \n",
    "            label=\"Umag $(i)\")\n",
    "    end\n",
    "    \n",
    "end\n",
    "\n",
    "# for k=2:knots-2\n",
    "#     Plots.display(plot!([k], [norm(Usol[1:3, k])], label=\"Ux\"))\n",
    "# end\n",
    "\n",
    "# plot!(1:knots-1, Usol[2, :], label=\"Uy\")\n",
    "# plot!(1:knots-1, Usol[3, :], label=\"Uz\")"
   ]
  },
  {
   "cell_type": "code",
   "execution_count": null,
   "metadata": {
    "scrolled": true
   },
   "outputs": [],
   "source": [
    "Xsol,Usol = unpackZ(knots, z_sol)\n",
    "plot(Xsol[1, :], Xsol[2, :], aspect_ratio=:equal, lims=(-semiMajorAxis_goal*3,semiMajorAxis_goal*3), label=\"Solution\", lw=2)\n",
    "xlabel!(\"Orbital Units\")\n",
    "ylabel!(\"Orbital Units\")\n",
    "plot!([goal_orbit.x0[1]], [goal_orbit.x0[2]], markershape=:xcross, markersize=5, label=\"Goal State\")\n",
    "plot!([0], [0], lw=1, markershape=:o, label=\"Planet Earth\")\n",
    "plot!(X[1, :], X[2, :], title = \"Optimal Solution Tmax=10\", label = \"Reference\", lw = 3)\n",
    "sum(Usol[4,:])"
   ]
  },
  {
   "cell_type": "code",
   "execution_count": null,
   "metadata": {
    "scrolled": true
   },
   "outputs": [],
   "source": [
    "knots_final = 10000\n",
    "Xfinal = zeros((Nx, knots_final))\n",
    "Xfinal[:, 1] .= Xsol[:,end]\n",
    "for k = 1:knots_final-1\n",
    "    Xfinal[:, k+1] = dynamics_rk8(Xfinal[:, k], zeros(3), 1e-2)\n",
    "end\n",
    "plot!(Xfinal[1,:], Xfinal[2,:], )"
   ]
  },
  {
   "cell_type": "code",
   "execution_count": null,
   "metadata": {
    "scrolled": true
   },
   "outputs": [],
   "source": [
    "plot(1:knots-1, Usol[1, :], label=\"Ux\")\n",
    "plot!(1:knots-1, Usol[2, :], label=\"Uy\")\n",
    "plot!(1:knots-1, Usol[3, :], label=\"Uz\")"
   ]
  },
  {
   "cell_type": "markdown",
   "metadata": {},
   "source": [
    "### Animations"
   ]
  },
  {
   "cell_type": "code",
   "execution_count": null,
   "metadata": {
    "scrolled": true
   },
   "outputs": [],
   "source": [
    "# define the Lorenz attractor\n",
    "Base.@kwdef mutable struct Trajectory\n",
    "#     dt::Float64 = 0.02\n",
    "#     σ::Float64 = 10\n",
    "#     ρ::Float64 = 28\n",
    "#     β::Float64 = 8/3\n",
    "    x::Float64 = Xsol[1,1]\n",
    "    y::Float64 = Xsol[2,1]\n",
    "    z::Float64 = Xsol[3,1]\n",
    "    ux::Float64 = Usol[1,1]\n",
    "    uy::Float64 = Usol[2,1]\n",
    "    uz::Float64 = Usol[3,1]\n",
    "    i::Int = 0\n",
    "end\n",
    "\n",
    "function step!(l::Trajectory)\n",
    "    l.i += 1\n",
    "    l.x = Xsol[1, l.i]\n",
    "    l.y = Xsol[2, l.i]\n",
    "    l.z = Xsol[3, l.i]\n",
    "#     l.ux = U[1, l.i]\n",
    "#     l.uy = U[2, l.i]\n",
    "#     l.uz = U[3, l.i]\n",
    "    \n",
    "#    \n",
    "end\n",
    "\n",
    "t = Trajectory()\n",
    "\n",
    "\n",
    "# initialize a 3D plot with 1 empty series\n",
    "plt = plot3d(\n",
    "    1,\n",
    "    lims=(-semiMajorAxis_goal*1.25,semiMajorAxis_goal*1.25),\n",
    "#     xlim = (-30, 30),\n",
    "#     ylim = (-30, 30),\n",
    "#     zlim = (0, 60),\n",
    "    title = \"Tmax = 1.0\",\n",
    "    marker = 2,\n",
    "    label = \"Reference Trajectory\", \n",
    "    camera = (45, 45), \n",
    "    aspect_ratio=:equal,\n",
    ")\n",
    "plot!([0], [0], [0], markershape=:o, markersize=3, label=\"Planet Earth\", color=:blue)\n",
    "xlabel!(\"Orbital Units\")\n",
    "ylabel!(\"Orbital Units\")\n",
    "# label!(\"Orbital Units\")\n",
    "# build an animated gif by pushing new points to the plot, saving every 10th frame\n",
    "@gif for i=1:knots\n",
    "    step!(t)\n",
    "    push!(plt, t.x, t.y, t.z)\n",
    "\n",
    "end every 10"
   ]
  }
 ],
 "metadata": {
  "kernelspec": {
   "display_name": "Julia 1.6.1",
   "language": "julia",
   "name": "julia-1.6"
  },
  "language_info": {
   "file_extension": ".jl",
   "mimetype": "application/julia",
   "name": "julia",
   "version": "1.6.1"
  }
 },
 "nbformat": 4,
 "nbformat_minor": 4
}
