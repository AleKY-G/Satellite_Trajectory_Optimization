{
 "cells": [
  {
   "cell_type": "code",
   "execution_count": 1,
   "metadata": {},
   "outputs": [
    {
     "name": "stderr",
     "output_type": "stream",
     "text": [
      "\u001b[32m\u001b[1m Activating\u001b[22m\u001b[39m environment at `F:\\Documents\\Schoolwork\\optimalControl\\16-745_final_project\\Project.toml`\n"
     ]
    }
   ],
   "source": [
    "import Pkg; Pkg.activate(joinpath(@__DIR__,\"..\")); Pkg.instantiate();\n",
    "# Pkg.add(\"ForwardDiff\")\n",
    "# Pkg.add(\"RobotDynamics\")\n",
    "# Pkg.add(\"LinearAlgebra\")\n",
    "# Pkg.add(\"StaticArrays\")\n",
    "# Pkg.add(\"SparseArrays\")\n",
    "# Pkg.add(\"Plots\")\n",
    "# Pkg.add(\"Printf\")\n",
    "# Pkg.add(\"Ipopt\")\n",
    "# Pkg.add(\"MathOptInterface\")\n",
    "# Pkg.add(\"TrajOptPlots\")\n",
    "using ForwardDiff\n",
    "using Test\n",
    "using RobotDynamics\n",
    "using LinearAlgebra\n",
    "using StaticArrays\n",
    "using SparseArrays\n",
    "using Plots\n",
    "using Ipopt\n",
    "using MathOptInterface\n",
    "using TrajOptPlots\n",
    "const MOI = MathOptInterface\n",
    "# Pkg.add(\"Multi-Threading\")\n",
    "# using Multi-Threading\n",
    "# using PyPlots\n",
    "using Printf\n",
    "\n",
    "# include(\"quadratic_cost.jl\")\n"
   ]
  },
  {
   "cell_type": "markdown",
   "metadata": {},
   "source": [
    "# Final Project Info\n",
    "In this we present a geostationary transfer orbit to a geosynchronous (GSO) or geostationary orbit (GEO).  We use Keplerian Orbital Dynamics to model our system. We make several assumptions like Earth Reference Frame, Spherical Earth, Kepler Dynamics. \n",
    "\n",
    "## The Model\n",
    "We'll be using the Kepler Dynamics:\n",
    "\n",
    "$\\newcommand{\\norm}[1]{\\left\\lVert#1\\right\\rVert}$\n",
    "\n",
    "$$ \n",
    "\\ddot{r} = F = \\frac{-\\mu}{\\norm{r}^3}*r+u \\\\\n",
    "x = [r, \\dot{r}] \\\\\n",
    "\\norm{u} \\le Tmax\n",
    "$$\n",
    "with the following model parameters:\n",
    "* $\\mu$: Gravitational Parameter = 63781\n",
    "* $r$: distance to earth center\n",
    "* $u$: control of ion thruster"
   ]
  },
  {
   "cell_type": "code",
   "execution_count": null,
   "metadata": {},
   "outputs": [],
   "source": [
    "Threads.nthreads()"
   ]
  },
  {
   "cell_type": "code",
   "execution_count": 2,
   "metadata": {},
   "outputs": [
    {
     "data": {
      "text/plain": [
       "make_orbit (generic function with 1 method)"
      ]
     },
     "execution_count": 2,
     "metadata": {},
     "output_type": "execute_result"
    }
   ],
   "source": [
    "# Problem Setup\n",
    "# Dont want KM and S\n",
    "# Rescale unite to order 1\n",
    "# Length unit = SMA \n",
    "# Time scale = T orbit period\n",
    "# Helps condition number \n",
    "\n",
    "Nx = 6 \n",
    "Nu = 3\n",
    "\n",
    "# Hint can take big steps 10 knot points per-orbit\n",
    "# model = Kepler() # TODO\n",
    "# n,m = size(model)          # state and control dimensions\n",
    "# TODO FIX ME\n",
    "# dt = 0.025                 # time step (sec)\n",
    "# tf = 1.5                   # time horizon (sec)\n",
    "# T = Int(tf/dt) + 1         # number of time steps\n",
    "\n",
    "# n_nlp = (Nx+Nu)*T # number of decision variables\n",
    "# m_nlp = Nx*(T+1)\n",
    "\n",
    "# Initial & final condition\n",
    "\n",
    "#cartesian and ECI\n",
    "#x,y,z,vx,vy,vz\n",
    "earthRadius_km = 6378.1 # [km]\n",
    "LEO_km = 500 #km above sealevel #circular low earth orbit # 250km \n",
    "GSO_km = 35786 #km above sealevel #circular geosychonous orbit\n",
    "μ_km_s = 3.986*10e5 #gravitational0 parameter [km^3 / s^2]\n",
    "semiMajorAxis_scale = (GSO_km+earthRadius_km+earthRadius_km+LEO_km)/2\n",
    "period_scale = sqrt(semiMajorAxis_scale^3/μ_km_s)*2*pi\n",
    "μ = μ_km_s*period_scale^2/semiMajorAxis_scale^3  #μ(OU^3/P^2)\n",
    "\n",
    "struct Orbit{T}\n",
    "    semiMajorAxis::T\n",
    "    period::T\n",
    "    perigee::T #closest radius to earth\n",
    "    perigee_V::T #velocity at perigee\n",
    "    x0::Vector{T}\n",
    "#     function Orbit(x0) \n",
    "#         print(x0) #best is to input point with velocity and calucate useful parts of orbit\n",
    "#     end\n",
    "end\n",
    "\n",
    "function make_orbit(x0)\n",
    "    velocity = norm(x0[4:end])\n",
    "    \n",
    "    radius = norm(x0[1:3])\n",
    "    \n",
    "    semiMajorAxis = 1/(-velocity^2/μ+2/radius)  #reverse vis a viv\n",
    "    \n",
    "    period = sqrt(semiMajorAxis^3/μ)*2*pi       #period equation\n",
    "    \n",
    "    E = velocity^2/2 - μ/radius   #specific energy of satellite\n",
    "    \n",
    "    J = norm(cross(x0[1:3],x0[4:end]))           #specific momentum of satellite\n",
    "    \n",
    "    perigee = -μ/(2*E) - 1/2*sqrt(μ^2/(E^2)+2*J^2/E) #solve quadratic when velocity of radius is 0\n",
    "    \n",
    "    perigee_v =  sqrt(μ*(2.0/perigee-1.0/semiMajorAxis)) # Vis a Viv\n",
    "    apogee  = -μ/(2*E) + 1/2(μ^2/(E^2)+2*J^2/E) #solve quadratic when velocity of radius is 0\n",
    "    apogee_v =  sqrt(μ*(2.0/apogee-1.0/semiMajorAxis)) # Vis a Viv\n",
    "    return Orbit(semiMajorAxis, period, perigee, perigee_v, x0)\n",
    "end"
   ]
  },
  {
   "cell_type": "code",
   "execution_count": 3,
   "metadata": {},
   "outputs": [
    {
     "data": {
      "text/plain": [
       "Orbit{Float64}(1.0, 1.0, 0.28049720444841386, 15.556684458046954, [0.28049720444841386, 0.0, 0.0, 0.0, 15.556684458046954, 0.0])"
      ]
     },
     "execution_count": 3,
     "metadata": {},
     "output_type": "execute_result"
    }
   ],
   "source": [
    "# Geosynchronous Transfer orbit (starting position)\n",
    "semiMajorAxis_transfer = (GSO_km+earthRadius_km+earthRadius_km+LEO_km)/(2*semiMajorAxis_scale) #OU\n",
    "instantRadius_transfer = (earthRadius_km+LEO_km) / semiMajorAxis_scale # #OU\n",
    "instantVelocity_transfer = sqrt(μ*(2.0/instantRadius_transfer-1.0/semiMajorAxis_transfer)) #sqrt(OU^3/P^2/OU) =OU/P\n",
    "period_transfer = sqrt(semiMajorAxis_transfer^3/μ)*2*pi\n",
    "x0    = [instantRadius_transfer, 0.0, 0.0, 0.0, instantVelocity_transfer, 0.0] # initial state #geosynchronous transfer orbit (GTO, where rocket dropped satellite off)\n",
    "                                                                             #many kilometers above Africa in an elliptical orbit \n",
    "transfer_orbit = Orbit(semiMajorAxis_transfer, period_transfer, instantRadius_transfer, instantVelocity_transfer, x0)"
   ]
  },
  {
   "cell_type": "code",
   "execution_count": 4,
   "metadata": {},
   "outputs": [
    {
     "data": {
      "text/plain": [
       "3-element Array{Float64,1}:\n",
       " 0.0\n",
       " 0.0\n",
       " 0.0"
      ]
     },
     "execution_count": 4,
     "metadata": {},
     "output_type": "execute_result"
    }
   ],
   "source": [
    "# Geosynchronous Orbit (goal position)\n",
    "semiMajorAxis_goal = 2*(earthRadius_km+GSO_km)/(2*semiMajorAxis_scale)\n",
    "instantRadius_goal = (earthRadius_km+GSO_km) / semiMajorAxis_scale\n",
    "instantVelocity_goal = sqrt(μ*(2.0/instantRadius_goal-1.0/semiMajorAxis_goal)) # VisViva\n",
    "period_goal = sqrt(semiMajorAxis_goal^3/μ)*2*pi\n",
    "xgoal = [instantRadius_goal, 0.0, 0.0, 0.0, instantVelocity_goal, 0.0] # goal state #circular geosychonous orbit above africa\n",
    "goal_orbit = Orbit(semiMajorAxis_goal, period_goal, instantRadius_goal, instantVelocity_goal, xgoal)\n",
    "ugto = zeros(3)                  # hover controls\n"
   ]
  },
  {
   "cell_type": "markdown",
   "metadata": {},
   "source": [
    "## Cost Function"
   ]
  },
  {
   "cell_type": "code",
   "execution_count": 5,
   "metadata": {},
   "outputs": [
    {
     "data": {
      "text/plain": [
       "cost (generic function with 1 method)"
      ]
     },
     "execution_count": 5,
     "metadata": {},
     "output_type": "execute_result"
    }
   ],
   "source": [
    "function cost(prob, Z)\n",
    "    X, U = unpackZ(prob.N, Z)\n",
    "   # U = Z[Nx+1:Nx+Nu, :]\n",
    "    N = prob.N\n",
    "    J = 0.0\n",
    "    for k = 1:N-1\n",
    "        J += norm(U[:, k])^2 + (norm(X[1:3, k])-goal_orbit.perigee)\n",
    "    end \n",
    "    J += (norm(X[:,end]-xgoal))\n",
    "    return J \n",
    "end"
   ]
  },
  {
   "cell_type": "markdown",
   "metadata": {},
   "source": [
    "## Dynamics"
   ]
  },
  {
   "cell_type": "code",
   "execution_count": 6,
   "metadata": {},
   "outputs": [
    {
     "data": {
      "text/plain": [
       "dynamics (generic function with 1 method)"
      ]
     },
     "execution_count": 6,
     "metadata": {},
     "output_type": "execute_result"
    }
   ],
   "source": [
    "function dynamics(x, u)\n",
    "    # x = state [x, y, z, dx, dy, dz]\n",
    "    # u = control [ux, uy, uz]\n",
    "    r = x[1:3] #orbital units (OU)\n",
    "    ṙ = x[4:end] #\n",
    "    r̈ = (-μ/(norm(r)^3))*r + u #μ(OU^3/P^2)/OU^3*OU\n",
    "    return [ṙ; r̈]\n",
    "end"
   ]
  },
  {
   "cell_type": "code",
   "execution_count": 7,
   "metadata": {},
   "outputs": [
    {
     "data": {
      "text/plain": [
       "integrator! (generic function with 1 method)"
      ]
     },
     "execution_count": 7,
     "metadata": {},
     "output_type": "execute_result"
    }
   ],
   "source": [
    "function integrator!(x, u, h)\n",
    "    # x = state\n",
    "    # u = control\n",
    "    # h = time step\n",
    "#     ẋ = dynamics(x, u)\n",
    "    f1 = dynamics(x, u)\n",
    "    f2 = dynamics(x + 0.5*h*f1, u)\n",
    "    f3 = dynamics(x + 0.5*h*f2, u)\n",
    "    f4 = dynamics(x + h*f3, u)\n",
    "    x .+= (h/6.0)*(f1 + 2*f2 + 2*f3 + f4)\n",
    "end"
   ]
  },
  {
   "cell_type": "code",
   "execution_count": 8,
   "metadata": {},
   "outputs": [
    {
     "data": {
      "text/plain": [
       "dynamics_rk4 (generic function with 1 method)"
      ]
     },
     "execution_count": 8,
     "metadata": {},
     "output_type": "execute_result"
    }
   ],
   "source": [
    "function dynamics_rk4(x, u, h) # Maybe rk8 or more\n",
    "    # x = state\n",
    "    # u = control\n",
    "    # h = time step\n",
    "#     ẋ = dynamics(x, u)\n",
    "    f1 = dynamics(x, u)\n",
    "    f2 = dynamics(x + 0.5*h*f1, u)\n",
    "    f3 = dynamics(x + 0.5*h*f2, u)\n",
    "    f4 = dynamics(x + h*f3, u)\n",
    "    return (x + (h/6.0)*(f1 + 2*f2 + 2*f3 + f4))\n",
    "end"
   ]
  },
  {
   "cell_type": "code",
   "execution_count": 9,
   "metadata": {},
   "outputs": [
    {
     "data": {
      "text/plain": [
       "get_energy (generic function with 1 method)"
      ]
     },
     "execution_count": 9,
     "metadata": {},
     "output_type": "execute_result"
    }
   ],
   "source": [
    "function get_energy(x)\n",
    "    return norm(x[4:end])^2/2 - μ/norm(x[1:3])\n",
    "end"
   ]
  },
  {
   "cell_type": "code",
   "execution_count": 10,
   "metadata": {},
   "outputs": [
    {
     "data": {
      "text/plain": [
       "plot_orbit (generic function with 1 method)"
      ]
     },
     "execution_count": 10,
     "metadata": {},
     "output_type": "execute_result"
    }
   ],
   "source": [
    "knots = 100\n",
    "function plot_orbit(orbit::Orbit)\n",
    "    t = range(0, orbit.period, length=knots) \n",
    "    h = t[2]-t[1]\n",
    "    traj = zeros(size(t)[1], size(x0)[1])\n",
    "    x = copy(orbit.x0)\n",
    "    traj[1,:] .= x\n",
    "    \n",
    "    u = zeros(3)\n",
    "    energy = zero(t)\n",
    "    energy[1] = get_energy(x)\n",
    "    for i in 2:size(t)[1]\n",
    "        integrator!(x, u, h)\n",
    "        traj[i,:] .= x\n",
    "        energy[i] = get_energy(x)\n",
    "        orbit = make_orbit(x)\n",
    "    end\n",
    "#     plot(t, energy)\n",
    "    plot(traj[:, 1], traj[:, 2], aspect_ratio=:equal, lims=(-semiMajorAxis_goal*1.5,semiMajorAxis_goal*1.5))\n",
    "end"
   ]
  },
  {
   "cell_type": "code",
   "execution_count": 11,
   "metadata": {},
   "outputs": [
    {
     "data": {
      "image/svg+xml": [
       "<?xml version=\"1.0\" encoding=\"utf-8\"?>\n",
       "<svg xmlns=\"http://www.w3.org/2000/svg\" xmlns:xlink=\"http://www.w3.org/1999/xlink\" width=\"600\" height=\"400\" viewBox=\"0 0 2400 1600\">\n",
       "<defs>\n",
       "  <clipPath id=\"clip340\">\n",
       "    <rect x=\"0\" y=\"0\" width=\"2400\" height=\"1600\"/>\n",
       "  </clipPath>\n",
       "</defs>\n",
       "<path clip-path=\"url(#clip340)\" d=\"\n",
       "M0 1600 L2400 1600 L2400 0 L0 0  Z\n",
       "  \" fill=\"#ffffff\" fill-rule=\"evenodd\" fill-opacity=\"1\"/>\n",
       "<defs>\n",
       "  <clipPath id=\"clip341\">\n",
       "    <rect x=\"480\" y=\"0\" width=\"1681\" height=\"1600\"/>\n",
       "  </clipPath>\n",
       "</defs>\n",
       "<path clip-path=\"url(#clip340)\" d=\"\n",
       "M530.515 1486.45 L1969.72 1486.45 L1969.72 47.2441 L530.515 47.2441  Z\n",
       "  \" fill=\"#ffffff\" fill-rule=\"evenodd\" fill-opacity=\"1\"/>\n",
       "<defs>\n",
       "  <clipPath id=\"clip342\">\n",
       "    <rect x=\"530\" y=\"47\" width=\"1440\" height=\"1440\"/>\n",
       "  </clipPath>\n",
       "</defs>\n",
       "<polyline clip-path=\"url(#clip342)\" style=\"stroke:#000000; stroke-width:2; stroke-opacity:0.1; fill:none\" points=\"\n",
       "  692.125,1486.45 692.125,47.2441 \n",
       "  \"/>\n",
       "<polyline clip-path=\"url(#clip342)\" style=\"stroke:#000000; stroke-width:2; stroke-opacity:0.1; fill:none\" points=\"\n",
       "  971.121,1486.45 971.121,47.2441 \n",
       "  \"/>\n",
       "<polyline clip-path=\"url(#clip342)\" style=\"stroke:#000000; stroke-width:2; stroke-opacity:0.1; fill:none\" points=\"\n",
       "  1250.12,1486.45 1250.12,47.2441 \n",
       "  \"/>\n",
       "<polyline clip-path=\"url(#clip342)\" style=\"stroke:#000000; stroke-width:2; stroke-opacity:0.1; fill:none\" points=\"\n",
       "  1529.11,1486.45 1529.11,47.2441 \n",
       "  \"/>\n",
       "<polyline clip-path=\"url(#clip342)\" style=\"stroke:#000000; stroke-width:2; stroke-opacity:0.1; fill:none\" points=\"\n",
       "  1808.11,1486.45 1808.11,47.2441 \n",
       "  \"/>\n",
       "<polyline clip-path=\"url(#clip340)\" style=\"stroke:#000000; stroke-width:4; stroke-opacity:1; fill:none\" points=\"\n",
       "  530.515,1486.45 1969.72,1486.45 \n",
       "  \"/>\n",
       "<polyline clip-path=\"url(#clip340)\" style=\"stroke:#000000; stroke-width:4; stroke-opacity:1; fill:none\" points=\"\n",
       "  692.125,1486.45 692.125,1469.18 \n",
       "  \"/>\n",
       "<polyline clip-path=\"url(#clip340)\" style=\"stroke:#000000; stroke-width:4; stroke-opacity:1; fill:none\" points=\"\n",
       "  971.121,1486.45 971.121,1469.18 \n",
       "  \"/>\n",
       "<polyline clip-path=\"url(#clip340)\" style=\"stroke:#000000; stroke-width:4; stroke-opacity:1; fill:none\" points=\"\n",
       "  1250.12,1486.45 1250.12,1469.18 \n",
       "  \"/>\n",
       "<polyline clip-path=\"url(#clip340)\" style=\"stroke:#000000; stroke-width:4; stroke-opacity:1; fill:none\" points=\"\n",
       "  1529.11,1486.45 1529.11,1469.18 \n",
       "  \"/>\n",
       "<polyline clip-path=\"url(#clip340)\" style=\"stroke:#000000; stroke-width:4; stroke-opacity:1; fill:none\" points=\"\n",
       "  1808.11,1486.45 1808.11,1469.18 \n",
       "  \"/>\n",
       "<path clip-path=\"url(#clip340)\" d=\"M 0 0 M662.067 1530.29 L691.743 1530.29 L691.743 1534.23 L662.067 1534.23 L662.067 1530.29 Z\" fill=\"#000000\" fill-rule=\"evenodd\" fill-opacity=\"1\" /><path clip-path=\"url(#clip340)\" d=\"M 0 0 M705.863 1543.18 L722.182 1543.18 L722.182 1547.12 L700.238 1547.12 L700.238 1543.18 Q702.9 1540.43 707.483 1535.8 Q712.09 1531.15 713.27 1529.81 Q715.516 1527.28 716.395 1525.55 Q717.298 1523.79 717.298 1522.1 Q717.298 1519.34 715.354 1517.61 Q713.432 1515.87 710.331 1515.87 Q708.132 1515.87 705.678 1516.63 Q703.247 1517.4 700.47 1518.95 L700.47 1514.23 Q703.294 1513.09 705.747 1512.51 Q708.201 1511.93 710.238 1511.93 Q715.608 1511.93 718.803 1514.62 Q721.997 1517.31 721.997 1521.8 Q721.997 1523.93 721.187 1525.85 Q720.4 1527.74 718.294 1530.34 Q717.715 1531.01 714.613 1534.23 Q711.511 1537.42 705.863 1543.18 Z\" fill=\"#000000\" fill-rule=\"evenodd\" fill-opacity=\"1\" /><path clip-path=\"url(#clip340)\" d=\"M 0 0 M940.878 1530.29 L970.554 1530.29 L970.554 1534.23 L940.878 1534.23 L940.878 1530.29 Z\" fill=\"#000000\" fill-rule=\"evenodd\" fill-opacity=\"1\" /><path clip-path=\"url(#clip340)\" d=\"M 0 0 M981.456 1543.18 L989.095 1543.18 L989.095 1516.82 L980.785 1518.49 L980.785 1514.23 L989.049 1512.56 L993.725 1512.56 L993.725 1543.18 L1001.36 1543.18 L1001.36 1547.12 L981.456 1547.12 L981.456 1543.18 Z\" fill=\"#000000\" fill-rule=\"evenodd\" fill-opacity=\"1\" /><path clip-path=\"url(#clip340)\" d=\"M 0 0 M1250.12 1515.64 Q1246.51 1515.64 1244.68 1519.2 Q1242.87 1522.75 1242.87 1529.87 Q1242.87 1536.98 1244.68 1540.55 Q1246.51 1544.09 1250.12 1544.09 Q1253.75 1544.09 1255.56 1540.55 Q1257.39 1536.98 1257.39 1529.87 Q1257.39 1522.75 1255.56 1519.2 Q1253.75 1515.64 1250.12 1515.64 M1250.12 1511.93 Q1255.93 1511.93 1258.98 1516.54 Q1262.06 1521.12 1262.06 1529.87 Q1262.06 1538.6 1258.98 1543.21 Q1255.93 1547.79 1250.12 1547.79 Q1244.31 1547.79 1241.23 1543.21 Q1238.17 1538.6 1238.17 1529.87 Q1238.17 1521.12 1241.23 1516.54 Q1244.31 1511.93 1250.12 1511.93 Z\" fill=\"#000000\" fill-rule=\"evenodd\" fill-opacity=\"1\" /><path clip-path=\"url(#clip340)\" d=\"M 0 0 M1519.5 1543.18 L1527.13 1543.18 L1527.13 1516.82 L1518.82 1518.49 L1518.82 1514.23 L1527.09 1512.56 L1531.76 1512.56 L1531.76 1543.18 L1539.4 1543.18 L1539.4 1547.12 L1519.5 1547.12 L1519.5 1543.18 Z\" fill=\"#000000\" fill-rule=\"evenodd\" fill-opacity=\"1\" /><path clip-path=\"url(#clip340)\" d=\"M 0 0 M1802.76 1543.18 L1819.08 1543.18 L1819.08 1547.12 L1797.14 1547.12 L1797.14 1543.18 Q1799.8 1540.43 1804.38 1535.8 Q1808.99 1531.15 1810.17 1529.81 Q1812.41 1527.28 1813.29 1525.55 Q1814.2 1523.79 1814.2 1522.1 Q1814.2 1519.34 1812.25 1517.61 Q1810.33 1515.87 1807.23 1515.87 Q1805.03 1515.87 1802.58 1516.63 Q1800.15 1517.4 1797.37 1518.95 L1797.37 1514.23 Q1800.19 1513.09 1802.65 1512.51 Q1805.1 1511.93 1807.14 1511.93 Q1812.51 1511.93 1815.7 1514.62 Q1818.9 1517.31 1818.9 1521.8 Q1818.9 1523.93 1818.09 1525.85 Q1817.3 1527.74 1815.19 1530.34 Q1814.61 1531.01 1811.51 1534.23 Q1808.41 1537.42 1802.76 1543.18 Z\" fill=\"#000000\" fill-rule=\"evenodd\" fill-opacity=\"1\" /><polyline clip-path=\"url(#clip342)\" style=\"stroke:#000000; stroke-width:2; stroke-opacity:0.1; fill:none\" points=\"\n",
       "  530.515,1324.84 1969.72,1324.84 \n",
       "  \"/>\n",
       "<polyline clip-path=\"url(#clip342)\" style=\"stroke:#000000; stroke-width:2; stroke-opacity:0.1; fill:none\" points=\"\n",
       "  530.515,1045.84 1969.72,1045.84 \n",
       "  \"/>\n",
       "<polyline clip-path=\"url(#clip342)\" style=\"stroke:#000000; stroke-width:2; stroke-opacity:0.1; fill:none\" points=\"\n",
       "  530.515,766.846 1969.72,766.846 \n",
       "  \"/>\n",
       "<polyline clip-path=\"url(#clip342)\" style=\"stroke:#000000; stroke-width:2; stroke-opacity:0.1; fill:none\" points=\"\n",
       "  530.515,487.85 1969.72,487.85 \n",
       "  \"/>\n",
       "<polyline clip-path=\"url(#clip342)\" style=\"stroke:#000000; stroke-width:2; stroke-opacity:0.1; fill:none\" points=\"\n",
       "  530.515,208.854 1969.72,208.854 \n",
       "  \"/>\n",
       "<polyline clip-path=\"url(#clip340)\" style=\"stroke:#000000; stroke-width:4; stroke-opacity:1; fill:none\" points=\"\n",
       "  530.515,1486.45 530.515,47.2441 \n",
       "  \"/>\n",
       "<polyline clip-path=\"url(#clip340)\" style=\"stroke:#000000; stroke-width:4; stroke-opacity:1; fill:none\" points=\"\n",
       "  530.515,1324.84 547.785,1324.84 \n",
       "  \"/>\n",
       "<polyline clip-path=\"url(#clip340)\" style=\"stroke:#000000; stroke-width:4; stroke-opacity:1; fill:none\" points=\"\n",
       "  530.515,1045.84 547.785,1045.84 \n",
       "  \"/>\n",
       "<polyline clip-path=\"url(#clip340)\" style=\"stroke:#000000; stroke-width:4; stroke-opacity:1; fill:none\" points=\"\n",
       "  530.515,766.846 547.785,766.846 \n",
       "  \"/>\n",
       "<polyline clip-path=\"url(#clip340)\" style=\"stroke:#000000; stroke-width:4; stroke-opacity:1; fill:none\" points=\"\n",
       "  530.515,487.85 547.785,487.85 \n",
       "  \"/>\n",
       "<polyline clip-path=\"url(#clip340)\" style=\"stroke:#000000; stroke-width:4; stroke-opacity:1; fill:none\" points=\"\n",
       "  530.515,208.854 547.785,208.854 \n",
       "  \"/>\n",
       "<path clip-path=\"url(#clip340)\" d=\"M 0 0 M434.4 1325.29 L464.075 1325.29 L464.075 1329.22 L434.4 1329.22 L434.4 1325.29 Z\" fill=\"#000000\" fill-rule=\"evenodd\" fill-opacity=\"1\" /><path clip-path=\"url(#clip340)\" d=\"M 0 0 M478.196 1338.18 L494.515 1338.18 L494.515 1342.12 L472.571 1342.12 L472.571 1338.18 Q475.233 1335.43 479.816 1330.8 Q484.422 1326.15 485.603 1324.8 Q487.848 1322.28 488.728 1320.54 Q489.631 1318.78 489.631 1317.1 Q489.631 1314.34 487.686 1312.6 Q485.765 1310.87 482.663 1310.87 Q480.464 1310.87 478.01 1311.63 Q475.58 1312.4 472.802 1313.95 L472.802 1309.22 Q475.626 1308.09 478.08 1307.51 Q480.534 1306.93 482.571 1306.93 Q487.941 1306.93 491.135 1309.62 Q494.33 1312.3 494.33 1316.79 Q494.33 1318.92 493.52 1320.85 Q492.733 1322.74 490.626 1325.34 Q490.047 1326.01 486.946 1329.22 Q483.844 1332.42 478.196 1338.18 Z\" fill=\"#000000\" fill-rule=\"evenodd\" fill-opacity=\"1\" /><path clip-path=\"url(#clip340)\" d=\"M 0 0 M434.029 1046.29 L463.705 1046.29 L463.705 1050.23 L434.029 1050.23 L434.029 1046.29 Z\" fill=\"#000000\" fill-rule=\"evenodd\" fill-opacity=\"1\" /><path clip-path=\"url(#clip340)\" d=\"M 0 0 M474.608 1059.19 L482.247 1059.19 L482.247 1032.82 L473.936 1034.49 L473.936 1030.23 L482.2 1028.56 L486.876 1028.56 L486.876 1059.19 L494.515 1059.19 L494.515 1063.12 L474.608 1063.12 L474.608 1059.19 Z\" fill=\"#000000\" fill-rule=\"evenodd\" fill-opacity=\"1\" /><path clip-path=\"url(#clip340)\" d=\"M 0 0 M482.571 752.645 Q478.96 752.645 477.131 756.209 Q475.325 759.751 475.325 766.881 Q475.325 773.987 477.131 777.552 Q478.96 781.094 482.571 781.094 Q486.205 781.094 488.01 777.552 Q489.839 773.987 489.839 766.881 Q489.839 759.751 488.01 756.209 Q486.205 752.645 482.571 752.645 M482.571 748.941 Q488.381 748.941 491.436 753.547 Q494.515 758.131 494.515 766.881 Q494.515 775.608 491.436 780.214 Q488.381 784.797 482.571 784.797 Q476.76 784.797 473.682 780.214 Q470.626 775.608 470.626 766.881 Q470.626 758.131 473.682 753.547 Q476.76 748.941 482.571 748.941 Z\" fill=\"#000000\" fill-rule=\"evenodd\" fill-opacity=\"1\" /><path clip-path=\"url(#clip340)\" d=\"M 0 0 M474.608 501.195 L482.247 501.195 L482.247 474.829 L473.936 476.496 L473.936 472.237 L482.2 470.57 L486.876 470.57 L486.876 501.195 L494.515 501.195 L494.515 505.13 L474.608 505.13 L474.608 501.195 Z\" fill=\"#000000\" fill-rule=\"evenodd\" fill-opacity=\"1\" /><path clip-path=\"url(#clip340)\" d=\"M 0 0 M478.196 222.199 L494.515 222.199 L494.515 226.134 L472.571 226.134 L472.571 222.199 Q475.233 219.444 479.816 214.814 Q484.422 210.162 485.603 208.819 Q487.848 206.296 488.728 204.56 Q489.631 202.801 489.631 201.111 Q489.631 198.356 487.686 196.62 Q485.765 194.884 482.663 194.884 Q480.464 194.884 478.01 195.648 Q475.58 196.412 472.802 197.963 L472.802 193.24 Q475.626 192.106 478.08 191.527 Q480.534 190.949 482.571 190.949 Q487.941 190.949 491.135 193.634 Q494.33 196.319 494.33 200.81 Q494.33 202.939 493.52 204.861 Q492.733 206.759 490.626 209.351 Q490.047 210.023 486.946 213.24 Q483.844 216.435 478.196 222.199 Z\" fill=\"#000000\" fill-rule=\"evenodd\" fill-opacity=\"1\" /><polyline clip-path=\"url(#clip342)\" style=\"stroke:#009af9; stroke-width:4; stroke-opacity:1; fill:none\" points=\"\n",
       "  1328.37,766.846 1321.56,724.278 1304.03,687.712 1280.93,658.822 1255.78,636.583 1230.33,619.512 1205.37,606.392 1181.24,596.329 1158.08,588.679 1135.91,582.971 \n",
       "  1114.72,578.856 1094.49,576.068 1075.16,574.402 1056.71,573.696 1039.09,573.819 1022.25,574.665 1006.17,576.147 990.807,578.192 976.132,580.739 962.117,583.734 \n",
       "  948.736,587.132 935.965,590.894 923.783,594.987 912.17,599.38 901.108,604.046 890.581,608.961 880.573,614.105 871.071,619.457 862.062,625.002 853.535,630.723 \n",
       "  845.478,636.605 837.882,642.635 830.738,648.802 824.037,655.094 817.773,661.5 811.938,668.011 806.526,674.618 801.531,681.311 796.948,688.082 792.773,694.925 \n",
       "  789.001,701.831 785.628,708.793 782.652,715.805 780.068,722.86 777.876,729.951 776.072,737.073 774.655,744.219 773.624,751.383 772.978,758.56 772.716,765.744 \n",
       "  772.837,772.928 773.343,780.108 774.233,787.277 775.508,794.429 777.169,801.559 779.219,808.66 781.658,815.727 784.49,822.753 787.716,829.731 791.341,836.655 \n",
       "  795.367,843.518 799.799,850.313 804.641,857.032 809.898,863.666 815.575,870.208 821.679,876.649 828.217,882.978 835.195,889.186 842.621,895.262 850.504,901.194 \n",
       "  858.854,906.969 867.681,912.573 876.996,917.991 886.812,923.206 897.141,928.2 907.998,932.952 919.399,937.44 931.362,941.638 943.906,945.518 957.051,949.046 \n",
       "  970.82,952.186 985.237,954.895 1000.33,957.123 1016.13,958.813 1032.67,959.896 1049.98,960.291 1068.11,959.9 1087.08,958.602 1106.95,956.249 1127.76,952.653 \n",
       "  1149.54,947.576 1172.31,940.703 1196.06,931.617 1220.7,919.75 1246,904.314 1271.38,884.226 1295.55,858.078 1315.77,824.503 1327.33,783.775 1325.75,740.353 \n",
       "  \n",
       "  \"/>\n",
       "<path clip-path=\"url(#clip340)\" d=\"\n",
       "M1598.75 216.178 L1896.21 216.178 L1896.21 95.2176 L1598.75 95.2176  Z\n",
       "  \" fill=\"#ffffff\" fill-rule=\"evenodd\" fill-opacity=\"1\"/>\n",
       "<polyline clip-path=\"url(#clip340)\" style=\"stroke:#000000; stroke-width:4; stroke-opacity:1; fill:none\" points=\"\n",
       "  1598.75,216.178 1896.21,216.178 1896.21,95.2176 1598.75,95.2176 1598.75,216.178 \n",
       "  \"/>\n",
       "<polyline clip-path=\"url(#clip340)\" style=\"stroke:#009af9; stroke-width:4; stroke-opacity:1; fill:none\" points=\"\n",
       "  1623.25,155.698 1770.27,155.698 \n",
       "  \"/>\n",
       "<path clip-path=\"url(#clip340)\" d=\"M 0 0 M1808.62 175.385 Q1806.81 180.015 1805.1 181.427 Q1803.38 182.839 1800.51 182.839 L1797.11 182.839 L1797.11 179.274 L1799.61 179.274 Q1801.37 179.274 1802.34 178.44 Q1803.31 177.607 1804.5 174.505 L1805.26 172.561 L1794.77 147.052 L1799.29 147.052 L1807.39 167.329 L1815.49 147.052 L1820 147.052 L1808.62 175.385 Z\" fill=\"#000000\" fill-rule=\"evenodd\" fill-opacity=\"1\" /><path clip-path=\"url(#clip340)\" d=\"M 0 0 M1827.3 169.042 L1834.93 169.042 L1834.93 142.677 L1826.62 144.343 L1826.62 140.084 L1834.89 138.418 L1839.56 138.418 L1839.56 169.042 L1847.2 169.042 L1847.2 172.978 L1827.3 172.978 L1827.3 169.042 Z\" fill=\"#000000\" fill-rule=\"evenodd\" fill-opacity=\"1\" /></svg>\n"
      ]
     },
     "execution_count": 11,
     "metadata": {},
     "output_type": "execute_result"
    }
   ],
   "source": [
    "# plot(t, energy)\n",
    "plot_orbit(transfer_orbit)"
   ]
  },
  {
   "cell_type": "markdown",
   "metadata": {},
   "source": [
    "## Constraints"
   ]
  },
  {
   "cell_type": "markdown",
   "metadata": {},
   "source": [
    "$ c = [c_{init}, c_{terminal}, c_{dynamics}, c_{thurst}] $"
   ]
  },
  {
   "cell_type": "code",
   "execution_count": 12,
   "metadata": {},
   "outputs": [
    {
     "data": {
      "text/plain": [
       "unpackZ (generic function with 1 method)"
      ]
     },
     "execution_count": 12,
     "metadata": {},
     "output_type": "execute_result"
    }
   ],
   "source": [
    "function unpackZ(N, ztraj)\n",
    "    \"\"\"\n",
    "    Inputs: \n",
    "        ztraj -> Trajectory\n",
    "    \n",
    "    Returns: \n",
    "        xtraj -> state trajectory (Nx, T)\n",
    "        utraj -> control trajectory (Nu, T-1)\n",
    "    \"\"\"\n",
    "    Nt = N\n",
    "    z = reshape(ztraj[1:(end-Nx)],Nx+Nu,Nt-1)\n",
    "    xtraj = hcat(z[1:Nx,:], ztraj[end-(Nx-1):end])\n",
    "    utraj = z[(Nx+1):(Nx+Nu),:]\n",
    "    \n",
    "    return xtraj, utraj\n",
    "end"
   ]
  },
  {
   "cell_type": "code",
   "execution_count": 13,
   "metadata": {},
   "outputs": [
    {
     "data": {
      "text/plain": [
       "dynamics_constraints! (generic function with 1 method)"
      ]
     },
     "execution_count": 13,
     "metadata": {},
     "output_type": "execute_result"
    }
   ],
   "source": [
    "function dynamics_constraints!(nlp, c, ztraj)\n",
    "    \"\"\"\n",
    "    Inputs: \n",
    "        c -> Constraint Vector: shape = \n",
    "        ztraj -> Current trajectory: shape ((Nx+Nu)*T, 1)\n",
    "    \n",
    "    Returns: \n",
    "        Nothing\n",
    "    \"\"\"\n",
    "    h = nlp.h # dt? \n",
    "    X, U = unpackZ(nlp.N, ztraj)\n",
    "    N = nlp.N\n",
    "\n",
    "    d = reshape(view(c, nlp.idx_ineq[3]), Nx,(N-1))\n",
    "    \n",
    "    for k = 1:N-1\n",
    "        d[:, k] .= dynamics_rk4(X[:,k], U[:,k], h) - X[:,k+1]\n",
    "    end\n",
    "    \n",
    "    return d\n",
    "end\n",
    "    "
   ]
  },
  {
   "cell_type": "code",
   "execution_count": 14,
   "metadata": {},
   "outputs": [
    {
     "data": {
      "text/plain": [
       "thrust_constraints! (generic function with 1 method)"
      ]
     },
     "execution_count": 14,
     "metadata": {},
     "output_type": "execute_result"
    }
   ],
   "source": [
    "function thrust_constraints!(nlp, c, ztraj)\n",
    "    \"\"\"\n",
    "    Inputs: \n",
    "        c -> Constraint Vector: shape = \n",
    "        ztraj -> Current trajectory: shape ((Nx+Nu)*T, 1)\n",
    "    \n",
    "    Returns: \n",
    "        Nothing\n",
    "    \"\"\"\n",
    "    N = nlp.N\n",
    "    d = reshape(view(c, nlp.idx_ineq[4]), Nu,(N-1))#view(c, nlp.idx_ineq[end])#\n",
    "    X, U = unpackZ(nlp.N, ztraj)\n",
    "    \n",
    "    for k = 1:N-1\n",
    "        d[:,k] .= norm(U[:,k])\n",
    "    end\n",
    "    \n",
    "    return d\n",
    "end"
   ]
  },
  {
   "cell_type": "code",
   "execution_count": 15,
   "metadata": {},
   "outputs": [
    {
     "data": {
      "text/plain": [
       "con! (generic function with 1 method)"
      ]
     },
     "execution_count": 15,
     "metadata": {},
     "output_type": "execute_result"
    }
   ],
   "source": [
    "function con!(nlp, c, Z)\n",
    "    X, U = unpackZ(nlp.N, Z)\n",
    "    c[nlp.idx_ineq[1]] .= X[:,1] - x0 # Initial condition constraint\n",
    "    c[nlp.idx_ineq[2]] .= X[:,end] - xgoal # Final condition constraint\n",
    "    dynamics_constraints!(nlp, c, Z) # Dynamics constraints\n",
    "    thrust_constraints!(nlp, c, Z) # Thrust constraints\n",
    "end"
   ]
  },
  {
   "cell_type": "markdown",
   "metadata": {},
   "source": [
    "## Part (a): Implement DIRCOL \n",
    "Implement DIRCOL by completing the provided methods. "
   ]
  },
  {
   "cell_type": "code",
   "execution_count": 16,
   "metadata": {},
   "outputs": [
    {
     "data": {
      "text/plain": [
       "solve (generic function with 1 method)"
      ]
     },
     "execution_count": 16,
     "metadata": {},
     "output_type": "execute_result"
    }
   ],
   "source": [
    "\"\"\"\n",
    "    Problem{n,m,L}\n",
    "\n",
    "Describes a trajectory optimization problem with `n` states, `m` controls, and \n",
    "a model of type `L`. \n",
    "\n",
    "# Constructor\n",
    "    Problem(model::L, obj::Vector{<:QuadraticCost{n,m}}, tf, x0, xf) where {n,m,L}\n",
    "\n",
    "where `tf` is the final time, and `x0` is the initial state. \n",
    "\"\"\"\n",
    "# struct Problem{n,m,L}\n",
    "    # TODO \n",
    "# end\n",
    "# Base.size(prob::Problem{n,m}) where {n,m} = (n,m,prob.T)\n",
    "\n",
    "struct ProblemMOI <: MOI.AbstractNLPEvaluator\n",
    "    n_nlp::Int # num_primals\n",
    "    m_nlp::Int # num_duals\n",
    "    N::Int # num_knots\n",
    "    h::Float64\n",
    "    idx_ineq # list of constraint ranges\n",
    "    obj_grad::Bool \n",
    "    con_jac::Bool\n",
    "    sparsity_jac\n",
    "    sparsity_hess\n",
    "    primal_bounds\n",
    "    constraint_bounds\n",
    "    hessian_lagrangian::Bool\n",
    "end\n",
    "\n",
    "function ProblemMOI(n_nlp, N, h;\n",
    "        idx_ineq=get_cinds(Nx, N),\n",
    "        m_nlp = idx_ineq[end][end],\n",
    "        obj_grad=true,\n",
    "        con_jac=true,\n",
    "        sparsity_jac=sparsity_jacobian(n_nlp,m_nlp),\n",
    "        sparsity_hess=sparsity_hessian(n_nlp,m_nlp),\n",
    "        primal_bounds=primal_bounds(n_nlp),\n",
    "        constraint_bounds=constraint_bounds(m_nlp,idx_ineq=idx_ineq),\n",
    "        hessian_lagrangian=false)\n",
    "\n",
    "    ProblemMOI(\n",
    "        n_nlp,\n",
    "        m_nlp,\n",
    "        N, # Nt\n",
    "        h, \n",
    "        idx_ineq, # Indexes\n",
    "        obj_grad, \n",
    "        con_jac,\n",
    "        sparsity_jac,\n",
    "        sparsity_hess,\n",
    "        primal_bounds,\n",
    "        constraint_bounds,\n",
    "        hessian_lagrangian)\n",
    "end\n",
    "\n",
    "function primal_bounds(n)\n",
    "    x_l = -Inf*ones(n)\n",
    "    x_u = Inf*ones(n)\n",
    "    return x_l, x_u\n",
    "end\n",
    "\n",
    "function get_cinds(n, N)\n",
    "    c_init_inds = 1:Nx\n",
    "    c_term_inds = (c_init_inds[end]+1):(c_init_inds[end]+Nx)\n",
    "    c_dyn_inds = (c_term_inds[end]+1):(c_term_inds[end]+((Nx)*(N-1)))\n",
    "    c_thrust_inds = (c_dyn_inds[end]+1):(c_dyn_inds[end]+(Nu*(N-1)))\n",
    "    \n",
    "    return [c_init_inds, c_term_inds, c_dyn_inds, c_thrust_inds]\n",
    "end\n",
    "\n",
    "function constraint_bounds(m_nlp; idx_ineq)\n",
    "    lb = zeros(m_nlp) \n",
    "    lb[idx_ineq[1]] .= 0 ##x0\n",
    "    lb[idx_ineq[2]] .= 0 #xf\n",
    "    lb[idx_ineq[3]] .= 0\n",
    "    lb[idx_ineq[4]] .= 0 # Might have a minimum thrust requirment\n",
    "\n",
    "    ub = zeros(m_nlp) #fill(-Inf,m_nlp)\n",
    "    ub[idx_ineq[1]] .= 0 #x0\n",
    "    ub[idx_ineq[2]] .= 0 #xf\n",
    "    ub[idx_ineq[3]] .= 0\n",
    "    ub[idx_ineq[4]] .= Inf\n",
    "\n",
    "    return lb, ub\n",
    "end\n",
    "\n",
    "function row_col!(row,col,r,c)\n",
    "    println(\"starting row_col\")\n",
    "    for cc in c\n",
    "        for rr in r\n",
    "            push!(row,convert(Int,rr))\n",
    "            push!(col,convert(Int,cc))\n",
    "        end\n",
    "    end\n",
    "    println(\"Finished row_col\")\n",
    "    return row, col\n",
    "end\n",
    "\n",
    "function sparsity_jacobian(n,m)\n",
    "\n",
    "    row = []\n",
    "    col = []\n",
    "\n",
    "    r = 1:m\n",
    "    c = 1:n\n",
    "\n",
    "    row_col!(row,col,r,c)\n",
    "\n",
    "    return collect(zip(row,col))\n",
    "end\n",
    "\n",
    "function sparsity_hessian(n,m)\n",
    "\n",
    "    row = []\n",
    "    col = []\n",
    "\n",
    "    r = 1:m\n",
    "    c = 1:n\n",
    "\n",
    "    row_col!(row,col,r,c)\n",
    "\n",
    "    return collect(zip(row,col))\n",
    "end\n",
    "\n",
    "function MOI.eval_objective(prob::MOI.AbstractNLPEvaluator, x)\n",
    "    cost(prob, x)\n",
    "end\n",
    "\n",
    "function MOI.eval_objective_gradient(prob::MOI.AbstractNLPEvaluator, grad_f, x)\n",
    "    ForwardDiff.gradient!(grad_f, x -> cost(prob, x), x)\n",
    "    return nothing\n",
    "end\n",
    "\n",
    "function MOI.eval_constraint(prob::MOI.AbstractNLPEvaluator,g,x)\n",
    "    con!(prob, g, x) # TODO: Implement con! (Mitch)\n",
    "    return nothing\n",
    "end\n",
    "\n",
    "function MOI.eval_constraint_jacobian(prob::MOI.AbstractNLPEvaluator, jac, x)\n",
    "    ForwardDiff.jacobian!(reshape(jac,prob.m_nlp,prob.n_nlp), (c,x) -> con!(prob, c, x), zeros(prob.m_nlp), x)\n",
    "    return nothing\n",
    "end\n",
    "\n",
    "function MOI.features_available(prob::MOI.AbstractNLPEvaluator)\n",
    "    return [:Grad, :Jac]\n",
    "end\n",
    "\n",
    "# TODO: Confirm meaning of these functions\n",
    "MOI.initialize(prob::MOI.AbstractNLPEvaluator, features) = nothing\n",
    "MOI.jacobian_structure(prob::MOI.AbstractNLPEvaluator) = prob.sparsity_jac #\n",
    "\n",
    "\n",
    "\n",
    "function solve(x0,prob::MOI.AbstractNLPEvaluator;\n",
    "        tol=1.0e-6,c_tol=1.0e-6,max_iter=1000)\n",
    "    x_l, x_u = prob.primal_bounds\n",
    "    c_l, c_u = prob.constraint_bounds\n",
    "\n",
    "    nlp_bounds = MOI.NLPBoundsPair.(c_l,c_u)\n",
    "    block_data = MOI.NLPBlockData(nlp_bounds,prob,true)\n",
    "\n",
    "    solver = Ipopt.Optimizer()\n",
    "    solver.options[\"max_iter\"] = max_iter\n",
    "    solver.options[\"tol\"] = tol\n",
    "    solver.options[\"constr_viol_tol\"] = c_tol\n",
    "\n",
    "    x = MOI.add_variables(solver, prob.n_nlp)\n",
    "\n",
    "    for i = 1:prob.n_nlp\n",
    "        xi = MOI.SingleVariable(x[i])\n",
    "        MOI.add_constraint(solver, xi, MOI.LessThan(x_u[i]))\n",
    "        MOI.add_constraint(solver, xi, MOI.GreaterThan(x_l[i]))\n",
    "        MOI.set(solver, MOI.VariablePrimalStart(), x[i], x0[i])\n",
    "    end\n",
    "\n",
    "    # Solve the problem\n",
    "    MOI.set(solver, MOI.NLPBlock(), block_data)\n",
    "    MOI.set(solver, MOI.ObjectiveSense(), MOI.MIN_SENSE)\n",
    "    MOI.optimize!(solver)\n",
    "\n",
    "    # Get the solution\n",
    "    res = MOI.get(solver, MOI.VariablePrimal(), x)\n",
    "\n",
    "    return res\n",
    "end"
   ]
  },
  {
   "cell_type": "code",
   "execution_count": null,
   "metadata": {},
   "outputs": [],
   "source": [
    "knots = 100\n",
    "# t = range(0, orbit.period, length=knots) \n",
    "# h = t[2]-t[1]\n",
    "function impulse_ref_traj(init_orbit::Orbit,final_orbit::Orbit) #knots,Nx,Nu\n",
    "    time = knots #Int(ceil(init_orbit.period/2*knots/2+final_orbit.period*knots))\n",
    "    traj = zeros(time-1,Nx+Nu)\n",
    "    x = copy(init_orbit.x0)\n",
    "    u = zeros(Nu)\n",
    "    traj[1,:] .= vcat(x,u)\n",
    "    h = init_orbit.period/(knots)\n",
    "    print(h)\n",
    "    for i in 2:size(traj)[1]\n",
    "        integrator!(x, u, h)\n",
    "        if (i == Int(ceil(init_orbit.period/2*knots)))\n",
    "            x = final_orbit.x0 .* -1\n",
    "            h = final_orbit.period/(knots)\n",
    "        end\n",
    "        traj[i,:] .= vcat(x,u)\n",
    "    end\n",
    "    traj = reshape(traj',((time-1)*(Nx+Nu),1))\n",
    "    traj = vcat(traj,final_orbit.x0)\n",
    "    return traj\n",
    "end\n",
    "z = impulse_ref_traj(transfer_orbit,goal_orbit)\n",
    "X,U = unpackZ(knots, z)\n",
    "transition = Int(ceil(transfer_orbit.period*knots/2))\n",
    "# display(X[:,transition-5:transition+5]')\n",
    "plot(X[1, :], X[2, :], aspect_ratio=:equal, lims=(-semiMajorAxis_goal*1.5,semiMajorAxis_goal*1.5), title = \"Reference Trajectory\", label = \"Reference\", lw = 3)\n",
    "xlabel!(\"Orbital Units\")\n",
    "ylabel!(\"Orbital Units\")\n",
    "plot!([goal_orbit.x0[1]], [goal_orbit.x0[2]], markershape=:xcross, markersize=5, label=\"Goal State\")\n",
    "plot!([0], [0], lw=10, markershape=:o, label=\"Planet Earth\")"
   ]
  },
  {
   "cell_type": "code",
   "execution_count": 17,
   "metadata": {},
   "outputs": [
    {
     "name": "stdout",
     "output_type": "stream",
     "text": [
      "1.9456457943823449"
     ]
    },
    {
     "data": {
      "image/svg+xml": [
       "<?xml version=\"1.0\" encoding=\"utf-8\"?>\n",
       "<svg xmlns=\"http://www.w3.org/2000/svg\" xmlns:xlink=\"http://www.w3.org/1999/xlink\" width=\"600\" height=\"400\" viewBox=\"0 0 2400 1600\">\n",
       "<defs>\n",
       "  <clipPath id=\"clip380\">\n",
       "    <rect x=\"0\" y=\"0\" width=\"2400\" height=\"1600\"/>\n",
       "  </clipPath>\n",
       "</defs>\n",
       "<path clip-path=\"url(#clip380)\" d=\"\n",
       "M0 1600 L2400 1600 L2400 0 L0 0  Z\n",
       "  \" fill=\"#ffffff\" fill-rule=\"evenodd\" fill-opacity=\"1\"/>\n",
       "<defs>\n",
       "  <clipPath id=\"clip381\">\n",
       "    <rect x=\"480\" y=\"0\" width=\"1681\" height=\"1600\"/>\n",
       "  </clipPath>\n",
       "</defs>\n",
       "<path clip-path=\"url(#clip380)\" d=\"\n",
       "M631.897 1423.18 L1931.6 1423.18 L1931.6 123.472 L631.897 123.472  Z\n",
       "  \" fill=\"#ffffff\" fill-rule=\"evenodd\" fill-opacity=\"1\"/>\n",
       "<defs>\n",
       "  <clipPath id=\"clip382\">\n",
       "    <rect x=\"631\" y=\"123\" width=\"1301\" height=\"1301\"/>\n",
       "  </clipPath>\n",
       "</defs>\n",
       "<polyline clip-path=\"url(#clip382)\" style=\"stroke:#000000; stroke-width:2; stroke-opacity:0.1; fill:none\" points=\"\n",
       "  777.843,1423.18 777.843,123.472 \n",
       "  \"/>\n",
       "<polyline clip-path=\"url(#clip382)\" style=\"stroke:#000000; stroke-width:2; stroke-opacity:0.1; fill:none\" points=\"\n",
       "  1029.8,1423.18 1029.8,123.472 \n",
       "  \"/>\n",
       "<polyline clip-path=\"url(#clip382)\" style=\"stroke:#000000; stroke-width:2; stroke-opacity:0.1; fill:none\" points=\"\n",
       "  1281.75,1423.18 1281.75,123.472 \n",
       "  \"/>\n",
       "<polyline clip-path=\"url(#clip382)\" style=\"stroke:#000000; stroke-width:2; stroke-opacity:0.1; fill:none\" points=\"\n",
       "  1533.71,1423.18 1533.71,123.472 \n",
       "  \"/>\n",
       "<polyline clip-path=\"url(#clip382)\" style=\"stroke:#000000; stroke-width:2; stroke-opacity:0.1; fill:none\" points=\"\n",
       "  1785.66,1423.18 1785.66,123.472 \n",
       "  \"/>\n",
       "<polyline clip-path=\"url(#clip380)\" style=\"stroke:#000000; stroke-width:4; stroke-opacity:1; fill:none\" points=\"\n",
       "  631.897,1423.18 1931.6,1423.18 \n",
       "  \"/>\n",
       "<polyline clip-path=\"url(#clip380)\" style=\"stroke:#000000; stroke-width:4; stroke-opacity:1; fill:none\" points=\"\n",
       "  777.843,1423.18 777.843,1407.58 \n",
       "  \"/>\n",
       "<polyline clip-path=\"url(#clip380)\" style=\"stroke:#000000; stroke-width:4; stroke-opacity:1; fill:none\" points=\"\n",
       "  1029.8,1423.18 1029.8,1407.58 \n",
       "  \"/>\n",
       "<polyline clip-path=\"url(#clip380)\" style=\"stroke:#000000; stroke-width:4; stroke-opacity:1; fill:none\" points=\"\n",
       "  1281.75,1423.18 1281.75,1407.58 \n",
       "  \"/>\n",
       "<polyline clip-path=\"url(#clip380)\" style=\"stroke:#000000; stroke-width:4; stroke-opacity:1; fill:none\" points=\"\n",
       "  1533.71,1423.18 1533.71,1407.58 \n",
       "  \"/>\n",
       "<polyline clip-path=\"url(#clip380)\" style=\"stroke:#000000; stroke-width:4; stroke-opacity:1; fill:none\" points=\"\n",
       "  1785.66,1423.18 1785.66,1407.58 \n",
       "  \"/>\n",
       "<path clip-path=\"url(#clip380)\" d=\"M 0 0 M747.785 1467.02 L777.461 1467.02 L777.461 1470.96 L747.785 1470.96 L747.785 1467.02 Z\" fill=\"#000000\" fill-rule=\"evenodd\" fill-opacity=\"1\" /><path clip-path=\"url(#clip380)\" d=\"M 0 0 M791.581 1479.92 L807.9 1479.92 L807.9 1483.85 L785.956 1483.85 L785.956 1479.92 Q788.618 1477.16 793.201 1472.53 Q797.808 1467.88 798.988 1466.54 Q801.234 1464.01 802.113 1462.28 Q803.016 1460.52 803.016 1458.83 Q803.016 1456.07 801.072 1454.34 Q799.15 1452.6 796.048 1452.6 Q793.849 1452.6 791.396 1453.37 Q788.965 1454.13 786.187 1455.68 L786.187 1450.96 Q789.011 1449.82 791.465 1449.25 Q793.919 1448.67 795.956 1448.67 Q801.326 1448.67 804.521 1451.35 Q807.715 1454.04 807.715 1458.53 Q807.715 1460.66 806.905 1462.58 Q806.118 1464.48 804.011 1467.07 Q803.433 1467.74 800.331 1470.96 Q797.229 1474.15 791.581 1479.92 Z\" fill=\"#000000\" fill-rule=\"evenodd\" fill-opacity=\"1\" /><path clip-path=\"url(#clip380)\" d=\"M 0 0 M999.554 1467.02 L1029.23 1467.02 L1029.23 1470.96 L999.554 1470.96 L999.554 1467.02 Z\" fill=\"#000000\" fill-rule=\"evenodd\" fill-opacity=\"1\" /><path clip-path=\"url(#clip380)\" d=\"M 0 0 M1040.13 1479.92 L1047.77 1479.92 L1047.77 1453.55 L1039.46 1455.22 L1039.46 1450.96 L1047.72 1449.29 L1052.4 1449.29 L1052.4 1479.92 L1060.04 1479.92 L1060.04 1483.85 L1040.13 1483.85 L1040.13 1479.92 Z\" fill=\"#000000\" fill-rule=\"evenodd\" fill-opacity=\"1\" /><path clip-path=\"url(#clip380)\" d=\"M 0 0 M1281.75 1452.37 Q1278.14 1452.37 1276.31 1455.94 Q1274.51 1459.48 1274.51 1466.61 Q1274.51 1473.71 1276.31 1477.28 Q1278.14 1480.82 1281.75 1480.82 Q1285.39 1480.82 1287.19 1477.28 Q1289.02 1473.71 1289.02 1466.61 Q1289.02 1459.48 1287.19 1455.94 Q1285.39 1452.37 1281.75 1452.37 M1281.75 1448.67 Q1287.56 1448.67 1290.62 1453.27 Q1293.7 1457.86 1293.7 1466.61 Q1293.7 1475.33 1290.62 1479.94 Q1287.56 1484.52 1281.75 1484.52 Q1275.94 1484.52 1272.86 1479.94 Q1269.81 1475.33 1269.81 1466.61 Q1269.81 1457.86 1272.86 1453.27 Q1275.94 1448.67 1281.75 1448.67 Z\" fill=\"#000000\" fill-rule=\"evenodd\" fill-opacity=\"1\" /><path clip-path=\"url(#clip380)\" d=\"M 0 0 M1524.09 1479.92 L1531.73 1479.92 L1531.73 1453.55 L1523.42 1455.22 L1523.42 1450.96 L1531.68 1449.29 L1536.36 1449.29 L1536.36 1479.92 L1543.99 1479.92 L1543.99 1483.85 L1524.09 1483.85 L1524.09 1479.92 Z\" fill=\"#000000\" fill-rule=\"evenodd\" fill-opacity=\"1\" /><path clip-path=\"url(#clip380)\" d=\"M 0 0 M1780.31 1479.92 L1796.63 1479.92 L1796.63 1483.85 L1774.69 1483.85 L1774.69 1479.92 Q1777.35 1477.16 1781.93 1472.53 Q1786.54 1467.88 1787.72 1466.54 Q1789.96 1464.01 1790.84 1462.28 Q1791.75 1460.52 1791.75 1458.83 Q1791.75 1456.07 1789.8 1454.34 Q1787.88 1452.6 1784.78 1452.6 Q1782.58 1452.6 1780.13 1453.37 Q1777.7 1454.13 1774.92 1455.68 L1774.92 1450.96 Q1777.74 1449.82 1780.2 1449.25 Q1782.65 1448.67 1784.69 1448.67 Q1790.06 1448.67 1793.25 1451.35 Q1796.45 1454.04 1796.45 1458.53 Q1796.45 1460.66 1795.64 1462.58 Q1794.85 1464.48 1792.74 1467.07 Q1792.16 1467.74 1789.06 1470.96 Q1785.96 1474.15 1780.31 1479.92 Z\" fill=\"#000000\" fill-rule=\"evenodd\" fill-opacity=\"1\" /><path clip-path=\"url(#clip380)\" d=\"M 0 0 M1102.91 1524.88 Q1095.9 1524.88 1091.77 1530.1 Q1087.66 1535.32 1087.66 1544.33 Q1087.66 1553.31 1091.77 1558.53 Q1095.9 1563.75 1102.91 1563.75 Q1109.91 1563.75 1113.98 1558.53 Q1118.09 1553.31 1118.09 1544.33 Q1118.09 1535.32 1113.98 1530.1 Q1109.91 1524.88 1102.91 1524.88 M1102.91 1519.66 Q1112.9 1519.66 1118.88 1526.38 Q1124.87 1533.06 1124.87 1544.33 Q1124.87 1555.57 1118.88 1562.28 Q1112.9 1568.97 1102.91 1568.97 Q1092.88 1568.97 1086.86 1562.28 Q1080.88 1555.6 1080.88 1544.33 Q1080.88 1533.06 1086.86 1526.38 Q1092.88 1519.66 1102.91 1519.66 Z\" fill=\"#000000\" fill-rule=\"evenodd\" fill-opacity=\"1\" /><path clip-path=\"url(#clip380)\" d=\"M 0 0 M1155.33 1537.87 Q1154.34 1537.3 1153.16 1537.04 Q1152.02 1536.76 1150.62 1536.76 Q1145.65 1536.76 1142.98 1540 Q1140.34 1543.22 1140.34 1549.27 L1140.34 1568.04 L1134.45 1568.04 L1134.45 1532.4 L1140.34 1532.4 L1140.34 1537.93 Q1142.18 1534.69 1145.14 1533.13 Q1148.1 1531.54 1152.34 1531.54 Q1152.94 1531.54 1153.67 1531.63 Q1154.4 1531.7 1155.3 1531.85 L1155.33 1537.87 Z\" fill=\"#000000\" fill-rule=\"evenodd\" fill-opacity=\"1\" /><path clip-path=\"url(#clip380)\" d=\"M 0 0 M1187.06 1550.25 Q1187.06 1543.79 1184.39 1540.13 Q1181.75 1536.44 1177.1 1536.44 Q1172.45 1536.44 1169.78 1540.13 Q1167.14 1543.79 1167.14 1550.25 Q1167.14 1556.71 1169.78 1560.4 Q1172.45 1564.07 1177.1 1564.07 Q1181.75 1564.07 1184.39 1560.4 Q1187.06 1556.71 1187.06 1550.25 M1167.14 1537.81 Q1168.98 1534.62 1171.78 1533.1 Q1174.62 1531.54 1178.53 1531.54 Q1185.02 1531.54 1189.07 1536.69 Q1193.14 1541.85 1193.14 1550.25 Q1193.14 1558.65 1189.07 1563.81 Q1185.02 1568.97 1178.53 1568.97 Q1174.62 1568.97 1171.78 1567.44 Q1168.98 1565.88 1167.14 1562.7 L1167.14 1568.04 L1161.25 1568.04 L1161.25 1518.52 L1167.14 1518.52 L1167.14 1537.81 Z\" fill=\"#000000\" fill-rule=\"evenodd\" fill-opacity=\"1\" /><path clip-path=\"url(#clip380)\" d=\"M 0 0 M1202.85 1532.4 L1208.7 1532.4 L1208.7 1568.04 L1202.85 1568.04 L1202.85 1532.4 M1202.85 1518.52 L1208.7 1518.52 L1208.7 1525.93 L1202.85 1525.93 L1202.85 1518.52 Z\" fill=\"#000000\" fill-rule=\"evenodd\" fill-opacity=\"1\" /><path clip-path=\"url(#clip380)\" d=\"M 0 0 M1226.75 1522.27 L1226.75 1532.4 L1238.81 1532.4 L1238.81 1536.95 L1226.75 1536.95 L1226.75 1556.3 Q1226.75 1560.66 1227.93 1561.9 Q1229.14 1563.14 1232.8 1563.14 L1238.81 1563.14 L1238.81 1568.04 L1232.8 1568.04 Q1226.02 1568.04 1223.44 1565.53 Q1220.86 1562.98 1220.86 1556.3 L1220.86 1536.95 L1216.57 1536.95 L1216.57 1532.4 L1220.86 1532.4 L1220.86 1522.27 L1226.75 1522.27 Z\" fill=\"#000000\" fill-rule=\"evenodd\" fill-opacity=\"1\" /><path clip-path=\"url(#clip380)\" d=\"M 0 0 M1262.72 1550.12 Q1255.62 1550.12 1252.88 1551.75 Q1250.15 1553.37 1250.15 1557.29 Q1250.15 1560.4 1252.18 1562.25 Q1254.25 1564.07 1257.78 1564.07 Q1262.65 1564.07 1265.58 1560.63 Q1268.54 1557.16 1268.54 1551.43 L1268.54 1550.12 L1262.72 1550.12 M1274.4 1547.71 L1274.4 1568.04 L1268.54 1568.04 L1268.54 1562.63 Q1266.54 1565.88 1263.55 1567.44 Q1260.55 1568.97 1256.22 1568.97 Q1250.75 1568.97 1247.5 1565.91 Q1244.29 1562.82 1244.29 1557.67 Q1244.29 1551.65 1248.3 1548.6 Q1252.34 1545.54 1260.33 1545.54 L1268.54 1545.54 L1268.54 1544.97 Q1268.54 1540.93 1265.87 1538.73 Q1263.23 1536.5 1258.42 1536.5 Q1255.37 1536.5 1252.47 1537.23 Q1249.57 1537.97 1246.9 1539.43 L1246.9 1534.02 Q1250.11 1532.78 1253.14 1532.17 Q1256.16 1531.54 1259.03 1531.54 Q1266.76 1531.54 1270.58 1535.55 Q1274.4 1539.56 1274.4 1547.71 Z\" fill=\"#000000\" fill-rule=\"evenodd\" fill-opacity=\"1\" /><path clip-path=\"url(#clip380)\" d=\"M 0 0 M1286.46 1518.52 L1292.32 1518.52 L1292.32 1568.04 L1286.46 1568.04 L1286.46 1518.52 Z\" fill=\"#000000\" fill-rule=\"evenodd\" fill-opacity=\"1\" /><path clip-path=\"url(#clip380)\" d=\"M 0 0 M1324.81 1520.52 L1331.28 1520.52 L1331.28 1549.39 Q1331.28 1557.03 1334.05 1560.4 Q1336.81 1563.75 1343.02 1563.75 Q1349.2 1563.75 1351.96 1560.4 Q1354.73 1557.03 1354.73 1549.39 L1354.73 1520.52 L1361.19 1520.52 L1361.19 1550.19 Q1361.19 1559.48 1356.58 1564.22 Q1352 1568.97 1343.02 1568.97 Q1334.01 1568.97 1329.4 1564.22 Q1324.81 1559.48 1324.81 1550.19 L1324.81 1520.52 Z\" fill=\"#000000\" fill-rule=\"evenodd\" fill-opacity=\"1\" /><path clip-path=\"url(#clip380)\" d=\"M 0 0 M1402.64 1546.53 L1402.64 1568.04 L1396.78 1568.04 L1396.78 1546.72 Q1396.78 1541.66 1394.81 1539.14 Q1392.83 1536.63 1388.89 1536.63 Q1384.14 1536.63 1381.41 1539.65 Q1378.67 1542.68 1378.67 1547.9 L1378.67 1568.04 L1372.78 1568.04 L1372.78 1532.4 L1378.67 1532.4 L1378.67 1537.93 Q1380.77 1534.72 1383.6 1533.13 Q1386.47 1531.54 1390.19 1531.54 Q1396.33 1531.54 1399.48 1535.36 Q1402.64 1539.14 1402.64 1546.53 Z\" fill=\"#000000\" fill-rule=\"evenodd\" fill-opacity=\"1\" /><path clip-path=\"url(#clip380)\" d=\"M 0 0 M1414.32 1532.4 L1420.17 1532.4 L1420.17 1568.04 L1414.32 1568.04 L1414.32 1532.4 M1414.32 1518.52 L1420.17 1518.52 L1420.17 1525.93 L1414.32 1525.93 L1414.32 1518.52 Z\" fill=\"#000000\" fill-rule=\"evenodd\" fill-opacity=\"1\" /><path clip-path=\"url(#clip380)\" d=\"M 0 0 M1438.22 1522.27 L1438.22 1532.4 L1450.28 1532.4 L1450.28 1536.95 L1438.22 1536.95 L1438.22 1556.3 Q1438.22 1560.66 1439.4 1561.9 Q1440.61 1563.14 1444.27 1563.14 L1450.28 1563.14 L1450.28 1568.04 L1444.27 1568.04 Q1437.49 1568.04 1434.91 1565.53 Q1432.33 1562.98 1432.33 1556.3 L1432.33 1536.95 L1428.03 1536.95 L1428.03 1532.4 L1432.33 1532.4 L1432.33 1522.27 L1438.22 1522.27 Z\" fill=\"#000000\" fill-rule=\"evenodd\" fill-opacity=\"1\" /><path clip-path=\"url(#clip380)\" d=\"M 0 0 M1480.71 1533.45 L1480.71 1538.98 Q1478.23 1537.71 1475.55 1537.07 Q1472.88 1536.44 1470.02 1536.44 Q1465.66 1536.44 1463.46 1537.77 Q1461.3 1539.11 1461.3 1541.79 Q1461.3 1543.82 1462.86 1545 Q1464.41 1546.15 1469.13 1547.2 L1471.13 1547.64 Q1477.37 1548.98 1479.98 1551.43 Q1482.62 1553.85 1482.62 1558.21 Q1482.62 1563.17 1478.67 1566.07 Q1474.76 1568.97 1467.88 1568.97 Q1465.02 1568.97 1461.9 1568.39 Q1458.81 1567.85 1455.38 1566.74 L1455.38 1560.69 Q1458.62 1562.38 1461.77 1563.24 Q1464.92 1564.07 1468.01 1564.07 Q1472.15 1564.07 1474.38 1562.66 Q1476.61 1561.23 1476.61 1558.65 Q1476.61 1556.27 1474.98 1554.99 Q1473.39 1553.72 1467.95 1552.54 L1465.91 1552.07 Q1460.47 1550.92 1458.05 1548.56 Q1455.63 1546.18 1455.63 1542.04 Q1455.63 1537.01 1459.19 1534.27 Q1462.76 1531.54 1469.32 1531.54 Q1472.56 1531.54 1475.43 1532.01 Q1478.29 1532.49 1480.71 1533.45 Z\" fill=\"#000000\" fill-rule=\"evenodd\" fill-opacity=\"1\" /><polyline clip-path=\"url(#clip382)\" style=\"stroke:#000000; stroke-width:2; stroke-opacity:0.1; fill:none\" points=\"\n",
       "  631.897,1277.23 1931.6,1277.23 \n",
       "  \"/>\n",
       "<polyline clip-path=\"url(#clip382)\" style=\"stroke:#000000; stroke-width:2; stroke-opacity:0.1; fill:none\" points=\"\n",
       "  631.897,1025.28 1931.6,1025.28 \n",
       "  \"/>\n",
       "<polyline clip-path=\"url(#clip382)\" style=\"stroke:#000000; stroke-width:2; stroke-opacity:0.1; fill:none\" points=\"\n",
       "  631.897,773.326 1931.6,773.326 \n",
       "  \"/>\n",
       "<polyline clip-path=\"url(#clip382)\" style=\"stroke:#000000; stroke-width:2; stroke-opacity:0.1; fill:none\" points=\"\n",
       "  631.897,521.372 1931.6,521.372 \n",
       "  \"/>\n",
       "<polyline clip-path=\"url(#clip382)\" style=\"stroke:#000000; stroke-width:2; stroke-opacity:0.1; fill:none\" points=\"\n",
       "  631.897,269.418 1931.6,269.418 \n",
       "  \"/>\n",
       "<polyline clip-path=\"url(#clip380)\" style=\"stroke:#000000; stroke-width:4; stroke-opacity:1; fill:none\" points=\"\n",
       "  631.897,1423.18 631.897,123.472 \n",
       "  \"/>\n",
       "<polyline clip-path=\"url(#clip380)\" style=\"stroke:#000000; stroke-width:4; stroke-opacity:1; fill:none\" points=\"\n",
       "  631.897,1277.23 647.494,1277.23 \n",
       "  \"/>\n",
       "<polyline clip-path=\"url(#clip380)\" style=\"stroke:#000000; stroke-width:4; stroke-opacity:1; fill:none\" points=\"\n",
       "  631.897,1025.28 647.494,1025.28 \n",
       "  \"/>\n",
       "<polyline clip-path=\"url(#clip380)\" style=\"stroke:#000000; stroke-width:4; stroke-opacity:1; fill:none\" points=\"\n",
       "  631.897,773.326 647.494,773.326 \n",
       "  \"/>\n",
       "<polyline clip-path=\"url(#clip380)\" style=\"stroke:#000000; stroke-width:4; stroke-opacity:1; fill:none\" points=\"\n",
       "  631.897,521.372 647.494,521.372 \n",
       "  \"/>\n",
       "<polyline clip-path=\"url(#clip380)\" style=\"stroke:#000000; stroke-width:4; stroke-opacity:1; fill:none\" points=\"\n",
       "  631.897,269.418 647.494,269.418 \n",
       "  \"/>\n",
       "<path clip-path=\"url(#clip380)\" d=\"M 0 0 M535.782 1277.69 L565.457 1277.69 L565.457 1281.62 L535.782 1281.62 L535.782 1277.69 Z\" fill=\"#000000\" fill-rule=\"evenodd\" fill-opacity=\"1\" /><path clip-path=\"url(#clip380)\" d=\"M 0 0 M579.578 1290.58 L595.897 1290.58 L595.897 1294.51 L573.953 1294.51 L573.953 1290.58 Q576.615 1287.82 581.198 1283.19 Q585.805 1278.54 586.985 1277.2 Q589.23 1274.68 590.11 1272.94 Q591.013 1271.18 591.013 1269.49 Q591.013 1266.74 589.068 1265 Q587.147 1263.26 584.045 1263.26 Q581.846 1263.26 579.393 1264.03 Q576.962 1264.79 574.184 1266.34 L574.184 1261.62 Q577.008 1260.49 579.462 1259.91 Q581.916 1259.33 583.953 1259.33 Q589.323 1259.33 592.517 1262.01 Q595.712 1264.7 595.712 1269.19 Q595.712 1271.32 594.902 1273.24 Q594.115 1275.14 592.008 1277.73 Q591.429 1278.4 588.328 1281.62 Q585.226 1284.82 579.578 1290.58 Z\" fill=\"#000000\" fill-rule=\"evenodd\" fill-opacity=\"1\" /><path clip-path=\"url(#clip380)\" d=\"M 0 0 M535.411 1025.73 L565.087 1025.73 L565.087 1029.67 L535.411 1029.67 L535.411 1025.73 Z\" fill=\"#000000\" fill-rule=\"evenodd\" fill-opacity=\"1\" /><path clip-path=\"url(#clip380)\" d=\"M 0 0 M575.99 1038.62 L583.629 1038.62 L583.629 1012.26 L575.318 1013.93 L575.318 1009.67 L583.582 1008 L588.258 1008 L588.258 1038.62 L595.897 1038.62 L595.897 1042.56 L575.99 1042.56 L575.99 1038.62 Z\" fill=\"#000000\" fill-rule=\"evenodd\" fill-opacity=\"1\" /><path clip-path=\"url(#clip380)\" d=\"M 0 0 M583.953 759.125 Q580.342 759.125 578.513 762.689 Q576.707 766.231 576.707 773.361 Q576.707 780.467 578.513 784.032 Q580.342 787.574 583.953 787.574 Q587.587 787.574 589.392 784.032 Q591.221 780.467 591.221 773.361 Q591.221 766.231 589.392 762.689 Q587.587 759.125 583.953 759.125 M583.953 755.421 Q589.763 755.421 592.818 760.027 Q595.897 764.611 595.897 773.361 Q595.897 782.088 592.818 786.694 Q589.763 791.277 583.953 791.277 Q578.143 791.277 575.064 786.694 Q572.008 782.088 572.008 773.361 Q572.008 764.611 575.064 760.027 Q578.143 755.421 583.953 755.421 Z\" fill=\"#000000\" fill-rule=\"evenodd\" fill-opacity=\"1\" /><path clip-path=\"url(#clip380)\" d=\"M 0 0 M575.99 534.717 L583.629 534.717 L583.629 508.351 L575.318 510.018 L575.318 505.758 L583.582 504.092 L588.258 504.092 L588.258 534.717 L595.897 534.717 L595.897 538.652 L575.99 538.652 L575.99 534.717 Z\" fill=\"#000000\" fill-rule=\"evenodd\" fill-opacity=\"1\" /><path clip-path=\"url(#clip380)\" d=\"M 0 0 M579.578 282.762 L595.897 282.762 L595.897 286.698 L573.953 286.698 L573.953 282.762 Q576.615 280.008 581.198 275.378 Q585.805 270.726 586.985 269.383 Q589.23 266.86 590.11 265.124 Q591.013 263.364 591.013 261.675 Q591.013 258.92 589.068 257.184 Q587.147 255.448 584.045 255.448 Q581.846 255.448 579.393 256.212 Q576.962 256.976 574.184 258.526 L574.184 253.804 Q577.008 252.67 579.462 252.091 Q581.916 251.513 583.953 251.513 Q589.323 251.513 592.517 254.198 Q595.712 256.883 595.712 261.374 Q595.712 263.503 594.902 265.425 Q594.115 267.323 592.008 269.915 Q591.429 270.587 588.328 273.804 Q585.226 276.999 579.578 282.762 Z\" fill=\"#000000\" fill-rule=\"evenodd\" fill-opacity=\"1\" /><path clip-path=\"url(#clip380)\" d=\"M 0 0 M441.996 952.171 Q441.996 959.173 447.216 963.31 Q452.436 967.416 461.443 967.416 Q470.419 967.416 475.639 963.31 Q480.858 959.173 480.858 952.171 Q480.858 945.168 475.639 941.094 Q470.419 936.988 461.443 936.988 Q452.436 936.988 447.216 941.094 Q441.996 945.168 441.996 952.171 M436.776 952.171 Q436.776 942.176 443.492 936.193 Q450.176 930.209 461.443 930.209 Q472.678 930.209 479.394 936.193 Q486.078 942.176 486.078 952.171 Q486.078 962.196 479.394 968.212 Q472.71 974.196 461.443 974.196 Q450.176 974.196 443.492 968.212 Q436.776 962.196 436.776 952.171 Z\" fill=\"#000000\" fill-rule=\"evenodd\" fill-opacity=\"1\" /><path clip-path=\"url(#clip380)\" d=\"M 0 0 M454.982 899.749 Q454.409 900.736 454.154 901.913 Q453.868 903.059 453.868 904.46 Q453.868 909.425 457.114 912.098 Q460.329 914.74 466.376 914.74 L485.155 914.74 L485.155 920.628 L449.507 920.628 L449.507 914.74 L455.045 914.74 Q451.799 912.894 450.239 909.934 Q448.648 906.974 448.648 902.741 Q448.648 902.136 448.743 901.404 Q448.807 900.672 448.966 899.781 L454.982 899.749 Z\" fill=\"#000000\" fill-rule=\"evenodd\" fill-opacity=\"1\" /><path clip-path=\"url(#clip380)\" d=\"M 0 0 M467.363 868.016 Q460.902 868.016 457.242 870.689 Q453.55 873.331 453.55 877.978 Q453.55 882.625 457.242 885.299 Q460.902 887.941 467.363 887.941 Q473.824 887.941 477.516 885.299 Q481.177 882.625 481.177 877.978 Q481.177 873.331 477.516 870.689 Q473.824 868.016 467.363 868.016 M454.918 887.941 Q451.735 886.094 450.208 883.294 Q448.648 880.461 448.648 876.546 Q448.648 870.053 453.804 866.011 Q458.96 861.937 467.363 861.937 Q475.766 861.937 480.922 866.011 Q486.078 870.053 486.078 876.546 Q486.078 880.461 484.551 883.294 Q482.991 886.094 479.808 887.941 L485.155 887.941 L485.155 893.829 L435.63 893.829 L435.63 887.941 L454.918 887.941 Z\" fill=\"#000000\" fill-rule=\"evenodd\" fill-opacity=\"1\" /><path clip-path=\"url(#clip380)\" d=\"M 0 0 M449.507 852.229 L449.507 846.372 L485.155 846.372 L485.155 852.229 L449.507 852.229 M435.63 852.229 L435.63 846.372 L443.046 846.372 L443.046 852.229 L435.63 852.229 Z\" fill=\"#000000\" fill-rule=\"evenodd\" fill-opacity=\"1\" /><path clip-path=\"url(#clip380)\" d=\"M 0 0 M439.386 828.326 L449.507 828.326 L449.507 816.263 L454.059 816.263 L454.059 828.326 L473.411 828.326 Q477.771 828.326 479.012 827.148 Q480.254 825.939 480.254 822.278 L480.254 816.263 L485.155 816.263 L485.155 822.278 Q485.155 829.058 482.641 831.636 Q480.095 834.214 473.411 834.214 L454.059 834.214 L454.059 838.511 L449.507 838.511 L449.507 834.214 L439.386 834.214 L439.386 828.326 Z\" fill=\"#000000\" fill-rule=\"evenodd\" fill-opacity=\"1\" /><path clip-path=\"url(#clip380)\" d=\"M 0 0 M467.236 792.359 Q467.236 799.457 468.859 802.194 Q470.482 804.932 474.397 804.932 Q477.516 804.932 479.362 802.895 Q481.177 800.826 481.177 797.293 Q481.177 792.423 477.739 789.495 Q474.27 786.535 468.541 786.535 L467.236 786.535 L467.236 792.359 M464.817 780.678 L485.155 780.678 L485.155 786.535 L479.744 786.535 Q482.991 788.54 484.551 791.532 Q486.078 794.524 486.078 798.852 Q486.078 804.327 483.023 807.573 Q479.935 810.788 474.779 810.788 Q468.764 810.788 465.708 806.778 Q462.653 802.736 462.653 794.747 L462.653 786.535 L462.08 786.535 Q458.037 786.535 455.841 789.208 Q453.613 791.85 453.613 796.656 Q453.613 799.712 454.345 802.608 Q455.077 805.505 456.541 808.178 L451.131 808.178 Q449.889 804.964 449.285 801.94 Q448.648 798.916 448.648 796.052 Q448.648 788.317 452.658 784.498 Q456.669 780.678 464.817 780.678 Z\" fill=\"#000000\" fill-rule=\"evenodd\" fill-opacity=\"1\" /><path clip-path=\"url(#clip380)\" d=\"M 0 0 M435.63 768.615 L435.63 762.759 L485.155 762.759 L485.155 768.615 L435.63 768.615 Z\" fill=\"#000000\" fill-rule=\"evenodd\" fill-opacity=\"1\" /><path clip-path=\"url(#clip380)\" d=\"M 0 0 M437.635 730.262 L437.635 723.801 L466.504 723.801 Q474.143 723.801 477.516 721.032 Q480.858 718.263 480.858 712.056 Q480.858 705.881 477.516 703.112 Q474.143 700.343 466.504 700.343 L437.635 700.343 L437.635 693.882 L467.299 693.882 Q476.593 693.882 481.336 698.497 Q486.078 703.08 486.078 712.056 Q486.078 721.064 481.336 725.679 Q476.593 730.262 467.299 730.262 L437.635 730.262 Z\" fill=\"#000000\" fill-rule=\"evenodd\" fill-opacity=\"1\" /><path clip-path=\"url(#clip380)\" d=\"M 0 0 M463.639 652.441 L485.155 652.441 L485.155 658.298 L463.83 658.298 Q458.769 658.298 456.255 660.271 Q453.741 662.244 453.741 666.191 Q453.741 670.934 456.764 673.671 Q459.788 676.408 465.008 676.408 L485.155 676.408 L485.155 682.296 L449.507 682.296 L449.507 676.408 L455.045 676.408 Q451.831 674.307 450.239 671.475 Q448.648 668.61 448.648 664.886 Q448.648 658.743 452.467 655.592 Q456.255 652.441 463.639 652.441 Z\" fill=\"#000000\" fill-rule=\"evenodd\" fill-opacity=\"1\" /><path clip-path=\"url(#clip380)\" d=\"M 0 0 M449.507 640.76 L449.507 634.904 L485.155 634.904 L485.155 640.76 L449.507 640.76 M435.63 640.76 L435.63 634.904 L443.046 634.904 L443.046 640.76 L435.63 640.76 Z\" fill=\"#000000\" fill-rule=\"evenodd\" fill-opacity=\"1\" /><path clip-path=\"url(#clip380)\" d=\"M 0 0 M439.386 616.857 L449.507 616.857 L449.507 604.794 L454.059 604.794 L454.059 616.857 L473.411 616.857 Q477.771 616.857 479.012 615.679 Q480.254 614.47 480.254 610.809 L480.254 604.794 L485.155 604.794 L485.155 610.809 Q485.155 617.589 482.641 620.167 Q480.095 622.745 473.411 622.745 L454.059 622.745 L454.059 627.042 L449.507 627.042 L449.507 622.745 L439.386 622.745 L439.386 616.857 Z\" fill=\"#000000\" fill-rule=\"evenodd\" fill-opacity=\"1\" /><path clip-path=\"url(#clip380)\" d=\"M 0 0 M450.558 574.366 L456.096 574.366 Q454.823 576.848 454.186 579.522 Q453.55 582.196 453.55 585.06 Q453.55 589.421 454.886 591.617 Q456.223 593.781 458.897 593.781 Q460.934 593.781 462.111 592.222 Q463.257 590.662 464.308 585.951 L464.753 583.946 Q466.09 577.708 468.541 575.098 Q470.96 572.456 475.32 572.456 Q480.286 572.456 483.182 576.403 Q486.078 580.318 486.078 587.193 Q486.078 590.057 485.505 593.176 Q484.964 596.264 483.85 599.701 L477.803 599.701 Q479.49 596.455 480.349 593.304 Q481.177 590.153 481.177 587.065 Q481.177 582.928 479.776 580.7 Q478.344 578.472 475.766 578.472 Q473.379 578.472 472.106 580.095 Q470.832 581.686 469.655 587.129 L469.177 589.166 Q468.032 594.609 465.676 597.028 Q463.289 599.447 459.151 599.447 Q454.122 599.447 451.385 595.882 Q448.648 592.317 448.648 585.76 Q448.648 582.514 449.125 579.649 Q449.603 576.785 450.558 574.366 Z\" fill=\"#000000\" fill-rule=\"evenodd\" fill-opacity=\"1\" /><path clip-path=\"url(#clip380)\" d=\"M 0 0 M687.888 44.2197 Q690.521 45.1109 692.993 48.0275 Q695.504 50.9442 698.016 56.0483 L706.32 72.576 L697.53 72.576 L689.792 57.061 Q686.795 50.9847 683.959 48.9997 Q681.164 47.0148 676.303 47.0148 L667.391 47.0148 L667.391 72.576 L659.208 72.576 L659.208 12.096 L677.68 12.096 Q688.05 12.096 693.155 16.4305 Q698.259 20.7649 698.259 29.5149 Q698.259 35.2267 695.585 38.994 Q692.952 42.7613 687.888 44.2197 M667.391 18.8205 L667.391 40.2903 L677.68 40.2903 Q683.594 40.2903 686.592 37.5762 Q689.63 34.8216 689.63 29.5149 Q689.63 24.2082 686.592 21.5346 Q683.594 18.8205 677.68 18.8205 L667.391 18.8205 Z\" fill=\"#000000\" fill-rule=\"evenodd\" fill-opacity=\"1\" /><path clip-path=\"url(#clip380)\" d=\"M 0 0 M751.609 48.0275 L751.609 51.6733 L717.338 51.6733 Q717.825 59.3701 721.956 63.421 Q726.129 67.4314 733.542 67.4314 Q737.836 67.4314 741.846 66.3781 Q745.897 65.3249 749.867 63.2184 L749.867 70.267 Q745.857 71.9684 741.644 72.8596 Q737.431 73.7508 733.096 73.7508 Q722.24 73.7508 715.88 67.4314 Q709.561 61.1119 709.561 50.3365 Q709.561 39.1965 715.556 32.6746 Q721.592 26.1121 731.8 26.1121 Q740.955 26.1121 746.262 32.0264 Q751.609 37.9003 751.609 48.0275 M744.155 45.84 Q744.074 39.7232 740.712 36.0774 Q737.39 32.4315 731.881 32.4315 Q725.643 32.4315 721.875 35.9558 Q718.149 39.4801 717.581 45.8805 L744.155 45.84 Z\" fill=\"#000000\" fill-rule=\"evenodd\" fill-opacity=\"1\" /><path clip-path=\"url(#clip380)\" d=\"M 0 0 M786.811 9.54393 L786.811 15.7418 L779.682 15.7418 Q775.671 15.7418 774.092 17.3622 Q772.552 18.9825 772.552 23.1955 L772.552 27.2059 L784.827 27.2059 L784.827 32.9987 L772.552 32.9987 L772.552 72.576 L765.058 72.576 L765.058 32.9987 L757.929 32.9987 L757.929 27.2059 L765.058 27.2059 L765.058 24.0462 Q765.058 16.471 768.582 13.0277 Q772.107 9.54393 779.763 9.54393 L786.811 9.54393 Z\" fill=\"#000000\" fill-rule=\"evenodd\" fill-opacity=\"1\" /><path clip-path=\"url(#clip380)\" d=\"M 0 0 M831.858 48.0275 L831.858 51.6733 L797.587 51.6733 Q798.073 59.3701 802.205 63.421 Q806.377 67.4314 813.79 67.4314 Q818.084 67.4314 822.095 66.3781 Q826.146 65.3249 830.116 63.2184 L830.116 70.267 Q826.105 71.9684 821.892 72.8596 Q817.679 73.7508 813.345 73.7508 Q802.488 73.7508 796.129 67.4314 Q789.809 61.1119 789.809 50.3365 Q789.809 39.1965 795.804 32.6746 Q801.84 26.1121 812.049 26.1121 Q821.204 26.1121 826.51 32.0264 Q831.858 37.9003 831.858 48.0275 M824.404 45.84 Q824.323 39.7232 820.961 36.0774 Q817.639 32.4315 812.13 32.4315 Q805.891 32.4315 802.124 35.9558 Q798.397 39.4801 797.83 45.8805 L824.404 45.84 Z\" fill=\"#000000\" fill-rule=\"evenodd\" fill-opacity=\"1\" /><path clip-path=\"url(#clip380)\" d=\"M 0 0 M870.382 34.1734 Q869.126 33.4443 867.627 33.1202 Q866.169 32.7556 864.386 32.7556 Q858.067 32.7556 854.664 36.8875 Q851.302 40.9789 851.302 48.6757 L851.302 72.576 L843.808 72.576 L843.808 27.2059 L851.302 27.2059 L851.302 34.2544 Q853.651 30.1225 857.419 28.1376 Q861.186 26.1121 866.574 26.1121 Q867.343 26.1121 868.275 26.2337 Q869.207 26.3147 870.341 26.5172 L870.382 34.1734 Z\" fill=\"#000000\" fill-rule=\"evenodd\" fill-opacity=\"1\" /><path clip-path=\"url(#clip380)\" d=\"M 0 0 M915.185 48.0275 L915.185 51.6733 L880.914 51.6733 Q881.4 59.3701 885.532 63.421 Q889.704 67.4314 897.118 67.4314 Q901.412 67.4314 905.422 66.3781 Q909.473 65.3249 913.443 63.2184 L913.443 70.267 Q909.432 71.9684 905.219 72.8596 Q901.006 73.7508 896.672 73.7508 Q885.816 73.7508 879.456 67.4314 Q873.136 61.1119 873.136 50.3365 Q873.136 39.1965 879.132 32.6746 Q885.167 26.1121 895.376 26.1121 Q904.531 26.1121 909.837 32.0264 Q915.185 37.9003 915.185 48.0275 M907.731 45.84 Q907.65 39.7232 904.288 36.0774 Q900.966 32.4315 895.457 32.4315 Q889.218 32.4315 885.451 35.9558 Q881.724 39.4801 881.157 45.8805 L907.731 45.84 Z\" fill=\"#000000\" fill-rule=\"evenodd\" fill-opacity=\"1\" /><path clip-path=\"url(#clip380)\" d=\"M 0 0 M965.132 45.1919 L965.132 72.576 L957.679 72.576 L957.679 45.4349 Q957.679 38.994 955.167 35.7938 Q952.655 32.5936 947.632 32.5936 Q941.596 32.5936 938.113 36.4419 Q934.629 40.2903 934.629 46.9338 L934.629 72.576 L927.135 72.576 L927.135 27.2059 L934.629 27.2059 L934.629 34.2544 Q937.303 30.163 940.908 28.1376 Q944.554 26.1121 949.293 26.1121 Q957.111 26.1121 961.122 30.9732 Q965.132 35.7938 965.132 45.1919 Z\" fill=\"#000000\" fill-rule=\"evenodd\" fill-opacity=\"1\" /><path clip-path=\"url(#clip380)\" d=\"M 0 0 M1012.65 28.9478 L1012.65 35.9153 Q1009.49 34.1734 1006.29 33.3227 Q1003.13 32.4315 999.889 32.4315 Q992.638 32.4315 988.627 37.0496 Q984.617 41.6271 984.617 49.9314 Q984.617 58.2358 988.627 62.8538 Q992.638 67.4314 999.889 67.4314 Q1003.13 67.4314 1006.29 66.5807 Q1009.49 65.6895 1012.65 63.9476 L1012.65 70.8341 Q1009.53 72.2924 1006.17 73.0216 Q1002.85 73.7508 999.079 73.7508 Q988.83 73.7508 982.794 67.3098 Q976.758 60.8689 976.758 49.9314 Q976.758 38.832 982.835 32.472 Q988.952 26.1121 999.565 26.1121 Q1003.01 26.1121 1006.29 26.8413 Q1009.57 27.5299 1012.65 28.9478 Z\" fill=\"#000000\" fill-rule=\"evenodd\" fill-opacity=\"1\" /><path clip-path=\"url(#clip380)\" d=\"M 0 0 M1064.42 48.0275 L1064.42 51.6733 L1030.15 51.6733 Q1030.64 59.3701 1034.77 63.421 Q1038.94 67.4314 1046.35 67.4314 Q1050.65 67.4314 1054.66 66.3781 Q1058.71 65.3249 1062.68 63.2184 L1062.68 70.267 Q1058.67 71.9684 1054.45 72.8596 Q1050.24 73.7508 1045.91 73.7508 Q1035.05 73.7508 1028.69 67.4314 Q1022.37 61.1119 1022.37 50.3365 Q1022.37 39.1965 1028.37 32.6746 Q1034.4 26.1121 1044.61 26.1121 Q1053.77 26.1121 1059.07 32.0264 Q1064.42 37.9003 1064.42 48.0275 M1056.97 45.84 Q1056.89 39.7232 1053.52 36.0774 Q1050.2 32.4315 1044.69 32.4315 Q1038.45 32.4315 1034.69 35.9558 Q1030.96 39.4801 1030.39 45.8805 L1056.97 45.84 Z\" fill=\"#000000\" fill-rule=\"evenodd\" fill-opacity=\"1\" /><path clip-path=\"url(#clip380)\" d=\"M 0 0 M1094.96 12.096 L1146.13 12.096 L1146.13 18.9825 L1124.66 18.9825 L1124.66 72.576 L1116.43 72.576 L1116.43 18.9825 L1094.96 18.9825 L1094.96 12.096 Z\" fill=\"#000000\" fill-rule=\"evenodd\" fill-opacity=\"1\" /><path clip-path=\"url(#clip380)\" d=\"M 0 0 M1167.8 34.1734 Q1166.54 33.4443 1165.04 33.1202 Q1163.59 32.7556 1161.8 32.7556 Q1155.48 32.7556 1152.08 36.8875 Q1148.72 40.9789 1148.72 48.6757 L1148.72 72.576 L1141.23 72.576 L1141.23 27.2059 L1148.72 27.2059 L1148.72 34.2544 Q1151.07 30.1225 1154.84 28.1376 Q1158.6 26.1121 1163.99 26.1121 Q1164.76 26.1121 1165.69 26.2337 Q1166.62 26.3147 1167.76 26.5172 L1167.8 34.1734 Z\" fill=\"#000000\" fill-rule=\"evenodd\" fill-opacity=\"1\" /><path clip-path=\"url(#clip380)\" d=\"M 0 0 M1196.24 49.7694 Q1187.2 49.7694 1183.72 51.8354 Q1180.24 53.9013 1180.24 58.8839 Q1180.24 62.8538 1182.83 65.2034 Q1185.46 67.5124 1189.96 67.5124 Q1196.16 67.5124 1199.88 63.1374 Q1203.65 58.7219 1203.65 51.4303 L1203.65 49.7694 L1196.24 49.7694 M1211.1 46.6907 L1211.1 72.576 L1203.65 72.576 L1203.65 65.6895 Q1201.1 69.8214 1197.29 71.8063 Q1193.48 73.7508 1187.97 73.7508 Q1181 73.7508 1176.87 69.8619 Q1172.78 65.9325 1172.78 59.3701 Q1172.78 51.7138 1177.89 47.825 Q1183.03 43.9361 1193.2 43.9361 L1203.65 43.9361 L1203.65 43.2069 Q1203.65 38.0623 1200.25 35.2672 Q1196.88 32.4315 1190.77 32.4315 Q1186.88 32.4315 1183.19 33.3632 Q1179.51 34.295 1176.1 36.1584 L1176.1 29.2718 Q1180.19 27.692 1184.04 26.9223 Q1187.89 26.1121 1191.54 26.1121 Q1201.38 26.1121 1206.24 31.2163 Q1211.1 36.3204 1211.1 46.6907 Z\" fill=\"#000000\" fill-rule=\"evenodd\" fill-opacity=\"1\" /><path clip-path=\"url(#clip380)\" d=\"M 0 0 M1226.46 27.2059 L1233.91 27.2059 L1233.91 73.3862 Q1233.91 82.0551 1230.59 85.944 Q1227.31 89.8329 1219.97 89.8329 L1217.14 89.8329 L1217.14 83.5134 L1219.12 83.5134 Q1223.38 83.5134 1224.92 81.5285 Q1226.46 79.5841 1226.46 73.3862 L1226.46 27.2059 M1226.46 9.54393 L1233.91 9.54393 L1233.91 18.9825 L1226.46 18.9825 L1226.46 9.54393 Z\" fill=\"#000000\" fill-rule=\"evenodd\" fill-opacity=\"1\" /><path clip-path=\"url(#clip380)\" d=\"M 0 0 M1288.31 48.0275 L1288.31 51.6733 L1254.04 51.6733 Q1254.53 59.3701 1258.66 63.421 Q1262.83 67.4314 1270.25 67.4314 Q1274.54 67.4314 1278.55 66.3781 Q1282.6 65.3249 1286.57 63.2184 L1286.57 70.267 Q1282.56 71.9684 1278.35 72.8596 Q1274.14 73.7508 1269.8 73.7508 Q1258.94 73.7508 1252.58 67.4314 Q1246.27 61.1119 1246.27 50.3365 Q1246.27 39.1965 1252.26 32.6746 Q1258.3 26.1121 1268.5 26.1121 Q1277.66 26.1121 1282.97 32.0264 Q1288.31 37.9003 1288.31 48.0275 M1280.86 45.84 Q1280.78 39.7232 1277.42 36.0774 Q1274.09 32.4315 1268.59 32.4315 Q1262.35 32.4315 1258.58 35.9558 Q1254.85 39.4801 1254.29 45.8805 L1280.86 45.84 Z\" fill=\"#000000\" fill-rule=\"evenodd\" fill-opacity=\"1\" /><path clip-path=\"url(#clip380)\" d=\"M 0 0 M1333.2 28.9478 L1333.2 35.9153 Q1330.04 34.1734 1326.84 33.3227 Q1323.68 32.4315 1320.44 32.4315 Q1313.19 32.4315 1309.18 37.0496 Q1305.17 41.6271 1305.17 49.9314 Q1305.17 58.2358 1309.18 62.8538 Q1313.19 67.4314 1320.44 67.4314 Q1323.68 67.4314 1326.84 66.5807 Q1330.04 65.6895 1333.2 63.9476 L1333.2 70.8341 Q1330.08 72.2924 1326.72 73.0216 Q1323.39 73.7508 1319.63 73.7508 Q1309.38 73.7508 1303.34 67.3098 Q1297.31 60.8689 1297.31 49.9314 Q1297.31 38.832 1303.38 32.472 Q1309.5 26.1121 1320.11 26.1121 Q1323.56 26.1121 1326.84 26.8413 Q1330.12 27.5299 1333.2 28.9478 Z\" fill=\"#000000\" fill-rule=\"evenodd\" fill-opacity=\"1\" /><path clip-path=\"url(#clip380)\" d=\"M 0 0 M1353.53 14.324 L1353.53 27.2059 L1368.89 27.2059 L1368.89 32.9987 L1353.53 32.9987 L1353.53 57.6282 Q1353.53 63.1779 1355.03 64.7578 Q1356.57 66.3376 1361.23 66.3376 L1368.89 66.3376 L1368.89 72.576 L1361.23 72.576 Q1352.6 72.576 1349.32 69.3758 Q1346.04 66.1351 1346.04 57.6282 L1346.04 32.9987 L1340.57 32.9987 L1340.57 27.2059 L1346.04 27.2059 L1346.04 14.324 L1353.53 14.324 Z\" fill=\"#000000\" fill-rule=\"evenodd\" fill-opacity=\"1\" /><path clip-path=\"url(#clip380)\" d=\"M 0 0 M1396.27 32.4315 Q1390.27 32.4315 1386.79 37.1306 Q1383.31 41.7891 1383.31 49.9314 Q1383.31 58.0738 1386.75 62.7728 Q1390.23 67.4314 1396.27 67.4314 Q1402.22 67.4314 1405.71 62.7323 Q1409.19 58.0333 1409.19 49.9314 Q1409.19 41.8701 1405.71 37.1711 Q1402.22 32.4315 1396.27 32.4315 M1396.27 26.1121 Q1405.99 26.1121 1411.54 32.4315 Q1417.09 38.7509 1417.09 49.9314 Q1417.09 61.0714 1411.54 67.4314 Q1405.99 73.7508 1396.27 73.7508 Q1386.51 73.7508 1380.96 67.4314 Q1375.45 61.0714 1375.45 49.9314 Q1375.45 38.7509 1380.96 32.4315 Q1386.51 26.1121 1396.27 26.1121 Z\" fill=\"#000000\" fill-rule=\"evenodd\" fill-opacity=\"1\" /><path clip-path=\"url(#clip380)\" d=\"M 0 0 M1455.74 34.1734 Q1454.48 33.4443 1452.98 33.1202 Q1451.52 32.7556 1449.74 32.7556 Q1443.42 32.7556 1440.02 36.8875 Q1436.66 40.9789 1436.66 48.6757 L1436.66 72.576 L1429.16 72.576 L1429.16 27.2059 L1436.66 27.2059 L1436.66 34.2544 Q1439.01 30.1225 1442.77 28.1376 Q1446.54 26.1121 1451.93 26.1121 Q1452.7 26.1121 1453.63 26.2337 Q1454.56 26.3147 1455.7 26.5172 L1455.74 34.1734 Z\" fill=\"#000000\" fill-rule=\"evenodd\" fill-opacity=\"1\" /><path clip-path=\"url(#clip380)\" d=\"M 0 0 M1482.43 76.7889 Q1479.27 84.8907 1476.28 87.3618 Q1473.28 89.8329 1468.25 89.8329 L1462.3 89.8329 L1462.3 83.5945 L1466.67 83.5945 Q1469.75 83.5945 1471.45 82.1361 Q1473.16 80.6778 1475.22 75.2496 L1476.56 71.8468 L1458.21 27.2059 L1466.11 27.2059 L1480.29 62.6918 L1494.46 27.2059 L1502.36 27.2059 L1482.43 76.7889 Z\" fill=\"#000000\" fill-rule=\"evenodd\" fill-opacity=\"1\" /><path clip-path=\"url(#clip380)\" d=\"M 0 0 M1556.93 9.62495 Q1551.5 18.942 1548.87 28.0566 Q1546.23 37.1711 1546.23 46.5287 Q1546.23 55.8863 1548.87 65.0818 Q1551.54 74.2369 1556.93 83.5134 L1550.45 83.5134 Q1544.37 73.9938 1541.33 64.7983 Q1538.34 55.6027 1538.34 46.5287 Q1538.34 37.4952 1541.33 28.3401 Q1544.33 19.1851 1550.45 9.62495 L1556.93 9.62495 Z\" fill=\"#000000\" fill-rule=\"evenodd\" fill-opacity=\"1\" /><path clip-path=\"url(#clip380)\" d=\"M 0 0 M1579.49 65.6895 L1608.05 65.6895 L1608.05 72.576 L1569.65 72.576 L1569.65 65.6895 Q1574.31 60.8689 1582.33 52.7671 Q1590.39 44.6248 1592.46 42.2752 Q1596.38 37.8598 1597.92 34.8216 Q1599.5 31.7429 1599.5 28.7857 Q1599.5 23.9651 1596.1 20.927 Q1592.74 17.8888 1587.31 17.8888 Q1583.46 17.8888 1579.17 19.2256 Q1574.91 20.5624 1570.05 23.2765 L1570.05 15.0127 Q1575 13.0277 1579.29 12.015 Q1583.58 11.0023 1587.15 11.0023 Q1596.55 11.0023 1602.14 15.7013 Q1607.73 20.4004 1607.73 28.2591 Q1607.73 31.9859 1606.31 35.3482 Q1604.93 38.6699 1601.25 43.2069 Q1600.23 44.3817 1594.8 50.0125 Q1589.38 55.6027 1579.49 65.6895 Z\" fill=\"#000000\" fill-rule=\"evenodd\" fill-opacity=\"1\" /><path clip-path=\"url(#clip380)\" d=\"M 0 0 M1668.13 32.4315 Q1662.13 32.4315 1658.65 37.1306 Q1655.16 41.7891 1655.16 49.9314 Q1655.16 58.0738 1658.61 62.7728 Q1662.09 67.4314 1668.13 67.4314 Q1674.08 67.4314 1677.56 62.7323 Q1681.05 58.0333 1681.05 49.9314 Q1681.05 41.8701 1677.56 37.1711 Q1674.08 32.4315 1668.13 32.4315 M1668.13 26.1121 Q1677.85 26.1121 1683.4 32.4315 Q1688.95 38.7509 1688.95 49.9314 Q1688.95 61.0714 1683.4 67.4314 Q1677.85 73.7508 1668.13 73.7508 Q1658.36 73.7508 1652.81 67.4314 Q1647.3 61.0714 1647.3 49.9314 Q1647.3 38.7509 1652.81 32.4315 Q1658.36 26.1121 1668.13 26.1121 Z\" fill=\"#000000\" fill-rule=\"evenodd\" fill-opacity=\"1\" /><path clip-path=\"url(#clip380)\" d=\"M 0 0 M1727.59 34.1734 Q1726.34 33.4443 1724.84 33.1202 Q1723.38 32.7556 1721.6 32.7556 Q1715.28 32.7556 1711.88 36.8875 Q1708.51 40.9789 1708.51 48.6757 L1708.51 72.576 L1701.02 72.576 L1701.02 27.2059 L1708.51 27.2059 L1708.51 34.2544 Q1710.86 30.1225 1714.63 28.1376 Q1718.4 26.1121 1723.79 26.1121 Q1724.56 26.1121 1725.49 26.2337 Q1726.42 26.3147 1727.55 26.5172 L1727.59 34.1734 Z\" fill=\"#000000\" fill-rule=\"evenodd\" fill-opacity=\"1\" /><path clip-path=\"url(#clip380)\" d=\"M 0 0 M1767.98 49.9314 Q1767.98 41.7081 1764.58 37.0496 Q1761.22 32.3505 1755.3 32.3505 Q1749.39 32.3505 1745.98 37.0496 Q1742.62 41.7081 1742.62 49.9314 Q1742.62 58.1548 1745.98 62.8538 Q1749.39 67.5124 1755.3 67.5124 Q1761.22 67.5124 1764.58 62.8538 Q1767.98 58.1548 1767.98 49.9314 M1742.62 34.0924 Q1744.97 30.0415 1748.54 28.0971 Q1752.14 26.1121 1757.12 26.1121 Q1765.39 26.1121 1770.53 32.6746 Q1775.72 39.2371 1775.72 49.9314 Q1775.72 60.6258 1770.53 67.1883 Q1765.39 73.7508 1757.12 73.7508 Q1752.14 73.7508 1748.54 71.8063 Q1744.97 69.8214 1742.62 65.7705 L1742.62 72.576 L1735.13 72.576 L1735.13 9.54393 L1742.62 9.54393 L1742.62 34.0924 Z\" fill=\"#000000\" fill-rule=\"evenodd\" fill-opacity=\"1\" /><path clip-path=\"url(#clip380)\" d=\"M 0 0 M1788.07 27.2059 L1795.53 27.2059 L1795.53 72.576 L1788.07 72.576 L1788.07 27.2059 M1788.07 9.54393 L1795.53 9.54393 L1795.53 18.9825 L1788.07 18.9825 L1788.07 9.54393 Z\" fill=\"#000000\" fill-rule=\"evenodd\" fill-opacity=\"1\" /><path clip-path=\"url(#clip380)\" d=\"M 0 0 M1818.5 14.324 L1818.5 27.2059 L1833.85 27.2059 L1833.85 32.9987 L1818.5 32.9987 L1818.5 57.6282 Q1818.5 63.1779 1819.99 64.7578 Q1821.53 66.3376 1826.19 66.3376 L1833.85 66.3376 L1833.85 72.576 L1826.19 72.576 Q1817.56 72.576 1814.28 69.3758 Q1811 66.1351 1811 57.6282 L1811 32.9987 L1805.53 32.9987 L1805.53 27.2059 L1811 27.2059 L1811 14.324 L1818.5 14.324 Z\" fill=\"#000000\" fill-rule=\"evenodd\" fill-opacity=\"1\" /><path clip-path=\"url(#clip380)\" d=\"M 0 0 M1872.58 28.5427 L1872.58 35.5912 Q1869.42 33.9709 1866.01 33.1607 Q1862.61 32.3505 1858.96 32.3505 Q1853.41 32.3505 1850.62 34.0519 Q1847.86 35.7533 1847.86 39.156 Q1847.86 41.7486 1849.85 43.2475 Q1851.83 44.7058 1857.83 46.0426 L1860.38 46.6097 Q1868.32 48.3111 1871.64 51.4303 Q1875.01 54.509 1875.01 60.0587 Q1875.01 66.3781 1869.98 70.0644 Q1865 73.7508 1856.25 73.7508 Q1852.6 73.7508 1848.63 73.0216 Q1844.71 72.3329 1840.33 70.9151 L1840.33 63.2184 Q1844.46 65.3654 1848.47 66.4591 Q1852.48 67.5124 1856.41 67.5124 Q1861.68 67.5124 1864.51 65.73 Q1867.35 63.9071 1867.35 60.6258 Q1867.35 57.5877 1865.28 55.9673 Q1863.26 54.3469 1856.33 52.8481 L1853.74 52.2405 Q1846.81 50.7821 1843.73 47.7845 Q1840.65 44.7463 1840.65 39.4801 Q1840.65 33.0797 1845.19 29.5959 Q1849.73 26.1121 1858.07 26.1121 Q1862.2 26.1121 1865.85 26.7198 Q1869.5 27.3274 1872.58 28.5427 Z\" fill=\"#000000\" fill-rule=\"evenodd\" fill-opacity=\"1\" /><path clip-path=\"url(#clip380)\" d=\"M 0 0 M1885.7 9.62495 L1892.18 9.62495 Q1898.26 19.1851 1901.26 28.3401 Q1904.29 37.4952 1904.29 46.5287 Q1904.29 55.6027 1901.26 64.7983 Q1898.26 73.9938 1892.18 83.5134 L1885.7 83.5134 Q1891.09 74.2369 1893.72 65.0818 Q1896.39 55.8863 1896.39 46.5287 Q1896.39 37.1711 1893.72 28.0566 Q1891.09 18.942 1885.7 9.62495 Z\" fill=\"#000000\" fill-rule=\"evenodd\" fill-opacity=\"1\" /><polyline clip-path=\"url(#clip382)\" style=\"stroke:#009af9; stroke-width:12; stroke-opacity:1; fill:none\" points=\"\n",
       "  1352.42,773.326 1349.67,747.535 1342.01,723.554 1330.81,702.426 1317.42,684.366 1302.87,669.131 1287.8,656.331 1272.61,645.577 1257.54,636.536 1242.71,628.93 \n",
       "  1228.21,622.539 1214.08,617.184 1200.32,612.72 1186.96,609.03 1173.99,606.017 1161.41,603.601 1149.19,601.714 1137.34,600.3 1125.85,599.311 1114.7,598.706 \n",
       "  1103.88,598.448 1093.38,598.507 1083.2,598.855 1073.32,599.468 1063.72,600.326 1054.42,601.409 1045.38,602.7 1036.62,604.185 1028.12,605.85 1019.87,607.682 \n",
       "  1011.86,609.67 1004.1,611.805 996.576,614.076 989.279,616.476 982.206,618.996 975.353,621.63 968.715,624.37 962.289,627.21 956.069,630.145 950.052,633.169 \n",
       "  944.234,636.278 938.612,639.466 933.183,642.729 927.944,646.064 922.892,649.465 918.023,652.93 913.336,656.456 908.829,660.038 904.498,663.673 900.341,667.36 \n",
       "  896.357,671.094 892.544,674.874 888.9,678.697 885.422,682.559 882.11,686.46 878.963,690.396 875.977,694.366 873.153,698.367 870.489,702.397 867.984,706.455 \n",
       "  865.636,710.539 863.445,714.646 861.41,718.775 859.529,722.923 857.803,727.091 856.231,731.275 854.811,735.474 853.543,739.687 852.426,743.911 851.461,748.146 \n",
       "  850.647,752.39 849.984,756.641 849.47,760.898 849.106,765.159 848.893,769.423 848.829,773.689 848.915,777.954 849.15,782.218 849.536,786.478 850.071,790.734 \n",
       "  850.757,794.984 851.593,799.226 852.58,803.46 853.719,807.682 855.009,811.893 856.451,816.09 858.046,820.271 859.795,824.435 861.698,828.581 863.755,832.706 \n",
       "  865.969,836.809 868.34,840.889 870.868,844.942 873.555,848.968 876.403,852.964 879.412,856.928 882.583,860.858 885.919,864.753 889.42,868.609 893.089,872.425 \n",
       "  896.927,876.197 900.935,879.924 905.117,883.602 909.473,887.23 914.006,890.802 918.719,894.318 923.614,897.773 928.693,901.164 933.959,904.487 939.415,907.739 \n",
       "  945.065,910.914 950.91,914.01 956.956,917.02 963.205,919.941 969.662,922.765 976.329,925.489 983.213,928.105 990.317,930.607 997.646,932.987 1005.21,935.238 \n",
       "  1013,937.35 1021.04,939.315 1029.32,941.123 1037.86,942.761 1046.66,944.217 1055.73,945.478 1065.08,946.528 1074.71,947.35 1084.63,947.925 1094.86,948.232 \n",
       "  1105.4,948.245 1116.27,947.938 1127.46,947.278 1139,946.23 1150.9,944.751 1163.16,942.791 1175.8,940.293 1188.83,937.188 1202.24,933.393 1216.04,928.81 \n",
       "  1230.23,923.318 1244.77,916.767 1259.64,908.974 1274.73,899.71 1289.92,888.693 1304.94,875.577 1319.38,859.972 1332.53,841.495 1343.32,819.945 1350.37,795.632 \n",
       "  1352.37,769.723 1348.88,744.088 1340.64,720.462 1329.05,699.761 1315.45,682.114 1300.79,667.243 1285.68,654.753 1270.49,644.26 1255.44,635.438 1240.65,628.019 \n",
       "  1226.2,621.788 1212.11,616.572 1198.41,612.228 1185.1,608.645 1172.18,605.726 1159.65,603.395 1147.49,601.584 1135.69,600.24 1124.24,599.314 1113.14,598.766 \n",
       "  1102.36,598.562 1091.91,598.67 1081.77,599.064 1071.93,599.72 1062.38,600.617 1053.11,601.738 1044.12,603.064 1035.4,604.582 1026.93,606.278 1018.72,608.14 \n",
       "  1010.75,610.157 1003.03,612.318 995.536,614.615 988.274,617.039 981.236,619.582 974.417,622.238 967.814,624.999 961.42,627.859 955.233,630.814 949.249,633.857 \n",
       "  943.464,636.983 937.874,640.188 932.477,643.468 927.27,646.819 922.249,650.236 917.412,653.715 912.756,657.255 908.279,660.851 903.979,664.499 899.853,668.199 \n",
       "  895.9,671.945 892.117,675.737 888.503,679.571 885.056,683.444 881.775,687.355 878.657,691.302 875.702,695.281 872.908,699.291 870.274,703.331 867.799,707.397 \n",
       "  865.482,711.489 863.321,715.603 861.317,719.74 859.467,723.896 857.771,728.07 856.229,732.26 854.84,736.466 853.603,740.684 852.518,744.914 851.584,749.154 \n",
       "  850.801,753.402 850.169,757.658 849.687,761.919 849.355,766.184 849.174,770.451 849.142,774.719 849.26,778.987 849.528,783.253 849.947,787.515 850.515,791.773 \n",
       "  851.234,796.024 852.104,800.267 853.125,804.501 854.298,808.723 855.623,812.933 857.1,817.129 858.73,821.309 860.515,825.472 862.453,829.615 864.548,833.738 \n",
       "  866.798,837.838 869.206,841.913 871.772,845.962 874.498,849.983 877.384,853.974 880.432,857.932 883.643,861.856 887.019,865.744 890.561,869.592 894.271,873.399 \n",
       "  898.151,877.162 902.202,880.879 906.427,884.547 910.827,888.162 915.406,891.723 920.164,895.225 925.105,898.666 930.231,902.041 935.546,905.348 941.051,908.582 \n",
       "  946.751,911.739 952.648,914.814 958.746,917.803 965.048,920.7 971.559,923.5 978.283,926.197 985.224,928.785 992.386,931.256 999.776,933.604 1007.4,935.82 \n",
       "  1015.26,937.895 1023.36,939.82 1031.71,941.583 1040.32,943.175 1049.19,944.58 1058.33,945.786 1067.75,946.777 1077.46,947.535 1087.47,948.04 1097.78,948.269 \n",
       "  1108.41,948.199 1119.36,947.799 1130.65,947.037 1142.28,945.876 1154.28,944.27 1166.64,942.169 1179.38,939.511 1192.51,936.225 1206.03,932.225 1219.94,927.404 \n",
       "  1234.22,921.637 1248.86,914.764 1263.79,906.591 1278.93,896.875 1294.1,885.317 1309.01,871.558 1323.17,855.198 1335.79,835.883 1345.7,813.513 1352.42,773.326 \n",
       "  \n",
       "  \"/>\n",
       "<line clip-path=\"url(#clip382)\" x1=\"1714.99\" y1=\"773.326\" x2=\"1694.99\" y2=\"753.326\" style=\"stroke:#e26f46; stroke-width:3.2; stroke-opacity:1\"/>\n",
       "<line clip-path=\"url(#clip382)\" x1=\"1714.99\" y1=\"773.326\" x2=\"1694.99\" y2=\"793.326\" style=\"stroke:#e26f46; stroke-width:3.2; stroke-opacity:1\"/>\n",
       "<line clip-path=\"url(#clip382)\" x1=\"1714.99\" y1=\"773.326\" x2=\"1734.99\" y2=\"793.326\" style=\"stroke:#e26f46; stroke-width:3.2; stroke-opacity:1\"/>\n",
       "<line clip-path=\"url(#clip382)\" x1=\"1714.99\" y1=\"773.326\" x2=\"1734.99\" y2=\"753.326\" style=\"stroke:#e26f46; stroke-width:3.2; stroke-opacity:1\"/>\n",
       "<path clip-path=\"url(#clip382)\" d=\"M1281.75 789.326 L1270.44 784.638 L1265.75 773.326 L1270.44 762.014 L1281.75 757.326 L1293.06 762.014 L1297.75 773.326 L1293.06 784.638 Z\" fill=\"#3da44d\" fill-rule=\"evenodd\" fill-opacity=\"1\" stroke=\"#000000\" stroke-opacity=\"1\" stroke-width=\"3.2\"/>\n",
       "<path clip-path=\"url(#clip380)\" d=\"\n",
       "M1340.08 408.716 L1860.2 408.716 L1860.2 166.796 L1340.08 166.796  Z\n",
       "  \" fill=\"#ffffff\" fill-rule=\"evenodd\" fill-opacity=\"1\"/>\n",
       "<polyline clip-path=\"url(#clip380)\" style=\"stroke:#000000; stroke-width:4; stroke-opacity:1; fill:none\" points=\"\n",
       "  1340.08,408.716 1860.2,408.716 1860.2,166.796 1340.08,166.796 1340.08,408.716 \n",
       "  \"/>\n",
       "<polyline clip-path=\"url(#clip380)\" style=\"stroke:#009af9; stroke-width:4; stroke-opacity:1; fill:none\" points=\"\n",
       "  1363.88,227.276 1506.68,227.276 \n",
       "  \"/>\n",
       "<path clip-path=\"url(#clip380)\" d=\"M 0 0 M1546.86 228.352 Q1548.37 228.861 1549.78 230.528 Q1551.22 232.195 1552.65 235.111 L1557.4 244.556 L1552.37 244.556 L1547.95 235.69 Q1546.24 232.218 1544.62 231.084 Q1543.02 229.949 1540.24 229.949 L1535.15 229.949 L1535.15 244.556 L1530.48 244.556 L1530.48 209.996 L1541.03 209.996 Q1546.96 209.996 1549.87 212.473 Q1552.79 214.949 1552.79 219.949 Q1552.79 223.213 1551.26 225.366 Q1549.76 227.519 1546.86 228.352 M1535.15 213.838 L1535.15 226.107 L1541.03 226.107 Q1544.41 226.107 1546.12 224.556 Q1547.86 222.982 1547.86 219.949 Q1547.86 216.917 1546.12 215.389 Q1544.41 213.838 1541.03 213.838 L1535.15 213.838 Z\" fill=\"#000000\" fill-rule=\"evenodd\" fill-opacity=\"1\" /><path clip-path=\"url(#clip380)\" d=\"M 0 0 M1583.28 230.528 L1583.28 232.611 L1563.69 232.611 Q1563.97 237.009 1566.33 239.324 Q1568.72 241.616 1572.95 241.616 Q1575.41 241.616 1577.7 241.014 Q1580.01 240.412 1582.28 239.209 L1582.28 243.236 Q1579.99 244.208 1577.58 244.718 Q1575.17 245.227 1572.7 245.227 Q1566.49 245.227 1562.86 241.616 Q1559.25 238.005 1559.25 231.847 Q1559.25 225.482 1562.68 221.755 Q1566.12 218.005 1571.96 218.005 Q1577.19 218.005 1580.22 221.385 Q1583.28 224.741 1583.28 230.528 M1579.02 229.278 Q1578.97 225.783 1577.05 223.699 Q1575.15 221.616 1572 221.616 Q1568.44 221.616 1566.29 223.63 Q1564.16 225.644 1563.83 229.301 L1579.02 229.278 Z\" fill=\"#000000\" fill-rule=\"evenodd\" fill-opacity=\"1\" /><path clip-path=\"url(#clip380)\" d=\"M 0 0 M1603.39 208.537 L1603.39 212.079 L1599.32 212.079 Q1597.03 212.079 1596.12 213.005 Q1595.24 213.931 1595.24 216.338 L1595.24 218.63 L1602.26 218.63 L1602.26 221.94 L1595.24 221.94 L1595.24 244.556 L1590.96 244.556 L1590.96 221.94 L1586.89 221.94 L1586.89 218.63 L1590.96 218.63 L1590.96 216.824 Q1590.96 212.496 1592.98 210.528 Q1594.99 208.537 1599.36 208.537 L1603.39 208.537 Z\" fill=\"#000000\" fill-rule=\"evenodd\" fill-opacity=\"1\" /><path clip-path=\"url(#clip380)\" d=\"M 0 0 M1629.13 230.528 L1629.13 232.611 L1609.55 232.611 Q1609.83 237.009 1612.19 239.324 Q1614.57 241.616 1618.81 241.616 Q1621.26 241.616 1623.55 241.014 Q1625.87 240.412 1628.14 239.209 L1628.14 243.236 Q1625.85 244.208 1623.44 244.718 Q1621.03 245.227 1618.55 245.227 Q1612.35 245.227 1608.72 241.616 Q1605.11 238.005 1605.11 231.847 Q1605.11 225.482 1608.53 221.755 Q1611.98 218.005 1617.81 218.005 Q1623.05 218.005 1626.08 221.385 Q1629.13 224.741 1629.13 230.528 M1624.87 229.278 Q1624.83 225.783 1622.91 223.699 Q1621.01 221.616 1617.86 221.616 Q1614.3 221.616 1612.14 223.63 Q1610.01 225.644 1609.69 229.301 L1624.87 229.278 Z\" fill=\"#000000\" fill-rule=\"evenodd\" fill-opacity=\"1\" /><path clip-path=\"url(#clip380)\" d=\"M 0 0 M1651.15 222.611 Q1650.43 222.195 1649.57 222.01 Q1648.74 221.801 1647.72 221.801 Q1644.11 221.801 1642.17 224.162 Q1640.24 226.5 1640.24 230.898 L1640.24 244.556 L1635.96 244.556 L1635.96 218.63 L1640.24 218.63 L1640.24 222.658 Q1641.59 220.297 1643.74 219.162 Q1645.89 218.005 1648.97 218.005 Q1649.41 218.005 1649.94 218.074 Q1650.48 218.121 1651.12 218.236 L1651.15 222.611 Z\" fill=\"#000000\" fill-rule=\"evenodd\" fill-opacity=\"1\" /><path clip-path=\"url(#clip380)\" d=\"M 0 0 M1676.75 230.528 L1676.75 232.611 L1657.17 232.611 Q1657.44 237.009 1659.8 239.324 Q1662.19 241.616 1666.42 241.616 Q1668.88 241.616 1671.17 241.014 Q1673.48 240.412 1675.75 239.209 L1675.75 243.236 Q1673.46 244.208 1671.05 244.718 Q1668.65 245.227 1666.17 245.227 Q1659.97 245.227 1656.33 241.616 Q1652.72 238.005 1652.72 231.847 Q1652.72 225.482 1656.15 221.755 Q1659.6 218.005 1665.43 218.005 Q1670.66 218.005 1673.69 221.385 Q1676.75 224.741 1676.75 230.528 M1672.49 229.278 Q1672.44 225.783 1670.52 223.699 Q1668.62 221.616 1665.48 221.616 Q1661.91 221.616 1659.76 223.63 Q1657.63 225.644 1657.3 229.301 L1672.49 229.278 Z\" fill=\"#000000\" fill-rule=\"evenodd\" fill-opacity=\"1\" /><path clip-path=\"url(#clip380)\" d=\"M 0 0 M1705.29 228.908 L1705.29 244.556 L1701.03 244.556 L1701.03 229.047 Q1701.03 225.366 1699.6 223.537 Q1698.16 221.709 1695.29 221.709 Q1691.84 221.709 1689.85 223.908 Q1687.86 226.107 1687.86 229.903 L1687.86 244.556 L1683.58 244.556 L1683.58 218.63 L1687.86 218.63 L1687.86 222.658 Q1689.39 220.32 1691.45 219.162 Q1693.53 218.005 1696.24 218.005 Q1700.71 218.005 1703 220.783 Q1705.29 223.537 1705.29 228.908 Z\" fill=\"#000000\" fill-rule=\"evenodd\" fill-opacity=\"1\" /><path clip-path=\"url(#clip380)\" d=\"M 0 0 M1732.44 219.625 L1732.44 223.607 Q1730.64 222.611 1728.81 222.125 Q1727 221.616 1725.15 221.616 Q1721.01 221.616 1718.72 224.255 Q1716.42 226.871 1716.42 231.616 Q1716.42 236.361 1718.72 239 Q1721.01 241.616 1725.15 241.616 Q1727 241.616 1728.81 241.13 Q1730.64 240.621 1732.44 239.625 L1732.44 243.56 Q1730.66 244.394 1728.74 244.81 Q1726.84 245.227 1724.69 245.227 Q1718.83 245.227 1715.38 241.546 Q1711.93 237.866 1711.93 231.616 Q1711.93 225.273 1715.41 221.639 Q1718.9 218.005 1724.97 218.005 Q1726.93 218.005 1728.81 218.422 Q1730.68 218.815 1732.44 219.625 Z\" fill=\"#000000\" fill-rule=\"evenodd\" fill-opacity=\"1\" /><path clip-path=\"url(#clip380)\" d=\"M 0 0 M1762.03 230.528 L1762.03 232.611 L1742.44 232.611 Q1742.72 237.009 1745.08 239.324 Q1747.47 241.616 1751.7 241.616 Q1754.16 241.616 1756.45 241.014 Q1758.76 240.412 1761.03 239.209 L1761.03 243.236 Q1758.74 244.208 1756.33 244.718 Q1753.92 245.227 1751.45 245.227 Q1745.24 245.227 1741.61 241.616 Q1738 238.005 1738 231.847 Q1738 225.482 1741.42 221.755 Q1744.87 218.005 1750.71 218.005 Q1755.94 218.005 1758.97 221.385 Q1762.03 224.741 1762.03 230.528 M1757.77 229.278 Q1757.72 225.783 1755.8 223.699 Q1753.9 221.616 1750.75 221.616 Q1747.19 221.616 1745.04 223.63 Q1742.91 225.644 1742.58 229.301 L1757.77 229.278 Z\" fill=\"#000000\" fill-rule=\"evenodd\" fill-opacity=\"1\" /><polyline clip-path=\"url(#clip380)\" style=\"stroke:#e26f46; stroke-width:4; stroke-opacity:1; fill:none\" points=\"\n",
       "  1363.88,287.756 1506.68,287.756 \n",
       "  \"/>\n",
       "<line clip-path=\"url(#clip380)\" x1=\"1435.28\" y1=\"287.756\" x2=\"1409.68\" y2=\"262.156\" style=\"stroke:#e26f46; stroke-width:3.2; stroke-opacity:1\"/>\n",
       "<line clip-path=\"url(#clip380)\" x1=\"1435.28\" y1=\"287.756\" x2=\"1409.68\" y2=\"313.356\" style=\"stroke:#e26f46; stroke-width:3.2; stroke-opacity:1\"/>\n",
       "<line clip-path=\"url(#clip380)\" x1=\"1435.28\" y1=\"287.756\" x2=\"1460.88\" y2=\"313.356\" style=\"stroke:#e26f46; stroke-width:3.2; stroke-opacity:1\"/>\n",
       "<line clip-path=\"url(#clip380)\" x1=\"1435.28\" y1=\"287.756\" x2=\"1460.88\" y2=\"262.156\" style=\"stroke:#e26f46; stroke-width:3.2; stroke-opacity:1\"/>\n",
       "<path clip-path=\"url(#clip380)\" d=\"M 0 0 M1556.03 300.105 L1556.03 290.823 L1548.39 290.823 L1548.39 286.98 L1560.66 286.98 L1560.66 301.818 Q1557.95 303.739 1554.69 304.735 Q1551.43 305.707 1547.72 305.707 Q1539.62 305.707 1535.04 300.985 Q1530.48 296.239 1530.48 287.79 Q1530.48 279.318 1535.04 274.596 Q1539.62 269.851 1547.72 269.851 Q1551.1 269.851 1554.13 270.684 Q1557.19 271.517 1559.76 273.138 L1559.76 278.115 Q1557.17 275.916 1554.25 274.804 Q1551.33 273.693 1548.11 273.693 Q1541.77 273.693 1538.58 277.235 Q1535.41 280.777 1535.41 287.79 Q1535.41 294.781 1538.58 298.323 Q1541.77 301.864 1548.11 301.864 Q1550.59 301.864 1552.54 301.448 Q1554.48 301.008 1556.03 300.105 Z\" fill=\"#000000\" fill-rule=\"evenodd\" fill-opacity=\"1\" /><path clip-path=\"url(#clip380)\" d=\"M 0 0 M1579.06 282.096 Q1575.64 282.096 1573.65 284.781 Q1571.66 287.443 1571.66 292.096 Q1571.66 296.749 1573.62 299.434 Q1575.61 302.096 1579.06 302.096 Q1582.47 302.096 1584.46 299.411 Q1586.45 296.726 1586.45 292.096 Q1586.45 287.49 1584.46 284.804 Q1582.47 282.096 1579.06 282.096 M1579.06 278.485 Q1584.62 278.485 1587.79 282.096 Q1590.96 285.707 1590.96 292.096 Q1590.96 298.462 1587.79 302.096 Q1584.62 305.707 1579.06 305.707 Q1573.49 305.707 1570.31 302.096 Q1567.17 298.462 1567.17 292.096 Q1567.17 285.707 1570.31 282.096 Q1573.49 278.485 1579.06 278.485 Z\" fill=\"#000000\" fill-rule=\"evenodd\" fill-opacity=\"1\" /><path clip-path=\"url(#clip380)\" d=\"M 0 0 M1609.8 292.003 Q1604.64 292.003 1602.65 293.184 Q1600.66 294.364 1600.66 297.212 Q1600.66 299.48 1602.14 300.823 Q1603.65 302.142 1606.22 302.142 Q1609.76 302.142 1611.89 299.642 Q1614.04 297.119 1614.04 292.952 L1614.04 292.003 L1609.8 292.003 M1618.3 290.244 L1618.3 305.036 L1614.04 305.036 L1614.04 301.101 Q1612.58 303.462 1610.41 304.596 Q1608.23 305.707 1605.08 305.707 Q1601.1 305.707 1598.74 303.485 Q1596.4 301.239 1596.4 297.489 Q1596.4 293.114 1599.32 290.892 Q1602.26 288.67 1608.07 288.67 L1614.04 288.67 L1614.04 288.253 Q1614.04 285.314 1612.1 283.716 Q1610.17 282.096 1606.68 282.096 Q1604.46 282.096 1602.35 282.628 Q1600.24 283.161 1598.3 284.226 L1598.3 280.29 Q1600.64 279.388 1602.84 278.948 Q1605.04 278.485 1607.12 278.485 Q1612.74 278.485 1615.52 281.402 Q1618.3 284.318 1618.3 290.244 Z\" fill=\"#000000\" fill-rule=\"evenodd\" fill-opacity=\"1\" /><path clip-path=\"url(#clip380)\" d=\"M 0 0 M1627.07 269.017 L1631.33 269.017 L1631.33 305.036 L1627.07 305.036 L1627.07 269.017 Z\" fill=\"#000000\" fill-rule=\"evenodd\" fill-opacity=\"1\" /><path clip-path=\"url(#clip380)\" d=\"M 0 0 M1676.22 271.61 L1676.22 276.17 Q1673.55 274.897 1671.19 274.272 Q1668.83 273.647 1666.63 273.647 Q1662.81 273.647 1660.73 275.128 Q1658.67 276.61 1658.67 279.341 Q1658.67 281.633 1660.04 282.814 Q1661.42 283.971 1665.27 284.689 L1668.09 285.267 Q1673.32 286.263 1675.8 288.786 Q1678.3 291.286 1678.3 295.499 Q1678.3 300.522 1674.92 303.114 Q1671.56 305.707 1665.06 305.707 Q1662.61 305.707 1659.83 305.151 Q1657.07 304.596 1654.11 303.508 L1654.11 298.693 Q1656.96 300.29 1659.69 301.101 Q1662.42 301.911 1665.06 301.911 Q1669.06 301.911 1671.24 300.337 Q1673.42 298.763 1673.42 295.846 Q1673.42 293.3 1671.84 291.864 Q1670.29 290.429 1666.73 289.712 L1663.88 289.156 Q1658.65 288.115 1656.31 285.892 Q1653.97 283.67 1653.97 279.712 Q1653.97 275.128 1657.19 272.49 Q1660.43 269.851 1666.1 269.851 Q1668.53 269.851 1671.05 270.291 Q1673.58 270.73 1676.22 271.61 Z\" fill=\"#000000\" fill-rule=\"evenodd\" fill-opacity=\"1\" /><path clip-path=\"url(#clip380)\" d=\"M 0 0 M1689.62 271.749 L1689.62 279.11 L1698.39 279.11 L1698.39 282.42 L1689.62 282.42 L1689.62 296.494 Q1689.62 299.665 1690.48 300.568 Q1691.35 301.471 1694.02 301.471 L1698.39 301.471 L1698.39 305.036 L1694.02 305.036 Q1689.09 305.036 1687.21 303.207 Q1685.34 301.355 1685.34 296.494 L1685.34 282.42 L1682.21 282.42 L1682.21 279.11 L1685.34 279.11 L1685.34 271.749 L1689.62 271.749 Z\" fill=\"#000000\" fill-rule=\"evenodd\" fill-opacity=\"1\" /><path clip-path=\"url(#clip380)\" d=\"M 0 0 M1715.78 292.003 Q1710.61 292.003 1708.62 293.184 Q1706.63 294.364 1706.63 297.212 Q1706.63 299.48 1708.11 300.823 Q1709.62 302.142 1712.19 302.142 Q1715.73 302.142 1717.86 299.642 Q1720.01 297.119 1720.01 292.952 L1720.01 292.003 L1715.78 292.003 M1724.27 290.244 L1724.27 305.036 L1720.01 305.036 L1720.01 301.101 Q1718.55 303.462 1716.38 304.596 Q1714.2 305.707 1711.05 305.707 Q1707.07 305.707 1704.71 303.485 Q1702.37 301.239 1702.37 297.489 Q1702.37 293.114 1705.29 290.892 Q1708.23 288.67 1714.04 288.67 L1720.01 288.67 L1720.01 288.253 Q1720.01 285.314 1718.07 283.716 Q1716.15 282.096 1712.65 282.096 Q1710.43 282.096 1708.32 282.628 Q1706.22 283.161 1704.27 284.226 L1704.27 280.29 Q1706.61 279.388 1708.81 278.948 Q1711.01 278.485 1713.09 278.485 Q1718.72 278.485 1721.49 281.402 Q1724.27 284.318 1724.27 290.244 Z\" fill=\"#000000\" fill-rule=\"evenodd\" fill-opacity=\"1\" /><path clip-path=\"url(#clip380)\" d=\"M 0 0 M1737.26 271.749 L1737.26 279.11 L1746.03 279.11 L1746.03 282.42 L1737.26 282.42 L1737.26 296.494 Q1737.26 299.665 1738.11 300.568 Q1738.99 301.471 1741.66 301.471 L1746.03 301.471 L1746.03 305.036 L1741.66 305.036 Q1736.73 305.036 1734.85 303.207 Q1732.98 301.355 1732.98 296.494 L1732.98 282.42 L1729.85 282.42 L1729.85 279.11 L1732.98 279.11 L1732.98 271.749 L1737.26 271.749 Z\" fill=\"#000000\" fill-rule=\"evenodd\" fill-opacity=\"1\" /><path clip-path=\"url(#clip380)\" d=\"M 0 0 M1773.81 291.008 L1773.81 293.091 L1754.22 293.091 Q1754.5 297.489 1756.86 299.804 Q1759.25 302.096 1763.48 302.096 Q1765.94 302.096 1768.23 301.494 Q1770.54 300.892 1772.81 299.689 L1772.81 303.716 Q1770.52 304.688 1768.11 305.198 Q1765.71 305.707 1763.23 305.707 Q1757.03 305.707 1753.39 302.096 Q1749.78 298.485 1749.78 292.327 Q1749.78 285.962 1753.21 282.235 Q1756.66 278.485 1762.49 278.485 Q1767.72 278.485 1770.75 281.865 Q1773.81 285.221 1773.81 291.008 M1769.55 289.758 Q1769.5 286.263 1767.58 284.179 Q1765.68 282.096 1762.54 282.096 Q1758.97 282.096 1756.82 284.11 Q1754.69 286.124 1754.36 289.781 L1769.55 289.758 Z\" fill=\"#000000\" fill-rule=\"evenodd\" fill-opacity=\"1\" /><polyline clip-path=\"url(#clip380)\" style=\"stroke:#3da44d; stroke-width:4; stroke-opacity:1; fill:none\" points=\"\n",
       "  1363.88,348.236 1506.68,348.236 \n",
       "  \"/>\n",
       "<path clip-path=\"url(#clip380)\" d=\"M1435.28 373.836 L1417.18 366.335 L1409.68 348.236 L1417.18 330.137 L1435.28 322.636 L1453.37 330.137 L1460.88 348.236 L1453.37 366.335 Z\" fill=\"#3da44d\" fill-rule=\"evenodd\" fill-opacity=\"1\" stroke=\"#000000\" stroke-opacity=\"1\" stroke-width=\"5.12\"/>\n",
       "<path clip-path=\"url(#clip380)\" d=\"M 0 0 M1535.15 334.798 L1535.15 347.784 L1541.03 347.784 Q1544.3 347.784 1546.08 346.095 Q1547.86 344.405 1547.86 341.28 Q1547.86 338.178 1546.08 336.488 Q1544.3 334.798 1541.03 334.798 L1535.15 334.798 M1530.48 330.956 L1541.03 330.956 Q1546.84 330.956 1549.8 333.595 Q1552.79 336.21 1552.79 341.28 Q1552.79 346.395 1549.8 349.011 Q1546.84 351.627 1541.03 351.627 L1535.15 351.627 L1535.15 365.516 L1530.48 365.516 L1530.48 330.956 Z\" fill=\"#000000\" fill-rule=\"evenodd\" fill-opacity=\"1\" /><path clip-path=\"url(#clip380)\" d=\"M 0 0 M1558.88 329.497 L1563.14 329.497 L1563.14 365.516 L1558.88 365.516 L1558.88 329.497 Z\" fill=\"#000000\" fill-rule=\"evenodd\" fill-opacity=\"1\" /><path clip-path=\"url(#clip380)\" d=\"M 0 0 M1583.83 352.483 Q1578.67 352.483 1576.68 353.664 Q1574.69 354.844 1574.69 357.692 Q1574.69 359.96 1576.17 361.303 Q1577.67 362.622 1580.24 362.622 Q1583.79 362.622 1585.92 360.122 Q1588.07 357.599 1588.07 353.432 L1588.07 352.483 L1583.83 352.483 M1592.33 350.724 L1592.33 365.516 L1588.07 365.516 L1588.07 361.581 Q1586.61 363.942 1584.43 365.076 Q1582.26 366.187 1579.11 366.187 Q1575.13 366.187 1572.77 363.965 Q1570.43 361.719 1570.43 357.969 Q1570.43 353.594 1573.35 351.372 Q1576.29 349.15 1582.1 349.15 L1588.07 349.15 L1588.07 348.733 Q1588.07 345.794 1586.12 344.196 Q1584.2 342.576 1580.71 342.576 Q1578.49 342.576 1576.38 343.108 Q1574.27 343.641 1572.33 344.706 L1572.33 340.77 Q1574.67 339.868 1576.86 339.428 Q1579.06 338.965 1581.15 338.965 Q1586.77 338.965 1589.55 341.882 Q1592.33 344.798 1592.33 350.724 Z\" fill=\"#000000\" fill-rule=\"evenodd\" fill-opacity=\"1\" /><path clip-path=\"url(#clip380)\" d=\"M 0 0 M1622.65 349.868 L1622.65 365.516 L1618.39 365.516 L1618.39 350.007 Q1618.39 346.326 1616.96 344.497 Q1615.52 342.669 1612.65 342.669 Q1609.2 342.669 1607.21 344.868 Q1605.22 347.067 1605.22 350.863 L1605.22 365.516 L1600.94 365.516 L1600.94 339.59 L1605.22 339.59 L1605.22 343.618 Q1606.75 341.28 1608.81 340.122 Q1610.89 338.965 1613.6 338.965 Q1618.07 338.965 1620.36 341.743 Q1622.65 344.497 1622.65 349.868 Z\" fill=\"#000000\" fill-rule=\"evenodd\" fill-opacity=\"1\" /><path clip-path=\"url(#clip380)\" d=\"M 0 0 M1653.32 351.488 L1653.32 353.571 L1633.74 353.571 Q1634.02 357.969 1636.38 360.284 Q1638.76 362.576 1643 362.576 Q1645.45 362.576 1647.74 361.974 Q1650.06 361.372 1652.33 360.169 L1652.33 364.196 Q1650.04 365.168 1647.63 365.678 Q1645.22 366.187 1642.74 366.187 Q1636.54 366.187 1632.91 362.576 Q1629.3 358.965 1629.3 352.807 Q1629.3 346.442 1632.72 342.715 Q1636.17 338.965 1642 338.965 Q1647.23 338.965 1650.27 342.345 Q1653.32 345.701 1653.32 351.488 M1649.06 350.238 Q1649.02 346.743 1647.1 344.659 Q1645.2 342.576 1642.05 342.576 Q1638.48 342.576 1636.33 344.59 Q1634.2 346.604 1633.88 350.261 L1649.06 350.238 Z\" fill=\"#000000\" fill-rule=\"evenodd\" fill-opacity=\"1\" /><path clip-path=\"url(#clip380)\" d=\"M 0 0 M1664.53 332.229 L1664.53 339.59 L1673.3 339.59 L1673.3 342.9 L1664.53 342.9 L1664.53 356.974 Q1664.53 360.145 1665.38 361.048 Q1666.26 361.951 1668.92 361.951 L1673.3 361.951 L1673.3 365.516 L1668.92 365.516 Q1663.99 365.516 1662.12 363.687 Q1660.24 361.835 1660.24 356.974 L1660.24 342.9 L1657.12 342.9 L1657.12 339.59 L1660.24 339.59 L1660.24 332.229 L1664.53 332.229 Z\" fill=\"#000000\" fill-rule=\"evenodd\" fill-opacity=\"1\" /><path clip-path=\"url(#clip380)\" d=\"M 0 0 M1694.16 330.956 L1716.01 330.956 L1716.01 334.891 L1698.83 334.891 L1698.83 345.122 L1715.29 345.122 L1715.29 349.057 L1698.83 349.057 L1698.83 361.581 L1716.42 361.581 L1716.42 365.516 L1694.16 365.516 L1694.16 330.956 Z\" fill=\"#000000\" fill-rule=\"evenodd\" fill-opacity=\"1\" /><path clip-path=\"url(#clip380)\" d=\"M 0 0 M1735.71 352.483 Q1730.54 352.483 1728.55 353.664 Q1726.56 354.844 1726.56 357.692 Q1726.56 359.96 1728.04 361.303 Q1729.55 362.622 1732.12 362.622 Q1735.66 362.622 1737.79 360.122 Q1739.94 357.599 1739.94 353.432 L1739.94 352.483 L1735.71 352.483 M1744.2 350.724 L1744.2 365.516 L1739.94 365.516 L1739.94 361.581 Q1738.48 363.942 1736.31 365.076 Q1734.13 366.187 1730.98 366.187 Q1727 366.187 1724.64 363.965 Q1722.3 361.719 1722.3 357.969 Q1722.3 353.594 1725.22 351.372 Q1728.16 349.15 1733.97 349.15 L1739.94 349.15 L1739.94 348.733 Q1739.94 345.794 1738 344.196 Q1736.08 342.576 1732.58 342.576 Q1730.36 342.576 1728.25 343.108 Q1726.15 343.641 1724.2 344.706 L1724.2 340.77 Q1726.54 339.868 1728.74 339.428 Q1730.94 338.965 1733.02 338.965 Q1738.65 338.965 1741.42 341.882 Q1744.2 344.798 1744.2 350.724 Z\" fill=\"#000000\" fill-rule=\"evenodd\" fill-opacity=\"1\" /><path clip-path=\"url(#clip380)\" d=\"M 0 0 M1768 343.571 Q1767.28 343.155 1766.42 342.97 Q1765.59 342.761 1764.57 342.761 Q1760.96 342.761 1759.02 345.122 Q1757.1 347.46 1757.1 351.858 L1757.1 365.516 L1752.81 365.516 L1752.81 339.59 L1757.1 339.59 L1757.1 343.618 Q1758.44 341.257 1760.59 340.122 Q1762.74 338.965 1765.82 338.965 Q1766.26 338.965 1766.79 339.034 Q1767.33 339.081 1767.97 339.196 L1768 343.571 Z\" fill=\"#000000\" fill-rule=\"evenodd\" fill-opacity=\"1\" /><path clip-path=\"url(#clip380)\" d=\"M 0 0 M1776.68 332.229 L1776.68 339.59 L1785.45 339.59 L1785.45 342.9 L1776.68 342.9 L1776.68 356.974 Q1776.68 360.145 1777.53 361.048 Q1778.41 361.951 1781.08 361.951 L1785.45 361.951 L1785.45 365.516 L1781.08 365.516 Q1776.15 365.516 1774.27 363.687 Q1772.4 361.835 1772.4 356.974 L1772.4 342.9 L1769.27 342.9 L1769.27 339.59 L1772.4 339.59 L1772.4 332.229 L1776.68 332.229 Z\" fill=\"#000000\" fill-rule=\"evenodd\" fill-opacity=\"1\" /><path clip-path=\"url(#clip380)\" d=\"M 0 0 M1812.6 349.868 L1812.6 365.516 L1808.34 365.516 L1808.34 350.007 Q1808.34 346.326 1806.91 344.497 Q1805.47 342.669 1802.6 342.669 Q1799.16 342.669 1797.16 344.868 Q1795.17 347.067 1795.17 350.863 L1795.17 365.516 L1790.89 365.516 L1790.89 329.497 L1795.17 329.497 L1795.17 343.618 Q1796.7 341.28 1798.76 340.122 Q1800.85 338.965 1803.55 338.965 Q1808.02 338.965 1810.31 341.743 Q1812.6 344.497 1812.6 349.868 Z\" fill=\"#000000\" fill-rule=\"evenodd\" fill-opacity=\"1\" /></svg>\n"
      ]
     },
     "execution_count": 17,
     "metadata": {},
     "output_type": "execute_result"
    }
   ],
   "source": [
    "knots = 300\n",
    "function n_orbits_ref_traj(init_orbit::Orbit,orbits) #knots,Nx,Nu\n",
    "    traj = zeros(knots-1,Nx+Nu)\n",
    "    x = copy(init_orbit.x0)\n",
    "    u = zeros(Nu)\n",
    "    traj[1,:] .= vcat(x,u)\n",
    "    h = init_orbit.period*orbits/(knots)\n",
    "    for i in 2:size(traj)[1]\n",
    "        integrator!(x, u, h)\n",
    "        traj[i,:] .= vcat(x,u)\n",
    "    end\n",
    "    integrator!(x, u, h)\n",
    "    next = vcat(x,u)\n",
    "    print(norm(next[1:Nx] - init_orbit.x0))\n",
    "    @assert norm(next[1:Nx] - init_orbit.x0)<2.1 #max integrator error #decrease orbits or increase knots\n",
    "    traj = reshape(traj',((knots-1)*(Nx+Nu),1))\n",
    "    traj = vcat(traj,init_orbit.x0)\n",
    "    return traj\n",
    "end\n",
    "orbits = 2\n",
    "z = n_orbits_ref_traj(transfer_orbit,orbits)\n",
    "X,U = unpackZ(knots, z)\n",
    "plot(X[1, :], X[2, :], aspect_ratio=:equal, lims=(-semiMajorAxis_goal*1.5,semiMajorAxis_goal*1.5), title = \"Reference Trajectory ($(orbits) orbits)\", label = \"Reference\", lw = 3)\n",
    "xlabel!(\"Orbital Units\")\n",
    "ylabel!(\"Orbital Units\")\n",
    "plot!([goal_orbit.x0[1]], [goal_orbit.x0[2]], markershape=:xcross, markersize=5, label=\"Goal State\")\n",
    "plot!([0], [0], lw=10, markershape=:o, label=\"Planet Earth\")"
   ]
  },
  {
   "cell_type": "code",
   "execution_count": null,
   "metadata": {},
   "outputs": [],
   "source": [
    "knots = 100\n",
    "function impulse_ref_traj(init_orbit::Orbit,final_orbit::Orbit) #knots,Nx,Nu\n",
    "    time = knots #Int(ceil(init_orbit.period/2*knots/2+final_orbit.period*knots))\n",
    "    traj = zeros(time-1,Nx+Nu)\n",
    "    x = copy(init_orbit.x0)\n",
    "    u = zeros(Nu)\n",
    "    traj[1,:] .= vcat(x,u)\n",
    "    h = init_orbit.period/(knots)\n",
    "    for i in 2:size(traj)[1]\n",
    "        integrator!(x, u, h)\n",
    "        if (i == Int(ceil(init_orbit.period/2*knots)))\n",
    "            x = final_orbit.x0 .* -1\n",
    "            h = 5*final_orbit.period/(knots)\n",
    "        end\n",
    "        traj[i,:] .= vcat(x,u)\n",
    "    end\n",
    "    traj = reshape(traj',((time-1)*(Nx+Nu),1))\n",
    "    traj = vcat(traj,final_orbit.x0)\n",
    "    return traj\n",
    "end\n",
    "z = impulse_ref_traj(transfer_orbit,goal_orbit)\n",
    "X,U = unpackZ(knots, z)\n",
    "transition = Int(ceil(transfer_orbit.period*knots/5))\n",
    "# display(X[:,transition-5:transition+5]')\n",
    "plot(X[1, :], X[2, :], aspect_ratio=:equal, lims=(-semiMajorAxis_goal*1.5,semiMajorAxis_goal*1.5))\n",
    "plot!([goal_orbit.x0[1]], [goal_orbit.x0[2]], markershape=:xcross, markersize=5)"
   ]
  },
  {
   "cell_type": "code",
   "execution_count": null,
   "metadata": {},
   "outputs": [],
   "source": [
    "# @userplot CirclePlot\n",
    "# @recipe function f(cp::CirclePlot)\n",
    "#     x, y, i = cp.args\n",
    "#     n = length(x)\n",
    "#     inds = circshift(1:n, 1 - i)\n",
    "#     linewidth --> range(0, 10, length = n)\n",
    "#     seriesalpha --> range(0, 1, length = n)\n",
    "#     aspect_ratio --> 1\n",
    "#     label --> false\n",
    "#     x[inds], y[inds]\n",
    "# end\n",
    "\n",
    "# n = 150\n",
    "# t = range(0, 2π, length = n)\n",
    "# x =  #sin.(t)\n",
    "# y = cos.(t)\n",
    "\n",
    "# anim = @animate for i ∈ 1:n\n",
    "#     circleplot(x, y, i)\n",
    "# end\n",
    "# gif(anim, \"anim_fps15.gif\", fps = 15)"
   ]
  },
  {
   "cell_type": "code",
   "execution_count": null,
   "metadata": {},
   "outputs": [],
   "source": [
    "# knots_final = 10000\n",
    "# X = zeros((Nx, knots_final))\n",
    "# X[:, 1] .= transfer_orbit.x0\n",
    "# for k = 1:knots_final-1\n",
    "#     X[:, k+1] = dynamics_rk4(X[:, k], zeros(3), 1e-3)\n",
    "# end"
   ]
  },
  {
   "cell_type": "code",
   "execution_count": 19,
   "metadata": {},
   "outputs": [
    {
     "data": {
      "text/plain": [
       "0.0033333333333333335"
      ]
     },
     "execution_count": 19,
     "metadata": {},
     "output_type": "execute_result"
    }
   ],
   "source": [
    "n_nlp = (Nx+Nu)*(knots-1)+Nx # number of decision variables\n",
    "idx = get_cinds(Nx, knots)\n",
    "m_nlp = idx[end][end]\n",
    "h = 1/knots #transfer_orbit.period*5/knots"
   ]
  },
  {
   "cell_type": "code",
   "execution_count": 20,
   "metadata": {},
   "outputs": [
    {
     "name": "stdout",
     "output_type": "stream",
     "text": [
      "starting row_col\n",
      "Finished row_col\n",
      "starting row_col\n",
      "Finished row_col\n"
     ]
    },
    {
     "data": {
      "text/plain": [
       "7289991-element Array{Tuple{Any,Any},1}:\n",
       " (1, 1)\n",
       " (2, 1)\n",
       " (3, 1)\n",
       " (4, 1)\n",
       " (5, 1)\n",
       " (6, 1)\n",
       " (7, 1)\n",
       " (8, 1)\n",
       " (9, 1)\n",
       " (10, 1)\n",
       " (11, 1)\n",
       " (12, 1)\n",
       " (13, 1)\n",
       " ⋮\n",
       " (2692, 2697)\n",
       " (2693, 2697)\n",
       " (2694, 2697)\n",
       " (2695, 2697)\n",
       " (2696, 2697)\n",
       " (2697, 2697)\n",
       " (2698, 2697)\n",
       " (2699, 2697)\n",
       " (2700, 2697)\n",
       " (2701, 2697)\n",
       " (2702, 2697)\n",
       " (2703, 2697)"
      ]
     },
     "execution_count": 20,
     "metadata": {},
     "output_type": "execute_result"
    }
   ],
   "source": [
    "sj = sparsity_jacobian(n_nlp, m_nlp)\n",
    "sh = sparsity_hessian(n_nlp, m_nlp)"
   ]
  },
  {
   "cell_type": "code",
   "execution_count": null,
   "metadata": {},
   "outputs": [],
   "source": [
    "prob = ProblemMOI(n_nlp, knots, h, m_nlp=m_nlp, idx_ineq=idx, sparsity_jac=sj, sparsity_hess=sh)\n",
    "z_sol = solve(z,prob) # solve"
   ]
  },
  {
   "cell_type": "code",
   "execution_count": null,
   "metadata": {},
   "outputs": [],
   "source": [
    "Xsol,Usol = unpackZ(knots, z_sol)\n",
    "plot(Xsol[1, :], Xsol[2, :], aspect_ratio=:equal, lims=(-semiMajorAxis_goal*3,semiMajorAxis_goal*3), label=\"Solution\", lw=5)\n",
    "xlabel!(\"Orbital Units\")\n",
    "ylabel!(\"Orbital Units\")\n",
    "plot!([goal_orbit.x0[1]], [goal_orbit.x0[2]], markershape=:xcross, markersize=5, label=\"Goal State\")\n",
    "plot!([0], [0], lw=1, markershape=:o, label=\"Planet Earth\")\n",
    "plot!(X[1, :], X[2, :], title = \"Optimal Solution Tmax=Inf\", label = \"Reference\", lw = 3)\n"
   ]
  },
  {
   "cell_type": "code",
   "execution_count": null,
   "metadata": {},
   "outputs": [],
   "source": [
    "knots_final = 10000\n",
    "Xfinal = zeros((Nx, knots_final))\n",
    "Xfinal[:, 1] .= Xsol[:,end]\n",
    "for k = 1:knots_final-1\n",
    "    Xfinal[:, k+1] = dynamics_rk4(Xfinal[:, k], zeros(3), 1e-2)\n",
    "end\n",
    "plot(Xfinal[1,:], Xfinal[2,:], )"
   ]
  },
  {
   "cell_type": "code",
   "execution_count": null,
   "metadata": {},
   "outputs": [],
   "source": [
    "plot(1:knots-1, Usol[1, :], label=\"Ux\")\n",
    "plot!(1:knots-1, Usol[2, :], label=\"Uy\")\n",
    "plot!(1:knots-1, Usol[3, :], label=\"Uz\")"
   ]
  },
  {
   "cell_type": "code",
   "execution_count": 18,
   "metadata": {},
   "outputs": [
    {
     "ename": "LoadError",
     "evalue": "UndefVarError: Xsol not defined",
     "output_type": "error",
     "traceback": [
      "UndefVarError: Xsol not defined",
      "",
      "Stacktrace:",
      " [1] Trajectory() at .\\util.jl:438",
      " [2] top-level scope at In[18]:29",
      " [3] include_string(::Function, ::Module, ::String, ::String) at .\\loading.jl:1091"
     ]
    }
   ],
   "source": [
    "using Plots\n",
    "# define the Lorenz attractor\n",
    "Base.@kwdef mutable struct Trajectory\n",
    "#     dt::Float64 = 0.02\n",
    "#     σ::Float64 = 10\n",
    "#     ρ::Float64 = 28\n",
    "#     β::Float64 = 8/3\n",
    "    x::Float64 = Xsol[1,1]\n",
    "    y::Float64 = Xsol[2,1]\n",
    "    z::Float64 = Xsol[3,1]\n",
    "    ux::Float64 = Usol[1,1]\n",
    "    uy::Float64 = Usol[2,1]\n",
    "    uz::Float64 = Usol[3,1]\n",
    "    i::Int = 0\n",
    "end\n",
    "\n",
    "function step!(l::Trajectory)\n",
    "    l.i += 1\n",
    "    l.x = Xsol[1, l.i]\n",
    "    l.y = Xsol[2, l.i]\n",
    "    l.z = Xsol[3, l.i]\n",
    "#     l.ux = U[1, l.i]\n",
    "#     l.uy = U[2, l.i]\n",
    "#     l.uz = U[3, l.i]\n",
    "    \n",
    "#    \n",
    "end\n",
    "\n",
    "t = Trajectory()\n",
    "\n",
    "\n",
    "# initialize a 3D plot with 1 empty series\n",
    "plt = plot3d(\n",
    "    1,\n",
    "    lims=(-semiMajorAxis_goal*1.25,semiMajorAxis_goal*1.25),\n",
    "#     xlim = (-30, 30),\n",
    "#     ylim = (-30, 30),\n",
    "#     zlim = (0, 60),\n",
    "    title = \"Tmax = 1.0\",\n",
    "    marker = 2,\n",
    "    label = \"Reference Trajectory\", \n",
    "    camera = (45, 45), \n",
    "    aspect_ratio=:equal,\n",
    ")\n",
    "plot!([0], [0], [0], markershape=:o, markersize=3, label=\"Planet Earth\", color=:blue)\n",
    "xlabel!(\"Orbital Units\")\n",
    "ylabel!(\"Orbital Units\")\n",
    "# label!(\"Orbital Units\")\n",
    "# build an animated gif by pushing new points to the plot, saving every 10th frame\n",
    "@gif for i=1:knots\n",
    "    step!(t)\n",
    "    push!(plt, t.x, t.y, t.z)\n",
    "\n",
    "end every 10"
   ]
  },
  {
   "cell_type": "markdown",
   "metadata": {},
   "source": [
    "# DIRCOL Algorithm"
   ]
  },
  {
   "cell_type": "code",
   "execution_count": null,
   "metadata": {},
   "outputs": [],
   "source": [
    "# TASK: Complete implement DIRCOL Algo\n",
    "\n"
   ]
  },
  {
   "cell_type": "markdown",
   "metadata": {},
   "source": [
    "### Forward Pass"
   ]
  },
  {
   "cell_type": "code",
   "execution_count": null,
   "metadata": {},
   "outputs": [],
   "source": [
    "# TASK: Complete forward simulation of satelite "
   ]
  },
  {
   "cell_type": "markdown",
   "metadata": {},
   "source": [
    "## Part (b): Simple trajectory \n",
    "Planar example with quibit interpolation and no Thurst conditions"
   ]
  },
  {
   "cell_type": "code",
   "execution_count": null,
   "metadata": {},
   "outputs": [],
   "source": [
    "# Task Solve Simple Trajectory"
   ]
  },
  {
   "cell_type": "code",
   "execution_count": null,
   "metadata": {},
   "outputs": [],
   "source": [
    "# vis = Visualizer()\n",
    "# set_mesh!(vis, model)\n",
    "# render(vis)"
   ]
  },
  {
   "cell_type": "code",
   "execution_count": null,
   "metadata": {},
   "outputs": [],
   "source": [
    "# visualize!(vis, model, tf, Xline)"
   ]
  },
  {
   "cell_type": "markdown",
   "metadata": {},
   "source": [
    "## Part (c): Higher Order DIRCOL\n",
    "Solve the simple planar problem with unconstrained thrust with higher order DIRCOL 3->8th order"
   ]
  },
  {
   "cell_type": "code",
   "execution_count": null,
   "metadata": {},
   "outputs": [],
   "source": [
    "# TASK: Implement the following method"
   ]
  },
  {
   "cell_type": "code",
   "execution_count": null,
   "metadata": {},
   "outputs": [],
   "source": [
    "# TASK: Plot the comparison\n"
   ]
  },
  {
   "cell_type": "markdown",
   "metadata": {},
   "source": [
    "## Part (d): Inequality Constraints \n",
    "Using the thruster constraints solve the optimization problem"
   ]
  },
  {
   "cell_type": "code",
   "execution_count": null,
   "metadata": {},
   "outputs": [],
   "source": [
    "# TASK: Inequality constraints"
   ]
  },
  {
   "cell_type": "code",
   "execution_count": null,
   "metadata": {},
   "outputs": [],
   "source": [
    "# render(vis)"
   ]
  },
  {
   "cell_type": "code",
   "execution_count": null,
   "metadata": {},
   "outputs": [],
   "source": [
    "# visualize!(vis, model, tf, Xflip)"
   ]
  },
  {
   "cell_type": "markdown",
   "metadata": {},
   "source": [
    "## Part (e): Non-Planar Satellite Control\n"
   ]
  },
  {
   "cell_type": "code",
   "execution_count": null,
   "metadata": {},
   "outputs": [],
   "source": [
    "# TASK: Non-Planar Control"
   ]
  },
  {
   "cell_type": "markdown",
   "metadata": {},
   "source": [
    "## TESTS"
   ]
  },
  {
   "cell_type": "code",
   "execution_count": null,
   "metadata": {},
   "outputs": [],
   "source": [
    "# run_tests();"
   ]
  }
 ],
 "metadata": {
  "kernelspec": {
   "display_name": "Julia 1.5.3",
   "language": "julia",
   "name": "julia-1.5"
  },
  "language_info": {
   "file_extension": ".jl",
   "mimetype": "application/julia",
   "name": "julia",
   "version": "1.5.3"
  }
 },
 "nbformat": 4,
 "nbformat_minor": 4
}
