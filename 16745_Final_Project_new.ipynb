{
 "cells": [
  {
   "cell_type": "code",
   "execution_count": 67,
   "metadata": {},
   "outputs": [],
   "source": [
    "import Pkg; Pkg.activate(joinpath(@__DIR__,\"..\")); Pkg.instantiate();\n",
    "# Pkg.add(\"ForwardDiff\")\n",
    "# Pkg.add(\"RobotDynamics\")\n",
    "# Pkg.add(\"LinearAlgebra\")\n",
    "# Pkg.add(\"StaticArrays\")\n",
    "# Pkg.add(\"SparseArrays\")\n",
    "# Pkg.add(\"Plots\")\n",
    "# Pkg.add(\"Printf\")\n",
    "# Pkg.add(\"Ipopt\")\n",
    "# Pkg.add(\"MathOptInterface\")\n",
    "# Pkg.add(\"TrajOptPlots\")\n",
    "using ForwardDiff\n",
    "using Test\n",
    "using RobotDynamics\n",
    "using LinearAlgebra\n",
    "using StaticArrays\n",
    "using SparseArrays\n",
    "using Plots\n",
    "using Ipopt\n",
    "using MathOptInterface\n",
    "using TrajOptPlots\n",
    "const MOI = MathOptInterface\n",
    "# Pkg.add(\"Multi-Threading\")\n",
    "# using Multi-Threading\n",
    "# using PyPlots\n",
    "using Printf\n",
    "\n",
    "# include(\"quadratic_cost.jl\")\n"
   ]
  },
  {
   "cell_type": "markdown",
   "metadata": {},
   "source": [
    "# Final Project Info\n",
    "In this we present a geostationary transfer orbit to a geosynchronous (GSO) or geostationary orbit (GEO).  We use Keplerian Orbital Dynamics to model our system. We make several assumptions like Earth Reference Frame, Spherical Earth, Kepler Dynamics. \n",
    "\n",
    "## The Model\n",
    "We'll be using the Kepler Dynamics:\n",
    "\n",
    "$\\newcommand{\\norm}[1]{\\left\\lVert#1\\right\\rVert}$\n",
    "\n",
    "$$ \n",
    "\\ddot{r} = F = \\frac{-\\mu}{\\norm{r}^3}*r+u \\\\\n",
    "x = [r, \\dot{r}] \\\\\n",
    "\\norm{u} \\le Tmax\n",
    "$$\n",
    "with the following model parameters:\n",
    "* $\\mu$: Gravitational Parameter = 63781\n",
    "* $r$: distance to earth center\n",
    "* $u$: control of ion thruster"
   ]
  },
  {
   "cell_type": "code",
   "execution_count": 68,
   "metadata": {},
   "outputs": [
    {
     "data": {
      "text/plain": [
       "20"
      ]
     },
     "execution_count": 68,
     "metadata": {},
     "output_type": "execute_result"
    }
   ],
   "source": [
    "Threads.nthreads()"
   ]
  },
  {
   "cell_type": "code",
   "execution_count": 69,
   "metadata": {},
   "outputs": [
    {
     "data": {
      "text/plain": [
       "make_orbit (generic function with 1 method)"
      ]
     },
     "execution_count": 69,
     "metadata": {},
     "output_type": "execute_result"
    }
   ],
   "source": [
    "# Problem Setup\n",
    "# Dont want KM and S\n",
    "# Rescale unite to order 1\n",
    "# Length unit = SMA \n",
    "# Time scale = T orbit period\n",
    "# Helps condition number \n",
    "\n",
    "Nx = 6 \n",
    "Nu = 3\n",
    "\n",
    "# Hint can take big steps 10 knot points per-orbit\n",
    "# model = Kepler() # TODO\n",
    "# n,m = size(model)          # state and control dimensions\n",
    "# TODO FIX ME\n",
    "dt = 0.025                 # time step (sec)\n",
    "tf = 1.5                   # time horizon (sec)\n",
    "T = Int(tf/dt) + 1         # number of time steps\n",
    "\n",
    "# n_nlp = (Nx+Nu)*T # number of decision variables\n",
    "# m_nlp = Nx*(T+1)\n",
    "\n",
    "# Initial & final condition\n",
    "\n",
    "#cartesian and ECI\n",
    "#x,y,z,vx,vy,vz\n",
    "earthRadius_km = 6378.1 # [km]\n",
    "LEO_km = 500 #km above sealevel #circular low earth orbit # 250km \n",
    "GSO_km = 35786 #km above sealevel #circular geosychonous orbit\n",
    "μ_km_s = 3.986*10e5 #gravitational0 parameter [km^3 / s^2]\n",
    "semiMajorAxis_scale = (GSO_km+earthRadius_km+earthRadius_km+LEO_km)/2\n",
    "period_scale = sqrt(semiMajorAxis_scale^3/μ_km_s)*2*pi\n",
    "μ = μ_km_s*period_scale^2/semiMajorAxis_scale^3  #μ(OU^3/P^2)\n",
    "\n",
    "struct Orbit{T}\n",
    "    semiMajorAxis::T\n",
    "    period::T\n",
    "    perigee::T #closest radius to earth\n",
    "    perigee_V::T #velocity at perigee\n",
    "    x0::Vector{T}\n",
    "#     function Orbit(x0) \n",
    "#         print(x0) #best is to input point with velocity and calucate useful parts of orbit\n",
    "#     end\n",
    "end\n",
    "\n",
    "function make_orbit(x0)\n",
    "    velocity = norm(x0[4:end])\n",
    "    \n",
    "    radius = norm(x0[1:3])\n",
    "    \n",
    "    semiMajorAxis = 1/(-velocity^2/μ+2/radius)  #reverse vis a viv\n",
    "    \n",
    "    period = sqrt(semiMajorAxis^3/μ)*2*pi       #period equation\n",
    "    \n",
    "    E = velocity^2/2 - μ/radius   #specific energy of satellite\n",
    "    \n",
    "    J = norm(cross(x0[1:3],x0[4:end]))           #specific momentum of satellite\n",
    "    \n",
    "    perigee = -μ/(2*E) - 1/2*sqrt(μ^2/(E^2)+2*J^2/E) #solve quadratic when velocity of radius is 0\n",
    "    \n",
    "    perigee_v =  sqrt(μ*(2.0/perigee-1.0/semiMajorAxis)) # Vis a Viv\n",
    "    apogee  = -μ/(2*E) + 1/2(μ^2/(E^2)+2*J^2/E) #solve quadratic when velocity of radius is 0\n",
    "    apogee_v =  sqrt(μ*(2.0/apogee-1.0/semiMajorAxis)) # Vis a Viv\n",
    "    return Orbit(semiMajorAxis, period, perigee, perigee_v, x0)\n",
    "end"
   ]
  },
  {
   "cell_type": "code",
   "execution_count": 70,
   "metadata": {},
   "outputs": [
    {
     "data": {
      "text/plain": [
       "Orbit{Float64}(1.0, 1.0, 0.28049720444841386, 15.556684458046954, [0.28049720444841386, 0.0, 0.0, 0.0, 15.556684458046954, 0.0])"
      ]
     },
     "execution_count": 70,
     "metadata": {},
     "output_type": "execute_result"
    }
   ],
   "source": [
    "# Geosynchronous Transfer orbit (starting position)\n",
    "semiMajorAxis_transfer = (GSO_km+earthRadius_km+earthRadius_km+LEO_km)/(2*semiMajorAxis_scale) #OU\n",
    "instantRadius_transfer = (earthRadius_km+LEO_km) / semiMajorAxis_scale # #OU\n",
    "instantVelocity_transfer = sqrt(μ*(2.0/instantRadius_transfer-1.0/semiMajorAxis_transfer)) #sqrt(OU^3/P^2/OU) =OU/P\n",
    "period_transfer = sqrt(semiMajorAxis_transfer^3/μ)*2*pi\n",
    "x0    = [instantRadius_transfer, 0.0, 0.0, 0.0, instantVelocity_transfer, 0.0] # initial state #geosynchronous transfer orbit (GTO, where rocket dropped satellite off)\n",
    "                                                                             #many kilometers above Africa in an elliptical orbit \n",
    "transfer_orbit = Orbit(semiMajorAxis_transfer, period_transfer, instantRadius_transfer, instantVelocity_transfer, x0)"
   ]
  },
  {
   "cell_type": "code",
   "execution_count": 71,
   "metadata": {},
   "outputs": [
    {
     "data": {
      "text/plain": [
       "3-element Vector{Float64}:\n",
       " 0.0\n",
       " 0.0\n",
       " 0.0"
      ]
     },
     "execution_count": 71,
     "metadata": {},
     "output_type": "execute_result"
    }
   ],
   "source": [
    "# Geosynchronous Orbit (goal position)\n",
    "semiMajorAxis_goal = 2*(earthRadius_km+GSO_km)/(2*semiMajorAxis_scale)\n",
    "instantRadius_goal = (earthRadius_km+GSO_km) / semiMajorAxis_scale\n",
    "instantVelocity_goal = sqrt(μ*(2.0/instantRadius_goal-1.0/semiMajorAxis_goal)) # VisViva\n",
    "period_goal = sqrt(semiMajorAxis_goal^3/μ)*2*pi\n",
    "xgoal = [instantRadius_goal, 0.0, 0.0, 0.0, instantVelocity_goal, 0.0] # goal state #circular geosychonous orbit above africa\n",
    "goal_orbit = Orbit(semiMajorAxis_goal, period_goal, instantRadius_goal, instantVelocity_goal, xgoal)\n",
    "ugto = zeros(3)                  # hover controls\n"
   ]
  },
  {
   "cell_type": "markdown",
   "metadata": {},
   "source": [
    "## Cost Function"
   ]
  },
  {
   "cell_type": "code",
   "execution_count": 72,
   "metadata": {},
   "outputs": [
    {
     "data": {
      "text/plain": [
       "cost (generic function with 1 method)"
      ]
     },
     "execution_count": 72,
     "metadata": {},
     "output_type": "execute_result"
    }
   ],
   "source": [
    "function cost(prob, Z)\n",
    "    X, U = unpackZ(prob.N, Z)\n",
    "   # U = Z[Nx+1:Nx+Nu, :]\n",
    "    N = prob.N\n",
    "    J = 0.0\n",
    "    for k = 1:N-1\n",
    "        J += norm(U[:, k])^2 + (norm(X[1:3, k])-goal_orbit.perigee)^2\n",
    "    end \n",
    "    J += (norm(X[:,end]-xgoal))\n",
    "    return J \n",
    "end"
   ]
  },
  {
   "cell_type": "markdown",
   "metadata": {},
   "source": [
    "## Dynamics"
   ]
  },
  {
   "cell_type": "code",
   "execution_count": 73,
   "metadata": {},
   "outputs": [
    {
     "data": {
      "text/plain": [
       "dynamics (generic function with 1 method)"
      ]
     },
     "execution_count": 73,
     "metadata": {},
     "output_type": "execute_result"
    }
   ],
   "source": [
    "function dynamics(x, u)\n",
    "    # x = state [x, y, z, dx, dy, dz]\n",
    "    # u = control [ux, uy, uz]\n",
    "    r = x[1:3] #orbital units (OU)\n",
    "    ṙ = x[4:end] #\n",
    "    r̈ = (-μ/(norm(r)^3))*r + u #μ(OU^3/P^2)/OU^3*OU\n",
    "    return [ṙ; r̈]\n",
    "end"
   ]
  },
  {
   "cell_type": "code",
   "execution_count": 74,
   "metadata": {},
   "outputs": [
    {
     "data": {
      "text/plain": [
       "integrator! (generic function with 1 method)"
      ]
     },
     "execution_count": 74,
     "metadata": {},
     "output_type": "execute_result"
    }
   ],
   "source": [
    "function integrator!(x, u, h)\n",
    "    # x = state\n",
    "    # u = control\n",
    "    # h = time step\n",
    "#     ẋ = dynamics(x, u)\n",
    "    f1 = dynamics(x, u)\n",
    "    f2 = dynamics(x + 0.5*h*f1, u)\n",
    "    f3 = dynamics(x + 0.5*h*f2, u)\n",
    "    f4 = dynamics(x + h*f3, u)\n",
    "    x .+= (h/6.0)*(f1 + 2*f2 + 2*f3 + f4)\n",
    "end"
   ]
  },
  {
   "cell_type": "code",
   "execution_count": 75,
   "metadata": {},
   "outputs": [
    {
     "data": {
      "text/plain": [
       "dynamics_rk4 (generic function with 1 method)"
      ]
     },
     "execution_count": 75,
     "metadata": {},
     "output_type": "execute_result"
    }
   ],
   "source": [
    "function dynamics_rk4(x, u, h) # Maybe rk8 or more\n",
    "    # x = state\n",
    "    # u = control\n",
    "    # h = time step\n",
    "#     ẋ = dynamics(x, u)\n",
    "    f1 = dynamics(x, u)\n",
    "    f2 = dynamics(x + 0.5*h*f1, u)\n",
    "    f3 = dynamics(x + 0.5*h*f2, u)\n",
    "    f4 = dynamics(x + h*f3, u)\n",
    "    return (x + (h/6.0)*(f1 + 2*f2 + 2*f3 + f4))\n",
    "end"
   ]
  },
  {
   "cell_type": "code",
   "execution_count": 76,
   "metadata": {},
   "outputs": [],
   "source": [
    "# function dynamics_rkX(x, u, h, s)\n",
    "#     k1 = dynamics(x, u)\n",
    "#     ks =\n",
    "#     for i = 1:s-2\n",
    "#         k = dynamics(x + 1/(s-2)*prev_k*h, u)\n",
    "        \n",
    "        "
   ]
  },
  {
   "cell_type": "code",
   "execution_count": 77,
   "metadata": {},
   "outputs": [
    {
     "data": {
      "text/plain": [
       "get_energy (generic function with 1 method)"
      ]
     },
     "execution_count": 77,
     "metadata": {},
     "output_type": "execute_result"
    }
   ],
   "source": [
    "function get_energy(x)\n",
    "    return norm(x[4:end])^2/2 - μ/norm(x[1:3])\n",
    "end"
   ]
  },
  {
   "cell_type": "code",
   "execution_count": 78,
   "metadata": {},
   "outputs": [
    {
     "data": {
      "text/plain": [
       "plot_orbit (generic function with 1 method)"
      ]
     },
     "execution_count": 78,
     "metadata": {},
     "output_type": "execute_result"
    }
   ],
   "source": [
    "knots = 100\n",
    "function plot_orbit(orbit::Orbit)\n",
    "    t = range(0, orbit.period, length=knots) \n",
    "    h = t[2]-t[1]\n",
    "    traj = zeros(size(t)[1], size(x0)[1])\n",
    "    x = copy(orbit.x0)\n",
    "    traj[1,:] .= x\n",
    "    \n",
    "    u = zeros(3)\n",
    "    energy = zero(t)\n",
    "    energy[1] = get_energy(x)\n",
    "    for i in 2:size(t)[1]\n",
    "        integrator!(x, u, h)\n",
    "        traj[i,:] .= x\n",
    "        energy[i] = get_energy(x)\n",
    "        orbit = make_orbit(x)\n",
    "    end\n",
    "#     plot(t, energy)\n",
    "    plot(traj[:, 1], traj[:, 2], aspect_ratio=:equal, lims=(-semiMajorAxis_goal*1.5,semiMajorAxis_goal*1.5))\n",
    "end"
   ]
  },
  {
   "cell_type": "code",
   "execution_count": 79,
   "metadata": {},
   "outputs": [
    {
     "data": {
      "image/svg+xml": [
       "<?xml version=\"1.0\" encoding=\"utf-8\"?>\n",
       "<svg xmlns=\"http://www.w3.org/2000/svg\" xmlns:xlink=\"http://www.w3.org/1999/xlink\" width=\"600\" height=\"400\" viewBox=\"0 0 2400 1600\">\n",
       "<defs>\n",
       "  <clipPath id=\"clip580\">\n",
       "    <rect x=\"0\" y=\"0\" width=\"2400\" height=\"1600\"/>\n",
       "  </clipPath>\n",
       "</defs>\n",
       "<path clip-path=\"url(#clip580)\" d=\"\n",
       "M0 1600 L2400 1600 L2400 0 L0 0  Z\n",
       "  \" fill=\"#ffffff\" fill-rule=\"evenodd\" fill-opacity=\"1\"/>\n",
       "<defs>\n",
       "  <clipPath id=\"clip581\">\n",
       "    <rect x=\"480\" y=\"0\" width=\"1681\" height=\"1600\"/>\n",
       "  </clipPath>\n",
       "</defs>\n",
       "<path clip-path=\"url(#clip580)\" d=\"\n",
       "M530.515 1486.45 L1969.72 1486.45 L1969.72 47.2441 L530.515 47.2441  Z\n",
       "  \" fill=\"#ffffff\" fill-rule=\"evenodd\" fill-opacity=\"1\"/>\n",
       "<defs>\n",
       "  <clipPath id=\"clip582\">\n",
       "    <rect x=\"530\" y=\"47\" width=\"1440\" height=\"1440\"/>\n",
       "  </clipPath>\n",
       "</defs>\n",
       "<polyline clip-path=\"url(#clip582)\" style=\"stroke:#000000; stroke-width:2; stroke-opacity:0.1; fill:none\" points=\"\n",
       "  692.125,1486.45 692.125,47.2441 \n",
       "  \"/>\n",
       "<polyline clip-path=\"url(#clip582)\" style=\"stroke:#000000; stroke-width:2; stroke-opacity:0.1; fill:none\" points=\"\n",
       "  971.121,1486.45 971.121,47.2441 \n",
       "  \"/>\n",
       "<polyline clip-path=\"url(#clip582)\" style=\"stroke:#000000; stroke-width:2; stroke-opacity:0.1; fill:none\" points=\"\n",
       "  1250.12,1486.45 1250.12,47.2441 \n",
       "  \"/>\n",
       "<polyline clip-path=\"url(#clip582)\" style=\"stroke:#000000; stroke-width:2; stroke-opacity:0.1; fill:none\" points=\"\n",
       "  1529.11,1486.45 1529.11,47.2441 \n",
       "  \"/>\n",
       "<polyline clip-path=\"url(#clip582)\" style=\"stroke:#000000; stroke-width:2; stroke-opacity:0.1; fill:none\" points=\"\n",
       "  1808.11,1486.45 1808.11,47.2441 \n",
       "  \"/>\n",
       "<polyline clip-path=\"url(#clip580)\" style=\"stroke:#000000; stroke-width:4; stroke-opacity:1; fill:none\" points=\"\n",
       "  530.515,1486.45 1969.72,1486.45 \n",
       "  \"/>\n",
       "<polyline clip-path=\"url(#clip580)\" style=\"stroke:#000000; stroke-width:4; stroke-opacity:1; fill:none\" points=\"\n",
       "  692.125,1486.45 692.125,1469.18 \n",
       "  \"/>\n",
       "<polyline clip-path=\"url(#clip580)\" style=\"stroke:#000000; stroke-width:4; stroke-opacity:1; fill:none\" points=\"\n",
       "  971.121,1486.45 971.121,1469.18 \n",
       "  \"/>\n",
       "<polyline clip-path=\"url(#clip580)\" style=\"stroke:#000000; stroke-width:4; stroke-opacity:1; fill:none\" points=\"\n",
       "  1250.12,1486.45 1250.12,1469.18 \n",
       "  \"/>\n",
       "<polyline clip-path=\"url(#clip580)\" style=\"stroke:#000000; stroke-width:4; stroke-opacity:1; fill:none\" points=\"\n",
       "  1529.11,1486.45 1529.11,1469.18 \n",
       "  \"/>\n",
       "<polyline clip-path=\"url(#clip580)\" style=\"stroke:#000000; stroke-width:4; stroke-opacity:1; fill:none\" points=\"\n",
       "  1808.11,1486.45 1808.11,1469.18 \n",
       "  \"/>\n",
       "<path clip-path=\"url(#clip580)\" d=\"M 0 0 M662.067 1530.29 L691.743 1530.29 L691.743 1534.23 L662.067 1534.23 L662.067 1530.29 Z\" fill=\"#000000\" fill-rule=\"evenodd\" fill-opacity=\"1\" /><path clip-path=\"url(#clip580)\" d=\"M 0 0 M705.863 1543.18 L722.182 1543.18 L722.182 1547.12 L700.238 1547.12 L700.238 1543.18 Q702.9 1540.43 707.483 1535.8 Q712.09 1531.15 713.27 1529.81 Q715.516 1527.28 716.395 1525.55 Q717.298 1523.79 717.298 1522.1 Q717.298 1519.34 715.354 1517.61 Q713.432 1515.87 710.331 1515.87 Q708.132 1515.87 705.678 1516.63 Q703.247 1517.4 700.47 1518.95 L700.47 1514.23 Q703.294 1513.09 705.747 1512.51 Q708.201 1511.93 710.238 1511.93 Q715.608 1511.93 718.803 1514.62 Q721.997 1517.31 721.997 1521.8 Q721.997 1523.93 721.187 1525.85 Q720.4 1527.74 718.294 1530.34 Q717.715 1531.01 714.613 1534.23 Q711.511 1537.42 705.863 1543.18 Z\" fill=\"#000000\" fill-rule=\"evenodd\" fill-opacity=\"1\" /><path clip-path=\"url(#clip580)\" d=\"M 0 0 M940.878 1530.29 L970.554 1530.29 L970.554 1534.23 L940.878 1534.23 L940.878 1530.29 Z\" fill=\"#000000\" fill-rule=\"evenodd\" fill-opacity=\"1\" /><path clip-path=\"url(#clip580)\" d=\"M 0 0 M981.456 1543.18 L989.095 1543.18 L989.095 1516.82 L980.785 1518.49 L980.785 1514.23 L989.049 1512.56 L993.725 1512.56 L993.725 1543.18 L1001.36 1543.18 L1001.36 1547.12 L981.456 1547.12 L981.456 1543.18 Z\" fill=\"#000000\" fill-rule=\"evenodd\" fill-opacity=\"1\" /><path clip-path=\"url(#clip580)\" d=\"M 0 0 M1250.12 1515.64 Q1246.51 1515.64 1244.68 1519.2 Q1242.87 1522.75 1242.87 1529.87 Q1242.87 1536.98 1244.68 1540.55 Q1246.51 1544.09 1250.12 1544.09 Q1253.75 1544.09 1255.56 1540.55 Q1257.39 1536.98 1257.39 1529.87 Q1257.39 1522.75 1255.56 1519.2 Q1253.75 1515.64 1250.12 1515.64 M1250.12 1511.93 Q1255.93 1511.93 1258.98 1516.54 Q1262.06 1521.12 1262.06 1529.87 Q1262.06 1538.6 1258.98 1543.21 Q1255.93 1547.79 1250.12 1547.79 Q1244.31 1547.79 1241.23 1543.21 Q1238.17 1538.6 1238.17 1529.87 Q1238.17 1521.12 1241.23 1516.54 Q1244.31 1511.93 1250.12 1511.93 Z\" fill=\"#000000\" fill-rule=\"evenodd\" fill-opacity=\"1\" /><path clip-path=\"url(#clip580)\" d=\"M 0 0 M1519.5 1543.18 L1527.13 1543.18 L1527.13 1516.82 L1518.82 1518.49 L1518.82 1514.23 L1527.09 1512.56 L1531.76 1512.56 L1531.76 1543.18 L1539.4 1543.18 L1539.4 1547.12 L1519.5 1547.12 L1519.5 1543.18 Z\" fill=\"#000000\" fill-rule=\"evenodd\" fill-opacity=\"1\" /><path clip-path=\"url(#clip580)\" d=\"M 0 0 M1802.76 1543.18 L1819.08 1543.18 L1819.08 1547.12 L1797.14 1547.12 L1797.14 1543.18 Q1799.8 1540.43 1804.38 1535.8 Q1808.99 1531.15 1810.17 1529.81 Q1812.41 1527.28 1813.29 1525.55 Q1814.2 1523.79 1814.2 1522.1 Q1814.2 1519.34 1812.25 1517.61 Q1810.33 1515.87 1807.23 1515.87 Q1805.03 1515.87 1802.58 1516.63 Q1800.15 1517.4 1797.37 1518.95 L1797.37 1514.23 Q1800.19 1513.09 1802.65 1512.51 Q1805.1 1511.93 1807.14 1511.93 Q1812.51 1511.93 1815.7 1514.62 Q1818.9 1517.31 1818.9 1521.8 Q1818.9 1523.93 1818.09 1525.85 Q1817.3 1527.74 1815.19 1530.34 Q1814.61 1531.01 1811.51 1534.23 Q1808.41 1537.42 1802.76 1543.18 Z\" fill=\"#000000\" fill-rule=\"evenodd\" fill-opacity=\"1\" /><polyline clip-path=\"url(#clip582)\" style=\"stroke:#000000; stroke-width:2; stroke-opacity:0.1; fill:none\" points=\"\n",
       "  530.515,1324.84 1969.72,1324.84 \n",
       "  \"/>\n",
       "<polyline clip-path=\"url(#clip582)\" style=\"stroke:#000000; stroke-width:2; stroke-opacity:0.1; fill:none\" points=\"\n",
       "  530.515,1045.84 1969.72,1045.84 \n",
       "  \"/>\n",
       "<polyline clip-path=\"url(#clip582)\" style=\"stroke:#000000; stroke-width:2; stroke-opacity:0.1; fill:none\" points=\"\n",
       "  530.515,766.846 1969.72,766.846 \n",
       "  \"/>\n",
       "<polyline clip-path=\"url(#clip582)\" style=\"stroke:#000000; stroke-width:2; stroke-opacity:0.1; fill:none\" points=\"\n",
       "  530.515,487.85 1969.72,487.85 \n",
       "  \"/>\n",
       "<polyline clip-path=\"url(#clip582)\" style=\"stroke:#000000; stroke-width:2; stroke-opacity:0.1; fill:none\" points=\"\n",
       "  530.515,208.854 1969.72,208.854 \n",
       "  \"/>\n",
       "<polyline clip-path=\"url(#clip580)\" style=\"stroke:#000000; stroke-width:4; stroke-opacity:1; fill:none\" points=\"\n",
       "  530.515,1486.45 530.515,47.2441 \n",
       "  \"/>\n",
       "<polyline clip-path=\"url(#clip580)\" style=\"stroke:#000000; stroke-width:4; stroke-opacity:1; fill:none\" points=\"\n",
       "  530.515,1324.84 547.785,1324.84 \n",
       "  \"/>\n",
       "<polyline clip-path=\"url(#clip580)\" style=\"stroke:#000000; stroke-width:4; stroke-opacity:1; fill:none\" points=\"\n",
       "  530.515,1045.84 547.785,1045.84 \n",
       "  \"/>\n",
       "<polyline clip-path=\"url(#clip580)\" style=\"stroke:#000000; stroke-width:4; stroke-opacity:1; fill:none\" points=\"\n",
       "  530.515,766.846 547.785,766.846 \n",
       "  \"/>\n",
       "<polyline clip-path=\"url(#clip580)\" style=\"stroke:#000000; stroke-width:4; stroke-opacity:1; fill:none\" points=\"\n",
       "  530.515,487.85 547.785,487.85 \n",
       "  \"/>\n",
       "<polyline clip-path=\"url(#clip580)\" style=\"stroke:#000000; stroke-width:4; stroke-opacity:1; fill:none\" points=\"\n",
       "  530.515,208.854 547.785,208.854 \n",
       "  \"/>\n",
       "<path clip-path=\"url(#clip580)\" d=\"M 0 0 M434.4 1325.29 L464.075 1325.29 L464.075 1329.22 L434.4 1329.22 L434.4 1325.29 Z\" fill=\"#000000\" fill-rule=\"evenodd\" fill-opacity=\"1\" /><path clip-path=\"url(#clip580)\" d=\"M 0 0 M478.196 1338.18 L494.515 1338.18 L494.515 1342.12 L472.571 1342.12 L472.571 1338.18 Q475.233 1335.43 479.816 1330.8 Q484.422 1326.15 485.603 1324.8 Q487.848 1322.28 488.728 1320.54 Q489.631 1318.78 489.631 1317.1 Q489.631 1314.34 487.686 1312.6 Q485.765 1310.87 482.663 1310.87 Q480.464 1310.87 478.01 1311.63 Q475.58 1312.4 472.802 1313.95 L472.802 1309.22 Q475.626 1308.09 478.08 1307.51 Q480.534 1306.93 482.571 1306.93 Q487.941 1306.93 491.135 1309.62 Q494.33 1312.3 494.33 1316.79 Q494.33 1318.92 493.52 1320.85 Q492.733 1322.74 490.626 1325.34 Q490.047 1326.01 486.946 1329.22 Q483.844 1332.42 478.196 1338.18 Z\" fill=\"#000000\" fill-rule=\"evenodd\" fill-opacity=\"1\" /><path clip-path=\"url(#clip580)\" d=\"M 0 0 M434.029 1046.29 L463.705 1046.29 L463.705 1050.23 L434.029 1050.23 L434.029 1046.29 Z\" fill=\"#000000\" fill-rule=\"evenodd\" fill-opacity=\"1\" /><path clip-path=\"url(#clip580)\" d=\"M 0 0 M474.608 1059.19 L482.247 1059.19 L482.247 1032.82 L473.936 1034.49 L473.936 1030.23 L482.2 1028.56 L486.876 1028.56 L486.876 1059.19 L494.515 1059.19 L494.515 1063.12 L474.608 1063.12 L474.608 1059.19 Z\" fill=\"#000000\" fill-rule=\"evenodd\" fill-opacity=\"1\" /><path clip-path=\"url(#clip580)\" d=\"M 0 0 M482.571 752.645 Q478.96 752.645 477.131 756.209 Q475.325 759.751 475.325 766.881 Q475.325 773.987 477.131 777.552 Q478.96 781.094 482.571 781.094 Q486.205 781.094 488.01 777.552 Q489.839 773.987 489.839 766.881 Q489.839 759.751 488.01 756.209 Q486.205 752.645 482.571 752.645 M482.571 748.941 Q488.381 748.941 491.436 753.547 Q494.515 758.131 494.515 766.881 Q494.515 775.608 491.436 780.214 Q488.381 784.797 482.571 784.797 Q476.76 784.797 473.682 780.214 Q470.626 775.608 470.626 766.881 Q470.626 758.131 473.682 753.547 Q476.76 748.941 482.571 748.941 Z\" fill=\"#000000\" fill-rule=\"evenodd\" fill-opacity=\"1\" /><path clip-path=\"url(#clip580)\" d=\"M 0 0 M474.608 501.195 L482.247 501.195 L482.247 474.829 L473.936 476.496 L473.936 472.237 L482.2 470.57 L486.876 470.57 L486.876 501.195 L494.515 501.195 L494.515 505.13 L474.608 505.13 L474.608 501.195 Z\" fill=\"#000000\" fill-rule=\"evenodd\" fill-opacity=\"1\" /><path clip-path=\"url(#clip580)\" d=\"M 0 0 M478.196 222.199 L494.515 222.199 L494.515 226.134 L472.571 226.134 L472.571 222.199 Q475.233 219.444 479.816 214.814 Q484.422 210.162 485.603 208.819 Q487.848 206.296 488.728 204.56 Q489.631 202.801 489.631 201.111 Q489.631 198.356 487.686 196.62 Q485.765 194.884 482.663 194.884 Q480.464 194.884 478.01 195.648 Q475.58 196.412 472.802 197.963 L472.802 193.24 Q475.626 192.106 478.08 191.527 Q480.534 190.949 482.571 190.949 Q487.941 190.949 491.135 193.634 Q494.33 196.319 494.33 200.81 Q494.33 202.939 493.52 204.861 Q492.733 206.759 490.626 209.351 Q490.047 210.023 486.946 213.24 Q483.844 216.435 478.196 222.199 Z\" fill=\"#000000\" fill-rule=\"evenodd\" fill-opacity=\"1\" /><polyline clip-path=\"url(#clip582)\" style=\"stroke:#009af9; stroke-width:4; stroke-opacity:1; fill:none\" points=\"\n",
       "  1328.37,766.846 1321.56,724.278 1304.03,687.712 1280.93,658.822 1255.78,636.583 1230.33,619.512 1205.37,606.392 1181.24,596.329 1158.08,588.679 1135.91,582.971 \n",
       "  1114.72,578.856 1094.49,576.068 1075.16,574.402 1056.71,573.696 1039.09,573.819 1022.25,574.665 1006.17,576.147 990.807,578.192 976.132,580.739 962.117,583.734 \n",
       "  948.736,587.132 935.965,590.894 923.783,594.987 912.17,599.38 901.108,604.046 890.581,608.961 880.573,614.105 871.071,619.457 862.062,625.002 853.535,630.723 \n",
       "  845.478,636.605 837.882,642.635 830.738,648.802 824.037,655.094 817.773,661.5 811.938,668.011 806.526,674.618 801.531,681.311 796.948,688.082 792.773,694.925 \n",
       "  789.001,701.831 785.628,708.793 782.652,715.805 780.068,722.86 777.876,729.951 776.072,737.073 774.655,744.219 773.624,751.383 772.978,758.56 772.716,765.744 \n",
       "  772.837,772.928 773.343,780.108 774.233,787.277 775.508,794.429 777.169,801.559 779.219,808.66 781.658,815.727 784.49,822.753 787.716,829.731 791.341,836.655 \n",
       "  795.367,843.518 799.799,850.313 804.641,857.032 809.898,863.666 815.575,870.208 821.679,876.649 828.217,882.978 835.195,889.186 842.621,895.262 850.504,901.194 \n",
       "  858.854,906.969 867.681,912.573 876.996,917.991 886.812,923.206 897.141,928.2 907.998,932.952 919.399,937.44 931.362,941.638 943.906,945.518 957.051,949.046 \n",
       "  970.82,952.186 985.237,954.895 1000.33,957.123 1016.13,958.813 1032.67,959.896 1049.98,960.291 1068.11,959.9 1087.08,958.602 1106.95,956.249 1127.76,952.653 \n",
       "  1149.54,947.576 1172.31,940.703 1196.06,931.617 1220.7,919.75 1246,904.314 1271.38,884.226 1295.55,858.078 1315.77,824.503 1327.33,783.775 1325.75,740.353 \n",
       "  \n",
       "  \"/>\n",
       "<path clip-path=\"url(#clip580)\" d=\"\n",
       "M1598.75 216.178 L1896.21 216.178 L1896.21 95.2176 L1598.75 95.2176  Z\n",
       "  \" fill=\"#ffffff\" fill-rule=\"evenodd\" fill-opacity=\"1\"/>\n",
       "<polyline clip-path=\"url(#clip580)\" style=\"stroke:#000000; stroke-width:4; stroke-opacity:1; fill:none\" points=\"\n",
       "  1598.75,216.178 1896.21,216.178 1896.21,95.2176 1598.75,95.2176 1598.75,216.178 \n",
       "  \"/>\n",
       "<polyline clip-path=\"url(#clip580)\" style=\"stroke:#009af9; stroke-width:4; stroke-opacity:1; fill:none\" points=\"\n",
       "  1623.25,155.698 1770.27,155.698 \n",
       "  \"/>\n",
       "<path clip-path=\"url(#clip580)\" d=\"M 0 0 M1808.62 175.385 Q1806.81 180.015 1805.1 181.427 Q1803.38 182.839 1800.51 182.839 L1797.11 182.839 L1797.11 179.274 L1799.61 179.274 Q1801.37 179.274 1802.34 178.44 Q1803.31 177.607 1804.5 174.505 L1805.26 172.561 L1794.77 147.052 L1799.29 147.052 L1807.39 167.329 L1815.49 147.052 L1820 147.052 L1808.62 175.385 Z\" fill=\"#000000\" fill-rule=\"evenodd\" fill-opacity=\"1\" /><path clip-path=\"url(#clip580)\" d=\"M 0 0 M1827.3 169.042 L1834.93 169.042 L1834.93 142.677 L1826.62 144.343 L1826.62 140.084 L1834.89 138.418 L1839.56 138.418 L1839.56 169.042 L1847.2 169.042 L1847.2 172.978 L1827.3 172.978 L1827.3 169.042 Z\" fill=\"#000000\" fill-rule=\"evenodd\" fill-opacity=\"1\" /></svg>\n"
      ]
     },
     "execution_count": 79,
     "metadata": {},
     "output_type": "execute_result"
    }
   ],
   "source": [
    "# plot(t, energy)\n",
    "plot_orbit(transfer_orbit)"
   ]
  },
  {
   "cell_type": "markdown",
   "metadata": {},
   "source": [
    "## Constraints"
   ]
  },
  {
   "cell_type": "markdown",
   "metadata": {},
   "source": [
    "$ c = [c_{init}, c_{terminal}, c_{dynamics}, c_{thurst}] $"
   ]
  },
  {
   "cell_type": "code",
   "execution_count": 80,
   "metadata": {},
   "outputs": [
    {
     "data": {
      "text/plain": [
       "unpackZ (generic function with 1 method)"
      ]
     },
     "execution_count": 80,
     "metadata": {},
     "output_type": "execute_result"
    }
   ],
   "source": [
    "function unpackZ(N, ztraj)\n",
    "    \"\"\"\n",
    "    Inputs: \n",
    "        ztraj -> Trajectory\n",
    "    \n",
    "    Returns: \n",
    "        xtraj -> state trajectory (Nx, T)\n",
    "        utraj -> control trajectory (Nu, T-1)\n",
    "    \"\"\"\n",
    "    Nt = N\n",
    "    z = reshape(ztraj[1:(end-Nx)],Nx+Nu,Nt-1)\n",
    "    xtraj = hcat(z[1:Nx,:], ztraj[end-(Nx-1):end])\n",
    "    utraj = z[(Nx+1):(Nx+Nu),:]\n",
    "    \n",
    "    return xtraj, utraj\n",
    "end"
   ]
  },
  {
   "cell_type": "code",
   "execution_count": 15,
   "metadata": {},
   "outputs": [
    {
     "data": {
      "text/plain": [
       "dynamics_constraints! (generic function with 1 method)"
      ]
     },
     "execution_count": 15,
     "metadata": {},
     "output_type": "execute_result"
    }
   ],
   "source": [
    "function dynamics_constraints!(nlp, c, ztraj)\n",
    "    \"\"\"\n",
    "    Inputs: \n",
    "        c -> Constraint Vector: shape = \n",
    "        ztraj -> Current trajectory: shape ((Nx+Nu)*T, 1)\n",
    "    \n",
    "    Returns: \n",
    "        Nothing\n",
    "    \"\"\"\n",
    "    h = nlp.h # dt? \n",
    "    X, U = unpackZ(nlp.N, ztraj)\n",
    "    N = nlp.N\n",
    "\n",
    "    d = reshape(view(c, nlp.idx_ineq[3]), Nx,(N-1))\n",
    "    \n",
    "    for k = 1:N-1\n",
    "        d[:, k] .= dynamics_rk4(X[:,k], U[:,k], h) - X[:,k+1]\n",
    "    end\n",
    "    \n",
    "    return d\n",
    "end\n",
    "    "
   ]
  },
  {
   "cell_type": "code",
   "execution_count": 16,
   "metadata": {},
   "outputs": [
    {
     "data": {
      "text/plain": [
       "thrust_constraints! (generic function with 1 method)"
      ]
     },
     "execution_count": 16,
     "metadata": {},
     "output_type": "execute_result"
    }
   ],
   "source": [
    "function thrust_constraints!(nlp, c, ztraj)\n",
    "    \"\"\"\n",
    "    Inputs: \n",
    "        c -> Constraint Vector: shape = \n",
    "        ztraj -> Current trajectory: shape ((Nx+Nu)*T, 1)\n",
    "    \n",
    "    Returns: \n",
    "        Nothing\n",
    "    \"\"\"\n",
    "    N = nlp.N\n",
    "    d = reshape(view(c, nlp.idx_ineq[4]), Nu,(N-1))#view(c, nlp.idx_ineq[end])#\n",
    "    X, U = unpackZ(nlp.N, ztraj)\n",
    "    \n",
    "    for k = 1:N-1\n",
    "        d[:,k] .= norm(U[:,k])\n",
    "    end\n",
    "    \n",
    "    return d\n",
    "end"
   ]
  },
  {
   "cell_type": "code",
   "execution_count": 17,
   "metadata": {},
   "outputs": [
    {
     "data": {
      "text/plain": [
       "con! (generic function with 1 method)"
      ]
     },
     "execution_count": 17,
     "metadata": {},
     "output_type": "execute_result"
    }
   ],
   "source": [
    "function con!(nlp, c, Z)\n",
    "    X, U = unpackZ(nlp.N, Z)\n",
    "    c[nlp.idx_ineq[1]] .= X[:,1] - x0 # Initial condition constraint\n",
    "    c[nlp.idx_ineq[2]] .= X[:,end] - xgoal # Final condition constraint\n",
    "    dynamics_constraints!(nlp, c, Z) # Dynamics constraints\n",
    "    thrust_constraints!(nlp, c, Z) # Thrust constraints\n",
    "end"
   ]
  },
  {
   "cell_type": "markdown",
   "metadata": {},
   "source": [
    "## Constraint Jacobian"
   ]
  },
  {
   "cell_type": "code",
   "execution_count": 123,
   "metadata": {},
   "outputs": [
    {
     "data": {
      "text/plain": [
       "dynamics_constraint_jacobian! (generic function with 1 method)"
      ]
     },
     "execution_count": 123,
     "metadata": {},
     "output_type": "execute_result"
    }
   ],
   "source": [
    "function dynamics_constraint_jacobian!(nlp, jac, Z)\n",
    "#     D = view(jac, nlp.cinds[3], :)\n",
    "    jac .= [(ForwardDiff.jacobian(x->dynamics_constraints!(nlp, zeros(eltype(x), nlp.m_nlp), x), Z)...)...]\n",
    "    \n",
    "    return nothing\n",
    "end"
   ]
  },
  {
   "cell_type": "code",
   "execution_count": 124,
   "metadata": {},
   "outputs": [
    {
     "data": {
      "text/plain": [
       "thrust_constraint_jacobian! (generic function with 1 method)"
      ]
     },
     "execution_count": 124,
     "metadata": {},
     "output_type": "execute_result"
    }
   ],
   "source": [
    "function thrust_constraint_jacobian!(nlp, jac, Z)\n",
    "#     D = view(jac, nlp.cinds[4], :)\n",
    "    jac .= [(ForwardDiff.jacobian(x->thrust_constraints!(nlp, zeros(eltype(x), nlp.m_nlp), x), Z)...)...]\n",
    "    \n",
    "    return nothing\n",
    "end"
   ]
  },
  {
   "cell_type": "code",
   "execution_count": 129,
   "metadata": {},
   "outputs": [
    {
     "data": {
      "text/plain": [
       "jac_c! (generic function with 1 method)"
      ]
     },
     "execution_count": 129,
     "metadata": {},
     "output_type": "execute_result"
    }
   ],
   "source": [
    "function jac_c!(nlp, jac, Z)\n",
    "    # m_nlp, n_nlp \n",
    "    \n",
    "#     xinds = [SVector{n}((k-1)*(n+m) .+ (1:n)) for k = 1:N]\n",
    "#     uinds = [SVector{m}((k-1)*(n+m) .+ (n+1:n+m)) for k = 1:N-1]\n",
    "    \n",
    "#     ix = [Int((Nx+Nu)*i+1):Int((Nx+Nu)*i+Nx) for i=0:N-2]\n",
    "#     sizeX = ix[end][end]-ix[1][1]\n",
    "#     iu = [Int((Nx)*i+Nu*(i-1)):Int((Nx+Nu)*i) for i=1:N-1]\n",
    "#     sizeU = ix[end][end]-ix[1][1]\n",
    "    \n",
    "    i_init = 1:size(nlp.idx_ineq[1])[1]*Nx\n",
    "    i_term = i_init[end]+1:i_init[end]+size(nlp.idx_ineq[2])[1]*Nx\n",
    "    i_dyn = i_term[end]+1:i_term[end]+size(nlp.idx_ineq[3])[1]*n_nlp\n",
    "    i_thrust = i_dyn[end]+1:i_dyn[end]+size(nlp.idx_ineq[4])[1]*n_nlp\n",
    "    \n",
    "    jac_init = view(jac, i_init)\n",
    "    jac_term = view(jac, i_term)\n",
    "    jac_dynamics = view(jac, i_dyn)\n",
    "    jac_thrust = view(jac, i_thrust)\n",
    "    # Sparse Matrix\n",
    "#     [I(Nx, Nx), I(Nx,Nx), forwardDIff(dynamics), forwardDIff(thrust)]\n",
    "#     ForwardDiff.jacobian!(reshape(jac,prob.m_nlp,prob.n_nlp), (c,x) -> con!(prob, c, x), zeros(prob.m_nlp), x)\n",
    "    jac_init .= [(I(Nx)*1.0...)...] # Initial Condtion Constraint\n",
    "    jac_term .= [(I(Nx)*1.0...)...] # I(Nx, Nx).flatten()\n",
    "    dynamics_constraint_jacobian!(nlp, jac_dynamics, Z)\n",
    "    thrust_constraint_jacobian!(nlp, jac_thrust, Z)\n",
    "    \n",
    "    return nothing\n",
    "end"
   ]
  },
  {
   "cell_type": "code",
   "execution_count": 126,
   "metadata": {},
   "outputs": [],
   "source": [
    "jac = zeros(size(sparsity_jacobian(n_nlp, m_nlp)))\n",
    "# size([(I(Nx)*1.0...)...])\n",
    "jac_c!(prob, jac, z)"
   ]
  },
  {
   "cell_type": "markdown",
   "metadata": {},
   "source": [
    "## Part (a): Implement DIRCOL \n",
    "Implement DIRCOL by completing the provided methods. "
   ]
  },
  {
   "cell_type": "code",
   "execution_count": 162,
   "metadata": {},
   "outputs": [
    {
     "data": {
      "text/plain": [
       "solve (generic function with 1 method)"
      ]
     },
     "execution_count": 162,
     "metadata": {},
     "output_type": "execute_result"
    }
   ],
   "source": [
    "\"\"\"\n",
    "    Problem{n,m,L}\n",
    "\n",
    "Describes a trajectory optimization problem with `n` states, `m` controls, and \n",
    "a model of type `L`. \n",
    "\n",
    "# Constructor\n",
    "    Problem(model::L, obj::Vector{<:QuadraticCost{n,m}}, tf, x0, xf) where {n,m,L}\n",
    "\n",
    "where `tf` is the final time, and `x0` is the initial state. \n",
    "\"\"\"\n",
    "# struct Problem{n,m,L}\n",
    "    # TODO \n",
    "# end\n",
    "# Base.size(prob::Problem{n,m}) where {n,m} = (n,m,prob.T)\n",
    "\n",
    "struct ProblemMOI <: MOI.AbstractNLPEvaluator\n",
    "    n_nlp::Int # num_primals\n",
    "    m_nlp::Int # num_duals\n",
    "    N::Int # num_knots\n",
    "    h::Float64\n",
    "    idx_ineq # list of constraint ranges\n",
    "    obj_grad::Bool \n",
    "    con_jac::Bool\n",
    "    sparsity_jac\n",
    "    sparsity_hess\n",
    "    primal_bounds\n",
    "    constraint_bounds\n",
    "    hessian_lagrangian::Bool\n",
    "end\n",
    "\n",
    "function ProblemMOI(n_nlp, N, h;\n",
    "        idx_ineq=get_cinds(Nx, N),\n",
    "        m_nlp = idx_ineq[end][end],\n",
    "        obj_grad=true,\n",
    "        con_jac=true,\n",
    "        sparsity_jac=sparsity_jacobian(n_nlp,m_nlp),\n",
    "        sparsity_hess=sparsity_hessian(n_nlp,m_nlp),\n",
    "        primal_bounds=primal_bounds(n_nlp),\n",
    "        constraint_bounds=constraint_bounds(m_nlp,idx_ineq=idx_ineq),\n",
    "        hessian_lagrangian=false)\n",
    "\n",
    "    ProblemMOI(\n",
    "        n_nlp,\n",
    "        m_nlp,\n",
    "        N, # Nt\n",
    "        h, \n",
    "        idx_ineq, # Indexes\n",
    "        obj_grad, \n",
    "        con_jac,\n",
    "        sparsity_jac,\n",
    "        sparsity_hess,\n",
    "        primal_bounds,\n",
    "        constraint_bounds,\n",
    "        hessian_lagrangian)\n",
    "end\n",
    "\n",
    "function primal_bounds(n)\n",
    "    x_l = -Inf*ones(n)\n",
    "    x_u = Inf*ones(n)\n",
    "    return x_l, x_u\n",
    "end\n",
    "\n",
    "function get_cinds(n, N)\n",
    "    c_init_inds = 1:Nx\n",
    "    c_term_inds = (c_init_inds[end]+1):(c_init_inds[end]+Nx)\n",
    "    c_dyn_inds = (c_term_inds[end]+1):(c_term_inds[end]+((Nx)*(N-1)))\n",
    "    c_thrust_inds = (c_dyn_inds[end]+1):(c_dyn_inds[end]+(Nu*(N-1)))\n",
    "    \n",
    "    return [c_init_inds, c_term_inds, c_dyn_inds, c_thrust_inds]\n",
    "end\n",
    "\n",
    "function constraint_bounds(m_nlp; idx_ineq)\n",
    "    lb = zeros(m_nlp) \n",
    "    lb[idx_ineq[1]] .= 0 ##x0\n",
    "    lb[idx_ineq[2]] .= 0 #xf\n",
    "    lb[idx_ineq[3]] .= 0\n",
    "    lb[idx_ineq[4]] .= 0 # Might have a minimum thrust requirment\n",
    "\n",
    "    ub = zeros(m_nlp) #fill(-Inf,m_nlp)\n",
    "    ub[idx_ineq[1]] .= 0 #x0\n",
    "    ub[idx_ineq[2]] .= 0 #xf\n",
    "    ub[idx_ineq[3]] .= 0\n",
    "    ub[idx_ineq[4]] .= 10.0\n",
    "\n",
    "    return lb, ub\n",
    "end\n",
    "\n",
    "function row_col!(row,col,r,c)\n",
    "#     println(\"starting row_col\")\n",
    "    for cc in c\n",
    "        for rr in r\n",
    "            push!(row,convert(Int,rr))\n",
    "            push!(col,convert(Int,cc))\n",
    "        end\n",
    "    end\n",
    "#     println(\"Finished row_col\")\n",
    "    return row, col\n",
    "end\n",
    "\n",
    "function sparsity_jacobian(n,m, N)\n",
    "#     N = (n-Nx)/(Nx+Nu)+1\n",
    "\n",
    "    row = []\n",
    "    col = []\n",
    "#     r = 1:m\n",
    "#     c = 1:n\n",
    "#     row_col!(row, col, r, c)\n",
    "    idx_ineq = get_cinds(0, N)\n",
    "#     ix = [Int((Nx+Nu)*i+1):Int((Nx+Nu)*i+Nx) for i=0:N-2]\n",
    "#     iu = [Int((Nx)*i+Nu*(i-1)+1):Int((Nx+Nu)*i) for i=1:N-1]\n",
    "# #     print(ix, iu)\n",
    "# #     push!(row, convert(Int, 1:Nx))\n",
    "# #     push!(col, convert(Int, 1:Nx))\n",
    "# #     push!(row, convert(Int, idx_ineq[2]))\n",
    "# #     push!(col, convert(Int, n-Nx:n))\n",
    "    \n",
    "    row_col!(row,col, idx_ineq[1], idx_ineq[1]) # init_con\n",
    "    print(size(row))\n",
    "    row_col!(row, col, idx_ineq[2], n-Nx+1:n) # term_con\n",
    "    print(size(row))\n",
    "    \n",
    "    # Dynamics_con\n",
    "#     for x in ix\n",
    "    row_col!(row, col, idx_ineq[3], 1:n) # number of values will be idx_ineq[3][end]-idx_ineq[3][1]*n \n",
    "    print(size(row))\n",
    "#     end\n",
    "    \n",
    "    # Thrust Con\n",
    "#     for u in iu\n",
    "    row_col!(row, col, idx_ineq[4], 1:n)\n",
    "    print(size(row))\n",
    "#     end\n",
    "\n",
    "    return collect(zip(row,col))\n",
    "end\n",
    "\n",
    "function sparsity_hessian(n,m)\n",
    "#     N = (n-Nx)/(Nx+Nu)+1\n",
    "\n",
    "    row = []\n",
    "    col = []\n",
    "    r = 1:m\n",
    "    c = 1:n\n",
    "    row_col!(row, col, r, c)\n",
    "    \n",
    "#     idx_ineq = get_cinds(0, N)\n",
    "#     ix = [Int((Nx+Nu)*i+1):Int((Nx+Nu)*i+Nx) for i=0:N-2]\n",
    "#     iu = [Int((Nx)*i+Nu*(i-1)):Int((Nx+Nu)*i) for i=1:N-1]\n",
    "# #     print(ix, iu)\n",
    "# #     row_col!(row,col, idx_ineq[1], idx_ineq[1]) # init_con\n",
    "# #     row_col!(row, col, idx_ineq[2], n-Nx:n) # term_con\n",
    "    \n",
    "    \n",
    "#     # Dynamics_con\n",
    "#     for x in ix\n",
    "#         row_col!(row, col, idx_ineq[3], x)\n",
    "#     end\n",
    "    \n",
    "#     # Thrust Con\n",
    "#     for u in iu\n",
    "#         row_col!(row, col, idx_ineq[4], u)\n",
    "#     end\n",
    "\n",
    "    return collect(zip(row,col))\n",
    "end\n",
    "\n",
    "function MOI.eval_objective(prob::MOI.AbstractNLPEvaluator, x)\n",
    "    cost(prob, x)\n",
    "end\n",
    "\n",
    "function MOI.eval_objective_gradient(prob::MOI.AbstractNLPEvaluator, grad_f, x)\n",
    "    ForwardDiff.gradient!(grad_f, x -> cost(prob, x), x)\n",
    "    return nothing\n",
    "end\n",
    "\n",
    "function MOI.eval_constraint(prob::MOI.AbstractNLPEvaluator,g,x)\n",
    "    con!(prob, g, x) # TODO: Implement con! (Mitch)\n",
    "    return nothing\n",
    "end\n",
    "\n",
    "function MOI.eval_constraint_jacobian(prob::MOI.AbstractNLPEvaluator, jac, x)\n",
    "#     print(size(jac))\n",
    "#     full_jac = zeros((m_nlp, n_nlp))\n",
    "#     ForwardDiff.jacobian!(jac, (c,x) -> con!(prob, c, x), zeros(prob.m_nlp), x)\n",
    "# #     jac = jac[sparcity_jac]\n",
    "#     jac[:] .= full_jac[prob.sparsity_jac]\n",
    "#     r = [x[0] for x in prob.sparcity_jac]\n",
    "#     c = [x[1] for x in prob.sparcity_jac]\n",
    "    jac_c!(prob, jac, x)\n",
    "    return nothing #sparse(r, c, jac[prob.sparcity_jac])\n",
    "end\n",
    "\n",
    "function MOI.features_available(prob::MOI.AbstractNLPEvaluator)\n",
    "    return [:Grad, :Jac]\n",
    "end\n",
    "\n",
    "# TODO: Confirm meaning of these functions\n",
    "MOI.initialize(prob::MOI.AbstractNLPEvaluator, features) = nothing\n",
    "MOI.jacobian_structure(prob::MOI.AbstractNLPEvaluator) = prob.sparsity_jac #\n",
    "\n",
    "\n",
    "\n",
    "function solve(x0,prob::MOI.AbstractNLPEvaluator;\n",
    "        tol=1.0e-6,c_tol=1.0e-6,max_iter=1000)\n",
    "    x_l, x_u = prob.primal_bounds\n",
    "    c_l, c_u = prob.constraint_bounds\n",
    "\n",
    "    nlp_bounds = MOI.NLPBoundsPair.(c_l,c_u)\n",
    "    block_data = MOI.NLPBlockData(nlp_bounds,prob,true)\n",
    "\n",
    "    solver = Ipopt.Optimizer()\n",
    "    solver.options[\"max_iter\"] = max_iter\n",
    "    solver.options[\"tol\"] = tol\n",
    "    solver.options[\"constr_viol_tol\"] = c_tol\n",
    "\n",
    "    x = MOI.add_variables(solver, prob.n_nlp)\n",
    "\n",
    "    for i = 1:prob.n_nlp\n",
    "        xi = MOI.SingleVariable(x[i])\n",
    "        MOI.add_constraint(solver, xi, MOI.LessThan(x_u[i]))\n",
    "        MOI.add_constraint(solver, xi, MOI.GreaterThan(x_l[i]))\n",
    "        MOI.set(solver, MOI.VariablePrimalStart(), x[i], x0[i])\n",
    "    end\n",
    "\n",
    "    # Solve the problem\n",
    "    MOI.set(solver, MOI.NLPBlock(), block_data)\n",
    "    MOI.set(solver, MOI.ObjectiveSense(), MOI.MIN_SENSE)\n",
    "    MOI.optimize!(solver)\n",
    "\n",
    "    # Get the solution\n",
    "    res = MOI.get(solver, MOI.VariablePrimal(), x)\n",
    "\n",
    "    return res\n",
    "end"
   ]
  },
  {
   "cell_type": "code",
   "execution_count": 136,
   "metadata": {},
   "outputs": [
    {
     "name": "stdout",
     "output_type": "stream",
     "text": [
      "0.01"
     ]
    },
    {
     "data": {
      "image/svg+xml": [
       "<?xml version=\"1.0\" encoding=\"utf-8\"?>\n",
       "<svg xmlns=\"http://www.w3.org/2000/svg\" xmlns:xlink=\"http://www.w3.org/1999/xlink\" width=\"600\" height=\"400\" viewBox=\"0 0 2400 1600\">\n",
       "<defs>\n",
       "  <clipPath id=\"clip700\">\n",
       "    <rect x=\"0\" y=\"0\" width=\"2400\" height=\"1600\"/>\n",
       "  </clipPath>\n",
       "</defs>\n",
       "<path clip-path=\"url(#clip700)\" d=\"\n",
       "M0 1600 L2400 1600 L2400 0 L0 0  Z\n",
       "  \" fill=\"#ffffff\" fill-rule=\"evenodd\" fill-opacity=\"1\"/>\n",
       "<defs>\n",
       "  <clipPath id=\"clip701\">\n",
       "    <rect x=\"480\" y=\"0\" width=\"1681\" height=\"1600\"/>\n",
       "  </clipPath>\n",
       "</defs>\n",
       "<path clip-path=\"url(#clip700)\" d=\"\n",
       "M631.897 1423.18 L1931.6 1423.18 L1931.6 123.472 L631.897 123.472  Z\n",
       "  \" fill=\"#ffffff\" fill-rule=\"evenodd\" fill-opacity=\"1\"/>\n",
       "<defs>\n",
       "  <clipPath id=\"clip702\">\n",
       "    <rect x=\"631\" y=\"123\" width=\"1301\" height=\"1301\"/>\n",
       "  </clipPath>\n",
       "</defs>\n",
       "<polyline clip-path=\"url(#clip702)\" style=\"stroke:#000000; stroke-width:2; stroke-opacity:0.1; fill:none\" points=\"\n",
       "  777.843,1423.18 777.843,123.472 \n",
       "  \"/>\n",
       "<polyline clip-path=\"url(#clip702)\" style=\"stroke:#000000; stroke-width:2; stroke-opacity:0.1; fill:none\" points=\"\n",
       "  1029.8,1423.18 1029.8,123.472 \n",
       "  \"/>\n",
       "<polyline clip-path=\"url(#clip702)\" style=\"stroke:#000000; stroke-width:2; stroke-opacity:0.1; fill:none\" points=\"\n",
       "  1281.75,1423.18 1281.75,123.472 \n",
       "  \"/>\n",
       "<polyline clip-path=\"url(#clip702)\" style=\"stroke:#000000; stroke-width:2; stroke-opacity:0.1; fill:none\" points=\"\n",
       "  1533.71,1423.18 1533.71,123.472 \n",
       "  \"/>\n",
       "<polyline clip-path=\"url(#clip702)\" style=\"stroke:#000000; stroke-width:2; stroke-opacity:0.1; fill:none\" points=\"\n",
       "  1785.66,1423.18 1785.66,123.472 \n",
       "  \"/>\n",
       "<polyline clip-path=\"url(#clip700)\" style=\"stroke:#000000; stroke-width:4; stroke-opacity:1; fill:none\" points=\"\n",
       "  631.897,1423.18 1931.6,1423.18 \n",
       "  \"/>\n",
       "<polyline clip-path=\"url(#clip700)\" style=\"stroke:#000000; stroke-width:4; stroke-opacity:1; fill:none\" points=\"\n",
       "  777.843,1423.18 777.843,1407.58 \n",
       "  \"/>\n",
       "<polyline clip-path=\"url(#clip700)\" style=\"stroke:#000000; stroke-width:4; stroke-opacity:1; fill:none\" points=\"\n",
       "  1029.8,1423.18 1029.8,1407.58 \n",
       "  \"/>\n",
       "<polyline clip-path=\"url(#clip700)\" style=\"stroke:#000000; stroke-width:4; stroke-opacity:1; fill:none\" points=\"\n",
       "  1281.75,1423.18 1281.75,1407.58 \n",
       "  \"/>\n",
       "<polyline clip-path=\"url(#clip700)\" style=\"stroke:#000000; stroke-width:4; stroke-opacity:1; fill:none\" points=\"\n",
       "  1533.71,1423.18 1533.71,1407.58 \n",
       "  \"/>\n",
       "<polyline clip-path=\"url(#clip700)\" style=\"stroke:#000000; stroke-width:4; stroke-opacity:1; fill:none\" points=\"\n",
       "  1785.66,1423.18 1785.66,1407.58 \n",
       "  \"/>\n",
       "<path clip-path=\"url(#clip700)\" d=\"M 0 0 M747.785 1467.02 L777.461 1467.02 L777.461 1470.96 L747.785 1470.96 L747.785 1467.02 Z\" fill=\"#000000\" fill-rule=\"evenodd\" fill-opacity=\"1\" /><path clip-path=\"url(#clip700)\" d=\"M 0 0 M791.581 1479.92 L807.9 1479.92 L807.9 1483.85 L785.956 1483.85 L785.956 1479.92 Q788.618 1477.16 793.201 1472.53 Q797.808 1467.88 798.988 1466.54 Q801.234 1464.01 802.113 1462.28 Q803.016 1460.52 803.016 1458.83 Q803.016 1456.07 801.072 1454.34 Q799.15 1452.6 796.048 1452.6 Q793.849 1452.6 791.396 1453.37 Q788.965 1454.13 786.187 1455.68 L786.187 1450.96 Q789.011 1449.82 791.465 1449.25 Q793.919 1448.67 795.956 1448.67 Q801.326 1448.67 804.521 1451.35 Q807.715 1454.04 807.715 1458.53 Q807.715 1460.66 806.905 1462.58 Q806.118 1464.48 804.011 1467.07 Q803.433 1467.74 800.331 1470.96 Q797.229 1474.15 791.581 1479.92 Z\" fill=\"#000000\" fill-rule=\"evenodd\" fill-opacity=\"1\" /><path clip-path=\"url(#clip700)\" d=\"M 0 0 M999.554 1467.02 L1029.23 1467.02 L1029.23 1470.96 L999.554 1470.96 L999.554 1467.02 Z\" fill=\"#000000\" fill-rule=\"evenodd\" fill-opacity=\"1\" /><path clip-path=\"url(#clip700)\" d=\"M 0 0 M1040.13 1479.92 L1047.77 1479.92 L1047.77 1453.55 L1039.46 1455.22 L1039.46 1450.96 L1047.72 1449.29 L1052.4 1449.29 L1052.4 1479.92 L1060.04 1479.92 L1060.04 1483.85 L1040.13 1483.85 L1040.13 1479.92 Z\" fill=\"#000000\" fill-rule=\"evenodd\" fill-opacity=\"1\" /><path clip-path=\"url(#clip700)\" d=\"M 0 0 M1281.75 1452.37 Q1278.14 1452.37 1276.31 1455.94 Q1274.51 1459.48 1274.51 1466.61 Q1274.51 1473.71 1276.31 1477.28 Q1278.14 1480.82 1281.75 1480.82 Q1285.39 1480.82 1287.19 1477.28 Q1289.02 1473.71 1289.02 1466.61 Q1289.02 1459.48 1287.19 1455.94 Q1285.39 1452.37 1281.75 1452.37 M1281.75 1448.67 Q1287.56 1448.67 1290.62 1453.27 Q1293.7 1457.86 1293.7 1466.61 Q1293.7 1475.33 1290.62 1479.94 Q1287.56 1484.52 1281.75 1484.52 Q1275.94 1484.52 1272.86 1479.94 Q1269.81 1475.33 1269.81 1466.61 Q1269.81 1457.86 1272.86 1453.27 Q1275.94 1448.67 1281.75 1448.67 Z\" fill=\"#000000\" fill-rule=\"evenodd\" fill-opacity=\"1\" /><path clip-path=\"url(#clip700)\" d=\"M 0 0 M1524.09 1479.92 L1531.73 1479.92 L1531.73 1453.55 L1523.42 1455.22 L1523.42 1450.96 L1531.68 1449.29 L1536.36 1449.29 L1536.36 1479.92 L1543.99 1479.92 L1543.99 1483.85 L1524.09 1483.85 L1524.09 1479.92 Z\" fill=\"#000000\" fill-rule=\"evenodd\" fill-opacity=\"1\" /><path clip-path=\"url(#clip700)\" d=\"M 0 0 M1780.31 1479.92 L1796.63 1479.92 L1796.63 1483.85 L1774.69 1483.85 L1774.69 1479.92 Q1777.35 1477.16 1781.93 1472.53 Q1786.54 1467.88 1787.72 1466.54 Q1789.96 1464.01 1790.84 1462.28 Q1791.75 1460.52 1791.75 1458.83 Q1791.75 1456.07 1789.8 1454.34 Q1787.88 1452.6 1784.78 1452.6 Q1782.58 1452.6 1780.13 1453.37 Q1777.7 1454.13 1774.92 1455.68 L1774.92 1450.96 Q1777.74 1449.82 1780.2 1449.25 Q1782.65 1448.67 1784.69 1448.67 Q1790.06 1448.67 1793.25 1451.35 Q1796.45 1454.04 1796.45 1458.53 Q1796.45 1460.66 1795.64 1462.58 Q1794.85 1464.48 1792.74 1467.07 Q1792.16 1467.74 1789.06 1470.96 Q1785.96 1474.15 1780.31 1479.92 Z\" fill=\"#000000\" fill-rule=\"evenodd\" fill-opacity=\"1\" /><path clip-path=\"url(#clip700)\" d=\"M 0 0 M1102.91 1524.88 Q1095.9 1524.88 1091.77 1530.1 Q1087.66 1535.32 1087.66 1544.33 Q1087.66 1553.31 1091.77 1558.53 Q1095.9 1563.75 1102.91 1563.75 Q1109.91 1563.75 1113.98 1558.53 Q1118.09 1553.31 1118.09 1544.33 Q1118.09 1535.32 1113.98 1530.1 Q1109.91 1524.88 1102.91 1524.88 M1102.91 1519.66 Q1112.9 1519.66 1118.88 1526.38 Q1124.87 1533.06 1124.87 1544.33 Q1124.87 1555.57 1118.88 1562.28 Q1112.9 1568.97 1102.91 1568.97 Q1092.88 1568.97 1086.86 1562.28 Q1080.88 1555.6 1080.88 1544.33 Q1080.88 1533.06 1086.86 1526.38 Q1092.88 1519.66 1102.91 1519.66 Z\" fill=\"#000000\" fill-rule=\"evenodd\" fill-opacity=\"1\" /><path clip-path=\"url(#clip700)\" d=\"M 0 0 M1155.33 1537.87 Q1154.34 1537.3 1153.16 1537.04 Q1152.02 1536.76 1150.62 1536.76 Q1145.65 1536.76 1142.98 1540 Q1140.34 1543.22 1140.34 1549.27 L1140.34 1568.04 L1134.45 1568.04 L1134.45 1532.4 L1140.34 1532.4 L1140.34 1537.93 Q1142.18 1534.69 1145.14 1533.13 Q1148.1 1531.54 1152.34 1531.54 Q1152.94 1531.54 1153.67 1531.63 Q1154.4 1531.7 1155.3 1531.85 L1155.33 1537.87 Z\" fill=\"#000000\" fill-rule=\"evenodd\" fill-opacity=\"1\" /><path clip-path=\"url(#clip700)\" d=\"M 0 0 M1187.06 1550.25 Q1187.06 1543.79 1184.39 1540.13 Q1181.75 1536.44 1177.1 1536.44 Q1172.45 1536.44 1169.78 1540.13 Q1167.14 1543.79 1167.14 1550.25 Q1167.14 1556.71 1169.78 1560.4 Q1172.45 1564.07 1177.1 1564.07 Q1181.75 1564.07 1184.39 1560.4 Q1187.06 1556.71 1187.06 1550.25 M1167.14 1537.81 Q1168.98 1534.62 1171.78 1533.1 Q1174.62 1531.54 1178.53 1531.54 Q1185.02 1531.54 1189.07 1536.69 Q1193.14 1541.85 1193.14 1550.25 Q1193.14 1558.65 1189.07 1563.81 Q1185.02 1568.97 1178.53 1568.97 Q1174.62 1568.97 1171.78 1567.44 Q1168.98 1565.88 1167.14 1562.7 L1167.14 1568.04 L1161.25 1568.04 L1161.25 1518.52 L1167.14 1518.52 L1167.14 1537.81 Z\" fill=\"#000000\" fill-rule=\"evenodd\" fill-opacity=\"1\" /><path clip-path=\"url(#clip700)\" d=\"M 0 0 M1202.85 1532.4 L1208.7 1532.4 L1208.7 1568.04 L1202.85 1568.04 L1202.85 1532.4 M1202.85 1518.52 L1208.7 1518.52 L1208.7 1525.93 L1202.85 1525.93 L1202.85 1518.52 Z\" fill=\"#000000\" fill-rule=\"evenodd\" fill-opacity=\"1\" /><path clip-path=\"url(#clip700)\" d=\"M 0 0 M1226.75 1522.27 L1226.75 1532.4 L1238.81 1532.4 L1238.81 1536.95 L1226.75 1536.95 L1226.75 1556.3 Q1226.75 1560.66 1227.93 1561.9 Q1229.14 1563.14 1232.8 1563.14 L1238.81 1563.14 L1238.81 1568.04 L1232.8 1568.04 Q1226.02 1568.04 1223.44 1565.53 Q1220.86 1562.98 1220.86 1556.3 L1220.86 1536.95 L1216.57 1536.95 L1216.57 1532.4 L1220.86 1532.4 L1220.86 1522.27 L1226.75 1522.27 Z\" fill=\"#000000\" fill-rule=\"evenodd\" fill-opacity=\"1\" /><path clip-path=\"url(#clip700)\" d=\"M 0 0 M1262.72 1550.12 Q1255.62 1550.12 1252.88 1551.75 Q1250.15 1553.37 1250.15 1557.29 Q1250.15 1560.4 1252.18 1562.25 Q1254.25 1564.07 1257.78 1564.07 Q1262.65 1564.07 1265.58 1560.63 Q1268.54 1557.16 1268.54 1551.43 L1268.54 1550.12 L1262.72 1550.12 M1274.4 1547.71 L1274.4 1568.04 L1268.54 1568.04 L1268.54 1562.63 Q1266.54 1565.88 1263.55 1567.44 Q1260.55 1568.97 1256.22 1568.97 Q1250.75 1568.97 1247.5 1565.91 Q1244.29 1562.82 1244.29 1557.67 Q1244.29 1551.65 1248.3 1548.6 Q1252.34 1545.54 1260.33 1545.54 L1268.54 1545.54 L1268.54 1544.97 Q1268.54 1540.93 1265.87 1538.73 Q1263.23 1536.5 1258.42 1536.5 Q1255.37 1536.5 1252.47 1537.23 Q1249.57 1537.97 1246.9 1539.43 L1246.9 1534.02 Q1250.11 1532.78 1253.14 1532.17 Q1256.16 1531.54 1259.03 1531.54 Q1266.76 1531.54 1270.58 1535.55 Q1274.4 1539.56 1274.4 1547.71 Z\" fill=\"#000000\" fill-rule=\"evenodd\" fill-opacity=\"1\" /><path clip-path=\"url(#clip700)\" d=\"M 0 0 M1286.46 1518.52 L1292.32 1518.52 L1292.32 1568.04 L1286.46 1568.04 L1286.46 1518.52 Z\" fill=\"#000000\" fill-rule=\"evenodd\" fill-opacity=\"1\" /><path clip-path=\"url(#clip700)\" d=\"M 0 0 M1324.81 1520.52 L1331.28 1520.52 L1331.28 1549.39 Q1331.28 1557.03 1334.05 1560.4 Q1336.81 1563.75 1343.02 1563.75 Q1349.2 1563.75 1351.96 1560.4 Q1354.73 1557.03 1354.73 1549.39 L1354.73 1520.52 L1361.19 1520.52 L1361.19 1550.19 Q1361.19 1559.48 1356.58 1564.22 Q1352 1568.97 1343.02 1568.97 Q1334.01 1568.97 1329.4 1564.22 Q1324.81 1559.48 1324.81 1550.19 L1324.81 1520.52 Z\" fill=\"#000000\" fill-rule=\"evenodd\" fill-opacity=\"1\" /><path clip-path=\"url(#clip700)\" d=\"M 0 0 M1402.64 1546.53 L1402.64 1568.04 L1396.78 1568.04 L1396.78 1546.72 Q1396.78 1541.66 1394.81 1539.14 Q1392.83 1536.63 1388.89 1536.63 Q1384.14 1536.63 1381.41 1539.65 Q1378.67 1542.68 1378.67 1547.9 L1378.67 1568.04 L1372.78 1568.04 L1372.78 1532.4 L1378.67 1532.4 L1378.67 1537.93 Q1380.77 1534.72 1383.6 1533.13 Q1386.47 1531.54 1390.19 1531.54 Q1396.33 1531.54 1399.48 1535.36 Q1402.64 1539.14 1402.64 1546.53 Z\" fill=\"#000000\" fill-rule=\"evenodd\" fill-opacity=\"1\" /><path clip-path=\"url(#clip700)\" d=\"M 0 0 M1414.32 1532.4 L1420.17 1532.4 L1420.17 1568.04 L1414.32 1568.04 L1414.32 1532.4 M1414.32 1518.52 L1420.17 1518.52 L1420.17 1525.93 L1414.32 1525.93 L1414.32 1518.52 Z\" fill=\"#000000\" fill-rule=\"evenodd\" fill-opacity=\"1\" /><path clip-path=\"url(#clip700)\" d=\"M 0 0 M1438.22 1522.27 L1438.22 1532.4 L1450.28 1532.4 L1450.28 1536.95 L1438.22 1536.95 L1438.22 1556.3 Q1438.22 1560.66 1439.4 1561.9 Q1440.61 1563.14 1444.27 1563.14 L1450.28 1563.14 L1450.28 1568.04 L1444.27 1568.04 Q1437.49 1568.04 1434.91 1565.53 Q1432.33 1562.98 1432.33 1556.3 L1432.33 1536.95 L1428.03 1536.95 L1428.03 1532.4 L1432.33 1532.4 L1432.33 1522.27 L1438.22 1522.27 Z\" fill=\"#000000\" fill-rule=\"evenodd\" fill-opacity=\"1\" /><path clip-path=\"url(#clip700)\" d=\"M 0 0 M1480.71 1533.45 L1480.71 1538.98 Q1478.23 1537.71 1475.55 1537.07 Q1472.88 1536.44 1470.02 1536.44 Q1465.66 1536.44 1463.46 1537.77 Q1461.3 1539.11 1461.3 1541.79 Q1461.3 1543.82 1462.86 1545 Q1464.41 1546.15 1469.13 1547.2 L1471.13 1547.64 Q1477.37 1548.98 1479.98 1551.43 Q1482.62 1553.85 1482.62 1558.21 Q1482.62 1563.17 1478.67 1566.07 Q1474.76 1568.97 1467.88 1568.97 Q1465.02 1568.97 1461.9 1568.39 Q1458.81 1567.85 1455.38 1566.74 L1455.38 1560.69 Q1458.62 1562.38 1461.77 1563.24 Q1464.92 1564.07 1468.01 1564.07 Q1472.15 1564.07 1474.38 1562.66 Q1476.61 1561.23 1476.61 1558.65 Q1476.61 1556.27 1474.98 1554.99 Q1473.39 1553.72 1467.95 1552.54 L1465.91 1552.07 Q1460.47 1550.92 1458.05 1548.56 Q1455.63 1546.18 1455.63 1542.04 Q1455.63 1537.01 1459.19 1534.27 Q1462.76 1531.54 1469.32 1531.54 Q1472.56 1531.54 1475.43 1532.01 Q1478.29 1532.49 1480.71 1533.45 Z\" fill=\"#000000\" fill-rule=\"evenodd\" fill-opacity=\"1\" /><polyline clip-path=\"url(#clip702)\" style=\"stroke:#000000; stroke-width:2; stroke-opacity:0.1; fill:none\" points=\"\n",
       "  631.897,1277.23 1931.6,1277.23 \n",
       "  \"/>\n",
       "<polyline clip-path=\"url(#clip702)\" style=\"stroke:#000000; stroke-width:2; stroke-opacity:0.1; fill:none\" points=\"\n",
       "  631.897,1025.28 1931.6,1025.28 \n",
       "  \"/>\n",
       "<polyline clip-path=\"url(#clip702)\" style=\"stroke:#000000; stroke-width:2; stroke-opacity:0.1; fill:none\" points=\"\n",
       "  631.897,773.326 1931.6,773.326 \n",
       "  \"/>\n",
       "<polyline clip-path=\"url(#clip702)\" style=\"stroke:#000000; stroke-width:2; stroke-opacity:0.1; fill:none\" points=\"\n",
       "  631.897,521.372 1931.6,521.372 \n",
       "  \"/>\n",
       "<polyline clip-path=\"url(#clip702)\" style=\"stroke:#000000; stroke-width:2; stroke-opacity:0.1; fill:none\" points=\"\n",
       "  631.897,269.418 1931.6,269.418 \n",
       "  \"/>\n",
       "<polyline clip-path=\"url(#clip700)\" style=\"stroke:#000000; stroke-width:4; stroke-opacity:1; fill:none\" points=\"\n",
       "  631.897,1423.18 631.897,123.472 \n",
       "  \"/>\n",
       "<polyline clip-path=\"url(#clip700)\" style=\"stroke:#000000; stroke-width:4; stroke-opacity:1; fill:none\" points=\"\n",
       "  631.897,1277.23 647.494,1277.23 \n",
       "  \"/>\n",
       "<polyline clip-path=\"url(#clip700)\" style=\"stroke:#000000; stroke-width:4; stroke-opacity:1; fill:none\" points=\"\n",
       "  631.897,1025.28 647.494,1025.28 \n",
       "  \"/>\n",
       "<polyline clip-path=\"url(#clip700)\" style=\"stroke:#000000; stroke-width:4; stroke-opacity:1; fill:none\" points=\"\n",
       "  631.897,773.326 647.494,773.326 \n",
       "  \"/>\n",
       "<polyline clip-path=\"url(#clip700)\" style=\"stroke:#000000; stroke-width:4; stroke-opacity:1; fill:none\" points=\"\n",
       "  631.897,521.372 647.494,521.372 \n",
       "  \"/>\n",
       "<polyline clip-path=\"url(#clip700)\" style=\"stroke:#000000; stroke-width:4; stroke-opacity:1; fill:none\" points=\"\n",
       "  631.897,269.418 647.494,269.418 \n",
       "  \"/>\n",
       "<path clip-path=\"url(#clip700)\" d=\"M 0 0 M535.782 1277.69 L565.457 1277.69 L565.457 1281.62 L535.782 1281.62 L535.782 1277.69 Z\" fill=\"#000000\" fill-rule=\"evenodd\" fill-opacity=\"1\" /><path clip-path=\"url(#clip700)\" d=\"M 0 0 M579.578 1290.58 L595.897 1290.58 L595.897 1294.51 L573.953 1294.51 L573.953 1290.58 Q576.615 1287.82 581.198 1283.19 Q585.805 1278.54 586.985 1277.2 Q589.23 1274.68 590.11 1272.94 Q591.013 1271.18 591.013 1269.49 Q591.013 1266.74 589.068 1265 Q587.147 1263.26 584.045 1263.26 Q581.846 1263.26 579.393 1264.03 Q576.962 1264.79 574.184 1266.34 L574.184 1261.62 Q577.008 1260.49 579.462 1259.91 Q581.916 1259.33 583.953 1259.33 Q589.323 1259.33 592.517 1262.01 Q595.712 1264.7 595.712 1269.19 Q595.712 1271.32 594.902 1273.24 Q594.115 1275.14 592.008 1277.73 Q591.429 1278.4 588.328 1281.62 Q585.226 1284.82 579.578 1290.58 Z\" fill=\"#000000\" fill-rule=\"evenodd\" fill-opacity=\"1\" /><path clip-path=\"url(#clip700)\" d=\"M 0 0 M535.411 1025.73 L565.087 1025.73 L565.087 1029.67 L535.411 1029.67 L535.411 1025.73 Z\" fill=\"#000000\" fill-rule=\"evenodd\" fill-opacity=\"1\" /><path clip-path=\"url(#clip700)\" d=\"M 0 0 M575.99 1038.62 L583.629 1038.62 L583.629 1012.26 L575.318 1013.93 L575.318 1009.67 L583.582 1008 L588.258 1008 L588.258 1038.62 L595.897 1038.62 L595.897 1042.56 L575.99 1042.56 L575.99 1038.62 Z\" fill=\"#000000\" fill-rule=\"evenodd\" fill-opacity=\"1\" /><path clip-path=\"url(#clip700)\" d=\"M 0 0 M583.953 759.125 Q580.342 759.125 578.513 762.689 Q576.707 766.231 576.707 773.361 Q576.707 780.467 578.513 784.032 Q580.342 787.574 583.953 787.574 Q587.587 787.574 589.392 784.032 Q591.221 780.467 591.221 773.361 Q591.221 766.231 589.392 762.689 Q587.587 759.125 583.953 759.125 M583.953 755.421 Q589.763 755.421 592.818 760.027 Q595.897 764.611 595.897 773.361 Q595.897 782.088 592.818 786.694 Q589.763 791.277 583.953 791.277 Q578.143 791.277 575.064 786.694 Q572.008 782.088 572.008 773.361 Q572.008 764.611 575.064 760.027 Q578.143 755.421 583.953 755.421 Z\" fill=\"#000000\" fill-rule=\"evenodd\" fill-opacity=\"1\" /><path clip-path=\"url(#clip700)\" d=\"M 0 0 M575.99 534.717 L583.629 534.717 L583.629 508.351 L575.318 510.018 L575.318 505.758 L583.582 504.092 L588.258 504.092 L588.258 534.717 L595.897 534.717 L595.897 538.652 L575.99 538.652 L575.99 534.717 Z\" fill=\"#000000\" fill-rule=\"evenodd\" fill-opacity=\"1\" /><path clip-path=\"url(#clip700)\" d=\"M 0 0 M579.578 282.762 L595.897 282.762 L595.897 286.698 L573.953 286.698 L573.953 282.762 Q576.615 280.008 581.198 275.378 Q585.805 270.726 586.985 269.383 Q589.23 266.86 590.11 265.124 Q591.013 263.364 591.013 261.675 Q591.013 258.92 589.068 257.184 Q587.147 255.448 584.045 255.448 Q581.846 255.448 579.393 256.212 Q576.962 256.976 574.184 258.526 L574.184 253.804 Q577.008 252.67 579.462 252.091 Q581.916 251.513 583.953 251.513 Q589.323 251.513 592.517 254.198 Q595.712 256.883 595.712 261.374 Q595.712 263.503 594.902 265.425 Q594.115 267.323 592.008 269.915 Q591.429 270.587 588.328 273.804 Q585.226 276.999 579.578 282.762 Z\" fill=\"#000000\" fill-rule=\"evenodd\" fill-opacity=\"1\" /><path clip-path=\"url(#clip700)\" d=\"M 0 0 M441.996 952.171 Q441.996 959.173 447.216 963.31 Q452.436 967.416 461.443 967.416 Q470.419 967.416 475.639 963.31 Q480.858 959.173 480.858 952.171 Q480.858 945.168 475.639 941.094 Q470.419 936.988 461.443 936.988 Q452.436 936.988 447.216 941.094 Q441.996 945.168 441.996 952.171 M436.776 952.171 Q436.776 942.176 443.492 936.193 Q450.176 930.209 461.443 930.209 Q472.678 930.209 479.394 936.193 Q486.078 942.176 486.078 952.171 Q486.078 962.196 479.394 968.212 Q472.71 974.196 461.443 974.196 Q450.176 974.196 443.492 968.212 Q436.776 962.196 436.776 952.171 Z\" fill=\"#000000\" fill-rule=\"evenodd\" fill-opacity=\"1\" /><path clip-path=\"url(#clip700)\" d=\"M 0 0 M454.982 899.749 Q454.409 900.736 454.154 901.913 Q453.868 903.059 453.868 904.46 Q453.868 909.425 457.114 912.098 Q460.329 914.74 466.376 914.74 L485.155 914.74 L485.155 920.628 L449.507 920.628 L449.507 914.74 L455.045 914.74 Q451.799 912.894 450.239 909.934 Q448.648 906.974 448.648 902.741 Q448.648 902.136 448.743 901.404 Q448.807 900.672 448.966 899.781 L454.982 899.749 Z\" fill=\"#000000\" fill-rule=\"evenodd\" fill-opacity=\"1\" /><path clip-path=\"url(#clip700)\" d=\"M 0 0 M467.363 868.016 Q460.902 868.016 457.242 870.689 Q453.55 873.331 453.55 877.978 Q453.55 882.625 457.242 885.299 Q460.902 887.941 467.363 887.941 Q473.824 887.941 477.516 885.299 Q481.177 882.625 481.177 877.978 Q481.177 873.331 477.516 870.689 Q473.824 868.016 467.363 868.016 M454.918 887.941 Q451.735 886.094 450.208 883.294 Q448.648 880.461 448.648 876.546 Q448.648 870.053 453.804 866.011 Q458.96 861.937 467.363 861.937 Q475.766 861.937 480.922 866.011 Q486.078 870.053 486.078 876.546 Q486.078 880.461 484.551 883.294 Q482.991 886.094 479.808 887.941 L485.155 887.941 L485.155 893.829 L435.63 893.829 L435.63 887.941 L454.918 887.941 Z\" fill=\"#000000\" fill-rule=\"evenodd\" fill-opacity=\"1\" /><path clip-path=\"url(#clip700)\" d=\"M 0 0 M449.507 852.229 L449.507 846.372 L485.155 846.372 L485.155 852.229 L449.507 852.229 M435.63 852.229 L435.63 846.372 L443.046 846.372 L443.046 852.229 L435.63 852.229 Z\" fill=\"#000000\" fill-rule=\"evenodd\" fill-opacity=\"1\" /><path clip-path=\"url(#clip700)\" d=\"M 0 0 M439.386 828.326 L449.507 828.326 L449.507 816.263 L454.059 816.263 L454.059 828.326 L473.411 828.326 Q477.771 828.326 479.012 827.148 Q480.254 825.939 480.254 822.278 L480.254 816.263 L485.155 816.263 L485.155 822.278 Q485.155 829.058 482.641 831.636 Q480.095 834.214 473.411 834.214 L454.059 834.214 L454.059 838.511 L449.507 838.511 L449.507 834.214 L439.386 834.214 L439.386 828.326 Z\" fill=\"#000000\" fill-rule=\"evenodd\" fill-opacity=\"1\" /><path clip-path=\"url(#clip700)\" d=\"M 0 0 M467.236 792.359 Q467.236 799.457 468.859 802.194 Q470.482 804.932 474.397 804.932 Q477.516 804.932 479.362 802.895 Q481.177 800.826 481.177 797.293 Q481.177 792.423 477.739 789.495 Q474.27 786.535 468.541 786.535 L467.236 786.535 L467.236 792.359 M464.817 780.678 L485.155 780.678 L485.155 786.535 L479.744 786.535 Q482.991 788.54 484.551 791.532 Q486.078 794.524 486.078 798.852 Q486.078 804.327 483.023 807.573 Q479.935 810.788 474.779 810.788 Q468.764 810.788 465.708 806.778 Q462.653 802.736 462.653 794.747 L462.653 786.535 L462.08 786.535 Q458.037 786.535 455.841 789.208 Q453.613 791.85 453.613 796.656 Q453.613 799.712 454.345 802.608 Q455.077 805.505 456.541 808.178 L451.131 808.178 Q449.889 804.964 449.285 801.94 Q448.648 798.916 448.648 796.052 Q448.648 788.317 452.658 784.498 Q456.669 780.678 464.817 780.678 Z\" fill=\"#000000\" fill-rule=\"evenodd\" fill-opacity=\"1\" /><path clip-path=\"url(#clip700)\" d=\"M 0 0 M435.63 768.615 L435.63 762.759 L485.155 762.759 L485.155 768.615 L435.63 768.615 Z\" fill=\"#000000\" fill-rule=\"evenodd\" fill-opacity=\"1\" /><path clip-path=\"url(#clip700)\" d=\"M 0 0 M437.635 730.262 L437.635 723.801 L466.504 723.801 Q474.143 723.801 477.516 721.032 Q480.858 718.263 480.858 712.056 Q480.858 705.881 477.516 703.112 Q474.143 700.343 466.504 700.343 L437.635 700.343 L437.635 693.882 L467.299 693.882 Q476.593 693.882 481.336 698.497 Q486.078 703.08 486.078 712.056 Q486.078 721.064 481.336 725.679 Q476.593 730.262 467.299 730.262 L437.635 730.262 Z\" fill=\"#000000\" fill-rule=\"evenodd\" fill-opacity=\"1\" /><path clip-path=\"url(#clip700)\" d=\"M 0 0 M463.639 652.441 L485.155 652.441 L485.155 658.298 L463.83 658.298 Q458.769 658.298 456.255 660.271 Q453.741 662.244 453.741 666.191 Q453.741 670.934 456.764 673.671 Q459.788 676.408 465.008 676.408 L485.155 676.408 L485.155 682.296 L449.507 682.296 L449.507 676.408 L455.045 676.408 Q451.831 674.307 450.239 671.475 Q448.648 668.61 448.648 664.886 Q448.648 658.743 452.467 655.592 Q456.255 652.441 463.639 652.441 Z\" fill=\"#000000\" fill-rule=\"evenodd\" fill-opacity=\"1\" /><path clip-path=\"url(#clip700)\" d=\"M 0 0 M449.507 640.76 L449.507 634.904 L485.155 634.904 L485.155 640.76 L449.507 640.76 M435.63 640.76 L435.63 634.904 L443.046 634.904 L443.046 640.76 L435.63 640.76 Z\" fill=\"#000000\" fill-rule=\"evenodd\" fill-opacity=\"1\" /><path clip-path=\"url(#clip700)\" d=\"M 0 0 M439.386 616.857 L449.507 616.857 L449.507 604.794 L454.059 604.794 L454.059 616.857 L473.411 616.857 Q477.771 616.857 479.012 615.679 Q480.254 614.47 480.254 610.809 L480.254 604.794 L485.155 604.794 L485.155 610.809 Q485.155 617.589 482.641 620.167 Q480.095 622.745 473.411 622.745 L454.059 622.745 L454.059 627.042 L449.507 627.042 L449.507 622.745 L439.386 622.745 L439.386 616.857 Z\" fill=\"#000000\" fill-rule=\"evenodd\" fill-opacity=\"1\" /><path clip-path=\"url(#clip700)\" d=\"M 0 0 M450.558 574.366 L456.096 574.366 Q454.823 576.848 454.186 579.522 Q453.55 582.196 453.55 585.06 Q453.55 589.421 454.886 591.617 Q456.223 593.781 458.897 593.781 Q460.934 593.781 462.111 592.222 Q463.257 590.662 464.308 585.951 L464.753 583.946 Q466.09 577.708 468.541 575.098 Q470.96 572.456 475.32 572.456 Q480.286 572.456 483.182 576.403 Q486.078 580.318 486.078 587.193 Q486.078 590.057 485.505 593.176 Q484.964 596.264 483.85 599.701 L477.803 599.701 Q479.49 596.455 480.349 593.304 Q481.177 590.153 481.177 587.065 Q481.177 582.928 479.776 580.7 Q478.344 578.472 475.766 578.472 Q473.379 578.472 472.106 580.095 Q470.832 581.686 469.655 587.129 L469.177 589.166 Q468.032 594.609 465.676 597.028 Q463.289 599.447 459.151 599.447 Q454.122 599.447 451.385 595.882 Q448.648 592.317 448.648 585.76 Q448.648 582.514 449.125 579.649 Q449.603 576.785 450.558 574.366 Z\" fill=\"#000000\" fill-rule=\"evenodd\" fill-opacity=\"1\" /><path clip-path=\"url(#clip700)\" d=\"M 0 0 M888.854 44.2197 Q891.487 45.1109 893.958 48.0275 Q896.469 50.9442 898.981 56.0483 L907.285 72.576 L898.495 72.576 L890.758 57.061 Q887.76 50.9847 884.924 48.9997 Q882.129 47.0148 877.268 47.0148 L868.356 47.0148 L868.356 72.576 L860.173 72.576 L860.173 12.096 L878.645 12.096 Q889.016 12.096 894.12 16.4305 Q899.224 20.7649 899.224 29.5149 Q899.224 35.2267 896.55 38.994 Q893.917 42.7613 888.854 44.2197 M868.356 18.8205 L868.356 40.2903 L878.645 40.2903 Q884.56 40.2903 887.557 37.5762 Q890.596 34.8216 890.596 29.5149 Q890.596 24.2082 887.557 21.5346 Q884.56 18.8205 878.645 18.8205 L868.356 18.8205 Z\" fill=\"#000000\" fill-rule=\"evenodd\" fill-opacity=\"1\" /><path clip-path=\"url(#clip700)\" d=\"M 0 0 M952.574 48.0275 L952.574 51.6733 L918.304 51.6733 Q918.79 59.3701 922.922 63.421 Q927.094 67.4314 934.507 67.4314 Q938.801 67.4314 942.812 66.3781 Q946.863 65.3249 950.833 63.2184 L950.833 70.267 Q946.822 71.9684 942.609 72.8596 Q938.396 73.7508 934.062 73.7508 Q923.205 73.7508 916.845 67.4314 Q910.526 61.1119 910.526 50.3365 Q910.526 39.1965 916.521 32.6746 Q922.557 26.1121 932.766 26.1121 Q941.921 26.1121 947.227 32.0264 Q952.574 37.9003 952.574 48.0275 M945.121 45.84 Q945.04 39.7232 941.678 36.0774 Q938.356 32.4315 932.847 32.4315 Q926.608 32.4315 922.841 35.9558 Q919.114 39.4801 918.547 45.8805 L945.121 45.84 Z\" fill=\"#000000\" fill-rule=\"evenodd\" fill-opacity=\"1\" /><path clip-path=\"url(#clip700)\" d=\"M 0 0 M987.777 9.54393 L987.777 15.7418 L980.647 15.7418 Q976.637 15.7418 975.057 17.3622 Q973.518 18.9825 973.518 23.1955 L973.518 27.2059 L985.792 27.2059 L985.792 32.9987 L973.518 32.9987 L973.518 72.576 L966.023 72.576 L966.023 32.9987 L958.894 32.9987 L958.894 27.2059 L966.023 27.2059 L966.023 24.0462 Q966.023 16.471 969.548 13.0277 Q973.072 9.54393 980.728 9.54393 L987.777 9.54393 Z\" fill=\"#000000\" fill-rule=\"evenodd\" fill-opacity=\"1\" /><path clip-path=\"url(#clip700)\" d=\"M 0 0 M1032.82 48.0275 L1032.82 51.6733 L998.552 51.6733 Q999.038 59.3701 1003.17 63.421 Q1007.34 67.4314 1014.76 67.4314 Q1019.05 67.4314 1023.06 66.3781 Q1027.11 65.3249 1031.08 63.2184 L1031.08 70.267 Q1027.07 71.9684 1022.86 72.8596 Q1018.64 73.7508 1014.31 73.7508 Q1003.45 73.7508 997.094 67.4314 Q990.774 61.1119 990.774 50.3365 Q990.774 39.1965 996.77 32.6746 Q1002.81 26.1121 1013.01 26.1121 Q1022.17 26.1121 1027.48 32.0264 Q1032.82 37.9003 1032.82 48.0275 M1025.37 45.84 Q1025.29 39.7232 1021.93 36.0774 Q1018.6 32.4315 1013.09 32.4315 Q1006.86 32.4315 1003.09 35.9558 Q999.362 39.4801 998.795 45.8805 L1025.37 45.84 Z\" fill=\"#000000\" fill-rule=\"evenodd\" fill-opacity=\"1\" /><path clip-path=\"url(#clip700)\" d=\"M 0 0 M1071.35 34.1734 Q1070.09 33.4443 1068.59 33.1202 Q1067.13 32.7556 1065.35 32.7556 Q1059.03 32.7556 1055.63 36.8875 Q1052.27 40.9789 1052.27 48.6757 L1052.27 72.576 L1044.77 72.576 L1044.77 27.2059 L1052.27 27.2059 L1052.27 34.2544 Q1054.62 30.1225 1058.38 28.1376 Q1062.15 26.1121 1067.54 26.1121 Q1068.31 26.1121 1069.24 26.2337 Q1070.17 26.3147 1071.31 26.5172 L1071.35 34.1734 Z\" fill=\"#000000\" fill-rule=\"evenodd\" fill-opacity=\"1\" /><path clip-path=\"url(#clip700)\" d=\"M 0 0 M1116.15 48.0275 L1116.15 51.6733 L1081.88 51.6733 Q1082.37 59.3701 1086.5 63.421 Q1090.67 67.4314 1098.08 67.4314 Q1102.38 67.4314 1106.39 66.3781 Q1110.44 65.3249 1114.41 63.2184 L1114.41 70.267 Q1110.4 71.9684 1106.18 72.8596 Q1101.97 73.7508 1097.64 73.7508 Q1086.78 73.7508 1080.42 67.4314 Q1074.1 61.1119 1074.1 50.3365 Q1074.1 39.1965 1080.1 32.6746 Q1086.13 26.1121 1096.34 26.1121 Q1105.5 26.1121 1110.8 32.0264 Q1116.15 37.9003 1116.15 48.0275 M1108.7 45.84 Q1108.62 39.7232 1105.25 36.0774 Q1101.93 32.4315 1096.42 32.4315 Q1090.18 32.4315 1086.42 35.9558 Q1082.69 39.4801 1082.12 45.8805 L1108.7 45.84 Z\" fill=\"#000000\" fill-rule=\"evenodd\" fill-opacity=\"1\" /><path clip-path=\"url(#clip700)\" d=\"M 0 0 M1166.1 45.1919 L1166.1 72.576 L1158.64 72.576 L1158.64 45.4349 Q1158.64 38.994 1156.13 35.7938 Q1153.62 32.5936 1148.6 32.5936 Q1142.56 32.5936 1139.08 36.4419 Q1135.59 40.2903 1135.59 46.9338 L1135.59 72.576 L1128.1 72.576 L1128.1 27.2059 L1135.59 27.2059 L1135.59 34.2544 Q1138.27 30.163 1141.87 28.1376 Q1145.52 26.1121 1150.26 26.1121 Q1158.08 26.1121 1162.09 30.9732 Q1166.1 35.7938 1166.1 45.1919 Z\" fill=\"#000000\" fill-rule=\"evenodd\" fill-opacity=\"1\" /><path clip-path=\"url(#clip700)\" d=\"M 0 0 M1213.61 28.9478 L1213.61 35.9153 Q1210.46 34.1734 1207.25 33.3227 Q1204.1 32.4315 1200.85 32.4315 Q1193.6 32.4315 1189.59 37.0496 Q1185.58 41.6271 1185.58 49.9314 Q1185.58 58.2358 1189.59 62.8538 Q1193.6 67.4314 1200.85 67.4314 Q1204.1 67.4314 1207.25 66.5807 Q1210.46 65.6895 1213.61 63.9476 L1213.61 70.8341 Q1210.5 72.2924 1207.13 73.0216 Q1203.81 73.7508 1200.04 73.7508 Q1189.8 73.7508 1183.76 67.3098 Q1177.72 60.8689 1177.72 49.9314 Q1177.72 38.832 1183.8 32.472 Q1189.92 26.1121 1200.53 26.1121 Q1203.97 26.1121 1207.25 26.8413 Q1210.54 27.5299 1213.61 28.9478 Z\" fill=\"#000000\" fill-rule=\"evenodd\" fill-opacity=\"1\" /><path clip-path=\"url(#clip700)\" d=\"M 0 0 M1265.39 48.0275 L1265.39 51.6733 L1231.11 51.6733 Q1231.6 59.3701 1235.73 63.421 Q1239.91 67.4314 1247.32 67.4314 Q1251.61 67.4314 1255.62 66.3781 Q1259.67 65.3249 1263.64 63.2184 L1263.64 70.267 Q1259.63 71.9684 1255.42 72.8596 Q1251.21 73.7508 1246.87 73.7508 Q1236.02 73.7508 1229.66 67.4314 Q1223.34 61.1119 1223.34 50.3365 Q1223.34 39.1965 1229.33 32.6746 Q1235.37 26.1121 1245.58 26.1121 Q1254.73 26.1121 1260.04 32.0264 Q1265.39 37.9003 1265.39 48.0275 M1257.93 45.84 Q1257.85 39.7232 1254.49 36.0774 Q1251.17 32.4315 1245.66 32.4315 Q1239.42 32.4315 1235.65 35.9558 Q1231.92 39.4801 1231.36 45.8805 L1257.93 45.84 Z\" fill=\"#000000\" fill-rule=\"evenodd\" fill-opacity=\"1\" /><path clip-path=\"url(#clip700)\" d=\"M 0 0 M1295.93 12.096 L1347.09 12.096 L1347.09 18.9825 L1325.62 18.9825 L1325.62 72.576 L1317.4 72.576 L1317.4 18.9825 L1295.93 18.9825 L1295.93 12.096 Z\" fill=\"#000000\" fill-rule=\"evenodd\" fill-opacity=\"1\" /><path clip-path=\"url(#clip700)\" d=\"M 0 0 M1368.76 34.1734 Q1367.51 33.4443 1366.01 33.1202 Q1364.55 32.7556 1362.77 32.7556 Q1356.45 32.7556 1353.05 36.8875 Q1349.68 40.9789 1349.68 48.6757 L1349.68 72.576 L1342.19 72.576 L1342.19 27.2059 L1349.68 27.2059 L1349.68 34.2544 Q1352.03 30.1225 1355.8 28.1376 Q1359.57 26.1121 1364.96 26.1121 Q1365.73 26.1121 1366.66 26.2337 Q1367.59 26.3147 1368.72 26.5172 L1368.76 34.1734 Z\" fill=\"#000000\" fill-rule=\"evenodd\" fill-opacity=\"1\" /><path clip-path=\"url(#clip700)\" d=\"M 0 0 M1397.2 49.7694 Q1388.17 49.7694 1384.68 51.8354 Q1381.2 53.9013 1381.2 58.8839 Q1381.2 62.8538 1383.79 65.2034 Q1386.43 67.5124 1390.92 67.5124 Q1397.12 67.5124 1400.85 63.1374 Q1404.61 58.7219 1404.61 51.4303 L1404.61 49.7694 L1397.2 49.7694 M1412.07 46.6907 L1412.07 72.576 L1404.61 72.576 L1404.61 65.6895 Q1402.06 69.8214 1398.25 71.8063 Q1394.45 73.7508 1388.94 73.7508 Q1381.97 73.7508 1377.84 69.8619 Q1373.75 65.9325 1373.75 59.3701 Q1373.75 51.7138 1378.85 47.825 Q1384 43.9361 1394.16 43.9361 L1404.61 43.9361 L1404.61 43.2069 Q1404.61 38.0623 1401.21 35.2672 Q1397.85 32.4315 1391.73 32.4315 Q1387.84 32.4315 1384.16 33.3632 Q1380.47 34.295 1377.07 36.1584 L1377.07 29.2718 Q1381.16 27.692 1385.01 26.9223 Q1388.86 26.1121 1392.5 26.1121 Q1402.35 26.1121 1407.21 31.2163 Q1412.07 36.3204 1412.07 46.6907 Z\" fill=\"#000000\" fill-rule=\"evenodd\" fill-opacity=\"1\" /><path clip-path=\"url(#clip700)\" d=\"M 0 0 M1427.42 27.2059 L1434.88 27.2059 L1434.88 73.3862 Q1434.88 82.0551 1431.55 85.944 Q1428.27 89.8329 1420.94 89.8329 L1418.1 89.8329 L1418.1 83.5134 L1420.09 83.5134 Q1424.34 83.5134 1425.88 81.5285 Q1427.42 79.5841 1427.42 73.3862 L1427.42 27.2059 M1427.42 9.54393 L1434.88 9.54393 L1434.88 18.9825 L1427.42 18.9825 L1427.42 9.54393 Z\" fill=\"#000000\" fill-rule=\"evenodd\" fill-opacity=\"1\" /><path clip-path=\"url(#clip700)\" d=\"M 0 0 M1489.28 48.0275 L1489.28 51.6733 L1455.01 51.6733 Q1455.49 59.3701 1459.63 63.421 Q1463.8 67.4314 1471.21 67.4314 Q1475.51 67.4314 1479.52 66.3781 Q1483.57 65.3249 1487.54 63.2184 L1487.54 70.267 Q1483.53 71.9684 1479.31 72.8596 Q1475.1 73.7508 1470.77 73.7508 Q1459.91 73.7508 1453.55 67.4314 Q1447.23 61.1119 1447.23 50.3365 Q1447.23 39.1965 1453.23 32.6746 Q1459.26 26.1121 1469.47 26.1121 Q1478.62 26.1121 1483.93 32.0264 Q1489.28 37.9003 1489.28 48.0275 M1481.83 45.84 Q1481.74 39.7232 1478.38 36.0774 Q1475.06 32.4315 1469.55 32.4315 Q1463.31 32.4315 1459.55 35.9558 Q1455.82 39.4801 1455.25 45.8805 L1481.83 45.84 Z\" fill=\"#000000\" fill-rule=\"evenodd\" fill-opacity=\"1\" /><path clip-path=\"url(#clip700)\" d=\"M 0 0 M1534.16 28.9478 L1534.16 35.9153 Q1531 34.1734 1527.8 33.3227 Q1524.64 32.4315 1521.4 32.4315 Q1514.15 32.4315 1510.14 37.0496 Q1506.13 41.6271 1506.13 49.9314 Q1506.13 58.2358 1510.14 62.8538 Q1514.15 67.4314 1521.4 67.4314 Q1524.64 67.4314 1527.8 66.5807 Q1531 65.6895 1534.16 63.9476 L1534.16 70.8341 Q1531.04 72.2924 1527.68 73.0216 Q1524.36 73.7508 1520.59 73.7508 Q1510.34 73.7508 1504.31 67.3098 Q1498.27 60.8689 1498.27 49.9314 Q1498.27 38.832 1504.35 32.472 Q1510.46 26.1121 1521.08 26.1121 Q1524.52 26.1121 1527.8 26.8413 Q1531.08 27.5299 1534.16 28.9478 Z\" fill=\"#000000\" fill-rule=\"evenodd\" fill-opacity=\"1\" /><path clip-path=\"url(#clip700)\" d=\"M 0 0 M1554.5 14.324 L1554.5 27.2059 L1569.85 27.2059 L1569.85 32.9987 L1554.5 32.9987 L1554.5 57.6282 Q1554.5 63.1779 1556 64.7578 Q1557.54 66.3376 1562.2 66.3376 L1569.85 66.3376 L1569.85 72.576 L1562.2 72.576 Q1553.57 72.576 1550.29 69.3758 Q1547 66.1351 1547 57.6282 L1547 32.9987 L1541.54 32.9987 L1541.54 27.2059 L1547 27.2059 L1547 14.324 L1554.5 14.324 Z\" fill=\"#000000\" fill-rule=\"evenodd\" fill-opacity=\"1\" /><path clip-path=\"url(#clip700)\" d=\"M 0 0 M1597.24 32.4315 Q1591.24 32.4315 1587.76 37.1306 Q1584.27 41.7891 1584.27 49.9314 Q1584.27 58.0738 1587.72 62.7728 Q1591.2 67.4314 1597.24 67.4314 Q1603.19 67.4314 1606.67 62.7323 Q1610.16 58.0333 1610.16 49.9314 Q1610.16 41.8701 1606.67 37.1711 Q1603.19 32.4315 1597.24 32.4315 M1597.24 26.1121 Q1606.96 26.1121 1612.51 32.4315 Q1618.06 38.7509 1618.06 49.9314 Q1618.06 61.0714 1612.51 67.4314 Q1606.96 73.7508 1597.24 73.7508 Q1587.47 73.7508 1581.92 67.4314 Q1576.41 61.0714 1576.41 49.9314 Q1576.41 38.7509 1581.92 32.4315 Q1587.47 26.1121 1597.24 26.1121 Z\" fill=\"#000000\" fill-rule=\"evenodd\" fill-opacity=\"1\" /><path clip-path=\"url(#clip700)\" d=\"M 0 0 M1656.7 34.1734 Q1655.45 33.4443 1653.95 33.1202 Q1652.49 32.7556 1650.71 32.7556 Q1644.39 32.7556 1640.99 36.8875 Q1637.62 40.9789 1637.62 48.6757 L1637.62 72.576 L1630.13 72.576 L1630.13 27.2059 L1637.62 27.2059 L1637.62 34.2544 Q1639.97 30.1225 1643.74 28.1376 Q1647.51 26.1121 1652.89 26.1121 Q1653.66 26.1121 1654.6 26.2337 Q1655.53 26.3147 1656.66 26.5172 L1656.7 34.1734 Z\" fill=\"#000000\" fill-rule=\"evenodd\" fill-opacity=\"1\" /><path clip-path=\"url(#clip700)\" d=\"M 0 0 M1683.4 76.7889 Q1680.24 84.8907 1677.24 87.3618 Q1674.24 89.8329 1669.22 89.8329 L1663.27 89.8329 L1663.27 83.5945 L1667.64 83.5945 Q1670.72 83.5945 1672.42 82.1361 Q1674.12 80.6778 1676.19 75.2496 L1677.52 71.8468 L1659.17 27.2059 L1667.07 27.2059 L1681.25 62.6918 L1695.43 27.2059 L1703.33 27.2059 L1683.4 76.7889 Z\" fill=\"#000000\" fill-rule=\"evenodd\" fill-opacity=\"1\" /><polyline clip-path=\"url(#clip702)\" style=\"stroke:#009af9; stroke-width:12; stroke-opacity:1; fill:none\" points=\"\n",
       "  1352.42,773.326 1346.39,735.247 1330.82,702.452 1310.24,676.459 1287.78,656.391 1265.02,640.946 1242.68,629.044 1221.05,619.888 1200.28,612.902 1180.38,607.663 \n",
       "  1161.36,603.858 1143.18,601.248 1125.81,599.649 1109.22,598.915 1093.36,598.929 1078.21,599.595 1063.73,600.834 1049.89,602.581 1036.66,604.78 1024.02,607.385 \n",
       "  1011.95,610.353 1000.42,613.651 989.414,617.246 978.917,621.113 968.911,625.226 959.382,629.566 950.315,634.112 941.699,638.847 933.523,643.756 925.775,648.825 \n",
       "  918.446,654.04 911.528,659.391 905.011,664.865 898.89,670.452 893.157,676.144 887.805,681.932 882.83,687.807 878.226,693.761 873.988,699.788 870.111,705.88 \n",
       "  866.593,712.03 863.43,718.233 860.619,724.483 858.156,730.773 856.04,737.097 854.269,743.451 852.841,749.829 851.754,756.226 851.009,762.636 848.515,773.326 \n",
       "  849.37,800.529 851.931,827.625 856.189,854.506 862.126,881.067 869.719,907.203 878.938,932.811 889.747,957.789 902.103,982.039 915.958,1005.47 931.256,1027.98 \n",
       "  947.937,1049.48 965.936,1069.9 985.181,1089.14 1005.6,1107.14 1027.1,1123.82 1049.61,1139.12 1073.04,1152.97 1097.29,1165.33 1122.27,1176.14 1147.87,1185.36 \n",
       "  1174.01,1192.95 1200.57,1198.89 1227.45,1203.15 1254.55,1205.71 1281.75,1206.56 1308.95,1205.71 1336.05,1203.15 1362.93,1198.89 1389.49,1192.95 1415.63,1185.36 \n",
       "  1441.24,1176.14 1466.21,1165.33 1490.46,1152.97 1513.89,1139.12 1536.4,1123.82 1557.91,1107.14 1578.32,1089.14 1597.57,1069.9 1615.56,1049.48 1632.25,1027.98 \n",
       "  1647.54,1005.47 1661.4,982.039 1673.75,957.788 1684.56,932.81 1693.78,907.203 1701.38,881.067 1707.31,854.506 1711.57,827.624 1714.13,800.529 1714.99,773.326 \n",
       "  \n",
       "  \"/>\n",
       "<line clip-path=\"url(#clip702)\" x1=\"1714.99\" y1=\"773.326\" x2=\"1694.99\" y2=\"753.326\" style=\"stroke:#e26f46; stroke-width:3.2; stroke-opacity:1\"/>\n",
       "<line clip-path=\"url(#clip702)\" x1=\"1714.99\" y1=\"773.326\" x2=\"1694.99\" y2=\"793.326\" style=\"stroke:#e26f46; stroke-width:3.2; stroke-opacity:1\"/>\n",
       "<line clip-path=\"url(#clip702)\" x1=\"1714.99\" y1=\"773.326\" x2=\"1734.99\" y2=\"793.326\" style=\"stroke:#e26f46; stroke-width:3.2; stroke-opacity:1\"/>\n",
       "<line clip-path=\"url(#clip702)\" x1=\"1714.99\" y1=\"773.326\" x2=\"1734.99\" y2=\"753.326\" style=\"stroke:#e26f46; stroke-width:3.2; stroke-opacity:1\"/>\n",
       "<path clip-path=\"url(#clip702)\" d=\"M1281.75 789.326 L1270.44 784.638 L1265.75 773.326 L1270.44 762.014 L1281.75 757.326 L1293.06 762.014 L1297.75 773.326 L1293.06 784.638 Z\" fill=\"#3da44d\" fill-rule=\"evenodd\" fill-opacity=\"1\" stroke=\"#000000\" stroke-opacity=\"1\" stroke-width=\"3.2\"/>\n",
       "<path clip-path=\"url(#clip700)\" d=\"\n",
       "M1340.08 408.716 L1860.2 408.716 L1860.2 166.796 L1340.08 166.796  Z\n",
       "  \" fill=\"#ffffff\" fill-rule=\"evenodd\" fill-opacity=\"1\"/>\n",
       "<polyline clip-path=\"url(#clip700)\" style=\"stroke:#000000; stroke-width:4; stroke-opacity:1; fill:none\" points=\"\n",
       "  1340.08,408.716 1860.2,408.716 1860.2,166.796 1340.08,166.796 1340.08,408.716 \n",
       "  \"/>\n",
       "<polyline clip-path=\"url(#clip700)\" style=\"stroke:#009af9; stroke-width:4; stroke-opacity:1; fill:none\" points=\"\n",
       "  1363.88,227.276 1506.68,227.276 \n",
       "  \"/>\n",
       "<path clip-path=\"url(#clip700)\" d=\"M 0 0 M1546.86 228.352 Q1548.37 228.861 1549.78 230.528 Q1551.22 232.195 1552.65 235.111 L1557.4 244.556 L1552.37 244.556 L1547.95 235.69 Q1546.24 232.218 1544.62 231.084 Q1543.02 229.949 1540.24 229.949 L1535.15 229.949 L1535.15 244.556 L1530.48 244.556 L1530.48 209.996 L1541.03 209.996 Q1546.96 209.996 1549.87 212.473 Q1552.79 214.949 1552.79 219.949 Q1552.79 223.213 1551.26 225.366 Q1549.76 227.519 1546.86 228.352 M1535.15 213.838 L1535.15 226.107 L1541.03 226.107 Q1544.41 226.107 1546.12 224.556 Q1547.86 222.982 1547.86 219.949 Q1547.86 216.917 1546.12 215.389 Q1544.41 213.838 1541.03 213.838 L1535.15 213.838 Z\" fill=\"#000000\" fill-rule=\"evenodd\" fill-opacity=\"1\" /><path clip-path=\"url(#clip700)\" d=\"M 0 0 M1583.28 230.528 L1583.28 232.611 L1563.69 232.611 Q1563.97 237.009 1566.33 239.324 Q1568.72 241.616 1572.95 241.616 Q1575.41 241.616 1577.7 241.014 Q1580.01 240.412 1582.28 239.209 L1582.28 243.236 Q1579.99 244.208 1577.58 244.718 Q1575.17 245.227 1572.7 245.227 Q1566.49 245.227 1562.86 241.616 Q1559.25 238.005 1559.25 231.847 Q1559.25 225.482 1562.68 221.755 Q1566.12 218.005 1571.96 218.005 Q1577.19 218.005 1580.22 221.385 Q1583.28 224.741 1583.28 230.528 M1579.02 229.278 Q1578.97 225.783 1577.05 223.699 Q1575.15 221.616 1572 221.616 Q1568.44 221.616 1566.29 223.63 Q1564.16 225.644 1563.83 229.301 L1579.02 229.278 Z\" fill=\"#000000\" fill-rule=\"evenodd\" fill-opacity=\"1\" /><path clip-path=\"url(#clip700)\" d=\"M 0 0 M1603.39 208.537 L1603.39 212.079 L1599.32 212.079 Q1597.03 212.079 1596.12 213.005 Q1595.24 213.931 1595.24 216.338 L1595.24 218.63 L1602.26 218.63 L1602.26 221.94 L1595.24 221.94 L1595.24 244.556 L1590.96 244.556 L1590.96 221.94 L1586.89 221.94 L1586.89 218.63 L1590.96 218.63 L1590.96 216.824 Q1590.96 212.496 1592.98 210.528 Q1594.99 208.537 1599.36 208.537 L1603.39 208.537 Z\" fill=\"#000000\" fill-rule=\"evenodd\" fill-opacity=\"1\" /><path clip-path=\"url(#clip700)\" d=\"M 0 0 M1629.13 230.528 L1629.13 232.611 L1609.55 232.611 Q1609.83 237.009 1612.19 239.324 Q1614.57 241.616 1618.81 241.616 Q1621.26 241.616 1623.55 241.014 Q1625.87 240.412 1628.14 239.209 L1628.14 243.236 Q1625.85 244.208 1623.44 244.718 Q1621.03 245.227 1618.55 245.227 Q1612.35 245.227 1608.72 241.616 Q1605.11 238.005 1605.11 231.847 Q1605.11 225.482 1608.53 221.755 Q1611.98 218.005 1617.81 218.005 Q1623.05 218.005 1626.08 221.385 Q1629.13 224.741 1629.13 230.528 M1624.87 229.278 Q1624.83 225.783 1622.91 223.699 Q1621.01 221.616 1617.86 221.616 Q1614.3 221.616 1612.14 223.63 Q1610.01 225.644 1609.69 229.301 L1624.87 229.278 Z\" fill=\"#000000\" fill-rule=\"evenodd\" fill-opacity=\"1\" /><path clip-path=\"url(#clip700)\" d=\"M 0 0 M1651.15 222.611 Q1650.43 222.195 1649.57 222.01 Q1648.74 221.801 1647.72 221.801 Q1644.11 221.801 1642.17 224.162 Q1640.24 226.5 1640.24 230.898 L1640.24 244.556 L1635.96 244.556 L1635.96 218.63 L1640.24 218.63 L1640.24 222.658 Q1641.59 220.297 1643.74 219.162 Q1645.89 218.005 1648.97 218.005 Q1649.41 218.005 1649.94 218.074 Q1650.48 218.121 1651.12 218.236 L1651.15 222.611 Z\" fill=\"#000000\" fill-rule=\"evenodd\" fill-opacity=\"1\" /><path clip-path=\"url(#clip700)\" d=\"M 0 0 M1676.75 230.528 L1676.75 232.611 L1657.17 232.611 Q1657.44 237.009 1659.8 239.324 Q1662.19 241.616 1666.42 241.616 Q1668.88 241.616 1671.17 241.014 Q1673.48 240.412 1675.75 239.209 L1675.75 243.236 Q1673.46 244.208 1671.05 244.718 Q1668.65 245.227 1666.17 245.227 Q1659.97 245.227 1656.33 241.616 Q1652.72 238.005 1652.72 231.847 Q1652.72 225.482 1656.15 221.755 Q1659.6 218.005 1665.43 218.005 Q1670.66 218.005 1673.69 221.385 Q1676.75 224.741 1676.75 230.528 M1672.49 229.278 Q1672.44 225.783 1670.52 223.699 Q1668.62 221.616 1665.48 221.616 Q1661.91 221.616 1659.76 223.63 Q1657.63 225.644 1657.3 229.301 L1672.49 229.278 Z\" fill=\"#000000\" fill-rule=\"evenodd\" fill-opacity=\"1\" /><path clip-path=\"url(#clip700)\" d=\"M 0 0 M1705.29 228.908 L1705.29 244.556 L1701.03 244.556 L1701.03 229.047 Q1701.03 225.366 1699.6 223.537 Q1698.16 221.709 1695.29 221.709 Q1691.84 221.709 1689.85 223.908 Q1687.86 226.107 1687.86 229.903 L1687.86 244.556 L1683.58 244.556 L1683.58 218.63 L1687.86 218.63 L1687.86 222.658 Q1689.39 220.32 1691.45 219.162 Q1693.53 218.005 1696.24 218.005 Q1700.71 218.005 1703 220.783 Q1705.29 223.537 1705.29 228.908 Z\" fill=\"#000000\" fill-rule=\"evenodd\" fill-opacity=\"1\" /><path clip-path=\"url(#clip700)\" d=\"M 0 0 M1732.44 219.625 L1732.44 223.607 Q1730.64 222.611 1728.81 222.125 Q1727 221.616 1725.15 221.616 Q1721.01 221.616 1718.72 224.255 Q1716.42 226.871 1716.42 231.616 Q1716.42 236.361 1718.72 239 Q1721.01 241.616 1725.15 241.616 Q1727 241.616 1728.81 241.13 Q1730.64 240.621 1732.44 239.625 L1732.44 243.56 Q1730.66 244.394 1728.74 244.81 Q1726.84 245.227 1724.69 245.227 Q1718.83 245.227 1715.38 241.546 Q1711.93 237.866 1711.93 231.616 Q1711.93 225.273 1715.41 221.639 Q1718.9 218.005 1724.97 218.005 Q1726.93 218.005 1728.81 218.422 Q1730.68 218.815 1732.44 219.625 Z\" fill=\"#000000\" fill-rule=\"evenodd\" fill-opacity=\"1\" /><path clip-path=\"url(#clip700)\" d=\"M 0 0 M1762.03 230.528 L1762.03 232.611 L1742.44 232.611 Q1742.72 237.009 1745.08 239.324 Q1747.47 241.616 1751.7 241.616 Q1754.16 241.616 1756.45 241.014 Q1758.76 240.412 1761.03 239.209 L1761.03 243.236 Q1758.74 244.208 1756.33 244.718 Q1753.92 245.227 1751.45 245.227 Q1745.24 245.227 1741.61 241.616 Q1738 238.005 1738 231.847 Q1738 225.482 1741.42 221.755 Q1744.87 218.005 1750.71 218.005 Q1755.94 218.005 1758.97 221.385 Q1762.03 224.741 1762.03 230.528 M1757.77 229.278 Q1757.72 225.783 1755.8 223.699 Q1753.9 221.616 1750.75 221.616 Q1747.19 221.616 1745.04 223.63 Q1742.91 225.644 1742.58 229.301 L1757.77 229.278 Z\" fill=\"#000000\" fill-rule=\"evenodd\" fill-opacity=\"1\" /><polyline clip-path=\"url(#clip700)\" style=\"stroke:#e26f46; stroke-width:4; stroke-opacity:1; fill:none\" points=\"\n",
       "  1363.88,287.756 1506.68,287.756 \n",
       "  \"/>\n",
       "<line clip-path=\"url(#clip700)\" x1=\"1435.28\" y1=\"287.756\" x2=\"1409.68\" y2=\"262.156\" style=\"stroke:#e26f46; stroke-width:3.2; stroke-opacity:1\"/>\n",
       "<line clip-path=\"url(#clip700)\" x1=\"1435.28\" y1=\"287.756\" x2=\"1409.68\" y2=\"313.356\" style=\"stroke:#e26f46; stroke-width:3.2; stroke-opacity:1\"/>\n",
       "<line clip-path=\"url(#clip700)\" x1=\"1435.28\" y1=\"287.756\" x2=\"1460.88\" y2=\"313.356\" style=\"stroke:#e26f46; stroke-width:3.2; stroke-opacity:1\"/>\n",
       "<line clip-path=\"url(#clip700)\" x1=\"1435.28\" y1=\"287.756\" x2=\"1460.88\" y2=\"262.156\" style=\"stroke:#e26f46; stroke-width:3.2; stroke-opacity:1\"/>\n",
       "<path clip-path=\"url(#clip700)\" d=\"M 0 0 M1556.03 300.105 L1556.03 290.823 L1548.39 290.823 L1548.39 286.98 L1560.66 286.98 L1560.66 301.818 Q1557.95 303.739 1554.69 304.735 Q1551.43 305.707 1547.72 305.707 Q1539.62 305.707 1535.04 300.985 Q1530.48 296.239 1530.48 287.79 Q1530.48 279.318 1535.04 274.596 Q1539.62 269.851 1547.72 269.851 Q1551.1 269.851 1554.13 270.684 Q1557.19 271.517 1559.76 273.138 L1559.76 278.115 Q1557.17 275.916 1554.25 274.804 Q1551.33 273.693 1548.11 273.693 Q1541.77 273.693 1538.58 277.235 Q1535.41 280.777 1535.41 287.79 Q1535.41 294.781 1538.58 298.323 Q1541.77 301.864 1548.11 301.864 Q1550.59 301.864 1552.54 301.448 Q1554.48 301.008 1556.03 300.105 Z\" fill=\"#000000\" fill-rule=\"evenodd\" fill-opacity=\"1\" /><path clip-path=\"url(#clip700)\" d=\"M 0 0 M1579.06 282.096 Q1575.64 282.096 1573.65 284.781 Q1571.66 287.443 1571.66 292.096 Q1571.66 296.749 1573.62 299.434 Q1575.61 302.096 1579.06 302.096 Q1582.47 302.096 1584.46 299.411 Q1586.45 296.726 1586.45 292.096 Q1586.45 287.49 1584.46 284.804 Q1582.47 282.096 1579.06 282.096 M1579.06 278.485 Q1584.62 278.485 1587.79 282.096 Q1590.96 285.707 1590.96 292.096 Q1590.96 298.462 1587.79 302.096 Q1584.62 305.707 1579.06 305.707 Q1573.49 305.707 1570.31 302.096 Q1567.17 298.462 1567.17 292.096 Q1567.17 285.707 1570.31 282.096 Q1573.49 278.485 1579.06 278.485 Z\" fill=\"#000000\" fill-rule=\"evenodd\" fill-opacity=\"1\" /><path clip-path=\"url(#clip700)\" d=\"M 0 0 M1609.8 292.003 Q1604.64 292.003 1602.65 293.184 Q1600.66 294.364 1600.66 297.212 Q1600.66 299.48 1602.14 300.823 Q1603.65 302.142 1606.22 302.142 Q1609.76 302.142 1611.89 299.642 Q1614.04 297.119 1614.04 292.952 L1614.04 292.003 L1609.8 292.003 M1618.3 290.244 L1618.3 305.036 L1614.04 305.036 L1614.04 301.101 Q1612.58 303.462 1610.41 304.596 Q1608.23 305.707 1605.08 305.707 Q1601.1 305.707 1598.74 303.485 Q1596.4 301.239 1596.4 297.489 Q1596.4 293.114 1599.32 290.892 Q1602.26 288.67 1608.07 288.67 L1614.04 288.67 L1614.04 288.253 Q1614.04 285.314 1612.1 283.716 Q1610.17 282.096 1606.68 282.096 Q1604.46 282.096 1602.35 282.628 Q1600.24 283.161 1598.3 284.226 L1598.3 280.29 Q1600.64 279.388 1602.84 278.948 Q1605.04 278.485 1607.12 278.485 Q1612.74 278.485 1615.52 281.402 Q1618.3 284.318 1618.3 290.244 Z\" fill=\"#000000\" fill-rule=\"evenodd\" fill-opacity=\"1\" /><path clip-path=\"url(#clip700)\" d=\"M 0 0 M1627.07 269.017 L1631.33 269.017 L1631.33 305.036 L1627.07 305.036 L1627.07 269.017 Z\" fill=\"#000000\" fill-rule=\"evenodd\" fill-opacity=\"1\" /><path clip-path=\"url(#clip700)\" d=\"M 0 0 M1676.22 271.61 L1676.22 276.17 Q1673.55 274.897 1671.19 274.272 Q1668.83 273.647 1666.63 273.647 Q1662.81 273.647 1660.73 275.128 Q1658.67 276.61 1658.67 279.341 Q1658.67 281.633 1660.04 282.814 Q1661.42 283.971 1665.27 284.689 L1668.09 285.267 Q1673.32 286.263 1675.8 288.786 Q1678.3 291.286 1678.3 295.499 Q1678.3 300.522 1674.92 303.114 Q1671.56 305.707 1665.06 305.707 Q1662.61 305.707 1659.83 305.151 Q1657.07 304.596 1654.11 303.508 L1654.11 298.693 Q1656.96 300.29 1659.69 301.101 Q1662.42 301.911 1665.06 301.911 Q1669.06 301.911 1671.24 300.337 Q1673.42 298.763 1673.42 295.846 Q1673.42 293.3 1671.84 291.864 Q1670.29 290.429 1666.73 289.712 L1663.88 289.156 Q1658.65 288.115 1656.31 285.892 Q1653.97 283.67 1653.97 279.712 Q1653.97 275.128 1657.19 272.49 Q1660.43 269.851 1666.1 269.851 Q1668.53 269.851 1671.05 270.291 Q1673.58 270.73 1676.22 271.61 Z\" fill=\"#000000\" fill-rule=\"evenodd\" fill-opacity=\"1\" /><path clip-path=\"url(#clip700)\" d=\"M 0 0 M1689.62 271.749 L1689.62 279.11 L1698.39 279.11 L1698.39 282.42 L1689.62 282.42 L1689.62 296.494 Q1689.62 299.665 1690.48 300.568 Q1691.35 301.471 1694.02 301.471 L1698.39 301.471 L1698.39 305.036 L1694.02 305.036 Q1689.09 305.036 1687.21 303.207 Q1685.34 301.355 1685.34 296.494 L1685.34 282.42 L1682.21 282.42 L1682.21 279.11 L1685.34 279.11 L1685.34 271.749 L1689.62 271.749 Z\" fill=\"#000000\" fill-rule=\"evenodd\" fill-opacity=\"1\" /><path clip-path=\"url(#clip700)\" d=\"M 0 0 M1715.78 292.003 Q1710.61 292.003 1708.62 293.184 Q1706.63 294.364 1706.63 297.212 Q1706.63 299.48 1708.11 300.823 Q1709.62 302.142 1712.19 302.142 Q1715.73 302.142 1717.86 299.642 Q1720.01 297.119 1720.01 292.952 L1720.01 292.003 L1715.78 292.003 M1724.27 290.244 L1724.27 305.036 L1720.01 305.036 L1720.01 301.101 Q1718.55 303.462 1716.38 304.596 Q1714.2 305.707 1711.05 305.707 Q1707.07 305.707 1704.71 303.485 Q1702.37 301.239 1702.37 297.489 Q1702.37 293.114 1705.29 290.892 Q1708.23 288.67 1714.04 288.67 L1720.01 288.67 L1720.01 288.253 Q1720.01 285.314 1718.07 283.716 Q1716.15 282.096 1712.65 282.096 Q1710.43 282.096 1708.32 282.628 Q1706.22 283.161 1704.27 284.226 L1704.27 280.29 Q1706.61 279.388 1708.81 278.948 Q1711.01 278.485 1713.09 278.485 Q1718.72 278.485 1721.49 281.402 Q1724.27 284.318 1724.27 290.244 Z\" fill=\"#000000\" fill-rule=\"evenodd\" fill-opacity=\"1\" /><path clip-path=\"url(#clip700)\" d=\"M 0 0 M1737.26 271.749 L1737.26 279.11 L1746.03 279.11 L1746.03 282.42 L1737.26 282.42 L1737.26 296.494 Q1737.26 299.665 1738.11 300.568 Q1738.99 301.471 1741.66 301.471 L1746.03 301.471 L1746.03 305.036 L1741.66 305.036 Q1736.73 305.036 1734.85 303.207 Q1732.98 301.355 1732.98 296.494 L1732.98 282.42 L1729.85 282.42 L1729.85 279.11 L1732.98 279.11 L1732.98 271.749 L1737.26 271.749 Z\" fill=\"#000000\" fill-rule=\"evenodd\" fill-opacity=\"1\" /><path clip-path=\"url(#clip700)\" d=\"M 0 0 M1773.81 291.008 L1773.81 293.091 L1754.22 293.091 Q1754.5 297.489 1756.86 299.804 Q1759.25 302.096 1763.48 302.096 Q1765.94 302.096 1768.23 301.494 Q1770.54 300.892 1772.81 299.689 L1772.81 303.716 Q1770.52 304.688 1768.11 305.198 Q1765.71 305.707 1763.23 305.707 Q1757.03 305.707 1753.39 302.096 Q1749.78 298.485 1749.78 292.327 Q1749.78 285.962 1753.21 282.235 Q1756.66 278.485 1762.49 278.485 Q1767.72 278.485 1770.75 281.865 Q1773.81 285.221 1773.81 291.008 M1769.55 289.758 Q1769.5 286.263 1767.58 284.179 Q1765.68 282.096 1762.54 282.096 Q1758.97 282.096 1756.82 284.11 Q1754.69 286.124 1754.36 289.781 L1769.55 289.758 Z\" fill=\"#000000\" fill-rule=\"evenodd\" fill-opacity=\"1\" /><polyline clip-path=\"url(#clip700)\" style=\"stroke:#3da44d; stroke-width:4; stroke-opacity:1; fill:none\" points=\"\n",
       "  1363.88,348.236 1506.68,348.236 \n",
       "  \"/>\n",
       "<path clip-path=\"url(#clip700)\" d=\"M1435.28 373.836 L1417.18 366.335 L1409.68 348.236 L1417.18 330.137 L1435.28 322.636 L1453.37 330.137 L1460.88 348.236 L1453.37 366.335 Z\" fill=\"#3da44d\" fill-rule=\"evenodd\" fill-opacity=\"1\" stroke=\"#000000\" stroke-opacity=\"1\" stroke-width=\"5.12\"/>\n",
       "<path clip-path=\"url(#clip700)\" d=\"M 0 0 M1535.15 334.798 L1535.15 347.784 L1541.03 347.784 Q1544.3 347.784 1546.08 346.095 Q1547.86 344.405 1547.86 341.28 Q1547.86 338.178 1546.08 336.488 Q1544.3 334.798 1541.03 334.798 L1535.15 334.798 M1530.48 330.956 L1541.03 330.956 Q1546.84 330.956 1549.8 333.595 Q1552.79 336.21 1552.79 341.28 Q1552.79 346.395 1549.8 349.011 Q1546.84 351.627 1541.03 351.627 L1535.15 351.627 L1535.15 365.516 L1530.48 365.516 L1530.48 330.956 Z\" fill=\"#000000\" fill-rule=\"evenodd\" fill-opacity=\"1\" /><path clip-path=\"url(#clip700)\" d=\"M 0 0 M1558.88 329.497 L1563.14 329.497 L1563.14 365.516 L1558.88 365.516 L1558.88 329.497 Z\" fill=\"#000000\" fill-rule=\"evenodd\" fill-opacity=\"1\" /><path clip-path=\"url(#clip700)\" d=\"M 0 0 M1583.83 352.483 Q1578.67 352.483 1576.68 353.664 Q1574.69 354.844 1574.69 357.692 Q1574.69 359.96 1576.17 361.303 Q1577.67 362.622 1580.24 362.622 Q1583.79 362.622 1585.92 360.122 Q1588.07 357.599 1588.07 353.432 L1588.07 352.483 L1583.83 352.483 M1592.33 350.724 L1592.33 365.516 L1588.07 365.516 L1588.07 361.581 Q1586.61 363.942 1584.43 365.076 Q1582.26 366.187 1579.11 366.187 Q1575.13 366.187 1572.77 363.965 Q1570.43 361.719 1570.43 357.969 Q1570.43 353.594 1573.35 351.372 Q1576.29 349.15 1582.1 349.15 L1588.07 349.15 L1588.07 348.733 Q1588.07 345.794 1586.12 344.196 Q1584.2 342.576 1580.71 342.576 Q1578.49 342.576 1576.38 343.108 Q1574.27 343.641 1572.33 344.706 L1572.33 340.77 Q1574.67 339.868 1576.86 339.428 Q1579.06 338.965 1581.15 338.965 Q1586.77 338.965 1589.55 341.882 Q1592.33 344.798 1592.33 350.724 Z\" fill=\"#000000\" fill-rule=\"evenodd\" fill-opacity=\"1\" /><path clip-path=\"url(#clip700)\" d=\"M 0 0 M1622.65 349.868 L1622.65 365.516 L1618.39 365.516 L1618.39 350.007 Q1618.39 346.326 1616.96 344.497 Q1615.52 342.669 1612.65 342.669 Q1609.2 342.669 1607.21 344.868 Q1605.22 347.067 1605.22 350.863 L1605.22 365.516 L1600.94 365.516 L1600.94 339.59 L1605.22 339.59 L1605.22 343.618 Q1606.75 341.28 1608.81 340.122 Q1610.89 338.965 1613.6 338.965 Q1618.07 338.965 1620.36 341.743 Q1622.65 344.497 1622.65 349.868 Z\" fill=\"#000000\" fill-rule=\"evenodd\" fill-opacity=\"1\" /><path clip-path=\"url(#clip700)\" d=\"M 0 0 M1653.32 351.488 L1653.32 353.571 L1633.74 353.571 Q1634.02 357.969 1636.38 360.284 Q1638.76 362.576 1643 362.576 Q1645.45 362.576 1647.74 361.974 Q1650.06 361.372 1652.33 360.169 L1652.33 364.196 Q1650.04 365.168 1647.63 365.678 Q1645.22 366.187 1642.74 366.187 Q1636.54 366.187 1632.91 362.576 Q1629.3 358.965 1629.3 352.807 Q1629.3 346.442 1632.72 342.715 Q1636.17 338.965 1642 338.965 Q1647.23 338.965 1650.27 342.345 Q1653.32 345.701 1653.32 351.488 M1649.06 350.238 Q1649.02 346.743 1647.1 344.659 Q1645.2 342.576 1642.05 342.576 Q1638.48 342.576 1636.33 344.59 Q1634.2 346.604 1633.88 350.261 L1649.06 350.238 Z\" fill=\"#000000\" fill-rule=\"evenodd\" fill-opacity=\"1\" /><path clip-path=\"url(#clip700)\" d=\"M 0 0 M1664.53 332.229 L1664.53 339.59 L1673.3 339.59 L1673.3 342.9 L1664.53 342.9 L1664.53 356.974 Q1664.53 360.145 1665.38 361.048 Q1666.26 361.951 1668.92 361.951 L1673.3 361.951 L1673.3 365.516 L1668.92 365.516 Q1663.99 365.516 1662.12 363.687 Q1660.24 361.835 1660.24 356.974 L1660.24 342.9 L1657.12 342.9 L1657.12 339.59 L1660.24 339.59 L1660.24 332.229 L1664.53 332.229 Z\" fill=\"#000000\" fill-rule=\"evenodd\" fill-opacity=\"1\" /><path clip-path=\"url(#clip700)\" d=\"M 0 0 M1694.16 330.956 L1716.01 330.956 L1716.01 334.891 L1698.83 334.891 L1698.83 345.122 L1715.29 345.122 L1715.29 349.057 L1698.83 349.057 L1698.83 361.581 L1716.42 361.581 L1716.42 365.516 L1694.16 365.516 L1694.16 330.956 Z\" fill=\"#000000\" fill-rule=\"evenodd\" fill-opacity=\"1\" /><path clip-path=\"url(#clip700)\" d=\"M 0 0 M1735.71 352.483 Q1730.54 352.483 1728.55 353.664 Q1726.56 354.844 1726.56 357.692 Q1726.56 359.96 1728.04 361.303 Q1729.55 362.622 1732.12 362.622 Q1735.66 362.622 1737.79 360.122 Q1739.94 357.599 1739.94 353.432 L1739.94 352.483 L1735.71 352.483 M1744.2 350.724 L1744.2 365.516 L1739.94 365.516 L1739.94 361.581 Q1738.48 363.942 1736.31 365.076 Q1734.13 366.187 1730.98 366.187 Q1727 366.187 1724.64 363.965 Q1722.3 361.719 1722.3 357.969 Q1722.3 353.594 1725.22 351.372 Q1728.16 349.15 1733.97 349.15 L1739.94 349.15 L1739.94 348.733 Q1739.94 345.794 1738 344.196 Q1736.08 342.576 1732.58 342.576 Q1730.36 342.576 1728.25 343.108 Q1726.15 343.641 1724.2 344.706 L1724.2 340.77 Q1726.54 339.868 1728.74 339.428 Q1730.94 338.965 1733.02 338.965 Q1738.65 338.965 1741.42 341.882 Q1744.2 344.798 1744.2 350.724 Z\" fill=\"#000000\" fill-rule=\"evenodd\" fill-opacity=\"1\" /><path clip-path=\"url(#clip700)\" d=\"M 0 0 M1768 343.571 Q1767.28 343.155 1766.42 342.97 Q1765.59 342.761 1764.57 342.761 Q1760.96 342.761 1759.02 345.122 Q1757.1 347.46 1757.1 351.858 L1757.1 365.516 L1752.81 365.516 L1752.81 339.59 L1757.1 339.59 L1757.1 343.618 Q1758.44 341.257 1760.59 340.122 Q1762.74 338.965 1765.82 338.965 Q1766.26 338.965 1766.79 339.034 Q1767.33 339.081 1767.97 339.196 L1768 343.571 Z\" fill=\"#000000\" fill-rule=\"evenodd\" fill-opacity=\"1\" /><path clip-path=\"url(#clip700)\" d=\"M 0 0 M1776.68 332.229 L1776.68 339.59 L1785.45 339.59 L1785.45 342.9 L1776.68 342.9 L1776.68 356.974 Q1776.68 360.145 1777.53 361.048 Q1778.41 361.951 1781.08 361.951 L1785.45 361.951 L1785.45 365.516 L1781.08 365.516 Q1776.15 365.516 1774.27 363.687 Q1772.4 361.835 1772.4 356.974 L1772.4 342.9 L1769.27 342.9 L1769.27 339.59 L1772.4 339.59 L1772.4 332.229 L1776.68 332.229 Z\" fill=\"#000000\" fill-rule=\"evenodd\" fill-opacity=\"1\" /><path clip-path=\"url(#clip700)\" d=\"M 0 0 M1812.6 349.868 L1812.6 365.516 L1808.34 365.516 L1808.34 350.007 Q1808.34 346.326 1806.91 344.497 Q1805.47 342.669 1802.6 342.669 Q1799.16 342.669 1797.16 344.868 Q1795.17 347.067 1795.17 350.863 L1795.17 365.516 L1790.89 365.516 L1790.89 329.497 L1795.17 329.497 L1795.17 343.618 Q1796.7 341.28 1798.76 340.122 Q1800.85 338.965 1803.55 338.965 Q1808.02 338.965 1810.31 341.743 Q1812.6 344.497 1812.6 349.868 Z\" fill=\"#000000\" fill-rule=\"evenodd\" fill-opacity=\"1\" /></svg>\n"
      ]
     },
     "execution_count": 136,
     "metadata": {},
     "output_type": "execute_result"
    }
   ],
   "source": [
    "knots = 100\n",
    "# t = range(0, orbit.period, length=knots) \n",
    "# h = t[2]-t[1]\n",
    "function impulse_ref_traj(init_orbit::Orbit,final_orbit::Orbit) #knots,Nx,Nu\n",
    "    time = knots #Int(ceil(init_orbit.period/2*knots/2+final_orbit.period*knots))\n",
    "    traj = zeros(time-1,Nx+Nu)\n",
    "    x = copy(init_orbit.x0)\n",
    "    u = zeros(Nu)\n",
    "    traj[1,:] .= vcat(x,u)\n",
    "    h = init_orbit.period/(knots)\n",
    "    print(h)\n",
    "    for i in 2:size(traj)[1]\n",
    "        integrator!(x, u, h)\n",
    "        if (i == Int(ceil(init_orbit.period/2*knots)))\n",
    "            x = final_orbit.x0 .* -1\n",
    "            h = final_orbit.period/(knots)\n",
    "        end\n",
    "        traj[i,:] .= vcat(x,u)\n",
    "    end\n",
    "    traj = reshape(traj',((time-1)*(Nx+Nu),1))\n",
    "    traj = vcat(traj,final_orbit.x0)\n",
    "    return traj\n",
    "end\n",
    "z = impulse_ref_traj(transfer_orbit,goal_orbit)\n",
    "X,U = unpackZ(knots, z)\n",
    "transition = Int(ceil(transfer_orbit.period*knots/2))\n",
    "# display(X[:,transition-5:transition+5]')\n",
    "plot(X[1, :], X[2, :], aspect_ratio=:equal, lims=(-semiMajorAxis_goal*1.5,semiMajorAxis_goal*1.5), title = \"Reference Trajectory\", label = \"Reference\", lw = 3)\n",
    "xlabel!(\"Orbital Units\")\n",
    "ylabel!(\"Orbital Units\")\n",
    "plot!([goal_orbit.x0[1]], [goal_orbit.x0[2]], markershape=:xcross, markersize=5, label=\"Goal State\")\n",
    "plot!([0], [0], lw=10, markershape=:o, label=\"Planet Earth\")"
   ]
  },
  {
   "cell_type": "code",
   "execution_count": 39,
   "metadata": {},
   "outputs": [
    {
     "data": {
      "image/svg+xml": [
       "<?xml version=\"1.0\" encoding=\"utf-8\"?>\n",
       "<svg xmlns=\"http://www.w3.org/2000/svg\" xmlns:xlink=\"http://www.w3.org/1999/xlink\" width=\"600\" height=\"400\" viewBox=\"0 0 2400 1600\">\n",
       "<defs>\n",
       "  <clipPath id=\"clip460\">\n",
       "    <rect x=\"0\" y=\"0\" width=\"2400\" height=\"1600\"/>\n",
       "  </clipPath>\n",
       "</defs>\n",
       "<path clip-path=\"url(#clip460)\" d=\"\n",
       "M0 1600 L2400 1600 L2400 0 L0 0  Z\n",
       "  \" fill=\"#ffffff\" fill-rule=\"evenodd\" fill-opacity=\"1\"/>\n",
       "<defs>\n",
       "  <clipPath id=\"clip461\">\n",
       "    <rect x=\"480\" y=\"0\" width=\"1681\" height=\"1600\"/>\n",
       "  </clipPath>\n",
       "</defs>\n",
       "<path clip-path=\"url(#clip460)\" d=\"\n",
       "M530.515 1486.45 L1969.72 1486.45 L1969.72 47.2441 L530.515 47.2441  Z\n",
       "  \" fill=\"#ffffff\" fill-rule=\"evenodd\" fill-opacity=\"1\"/>\n",
       "<defs>\n",
       "  <clipPath id=\"clip462\">\n",
       "    <rect x=\"530\" y=\"47\" width=\"1440\" height=\"1440\"/>\n",
       "  </clipPath>\n",
       "</defs>\n",
       "<polyline clip-path=\"url(#clip462)\" style=\"stroke:#000000; stroke-width:2; stroke-opacity:0.1; fill:none\" points=\"\n",
       "  692.125,1486.45 692.125,47.2441 \n",
       "  \"/>\n",
       "<polyline clip-path=\"url(#clip462)\" style=\"stroke:#000000; stroke-width:2; stroke-opacity:0.1; fill:none\" points=\"\n",
       "  971.121,1486.45 971.121,47.2441 \n",
       "  \"/>\n",
       "<polyline clip-path=\"url(#clip462)\" style=\"stroke:#000000; stroke-width:2; stroke-opacity:0.1; fill:none\" points=\"\n",
       "  1250.12,1486.45 1250.12,47.2441 \n",
       "  \"/>\n",
       "<polyline clip-path=\"url(#clip462)\" style=\"stroke:#000000; stroke-width:2; stroke-opacity:0.1; fill:none\" points=\"\n",
       "  1529.11,1486.45 1529.11,47.2441 \n",
       "  \"/>\n",
       "<polyline clip-path=\"url(#clip462)\" style=\"stroke:#000000; stroke-width:2; stroke-opacity:0.1; fill:none\" points=\"\n",
       "  1808.11,1486.45 1808.11,47.2441 \n",
       "  \"/>\n",
       "<polyline clip-path=\"url(#clip460)\" style=\"stroke:#000000; stroke-width:4; stroke-opacity:1; fill:none\" points=\"\n",
       "  530.515,1486.45 1969.72,1486.45 \n",
       "  \"/>\n",
       "<polyline clip-path=\"url(#clip460)\" style=\"stroke:#000000; stroke-width:4; stroke-opacity:1; fill:none\" points=\"\n",
       "  692.125,1486.45 692.125,1469.18 \n",
       "  \"/>\n",
       "<polyline clip-path=\"url(#clip460)\" style=\"stroke:#000000; stroke-width:4; stroke-opacity:1; fill:none\" points=\"\n",
       "  971.121,1486.45 971.121,1469.18 \n",
       "  \"/>\n",
       "<polyline clip-path=\"url(#clip460)\" style=\"stroke:#000000; stroke-width:4; stroke-opacity:1; fill:none\" points=\"\n",
       "  1250.12,1486.45 1250.12,1469.18 \n",
       "  \"/>\n",
       "<polyline clip-path=\"url(#clip460)\" style=\"stroke:#000000; stroke-width:4; stroke-opacity:1; fill:none\" points=\"\n",
       "  1529.11,1486.45 1529.11,1469.18 \n",
       "  \"/>\n",
       "<polyline clip-path=\"url(#clip460)\" style=\"stroke:#000000; stroke-width:4; stroke-opacity:1; fill:none\" points=\"\n",
       "  1808.11,1486.45 1808.11,1469.18 \n",
       "  \"/>\n",
       "<path clip-path=\"url(#clip460)\" d=\"M 0 0 M662.067 1530.29 L691.743 1530.29 L691.743 1534.23 L662.067 1534.23 L662.067 1530.29 Z\" fill=\"#000000\" fill-rule=\"evenodd\" fill-opacity=\"1\" /><path clip-path=\"url(#clip460)\" d=\"M 0 0 M705.863 1543.18 L722.182 1543.18 L722.182 1547.12 L700.238 1547.12 L700.238 1543.18 Q702.9 1540.43 707.483 1535.8 Q712.09 1531.15 713.27 1529.81 Q715.516 1527.28 716.395 1525.55 Q717.298 1523.79 717.298 1522.1 Q717.298 1519.34 715.354 1517.61 Q713.432 1515.87 710.331 1515.87 Q708.132 1515.87 705.678 1516.63 Q703.247 1517.4 700.47 1518.95 L700.47 1514.23 Q703.294 1513.09 705.747 1512.51 Q708.201 1511.93 710.238 1511.93 Q715.608 1511.93 718.803 1514.62 Q721.997 1517.31 721.997 1521.8 Q721.997 1523.93 721.187 1525.85 Q720.4 1527.74 718.294 1530.34 Q717.715 1531.01 714.613 1534.23 Q711.511 1537.42 705.863 1543.18 Z\" fill=\"#000000\" fill-rule=\"evenodd\" fill-opacity=\"1\" /><path clip-path=\"url(#clip460)\" d=\"M 0 0 M940.878 1530.29 L970.554 1530.29 L970.554 1534.23 L940.878 1534.23 L940.878 1530.29 Z\" fill=\"#000000\" fill-rule=\"evenodd\" fill-opacity=\"1\" /><path clip-path=\"url(#clip460)\" d=\"M 0 0 M981.456 1543.18 L989.095 1543.18 L989.095 1516.82 L980.785 1518.49 L980.785 1514.23 L989.049 1512.56 L993.725 1512.56 L993.725 1543.18 L1001.36 1543.18 L1001.36 1547.12 L981.456 1547.12 L981.456 1543.18 Z\" fill=\"#000000\" fill-rule=\"evenodd\" fill-opacity=\"1\" /><path clip-path=\"url(#clip460)\" d=\"M 0 0 M1250.12 1515.64 Q1246.51 1515.64 1244.68 1519.2 Q1242.87 1522.75 1242.87 1529.87 Q1242.87 1536.98 1244.68 1540.55 Q1246.51 1544.09 1250.12 1544.09 Q1253.75 1544.09 1255.56 1540.55 Q1257.39 1536.98 1257.39 1529.87 Q1257.39 1522.75 1255.56 1519.2 Q1253.75 1515.64 1250.12 1515.64 M1250.12 1511.93 Q1255.93 1511.93 1258.98 1516.54 Q1262.06 1521.12 1262.06 1529.87 Q1262.06 1538.6 1258.98 1543.21 Q1255.93 1547.79 1250.12 1547.79 Q1244.31 1547.79 1241.23 1543.21 Q1238.17 1538.6 1238.17 1529.87 Q1238.17 1521.12 1241.23 1516.54 Q1244.31 1511.93 1250.12 1511.93 Z\" fill=\"#000000\" fill-rule=\"evenodd\" fill-opacity=\"1\" /><path clip-path=\"url(#clip460)\" d=\"M 0 0 M1519.5 1543.18 L1527.13 1543.18 L1527.13 1516.82 L1518.82 1518.49 L1518.82 1514.23 L1527.09 1512.56 L1531.76 1512.56 L1531.76 1543.18 L1539.4 1543.18 L1539.4 1547.12 L1519.5 1547.12 L1519.5 1543.18 Z\" fill=\"#000000\" fill-rule=\"evenodd\" fill-opacity=\"1\" /><path clip-path=\"url(#clip460)\" d=\"M 0 0 M1802.76 1543.18 L1819.08 1543.18 L1819.08 1547.12 L1797.14 1547.12 L1797.14 1543.18 Q1799.8 1540.43 1804.38 1535.8 Q1808.99 1531.15 1810.17 1529.81 Q1812.41 1527.28 1813.29 1525.55 Q1814.2 1523.79 1814.2 1522.1 Q1814.2 1519.34 1812.25 1517.61 Q1810.33 1515.87 1807.23 1515.87 Q1805.03 1515.87 1802.58 1516.63 Q1800.15 1517.4 1797.37 1518.95 L1797.37 1514.23 Q1800.19 1513.09 1802.65 1512.51 Q1805.1 1511.93 1807.14 1511.93 Q1812.51 1511.93 1815.7 1514.62 Q1818.9 1517.31 1818.9 1521.8 Q1818.9 1523.93 1818.09 1525.85 Q1817.3 1527.74 1815.19 1530.34 Q1814.61 1531.01 1811.51 1534.23 Q1808.41 1537.42 1802.76 1543.18 Z\" fill=\"#000000\" fill-rule=\"evenodd\" fill-opacity=\"1\" /><polyline clip-path=\"url(#clip462)\" style=\"stroke:#000000; stroke-width:2; stroke-opacity:0.1; fill:none\" points=\"\n",
       "  530.515,1324.84 1969.72,1324.84 \n",
       "  \"/>\n",
       "<polyline clip-path=\"url(#clip462)\" style=\"stroke:#000000; stroke-width:2; stroke-opacity:0.1; fill:none\" points=\"\n",
       "  530.515,1045.84 1969.72,1045.84 \n",
       "  \"/>\n",
       "<polyline clip-path=\"url(#clip462)\" style=\"stroke:#000000; stroke-width:2; stroke-opacity:0.1; fill:none\" points=\"\n",
       "  530.515,766.846 1969.72,766.846 \n",
       "  \"/>\n",
       "<polyline clip-path=\"url(#clip462)\" style=\"stroke:#000000; stroke-width:2; stroke-opacity:0.1; fill:none\" points=\"\n",
       "  530.515,487.85 1969.72,487.85 \n",
       "  \"/>\n",
       "<polyline clip-path=\"url(#clip462)\" style=\"stroke:#000000; stroke-width:2; stroke-opacity:0.1; fill:none\" points=\"\n",
       "  530.515,208.854 1969.72,208.854 \n",
       "  \"/>\n",
       "<polyline clip-path=\"url(#clip460)\" style=\"stroke:#000000; stroke-width:4; stroke-opacity:1; fill:none\" points=\"\n",
       "  530.515,1486.45 530.515,47.2441 \n",
       "  \"/>\n",
       "<polyline clip-path=\"url(#clip460)\" style=\"stroke:#000000; stroke-width:4; stroke-opacity:1; fill:none\" points=\"\n",
       "  530.515,1324.84 547.785,1324.84 \n",
       "  \"/>\n",
       "<polyline clip-path=\"url(#clip460)\" style=\"stroke:#000000; stroke-width:4; stroke-opacity:1; fill:none\" points=\"\n",
       "  530.515,1045.84 547.785,1045.84 \n",
       "  \"/>\n",
       "<polyline clip-path=\"url(#clip460)\" style=\"stroke:#000000; stroke-width:4; stroke-opacity:1; fill:none\" points=\"\n",
       "  530.515,766.846 547.785,766.846 \n",
       "  \"/>\n",
       "<polyline clip-path=\"url(#clip460)\" style=\"stroke:#000000; stroke-width:4; stroke-opacity:1; fill:none\" points=\"\n",
       "  530.515,487.85 547.785,487.85 \n",
       "  \"/>\n",
       "<polyline clip-path=\"url(#clip460)\" style=\"stroke:#000000; stroke-width:4; stroke-opacity:1; fill:none\" points=\"\n",
       "  530.515,208.854 547.785,208.854 \n",
       "  \"/>\n",
       "<path clip-path=\"url(#clip460)\" d=\"M 0 0 M434.4 1325.29 L464.075 1325.29 L464.075 1329.22 L434.4 1329.22 L434.4 1325.29 Z\" fill=\"#000000\" fill-rule=\"evenodd\" fill-opacity=\"1\" /><path clip-path=\"url(#clip460)\" d=\"M 0 0 M478.196 1338.18 L494.515 1338.18 L494.515 1342.12 L472.571 1342.12 L472.571 1338.18 Q475.233 1335.43 479.816 1330.8 Q484.422 1326.15 485.603 1324.8 Q487.848 1322.28 488.728 1320.54 Q489.631 1318.78 489.631 1317.1 Q489.631 1314.34 487.686 1312.6 Q485.765 1310.87 482.663 1310.87 Q480.464 1310.87 478.01 1311.63 Q475.58 1312.4 472.802 1313.95 L472.802 1309.22 Q475.626 1308.09 478.08 1307.51 Q480.534 1306.93 482.571 1306.93 Q487.941 1306.93 491.135 1309.62 Q494.33 1312.3 494.33 1316.79 Q494.33 1318.92 493.52 1320.85 Q492.733 1322.74 490.626 1325.34 Q490.047 1326.01 486.946 1329.22 Q483.844 1332.42 478.196 1338.18 Z\" fill=\"#000000\" fill-rule=\"evenodd\" fill-opacity=\"1\" /><path clip-path=\"url(#clip460)\" d=\"M 0 0 M434.029 1046.29 L463.705 1046.29 L463.705 1050.23 L434.029 1050.23 L434.029 1046.29 Z\" fill=\"#000000\" fill-rule=\"evenodd\" fill-opacity=\"1\" /><path clip-path=\"url(#clip460)\" d=\"M 0 0 M474.608 1059.19 L482.247 1059.19 L482.247 1032.82 L473.936 1034.49 L473.936 1030.23 L482.2 1028.56 L486.876 1028.56 L486.876 1059.19 L494.515 1059.19 L494.515 1063.12 L474.608 1063.12 L474.608 1059.19 Z\" fill=\"#000000\" fill-rule=\"evenodd\" fill-opacity=\"1\" /><path clip-path=\"url(#clip460)\" d=\"M 0 0 M482.571 752.645 Q478.96 752.645 477.131 756.209 Q475.325 759.751 475.325 766.881 Q475.325 773.987 477.131 777.552 Q478.96 781.094 482.571 781.094 Q486.205 781.094 488.01 777.552 Q489.839 773.987 489.839 766.881 Q489.839 759.751 488.01 756.209 Q486.205 752.645 482.571 752.645 M482.571 748.941 Q488.381 748.941 491.436 753.547 Q494.515 758.131 494.515 766.881 Q494.515 775.608 491.436 780.214 Q488.381 784.797 482.571 784.797 Q476.76 784.797 473.682 780.214 Q470.626 775.608 470.626 766.881 Q470.626 758.131 473.682 753.547 Q476.76 748.941 482.571 748.941 Z\" fill=\"#000000\" fill-rule=\"evenodd\" fill-opacity=\"1\" /><path clip-path=\"url(#clip460)\" d=\"M 0 0 M474.608 501.195 L482.247 501.195 L482.247 474.829 L473.936 476.496 L473.936 472.237 L482.2 470.57 L486.876 470.57 L486.876 501.195 L494.515 501.195 L494.515 505.13 L474.608 505.13 L474.608 501.195 Z\" fill=\"#000000\" fill-rule=\"evenodd\" fill-opacity=\"1\" /><path clip-path=\"url(#clip460)\" d=\"M 0 0 M478.196 222.199 L494.515 222.199 L494.515 226.134 L472.571 226.134 L472.571 222.199 Q475.233 219.444 479.816 214.814 Q484.422 210.162 485.603 208.819 Q487.848 206.296 488.728 204.56 Q489.631 202.801 489.631 201.111 Q489.631 198.356 487.686 196.62 Q485.765 194.884 482.663 194.884 Q480.464 194.884 478.01 195.648 Q475.58 196.412 472.802 197.963 L472.802 193.24 Q475.626 192.106 478.08 191.527 Q480.534 190.949 482.571 190.949 Q487.941 190.949 491.135 193.634 Q494.33 196.319 494.33 200.81 Q494.33 202.939 493.52 204.861 Q492.733 206.759 490.626 209.351 Q490.047 210.023 486.946 213.24 Q483.844 216.435 478.196 222.199 Z\" fill=\"#000000\" fill-rule=\"evenodd\" fill-opacity=\"1\" /><polyline clip-path=\"url(#clip462)\" style=\"stroke:#009af9; stroke-width:4; stroke-opacity:1; fill:none\" points=\"\n",
       "  1328.37,766.846 1321.69,724.68 1304.45,688.366 1281.66,659.582 1256.8,637.36 1231.59,620.258 1206.85,607.079 1182.9,596.94 1159.9,589.203 1137.87,583.402 \n",
       "  1116.8,579.189 1096.67,576.299 1077.44,574.529 1059.06,573.716 1041.51,573.731 1024.73,574.468 1008.69,575.841 993.367,577.775 978.72,580.211 964.725,583.094 \n",
       "  951.356,586.381 938.589,590.033 926.404,594.014 914.78,598.296 903.7,602.851 893.148,607.656 883.109,612.69 873.568,617.934 864.514,623.37 855.934,628.983 \n",
       "  847.819,634.758 840.158,640.682 832.942,646.744 826.164,652.931 819.815,659.234 813.89,665.643 808.38,672.148 803.282,678.742 798.589,685.415 794.297,692.161 \n",
       "  790.401,698.972 786.898,705.84 783.785,712.761 781.058,719.726 778.715,726.729 776.754,733.765 775.173,740.828 773.969,747.911 773.144,755.009 770.382,766.846 \n",
       "  793.865,915.078 862.008,1048.8 968.145,1154.91 1101.89,1223.03 1250.14,1246.48 1398.4,1222.94 1532.12,1154.73 1638.2,1048.5 1706.25,914.674 1729.58,766.356 \n",
       "  1705.9,618.089 1637.53,484.411 1531.16,378.432 1397.23,310.547 1248.88,287.412 1100.65,311.292 967.083,379.844 861.266,486.341 793.576,620.34 770.648,768.701 \n",
       "  794.73,916.877 863.46,1050.34 970.104,1156.01 1104.21,1223.5 1252.62,1246.21 1400.78,1221.88 1534.16,1152.91 1639.65,1046.04 1706.91,911.766 1729.3,763.264 \n",
       "  1704.64,615.116 1635.34,481.873 1528.19,376.625 1393.73,309.709 1245.17,287.698 1097.1,312.752 964.052,382.407 859.105,489.817 792.559,624.433 770.948,773.032 \n",
       "  796.394,921.021 866.399,1053.87 974.091,1158.52 1108.89,1224.7 1257.57,1245.89 1405.51,1220.01 1538.18,1149.59 1642.52,1041.54 1708.27,906.48 1729.85,766.846 \n",
       "  \n",
       "  \"/>\n",
       "<line clip-path=\"url(#clip462)\" x1=\"1729.85\" y1=\"766.846\" x2=\"1709.85\" y2=\"746.846\" style=\"stroke:#e26f46; stroke-width:3.2; stroke-opacity:1\"/>\n",
       "<line clip-path=\"url(#clip462)\" x1=\"1729.85\" y1=\"766.846\" x2=\"1709.85\" y2=\"786.846\" style=\"stroke:#e26f46; stroke-width:3.2; stroke-opacity:1\"/>\n",
       "<line clip-path=\"url(#clip462)\" x1=\"1729.85\" y1=\"766.846\" x2=\"1749.85\" y2=\"786.846\" style=\"stroke:#e26f46; stroke-width:3.2; stroke-opacity:1\"/>\n",
       "<line clip-path=\"url(#clip462)\" x1=\"1729.85\" y1=\"766.846\" x2=\"1749.85\" y2=\"746.846\" style=\"stroke:#e26f46; stroke-width:3.2; stroke-opacity:1\"/>\n",
       "<path clip-path=\"url(#clip460)\" d=\"\n",
       "M1598.75 276.658 L1896.21 276.658 L1896.21 95.2176 L1598.75 95.2176  Z\n",
       "  \" fill=\"#ffffff\" fill-rule=\"evenodd\" fill-opacity=\"1\"/>\n",
       "<polyline clip-path=\"url(#clip460)\" style=\"stroke:#000000; stroke-width:4; stroke-opacity:1; fill:none\" points=\"\n",
       "  1598.75,276.658 1896.21,276.658 1896.21,95.2176 1598.75,95.2176 1598.75,276.658 \n",
       "  \"/>\n",
       "<polyline clip-path=\"url(#clip460)\" style=\"stroke:#009af9; stroke-width:4; stroke-opacity:1; fill:none\" points=\"\n",
       "  1623.25,155.698 1770.27,155.698 \n",
       "  \"/>\n",
       "<path clip-path=\"url(#clip460)\" d=\"M 0 0 M1808.62 175.385 Q1806.81 180.015 1805.1 181.427 Q1803.38 182.839 1800.51 182.839 L1797.11 182.839 L1797.11 179.274 L1799.61 179.274 Q1801.37 179.274 1802.34 178.44 Q1803.31 177.607 1804.5 174.505 L1805.26 172.561 L1794.77 147.052 L1799.29 147.052 L1807.39 167.329 L1815.49 147.052 L1820 147.052 L1808.62 175.385 Z\" fill=\"#000000\" fill-rule=\"evenodd\" fill-opacity=\"1\" /><path clip-path=\"url(#clip460)\" d=\"M 0 0 M1827.3 169.042 L1834.93 169.042 L1834.93 142.677 L1826.62 144.343 L1826.62 140.084 L1834.89 138.418 L1839.56 138.418 L1839.56 169.042 L1847.2 169.042 L1847.2 172.978 L1827.3 172.978 L1827.3 169.042 Z\" fill=\"#000000\" fill-rule=\"evenodd\" fill-opacity=\"1\" /><polyline clip-path=\"url(#clip460)\" style=\"stroke:#e26f46; stroke-width:4; stroke-opacity:1; fill:none\" points=\"\n",
       "  1623.25,216.178 1770.27,216.178 \n",
       "  \"/>\n",
       "<line clip-path=\"url(#clip460)\" x1=\"1696.76\" y1=\"216.178\" x2=\"1671.16\" y2=\"190.578\" style=\"stroke:#e26f46; stroke-width:3.2; stroke-opacity:1\"/>\n",
       "<line clip-path=\"url(#clip460)\" x1=\"1696.76\" y1=\"216.178\" x2=\"1671.16\" y2=\"241.778\" style=\"stroke:#e26f46; stroke-width:3.2; stroke-opacity:1\"/>\n",
       "<line clip-path=\"url(#clip460)\" x1=\"1696.76\" y1=\"216.178\" x2=\"1722.36\" y2=\"241.778\" style=\"stroke:#e26f46; stroke-width:3.2; stroke-opacity:1\"/>\n",
       "<line clip-path=\"url(#clip460)\" x1=\"1696.76\" y1=\"216.178\" x2=\"1722.36\" y2=\"190.578\" style=\"stroke:#e26f46; stroke-width:3.2; stroke-opacity:1\"/>\n",
       "<path clip-path=\"url(#clip460)\" d=\"M 0 0 M1808.62 235.865 Q1806.81 240.495 1805.1 241.907 Q1803.38 243.319 1800.51 243.319 L1797.11 243.319 L1797.11 239.754 L1799.61 239.754 Q1801.37 239.754 1802.34 238.92 Q1803.31 238.087 1804.5 234.985 L1805.26 233.041 L1794.77 207.532 L1799.29 207.532 L1807.39 227.809 L1815.49 207.532 L1820 207.532 L1808.62 235.865 Z\" fill=\"#000000\" fill-rule=\"evenodd\" fill-opacity=\"1\" /><path clip-path=\"url(#clip460)\" d=\"M 0 0 M1830.51 229.522 L1846.83 229.522 L1846.83 233.458 L1824.89 233.458 L1824.89 229.522 Q1827.55 226.768 1832.13 222.138 Q1836.74 217.485 1837.92 216.143 Q1840.17 213.62 1841.05 211.884 Q1841.95 210.124 1841.95 208.435 Q1841.95 205.68 1840 203.944 Q1838.08 202.208 1834.98 202.208 Q1832.78 202.208 1830.33 202.972 Q1827.9 203.735 1825.12 205.286 L1825.12 200.564 Q1827.94 199.43 1830.4 198.851 Q1832.85 198.273 1834.89 198.273 Q1840.26 198.273 1843.45 200.958 Q1846.65 203.643 1846.65 208.134 Q1846.65 210.263 1845.84 212.185 Q1845.05 214.083 1842.94 216.675 Q1842.37 217.347 1839.26 220.564 Q1836.16 223.759 1830.51 229.522 Z\" fill=\"#000000\" fill-rule=\"evenodd\" fill-opacity=\"1\" /></svg>\n"
      ]
     },
     "execution_count": 39,
     "metadata": {},
     "output_type": "execute_result"
    }
   ],
   "source": [
    "knots = 100\n",
    "function impulse_ref_traj(init_orbit::Orbit,final_orbit::Orbit) #knots,Nx,Nu\n",
    "    time = knots #Int(ceil(init_orbit.period/2*knots/2+final_orbit.period*knots))\n",
    "    traj = zeros(time-1,Nx+Nu)\n",
    "    x = copy(init_orbit.x0)\n",
    "    u = zeros(Nu)\n",
    "    traj[1,:] .= vcat(x,u)\n",
    "    h = init_orbit.period/(knots)\n",
    "    for i in 2:size(traj)[1]\n",
    "        integrator!(x, u, h)\n",
    "        if (i == Int(ceil(init_orbit.period/2*knots)))\n",
    "            x = final_orbit.x0 .* -1\n",
    "            h = 5*final_orbit.period/(knots)\n",
    "        end\n",
    "        traj[i,:] .= vcat(x,u)\n",
    "    end\n",
    "    traj = reshape(traj',((time-1)*(Nx+Nu),1))\n",
    "    traj = vcat(traj,final_orbit.x0)\n",
    "    return traj\n",
    "end\n",
    "z = impulse_ref_traj(transfer_orbit,goal_orbit)\n",
    "X,U = unpackZ(knots, z)\n",
    "transition = Int(ceil(transfer_orbit.period*knots/5))\n",
    "# display(X[:,transition-5:transition+5]')\n",
    "plot(X[1, :], X[2, :], aspect_ratio=:equal, lims=(-semiMajorAxis_goal*1.5,semiMajorAxis_goal*1.5))\n",
    "plot!([goal_orbit.x0[1]], [goal_orbit.x0[2]], markershape=:xcross, markersize=5)"
   ]
  },
  {
   "cell_type": "code",
   "execution_count": 155,
   "metadata": {},
   "outputs": [
    {
     "name": "stdout",
     "output_type": "stream",
     "text": [
      "2.0314184864367797"
     ]
    },
    {
     "data": {
      "image/svg+xml": [
       "<?xml version=\"1.0\" encoding=\"utf-8\"?>\n",
       "<svg xmlns=\"http://www.w3.org/2000/svg\" xmlns:xlink=\"http://www.w3.org/1999/xlink\" width=\"600\" height=\"400\" viewBox=\"0 0 2400 1600\">\n",
       "<defs>\n",
       "  <clipPath id=\"clip900\">\n",
       "    <rect x=\"0\" y=\"0\" width=\"2400\" height=\"1600\"/>\n",
       "  </clipPath>\n",
       "</defs>\n",
       "<path clip-path=\"url(#clip900)\" d=\"\n",
       "M0 1600 L2400 1600 L2400 0 L0 0  Z\n",
       "  \" fill=\"#ffffff\" fill-rule=\"evenodd\" fill-opacity=\"1\"/>\n",
       "<defs>\n",
       "  <clipPath id=\"clip901\">\n",
       "    <rect x=\"480\" y=\"0\" width=\"1681\" height=\"1600\"/>\n",
       "  </clipPath>\n",
       "</defs>\n",
       "<path clip-path=\"url(#clip900)\" d=\"\n",
       "M631.897 1423.18 L1931.6 1423.18 L1931.6 123.472 L631.897 123.472  Z\n",
       "  \" fill=\"#ffffff\" fill-rule=\"evenodd\" fill-opacity=\"1\"/>\n",
       "<defs>\n",
       "  <clipPath id=\"clip902\">\n",
       "    <rect x=\"631\" y=\"123\" width=\"1301\" height=\"1301\"/>\n",
       "  </clipPath>\n",
       "</defs>\n",
       "<polyline clip-path=\"url(#clip902)\" style=\"stroke:#000000; stroke-width:2; stroke-opacity:0.1; fill:none\" points=\"\n",
       "  777.843,1423.18 777.843,123.472 \n",
       "  \"/>\n",
       "<polyline clip-path=\"url(#clip902)\" style=\"stroke:#000000; stroke-width:2; stroke-opacity:0.1; fill:none\" points=\"\n",
       "  1029.8,1423.18 1029.8,123.472 \n",
       "  \"/>\n",
       "<polyline clip-path=\"url(#clip902)\" style=\"stroke:#000000; stroke-width:2; stroke-opacity:0.1; fill:none\" points=\"\n",
       "  1281.75,1423.18 1281.75,123.472 \n",
       "  \"/>\n",
       "<polyline clip-path=\"url(#clip902)\" style=\"stroke:#000000; stroke-width:2; stroke-opacity:0.1; fill:none\" points=\"\n",
       "  1533.71,1423.18 1533.71,123.472 \n",
       "  \"/>\n",
       "<polyline clip-path=\"url(#clip902)\" style=\"stroke:#000000; stroke-width:2; stroke-opacity:0.1; fill:none\" points=\"\n",
       "  1785.66,1423.18 1785.66,123.472 \n",
       "  \"/>\n",
       "<polyline clip-path=\"url(#clip900)\" style=\"stroke:#000000; stroke-width:4; stroke-opacity:1; fill:none\" points=\"\n",
       "  631.897,1423.18 1931.6,1423.18 \n",
       "  \"/>\n",
       "<polyline clip-path=\"url(#clip900)\" style=\"stroke:#000000; stroke-width:4; stroke-opacity:1; fill:none\" points=\"\n",
       "  777.843,1423.18 777.843,1407.58 \n",
       "  \"/>\n",
       "<polyline clip-path=\"url(#clip900)\" style=\"stroke:#000000; stroke-width:4; stroke-opacity:1; fill:none\" points=\"\n",
       "  1029.8,1423.18 1029.8,1407.58 \n",
       "  \"/>\n",
       "<polyline clip-path=\"url(#clip900)\" style=\"stroke:#000000; stroke-width:4; stroke-opacity:1; fill:none\" points=\"\n",
       "  1281.75,1423.18 1281.75,1407.58 \n",
       "  \"/>\n",
       "<polyline clip-path=\"url(#clip900)\" style=\"stroke:#000000; stroke-width:4; stroke-opacity:1; fill:none\" points=\"\n",
       "  1533.71,1423.18 1533.71,1407.58 \n",
       "  \"/>\n",
       "<polyline clip-path=\"url(#clip900)\" style=\"stroke:#000000; stroke-width:4; stroke-opacity:1; fill:none\" points=\"\n",
       "  1785.66,1423.18 1785.66,1407.58 \n",
       "  \"/>\n",
       "<path clip-path=\"url(#clip900)\" d=\"M 0 0 M747.785 1467.02 L777.461 1467.02 L777.461 1470.96 L747.785 1470.96 L747.785 1467.02 Z\" fill=\"#000000\" fill-rule=\"evenodd\" fill-opacity=\"1\" /><path clip-path=\"url(#clip900)\" d=\"M 0 0 M791.581 1479.92 L807.9 1479.92 L807.9 1483.85 L785.956 1483.85 L785.956 1479.92 Q788.618 1477.16 793.201 1472.53 Q797.808 1467.88 798.988 1466.54 Q801.234 1464.01 802.113 1462.28 Q803.016 1460.52 803.016 1458.83 Q803.016 1456.07 801.072 1454.34 Q799.15 1452.6 796.048 1452.6 Q793.849 1452.6 791.396 1453.37 Q788.965 1454.13 786.187 1455.68 L786.187 1450.96 Q789.011 1449.82 791.465 1449.25 Q793.919 1448.67 795.956 1448.67 Q801.326 1448.67 804.521 1451.35 Q807.715 1454.04 807.715 1458.53 Q807.715 1460.66 806.905 1462.58 Q806.118 1464.48 804.011 1467.07 Q803.433 1467.74 800.331 1470.96 Q797.229 1474.15 791.581 1479.92 Z\" fill=\"#000000\" fill-rule=\"evenodd\" fill-opacity=\"1\" /><path clip-path=\"url(#clip900)\" d=\"M 0 0 M999.554 1467.02 L1029.23 1467.02 L1029.23 1470.96 L999.554 1470.96 L999.554 1467.02 Z\" fill=\"#000000\" fill-rule=\"evenodd\" fill-opacity=\"1\" /><path clip-path=\"url(#clip900)\" d=\"M 0 0 M1040.13 1479.92 L1047.77 1479.92 L1047.77 1453.55 L1039.46 1455.22 L1039.46 1450.96 L1047.72 1449.29 L1052.4 1449.29 L1052.4 1479.92 L1060.04 1479.92 L1060.04 1483.85 L1040.13 1483.85 L1040.13 1479.92 Z\" fill=\"#000000\" fill-rule=\"evenodd\" fill-opacity=\"1\" /><path clip-path=\"url(#clip900)\" d=\"M 0 0 M1281.75 1452.37 Q1278.14 1452.37 1276.31 1455.94 Q1274.51 1459.48 1274.51 1466.61 Q1274.51 1473.71 1276.31 1477.28 Q1278.14 1480.82 1281.75 1480.82 Q1285.39 1480.82 1287.19 1477.28 Q1289.02 1473.71 1289.02 1466.61 Q1289.02 1459.48 1287.19 1455.94 Q1285.39 1452.37 1281.75 1452.37 M1281.75 1448.67 Q1287.56 1448.67 1290.62 1453.27 Q1293.7 1457.86 1293.7 1466.61 Q1293.7 1475.33 1290.62 1479.94 Q1287.56 1484.52 1281.75 1484.52 Q1275.94 1484.52 1272.86 1479.94 Q1269.81 1475.33 1269.81 1466.61 Q1269.81 1457.86 1272.86 1453.27 Q1275.94 1448.67 1281.75 1448.67 Z\" fill=\"#000000\" fill-rule=\"evenodd\" fill-opacity=\"1\" /><path clip-path=\"url(#clip900)\" d=\"M 0 0 M1524.09 1479.92 L1531.73 1479.92 L1531.73 1453.55 L1523.42 1455.22 L1523.42 1450.96 L1531.68 1449.29 L1536.36 1449.29 L1536.36 1479.92 L1543.99 1479.92 L1543.99 1483.85 L1524.09 1483.85 L1524.09 1479.92 Z\" fill=\"#000000\" fill-rule=\"evenodd\" fill-opacity=\"1\" /><path clip-path=\"url(#clip900)\" d=\"M 0 0 M1780.31 1479.92 L1796.63 1479.92 L1796.63 1483.85 L1774.69 1483.85 L1774.69 1479.92 Q1777.35 1477.16 1781.93 1472.53 Q1786.54 1467.88 1787.72 1466.54 Q1789.96 1464.01 1790.84 1462.28 Q1791.75 1460.52 1791.75 1458.83 Q1791.75 1456.07 1789.8 1454.34 Q1787.88 1452.6 1784.78 1452.6 Q1782.58 1452.6 1780.13 1453.37 Q1777.7 1454.13 1774.92 1455.68 L1774.92 1450.96 Q1777.74 1449.82 1780.2 1449.25 Q1782.65 1448.67 1784.69 1448.67 Q1790.06 1448.67 1793.25 1451.35 Q1796.45 1454.04 1796.45 1458.53 Q1796.45 1460.66 1795.64 1462.58 Q1794.85 1464.48 1792.74 1467.07 Q1792.16 1467.74 1789.06 1470.96 Q1785.96 1474.15 1780.31 1479.92 Z\" fill=\"#000000\" fill-rule=\"evenodd\" fill-opacity=\"1\" /><path clip-path=\"url(#clip900)\" d=\"M 0 0 M1102.91 1524.88 Q1095.9 1524.88 1091.77 1530.1 Q1087.66 1535.32 1087.66 1544.33 Q1087.66 1553.31 1091.77 1558.53 Q1095.9 1563.75 1102.91 1563.75 Q1109.91 1563.75 1113.98 1558.53 Q1118.09 1553.31 1118.09 1544.33 Q1118.09 1535.32 1113.98 1530.1 Q1109.91 1524.88 1102.91 1524.88 M1102.91 1519.66 Q1112.9 1519.66 1118.88 1526.38 Q1124.87 1533.06 1124.87 1544.33 Q1124.87 1555.57 1118.88 1562.28 Q1112.9 1568.97 1102.91 1568.97 Q1092.88 1568.97 1086.86 1562.28 Q1080.88 1555.6 1080.88 1544.33 Q1080.88 1533.06 1086.86 1526.38 Q1092.88 1519.66 1102.91 1519.66 Z\" fill=\"#000000\" fill-rule=\"evenodd\" fill-opacity=\"1\" /><path clip-path=\"url(#clip900)\" d=\"M 0 0 M1155.33 1537.87 Q1154.34 1537.3 1153.16 1537.04 Q1152.02 1536.76 1150.62 1536.76 Q1145.65 1536.76 1142.98 1540 Q1140.34 1543.22 1140.34 1549.27 L1140.34 1568.04 L1134.45 1568.04 L1134.45 1532.4 L1140.34 1532.4 L1140.34 1537.93 Q1142.18 1534.69 1145.14 1533.13 Q1148.1 1531.54 1152.34 1531.54 Q1152.94 1531.54 1153.67 1531.63 Q1154.4 1531.7 1155.3 1531.85 L1155.33 1537.87 Z\" fill=\"#000000\" fill-rule=\"evenodd\" fill-opacity=\"1\" /><path clip-path=\"url(#clip900)\" d=\"M 0 0 M1187.06 1550.25 Q1187.06 1543.79 1184.39 1540.13 Q1181.75 1536.44 1177.1 1536.44 Q1172.45 1536.44 1169.78 1540.13 Q1167.14 1543.79 1167.14 1550.25 Q1167.14 1556.71 1169.78 1560.4 Q1172.45 1564.07 1177.1 1564.07 Q1181.75 1564.07 1184.39 1560.4 Q1187.06 1556.71 1187.06 1550.25 M1167.14 1537.81 Q1168.98 1534.62 1171.78 1533.1 Q1174.62 1531.54 1178.53 1531.54 Q1185.02 1531.54 1189.07 1536.69 Q1193.14 1541.85 1193.14 1550.25 Q1193.14 1558.65 1189.07 1563.81 Q1185.02 1568.97 1178.53 1568.97 Q1174.62 1568.97 1171.78 1567.44 Q1168.98 1565.88 1167.14 1562.7 L1167.14 1568.04 L1161.25 1568.04 L1161.25 1518.52 L1167.14 1518.52 L1167.14 1537.81 Z\" fill=\"#000000\" fill-rule=\"evenodd\" fill-opacity=\"1\" /><path clip-path=\"url(#clip900)\" d=\"M 0 0 M1202.85 1532.4 L1208.7 1532.4 L1208.7 1568.04 L1202.85 1568.04 L1202.85 1532.4 M1202.85 1518.52 L1208.7 1518.52 L1208.7 1525.93 L1202.85 1525.93 L1202.85 1518.52 Z\" fill=\"#000000\" fill-rule=\"evenodd\" fill-opacity=\"1\" /><path clip-path=\"url(#clip900)\" d=\"M 0 0 M1226.75 1522.27 L1226.75 1532.4 L1238.81 1532.4 L1238.81 1536.95 L1226.75 1536.95 L1226.75 1556.3 Q1226.75 1560.66 1227.93 1561.9 Q1229.14 1563.14 1232.8 1563.14 L1238.81 1563.14 L1238.81 1568.04 L1232.8 1568.04 Q1226.02 1568.04 1223.44 1565.53 Q1220.86 1562.98 1220.86 1556.3 L1220.86 1536.95 L1216.57 1536.95 L1216.57 1532.4 L1220.86 1532.4 L1220.86 1522.27 L1226.75 1522.27 Z\" fill=\"#000000\" fill-rule=\"evenodd\" fill-opacity=\"1\" /><path clip-path=\"url(#clip900)\" d=\"M 0 0 M1262.72 1550.12 Q1255.62 1550.12 1252.88 1551.75 Q1250.15 1553.37 1250.15 1557.29 Q1250.15 1560.4 1252.18 1562.25 Q1254.25 1564.07 1257.78 1564.07 Q1262.65 1564.07 1265.58 1560.63 Q1268.54 1557.16 1268.54 1551.43 L1268.54 1550.12 L1262.72 1550.12 M1274.4 1547.71 L1274.4 1568.04 L1268.54 1568.04 L1268.54 1562.63 Q1266.54 1565.88 1263.55 1567.44 Q1260.55 1568.97 1256.22 1568.97 Q1250.75 1568.97 1247.5 1565.91 Q1244.29 1562.82 1244.29 1557.67 Q1244.29 1551.65 1248.3 1548.6 Q1252.34 1545.54 1260.33 1545.54 L1268.54 1545.54 L1268.54 1544.97 Q1268.54 1540.93 1265.87 1538.73 Q1263.23 1536.5 1258.42 1536.5 Q1255.37 1536.5 1252.47 1537.23 Q1249.57 1537.97 1246.9 1539.43 L1246.9 1534.02 Q1250.11 1532.78 1253.14 1532.17 Q1256.16 1531.54 1259.03 1531.54 Q1266.76 1531.54 1270.58 1535.55 Q1274.4 1539.56 1274.4 1547.71 Z\" fill=\"#000000\" fill-rule=\"evenodd\" fill-opacity=\"1\" /><path clip-path=\"url(#clip900)\" d=\"M 0 0 M1286.46 1518.52 L1292.32 1518.52 L1292.32 1568.04 L1286.46 1568.04 L1286.46 1518.52 Z\" fill=\"#000000\" fill-rule=\"evenodd\" fill-opacity=\"1\" /><path clip-path=\"url(#clip900)\" d=\"M 0 0 M1324.81 1520.52 L1331.28 1520.52 L1331.28 1549.39 Q1331.28 1557.03 1334.05 1560.4 Q1336.81 1563.75 1343.02 1563.75 Q1349.2 1563.75 1351.96 1560.4 Q1354.73 1557.03 1354.73 1549.39 L1354.73 1520.52 L1361.19 1520.52 L1361.19 1550.19 Q1361.19 1559.48 1356.58 1564.22 Q1352 1568.97 1343.02 1568.97 Q1334.01 1568.97 1329.4 1564.22 Q1324.81 1559.48 1324.81 1550.19 L1324.81 1520.52 Z\" fill=\"#000000\" fill-rule=\"evenodd\" fill-opacity=\"1\" /><path clip-path=\"url(#clip900)\" d=\"M 0 0 M1402.64 1546.53 L1402.64 1568.04 L1396.78 1568.04 L1396.78 1546.72 Q1396.78 1541.66 1394.81 1539.14 Q1392.83 1536.63 1388.89 1536.63 Q1384.14 1536.63 1381.41 1539.65 Q1378.67 1542.68 1378.67 1547.9 L1378.67 1568.04 L1372.78 1568.04 L1372.78 1532.4 L1378.67 1532.4 L1378.67 1537.93 Q1380.77 1534.72 1383.6 1533.13 Q1386.47 1531.54 1390.19 1531.54 Q1396.33 1531.54 1399.48 1535.36 Q1402.64 1539.14 1402.64 1546.53 Z\" fill=\"#000000\" fill-rule=\"evenodd\" fill-opacity=\"1\" /><path clip-path=\"url(#clip900)\" d=\"M 0 0 M1414.32 1532.4 L1420.17 1532.4 L1420.17 1568.04 L1414.32 1568.04 L1414.32 1532.4 M1414.32 1518.52 L1420.17 1518.52 L1420.17 1525.93 L1414.32 1525.93 L1414.32 1518.52 Z\" fill=\"#000000\" fill-rule=\"evenodd\" fill-opacity=\"1\" /><path clip-path=\"url(#clip900)\" d=\"M 0 0 M1438.22 1522.27 L1438.22 1532.4 L1450.28 1532.4 L1450.28 1536.95 L1438.22 1536.95 L1438.22 1556.3 Q1438.22 1560.66 1439.4 1561.9 Q1440.61 1563.14 1444.27 1563.14 L1450.28 1563.14 L1450.28 1568.04 L1444.27 1568.04 Q1437.49 1568.04 1434.91 1565.53 Q1432.33 1562.98 1432.33 1556.3 L1432.33 1536.95 L1428.03 1536.95 L1428.03 1532.4 L1432.33 1532.4 L1432.33 1522.27 L1438.22 1522.27 Z\" fill=\"#000000\" fill-rule=\"evenodd\" fill-opacity=\"1\" /><path clip-path=\"url(#clip900)\" d=\"M 0 0 M1480.71 1533.45 L1480.71 1538.98 Q1478.23 1537.71 1475.55 1537.07 Q1472.88 1536.44 1470.02 1536.44 Q1465.66 1536.44 1463.46 1537.77 Q1461.3 1539.11 1461.3 1541.79 Q1461.3 1543.82 1462.86 1545 Q1464.41 1546.15 1469.13 1547.2 L1471.13 1547.64 Q1477.37 1548.98 1479.98 1551.43 Q1482.62 1553.85 1482.62 1558.21 Q1482.62 1563.17 1478.67 1566.07 Q1474.76 1568.97 1467.88 1568.97 Q1465.02 1568.97 1461.9 1568.39 Q1458.81 1567.85 1455.38 1566.74 L1455.38 1560.69 Q1458.62 1562.38 1461.77 1563.24 Q1464.92 1564.07 1468.01 1564.07 Q1472.15 1564.07 1474.38 1562.66 Q1476.61 1561.23 1476.61 1558.65 Q1476.61 1556.27 1474.98 1554.99 Q1473.39 1553.72 1467.95 1552.54 L1465.91 1552.07 Q1460.47 1550.92 1458.05 1548.56 Q1455.63 1546.18 1455.63 1542.04 Q1455.63 1537.01 1459.19 1534.27 Q1462.76 1531.54 1469.32 1531.54 Q1472.56 1531.54 1475.43 1532.01 Q1478.29 1532.49 1480.71 1533.45 Z\" fill=\"#000000\" fill-rule=\"evenodd\" fill-opacity=\"1\" /><polyline clip-path=\"url(#clip902)\" style=\"stroke:#000000; stroke-width:2; stroke-opacity:0.1; fill:none\" points=\"\n",
       "  631.897,1277.23 1931.6,1277.23 \n",
       "  \"/>\n",
       "<polyline clip-path=\"url(#clip902)\" style=\"stroke:#000000; stroke-width:2; stroke-opacity:0.1; fill:none\" points=\"\n",
       "  631.897,1025.28 1931.6,1025.28 \n",
       "  \"/>\n",
       "<polyline clip-path=\"url(#clip902)\" style=\"stroke:#000000; stroke-width:2; stroke-opacity:0.1; fill:none\" points=\"\n",
       "  631.897,773.326 1931.6,773.326 \n",
       "  \"/>\n",
       "<polyline clip-path=\"url(#clip902)\" style=\"stroke:#000000; stroke-width:2; stroke-opacity:0.1; fill:none\" points=\"\n",
       "  631.897,521.372 1931.6,521.372 \n",
       "  \"/>\n",
       "<polyline clip-path=\"url(#clip902)\" style=\"stroke:#000000; stroke-width:2; stroke-opacity:0.1; fill:none\" points=\"\n",
       "  631.897,269.418 1931.6,269.418 \n",
       "  \"/>\n",
       "<polyline clip-path=\"url(#clip900)\" style=\"stroke:#000000; stroke-width:4; stroke-opacity:1; fill:none\" points=\"\n",
       "  631.897,1423.18 631.897,123.472 \n",
       "  \"/>\n",
       "<polyline clip-path=\"url(#clip900)\" style=\"stroke:#000000; stroke-width:4; stroke-opacity:1; fill:none\" points=\"\n",
       "  631.897,1277.23 647.494,1277.23 \n",
       "  \"/>\n",
       "<polyline clip-path=\"url(#clip900)\" style=\"stroke:#000000; stroke-width:4; stroke-opacity:1; fill:none\" points=\"\n",
       "  631.897,1025.28 647.494,1025.28 \n",
       "  \"/>\n",
       "<polyline clip-path=\"url(#clip900)\" style=\"stroke:#000000; stroke-width:4; stroke-opacity:1; fill:none\" points=\"\n",
       "  631.897,773.326 647.494,773.326 \n",
       "  \"/>\n",
       "<polyline clip-path=\"url(#clip900)\" style=\"stroke:#000000; stroke-width:4; stroke-opacity:1; fill:none\" points=\"\n",
       "  631.897,521.372 647.494,521.372 \n",
       "  \"/>\n",
       "<polyline clip-path=\"url(#clip900)\" style=\"stroke:#000000; stroke-width:4; stroke-opacity:1; fill:none\" points=\"\n",
       "  631.897,269.418 647.494,269.418 \n",
       "  \"/>\n",
       "<path clip-path=\"url(#clip900)\" d=\"M 0 0 M535.782 1277.69 L565.457 1277.69 L565.457 1281.62 L535.782 1281.62 L535.782 1277.69 Z\" fill=\"#000000\" fill-rule=\"evenodd\" fill-opacity=\"1\" /><path clip-path=\"url(#clip900)\" d=\"M 0 0 M579.578 1290.58 L595.897 1290.58 L595.897 1294.51 L573.953 1294.51 L573.953 1290.58 Q576.615 1287.82 581.198 1283.19 Q585.805 1278.54 586.985 1277.2 Q589.23 1274.68 590.11 1272.94 Q591.013 1271.18 591.013 1269.49 Q591.013 1266.74 589.068 1265 Q587.147 1263.26 584.045 1263.26 Q581.846 1263.26 579.393 1264.03 Q576.962 1264.79 574.184 1266.34 L574.184 1261.62 Q577.008 1260.49 579.462 1259.91 Q581.916 1259.33 583.953 1259.33 Q589.323 1259.33 592.517 1262.01 Q595.712 1264.7 595.712 1269.19 Q595.712 1271.32 594.902 1273.24 Q594.115 1275.14 592.008 1277.73 Q591.429 1278.4 588.328 1281.62 Q585.226 1284.82 579.578 1290.58 Z\" fill=\"#000000\" fill-rule=\"evenodd\" fill-opacity=\"1\" /><path clip-path=\"url(#clip900)\" d=\"M 0 0 M535.411 1025.73 L565.087 1025.73 L565.087 1029.67 L535.411 1029.67 L535.411 1025.73 Z\" fill=\"#000000\" fill-rule=\"evenodd\" fill-opacity=\"1\" /><path clip-path=\"url(#clip900)\" d=\"M 0 0 M575.99 1038.62 L583.629 1038.62 L583.629 1012.26 L575.318 1013.93 L575.318 1009.67 L583.582 1008 L588.258 1008 L588.258 1038.62 L595.897 1038.62 L595.897 1042.56 L575.99 1042.56 L575.99 1038.62 Z\" fill=\"#000000\" fill-rule=\"evenodd\" fill-opacity=\"1\" /><path clip-path=\"url(#clip900)\" d=\"M 0 0 M583.953 759.125 Q580.342 759.125 578.513 762.689 Q576.707 766.231 576.707 773.361 Q576.707 780.467 578.513 784.032 Q580.342 787.574 583.953 787.574 Q587.587 787.574 589.392 784.032 Q591.221 780.467 591.221 773.361 Q591.221 766.231 589.392 762.689 Q587.587 759.125 583.953 759.125 M583.953 755.421 Q589.763 755.421 592.818 760.027 Q595.897 764.611 595.897 773.361 Q595.897 782.088 592.818 786.694 Q589.763 791.277 583.953 791.277 Q578.143 791.277 575.064 786.694 Q572.008 782.088 572.008 773.361 Q572.008 764.611 575.064 760.027 Q578.143 755.421 583.953 755.421 Z\" fill=\"#000000\" fill-rule=\"evenodd\" fill-opacity=\"1\" /><path clip-path=\"url(#clip900)\" d=\"M 0 0 M575.99 534.717 L583.629 534.717 L583.629 508.351 L575.318 510.018 L575.318 505.758 L583.582 504.092 L588.258 504.092 L588.258 534.717 L595.897 534.717 L595.897 538.652 L575.99 538.652 L575.99 534.717 Z\" fill=\"#000000\" fill-rule=\"evenodd\" fill-opacity=\"1\" /><path clip-path=\"url(#clip900)\" d=\"M 0 0 M579.578 282.762 L595.897 282.762 L595.897 286.698 L573.953 286.698 L573.953 282.762 Q576.615 280.008 581.198 275.378 Q585.805 270.726 586.985 269.383 Q589.23 266.86 590.11 265.124 Q591.013 263.364 591.013 261.675 Q591.013 258.92 589.068 257.184 Q587.147 255.448 584.045 255.448 Q581.846 255.448 579.393 256.212 Q576.962 256.976 574.184 258.526 L574.184 253.804 Q577.008 252.67 579.462 252.091 Q581.916 251.513 583.953 251.513 Q589.323 251.513 592.517 254.198 Q595.712 256.883 595.712 261.374 Q595.712 263.503 594.902 265.425 Q594.115 267.323 592.008 269.915 Q591.429 270.587 588.328 273.804 Q585.226 276.999 579.578 282.762 Z\" fill=\"#000000\" fill-rule=\"evenodd\" fill-opacity=\"1\" /><path clip-path=\"url(#clip900)\" d=\"M 0 0 M441.996 952.171 Q441.996 959.173 447.216 963.31 Q452.436 967.416 461.443 967.416 Q470.419 967.416 475.639 963.31 Q480.858 959.173 480.858 952.171 Q480.858 945.168 475.639 941.094 Q470.419 936.988 461.443 936.988 Q452.436 936.988 447.216 941.094 Q441.996 945.168 441.996 952.171 M436.776 952.171 Q436.776 942.176 443.492 936.193 Q450.176 930.209 461.443 930.209 Q472.678 930.209 479.394 936.193 Q486.078 942.176 486.078 952.171 Q486.078 962.196 479.394 968.212 Q472.71 974.196 461.443 974.196 Q450.176 974.196 443.492 968.212 Q436.776 962.196 436.776 952.171 Z\" fill=\"#000000\" fill-rule=\"evenodd\" fill-opacity=\"1\" /><path clip-path=\"url(#clip900)\" d=\"M 0 0 M454.982 899.749 Q454.409 900.736 454.154 901.913 Q453.868 903.059 453.868 904.46 Q453.868 909.425 457.114 912.098 Q460.329 914.74 466.376 914.74 L485.155 914.74 L485.155 920.628 L449.507 920.628 L449.507 914.74 L455.045 914.74 Q451.799 912.894 450.239 909.934 Q448.648 906.974 448.648 902.741 Q448.648 902.136 448.743 901.404 Q448.807 900.672 448.966 899.781 L454.982 899.749 Z\" fill=\"#000000\" fill-rule=\"evenodd\" fill-opacity=\"1\" /><path clip-path=\"url(#clip900)\" d=\"M 0 0 M467.363 868.016 Q460.902 868.016 457.242 870.689 Q453.55 873.331 453.55 877.978 Q453.55 882.625 457.242 885.299 Q460.902 887.941 467.363 887.941 Q473.824 887.941 477.516 885.299 Q481.177 882.625 481.177 877.978 Q481.177 873.331 477.516 870.689 Q473.824 868.016 467.363 868.016 M454.918 887.941 Q451.735 886.094 450.208 883.294 Q448.648 880.461 448.648 876.546 Q448.648 870.053 453.804 866.011 Q458.96 861.937 467.363 861.937 Q475.766 861.937 480.922 866.011 Q486.078 870.053 486.078 876.546 Q486.078 880.461 484.551 883.294 Q482.991 886.094 479.808 887.941 L485.155 887.941 L485.155 893.829 L435.63 893.829 L435.63 887.941 L454.918 887.941 Z\" fill=\"#000000\" fill-rule=\"evenodd\" fill-opacity=\"1\" /><path clip-path=\"url(#clip900)\" d=\"M 0 0 M449.507 852.229 L449.507 846.372 L485.155 846.372 L485.155 852.229 L449.507 852.229 M435.63 852.229 L435.63 846.372 L443.046 846.372 L443.046 852.229 L435.63 852.229 Z\" fill=\"#000000\" fill-rule=\"evenodd\" fill-opacity=\"1\" /><path clip-path=\"url(#clip900)\" d=\"M 0 0 M439.386 828.326 L449.507 828.326 L449.507 816.263 L454.059 816.263 L454.059 828.326 L473.411 828.326 Q477.771 828.326 479.012 827.148 Q480.254 825.939 480.254 822.278 L480.254 816.263 L485.155 816.263 L485.155 822.278 Q485.155 829.058 482.641 831.636 Q480.095 834.214 473.411 834.214 L454.059 834.214 L454.059 838.511 L449.507 838.511 L449.507 834.214 L439.386 834.214 L439.386 828.326 Z\" fill=\"#000000\" fill-rule=\"evenodd\" fill-opacity=\"1\" /><path clip-path=\"url(#clip900)\" d=\"M 0 0 M467.236 792.359 Q467.236 799.457 468.859 802.194 Q470.482 804.932 474.397 804.932 Q477.516 804.932 479.362 802.895 Q481.177 800.826 481.177 797.293 Q481.177 792.423 477.739 789.495 Q474.27 786.535 468.541 786.535 L467.236 786.535 L467.236 792.359 M464.817 780.678 L485.155 780.678 L485.155 786.535 L479.744 786.535 Q482.991 788.54 484.551 791.532 Q486.078 794.524 486.078 798.852 Q486.078 804.327 483.023 807.573 Q479.935 810.788 474.779 810.788 Q468.764 810.788 465.708 806.778 Q462.653 802.736 462.653 794.747 L462.653 786.535 L462.08 786.535 Q458.037 786.535 455.841 789.208 Q453.613 791.85 453.613 796.656 Q453.613 799.712 454.345 802.608 Q455.077 805.505 456.541 808.178 L451.131 808.178 Q449.889 804.964 449.285 801.94 Q448.648 798.916 448.648 796.052 Q448.648 788.317 452.658 784.498 Q456.669 780.678 464.817 780.678 Z\" fill=\"#000000\" fill-rule=\"evenodd\" fill-opacity=\"1\" /><path clip-path=\"url(#clip900)\" d=\"M 0 0 M435.63 768.615 L435.63 762.759 L485.155 762.759 L485.155 768.615 L435.63 768.615 Z\" fill=\"#000000\" fill-rule=\"evenodd\" fill-opacity=\"1\" /><path clip-path=\"url(#clip900)\" d=\"M 0 0 M437.635 730.262 L437.635 723.801 L466.504 723.801 Q474.143 723.801 477.516 721.032 Q480.858 718.263 480.858 712.056 Q480.858 705.881 477.516 703.112 Q474.143 700.343 466.504 700.343 L437.635 700.343 L437.635 693.882 L467.299 693.882 Q476.593 693.882 481.336 698.497 Q486.078 703.08 486.078 712.056 Q486.078 721.064 481.336 725.679 Q476.593 730.262 467.299 730.262 L437.635 730.262 Z\" fill=\"#000000\" fill-rule=\"evenodd\" fill-opacity=\"1\" /><path clip-path=\"url(#clip900)\" d=\"M 0 0 M463.639 652.441 L485.155 652.441 L485.155 658.298 L463.83 658.298 Q458.769 658.298 456.255 660.271 Q453.741 662.244 453.741 666.191 Q453.741 670.934 456.764 673.671 Q459.788 676.408 465.008 676.408 L485.155 676.408 L485.155 682.296 L449.507 682.296 L449.507 676.408 L455.045 676.408 Q451.831 674.307 450.239 671.475 Q448.648 668.61 448.648 664.886 Q448.648 658.743 452.467 655.592 Q456.255 652.441 463.639 652.441 Z\" fill=\"#000000\" fill-rule=\"evenodd\" fill-opacity=\"1\" /><path clip-path=\"url(#clip900)\" d=\"M 0 0 M449.507 640.76 L449.507 634.904 L485.155 634.904 L485.155 640.76 L449.507 640.76 M435.63 640.76 L435.63 634.904 L443.046 634.904 L443.046 640.76 L435.63 640.76 Z\" fill=\"#000000\" fill-rule=\"evenodd\" fill-opacity=\"1\" /><path clip-path=\"url(#clip900)\" d=\"M 0 0 M439.386 616.857 L449.507 616.857 L449.507 604.794 L454.059 604.794 L454.059 616.857 L473.411 616.857 Q477.771 616.857 479.012 615.679 Q480.254 614.47 480.254 610.809 L480.254 604.794 L485.155 604.794 L485.155 610.809 Q485.155 617.589 482.641 620.167 Q480.095 622.745 473.411 622.745 L454.059 622.745 L454.059 627.042 L449.507 627.042 L449.507 622.745 L439.386 622.745 L439.386 616.857 Z\" fill=\"#000000\" fill-rule=\"evenodd\" fill-opacity=\"1\" /><path clip-path=\"url(#clip900)\" d=\"M 0 0 M450.558 574.366 L456.096 574.366 Q454.823 576.848 454.186 579.522 Q453.55 582.196 453.55 585.06 Q453.55 589.421 454.886 591.617 Q456.223 593.781 458.897 593.781 Q460.934 593.781 462.111 592.222 Q463.257 590.662 464.308 585.951 L464.753 583.946 Q466.09 577.708 468.541 575.098 Q470.96 572.456 475.32 572.456 Q480.286 572.456 483.182 576.403 Q486.078 580.318 486.078 587.193 Q486.078 590.057 485.505 593.176 Q484.964 596.264 483.85 599.701 L477.803 599.701 Q479.49 596.455 480.349 593.304 Q481.177 590.153 481.177 587.065 Q481.177 582.928 479.776 580.7 Q478.344 578.472 475.766 578.472 Q473.379 578.472 472.106 580.095 Q470.832 581.686 469.655 587.129 L469.177 589.166 Q468.032 594.609 465.676 597.028 Q463.289 599.447 459.151 599.447 Q454.122 599.447 451.385 595.882 Q448.648 592.317 448.648 585.76 Q448.648 582.514 449.125 579.649 Q449.603 576.785 450.558 574.366 Z\" fill=\"#000000\" fill-rule=\"evenodd\" fill-opacity=\"1\" /><path clip-path=\"url(#clip900)\" d=\"M 0 0 M687.888 44.2197 Q690.521 45.1109 692.993 48.0275 Q695.504 50.9442 698.016 56.0483 L706.32 72.576 L697.53 72.576 L689.792 57.061 Q686.795 50.9847 683.959 48.9997 Q681.164 47.0148 676.303 47.0148 L667.391 47.0148 L667.391 72.576 L659.208 72.576 L659.208 12.096 L677.68 12.096 Q688.05 12.096 693.155 16.4305 Q698.259 20.7649 698.259 29.5149 Q698.259 35.2267 695.585 38.994 Q692.952 42.7613 687.888 44.2197 M667.391 18.8205 L667.391 40.2903 L677.68 40.2903 Q683.594 40.2903 686.592 37.5762 Q689.63 34.8216 689.63 29.5149 Q689.63 24.2082 686.592 21.5346 Q683.594 18.8205 677.68 18.8205 L667.391 18.8205 Z\" fill=\"#000000\" fill-rule=\"evenodd\" fill-opacity=\"1\" /><path clip-path=\"url(#clip900)\" d=\"M 0 0 M751.609 48.0275 L751.609 51.6733 L717.338 51.6733 Q717.825 59.3701 721.956 63.421 Q726.129 67.4314 733.542 67.4314 Q737.836 67.4314 741.846 66.3781 Q745.897 65.3249 749.867 63.2184 L749.867 70.267 Q745.857 71.9684 741.644 72.8596 Q737.431 73.7508 733.096 73.7508 Q722.24 73.7508 715.88 67.4314 Q709.561 61.1119 709.561 50.3365 Q709.561 39.1965 715.556 32.6746 Q721.592 26.1121 731.8 26.1121 Q740.955 26.1121 746.262 32.0264 Q751.609 37.9003 751.609 48.0275 M744.155 45.84 Q744.074 39.7232 740.712 36.0774 Q737.39 32.4315 731.881 32.4315 Q725.643 32.4315 721.875 35.9558 Q718.149 39.4801 717.581 45.8805 L744.155 45.84 Z\" fill=\"#000000\" fill-rule=\"evenodd\" fill-opacity=\"1\" /><path clip-path=\"url(#clip900)\" d=\"M 0 0 M786.811 9.54393 L786.811 15.7418 L779.682 15.7418 Q775.671 15.7418 774.092 17.3622 Q772.552 18.9825 772.552 23.1955 L772.552 27.2059 L784.827 27.2059 L784.827 32.9987 L772.552 32.9987 L772.552 72.576 L765.058 72.576 L765.058 32.9987 L757.929 32.9987 L757.929 27.2059 L765.058 27.2059 L765.058 24.0462 Q765.058 16.471 768.582 13.0277 Q772.107 9.54393 779.763 9.54393 L786.811 9.54393 Z\" fill=\"#000000\" fill-rule=\"evenodd\" fill-opacity=\"1\" /><path clip-path=\"url(#clip900)\" d=\"M 0 0 M831.858 48.0275 L831.858 51.6733 L797.587 51.6733 Q798.073 59.3701 802.205 63.421 Q806.377 67.4314 813.79 67.4314 Q818.084 67.4314 822.095 66.3781 Q826.146 65.3249 830.116 63.2184 L830.116 70.267 Q826.105 71.9684 821.892 72.8596 Q817.679 73.7508 813.345 73.7508 Q802.488 73.7508 796.129 67.4314 Q789.809 61.1119 789.809 50.3365 Q789.809 39.1965 795.804 32.6746 Q801.84 26.1121 812.049 26.1121 Q821.204 26.1121 826.51 32.0264 Q831.858 37.9003 831.858 48.0275 M824.404 45.84 Q824.323 39.7232 820.961 36.0774 Q817.639 32.4315 812.13 32.4315 Q805.891 32.4315 802.124 35.9558 Q798.397 39.4801 797.83 45.8805 L824.404 45.84 Z\" fill=\"#000000\" fill-rule=\"evenodd\" fill-opacity=\"1\" /><path clip-path=\"url(#clip900)\" d=\"M 0 0 M870.382 34.1734 Q869.126 33.4443 867.627 33.1202 Q866.169 32.7556 864.386 32.7556 Q858.067 32.7556 854.664 36.8875 Q851.302 40.9789 851.302 48.6757 L851.302 72.576 L843.808 72.576 L843.808 27.2059 L851.302 27.2059 L851.302 34.2544 Q853.651 30.1225 857.419 28.1376 Q861.186 26.1121 866.574 26.1121 Q867.343 26.1121 868.275 26.2337 Q869.207 26.3147 870.341 26.5172 L870.382 34.1734 Z\" fill=\"#000000\" fill-rule=\"evenodd\" fill-opacity=\"1\" /><path clip-path=\"url(#clip900)\" d=\"M 0 0 M915.185 48.0275 L915.185 51.6733 L880.914 51.6733 Q881.4 59.3701 885.532 63.421 Q889.704 67.4314 897.118 67.4314 Q901.412 67.4314 905.422 66.3781 Q909.473 65.3249 913.443 63.2184 L913.443 70.267 Q909.432 71.9684 905.219 72.8596 Q901.006 73.7508 896.672 73.7508 Q885.816 73.7508 879.456 67.4314 Q873.136 61.1119 873.136 50.3365 Q873.136 39.1965 879.132 32.6746 Q885.167 26.1121 895.376 26.1121 Q904.531 26.1121 909.837 32.0264 Q915.185 37.9003 915.185 48.0275 M907.731 45.84 Q907.65 39.7232 904.288 36.0774 Q900.966 32.4315 895.457 32.4315 Q889.218 32.4315 885.451 35.9558 Q881.724 39.4801 881.157 45.8805 L907.731 45.84 Z\" fill=\"#000000\" fill-rule=\"evenodd\" fill-opacity=\"1\" /><path clip-path=\"url(#clip900)\" d=\"M 0 0 M965.132 45.1919 L965.132 72.576 L957.679 72.576 L957.679 45.4349 Q957.679 38.994 955.167 35.7938 Q952.655 32.5936 947.632 32.5936 Q941.596 32.5936 938.113 36.4419 Q934.629 40.2903 934.629 46.9338 L934.629 72.576 L927.135 72.576 L927.135 27.2059 L934.629 27.2059 L934.629 34.2544 Q937.303 30.163 940.908 28.1376 Q944.554 26.1121 949.293 26.1121 Q957.111 26.1121 961.122 30.9732 Q965.132 35.7938 965.132 45.1919 Z\" fill=\"#000000\" fill-rule=\"evenodd\" fill-opacity=\"1\" /><path clip-path=\"url(#clip900)\" d=\"M 0 0 M1012.65 28.9478 L1012.65 35.9153 Q1009.49 34.1734 1006.29 33.3227 Q1003.13 32.4315 999.889 32.4315 Q992.638 32.4315 988.627 37.0496 Q984.617 41.6271 984.617 49.9314 Q984.617 58.2358 988.627 62.8538 Q992.638 67.4314 999.889 67.4314 Q1003.13 67.4314 1006.29 66.5807 Q1009.49 65.6895 1012.65 63.9476 L1012.65 70.8341 Q1009.53 72.2924 1006.17 73.0216 Q1002.85 73.7508 999.079 73.7508 Q988.83 73.7508 982.794 67.3098 Q976.758 60.8689 976.758 49.9314 Q976.758 38.832 982.835 32.472 Q988.952 26.1121 999.565 26.1121 Q1003.01 26.1121 1006.29 26.8413 Q1009.57 27.5299 1012.65 28.9478 Z\" fill=\"#000000\" fill-rule=\"evenodd\" fill-opacity=\"1\" /><path clip-path=\"url(#clip900)\" d=\"M 0 0 M1064.42 48.0275 L1064.42 51.6733 L1030.15 51.6733 Q1030.64 59.3701 1034.77 63.421 Q1038.94 67.4314 1046.35 67.4314 Q1050.65 67.4314 1054.66 66.3781 Q1058.71 65.3249 1062.68 63.2184 L1062.68 70.267 Q1058.67 71.9684 1054.45 72.8596 Q1050.24 73.7508 1045.91 73.7508 Q1035.05 73.7508 1028.69 67.4314 Q1022.37 61.1119 1022.37 50.3365 Q1022.37 39.1965 1028.37 32.6746 Q1034.4 26.1121 1044.61 26.1121 Q1053.77 26.1121 1059.07 32.0264 Q1064.42 37.9003 1064.42 48.0275 M1056.97 45.84 Q1056.89 39.7232 1053.52 36.0774 Q1050.2 32.4315 1044.69 32.4315 Q1038.45 32.4315 1034.69 35.9558 Q1030.96 39.4801 1030.39 45.8805 L1056.97 45.84 Z\" fill=\"#000000\" fill-rule=\"evenodd\" fill-opacity=\"1\" /><path clip-path=\"url(#clip900)\" d=\"M 0 0 M1094.96 12.096 L1146.13 12.096 L1146.13 18.9825 L1124.66 18.9825 L1124.66 72.576 L1116.43 72.576 L1116.43 18.9825 L1094.96 18.9825 L1094.96 12.096 Z\" fill=\"#000000\" fill-rule=\"evenodd\" fill-opacity=\"1\" /><path clip-path=\"url(#clip900)\" d=\"M 0 0 M1167.8 34.1734 Q1166.54 33.4443 1165.04 33.1202 Q1163.59 32.7556 1161.8 32.7556 Q1155.48 32.7556 1152.08 36.8875 Q1148.72 40.9789 1148.72 48.6757 L1148.72 72.576 L1141.23 72.576 L1141.23 27.2059 L1148.72 27.2059 L1148.72 34.2544 Q1151.07 30.1225 1154.84 28.1376 Q1158.6 26.1121 1163.99 26.1121 Q1164.76 26.1121 1165.69 26.2337 Q1166.62 26.3147 1167.76 26.5172 L1167.8 34.1734 Z\" fill=\"#000000\" fill-rule=\"evenodd\" fill-opacity=\"1\" /><path clip-path=\"url(#clip900)\" d=\"M 0 0 M1196.24 49.7694 Q1187.2 49.7694 1183.72 51.8354 Q1180.24 53.9013 1180.24 58.8839 Q1180.24 62.8538 1182.83 65.2034 Q1185.46 67.5124 1189.96 67.5124 Q1196.16 67.5124 1199.88 63.1374 Q1203.65 58.7219 1203.65 51.4303 L1203.65 49.7694 L1196.24 49.7694 M1211.1 46.6907 L1211.1 72.576 L1203.65 72.576 L1203.65 65.6895 Q1201.1 69.8214 1197.29 71.8063 Q1193.48 73.7508 1187.97 73.7508 Q1181 73.7508 1176.87 69.8619 Q1172.78 65.9325 1172.78 59.3701 Q1172.78 51.7138 1177.89 47.825 Q1183.03 43.9361 1193.2 43.9361 L1203.65 43.9361 L1203.65 43.2069 Q1203.65 38.0623 1200.25 35.2672 Q1196.88 32.4315 1190.77 32.4315 Q1186.88 32.4315 1183.19 33.3632 Q1179.51 34.295 1176.1 36.1584 L1176.1 29.2718 Q1180.19 27.692 1184.04 26.9223 Q1187.89 26.1121 1191.54 26.1121 Q1201.38 26.1121 1206.24 31.2163 Q1211.1 36.3204 1211.1 46.6907 Z\" fill=\"#000000\" fill-rule=\"evenodd\" fill-opacity=\"1\" /><path clip-path=\"url(#clip900)\" d=\"M 0 0 M1226.46 27.2059 L1233.91 27.2059 L1233.91 73.3862 Q1233.91 82.0551 1230.59 85.944 Q1227.31 89.8329 1219.97 89.8329 L1217.14 89.8329 L1217.14 83.5134 L1219.12 83.5134 Q1223.38 83.5134 1224.92 81.5285 Q1226.46 79.5841 1226.46 73.3862 L1226.46 27.2059 M1226.46 9.54393 L1233.91 9.54393 L1233.91 18.9825 L1226.46 18.9825 L1226.46 9.54393 Z\" fill=\"#000000\" fill-rule=\"evenodd\" fill-opacity=\"1\" /><path clip-path=\"url(#clip900)\" d=\"M 0 0 M1288.31 48.0275 L1288.31 51.6733 L1254.04 51.6733 Q1254.53 59.3701 1258.66 63.421 Q1262.83 67.4314 1270.25 67.4314 Q1274.54 67.4314 1278.55 66.3781 Q1282.6 65.3249 1286.57 63.2184 L1286.57 70.267 Q1282.56 71.9684 1278.35 72.8596 Q1274.14 73.7508 1269.8 73.7508 Q1258.94 73.7508 1252.58 67.4314 Q1246.27 61.1119 1246.27 50.3365 Q1246.27 39.1965 1252.26 32.6746 Q1258.3 26.1121 1268.5 26.1121 Q1277.66 26.1121 1282.97 32.0264 Q1288.31 37.9003 1288.31 48.0275 M1280.86 45.84 Q1280.78 39.7232 1277.42 36.0774 Q1274.09 32.4315 1268.59 32.4315 Q1262.35 32.4315 1258.58 35.9558 Q1254.85 39.4801 1254.29 45.8805 L1280.86 45.84 Z\" fill=\"#000000\" fill-rule=\"evenodd\" fill-opacity=\"1\" /><path clip-path=\"url(#clip900)\" d=\"M 0 0 M1333.2 28.9478 L1333.2 35.9153 Q1330.04 34.1734 1326.84 33.3227 Q1323.68 32.4315 1320.44 32.4315 Q1313.19 32.4315 1309.18 37.0496 Q1305.17 41.6271 1305.17 49.9314 Q1305.17 58.2358 1309.18 62.8538 Q1313.19 67.4314 1320.44 67.4314 Q1323.68 67.4314 1326.84 66.5807 Q1330.04 65.6895 1333.2 63.9476 L1333.2 70.8341 Q1330.08 72.2924 1326.72 73.0216 Q1323.39 73.7508 1319.63 73.7508 Q1309.38 73.7508 1303.34 67.3098 Q1297.31 60.8689 1297.31 49.9314 Q1297.31 38.832 1303.38 32.472 Q1309.5 26.1121 1320.11 26.1121 Q1323.56 26.1121 1326.84 26.8413 Q1330.12 27.5299 1333.2 28.9478 Z\" fill=\"#000000\" fill-rule=\"evenodd\" fill-opacity=\"1\" /><path clip-path=\"url(#clip900)\" d=\"M 0 0 M1353.53 14.324 L1353.53 27.2059 L1368.89 27.2059 L1368.89 32.9987 L1353.53 32.9987 L1353.53 57.6282 Q1353.53 63.1779 1355.03 64.7578 Q1356.57 66.3376 1361.23 66.3376 L1368.89 66.3376 L1368.89 72.576 L1361.23 72.576 Q1352.6 72.576 1349.32 69.3758 Q1346.04 66.1351 1346.04 57.6282 L1346.04 32.9987 L1340.57 32.9987 L1340.57 27.2059 L1346.04 27.2059 L1346.04 14.324 L1353.53 14.324 Z\" fill=\"#000000\" fill-rule=\"evenodd\" fill-opacity=\"1\" /><path clip-path=\"url(#clip900)\" d=\"M 0 0 M1396.27 32.4315 Q1390.27 32.4315 1386.79 37.1306 Q1383.31 41.7891 1383.31 49.9314 Q1383.31 58.0738 1386.75 62.7728 Q1390.23 67.4314 1396.27 67.4314 Q1402.22 67.4314 1405.71 62.7323 Q1409.19 58.0333 1409.19 49.9314 Q1409.19 41.8701 1405.71 37.1711 Q1402.22 32.4315 1396.27 32.4315 M1396.27 26.1121 Q1405.99 26.1121 1411.54 32.4315 Q1417.09 38.7509 1417.09 49.9314 Q1417.09 61.0714 1411.54 67.4314 Q1405.99 73.7508 1396.27 73.7508 Q1386.51 73.7508 1380.96 67.4314 Q1375.45 61.0714 1375.45 49.9314 Q1375.45 38.7509 1380.96 32.4315 Q1386.51 26.1121 1396.27 26.1121 Z\" fill=\"#000000\" fill-rule=\"evenodd\" fill-opacity=\"1\" /><path clip-path=\"url(#clip900)\" d=\"M 0 0 M1455.74 34.1734 Q1454.48 33.4443 1452.98 33.1202 Q1451.52 32.7556 1449.74 32.7556 Q1443.42 32.7556 1440.02 36.8875 Q1436.66 40.9789 1436.66 48.6757 L1436.66 72.576 L1429.16 72.576 L1429.16 27.2059 L1436.66 27.2059 L1436.66 34.2544 Q1439.01 30.1225 1442.77 28.1376 Q1446.54 26.1121 1451.93 26.1121 Q1452.7 26.1121 1453.63 26.2337 Q1454.56 26.3147 1455.7 26.5172 L1455.74 34.1734 Z\" fill=\"#000000\" fill-rule=\"evenodd\" fill-opacity=\"1\" /><path clip-path=\"url(#clip900)\" d=\"M 0 0 M1482.43 76.7889 Q1479.27 84.8907 1476.28 87.3618 Q1473.28 89.8329 1468.25 89.8329 L1462.3 89.8329 L1462.3 83.5945 L1466.67 83.5945 Q1469.75 83.5945 1471.45 82.1361 Q1473.16 80.6778 1475.22 75.2496 L1476.56 71.8468 L1458.21 27.2059 L1466.11 27.2059 L1480.29 62.6918 L1494.46 27.2059 L1502.36 27.2059 L1482.43 76.7889 Z\" fill=\"#000000\" fill-rule=\"evenodd\" fill-opacity=\"1\" /><path clip-path=\"url(#clip900)\" d=\"M 0 0 M1556.93 9.62495 Q1551.5 18.942 1548.87 28.0566 Q1546.23 37.1711 1546.23 46.5287 Q1546.23 55.8863 1548.87 65.0818 Q1551.54 74.2369 1556.93 83.5134 L1550.45 83.5134 Q1544.37 73.9938 1541.33 64.7983 Q1538.34 55.6027 1538.34 46.5287 Q1538.34 37.4952 1541.33 28.3401 Q1544.33 19.1851 1550.45 9.62495 L1556.93 9.62495 Z\" fill=\"#000000\" fill-rule=\"evenodd\" fill-opacity=\"1\" /><path clip-path=\"url(#clip900)\" d=\"M 0 0 M1573.86 65.6895 L1587.23 65.6895 L1587.23 19.5497 L1572.69 22.4663 L1572.69 15.0127 L1587.15 12.096 L1595.33 12.096 L1595.33 65.6895 L1608.7 65.6895 L1608.7 72.576 L1573.86 72.576 L1573.86 65.6895 Z\" fill=\"#000000\" fill-rule=\"evenodd\" fill-opacity=\"1\" /><path clip-path=\"url(#clip900)\" d=\"M 0 0 M1668.13 32.4315 Q1662.13 32.4315 1658.65 37.1306 Q1655.16 41.7891 1655.16 49.9314 Q1655.16 58.0738 1658.61 62.7728 Q1662.09 67.4314 1668.13 67.4314 Q1674.08 67.4314 1677.56 62.7323 Q1681.05 58.0333 1681.05 49.9314 Q1681.05 41.8701 1677.56 37.1711 Q1674.08 32.4315 1668.13 32.4315 M1668.13 26.1121 Q1677.85 26.1121 1683.4 32.4315 Q1688.95 38.7509 1688.95 49.9314 Q1688.95 61.0714 1683.4 67.4314 Q1677.85 73.7508 1668.13 73.7508 Q1658.36 73.7508 1652.81 67.4314 Q1647.3 61.0714 1647.3 49.9314 Q1647.3 38.7509 1652.81 32.4315 Q1658.36 26.1121 1668.13 26.1121 Z\" fill=\"#000000\" fill-rule=\"evenodd\" fill-opacity=\"1\" /><path clip-path=\"url(#clip900)\" d=\"M 0 0 M1727.59 34.1734 Q1726.34 33.4443 1724.84 33.1202 Q1723.38 32.7556 1721.6 32.7556 Q1715.28 32.7556 1711.88 36.8875 Q1708.51 40.9789 1708.51 48.6757 L1708.51 72.576 L1701.02 72.576 L1701.02 27.2059 L1708.51 27.2059 L1708.51 34.2544 Q1710.86 30.1225 1714.63 28.1376 Q1718.4 26.1121 1723.79 26.1121 Q1724.56 26.1121 1725.49 26.2337 Q1726.42 26.3147 1727.55 26.5172 L1727.59 34.1734 Z\" fill=\"#000000\" fill-rule=\"evenodd\" fill-opacity=\"1\" /><path clip-path=\"url(#clip900)\" d=\"M 0 0 M1767.98 49.9314 Q1767.98 41.7081 1764.58 37.0496 Q1761.22 32.3505 1755.3 32.3505 Q1749.39 32.3505 1745.98 37.0496 Q1742.62 41.7081 1742.62 49.9314 Q1742.62 58.1548 1745.98 62.8538 Q1749.39 67.5124 1755.3 67.5124 Q1761.22 67.5124 1764.58 62.8538 Q1767.98 58.1548 1767.98 49.9314 M1742.62 34.0924 Q1744.97 30.0415 1748.54 28.0971 Q1752.14 26.1121 1757.12 26.1121 Q1765.39 26.1121 1770.53 32.6746 Q1775.72 39.2371 1775.72 49.9314 Q1775.72 60.6258 1770.53 67.1883 Q1765.39 73.7508 1757.12 73.7508 Q1752.14 73.7508 1748.54 71.8063 Q1744.97 69.8214 1742.62 65.7705 L1742.62 72.576 L1735.13 72.576 L1735.13 9.54393 L1742.62 9.54393 L1742.62 34.0924 Z\" fill=\"#000000\" fill-rule=\"evenodd\" fill-opacity=\"1\" /><path clip-path=\"url(#clip900)\" d=\"M 0 0 M1788.07 27.2059 L1795.53 27.2059 L1795.53 72.576 L1788.07 72.576 L1788.07 27.2059 M1788.07 9.54393 L1795.53 9.54393 L1795.53 18.9825 L1788.07 18.9825 L1788.07 9.54393 Z\" fill=\"#000000\" fill-rule=\"evenodd\" fill-opacity=\"1\" /><path clip-path=\"url(#clip900)\" d=\"M 0 0 M1818.5 14.324 L1818.5 27.2059 L1833.85 27.2059 L1833.85 32.9987 L1818.5 32.9987 L1818.5 57.6282 Q1818.5 63.1779 1819.99 64.7578 Q1821.53 66.3376 1826.19 66.3376 L1833.85 66.3376 L1833.85 72.576 L1826.19 72.576 Q1817.56 72.576 1814.28 69.3758 Q1811 66.1351 1811 57.6282 L1811 32.9987 L1805.53 32.9987 L1805.53 27.2059 L1811 27.2059 L1811 14.324 L1818.5 14.324 Z\" fill=\"#000000\" fill-rule=\"evenodd\" fill-opacity=\"1\" /><path clip-path=\"url(#clip900)\" d=\"M 0 0 M1872.58 28.5427 L1872.58 35.5912 Q1869.42 33.9709 1866.01 33.1607 Q1862.61 32.3505 1858.96 32.3505 Q1853.41 32.3505 1850.62 34.0519 Q1847.86 35.7533 1847.86 39.156 Q1847.86 41.7486 1849.85 43.2475 Q1851.83 44.7058 1857.83 46.0426 L1860.38 46.6097 Q1868.32 48.3111 1871.64 51.4303 Q1875.01 54.509 1875.01 60.0587 Q1875.01 66.3781 1869.98 70.0644 Q1865 73.7508 1856.25 73.7508 Q1852.6 73.7508 1848.63 73.0216 Q1844.71 72.3329 1840.33 70.9151 L1840.33 63.2184 Q1844.46 65.3654 1848.47 66.4591 Q1852.48 67.5124 1856.41 67.5124 Q1861.68 67.5124 1864.51 65.73 Q1867.35 63.9071 1867.35 60.6258 Q1867.35 57.5877 1865.28 55.9673 Q1863.26 54.3469 1856.33 52.8481 L1853.74 52.2405 Q1846.81 50.7821 1843.73 47.7845 Q1840.65 44.7463 1840.65 39.4801 Q1840.65 33.0797 1845.19 29.5959 Q1849.73 26.1121 1858.07 26.1121 Q1862.2 26.1121 1865.85 26.7198 Q1869.5 27.3274 1872.58 28.5427 Z\" fill=\"#000000\" fill-rule=\"evenodd\" fill-opacity=\"1\" /><path clip-path=\"url(#clip900)\" d=\"M 0 0 M1885.7 9.62495 L1892.18 9.62495 Q1898.26 19.1851 1901.26 28.3401 Q1904.29 37.4952 1904.29 46.5287 Q1904.29 55.6027 1901.26 64.7983 Q1898.26 73.9938 1892.18 83.5134 L1885.7 83.5134 Q1891.09 74.2369 1893.72 65.0818 Q1896.39 55.8863 1896.39 46.5287 Q1896.39 37.1711 1893.72 28.0566 Q1891.09 18.942 1885.7 9.62495 Z\" fill=\"#000000\" fill-rule=\"evenodd\" fill-opacity=\"1\" /><polyline clip-path=\"url(#clip902)\" style=\"stroke:#009af9; stroke-width:12; stroke-opacity:1; fill:none\" points=\"\n",
       "  1352.42,773.326 1346.39,735.247 1330.82,702.452 1310.24,676.459 1287.78,656.391 1265.02,640.946 1242.68,629.044 1221.05,619.888 1200.28,612.902 1180.38,607.663 \n",
       "  1161.36,603.858 1143.18,601.248 1125.81,599.649 1109.22,598.915 1093.36,598.929 1078.21,599.595 1063.73,600.834 1049.89,602.581 1036.66,604.78 1024.02,607.385 \n",
       "  1011.95,610.353 1000.42,613.651 989.414,617.246 978.917,621.113 968.911,625.226 959.382,629.566 950.315,634.112 941.699,638.847 933.523,643.756 925.775,648.825 \n",
       "  918.446,654.04 911.528,659.391 905.011,664.865 898.89,670.452 893.157,676.144 887.805,681.932 882.83,687.807 878.226,693.761 873.988,699.788 870.111,705.88 \n",
       "  866.593,712.03 863.43,718.233 860.619,724.483 858.156,730.773 856.04,737.097 854.269,743.451 852.841,749.829 851.754,756.226 851.009,762.636 850.603,769.055 \n",
       "  850.537,775.477 850.811,781.898 851.424,788.311 852.378,794.713 853.673,801.098 855.31,807.461 857.292,813.796 859.619,820.098 862.294,826.361 865.32,832.58 \n",
       "  868.699,838.749 872.434,844.861 876.53,850.911 880.99,856.89 885.82,862.793 891.023,868.611 896.605,874.337 902.572,879.961 908.932,885.476 915.69,890.87 \n",
       "  922.855,896.133 930.436,901.255 938.441,906.222 946.88,911.02 955.765,915.635 965.108,920.05 974.921,924.248 985.219,928.206 996.017,931.903 1007.33,935.313 \n",
       "  1019.18,938.407 1031.59,941.151 1044.57,943.506 1058.16,945.429 1072.38,946.868 1087.25,947.76 1102.81,948.034 1119.1,947.601 1136.14,946.353 1153.98,944.158 \n",
       "  1172.64,940.848 1192.17,936.209 1212.58,929.962 1233.85,921.733 1255.91,911.017 1278.54,897.118 1301.23,879.076 1322.83,855.655 1340.92,825.656 1352.42,773.326 \n",
       "  \n",
       "  \"/>\n",
       "<line clip-path=\"url(#clip902)\" x1=\"1714.99\" y1=\"773.326\" x2=\"1694.99\" y2=\"753.326\" style=\"stroke:#e26f46; stroke-width:3.2; stroke-opacity:1\"/>\n",
       "<line clip-path=\"url(#clip902)\" x1=\"1714.99\" y1=\"773.326\" x2=\"1694.99\" y2=\"793.326\" style=\"stroke:#e26f46; stroke-width:3.2; stroke-opacity:1\"/>\n",
       "<line clip-path=\"url(#clip902)\" x1=\"1714.99\" y1=\"773.326\" x2=\"1734.99\" y2=\"793.326\" style=\"stroke:#e26f46; stroke-width:3.2; stroke-opacity:1\"/>\n",
       "<line clip-path=\"url(#clip902)\" x1=\"1714.99\" y1=\"773.326\" x2=\"1734.99\" y2=\"753.326\" style=\"stroke:#e26f46; stroke-width:3.2; stroke-opacity:1\"/>\n",
       "<path clip-path=\"url(#clip902)\" d=\"M1281.75 789.326 L1270.44 784.638 L1265.75 773.326 L1270.44 762.014 L1281.75 757.326 L1293.06 762.014 L1297.75 773.326 L1293.06 784.638 Z\" fill=\"#3da44d\" fill-rule=\"evenodd\" fill-opacity=\"1\" stroke=\"#000000\" stroke-opacity=\"1\" stroke-width=\"3.2\"/>\n",
       "<path clip-path=\"url(#clip900)\" d=\"\n",
       "M1340.08 408.716 L1860.2 408.716 L1860.2 166.796 L1340.08 166.796  Z\n",
       "  \" fill=\"#ffffff\" fill-rule=\"evenodd\" fill-opacity=\"1\"/>\n",
       "<polyline clip-path=\"url(#clip900)\" style=\"stroke:#000000; stroke-width:4; stroke-opacity:1; fill:none\" points=\"\n",
       "  1340.08,408.716 1860.2,408.716 1860.2,166.796 1340.08,166.796 1340.08,408.716 \n",
       "  \"/>\n",
       "<polyline clip-path=\"url(#clip900)\" style=\"stroke:#009af9; stroke-width:4; stroke-opacity:1; fill:none\" points=\"\n",
       "  1363.88,227.276 1506.68,227.276 \n",
       "  \"/>\n",
       "<path clip-path=\"url(#clip900)\" d=\"M 0 0 M1546.86 228.352 Q1548.37 228.861 1549.78 230.528 Q1551.22 232.195 1552.65 235.111 L1557.4 244.556 L1552.37 244.556 L1547.95 235.69 Q1546.24 232.218 1544.62 231.084 Q1543.02 229.949 1540.24 229.949 L1535.15 229.949 L1535.15 244.556 L1530.48 244.556 L1530.48 209.996 L1541.03 209.996 Q1546.96 209.996 1549.87 212.473 Q1552.79 214.949 1552.79 219.949 Q1552.79 223.213 1551.26 225.366 Q1549.76 227.519 1546.86 228.352 M1535.15 213.838 L1535.15 226.107 L1541.03 226.107 Q1544.41 226.107 1546.12 224.556 Q1547.86 222.982 1547.86 219.949 Q1547.86 216.917 1546.12 215.389 Q1544.41 213.838 1541.03 213.838 L1535.15 213.838 Z\" fill=\"#000000\" fill-rule=\"evenodd\" fill-opacity=\"1\" /><path clip-path=\"url(#clip900)\" d=\"M 0 0 M1583.28 230.528 L1583.28 232.611 L1563.69 232.611 Q1563.97 237.009 1566.33 239.324 Q1568.72 241.616 1572.95 241.616 Q1575.41 241.616 1577.7 241.014 Q1580.01 240.412 1582.28 239.209 L1582.28 243.236 Q1579.99 244.208 1577.58 244.718 Q1575.17 245.227 1572.7 245.227 Q1566.49 245.227 1562.86 241.616 Q1559.25 238.005 1559.25 231.847 Q1559.25 225.482 1562.68 221.755 Q1566.12 218.005 1571.96 218.005 Q1577.19 218.005 1580.22 221.385 Q1583.28 224.741 1583.28 230.528 M1579.02 229.278 Q1578.97 225.783 1577.05 223.699 Q1575.15 221.616 1572 221.616 Q1568.44 221.616 1566.29 223.63 Q1564.16 225.644 1563.83 229.301 L1579.02 229.278 Z\" fill=\"#000000\" fill-rule=\"evenodd\" fill-opacity=\"1\" /><path clip-path=\"url(#clip900)\" d=\"M 0 0 M1603.39 208.537 L1603.39 212.079 L1599.32 212.079 Q1597.03 212.079 1596.12 213.005 Q1595.24 213.931 1595.24 216.338 L1595.24 218.63 L1602.26 218.63 L1602.26 221.94 L1595.24 221.94 L1595.24 244.556 L1590.96 244.556 L1590.96 221.94 L1586.89 221.94 L1586.89 218.63 L1590.96 218.63 L1590.96 216.824 Q1590.96 212.496 1592.98 210.528 Q1594.99 208.537 1599.36 208.537 L1603.39 208.537 Z\" fill=\"#000000\" fill-rule=\"evenodd\" fill-opacity=\"1\" /><path clip-path=\"url(#clip900)\" d=\"M 0 0 M1629.13 230.528 L1629.13 232.611 L1609.55 232.611 Q1609.83 237.009 1612.19 239.324 Q1614.57 241.616 1618.81 241.616 Q1621.26 241.616 1623.55 241.014 Q1625.87 240.412 1628.14 239.209 L1628.14 243.236 Q1625.85 244.208 1623.44 244.718 Q1621.03 245.227 1618.55 245.227 Q1612.35 245.227 1608.72 241.616 Q1605.11 238.005 1605.11 231.847 Q1605.11 225.482 1608.53 221.755 Q1611.98 218.005 1617.81 218.005 Q1623.05 218.005 1626.08 221.385 Q1629.13 224.741 1629.13 230.528 M1624.87 229.278 Q1624.83 225.783 1622.91 223.699 Q1621.01 221.616 1617.86 221.616 Q1614.3 221.616 1612.14 223.63 Q1610.01 225.644 1609.69 229.301 L1624.87 229.278 Z\" fill=\"#000000\" fill-rule=\"evenodd\" fill-opacity=\"1\" /><path clip-path=\"url(#clip900)\" d=\"M 0 0 M1651.15 222.611 Q1650.43 222.195 1649.57 222.01 Q1648.74 221.801 1647.72 221.801 Q1644.11 221.801 1642.17 224.162 Q1640.24 226.5 1640.24 230.898 L1640.24 244.556 L1635.96 244.556 L1635.96 218.63 L1640.24 218.63 L1640.24 222.658 Q1641.59 220.297 1643.74 219.162 Q1645.89 218.005 1648.97 218.005 Q1649.41 218.005 1649.94 218.074 Q1650.48 218.121 1651.12 218.236 L1651.15 222.611 Z\" fill=\"#000000\" fill-rule=\"evenodd\" fill-opacity=\"1\" /><path clip-path=\"url(#clip900)\" d=\"M 0 0 M1676.75 230.528 L1676.75 232.611 L1657.17 232.611 Q1657.44 237.009 1659.8 239.324 Q1662.19 241.616 1666.42 241.616 Q1668.88 241.616 1671.17 241.014 Q1673.48 240.412 1675.75 239.209 L1675.75 243.236 Q1673.46 244.208 1671.05 244.718 Q1668.65 245.227 1666.17 245.227 Q1659.97 245.227 1656.33 241.616 Q1652.72 238.005 1652.72 231.847 Q1652.72 225.482 1656.15 221.755 Q1659.6 218.005 1665.43 218.005 Q1670.66 218.005 1673.69 221.385 Q1676.75 224.741 1676.75 230.528 M1672.49 229.278 Q1672.44 225.783 1670.52 223.699 Q1668.62 221.616 1665.48 221.616 Q1661.91 221.616 1659.76 223.63 Q1657.63 225.644 1657.3 229.301 L1672.49 229.278 Z\" fill=\"#000000\" fill-rule=\"evenodd\" fill-opacity=\"1\" /><path clip-path=\"url(#clip900)\" d=\"M 0 0 M1705.29 228.908 L1705.29 244.556 L1701.03 244.556 L1701.03 229.047 Q1701.03 225.366 1699.6 223.537 Q1698.16 221.709 1695.29 221.709 Q1691.84 221.709 1689.85 223.908 Q1687.86 226.107 1687.86 229.903 L1687.86 244.556 L1683.58 244.556 L1683.58 218.63 L1687.86 218.63 L1687.86 222.658 Q1689.39 220.32 1691.45 219.162 Q1693.53 218.005 1696.24 218.005 Q1700.71 218.005 1703 220.783 Q1705.29 223.537 1705.29 228.908 Z\" fill=\"#000000\" fill-rule=\"evenodd\" fill-opacity=\"1\" /><path clip-path=\"url(#clip900)\" d=\"M 0 0 M1732.44 219.625 L1732.44 223.607 Q1730.64 222.611 1728.81 222.125 Q1727 221.616 1725.15 221.616 Q1721.01 221.616 1718.72 224.255 Q1716.42 226.871 1716.42 231.616 Q1716.42 236.361 1718.72 239 Q1721.01 241.616 1725.15 241.616 Q1727 241.616 1728.81 241.13 Q1730.64 240.621 1732.44 239.625 L1732.44 243.56 Q1730.66 244.394 1728.74 244.81 Q1726.84 245.227 1724.69 245.227 Q1718.83 245.227 1715.38 241.546 Q1711.93 237.866 1711.93 231.616 Q1711.93 225.273 1715.41 221.639 Q1718.9 218.005 1724.97 218.005 Q1726.93 218.005 1728.81 218.422 Q1730.68 218.815 1732.44 219.625 Z\" fill=\"#000000\" fill-rule=\"evenodd\" fill-opacity=\"1\" /><path clip-path=\"url(#clip900)\" d=\"M 0 0 M1762.03 230.528 L1762.03 232.611 L1742.44 232.611 Q1742.72 237.009 1745.08 239.324 Q1747.47 241.616 1751.7 241.616 Q1754.16 241.616 1756.45 241.014 Q1758.76 240.412 1761.03 239.209 L1761.03 243.236 Q1758.74 244.208 1756.33 244.718 Q1753.92 245.227 1751.45 245.227 Q1745.24 245.227 1741.61 241.616 Q1738 238.005 1738 231.847 Q1738 225.482 1741.42 221.755 Q1744.87 218.005 1750.71 218.005 Q1755.94 218.005 1758.97 221.385 Q1762.03 224.741 1762.03 230.528 M1757.77 229.278 Q1757.72 225.783 1755.8 223.699 Q1753.9 221.616 1750.75 221.616 Q1747.19 221.616 1745.04 223.63 Q1742.91 225.644 1742.58 229.301 L1757.77 229.278 Z\" fill=\"#000000\" fill-rule=\"evenodd\" fill-opacity=\"1\" /><polyline clip-path=\"url(#clip900)\" style=\"stroke:#e26f46; stroke-width:4; stroke-opacity:1; fill:none\" points=\"\n",
       "  1363.88,287.756 1506.68,287.756 \n",
       "  \"/>\n",
       "<line clip-path=\"url(#clip900)\" x1=\"1435.28\" y1=\"287.756\" x2=\"1409.68\" y2=\"262.156\" style=\"stroke:#e26f46; stroke-width:3.2; stroke-opacity:1\"/>\n",
       "<line clip-path=\"url(#clip900)\" x1=\"1435.28\" y1=\"287.756\" x2=\"1409.68\" y2=\"313.356\" style=\"stroke:#e26f46; stroke-width:3.2; stroke-opacity:1\"/>\n",
       "<line clip-path=\"url(#clip900)\" x1=\"1435.28\" y1=\"287.756\" x2=\"1460.88\" y2=\"313.356\" style=\"stroke:#e26f46; stroke-width:3.2; stroke-opacity:1\"/>\n",
       "<line clip-path=\"url(#clip900)\" x1=\"1435.28\" y1=\"287.756\" x2=\"1460.88\" y2=\"262.156\" style=\"stroke:#e26f46; stroke-width:3.2; stroke-opacity:1\"/>\n",
       "<path clip-path=\"url(#clip900)\" d=\"M 0 0 M1556.03 300.105 L1556.03 290.823 L1548.39 290.823 L1548.39 286.98 L1560.66 286.98 L1560.66 301.818 Q1557.95 303.739 1554.69 304.735 Q1551.43 305.707 1547.72 305.707 Q1539.62 305.707 1535.04 300.985 Q1530.48 296.239 1530.48 287.79 Q1530.48 279.318 1535.04 274.596 Q1539.62 269.851 1547.72 269.851 Q1551.1 269.851 1554.13 270.684 Q1557.19 271.517 1559.76 273.138 L1559.76 278.115 Q1557.17 275.916 1554.25 274.804 Q1551.33 273.693 1548.11 273.693 Q1541.77 273.693 1538.58 277.235 Q1535.41 280.777 1535.41 287.79 Q1535.41 294.781 1538.58 298.323 Q1541.77 301.864 1548.11 301.864 Q1550.59 301.864 1552.54 301.448 Q1554.48 301.008 1556.03 300.105 Z\" fill=\"#000000\" fill-rule=\"evenodd\" fill-opacity=\"1\" /><path clip-path=\"url(#clip900)\" d=\"M 0 0 M1579.06 282.096 Q1575.64 282.096 1573.65 284.781 Q1571.66 287.443 1571.66 292.096 Q1571.66 296.749 1573.62 299.434 Q1575.61 302.096 1579.06 302.096 Q1582.47 302.096 1584.46 299.411 Q1586.45 296.726 1586.45 292.096 Q1586.45 287.49 1584.46 284.804 Q1582.47 282.096 1579.06 282.096 M1579.06 278.485 Q1584.62 278.485 1587.79 282.096 Q1590.96 285.707 1590.96 292.096 Q1590.96 298.462 1587.79 302.096 Q1584.62 305.707 1579.06 305.707 Q1573.49 305.707 1570.31 302.096 Q1567.17 298.462 1567.17 292.096 Q1567.17 285.707 1570.31 282.096 Q1573.49 278.485 1579.06 278.485 Z\" fill=\"#000000\" fill-rule=\"evenodd\" fill-opacity=\"1\" /><path clip-path=\"url(#clip900)\" d=\"M 0 0 M1609.8 292.003 Q1604.64 292.003 1602.65 293.184 Q1600.66 294.364 1600.66 297.212 Q1600.66 299.48 1602.14 300.823 Q1603.65 302.142 1606.22 302.142 Q1609.76 302.142 1611.89 299.642 Q1614.04 297.119 1614.04 292.952 L1614.04 292.003 L1609.8 292.003 M1618.3 290.244 L1618.3 305.036 L1614.04 305.036 L1614.04 301.101 Q1612.58 303.462 1610.41 304.596 Q1608.23 305.707 1605.08 305.707 Q1601.1 305.707 1598.74 303.485 Q1596.4 301.239 1596.4 297.489 Q1596.4 293.114 1599.32 290.892 Q1602.26 288.67 1608.07 288.67 L1614.04 288.67 L1614.04 288.253 Q1614.04 285.314 1612.1 283.716 Q1610.17 282.096 1606.68 282.096 Q1604.46 282.096 1602.35 282.628 Q1600.24 283.161 1598.3 284.226 L1598.3 280.29 Q1600.64 279.388 1602.84 278.948 Q1605.04 278.485 1607.12 278.485 Q1612.74 278.485 1615.52 281.402 Q1618.3 284.318 1618.3 290.244 Z\" fill=\"#000000\" fill-rule=\"evenodd\" fill-opacity=\"1\" /><path clip-path=\"url(#clip900)\" d=\"M 0 0 M1627.07 269.017 L1631.33 269.017 L1631.33 305.036 L1627.07 305.036 L1627.07 269.017 Z\" fill=\"#000000\" fill-rule=\"evenodd\" fill-opacity=\"1\" /><path clip-path=\"url(#clip900)\" d=\"M 0 0 M1676.22 271.61 L1676.22 276.17 Q1673.55 274.897 1671.19 274.272 Q1668.83 273.647 1666.63 273.647 Q1662.81 273.647 1660.73 275.128 Q1658.67 276.61 1658.67 279.341 Q1658.67 281.633 1660.04 282.814 Q1661.42 283.971 1665.27 284.689 L1668.09 285.267 Q1673.32 286.263 1675.8 288.786 Q1678.3 291.286 1678.3 295.499 Q1678.3 300.522 1674.92 303.114 Q1671.56 305.707 1665.06 305.707 Q1662.61 305.707 1659.83 305.151 Q1657.07 304.596 1654.11 303.508 L1654.11 298.693 Q1656.96 300.29 1659.69 301.101 Q1662.42 301.911 1665.06 301.911 Q1669.06 301.911 1671.24 300.337 Q1673.42 298.763 1673.42 295.846 Q1673.42 293.3 1671.84 291.864 Q1670.29 290.429 1666.73 289.712 L1663.88 289.156 Q1658.65 288.115 1656.31 285.892 Q1653.97 283.67 1653.97 279.712 Q1653.97 275.128 1657.19 272.49 Q1660.43 269.851 1666.1 269.851 Q1668.53 269.851 1671.05 270.291 Q1673.58 270.73 1676.22 271.61 Z\" fill=\"#000000\" fill-rule=\"evenodd\" fill-opacity=\"1\" /><path clip-path=\"url(#clip900)\" d=\"M 0 0 M1689.62 271.749 L1689.62 279.11 L1698.39 279.11 L1698.39 282.42 L1689.62 282.42 L1689.62 296.494 Q1689.62 299.665 1690.48 300.568 Q1691.35 301.471 1694.02 301.471 L1698.39 301.471 L1698.39 305.036 L1694.02 305.036 Q1689.09 305.036 1687.21 303.207 Q1685.34 301.355 1685.34 296.494 L1685.34 282.42 L1682.21 282.42 L1682.21 279.11 L1685.34 279.11 L1685.34 271.749 L1689.62 271.749 Z\" fill=\"#000000\" fill-rule=\"evenodd\" fill-opacity=\"1\" /><path clip-path=\"url(#clip900)\" d=\"M 0 0 M1715.78 292.003 Q1710.61 292.003 1708.62 293.184 Q1706.63 294.364 1706.63 297.212 Q1706.63 299.48 1708.11 300.823 Q1709.62 302.142 1712.19 302.142 Q1715.73 302.142 1717.86 299.642 Q1720.01 297.119 1720.01 292.952 L1720.01 292.003 L1715.78 292.003 M1724.27 290.244 L1724.27 305.036 L1720.01 305.036 L1720.01 301.101 Q1718.55 303.462 1716.38 304.596 Q1714.2 305.707 1711.05 305.707 Q1707.07 305.707 1704.71 303.485 Q1702.37 301.239 1702.37 297.489 Q1702.37 293.114 1705.29 290.892 Q1708.23 288.67 1714.04 288.67 L1720.01 288.67 L1720.01 288.253 Q1720.01 285.314 1718.07 283.716 Q1716.15 282.096 1712.65 282.096 Q1710.43 282.096 1708.32 282.628 Q1706.22 283.161 1704.27 284.226 L1704.27 280.29 Q1706.61 279.388 1708.81 278.948 Q1711.01 278.485 1713.09 278.485 Q1718.72 278.485 1721.49 281.402 Q1724.27 284.318 1724.27 290.244 Z\" fill=\"#000000\" fill-rule=\"evenodd\" fill-opacity=\"1\" /><path clip-path=\"url(#clip900)\" d=\"M 0 0 M1737.26 271.749 L1737.26 279.11 L1746.03 279.11 L1746.03 282.42 L1737.26 282.42 L1737.26 296.494 Q1737.26 299.665 1738.11 300.568 Q1738.99 301.471 1741.66 301.471 L1746.03 301.471 L1746.03 305.036 L1741.66 305.036 Q1736.73 305.036 1734.85 303.207 Q1732.98 301.355 1732.98 296.494 L1732.98 282.42 L1729.85 282.42 L1729.85 279.11 L1732.98 279.11 L1732.98 271.749 L1737.26 271.749 Z\" fill=\"#000000\" fill-rule=\"evenodd\" fill-opacity=\"1\" /><path clip-path=\"url(#clip900)\" d=\"M 0 0 M1773.81 291.008 L1773.81 293.091 L1754.22 293.091 Q1754.5 297.489 1756.86 299.804 Q1759.25 302.096 1763.48 302.096 Q1765.94 302.096 1768.23 301.494 Q1770.54 300.892 1772.81 299.689 L1772.81 303.716 Q1770.52 304.688 1768.11 305.198 Q1765.71 305.707 1763.23 305.707 Q1757.03 305.707 1753.39 302.096 Q1749.78 298.485 1749.78 292.327 Q1749.78 285.962 1753.21 282.235 Q1756.66 278.485 1762.49 278.485 Q1767.72 278.485 1770.75 281.865 Q1773.81 285.221 1773.81 291.008 M1769.55 289.758 Q1769.5 286.263 1767.58 284.179 Q1765.68 282.096 1762.54 282.096 Q1758.97 282.096 1756.82 284.11 Q1754.69 286.124 1754.36 289.781 L1769.55 289.758 Z\" fill=\"#000000\" fill-rule=\"evenodd\" fill-opacity=\"1\" /><polyline clip-path=\"url(#clip900)\" style=\"stroke:#3da44d; stroke-width:4; stroke-opacity:1; fill:none\" points=\"\n",
       "  1363.88,348.236 1506.68,348.236 \n",
       "  \"/>\n",
       "<path clip-path=\"url(#clip900)\" d=\"M1435.28 373.836 L1417.18 366.335 L1409.68 348.236 L1417.18 330.137 L1435.28 322.636 L1453.37 330.137 L1460.88 348.236 L1453.37 366.335 Z\" fill=\"#3da44d\" fill-rule=\"evenodd\" fill-opacity=\"1\" stroke=\"#000000\" stroke-opacity=\"1\" stroke-width=\"5.12\"/>\n",
       "<path clip-path=\"url(#clip900)\" d=\"M 0 0 M1535.15 334.798 L1535.15 347.784 L1541.03 347.784 Q1544.3 347.784 1546.08 346.095 Q1547.86 344.405 1547.86 341.28 Q1547.86 338.178 1546.08 336.488 Q1544.3 334.798 1541.03 334.798 L1535.15 334.798 M1530.48 330.956 L1541.03 330.956 Q1546.84 330.956 1549.8 333.595 Q1552.79 336.21 1552.79 341.28 Q1552.79 346.395 1549.8 349.011 Q1546.84 351.627 1541.03 351.627 L1535.15 351.627 L1535.15 365.516 L1530.48 365.516 L1530.48 330.956 Z\" fill=\"#000000\" fill-rule=\"evenodd\" fill-opacity=\"1\" /><path clip-path=\"url(#clip900)\" d=\"M 0 0 M1558.88 329.497 L1563.14 329.497 L1563.14 365.516 L1558.88 365.516 L1558.88 329.497 Z\" fill=\"#000000\" fill-rule=\"evenodd\" fill-opacity=\"1\" /><path clip-path=\"url(#clip900)\" d=\"M 0 0 M1583.83 352.483 Q1578.67 352.483 1576.68 353.664 Q1574.69 354.844 1574.69 357.692 Q1574.69 359.96 1576.17 361.303 Q1577.67 362.622 1580.24 362.622 Q1583.79 362.622 1585.92 360.122 Q1588.07 357.599 1588.07 353.432 L1588.07 352.483 L1583.83 352.483 M1592.33 350.724 L1592.33 365.516 L1588.07 365.516 L1588.07 361.581 Q1586.61 363.942 1584.43 365.076 Q1582.26 366.187 1579.11 366.187 Q1575.13 366.187 1572.77 363.965 Q1570.43 361.719 1570.43 357.969 Q1570.43 353.594 1573.35 351.372 Q1576.29 349.15 1582.1 349.15 L1588.07 349.15 L1588.07 348.733 Q1588.07 345.794 1586.12 344.196 Q1584.2 342.576 1580.71 342.576 Q1578.49 342.576 1576.38 343.108 Q1574.27 343.641 1572.33 344.706 L1572.33 340.77 Q1574.67 339.868 1576.86 339.428 Q1579.06 338.965 1581.15 338.965 Q1586.77 338.965 1589.55 341.882 Q1592.33 344.798 1592.33 350.724 Z\" fill=\"#000000\" fill-rule=\"evenodd\" fill-opacity=\"1\" /><path clip-path=\"url(#clip900)\" d=\"M 0 0 M1622.65 349.868 L1622.65 365.516 L1618.39 365.516 L1618.39 350.007 Q1618.39 346.326 1616.96 344.497 Q1615.52 342.669 1612.65 342.669 Q1609.2 342.669 1607.21 344.868 Q1605.22 347.067 1605.22 350.863 L1605.22 365.516 L1600.94 365.516 L1600.94 339.59 L1605.22 339.59 L1605.22 343.618 Q1606.75 341.28 1608.81 340.122 Q1610.89 338.965 1613.6 338.965 Q1618.07 338.965 1620.36 341.743 Q1622.65 344.497 1622.65 349.868 Z\" fill=\"#000000\" fill-rule=\"evenodd\" fill-opacity=\"1\" /><path clip-path=\"url(#clip900)\" d=\"M 0 0 M1653.32 351.488 L1653.32 353.571 L1633.74 353.571 Q1634.02 357.969 1636.38 360.284 Q1638.76 362.576 1643 362.576 Q1645.45 362.576 1647.74 361.974 Q1650.06 361.372 1652.33 360.169 L1652.33 364.196 Q1650.04 365.168 1647.63 365.678 Q1645.22 366.187 1642.74 366.187 Q1636.54 366.187 1632.91 362.576 Q1629.3 358.965 1629.3 352.807 Q1629.3 346.442 1632.72 342.715 Q1636.17 338.965 1642 338.965 Q1647.23 338.965 1650.27 342.345 Q1653.32 345.701 1653.32 351.488 M1649.06 350.238 Q1649.02 346.743 1647.1 344.659 Q1645.2 342.576 1642.05 342.576 Q1638.48 342.576 1636.33 344.59 Q1634.2 346.604 1633.88 350.261 L1649.06 350.238 Z\" fill=\"#000000\" fill-rule=\"evenodd\" fill-opacity=\"1\" /><path clip-path=\"url(#clip900)\" d=\"M 0 0 M1664.53 332.229 L1664.53 339.59 L1673.3 339.59 L1673.3 342.9 L1664.53 342.9 L1664.53 356.974 Q1664.53 360.145 1665.38 361.048 Q1666.26 361.951 1668.92 361.951 L1673.3 361.951 L1673.3 365.516 L1668.92 365.516 Q1663.99 365.516 1662.12 363.687 Q1660.24 361.835 1660.24 356.974 L1660.24 342.9 L1657.12 342.9 L1657.12 339.59 L1660.24 339.59 L1660.24 332.229 L1664.53 332.229 Z\" fill=\"#000000\" fill-rule=\"evenodd\" fill-opacity=\"1\" /><path clip-path=\"url(#clip900)\" d=\"M 0 0 M1694.16 330.956 L1716.01 330.956 L1716.01 334.891 L1698.83 334.891 L1698.83 345.122 L1715.29 345.122 L1715.29 349.057 L1698.83 349.057 L1698.83 361.581 L1716.42 361.581 L1716.42 365.516 L1694.16 365.516 L1694.16 330.956 Z\" fill=\"#000000\" fill-rule=\"evenodd\" fill-opacity=\"1\" /><path clip-path=\"url(#clip900)\" d=\"M 0 0 M1735.71 352.483 Q1730.54 352.483 1728.55 353.664 Q1726.56 354.844 1726.56 357.692 Q1726.56 359.96 1728.04 361.303 Q1729.55 362.622 1732.12 362.622 Q1735.66 362.622 1737.79 360.122 Q1739.94 357.599 1739.94 353.432 L1739.94 352.483 L1735.71 352.483 M1744.2 350.724 L1744.2 365.516 L1739.94 365.516 L1739.94 361.581 Q1738.48 363.942 1736.31 365.076 Q1734.13 366.187 1730.98 366.187 Q1727 366.187 1724.64 363.965 Q1722.3 361.719 1722.3 357.969 Q1722.3 353.594 1725.22 351.372 Q1728.16 349.15 1733.97 349.15 L1739.94 349.15 L1739.94 348.733 Q1739.94 345.794 1738 344.196 Q1736.08 342.576 1732.58 342.576 Q1730.36 342.576 1728.25 343.108 Q1726.15 343.641 1724.2 344.706 L1724.2 340.77 Q1726.54 339.868 1728.74 339.428 Q1730.94 338.965 1733.02 338.965 Q1738.65 338.965 1741.42 341.882 Q1744.2 344.798 1744.2 350.724 Z\" fill=\"#000000\" fill-rule=\"evenodd\" fill-opacity=\"1\" /><path clip-path=\"url(#clip900)\" d=\"M 0 0 M1768 343.571 Q1767.28 343.155 1766.42 342.97 Q1765.59 342.761 1764.57 342.761 Q1760.96 342.761 1759.02 345.122 Q1757.1 347.46 1757.1 351.858 L1757.1 365.516 L1752.81 365.516 L1752.81 339.59 L1757.1 339.59 L1757.1 343.618 Q1758.44 341.257 1760.59 340.122 Q1762.74 338.965 1765.82 338.965 Q1766.26 338.965 1766.79 339.034 Q1767.33 339.081 1767.97 339.196 L1768 343.571 Z\" fill=\"#000000\" fill-rule=\"evenodd\" fill-opacity=\"1\" /><path clip-path=\"url(#clip900)\" d=\"M 0 0 M1776.68 332.229 L1776.68 339.59 L1785.45 339.59 L1785.45 342.9 L1776.68 342.9 L1776.68 356.974 Q1776.68 360.145 1777.53 361.048 Q1778.41 361.951 1781.08 361.951 L1785.45 361.951 L1785.45 365.516 L1781.08 365.516 Q1776.15 365.516 1774.27 363.687 Q1772.4 361.835 1772.4 356.974 L1772.4 342.9 L1769.27 342.9 L1769.27 339.59 L1772.4 339.59 L1772.4 332.229 L1776.68 332.229 Z\" fill=\"#000000\" fill-rule=\"evenodd\" fill-opacity=\"1\" /><path clip-path=\"url(#clip900)\" d=\"M 0 0 M1812.6 349.868 L1812.6 365.516 L1808.34 365.516 L1808.34 350.007 Q1808.34 346.326 1806.91 344.497 Q1805.47 342.669 1802.6 342.669 Q1799.16 342.669 1797.16 344.868 Q1795.17 347.067 1795.17 350.863 L1795.17 365.516 L1790.89 365.516 L1790.89 329.497 L1795.17 329.497 L1795.17 343.618 Q1796.7 341.28 1798.76 340.122 Q1800.85 338.965 1803.55 338.965 Q1808.02 338.965 1810.31 341.743 Q1812.6 344.497 1812.6 349.868 Z\" fill=\"#000000\" fill-rule=\"evenodd\" fill-opacity=\"1\" /></svg>\n"
      ]
     },
     "execution_count": 155,
     "metadata": {},
     "output_type": "execute_result"
    }
   ],
   "source": [
    "knots = 100\n",
    "function n_orbits_ref_traj(init_orbit::Orbit,orbits::Int) #knots,Nx,Nu\n",
    "    traj = zeros(knots-1,Nx+Nu)\n",
    "    x = copy(init_orbit.x0)\n",
    "    u = zeros(Nu)\n",
    "    traj[1,:] .= vcat(x,u)\n",
    "    h = init_orbit.period*orbits/(knots)\n",
    "    for i in 2:size(traj)[1]\n",
    "        integrator!(x, u, h)\n",
    "        traj[i,:] .= vcat(x,u)\n",
    "    end\n",
    "    integrator!(x, u, h)\n",
    "    next = vcat(x,u)\n",
    "    print(norm(next[1:Nx] - init_orbit.x0))\n",
    "    @assert norm(next[1:Nx] - init_orbit.x0)<2.1 #max integrator error #decrease orbits or increase knots\n",
    "    traj = reshape(traj',((knots-1)*(Nx+Nu),1))\n",
    "    traj = vcat(traj,init_orbit.x0)\n",
    "    return traj\n",
    "end\n",
    "orbits = 1\n",
    "z = n_orbits_ref_traj(transfer_orbit,orbits)\n",
    "X,U = unpackZ(knots, z)\n",
    "plot(X[1, :], X[2, :], aspect_ratio=:equal, lims=(-semiMajorAxis_goal*1.5,semiMajorAxis_goal*1.5), title = \"Reference Trajectory ($(orbits) orbits)\", label = \"Reference\", lw = 3)\n",
    "xlabel!(\"Orbital Units\")\n",
    "ylabel!(\"Orbital Units\")\n",
    "plot!([goal_orbit.x0[1]], [goal_orbit.x0[2]], markershape=:xcross, markersize=5, label=\"Goal State\")\n",
    "plot!([0], [0], lw=10, markershape=:o, label=\"Planet Earth\")"
   ]
  },
  {
   "cell_type": "code",
   "execution_count": 142,
   "metadata": {},
   "outputs": [
    {
     "data": {
      "text/plain": [
       "0.04"
      ]
     },
     "execution_count": 142,
     "metadata": {},
     "output_type": "execute_result"
    }
   ],
   "source": [
    "n_nlp = (Nx+Nu)*(knots-1)+Nx # number of decision variables\n",
    "idx = get_cinds(Nx, knots)\n",
    "m_nlp = idx[end][end]\n",
    "h = 1/knots*4 #transfer_orbit.period*5/knots"
   ]
  },
  {
   "cell_type": "code",
   "execution_count": 163,
   "metadata": {},
   "outputs": [
    {
     "name": "stdout",
     "output_type": "stream",
     "text": [
      "(36,)(72,)(532890,)(799299,)"
     ]
    },
    {
     "data": {
      "text/plain": [
       "809991-element Vector{Tuple{Any, Any}}:\n",
       " (1, 1)\n",
       " (2, 1)\n",
       " (3, 1)\n",
       " (4, 1)\n",
       " (5, 1)\n",
       " (6, 1)\n",
       " (7, 1)\n",
       " (8, 1)\n",
       " (9, 1)\n",
       " (10, 1)\n",
       " (11, 1)\n",
       " (12, 1)\n",
       " (13, 1)\n",
       " ⋮\n",
       " (892, 897)\n",
       " (893, 897)\n",
       " (894, 897)\n",
       " (895, 897)\n",
       " (896, 897)\n",
       " (897, 897)\n",
       " (898, 897)\n",
       " (899, 897)\n",
       " (900, 897)\n",
       " (901, 897)\n",
       " (902, 897)\n",
       " (903, 897)"
      ]
     },
     "execution_count": 163,
     "metadata": {},
     "output_type": "execute_result"
    }
   ],
   "source": [
    "sj = sparsity_jacobian(n_nlp, m_nlp, knots)\n",
    "sh = sparsity_hessian(n_nlp, m_nlp)\n",
    "\n",
    "# TODO: Visualize results"
   ]
  },
  {
   "cell_type": "code",
   "execution_count": 164,
   "metadata": {},
   "outputs": [
    {
     "data": {
      "text/plain": [
       "(799299,)"
      ]
     },
     "execution_count": 164,
     "metadata": {},
     "output_type": "execute_result"
    }
   ],
   "source": [
    "size(sj)"
   ]
  },
  {
   "cell_type": "code",
   "execution_count": null,
   "metadata": {},
   "outputs": [],
   "source": [
    "prob = ProblemMOI(n_nlp, knots, h, m_nlp=m_nlp, idx_ineq=idx, sparsity_jac=sj, sparsity_hess=sh)\n",
    "z_sol = solve(z,prob) # solve"
   ]
  },
  {
   "cell_type": "code",
   "execution_count": 146,
   "metadata": {},
   "outputs": [
    {
     "data": {
      "image/svg+xml": [
       "<?xml version=\"1.0\" encoding=\"utf-8\"?>\n",
       "<svg xmlns=\"http://www.w3.org/2000/svg\" xmlns:xlink=\"http://www.w3.org/1999/xlink\" width=\"600\" height=\"400\" viewBox=\"0 0 2400 1600\">\n",
       "<defs>\n",
       "  <clipPath id=\"clip780\">\n",
       "    <rect x=\"0\" y=\"0\" width=\"2400\" height=\"1600\"/>\n",
       "  </clipPath>\n",
       "</defs>\n",
       "<path clip-path=\"url(#clip780)\" d=\"\n",
       "M0 1600 L2400 1600 L2400 0 L0 0  Z\n",
       "  \" fill=\"#ffffff\" fill-rule=\"evenodd\" fill-opacity=\"1\"/>\n",
       "<defs>\n",
       "  <clipPath id=\"clip781\">\n",
       "    <rect x=\"480\" y=\"0\" width=\"1681\" height=\"1600\"/>\n",
       "  </clipPath>\n",
       "</defs>\n",
       "<path clip-path=\"url(#clip780)\" d=\"\n",
       "M632.754 1423.18 L1932.46 1423.18 L1932.46 123.472 L632.754 123.472  Z\n",
       "  \" fill=\"#ffffff\" fill-rule=\"evenodd\" fill-opacity=\"1\"/>\n",
       "<defs>\n",
       "  <clipPath id=\"clip782\">\n",
       "    <rect x=\"632\" y=\"123\" width=\"1301\" height=\"1301\"/>\n",
       "  </clipPath>\n",
       "</defs>\n",
       "<polyline clip-path=\"url(#clip782)\" style=\"stroke:#000000; stroke-width:2; stroke-opacity:0.1; fill:none\" points=\"\n",
       "  778.699,1423.18 778.699,123.472 \n",
       "  \"/>\n",
       "<polyline clip-path=\"url(#clip782)\" style=\"stroke:#000000; stroke-width:2; stroke-opacity:0.1; fill:none\" points=\"\n",
       "  1030.65,1423.18 1030.65,123.472 \n",
       "  \"/>\n",
       "<polyline clip-path=\"url(#clip782)\" style=\"stroke:#000000; stroke-width:2; stroke-opacity:0.1; fill:none\" points=\"\n",
       "  1282.61,1423.18 1282.61,123.472 \n",
       "  \"/>\n",
       "<polyline clip-path=\"url(#clip782)\" style=\"stroke:#000000; stroke-width:2; stroke-opacity:0.1; fill:none\" points=\"\n",
       "  1534.56,1423.18 1534.56,123.472 \n",
       "  \"/>\n",
       "<polyline clip-path=\"url(#clip782)\" style=\"stroke:#000000; stroke-width:2; stroke-opacity:0.1; fill:none\" points=\"\n",
       "  1786.52,1423.18 1786.52,123.472 \n",
       "  \"/>\n",
       "<polyline clip-path=\"url(#clip780)\" style=\"stroke:#000000; stroke-width:4; stroke-opacity:1; fill:none\" points=\"\n",
       "  632.754,1423.18 1932.46,1423.18 \n",
       "  \"/>\n",
       "<polyline clip-path=\"url(#clip780)\" style=\"stroke:#000000; stroke-width:4; stroke-opacity:1; fill:none\" points=\"\n",
       "  778.699,1423.18 778.699,1407.58 \n",
       "  \"/>\n",
       "<polyline clip-path=\"url(#clip780)\" style=\"stroke:#000000; stroke-width:4; stroke-opacity:1; fill:none\" points=\"\n",
       "  1030.65,1423.18 1030.65,1407.58 \n",
       "  \"/>\n",
       "<polyline clip-path=\"url(#clip780)\" style=\"stroke:#000000; stroke-width:4; stroke-opacity:1; fill:none\" points=\"\n",
       "  1282.61,1423.18 1282.61,1407.58 \n",
       "  \"/>\n",
       "<polyline clip-path=\"url(#clip780)\" style=\"stroke:#000000; stroke-width:4; stroke-opacity:1; fill:none\" points=\"\n",
       "  1534.56,1423.18 1534.56,1407.58 \n",
       "  \"/>\n",
       "<polyline clip-path=\"url(#clip780)\" style=\"stroke:#000000; stroke-width:4; stroke-opacity:1; fill:none\" points=\"\n",
       "  1786.52,1423.18 1786.52,1407.58 \n",
       "  \"/>\n",
       "<path clip-path=\"url(#clip780)\" d=\"M 0 0 M747.6 1467.02 L777.275 1467.02 L777.275 1470.96 L747.6 1470.96 L747.6 1467.02 Z\" fill=\"#000000\" fill-rule=\"evenodd\" fill-opacity=\"1\" /><path clip-path=\"url(#clip780)\" d=\"M 0 0 M800.215 1453.37 L788.41 1471.81 L800.215 1471.81 L800.215 1453.37 M798.988 1449.29 L804.868 1449.29 L804.868 1471.81 L809.798 1471.81 L809.798 1475.7 L804.868 1475.7 L804.868 1483.85 L800.215 1483.85 L800.215 1475.7 L784.613 1475.7 L784.613 1471.19 L798.988 1449.29 Z\" fill=\"#000000\" fill-rule=\"evenodd\" fill-opacity=\"1\" /><path clip-path=\"url(#clip780)\" d=\"M 0 0 M1000.6 1467.02 L1030.27 1467.02 L1030.27 1470.96 L1000.6 1470.96 L1000.6 1467.02 Z\" fill=\"#000000\" fill-rule=\"evenodd\" fill-opacity=\"1\" /><path clip-path=\"url(#clip780)\" d=\"M 0 0 M1044.39 1479.92 L1060.71 1479.92 L1060.71 1483.85 L1038.77 1483.85 L1038.77 1479.92 Q1041.43 1477.16 1046.01 1472.53 Q1050.62 1467.88 1051.8 1466.54 Q1054.04 1464.01 1054.92 1462.28 Q1055.83 1460.52 1055.83 1458.83 Q1055.83 1456.07 1053.88 1454.34 Q1051.96 1452.6 1048.86 1452.6 Q1046.66 1452.6 1044.21 1453.37 Q1041.78 1454.13 1039 1455.68 L1039 1450.96 Q1041.82 1449.82 1044.28 1449.25 Q1046.73 1448.67 1048.77 1448.67 Q1054.14 1448.67 1057.33 1451.35 Q1060.53 1454.04 1060.53 1458.53 Q1060.53 1460.66 1059.72 1462.58 Q1058.93 1464.48 1056.82 1467.07 Q1056.24 1467.74 1053.14 1470.96 Q1050.04 1474.15 1044.39 1479.92 Z\" fill=\"#000000\" fill-rule=\"evenodd\" fill-opacity=\"1\" /><path clip-path=\"url(#clip780)\" d=\"M 0 0 M1282.61 1452.37 Q1279 1452.37 1277.17 1455.94 Q1275.36 1459.48 1275.36 1466.61 Q1275.36 1473.71 1277.17 1477.28 Q1279 1480.82 1282.61 1480.82 Q1286.24 1480.82 1288.05 1477.28 Q1289.88 1473.71 1289.88 1466.61 Q1289.88 1459.48 1288.05 1455.94 Q1286.24 1452.37 1282.61 1452.37 M1282.61 1448.67 Q1288.42 1448.67 1291.47 1453.27 Q1294.55 1457.86 1294.55 1466.61 Q1294.55 1475.33 1291.47 1479.94 Q1288.42 1484.52 1282.61 1484.52 Q1276.8 1484.52 1273.72 1479.94 Q1270.66 1475.33 1270.66 1466.61 Q1270.66 1457.86 1273.72 1453.27 Q1276.8 1448.67 1282.61 1448.67 Z\" fill=\"#000000\" fill-rule=\"evenodd\" fill-opacity=\"1\" /><path clip-path=\"url(#clip780)\" d=\"M 0 0 M1529.21 1479.92 L1545.53 1479.92 L1545.53 1483.85 L1523.59 1483.85 L1523.59 1479.92 Q1526.25 1477.16 1530.83 1472.53 Q1535.44 1467.88 1536.62 1466.54 Q1538.87 1464.01 1539.75 1462.28 Q1540.65 1460.52 1540.65 1458.83 Q1540.65 1456.07 1538.71 1454.34 Q1536.78 1452.6 1533.68 1452.6 Q1531.48 1452.6 1529.03 1453.37 Q1526.6 1454.13 1523.82 1455.68 L1523.82 1450.96 Q1526.64 1449.82 1529.1 1449.25 Q1531.55 1448.67 1533.59 1448.67 Q1538.96 1448.67 1542.15 1451.35 Q1545.35 1454.04 1545.35 1458.53 Q1545.35 1460.66 1544.54 1462.58 Q1543.75 1464.48 1541.64 1467.07 Q1541.07 1467.74 1537.96 1470.96 Q1534.86 1474.15 1529.21 1479.92 Z\" fill=\"#000000\" fill-rule=\"evenodd\" fill-opacity=\"1\" /><path clip-path=\"url(#clip780)\" d=\"M 0 0 M1789.52 1453.37 L1777.72 1471.81 L1789.52 1471.81 L1789.52 1453.37 M1788.3 1449.29 L1794.18 1449.29 L1794.18 1471.81 L1799.11 1471.81 L1799.11 1475.7 L1794.18 1475.7 L1794.18 1483.85 L1789.52 1483.85 L1789.52 1475.7 L1773.92 1475.7 L1773.92 1471.19 L1788.3 1449.29 Z\" fill=\"#000000\" fill-rule=\"evenodd\" fill-opacity=\"1\" /><path clip-path=\"url(#clip780)\" d=\"M 0 0 M1103.76 1524.88 Q1096.76 1524.88 1092.62 1530.1 Q1088.52 1535.32 1088.52 1544.33 Q1088.52 1553.31 1092.62 1558.53 Q1096.76 1563.75 1103.76 1563.75 Q1110.77 1563.75 1114.84 1558.53 Q1118.95 1553.31 1118.95 1544.33 Q1118.95 1535.32 1114.84 1530.1 Q1110.77 1524.88 1103.76 1524.88 M1103.76 1519.66 Q1113.76 1519.66 1119.74 1526.38 Q1125.72 1533.06 1125.72 1544.33 Q1125.72 1555.57 1119.74 1562.28 Q1113.76 1568.97 1103.76 1568.97 Q1093.74 1568.97 1087.72 1562.28 Q1081.74 1555.6 1081.74 1544.33 Q1081.74 1533.06 1087.72 1526.38 Q1093.74 1519.66 1103.76 1519.66 Z\" fill=\"#000000\" fill-rule=\"evenodd\" fill-opacity=\"1\" /><path clip-path=\"url(#clip780)\" d=\"M 0 0 M1156.18 1537.87 Q1155.2 1537.3 1154.02 1537.04 Q1152.87 1536.76 1151.47 1536.76 Q1146.51 1536.76 1143.83 1540 Q1141.19 1543.22 1141.19 1549.27 L1141.19 1568.04 L1135.3 1568.04 L1135.3 1532.4 L1141.19 1532.4 L1141.19 1537.93 Q1143.04 1534.69 1146 1533.13 Q1148.96 1531.54 1153.19 1531.54 Q1153.8 1531.54 1154.53 1531.63 Q1155.26 1531.7 1156.15 1531.85 L1156.18 1537.87 Z\" fill=\"#000000\" fill-rule=\"evenodd\" fill-opacity=\"1\" /><path clip-path=\"url(#clip780)\" d=\"M 0 0 M1187.92 1550.25 Q1187.92 1543.79 1185.24 1540.13 Q1182.6 1536.44 1177.96 1536.44 Q1173.31 1536.44 1170.63 1540.13 Q1167.99 1543.79 1167.99 1550.25 Q1167.99 1556.71 1170.63 1560.4 Q1173.31 1564.07 1177.96 1564.07 Q1182.6 1564.07 1185.24 1560.4 Q1187.92 1556.71 1187.92 1550.25 M1167.99 1537.81 Q1169.84 1534.62 1172.64 1533.1 Q1175.47 1531.54 1179.39 1531.54 Q1185.88 1531.54 1189.92 1536.69 Q1194 1541.85 1194 1550.25 Q1194 1558.65 1189.92 1563.81 Q1185.88 1568.97 1179.39 1568.97 Q1175.47 1568.97 1172.64 1567.44 Q1169.84 1565.88 1167.99 1562.7 L1167.99 1568.04 L1162.1 1568.04 L1162.1 1518.52 L1167.99 1518.52 L1167.99 1537.81 Z\" fill=\"#000000\" fill-rule=\"evenodd\" fill-opacity=\"1\" /><path clip-path=\"url(#clip780)\" d=\"M 0 0 M1203.7 1532.4 L1209.56 1532.4 L1209.56 1568.04 L1203.7 1568.04 L1203.7 1532.4 M1203.7 1518.52 L1209.56 1518.52 L1209.56 1525.93 L1203.7 1525.93 L1203.7 1518.52 Z\" fill=\"#000000\" fill-rule=\"evenodd\" fill-opacity=\"1\" /><path clip-path=\"url(#clip780)\" d=\"M 0 0 M1227.61 1522.27 L1227.61 1532.4 L1239.67 1532.4 L1239.67 1536.95 L1227.61 1536.95 L1227.61 1556.3 Q1227.61 1560.66 1228.79 1561.9 Q1229.99 1563.14 1233.66 1563.14 L1239.67 1563.14 L1239.67 1568.04 L1233.66 1568.04 Q1226.88 1568.04 1224.3 1565.53 Q1221.72 1562.98 1221.72 1556.3 L1221.72 1536.95 L1217.42 1536.95 L1217.42 1532.4 L1221.72 1532.4 L1221.72 1522.27 L1227.61 1522.27 Z\" fill=\"#000000\" fill-rule=\"evenodd\" fill-opacity=\"1\" /><path clip-path=\"url(#clip780)\" d=\"M 0 0 M1263.57 1550.12 Q1256.48 1550.12 1253.74 1551.75 Q1251 1553.37 1251 1557.29 Q1251 1560.4 1253.04 1562.25 Q1255.11 1564.07 1258.64 1564.07 Q1263.51 1564.07 1266.44 1560.63 Q1269.4 1557.16 1269.4 1551.43 L1269.4 1550.12 L1263.57 1550.12 M1275.26 1547.71 L1275.26 1568.04 L1269.4 1568.04 L1269.4 1562.63 Q1267.39 1565.88 1264.4 1567.44 Q1261.41 1568.97 1257.08 1568.97 Q1251.61 1568.97 1248.36 1565.91 Q1245.15 1562.82 1245.15 1557.67 Q1245.15 1551.65 1249.16 1548.6 Q1253.2 1545.54 1261.19 1545.54 L1269.4 1545.54 L1269.4 1544.97 Q1269.4 1540.93 1266.72 1538.73 Q1264.08 1536.5 1259.28 1536.5 Q1256.22 1536.5 1253.33 1537.23 Q1250.43 1537.97 1247.76 1539.43 L1247.76 1534.02 Q1250.97 1532.78 1253.99 1532.17 Q1257.02 1531.54 1259.88 1531.54 Q1267.62 1531.54 1271.44 1535.55 Q1275.26 1539.56 1275.26 1547.71 Z\" fill=\"#000000\" fill-rule=\"evenodd\" fill-opacity=\"1\" /><path clip-path=\"url(#clip780)\" d=\"M 0 0 M1287.32 1518.52 L1293.17 1518.52 L1293.17 1568.04 L1287.32 1568.04 L1287.32 1518.52 Z\" fill=\"#000000\" fill-rule=\"evenodd\" fill-opacity=\"1\" /><path clip-path=\"url(#clip780)\" d=\"M 0 0 M1325.67 1520.52 L1332.13 1520.52 L1332.13 1549.39 Q1332.13 1557.03 1334.9 1560.4 Q1337.67 1563.75 1343.88 1563.75 Q1350.05 1563.75 1352.82 1560.4 Q1355.59 1557.03 1355.59 1549.39 L1355.59 1520.52 L1362.05 1520.52 L1362.05 1550.19 Q1362.05 1559.48 1357.44 1564.22 Q1352.85 1568.97 1343.88 1568.97 Q1334.87 1568.97 1330.25 1564.22 Q1325.67 1559.48 1325.67 1550.19 L1325.67 1520.52 Z\" fill=\"#000000\" fill-rule=\"evenodd\" fill-opacity=\"1\" /><path clip-path=\"url(#clip780)\" d=\"M 0 0 M1403.49 1546.53 L1403.49 1568.04 L1397.64 1568.04 L1397.64 1546.72 Q1397.64 1541.66 1395.66 1539.14 Q1393.69 1536.63 1389.74 1536.63 Q1385 1536.63 1382.26 1539.65 Q1379.53 1542.68 1379.53 1547.9 L1379.53 1568.04 L1373.64 1568.04 L1373.64 1532.4 L1379.53 1532.4 L1379.53 1537.93 Q1381.63 1534.72 1384.46 1533.13 Q1387.32 1531.54 1391.05 1531.54 Q1397.19 1531.54 1400.34 1535.36 Q1403.49 1539.14 1403.49 1546.53 Z\" fill=\"#000000\" fill-rule=\"evenodd\" fill-opacity=\"1\" /><path clip-path=\"url(#clip780)\" d=\"M 0 0 M1415.17 1532.4 L1421.03 1532.4 L1421.03 1568.04 L1415.17 1568.04 L1415.17 1532.4 M1415.17 1518.52 L1421.03 1518.52 L1421.03 1525.93 L1415.17 1525.93 L1415.17 1518.52 Z\" fill=\"#000000\" fill-rule=\"evenodd\" fill-opacity=\"1\" /><path clip-path=\"url(#clip780)\" d=\"M 0 0 M1439.08 1522.27 L1439.08 1532.4 L1451.14 1532.4 L1451.14 1536.95 L1439.08 1536.95 L1439.08 1556.3 Q1439.08 1560.66 1440.25 1561.9 Q1441.46 1563.14 1445.12 1563.14 L1451.14 1563.14 L1451.14 1568.04 L1445.12 1568.04 Q1438.34 1568.04 1435.77 1565.53 Q1433.19 1562.98 1433.19 1556.3 L1433.19 1536.95 L1428.89 1536.95 L1428.89 1532.4 L1433.19 1532.4 L1433.19 1522.27 L1439.08 1522.27 Z\" fill=\"#000000\" fill-rule=\"evenodd\" fill-opacity=\"1\" /><path clip-path=\"url(#clip780)\" d=\"M 0 0 M1481.57 1533.45 L1481.57 1538.98 Q1479.08 1537.71 1476.41 1537.07 Q1473.74 1536.44 1470.87 1536.44 Q1466.51 1536.44 1464.32 1537.77 Q1462.15 1539.11 1462.15 1541.79 Q1462.15 1543.82 1463.71 1545 Q1465.27 1546.15 1469.98 1547.2 L1471.99 1547.64 Q1478.23 1548.98 1480.84 1551.43 Q1483.48 1553.85 1483.48 1558.21 Q1483.48 1563.17 1479.53 1566.07 Q1475.62 1568.97 1468.74 1568.97 Q1465.88 1568.97 1462.76 1568.39 Q1459.67 1567.85 1456.23 1566.74 L1456.23 1560.69 Q1459.48 1562.38 1462.63 1563.24 Q1465.78 1564.07 1468.87 1564.07 Q1473.01 1564.07 1475.23 1562.66 Q1477.46 1561.23 1477.46 1558.65 Q1477.46 1556.27 1475.84 1554.99 Q1474.25 1553.72 1468.8 1552.54 L1466.77 1552.07 Q1461.32 1550.92 1458.91 1548.56 Q1456.49 1546.18 1456.49 1542.04 Q1456.49 1537.01 1460.05 1534.27 Q1463.62 1531.54 1470.17 1531.54 Q1473.42 1531.54 1476.28 1532.01 Q1479.15 1532.49 1481.57 1533.45 Z\" fill=\"#000000\" fill-rule=\"evenodd\" fill-opacity=\"1\" /><polyline clip-path=\"url(#clip782)\" style=\"stroke:#000000; stroke-width:2; stroke-opacity:0.1; fill:none\" points=\"\n",
       "  632.754,1277.23 1932.46,1277.23 \n",
       "  \"/>\n",
       "<polyline clip-path=\"url(#clip782)\" style=\"stroke:#000000; stroke-width:2; stroke-opacity:0.1; fill:none\" points=\"\n",
       "  632.754,1025.28 1932.46,1025.28 \n",
       "  \"/>\n",
       "<polyline clip-path=\"url(#clip782)\" style=\"stroke:#000000; stroke-width:2; stroke-opacity:0.1; fill:none\" points=\"\n",
       "  632.754,773.326 1932.46,773.326 \n",
       "  \"/>\n",
       "<polyline clip-path=\"url(#clip782)\" style=\"stroke:#000000; stroke-width:2; stroke-opacity:0.1; fill:none\" points=\"\n",
       "  632.754,521.372 1932.46,521.372 \n",
       "  \"/>\n",
       "<polyline clip-path=\"url(#clip782)\" style=\"stroke:#000000; stroke-width:2; stroke-opacity:0.1; fill:none\" points=\"\n",
       "  632.754,269.418 1932.46,269.418 \n",
       "  \"/>\n",
       "<polyline clip-path=\"url(#clip780)\" style=\"stroke:#000000; stroke-width:4; stroke-opacity:1; fill:none\" points=\"\n",
       "  632.754,1423.18 632.754,123.472 \n",
       "  \"/>\n",
       "<polyline clip-path=\"url(#clip780)\" style=\"stroke:#000000; stroke-width:4; stroke-opacity:1; fill:none\" points=\"\n",
       "  632.754,1277.23 648.35,1277.23 \n",
       "  \"/>\n",
       "<polyline clip-path=\"url(#clip780)\" style=\"stroke:#000000; stroke-width:4; stroke-opacity:1; fill:none\" points=\"\n",
       "  632.754,1025.28 648.35,1025.28 \n",
       "  \"/>\n",
       "<polyline clip-path=\"url(#clip780)\" style=\"stroke:#000000; stroke-width:4; stroke-opacity:1; fill:none\" points=\"\n",
       "  632.754,773.326 648.35,773.326 \n",
       "  \"/>\n",
       "<polyline clip-path=\"url(#clip780)\" style=\"stroke:#000000; stroke-width:4; stroke-opacity:1; fill:none\" points=\"\n",
       "  632.754,521.372 648.35,521.372 \n",
       "  \"/>\n",
       "<polyline clip-path=\"url(#clip780)\" style=\"stroke:#000000; stroke-width:4; stroke-opacity:1; fill:none\" points=\"\n",
       "  632.754,269.418 648.35,269.418 \n",
       "  \"/>\n",
       "<path clip-path=\"url(#clip780)\" d=\"M 0 0 M534.555 1277.69 L564.231 1277.69 L564.231 1281.62 L534.555 1281.62 L534.555 1277.69 Z\" fill=\"#000000\" fill-rule=\"evenodd\" fill-opacity=\"1\" /><path clip-path=\"url(#clip780)\" d=\"M 0 0 M587.17 1264.03 L575.365 1282.48 L587.17 1282.48 L587.17 1264.03 M585.943 1259.95 L591.823 1259.95 L591.823 1282.48 L596.754 1282.48 L596.754 1286.37 L591.823 1286.37 L591.823 1294.51 L587.17 1294.51 L587.17 1286.37 L571.568 1286.37 L571.568 1281.85 L585.943 1259.95 Z\" fill=\"#000000\" fill-rule=\"evenodd\" fill-opacity=\"1\" /><path clip-path=\"url(#clip780)\" d=\"M 0 0 M536.638 1025.73 L566.314 1025.73 L566.314 1029.67 L536.638 1029.67 L536.638 1025.73 Z\" fill=\"#000000\" fill-rule=\"evenodd\" fill-opacity=\"1\" /><path clip-path=\"url(#clip780)\" d=\"M 0 0 M580.434 1038.62 L596.754 1038.62 L596.754 1042.56 L574.809 1042.56 L574.809 1038.62 Q577.471 1035.87 582.055 1031.24 Q586.661 1026.59 587.842 1025.25 Q590.087 1022.72 590.967 1020.99 Q591.869 1019.23 591.869 1017.54 Q591.869 1014.78 589.925 1013.05 Q588.004 1011.31 584.902 1011.31 Q582.703 1011.31 580.249 1012.07 Q577.818 1012.84 575.041 1014.39 L575.041 1009.67 Q577.865 1008.53 580.318 1007.95 Q582.772 1007.38 584.809 1007.38 Q590.18 1007.38 593.374 1010.06 Q596.568 1012.75 596.568 1017.24 Q596.568 1019.37 595.758 1021.29 Q594.971 1023.19 592.865 1025.78 Q592.286 1026.45 589.184 1029.67 Q586.082 1032.86 580.434 1038.62 Z\" fill=\"#000000\" fill-rule=\"evenodd\" fill-opacity=\"1\" /><path clip-path=\"url(#clip780)\" d=\"M 0 0 M584.809 759.125 Q581.198 759.125 579.369 762.689 Q577.564 766.231 577.564 773.361 Q577.564 780.467 579.369 784.032 Q581.198 787.574 584.809 787.574 Q588.443 787.574 590.249 784.032 Q592.078 780.467 592.078 773.361 Q592.078 766.231 590.249 762.689 Q588.443 759.125 584.809 759.125 M584.809 755.421 Q590.619 755.421 593.675 760.027 Q596.754 764.611 596.754 773.361 Q596.754 782.088 593.675 786.694 Q590.619 791.277 584.809 791.277 Q578.999 791.277 575.92 786.694 Q572.865 782.088 572.865 773.361 Q572.865 764.611 575.92 760.027 Q578.999 755.421 584.809 755.421 Z\" fill=\"#000000\" fill-rule=\"evenodd\" fill-opacity=\"1\" /><path clip-path=\"url(#clip780)\" d=\"M 0 0 M580.434 534.717 L596.754 534.717 L596.754 538.652 L574.809 538.652 L574.809 534.717 Q577.471 531.962 582.055 527.332 Q586.661 522.68 587.842 521.337 Q590.087 518.814 590.967 517.078 Q591.869 515.319 591.869 513.629 Q591.869 510.874 589.925 509.138 Q588.004 507.402 584.902 507.402 Q582.703 507.402 580.249 508.166 Q577.818 508.93 575.041 510.481 L575.041 505.758 Q577.865 504.624 580.318 504.046 Q582.772 503.467 584.809 503.467 Q590.18 503.467 593.374 506.152 Q596.568 508.837 596.568 513.328 Q596.568 515.457 595.758 517.379 Q594.971 519.277 592.865 521.869 Q592.286 522.541 589.184 525.758 Q586.082 528.953 580.434 534.717 Z\" fill=\"#000000\" fill-rule=\"evenodd\" fill-opacity=\"1\" /><path clip-path=\"url(#clip780)\" d=\"M 0 0 M587.17 256.212 L575.365 274.661 L587.17 274.661 L587.17 256.212 M585.943 252.138 L591.823 252.138 L591.823 274.661 L596.754 274.661 L596.754 278.55 L591.823 278.55 L591.823 286.698 L587.17 286.698 L587.17 278.55 L571.568 278.55 L571.568 274.036 L585.943 252.138 Z\" fill=\"#000000\" fill-rule=\"evenodd\" fill-opacity=\"1\" /><path clip-path=\"url(#clip780)\" d=\"M 0 0 M441.139 952.171 Q441.139 959.173 446.359 963.31 Q451.579 967.416 460.587 967.416 Q469.562 967.416 474.782 963.31 Q480.002 959.173 480.002 952.171 Q480.002 945.168 474.782 941.094 Q469.562 936.988 460.587 936.988 Q451.579 936.988 446.359 941.094 Q441.139 945.168 441.139 952.171 M435.919 952.171 Q435.919 942.176 442.635 936.193 Q449.319 930.209 460.587 930.209 Q471.822 930.209 478.538 936.193 Q485.222 942.176 485.222 952.171 Q485.222 962.196 478.538 968.212 Q471.854 974.196 460.587 974.196 Q449.319 974.196 442.635 968.212 Q435.919 962.196 435.919 952.171 Z\" fill=\"#000000\" fill-rule=\"evenodd\" fill-opacity=\"1\" /><path clip-path=\"url(#clip780)\" d=\"M 0 0 M454.125 899.749 Q453.552 900.736 453.298 901.913 Q453.011 903.059 453.011 904.46 Q453.011 909.425 456.258 912.098 Q459.473 914.74 465.52 914.74 L484.299 914.74 L484.299 920.628 L448.651 920.628 L448.651 914.74 L454.189 914.74 Q450.943 912.894 449.383 909.934 Q447.791 906.974 447.791 902.741 Q447.791 902.136 447.887 901.404 Q447.951 900.672 448.11 899.781 L454.125 899.749 Z\" fill=\"#000000\" fill-rule=\"evenodd\" fill-opacity=\"1\" /><path clip-path=\"url(#clip780)\" d=\"M 0 0 M466.507 868.016 Q460.045 868.016 456.385 870.689 Q452.693 873.331 452.693 877.978 Q452.693 882.625 456.385 885.299 Q460.045 887.941 466.507 887.941 Q472.968 887.941 476.66 885.299 Q480.32 882.625 480.32 877.978 Q480.32 873.331 476.66 870.689 Q472.968 868.016 466.507 868.016 M454.062 887.941 Q450.879 886.094 449.351 883.294 Q447.791 880.461 447.791 876.546 Q447.791 870.053 452.948 866.011 Q458.104 861.937 466.507 861.937 Q474.909 861.937 480.066 866.011 Q485.222 870.053 485.222 876.546 Q485.222 880.461 483.694 883.294 Q482.134 886.094 478.952 887.941 L484.299 887.941 L484.299 893.829 L434.774 893.829 L434.774 887.941 L454.062 887.941 Z\" fill=\"#000000\" fill-rule=\"evenodd\" fill-opacity=\"1\" /><path clip-path=\"url(#clip780)\" d=\"M 0 0 M448.651 852.229 L448.651 846.372 L484.299 846.372 L484.299 852.229 L448.651 852.229 M434.774 852.229 L434.774 846.372 L442.19 846.372 L442.19 852.229 L434.774 852.229 Z\" fill=\"#000000\" fill-rule=\"evenodd\" fill-opacity=\"1\" /><path clip-path=\"url(#clip780)\" d=\"M 0 0 M438.529 828.326 L448.651 828.326 L448.651 816.263 L453.202 816.263 L453.202 828.326 L472.554 828.326 Q476.915 828.326 478.156 827.148 Q479.397 825.939 479.397 822.278 L479.397 816.263 L484.299 816.263 L484.299 822.278 Q484.299 829.058 481.784 831.636 Q479.238 834.214 472.554 834.214 L453.202 834.214 L453.202 838.511 L448.651 838.511 L448.651 834.214 L438.529 834.214 L438.529 828.326 Z\" fill=\"#000000\" fill-rule=\"evenodd\" fill-opacity=\"1\" /><path clip-path=\"url(#clip780)\" d=\"M 0 0 M466.379 792.359 Q466.379 799.457 468.003 802.194 Q469.626 804.932 473.541 804.932 Q476.66 804.932 478.506 802.895 Q480.32 800.826 480.32 797.293 Q480.32 792.423 476.883 789.495 Q473.413 786.535 467.684 786.535 L466.379 786.535 L466.379 792.359 M463.96 780.678 L484.299 780.678 L484.299 786.535 L478.888 786.535 Q482.134 788.54 483.694 791.532 Q485.222 794.524 485.222 798.852 Q485.222 804.327 482.166 807.573 Q479.079 810.788 473.923 810.788 Q467.907 810.788 464.852 806.778 Q461.796 802.736 461.796 794.747 L461.796 786.535 L461.223 786.535 Q457.181 786.535 454.985 789.208 Q452.757 791.85 452.757 796.656 Q452.757 799.712 453.489 802.608 Q454.221 805.505 455.685 808.178 L450.274 808.178 Q449.033 804.964 448.428 801.94 Q447.791 798.916 447.791 796.052 Q447.791 788.317 451.802 784.498 Q455.812 780.678 463.96 780.678 Z\" fill=\"#000000\" fill-rule=\"evenodd\" fill-opacity=\"1\" /><path clip-path=\"url(#clip780)\" d=\"M 0 0 M434.774 768.615 L434.774 762.759 L484.299 762.759 L484.299 768.615 L434.774 768.615 Z\" fill=\"#000000\" fill-rule=\"evenodd\" fill-opacity=\"1\" /><path clip-path=\"url(#clip780)\" d=\"M 0 0 M436.779 730.262 L436.779 723.801 L465.647 723.801 Q473.286 723.801 476.66 721.032 Q480.002 718.263 480.002 712.056 Q480.002 705.881 476.66 703.112 Q473.286 700.343 465.647 700.343 L436.779 700.343 L436.779 693.882 L466.443 693.882 Q475.737 693.882 480.479 698.497 Q485.222 703.08 485.222 712.056 Q485.222 721.064 480.479 725.679 Q475.737 730.262 466.443 730.262 L436.779 730.262 Z\" fill=\"#000000\" fill-rule=\"evenodd\" fill-opacity=\"1\" /><path clip-path=\"url(#clip780)\" d=\"M 0 0 M462.783 652.441 L484.299 652.441 L484.299 658.298 L462.974 658.298 Q457.913 658.298 455.398 660.271 Q452.884 662.244 452.884 666.191 Q452.884 670.934 455.908 673.671 Q458.931 676.408 464.151 676.408 L484.299 676.408 L484.299 682.296 L448.651 682.296 L448.651 676.408 L454.189 676.408 Q450.974 674.307 449.383 671.475 Q447.791 668.61 447.791 664.886 Q447.791 658.743 451.611 655.592 Q455.398 652.441 462.783 652.441 Z\" fill=\"#000000\" fill-rule=\"evenodd\" fill-opacity=\"1\" /><path clip-path=\"url(#clip780)\" d=\"M 0 0 M448.651 640.76 L448.651 634.904 L484.299 634.904 L484.299 640.76 L448.651 640.76 M434.774 640.76 L434.774 634.904 L442.19 634.904 L442.19 640.76 L434.774 640.76 Z\" fill=\"#000000\" fill-rule=\"evenodd\" fill-opacity=\"1\" /><path clip-path=\"url(#clip780)\" d=\"M 0 0 M438.529 616.857 L448.651 616.857 L448.651 604.794 L453.202 604.794 L453.202 616.857 L472.554 616.857 Q476.915 616.857 478.156 615.679 Q479.397 614.47 479.397 610.809 L479.397 604.794 L484.299 604.794 L484.299 610.809 Q484.299 617.589 481.784 620.167 Q479.238 622.745 472.554 622.745 L453.202 622.745 L453.202 627.042 L448.651 627.042 L448.651 622.745 L438.529 622.745 L438.529 616.857 Z\" fill=\"#000000\" fill-rule=\"evenodd\" fill-opacity=\"1\" /><path clip-path=\"url(#clip780)\" d=\"M 0 0 M449.701 574.366 L455.239 574.366 Q453.966 576.848 453.33 579.522 Q452.693 582.196 452.693 585.06 Q452.693 589.421 454.03 591.617 Q455.367 593.781 458.04 593.781 Q460.077 593.781 461.255 592.222 Q462.401 590.662 463.451 585.951 L463.897 583.946 Q465.234 577.708 467.684 575.098 Q470.103 572.456 474.464 572.456 Q479.429 572.456 482.325 576.403 Q485.222 580.318 485.222 587.193 Q485.222 590.057 484.649 593.176 Q484.108 596.264 482.994 599.701 L476.946 599.701 Q478.633 596.455 479.493 593.304 Q480.32 590.153 480.32 587.065 Q480.32 582.928 478.92 580.7 Q477.487 578.472 474.909 578.472 Q472.522 578.472 471.249 580.095 Q469.976 581.686 468.798 587.129 L468.321 589.166 Q467.175 594.609 464.82 597.028 Q462.433 599.447 458.295 599.447 Q453.266 599.447 450.529 595.882 Q447.791 592.317 447.791 585.76 Q447.791 582.514 448.269 579.649 Q448.746 576.785 449.701 574.366 Z\" fill=\"#000000\" fill-rule=\"evenodd\" fill-opacity=\"1\" /><path clip-path=\"url(#clip780)\" d=\"M 0 0 M752.992 17.6457 Q744.08 17.6457 738.814 24.2892 Q733.588 30.9327 733.588 42.3968 Q733.588 53.8203 738.814 60.4638 Q744.08 67.1073 752.992 67.1073 Q761.904 67.1073 767.089 60.4638 Q772.315 53.8203 772.315 42.3968 Q772.315 30.9327 767.089 24.2892 Q761.904 17.6457 752.992 17.6457 M752.992 11.0023 Q765.712 11.0023 773.328 19.5497 Q780.943 28.0566 780.943 42.3968 Q780.943 56.6965 773.328 65.2439 Q765.712 73.7508 752.992 73.7508 Q740.232 73.7508 732.576 65.2439 Q724.96 56.737 724.96 42.3968 Q724.96 28.0566 732.576 19.5497 Q740.232 11.0023 752.992 11.0023 Z\" fill=\"#000000\" fill-rule=\"evenodd\" fill-opacity=\"1\" /><path clip-path=\"url(#clip780)\" d=\"M 0 0 M800.631 65.7705 L800.631 89.8329 L793.137 89.8329 L793.137 27.2059 L800.631 27.2059 L800.631 34.0924 Q802.98 30.0415 806.545 28.0971 Q810.15 26.1121 815.133 26.1121 Q823.397 26.1121 828.542 32.6746 Q833.727 39.2371 833.727 49.9314 Q833.727 60.6258 828.542 67.1883 Q823.397 73.7508 815.133 73.7508 Q810.15 73.7508 806.545 71.8063 Q802.98 69.8214 800.631 65.7705 M825.989 49.9314 Q825.989 41.7081 822.587 37.0496 Q819.224 32.3505 813.31 32.3505 Q807.396 32.3505 803.993 37.0496 Q800.631 41.7081 800.631 49.9314 Q800.631 58.1548 803.993 62.8538 Q807.396 67.5124 813.31 67.5124 Q819.224 67.5124 822.587 62.8538 Q825.989 58.1548 825.989 49.9314 Z\" fill=\"#000000\" fill-rule=\"evenodd\" fill-opacity=\"1\" /><path clip-path=\"url(#clip780)\" d=\"M 0 0 M853.455 14.324 L853.455 27.2059 L868.808 27.2059 L868.808 32.9987 L853.455 32.9987 L853.455 57.6282 Q853.455 63.1779 854.953 64.7578 Q856.493 66.3376 861.151 66.3376 L868.808 66.3376 L868.808 72.576 L861.151 72.576 Q852.523 72.576 849.242 69.3758 Q845.96 66.1351 845.96 57.6282 L845.96 32.9987 L840.492 32.9987 L840.492 27.2059 L845.96 27.2059 L845.96 14.324 L853.455 14.324 Z\" fill=\"#000000\" fill-rule=\"evenodd\" fill-opacity=\"1\" /><path clip-path=\"url(#clip780)\" d=\"M 0 0 M878.611 27.2059 L886.064 27.2059 L886.064 72.576 L878.611 72.576 L878.611 27.2059 M878.611 9.54393 L886.064 9.54393 L886.064 18.9825 L878.611 18.9825 L878.611 9.54393 Z\" fill=\"#000000\" fill-rule=\"evenodd\" fill-opacity=\"1\" /><path clip-path=\"url(#clip780)\" d=\"M 0 0 M936.984 35.9153 Q939.779 30.8922 943.668 28.5022 Q947.557 26.1121 952.823 26.1121 Q959.912 26.1121 963.761 31.0947 Q967.609 36.0368 967.609 45.1919 L967.609 72.576 L960.115 72.576 L960.115 45.4349 Q960.115 38.913 957.806 35.7533 Q955.497 32.5936 950.757 32.5936 Q944.965 32.5936 941.602 36.4419 Q938.24 40.2903 938.24 46.9338 L938.24 72.576 L930.746 72.576 L930.746 45.4349 Q930.746 38.8725 928.437 35.7533 Q926.128 32.5936 921.307 32.5936 Q915.595 32.5936 912.233 36.4824 Q908.871 40.3308 908.871 46.9338 L908.871 72.576 L901.377 72.576 L901.377 27.2059 L908.871 27.2059 L908.871 34.2544 Q911.423 30.082 914.988 28.0971 Q918.553 26.1121 923.454 26.1121 Q928.396 26.1121 931.84 28.6237 Q935.323 31.1352 936.984 35.9153 Z\" fill=\"#000000\" fill-rule=\"evenodd\" fill-opacity=\"1\" /><path clip-path=\"url(#clip780)\" d=\"M 0 0 M1003.1 49.7694 Q994.061 49.7694 990.578 51.8354 Q987.094 53.9013 987.094 58.8839 Q987.094 62.8538 989.687 65.2034 Q992.32 67.5124 996.816 67.5124 Q1003.01 67.5124 1006.74 63.1374 Q1010.51 58.7219 1010.51 51.4303 L1010.51 49.7694 L1003.1 49.7694 M1017.96 46.6907 L1017.96 72.576 L1010.51 72.576 L1010.51 65.6895 Q1007.96 69.8214 1004.15 71.8063 Q1000.34 73.7508 994.831 73.7508 Q987.864 73.7508 983.732 69.8619 Q979.64 65.9325 979.64 59.3701 Q979.64 51.7138 984.744 47.825 Q989.889 43.9361 1000.06 43.9361 L1010.51 43.9361 L1010.51 43.2069 Q1010.51 38.0623 1007.11 35.2672 Q1003.74 32.4315 997.626 32.4315 Q993.737 32.4315 990.051 33.3632 Q986.365 34.295 982.962 36.1584 L982.962 29.2718 Q987.053 27.692 990.902 26.9223 Q994.75 26.1121 998.396 26.1121 Q1008.24 26.1121 1013.1 31.2163 Q1017.96 36.3204 1017.96 46.6907 Z\" fill=\"#000000\" fill-rule=\"evenodd\" fill-opacity=\"1\" /><path clip-path=\"url(#clip780)\" d=\"M 0 0 M1033.31 9.54393 L1040.77 9.54393 L1040.77 72.576 L1033.31 72.576 L1033.31 9.54393 Z\" fill=\"#000000\" fill-rule=\"evenodd\" fill-opacity=\"1\" /><path clip-path=\"url(#clip780)\" d=\"M 0 0 M1119.32 14.0809 L1119.32 22.0612 Q1114.66 19.8332 1110.52 18.7395 Q1106.39 17.6457 1102.54 17.6457 Q1095.86 17.6457 1092.21 20.2383 Q1088.61 22.8309 1088.61 27.611 Q1088.61 31.6214 1091 33.6873 Q1093.43 35.7128 1100.15 36.9686 L1105.1 37.9813 Q1114.25 39.7232 1118.59 44.1387 Q1122.96 48.5136 1122.96 55.8863 Q1122.96 64.6767 1117.05 69.2137 Q1111.17 73.7508 1099.79 73.7508 Q1095.5 73.7508 1090.64 72.7785 Q1085.81 71.8063 1080.63 69.9024 L1080.63 61.4765 Q1085.61 64.2716 1090.39 65.6895 Q1095.17 67.1073 1099.79 67.1073 Q1106.8 67.1073 1110.61 64.3527 Q1114.41 61.598 1114.41 56.4939 Q1114.41 52.0379 1111.66 49.5264 Q1108.95 47.0148 1102.71 45.759 L1097.72 44.7868 Q1088.57 42.9639 1084.48 39.075 Q1080.39 35.1862 1080.39 28.2591 Q1080.39 20.2383 1086.02 15.6203 Q1091.69 11.0023 1101.61 11.0023 Q1105.87 11.0023 1110.28 11.7719 Q1114.7 12.5416 1119.32 14.0809 Z\" fill=\"#000000\" fill-rule=\"evenodd\" fill-opacity=\"1\" /><path clip-path=\"url(#clip780)\" d=\"M 0 0 M1152.98 32.4315 Q1146.98 32.4315 1143.5 37.1306 Q1140.02 41.7891 1140.02 49.9314 Q1140.02 58.0738 1143.46 62.7728 Q1146.94 67.4314 1152.98 67.4314 Q1158.93 67.4314 1162.42 62.7323 Q1165.9 58.0333 1165.9 49.9314 Q1165.9 41.8701 1162.42 37.1711 Q1158.93 32.4315 1152.98 32.4315 M1152.98 26.1121 Q1162.7 26.1121 1168.25 32.4315 Q1173.8 38.7509 1173.8 49.9314 Q1173.8 61.0714 1168.25 67.4314 Q1162.7 73.7508 1152.98 73.7508 Q1143.22 73.7508 1137.67 67.4314 Q1132.16 61.0714 1132.16 49.9314 Q1132.16 38.7509 1137.67 32.4315 Q1143.22 26.1121 1152.98 26.1121 Z\" fill=\"#000000\" fill-rule=\"evenodd\" fill-opacity=\"1\" /><path clip-path=\"url(#clip780)\" d=\"M 0 0 M1186.16 9.54393 L1193.61 9.54393 L1193.61 72.576 L1186.16 72.576 L1186.16 9.54393 Z\" fill=\"#000000\" fill-rule=\"evenodd\" fill-opacity=\"1\" /><path clip-path=\"url(#clip780)\" d=\"M 0 0 M1208.44 54.671 L1208.44 27.2059 L1215.89 27.2059 L1215.89 54.3874 Q1215.89 60.8284 1218.4 64.0691 Q1220.91 67.2693 1225.94 67.2693 Q1231.97 67.2693 1235.45 63.421 Q1238.98 59.5726 1238.98 52.9291 L1238.98 27.2059 L1246.43 27.2059 L1246.43 72.576 L1238.98 72.576 L1238.98 65.6084 Q1236.27 69.7404 1232.66 71.7658 Q1229.09 73.7508 1224.36 73.7508 Q1216.54 73.7508 1212.49 68.8897 Q1208.44 64.0286 1208.44 54.671 M1227.19 26.1121 L1227.19 26.1121 Z\" fill=\"#000000\" fill-rule=\"evenodd\" fill-opacity=\"1\" /><path clip-path=\"url(#clip780)\" d=\"M 0 0 M1269.16 14.324 L1269.16 27.2059 L1284.51 27.2059 L1284.51 32.9987 L1269.16 32.9987 L1269.16 57.6282 Q1269.16 63.1779 1270.66 64.7578 Q1272.2 66.3376 1276.86 66.3376 L1284.51 66.3376 L1284.51 72.576 L1276.86 72.576 Q1268.23 72.576 1264.95 69.3758 Q1261.66 66.1351 1261.66 57.6282 L1261.66 32.9987 L1256.2 32.9987 L1256.2 27.2059 L1261.66 27.2059 L1261.66 14.324 L1269.16 14.324 Z\" fill=\"#000000\" fill-rule=\"evenodd\" fill-opacity=\"1\" /><path clip-path=\"url(#clip780)\" d=\"M 0 0 M1294.31 27.2059 L1301.77 27.2059 L1301.77 72.576 L1294.31 72.576 L1294.31 27.2059 M1294.31 9.54393 L1301.77 9.54393 L1301.77 18.9825 L1294.31 18.9825 L1294.31 9.54393 Z\" fill=\"#000000\" fill-rule=\"evenodd\" fill-opacity=\"1\" /><path clip-path=\"url(#clip780)\" d=\"M 0 0 M1334.95 32.4315 Q1328.95 32.4315 1325.47 37.1306 Q1321.98 41.7891 1321.98 49.9314 Q1321.98 58.0738 1325.43 62.7728 Q1328.91 67.4314 1334.95 67.4314 Q1340.9 67.4314 1344.38 62.7323 Q1347.87 58.0333 1347.87 49.9314 Q1347.87 41.8701 1344.38 37.1711 Q1340.9 32.4315 1334.95 32.4315 M1334.95 26.1121 Q1344.67 26.1121 1350.22 32.4315 Q1355.77 38.7509 1355.77 49.9314 Q1355.77 61.0714 1350.22 67.4314 Q1344.67 73.7508 1334.95 73.7508 Q1325.18 73.7508 1319.63 67.4314 Q1314.12 61.0714 1314.12 49.9314 Q1314.12 38.7509 1319.63 32.4315 Q1325.18 26.1121 1334.95 26.1121 Z\" fill=\"#000000\" fill-rule=\"evenodd\" fill-opacity=\"1\" /><path clip-path=\"url(#clip780)\" d=\"M 0 0 M1405.84 45.1919 L1405.84 72.576 L1398.38 72.576 L1398.38 45.4349 Q1398.38 38.994 1395.87 35.7938 Q1393.36 32.5936 1388.34 32.5936 Q1382.3 32.5936 1378.82 36.4419 Q1375.33 40.2903 1375.33 46.9338 L1375.33 72.576 L1367.84 72.576 L1367.84 27.2059 L1375.33 27.2059 L1375.33 34.2544 Q1378.01 30.163 1381.61 28.1376 Q1385.26 26.1121 1390 26.1121 Q1397.82 26.1121 1401.83 30.9732 Q1405.84 35.7938 1405.84 45.1919 Z\" fill=\"#000000\" fill-rule=\"evenodd\" fill-opacity=\"1\" /><path clip-path=\"url(#clip780)\" d=\"M 0 0 M1439.01 12.096 L1490.18 12.096 L1490.18 18.9825 L1468.71 18.9825 L1468.71 72.576 L1460.48 72.576 L1460.48 18.9825 L1439.01 18.9825 L1439.01 12.096 Z\" fill=\"#000000\" fill-rule=\"evenodd\" fill-opacity=\"1\" /><path clip-path=\"url(#clip780)\" d=\"M 0 0 M1533.07 35.9153 Q1535.87 30.8922 1539.76 28.5022 Q1543.65 26.1121 1548.91 26.1121 Q1556 26.1121 1559.85 31.0947 Q1563.7 36.0368 1563.7 45.1919 L1563.7 72.576 L1556.21 72.576 L1556.21 45.4349 Q1556.21 38.913 1553.9 35.7533 Q1551.59 32.5936 1546.85 32.5936 Q1541.06 32.5936 1537.69 36.4419 Q1534.33 40.2903 1534.33 46.9338 L1534.33 72.576 L1526.84 72.576 L1526.84 45.4349 Q1526.84 38.8725 1524.53 35.7533 Q1522.22 32.5936 1517.4 32.5936 Q1511.69 32.5936 1508.32 36.4824 Q1504.96 40.3308 1504.96 46.9338 L1504.96 72.576 L1497.47 72.576 L1497.47 27.2059 L1504.96 27.2059 L1504.96 34.2544 Q1507.51 30.082 1511.08 28.0971 Q1514.64 26.1121 1519.54 26.1121 Q1524.49 26.1121 1527.93 28.6237 Q1531.41 31.1352 1533.07 35.9153 Z\" fill=\"#000000\" fill-rule=\"evenodd\" fill-opacity=\"1\" /><path clip-path=\"url(#clip780)\" d=\"M 0 0 M1599.19 49.7694 Q1590.15 49.7694 1586.67 51.8354 Q1583.18 53.9013 1583.18 58.8839 Q1583.18 62.8538 1585.78 65.2034 Q1588.41 67.5124 1592.91 67.5124 Q1599.1 67.5124 1602.83 63.1374 Q1606.6 58.7219 1606.6 51.4303 L1606.6 49.7694 L1599.19 49.7694 M1614.05 46.6907 L1614.05 72.576 L1606.6 72.576 L1606.6 65.6895 Q1604.05 69.8214 1600.24 71.8063 Q1596.43 73.7508 1590.92 73.7508 Q1583.95 73.7508 1579.82 69.8619 Q1575.73 65.9325 1575.73 59.3701 Q1575.73 51.7138 1580.83 47.825 Q1585.98 43.9361 1596.15 43.9361 L1606.6 43.9361 L1606.6 43.2069 Q1606.6 38.0623 1603.2 35.2672 Q1599.83 32.4315 1593.72 32.4315 Q1589.83 32.4315 1586.14 33.3632 Q1582.46 34.295 1579.05 36.1584 L1579.05 29.2718 Q1583.14 27.692 1586.99 26.9223 Q1590.84 26.1121 1594.49 26.1121 Q1604.33 26.1121 1609.19 31.2163 Q1614.05 36.3204 1614.05 46.6907 Z\" fill=\"#000000\" fill-rule=\"evenodd\" fill-opacity=\"1\" /><path clip-path=\"url(#clip780)\" d=\"M 0 0 M1667.12 27.2059 L1650.71 49.2833 L1667.97 72.576 L1659.18 72.576 L1645.97 54.752 L1632.77 72.576 L1623.98 72.576 L1641.6 48.8377 L1625.48 27.2059 L1634.27 27.2059 L1646.3 43.369 L1658.33 27.2059 L1667.12 27.2059 Z\" fill=\"#000000\" fill-rule=\"evenodd\" fill-opacity=\"1\" /><path clip-path=\"url(#clip780)\" d=\"M 0 0 M1679.47 34.9026 L1731.41 34.9026 L1731.41 41.7081 L1679.47 41.7081 L1679.47 34.9026 M1679.47 51.4303 L1731.41 51.4303 L1731.41 58.3168 L1679.47 58.3168 L1679.47 51.4303 Z\" fill=\"#000000\" fill-rule=\"evenodd\" fill-opacity=\"1\" /><path clip-path=\"url(#clip780)\" d=\"M 0 0 M1750.49 65.6895 L1763.85 65.6895 L1763.85 19.5497 L1749.31 22.4663 L1749.31 15.0127 L1763.77 12.096 L1771.96 12.096 L1771.96 65.6895 L1785.32 65.6895 L1785.32 72.576 L1750.49 72.576 L1750.49 65.6895 Z\" fill=\"#000000\" fill-rule=\"evenodd\" fill-opacity=\"1\" /><path clip-path=\"url(#clip780)\" d=\"M 0 0 M1819.35 17.4837 Q1813.03 17.4837 1809.83 23.7221 Q1806.67 29.92 1806.67 42.3968 Q1806.67 54.833 1809.83 61.0714 Q1813.03 67.2693 1819.35 67.2693 Q1825.71 67.2693 1828.87 61.0714 Q1832.07 54.833 1832.07 42.3968 Q1832.07 29.92 1828.87 23.7221 Q1825.71 17.4837 1819.35 17.4837 M1819.35 11.0023 Q1829.52 11.0023 1834.87 19.0636 Q1840.25 27.0843 1840.25 42.3968 Q1840.25 57.6687 1834.87 65.73 Q1829.52 73.7508 1819.35 73.7508 Q1809.18 73.7508 1803.8 65.73 Q1798.45 57.6687 1798.45 42.3968 Q1798.45 27.0843 1803.8 19.0636 Q1809.18 11.0023 1819.35 11.0023 Z\" fill=\"#000000\" fill-rule=\"evenodd\" fill-opacity=\"1\" /><polyline clip-path=\"url(#clip782)\" style=\"stroke:#009af9; stroke-width:20; stroke-opacity:1; fill:none\" points=\"\n",
       "  1317.94,773.326 1292.73,711.771 1256.82,683.235 1222.99,668.312 1192.16,660.507 1164.07,657.058 1138.35,656.536 1114.68,658.096 1092.8,661.198 1072.52,665.475 \n",
       "  1053.66,670.664 1036.09,676.571 1019.7,683.05 1004.39,689.986 990.088,697.29 976.713,704.89 964.208,712.727 952.521,720.754 941.604,728.93 931.416,737.223 \n",
       "  921.921,745.606 913.085,754.055 904.879,762.552 897.276,771.08 890.253,779.624 883.786,788.174 877.858,796.718 872.449,805.25 867.545,813.76 863.131,822.244 \n",
       "  859.193,830.696 855.721,839.111 852.703,847.486 850.131,855.816 847.996,864.1 846.291,872.333 845.009,880.515 844.146,888.641 843.698,896.711 843.659,904.722 \n",
       "  844.029,912.672 844.804,920.558 845.983,928.378 847.565,936.129 849.551,943.809 851.942,951.413 854.737,958.939 857.941,966.383 861.554,973.739 865.579,981.004 \n",
       "  870.021,988.171 874.884,995.235 880.17,1002.19 885.887,1009.03 892.038,1015.74 898.63,1022.31 905.668,1028.74 913.159,1035.02 921.109,1041.12 929.525,1047.05 \n",
       "  938.414,1052.78 947.782,1058.3 957.637,1063.59 967.985,1068.63 978.833,1073.41 990.187,1077.9 1002.05,1082.07 1014.44,1085.91 1027.34,1089.37 1040.77,1092.44 \n",
       "  1054.73,1095.08 1069.21,1097.25 1084.23,1098.92 1099.76,1100.04 1115.82,1100.56 1132.38,1100.44 1149.44,1099.63 1166.98,1098.06 1184.96,1095.68 1203.37,1092.43 \n",
       "  1222.17,1088.23 1241.3,1083.01 1260.7,1076.71 1280.31,1069.24 1300.04,1060.52 1319.77,1050.5 1339.4,1039.08 1358.77,1026.22 1377.71,1011.87 1396.05,996 \n",
       "  1413.58,978.607 1430.06,959.723 1445.28,939.42 1458.98,917.817 1470.96,895.079 1481,871.422 1488.94,847.109 1494.66,822.437 1498.09,797.731 1499.23,773.326 \n",
       "  \n",
       "  \"/>\n",
       "<line clip-path=\"url(#clip782)\" x1=\"1499.23\" y1=\"773.326\" x2=\"1479.23\" y2=\"753.326\" style=\"stroke:#e26f46; stroke-width:3.2; stroke-opacity:1\"/>\n",
       "<line clip-path=\"url(#clip782)\" x1=\"1499.23\" y1=\"773.326\" x2=\"1479.23\" y2=\"793.326\" style=\"stroke:#e26f46; stroke-width:3.2; stroke-opacity:1\"/>\n",
       "<line clip-path=\"url(#clip782)\" x1=\"1499.23\" y1=\"773.326\" x2=\"1519.23\" y2=\"793.326\" style=\"stroke:#e26f46; stroke-width:3.2; stroke-opacity:1\"/>\n",
       "<line clip-path=\"url(#clip782)\" x1=\"1499.23\" y1=\"773.326\" x2=\"1519.23\" y2=\"753.326\" style=\"stroke:#e26f46; stroke-width:3.2; stroke-opacity:1\"/>\n",
       "<path clip-path=\"url(#clip782)\" d=\"M1282.61 789.326 L1271.3 784.638 L1266.61 773.326 L1271.3 762.014 L1282.61 757.326 L1293.92 762.014 L1298.61 773.326 L1293.92 784.638 Z\" fill=\"#3da44d\" fill-rule=\"evenodd\" fill-opacity=\"1\" stroke=\"#000000\" stroke-opacity=\"1\" stroke-width=\"3.2\"/>\n",
       "<polyline clip-path=\"url(#clip782)\" style=\"stroke:#c271d2; stroke-width:12; stroke-opacity:1; fill:none\" points=\"\n",
       "  1317.94,773.326 1314.92,754.286 1307.14,737.889 1296.85,724.892 1285.62,714.858 1274.24,707.136 1263.07,701.185 1252.26,696.607 1241.87,693.114 1231.92,690.494 \n",
       "  1222.41,688.592 1213.32,687.287 1204.64,686.488 1196.34,686.121 1188.41,686.127 1180.84,686.46 1173.6,687.08 1166.68,687.954 1160.06,689.053 1153.74,690.355 \n",
       "  1147.71,691.84 1141.94,693.488 1136.44,695.286 1131.19,697.219 1126.19,699.276 1121.42,701.446 1116.89,703.719 1112.58,706.087 1108.49,708.541 1104.62,711.076 \n",
       "  1100.95,713.683 1097.5,716.358 1094.24,719.095 1091.18,721.889 1088.31,724.735 1085.63,727.629 1083.15,730.566 1080.84,733.544 1078.73,736.557 1076.79,739.603 \n",
       "  1075.03,742.678 1073.45,745.78 1072.04,748.904 1070.81,752.049 1069.75,755.212 1068.87,758.389 1068.15,761.578 1067.61,764.776 1067.24,767.981 1067.03,771.191 \n",
       "  1067,774.402 1067.14,777.612 1067.44,780.819 1067.92,784.02 1068.57,787.212 1069.39,790.393 1070.38,793.561 1071.54,796.712 1072.88,799.844 1074.39,802.953 \n",
       "  1076.08,806.038 1077.95,809.094 1080,812.118 1082.23,815.108 1084.64,818.06 1087.24,820.969 1090.03,823.831 1093.02,826.644 1096.2,829.401 1099.58,832.098 \n",
       "  1103.16,834.73 1106.95,837.29 1110.95,839.774 1115.17,842.173 1119.61,844.481 1124.29,846.688 1129.19,848.787 1134.34,850.766 1139.74,852.615 1145.4,854.32 \n",
       "  1151.32,855.866 1157.53,857.238 1164.02,858.416 1170.81,859.378 1177.92,860.097 1185.36,860.543 1193.14,860.68 1201.28,860.463 1209.8,859.84 1218.72,858.742 \n",
       "  1228.05,857.087 1237.82,854.768 1248.02,851.644 1258.66,847.529 1269.69,842.172 1281,835.222 1292.35,826.201 1303.15,814.491 1312.19,799.491 1317.94,773.326 \n",
       "  \n",
       "  \"/>\n",
       "<path clip-path=\"url(#clip780)\" d=\"\n",
       "M1341.18 469.196 L1861.12 469.196 L1861.12 166.796 L1341.18 166.796  Z\n",
       "  \" fill=\"#ffffff\" fill-rule=\"evenodd\" fill-opacity=\"1\"/>\n",
       "<polyline clip-path=\"url(#clip780)\" style=\"stroke:#000000; stroke-width:4; stroke-opacity:1; fill:none\" points=\"\n",
       "  1341.18,469.196 1861.12,469.196 1861.12,166.796 1341.18,166.796 1341.18,469.196 \n",
       "  \"/>\n",
       "<polyline clip-path=\"url(#clip780)\" style=\"stroke:#009af9; stroke-width:4; stroke-opacity:1; fill:none\" points=\"\n",
       "  1364.96,227.276 1507.65,227.276 \n",
       "  \"/>\n",
       "<path clip-path=\"url(#clip780)\" d=\"M 0 0 M1553.67 211.13 L1553.67 215.69 Q1551.01 214.417 1548.65 213.792 Q1546.29 213.167 1544.09 213.167 Q1540.27 213.167 1538.19 214.648 Q1536.13 216.13 1536.13 218.861 Q1536.13 221.153 1537.49 222.334 Q1538.88 223.491 1542.72 224.209 L1545.55 224.787 Q1550.78 225.783 1553.26 228.306 Q1555.76 230.806 1555.76 235.019 Q1555.76 240.042 1552.38 242.634 Q1549.02 245.227 1542.52 245.227 Q1540.06 245.227 1537.28 244.671 Q1534.53 244.116 1531.57 243.028 L1531.57 238.213 Q1534.41 239.81 1537.15 240.621 Q1539.88 241.431 1542.52 241.431 Q1546.52 241.431 1548.7 239.857 Q1550.87 238.283 1550.87 235.366 Q1550.87 232.82 1549.3 231.384 Q1547.75 229.949 1544.18 229.232 L1541.34 228.676 Q1536.1 227.635 1533.77 225.412 Q1531.43 223.19 1531.43 219.232 Q1531.43 214.648 1534.65 212.01 Q1537.89 209.371 1543.56 209.371 Q1545.99 209.371 1548.51 209.811 Q1551.03 210.25 1553.67 211.13 Z\" fill=\"#000000\" fill-rule=\"evenodd\" fill-opacity=\"1\" /><path clip-path=\"url(#clip780)\" d=\"M 0 0 M1572.91 221.616 Q1569.48 221.616 1567.49 224.301 Q1565.5 226.963 1565.5 231.616 Q1565.5 236.269 1567.47 238.954 Q1569.46 241.616 1572.91 241.616 Q1576.31 241.616 1578.3 238.931 Q1580.29 236.246 1580.29 231.616 Q1580.29 227.01 1578.3 224.324 Q1576.31 221.616 1572.91 221.616 M1572.91 218.005 Q1578.46 218.005 1581.64 221.616 Q1584.81 225.227 1584.81 231.616 Q1584.81 237.982 1581.64 241.616 Q1578.46 245.227 1572.91 245.227 Q1567.33 245.227 1564.16 241.616 Q1561.01 237.982 1561.01 231.616 Q1561.01 225.227 1564.16 221.616 Q1567.33 218.005 1572.91 218.005 Z\" fill=\"#000000\" fill-rule=\"evenodd\" fill-opacity=\"1\" /><path clip-path=\"url(#clip780)\" d=\"M 0 0 M1591.87 208.537 L1596.13 208.537 L1596.13 244.556 L1591.87 244.556 L1591.87 208.537 Z\" fill=\"#000000\" fill-rule=\"evenodd\" fill-opacity=\"1\" /><path clip-path=\"url(#clip780)\" d=\"M 0 0 M1604.6 234.324 L1604.6 218.63 L1608.86 218.63 L1608.86 234.162 Q1608.86 237.843 1610.29 239.695 Q1611.73 241.523 1614.6 241.523 Q1618.05 241.523 1620.04 239.324 Q1622.05 237.125 1622.05 233.329 L1622.05 218.63 L1626.31 218.63 L1626.31 244.556 L1622.05 244.556 L1622.05 240.574 Q1620.5 242.935 1618.44 244.093 Q1616.4 245.227 1613.7 245.227 Q1609.23 245.227 1606.91 242.449 Q1604.6 239.671 1604.6 234.324 M1615.32 218.005 L1615.32 218.005 Z\" fill=\"#000000\" fill-rule=\"evenodd\" fill-opacity=\"1\" /><path clip-path=\"url(#clip780)\" d=\"M 0 0 M1639.3 211.269 L1639.3 218.63 L1648.07 218.63 L1648.07 221.94 L1639.3 221.94 L1639.3 236.014 Q1639.3 239.185 1640.15 240.088 Q1641.03 240.991 1643.7 240.991 L1648.07 240.991 L1648.07 244.556 L1643.7 244.556 Q1638.77 244.556 1636.89 242.727 Q1635.02 240.875 1635.02 236.014 L1635.02 221.94 L1631.89 221.94 L1631.89 218.63 L1635.02 218.63 L1635.02 211.269 L1639.3 211.269 Z\" fill=\"#000000\" fill-rule=\"evenodd\" fill-opacity=\"1\" /><path clip-path=\"url(#clip780)\" d=\"M 0 0 M1653.67 218.63 L1657.93 218.63 L1657.93 244.556 L1653.67 244.556 L1653.67 218.63 M1653.67 208.537 L1657.93 208.537 L1657.93 213.931 L1653.67 213.931 L1653.67 208.537 Z\" fill=\"#000000\" fill-rule=\"evenodd\" fill-opacity=\"1\" /><path clip-path=\"url(#clip780)\" d=\"M 0 0 M1676.89 221.616 Q1673.46 221.616 1671.47 224.301 Q1669.48 226.963 1669.48 231.616 Q1669.48 236.269 1671.45 238.954 Q1673.44 241.616 1676.89 241.616 Q1680.29 241.616 1682.28 238.931 Q1684.27 236.246 1684.27 231.616 Q1684.27 227.01 1682.28 224.324 Q1680.29 221.616 1676.89 221.616 M1676.89 218.005 Q1682.45 218.005 1685.62 221.616 Q1688.79 225.227 1688.79 231.616 Q1688.79 237.982 1685.62 241.616 Q1682.45 245.227 1676.89 245.227 Q1671.31 245.227 1668.14 241.616 Q1664.99 237.982 1664.99 231.616 Q1664.99 225.227 1668.14 221.616 Q1671.31 218.005 1676.89 218.005 Z\" fill=\"#000000\" fill-rule=\"evenodd\" fill-opacity=\"1\" /><path clip-path=\"url(#clip780)\" d=\"M 0 0 M1717.4 228.908 L1717.4 244.556 L1713.14 244.556 L1713.14 229.047 Q1713.14 225.366 1711.7 223.537 Q1710.27 221.709 1707.4 221.709 Q1703.95 221.709 1701.96 223.908 Q1699.97 226.107 1699.97 229.903 L1699.97 244.556 L1695.69 244.556 L1695.69 218.63 L1699.97 218.63 L1699.97 222.658 Q1701.5 220.32 1703.56 219.162 Q1705.64 218.005 1708.35 218.005 Q1712.82 218.005 1715.11 220.783 Q1717.4 223.537 1717.4 228.908 Z\" fill=\"#000000\" fill-rule=\"evenodd\" fill-opacity=\"1\" /><polyline clip-path=\"url(#clip780)\" style=\"stroke:#e26f46; stroke-width:4; stroke-opacity:1; fill:none\" points=\"\n",
       "  1364.96,287.756 1507.65,287.756 \n",
       "  \"/>\n",
       "<line clip-path=\"url(#clip780)\" x1=\"1436.3\" y1=\"287.756\" x2=\"1410.7\" y2=\"262.156\" style=\"stroke:#e26f46; stroke-width:3.2; stroke-opacity:1\"/>\n",
       "<line clip-path=\"url(#clip780)\" x1=\"1436.3\" y1=\"287.756\" x2=\"1410.7\" y2=\"313.356\" style=\"stroke:#e26f46; stroke-width:3.2; stroke-opacity:1\"/>\n",
       "<line clip-path=\"url(#clip780)\" x1=\"1436.3\" y1=\"287.756\" x2=\"1461.9\" y2=\"313.356\" style=\"stroke:#e26f46; stroke-width:3.2; stroke-opacity:1\"/>\n",
       "<line clip-path=\"url(#clip780)\" x1=\"1436.3\" y1=\"287.756\" x2=\"1461.9\" y2=\"262.156\" style=\"stroke:#e26f46; stroke-width:3.2; stroke-opacity:1\"/>\n",
       "<path clip-path=\"url(#clip780)\" d=\"M 0 0 M1556.98 300.105 L1556.98 290.823 L1549.34 290.823 L1549.34 286.98 L1561.61 286.98 L1561.61 301.818 Q1558.9 303.739 1555.64 304.735 Q1552.38 305.707 1548.67 305.707 Q1540.57 305.707 1535.99 300.985 Q1531.43 296.239 1531.43 287.79 Q1531.43 279.318 1535.99 274.596 Q1540.57 269.851 1548.67 269.851 Q1552.05 269.851 1555.09 270.684 Q1558.14 271.517 1560.71 273.138 L1560.71 278.115 Q1558.12 275.916 1555.2 274.804 Q1552.28 273.693 1549.07 273.693 Q1542.72 273.693 1539.53 277.235 Q1536.36 280.777 1536.36 287.79 Q1536.36 294.781 1539.53 298.323 Q1542.72 301.864 1549.07 301.864 Q1551.54 301.864 1553.49 301.448 Q1555.43 301.008 1556.98 300.105 Z\" fill=\"#000000\" fill-rule=\"evenodd\" fill-opacity=\"1\" /><path clip-path=\"url(#clip780)\" d=\"M 0 0 M1580.02 282.096 Q1576.59 282.096 1574.6 284.781 Q1572.61 287.443 1572.61 292.096 Q1572.61 296.749 1574.58 299.434 Q1576.57 302.096 1580.02 302.096 Q1583.42 302.096 1585.41 299.411 Q1587.4 296.726 1587.4 292.096 Q1587.4 287.49 1585.41 284.804 Q1583.42 282.096 1580.02 282.096 M1580.02 278.485 Q1585.57 278.485 1588.74 282.096 Q1591.91 285.707 1591.91 292.096 Q1591.91 298.462 1588.74 302.096 Q1585.57 305.707 1580.02 305.707 Q1574.44 305.707 1571.27 302.096 Q1568.12 298.462 1568.12 292.096 Q1568.12 285.707 1571.27 282.096 Q1574.44 278.485 1580.02 278.485 Z\" fill=\"#000000\" fill-rule=\"evenodd\" fill-opacity=\"1\" /><path clip-path=\"url(#clip780)\" d=\"M 0 0 M1610.76 292.003 Q1605.59 292.003 1603.6 293.184 Q1601.61 294.364 1601.61 297.212 Q1601.61 299.48 1603.09 300.823 Q1604.6 302.142 1607.17 302.142 Q1610.71 302.142 1612.84 299.642 Q1614.99 297.119 1614.99 292.952 L1614.99 292.003 L1610.76 292.003 M1619.25 290.244 L1619.25 305.036 L1614.99 305.036 L1614.99 301.101 Q1613.53 303.462 1611.36 304.596 Q1609.18 305.707 1606.03 305.707 Q1602.05 305.707 1599.69 303.485 Q1597.35 301.239 1597.35 297.489 Q1597.35 293.114 1600.27 290.892 Q1603.21 288.67 1609.02 288.67 L1614.99 288.67 L1614.99 288.253 Q1614.99 285.314 1613.05 283.716 Q1611.13 282.096 1607.63 282.096 Q1605.41 282.096 1603.3 282.628 Q1601.2 283.161 1599.25 284.226 L1599.25 280.29 Q1601.59 279.388 1603.79 278.948 Q1605.99 278.485 1608.07 278.485 Q1613.7 278.485 1616.47 281.402 Q1619.25 284.318 1619.25 290.244 Z\" fill=\"#000000\" fill-rule=\"evenodd\" fill-opacity=\"1\" /><path clip-path=\"url(#clip780)\" d=\"M 0 0 M1628.02 269.017 L1632.28 269.017 L1632.28 305.036 L1628.02 305.036 L1628.02 269.017 Z\" fill=\"#000000\" fill-rule=\"evenodd\" fill-opacity=\"1\" /><path clip-path=\"url(#clip780)\" d=\"M 0 0 M1677.17 271.61 L1677.17 276.17 Q1674.51 274.897 1672.14 274.272 Q1669.78 273.647 1667.58 273.647 Q1663.77 273.647 1661.68 275.128 Q1659.62 276.61 1659.62 279.341 Q1659.62 281.633 1660.99 282.814 Q1662.38 283.971 1666.22 284.689 L1669.04 285.267 Q1674.27 286.263 1676.75 288.786 Q1679.25 291.286 1679.25 295.499 Q1679.25 300.522 1675.87 303.114 Q1672.51 305.707 1666.01 305.707 Q1663.56 305.707 1660.78 305.151 Q1658.02 304.596 1655.06 303.508 L1655.06 298.693 Q1657.91 300.29 1660.64 301.101 Q1663.37 301.911 1666.01 301.911 Q1670.01 301.911 1672.19 300.337 Q1674.37 298.763 1674.37 295.846 Q1674.37 293.3 1672.79 291.864 Q1671.24 290.429 1667.68 289.712 L1664.83 289.156 Q1659.6 288.115 1657.26 285.892 Q1654.92 283.67 1654.92 279.712 Q1654.92 275.128 1658.14 272.49 Q1661.38 269.851 1667.05 269.851 Q1669.48 269.851 1672.01 270.291 Q1674.53 270.73 1677.17 271.61 Z\" fill=\"#000000\" fill-rule=\"evenodd\" fill-opacity=\"1\" /><path clip-path=\"url(#clip780)\" d=\"M 0 0 M1690.57 271.749 L1690.57 279.11 L1699.34 279.11 L1699.34 282.42 L1690.57 282.42 L1690.57 296.494 Q1690.57 299.665 1691.43 300.568 Q1692.31 301.471 1694.97 301.471 L1699.34 301.471 L1699.34 305.036 L1694.97 305.036 Q1690.04 305.036 1688.16 303.207 Q1686.29 301.355 1686.29 296.494 L1686.29 282.42 L1683.16 282.42 L1683.16 279.11 L1686.29 279.11 L1686.29 271.749 L1690.57 271.749 Z\" fill=\"#000000\" fill-rule=\"evenodd\" fill-opacity=\"1\" /><path clip-path=\"url(#clip780)\" d=\"M 0 0 M1716.73 292.003 Q1711.57 292.003 1709.57 293.184 Q1707.58 294.364 1707.58 297.212 Q1707.58 299.48 1709.07 300.823 Q1710.57 302.142 1713.14 302.142 Q1716.68 302.142 1718.81 299.642 Q1720.96 297.119 1720.96 292.952 L1720.96 292.003 L1716.73 292.003 M1725.22 290.244 L1725.22 305.036 L1720.96 305.036 L1720.96 301.101 Q1719.51 303.462 1717.33 304.596 Q1715.15 305.707 1712.01 305.707 Q1708.02 305.707 1705.66 303.485 Q1703.32 301.239 1703.32 297.489 Q1703.32 293.114 1706.24 290.892 Q1709.18 288.67 1714.99 288.67 L1720.96 288.67 L1720.96 288.253 Q1720.96 285.314 1719.02 283.716 Q1717.1 282.096 1713.6 282.096 Q1711.38 282.096 1709.27 282.628 Q1707.17 283.161 1705.22 284.226 L1705.22 280.29 Q1707.56 279.388 1709.76 278.948 Q1711.96 278.485 1714.04 278.485 Q1719.67 278.485 1722.45 281.402 Q1725.22 284.318 1725.22 290.244 Z\" fill=\"#000000\" fill-rule=\"evenodd\" fill-opacity=\"1\" /><path clip-path=\"url(#clip780)\" d=\"M 0 0 M1738.21 271.749 L1738.21 279.11 L1746.98 279.11 L1746.98 282.42 L1738.21 282.42 L1738.21 296.494 Q1738.21 299.665 1739.07 300.568 Q1739.95 301.471 1742.61 301.471 L1746.98 301.471 L1746.98 305.036 L1742.61 305.036 Q1737.68 305.036 1735.8 303.207 Q1733.93 301.355 1733.93 296.494 L1733.93 282.42 L1730.8 282.42 L1730.8 279.11 L1733.93 279.11 L1733.93 271.749 L1738.21 271.749 Z\" fill=\"#000000\" fill-rule=\"evenodd\" fill-opacity=\"1\" /><path clip-path=\"url(#clip780)\" d=\"M 0 0 M1774.76 291.008 L1774.76 293.091 L1755.18 293.091 Q1755.45 297.489 1757.82 299.804 Q1760.2 302.096 1764.44 302.096 Q1766.89 302.096 1769.18 301.494 Q1771.5 300.892 1773.76 299.689 L1773.76 303.716 Q1771.47 304.688 1769.07 305.198 Q1766.66 305.707 1764.18 305.707 Q1757.98 305.707 1754.34 302.096 Q1750.73 298.485 1750.73 292.327 Q1750.73 285.962 1754.16 282.235 Q1757.61 278.485 1763.44 278.485 Q1768.67 278.485 1771.7 281.865 Q1774.76 285.221 1774.76 291.008 M1770.5 289.758 Q1770.45 286.263 1768.53 284.179 Q1766.63 282.096 1763.49 282.096 Q1759.92 282.096 1757.77 284.11 Q1755.64 286.124 1755.32 289.781 L1770.5 289.758 Z\" fill=\"#000000\" fill-rule=\"evenodd\" fill-opacity=\"1\" /><polyline clip-path=\"url(#clip780)\" style=\"stroke:#3da44d; stroke-width:4; stroke-opacity:1; fill:none\" points=\"\n",
       "  1364.96,348.236 1507.65,348.236 \n",
       "  \"/>\n",
       "<path clip-path=\"url(#clip780)\" d=\"M1436.3 373.836 L1418.2 366.335 L1410.7 348.236 L1418.2 330.137 L1436.3 322.636 L1454.4 330.137 L1461.9 348.236 L1454.4 366.335 Z\" fill=\"#3da44d\" fill-rule=\"evenodd\" fill-opacity=\"1\" stroke=\"#000000\" stroke-opacity=\"1\" stroke-width=\"5.12\"/>\n",
       "<path clip-path=\"url(#clip780)\" d=\"M 0 0 M1536.1 334.798 L1536.1 347.784 L1541.98 347.784 Q1545.25 347.784 1547.03 346.095 Q1548.81 344.405 1548.81 341.28 Q1548.81 338.178 1547.03 336.488 Q1545.25 334.798 1541.98 334.798 L1536.1 334.798 M1531.43 330.956 L1541.98 330.956 Q1547.79 330.956 1550.76 333.595 Q1553.74 336.21 1553.74 341.28 Q1553.74 346.395 1550.76 349.011 Q1547.79 351.627 1541.98 351.627 L1536.1 351.627 L1536.1 365.516 L1531.43 365.516 L1531.43 330.956 Z\" fill=\"#000000\" fill-rule=\"evenodd\" fill-opacity=\"1\" /><path clip-path=\"url(#clip780)\" d=\"M 0 0 M1559.83 329.497 L1564.09 329.497 L1564.09 365.516 L1559.83 365.516 L1559.83 329.497 Z\" fill=\"#000000\" fill-rule=\"evenodd\" fill-opacity=\"1\" /><path clip-path=\"url(#clip780)\" d=\"M 0 0 M1584.78 352.483 Q1579.62 352.483 1577.63 353.664 Q1575.64 354.844 1575.64 357.692 Q1575.64 359.96 1577.12 361.303 Q1578.63 362.622 1581.2 362.622 Q1584.74 362.622 1586.87 360.122 Q1589.02 357.599 1589.02 353.432 L1589.02 352.483 L1584.78 352.483 M1593.28 350.724 L1593.28 365.516 L1589.02 365.516 L1589.02 361.581 Q1587.56 363.942 1585.39 365.076 Q1583.21 366.187 1580.06 366.187 Q1576.08 366.187 1573.72 363.965 Q1571.38 361.719 1571.38 357.969 Q1571.38 353.594 1574.3 351.372 Q1577.24 349.15 1583.05 349.15 L1589.02 349.15 L1589.02 348.733 Q1589.02 345.794 1587.08 344.196 Q1585.15 342.576 1581.66 342.576 Q1579.44 342.576 1577.33 343.108 Q1575.22 343.641 1573.28 344.706 L1573.28 340.77 Q1575.62 339.868 1577.82 339.428 Q1580.02 338.965 1582.1 338.965 Q1587.72 338.965 1590.5 341.882 Q1593.28 344.798 1593.28 350.724 Z\" fill=\"#000000\" fill-rule=\"evenodd\" fill-opacity=\"1\" /><path clip-path=\"url(#clip780)\" d=\"M 0 0 M1623.6 349.868 L1623.6 365.516 L1619.34 365.516 L1619.34 350.007 Q1619.34 346.326 1617.91 344.497 Q1616.47 342.669 1613.6 342.669 Q1610.15 342.669 1608.16 344.868 Q1606.17 347.067 1606.17 350.863 L1606.17 365.516 L1601.89 365.516 L1601.89 339.59 L1606.17 339.59 L1606.17 343.618 Q1607.7 341.28 1609.76 340.122 Q1611.84 338.965 1614.55 338.965 Q1619.02 338.965 1621.31 341.743 Q1623.6 344.497 1623.6 349.868 Z\" fill=\"#000000\" fill-rule=\"evenodd\" fill-opacity=\"1\" /><path clip-path=\"url(#clip780)\" d=\"M 0 0 M1654.27 351.488 L1654.27 353.571 L1634.69 353.571 Q1634.97 357.969 1637.33 360.284 Q1639.71 362.576 1643.95 362.576 Q1646.4 362.576 1648.7 361.974 Q1651.01 361.372 1653.28 360.169 L1653.28 364.196 Q1650.99 365.168 1648.58 365.678 Q1646.17 366.187 1643.7 366.187 Q1637.49 366.187 1633.86 362.576 Q1630.25 358.965 1630.25 352.807 Q1630.25 346.442 1633.67 342.715 Q1637.12 338.965 1642.95 338.965 Q1648.19 338.965 1651.22 342.345 Q1654.27 345.701 1654.27 351.488 M1650.02 350.238 Q1649.97 346.743 1648.05 344.659 Q1646.15 342.576 1643 342.576 Q1639.44 342.576 1637.28 344.59 Q1635.15 346.604 1634.83 350.261 L1650.02 350.238 Z\" fill=\"#000000\" fill-rule=\"evenodd\" fill-opacity=\"1\" /><path clip-path=\"url(#clip780)\" d=\"M 0 0 M1665.48 332.229 L1665.48 339.59 L1674.25 339.59 L1674.25 342.9 L1665.48 342.9 L1665.48 356.974 Q1665.48 360.145 1666.33 361.048 Q1667.21 361.951 1669.88 361.951 L1674.25 361.951 L1674.25 365.516 L1669.88 365.516 Q1664.95 365.516 1663.07 363.687 Q1661.2 361.835 1661.2 356.974 L1661.2 342.9 L1658.07 342.9 L1658.07 339.59 L1661.2 339.59 L1661.2 332.229 L1665.48 332.229 Z\" fill=\"#000000\" fill-rule=\"evenodd\" fill-opacity=\"1\" /><path clip-path=\"url(#clip780)\" d=\"M 0 0 M1695.11 330.956 L1716.96 330.956 L1716.96 334.891 L1699.78 334.891 L1699.78 345.122 L1716.24 345.122 L1716.24 349.057 L1699.78 349.057 L1699.78 361.581 L1717.38 361.581 L1717.38 365.516 L1695.11 365.516 L1695.11 330.956 Z\" fill=\"#000000\" fill-rule=\"evenodd\" fill-opacity=\"1\" /><path clip-path=\"url(#clip780)\" d=\"M 0 0 M1736.66 352.483 Q1731.5 352.483 1729.51 353.664 Q1727.51 354.844 1727.51 357.692 Q1727.51 359.96 1729 361.303 Q1730.5 362.622 1733.07 362.622 Q1736.61 362.622 1738.74 360.122 Q1740.89 357.599 1740.89 353.432 L1740.89 352.483 L1736.66 352.483 M1745.15 350.724 L1745.15 365.516 L1740.89 365.516 L1740.89 361.581 Q1739.44 363.942 1737.26 365.076 Q1735.08 366.187 1731.94 366.187 Q1727.95 366.187 1725.59 363.965 Q1723.26 361.719 1723.26 357.969 Q1723.26 353.594 1726.17 351.372 Q1729.11 349.15 1734.92 349.15 L1740.89 349.15 L1740.89 348.733 Q1740.89 345.794 1738.95 344.196 Q1737.03 342.576 1733.53 342.576 Q1731.31 342.576 1729.2 343.108 Q1727.1 343.641 1725.15 344.706 L1725.15 340.77 Q1727.49 339.868 1729.69 339.428 Q1731.89 338.965 1733.97 338.965 Q1739.6 338.965 1742.38 341.882 Q1745.15 344.798 1745.15 350.724 Z\" fill=\"#000000\" fill-rule=\"evenodd\" fill-opacity=\"1\" /><path clip-path=\"url(#clip780)\" d=\"M 0 0 M1768.95 343.571 Q1768.23 343.155 1767.38 342.97 Q1766.54 342.761 1765.52 342.761 Q1761.91 342.761 1759.97 345.122 Q1758.05 347.46 1758.05 351.858 L1758.05 365.516 L1753.76 365.516 L1753.76 339.59 L1758.05 339.59 L1758.05 343.618 Q1759.39 341.257 1761.54 340.122 Q1763.7 338.965 1766.77 338.965 Q1767.21 338.965 1767.75 339.034 Q1768.28 339.081 1768.93 339.196 L1768.95 343.571 Z\" fill=\"#000000\" fill-rule=\"evenodd\" fill-opacity=\"1\" /><path clip-path=\"url(#clip780)\" d=\"M 0 0 M1777.63 332.229 L1777.63 339.59 L1786.4 339.59 L1786.4 342.9 L1777.63 342.9 L1777.63 356.974 Q1777.63 360.145 1778.49 361.048 Q1779.37 361.951 1782.03 361.951 L1786.4 361.951 L1786.4 365.516 L1782.03 365.516 Q1777.1 365.516 1775.22 363.687 Q1773.35 361.835 1773.35 356.974 L1773.35 342.9 L1770.22 342.9 L1770.22 339.59 L1773.35 339.59 L1773.35 332.229 L1777.63 332.229 Z\" fill=\"#000000\" fill-rule=\"evenodd\" fill-opacity=\"1\" /><path clip-path=\"url(#clip780)\" d=\"M 0 0 M1813.56 349.868 L1813.56 365.516 L1809.3 365.516 L1809.3 350.007 Q1809.3 346.326 1807.86 344.497 Q1806.43 342.669 1803.56 342.669 Q1800.11 342.669 1798.12 344.868 Q1796.13 347.067 1796.13 350.863 L1796.13 365.516 L1791.84 365.516 L1791.84 329.497 L1796.13 329.497 L1796.13 343.618 Q1797.65 341.28 1799.71 340.122 Q1801.8 338.965 1804.5 338.965 Q1808.97 338.965 1811.26 341.743 Q1813.56 344.497 1813.56 349.868 Z\" fill=\"#000000\" fill-rule=\"evenodd\" fill-opacity=\"1\" /><polyline clip-path=\"url(#clip780)\" style=\"stroke:#c271d2; stroke-width:4; stroke-opacity:1; fill:none\" points=\"\n",
       "  1364.96,408.716 1507.65,408.716 \n",
       "  \"/>\n",
       "<path clip-path=\"url(#clip780)\" d=\"M 0 0 M1547.82 409.792 Q1549.32 410.301 1550.73 411.968 Q1552.17 413.635 1553.6 416.551 L1558.35 425.996 L1553.33 425.996 L1548.9 417.13 Q1547.19 413.658 1545.57 412.524 Q1543.97 411.389 1541.2 411.389 L1536.1 411.389 L1536.1 425.996 L1531.43 425.996 L1531.43 391.436 L1541.98 391.436 Q1547.91 391.436 1550.83 393.913 Q1553.74 396.389 1553.74 401.389 Q1553.74 404.653 1552.21 406.806 Q1550.71 408.959 1547.82 409.792 M1536.1 395.278 L1536.1 407.547 L1541.98 407.547 Q1545.36 407.547 1547.08 405.996 Q1548.81 404.422 1548.81 401.389 Q1548.81 398.357 1547.08 396.829 Q1545.36 395.278 1541.98 395.278 L1536.1 395.278 Z\" fill=\"#000000\" fill-rule=\"evenodd\" fill-opacity=\"1\" /><path clip-path=\"url(#clip780)\" d=\"M 0 0 M1584.23 411.968 L1584.23 414.051 L1564.65 414.051 Q1564.92 418.449 1567.28 420.764 Q1569.67 423.056 1573.9 423.056 Q1576.36 423.056 1578.65 422.454 Q1580.96 421.852 1583.23 420.649 L1583.23 424.676 Q1580.94 425.648 1578.53 426.158 Q1576.13 426.667 1573.65 426.667 Q1567.45 426.667 1563.81 423.056 Q1560.2 419.445 1560.2 413.287 Q1560.2 406.922 1563.63 403.195 Q1567.08 399.445 1572.91 399.445 Q1578.14 399.445 1581.17 402.825 Q1584.23 406.181 1584.23 411.968 M1579.97 410.718 Q1579.92 407.223 1578 405.139 Q1576.1 403.056 1572.96 403.056 Q1569.39 403.056 1567.24 405.07 Q1565.11 407.084 1564.78 410.741 L1579.97 410.718 Z\" fill=\"#000000\" fill-rule=\"evenodd\" fill-opacity=\"1\" /><path clip-path=\"url(#clip780)\" d=\"M 0 0 M1604.34 389.977 L1604.34 393.519 L1600.27 393.519 Q1597.98 393.519 1597.08 394.445 Q1596.2 395.371 1596.2 397.778 L1596.2 400.07 L1603.21 400.07 L1603.21 403.38 L1596.2 403.38 L1596.2 425.996 L1591.91 425.996 L1591.91 403.38 L1587.84 403.38 L1587.84 400.07 L1591.91 400.07 L1591.91 398.264 Q1591.91 393.936 1593.93 391.968 Q1595.94 389.977 1600.32 389.977 L1604.34 389.977 Z\" fill=\"#000000\" fill-rule=\"evenodd\" fill-opacity=\"1\" /><path clip-path=\"url(#clip780)\" d=\"M 0 0 M1630.08 411.968 L1630.08 414.051 L1610.5 414.051 Q1610.78 418.449 1613.14 420.764 Q1615.52 423.056 1619.76 423.056 Q1622.21 423.056 1624.51 422.454 Q1626.82 421.852 1629.09 420.649 L1629.09 424.676 Q1626.8 425.648 1624.39 426.158 Q1621.98 426.667 1619.51 426.667 Q1613.3 426.667 1609.67 423.056 Q1606.06 419.445 1606.06 413.287 Q1606.06 406.922 1609.48 403.195 Q1612.93 399.445 1618.77 399.445 Q1624 399.445 1627.03 402.825 Q1630.08 406.181 1630.08 411.968 M1625.83 410.718 Q1625.78 407.223 1623.86 405.139 Q1621.96 403.056 1618.81 403.056 Q1615.25 403.056 1613.09 405.07 Q1610.96 407.084 1610.64 410.741 L1625.83 410.718 Z\" fill=\"#000000\" fill-rule=\"evenodd\" fill-opacity=\"1\" /><path clip-path=\"url(#clip780)\" d=\"M 0 0 M1652.1 404.051 Q1651.38 403.635 1650.52 403.45 Q1649.69 403.241 1648.67 403.241 Q1645.06 403.241 1643.12 405.602 Q1641.2 407.94 1641.2 412.338 L1641.2 425.996 L1636.91 425.996 L1636.91 400.07 L1641.2 400.07 L1641.2 404.098 Q1642.54 401.737 1644.69 400.602 Q1646.84 399.445 1649.92 399.445 Q1650.36 399.445 1650.89 399.514 Q1651.43 399.561 1652.08 399.676 L1652.1 404.051 Z\" fill=\"#000000\" fill-rule=\"evenodd\" fill-opacity=\"1\" /><path clip-path=\"url(#clip780)\" d=\"M 0 0 M1677.7 411.968 L1677.7 414.051 L1658.12 414.051 Q1658.39 418.449 1660.76 420.764 Q1663.14 423.056 1667.38 423.056 Q1669.83 423.056 1672.12 422.454 Q1674.44 421.852 1676.7 420.649 L1676.7 424.676 Q1674.41 425.648 1672.01 426.158 Q1669.6 426.667 1667.12 426.667 Q1660.92 426.667 1657.28 423.056 Q1653.67 419.445 1653.67 413.287 Q1653.67 406.922 1657.1 403.195 Q1660.55 399.445 1666.38 399.445 Q1671.61 399.445 1674.64 402.825 Q1677.7 406.181 1677.7 411.968 M1673.44 410.718 Q1673.39 407.223 1671.47 405.139 Q1669.58 403.056 1666.43 403.056 Q1662.86 403.056 1660.71 405.07 Q1658.58 407.084 1658.26 410.741 L1673.44 410.718 Z\" fill=\"#000000\" fill-rule=\"evenodd\" fill-opacity=\"1\" /><path clip-path=\"url(#clip780)\" d=\"M 0 0 M1706.24 410.348 L1706.24 425.996 L1701.98 425.996 L1701.98 410.487 Q1701.98 406.806 1700.55 404.977 Q1699.11 403.149 1696.24 403.149 Q1692.79 403.149 1690.8 405.348 Q1688.81 407.547 1688.81 411.343 L1688.81 425.996 L1684.53 425.996 L1684.53 400.07 L1688.81 400.07 L1688.81 404.098 Q1690.34 401.76 1692.4 400.602 Q1694.48 399.445 1697.19 399.445 Q1701.66 399.445 1703.95 402.223 Q1706.24 404.977 1706.24 410.348 Z\" fill=\"#000000\" fill-rule=\"evenodd\" fill-opacity=\"1\" /><path clip-path=\"url(#clip780)\" d=\"M 0 0 M1733.39 401.065 L1733.39 405.047 Q1731.59 404.051 1729.76 403.565 Q1727.95 403.056 1726.1 403.056 Q1721.96 403.056 1719.67 405.695 Q1717.38 408.311 1717.38 413.056 Q1717.38 417.801 1719.67 420.44 Q1721.96 423.056 1726.1 423.056 Q1727.95 423.056 1729.76 422.57 Q1731.59 422.061 1733.39 421.065 L1733.39 425 Q1731.61 425.834 1729.69 426.25 Q1727.79 426.667 1725.64 426.667 Q1719.78 426.667 1716.33 422.986 Q1712.89 419.306 1712.89 413.056 Q1712.89 406.713 1716.36 403.079 Q1719.85 399.445 1725.92 399.445 Q1727.89 399.445 1729.76 399.862 Q1731.64 400.255 1733.39 401.065 Z\" fill=\"#000000\" fill-rule=\"evenodd\" fill-opacity=\"1\" /><path clip-path=\"url(#clip780)\" d=\"M 0 0 M1762.98 411.968 L1762.98 414.051 L1743.39 414.051 Q1743.67 418.449 1746.03 420.764 Q1748.42 423.056 1752.65 423.056 Q1755.11 423.056 1757.4 422.454 Q1759.71 421.852 1761.98 420.649 L1761.98 424.676 Q1759.69 425.648 1757.28 426.158 Q1754.88 426.667 1752.4 426.667 Q1746.2 426.667 1742.56 423.056 Q1738.95 419.445 1738.95 413.287 Q1738.95 406.922 1742.38 403.195 Q1745.82 399.445 1751.66 399.445 Q1756.89 399.445 1759.92 402.825 Q1762.98 406.181 1762.98 411.968 M1758.72 410.718 Q1758.67 407.223 1756.75 405.139 Q1754.85 403.056 1751.7 403.056 Q1748.14 403.056 1745.99 405.07 Q1743.86 407.084 1743.53 410.741 L1758.72 410.718 Z\" fill=\"#000000\" fill-rule=\"evenodd\" fill-opacity=\"1\" /></svg>\n"
      ]
     },
     "execution_count": 146,
     "metadata": {},
     "output_type": "execute_result"
    }
   ],
   "source": [
    "Xsol,Usol = unpackZ(knots, z_sol)\n",
    "plot(Xsol[1, :], Xsol[2, :], aspect_ratio=:equal, lims=(-semiMajorAxis_goal*3,semiMajorAxis_goal*3), label=\"Solution\", lw=5)\n",
    "xlabel!(\"Orbital Units\")\n",
    "ylabel!(\"Orbital Units\")\n",
    "plot!([goal_orbit.x0[1]], [goal_orbit.x0[2]], markershape=:xcross, markersize=5, label=\"Goal State\")\n",
    "plot!([0], [0], lw=1, markershape=:o, label=\"Planet Earth\")\n",
    "plot!(X[1, :], X[2, :], title = \"Optimal Solution Tmax=10\", label = \"Reference\", lw = 3)\n"
   ]
  },
  {
   "cell_type": "code",
   "execution_count": null,
   "metadata": {},
   "outputs": [],
   "source": [
    "knots_final = 10000\n",
    "Xfinal = zeros((Nx, knots_final))\n",
    "Xfinal[:, 1] .= Xsol[:,end]\n",
    "for k = 1:knots_final-1\n",
    "    Xfinal[:, k+1] = dynamics_rk4(Xfinal[:, k], zeros(3), 1e-2)\n",
    "end\n",
    "plot(Xfinal[1,:], Xfinal[2,:], )"
   ]
  },
  {
   "cell_type": "code",
   "execution_count": 33,
   "metadata": {},
   "outputs": [
    {
     "data": {
      "image/svg+xml": [
       "<?xml version=\"1.0\" encoding=\"utf-8\"?>\n",
       "<svg xmlns=\"http://www.w3.org/2000/svg\" xmlns:xlink=\"http://www.w3.org/1999/xlink\" width=\"600\" height=\"400\" viewBox=\"0 0 2400 1600\">\n",
       "<defs>\n",
       "  <clipPath id=\"clip980\">\n",
       "    <rect x=\"0\" y=\"0\" width=\"2400\" height=\"1600\"/>\n",
       "  </clipPath>\n",
       "</defs>\n",
       "<path clip-path=\"url(#clip980)\" d=\"\n",
       "M0 1600 L2400 1600 L2400 0 L0 0  Z\n",
       "  \" fill=\"#ffffff\" fill-rule=\"evenodd\" fill-opacity=\"1\"/>\n",
       "<defs>\n",
       "  <clipPath id=\"clip981\">\n",
       "    <rect x=\"480\" y=\"0\" width=\"1681\" height=\"1600\"/>\n",
       "  </clipPath>\n",
       "</defs>\n",
       "<path clip-path=\"url(#clip980)\" d=\"\n",
       "M147.709 1486.45 L2352.76 1486.45 L2352.76 47.2441 L147.709 47.2441  Z\n",
       "  \" fill=\"#ffffff\" fill-rule=\"evenodd\" fill-opacity=\"1\"/>\n",
       "<defs>\n",
       "  <clipPath id=\"clip982\">\n",
       "    <rect x=\"147\" y=\"47\" width=\"2206\" height=\"1440\"/>\n",
       "  </clipPath>\n",
       "</defs>\n",
       "<polyline clip-path=\"url(#clip982)\" style=\"stroke:#000000; stroke-width:2; stroke-opacity:0.1; fill:none\" points=\"\n",
       "  188.89,1486.45 188.89,47.2441 \n",
       "  \"/>\n",
       "<polyline clip-path=\"url(#clip982)\" style=\"stroke:#000000; stroke-width:2; stroke-opacity:0.1; fill:none\" points=\"\n",
       "  719.561,1486.45 719.561,47.2441 \n",
       "  \"/>\n",
       "<polyline clip-path=\"url(#clip982)\" style=\"stroke:#000000; stroke-width:2; stroke-opacity:0.1; fill:none\" points=\"\n",
       "  1250.23,1486.45 1250.23,47.2441 \n",
       "  \"/>\n",
       "<polyline clip-path=\"url(#clip982)\" style=\"stroke:#000000; stroke-width:2; stroke-opacity:0.1; fill:none\" points=\"\n",
       "  1780.9,1486.45 1780.9,47.2441 \n",
       "  \"/>\n",
       "<polyline clip-path=\"url(#clip982)\" style=\"stroke:#000000; stroke-width:2; stroke-opacity:0.1; fill:none\" points=\"\n",
       "  2311.58,1486.45 2311.58,47.2441 \n",
       "  \"/>\n",
       "<polyline clip-path=\"url(#clip980)\" style=\"stroke:#000000; stroke-width:4; stroke-opacity:1; fill:none\" points=\"\n",
       "  147.709,1486.45 2352.76,1486.45 \n",
       "  \"/>\n",
       "<polyline clip-path=\"url(#clip980)\" style=\"stroke:#000000; stroke-width:4; stroke-opacity:1; fill:none\" points=\"\n",
       "  188.89,1486.45 188.89,1469.18 \n",
       "  \"/>\n",
       "<polyline clip-path=\"url(#clip980)\" style=\"stroke:#000000; stroke-width:4; stroke-opacity:1; fill:none\" points=\"\n",
       "  719.561,1486.45 719.561,1469.18 \n",
       "  \"/>\n",
       "<polyline clip-path=\"url(#clip980)\" style=\"stroke:#000000; stroke-width:4; stroke-opacity:1; fill:none\" points=\"\n",
       "  1250.23,1486.45 1250.23,1469.18 \n",
       "  \"/>\n",
       "<polyline clip-path=\"url(#clip980)\" style=\"stroke:#000000; stroke-width:4; stroke-opacity:1; fill:none\" points=\"\n",
       "  1780.9,1486.45 1780.9,1469.18 \n",
       "  \"/>\n",
       "<polyline clip-path=\"url(#clip980)\" style=\"stroke:#000000; stroke-width:4; stroke-opacity:1; fill:none\" points=\"\n",
       "  2311.58,1486.45 2311.58,1469.18 \n",
       "  \"/>\n",
       "<path clip-path=\"url(#clip980)\" d=\"M 0 0 M188.89 1515.64 Q185.278 1515.64 183.45 1519.2 Q181.644 1522.75 181.644 1529.87 Q181.644 1536.98 183.45 1540.55 Q185.278 1544.09 188.89 1544.09 Q192.524 1544.09 194.329 1540.55 Q196.158 1536.98 196.158 1529.87 Q196.158 1522.75 194.329 1519.2 Q192.524 1515.64 188.89 1515.64 M188.89 1511.93 Q194.7 1511.93 197.755 1516.54 Q200.834 1521.12 200.834 1529.87 Q200.834 1538.6 197.755 1543.21 Q194.7 1547.79 188.89 1547.79 Q183.079 1547.79 180.001 1543.21 Q176.945 1538.6 176.945 1529.87 Q176.945 1521.12 180.001 1516.54 Q183.079 1511.93 188.89 1511.93 Z\" fill=\"#000000\" fill-rule=\"evenodd\" fill-opacity=\"1\" /><path clip-path=\"url(#clip980)\" d=\"M 0 0 M698.832 1543.18 L715.151 1543.18 L715.151 1547.12 L693.207 1547.12 L693.207 1543.18 Q695.869 1540.43 700.452 1535.8 Q705.059 1531.15 706.239 1529.81 Q708.485 1527.28 709.364 1525.55 Q710.267 1523.79 710.267 1522.1 Q710.267 1519.34 708.323 1517.61 Q706.401 1515.87 703.3 1515.87 Q701.101 1515.87 698.647 1516.63 Q696.216 1517.4 693.439 1518.95 L693.439 1514.23 Q696.263 1513.09 698.716 1512.51 Q701.17 1511.93 703.207 1511.93 Q708.577 1511.93 711.772 1514.62 Q714.966 1517.31 714.966 1521.8 Q714.966 1523.93 714.156 1525.85 Q713.369 1527.74 711.263 1530.34 Q710.684 1531.01 707.582 1534.23 Q704.48 1537.42 698.832 1543.18 Z\" fill=\"#000000\" fill-rule=\"evenodd\" fill-opacity=\"1\" /><path clip-path=\"url(#clip980)\" d=\"M 0 0 M725.012 1512.56 L743.369 1512.56 L743.369 1516.5 L729.295 1516.5 L729.295 1524.97 Q730.313 1524.62 731.332 1524.46 Q732.35 1524.27 733.369 1524.27 Q739.156 1524.27 742.535 1527.44 Q745.915 1530.62 745.915 1536.03 Q745.915 1541.61 742.443 1544.71 Q738.971 1547.79 732.651 1547.79 Q730.475 1547.79 728.207 1547.42 Q725.962 1547.05 723.554 1546.31 L723.554 1541.61 Q725.637 1542.74 727.86 1543.3 Q730.082 1543.86 732.559 1543.86 Q736.563 1543.86 738.901 1541.75 Q741.239 1539.64 741.239 1536.03 Q741.239 1532.42 738.901 1530.31 Q736.563 1528.21 732.559 1528.21 Q730.684 1528.21 728.809 1528.62 Q726.957 1529.04 725.012 1529.92 L725.012 1512.56 Z\" fill=\"#000000\" fill-rule=\"evenodd\" fill-opacity=\"1\" /><path clip-path=\"url(#clip980)\" d=\"M 0 0 M1224.93 1512.56 L1243.29 1512.56 L1243.29 1516.5 L1229.21 1516.5 L1229.21 1524.97 Q1230.23 1524.62 1231.25 1524.46 Q1232.27 1524.27 1233.29 1524.27 Q1239.08 1524.27 1242.45 1527.44 Q1245.83 1530.62 1245.83 1536.03 Q1245.83 1541.61 1242.36 1544.71 Q1238.89 1547.79 1232.57 1547.79 Q1230.39 1547.79 1228.13 1547.42 Q1225.88 1547.05 1223.47 1546.31 L1223.47 1541.61 Q1225.56 1542.74 1227.78 1543.3 Q1230 1543.86 1232.48 1543.86 Q1236.48 1543.86 1238.82 1541.75 Q1241.16 1539.64 1241.16 1536.03 Q1241.16 1532.42 1238.82 1530.31 Q1236.48 1528.21 1232.48 1528.21 Q1230.6 1528.21 1228.73 1528.62 Q1226.88 1529.04 1224.93 1529.92 L1224.93 1512.56 Z\" fill=\"#000000\" fill-rule=\"evenodd\" fill-opacity=\"1\" /><path clip-path=\"url(#clip980)\" d=\"M 0 0 M1265.05 1515.64 Q1261.44 1515.64 1259.61 1519.2 Q1257.8 1522.75 1257.8 1529.87 Q1257.8 1536.98 1259.61 1540.55 Q1261.44 1544.09 1265.05 1544.09 Q1268.68 1544.09 1270.49 1540.55 Q1272.32 1536.98 1272.32 1529.87 Q1272.32 1522.75 1270.49 1519.2 Q1268.68 1515.64 1265.05 1515.64 M1265.05 1511.93 Q1270.86 1511.93 1273.91 1516.54 Q1276.99 1521.12 1276.99 1529.87 Q1276.99 1538.6 1273.91 1543.21 Q1270.86 1547.79 1265.05 1547.79 Q1259.24 1547.79 1256.16 1543.21 Q1253.1 1538.6 1253.1 1529.87 Q1253.1 1521.12 1256.16 1516.54 Q1259.24 1511.93 1265.05 1511.93 Z\" fill=\"#000000\" fill-rule=\"evenodd\" fill-opacity=\"1\" /><path clip-path=\"url(#clip980)\" d=\"M 0 0 M1754.76 1512.56 L1776.98 1512.56 L1776.98 1514.55 L1764.43 1547.12 L1759.55 1547.12 L1771.36 1516.5 L1754.76 1516.5 L1754.76 1512.56 Z\" fill=\"#000000\" fill-rule=\"evenodd\" fill-opacity=\"1\" /><path clip-path=\"url(#clip980)\" d=\"M 0 0 M1786.15 1512.56 L1804.5 1512.56 L1804.5 1516.5 L1790.43 1516.5 L1790.43 1524.97 Q1791.45 1524.62 1792.47 1524.46 Q1793.49 1524.27 1794.5 1524.27 Q1800.29 1524.27 1803.67 1527.44 Q1807.05 1530.62 1807.05 1536.03 Q1807.05 1541.61 1803.58 1544.71 Q1800.11 1547.79 1793.79 1547.79 Q1791.61 1547.79 1789.34 1547.42 Q1787.1 1547.05 1784.69 1546.31 L1784.69 1541.61 Q1786.77 1542.74 1788.99 1543.3 Q1791.22 1543.86 1793.69 1543.86 Q1797.7 1543.86 1800.04 1541.75 Q1802.37 1539.64 1802.37 1536.03 Q1802.37 1532.42 1800.04 1530.31 Q1797.7 1528.21 1793.69 1528.21 Q1791.82 1528.21 1789.94 1528.62 Q1788.09 1529.04 1786.15 1529.92 L1786.15 1512.56 Z\" fill=\"#000000\" fill-rule=\"evenodd\" fill-opacity=\"1\" /><path clip-path=\"url(#clip980)\" d=\"M 0 0 M2271.18 1543.18 L2278.82 1543.18 L2278.82 1516.82 L2270.51 1518.49 L2270.51 1514.23 L2278.78 1512.56 L2283.45 1512.56 L2283.45 1543.18 L2291.09 1543.18 L2291.09 1547.12 L2271.18 1547.12 L2271.18 1543.18 Z\" fill=\"#000000\" fill-rule=\"evenodd\" fill-opacity=\"1\" /><path clip-path=\"url(#clip980)\" d=\"M 0 0 M2310.53 1515.64 Q2306.92 1515.64 2305.09 1519.2 Q2303.29 1522.75 2303.29 1529.87 Q2303.29 1536.98 2305.09 1540.55 Q2306.92 1544.09 2310.53 1544.09 Q2314.17 1544.09 2315.97 1540.55 Q2317.8 1536.98 2317.8 1529.87 Q2317.8 1522.75 2315.97 1519.2 Q2314.17 1515.64 2310.53 1515.64 M2310.53 1511.93 Q2316.34 1511.93 2319.4 1516.54 Q2322.48 1521.12 2322.48 1529.87 Q2322.48 1538.6 2319.4 1543.21 Q2316.34 1547.79 2310.53 1547.79 Q2304.72 1547.79 2301.65 1543.21 Q2298.59 1538.6 2298.59 1529.87 Q2298.59 1521.12 2301.65 1516.54 Q2304.72 1511.93 2310.53 1511.93 Z\" fill=\"#000000\" fill-rule=\"evenodd\" fill-opacity=\"1\" /><path clip-path=\"url(#clip980)\" d=\"M 0 0 M2340.7 1515.64 Q2337.08 1515.64 2335.26 1519.2 Q2333.45 1522.75 2333.45 1529.87 Q2333.45 1536.98 2335.26 1540.55 Q2337.08 1544.09 2340.7 1544.09 Q2344.33 1544.09 2346.14 1540.55 Q2347.96 1536.98 2347.96 1529.87 Q2347.96 1522.75 2346.14 1519.2 Q2344.33 1515.64 2340.7 1515.64 M2340.7 1511.93 Q2346.51 1511.93 2349.56 1516.54 Q2352.64 1521.12 2352.64 1529.87 Q2352.64 1538.6 2349.56 1543.21 Q2346.51 1547.79 2340.7 1547.79 Q2334.89 1547.79 2331.81 1543.21 Q2328.75 1538.6 2328.75 1529.87 Q2328.75 1521.12 2331.81 1516.54 Q2334.89 1511.93 2340.7 1511.93 Z\" fill=\"#000000\" fill-rule=\"evenodd\" fill-opacity=\"1\" /><polyline clip-path=\"url(#clip982)\" style=\"stroke:#000000; stroke-width:2; stroke-opacity:0.1; fill:none\" points=\"\n",
       "  147.709,1270.15 2352.76,1270.15 \n",
       "  \"/>\n",
       "<polyline clip-path=\"url(#clip982)\" style=\"stroke:#000000; stroke-width:2; stroke-opacity:0.1; fill:none\" points=\"\n",
       "  147.709,868.103 2352.76,868.103 \n",
       "  \"/>\n",
       "<polyline clip-path=\"url(#clip982)\" style=\"stroke:#000000; stroke-width:2; stroke-opacity:0.1; fill:none\" points=\"\n",
       "  147.709,466.061 2352.76,466.061 \n",
       "  \"/>\n",
       "<polyline clip-path=\"url(#clip982)\" style=\"stroke:#000000; stroke-width:2; stroke-opacity:0.1; fill:none\" points=\"\n",
       "  147.709,64.0187 2352.76,64.0187 \n",
       "  \"/>\n",
       "<polyline clip-path=\"url(#clip980)\" style=\"stroke:#000000; stroke-width:4; stroke-opacity:1; fill:none\" points=\"\n",
       "  147.709,1486.45 147.709,47.2441 \n",
       "  \"/>\n",
       "<polyline clip-path=\"url(#clip980)\" style=\"stroke:#000000; stroke-width:4; stroke-opacity:1; fill:none\" points=\"\n",
       "  147.709,1270.15 174.17,1270.15 \n",
       "  \"/>\n",
       "<polyline clip-path=\"url(#clip980)\" style=\"stroke:#000000; stroke-width:4; stroke-opacity:1; fill:none\" points=\"\n",
       "  147.709,868.103 174.17,868.103 \n",
       "  \"/>\n",
       "<polyline clip-path=\"url(#clip980)\" style=\"stroke:#000000; stroke-width:4; stroke-opacity:1; fill:none\" points=\"\n",
       "  147.709,466.061 174.17,466.061 \n",
       "  \"/>\n",
       "<polyline clip-path=\"url(#clip980)\" style=\"stroke:#000000; stroke-width:4; stroke-opacity:1; fill:none\" points=\"\n",
       "  147.709,64.0187 174.17,64.0187 \n",
       "  \"/>\n",
       "<path clip-path=\"url(#clip980)\" d=\"M 0 0 M50.9921 1270.6 L80.6679 1270.6 L80.6679 1274.53 L50.9921 1274.53 L50.9921 1270.6 Z\" fill=\"#000000\" fill-rule=\"evenodd\" fill-opacity=\"1\" /><path clip-path=\"url(#clip980)\" d=\"M 0 0 M90.8067 1252.87 L109.163 1252.87 L109.163 1256.8 L95.0891 1256.8 L95.0891 1265.27 Q96.1076 1264.93 97.1261 1264.76 Q98.1447 1264.58 99.1632 1264.58 Q104.95 1264.58 108.33 1267.75 Q111.709 1270.92 111.709 1276.34 Q111.709 1281.92 108.237 1285.02 Q104.765 1288.1 98.4456 1288.1 Q96.2697 1288.1 94.0012 1287.73 Q91.7558 1287.36 89.3484 1286.62 L89.3484 1281.92 Q91.4317 1283.05 93.6539 1283.61 Q95.8761 1284.16 98.353 1284.16 Q102.358 1284.16 104.696 1282.06 Q107.033 1279.95 107.033 1276.34 Q107.033 1272.73 104.696 1270.62 Q102.358 1268.51 98.353 1268.51 Q96.478 1268.51 94.603 1268.93 Q92.7512 1269.35 90.8067 1270.23 L90.8067 1252.87 Z\" fill=\"#000000\" fill-rule=\"evenodd\" fill-opacity=\"1\" /><path clip-path=\"url(#clip980)\" d=\"M 0 0 M99.765 853.902 Q96.1539 853.902 94.3252 857.467 Q92.5197 861.008 92.5197 868.138 Q92.5197 875.244 94.3252 878.809 Q96.1539 882.351 99.765 882.351 Q103.399 882.351 105.205 878.809 Q107.033 875.244 107.033 868.138 Q107.033 861.008 105.205 857.467 Q103.399 853.902 99.765 853.902 M99.765 850.198 Q105.575 850.198 108.631 854.805 Q111.709 859.388 111.709 868.138 Q111.709 876.865 108.631 881.471 Q105.575 886.055 99.765 886.055 Q93.9549 886.055 90.8762 881.471 Q87.8206 876.865 87.8206 868.138 Q87.8206 859.388 90.8762 854.805 Q93.9549 850.198 99.765 850.198 Z\" fill=\"#000000\" fill-rule=\"evenodd\" fill-opacity=\"1\" /><path clip-path=\"url(#clip980)\" d=\"M 0 0 M90.8067 448.781 L109.163 448.781 L109.163 452.716 L95.0891 452.716 L95.0891 461.188 Q96.1076 460.841 97.1261 460.679 Q98.1447 460.494 99.1632 460.494 Q104.95 460.494 108.33 463.665 Q111.709 466.836 111.709 472.253 Q111.709 477.832 108.237 480.934 Q104.765 484.012 98.4456 484.012 Q96.2697 484.012 94.0012 483.642 Q91.7558 483.272 89.3484 482.531 L89.3484 477.832 Q91.4317 478.966 93.6539 479.522 Q95.8761 480.077 98.353 480.077 Q102.358 480.077 104.696 477.971 Q107.033 475.864 107.033 472.253 Q107.033 468.642 104.696 466.536 Q102.358 464.429 98.353 464.429 Q96.478 464.429 94.603 464.846 Q92.7512 465.262 90.8067 466.142 L90.8067 448.781 Z\" fill=\"#000000\" fill-rule=\"evenodd\" fill-opacity=\"1\" /><path clip-path=\"url(#clip980)\" d=\"M 0 0 M60.4134 77.3635 L68.0522 77.3635 L68.0522 50.9979 L59.7421 52.6646 L59.7421 48.4054 L68.0059 46.7387 L72.6818 46.7387 L72.6818 77.3635 L80.3207 77.3635 L80.3207 81.2987 L60.4134 81.2987 L60.4134 77.3635 Z\" fill=\"#000000\" fill-rule=\"evenodd\" fill-opacity=\"1\" /><path clip-path=\"url(#clip980)\" d=\"M 0 0 M99.765 49.8174 Q96.1539 49.8174 94.3252 53.3822 Q92.5197 56.9238 92.5197 64.0534 Q92.5197 71.1599 94.3252 74.7247 Q96.1539 78.2663 99.765 78.2663 Q103.399 78.2663 105.205 74.7247 Q107.033 71.1599 107.033 64.0534 Q107.033 56.9238 105.205 53.3822 Q103.399 49.8174 99.765 49.8174 M99.765 46.1137 Q105.575 46.1137 108.631 50.7202 Q111.709 55.3035 111.709 64.0534 Q111.709 72.7802 108.631 77.3867 Q105.575 81.97 99.765 81.97 Q93.9549 81.97 90.8762 77.3867 Q87.8206 72.7802 87.8206 64.0534 Q87.8206 55.3035 90.8762 50.7202 Q93.9549 46.1137 99.765 46.1137 Z\" fill=\"#000000\" fill-rule=\"evenodd\" fill-opacity=\"1\" /><polyline clip-path=\"url(#clip982)\" style=\"stroke:#009af9; stroke-width:4; stroke-opacity:1; fill:none\" points=\"\n",
       "  210.116,1062.92 231.343,1445.72 252.57,1388.25 273.797,1314.86 295.024,1255.5 316.251,1208.4 337.478,1170.62 358.704,1139.87 379.931,1114.49 401.158,1093.3 \n",
       "  422.385,1075.4 443.612,1060.15 464.839,1047.06 486.066,1035.73 507.292,1025.86 528.519,1017.22 549.746,1009.61 570.973,1002.87 592.2,996.87 613.427,991.496 \n",
       "  634.654,986.657 655.88,982.276 677.107,978.285 698.334,974.627 719.561,971.251 740.788,968.113 762.015,965.177 783.242,962.408 804.469,959.776 825.695,957.257 \n",
       "  846.922,954.827 868.149,952.466 889.376,950.155 910.603,947.879 931.83,945.623 953.057,943.374 974.283,941.122 995.51,938.856 1016.74,936.568 1037.96,934.25 \n",
       "  1059.19,931.896 1080.42,929.499 1101.64,927.056 1122.87,924.562 1144.1,922.015 1165.33,919.411 1186.55,916.749 1207.78,914.029 1229.01,911.251 1250.23,908.414 \n",
       "  1271.46,905.519 1292.69,902.569 1313.91,899.566 1335.14,896.513 1356.37,893.413 1377.59,890.271 1398.82,887.092 1420.05,883.881 1441.27,880.646 1462.5,877.392 \n",
       "  1483.73,874.128 1504.96,870.862 1526.18,867.604 1547.41,864.364 1568.64,861.152 1589.86,857.981 1611.09,854.864 1632.32,851.814 1653.54,848.846 1674.77,845.976 \n",
       "  1696,843.22 1717.22,840.596 1738.45,838.122 1759.68,835.818 1780.9,833.704 1802.13,831.799 1823.36,830.122 1844.58,828.693 1865.81,827.528 1887.04,826.638 \n",
       "  1908.27,826.032 1929.49,825.707 1950.72,825.649 1971.95,825.828 1993.17,826.186 2014.4,826.639 2035.63,827.057 2056.85,827.262 2078.08,827.013 2099.31,825.998 \n",
       "  2120.53,823.828 2141.76,820.044 2162.99,814.12 2184.21,805.497 2205.44,793.615 2226.67,777.96 2247.9,758.116 2269.12,733.804 2290.35,704.908 \n",
       "  \"/>\n",
       "<polyline clip-path=\"url(#clip982)\" style=\"stroke:#e26f46; stroke-width:4; stroke-opacity:1; fill:none\" points=\"\n",
       "  210.116,87.9763 231.343,308.714 252.57,540.366 273.797,653.751 295.024,716.817 316.251,755.667 337.478,781.315 358.704,799.151 379.931,812.093 401.158,821.836 \n",
       "  422.385,829.426 443.612,835.531 464.839,840.594 486.066,844.917 507.292,848.711 528.519,852.126 549.746,855.266 570.973,858.211 592.2,861.017 613.427,863.725 \n",
       "  634.654,866.366 655.88,868.962 677.107,871.528 698.334,874.076 719.561,876.613 740.788,879.145 762.015,881.674 783.242,884.201 804.469,886.726 825.695,889.248 \n",
       "  846.922,891.765 868.149,894.274 889.376,896.772 910.603,899.256 931.83,901.721 953.057,904.164 974.283,906.581 995.51,908.966 1016.74,911.317 1037.96,913.628 \n",
       "  1059.19,915.895 1080.42,918.114 1101.64,920.28 1122.87,922.388 1144.1,924.435 1165.33,926.416 1186.55,928.326 1207.78,930.163 1229.01,931.922 1250.23,933.599 \n",
       "  1271.46,935.19 1292.69,936.693 1313.91,938.103 1335.14,939.418 1356.37,940.635 1377.59,941.751 1398.82,942.764 1420.05,943.673 1441.27,944.475 1462.5,945.17 \n",
       "  1483.73,945.757 1504.96,946.236 1526.18,946.607 1547.41,946.872 1568.64,947.034 1589.86,947.095 1611.09,947.06 1632.32,946.935 1653.54,946.727 1674.77,946.445 \n",
       "  1696,946.101 1717.22,945.709 1738.45,945.286 1759.68,944.852 1780.9,944.434 1802.13,944.062 1823.36,943.773 1844.58,943.61 1865.81,943.627 1887.04,943.886 \n",
       "  1908.27,944.463 1929.49,945.446 1950.72,946.937 1971.95,949.056 1993.17,951.939 2014.4,955.737 2035.63,960.611 2056.85,966.731 2078.08,974.259 2099.31,983.335 \n",
       "  2120.53,994.057 2141.76,1006.45 2162.99,1020.44 2184.21,1035.81 2205.44,1052.21 2226.67,1069.12 2247.9,1085.87 2269.12,1101.68 2290.35,1115.67 \n",
       "  \"/>\n",
       "<polyline clip-path=\"url(#clip982)\" style=\"stroke:#3da44d; stroke-width:4; stroke-opacity:1; fill:none\" points=\"\n",
       "  210.116,868.103 231.343,868.103 252.57,868.103 273.797,868.103 295.024,868.103 316.251,868.103 337.478,868.103 358.704,868.103 379.931,868.103 401.158,868.103 \n",
       "  422.385,868.103 443.612,868.103 464.839,868.103 486.066,868.103 507.292,868.103 528.519,868.103 549.746,868.103 570.973,868.103 592.2,868.103 613.427,868.103 \n",
       "  634.654,868.103 655.88,868.103 677.107,868.103 698.334,868.103 719.561,868.103 740.788,868.103 762.015,868.103 783.242,868.103 804.469,868.103 825.695,868.103 \n",
       "  846.922,868.103 868.149,868.103 889.376,868.103 910.603,868.103 931.83,868.103 953.057,868.103 974.283,868.103 995.51,868.103 1016.74,868.103 1037.96,868.103 \n",
       "  1059.19,868.103 1080.42,868.103 1101.64,868.103 1122.87,868.103 1144.1,868.103 1165.33,868.103 1186.55,868.103 1207.78,868.103 1229.01,868.103 1250.23,868.103 \n",
       "  1271.46,868.103 1292.69,868.103 1313.91,868.103 1335.14,868.103 1356.37,868.103 1377.59,868.103 1398.82,868.103 1420.05,868.103 1441.27,868.103 1462.5,868.103 \n",
       "  1483.73,868.103 1504.96,868.103 1526.18,868.103 1547.41,868.103 1568.64,868.103 1589.86,868.103 1611.09,868.103 1632.32,868.103 1653.54,868.103 1674.77,868.103 \n",
       "  1696,868.103 1717.22,868.103 1738.45,868.103 1759.68,868.103 1780.9,868.103 1802.13,868.103 1823.36,868.103 1844.58,868.103 1865.81,868.103 1887.04,868.103 \n",
       "  1908.27,868.103 1929.49,868.103 1950.72,868.103 1971.95,868.103 1993.17,868.103 2014.4,868.103 2035.63,868.103 2056.85,868.103 2078.08,868.103 2099.31,868.103 \n",
       "  2120.53,868.103 2141.76,868.103 2162.99,868.103 2184.21,868.103 2205.44,868.103 2226.67,868.103 2247.9,868.103 2269.12,868.103 2290.35,868.103 \n",
       "  \"/>\n",
       "<path clip-path=\"url(#clip980)\" d=\"\n",
       "M1977.03 337.138 L2279.25 337.138 L2279.25 95.2176 L1977.03 95.2176  Z\n",
       "  \" fill=\"#ffffff\" fill-rule=\"evenodd\" fill-opacity=\"1\"/>\n",
       "<polyline clip-path=\"url(#clip980)\" style=\"stroke:#000000; stroke-width:4; stroke-opacity:1; fill:none\" points=\"\n",
       "  1977.03,337.138 2279.25,337.138 2279.25,95.2176 1977.03,95.2176 1977.03,337.138 \n",
       "  \"/>\n",
       "<polyline clip-path=\"url(#clip980)\" style=\"stroke:#009af9; stroke-width:4; stroke-opacity:1; fill:none\" points=\"\n",
       "  2001.53,155.698 2148.53,155.698 \n",
       "  \"/>\n",
       "<path clip-path=\"url(#clip980)\" d=\"M 0 0 M2173.03 138.418 L2177.73 138.418 L2177.73 159.413 Q2177.73 164.968 2179.74 167.422 Q2181.76 169.853 2186.27 169.853 Q2190.76 169.853 2192.78 167.422 Q2194.79 164.968 2194.79 159.413 L2194.79 138.418 L2199.49 138.418 L2199.49 159.992 Q2199.49 166.751 2196.13 170.2 Q2192.8 173.649 2186.27 173.649 Q2179.72 173.649 2176.36 170.2 Q2173.03 166.751 2173.03 159.992 L2173.03 138.418 Z\" fill=\"#000000\" fill-rule=\"evenodd\" fill-opacity=\"1\" /><path clip-path=\"url(#clip980)\" d=\"M 0 0 M2229.63 147.052 L2220.25 159.667 L2230.11 172.978 L2225.09 172.978 L2217.55 162.792 L2210 172.978 L2204.98 172.978 L2215.05 159.413 L2205.83 147.052 L2210.86 147.052 L2217.73 156.288 L2224.61 147.052 L2229.63 147.052 Z\" fill=\"#000000\" fill-rule=\"evenodd\" fill-opacity=\"1\" /><polyline clip-path=\"url(#clip980)\" style=\"stroke:#e26f46; stroke-width:4; stroke-opacity:1; fill:none\" points=\"\n",
       "  2001.53,216.178 2148.53,216.178 \n",
       "  \"/>\n",
       "<path clip-path=\"url(#clip980)\" d=\"M 0 0 M2173.03 198.898 L2177.73 198.898 L2177.73 219.893 Q2177.73 225.448 2179.74 227.902 Q2181.76 230.333 2186.27 230.333 Q2190.76 230.333 2192.78 227.902 Q2194.79 225.448 2194.79 219.893 L2194.79 198.898 L2199.49 198.898 L2199.49 220.472 Q2199.49 227.231 2196.13 230.68 Q2192.8 234.129 2186.27 234.129 Q2179.72 234.129 2176.36 230.68 Q2173.03 227.231 2173.03 220.472 L2173.03 198.898 Z\" fill=\"#000000\" fill-rule=\"evenodd\" fill-opacity=\"1\" /><path clip-path=\"url(#clip980)\" d=\"M 0 0 M2218.86 235.865 Q2217.06 240.495 2215.35 241.907 Q2213.63 243.319 2210.76 243.319 L2207.36 243.319 L2207.36 239.754 L2209.86 239.754 Q2211.62 239.754 2212.59 238.92 Q2213.56 238.087 2214.74 234.985 L2215.51 233.041 L2205.02 207.532 L2209.54 207.532 L2217.64 227.809 L2225.74 207.532 L2230.25 207.532 L2218.86 235.865 Z\" fill=\"#000000\" fill-rule=\"evenodd\" fill-opacity=\"1\" /><polyline clip-path=\"url(#clip980)\" style=\"stroke:#3da44d; stroke-width:4; stroke-opacity:1; fill:none\" points=\"\n",
       "  2001.53,276.658 2148.53,276.658 \n",
       "  \"/>\n",
       "<path clip-path=\"url(#clip980)\" d=\"M 0 0 M2173.03 259.378 L2177.73 259.378 L2177.73 280.373 Q2177.73 285.928 2179.74 288.382 Q2181.76 290.813 2186.27 290.813 Q2190.76 290.813 2192.78 288.382 Q2194.79 285.928 2194.79 280.373 L2194.79 259.378 L2199.49 259.378 L2199.49 280.952 Q2199.49 287.711 2196.13 291.16 Q2192.8 294.609 2186.27 294.609 Q2179.72 294.609 2176.36 291.16 Q2173.03 287.711 2173.03 280.952 L2173.03 259.378 Z\" fill=\"#000000\" fill-rule=\"evenodd\" fill-opacity=\"1\" /><path clip-path=\"url(#clip980)\" d=\"M 0 0 M2206.23 268.012 L2226.46 268.012 L2226.46 271.901 L2210.44 290.535 L2226.46 290.535 L2226.46 293.938 L2205.65 293.938 L2205.65 290.049 L2221.67 271.415 L2206.23 271.415 L2206.23 268.012 Z\" fill=\"#000000\" fill-rule=\"evenodd\" fill-opacity=\"1\" /></svg>\n"
      ]
     },
     "execution_count": 33,
     "metadata": {},
     "output_type": "execute_result"
    }
   ],
   "source": [
    "plot(1:knots-1, Usol[1, :], label=\"Ux\")\n",
    "plot!(1:knots-1, Usol[2, :], label=\"Uy\")\n",
    "plot!(1:knots-1, Usol[3, :], label=\"Uz\")"
   ]
  },
  {
   "cell_type": "code",
   "execution_count": null,
   "metadata": {},
   "outputs": [],
   "source": [
    "using Plots\n",
    "# define the Lorenz attractor\n",
    "Base.@kwdef mutable struct Trajectory\n",
    "#     dt::Float64 = 0.02\n",
    "#     σ::Float64 = 10\n",
    "#     ρ::Float64 = 28\n",
    "#     β::Float64 = 8/3\n",
    "    x::Float64 = Xsol[1,1]\n",
    "    y::Float64 = Xsol[2,1]\n",
    "    z::Float64 = Xsol[3,1]\n",
    "    ux::Float64 = Usol[1,1]\n",
    "    uy::Float64 = Usol[2,1]\n",
    "    uz::Float64 = Usol[3,1]\n",
    "    i::Int = 0\n",
    "end\n",
    "\n",
    "function step!(l::Trajectory)\n",
    "    l.i += 1\n",
    "    l.x = Xsol[1, l.i]\n",
    "    l.y = Xsol[2, l.i]\n",
    "    l.z = Xsol[3, l.i]\n",
    "#     l.ux = U[1, l.i]\n",
    "#     l.uy = U[2, l.i]\n",
    "#     l.uz = U[3, l.i]\n",
    "    \n",
    "#    \n",
    "end\n",
    "\n",
    "t = Trajectory()\n",
    "\n",
    "\n",
    "# initialize a 3D plot with 1 empty series\n",
    "plt = plot3d(\n",
    "    1,\n",
    "    lims=(-semiMajorAxis_goal*1.25,semiMajorAxis_goal*1.25),\n",
    "#     xlim = (-30, 30),\n",
    "#     ylim = (-30, 30),\n",
    "#     zlim = (0, 60),\n",
    "    title = \"Tmax = 1.0\",\n",
    "    marker = 2,\n",
    "    label = \"Reference Trajectory\", \n",
    "    camera = (45, 45), \n",
    "    aspect_ratio=:equal,\n",
    ")\n",
    "plot!([0], [0], [0], markershape=:o, markersize=3, label=\"Planet Earth\", color=:blue)\n",
    "xlabel!(\"Orbital Units\")\n",
    "ylabel!(\"Orbital Units\")\n",
    "# label!(\"Orbital Units\")\n",
    "# build an animated gif by pushing new points to the plot, saving every 10th frame\n",
    "@gif for i=1:knots\n",
    "    step!(t)\n",
    "    push!(plt, t.x, t.y, t.z)\n",
    "\n",
    "end every 10"
   ]
  },
  {
   "cell_type": "markdown",
   "metadata": {},
   "source": [
    "# DIRCOL Algorithm"
   ]
  },
  {
   "cell_type": "code",
   "execution_count": null,
   "metadata": {},
   "outputs": [],
   "source": [
    "# TASK: Complete implement DIRCOL Algo\n",
    "\n"
   ]
  },
  {
   "cell_type": "markdown",
   "metadata": {},
   "source": [
    "### Forward Pass"
   ]
  },
  {
   "cell_type": "code",
   "execution_count": null,
   "metadata": {},
   "outputs": [],
   "source": [
    "# TASK: Complete forward simulation of satelite "
   ]
  },
  {
   "cell_type": "markdown",
   "metadata": {},
   "source": [
    "## Part (b): Simple trajectory \n",
    "Planar example with quibit interpolation and no Thurst conditions"
   ]
  },
  {
   "cell_type": "code",
   "execution_count": null,
   "metadata": {},
   "outputs": [],
   "source": [
    "# Task Solve Simple Trajectory"
   ]
  },
  {
   "cell_type": "code",
   "execution_count": null,
   "metadata": {},
   "outputs": [],
   "source": [
    "# vis = Visualizer()\n",
    "# set_mesh!(vis, model)\n",
    "# render(vis)"
   ]
  },
  {
   "cell_type": "code",
   "execution_count": null,
   "metadata": {},
   "outputs": [],
   "source": [
    "# visualize!(vis, model, tf, Xline)"
   ]
  },
  {
   "cell_type": "markdown",
   "metadata": {},
   "source": [
    "## Part (c): Higher Order DIRCOL\n",
    "Solve the simple planar problem with unconstrained thrust with higher order DIRCOL 3->8th order"
   ]
  },
  {
   "cell_type": "code",
   "execution_count": null,
   "metadata": {},
   "outputs": [],
   "source": [
    "# TASK: Implement the following method"
   ]
  },
  {
   "cell_type": "code",
   "execution_count": null,
   "metadata": {},
   "outputs": [],
   "source": [
    "# TASK: Plot the comparison\n"
   ]
  },
  {
   "cell_type": "markdown",
   "metadata": {},
   "source": [
    "## Part (d): Inequality Constraints \n",
    "Using the thruster constraints solve the optimization problem"
   ]
  },
  {
   "cell_type": "code",
   "execution_count": null,
   "metadata": {},
   "outputs": [],
   "source": [
    "# TASK: Inequality constraints"
   ]
  },
  {
   "cell_type": "code",
   "execution_count": null,
   "metadata": {},
   "outputs": [],
   "source": [
    "# render(vis)"
   ]
  },
  {
   "cell_type": "code",
   "execution_count": null,
   "metadata": {},
   "outputs": [],
   "source": [
    "# visualize!(vis, model, tf, Xflip)"
   ]
  },
  {
   "cell_type": "markdown",
   "metadata": {},
   "source": [
    "## Part (e): Non-Planar Satellite Control\n"
   ]
  },
  {
   "cell_type": "code",
   "execution_count": null,
   "metadata": {},
   "outputs": [],
   "source": [
    "# TASK: Non-Planar Control"
   ]
  },
  {
   "cell_type": "markdown",
   "metadata": {},
   "source": [
    "## TESTS"
   ]
  },
  {
   "cell_type": "code",
   "execution_count": null,
   "metadata": {},
   "outputs": [],
   "source": [
    "# run_tests();"
   ]
  }
 ],
 "metadata": {
  "kernelspec": {
   "display_name": "Julia 1.6.1",
   "language": "julia",
   "name": "julia-1.6"
  },
  "language_info": {
   "file_extension": ".jl",
   "mimetype": "application/julia",
   "name": "julia",
   "version": "1.6.1"
  }
 },
 "nbformat": 4,
 "nbformat_minor": 4
}
