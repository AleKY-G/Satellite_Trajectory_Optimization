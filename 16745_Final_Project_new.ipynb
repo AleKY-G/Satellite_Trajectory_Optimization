{
 "cells": [
  {
   "cell_type": "code",
   "execution_count": 1,
   "metadata": {},
   "outputs": [
    {
     "name": "stderr",
     "output_type": "stream",
     "text": [
      "\u001b[32m\u001b[1m Activating\u001b[22m\u001b[39m environment at `F:\\Documents\\Schoolwork\\optimalControl\\16-745_final_project\\Project.toml`\n",
      "┌ Info: Precompiling ForwardDiff [f6369f11-7733-5829-9624-2563aa707210]\n",
      "└ @ Base loading.jl:1278\n",
      "┌ Info: Precompiling RobotDynamics [38ceca67-d8d3-44e8-9852-78a5596522e1]\n",
      "└ @ Base loading.jl:1278\n",
      "┌ Info: Precompiling Plots [91a5bcdd-55d7-5caf-9e0b-520d859cae80]\n",
      "└ @ Base loading.jl:1278\n"
     ]
    }
   ],
   "source": [
    "import Pkg; Pkg.activate(joinpath(@__DIR__,\"..\")); Pkg.instantiate();\n",
    "# Pkg.add(\"ForwardDiff\")\n",
    "# Pkg.add(\"RobotDynamics\")\n",
    "# Pkg.add(\"LinearAlgebra\")\n",
    "# Pkg.add(\"StaticArrays\")\n",
    "# Pkg.add(\"SparseArrays\")\n",
    "# Pkg.add(\"Plots\")\n",
    "# Pkg.add(\"Printf\")\n",
    "using ForwardDiff\n",
    "using Test\n",
    "using RobotDynamics\n",
    "using LinearAlgebra\n",
    "using StaticArrays\n",
    "using SparseArrays\n",
    "using Plots\n",
    "# using PyPlots\n",
    "using Printf\n",
    "\n",
    "# include(\"quadratic_cost.jl\")\n"
   ]
  },
  {
   "cell_type": "markdown",
   "metadata": {},
   "source": [
    "# Final Project Info\n",
    "In this we present a geostationary transfer orbit to a geosynchronous (GSO) or geostationary orbit (GEO).  We use Keplerian Orbital Dynamics to model our system. We make several assumptions like Earth Reference Frame, Spherical Earth, Kepler Dynamics. \n",
    "\n",
    "## The Model\n",
    "We'll be using the Kepler Dynamics:\n",
    "\n",
    "$\\newcommand{\\norm}[1]{\\left\\lVert#1\\right\\rVert}$\n",
    "\n",
    "$$ \n",
    "\\ddot{r} = F = \\frac{-\\mu}{\\norm{r}^3}*r+u \\\\\n",
    "x = [r, \\dot{r}] \\\\\n",
    "\\norm{u} \\le Tmax\n",
    "$$\n",
    "with the following model parameters:\n",
    "* $\\mu$: Gravitational Parameter = 63781\n",
    "* $r$: distance to earth center\n",
    "* $u$: control of ion thruster"
   ]
  },
  {
   "cell_type": "code",
   "execution_count": 3,
   "metadata": {},
   "outputs": [
    {
     "data": {
      "text/plain": [
       "39.47841760435743"
      ]
     },
     "execution_count": 3,
     "metadata": {},
     "output_type": "execute_result"
    }
   ],
   "source": [
    "# Problem Setup\n",
    "# Dont want KM and S\n",
    "# Rescale unite to order 1\n",
    "# Length unit = SMA \n",
    "# Time scale = T orbit period\n",
    "# Helps condition number \n",
    "\n",
    "# TODO Rescale μ \n",
    "# Hint can take big steps 10 knot points per-orbit\n",
    "\n",
    "struct Orbit{T}\n",
    "    semiMajorAxis::T\n",
    "    period::T\n",
    "    perigee::T #closest radius to earth\n",
    "    perigee_V::T #velocity at perigee\n",
    "    x0::Vector{T}\n",
    "#     function Orbit(x0) \n",
    "#         print(x0) #best is to input point with velocity and calucate useful parts of orbit\n",
    "#     end\n",
    "end\n",
    "\n",
    "# GTO =  Orbit(x0)\n",
    "\n",
    "\n",
    "function func(orbit::Orbit)\n",
    "    return orbit\n",
    "end\n",
    "\n",
    "\n",
    "\n",
    "# model = Kepler() # TODO\n",
    "# n,m = size(model)          # state and control dimensions\n",
    "dt = 0.025                 # time step (sec)\n",
    "tf = 1.5                   # time horizon (sec)\n",
    "T = Int(tf/dt) + 1         # number of time steps\n",
    "\n",
    "# Initial & final condition\n",
    "\n",
    "#cartesian and ECI\n",
    "#x,y,z,vx,vy,vz\n",
    "earthRadius_km = 6378.1 # [km]\n",
    "LEO_km = 500 #km above sealevel #circular low earth orbit # 250km \n",
    "GSO_km = 35786 #km above sealevel #circular geosychonous orbit\n",
    "μ_km_s = 3.986*10e5 #gravitational0 parameter [km^3 / s^2]\n",
    "semiMajorAxis_scale = (GSO_km+earthRadius_km+earthRadius_km+LEO_km)/2\n",
    "period_scale = sqrt(semiMajorAxis_scale^3/μ_km_s)*2*pi\n",
    "μ = μ_km_s*period_scale^2/semiMajorAxis_scale^3  #μ(OU^3/P^2)\n"
   ]
  },
  {
   "cell_type": "code",
   "execution_count": 4,
   "metadata": {},
   "outputs": [
    {
     "data": {
      "text/plain": [
       "Orbit{Float64}(1.0, 1.0, 0.28049720444841386, 15.556684458046954, [0.28049720444841386, 0.0, 0.0, 0.0, 15.556684458046954, 0.0])"
      ]
     },
     "execution_count": 4,
     "metadata": {},
     "output_type": "execute_result"
    }
   ],
   "source": [
    "semiMajorAxis_transfer = (GSO_km+earthRadius_km+earthRadius_km+LEO_km)/(2*semiMajorAxis_scale) #OU\n",
    "instantRadius_transfer = (earthRadius_km+LEO_km) / semiMajorAxis_scale # #OU\n",
    "instantVelocity_transfer = sqrt(μ*(2.0/instantRadius_transfer-1.0/semiMajorAxis_transfer)) #sqrt(OU^3/P^2/OU) =OU/P\n",
    "period_transfer = sqrt(semiMajorAxis_transfer^3/μ)*2*pi\n",
    "x0    = [instantRadius_transfer, 0.0, 0.0, 0.0, instantVelocity_transfer, 0.0] # initial state #geosynchronous transfer orbit (GTO, where rocket dropped satellite off)\n",
    "                                                                             #many kilometers above Africa in an elliptical orbit \n",
    "transfer_orbit = Orbit(semiMajorAxis_transfer, period_transfer, instantRadius_transfer, instantVelocity_transfer, x0)"
   ]
  },
  {
   "cell_type": "code",
   "execution_count": 5,
   "metadata": {},
   "outputs": [],
   "source": [
    "semiMajorAxis_goal = 2*(earthRadius_km+GSO_km)/(2*semiMajorAxis_scale)\n",
    "instantRadius_goal = (earthRadius_km+GSO_km) / semiMajorAxis_scale\n",
    "instantVelocity_goal = sqrt(μ*(2.0/instantRadius_goal-1.0/semiMajorAxis_goal)) # VisViva\n",
    "period_goal = sqrt(semiMajorAxis_goal^3/μ)*2*pi\n",
    "xgoal = [instantRadius_goal, 0.0, 0.0, 0.0, instantVelocity_goal, 0.0] # goal state #circular geosychonous orbit above africa\n",
    "goal_orbit = Orbit(semiMajorAxis_goal, period_goal, instantRadius_goal, instantVelocity_goal, xgoal)\n",
    "ugto = zeros(3)                  # hover controls\n",
    "\n",
    "# Cost matrices\n",
    "# Q = #TODO  #Diagonal(SVector{6}([ones(3) ; fill(0.1, 3)]))\n",
    "# R = #TODO  #Diagonal(@SVector fill(1e-2, m))\n",
    "# Qf = #TODO #Diagonal(@SVector fill(1e2, n));"
   ]
  },
  {
   "cell_type": "code",
   "execution_count": null,
   "metadata": {},
   "outputs": [],
   "source": [
    "function cost(X, U)\n",
    "    N = length(X)\n",
    "    J = 0.0\n",
    "    for k = 1:N-1\n",
    "        J += norm(U[k])^2 + (norm(X[k])-norm(goal_orbit.perigee))\n",
    "    end \n",
    "    J += (norm(X[end])-norm(x_goal))\n",
    "    return J \n",
    "end"
   ]
  },
  {
   "cell_type": "code",
   "execution_count": null,
   "metadata": {},
   "outputs": [],
   "source": [
    "sqrt(4*3.14159^2*instantRadius^3/μ)"
   ]
  },
  {
   "cell_type": "code",
   "execution_count": null,
   "metadata": {},
   "outputs": [],
   "source": [
    "period = sqrt(semiMajorAxis_goal^3/μ)*2*pi"
   ]
  },
  {
   "cell_type": "code",
   "execution_count": null,
   "metadata": {},
   "outputs": [],
   "source": [
    "pi"
   ]
  },
  {
   "cell_type": "markdown",
   "metadata": {},
   "source": [
    "## Dynamics"
   ]
  },
  {
   "cell_type": "code",
   "execution_count": 6,
   "metadata": {},
   "outputs": [
    {
     "data": {
      "text/plain": [
       "dynamics (generic function with 1 method)"
      ]
     },
     "execution_count": 6,
     "metadata": {},
     "output_type": "execute_result"
    }
   ],
   "source": [
    "function dynamics(x, u)\n",
    "    # x = state [x, y, z, dx, dy, dz]\n",
    "    # u = control [ux, uy, uz]\n",
    "    r = x[1:3] #orbital units (OU)\n",
    "    ṙ = x[4:end] #\n",
    "    r̈ = (-μ/(norm(r)^3))*r + u #μ(OU^3/P^2)/OU^3*OU\n",
    "    return [ṙ; r̈]\n",
    "end"
   ]
  },
  {
   "cell_type": "code",
   "execution_count": 7,
   "metadata": {},
   "outputs": [
    {
     "data": {
      "text/plain": [
       "integrator! (generic function with 1 method)"
      ]
     },
     "execution_count": 7,
     "metadata": {},
     "output_type": "execute_result"
    }
   ],
   "source": [
    "function integrator!(x, u, h)\n",
    "    # x = state\n",
    "    # u = control\n",
    "    # h = time step\n",
    "#     ẋ = dynamics(x, u)\n",
    "    f1 = dynamics(x, u)\n",
    "    f2 = dynamics(x + 0.5*h*f1, u)\n",
    "    f3 = dynamics(x + 0.5*h*f2, u)\n",
    "    f4 = dynamics(x + h*f3, u)\n",
    "    x .+= (h/6.0)*(f1 + 2*f2 + 2*f3 + f4)\n",
    "end"
   ]
  },
  {
   "cell_type": "code",
   "execution_count": 8,
   "metadata": {},
   "outputs": [
    {
     "data": {
      "text/plain": [
       "get_energy (generic function with 1 method)"
      ]
     },
     "execution_count": 8,
     "metadata": {},
     "output_type": "execute_result"
    }
   ],
   "source": [
    "function get_energy(x)\n",
    "    return norm(x[4:end])^2/2 - μ/norm(x[1:3])\n",
    "end"
   ]
  },
  {
   "cell_type": "code",
   "execution_count": 46,
   "metadata": {},
   "outputs": [
    {
     "data": {
      "text/plain": [
       "plot_orbit (generic function with 1 method)"
      ]
     },
     "execution_count": 46,
     "metadata": {},
     "output_type": "execute_result"
    }
   ],
   "source": [
    "function plot_orbit(orbit::Orbit)\n",
    "    knots = 20\n",
    "    t = range(0, orbit.period, length=knots) # time in second 90min\n",
    "    h = t[2]-t[1]\n",
    "    traj = zeros(size(t)[1], size(x0)[1])\n",
    "    # print(size(traj))\n",
    "    x = copy(orbit.x0)\n",
    "    traj[1,:] .= x\n",
    "\n",
    "    u = zeros(3)\n",
    "    energy = zero(t)\n",
    "    energy[1] = get_energy(x)\n",
    "    for i in 2:size(t)[1]\n",
    "        integrator!(x, u, h)\n",
    "        traj[i,:] .= x\n",
    "        energy[i] = get_energy(x)\n",
    "    end\n",
    "#     plot(t, energy)\n",
    "    plot(traj[:, 1], traj[:, 2], aspect_ratio=:equal, lims=(-semiMajorAxis_goal,semiMajorAxis_goal))\n",
    "end"
   ]
  },
  {
   "cell_type": "code",
   "execution_count": 45,
   "metadata": {},
   "outputs": [
    {
     "data": {
      "image/svg+xml": [
       "<?xml version=\"1.0\" encoding=\"utf-8\"?>\n",
       "<svg xmlns=\"http://www.w3.org/2000/svg\" xmlns:xlink=\"http://www.w3.org/1999/xlink\" width=\"600\" height=\"400\" viewBox=\"0 0 2400 1600\">\n",
       "<defs>\n",
       "  <clipPath id=\"clip790\">\n",
       "    <rect x=\"0\" y=\"0\" width=\"2400\" height=\"1600\"/>\n",
       "  </clipPath>\n",
       "</defs>\n",
       "<path clip-path=\"url(#clip790)\" d=\"\n",
       "M0 1600 L2400 1600 L2400 0 L0 0  Z\n",
       "  \" fill=\"#ffffff\" fill-rule=\"evenodd\" fill-opacity=\"1\"/>\n",
       "<defs>\n",
       "  <clipPath id=\"clip791\">\n",
       "    <rect x=\"480\" y=\"0\" width=\"1681\" height=\"1600\"/>\n",
       "  </clipPath>\n",
       "</defs>\n",
       "<path clip-path=\"url(#clip790)\" d=\"\n",
       "M553.744 1486.45 L1992.95 1486.45 L1992.95 47.2441 L553.744 47.2441  Z\n",
       "  \" fill=\"#ffffff\" fill-rule=\"evenodd\" fill-opacity=\"1\"/>\n",
       "<defs>\n",
       "  <clipPath id=\"clip792\">\n",
       "    <rect x=\"553\" y=\"47\" width=\"1440\" height=\"1440\"/>\n",
       "  </clipPath>\n",
       "</defs>\n",
       "<polyline clip-path=\"url(#clip792)\" style=\"stroke:#000000; stroke-width:2; stroke-opacity:0.1; fill:none\" points=\"\n",
       "  645.605,1486.45 645.605,47.2441 \n",
       "  \"/>\n",
       "<polyline clip-path=\"url(#clip792)\" style=\"stroke:#000000; stroke-width:2; stroke-opacity:0.1; fill:none\" points=\"\n",
       "  854.852,1486.45 854.852,47.2441 \n",
       "  \"/>\n",
       "<polyline clip-path=\"url(#clip792)\" style=\"stroke:#000000; stroke-width:2; stroke-opacity:0.1; fill:none\" points=\"\n",
       "  1064.1,1486.45 1064.1,47.2441 \n",
       "  \"/>\n",
       "<polyline clip-path=\"url(#clip792)\" style=\"stroke:#000000; stroke-width:2; stroke-opacity:0.1; fill:none\" points=\"\n",
       "  1273.35,1486.45 1273.35,47.2441 \n",
       "  \"/>\n",
       "<polyline clip-path=\"url(#clip792)\" style=\"stroke:#000000; stroke-width:2; stroke-opacity:0.1; fill:none\" points=\"\n",
       "  1482.59,1486.45 1482.59,47.2441 \n",
       "  \"/>\n",
       "<polyline clip-path=\"url(#clip792)\" style=\"stroke:#000000; stroke-width:2; stroke-opacity:0.1; fill:none\" points=\"\n",
       "  1691.84,1486.45 1691.84,47.2441 \n",
       "  \"/>\n",
       "<polyline clip-path=\"url(#clip792)\" style=\"stroke:#000000; stroke-width:2; stroke-opacity:0.1; fill:none\" points=\"\n",
       "  1901.09,1486.45 1901.09,47.2441 \n",
       "  \"/>\n",
       "<polyline clip-path=\"url(#clip790)\" style=\"stroke:#000000; stroke-width:4; stroke-opacity:1; fill:none\" points=\"\n",
       "  553.744,1486.45 1992.95,1486.45 \n",
       "  \"/>\n",
       "<polyline clip-path=\"url(#clip790)\" style=\"stroke:#000000; stroke-width:4; stroke-opacity:1; fill:none\" points=\"\n",
       "  645.605,1486.45 645.605,1469.18 \n",
       "  \"/>\n",
       "<polyline clip-path=\"url(#clip790)\" style=\"stroke:#000000; stroke-width:4; stroke-opacity:1; fill:none\" points=\"\n",
       "  854.852,1486.45 854.852,1469.18 \n",
       "  \"/>\n",
       "<polyline clip-path=\"url(#clip790)\" style=\"stroke:#000000; stroke-width:4; stroke-opacity:1; fill:none\" points=\"\n",
       "  1064.1,1486.45 1064.1,1469.18 \n",
       "  \"/>\n",
       "<polyline clip-path=\"url(#clip790)\" style=\"stroke:#000000; stroke-width:4; stroke-opacity:1; fill:none\" points=\"\n",
       "  1273.35,1486.45 1273.35,1469.18 \n",
       "  \"/>\n",
       "<polyline clip-path=\"url(#clip790)\" style=\"stroke:#000000; stroke-width:4; stroke-opacity:1; fill:none\" points=\"\n",
       "  1482.59,1486.45 1482.59,1469.18 \n",
       "  \"/>\n",
       "<polyline clip-path=\"url(#clip790)\" style=\"stroke:#000000; stroke-width:4; stroke-opacity:1; fill:none\" points=\"\n",
       "  1691.84,1486.45 1691.84,1469.18 \n",
       "  \"/>\n",
       "<polyline clip-path=\"url(#clip790)\" style=\"stroke:#000000; stroke-width:4; stroke-opacity:1; fill:none\" points=\"\n",
       "  1901.09,1486.45 1901.09,1469.18 \n",
       "  \"/>\n",
       "<path clip-path=\"url(#clip790)\" d=\"M 0 0 M592.63 1530.29 L622.306 1530.29 L622.306 1534.23 L592.63 1534.23 L592.63 1530.29 Z\" fill=\"#000000\" fill-rule=\"evenodd\" fill-opacity=\"1\" /><path clip-path=\"url(#clip790)\" d=\"M 0 0 M633.209 1543.18 L640.848 1543.18 L640.848 1516.82 L632.538 1518.49 L632.538 1514.23 L640.801 1512.56 L645.477 1512.56 L645.477 1543.18 L653.116 1543.18 L653.116 1547.12 L633.209 1547.12 L633.209 1543.18 Z\" fill=\"#000000\" fill-rule=\"evenodd\" fill-opacity=\"1\" /><path clip-path=\"url(#clip790)\" d=\"M 0 0 M662.561 1541.24 L667.445 1541.24 L667.445 1547.12 L662.561 1547.12 L662.561 1541.24 Z\" fill=\"#000000\" fill-rule=\"evenodd\" fill-opacity=\"1\" /><path clip-path=\"url(#clip790)\" d=\"M 0 0 M677.676 1512.56 L696.033 1512.56 L696.033 1516.5 L681.959 1516.5 L681.959 1524.97 Q682.977 1524.62 683.996 1524.46 Q685.014 1524.27 686.033 1524.27 Q691.82 1524.27 695.199 1527.44 Q698.579 1530.62 698.579 1536.03 Q698.579 1541.61 695.107 1544.71 Q691.635 1547.79 685.315 1547.79 Q683.139 1547.79 680.871 1547.42 Q678.625 1547.05 676.218 1546.31 L676.218 1541.61 Q678.301 1542.74 680.523 1543.3 Q682.746 1543.86 685.223 1543.86 Q689.227 1543.86 691.565 1541.75 Q693.903 1539.64 693.903 1536.03 Q693.903 1532.42 691.565 1530.31 Q689.227 1528.21 685.223 1528.21 Q683.348 1528.21 681.473 1528.62 Q679.621 1529.04 677.676 1529.92 L677.676 1512.56 Z\" fill=\"#000000\" fill-rule=\"evenodd\" fill-opacity=\"1\" /><path clip-path=\"url(#clip790)\" d=\"M 0 0 M801.38 1530.29 L831.056 1530.29 L831.056 1534.23 L801.38 1534.23 L801.38 1530.29 Z\" fill=\"#000000\" fill-rule=\"evenodd\" fill-opacity=\"1\" /><path clip-path=\"url(#clip790)\" d=\"M 0 0 M841.958 1543.18 L849.597 1543.18 L849.597 1516.82 L841.287 1518.49 L841.287 1514.23 L849.551 1512.56 L854.227 1512.56 L854.227 1543.18 L861.866 1543.18 L861.866 1547.12 L841.958 1547.12 L841.958 1543.18 Z\" fill=\"#000000\" fill-rule=\"evenodd\" fill-opacity=\"1\" /><path clip-path=\"url(#clip790)\" d=\"M 0 0 M871.31 1541.24 L876.194 1541.24 L876.194 1547.12 L871.31 1547.12 L871.31 1541.24 Z\" fill=\"#000000\" fill-rule=\"evenodd\" fill-opacity=\"1\" /><path clip-path=\"url(#clip790)\" d=\"M 0 0 M896.379 1515.64 Q892.768 1515.64 890.94 1519.2 Q889.134 1522.75 889.134 1529.87 Q889.134 1536.98 890.94 1540.55 Q892.768 1544.09 896.379 1544.09 Q900.014 1544.09 901.819 1540.55 Q903.648 1536.98 903.648 1529.87 Q903.648 1522.75 901.819 1519.2 Q900.014 1515.64 896.379 1515.64 M896.379 1511.93 Q902.189 1511.93 905.245 1516.54 Q908.324 1521.12 908.324 1529.87 Q908.324 1538.6 905.245 1543.21 Q902.189 1547.79 896.379 1547.79 Q890.569 1547.79 887.49 1543.21 Q884.435 1538.6 884.435 1529.87 Q884.435 1521.12 887.49 1516.54 Q890.569 1511.93 896.379 1511.93 Z\" fill=\"#000000\" fill-rule=\"evenodd\" fill-opacity=\"1\" /><path clip-path=\"url(#clip790)\" d=\"M 0 0 M1011.12 1530.29 L1040.8 1530.29 L1040.8 1534.23 L1011.12 1534.23 L1011.12 1530.29 Z\" fill=\"#000000\" fill-rule=\"evenodd\" fill-opacity=\"1\" /><path clip-path=\"url(#clip790)\" d=\"M 0 0 M1060.89 1515.64 Q1057.28 1515.64 1055.45 1519.2 Q1053.65 1522.75 1053.65 1529.87 Q1053.65 1536.98 1055.45 1540.55 Q1057.28 1544.09 1060.89 1544.09 Q1064.53 1544.09 1066.33 1540.55 Q1068.16 1536.98 1068.16 1529.87 Q1068.16 1522.75 1066.33 1519.2 Q1064.53 1515.64 1060.89 1515.64 M1060.89 1511.93 Q1066.7 1511.93 1069.76 1516.54 Q1072.84 1521.12 1072.84 1529.87 Q1072.84 1538.6 1069.76 1543.21 Q1066.7 1547.79 1060.89 1547.79 Q1055.08 1547.79 1052 1543.21 Q1048.95 1538.6 1048.95 1529.87 Q1048.95 1521.12 1052 1516.54 Q1055.08 1511.93 1060.89 1511.93 Z\" fill=\"#000000\" fill-rule=\"evenodd\" fill-opacity=\"1\" /><path clip-path=\"url(#clip790)\" d=\"M 0 0 M1081.05 1541.24 L1085.94 1541.24 L1085.94 1547.12 L1081.05 1547.12 L1081.05 1541.24 Z\" fill=\"#000000\" fill-rule=\"evenodd\" fill-opacity=\"1\" /><path clip-path=\"url(#clip790)\" d=\"M 0 0 M1096.17 1512.56 L1114.53 1512.56 L1114.53 1516.5 L1100.45 1516.5 L1100.45 1524.97 Q1101.47 1524.62 1102.49 1524.46 Q1103.51 1524.27 1104.53 1524.27 Q1110.31 1524.27 1113.69 1527.44 Q1117.07 1530.62 1117.07 1536.03 Q1117.07 1541.61 1113.6 1544.71 Q1110.13 1547.79 1103.81 1547.79 Q1101.63 1547.79 1099.36 1547.42 Q1097.12 1547.05 1094.71 1546.31 L1094.71 1541.61 Q1096.8 1542.74 1099.02 1543.3 Q1101.24 1543.86 1103.72 1543.86 Q1107.72 1543.86 1110.06 1541.75 Q1112.4 1539.64 1112.4 1536.03 Q1112.4 1532.42 1110.06 1530.31 Q1107.72 1528.21 1103.72 1528.21 Q1101.84 1528.21 1099.97 1528.62 Q1098.11 1529.04 1096.17 1529.92 L1096.17 1512.56 Z\" fill=\"#000000\" fill-rule=\"evenodd\" fill-opacity=\"1\" /><path clip-path=\"url(#clip790)\" d=\"M 0 0 M1250.73 1515.64 Q1247.12 1515.64 1245.29 1519.2 Q1243.49 1522.75 1243.49 1529.87 Q1243.49 1536.98 1245.29 1540.55 Q1247.12 1544.09 1250.73 1544.09 Q1254.36 1544.09 1256.17 1540.55 Q1258 1536.98 1258 1529.87 Q1258 1522.75 1256.17 1519.2 Q1254.36 1515.64 1250.73 1515.64 M1250.73 1511.93 Q1256.54 1511.93 1259.6 1516.54 Q1262.67 1521.12 1262.67 1529.87 Q1262.67 1538.6 1259.6 1543.21 Q1256.54 1547.79 1250.73 1547.79 Q1244.92 1547.79 1241.84 1543.21 Q1238.79 1538.6 1238.79 1529.87 Q1238.79 1521.12 1241.84 1516.54 Q1244.92 1511.93 1250.73 1511.93 Z\" fill=\"#000000\" fill-rule=\"evenodd\" fill-opacity=\"1\" /><path clip-path=\"url(#clip790)\" d=\"M 0 0 M1270.89 1541.24 L1275.78 1541.24 L1275.78 1547.12 L1270.89 1547.12 L1270.89 1541.24 Z\" fill=\"#000000\" fill-rule=\"evenodd\" fill-opacity=\"1\" /><path clip-path=\"url(#clip790)\" d=\"M 0 0 M1295.96 1515.64 Q1292.35 1515.64 1290.52 1519.2 Q1288.72 1522.75 1288.72 1529.87 Q1288.72 1536.98 1290.52 1540.55 Q1292.35 1544.09 1295.96 1544.09 Q1299.6 1544.09 1301.4 1540.55 Q1303.23 1536.98 1303.23 1529.87 Q1303.23 1522.75 1301.4 1519.2 Q1299.6 1515.64 1295.96 1515.64 M1295.96 1511.93 Q1301.77 1511.93 1304.83 1516.54 Q1307.91 1521.12 1307.91 1529.87 Q1307.91 1538.6 1304.83 1543.21 Q1301.77 1547.79 1295.96 1547.79 Q1290.15 1547.79 1287.07 1543.21 Q1284.02 1538.6 1284.02 1529.87 Q1284.02 1521.12 1287.07 1516.54 Q1290.15 1511.93 1295.96 1511.93 Z\" fill=\"#000000\" fill-rule=\"evenodd\" fill-opacity=\"1\" /><path clip-path=\"url(#clip790)\" d=\"M 0 0 M1460.48 1515.64 Q1456.86 1515.64 1455.04 1519.2 Q1453.23 1522.75 1453.23 1529.87 Q1453.23 1536.98 1455.04 1540.55 Q1456.86 1544.09 1460.48 1544.09 Q1464.11 1544.09 1465.91 1540.55 Q1467.74 1536.98 1467.74 1529.87 Q1467.74 1522.75 1465.91 1519.2 Q1464.11 1515.64 1460.48 1515.64 M1460.48 1511.93 Q1466.29 1511.93 1469.34 1516.54 Q1472.42 1521.12 1472.42 1529.87 Q1472.42 1538.6 1469.34 1543.21 Q1466.29 1547.79 1460.48 1547.79 Q1454.66 1547.79 1451.59 1543.21 Q1448.53 1538.6 1448.53 1529.87 Q1448.53 1521.12 1451.59 1516.54 Q1454.66 1511.93 1460.48 1511.93 Z\" fill=\"#000000\" fill-rule=\"evenodd\" fill-opacity=\"1\" /><path clip-path=\"url(#clip790)\" d=\"M 0 0 M1480.64 1541.24 L1485.52 1541.24 L1485.52 1547.12 L1480.64 1547.12 L1480.64 1541.24 Z\" fill=\"#000000\" fill-rule=\"evenodd\" fill-opacity=\"1\" /><path clip-path=\"url(#clip790)\" d=\"M 0 0 M1495.75 1512.56 L1514.11 1512.56 L1514.11 1516.5 L1500.04 1516.5 L1500.04 1524.97 Q1501.05 1524.62 1502.07 1524.46 Q1503.09 1524.27 1504.11 1524.27 Q1509.9 1524.27 1513.28 1527.44 Q1516.66 1530.62 1516.66 1536.03 Q1516.66 1541.61 1513.18 1544.71 Q1509.71 1547.79 1503.39 1547.79 Q1501.22 1547.79 1498.95 1547.42 Q1496.7 1547.05 1494.29 1546.31 L1494.29 1541.61 Q1496.38 1542.74 1498.6 1543.3 Q1500.82 1543.86 1503.3 1543.86 Q1507.3 1543.86 1509.64 1541.75 Q1511.98 1539.64 1511.98 1536.03 Q1511.98 1532.42 1509.64 1530.31 Q1507.3 1528.21 1503.3 1528.21 Q1501.42 1528.21 1499.55 1528.62 Q1497.7 1529.04 1495.75 1529.92 L1495.75 1512.56 Z\" fill=\"#000000\" fill-rule=\"evenodd\" fill-opacity=\"1\" /><path clip-path=\"url(#clip790)\" d=\"M 0 0 M1658.99 1543.18 L1666.63 1543.18 L1666.63 1516.82 L1658.32 1518.49 L1658.32 1514.23 L1666.59 1512.56 L1671.26 1512.56 L1671.26 1543.18 L1678.9 1543.18 L1678.9 1547.12 L1658.99 1547.12 L1658.99 1543.18 Z\" fill=\"#000000\" fill-rule=\"evenodd\" fill-opacity=\"1\" /><path clip-path=\"url(#clip790)\" d=\"M 0 0 M1688.34 1541.24 L1693.23 1541.24 L1693.23 1547.12 L1688.34 1547.12 L1688.34 1541.24 Z\" fill=\"#000000\" fill-rule=\"evenodd\" fill-opacity=\"1\" /><path clip-path=\"url(#clip790)\" d=\"M 0 0 M1713.41 1515.64 Q1709.8 1515.64 1707.97 1519.2 Q1706.17 1522.75 1706.17 1529.87 Q1706.17 1536.98 1707.97 1540.55 Q1709.8 1544.09 1713.41 1544.09 Q1717.05 1544.09 1718.85 1540.55 Q1720.68 1536.98 1720.68 1529.87 Q1720.68 1522.75 1718.85 1519.2 Q1717.05 1515.64 1713.41 1515.64 M1713.41 1511.93 Q1719.22 1511.93 1722.28 1516.54 Q1725.36 1521.12 1725.36 1529.87 Q1725.36 1538.6 1722.28 1543.21 Q1719.22 1547.79 1713.41 1547.79 Q1707.6 1547.79 1704.53 1543.21 Q1701.47 1538.6 1701.47 1529.87 Q1701.47 1521.12 1704.53 1516.54 Q1707.6 1511.93 1713.41 1511.93 Z\" fill=\"#000000\" fill-rule=\"evenodd\" fill-opacity=\"1\" /><path clip-path=\"url(#clip790)\" d=\"M 0 0 M1868.74 1543.18 L1876.38 1543.18 L1876.38 1516.82 L1868.07 1518.49 L1868.07 1514.23 L1876.33 1512.56 L1881.01 1512.56 L1881.01 1543.18 L1888.65 1543.18 L1888.65 1547.12 L1868.74 1547.12 L1868.74 1543.18 Z\" fill=\"#000000\" fill-rule=\"evenodd\" fill-opacity=\"1\" /><path clip-path=\"url(#clip790)\" d=\"M 0 0 M1898.09 1541.24 L1902.97 1541.24 L1902.97 1547.12 L1898.09 1547.12 L1898.09 1541.24 Z\" fill=\"#000000\" fill-rule=\"evenodd\" fill-opacity=\"1\" /><path clip-path=\"url(#clip790)\" d=\"M 0 0 M1913.21 1512.56 L1931.56 1512.56 L1931.56 1516.5 L1917.49 1516.5 L1917.49 1524.97 Q1918.51 1524.62 1919.52 1524.46 Q1920.54 1524.27 1921.56 1524.27 Q1927.35 1524.27 1930.73 1527.44 Q1934.11 1530.62 1934.11 1536.03 Q1934.11 1541.61 1930.64 1544.71 Q1927.16 1547.79 1920.84 1547.79 Q1918.67 1547.79 1916.4 1547.42 Q1914.15 1547.05 1911.75 1546.31 L1911.75 1541.61 Q1913.83 1542.74 1916.05 1543.3 Q1918.27 1543.86 1920.75 1543.86 Q1924.76 1543.86 1927.09 1541.75 Q1929.43 1539.64 1929.43 1536.03 Q1929.43 1532.42 1927.09 1530.31 Q1924.76 1528.21 1920.75 1528.21 Q1918.88 1528.21 1917 1528.62 Q1915.15 1529.04 1913.21 1529.92 L1913.21 1512.56 Z\" fill=\"#000000\" fill-rule=\"evenodd\" fill-opacity=\"1\" /><polyline clip-path=\"url(#clip792)\" style=\"stroke:#000000; stroke-width:2; stroke-opacity:0.1; fill:none\" points=\"\n",
       "  553.744,1394.59 1992.95,1394.59 \n",
       "  \"/>\n",
       "<polyline clip-path=\"url(#clip792)\" style=\"stroke:#000000; stroke-width:2; stroke-opacity:0.1; fill:none\" points=\"\n",
       "  553.744,1185.34 1992.95,1185.34 \n",
       "  \"/>\n",
       "<polyline clip-path=\"url(#clip792)\" style=\"stroke:#000000; stroke-width:2; stroke-opacity:0.1; fill:none\" points=\"\n",
       "  553.744,976.093 1992.95,976.093 \n",
       "  \"/>\n",
       "<polyline clip-path=\"url(#clip792)\" style=\"stroke:#000000; stroke-width:2; stroke-opacity:0.1; fill:none\" points=\"\n",
       "  553.744,766.846 1992.95,766.846 \n",
       "  \"/>\n",
       "<polyline clip-path=\"url(#clip792)\" style=\"stroke:#000000; stroke-width:2; stroke-opacity:0.1; fill:none\" points=\"\n",
       "  553.744,557.599 1992.95,557.599 \n",
       "  \"/>\n",
       "<polyline clip-path=\"url(#clip792)\" style=\"stroke:#000000; stroke-width:2; stroke-opacity:0.1; fill:none\" points=\"\n",
       "  553.744,348.352 1992.95,348.352 \n",
       "  \"/>\n",
       "<polyline clip-path=\"url(#clip792)\" style=\"stroke:#000000; stroke-width:2; stroke-opacity:0.1; fill:none\" points=\"\n",
       "  553.744,139.105 1992.95,139.105 \n",
       "  \"/>\n",
       "<polyline clip-path=\"url(#clip790)\" style=\"stroke:#000000; stroke-width:4; stroke-opacity:1; fill:none\" points=\"\n",
       "  553.744,1486.45 553.744,47.2441 \n",
       "  \"/>\n",
       "<polyline clip-path=\"url(#clip790)\" style=\"stroke:#000000; stroke-width:4; stroke-opacity:1; fill:none\" points=\"\n",
       "  553.744,1394.59 571.015,1394.59 \n",
       "  \"/>\n",
       "<polyline clip-path=\"url(#clip790)\" style=\"stroke:#000000; stroke-width:4; stroke-opacity:1; fill:none\" points=\"\n",
       "  553.744,1185.34 571.015,1185.34 \n",
       "  \"/>\n",
       "<polyline clip-path=\"url(#clip790)\" style=\"stroke:#000000; stroke-width:4; stroke-opacity:1; fill:none\" points=\"\n",
       "  553.744,976.093 571.015,976.093 \n",
       "  \"/>\n",
       "<polyline clip-path=\"url(#clip790)\" style=\"stroke:#000000; stroke-width:4; stroke-opacity:1; fill:none\" points=\"\n",
       "  553.744,766.846 571.015,766.846 \n",
       "  \"/>\n",
       "<polyline clip-path=\"url(#clip790)\" style=\"stroke:#000000; stroke-width:4; stroke-opacity:1; fill:none\" points=\"\n",
       "  553.744,557.599 571.015,557.599 \n",
       "  \"/>\n",
       "<polyline clip-path=\"url(#clip790)\" style=\"stroke:#000000; stroke-width:4; stroke-opacity:1; fill:none\" points=\"\n",
       "  553.744,348.352 571.015,348.352 \n",
       "  \"/>\n",
       "<polyline clip-path=\"url(#clip790)\" style=\"stroke:#000000; stroke-width:4; stroke-opacity:1; fill:none\" points=\"\n",
       "  553.744,139.105 571.015,139.105 \n",
       "  \"/>\n",
       "<path clip-path=\"url(#clip790)\" d=\"M 0 0 M411.796 1395.04 L441.471 1395.04 L441.471 1398.97 L411.796 1398.97 L411.796 1395.04 Z\" fill=\"#000000\" fill-rule=\"evenodd\" fill-opacity=\"1\" /><path clip-path=\"url(#clip790)\" d=\"M 0 0 M452.374 1407.93 L460.013 1407.93 L460.013 1381.57 L451.703 1383.23 L451.703 1378.97 L459.967 1377.31 L464.642 1377.31 L464.642 1407.93 L472.281 1407.93 L472.281 1411.87 L452.374 1411.87 L452.374 1407.93 Z\" fill=\"#000000\" fill-rule=\"evenodd\" fill-opacity=\"1\" /><path clip-path=\"url(#clip790)\" d=\"M 0 0 M481.726 1405.99 L486.61 1405.99 L486.61 1411.87 L481.726 1411.87 L481.726 1405.99 Z\" fill=\"#000000\" fill-rule=\"evenodd\" fill-opacity=\"1\" /><path clip-path=\"url(#clip790)\" d=\"M 0 0 M496.841 1377.31 L515.198 1377.31 L515.198 1381.24 L501.124 1381.24 L501.124 1389.71 Q502.142 1389.37 503.161 1389.21 Q504.179 1389.02 505.198 1389.02 Q510.985 1389.02 514.364 1392.19 Q517.744 1395.36 517.744 1400.78 Q517.744 1406.36 514.272 1409.46 Q510.8 1412.54 504.48 1412.54 Q502.304 1412.54 500.036 1412.17 Q497.79 1411.8 495.383 1411.06 L495.383 1406.36 Q497.466 1407.49 499.689 1408.05 Q501.911 1408.6 504.388 1408.6 Q508.392 1408.6 510.73 1406.5 Q513.068 1404.39 513.068 1400.78 Q513.068 1397.17 510.73 1395.06 Q508.392 1392.96 504.388 1392.96 Q502.513 1392.96 500.638 1393.37 Q498.786 1393.79 496.841 1394.67 L496.841 1377.31 Z\" fill=\"#000000\" fill-rule=\"evenodd\" fill-opacity=\"1\" /><path clip-path=\"url(#clip790)\" d=\"M 0 0 M410.8 1185.79 L440.476 1185.79 L440.476 1189.73 L410.8 1189.73 L410.8 1185.79 Z\" fill=\"#000000\" fill-rule=\"evenodd\" fill-opacity=\"1\" /><path clip-path=\"url(#clip790)\" d=\"M 0 0 M451.379 1198.68 L459.018 1198.68 L459.018 1172.32 L450.707 1173.99 L450.707 1169.73 L458.971 1168.06 L463.647 1168.06 L463.647 1198.68 L471.286 1198.68 L471.286 1202.62 L451.379 1202.62 L451.379 1198.68 Z\" fill=\"#000000\" fill-rule=\"evenodd\" fill-opacity=\"1\" /><path clip-path=\"url(#clip790)\" d=\"M 0 0 M480.73 1196.74 L485.615 1196.74 L485.615 1202.62 L480.73 1202.62 L480.73 1196.74 Z\" fill=\"#000000\" fill-rule=\"evenodd\" fill-opacity=\"1\" /><path clip-path=\"url(#clip790)\" d=\"M 0 0 M505.8 1171.14 Q502.189 1171.14 500.36 1174.7 Q498.554 1178.25 498.554 1185.37 Q498.554 1192.48 500.36 1196.05 Q502.189 1199.59 505.8 1199.59 Q509.434 1199.59 511.239 1196.05 Q513.068 1192.48 513.068 1185.37 Q513.068 1178.25 511.239 1174.7 Q509.434 1171.14 505.8 1171.14 M505.8 1167.44 Q511.61 1167.44 514.665 1172.04 Q517.744 1176.62 517.744 1185.37 Q517.744 1194.1 514.665 1198.71 Q511.61 1203.29 505.8 1203.29 Q499.99 1203.29 496.911 1198.71 Q493.855 1194.1 493.855 1185.37 Q493.855 1176.62 496.911 1172.04 Q499.99 1167.44 505.8 1167.44 Z\" fill=\"#000000\" fill-rule=\"evenodd\" fill-opacity=\"1\" /><path clip-path=\"url(#clip790)\" d=\"M 0 0 M411.796 976.544 L441.471 976.544 L441.471 980.48 L411.796 980.48 L411.796 976.544 Z\" fill=\"#000000\" fill-rule=\"evenodd\" fill-opacity=\"1\" /><path clip-path=\"url(#clip790)\" d=\"M 0 0 M461.564 961.892 Q457.953 961.892 456.124 965.457 Q454.318 968.998 454.318 976.128 Q454.318 983.234 456.124 986.799 Q457.953 990.341 461.564 990.341 Q465.198 990.341 467.004 986.799 Q468.832 983.234 468.832 976.128 Q468.832 968.998 467.004 965.457 Q465.198 961.892 461.564 961.892 M461.564 958.188 Q467.374 958.188 470.43 962.795 Q473.508 967.378 473.508 976.128 Q473.508 984.855 470.43 989.461 Q467.374 994.044 461.564 994.044 Q455.754 994.044 452.675 989.461 Q449.619 984.855 449.619 976.128 Q449.619 967.378 452.675 962.795 Q455.754 958.188 461.564 958.188 Z\" fill=\"#000000\" fill-rule=\"evenodd\" fill-opacity=\"1\" /><path clip-path=\"url(#clip790)\" d=\"M 0 0 M481.726 987.493 L486.61 987.493 L486.61 993.373 L481.726 993.373 L481.726 987.493 Z\" fill=\"#000000\" fill-rule=\"evenodd\" fill-opacity=\"1\" /><path clip-path=\"url(#clip790)\" d=\"M 0 0 M496.841 958.813 L515.198 958.813 L515.198 962.748 L501.124 962.748 L501.124 971.22 Q502.142 970.873 503.161 970.711 Q504.179 970.526 505.198 970.526 Q510.985 970.526 514.364 973.697 Q517.744 976.869 517.744 982.285 Q517.744 987.864 514.272 990.966 Q510.8 994.044 504.48 994.044 Q502.304 994.044 500.036 993.674 Q497.79 993.304 495.383 992.563 L495.383 987.864 Q497.466 988.998 499.689 989.554 Q501.911 990.109 504.388 990.109 Q508.392 990.109 510.73 988.003 Q513.068 985.896 513.068 982.285 Q513.068 978.674 510.73 976.568 Q508.392 974.461 504.388 974.461 Q502.513 974.461 500.638 974.878 Q498.786 975.294 496.841 976.174 L496.841 958.813 Z\" fill=\"#000000\" fill-rule=\"evenodd\" fill-opacity=\"1\" /><path clip-path=\"url(#clip790)\" d=\"M 0 0 M460.568 752.645 Q456.957 752.645 455.129 756.209 Q453.323 759.751 453.323 766.881 Q453.323 773.987 455.129 777.552 Q456.957 781.094 460.568 781.094 Q464.203 781.094 466.008 777.552 Q467.837 773.987 467.837 766.881 Q467.837 759.751 466.008 756.209 Q464.203 752.645 460.568 752.645 M460.568 748.941 Q466.379 748.941 469.434 753.547 Q472.513 758.131 472.513 766.881 Q472.513 775.608 469.434 780.214 Q466.379 784.797 460.568 784.797 Q454.758 784.797 451.68 780.214 Q448.624 775.608 448.624 766.881 Q448.624 758.131 451.68 753.547 Q454.758 748.941 460.568 748.941 Z\" fill=\"#000000\" fill-rule=\"evenodd\" fill-opacity=\"1\" /><path clip-path=\"url(#clip790)\" d=\"M 0 0 M480.73 778.246 L485.615 778.246 L485.615 784.126 L480.73 784.126 L480.73 778.246 Z\" fill=\"#000000\" fill-rule=\"evenodd\" fill-opacity=\"1\" /><path clip-path=\"url(#clip790)\" d=\"M 0 0 M505.8 752.645 Q502.189 752.645 500.36 756.209 Q498.554 759.751 498.554 766.881 Q498.554 773.987 500.36 777.552 Q502.189 781.094 505.8 781.094 Q509.434 781.094 511.239 777.552 Q513.068 773.987 513.068 766.881 Q513.068 759.751 511.239 756.209 Q509.434 752.645 505.8 752.645 M505.8 748.941 Q511.61 748.941 514.665 753.547 Q517.744 758.131 517.744 766.881 Q517.744 775.608 514.665 780.214 Q511.61 784.797 505.8 784.797 Q499.99 784.797 496.911 780.214 Q493.855 775.608 493.855 766.881 Q493.855 758.131 496.911 753.547 Q499.99 748.941 505.8 748.941 Z\" fill=\"#000000\" fill-rule=\"evenodd\" fill-opacity=\"1\" /><path clip-path=\"url(#clip790)\" d=\"M 0 0 M461.564 543.398 Q457.953 543.398 456.124 546.962 Q454.318 550.504 454.318 557.634 Q454.318 564.74 456.124 568.305 Q457.953 571.847 461.564 571.847 Q465.198 571.847 467.004 568.305 Q468.832 564.74 468.832 557.634 Q468.832 550.504 467.004 546.962 Q465.198 543.398 461.564 543.398 M461.564 539.694 Q467.374 539.694 470.43 544.3 Q473.508 548.884 473.508 557.634 Q473.508 566.36 470.43 570.967 Q467.374 575.55 461.564 575.55 Q455.754 575.55 452.675 570.967 Q449.619 566.36 449.619 557.634 Q449.619 548.884 452.675 544.3 Q455.754 539.694 461.564 539.694 Z\" fill=\"#000000\" fill-rule=\"evenodd\" fill-opacity=\"1\" /><path clip-path=\"url(#clip790)\" d=\"M 0 0 M481.726 568.999 L486.61 568.999 L486.61 574.879 L481.726 574.879 L481.726 568.999 Z\" fill=\"#000000\" fill-rule=\"evenodd\" fill-opacity=\"1\" /><path clip-path=\"url(#clip790)\" d=\"M 0 0 M496.841 540.319 L515.198 540.319 L515.198 544.254 L501.124 544.254 L501.124 552.726 Q502.142 552.379 503.161 552.217 Q504.179 552.032 505.198 552.032 Q510.985 552.032 514.364 555.203 Q517.744 558.374 517.744 563.791 Q517.744 569.37 514.272 572.472 Q510.8 575.55 504.48 575.55 Q502.304 575.55 500.036 575.18 Q497.79 574.809 495.383 574.069 L495.383 569.37 Q497.466 570.504 499.689 571.059 Q501.911 571.615 504.388 571.615 Q508.392 571.615 510.73 569.509 Q513.068 567.402 513.068 563.791 Q513.068 560.18 510.73 558.073 Q508.392 555.967 504.388 555.967 Q502.513 555.967 500.638 556.384 Q498.786 556.8 496.841 557.68 L496.841 540.319 Z\" fill=\"#000000\" fill-rule=\"evenodd\" fill-opacity=\"1\" /><path clip-path=\"url(#clip790)\" d=\"M 0 0 M451.379 361.697 L459.018 361.697 L459.018 335.331 L450.707 336.998 L450.707 332.738 L458.971 331.072 L463.647 331.072 L463.647 361.697 L471.286 361.697 L471.286 365.632 L451.379 365.632 L451.379 361.697 Z\" fill=\"#000000\" fill-rule=\"evenodd\" fill-opacity=\"1\" /><path clip-path=\"url(#clip790)\" d=\"M 0 0 M480.73 359.752 L485.615 359.752 L485.615 365.632 L480.73 365.632 L480.73 359.752 Z\" fill=\"#000000\" fill-rule=\"evenodd\" fill-opacity=\"1\" /><path clip-path=\"url(#clip790)\" d=\"M 0 0 M505.8 334.151 Q502.189 334.151 500.36 337.715 Q498.554 341.257 498.554 348.387 Q498.554 355.493 500.36 359.058 Q502.189 362.599 505.8 362.599 Q509.434 362.599 511.239 359.058 Q513.068 355.493 513.068 348.387 Q513.068 341.257 511.239 337.715 Q509.434 334.151 505.8 334.151 M505.8 330.447 Q511.61 330.447 514.665 335.053 Q517.744 339.637 517.744 348.387 Q517.744 357.113 514.665 361.72 Q511.61 366.303 505.8 366.303 Q499.99 366.303 496.911 361.72 Q493.855 357.113 493.855 348.387 Q493.855 339.637 496.911 335.053 Q499.99 330.447 505.8 330.447 Z\" fill=\"#000000\" fill-rule=\"evenodd\" fill-opacity=\"1\" /><path clip-path=\"url(#clip790)\" d=\"M 0 0 M452.374 152.45 L460.013 152.45 L460.013 126.084 L451.703 127.751 L451.703 123.491 L459.967 121.825 L464.642 121.825 L464.642 152.45 L472.281 152.45 L472.281 156.385 L452.374 156.385 L452.374 152.45 Z\" fill=\"#000000\" fill-rule=\"evenodd\" fill-opacity=\"1\" /><path clip-path=\"url(#clip790)\" d=\"M 0 0 M481.726 150.505 L486.61 150.505 L486.61 156.385 L481.726 156.385 L481.726 150.505 Z\" fill=\"#000000\" fill-rule=\"evenodd\" fill-opacity=\"1\" /><path clip-path=\"url(#clip790)\" d=\"M 0 0 M496.841 121.825 L515.198 121.825 L515.198 125.76 L501.124 125.76 L501.124 134.232 Q502.142 133.885 503.161 133.723 Q504.179 133.538 505.198 133.538 Q510.985 133.538 514.364 136.709 Q517.744 139.88 517.744 145.297 Q517.744 150.876 514.272 153.977 Q510.8 157.056 504.48 157.056 Q502.304 157.056 500.036 156.686 Q497.79 156.315 495.383 155.575 L495.383 150.876 Q497.466 152.01 499.689 152.565 Q501.911 153.121 504.388 153.121 Q508.392 153.121 510.73 151.014 Q513.068 148.908 513.068 145.297 Q513.068 141.686 510.73 139.579 Q508.392 137.473 504.388 137.473 Q502.513 137.473 500.638 137.889 Q498.786 138.306 496.841 139.186 L496.841 121.825 Z\" fill=\"#000000\" fill-rule=\"evenodd\" fill-opacity=\"1\" /><polyline clip-path=\"url(#clip792)\" style=\"stroke:#009af9; stroke-width:4; stroke-opacity:1; fill:none\" points=\"\n",
       "  1992.95,766.846 1953.95,533.219 1841.2,324.914 1666.91,164.51 1449.96,69.4026 1213.87,49.9179 984.229,108.188 785.962,237.913 640.591,425.035 563.909,649.256 \n",
       "  564.259,886.239 641.614,1110.25 787.582,1296.96 986.312,1426.09 1216.22,1483.6 1452.32,1463.26 1668.99,1367.28 1842.68,1206.09 1954.54,997.21 1992.43,763.316 \n",
       "  \n",
       "  \"/>\n",
       "<path clip-path=\"url(#clip790)\" d=\"\n",
       "M1628.69 216.178 L1920.99 216.178 L1920.99 95.2176 L1628.69 95.2176  Z\n",
       "  \" fill=\"#ffffff\" fill-rule=\"evenodd\" fill-opacity=\"1\"/>\n",
       "<polyline clip-path=\"url(#clip790)\" style=\"stroke:#000000; stroke-width:4; stroke-opacity:1; fill:none\" points=\"\n",
       "  1628.69,216.178 1920.99,216.178 1920.99,95.2176 1628.69,95.2176 1628.69,216.178 \n",
       "  \"/>\n",
       "<polyline clip-path=\"url(#clip790)\" style=\"stroke:#009af9; stroke-width:4; stroke-opacity:1; fill:none\" points=\"\n",
       "  1652.67,155.698 1796.6,155.698 \n",
       "  \"/>\n",
       "<path clip-path=\"url(#clip790)\" d=\"M 0 0 M1834.43 175.385 Q1832.62 180.015 1830.91 181.427 Q1829.19 182.839 1826.32 182.839 L1822.92 182.839 L1822.92 179.274 L1825.42 179.274 Q1827.18 179.274 1828.15 178.44 Q1829.12 177.607 1830.31 174.505 L1831.07 172.561 L1820.58 147.052 L1825.1 147.052 L1833.2 167.329 L1841.3 147.052 L1845.81 147.052 L1834.43 175.385 Z\" fill=\"#000000\" fill-rule=\"evenodd\" fill-opacity=\"1\" /><path clip-path=\"url(#clip790)\" d=\"M 0 0 M1853.11 169.042 L1860.74 169.042 L1860.74 142.677 L1852.43 144.343 L1852.43 140.084 L1860.7 138.418 L1865.37 138.418 L1865.37 169.042 L1873.01 169.042 L1873.01 172.978 L1853.11 172.978 L1853.11 169.042 Z\" fill=\"#000000\" fill-rule=\"evenodd\" fill-opacity=\"1\" /></svg>\n"
      ]
     },
     "execution_count": 45,
     "metadata": {},
     "output_type": "execute_result"
    }
   ],
   "source": [
    "# plot(t, energy)\n",
    "plot_orbit(goal_orbit)"
   ]
  },
  {
   "cell_type": "markdown",
   "metadata": {},
   "source": [
    "## Part (a): Implement DIRCOL \n",
    "Implement DIRCOL by completing the provided methods. "
   ]
  },
  {
   "cell_type": "code",
   "execution_count": null,
   "metadata": {},
   "outputs": [],
   "source": [
    "\"\"\"\n",
    "    Problem{n,m,L}\n",
    "\n",
    "Describes a trajectory optimization problem with `n` states, `m` controls, and \n",
    "a model of type `L`. \n",
    "\n",
    "# Constructor\n",
    "    Problem(model::L, obj::Vector{<:QuadraticCost{n,m}}, tf, x0, xf) where {n,m,L}\n",
    "\n",
    "where `tf` is the final time, and `x0` is the initial state. \n",
    "\"\"\"\n",
    "struct Problem{n,m,L}\n",
    "    # TODO \n",
    "end\n",
    "Base.size(prob::Problem{n,m}) where {n,m} = (n,m,prob.T)"
   ]
  },
  {
   "cell_type": "code",
   "execution_count": null,
   "metadata": {},
   "outputs": [],
   "source": [
    "# Cost function\n",
    "# TODO \n",
    "\n",
    "# Build Problem\n",
    "prob = Problem(model, obj, tf, x0);\n",
    "n,m,T = size(prob)   # get problem dimensions\n",
    "\n",
    "# Random trajectory\n",
    "Xrand =  # TODO \n",
    "Urand = # TODO \n",
    "\n",
    "# Evaluate the cost\n",
    "# t = prob.times[1]\n",
    "# dt = prob.times[2]-prob.times[1]\n",
    "# cost(prob.obj, Xrand, Urand)\n",
    "\n",
    "# Evaluate the dynamics\n",
    "# TODO"
   ]
  },
  {
   "cell_type": "markdown",
   "metadata": {},
   "source": [
    "### DIRCOL Algorithm"
   ]
  },
  {
   "cell_type": "code",
   "execution_count": null,
   "metadata": {},
   "outputs": [],
   "source": [
    "# TASK: Complete implement DIRCOL Algo\n",
    "\n"
   ]
  },
  {
   "cell_type": "markdown",
   "metadata": {},
   "source": [
    "### Forward Pass"
   ]
  },
  {
   "cell_type": "code",
   "execution_count": null,
   "metadata": {},
   "outputs": [],
   "source": [
    "# TASK: Complete forward simulation of satelite "
   ]
  },
  {
   "cell_type": "markdown",
   "metadata": {},
   "source": [
    "## Part (b): Simple trajectory \n",
    "Planar example with quibit interpolation and no Thurst conditions"
   ]
  },
  {
   "cell_type": "code",
   "execution_count": null,
   "metadata": {},
   "outputs": [],
   "source": [
    "# Task Solve Simple Trajectory"
   ]
  },
  {
   "cell_type": "code",
   "execution_count": null,
   "metadata": {},
   "outputs": [],
   "source": [
    "# vis = Visualizer()\n",
    "# set_mesh!(vis, model)\n",
    "# render(vis)"
   ]
  },
  {
   "cell_type": "code",
   "execution_count": null,
   "metadata": {},
   "outputs": [],
   "source": [
    "# visualize!(vis, model, tf, Xline)"
   ]
  },
  {
   "cell_type": "markdown",
   "metadata": {},
   "source": [
    "## Part (c): Higher Order DIRCOL\n",
    "Solve the simple planar problem with unconstrained thrust with higher order DIRCOL 3->8th order"
   ]
  },
  {
   "cell_type": "code",
   "execution_count": null,
   "metadata": {},
   "outputs": [],
   "source": [
    "# TASK: Implement the following method"
   ]
  },
  {
   "cell_type": "code",
   "execution_count": null,
   "metadata": {},
   "outputs": [],
   "source": [
    "# TASK: Plot the comparison\n"
   ]
  },
  {
   "cell_type": "markdown",
   "metadata": {},
   "source": [
    "## Part (d): Inequality Constraints \n",
    "Using the thruster constraints solve the optimization problem"
   ]
  },
  {
   "cell_type": "code",
   "execution_count": null,
   "metadata": {},
   "outputs": [],
   "source": [
    "# TASK: Inequality constraints"
   ]
  },
  {
   "cell_type": "code",
   "execution_count": null,
   "metadata": {},
   "outputs": [],
   "source": [
    "# render(vis)"
   ]
  },
  {
   "cell_type": "code",
   "execution_count": null,
   "metadata": {},
   "outputs": [],
   "source": [
    "# visualize!(vis, model, tf, Xflip)"
   ]
  },
  {
   "cell_type": "markdown",
   "metadata": {},
   "source": [
    "## Part (e): Non-Planar Satellite Control\n"
   ]
  },
  {
   "cell_type": "code",
   "execution_count": null,
   "metadata": {},
   "outputs": [],
   "source": [
    "# TASK: Non-Planar Control"
   ]
  },
  {
   "cell_type": "markdown",
   "metadata": {},
   "source": [
    "## TESTS"
   ]
  },
  {
   "cell_type": "code",
   "execution_count": null,
   "metadata": {},
   "outputs": [],
   "source": [
    "# run_tests();"
   ]
  }
 ],
 "metadata": {
  "kernelspec": {
   "display_name": "Julia 1.5.3",
   "language": "julia",
   "name": "julia-1.5"
  },
  "language_info": {
   "file_extension": ".jl",
   "mimetype": "application/julia",
   "name": "julia",
   "version": "1.5.3"
  }
 },
 "nbformat": 4,
 "nbformat_minor": 4
}
