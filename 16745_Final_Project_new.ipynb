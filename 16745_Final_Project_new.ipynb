{
 "cells": [
  {
   "cell_type": "code",
   "execution_count": 1,
   "metadata": {},
   "outputs": [
    {
     "name": "stderr",
     "output_type": "stream",
     "text": [
      "\u001b[32m\u001b[1m Activating\u001b[22m\u001b[39m environment at `F:\\Documents\\Schoolwork\\optimalControl\\16-745_final_project\\Project.toml`\n",
      "┌ Info: Precompiling ForwardDiff [f6369f11-7733-5829-9624-2563aa707210]\n",
      "└ @ Base loading.jl:1278\n",
      "┌ Info: Precompiling RobotDynamics [38ceca67-d8d3-44e8-9852-78a5596522e1]\n",
      "└ @ Base loading.jl:1278\n",
      "┌ Info: Precompiling Plots [91a5bcdd-55d7-5caf-9e0b-520d859cae80]\n",
      "└ @ Base loading.jl:1278\n"
     ]
    }
   ],
   "source": [
    "import Pkg; Pkg.activate(joinpath(@__DIR__,\"..\")); Pkg.instantiate();\n",
    "# Pkg.add(\"ForwardDiff\")\n",
    "# Pkg.add(\"RobotDynamics\")\n",
    "# Pkg.add(\"LinearAlgebra\")\n",
    "# Pkg.add(\"StaticArrays\")\n",
    "# Pkg.add(\"SparseArrays\")\n",
    "# Pkg.add(\"Plots\")\n",
    "# Pkg.add(\"Printf\")\n",
    "using ForwardDiff\n",
    "using Test\n",
    "using RobotDynamics\n",
    "using LinearAlgebra\n",
    "using StaticArrays\n",
    "using SparseArrays\n",
    "using Plots\n",
    "# using PyPlots\n",
    "using Printf\n",
    "\n",
    "# include(\"quadratic_cost.jl\")\n"
   ]
  },
  {
   "cell_type": "markdown",
   "metadata": {},
   "source": [
    "# Final Project Info\n",
    "In this we present a geostationary transfer orbit to a geosynchronous (GSO) or geostationary orbit (GEO).  We use Keplerian Orbital Dynamics to model our system. We make several assumptions like Earth Reference Frame, Spherical Earth, Kepler Dynamics. \n",
    "\n",
    "## The Model\n",
    "We'll be using the Kepler Dynamics:\n",
    "\n",
    "$\\newcommand{\\norm}[1]{\\left\\lVert#1\\right\\rVert}$\n",
    "\n",
    "$$ \n",
    "\\ddot{r} = F = \\frac{-\\mu}{\\norm{r}^3}*r+u \\\\\n",
    "x = [r, \\dot{r}] \\\\\n",
    "\\norm{u} \\le Tmax\n",
    "$$\n",
    "with the following model parameters:\n",
    "* $\\mu$: Gravitational Parameter = 63781\n",
    "* $r$: distance to earth center\n",
    "* $u$: control of ion thruster"
   ]
  },
  {
   "cell_type": "code",
   "execution_count": 3,
   "metadata": {},
   "outputs": [
    {
     "data": {
      "text/plain": [
       "39.47841760435743"
      ]
     },
     "execution_count": 3,
     "metadata": {},
     "output_type": "execute_result"
    }
   ],
   "source": [
    "# Problem Setup\n",
    "# Dont want KM and S\n",
    "# Rescale unite to order 1\n",
    "# Length unit = SMA \n",
    "# Time scale = T orbit period\n",
    "# Helps condition number \n",
    "\n",
    "# TODO Rescale μ \n",
    "# Hint can take big steps 10 knot points per-orbit\n",
    "\n",
    "struct Orbit{T}\n",
    "    semiMajorAxis::T\n",
    "    period::T\n",
    "    perigee::T #closest radius to earth\n",
    "    perigee_V::T #velocity at perigee\n",
    "    x0::Vector{T}\n",
    "#     function Orbit(x0) \n",
    "#         print(x0) #best is to input point with velocity and calucate useful parts of orbit\n",
    "#     end\n",
    "end\n",
    "\n",
    "# GTO =  Orbit(x0)\n",
    "\n",
    "\n",
    "function func(orbit::Orbit)\n",
    "    return orbit\n",
    "end\n",
    "\n",
    "\n",
    "\n",
    "# model = Kepler() # TODO\n",
    "# n,m = size(model)          # state and control dimensions\n",
    "dt = 0.025                 # time step (sec)\n",
    "tf = 1.5                   # time horizon (sec)\n",
    "T = Int(tf/dt) + 1         # number of time steps\n",
    "\n",
    "# Initial & final condition\n",
    "\n",
    "#cartesian and ECI\n",
    "#x,y,z,vx,vy,vz\n",
    "earthRadius_km = 6378.1 # [km]\n",
    "LEO_km = 500 #km above sealevel #circular low earth orbit # 250km \n",
    "GSO_km = 35786 #km above sealevel #circular geosychonous orbit\n",
    "μ_km_s = 3.986*10e5 #gravitational0 parameter [km^3 / s^2]\n",
    "semiMajorAxis_scale = (GSO_km+earthRadius_km+earthRadius_km+LEO_km)/2\n",
    "period_scale = sqrt(semiMajorAxis_scale^3/μ_km_s)*2*pi\n",
    "μ = μ_km_s*period_scale^2/semiMajorAxis_scale^3  #μ(OU^3/P^2)\n"
   ]
  },
  {
   "cell_type": "code",
   "execution_count": 4,
   "metadata": {},
   "outputs": [
    {
     "data": {
      "text/plain": [
       "Orbit{Float64}(1.0, 1.0, 0.28049720444841386, 15.556684458046954, [0.28049720444841386, 0.0, 0.0, 0.0, 15.556684458046954, 0.0])"
      ]
     },
     "execution_count": 4,
     "metadata": {},
     "output_type": "execute_result"
    }
   ],
   "source": [
    "semiMajorAxis_transfer = (GSO_km+earthRadius_km+earthRadius_km+LEO_km)/(2*semiMajorAxis_scale) #OU\n",
    "instantRadius_transfer = (earthRadius_km+LEO_km) / semiMajorAxis_scale # #OU\n",
    "instantVelocity_transfer = sqrt(μ*(2.0/instantRadius_transfer-1.0/semiMajorAxis_transfer)) #sqrt(OU^3/P^2/OU) =OU/P\n",
    "period_transfer = sqrt(semiMajorAxis_transfer^3/μ)*2*pi\n",
    "x0    = [instantRadius_transfer, 0.0, 0.0, 0.0, instantVelocity_transfer, 0.0] # initial state #geosynchronous transfer orbit (GTO, where rocket dropped satellite off)\n",
    "                                                                             #many kilometers above Africa in an elliptical orbit \n",
    "transfer_orbit = Orbit(semiMajorAxis_transfer, period_transfer, instantRadius_transfer, instantVelocity_transfer, x0)"
   ]
  },
  {
   "cell_type": "code",
   "execution_count": 5,
   "metadata": {},
   "outputs": [],
   "source": [
    "semiMajorAxis_goal = 2*(earthRadius_km+GSO_km)/(2*semiMajorAxis_scale)\n",
    "instantRadius_goal = (earthRadius_km+GSO_km) / semiMajorAxis_scale\n",
    "instantVelocity_goal = sqrt(μ*(2.0/instantRadius_goal-1.0/semiMajorAxis_goal)) # VisViva\n",
    "period_goal = sqrt(semiMajorAxis_goal^3/μ)*2*pi\n",
    "xgoal = [instantRadius_goal, 0.0, 0.0, 0.0, instantVelocity_goal, 0.0] # goal state #circular geosychonous orbit above africa\n",
    "goal_orbit = Orbit(semiMajorAxis_goal, period_goal, instantRadius_goal, instantVelocity_goal, xgoal)\n",
    "ugto = zeros(3)                  # hover controls\n",
    "\n",
    "# Cost matrices\n",
    "# Q = #TODO  #Diagonal(SVector{6}([ones(3) ; fill(0.1, 3)]))\n",
    "# R = #TODO  #Diagonal(@SVector fill(1e-2, m))\n",
    "# Qf = #TODO #Diagonal(@SVector fill(1e2, n));"
   ]
  },
  {
   "cell_type": "code",
   "execution_count": null,
   "metadata": {},
   "outputs": [],
   "source": [
    "sqrt(4*3.14159^2*instantRadius^3/μ)"
   ]
  },
  {
   "cell_type": "code",
   "execution_count": null,
   "metadata": {},
   "outputs": [],
   "source": [
    "period = sqrt(semiMajorAxis_goal^3/μ)*2*pi"
   ]
  },
  {
   "cell_type": "code",
   "execution_count": null,
   "metadata": {},
   "outputs": [],
   "source": [
    "pi"
   ]
  },
  {
   "cell_type": "markdown",
   "metadata": {},
   "source": [
    "## Dynamics"
   ]
  },
  {
   "cell_type": "code",
   "execution_count": 6,
   "metadata": {},
   "outputs": [
    {
     "data": {
      "text/plain": [
       "dynamics (generic function with 1 method)"
      ]
     },
     "execution_count": 6,
     "metadata": {},
     "output_type": "execute_result"
    }
   ],
   "source": [
    "function dynamics(x, u)\n",
    "    # x = state [x, y, z, dx, dy, dz]\n",
    "    # u = control [ux, uy, uz]\n",
    "    r = x[1:3] #orbital units (OU)\n",
    "    ṙ = x[4:end] #\n",
    "    r̈ = (-μ/(norm(r)^3))*r + u #μ(OU^3/P^2)/OU^3*OU\n",
    "    return [ṙ; r̈]\n",
    "end"
   ]
  },
  {
   "cell_type": "code",
   "execution_count": 7,
   "metadata": {},
   "outputs": [
    {
     "data": {
      "text/plain": [
       "integrator! (generic function with 1 method)"
      ]
     },
     "execution_count": 7,
     "metadata": {},
     "output_type": "execute_result"
    }
   ],
   "source": [
    "function integrator!(x, u, h)\n",
    "    # x = state\n",
    "    # u = control\n",
    "    # h = time step\n",
    "#     ẋ = dynamics(x, u)\n",
    "    f1 = dynamics(x, u)\n",
    "    f2 = dynamics(x + 0.5*h*f1, u)\n",
    "    f3 = dynamics(x + 0.5*h*f2, u)\n",
    "    f4 = dynamics(x + h*f3, u)\n",
    "    x .+= (h/6.0)*(f1 + 2*f2 + 2*f3 + f4)\n",
    "end"
   ]
  },
  {
   "cell_type": "code",
   "execution_count": 8,
   "metadata": {},
   "outputs": [
    {
     "data": {
      "text/plain": [
       "get_energy (generic function with 1 method)"
      ]
     },
     "execution_count": 8,
     "metadata": {},
     "output_type": "execute_result"
    }
   ],
   "source": [
    "function get_energy(x)\n",
    "    return norm(x[4:end])^2/2 - μ/norm(x[1:3])\n",
    "end"
   ]
  },
  {
   "cell_type": "code",
   "execution_count": 27,
   "metadata": {},
   "outputs": [
    {
     "data": {
      "text/plain": [
       "plot_orbit (generic function with 1 method)"
      ]
     },
     "execution_count": 27,
     "metadata": {},
     "output_type": "execute_result"
    }
   ],
   "source": [
    "function plot_orbit(orbit::Orbit)\n",
    "    h = 0.001 \n",
    "    t = range(0, orbit.period, step=h) # time in second 90min\n",
    "\n",
    "    traj = zeros(size(t)[1], size(x0)[1])\n",
    "    # print(size(traj))\n",
    "    x = copy(orbit.x0)\n",
    "    traj[1,:] .= x\n",
    "\n",
    "    u = zeros(3)\n",
    "    energy = zero(t)\n",
    "    energy[1] = get_energy(x)\n",
    "    for i in 2:size(t)[1]\n",
    "        integrator!(x, u, h)\n",
    "        traj[i,:] .= x\n",
    "        energy[i] = get_energy(x)\n",
    "    end\n",
    "#     plot(t, energy)\n",
    "    plot(traj[:, 1], traj[:, 2], aspect_ratio=:equal, lims=(-semiMajorAxis_goal,semiMajorAxis_goal))\n",
    "end"
   ]
  },
  {
   "cell_type": "code",
   "execution_count": 29,
   "metadata": {},
   "outputs": [
    {
     "data": {
      "image/svg+xml": [
       "<?xml version=\"1.0\" encoding=\"utf-8\"?>\n",
       "<svg xmlns=\"http://www.w3.org/2000/svg\" xmlns:xlink=\"http://www.w3.org/1999/xlink\" width=\"600\" height=\"400\" viewBox=\"0 0 2400 1600\">\n",
       "<defs>\n",
       "  <clipPath id=\"clip470\">\n",
       "    <rect x=\"0\" y=\"0\" width=\"2400\" height=\"1600\"/>\n",
       "  </clipPath>\n",
       "</defs>\n",
       "<path clip-path=\"url(#clip470)\" d=\"\n",
       "M0 1600 L2400 1600 L2400 0 L0 0  Z\n",
       "  \" fill=\"#ffffff\" fill-rule=\"evenodd\" fill-opacity=\"1\"/>\n",
       "<defs>\n",
       "  <clipPath id=\"clip471\">\n",
       "    <rect x=\"480\" y=\"0\" width=\"1681\" height=\"1600\"/>\n",
       "  </clipPath>\n",
       "</defs>\n",
       "<path clip-path=\"url(#clip470)\" d=\"\n",
       "M553.744 1486.45 L1992.95 1486.45 L1992.95 47.2441 L553.744 47.2441  Z\n",
       "  \" fill=\"#ffffff\" fill-rule=\"evenodd\" fill-opacity=\"1\"/>\n",
       "<defs>\n",
       "  <clipPath id=\"clip472\">\n",
       "    <rect x=\"553\" y=\"47\" width=\"1440\" height=\"1440\"/>\n",
       "  </clipPath>\n",
       "</defs>\n",
       "<polyline clip-path=\"url(#clip472)\" style=\"stroke:#000000; stroke-width:2; stroke-opacity:0.1; fill:none\" points=\"\n",
       "  645.605,1486.45 645.605,47.2441 \n",
       "  \"/>\n",
       "<polyline clip-path=\"url(#clip472)\" style=\"stroke:#000000; stroke-width:2; stroke-opacity:0.1; fill:none\" points=\"\n",
       "  854.852,1486.45 854.852,47.2441 \n",
       "  \"/>\n",
       "<polyline clip-path=\"url(#clip472)\" style=\"stroke:#000000; stroke-width:2; stroke-opacity:0.1; fill:none\" points=\"\n",
       "  1064.1,1486.45 1064.1,47.2441 \n",
       "  \"/>\n",
       "<polyline clip-path=\"url(#clip472)\" style=\"stroke:#000000; stroke-width:2; stroke-opacity:0.1; fill:none\" points=\"\n",
       "  1273.35,1486.45 1273.35,47.2441 \n",
       "  \"/>\n",
       "<polyline clip-path=\"url(#clip472)\" style=\"stroke:#000000; stroke-width:2; stroke-opacity:0.1; fill:none\" points=\"\n",
       "  1482.59,1486.45 1482.59,47.2441 \n",
       "  \"/>\n",
       "<polyline clip-path=\"url(#clip472)\" style=\"stroke:#000000; stroke-width:2; stroke-opacity:0.1; fill:none\" points=\"\n",
       "  1691.84,1486.45 1691.84,47.2441 \n",
       "  \"/>\n",
       "<polyline clip-path=\"url(#clip472)\" style=\"stroke:#000000; stroke-width:2; stroke-opacity:0.1; fill:none\" points=\"\n",
       "  1901.09,1486.45 1901.09,47.2441 \n",
       "  \"/>\n",
       "<polyline clip-path=\"url(#clip470)\" style=\"stroke:#000000; stroke-width:4; stroke-opacity:1; fill:none\" points=\"\n",
       "  553.744,1486.45 1992.95,1486.45 \n",
       "  \"/>\n",
       "<polyline clip-path=\"url(#clip470)\" style=\"stroke:#000000; stroke-width:4; stroke-opacity:1; fill:none\" points=\"\n",
       "  645.605,1486.45 645.605,1469.18 \n",
       "  \"/>\n",
       "<polyline clip-path=\"url(#clip470)\" style=\"stroke:#000000; stroke-width:4; stroke-opacity:1; fill:none\" points=\"\n",
       "  854.852,1486.45 854.852,1469.18 \n",
       "  \"/>\n",
       "<polyline clip-path=\"url(#clip470)\" style=\"stroke:#000000; stroke-width:4; stroke-opacity:1; fill:none\" points=\"\n",
       "  1064.1,1486.45 1064.1,1469.18 \n",
       "  \"/>\n",
       "<polyline clip-path=\"url(#clip470)\" style=\"stroke:#000000; stroke-width:4; stroke-opacity:1; fill:none\" points=\"\n",
       "  1273.35,1486.45 1273.35,1469.18 \n",
       "  \"/>\n",
       "<polyline clip-path=\"url(#clip470)\" style=\"stroke:#000000; stroke-width:4; stroke-opacity:1; fill:none\" points=\"\n",
       "  1482.59,1486.45 1482.59,1469.18 \n",
       "  \"/>\n",
       "<polyline clip-path=\"url(#clip470)\" style=\"stroke:#000000; stroke-width:4; stroke-opacity:1; fill:none\" points=\"\n",
       "  1691.84,1486.45 1691.84,1469.18 \n",
       "  \"/>\n",
       "<polyline clip-path=\"url(#clip470)\" style=\"stroke:#000000; stroke-width:4; stroke-opacity:1; fill:none\" points=\"\n",
       "  1901.09,1486.45 1901.09,1469.18 \n",
       "  \"/>\n",
       "<path clip-path=\"url(#clip470)\" d=\"M 0 0 M592.63 1530.29 L622.306 1530.29 L622.306 1534.23 L592.63 1534.23 L592.63 1530.29 Z\" fill=\"#000000\" fill-rule=\"evenodd\" fill-opacity=\"1\" /><path clip-path=\"url(#clip470)\" d=\"M 0 0 M633.209 1543.18 L640.848 1543.18 L640.848 1516.82 L632.538 1518.49 L632.538 1514.23 L640.801 1512.56 L645.477 1512.56 L645.477 1543.18 L653.116 1543.18 L653.116 1547.12 L633.209 1547.12 L633.209 1543.18 Z\" fill=\"#000000\" fill-rule=\"evenodd\" fill-opacity=\"1\" /><path clip-path=\"url(#clip470)\" d=\"M 0 0 M662.561 1541.24 L667.445 1541.24 L667.445 1547.12 L662.561 1547.12 L662.561 1541.24 Z\" fill=\"#000000\" fill-rule=\"evenodd\" fill-opacity=\"1\" /><path clip-path=\"url(#clip470)\" d=\"M 0 0 M677.676 1512.56 L696.033 1512.56 L696.033 1516.5 L681.959 1516.5 L681.959 1524.97 Q682.977 1524.62 683.996 1524.46 Q685.014 1524.27 686.033 1524.27 Q691.82 1524.27 695.199 1527.44 Q698.579 1530.62 698.579 1536.03 Q698.579 1541.61 695.107 1544.71 Q691.635 1547.79 685.315 1547.79 Q683.139 1547.79 680.871 1547.42 Q678.625 1547.05 676.218 1546.31 L676.218 1541.61 Q678.301 1542.74 680.523 1543.3 Q682.746 1543.86 685.223 1543.86 Q689.227 1543.86 691.565 1541.75 Q693.903 1539.64 693.903 1536.03 Q693.903 1532.42 691.565 1530.31 Q689.227 1528.21 685.223 1528.21 Q683.348 1528.21 681.473 1528.62 Q679.621 1529.04 677.676 1529.92 L677.676 1512.56 Z\" fill=\"#000000\" fill-rule=\"evenodd\" fill-opacity=\"1\" /><path clip-path=\"url(#clip470)\" d=\"M 0 0 M801.38 1530.29 L831.056 1530.29 L831.056 1534.23 L801.38 1534.23 L801.38 1530.29 Z\" fill=\"#000000\" fill-rule=\"evenodd\" fill-opacity=\"1\" /><path clip-path=\"url(#clip470)\" d=\"M 0 0 M841.958 1543.18 L849.597 1543.18 L849.597 1516.82 L841.287 1518.49 L841.287 1514.23 L849.551 1512.56 L854.227 1512.56 L854.227 1543.18 L861.866 1543.18 L861.866 1547.12 L841.958 1547.12 L841.958 1543.18 Z\" fill=\"#000000\" fill-rule=\"evenodd\" fill-opacity=\"1\" /><path clip-path=\"url(#clip470)\" d=\"M 0 0 M871.31 1541.24 L876.194 1541.24 L876.194 1547.12 L871.31 1547.12 L871.31 1541.24 Z\" fill=\"#000000\" fill-rule=\"evenodd\" fill-opacity=\"1\" /><path clip-path=\"url(#clip470)\" d=\"M 0 0 M896.379 1515.64 Q892.768 1515.64 890.94 1519.2 Q889.134 1522.75 889.134 1529.87 Q889.134 1536.98 890.94 1540.55 Q892.768 1544.09 896.379 1544.09 Q900.014 1544.09 901.819 1540.55 Q903.648 1536.98 903.648 1529.87 Q903.648 1522.75 901.819 1519.2 Q900.014 1515.64 896.379 1515.64 M896.379 1511.93 Q902.189 1511.93 905.245 1516.54 Q908.324 1521.12 908.324 1529.87 Q908.324 1538.6 905.245 1543.21 Q902.189 1547.79 896.379 1547.79 Q890.569 1547.79 887.49 1543.21 Q884.435 1538.6 884.435 1529.87 Q884.435 1521.12 887.49 1516.54 Q890.569 1511.93 896.379 1511.93 Z\" fill=\"#000000\" fill-rule=\"evenodd\" fill-opacity=\"1\" /><path clip-path=\"url(#clip470)\" d=\"M 0 0 M1011.12 1530.29 L1040.8 1530.29 L1040.8 1534.23 L1011.12 1534.23 L1011.12 1530.29 Z\" fill=\"#000000\" fill-rule=\"evenodd\" fill-opacity=\"1\" /><path clip-path=\"url(#clip470)\" d=\"M 0 0 M1060.89 1515.64 Q1057.28 1515.64 1055.45 1519.2 Q1053.65 1522.75 1053.65 1529.87 Q1053.65 1536.98 1055.45 1540.55 Q1057.28 1544.09 1060.89 1544.09 Q1064.53 1544.09 1066.33 1540.55 Q1068.16 1536.98 1068.16 1529.87 Q1068.16 1522.75 1066.33 1519.2 Q1064.53 1515.64 1060.89 1515.64 M1060.89 1511.93 Q1066.7 1511.93 1069.76 1516.54 Q1072.84 1521.12 1072.84 1529.87 Q1072.84 1538.6 1069.76 1543.21 Q1066.7 1547.79 1060.89 1547.79 Q1055.08 1547.79 1052 1543.21 Q1048.95 1538.6 1048.95 1529.87 Q1048.95 1521.12 1052 1516.54 Q1055.08 1511.93 1060.89 1511.93 Z\" fill=\"#000000\" fill-rule=\"evenodd\" fill-opacity=\"1\" /><path clip-path=\"url(#clip470)\" d=\"M 0 0 M1081.05 1541.24 L1085.94 1541.24 L1085.94 1547.12 L1081.05 1547.12 L1081.05 1541.24 Z\" fill=\"#000000\" fill-rule=\"evenodd\" fill-opacity=\"1\" /><path clip-path=\"url(#clip470)\" d=\"M 0 0 M1096.17 1512.56 L1114.53 1512.56 L1114.53 1516.5 L1100.45 1516.5 L1100.45 1524.97 Q1101.47 1524.62 1102.49 1524.46 Q1103.51 1524.27 1104.53 1524.27 Q1110.31 1524.27 1113.69 1527.44 Q1117.07 1530.62 1117.07 1536.03 Q1117.07 1541.61 1113.6 1544.71 Q1110.13 1547.79 1103.81 1547.79 Q1101.63 1547.79 1099.36 1547.42 Q1097.12 1547.05 1094.71 1546.31 L1094.71 1541.61 Q1096.8 1542.74 1099.02 1543.3 Q1101.24 1543.86 1103.72 1543.86 Q1107.72 1543.86 1110.06 1541.75 Q1112.4 1539.64 1112.4 1536.03 Q1112.4 1532.42 1110.06 1530.31 Q1107.72 1528.21 1103.72 1528.21 Q1101.84 1528.21 1099.97 1528.62 Q1098.11 1529.04 1096.17 1529.92 L1096.17 1512.56 Z\" fill=\"#000000\" fill-rule=\"evenodd\" fill-opacity=\"1\" /><path clip-path=\"url(#clip470)\" d=\"M 0 0 M1250.73 1515.64 Q1247.12 1515.64 1245.29 1519.2 Q1243.49 1522.75 1243.49 1529.87 Q1243.49 1536.98 1245.29 1540.55 Q1247.12 1544.09 1250.73 1544.09 Q1254.36 1544.09 1256.17 1540.55 Q1258 1536.98 1258 1529.87 Q1258 1522.75 1256.17 1519.2 Q1254.36 1515.64 1250.73 1515.64 M1250.73 1511.93 Q1256.54 1511.93 1259.6 1516.54 Q1262.67 1521.12 1262.67 1529.87 Q1262.67 1538.6 1259.6 1543.21 Q1256.54 1547.79 1250.73 1547.79 Q1244.92 1547.79 1241.84 1543.21 Q1238.79 1538.6 1238.79 1529.87 Q1238.79 1521.12 1241.84 1516.54 Q1244.92 1511.93 1250.73 1511.93 Z\" fill=\"#000000\" fill-rule=\"evenodd\" fill-opacity=\"1\" /><path clip-path=\"url(#clip470)\" d=\"M 0 0 M1270.89 1541.24 L1275.78 1541.24 L1275.78 1547.12 L1270.89 1547.12 L1270.89 1541.24 Z\" fill=\"#000000\" fill-rule=\"evenodd\" fill-opacity=\"1\" /><path clip-path=\"url(#clip470)\" d=\"M 0 0 M1295.96 1515.64 Q1292.35 1515.64 1290.52 1519.2 Q1288.72 1522.75 1288.72 1529.87 Q1288.72 1536.98 1290.52 1540.55 Q1292.35 1544.09 1295.96 1544.09 Q1299.6 1544.09 1301.4 1540.55 Q1303.23 1536.98 1303.23 1529.87 Q1303.23 1522.75 1301.4 1519.2 Q1299.6 1515.64 1295.96 1515.64 M1295.96 1511.93 Q1301.77 1511.93 1304.83 1516.54 Q1307.91 1521.12 1307.91 1529.87 Q1307.91 1538.6 1304.83 1543.21 Q1301.77 1547.79 1295.96 1547.79 Q1290.15 1547.79 1287.07 1543.21 Q1284.02 1538.6 1284.02 1529.87 Q1284.02 1521.12 1287.07 1516.54 Q1290.15 1511.93 1295.96 1511.93 Z\" fill=\"#000000\" fill-rule=\"evenodd\" fill-opacity=\"1\" /><path clip-path=\"url(#clip470)\" d=\"M 0 0 M1460.48 1515.64 Q1456.86 1515.64 1455.04 1519.2 Q1453.23 1522.75 1453.23 1529.87 Q1453.23 1536.98 1455.04 1540.55 Q1456.86 1544.09 1460.48 1544.09 Q1464.11 1544.09 1465.91 1540.55 Q1467.74 1536.98 1467.74 1529.87 Q1467.74 1522.75 1465.91 1519.2 Q1464.11 1515.64 1460.48 1515.64 M1460.48 1511.93 Q1466.29 1511.93 1469.34 1516.54 Q1472.42 1521.12 1472.42 1529.87 Q1472.42 1538.6 1469.34 1543.21 Q1466.29 1547.79 1460.48 1547.79 Q1454.66 1547.79 1451.59 1543.21 Q1448.53 1538.6 1448.53 1529.87 Q1448.53 1521.12 1451.59 1516.54 Q1454.66 1511.93 1460.48 1511.93 Z\" fill=\"#000000\" fill-rule=\"evenodd\" fill-opacity=\"1\" /><path clip-path=\"url(#clip470)\" d=\"M 0 0 M1480.64 1541.24 L1485.52 1541.24 L1485.52 1547.12 L1480.64 1547.12 L1480.64 1541.24 Z\" fill=\"#000000\" fill-rule=\"evenodd\" fill-opacity=\"1\" /><path clip-path=\"url(#clip470)\" d=\"M 0 0 M1495.75 1512.56 L1514.11 1512.56 L1514.11 1516.5 L1500.04 1516.5 L1500.04 1524.97 Q1501.05 1524.62 1502.07 1524.46 Q1503.09 1524.27 1504.11 1524.27 Q1509.9 1524.27 1513.28 1527.44 Q1516.66 1530.62 1516.66 1536.03 Q1516.66 1541.61 1513.18 1544.71 Q1509.71 1547.79 1503.39 1547.79 Q1501.22 1547.79 1498.95 1547.42 Q1496.7 1547.05 1494.29 1546.31 L1494.29 1541.61 Q1496.38 1542.74 1498.6 1543.3 Q1500.82 1543.86 1503.3 1543.86 Q1507.3 1543.86 1509.64 1541.75 Q1511.98 1539.64 1511.98 1536.03 Q1511.98 1532.42 1509.64 1530.31 Q1507.3 1528.21 1503.3 1528.21 Q1501.42 1528.21 1499.55 1528.62 Q1497.7 1529.04 1495.75 1529.92 L1495.75 1512.56 Z\" fill=\"#000000\" fill-rule=\"evenodd\" fill-opacity=\"1\" /><path clip-path=\"url(#clip470)\" d=\"M 0 0 M1658.99 1543.18 L1666.63 1543.18 L1666.63 1516.82 L1658.32 1518.49 L1658.32 1514.23 L1666.59 1512.56 L1671.26 1512.56 L1671.26 1543.18 L1678.9 1543.18 L1678.9 1547.12 L1658.99 1547.12 L1658.99 1543.18 Z\" fill=\"#000000\" fill-rule=\"evenodd\" fill-opacity=\"1\" /><path clip-path=\"url(#clip470)\" d=\"M 0 0 M1688.34 1541.24 L1693.23 1541.24 L1693.23 1547.12 L1688.34 1547.12 L1688.34 1541.24 Z\" fill=\"#000000\" fill-rule=\"evenodd\" fill-opacity=\"1\" /><path clip-path=\"url(#clip470)\" d=\"M 0 0 M1713.41 1515.64 Q1709.8 1515.64 1707.97 1519.2 Q1706.17 1522.75 1706.17 1529.87 Q1706.17 1536.98 1707.97 1540.55 Q1709.8 1544.09 1713.41 1544.09 Q1717.05 1544.09 1718.85 1540.55 Q1720.68 1536.98 1720.68 1529.87 Q1720.68 1522.75 1718.85 1519.2 Q1717.05 1515.64 1713.41 1515.64 M1713.41 1511.93 Q1719.22 1511.93 1722.28 1516.54 Q1725.36 1521.12 1725.36 1529.87 Q1725.36 1538.6 1722.28 1543.21 Q1719.22 1547.79 1713.41 1547.79 Q1707.6 1547.79 1704.53 1543.21 Q1701.47 1538.6 1701.47 1529.87 Q1701.47 1521.12 1704.53 1516.54 Q1707.6 1511.93 1713.41 1511.93 Z\" fill=\"#000000\" fill-rule=\"evenodd\" fill-opacity=\"1\" /><path clip-path=\"url(#clip470)\" d=\"M 0 0 M1868.74 1543.18 L1876.38 1543.18 L1876.38 1516.82 L1868.07 1518.49 L1868.07 1514.23 L1876.33 1512.56 L1881.01 1512.56 L1881.01 1543.18 L1888.65 1543.18 L1888.65 1547.12 L1868.74 1547.12 L1868.74 1543.18 Z\" fill=\"#000000\" fill-rule=\"evenodd\" fill-opacity=\"1\" /><path clip-path=\"url(#clip470)\" d=\"M 0 0 M1898.09 1541.24 L1902.97 1541.24 L1902.97 1547.12 L1898.09 1547.12 L1898.09 1541.24 Z\" fill=\"#000000\" fill-rule=\"evenodd\" fill-opacity=\"1\" /><path clip-path=\"url(#clip470)\" d=\"M 0 0 M1913.21 1512.56 L1931.56 1512.56 L1931.56 1516.5 L1917.49 1516.5 L1917.49 1524.97 Q1918.51 1524.62 1919.52 1524.46 Q1920.54 1524.27 1921.56 1524.27 Q1927.35 1524.27 1930.73 1527.44 Q1934.11 1530.62 1934.11 1536.03 Q1934.11 1541.61 1930.64 1544.71 Q1927.16 1547.79 1920.84 1547.79 Q1918.67 1547.79 1916.4 1547.42 Q1914.15 1547.05 1911.75 1546.31 L1911.75 1541.61 Q1913.83 1542.74 1916.05 1543.3 Q1918.27 1543.86 1920.75 1543.86 Q1924.76 1543.86 1927.09 1541.75 Q1929.43 1539.64 1929.43 1536.03 Q1929.43 1532.42 1927.09 1530.31 Q1924.76 1528.21 1920.75 1528.21 Q1918.88 1528.21 1917 1528.62 Q1915.15 1529.04 1913.21 1529.92 L1913.21 1512.56 Z\" fill=\"#000000\" fill-rule=\"evenodd\" fill-opacity=\"1\" /><polyline clip-path=\"url(#clip472)\" style=\"stroke:#000000; stroke-width:2; stroke-opacity:0.1; fill:none\" points=\"\n",
       "  553.744,1394.59 1992.95,1394.59 \n",
       "  \"/>\n",
       "<polyline clip-path=\"url(#clip472)\" style=\"stroke:#000000; stroke-width:2; stroke-opacity:0.1; fill:none\" points=\"\n",
       "  553.744,1185.34 1992.95,1185.34 \n",
       "  \"/>\n",
       "<polyline clip-path=\"url(#clip472)\" style=\"stroke:#000000; stroke-width:2; stroke-opacity:0.1; fill:none\" points=\"\n",
       "  553.744,976.093 1992.95,976.093 \n",
       "  \"/>\n",
       "<polyline clip-path=\"url(#clip472)\" style=\"stroke:#000000; stroke-width:2; stroke-opacity:0.1; fill:none\" points=\"\n",
       "  553.744,766.846 1992.95,766.846 \n",
       "  \"/>\n",
       "<polyline clip-path=\"url(#clip472)\" style=\"stroke:#000000; stroke-width:2; stroke-opacity:0.1; fill:none\" points=\"\n",
       "  553.744,557.599 1992.95,557.599 \n",
       "  \"/>\n",
       "<polyline clip-path=\"url(#clip472)\" style=\"stroke:#000000; stroke-width:2; stroke-opacity:0.1; fill:none\" points=\"\n",
       "  553.744,348.352 1992.95,348.352 \n",
       "  \"/>\n",
       "<polyline clip-path=\"url(#clip472)\" style=\"stroke:#000000; stroke-width:2; stroke-opacity:0.1; fill:none\" points=\"\n",
       "  553.744,139.105 1992.95,139.105 \n",
       "  \"/>\n",
       "<polyline clip-path=\"url(#clip470)\" style=\"stroke:#000000; stroke-width:4; stroke-opacity:1; fill:none\" points=\"\n",
       "  553.744,1486.45 553.744,47.2441 \n",
       "  \"/>\n",
       "<polyline clip-path=\"url(#clip470)\" style=\"stroke:#000000; stroke-width:4; stroke-opacity:1; fill:none\" points=\"\n",
       "  553.744,1394.59 571.015,1394.59 \n",
       "  \"/>\n",
       "<polyline clip-path=\"url(#clip470)\" style=\"stroke:#000000; stroke-width:4; stroke-opacity:1; fill:none\" points=\"\n",
       "  553.744,1185.34 571.015,1185.34 \n",
       "  \"/>\n",
       "<polyline clip-path=\"url(#clip470)\" style=\"stroke:#000000; stroke-width:4; stroke-opacity:1; fill:none\" points=\"\n",
       "  553.744,976.093 571.015,976.093 \n",
       "  \"/>\n",
       "<polyline clip-path=\"url(#clip470)\" style=\"stroke:#000000; stroke-width:4; stroke-opacity:1; fill:none\" points=\"\n",
       "  553.744,766.846 571.015,766.846 \n",
       "  \"/>\n",
       "<polyline clip-path=\"url(#clip470)\" style=\"stroke:#000000; stroke-width:4; stroke-opacity:1; fill:none\" points=\"\n",
       "  553.744,557.599 571.015,557.599 \n",
       "  \"/>\n",
       "<polyline clip-path=\"url(#clip470)\" style=\"stroke:#000000; stroke-width:4; stroke-opacity:1; fill:none\" points=\"\n",
       "  553.744,348.352 571.015,348.352 \n",
       "  \"/>\n",
       "<polyline clip-path=\"url(#clip470)\" style=\"stroke:#000000; stroke-width:4; stroke-opacity:1; fill:none\" points=\"\n",
       "  553.744,139.105 571.015,139.105 \n",
       "  \"/>\n",
       "<path clip-path=\"url(#clip470)\" d=\"M 0 0 M411.796 1395.04 L441.471 1395.04 L441.471 1398.97 L411.796 1398.97 L411.796 1395.04 Z\" fill=\"#000000\" fill-rule=\"evenodd\" fill-opacity=\"1\" /><path clip-path=\"url(#clip470)\" d=\"M 0 0 M452.374 1407.93 L460.013 1407.93 L460.013 1381.57 L451.703 1383.23 L451.703 1378.97 L459.967 1377.31 L464.642 1377.31 L464.642 1407.93 L472.281 1407.93 L472.281 1411.87 L452.374 1411.87 L452.374 1407.93 Z\" fill=\"#000000\" fill-rule=\"evenodd\" fill-opacity=\"1\" /><path clip-path=\"url(#clip470)\" d=\"M 0 0 M481.726 1405.99 L486.61 1405.99 L486.61 1411.87 L481.726 1411.87 L481.726 1405.99 Z\" fill=\"#000000\" fill-rule=\"evenodd\" fill-opacity=\"1\" /><path clip-path=\"url(#clip470)\" d=\"M 0 0 M496.841 1377.31 L515.198 1377.31 L515.198 1381.24 L501.124 1381.24 L501.124 1389.71 Q502.142 1389.37 503.161 1389.21 Q504.179 1389.02 505.198 1389.02 Q510.985 1389.02 514.364 1392.19 Q517.744 1395.36 517.744 1400.78 Q517.744 1406.36 514.272 1409.46 Q510.8 1412.54 504.48 1412.54 Q502.304 1412.54 500.036 1412.17 Q497.79 1411.8 495.383 1411.06 L495.383 1406.36 Q497.466 1407.49 499.689 1408.05 Q501.911 1408.6 504.388 1408.6 Q508.392 1408.6 510.73 1406.5 Q513.068 1404.39 513.068 1400.78 Q513.068 1397.17 510.73 1395.06 Q508.392 1392.96 504.388 1392.96 Q502.513 1392.96 500.638 1393.37 Q498.786 1393.79 496.841 1394.67 L496.841 1377.31 Z\" fill=\"#000000\" fill-rule=\"evenodd\" fill-opacity=\"1\" /><path clip-path=\"url(#clip470)\" d=\"M 0 0 M410.8 1185.79 L440.476 1185.79 L440.476 1189.73 L410.8 1189.73 L410.8 1185.79 Z\" fill=\"#000000\" fill-rule=\"evenodd\" fill-opacity=\"1\" /><path clip-path=\"url(#clip470)\" d=\"M 0 0 M451.379 1198.68 L459.018 1198.68 L459.018 1172.32 L450.707 1173.99 L450.707 1169.73 L458.971 1168.06 L463.647 1168.06 L463.647 1198.68 L471.286 1198.68 L471.286 1202.62 L451.379 1202.62 L451.379 1198.68 Z\" fill=\"#000000\" fill-rule=\"evenodd\" fill-opacity=\"1\" /><path clip-path=\"url(#clip470)\" d=\"M 0 0 M480.73 1196.74 L485.615 1196.74 L485.615 1202.62 L480.73 1202.62 L480.73 1196.74 Z\" fill=\"#000000\" fill-rule=\"evenodd\" fill-opacity=\"1\" /><path clip-path=\"url(#clip470)\" d=\"M 0 0 M505.8 1171.14 Q502.189 1171.14 500.36 1174.7 Q498.554 1178.25 498.554 1185.37 Q498.554 1192.48 500.36 1196.05 Q502.189 1199.59 505.8 1199.59 Q509.434 1199.59 511.239 1196.05 Q513.068 1192.48 513.068 1185.37 Q513.068 1178.25 511.239 1174.7 Q509.434 1171.14 505.8 1171.14 M505.8 1167.44 Q511.61 1167.44 514.665 1172.04 Q517.744 1176.62 517.744 1185.37 Q517.744 1194.1 514.665 1198.71 Q511.61 1203.29 505.8 1203.29 Q499.99 1203.29 496.911 1198.71 Q493.855 1194.1 493.855 1185.37 Q493.855 1176.62 496.911 1172.04 Q499.99 1167.44 505.8 1167.44 Z\" fill=\"#000000\" fill-rule=\"evenodd\" fill-opacity=\"1\" /><path clip-path=\"url(#clip470)\" d=\"M 0 0 M411.796 976.544 L441.471 976.544 L441.471 980.48 L411.796 980.48 L411.796 976.544 Z\" fill=\"#000000\" fill-rule=\"evenodd\" fill-opacity=\"1\" /><path clip-path=\"url(#clip470)\" d=\"M 0 0 M461.564 961.892 Q457.953 961.892 456.124 965.457 Q454.318 968.998 454.318 976.128 Q454.318 983.234 456.124 986.799 Q457.953 990.341 461.564 990.341 Q465.198 990.341 467.004 986.799 Q468.832 983.234 468.832 976.128 Q468.832 968.998 467.004 965.457 Q465.198 961.892 461.564 961.892 M461.564 958.188 Q467.374 958.188 470.43 962.795 Q473.508 967.378 473.508 976.128 Q473.508 984.855 470.43 989.461 Q467.374 994.044 461.564 994.044 Q455.754 994.044 452.675 989.461 Q449.619 984.855 449.619 976.128 Q449.619 967.378 452.675 962.795 Q455.754 958.188 461.564 958.188 Z\" fill=\"#000000\" fill-rule=\"evenodd\" fill-opacity=\"1\" /><path clip-path=\"url(#clip470)\" d=\"M 0 0 M481.726 987.493 L486.61 987.493 L486.61 993.373 L481.726 993.373 L481.726 987.493 Z\" fill=\"#000000\" fill-rule=\"evenodd\" fill-opacity=\"1\" /><path clip-path=\"url(#clip470)\" d=\"M 0 0 M496.841 958.813 L515.198 958.813 L515.198 962.748 L501.124 962.748 L501.124 971.22 Q502.142 970.873 503.161 970.711 Q504.179 970.526 505.198 970.526 Q510.985 970.526 514.364 973.697 Q517.744 976.869 517.744 982.285 Q517.744 987.864 514.272 990.966 Q510.8 994.044 504.48 994.044 Q502.304 994.044 500.036 993.674 Q497.79 993.304 495.383 992.563 L495.383 987.864 Q497.466 988.998 499.689 989.554 Q501.911 990.109 504.388 990.109 Q508.392 990.109 510.73 988.003 Q513.068 985.896 513.068 982.285 Q513.068 978.674 510.73 976.568 Q508.392 974.461 504.388 974.461 Q502.513 974.461 500.638 974.878 Q498.786 975.294 496.841 976.174 L496.841 958.813 Z\" fill=\"#000000\" fill-rule=\"evenodd\" fill-opacity=\"1\" /><path clip-path=\"url(#clip470)\" d=\"M 0 0 M460.568 752.645 Q456.957 752.645 455.129 756.209 Q453.323 759.751 453.323 766.881 Q453.323 773.987 455.129 777.552 Q456.957 781.094 460.568 781.094 Q464.203 781.094 466.008 777.552 Q467.837 773.987 467.837 766.881 Q467.837 759.751 466.008 756.209 Q464.203 752.645 460.568 752.645 M460.568 748.941 Q466.379 748.941 469.434 753.547 Q472.513 758.131 472.513 766.881 Q472.513 775.608 469.434 780.214 Q466.379 784.797 460.568 784.797 Q454.758 784.797 451.68 780.214 Q448.624 775.608 448.624 766.881 Q448.624 758.131 451.68 753.547 Q454.758 748.941 460.568 748.941 Z\" fill=\"#000000\" fill-rule=\"evenodd\" fill-opacity=\"1\" /><path clip-path=\"url(#clip470)\" d=\"M 0 0 M480.73 778.246 L485.615 778.246 L485.615 784.126 L480.73 784.126 L480.73 778.246 Z\" fill=\"#000000\" fill-rule=\"evenodd\" fill-opacity=\"1\" /><path clip-path=\"url(#clip470)\" d=\"M 0 0 M505.8 752.645 Q502.189 752.645 500.36 756.209 Q498.554 759.751 498.554 766.881 Q498.554 773.987 500.36 777.552 Q502.189 781.094 505.8 781.094 Q509.434 781.094 511.239 777.552 Q513.068 773.987 513.068 766.881 Q513.068 759.751 511.239 756.209 Q509.434 752.645 505.8 752.645 M505.8 748.941 Q511.61 748.941 514.665 753.547 Q517.744 758.131 517.744 766.881 Q517.744 775.608 514.665 780.214 Q511.61 784.797 505.8 784.797 Q499.99 784.797 496.911 780.214 Q493.855 775.608 493.855 766.881 Q493.855 758.131 496.911 753.547 Q499.99 748.941 505.8 748.941 Z\" fill=\"#000000\" fill-rule=\"evenodd\" fill-opacity=\"1\" /><path clip-path=\"url(#clip470)\" d=\"M 0 0 M461.564 543.398 Q457.953 543.398 456.124 546.962 Q454.318 550.504 454.318 557.634 Q454.318 564.74 456.124 568.305 Q457.953 571.847 461.564 571.847 Q465.198 571.847 467.004 568.305 Q468.832 564.74 468.832 557.634 Q468.832 550.504 467.004 546.962 Q465.198 543.398 461.564 543.398 M461.564 539.694 Q467.374 539.694 470.43 544.3 Q473.508 548.884 473.508 557.634 Q473.508 566.36 470.43 570.967 Q467.374 575.55 461.564 575.55 Q455.754 575.55 452.675 570.967 Q449.619 566.36 449.619 557.634 Q449.619 548.884 452.675 544.3 Q455.754 539.694 461.564 539.694 Z\" fill=\"#000000\" fill-rule=\"evenodd\" fill-opacity=\"1\" /><path clip-path=\"url(#clip470)\" d=\"M 0 0 M481.726 568.999 L486.61 568.999 L486.61 574.879 L481.726 574.879 L481.726 568.999 Z\" fill=\"#000000\" fill-rule=\"evenodd\" fill-opacity=\"1\" /><path clip-path=\"url(#clip470)\" d=\"M 0 0 M496.841 540.319 L515.198 540.319 L515.198 544.254 L501.124 544.254 L501.124 552.726 Q502.142 552.379 503.161 552.217 Q504.179 552.032 505.198 552.032 Q510.985 552.032 514.364 555.203 Q517.744 558.374 517.744 563.791 Q517.744 569.37 514.272 572.472 Q510.8 575.55 504.48 575.55 Q502.304 575.55 500.036 575.18 Q497.79 574.809 495.383 574.069 L495.383 569.37 Q497.466 570.504 499.689 571.059 Q501.911 571.615 504.388 571.615 Q508.392 571.615 510.73 569.509 Q513.068 567.402 513.068 563.791 Q513.068 560.18 510.73 558.073 Q508.392 555.967 504.388 555.967 Q502.513 555.967 500.638 556.384 Q498.786 556.8 496.841 557.68 L496.841 540.319 Z\" fill=\"#000000\" fill-rule=\"evenodd\" fill-opacity=\"1\" /><path clip-path=\"url(#clip470)\" d=\"M 0 0 M451.379 361.697 L459.018 361.697 L459.018 335.331 L450.707 336.998 L450.707 332.738 L458.971 331.072 L463.647 331.072 L463.647 361.697 L471.286 361.697 L471.286 365.632 L451.379 365.632 L451.379 361.697 Z\" fill=\"#000000\" fill-rule=\"evenodd\" fill-opacity=\"1\" /><path clip-path=\"url(#clip470)\" d=\"M 0 0 M480.73 359.752 L485.615 359.752 L485.615 365.632 L480.73 365.632 L480.73 359.752 Z\" fill=\"#000000\" fill-rule=\"evenodd\" fill-opacity=\"1\" /><path clip-path=\"url(#clip470)\" d=\"M 0 0 M505.8 334.151 Q502.189 334.151 500.36 337.715 Q498.554 341.257 498.554 348.387 Q498.554 355.493 500.36 359.058 Q502.189 362.599 505.8 362.599 Q509.434 362.599 511.239 359.058 Q513.068 355.493 513.068 348.387 Q513.068 341.257 511.239 337.715 Q509.434 334.151 505.8 334.151 M505.8 330.447 Q511.61 330.447 514.665 335.053 Q517.744 339.637 517.744 348.387 Q517.744 357.113 514.665 361.72 Q511.61 366.303 505.8 366.303 Q499.99 366.303 496.911 361.72 Q493.855 357.113 493.855 348.387 Q493.855 339.637 496.911 335.053 Q499.99 330.447 505.8 330.447 Z\" fill=\"#000000\" fill-rule=\"evenodd\" fill-opacity=\"1\" /><path clip-path=\"url(#clip470)\" d=\"M 0 0 M452.374 152.45 L460.013 152.45 L460.013 126.084 L451.703 127.751 L451.703 123.491 L459.967 121.825 L464.642 121.825 L464.642 152.45 L472.281 152.45 L472.281 156.385 L452.374 156.385 L452.374 152.45 Z\" fill=\"#000000\" fill-rule=\"evenodd\" fill-opacity=\"1\" /><path clip-path=\"url(#clip470)\" d=\"M 0 0 M481.726 150.505 L486.61 150.505 L486.61 156.385 L481.726 156.385 L481.726 150.505 Z\" fill=\"#000000\" fill-rule=\"evenodd\" fill-opacity=\"1\" /><path clip-path=\"url(#clip470)\" d=\"M 0 0 M496.841 121.825 L515.198 121.825 L515.198 125.76 L501.124 125.76 L501.124 134.232 Q502.142 133.885 503.161 133.723 Q504.179 133.538 505.198 133.538 Q510.985 133.538 514.364 136.709 Q517.744 139.88 517.744 145.297 Q517.744 150.876 514.272 153.977 Q510.8 157.056 504.48 157.056 Q502.304 157.056 500.036 156.686 Q497.79 156.315 495.383 155.575 L495.383 150.876 Q497.466 152.01 499.689 152.565 Q501.911 153.121 504.388 153.121 Q508.392 153.121 510.73 151.014 Q513.068 148.908 513.068 145.297 Q513.068 141.686 510.73 139.579 Q508.392 137.473 504.388 137.473 Q502.513 137.473 500.638 137.889 Q498.786 138.306 496.841 139.186 L496.841 121.825 Z\" fill=\"#000000\" fill-rule=\"evenodd\" fill-opacity=\"1\" /><polyline clip-path=\"url(#clip472)\" style=\"stroke:#009af9; stroke-width:4; stroke-opacity:1; fill:none\" points=\"\n",
       "  1992.95,766.846 1992.95,764.841 1992.94,762.836 1992.92,760.83 1992.9,758.825 1992.88,756.82 1992.85,754.815 1992.81,752.81 1992.77,750.805 1992.72,748.801 \n",
       "  1992.67,746.796 1992.61,744.792 1992.55,742.788 1992.48,740.783 1992.4,738.78 1992.32,736.776 1992.23,734.773 1992.14,732.77 1992.04,730.767 1991.94,728.764 \n",
       "  1991.83,726.762 1991.72,724.76 1991.6,722.758 1991.47,720.757 1991.34,718.756 1991.2,716.755 1991.06,714.755 1990.91,712.755 1990.76,710.756 1990.6,708.757 \n",
       "  1990.43,706.759 1990.26,704.761 1990.09,702.763 1989.91,700.766 1989.72,698.77 1989.53,696.774 1989.33,694.778 1989.13,692.783 1988.92,690.789 1988.7,688.795 \n",
       "  1988.48,686.802 1988.26,684.81 1988.02,682.818 1987.79,680.827 1987.55,678.836 1987.3,676.846 1987.04,674.857 1986.78,672.869 1986.52,670.881 1986.25,668.894 \n",
       "  1985.97,666.908 1985.69,664.922 1985.41,662.938 1985.11,660.954 1984.82,658.971 1984.51,656.989 1984.2,655.007 1983.89,653.027 1983.57,651.047 1983.24,649.069 \n",
       "  1982.91,647.091 1982.58,645.114 1982.23,643.138 1981.89,641.163 1981.53,639.189 1981.18,637.216 1980.81,635.245 1980.44,633.274 1980.07,631.304 1979.69,629.335 \n",
       "  1979.3,627.367 1978.91,625.4 1978.51,623.435 1978.11,621.47 1977.7,619.507 1977.29,617.545 1976.87,615.584 1976.45,613.624 1976.02,611.665 1975.58,609.708 \n",
       "  1975.14,607.752 1974.69,605.797 1974.24,603.843 1973.79,601.89 1973.32,599.939 1972.86,597.989 1972.38,596.041 1971.9,594.093 1971.42,592.147 1970.93,590.203 \n",
       "  1970.44,588.26 1969.94,586.318 1969.43,584.377 1968.92,582.438 1968.4,580.501 1967.88,578.565 1967.35,576.63 1966.82,574.697 1966.28,572.765 1965.74,570.835 \n",
       "  1965.19,568.906 1964.63,566.979 1964.08,565.054 1963.51,563.13 1962.94,561.207 1962.36,559.286 1961.78,557.367 1961.2,555.45 1960.6,553.534 1960.01,551.619 \n",
       "  1959.41,549.707 1958.8,547.796 1958.18,545.887 1957.57,543.979 1956.94,542.073 1956.31,540.169 1955.68,538.267 1955.04,536.367 1954.39,534.468 1953.74,532.571 \n",
       "  1953.09,530.676 1952.43,528.783 1951.76,526.891 1951.09,525.002 1950.41,523.114 1949.73,521.228 1949.05,519.344 1948.35,517.462 1947.66,515.582 1946.95,513.704 \n",
       "  1946.24,511.828 1945.53,509.954 1944.81,508.082 1944.09,506.212 1943.36,504.344 1942.63,502.478 1941.89,500.614 1941.14,498.752 1940.39,496.892 1939.64,495.034 \n",
       "  1938.88,493.179 1938.11,491.325 1937.34,489.474 1936.57,487.625 1935.79,485.777 1935,483.933 1934.21,482.09 1933.41,480.249 1932.61,478.411 1931.81,476.575 \n",
       "  1930.99,474.742 1930.18,472.91 1929.36,471.081 1928.53,469.254 1927.7,467.429 1926.86,465.607 1926.02,463.787 1925.17,461.97 1924.32,460.154 1923.46,458.342 \n",
       "  1922.6,456.531 1921.73,454.723 1920.86,452.918 1919.98,451.114 1919.1,449.314 1918.21,447.516 1917.32,445.72 1916.42,443.927 1915.52,442.136 1914.61,440.348 \n",
       "  1913.7,438.562 1912.79,436.779 1911.86,434.998 1910.94,433.22 1910,431.445 1909.07,429.672 1908.12,427.902 1907.18,426.134 1906.23,424.369 1905.27,422.607 \n",
       "  1904.31,420.847 1903.34,419.091 1902.37,417.336 1901.39,415.585 1900.41,413.836 1899.43,412.09 1898.43,410.347 1897.44,408.606 1896.44,406.869 1895.43,405.134 \n",
       "  1894.42,403.402 1893.41,401.672 1892.39,399.946 1891.36,398.222 1890.33,396.502 1889.3,394.784 1888.26,393.069 1887.21,391.357 1886.17,389.648 1885.11,387.941 \n",
       "  1884.05,386.238 1882.99,384.538 1881.92,382.84 1880.85,381.146 1879.77,379.455 1878.69,377.766 1877.61,376.081 1876.51,374.399 1875.42,372.719 1874.32,371.043 \n",
       "  1873.21,369.37 1872.1,367.7 1870.99,366.033 1869.87,364.369 1868.74,362.708 1867.62,361.051 1866.48,359.396 1865.35,357.745 1864.2,356.097 1863.06,354.452 \n",
       "  1861.9,352.811 1860.75,351.172 1859.59,349.537 1858.42,347.905 1857.25,346.276 1856.08,344.651 1854.9,343.028 1853.72,341.409 1852.53,339.794 1851.34,338.182 \n",
       "  1850.14,336.573 1848.94,334.967 1847.73,333.365 1846.52,331.766 1845.31,330.17 1844.09,328.578 1842.87,326.989 1841.64,325.404 1840.41,323.822 1839.17,322.244 \n",
       "  1837.93,320.669 1836.68,319.097 1835.43,317.529 1834.18,315.965 1832.92,314.403 1831.66,312.846 1830.39,311.292 1829.12,309.741 1827.84,308.194 1826.56,306.651 \n",
       "  1825.28,305.111 1823.99,303.575 1822.7,302.042 1821.4,300.513 1820.1,298.988 1818.79,297.466 1817.48,295.948 1816.17,294.434 1814.85,292.923 1813.52,291.416 \n",
       "  1812.2,289.912 1810.87,288.413 1809.53,286.917 1808.19,285.424 1806.85,283.936 1805.5,282.451 1804.15,280.97 1802.79,279.493 1801.43,278.019 1800.07,276.55 \n",
       "  1798.7,275.084 1797.33,273.622 1795.95,272.164 1794.57,270.709 1793.19,269.259 1791.8,267.812 1790.4,266.369 1789.01,264.93 1787.61,263.495 1786.2,262.064 \n",
       "  1784.79,260.637 1783.38,259.214 1781.97,257.795 1780.54,256.379 1779.12,254.968 1777.69,253.56 1776.26,252.157 1774.82,250.758 1773.38,249.362 1771.94,247.971 \n",
       "  1770.49,246.583 1769.04,245.2 1767.58,243.821 1766.12,242.446 1764.66,241.074 1763.19,239.707 1761.72,238.344 1760.25,236.986 1758.77,235.631 1757.29,234.28 \n",
       "  1755.8,232.934 1754.31,231.591 1752.82,230.253 1751.32,228.919 1749.82,227.589 1748.32,226.264 1746.81,224.942 1745.3,223.625 1743.78,222.312 1742.26,221.003 \n",
       "  1740.74,219.699 1739.21,218.398 1737.68,217.102 1736.15,215.81 1734.61,214.523 1733.07,213.24 1731.53,211.961 1729.98,210.686 1728.43,209.416 1726.87,208.15 \n",
       "  1725.31,206.888 1723.75,205.631 1722.19,204.378 1720.62,203.13 1719.04,201.885 1717.47,200.646 1715.89,199.41 1714.31,198.179 1712.72,196.953 1711.13,195.73 \n",
       "  1709.54,194.513 1707.94,193.299 1706.34,192.091 1704.74,190.886 1703.13,189.686 1701.52,188.491 1699.91,187.3 1698.29,186.114 1696.67,184.932 1695.05,183.754 \n",
       "  1693.42,182.582 1691.79,181.413 1690.16,180.25 1688.52,179.09 1686.88,177.936 1685.24,176.786 1683.59,175.64 1681.94,174.499 1680.29,173.363 1678.64,172.231 \n",
       "  1676.98,171.104 1675.32,169.982 1673.65,168.864 1671.98,167.751 1670.31,166.642 1668.64,165.538 1666.96,164.439 1665.28,163.345 1663.6,162.255 1661.91,161.17 \n",
       "  1660.22,160.089 1658.53,159.014 1656.83,157.943 1655.14,156.876 1653.44,155.815 1651.73,154.758 1650.02,153.706 1648.31,152.659 1646.6,151.616 1644.88,150.578 \n",
       "  1643.17,149.546 1641.44,148.517 1639.72,147.494 1637.99,146.476 1636.26,145.462 1634.53,144.453 1632.79,143.449 1631.06,142.45 1629.31,141.455 1627.57,140.466 \n",
       "  1625.82,139.481 1624.07,138.501 1622.32,137.526 1620.57,136.556 1618.81,135.591 1617.05,134.631 1615.29,133.676 1613.52,132.725 1611.75,131.78 1609.98,130.839 \n",
       "  1608.21,129.904 1606.43,128.973 1604.65,128.047 1602.87,127.127 1601.09,126.211 1599.3,125.3 1597.51,124.394 1595.72,123.493 1593.93,122.598 1592.13,121.707 \n",
       "  1590.33,120.821 1588.53,119.94 1586.72,119.064 1584.92,118.194 1583.11,117.328 1581.3,116.467 1579.48,115.612 1577.67,114.761 1575.85,113.916 1574.03,113.075 \n",
       "  1572.21,112.24 1570.38,111.41 1568.55,110.584 1566.72,109.764 1564.89,108.949 1563.06,108.14 1561.22,107.335 1559.38,106.535 1557.54,105.741 1555.7,104.951 \n",
       "  1553.85,104.167 1552,103.388 1550.15,102.614 1548.3,101.845 1546.45,101.082 1544.59,100.323 1542.73,99.5699 1540.87,98.8218 1539.01,98.0789 1537.15,97.3412 \n",
       "  1535.28,96.6087 1533.41,95.8814 1531.54,95.1593 1529.67,94.4425 1527.79,93.7308 1525.92,93.0244 1524.04,92.3232 1522.16,91.6272 1520.27,90.9365 1518.39,90.2511 \n",
       "  1516.5,89.5708 1514.61,88.8959 1512.72,88.2262 1510.83,87.5618 1508.94,86.9026 1507.04,86.2488 1505.15,85.6002 1503.25,84.9569 1501.35,84.3189 1499.44,83.6862 \n",
       "  1497.54,83.0588 1495.63,82.4368 1493.72,81.82 1491.81,81.2085 1489.9,80.6024 1487.99,80.0016 1486.07,79.4062 1484.16,78.8161 1482.24,78.2313 1480.32,77.6518 \n",
       "  1478.4,77.0778 1476.48,76.509 1474.55,75.9457 1472.63,75.3877 1470.7,74.8351 1468.77,74.2878 1466.84,73.7459 1464.91,73.2094 1462.97,72.6783 1461.04,72.1526 \n",
       "  1459.1,71.6323 1457.16,71.1174 1455.22,70.6078 1453.28,70.1037 1451.34,69.605 1449.4,69.1117 1447.45,68.6238 1445.51,68.1414 1443.56,67.6644 1441.61,67.1928 \n",
       "  1439.66,66.7266 1437.71,66.2659 1435.75,65.8106 1433.8,65.3608 1431.84,64.9164 1429.89,64.4774 1427.93,64.0439 1425.97,63.6159 1424.01,63.1933 1422.05,62.7762 \n",
       "  1420.09,62.3646 1418.12,61.9584 1416.16,61.5577 1414.19,61.1625 1412.23,60.7727 1410.26,60.3885 1408.29,60.0097 1406.32,59.6364 1404.35,59.2686 1402.37,58.9063 \n",
       "  1400.4,58.5495 1398.43,58.1982 1396.45,57.8524 1394.48,57.5121 1392.5,57.1773 1390.52,56.8481 1388.54,56.5243 1386.56,56.206 1384.58,55.8933 1382.6,55.5861 \n",
       "  1380.62,55.2844 1378.63,54.9883 1376.65,54.6976 1374.66,54.4125 1372.68,54.133 1370.69,53.8589 1368.71,53.5904 1366.72,53.3275 1364.73,53.0701 1362.74,52.8182 \n",
       "  1360.75,52.5718 1358.76,52.3311 1356.77,52.0958 1354.78,51.8661 1352.78,51.642 1350.79,51.4234 1348.8,51.2104 1346.8,51.0029 1344.81,50.801 1342.81,50.6047 \n",
       "  1340.81,50.4139 1338.82,50.2287 1336.82,50.049 1334.82,49.8749 1332.82,49.7064 1330.83,49.5434 1328.83,49.386 1326.83,49.2342 1324.83,49.088 1322.83,48.9473 \n",
       "  1320.83,48.8122 1318.83,48.6827 1316.82,48.5587 1314.82,48.4404 1312.82,48.3276 1310.82,48.2204 1308.81,48.1187 1306.81,48.0227 1304.81,47.9322 1302.81,47.8474 \n",
       "  1300.8,47.7681 1298.8,47.6943 1296.79,47.6262 1294.79,47.5637 1292.78,47.5067 1290.78,47.4553 1288.78,47.4095 1286.77,47.3693 1284.77,47.3347 1282.76,47.3057 \n",
       "  1280.76,47.2822 1278.75,47.2644 1276.75,47.2521 1274.74,47.2454 1272.73,47.2444 1270.73,47.2489 1268.72,47.2589 1266.72,47.2746 1264.71,47.2959 1262.71,47.3227 \n",
       "  1260.7,47.3552 1258.7,47.3932 1256.69,47.4368 1254.69,47.486 1252.69,47.5408 1250.68,47.6011 1248.68,47.6671 1246.67,47.7386 1244.67,47.8157 1242.67,47.8984 \n",
       "  1240.66,47.9867 1238.66,48.0806 1236.66,48.18 1234.65,48.2851 1232.65,48.3957 1230.65,48.5119 1228.65,48.6336 1226.65,48.761 1224.65,48.8939 1222.65,49.0324 \n",
       "  1220.65,49.1765 1218.65,49.3261 1216.65,49.4813 1214.65,49.6421 1212.65,49.8084 1210.65,49.9804 1208.65,50.1579 1206.66,50.3409 1204.66,50.5295 1202.67,50.7237 \n",
       "  1200.67,50.9234 1198.68,51.1287 1196.68,51.3396 1194.69,51.556 1192.69,51.778 1190.7,52.0055 1188.71,52.2386 1186.72,52.4772 1184.73,52.7214 1182.74,52.9711 \n",
       "  1180.75,53.2263 1178.76,53.4871 1176.78,53.7535 1174.79,54.0253 1172.8,54.3027 1170.82,54.5857 1168.83,54.8741 1166.85,55.1681 1164.87,55.4677 1162.88,55.7727 \n",
       "  1160.9,56.0833 1158.92,56.3994 1156.94,56.721 1154.97,57.0481 1152.99,57.3808 1151.01,57.7189 1149.04,58.0625 1147.06,58.4117 1145.09,58.7664 1143.12,59.1265 \n",
       "  1141.14,59.4922 1139.17,59.8633 1137.2,60.2399 1135.24,60.622 1133.27,61.0097 1131.3,61.4027 1129.34,61.8013 1127.37,62.2053 1125.41,62.6148 1123.45,63.0298 \n",
       "  1121.49,63.4503 1119.53,63.8762 1117.57,64.3075 1115.61,64.7443 1113.66,65.1866 1111.7,65.6343 1109.75,66.0875 1107.8,66.5461 1105.84,67.0101 1103.9,67.4796 \n",
       "  1101.95,67.9545 1100,68.4349 1098.05,68.9206 1096.11,69.4118 1094.17,69.9084 1092.23,70.4104 1090.29,70.9178 1088.35,71.4306 1086.41,71.9488 1084.47,72.4724 \n",
       "  1082.54,73.0014 1080.61,73.5358 1078.68,74.0756 1076.75,74.6208 1074.82,75.1713 1072.89,75.7272 1070.97,76.2885 1069.04,76.8551 1067.12,77.4271 1065.2,78.0044 \n",
       "  1063.28,78.5871 1061.37,79.1752 1059.45,79.7685 1057.54,80.3672 1055.62,80.9713 1053.71,81.5807 1051.81,82.1953 1049.9,82.8153 1047.99,83.4407 1046.09,84.0713 \n",
       "  1044.19,84.7072 1042.29,85.3484 1040.39,85.9949 1038.49,86.6467 1036.6,87.3038 1034.71,87.9662 1032.82,88.6338 1030.93,89.3067 1029.04,89.9849 1027.15,90.6683 \n",
       "  1025.27,91.357 1023.39,92.0509 1021.51,92.75 1019.63,93.4544 1017.76,94.164 1015.88,94.8788 1014.01,95.5989 1012.14,96.3242 1010.27,97.0546 1008.41,97.7903 \n",
       "  1006.55,98.5312 1004.68,99.2772 1002.83,100.028 1000.97,100.785 999.113,101.547 997.261,102.313 995.41,103.085 993.561,103.862 991.715,104.644 989.871,105.432 \n",
       "  988.029,106.224 986.189,107.022 984.351,107.825 982.516,108.633 980.683,109.446 978.852,110.264 977.024,111.087 975.198,111.915 973.374,112.749 971.552,113.587 \n",
       "  969.733,114.43 967.916,115.279 966.102,116.133 964.29,116.991 962.48,117.855 960.673,118.724 958.868,119.598 957.065,120.477 955.265,121.36 953.468,122.249 \n",
       "  951.673,123.143 949.88,124.042 948.09,124.946 946.303,125.855 944.518,126.769 942.736,127.687 940.956,128.611 939.179,129.54 937.404,130.474 935.632,131.412 \n",
       "  933.863,132.356 932.096,133.304 930.332,134.258 928.57,135.216 926.812,136.179 925.056,137.147 923.302,138.12 921.551,139.098 919.804,140.081 918.058,141.068 \n",
       "  916.316,142.061 914.576,143.058 912.839,144.06 911.105,145.067 909.374,146.079 907.646,147.096 905.92,148.117 904.197,149.144 902.478,150.175 900.761,151.21 \n",
       "  899.047,152.251 897.335,153.297 895.627,154.347 893.922,155.402 892.219,156.461 890.52,157.526 888.824,158.595 887.13,159.669 885.44,160.747 883.752,161.831 \n",
       "  882.068,162.919 880.386,164.011 878.708,165.109 877.033,166.211 875.361,167.317 873.691,168.429 872.025,169.545 870.363,170.665 868.703,171.791 867.046,172.921 \n",
       "  865.393,174.055 863.742,175.194 862.095,176.338 860.451,177.486 858.811,178.639 857.173,179.796 855.539,180.958 853.908,182.125 852.28,183.296 850.656,184.472 \n",
       "  849.035,185.652 847.417,186.836 845.802,188.026 844.191,189.219 842.583,190.417 840.978,191.62 839.377,192.827 837.779,194.039 836.185,195.255 834.593,196.475 \n",
       "  833.006,197.7 831.421,198.929 829.841,200.163 828.263,201.401 826.689,202.643 825.119,203.89 823.552,205.141 821.988,206.397 820.428,207.657 818.872,208.921 \n",
       "  817.319,210.19 815.77,211.463 814.224,212.74 812.681,214.021 811.143,215.307 809.608,216.597 808.076,217.892 806.548,219.19 805.024,220.493 803.503,221.8 \n",
       "  801.986,223.112 800.473,224.427 798.963,225.747 797.457,227.071 795.955,228.399 794.456,229.732 792.961,231.068 791.47,232.409 789.983,233.754 788.499,235.103 \n",
       "  787.019,236.456 785.543,237.813 784.071,239.175 782.602,240.54 781.138,241.91 779.677,243.283 778.22,244.661 776.767,246.043 775.317,247.429 773.872,248.818 \n",
       "  772.43,250.212 770.993,251.61 769.559,253.012 768.129,254.418 766.703,255.828 765.281,257.242 763.863,258.659 762.449,260.081 761.038,261.507 759.632,262.936 \n",
       "  758.23,264.37 756.832,265.807 755.438,267.248 754.047,268.693 752.661,270.142 751.279,271.595 749.901,273.052 748.527,274.513 747.157,275.977 745.792,277.445 \n",
       "  744.43,278.917 743.072,280.393 741.719,281.872 740.369,283.356 739.024,284.843 737.683,286.334 736.346,287.828 735.013,289.326 733.685,290.828 732.36,292.334 \n",
       "  731.04,293.843 729.724,295.356 728.413,296.873 727.105,298.394 725.802,299.917 724.503,301.445 723.208,302.976 721.917,304.511 720.631,306.05 719.349,307.592 \n",
       "  718.072,309.137 716.798,310.686 715.529,312.239 714.265,313.795 713.005,315.355 711.749,316.918 710.497,318.485 709.25,320.055 708.007,321.628 706.768,323.206 \n",
       "  705.534,324.786 704.305,326.37 703.08,327.957 701.859,329.548 700.642,331.142 699.431,332.74 698.223,334.341 697.02,335.945 695.822,337.553 694.628,339.164 \n",
       "  693.438,340.778 692.253,342.396 691.072,344.017 689.896,345.641 688.725,347.269 687.558,348.899 686.396,350.533 685.238,352.17 684.085,353.811 682.936,355.455 \n",
       "  681.792,357.101 680.652,358.751 679.517,360.405 678.387,362.061 677.262,363.72 676.14,365.383 675.024,367.049 673.912,368.718 672.805,370.39 671.703,372.065 \n",
       "  670.605,373.743 669.512,375.424 668.424,377.108 667.34,378.795 666.261,380.485 665.187,382.178 664.117,383.875 663.052,385.574 661.992,387.276 660.937,388.981 \n",
       "  659.886,390.689 658.84,392.4 657.799,394.114 656.763,395.831 655.732,397.55 654.705,399.273 653.683,400.998 652.666,402.726 651.654,404.457 650.646,406.191 \n",
       "  649.644,407.928 648.646,409.667 647.653,411.409 646.665,413.154 645.682,414.902 644.704,416.652 643.73,418.405 642.762,420.161 641.798,421.92 640.839,423.681 \n",
       "  639.886,425.445 638.937,427.211 637.993,428.98 637.054,430.752 636.12,432.527 635.19,434.304 634.266,436.083 633.347,437.865 632.433,439.65 631.523,441.437 \n",
       "  630.619,443.227 629.72,445.019 628.826,446.814 627.936,448.611 627.052,450.411 626.173,452.213 625.298,454.018 624.429,455.825 623.565,457.635 622.706,459.446 \n",
       "  621.852,461.261 621.003,463.077 620.159,464.896 619.32,466.718 618.486,468.541 617.658,470.367 616.834,472.196 616.015,474.026 615.202,475.859 614.394,477.694 \n",
       "  613.59,479.532 612.792,481.371 611.999,483.213 611.212,485.057 610.429,486.903 609.651,488.752 608.879,490.602 608.112,492.455 607.35,494.31 606.593,496.166 \n",
       "  605.841,498.026 605.095,499.887 604.354,501.75 603.617,503.615 602.886,505.482 602.161,507.352 601.44,509.223 600.725,511.096 600.015,512.972 599.31,514.849 \n",
       "  598.61,516.728 597.916,518.609 597.227,520.492 596.543,522.378 595.865,524.264 595.191,526.153 594.523,528.044 593.86,529.936 593.203,531.831 592.551,533.727 \n",
       "  591.904,535.625 591.262,537.525 590.625,539.426 589.994,541.33 589.369,543.235 588.748,545.142 588.133,547.05 587.523,548.961 586.919,550.873 586.32,552.786 \n",
       "  585.726,554.701 585.137,556.618 584.554,558.537 583.976,560.457 583.404,562.379 582.837,564.302 582.275,566.227 581.719,568.154 581.168,570.082 580.622,572.012 \n",
       "  580.082,573.943 579.547,575.875 579.017,577.809 578.493,579.745 577.975,581.682 577.461,583.62 576.954,585.56 576.451,587.501 575.954,589.444 575.462,591.388 \n",
       "  574.976,593.334 574.495,595.28 574.02,597.228 573.55,599.178 573.086,601.129 572.627,603.081 572.173,605.034 571.725,606.988 571.282,608.944 570.845,610.901 \n",
       "  570.413,612.859 569.986,614.819 569.566,616.779 569.15,618.741 568.74,620.704 568.336,622.668 567.937,624.633 567.543,626.599 567.155,628.567 566.772,630.535 \n",
       "  566.395,632.504 566.024,634.475 565.658,636.447 565.297,638.419 564.942,640.393 564.592,642.367 564.248,644.343 563.909,646.319 563.576,648.296 563.249,650.275 \n",
       "  562.927,652.254 562.61,654.234 562.299,656.215 561.994,658.197 561.694,660.18 561.399,662.163 561.11,664.147 560.827,666.133 560.549,668.118 560.276,670.105 \n",
       "  560.01,672.092 559.748,674.081 559.493,676.07 559.242,678.059 558.998,680.049 558.759,682.04 558.525,684.032 558.297,686.024 558.075,688.017 557.858,690.011 \n",
       "  557.647,692.005 557.441,693.999 557.241,695.994 557.046,697.99 556.857,699.987 556.673,701.983 556.495,703.981 556.323,705.979 556.156,707.977 555.995,709.976 \n",
       "  555.839,711.975 555.689,713.974 555.544,715.974 555.405,717.975 555.272,719.976 555.144,721.977 555.022,723.978 554.905,725.98 554.794,727.982 554.689,729.985 \n",
       "  554.589,731.988 554.495,733.991 554.406,735.994 554.323,737.997 554.245,740.001 554.173,742.005 554.107,744.009 554.046,746.014 553.99,748.018 553.941,750.023 \n",
       "  553.897,752.027 553.858,754.032 553.825,756.037 553.798,758.042 553.776,760.047 553.76,762.053 553.749,764.058 553.744,766.063 553.745,768.068 553.751,770.074 \n",
       "  553.763,772.079 553.78,774.084 553.803,776.089 553.832,778.094 553.866,780.099 553.906,782.104 553.951,784.109 554.002,786.113 554.059,788.118 554.121,790.122 \n",
       "  554.188,792.126 554.261,794.13 554.34,796.134 554.425,798.137 554.515,800.14 554.61,802.143 554.711,804.146 554.818,806.148 554.93,808.151 555.048,810.152 \n",
       "  555.172,812.154 555.301,814.155 555.435,816.156 555.576,818.156 555.721,820.156 555.873,822.155 556.03,824.155 556.192,826.153 556.36,828.151 556.534,830.149 \n",
       "  556.713,832.146 556.898,834.143 557.088,836.139 557.284,838.135 557.485,840.13 557.692,842.125 557.905,844.118 558.123,846.112 558.347,848.105 558.576,850.097 \n",
       "  558.811,852.088 559.051,854.079 559.297,856.069 559.548,858.058 559.805,860.047 560.068,862.035 560.336,864.022 560.609,866.009 560.888,867.995 561.173,869.98 \n",
       "  561.463,871.964 561.759,873.947 562.06,875.93 562.367,877.911 562.679,879.892 562.997,881.872 563.32,883.851 563.649,885.829 563.983,887.806 564.323,889.782 \n",
       "  564.668,891.758 565.019,893.732 565.376,895.705 565.737,897.678 566.105,899.649 566.477,901.619 566.856,903.589 567.24,905.557 567.629,907.524 568.024,909.49 \n",
       "  568.424,911.455 568.83,913.418 569.241,915.381 569.657,917.343 570.079,919.303 570.507,921.262 570.94,923.22 571.379,925.177 571.822,927.132 572.272,929.086 \n",
       "  572.727,931.039 573.187,932.991 573.653,934.942 574.124,936.891 574.6,938.838 575.082,940.785 575.57,942.73 576.063,944.674 576.561,946.616 577.064,948.557 \n",
       "  577.573,950.497 578.088,952.435 578.608,954.371 579.133,956.307 579.664,958.24 580.2,960.173 580.741,962.104 581.288,964.033 581.84,965.96 582.398,967.887 \n",
       "  582.961,969.811 583.529,971.734 584.102,973.656 584.681,975.576 585.266,977.494 585.855,979.41 586.45,981.325 587.051,983.239 587.656,985.15 588.267,987.06 \n",
       "  588.884,988.968 589.505,990.875 590.132,992.78 590.765,994.682 591.402,996.584 592.045,998.483 592.693,1000.38 593.346,1002.28 594.005,1004.17 594.669,1006.06 \n",
       "  595.338,1007.95 596.013,1009.84 596.693,1011.73 597.378,1013.61 598.068,1015.5 598.763,1017.38 599.464,1019.25 600.17,1021.13 600.881,1023.01 601.598,1024.88 \n",
       "  602.319,1026.75 603.046,1028.62 603.778,1030.49 604.516,1032.35 605.258,1034.21 606.006,1036.07 606.758,1037.93 607.516,1039.79 608.28,1041.64 609.048,1043.5 \n",
       "  609.821,1045.35 610.6,1047.19 611.384,1049.04 612.173,1050.88 612.967,1052.72 613.766,1054.56 614.57,1056.4 615.38,1058.23 616.194,1060.07 617.014,1061.9 \n",
       "  617.839,1063.73 618.669,1065.55 619.503,1067.37 620.343,1069.19 621.189,1071.01 622.039,1072.83 622.894,1074.64 623.754,1076.45 624.619,1078.26 625.49,1080.07 \n",
       "  626.365,1081.87 627.245,1083.68 628.131,1085.47 629.021,1087.27 629.917,1089.07 630.817,1090.86 631.722,1092.65 632.633,1094.43 633.548,1096.22 634.468,1098 \n",
       "  635.394,1099.78 636.324,1101.55 637.259,1103.33 638.199,1105.1 639.144,1106.87 640.094,1108.63 641.049,1110.4 642.009,1112.16 642.974,1113.92 643.943,1115.67 \n",
       "  644.918,1117.42 645.897,1119.17 646.881,1120.92 647.87,1122.66 648.864,1124.41 649.863,1126.15 650.867,1127.88 651.875,1129.61 652.889,1131.34 653.907,1133.07 \n",
       "  654.93,1134.8 655.957,1136.52 656.99,1138.24 658.027,1139.95 659.069,1141.67 660.116,1143.38 661.168,1145.08 662.224,1146.79 663.285,1148.49 664.351,1150.19 \n",
       "  665.422,1151.88 666.497,1153.58 667.577,1155.27 668.662,1156.95 669.751,1158.64 670.845,1160.32 671.944,1161.99 673.048,1163.67 674.156,1165.34 675.268,1167.01 \n",
       "  676.386,1168.67 677.508,1170.34 678.635,1171.99 679.766,1173.65 680.902,1175.3 682.042,1176.95 683.187,1178.6 684.337,1180.24 685.491,1181.88 686.65,1183.52 \n",
       "  687.813,1185.15 688.981,1186.78 690.154,1188.41 691.331,1190.03 692.512,1191.65 693.698,1193.27 694.889,1194.88 696.084,1196.49 697.283,1198.1 698.487,1199.7 \n",
       "  699.696,1201.3 700.909,1202.9 702.126,1204.49 703.348,1206.08 704.574,1207.67 705.805,1209.25 707.04,1210.83 708.279,1212.41 709.523,1213.98 710.771,1215.55 \n",
       "  712.024,1217.12 713.28,1218.68 714.542,1220.24 715.807,1221.79 717.077,1223.35 718.351,1224.89 719.63,1226.44 720.913,1227.98 722.2,1229.52 723.491,1231.05 \n",
       "  724.787,1232.58 726.087,1234.11 727.391,1235.63 728.7,1237.15 730.012,1238.67 731.329,1240.18 732.65,1241.69 733.976,1243.19 735.305,1244.69 736.639,1246.19 \n",
       "  737.977,1247.69 739.319,1249.18 740.665,1250.66 742.015,1252.14 743.369,1253.62 744.728,1255.1 746.091,1256.57 747.457,1258.04 748.828,1259.5 750.203,1260.96 \n",
       "  751.582,1262.42 752.965,1263.87 754.352,1265.32 755.743,1266.76 757.138,1268.2 758.537,1269.64 759.94,1271.07 761.347,1272.5 762.758,1273.92 764.173,1275.34 \n",
       "  765.592,1276.76 767.015,1278.17 768.442,1279.58 769.873,1280.99 771.307,1282.39 772.746,1283.79 774.188,1285.18 775.635,1286.57 777.085,1287.95 778.539,1289.33 \n",
       "  779.997,1290.71 781.458,1292.08 782.924,1293.45 784.393,1294.82 785.867,1296.18 787.343,1297.53 788.824,1298.88 790.309,1300.23 791.797,1301.58 793.289,1302.92 \n",
       "  794.784,1304.25 796.284,1305.58 797.787,1306.91 799.294,1308.23 800.804,1309.55 802.318,1310.87 803.836,1312.18 805.358,1313.48 806.883,1314.79 808.411,1316.08 \n",
       "  809.944,1317.38 811.48,1318.67 813.019,1319.95 814.562,1321.23 816.109,1322.51 817.659,1323.78 819.213,1325.05 820.77,1326.31 822.331,1327.57 823.895,1328.83 \n",
       "  825.463,1330.08 827.034,1331.32 828.609,1332.56 830.187,1333.8 831.768,1335.03 833.353,1336.26 834.942,1337.48 836.534,1338.7 838.129,1339.92 839.728,1341.13 \n",
       "  841.33,1342.34 842.935,1343.54 844.544,1344.73 846.156,1345.93 847.771,1347.12 849.39,1348.3 851.012,1349.48 852.637,1350.65 854.265,1351.82 855.897,1352.99 \n",
       "  857.532,1354.15 859.17,1355.31 860.812,1356.46 862.456,1357.61 864.104,1358.75 865.755,1359.89 867.409,1361.02 869.066,1362.15 870.727,1363.27 872.39,1364.39 \n",
       "  874.057,1365.51 875.727,1366.62 877.4,1367.72 879.076,1368.82 880.755,1369.92 882.437,1371.01 884.122,1372.1 885.81,1373.18 887.501,1374.26 889.195,1375.33 \n",
       "  890.892,1376.4 892.592,1377.46 894.295,1378.52 896.001,1379.58 897.71,1380.62 899.422,1381.67 901.137,1382.71 902.854,1383.74 904.575,1384.77 906.298,1385.8 \n",
       "  908.024,1386.82 909.753,1387.83 911.485,1388.85 913.22,1389.85 914.957,1390.85 916.698,1391.85 918.441,1392.84 920.186,1393.83 921.935,1394.81 923.686,1395.79 \n",
       "  925.44,1396.76 927.197,1397.72 928.956,1398.69 930.718,1399.64 932.483,1400.6 934.25,1401.54 936.02,1402.49 937.793,1403.42 939.568,1404.36 941.346,1405.28 \n",
       "  943.126,1406.21 944.909,1407.12 946.695,1408.04 948.483,1408.94 950.273,1409.85 952.066,1410.75 953.862,1411.64 955.66,1412.53 957.46,1413.41 959.263,1414.29 \n",
       "  961.068,1415.16 962.876,1416.03 964.687,1416.89 966.499,1417.75 968.314,1418.6 970.131,1419.45 971.951,1420.29 973.773,1421.13 975.598,1421.96 977.424,1422.79 \n",
       "  979.253,1423.61 981.085,1424.43 982.918,1425.24 984.754,1426.04 986.592,1426.85 988.432,1427.64 990.275,1428.43 992.119,1429.22 993.966,1430 995.815,1430.78 \n",
       "  997.666,1431.55 999.52,1432.31 1001.38,1433.07 1003.23,1433.83 1005.09,1434.58 1006.95,1435.32 1008.82,1436.06 1010.68,1436.8 1012.55,1437.53 1014.42,1438.25 \n",
       "  1016.29,1438.97 1018.17,1439.68 1020.04,1440.39 1021.92,1441.1 1023.8,1441.79 1025.68,1442.49 1027.57,1443.17 1029.45,1443.86 1031.34,1444.53 1033.23,1445.2 \n",
       "  1035.12,1445.87 1037.01,1446.53 1038.91,1447.19 1040.81,1447.84 1042.7,1448.48 1044.6,1449.12 1046.51,1449.76 1048.41,1450.39 1050.32,1451.01 1052.22,1451.63 \n",
       "  1054.13,1452.25 1056.04,1452.85 1057.96,1453.46 1059.87,1454.05 1061.79,1454.65 1063.7,1455.23 1065.62,1455.81 1067.54,1456.39 1069.47,1456.96 1071.39,1457.53 \n",
       "  1073.31,1458.09 1075.24,1458.64 1077.17,1459.19 1079.1,1459.74 1081.03,1460.27 1082.96,1460.81 1084.9,1461.33 1086.84,1461.86 1088.77,1462.37 1090.71,1462.89 \n",
       "  1092.65,1463.39 1094.59,1463.89 1096.54,1464.39 1098.48,1464.88 1100.43,1465.36 1102.37,1465.84 1104.32,1466.32 1106.27,1466.78 1108.22,1467.25 1110.18,1467.7 \n",
       "  1112.13,1468.16 1114.08,1468.6 1116.04,1469.04 1118,1469.48 1119.96,1469.91 1121.92,1470.33 1123.88,1470.75 1125.84,1471.17 1127.8,1471.58 1129.77,1471.98 \n",
       "  1131.73,1472.38 1133.7,1472.77 1135.67,1473.15 1137.64,1473.54 1139.6,1473.91 1141.58,1474.28 1143.55,1474.64 1145.52,1475 1147.49,1475.36 1149.47,1475.71 \n",
       "  1151.44,1476.05 1153.42,1476.38 1155.4,1476.72 1157.38,1477.04 1159.36,1477.36 1161.34,1477.68 1163.32,1477.99 1165.3,1478.29 1167.28,1478.59 1169.27,1478.88 \n",
       "  1171.25,1479.17 1173.24,1479.45 1175.22,1479.73 1177.21,1480 1179.2,1480.26 1181.19,1480.52 1183.18,1480.78 1185.17,1481.02 1187.16,1481.27 1189.15,1481.5 \n",
       "  1191.14,1481.74 1193.13,1481.96 1195.12,1482.18 1197.12,1482.4 1199.11,1482.61 1201.11,1482.81 1203.1,1483.01 1205.1,1483.2 1207.1,1483.39 1209.09,1483.57 \n",
       "  1211.09,1483.75 1213.09,1483.92 1215.09,1484.09 1217.08,1484.25 1219.08,1484.4 1221.08,1484.55 1223.08,1484.69 1225.08,1484.83 1227.09,1484.96 1229.09,1485.09 \n",
       "  1231.09,1485.21 1233.09,1485.32 1235.09,1485.43 1237.1,1485.53 1239.1,1485.63 1241.1,1485.73 1243.1,1485.81 1245.11,1485.89 1247.11,1485.97 1249.12,1486.04 \n",
       "  1251.12,1486.1 1253.12,1486.16 1255.13,1486.22 1257.13,1486.27 1259.14,1486.31 1261.14,1486.34 1263.15,1486.38 1265.15,1486.4 1267.16,1486.42 1269.16,1486.44 \n",
       "  1271.17,1486.44 1273.17,1486.45 1275.18,1486.45 1277.18,1486.44 1279.19,1486.42 1281.2,1486.41 1283.2,1486.38 1285.21,1486.35 1287.21,1486.31 1289.21,1486.27 \n",
       "  1291.22,1486.23 1293.22,1486.17 1295.23,1486.12 1297.23,1486.05 1299.24,1485.98 1301.24,1485.91 1303.24,1485.83 1305.25,1485.74 1307.25,1485.65 1309.25,1485.55 \n",
       "  1311.26,1485.45 1313.26,1485.34 1315.26,1485.23 1317.26,1485.11 1319.26,1484.98 1321.26,1484.85 1323.27,1484.71 1325.27,1484.57 1327.27,1484.42 1329.26,1484.27 \n",
       "  1331.26,1484.11 1333.26,1483.95 1335.26,1483.78 1337.26,1483.6 1339.25,1483.42 1341.25,1483.24 1343.25,1483.04 1345.24,1482.85 1347.24,1482.64 1349.23,1482.44 \n",
       "  1351.23,1482.22 1353.22,1482 1355.21,1481.78 1357.2,1481.55 1359.19,1481.31 1361.19,1481.07 1363.18,1480.82 1365.16,1480.57 1367.15,1480.31 1369.14,1480.04 \n",
       "  1371.13,1479.77 1373.11,1479.5 1375.1,1479.22 1377.08,1478.93 1379.07,1478.64 1381.05,1478.34 1383.03,1478.04 1385.01,1477.73 1387,1477.42 1388.98,1477.1 \n",
       "  1390.95,1476.77 1392.93,1476.44 1394.91,1476.11 1396.88,1475.76 1398.86,1475.42 1400.83,1475.06 1402.81,1474.71 1404.78,1474.34 1406.75,1473.97 1408.72,1473.6 \n",
       "  1410.69,1473.22 1412.66,1472.83 1414.62,1472.44 1416.59,1472.05 1418.55,1471.65 1420.52,1471.24 1422.48,1470.82 1424.44,1470.41 1426.4,1469.98 1428.36,1469.55 \n",
       "  1430.32,1469.12 1432.27,1468.68 1434.23,1468.23 1436.18,1467.78 1438.13,1467.33 1440.09,1466.86 1442.04,1466.4 1443.98,1465.92 1445.93,1465.45 1447.88,1464.96 \n",
       "  1449.82,1464.47 1451.77,1463.98 1453.71,1463.48 1455.65,1462.97 1457.59,1462.46 1459.53,1461.95 1461.46,1461.42 1463.4,1460.9 1465.33,1460.37 1467.26,1459.83 \n",
       "  1469.19,1459.28 1471.12,1458.74 1473.05,1458.18 1474.97,1457.62 1476.9,1457.06 1478.82,1456.49 1480.74,1455.91 1482.66,1455.33 1484.58,1454.75 1486.49,1454.16 \n",
       "  1488.41,1453.56 1490.32,1452.96 1492.23,1452.35 1494.14,1451.74 1496.05,1451.12 1497.96,1450.5 1499.86,1449.87 1501.76,1449.23 1503.66,1448.59 1505.56,1447.95 \n",
       "  1507.46,1447.3 1509.35,1446.65 1511.25,1445.98 1513.14,1445.32 1515.03,1444.65 1516.92,1443.97 1518.8,1443.29 1520.69,1442.6 1522.57,1441.91 1524.45,1441.22 \n",
       "  1526.33,1440.51 1528.2,1439.81 1530.08,1439.09 1531.95,1438.37 1533.82,1437.65 1535.69,1436.92 1537.55,1436.19 1539.42,1435.45 1541.28,1434.71 1543.14,1433.96 \n",
       "  1545,1433.2 1546.85,1432.44 1548.71,1431.68 1550.56,1430.91 1552.41,1430.13 1554.26,1429.35 1556.1,1428.57 1557.94,1427.78 1559.79,1426.98 1561.62,1426.18 \n",
       "  1563.46,1425.38 1565.29,1424.56 1567.13,1423.75 1568.95,1422.93 1570.78,1422.1 1572.61,1421.27 1574.43,1420.43 1576.25,1419.59 1578.07,1418.74 1579.88,1417.89 \n",
       "  1581.7,1417.04 1583.51,1416.17 1585.31,1415.31 1587.12,1414.44 1588.92,1413.56 1590.72,1412.68 1592.52,1411.79 1594.32,1410.9 1596.11,1410 1597.9,1409.1 \n",
       "  1599.69,1408.19 1601.48,1407.28 1603.26,1406.36 1605.04,1405.44 1606.82,1404.52 1608.6,1403.58 1610.37,1402.65 1612.14,1401.71 1613.91,1400.76 1615.67,1399.81 \n",
       "  1617.43,1398.85 1619.19,1397.89 1620.95,1396.92 1622.71,1395.95 1624.46,1394.98 1626.21,1394 1627.95,1393.01 1629.7,1392.02 1631.44,1391.02 1633.17,1390.02 \n",
       "  1634.91,1389.02 1636.64,1388.01 1638.37,1386.99 1640.1,1385.97 1641.82,1384.95 1643.54,1383.92 1645.26,1382.89 1646.98,1381.85 1648.69,1380.8 1650.4,1379.76 \n",
       "  1652.1,1378.7 1653.81,1377.64 1655.51,1376.58 1657.21,1375.52 1658.9,1374.44 1660.59,1373.37 1662.28,1372.28 1663.97,1371.2 1665.65,1370.11 1667.33,1369.01 \n",
       "  1669.01,1367.91 1670.68,1366.81 1672.35,1365.7 1674.02,1364.58 1675.68,1363.46 1677.34,1362.34 1679,1361.21 1680.65,1360.08 1682.31,1358.94 1683.95,1357.8 \n",
       "  1685.6,1356.65 1687.24,1355.5 1688.88,1354.35 1690.52,1353.19 1692.15,1352.02 1693.78,1350.85 1695.4,1349.68 1697.02,1348.5 1698.64,1347.32 1700.26,1346.13 \n",
       "  1701.87,1344.94 1703.48,1343.74 1705.09,1342.54 1706.69,1341.34 1708.29,1340.13 1709.89,1338.91 1711.48,1337.69 1713.07,1336.47 1714.65,1335.24 1716.23,1334.01 \n",
       "  1717.81,1332.78 1719.39,1331.53 1720.96,1330.29 1722.53,1329.04 1724.09,1327.79 1725.65,1326.53 1727.21,1325.26 1728.77,1324 1730.32,1322.73 1731.87,1321.45 \n",
       "  1733.41,1320.17 1734.95,1318.89 1736.49,1317.6 1738.02,1316.31 1739.55,1315.01 1741.07,1313.71 1742.6,1312.4 1744.11,1311.09 1745.63,1309.78 1747.14,1308.46 \n",
       "  1748.65,1307.14 1750.15,1305.81 1751.65,1304.48 1753.15,1303.15 1754.64,1301.81 1756.13,1300.46 1757.61,1299.12 1759.1,1297.76 1760.57,1296.41 1762.05,1295.05 \n",
       "  1763.52,1293.69 1764.98,1292.32 1766.45,1290.95 1767.9,1289.57 1769.36,1288.19 1770.81,1286.8 1772.26,1285.42 1773.7,1284.02 1775.14,1282.63 1776.57,1281.23 \n",
       "  1778.01,1279.82 1779.43,1278.42 1780.86,1277 1782.28,1275.59 1783.69,1274.17 1785.1,1272.74 1786.51,1271.31 1787.91,1269.88 1789.31,1268.45 1790.71,1267.01 \n",
       "  1792.1,1265.56 1793.49,1264.12 1794.87,1262.66 1796.25,1261.21 1797.63,1259.75 1799,1258.29 1800.37,1256.82 1801.73,1255.35 1803.09,1253.88 1804.45,1252.4 \n",
       "  1805.8,1250.92 1807.14,1249.43 1808.49,1247.94 1809.82,1246.45 1811.16,1244.95 1812.49,1243.45 1813.81,1241.95 1815.14,1240.44 1816.45,1238.93 1817.77,1237.41 \n",
       "  1819.08,1235.89 1820.38,1234.37 1821.68,1232.84 1822.98,1231.31 1824.27,1229.78 1825.56,1228.24 1826.84,1226.7 1828.12,1225.16 1829.4,1223.61 1830.67,1222.06 \n",
       "  1831.93,1220.5 1833.2,1218.95 1834.45,1217.38 1835.71,1215.82 1836.96,1214.25 1838.2,1212.68 1839.44,1211.1 1840.68,1209.52 1841.91,1207.94 1843.13,1206.35 \n",
       "  1844.36,1204.77 1845.58,1203.17 1846.79,1201.58 1848,1199.98 1849.2,1198.37 1850.4,1196.77 1851.6,1195.16 1852.79,1193.54 1853.98,1191.93 1855.16,1190.31 \n",
       "  1856.34,1188.69 1857.51,1187.06 1858.68,1185.43 1859.84,1183.8 1861,1182.16 1862.16,1180.52 1863.31,1178.88 1864.45,1177.23 1865.6,1175.59 1866.73,1173.93 \n",
       "  1867.86,1172.28 1868.99,1170.62 1870.11,1168.96 1871.23,1167.29 1872.35,1165.63 1873.46,1163.96 1874.56,1162.28 1875.66,1160.6 1876.75,1158.92 1877.84,1157.24 \n",
       "  1878.93,1155.56 1880.01,1153.87 1881.09,1152.17 1882.16,1150.48 1883.22,1148.78 1884.29,1147.08 1885.34,1145.38 1886.4,1143.67 1887.44,1141.96 1888.49,1140.25 \n",
       "  1889.52,1138.53 1890.56,1136.81 1891.59,1135.09 1892.61,1133.37 1893.63,1131.64 1894.64,1129.91 1895.65,1128.18 1896.66,1126.44 1897.66,1124.7 1898.65,1122.96 \n",
       "  1899.64,1121.22 1900.63,1119.47 1901.61,1117.72 1902.58,1115.97 1903.55,1114.22 1904.52,1112.46 1905.48,1110.7 1906.43,1108.94 1907.39,1107.17 1908.33,1105.4 \n",
       "  1909.27,1103.63 1910.21,1101.86 1911.14,1100.08 1912.07,1098.3 1912.99,1096.52 1913.9,1094.74 1914.81,1092.95 1915.72,1091.16 1916.62,1089.37 1917.52,1087.58 \n",
       "  1918.41,1085.78 1919.3,1083.98 1920.18,1082.18 1921.05,1080.38 1921.92,1078.57 1922.79,1076.76 1923.65,1074.95 1924.51,1073.14 1925.36,1071.32 1926.2,1069.51 \n",
       "  1927.04,1067.69 1927.88,1065.86 1928.71,1064.04 1929.54,1062.21 1930.36,1060.38 1931.17,1058.55 1931.98,1056.71 1932.79,1054.88 1933.59,1053.04 1934.38,1051.2 \n",
       "  1935.17,1049.36 1935.96,1047.51 1936.74,1045.66 1937.51,1043.81 1938.28,1041.96 1939.05,1040.11 1939.8,1038.25 1940.56,1036.39 1941.31,1034.53 1942.05,1032.67 \n",
       "  1942.79,1030.81 1943.52,1028.94 1944.25,1027.07 1944.97,1025.2 1945.69,1023.33 1946.4,1021.45 1947.11,1019.58 1947.81,1017.7 1948.51,1015.82 1949.2,1013.93 \n",
       "  1949.88,1012.05 1950.56,1010.16 1951.24,1008.28 1951.91,1006.39 1952.57,1004.49 1953.23,1002.6 1953.89,1000.71 1954.54,998.808 1955.18,996.909 1955.82,995.008 \n",
       "  1956.45,993.105 1957.08,991.201 1957.7,989.295 1958.32,987.387 1958.93,985.477 1959.54,983.566 1960.14,981.653 1960.73,979.738 1961.33,977.822 1961.91,975.904 \n",
       "  1962.49,973.985 1963.07,972.063 1963.63,970.141 1964.2,968.216 1964.76,966.29 1965.31,964.363 1965.86,962.434 1966.4,960.503 1966.94,958.571 1967.47,956.638 \n",
       "  1967.99,954.703 1968.52,952.766 1969.03,950.829 1969.54,948.889 1970.05,946.949 1970.54,945.006 1971.04,943.063 1971.53,941.118 1972.01,939.172 1972.49,937.224 \n",
       "  1972.96,935.275 1973.43,933.325 1973.89,931.374 1974.34,929.421 1974.79,927.467 1975.24,925.512 1975.68,923.555 1976.11,921.597 1976.54,919.638 1976.96,917.678 \n",
       "  1977.38,915.717 1977.79,913.755 1978.2,911.791 1978.6,909.826 1979,907.86 1979.39,905.894 1979.77,903.926 1980.15,901.957 1980.52,899.986 1980.89,898.015 \n",
       "  1981.25,896.043 1981.61,894.07 1981.96,892.096 1982.31,890.121 1982.65,888.145 1982.99,886.168 1983.32,884.19 1983.64,882.211 1983.96,880.231 1984.27,878.25 \n",
       "  1984.58,876.269 1984.88,874.287 1985.18,872.303 1985.47,870.319 1985.76,868.335 1986.04,866.349 1986.31,864.363 1986.58,862.375 1986.84,860.388 1987.1,858.399 \n",
       "  1987.35,856.41 1987.6,854.42 1987.84,852.429 1988.08,850.438 1988.31,848.446 1988.53,846.453 1988.75,844.46 1988.96,842.466 1989.17,840.472 1989.37,838.477 \n",
       "  1989.57,836.481 1989.76,834.485 1989.95,832.488 1990.13,830.491 1990.3,828.493 1990.47,826.495 1990.63,824.497 1990.79,822.498 1990.94,820.498 1991.09,818.498 \n",
       "  1991.23,816.498 1991.37,814.497 1991.5,812.496 1991.62,810.495 1991.74,808.493 1991.85,806.491 1991.96,804.489 1992.06,802.486 1992.16,800.483 1992.25,798.48 \n",
       "  1992.34,796.477 1992.42,794.473 1992.49,792.469 1992.56,790.465 1992.62,788.461 1992.68,786.456 1992.73,784.452 1992.78,782.447 1992.82,780.442 1992.85,778.437 \n",
       "  1992.88,776.432 1992.91,774.427 1992.93,772.422 1992.94,770.417 1992.95,768.412 \n",
       "  \"/>\n",
       "<path clip-path=\"url(#clip470)\" d=\"\n",
       "M1628.69 216.178 L1920.99 216.178 L1920.99 95.2176 L1628.69 95.2176  Z\n",
       "  \" fill=\"#ffffff\" fill-rule=\"evenodd\" fill-opacity=\"1\"/>\n",
       "<polyline clip-path=\"url(#clip470)\" style=\"stroke:#000000; stroke-width:4; stroke-opacity:1; fill:none\" points=\"\n",
       "  1628.69,216.178 1920.99,216.178 1920.99,95.2176 1628.69,95.2176 1628.69,216.178 \n",
       "  \"/>\n",
       "<polyline clip-path=\"url(#clip470)\" style=\"stroke:#009af9; stroke-width:4; stroke-opacity:1; fill:none\" points=\"\n",
       "  1652.67,155.698 1796.6,155.698 \n",
       "  \"/>\n",
       "<path clip-path=\"url(#clip470)\" d=\"M 0 0 M1834.43 175.385 Q1832.62 180.015 1830.91 181.427 Q1829.19 182.839 1826.32 182.839 L1822.92 182.839 L1822.92 179.274 L1825.42 179.274 Q1827.18 179.274 1828.15 178.44 Q1829.12 177.607 1830.31 174.505 L1831.07 172.561 L1820.58 147.052 L1825.1 147.052 L1833.2 167.329 L1841.3 147.052 L1845.81 147.052 L1834.43 175.385 Z\" fill=\"#000000\" fill-rule=\"evenodd\" fill-opacity=\"1\" /><path clip-path=\"url(#clip470)\" d=\"M 0 0 M1853.11 169.042 L1860.74 169.042 L1860.74 142.677 L1852.43 144.343 L1852.43 140.084 L1860.7 138.418 L1865.37 138.418 L1865.37 169.042 L1873.01 169.042 L1873.01 172.978 L1853.11 172.978 L1853.11 169.042 Z\" fill=\"#000000\" fill-rule=\"evenodd\" fill-opacity=\"1\" /></svg>\n"
      ]
     },
     "execution_count": 29,
     "metadata": {},
     "output_type": "execute_result"
    }
   ],
   "source": [
    "# plot(t, energy)\n",
    "plot_orbit(goal_orbit)"
   ]
  },
  {
   "cell_type": "markdown",
   "metadata": {},
   "source": [
    "## Part (a): Implement DIRCOL \n",
    "Implement DIRCOL by completing the provided methods. "
   ]
  },
  {
   "cell_type": "code",
   "execution_count": null,
   "metadata": {},
   "outputs": [],
   "source": [
    "\"\"\"\n",
    "    Problem{n,m,L}\n",
    "\n",
    "Describes a trajectory optimization problem with `n` states, `m` controls, and \n",
    "a model of type `L`. \n",
    "\n",
    "# Constructor\n",
    "    Problem(model::L, obj::Vector{<:QuadraticCost{n,m}}, tf, x0, xf) where {n,m,L}\n",
    "\n",
    "where `tf` is the final time, and `x0` is the initial state. \n",
    "\"\"\"\n",
    "struct Problem{n,m,L}\n",
    "    # TODO \n",
    "end\n",
    "Base.size(prob::Problem{n,m}) where {n,m} = (n,m,prob.T)"
   ]
  },
  {
   "cell_type": "code",
   "execution_count": null,
   "metadata": {},
   "outputs": [],
   "source": [
    "# Cost function\n",
    "# TODO \n",
    "\n",
    "# Build Problem\n",
    "prob = Problem(model, obj, tf, x0);\n",
    "n,m,T = size(prob)   # get problem dimensions\n",
    "\n",
    "# Random trajectory\n",
    "Xrand =  # TODO \n",
    "Urand = # TODO \n",
    "\n",
    "# Evaluate the cost\n",
    "# t = prob.times[1]\n",
    "# dt = prob.times[2]-prob.times[1]\n",
    "# cost(prob.obj, Xrand, Urand)\n",
    "\n",
    "# Evaluate the dynamics\n",
    "# TODO"
   ]
  },
  {
   "cell_type": "markdown",
   "metadata": {},
   "source": [
    "### DIRCOL Algorithm"
   ]
  },
  {
   "cell_type": "code",
   "execution_count": null,
   "metadata": {},
   "outputs": [],
   "source": [
    "# TASK: Complete implement DIRCOL Algo\n",
    "\n"
   ]
  },
  {
   "cell_type": "markdown",
   "metadata": {},
   "source": [
    "### Forward Pass"
   ]
  },
  {
   "cell_type": "code",
   "execution_count": null,
   "metadata": {},
   "outputs": [],
   "source": [
    "# TASK: Complete forward simulation of satelite "
   ]
  },
  {
   "cell_type": "markdown",
   "metadata": {},
   "source": [
    "## Part (b): Simple trajectory \n",
    "Planar example with quibit interpolation and no Thurst conditions"
   ]
  },
  {
   "cell_type": "code",
   "execution_count": null,
   "metadata": {},
   "outputs": [],
   "source": [
    "# Task Solve Simple Trajectory"
   ]
  },
  {
   "cell_type": "code",
   "execution_count": null,
   "metadata": {},
   "outputs": [],
   "source": [
    "# vis = Visualizer()\n",
    "# set_mesh!(vis, model)\n",
    "# render(vis)"
   ]
  },
  {
   "cell_type": "code",
   "execution_count": null,
   "metadata": {},
   "outputs": [],
   "source": [
    "# visualize!(vis, model, tf, Xline)"
   ]
  },
  {
   "cell_type": "markdown",
   "metadata": {},
   "source": [
    "## Part (c): Higher Order DIRCOL\n",
    "Solve the simple planar problem with unconstrained thrust with higher order DIRCOL 3->8th order"
   ]
  },
  {
   "cell_type": "code",
   "execution_count": null,
   "metadata": {},
   "outputs": [],
   "source": [
    "# TASK: Implement the following method"
   ]
  },
  {
   "cell_type": "code",
   "execution_count": null,
   "metadata": {},
   "outputs": [],
   "source": [
    "# TASK: Plot the comparison\n"
   ]
  },
  {
   "cell_type": "markdown",
   "metadata": {},
   "source": [
    "## Part (d): Inequality Constraints \n",
    "Using the thruster constraints solve the optimization problem"
   ]
  },
  {
   "cell_type": "code",
   "execution_count": null,
   "metadata": {},
   "outputs": [],
   "source": [
    "# TASK: Inequality constraints"
   ]
  },
  {
   "cell_type": "code",
   "execution_count": null,
   "metadata": {},
   "outputs": [],
   "source": [
    "# render(vis)"
   ]
  },
  {
   "cell_type": "code",
   "execution_count": null,
   "metadata": {},
   "outputs": [],
   "source": [
    "# visualize!(vis, model, tf, Xflip)"
   ]
  },
  {
   "cell_type": "markdown",
   "metadata": {},
   "source": [
    "## Part (e): Non-Planar Satellite Control\n"
   ]
  },
  {
   "cell_type": "code",
   "execution_count": null,
   "metadata": {},
   "outputs": [],
   "source": [
    "# TASK: Non-Planar Control"
   ]
  },
  {
   "cell_type": "markdown",
   "metadata": {},
   "source": [
    "## TESTS"
   ]
  },
  {
   "cell_type": "code",
   "execution_count": null,
   "metadata": {},
   "outputs": [],
   "source": [
    "# run_tests();"
   ]
  }
 ],
 "metadata": {
  "kernelspec": {
   "display_name": "Julia 1.5.3",
   "language": "julia",
   "name": "julia-1.5"
  },
  "language_info": {
   "file_extension": ".jl",
   "mimetype": "application/julia",
   "name": "julia",
   "version": "1.5.3"
  }
 },
 "nbformat": 4,
 "nbformat_minor": 4
}
