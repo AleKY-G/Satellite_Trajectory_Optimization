{
 "cells": [
  {
   "cell_type": "code",
   "execution_count": 13,
   "metadata": {},
   "outputs": [
    {
     "name": "stderr",
     "output_type": "stream",
     "text": [
      "\u001b[32m\u001b[1m Activating\u001b[22m\u001b[39m environment at `F:\\Documents\\Schoolwork\\optimalControl\\16-745_final_project\\Project.toml`\n",
      "\u001b[32m\u001b[1m   Updating\u001b[22m\u001b[39m registry at `C:\\Users\\alexr\\.julia\\registries\\General`\n",
      "\u001b[32m\u001b[1m  Resolving\u001b[22m\u001b[39m package versions...\n",
      "\u001b[32m\u001b[1m  Installed\u001b[22m\u001b[39m ASL_jll ──────────── v0.1.2+0\n",
      "\u001b[32m\u001b[1m  Installed\u001b[22m\u001b[39m Ipopt_jll ────────── v3.13.4+2\n",
      "\u001b[32m\u001b[1m  Installed\u001b[22m\u001b[39m BenchmarkTools ───── v0.7.0\n",
      "\u001b[32m\u001b[1m  Installed\u001b[22m\u001b[39m MutableArithmetics ─ v0.2.18\n",
      "\u001b[32m\u001b[1m  Installed\u001b[22m\u001b[39m MathOptInterface ─── v0.9.21\n",
      "\u001b[32m\u001b[1mUpdating\u001b[22m\u001b[39m `F:\\Documents\\Schoolwork\\optimalControl\\16-745_final_project\\Project.toml`\n",
      " \u001b[90m [b6b21f68] \u001b[39m\u001b[92m+ Ipopt v0.6.5\u001b[39m\n",
      "\u001b[32m\u001b[1mUpdating\u001b[22m\u001b[39m `F:\\Documents\\Schoolwork\\optimalControl\\16-745_final_project\\Manifest.toml`\n",
      " \u001b[90m [ae81ac8f] \u001b[39m\u001b[92m+ ASL_jll v0.1.2+0\u001b[39m\n",
      " \u001b[90m [6e4b80f9] \u001b[39m\u001b[92m+ BenchmarkTools v0.7.0\u001b[39m\n",
      " \u001b[90m [b99e7846] \u001b[39m\u001b[92m+ BinaryProvider v0.5.10\u001b[39m\n",
      " \u001b[90m [523fee87] \u001b[39m\u001b[92m+ CodecBzip2 v0.7.2\u001b[39m\n",
      " \u001b[90m [944b1d66] \u001b[39m\u001b[92m+ CodecZlib v0.7.0\u001b[39m\n",
      " \u001b[90m [b6b21f68] \u001b[39m\u001b[92m+ Ipopt v0.6.5\u001b[39m\n",
      " \u001b[90m [9cc047cb] \u001b[39m\u001b[92m+ Ipopt_jll v3.13.4+2\u001b[39m\n",
      " \u001b[90m [7d188eb4] \u001b[39m\u001b[92m+ JSONSchema v0.3.3\u001b[39m\n",
      " \u001b[90m [d00139f3] \u001b[39m\u001b[92m+ METIS_jll v5.1.0+5\u001b[39m\n",
      " \u001b[90m [d7ed1dd3] \u001b[39m\u001b[92m+ MUMPS_seq_jll v5.2.1+4\u001b[39m\n",
      " \u001b[90m [b8f27783] \u001b[39m\u001b[92m+ MathOptInterface v0.9.21\u001b[39m\n",
      " \u001b[90m [fdba3010] \u001b[39m\u001b[92m+ MathProgBase v0.7.8\u001b[39m\n",
      " \u001b[90m [d8a4904e] \u001b[39m\u001b[92m+ MutableArithmetics v0.2.18\u001b[39m\n",
      " \u001b[90m [656ef2d0] \u001b[39m\u001b[92m+ OpenBLAS32_jll v0.3.9+4\u001b[39m\n",
      " \u001b[90m [3bb67fe8] \u001b[39m\u001b[92m+ TranscodingStreams v0.9.5\u001b[39m\n",
      " \u001b[90m [a5390f91] \u001b[39m\u001b[92m+ ZipFile v0.9.3\u001b[39m\n",
      "\u001b[32m\u001b[1m  Resolving\u001b[22m\u001b[39m package versions...\n",
      "\u001b[32m\u001b[1mUpdating\u001b[22m\u001b[39m `F:\\Documents\\Schoolwork\\optimalControl\\16-745_final_project\\Project.toml`\n",
      " \u001b[90m [b8f27783] \u001b[39m\u001b[92m+ MathOptInterface v0.9.21\u001b[39m\n",
      "\u001b[32m\u001b[1mNo Changes\u001b[22m\u001b[39m to `F:\\Documents\\Schoolwork\\optimalControl\\16-745_final_project\\Manifest.toml`\n",
      "\u001b[32m\u001b[1m  Resolving\u001b[22m\u001b[39m package versions...\n",
      "\u001b[32m\u001b[1m  Installed\u001b[22m\u001b[39m FileIO ───────────────── v1.8.2\n",
      "\u001b[32m\u001b[1m  Installed\u001b[22m\u001b[39m TrajectoryOptimization ─ v0.4.2\n",
      "\u001b[32m\u001b[1m  Installed\u001b[22m\u001b[39m MeshIO ───────────────── v0.4.7\n",
      "\u001b[32m\u001b[1m  Installed\u001b[22m\u001b[39m TrajOptPlots ─────────── v0.1.0\n",
      "\u001b[32m\u001b[1mUpdating\u001b[22m\u001b[39m `F:\\Documents\\Schoolwork\\optimalControl\\16-745_final_project\\Project.toml`\n",
      " \u001b[90m [7770976a] \u001b[39m\u001b[92m+ TrajOptPlots v0.1.0\u001b[39m\n",
      "\u001b[32m\u001b[1mUpdating\u001b[22m\u001b[39m `F:\\Documents\\Schoolwork\\optimalControl\\16-745_final_project\\Manifest.toml`\n",
      " \u001b[90m [bf4720bc] \u001b[39m\u001b[92m+ AssetRegistry v0.1.0\u001b[39m\n",
      " \u001b[90m [9e28174c] \u001b[39m\u001b[92m+ BinDeps v1.0.2\u001b[39m\n",
      " \u001b[90m [ad839575] \u001b[39m\u001b[92m+ Blink v0.12.5\u001b[39m\n",
      " \u001b[90m [7057c7e9] \u001b[39m\u001b[92m+ Cassette v0.3.5\u001b[39m\n",
      " \u001b[90m [150eb455] \u001b[39m\u001b[92m+ CoordinateTransformations v0.6.1\u001b[39m\n",
      " \u001b[90m [ffbed154] \u001b[39m\u001b[92m+ DocStringExtensions v0.8.4\u001b[39m\n",
      " \u001b[90m [5789e2e9] \u001b[39m\u001b[92m+ FileIO v1.8.2\u001b[39m\n",
      " \u001b[90m [de31a74c] \u001b[39m\u001b[92m+ FunctionalCollections v0.5.0\u001b[39m\n",
      " \u001b[90m [9fb69e20] \u001b[39m\u001b[92m+ Hiccup v0.2.2\u001b[39m\n",
      " \u001b[90m [97c1335a] \u001b[39m\u001b[92m+ JSExpr v0.5.2\u001b[39m\n",
      " \u001b[90m [50d2b5c4] \u001b[39m\u001b[92m+ Lazy v0.15.1\u001b[39m\n",
      " \u001b[90m [283c5d60] \u001b[39m\u001b[92m+ MeshCat v0.13.2\u001b[39m\n",
      " \u001b[90m [7269a6da] \u001b[39m\u001b[92m+ MeshIO v0.4.7\u001b[39m\n",
      " \u001b[90m [99f44e22] \u001b[39m\u001b[92m+ MsgPack v1.1.0\u001b[39m\n",
      " \u001b[90m [ffc61752] \u001b[39m\u001b[92m+ Mustache v1.0.10\u001b[39m\n",
      " \u001b[90m [a975b10e] \u001b[39m\u001b[92m+ Mux v0.7.5\u001b[39m\n",
      " \u001b[90m [510215fc] \u001b[39m\u001b[92m+ Observables v0.3.3\u001b[39m\n",
      " \u001b[90m [d96e819e] \u001b[39m\u001b[92m+ Parameters v0.12.2\u001b[39m\n",
      " \u001b[90m [fa939f87] \u001b[39m\u001b[92m+ Pidfile v1.2.0\u001b[39m\n",
      " \u001b[90m [74be38bb] \u001b[39m\u001b[92m+ RobotZoo v0.1.3\u001b[39m\n",
      " \u001b[90m [7770976a] \u001b[39m\u001b[92m+ TrajOptPlots v0.1.0\u001b[39m\n",
      " \u001b[90m [c79d492b] \u001b[39m\u001b[92m+ TrajectoryOptimization v0.4.2\u001b[39m\n",
      " \u001b[90m [30578b45] \u001b[39m\u001b[92m+ URIParser v0.4.1\u001b[39m\n",
      " \u001b[90m [3a884ed6] \u001b[39m\u001b[92m+ UnPack v1.0.2\u001b[39m\n",
      " \u001b[90m [0f1e0344] \u001b[39m\u001b[92m+ WebIO v0.8.15\u001b[39m\n",
      " \u001b[90m [104b5d7c] \u001b[39m\u001b[92m+ WebSockets v1.5.9\u001b[39m\n",
      " \u001b[90m [cc8bc4a8] \u001b[39m\u001b[92m+ Widgets v0.6.2\u001b[39m\n",
      " \u001b[90m [7b1f6079] \u001b[39m\u001b[92m+ FileWatching\u001b[39m\n",
      "┌ Info: Precompiling Ipopt [b6b21f68-93f8-5de0-b562-5493be1d77c9]\n",
      "└ @ Base loading.jl:1278\n",
      "┌ Info: Precompiling TrajOptPlots [7770976a-8dee-4930-bf39-a1782fd21ce6]\n",
      "└ @ Base loading.jl:1278\n"
     ]
    }
   ],
   "source": [
    "import Pkg; Pkg.activate(joinpath(@__DIR__,\"..\")); Pkg.instantiate();\n",
    "# Pkg.add(\"ForwardDiff\")\n",
    "# Pkg.add(\"RobotDynamics\")\n",
    "# Pkg.add(\"LinearAlgebra\")\n",
    "# Pkg.add(\"StaticArrays\")\n",
    "# Pkg.add(\"SparseArrays\")\n",
    "# Pkg.add(\"Plots\")\n",
    "# Pkg.add(\"Printf\")\n",
    "# Pkg.add(\"Ipopt\")\n",
    "# Pkg.add(\"MathOptInterface\")\n",
    "# Pkg.add(\"TrajOptPlots\")\n",
    "using ForwardDiff\n",
    "using Test\n",
    "using RobotDynamics\n",
    "using LinearAlgebra\n",
    "using StaticArrays\n",
    "using SparseArrays\n",
    "using Plots\n",
    "using Ipopt\n",
    "using MathOptInterface\n",
    "using TrajOptPlots\n",
    "const MOI = MathOptInterface\n",
    "\n",
    "# using PyPlots\n",
    "using Printf\n",
    "\n",
    "# include(\"quadratic_cost.jl\")\n"
   ]
  },
  {
   "cell_type": "markdown",
   "metadata": {},
   "source": [
    "# Final Project Info\n",
    "In this we present a geostationary transfer orbit to a geosynchronous (GSO) or geostationary orbit (GEO).  We use Keplerian Orbital Dynamics to model our system. We make several assumptions like Earth Reference Frame, Spherical Earth, Kepler Dynamics. \n",
    "\n",
    "## The Model\n",
    "We'll be using the Kepler Dynamics:\n",
    "\n",
    "$\\newcommand{\\norm}[1]{\\left\\lVert#1\\right\\rVert}$\n",
    "\n",
    "$$ \n",
    "\\ddot{r} = F = \\frac{-\\mu}{\\norm{r}^3}*r+u \\\\\n",
    "x = [r, \\dot{r}] \\\\\n",
    "\\norm{u} \\le Tmax\n",
    "$$\n",
    "with the following model parameters:\n",
    "* $\\mu$: Gravitational Parameter = 63781\n",
    "* $r$: distance to earth center\n",
    "* $u$: control of ion thruster"
   ]
  },
  {
   "cell_type": "code",
   "execution_count": 14,
   "metadata": {},
   "outputs": [
    {
     "data": {
      "text/plain": [
       "make_orbit (generic function with 1 method)"
      ]
     },
     "execution_count": 14,
     "metadata": {},
     "output_type": "execute_result"
    }
   ],
   "source": [
    "# Problem Setup\n",
    "# Dont want KM and S\n",
    "# Rescale unite to order 1\n",
    "# Length unit = SMA \n",
    "# Time scale = T orbit period\n",
    "# Helps condition number \n",
    "\n",
    "Nx = 6 \n",
    "Nu = 3\n",
    "\n",
    "# Hint can take big steps 10 knot points per-orbit\n",
    "# model = Kepler() # TODO\n",
    "# n,m = size(model)          # state and control dimensions\n",
    "# TODO FIX ME\n",
    "dt = 0.025                 # time step (sec)\n",
    "tf = 1.5                   # time horizon (sec)\n",
    "T = Int(tf/dt) + 1         # number of time steps\n",
    "\n",
    "n_nlp = (Nx+Nu)*T # number of decision variables\n",
    "m_nlp = Nx*(T+1)\n",
    "\n",
    "# Initial & final condition\n",
    "\n",
    "#cartesian and ECI\n",
    "#x,y,z,vx,vy,vz\n",
    "earthRadius_km = 6378.1 # [km]\n",
    "LEO_km = 500 #km above sealevel #circular low earth orbit # 250km \n",
    "GSO_km = 35786 #km above sealevel #circular geosychonous orbit\n",
    "μ_km_s = 3.986*10e5 #gravitational0 parameter [km^3 / s^2]\n",
    "semiMajorAxis_scale = (GSO_km+earthRadius_km+earthRadius_km+LEO_km)/2\n",
    "period_scale = sqrt(semiMajorAxis_scale^3/μ_km_s)*2*pi\n",
    "μ = μ_km_s*period_scale^2/semiMajorAxis_scale^3  #μ(OU^3/P^2)\n",
    "\n",
    "struct Orbit{T}\n",
    "    semiMajorAxis::T\n",
    "    period::T\n",
    "    perigee::T #closest radius to earth\n",
    "    perigee_V::T #velocity at perigee\n",
    "    x0::Vector{T}\n",
    "#     function Orbit(x0) \n",
    "#         print(x0) #best is to input point with velocity and calucate useful parts of orbit\n",
    "#     end\n",
    "end\n",
    "\n",
    "function make_orbit(x0)\n",
    "    velocity = norm(x0[4:end])\n",
    "    \n",
    "    radius = norm(x0[1:3])\n",
    "    \n",
    "    semiMajorAxis = 1/(-velocity^2/μ+2/radius)  #reverse vis a viv\n",
    "    \n",
    "    period = sqrt(semiMajorAxis^3/μ)*2*pi       #period equation\n",
    "    \n",
    "    E = velocity^2/2 - μ/radius   #specific energy of satellite\n",
    "    \n",
    "    J = norm(cross(x0[1:3],x0[4:end]))           #specific momentum of satellite\n",
    "    \n",
    "    perigee = -μ/(2*E) - 1/2*sqrt(μ^2/(E^2)+2*J^2/E) #solve quadratic when velocity of radius is 0\n",
    "    \n",
    "    perigee_v =  sqrt(μ*(2.0/perigee-1.0/semiMajorAxis)) # Vis a Viv\n",
    "    apogee  = -μ/(2*E) + 1/2(μ^2/(E^2)+2*J^2/E) #solve quadratic when velocity of radius is 0\n",
    "    apogee_v =  sqrt(μ*(2.0/apogee-1.0/semiMajorAxis)) # Vis a Viv\n",
    "    return Orbit(semiMajorAxis, period, perigee, perigee_v, x0)\n",
    "end"
   ]
  },
  {
   "cell_type": "code",
   "execution_count": 15,
   "metadata": {},
   "outputs": [
    {
     "data": {
      "text/plain": [
       "Orbit{Float64}(1.0, 1.0, 0.28049720444841386, 15.556684458046954, [0.28049720444841386, 0.0, 0.0, 0.0, 15.556684458046954, 0.0])"
      ]
     },
     "execution_count": 15,
     "metadata": {},
     "output_type": "execute_result"
    }
   ],
   "source": [
    "# Geosynchronous Transfer orbit (starting position)\n",
    "semiMajorAxis_transfer = (GSO_km+earthRadius_km+earthRadius_km+LEO_km)/(2*semiMajorAxis_scale) #OU\n",
    "instantRadius_transfer = (earthRadius_km+LEO_km) / semiMajorAxis_scale # #OU\n",
    "instantVelocity_transfer = sqrt(μ*(2.0/instantRadius_transfer-1.0/semiMajorAxis_transfer)) #sqrt(OU^3/P^2/OU) =OU/P\n",
    "period_transfer = sqrt(semiMajorAxis_transfer^3/μ)*2*pi\n",
    "x0    = [instantRadius_transfer, 0.0, 0.0, 0.0, instantVelocity_transfer, 0.0] # initial state #geosynchronous transfer orbit (GTO, where rocket dropped satellite off)\n",
    "                                                                             #many kilometers above Africa in an elliptical orbit \n",
    "transfer_orbit = Orbit(semiMajorAxis_transfer, period_transfer, instantRadius_transfer, instantVelocity_transfer, x0)"
   ]
  },
  {
   "cell_type": "code",
   "execution_count": 16,
   "metadata": {},
   "outputs": [],
   "source": [
    "# Geosynchronous Orbit (goal position)\n",
    "semiMajorAxis_goal = 2*(earthRadius_km+GSO_km)/(2*semiMajorAxis_scale)\n",
    "instantRadius_goal = (earthRadius_km+GSO_km) / semiMajorAxis_scale\n",
    "instantVelocity_goal = sqrt(μ*(2.0/instantRadius_goal-1.0/semiMajorAxis_goal)) # VisViva\n",
    "period_goal = sqrt(semiMajorAxis_goal^3/μ)*2*pi\n",
    "xgoal = [instantRadius_goal, 0.0, 0.0, 0.0, instantVelocity_goal, 0.0] # goal state #circular geosychonous orbit above africa\n",
    "goal_orbit = Orbit(semiMajorAxis_goal, period_goal, instantRadius_goal, instantVelocity_goal, xgoal)\n",
    "ugto = zeros(3)                  # hover controls\n",
    "\n",
    "# Cost matrices\n",
    "# Q = #TODO  #Diagonal(SVector{6}([ones(3) ; fill(0.1, 3)]))\n",
    "# R = #TODO  #Diagonal(@SVector fill(1e-2, m))\n",
    "# Qf = #TODO #Diagonal(@SVector fill(1e2, n));"
   ]
  },
  {
   "cell_type": "code",
   "execution_count": 29,
   "metadata": {},
   "outputs": [
    {
     "data": {
      "text/plain": [
       "cost (generic function with 1 method)"
      ]
     },
     "execution_count": 29,
     "metadata": {},
     "output_type": "execute_result"
    }
   ],
   "source": [
    "function cost(Z)\n",
    "    X = Z[1:Nx, :]\n",
    "    U = Z[Nx+1:Nx+Nu, :]\n",
    "    N = length(Z)\n",
    "    J = 0.0\n",
    "    for k = 1:N-1\n",
    "        J += norm(U[k])^2 + (norm(X[k][1:3])-goal_orbit.perigee)\n",
    "    end \n",
    "    J += (norm(X[end]-x_goal))\n",
    "    return J \n",
    "end"
   ]
  },
  {
   "cell_type": "markdown",
   "metadata": {},
   "source": [
    "## Dynamics"
   ]
  },
  {
   "cell_type": "code",
   "execution_count": 43,
   "metadata": {},
   "outputs": [
    {
     "data": {
      "text/plain": [
       "dynamics (generic function with 1 method)"
      ]
     },
     "execution_count": 43,
     "metadata": {},
     "output_type": "execute_result"
    }
   ],
   "source": [
    "function dynamics(x, u)\n",
    "    # x = state [x, y, z, dx, dy, dz]\n",
    "    # u = control [ux, uy, uz]\n",
    "    r = x[1:3] #orbital units (OU)\n",
    "    ṙ = x[4:end] #\n",
    "    r̈ = (-μ/(norm(r)^3))*r + u #μ(OU^3/P^2)/OU^3*OU\n",
    "    return [ṙ; r̈]\n",
    "end"
   ]
  },
  {
   "cell_type": "code",
   "execution_count": 44,
   "metadata": {},
   "outputs": [
    {
     "data": {
      "text/plain": [
       "integrator! (generic function with 1 method)"
      ]
     },
     "execution_count": 44,
     "metadata": {},
     "output_type": "execute_result"
    }
   ],
   "source": [
    "function integrator!(x, u, h)\n",
    "    # x = state\n",
    "    # u = control\n",
    "    # h = time step\n",
    "#     ẋ = dynamics(x, u)\n",
    "    f1 = dynamics(x, u)\n",
    "    f2 = dynamics(x + 0.5*h*f1, u)\n",
    "    f3 = dynamics(x + 0.5*h*f2, u)\n",
    "    f4 = dynamics(x + h*f3, u)\n",
    "    x .+= (h/6.0)*(f1 + 2*f2 + 2*f3 + f4)\n",
    "end"
   ]
  },
  {
   "cell_type": "code",
   "execution_count": 45,
   "metadata": {},
   "outputs": [
    {
     "data": {
      "text/plain": [
       "dynamics_rk4 (generic function with 1 method)"
      ]
     },
     "execution_count": 45,
     "metadata": {},
     "output_type": "execute_result"
    }
   ],
   "source": [
    "function dynamics_rk4(x, u, h) # Maybe rk8 or more\n",
    "    # x = state\n",
    "    # u = control\n",
    "    # h = time step\n",
    "#     ẋ = dynamics(x, u)\n",
    "    f1 = dynamics(x, u)\n",
    "    f2 = dynamics(x + 0.5*h*f1, u)\n",
    "    f3 = dynamics(x + 0.5*h*f2, u)\n",
    "    f4 = dynamics(x + h*f3, u)\n",
    "    return (x + (h/6.0)*(f1 + 2*f2 + 2*f3 + f4))\n",
    "end"
   ]
  },
  {
   "cell_type": "code",
   "execution_count": 46,
   "metadata": {},
   "outputs": [
    {
     "data": {
      "text/plain": [
       "get_energy (generic function with 1 method)"
      ]
     },
     "execution_count": 46,
     "metadata": {},
     "output_type": "execute_result"
    }
   ],
   "source": [
    "function get_energy(x)\n",
    "    return norm(x[4:end])^2/2 - μ/norm(x[1:3])\n",
    "end"
   ]
  },
  {
   "cell_type": "code",
   "execution_count": 47,
   "metadata": {},
   "outputs": [
    {
     "data": {
      "text/plain": [
       "plot_orbit (generic function with 1 method)"
      ]
     },
     "execution_count": 47,
     "metadata": {},
     "output_type": "execute_result"
    }
   ],
   "source": [
    "knots = 1000\n",
    "function plot_orbit(orbit::Orbit)\n",
    "    t = range(0, orbit.period, length=knots) \n",
    "    h = t[2]-t[1]\n",
    "    traj = zeros(size(t)[1], size(x0)[1])\n",
    "    x = copy(orbit.x0)\n",
    "    traj[1,:] .= x\n",
    "    \n",
    "    u = zeros(3)\n",
    "    energy = zero(t)\n",
    "    energy[1] = get_energy(x)\n",
    "    for i in 2:size(t)[1]\n",
    "        integrator!(x, u, h)\n",
    "        traj[i,:] .= x\n",
    "        energy[i] = get_energy(x)\n",
    "        orbit = make_orbit(x)\n",
    "    end\n",
    "#     plot(t, energy)\n",
    "    plot(traj[:, 1], traj[:, 2], aspect_ratio=:equal, lims=(-semiMajorAxis_goal*1.5,semiMajorAxis_goal*1.5))\n",
    "end"
   ]
  },
  {
   "cell_type": "code",
   "execution_count": 48,
   "metadata": {},
   "outputs": [
    {
     "data": {
      "image/svg+xml": [
       "<?xml version=\"1.0\" encoding=\"utf-8\"?>\n",
       "<svg xmlns=\"http://www.w3.org/2000/svg\" xmlns:xlink=\"http://www.w3.org/1999/xlink\" width=\"600\" height=\"400\" viewBox=\"0 0 2400 1600\">\n",
       "<defs>\n",
       "  <clipPath id=\"clip290\">\n",
       "    <rect x=\"0\" y=\"0\" width=\"2400\" height=\"1600\"/>\n",
       "  </clipPath>\n",
       "</defs>\n",
       "<path clip-path=\"url(#clip290)\" d=\"\n",
       "M0 1600 L2400 1600 L2400 0 L0 0  Z\n",
       "  \" fill=\"#ffffff\" fill-rule=\"evenodd\" fill-opacity=\"1\"/>\n",
       "<defs>\n",
       "  <clipPath id=\"clip291\">\n",
       "    <rect x=\"480\" y=\"0\" width=\"1681\" height=\"1600\"/>\n",
       "  </clipPath>\n",
       "</defs>\n",
       "<path clip-path=\"url(#clip290)\" d=\"\n",
       "M530.515 1486.45 L1969.72 1486.45 L1969.72 47.2441 L530.515 47.2441  Z\n",
       "  \" fill=\"#ffffff\" fill-rule=\"evenodd\" fill-opacity=\"1\"/>\n",
       "<defs>\n",
       "  <clipPath id=\"clip292\">\n",
       "    <rect x=\"530\" y=\"47\" width=\"1440\" height=\"1440\"/>\n",
       "  </clipPath>\n",
       "</defs>\n",
       "<polyline clip-path=\"url(#clip292)\" style=\"stroke:#000000; stroke-width:2; stroke-opacity:0.1; fill:none\" points=\"\n",
       "  692.125,1486.45 692.125,47.2441 \n",
       "  \"/>\n",
       "<polyline clip-path=\"url(#clip292)\" style=\"stroke:#000000; stroke-width:2; stroke-opacity:0.1; fill:none\" points=\"\n",
       "  971.121,1486.45 971.121,47.2441 \n",
       "  \"/>\n",
       "<polyline clip-path=\"url(#clip292)\" style=\"stroke:#000000; stroke-width:2; stroke-opacity:0.1; fill:none\" points=\"\n",
       "  1250.12,1486.45 1250.12,47.2441 \n",
       "  \"/>\n",
       "<polyline clip-path=\"url(#clip292)\" style=\"stroke:#000000; stroke-width:2; stroke-opacity:0.1; fill:none\" points=\"\n",
       "  1529.11,1486.45 1529.11,47.2441 \n",
       "  \"/>\n",
       "<polyline clip-path=\"url(#clip292)\" style=\"stroke:#000000; stroke-width:2; stroke-opacity:0.1; fill:none\" points=\"\n",
       "  1808.11,1486.45 1808.11,47.2441 \n",
       "  \"/>\n",
       "<polyline clip-path=\"url(#clip290)\" style=\"stroke:#000000; stroke-width:4; stroke-opacity:1; fill:none\" points=\"\n",
       "  530.515,1486.45 1969.72,1486.45 \n",
       "  \"/>\n",
       "<polyline clip-path=\"url(#clip290)\" style=\"stroke:#000000; stroke-width:4; stroke-opacity:1; fill:none\" points=\"\n",
       "  692.125,1486.45 692.125,1469.18 \n",
       "  \"/>\n",
       "<polyline clip-path=\"url(#clip290)\" style=\"stroke:#000000; stroke-width:4; stroke-opacity:1; fill:none\" points=\"\n",
       "  971.121,1486.45 971.121,1469.18 \n",
       "  \"/>\n",
       "<polyline clip-path=\"url(#clip290)\" style=\"stroke:#000000; stroke-width:4; stroke-opacity:1; fill:none\" points=\"\n",
       "  1250.12,1486.45 1250.12,1469.18 \n",
       "  \"/>\n",
       "<polyline clip-path=\"url(#clip290)\" style=\"stroke:#000000; stroke-width:4; stroke-opacity:1; fill:none\" points=\"\n",
       "  1529.11,1486.45 1529.11,1469.18 \n",
       "  \"/>\n",
       "<polyline clip-path=\"url(#clip290)\" style=\"stroke:#000000; stroke-width:4; stroke-opacity:1; fill:none\" points=\"\n",
       "  1808.11,1486.45 1808.11,1469.18 \n",
       "  \"/>\n",
       "<path clip-path=\"url(#clip290)\" d=\"M 0 0 M662.067 1530.29 L691.743 1530.29 L691.743 1534.23 L662.067 1534.23 L662.067 1530.29 Z\" fill=\"#000000\" fill-rule=\"evenodd\" fill-opacity=\"1\" /><path clip-path=\"url(#clip290)\" d=\"M 0 0 M705.863 1543.18 L722.182 1543.18 L722.182 1547.12 L700.238 1547.12 L700.238 1543.18 Q702.9 1540.43 707.483 1535.8 Q712.09 1531.15 713.27 1529.81 Q715.516 1527.28 716.395 1525.55 Q717.298 1523.79 717.298 1522.1 Q717.298 1519.34 715.354 1517.61 Q713.432 1515.87 710.331 1515.87 Q708.132 1515.87 705.678 1516.63 Q703.247 1517.4 700.47 1518.95 L700.47 1514.23 Q703.294 1513.09 705.747 1512.51 Q708.201 1511.93 710.238 1511.93 Q715.608 1511.93 718.803 1514.62 Q721.997 1517.31 721.997 1521.8 Q721.997 1523.93 721.187 1525.85 Q720.4 1527.74 718.294 1530.34 Q717.715 1531.01 714.613 1534.23 Q711.511 1537.42 705.863 1543.18 Z\" fill=\"#000000\" fill-rule=\"evenodd\" fill-opacity=\"1\" /><path clip-path=\"url(#clip290)\" d=\"M 0 0 M940.878 1530.29 L970.554 1530.29 L970.554 1534.23 L940.878 1534.23 L940.878 1530.29 Z\" fill=\"#000000\" fill-rule=\"evenodd\" fill-opacity=\"1\" /><path clip-path=\"url(#clip290)\" d=\"M 0 0 M981.456 1543.18 L989.095 1543.18 L989.095 1516.82 L980.785 1518.49 L980.785 1514.23 L989.049 1512.56 L993.725 1512.56 L993.725 1543.18 L1001.36 1543.18 L1001.36 1547.12 L981.456 1547.12 L981.456 1543.18 Z\" fill=\"#000000\" fill-rule=\"evenodd\" fill-opacity=\"1\" /><path clip-path=\"url(#clip290)\" d=\"M 0 0 M1250.12 1515.64 Q1246.51 1515.64 1244.68 1519.2 Q1242.87 1522.75 1242.87 1529.87 Q1242.87 1536.98 1244.68 1540.55 Q1246.51 1544.09 1250.12 1544.09 Q1253.75 1544.09 1255.56 1540.55 Q1257.39 1536.98 1257.39 1529.87 Q1257.39 1522.75 1255.56 1519.2 Q1253.75 1515.64 1250.12 1515.64 M1250.12 1511.93 Q1255.93 1511.93 1258.98 1516.54 Q1262.06 1521.12 1262.06 1529.87 Q1262.06 1538.6 1258.98 1543.21 Q1255.93 1547.79 1250.12 1547.79 Q1244.31 1547.79 1241.23 1543.21 Q1238.17 1538.6 1238.17 1529.87 Q1238.17 1521.12 1241.23 1516.54 Q1244.31 1511.93 1250.12 1511.93 Z\" fill=\"#000000\" fill-rule=\"evenodd\" fill-opacity=\"1\" /><path clip-path=\"url(#clip290)\" d=\"M 0 0 M1519.5 1543.18 L1527.13 1543.18 L1527.13 1516.82 L1518.82 1518.49 L1518.82 1514.23 L1527.09 1512.56 L1531.76 1512.56 L1531.76 1543.18 L1539.4 1543.18 L1539.4 1547.12 L1519.5 1547.12 L1519.5 1543.18 Z\" fill=\"#000000\" fill-rule=\"evenodd\" fill-opacity=\"1\" /><path clip-path=\"url(#clip290)\" d=\"M 0 0 M1802.76 1543.18 L1819.08 1543.18 L1819.08 1547.12 L1797.14 1547.12 L1797.14 1543.18 Q1799.8 1540.43 1804.38 1535.8 Q1808.99 1531.15 1810.17 1529.81 Q1812.41 1527.28 1813.29 1525.55 Q1814.2 1523.79 1814.2 1522.1 Q1814.2 1519.34 1812.25 1517.61 Q1810.33 1515.87 1807.23 1515.87 Q1805.03 1515.87 1802.58 1516.63 Q1800.15 1517.4 1797.37 1518.95 L1797.37 1514.23 Q1800.19 1513.09 1802.65 1512.51 Q1805.1 1511.93 1807.14 1511.93 Q1812.51 1511.93 1815.7 1514.62 Q1818.9 1517.31 1818.9 1521.8 Q1818.9 1523.93 1818.09 1525.85 Q1817.3 1527.74 1815.19 1530.34 Q1814.61 1531.01 1811.51 1534.23 Q1808.41 1537.42 1802.76 1543.18 Z\" fill=\"#000000\" fill-rule=\"evenodd\" fill-opacity=\"1\" /><polyline clip-path=\"url(#clip292)\" style=\"stroke:#000000; stroke-width:2; stroke-opacity:0.1; fill:none\" points=\"\n",
       "  530.515,1324.84 1969.72,1324.84 \n",
       "  \"/>\n",
       "<polyline clip-path=\"url(#clip292)\" style=\"stroke:#000000; stroke-width:2; stroke-opacity:0.1; fill:none\" points=\"\n",
       "  530.515,1045.84 1969.72,1045.84 \n",
       "  \"/>\n",
       "<polyline clip-path=\"url(#clip292)\" style=\"stroke:#000000; stroke-width:2; stroke-opacity:0.1; fill:none\" points=\"\n",
       "  530.515,766.846 1969.72,766.846 \n",
       "  \"/>\n",
       "<polyline clip-path=\"url(#clip292)\" style=\"stroke:#000000; stroke-width:2; stroke-opacity:0.1; fill:none\" points=\"\n",
       "  530.515,487.85 1969.72,487.85 \n",
       "  \"/>\n",
       "<polyline clip-path=\"url(#clip292)\" style=\"stroke:#000000; stroke-width:2; stroke-opacity:0.1; fill:none\" points=\"\n",
       "  530.515,208.854 1969.72,208.854 \n",
       "  \"/>\n",
       "<polyline clip-path=\"url(#clip290)\" style=\"stroke:#000000; stroke-width:4; stroke-opacity:1; fill:none\" points=\"\n",
       "  530.515,1486.45 530.515,47.2441 \n",
       "  \"/>\n",
       "<polyline clip-path=\"url(#clip290)\" style=\"stroke:#000000; stroke-width:4; stroke-opacity:1; fill:none\" points=\"\n",
       "  530.515,1324.84 547.785,1324.84 \n",
       "  \"/>\n",
       "<polyline clip-path=\"url(#clip290)\" style=\"stroke:#000000; stroke-width:4; stroke-opacity:1; fill:none\" points=\"\n",
       "  530.515,1045.84 547.785,1045.84 \n",
       "  \"/>\n",
       "<polyline clip-path=\"url(#clip290)\" style=\"stroke:#000000; stroke-width:4; stroke-opacity:1; fill:none\" points=\"\n",
       "  530.515,766.846 547.785,766.846 \n",
       "  \"/>\n",
       "<polyline clip-path=\"url(#clip290)\" style=\"stroke:#000000; stroke-width:4; stroke-opacity:1; fill:none\" points=\"\n",
       "  530.515,487.85 547.785,487.85 \n",
       "  \"/>\n",
       "<polyline clip-path=\"url(#clip290)\" style=\"stroke:#000000; stroke-width:4; stroke-opacity:1; fill:none\" points=\"\n",
       "  530.515,208.854 547.785,208.854 \n",
       "  \"/>\n",
       "<path clip-path=\"url(#clip290)\" d=\"M 0 0 M434.4 1325.29 L464.075 1325.29 L464.075 1329.22 L434.4 1329.22 L434.4 1325.29 Z\" fill=\"#000000\" fill-rule=\"evenodd\" fill-opacity=\"1\" /><path clip-path=\"url(#clip290)\" d=\"M 0 0 M478.196 1338.18 L494.515 1338.18 L494.515 1342.12 L472.571 1342.12 L472.571 1338.18 Q475.233 1335.43 479.816 1330.8 Q484.422 1326.15 485.603 1324.8 Q487.848 1322.28 488.728 1320.54 Q489.631 1318.78 489.631 1317.1 Q489.631 1314.34 487.686 1312.6 Q485.765 1310.87 482.663 1310.87 Q480.464 1310.87 478.01 1311.63 Q475.58 1312.4 472.802 1313.95 L472.802 1309.22 Q475.626 1308.09 478.08 1307.51 Q480.534 1306.93 482.571 1306.93 Q487.941 1306.93 491.135 1309.62 Q494.33 1312.3 494.33 1316.79 Q494.33 1318.92 493.52 1320.85 Q492.733 1322.74 490.626 1325.34 Q490.047 1326.01 486.946 1329.22 Q483.844 1332.42 478.196 1338.18 Z\" fill=\"#000000\" fill-rule=\"evenodd\" fill-opacity=\"1\" /><path clip-path=\"url(#clip290)\" d=\"M 0 0 M434.029 1046.29 L463.705 1046.29 L463.705 1050.23 L434.029 1050.23 L434.029 1046.29 Z\" fill=\"#000000\" fill-rule=\"evenodd\" fill-opacity=\"1\" /><path clip-path=\"url(#clip290)\" d=\"M 0 0 M474.608 1059.19 L482.247 1059.19 L482.247 1032.82 L473.936 1034.49 L473.936 1030.23 L482.2 1028.56 L486.876 1028.56 L486.876 1059.19 L494.515 1059.19 L494.515 1063.12 L474.608 1063.12 L474.608 1059.19 Z\" fill=\"#000000\" fill-rule=\"evenodd\" fill-opacity=\"1\" /><path clip-path=\"url(#clip290)\" d=\"M 0 0 M482.571 752.645 Q478.96 752.645 477.131 756.209 Q475.325 759.751 475.325 766.881 Q475.325 773.987 477.131 777.552 Q478.96 781.094 482.571 781.094 Q486.205 781.094 488.01 777.552 Q489.839 773.987 489.839 766.881 Q489.839 759.751 488.01 756.209 Q486.205 752.645 482.571 752.645 M482.571 748.941 Q488.381 748.941 491.436 753.547 Q494.515 758.131 494.515 766.881 Q494.515 775.608 491.436 780.214 Q488.381 784.797 482.571 784.797 Q476.76 784.797 473.682 780.214 Q470.626 775.608 470.626 766.881 Q470.626 758.131 473.682 753.547 Q476.76 748.941 482.571 748.941 Z\" fill=\"#000000\" fill-rule=\"evenodd\" fill-opacity=\"1\" /><path clip-path=\"url(#clip290)\" d=\"M 0 0 M474.608 501.195 L482.247 501.195 L482.247 474.829 L473.936 476.496 L473.936 472.237 L482.2 470.57 L486.876 470.57 L486.876 501.195 L494.515 501.195 L494.515 505.13 L474.608 505.13 L474.608 501.195 Z\" fill=\"#000000\" fill-rule=\"evenodd\" fill-opacity=\"1\" /><path clip-path=\"url(#clip290)\" d=\"M 0 0 M478.196 222.199 L494.515 222.199 L494.515 226.134 L472.571 226.134 L472.571 222.199 Q475.233 219.444 479.816 214.814 Q484.422 210.162 485.603 208.819 Q487.848 206.296 488.728 204.56 Q489.631 202.801 489.631 201.111 Q489.631 198.356 487.686 196.62 Q485.765 194.884 482.663 194.884 Q480.464 194.884 478.01 195.648 Q475.58 196.412 472.802 197.963 L472.802 193.24 Q475.626 192.106 478.08 191.527 Q480.534 190.949 482.571 190.949 Q487.941 190.949 491.135 193.634 Q494.33 196.319 494.33 200.81 Q494.33 202.939 493.52 204.861 Q492.733 206.759 490.626 209.351 Q490.047 210.023 486.946 213.24 Q483.844 216.435 478.196 222.199 Z\" fill=\"#000000\" fill-rule=\"evenodd\" fill-opacity=\"1\" /><polyline clip-path=\"url(#clip292)\" style=\"stroke:#009af9; stroke-width:4; stroke-opacity:1; fill:none\" points=\"\n",
       "  1328.37,766.846 1328.3,762.503 1328.09,758.167 1327.75,753.847 1327.26,749.55 1326.64,745.283 1325.89,741.052 1325.01,736.865 1324.01,732.727 1322.9,728.643 \n",
       "  1321.67,724.618 1320.33,720.656 1318.89,716.761 1317.36,712.936 1315.73,709.184 1314.02,705.505 1312.24,701.903 1310.37,698.377 1308.44,694.928 1306.45,691.558 \n",
       "  1304.4,688.265 1302.3,685.05 1300.14,681.911 1297.94,678.849 1295.7,675.862 1293.43,672.949 1291.11,670.109 1288.77,667.341 1286.41,664.643 1284.01,662.014 \n",
       "  1281.6,659.452 1279.16,656.956 1276.71,654.524 1274.25,652.155 1271.77,649.847 1269.28,647.599 1266.78,645.409 1264.27,643.276 1261.76,641.197 1259.24,639.173 \n",
       "  1256.72,637.201 1254.2,635.28 1251.67,633.408 1249.14,631.585 1246.62,629.808 1244.09,628.077 1241.57,626.391 1239.05,624.748 1236.53,623.147 1234.02,621.587 \n",
       "  1231.51,620.068 1229,618.587 1226.51,617.144 1224.01,615.738 1221.53,614.368 1219.05,613.033 1216.57,611.732 1214.11,610.465 1211.65,609.23 1209.2,608.027 \n",
       "  1206.76,606.855 1204.32,605.713 1201.89,604.6 1199.48,603.516 1197.07,602.461 1194.67,601.432 1192.28,600.431 1189.89,599.455 1187.52,598.505 1185.16,597.58 \n",
       "  1182.8,596.68 1180.46,595.803 1178.12,594.95 1175.8,594.119 1173.48,593.311 1171.18,592.524 1168.88,591.759 1166.59,591.015 1164.31,590.292 1162.05,589.588 \n",
       "  1159.79,588.904 1157.54,588.24 1155.3,587.594 1153.07,586.966 1150.85,586.357 1148.65,585.765 1146.45,585.191 1144.26,584.634 1142.08,584.094 1139.91,583.57 \n",
       "  1137.75,583.062 1135.6,582.57 1133.45,582.093 1131.32,581.632 1129.2,581.186 1127.09,580.754 1124.99,580.337 1122.89,579.933 1120.81,579.544 1118.73,579.168 \n",
       "  1116.67,578.806 1114.61,578.457 1112.57,578.121 1110.53,577.797 1108.5,577.487 1106.48,577.188 1104.47,576.901 1102.47,576.627 1100.48,576.364 1098.5,576.113 \n",
       "  1096.52,575.873 1094.56,575.644 1092.6,575.426 1090.66,575.219 1088.72,575.022 1086.79,574.836 1084.87,574.66 1082.96,574.495 1081.06,574.339 1079.16,574.193 \n",
       "  1077.28,574.057 1075.4,573.931 1073.53,573.814 1071.67,573.706 1069.82,573.607 1067.98,573.517 1066.14,573.436 1064.31,573.364 1062.5,573.3 1060.69,573.245 \n",
       "  1058.88,573.199 1057.09,573.16 1055.31,573.13 1053.53,573.108 1051.76,573.093 1050,573.087 1048.24,573.088 1046.5,573.096 1044.76,573.113 1043.03,573.136 \n",
       "  1041.31,573.167 1039.59,573.205 1037.89,573.251 1036.19,573.303 1034.5,573.362 1032.81,573.428 1031.14,573.501 1029.47,573.58 1027.81,573.666 1026.15,573.759 \n",
       "  1024.51,573.858 1022.87,573.963 1021.24,574.074 1019.61,574.192 1018,574.316 1016.39,574.446 1014.79,574.581 1013.19,574.723 1011.6,574.87 1010.02,575.024 \n",
       "  1008.45,575.183 1006.88,575.347 1005.32,575.517 1003.77,575.693 1002.22,575.874 1000.69,576.06 999.154,576.252 997.629,576.448 996.111,576.65 994.6,576.857 \n",
       "  993.096,577.07 991.599,577.287 990.108,577.509 988.624,577.736 987.147,577.968 985.676,578.204 984.212,578.446 982.755,578.692 981.304,578.942 979.86,579.198 \n",
       "  978.422,579.457 976.99,579.722 975.566,579.99 974.147,580.263 972.735,580.541 971.33,580.822 969.93,581.108 968.538,581.398 967.151,581.693 965.771,581.991 \n",
       "  964.397,582.293 963.029,582.6 961.667,582.91 960.312,583.225 958.963,583.543 957.62,583.865 956.283,584.191 954.952,584.521 953.627,584.855 952.308,585.192 \n",
       "  950.996,585.533 949.689,585.877 948.388,586.226 947.093,586.577 945.804,586.933 944.522,587.291 943.245,587.654 941.973,588.019 940.708,588.388 939.449,588.761 \n",
       "  938.195,589.137 936.947,589.516 935.705,589.898 934.469,590.284 933.238,590.672 932.013,591.064 930.794,591.46 929.58,591.858 928.373,592.259 927.17,592.663 \n",
       "  925.974,593.071 924.783,593.481 923.597,593.895 922.417,594.311 921.243,594.73 920.074,595.152 918.911,595.577 917.753,596.005 916.601,596.436 915.454,596.869 \n",
       "  914.312,597.305 913.176,597.744 912.046,598.186 910.92,598.63 909.8,599.077 908.686,599.527 907.577,599.979 906.473,600.434 905.374,600.891 904.281,601.351 \n",
       "  903.193,601.814 902.11,602.279 901.033,602.746 899.96,603.216 898.893,603.688 897.831,604.163 896.775,604.64 895.723,605.12 894.677,605.601 893.635,606.086 \n",
       "  892.599,606.572 891.568,607.061 890.542,607.552 889.522,608.045 888.506,608.541 887.495,609.039 886.489,609.539 885.489,610.041 884.493,610.545 883.502,611.051 \n",
       "  882.517,611.56 881.536,612.07 880.56,612.583 879.589,613.098 878.623,613.615 877.662,614.134 876.706,614.654 875.755,615.177 874.809,615.702 873.867,616.229 \n",
       "  872.931,616.758 871.999,617.288 871.072,617.821 870.15,618.355 869.233,618.892 868.32,619.43 867.412,619.97 866.51,620.512 865.611,621.055 864.718,621.601 \n",
       "  863.829,622.148 862.945,622.697 862.066,623.248 861.192,623.801 860.322,624.355 859.457,624.911 858.596,625.468 857.74,626.028 856.889,626.589 856.043,627.152 \n",
       "  855.201,627.716 854.364,628.282 853.531,628.849 852.703,629.419 851.879,629.989 851.06,630.562 850.246,631.136 849.436,631.711 848.631,632.288 847.831,632.867 \n",
       "  847.034,633.447 846.243,634.028 845.456,634.611 844.673,635.196 843.895,635.782 843.122,636.369 842.353,636.958 841.588,637.548 840.828,638.14 840.072,638.733 \n",
       "  839.321,639.327 838.574,639.923 837.831,640.52 837.093,641.119 836.36,641.719 835.631,642.32 834.906,642.922 834.185,643.526 833.469,644.131 832.758,644.738 \n",
       "  832.05,645.345 831.347,645.954 830.649,646.565 829.955,647.176 829.265,647.789 828.579,648.403 827.898,649.018 827.221,649.634 826.548,650.252 825.879,650.87 \n",
       "  825.215,651.49 824.555,652.111 823.9,652.733 823.249,653.357 822.602,653.981 821.959,654.607 821.32,655.234 820.686,655.861 820.056,656.49 819.43,657.12 \n",
       "  818.808,657.751 818.191,658.383 817.577,659.017 816.968,659.651 816.363,660.286 815.763,660.922 815.166,661.56 814.574,662.198 813.986,662.837 813.401,663.477 \n",
       "  812.822,664.119 812.246,664.761 811.674,665.404 811.107,666.048 810.543,666.693 809.984,667.34 809.429,667.987 808.878,668.634 808.331,669.283 807.788,669.933 \n",
       "  807.25,670.584 806.715,671.235 806.184,671.887 805.658,672.541 805.136,673.195 804.617,673.85 804.103,674.506 803.593,675.162 803.087,675.82 802.584,676.478 \n",
       "  802.086,677.137 801.592,677.797 801.102,678.458 800.616,679.12 800.134,679.782 799.656,680.445 799.182,681.109 798.713,681.774 798.247,682.439 797.785,683.105 \n",
       "  797.327,683.772 796.873,684.44 796.423,685.108 795.977,685.777 795.535,686.447 795.097,687.117 794.663,687.788 794.232,688.46 793.806,689.133 793.384,689.806 \n",
       "  792.966,690.48 792.551,691.154 792.141,691.829 791.735,692.505 791.332,693.182 790.933,693.859 790.539,694.536 790.148,695.215 789.761,695.894 789.378,696.573 \n",
       "  788.999,697.253 788.624,697.934 788.253,698.615 787.886,699.297 787.522,699.98 787.163,700.663 786.807,701.346 786.455,702.03 786.107,702.715 785.763,703.4 \n",
       "  785.423,704.086 785.087,704.772 784.755,705.459 784.426,706.146 784.102,706.834 783.781,707.522 783.464,708.211 783.151,708.9 782.842,709.59 782.536,710.28 \n",
       "  782.235,710.971 781.937,711.662 781.643,712.354 781.353,713.046 781.067,713.738 780.785,714.431 780.506,715.124 780.231,715.818 779.961,716.512 779.693,717.207 \n",
       "  779.43,717.902 779.171,718.597 778.915,719.293 778.663,719.989 778.415,720.686 778.171,721.382 777.931,722.08 777.694,722.777 777.462,723.475 777.233,724.174 \n",
       "  777.007,724.872 776.786,725.571 776.568,726.271 776.355,726.97 776.145,727.67 775.938,728.371 775.736,729.071 775.537,729.772 775.342,730.473 775.151,731.175 \n",
       "  774.964,731.876 774.78,732.579 774.6,733.281 774.424,733.983 774.252,734.686 774.084,735.389 773.919,736.093 773.758,736.796 773.601,737.5 773.447,738.204 \n",
       "  773.298,738.908 773.152,739.613 773.01,740.318 772.871,741.023 772.737,741.728 772.606,742.433 772.479,743.139 772.355,743.844 772.236,744.55 772.12,745.256 \n",
       "  772.008,745.962 771.899,746.669 771.795,747.375 771.694,748.082 771.597,748.789 771.503,749.496 771.414,750.203 771.328,750.91 771.245,751.618 771.167,752.325 \n",
       "  771.092,753.033 771.021,753.741 770.954,754.448 770.891,755.156 770.831,755.864 770.775,756.572 770.723,757.281 770.674,757.989 770.629,758.697 770.588,759.406 \n",
       "  770.551,760.114 770.517,760.823 770.487,761.531 770.461,762.24 770.439,762.948 770.42,763.657 770.405,764.366 770.394,765.074 770.387,765.783 770.383,766.492 \n",
       "  770.383,767.2 770.387,767.909 770.394,768.618 770.405,769.327 770.42,770.035 770.439,770.744 770.461,771.453 770.487,772.161 770.517,772.87 770.551,773.578 \n",
       "  770.588,774.287 770.629,774.995 770.674,775.703 770.723,776.412 770.775,777.12 770.831,777.828 770.891,778.536 770.954,779.244 771.021,779.952 771.092,780.659 \n",
       "  771.167,781.367 771.245,782.074 771.328,782.782 771.414,783.489 771.503,784.196 771.597,784.903 771.694,785.61 771.795,786.317 771.899,787.023 772.008,787.73 \n",
       "  772.12,788.436 772.236,789.142 772.355,789.848 772.479,790.554 772.606,791.259 772.737,791.964 772.871,792.67 773.01,793.375 773.152,794.079 773.298,794.784 \n",
       "  773.447,795.488 773.601,796.192 773.758,796.896 773.919,797.6 774.084,798.303 774.252,799.006 774.425,799.709 774.601,800.411 774.78,801.114 774.964,801.816 \n",
       "  775.151,802.518 775.342,803.219 775.537,803.92 775.736,804.621 775.938,805.322 776.145,806.022 776.355,806.722 776.568,807.422 776.786,808.121 777.007,808.82 \n",
       "  777.233,809.519 777.462,810.217 777.694,810.915 777.931,811.613 778.171,812.31 778.416,813.007 778.663,813.703 778.915,814.399 779.171,815.095 779.43,815.79 \n",
       "  779.694,816.485 779.961,817.18 780.231,817.874 780.506,818.568 780.785,819.261 781.067,819.954 781.353,820.647 781.643,821.339 781.937,822.03 782.235,822.721 \n",
       "  782.536,823.412 782.842,824.102 783.151,824.792 783.464,825.481 783.781,826.17 784.102,826.858 784.426,827.546 784.755,828.233 785.087,828.92 785.423,829.606 \n",
       "  785.764,830.292 786.108,830.977 786.455,831.662 786.807,832.346 787.163,833.03 787.522,833.713 787.886,834.395 788.253,835.077 788.624,835.758 788.999,836.439 \n",
       "  789.378,837.119 789.761,837.799 790.148,838.478 790.539,839.156 790.934,839.834 791.332,840.511 791.735,841.187 792.141,841.863 792.551,842.538 792.966,843.213 \n",
       "  793.384,843.886 793.806,844.56 794.233,845.232 794.663,845.904 795.097,846.575 795.535,847.246 795.977,847.915 796.423,848.584 796.873,849.253 797.327,849.92 \n",
       "  797.785,850.587 798.247,851.253 798.713,851.919 799.183,852.583 799.657,853.247 800.135,853.91 800.616,854.573 801.102,855.234 801.592,855.895 802.087,856.555 \n",
       "  802.585,857.214 803.087,857.872 803.593,858.53 804.103,859.187 804.617,859.842 805.136,860.497 805.658,861.151 806.185,861.805 806.715,862.457 807.25,863.109 \n",
       "  807.788,863.759 808.331,864.409 808.878,865.058 809.429,865.706 809.984,866.353 810.544,866.999 811.107,867.644 811.674,868.288 812.246,868.931 812.822,869.574 \n",
       "  813.402,870.215 813.986,870.855 814.574,871.494 815.166,872.133 815.763,872.77 816.364,873.406 816.968,874.041 817.577,874.676 818.191,875.309 818.808,875.941 \n",
       "  819.43,876.572 820.056,877.202 820.686,877.831 821.32,878.459 821.959,879.085 822.602,879.711 823.249,880.335 823.9,880.959 824.556,881.581 825.216,882.202 \n",
       "  825.88,882.822 826.548,883.441 827.221,884.058 827.898,884.674 828.579,885.289 829.265,885.903 829.955,886.516 830.649,887.128 831.348,887.738 832.051,888.347 \n",
       "  832.758,888.954 833.47,889.561 834.186,890.166 834.906,890.77 835.631,891.372 836.36,891.974 837.094,892.573 837.832,893.172 838.574,893.769 839.321,894.365 \n",
       "  840.072,894.959 840.828,895.553 841.588,896.144 842.353,896.734 843.122,897.323 843.895,897.911 844.673,898.497 845.456,899.081 846.243,899.664 847.035,900.246 \n",
       "  847.831,900.826 848.631,901.404 849.437,901.981 850.246,902.557 851.061,903.13 851.88,903.703 852.703,904.274 853.531,904.843 854.364,905.41 855.201,905.976 \n",
       "  856.043,906.541 856.889,907.103 857.741,907.664 858.596,908.224 859.457,908.781 860.322,909.337 861.192,909.892 862.066,910.444 862.946,910.995 863.83,911.544 \n",
       "  864.718,912.091 865.612,912.637 866.51,913.181 867.413,913.722 868.32,914.262 869.233,914.801 870.15,915.337 871.072,915.871 871.999,916.404 872.931,916.935 \n",
       "  873.868,917.463 874.809,917.99 875.755,918.515 876.706,919.038 877.663,919.559 878.624,920.077 879.589,920.594 880.56,921.109 881.536,921.622 882.517,922.132 \n",
       "  883.502,922.641 884.493,923.147 885.489,923.652 886.49,924.154 887.495,924.654 888.506,925.151 889.522,925.647 890.543,926.14 891.569,926.631 892.6,927.12 \n",
       "  893.636,927.607 894.677,928.091 895.723,928.573 896.775,929.052 897.832,929.529 898.894,930.004 899.961,930.476 901.033,930.946 902.111,931.414 903.193,931.879 \n",
       "  904.281,932.341 905.375,932.801 906.473,933.258 907.577,933.713 908.686,934.165 909.801,934.615 910.921,935.062 912.046,935.506 913.177,935.948 914.313,936.387 \n",
       "  915.454,936.823 916.601,937.256 917.753,937.687 918.911,938.115 920.074,938.54 921.243,938.962 922.418,939.381 923.598,939.798 924.783,940.211 925.974,940.621 \n",
       "  927.171,941.029 928.373,941.433 929.581,941.834 930.794,942.233 932.013,942.628 933.238,943.02 934.469,943.408 935.705,943.794 936.947,944.176 938.195,944.555 \n",
       "  939.449,944.931 940.708,945.304 941.974,945.673 943.245,946.038 944.522,946.401 945.805,946.759 947.094,947.115 948.388,947.466 949.689,947.815 950.996,948.159 \n",
       "  952.309,948.5 953.627,948.837 954.952,949.171 956.283,949.501 957.62,949.827 958.963,950.149 960.312,950.467 961.668,950.782 963.029,951.092 964.397,951.399 \n",
       "  965.771,951.701 967.151,951.999 968.538,952.294 969.931,952.584 971.33,952.87 972.736,953.151 974.148,953.429 975.566,953.702 976.991,953.97 978.422,954.235 \n",
       "  979.86,954.494 981.304,954.75 982.755,955 984.213,955.246 985.677,955.488 987.147,955.724 988.625,955.956 990.109,956.183 991.599,956.405 993.097,956.622 \n",
       "  994.601,956.835 996.112,957.042 997.63,957.244 999.154,957.441 1000.69,957.632 1002.22,957.818 1003.77,957.999 1005.32,958.175 1006.88,958.345 1008.45,958.509 \n",
       "  1010.02,958.668 1011.6,958.822 1013.19,958.969 1014.79,959.111 1016.39,959.246 1018,959.376 1019.61,959.5 1021.24,959.618 1022.87,959.729 1024.51,959.834 \n",
       "  1026.15,959.933 1027.81,960.026 1029.47,960.112 1031.14,960.191 1032.81,960.264 1034.5,960.33 1036.19,960.389 1037.89,960.441 1039.59,960.487 1041.31,960.525 \n",
       "  1043.03,960.556 1044.76,960.579 1046.5,960.596 1048.24,960.604 1050,960.605 1051.76,960.599 1053.53,960.584 1055.31,960.562 1057.09,960.532 1058.89,960.493 \n",
       "  1060.69,960.447 1062.5,960.392 1064.32,960.328 1066.14,960.256 1067.98,960.175 1069.82,960.085 1071.67,959.986 1073.53,959.878 1075.4,959.761 1077.28,959.635 \n",
       "  1079.16,959.499 1081.06,959.353 1082.96,959.197 1084.87,959.032 1086.79,958.856 1088.72,958.67 1090.66,958.473 1092.6,958.266 1094.56,958.048 1096.52,957.819 \n",
       "  1098.5,957.579 1100.48,957.328 1102.47,957.065 1104.47,956.79 1106.48,956.504 1108.5,956.205 1110.53,955.894 1112.57,955.571 1114.61,955.235 1116.67,954.886 \n",
       "  1118.73,954.524 1120.81,954.148 1122.89,953.759 1124.99,953.355 1127.09,952.938 1129.2,952.506 1131.32,952.06 1133.45,951.598 1135.6,951.122 1137.75,950.63 \n",
       "  1139.91,950.122 1142.08,949.598 1144.26,949.058 1146.45,948.501 1148.65,947.926 1150.86,947.335 1153.07,946.726 1155.3,946.098 1157.54,945.452 1159.79,944.788 \n",
       "  1162.05,944.104 1164.31,943.4 1166.59,942.676 1168.88,941.932 1171.18,941.167 1173.48,940.381 1175.8,939.573 1178.12,938.742 1180.46,937.889 1182.8,937.012 \n",
       "  1185.16,936.111 1187.52,935.187 1189.89,934.237 1192.28,933.261 1194.67,932.26 1197.07,931.231 1199.48,930.175 1201.89,929.092 1204.32,927.979 1206.76,926.837 \n",
       "  1209.2,925.665 1211.65,924.462 1214.11,923.227 1216.57,921.959 1219.05,920.659 1221.53,919.324 1224.01,917.954 1226.51,916.548 1229,915.105 1231.51,913.624 \n",
       "  1234.02,912.104 1236.53,910.544 1239.05,908.944 1241.57,907.301 1244.09,905.614 1246.62,903.883 1249.14,902.107 1251.67,900.284 1254.2,898.412 1256.72,896.491 \n",
       "  1259.24,894.518 1261.76,892.494 1264.27,890.416 1266.78,888.282 1269.28,886.092 1271.77,883.844 1274.25,881.536 1276.71,879.167 1279.16,876.736 1281.6,874.24 \n",
       "  1284.01,871.678 1286.41,869.049 1288.77,866.35 1291.12,863.582 1293.43,860.742 1295.7,857.829 1297.94,854.842 1300.14,851.78 1302.3,848.642 1304.4,845.426 \n",
       "  1306.45,842.133 1308.45,838.763 1310.37,835.314 1312.24,831.789 1314.02,828.186 1315.73,824.507 1317.36,820.755 1318.89,816.93 1320.33,813.035 1321.67,809.073 \n",
       "  1322.9,805.048 1324.02,800.964 1325.01,796.826 1325.89,792.639 1326.64,788.408 1327.26,784.141 1327.75,779.844 1328.09,775.524 1328.3,771.188 1328.37,766.845 \n",
       "  \n",
       "  \"/>\n",
       "<path clip-path=\"url(#clip290)\" d=\"\n",
       "M1598.75 216.178 L1896.21 216.178 L1896.21 95.2176 L1598.75 95.2176  Z\n",
       "  \" fill=\"#ffffff\" fill-rule=\"evenodd\" fill-opacity=\"1\"/>\n",
       "<polyline clip-path=\"url(#clip290)\" style=\"stroke:#000000; stroke-width:4; stroke-opacity:1; fill:none\" points=\"\n",
       "  1598.75,216.178 1896.21,216.178 1896.21,95.2176 1598.75,95.2176 1598.75,216.178 \n",
       "  \"/>\n",
       "<polyline clip-path=\"url(#clip290)\" style=\"stroke:#009af9; stroke-width:4; stroke-opacity:1; fill:none\" points=\"\n",
       "  1623.25,155.698 1770.27,155.698 \n",
       "  \"/>\n",
       "<path clip-path=\"url(#clip290)\" d=\"M 0 0 M1808.62 175.385 Q1806.81 180.015 1805.1 181.427 Q1803.38 182.839 1800.51 182.839 L1797.11 182.839 L1797.11 179.274 L1799.61 179.274 Q1801.37 179.274 1802.34 178.44 Q1803.31 177.607 1804.5 174.505 L1805.26 172.561 L1794.77 147.052 L1799.29 147.052 L1807.39 167.329 L1815.49 147.052 L1820 147.052 L1808.62 175.385 Z\" fill=\"#000000\" fill-rule=\"evenodd\" fill-opacity=\"1\" /><path clip-path=\"url(#clip290)\" d=\"M 0 0 M1827.3 169.042 L1834.93 169.042 L1834.93 142.677 L1826.62 144.343 L1826.62 140.084 L1834.89 138.418 L1839.56 138.418 L1839.56 169.042 L1847.2 169.042 L1847.2 172.978 L1827.3 172.978 L1827.3 169.042 Z\" fill=\"#000000\" fill-rule=\"evenodd\" fill-opacity=\"1\" /></svg>\n"
      ]
     },
     "execution_count": 48,
     "metadata": {},
     "output_type": "execute_result"
    }
   ],
   "source": [
    "# plot(t, energy)\n",
    "plot_orbit(transfer_orbit)"
   ]
  },
  {
   "cell_type": "markdown",
   "metadata": {},
   "source": [
    "## Constraints"
   ]
  },
  {
   "cell_type": "markdown",
   "metadata": {},
   "source": [
    "$ c = [c_{init}, c_{terminal}, c_{dynamics}, c_{thurst}] $"
   ]
  },
  {
   "cell_type": "code",
   "execution_count": 49,
   "metadata": {},
   "outputs": [
    {
     "data": {
      "text/plain": [
       "unpackZ (generic function with 1 method)"
      ]
     },
     "execution_count": 49,
     "metadata": {},
     "output_type": "execute_result"
    }
   ],
   "source": [
    "function unpackZ(ztraj)\n",
    "    \"\"\"\n",
    "    Inputs: \n",
    "        ztraj -> Trajectory\n",
    "    \n",
    "    Returns: \n",
    "        xtraj -> state trajectory (Nx, T)\n",
    "        utraj -> control trajectory (Nu, T-1)\n",
    "    \"\"\"\n",
    "    Nt = T\n",
    "    z = reshape(ztraj[1:(end-Nx)],Nx+Nu,Nt-1)\n",
    "    xtraj = [z[1:Nx,:] ztraj[end-(Nx-1):end]]\n",
    "    utraj = z[(Nx+1):(Nx+Nu),:]\n",
    "    \n",
    "    return xtraj, utraj\n",
    "end"
   ]
  },
  {
   "cell_type": "code",
   "execution_count": 50,
   "metadata": {},
   "outputs": [
    {
     "data": {
      "text/plain": [
       "dynamics_constraints! (generic function with 1 method)"
      ]
     },
     "execution_count": 50,
     "metadata": {},
     "output_type": "execute_result"
    }
   ],
   "source": [
    "function dynamics_constraints!(nlp, c, ztraj)\n",
    "    \"\"\"\n",
    "    Inputs: \n",
    "        c -> Constraint Vector: shape = \n",
    "        ztraj -> Current trajectory: shape ((Nx+Nu)*T, 1)\n",
    "    \n",
    "    Returns: \n",
    "        Nothing\n",
    "    \"\"\"\n",
    "    h = 1e-3 # dt? \n",
    "    X, U = unpackZ(ztraj)\n",
    "    N = nlp.N\n",
    "\n",
    "    d = reshape(view(c, nlp.idx_ineq[3]), Nx,(N-1))\n",
    "    \n",
    "    for k = 1:N-1\n",
    "        d[:, k] = dynamics_rk4(X[k], U[k], h) - X[k+1]\n",
    "    end\n",
    "    \n",
    "    return d\n",
    "end\n",
    "    "
   ]
  },
  {
   "cell_type": "code",
   "execution_count": 51,
   "metadata": {},
   "outputs": [
    {
     "data": {
      "text/plain": [
       "thrust_constraints! (generic function with 1 method)"
      ]
     },
     "execution_count": 51,
     "metadata": {},
     "output_type": "execute_result"
    }
   ],
   "source": [
    "function thrust_constraints!(nlp, c, ztraj)\n",
    "    \"\"\"\n",
    "    Inputs: \n",
    "        c -> Constraint Vector: shape = \n",
    "        ztraj -> Current trajectory: shape ((Nx+Nu)*T, 1)\n",
    "    \n",
    "    Returns: \n",
    "        Nothing\n",
    "    \"\"\"\n",
    "    d = view(c, nlp.idx_ineq[end])\n",
    "    N = nlp.N\n",
    "    X, U = unpackZ(ztraj)\n",
    "    \n",
    "    for k = 1:N-1\n",
    "        d[k] = norm(U[k])\n",
    "    end\n",
    "    \n",
    "    return d\n",
    "end"
   ]
  },
  {
   "cell_type": "code",
   "execution_count": 52,
   "metadata": {},
   "outputs": [
    {
     "data": {
      "text/plain": [
       "con! (generic function with 1 method)"
      ]
     },
     "execution_count": 52,
     "metadata": {},
     "output_type": "execute_result"
    }
   ],
   "source": [
    "function con!(nlp, c, Z)\n",
    "    X, U = unpackZ(Z)\n",
    "    c[cinds[1]] .= X[1] - x0 # Initial condition constraint\n",
    "    c[cinds[2]] .= X[end] - xgoal # Final condition constraint\n",
    "    dynamics_constraints!(nlp, c, Z) # Dynamics constraints\n",
    "    thrust_constraints!(nlp, c, Z) # Thrust constraints\n",
    "end"
   ]
  },
  {
   "cell_type": "code",
   "execution_count": 53,
   "metadata": {},
   "outputs": [],
   "source": [
    "# # Define the NLP\n",
    "# model = SimpleOrbit()\n",
    "# nlp = OrbitNLP(model, transfer_orbit.period, 100, 0, x0, xgoal);\n",
    "\n",
    "# @testset \"Part c: Constraints\" begin\n",
    "#     Z = rand(num_primals(nlp))\n",
    "#     X,U = unpackZ(nlp, Z)\n",
    "#     c = zeros(num_duals(nlp))\n",
    "#     n,m,N = size(nlp)\n",
    "\n",
    "#     @testset \"Dynamics constraints\" begin\n",
    "#         d = dynamics_constraints!(nlp, c, Z)\n",
    "#         display(d)\n",
    "#         @test length(d) == n*(N-1)\n",
    "        \n",
    "# #         @test d[1:n] ≈ stance1_dynamics_rk4(model, X[1], U[1], dt) - X[2]\n",
    "# #         @test d[n*(M-1) .+ (1:n)] ≈ jump2_map(stance1_dynamics_rk4(model, X[M], U[M], dt)) - X[M+1]\n",
    "# #         @test d[n*M .+ (1:n)] ≈ stance2_dynamics_rk4(model, X[M+1], U[M+1], dt) - X[M+2]\n",
    "#     end\n",
    "\n",
    "#     @testset \"Thrust constraints\" begin\n",
    "#         d = thrust_constraints!(nlp, c, Z)\n",
    "#         display(d)\n",
    "#         @test length(d) == N-1\n",
    "# #         @test d[1:M] ≈ [x[4] for x in X[1:M]]\n",
    "# #         @test d[M .+ (1:M)] ≈ [x[6] for x in X[M .+ (1:M)]]\n",
    "#     end\n",
    "\n",
    "# #     @testset \"Length constraints\" begin\n",
    "# #         d = length_constraint!(nlp, c, Z)\n",
    "# #         @test length(d) == 2N\n",
    "# #         @test d[1] ≈ norm(X[1][1:2] - X[1][3:4])\n",
    "# #         @test d[2] ≈ norm(X[1][1:2] - X[1][5:6])\n",
    "# #         @test d[3] ≈ norm(X[2][1:2] - X[2][3:4])\n",
    "# #         @test d[4] ≈ norm(X[2][1:2] - X[2][5:6])\n",
    "# #     end\n",
    "# end;"
   ]
  },
  {
   "cell_type": "markdown",
   "metadata": {},
   "source": [
    "## Part (a): Implement DIRCOL \n",
    "Implement DIRCOL by completing the provided methods. "
   ]
  },
  {
   "cell_type": "code",
   "execution_count": 54,
   "metadata": {},
   "outputs": [
    {
     "data": {
      "text/plain": [
       "solve (generic function with 1 method)"
      ]
     },
     "execution_count": 54,
     "metadata": {},
     "output_type": "execute_result"
    }
   ],
   "source": [
    "\"\"\"\n",
    "    Problem{n,m,L}\n",
    "\n",
    "Describes a trajectory optimization problem with `n` states, `m` controls, and \n",
    "a model of type `L`. \n",
    "\n",
    "# Constructor\n",
    "    Problem(model::L, obj::Vector{<:QuadraticCost{n,m}}, tf, x0, xf) where {n,m,L}\n",
    "\n",
    "where `tf` is the final time, and `x0` is the initial state. \n",
    "\"\"\"\n",
    "# struct Problem{n,m,L}\n",
    "    # TODO \n",
    "# end\n",
    "# Base.size(prob::Problem{n,m}) where {n,m} = (n,m,prob.T)\n",
    "\n",
    "struct ProblemMOI <: MOI.AbstractNLPEvaluator\n",
    "    n_nlp::Int\n",
    "    m_nlp::Int\n",
    "    N::Int\n",
    "    idx_ineq\n",
    "    obj_grad::Bool\n",
    "    con_jac::Bool\n",
    "    sparsity_jac\n",
    "    sparsity_hess\n",
    "    primal_bounds\n",
    "    constraint_bounds\n",
    "    hessian_lagrangian::Bool\n",
    "end\n",
    "\n",
    "function ProblemMOI(n_nlp, N;\n",
    "        idx_ineq=get_cinds(n_nlp, N),\n",
    "        m_nlp = idx_ineq[end][end],\n",
    "        obj_grad=true,\n",
    "        con_jac=true,\n",
    "        sparsity_jac=sparsity_jacobian(n_nlp,m_nlp),\n",
    "        sparsity_hess=sparsity_hessian(n_nlp,m_nlp),\n",
    "        primal_bounds=primal_bounds(n_nlp),\n",
    "        constraint_bounds=constraint_bounds(m_nlp,idx_ineq=idx_ineq),\n",
    "        hessian_lagrangian=false)\n",
    "\n",
    "    ProblemMOI(n_nlp,m_nlp,\n",
    "        N, # Nt\n",
    "        idx_ineq, # Indexes\n",
    "        obj_grad, \n",
    "        con_jac,\n",
    "        sparsity_jac,\n",
    "        sparsity_hess,\n",
    "        primal_bounds,\n",
    "        constraint_bounds,\n",
    "        hessian_lagrangian)\n",
    "end\n",
    "\n",
    "function primal_bounds(n)\n",
    "    x_l = -Inf*ones(n)\n",
    "    x_u = Inf*ones(n)\n",
    "    return x_l, x_u\n",
    "end\n",
    "\n",
    "function get_cinds(n, N)\n",
    "    c_init_inds = 1:n\n",
    "    c_term_inds = (c_init_inds[end]+1):(c_init_inds[end]+n)\n",
    "    c_dyn_inds = (c_term_inds[end]+1):(c_term_inds[end]+(n*(N-1)))\n",
    "    c_thrust_inds = c_dyn_inds[end]+1:c_dyn_inds[end]+((N-1))\n",
    "    \n",
    "    return [c_init_inds, c_term_inds, c_dyn_inds, c_thrust_inds]\n",
    "end\n",
    "\n",
    "function constraint_bounds(m_nlp; idx_ineq)\n",
    "    lb = zeros(m_nlp) \n",
    "    lb[idx_ineq[1]] .= 0 ##x0\n",
    "    lb[idx_ineq[2]] .= 0 #xf\n",
    "    lb[idx_ineq[3]] .= 0\n",
    "    lb[idx_ineq[4]] .= 0 # Might have a minimum thrust requirment\n",
    "\n",
    "    ub = zeros(m_nlp) #fill(-Inf,m_nlp)\n",
    "    ub[idx_ineq[1]] .= 0 #x0\n",
    "    ub[idx_ineq[2]] .= 0 #xf\n",
    "    ub[idx_ineq[3]] .= 0\n",
    "    ub[idx_ineq[4]] .= Inf\n",
    "\n",
    "    return lb, ub\n",
    "end\n",
    "\n",
    "function row_col!(row,col,r,c)\n",
    "    println(\"starting row_col\")\n",
    "    for cc in c\n",
    "        for rr in r\n",
    "            push!(row,convert(Int,rr))\n",
    "            push!(col,convert(Int,cc))\n",
    "        end\n",
    "    end\n",
    "    println(\"Finished row_col\")\n",
    "    return row, col\n",
    "end\n",
    "\n",
    "function sparsity_jacobian(n,m)\n",
    "\n",
    "    row = []\n",
    "    col = []\n",
    "\n",
    "    r = 1:m\n",
    "    c = 1:n\n",
    "\n",
    "    row_col!(row,col,r,c)\n",
    "\n",
    "    return collect(zip(row,col))\n",
    "end\n",
    "\n",
    "function sparsity_hessian(n,m)\n",
    "\n",
    "    row = []\n",
    "    col = []\n",
    "\n",
    "    r = 1:m\n",
    "    c = 1:n\n",
    "\n",
    "    row_col!(row,col,r,c)\n",
    "\n",
    "    return collect(zip(row,col))\n",
    "end\n",
    "\n",
    "function MOI.eval_objective(prob::MOI.AbstractNLPEvaluator, x)\n",
    "    cost(x)\n",
    "end\n",
    "\n",
    "function MOI.eval_objective_gradient(prob::MOI.AbstractNLPEvaluator, grad_f, x)\n",
    "    ForwardDiff.gradient!(grad_f,cost,x)\n",
    "    return nothing\n",
    "end\n",
    "\n",
    "function MOI.eval_constraint(prob::MOI.AbstractNLPEvaluator,g,x)\n",
    "    con!(prob, g, x) # TODO: Implement con! (Mitch)\n",
    "    return nothing\n",
    "end\n",
    "\n",
    "function MOI.eval_constraint_jacobian(prob::MOI.AbstractNLPEvaluator, jac, x)\n",
    "    ForwardDiff.jacobian!(reshape(jac,prob.m_nlp,prob.n_nlp), con!, zeros(prob.m_nlp), x)\n",
    "    return nothing\n",
    "end\n",
    "\n",
    "function MOI.features_available(prob::MOI.AbstractNLPEvaluator)\n",
    "    return [:Grad, :Jac]\n",
    "end\n",
    "\n",
    "# TODO: Confirm meaning of these functions\n",
    "MOI.initialize(prob::MOI.AbstractNLPEvaluator, features) = nothing\n",
    "MOI.jacobian_structure(prob::MOI.AbstractNLPEvaluator) = prob.sparsity_jac\n",
    "\n",
    "function solve(x0,prob::MOI.AbstractNLPEvaluator;\n",
    "        tol=1.0e-6,c_tol=1.0e-6,max_iter=10)\n",
    "    x_l, x_u = prob.primal_bounds\n",
    "    c_l, c_u = prob.constraint_bounds\n",
    "\n",
    "    nlp_bounds = MOI.NLPBoundsPair.(c_l,c_u)\n",
    "    block_data = MOI.NLPBlockData(nlp_bounds,prob,true)\n",
    "\n",
    "    solver = Ipopt.Optimizer()\n",
    "    solver.options[\"max_iter\"] = max_iter\n",
    "    solver.options[\"tol\"] = tol\n",
    "    solver.options[\"constr_viol_tol\"] = c_tol\n",
    "\n",
    "    x = MOI.add_variables(solver,prob.n_nlp)\n",
    "\n",
    "    for i = 1:prob.n_nlp\n",
    "        xi = MOI.SingleVariable(x[i])\n",
    "        MOI.add_constraint(solver, xi, MOI.LessThan(x_u[i]))\n",
    "        MOI.add_constraint(solver, xi, MOI.GreaterThan(x_l[i]))\n",
    "        MOI.set(solver, MOI.VariablePrimalStart(), x[i], x0[i])\n",
    "    end\n",
    "\n",
    "    # Solve the problem\n",
    "    MOI.set(solver, MOI.NLPBlock(), block_data)\n",
    "    MOI.set(solver, MOI.ObjectiveSense(), MOI.MIN_SENSE)\n",
    "    MOI.optimize!(solver)\n",
    "\n",
    "    # Get the solution\n",
    "    res = MOI.get(solver, MOI.VariablePrimal(), x)\n",
    "\n",
    "    return res\n",
    "end"
   ]
  },
  {
   "cell_type": "code",
   "execution_count": 57,
   "metadata": {},
   "outputs": [
    {
     "data": {
      "image/svg+xml": [
       "<?xml version=\"1.0\" encoding=\"utf-8\"?>\n",
       "<svg xmlns=\"http://www.w3.org/2000/svg\" xmlns:xlink=\"http://www.w3.org/1999/xlink\" width=\"600\" height=\"400\" viewBox=\"0 0 2400 1600\">\n",
       "<defs>\n",
       "  <clipPath id=\"clip370\">\n",
       "    <rect x=\"0\" y=\"0\" width=\"2400\" height=\"1600\"/>\n",
       "  </clipPath>\n",
       "</defs>\n",
       "<path clip-path=\"url(#clip370)\" d=\"\n",
       "M0 1600 L2400 1600 L2400 0 L0 0  Z\n",
       "  \" fill=\"#ffffff\" fill-rule=\"evenodd\" fill-opacity=\"1\"/>\n",
       "<defs>\n",
       "  <clipPath id=\"clip371\">\n",
       "    <rect x=\"480\" y=\"0\" width=\"1681\" height=\"1600\"/>\n",
       "  </clipPath>\n",
       "</defs>\n",
       "<path clip-path=\"url(#clip370)\" d=\"\n",
       "M530.515 1486.45 L1969.72 1486.45 L1969.72 47.2441 L530.515 47.2441  Z\n",
       "  \" fill=\"#ffffff\" fill-rule=\"evenodd\" fill-opacity=\"1\"/>\n",
       "<defs>\n",
       "  <clipPath id=\"clip372\">\n",
       "    <rect x=\"530\" y=\"47\" width=\"1440\" height=\"1440\"/>\n",
       "  </clipPath>\n",
       "</defs>\n",
       "<polyline clip-path=\"url(#clip372)\" style=\"stroke:#000000; stroke-width:2; stroke-opacity:0.1; fill:none\" points=\"\n",
       "  692.125,1486.45 692.125,47.2441 \n",
       "  \"/>\n",
       "<polyline clip-path=\"url(#clip372)\" style=\"stroke:#000000; stroke-width:2; stroke-opacity:0.1; fill:none\" points=\"\n",
       "  971.121,1486.45 971.121,47.2441 \n",
       "  \"/>\n",
       "<polyline clip-path=\"url(#clip372)\" style=\"stroke:#000000; stroke-width:2; stroke-opacity:0.1; fill:none\" points=\"\n",
       "  1250.12,1486.45 1250.12,47.2441 \n",
       "  \"/>\n",
       "<polyline clip-path=\"url(#clip372)\" style=\"stroke:#000000; stroke-width:2; stroke-opacity:0.1; fill:none\" points=\"\n",
       "  1529.11,1486.45 1529.11,47.2441 \n",
       "  \"/>\n",
       "<polyline clip-path=\"url(#clip372)\" style=\"stroke:#000000; stroke-width:2; stroke-opacity:0.1; fill:none\" points=\"\n",
       "  1808.11,1486.45 1808.11,47.2441 \n",
       "  \"/>\n",
       "<polyline clip-path=\"url(#clip370)\" style=\"stroke:#000000; stroke-width:4; stroke-opacity:1; fill:none\" points=\"\n",
       "  530.515,1486.45 1969.72,1486.45 \n",
       "  \"/>\n",
       "<polyline clip-path=\"url(#clip370)\" style=\"stroke:#000000; stroke-width:4; stroke-opacity:1; fill:none\" points=\"\n",
       "  692.125,1486.45 692.125,1469.18 \n",
       "  \"/>\n",
       "<polyline clip-path=\"url(#clip370)\" style=\"stroke:#000000; stroke-width:4; stroke-opacity:1; fill:none\" points=\"\n",
       "  971.121,1486.45 971.121,1469.18 \n",
       "  \"/>\n",
       "<polyline clip-path=\"url(#clip370)\" style=\"stroke:#000000; stroke-width:4; stroke-opacity:1; fill:none\" points=\"\n",
       "  1250.12,1486.45 1250.12,1469.18 \n",
       "  \"/>\n",
       "<polyline clip-path=\"url(#clip370)\" style=\"stroke:#000000; stroke-width:4; stroke-opacity:1; fill:none\" points=\"\n",
       "  1529.11,1486.45 1529.11,1469.18 \n",
       "  \"/>\n",
       "<polyline clip-path=\"url(#clip370)\" style=\"stroke:#000000; stroke-width:4; stroke-opacity:1; fill:none\" points=\"\n",
       "  1808.11,1486.45 1808.11,1469.18 \n",
       "  \"/>\n",
       "<path clip-path=\"url(#clip370)\" d=\"M 0 0 M662.067 1530.29 L691.743 1530.29 L691.743 1534.23 L662.067 1534.23 L662.067 1530.29 Z\" fill=\"#000000\" fill-rule=\"evenodd\" fill-opacity=\"1\" /><path clip-path=\"url(#clip370)\" d=\"M 0 0 M705.863 1543.18 L722.182 1543.18 L722.182 1547.12 L700.238 1547.12 L700.238 1543.18 Q702.9 1540.43 707.483 1535.8 Q712.09 1531.15 713.27 1529.81 Q715.516 1527.28 716.395 1525.55 Q717.298 1523.79 717.298 1522.1 Q717.298 1519.34 715.354 1517.61 Q713.432 1515.87 710.331 1515.87 Q708.132 1515.87 705.678 1516.63 Q703.247 1517.4 700.47 1518.95 L700.47 1514.23 Q703.294 1513.09 705.747 1512.51 Q708.201 1511.93 710.238 1511.93 Q715.608 1511.93 718.803 1514.62 Q721.997 1517.31 721.997 1521.8 Q721.997 1523.93 721.187 1525.85 Q720.4 1527.74 718.294 1530.34 Q717.715 1531.01 714.613 1534.23 Q711.511 1537.42 705.863 1543.18 Z\" fill=\"#000000\" fill-rule=\"evenodd\" fill-opacity=\"1\" /><path clip-path=\"url(#clip370)\" d=\"M 0 0 M940.878 1530.29 L970.554 1530.29 L970.554 1534.23 L940.878 1534.23 L940.878 1530.29 Z\" fill=\"#000000\" fill-rule=\"evenodd\" fill-opacity=\"1\" /><path clip-path=\"url(#clip370)\" d=\"M 0 0 M981.456 1543.18 L989.095 1543.18 L989.095 1516.82 L980.785 1518.49 L980.785 1514.23 L989.049 1512.56 L993.725 1512.56 L993.725 1543.18 L1001.36 1543.18 L1001.36 1547.12 L981.456 1547.12 L981.456 1543.18 Z\" fill=\"#000000\" fill-rule=\"evenodd\" fill-opacity=\"1\" /><path clip-path=\"url(#clip370)\" d=\"M 0 0 M1250.12 1515.64 Q1246.51 1515.64 1244.68 1519.2 Q1242.87 1522.75 1242.87 1529.87 Q1242.87 1536.98 1244.68 1540.55 Q1246.51 1544.09 1250.12 1544.09 Q1253.75 1544.09 1255.56 1540.55 Q1257.39 1536.98 1257.39 1529.87 Q1257.39 1522.75 1255.56 1519.2 Q1253.75 1515.64 1250.12 1515.64 M1250.12 1511.93 Q1255.93 1511.93 1258.98 1516.54 Q1262.06 1521.12 1262.06 1529.87 Q1262.06 1538.6 1258.98 1543.21 Q1255.93 1547.79 1250.12 1547.79 Q1244.31 1547.79 1241.23 1543.21 Q1238.17 1538.6 1238.17 1529.87 Q1238.17 1521.12 1241.23 1516.54 Q1244.31 1511.93 1250.12 1511.93 Z\" fill=\"#000000\" fill-rule=\"evenodd\" fill-opacity=\"1\" /><path clip-path=\"url(#clip370)\" d=\"M 0 0 M1519.5 1543.18 L1527.13 1543.18 L1527.13 1516.82 L1518.82 1518.49 L1518.82 1514.23 L1527.09 1512.56 L1531.76 1512.56 L1531.76 1543.18 L1539.4 1543.18 L1539.4 1547.12 L1519.5 1547.12 L1519.5 1543.18 Z\" fill=\"#000000\" fill-rule=\"evenodd\" fill-opacity=\"1\" /><path clip-path=\"url(#clip370)\" d=\"M 0 0 M1802.76 1543.18 L1819.08 1543.18 L1819.08 1547.12 L1797.14 1547.12 L1797.14 1543.18 Q1799.8 1540.43 1804.38 1535.8 Q1808.99 1531.15 1810.17 1529.81 Q1812.41 1527.28 1813.29 1525.55 Q1814.2 1523.79 1814.2 1522.1 Q1814.2 1519.34 1812.25 1517.61 Q1810.33 1515.87 1807.23 1515.87 Q1805.03 1515.87 1802.58 1516.63 Q1800.15 1517.4 1797.37 1518.95 L1797.37 1514.23 Q1800.19 1513.09 1802.65 1512.51 Q1805.1 1511.93 1807.14 1511.93 Q1812.51 1511.93 1815.7 1514.62 Q1818.9 1517.31 1818.9 1521.8 Q1818.9 1523.93 1818.09 1525.85 Q1817.3 1527.74 1815.19 1530.34 Q1814.61 1531.01 1811.51 1534.23 Q1808.41 1537.42 1802.76 1543.18 Z\" fill=\"#000000\" fill-rule=\"evenodd\" fill-opacity=\"1\" /><polyline clip-path=\"url(#clip372)\" style=\"stroke:#000000; stroke-width:2; stroke-opacity:0.1; fill:none\" points=\"\n",
       "  530.515,1324.84 1969.72,1324.84 \n",
       "  \"/>\n",
       "<polyline clip-path=\"url(#clip372)\" style=\"stroke:#000000; stroke-width:2; stroke-opacity:0.1; fill:none\" points=\"\n",
       "  530.515,1045.84 1969.72,1045.84 \n",
       "  \"/>\n",
       "<polyline clip-path=\"url(#clip372)\" style=\"stroke:#000000; stroke-width:2; stroke-opacity:0.1; fill:none\" points=\"\n",
       "  530.515,766.846 1969.72,766.846 \n",
       "  \"/>\n",
       "<polyline clip-path=\"url(#clip372)\" style=\"stroke:#000000; stroke-width:2; stroke-opacity:0.1; fill:none\" points=\"\n",
       "  530.515,487.85 1969.72,487.85 \n",
       "  \"/>\n",
       "<polyline clip-path=\"url(#clip372)\" style=\"stroke:#000000; stroke-width:2; stroke-opacity:0.1; fill:none\" points=\"\n",
       "  530.515,208.854 1969.72,208.854 \n",
       "  \"/>\n",
       "<polyline clip-path=\"url(#clip370)\" style=\"stroke:#000000; stroke-width:4; stroke-opacity:1; fill:none\" points=\"\n",
       "  530.515,1486.45 530.515,47.2441 \n",
       "  \"/>\n",
       "<polyline clip-path=\"url(#clip370)\" style=\"stroke:#000000; stroke-width:4; stroke-opacity:1; fill:none\" points=\"\n",
       "  530.515,1324.84 547.785,1324.84 \n",
       "  \"/>\n",
       "<polyline clip-path=\"url(#clip370)\" style=\"stroke:#000000; stroke-width:4; stroke-opacity:1; fill:none\" points=\"\n",
       "  530.515,1045.84 547.785,1045.84 \n",
       "  \"/>\n",
       "<polyline clip-path=\"url(#clip370)\" style=\"stroke:#000000; stroke-width:4; stroke-opacity:1; fill:none\" points=\"\n",
       "  530.515,766.846 547.785,766.846 \n",
       "  \"/>\n",
       "<polyline clip-path=\"url(#clip370)\" style=\"stroke:#000000; stroke-width:4; stroke-opacity:1; fill:none\" points=\"\n",
       "  530.515,487.85 547.785,487.85 \n",
       "  \"/>\n",
       "<polyline clip-path=\"url(#clip370)\" style=\"stroke:#000000; stroke-width:4; stroke-opacity:1; fill:none\" points=\"\n",
       "  530.515,208.854 547.785,208.854 \n",
       "  \"/>\n",
       "<path clip-path=\"url(#clip370)\" d=\"M 0 0 M434.4 1325.29 L464.075 1325.29 L464.075 1329.22 L434.4 1329.22 L434.4 1325.29 Z\" fill=\"#000000\" fill-rule=\"evenodd\" fill-opacity=\"1\" /><path clip-path=\"url(#clip370)\" d=\"M 0 0 M478.196 1338.18 L494.515 1338.18 L494.515 1342.12 L472.571 1342.12 L472.571 1338.18 Q475.233 1335.43 479.816 1330.8 Q484.422 1326.15 485.603 1324.8 Q487.848 1322.28 488.728 1320.54 Q489.631 1318.78 489.631 1317.1 Q489.631 1314.34 487.686 1312.6 Q485.765 1310.87 482.663 1310.87 Q480.464 1310.87 478.01 1311.63 Q475.58 1312.4 472.802 1313.95 L472.802 1309.22 Q475.626 1308.09 478.08 1307.51 Q480.534 1306.93 482.571 1306.93 Q487.941 1306.93 491.135 1309.62 Q494.33 1312.3 494.33 1316.79 Q494.33 1318.92 493.52 1320.85 Q492.733 1322.74 490.626 1325.34 Q490.047 1326.01 486.946 1329.22 Q483.844 1332.42 478.196 1338.18 Z\" fill=\"#000000\" fill-rule=\"evenodd\" fill-opacity=\"1\" /><path clip-path=\"url(#clip370)\" d=\"M 0 0 M434.029 1046.29 L463.705 1046.29 L463.705 1050.23 L434.029 1050.23 L434.029 1046.29 Z\" fill=\"#000000\" fill-rule=\"evenodd\" fill-opacity=\"1\" /><path clip-path=\"url(#clip370)\" d=\"M 0 0 M474.608 1059.19 L482.247 1059.19 L482.247 1032.82 L473.936 1034.49 L473.936 1030.23 L482.2 1028.56 L486.876 1028.56 L486.876 1059.19 L494.515 1059.19 L494.515 1063.12 L474.608 1063.12 L474.608 1059.19 Z\" fill=\"#000000\" fill-rule=\"evenodd\" fill-opacity=\"1\" /><path clip-path=\"url(#clip370)\" d=\"M 0 0 M482.571 752.645 Q478.96 752.645 477.131 756.209 Q475.325 759.751 475.325 766.881 Q475.325 773.987 477.131 777.552 Q478.96 781.094 482.571 781.094 Q486.205 781.094 488.01 777.552 Q489.839 773.987 489.839 766.881 Q489.839 759.751 488.01 756.209 Q486.205 752.645 482.571 752.645 M482.571 748.941 Q488.381 748.941 491.436 753.547 Q494.515 758.131 494.515 766.881 Q494.515 775.608 491.436 780.214 Q488.381 784.797 482.571 784.797 Q476.76 784.797 473.682 780.214 Q470.626 775.608 470.626 766.881 Q470.626 758.131 473.682 753.547 Q476.76 748.941 482.571 748.941 Z\" fill=\"#000000\" fill-rule=\"evenodd\" fill-opacity=\"1\" /><path clip-path=\"url(#clip370)\" d=\"M 0 0 M474.608 501.195 L482.247 501.195 L482.247 474.829 L473.936 476.496 L473.936 472.237 L482.2 470.57 L486.876 470.57 L486.876 501.195 L494.515 501.195 L494.515 505.13 L474.608 505.13 L474.608 501.195 Z\" fill=\"#000000\" fill-rule=\"evenodd\" fill-opacity=\"1\" /><path clip-path=\"url(#clip370)\" d=\"M 0 0 M478.196 222.199 L494.515 222.199 L494.515 226.134 L472.571 226.134 L472.571 222.199 Q475.233 219.444 479.816 214.814 Q484.422 210.162 485.603 208.819 Q487.848 206.296 488.728 204.56 Q489.631 202.801 489.631 201.111 Q489.631 198.356 487.686 196.62 Q485.765 194.884 482.663 194.884 Q480.464 194.884 478.01 195.648 Q475.58 196.412 472.802 197.963 L472.802 193.24 Q475.626 192.106 478.08 191.527 Q480.534 190.949 482.571 190.949 Q487.941 190.949 491.135 193.634 Q494.33 196.319 494.33 200.81 Q494.33 202.939 493.52 204.861 Q492.733 206.759 490.626 209.351 Q490.047 210.023 486.946 213.24 Q483.844 216.435 478.196 222.199 Z\" fill=\"#000000\" fill-rule=\"evenodd\" fill-opacity=\"1\" /><polyline clip-path=\"url(#clip372)\" style=\"stroke:#009af9; stroke-width:4; stroke-opacity:1; fill:none\" points=\"\n",
       "  1328.37,766.846 1321.69,724.68 1304.45,688.366 1281.66,659.582 1256.8,637.36 1231.59,620.258 1206.85,607.079 1182.9,596.94 1159.9,589.203 1137.87,583.402 \n",
       "  1116.8,579.189 1096.67,576.299 1077.44,574.529 1059.06,573.716 1041.51,573.731 1024.73,574.468 1008.69,575.841 993.367,577.775 978.72,580.211 964.725,583.094 \n",
       "  951.356,586.381 938.589,590.033 926.404,594.014 914.78,598.296 903.7,602.851 893.148,607.656 883.109,612.69 873.568,617.934 864.514,623.37 855.934,628.983 \n",
       "  847.819,634.758 840.158,640.682 832.942,646.744 826.164,652.931 819.815,659.234 813.89,665.643 808.38,672.148 803.282,678.742 798.589,685.415 794.297,692.161 \n",
       "  790.401,698.972 786.898,705.84 783.785,712.761 781.058,719.726 778.715,726.729 776.754,733.765 775.173,740.828 773.969,747.911 773.144,755.009 770.382,766.846 \n",
       "  771.329,796.969 774.165,826.973 778.88,856.739 785.454,886.151 793.862,915.092 804.071,943.448 816.04,971.107 829.722,997.96 845.064,1023.9 862.003,1048.83 \n",
       "  880.475,1072.64 900.405,1095.25 921.716,1116.56 944.323,1136.49 968.136,1154.96 993.062,1171.9 1019,1187.24 1045.86,1200.92 1073.51,1212.89 1101.87,1223.1 \n",
       "  1130.81,1231.51 1160.22,1238.08 1189.99,1242.8 1219.99,1245.63 1250.12,1246.58 1280.24,1245.63 1310.24,1242.8 1340.01,1238.08 1369.42,1231.51 1398.36,1223.1 \n",
       "  1426.72,1212.89 1454.38,1200.92 1481.23,1187.24 1507.17,1171.9 1532.1,1154.96 1555.91,1136.49 1578.52,1116.56 1599.83,1095.25 1619.76,1072.64 1638.23,1048.83 \n",
       "  1655.17,1023.9 1670.51,997.959 1684.19,971.107 1696.16,943.448 1706.37,915.092 1714.78,886.151 1721.35,856.739 1726.07,826.972 1728.9,796.968 1729.85,766.845 \n",
       "  \n",
       "  \"/>\n",
       "<line clip-path=\"url(#clip372)\" x1=\"1729.85\" y1=\"766.846\" x2=\"1709.85\" y2=\"746.846\" style=\"stroke:#e26f46; stroke-width:3.2; stroke-opacity:1\"/>\n",
       "<line clip-path=\"url(#clip372)\" x1=\"1729.85\" y1=\"766.846\" x2=\"1709.85\" y2=\"786.846\" style=\"stroke:#e26f46; stroke-width:3.2; stroke-opacity:1\"/>\n",
       "<line clip-path=\"url(#clip372)\" x1=\"1729.85\" y1=\"766.846\" x2=\"1749.85\" y2=\"786.846\" style=\"stroke:#e26f46; stroke-width:3.2; stroke-opacity:1\"/>\n",
       "<line clip-path=\"url(#clip372)\" x1=\"1729.85\" y1=\"766.846\" x2=\"1749.85\" y2=\"746.846\" style=\"stroke:#e26f46; stroke-width:3.2; stroke-opacity:1\"/>\n",
       "<path clip-path=\"url(#clip370)\" d=\"\n",
       "M1598.75 276.658 L1896.21 276.658 L1896.21 95.2176 L1598.75 95.2176  Z\n",
       "  \" fill=\"#ffffff\" fill-rule=\"evenodd\" fill-opacity=\"1\"/>\n",
       "<polyline clip-path=\"url(#clip370)\" style=\"stroke:#000000; stroke-width:4; stroke-opacity:1; fill:none\" points=\"\n",
       "  1598.75,276.658 1896.21,276.658 1896.21,95.2176 1598.75,95.2176 1598.75,276.658 \n",
       "  \"/>\n",
       "<polyline clip-path=\"url(#clip370)\" style=\"stroke:#009af9; stroke-width:4; stroke-opacity:1; fill:none\" points=\"\n",
       "  1623.25,155.698 1770.27,155.698 \n",
       "  \"/>\n",
       "<path clip-path=\"url(#clip370)\" d=\"M 0 0 M1808.62 175.385 Q1806.81 180.015 1805.1 181.427 Q1803.38 182.839 1800.51 182.839 L1797.11 182.839 L1797.11 179.274 L1799.61 179.274 Q1801.37 179.274 1802.34 178.44 Q1803.31 177.607 1804.5 174.505 L1805.26 172.561 L1794.77 147.052 L1799.29 147.052 L1807.39 167.329 L1815.49 147.052 L1820 147.052 L1808.62 175.385 Z\" fill=\"#000000\" fill-rule=\"evenodd\" fill-opacity=\"1\" /><path clip-path=\"url(#clip370)\" d=\"M 0 0 M1827.3 169.042 L1834.93 169.042 L1834.93 142.677 L1826.62 144.343 L1826.62 140.084 L1834.89 138.418 L1839.56 138.418 L1839.56 169.042 L1847.2 169.042 L1847.2 172.978 L1827.3 172.978 L1827.3 169.042 Z\" fill=\"#000000\" fill-rule=\"evenodd\" fill-opacity=\"1\" /><polyline clip-path=\"url(#clip370)\" style=\"stroke:#e26f46; stroke-width:4; stroke-opacity:1; fill:none\" points=\"\n",
       "  1623.25,216.178 1770.27,216.178 \n",
       "  \"/>\n",
       "<line clip-path=\"url(#clip370)\" x1=\"1696.76\" y1=\"216.178\" x2=\"1671.16\" y2=\"190.578\" style=\"stroke:#e26f46; stroke-width:3.2; stroke-opacity:1\"/>\n",
       "<line clip-path=\"url(#clip370)\" x1=\"1696.76\" y1=\"216.178\" x2=\"1671.16\" y2=\"241.778\" style=\"stroke:#e26f46; stroke-width:3.2; stroke-opacity:1\"/>\n",
       "<line clip-path=\"url(#clip370)\" x1=\"1696.76\" y1=\"216.178\" x2=\"1722.36\" y2=\"241.778\" style=\"stroke:#e26f46; stroke-width:3.2; stroke-opacity:1\"/>\n",
       "<line clip-path=\"url(#clip370)\" x1=\"1696.76\" y1=\"216.178\" x2=\"1722.36\" y2=\"190.578\" style=\"stroke:#e26f46; stroke-width:3.2; stroke-opacity:1\"/>\n",
       "<path clip-path=\"url(#clip370)\" d=\"M 0 0 M1808.62 235.865 Q1806.81 240.495 1805.1 241.907 Q1803.38 243.319 1800.51 243.319 L1797.11 243.319 L1797.11 239.754 L1799.61 239.754 Q1801.37 239.754 1802.34 238.92 Q1803.31 238.087 1804.5 234.985 L1805.26 233.041 L1794.77 207.532 L1799.29 207.532 L1807.39 227.809 L1815.49 207.532 L1820 207.532 L1808.62 235.865 Z\" fill=\"#000000\" fill-rule=\"evenodd\" fill-opacity=\"1\" /><path clip-path=\"url(#clip370)\" d=\"M 0 0 M1830.51 229.522 L1846.83 229.522 L1846.83 233.458 L1824.89 233.458 L1824.89 229.522 Q1827.55 226.768 1832.13 222.138 Q1836.74 217.485 1837.92 216.143 Q1840.17 213.62 1841.05 211.884 Q1841.95 210.124 1841.95 208.435 Q1841.95 205.68 1840 203.944 Q1838.08 202.208 1834.98 202.208 Q1832.78 202.208 1830.33 202.972 Q1827.9 203.735 1825.12 205.286 L1825.12 200.564 Q1827.94 199.43 1830.4 198.851 Q1832.85 198.273 1834.89 198.273 Q1840.26 198.273 1843.45 200.958 Q1846.65 203.643 1846.65 208.134 Q1846.65 210.263 1845.84 212.185 Q1845.05 214.083 1842.94 216.675 Q1842.37 217.347 1839.26 220.564 Q1836.16 223.759 1830.51 229.522 Z\" fill=\"#000000\" fill-rule=\"evenodd\" fill-opacity=\"1\" /></svg>\n"
      ]
     },
     "execution_count": 57,
     "metadata": {},
     "output_type": "execute_result"
    }
   ],
   "source": [
    "knots = 100\n",
    "function impulse_ref_traj(init_orbit::Orbit,final_orbit::Orbit) #knots,Nx,Nu\n",
    "    time = knots #Int(ceil(init_orbit.period/2*knots/2+final_orbit.period*knots))\n",
    "    traj = zeros(time,Nx+Nu)\n",
    "    traj[1,:] .= vcat(init_orbit.x0,zeros(Nu))\n",
    "    x = copy(init_orbit.x0)\n",
    "    u = zeros(Nu)\n",
    "    h = init_orbit.period/knots\n",
    "    for i in 2:size(traj)[1]\n",
    "        integrator!(x, u, h)\n",
    "        if (i == Int(ceil(init_orbit.period/2*knots)))\n",
    "            x .= final_orbit.x0 .* -1\n",
    "            h = final_orbit.period/knots\n",
    "        end\n",
    "        traj[i,:] .= vcat(x,u)\n",
    "    end\n",
    "    return reshape(traj,(time*(Nx+Nu),1))\n",
    "end\n",
    "z = impulse_ref_traj(transfer_orbit,goal_orbit)\n",
    "traj = reshape(z,(knots,Nx+Nu))\n",
    "# transition = Int(ceil(transfer_orbit.period/2*knots))\n",
    "# display(traj[transition-5:transition+5,:])\n",
    "plot(traj[:, 1], traj[:, 2], aspect_ratio=:equal, lims=(-semiMajorAxis_goal*1.5,semiMajorAxis_goal*1.5))\n",
    "\n",
    "# hold()\n",
    "plot!([goal_orbit.x0[1]], [goal_orbit.x0[2]], markershape=:xcross, markersize=5)\n",
    "# print(goal_orbit.x0)"
   ]
  },
  {
   "cell_type": "code",
   "execution_count": 58,
   "metadata": {},
   "outputs": [
    {
     "data": {
      "text/plain": [
       "705"
      ]
     },
     "execution_count": 58,
     "metadata": {},
     "output_type": "execute_result"
    }
   ],
   "source": [
    "n_nlp = (Nx+Nu)*knots # number of decision variables\n",
    "idx = get_cinds(Nx, knots)\n",
    "m_nlp = idx[end][end]"
   ]
  },
  {
   "cell_type": "code",
   "execution_count": 59,
   "metadata": {},
   "outputs": [
    {
     "name": "stdout",
     "output_type": "stream",
     "text": [
      "starting row_col\n",
      "Finished row_col\n",
      "starting row_col\n",
      "Finished row_col\n"
     ]
    },
    {
     "data": {
      "text/plain": [
       "634500-element Array{Tuple{Any,Any},1}:\n",
       " (1, 1)\n",
       " (2, 1)\n",
       " (3, 1)\n",
       " (4, 1)\n",
       " (5, 1)\n",
       " (6, 1)\n",
       " (7, 1)\n",
       " (8, 1)\n",
       " (9, 1)\n",
       " (10, 1)\n",
       " (11, 1)\n",
       " (12, 1)\n",
       " (13, 1)\n",
       " ⋮\n",
       " (694, 900)\n",
       " (695, 900)\n",
       " (696, 900)\n",
       " (697, 900)\n",
       " (698, 900)\n",
       " (699, 900)\n",
       " (700, 900)\n",
       " (701, 900)\n",
       " (702, 900)\n",
       " (703, 900)\n",
       " (704, 900)\n",
       " (705, 900)"
      ]
     },
     "execution_count": 59,
     "metadata": {},
     "output_type": "execute_result"
    }
   ],
   "source": [
    "# z0 = impulse_ref_traj(transfer_orbit,goal_orbit)\n",
    "\n",
    "sj = sparsity_jacobian(n_nlp, m_nlp)\n",
    "sh = sparsity_hessian(n_nlp, m_nlp)\n",
    "# m_nlp = Nx*(T+1)\n",
    "\n",
    "# TODO: Visualize results"
   ]
  },
  {
   "cell_type": "code",
   "execution_count": 60,
   "metadata": {},
   "outputs": [
    {
     "name": "stdout",
     "output_type": "stream",
     "text": [
      "\n",
      "******************************************************************************\n",
      "This program contains Ipopt, a library for large-scale nonlinear optimization.\n",
      " Ipopt is released as open source code under the Eclipse Public License (EPL).\n",
      "         For more information visit https://github.com/coin-or/Ipopt\n",
      "******************************************************************************\n",
      "\n",
      "This is Ipopt version 3.13.4, running with linear solver mumps.\n",
      "NOTE: Other linear solvers might be more efficient (see Ipopt documentation).\n",
      "\n",
      "Number of nonzeros in equality constraint Jacobian...:   545400\n",
      "Number of nonzeros in inequality constraint Jacobian.:    89100\n",
      "Number of nonzeros in Lagrangian Hessian.............:        0\n",
      "\n"
     ]
    },
    {
     "ename": "LoadError",
     "evalue": "MethodError: no method matching getindex(::ForwardDiff.Dual{ForwardDiff.Tag{typeof(cost),Float64},Float64,12}, ::UnitRange{Int64})\nClosest candidates are:\n  getindex(::Number) at number.jl:75\n  getindex(::Number, !Matched::Integer) at number.jl:76\n  getindex(::Number, !Matched::Integer...) at number.jl:81\n  ...",
     "output_type": "error",
     "traceback": [
      "MethodError: no method matching getindex(::ForwardDiff.Dual{ForwardDiff.Tag{typeof(cost),Float64},Float64,12}, ::UnitRange{Int64})\nClosest candidates are:\n  getindex(::Number) at number.jl:75\n  getindex(::Number, !Matched::Integer) at number.jl:76\n  getindex(::Number, !Matched::Integer...) at number.jl:81\n  ...",
      "",
      "Stacktrace:",
      " [1] cost(::Array{ForwardDiff.Dual{ForwardDiff.Tag{typeof(cost),Float64},Float64,12},1}) at .\\In[29]:7",
      " [2] chunk_mode_gradient!(::Array{Float64,1}, ::typeof(cost), ::Array{Float64,1}, ::ForwardDiff.GradientConfig{ForwardDiff.Tag{typeof(cost),Float64},Float64,12,Array{ForwardDiff.Dual{ForwardDiff.Tag{typeof(cost),Float64},Float64,12},1}}) at C:\\Users\\alexr\\.julia\\packages\\ForwardDiff\\QOqCN\\src\\gradient.jl:150",
      " [3] gradient! at C:\\Users\\alexr\\.julia\\packages\\ForwardDiff\\QOqCN\\src\\gradient.jl:39 [inlined]",
      " [4] gradient!(::Array{Float64,1}, ::typeof(cost), ::Array{Float64,1}, ::ForwardDiff.GradientConfig{ForwardDiff.Tag{typeof(cost),Float64},Float64,12,Array{ForwardDiff.Dual{ForwardDiff.Tag{typeof(cost),Float64},Float64,12},1}}) at C:\\Users\\alexr\\.julia\\packages\\ForwardDiff\\QOqCN\\src\\gradient.jl:35 (repeats 2 times)",
      " [5] eval_objective_gradient(::ProblemMOI, ::Array{Float64,1}, ::Array{Float64,1}) at .\\In[54]:128",
      " [6] eval_objective_gradient(::Ipopt.Optimizer, ::Array{Float64,1}, ::Array{Float64,1}) at C:\\Users\\alexr\\.julia\\packages\\Ipopt\\P1XLY\\src\\MOI_wrapper.jl:1084",
      " [7] (::Ipopt.var\"#eval_grad_f_cb#47\"{Ipopt.Optimizer})(::Array{Float64,1}, ::Array{Float64,1}) at C:\\Users\\alexr\\.julia\\packages\\Ipopt\\P1XLY\\src\\MOI_wrapper.jl:1299",
      " [8] eval_grad_f_wrapper(::Int32, ::Ptr{Float64}, ::Int32, ::Ptr{Float64}, ::Ptr{Nothing}) at C:\\Users\\alexr\\.julia\\packages\\Ipopt\\P1XLY\\src\\Ipopt.jl:216",
      " [9] solveProblem(::IpoptProblem) at C:\\Users\\alexr\\.julia\\packages\\Ipopt\\P1XLY\\src\\Ipopt.jl:513",
      " [10] optimize!(::Ipopt.Optimizer) at C:\\Users\\alexr\\.julia\\packages\\Ipopt\\P1XLY\\src\\MOI_wrapper.jl:1441",
      " [11] solve(::Array{Float64,2}, ::ProblemMOI; tol::Float64, c_tol::Float64, max_iter::Int64) at .\\In[54]:175",
      " [12] solve(::Array{Float64,2}, ::ProblemMOI) at .\\In[54]:152",
      " [13] top-level scope at In[60]:2",
      " [14] include_string(::Function, ::Module, ::String, ::String) at .\\loading.jl:1091"
     ]
    }
   ],
   "source": [
    "prob = ProblemMOI(n_nlp, knots, m_nlp=m_nlp, idx_ineq=idx, sparsity_jac=sj, sparsity_hess=sh)\n",
    "z_sol = solve(z,prob) # solve"
   ]
  },
  {
   "cell_type": "markdown",
   "metadata": {},
   "source": [
    "### DIRCOL Algorithm"
   ]
  },
  {
   "cell_type": "code",
   "execution_count": null,
   "metadata": {},
   "outputs": [],
   "source": [
    "# TASK: Complete implement DIRCOL Algo\n",
    "\n"
   ]
  },
  {
   "cell_type": "markdown",
   "metadata": {},
   "source": [
    "### Forward Pass"
   ]
  },
  {
   "cell_type": "code",
   "execution_count": null,
   "metadata": {},
   "outputs": [],
   "source": [
    "# TASK: Complete forward simulation of satelite "
   ]
  },
  {
   "cell_type": "markdown",
   "metadata": {},
   "source": [
    "## Part (b): Simple trajectory \n",
    "Planar example with quibit interpolation and no Thurst conditions"
   ]
  },
  {
   "cell_type": "code",
   "execution_count": null,
   "metadata": {},
   "outputs": [],
   "source": [
    "# Task Solve Simple Trajectory"
   ]
  },
  {
   "cell_type": "code",
   "execution_count": null,
   "metadata": {},
   "outputs": [],
   "source": [
    "# vis = Visualizer()\n",
    "# set_mesh!(vis, model)\n",
    "# render(vis)"
   ]
  },
  {
   "cell_type": "code",
   "execution_count": null,
   "metadata": {},
   "outputs": [],
   "source": [
    "# visualize!(vis, model, tf, Xline)"
   ]
  },
  {
   "cell_type": "markdown",
   "metadata": {},
   "source": [
    "## Part (c): Higher Order DIRCOL\n",
    "Solve the simple planar problem with unconstrained thrust with higher order DIRCOL 3->8th order"
   ]
  },
  {
   "cell_type": "code",
   "execution_count": null,
   "metadata": {},
   "outputs": [],
   "source": [
    "# TASK: Implement the following method"
   ]
  },
  {
   "cell_type": "code",
   "execution_count": null,
   "metadata": {},
   "outputs": [],
   "source": [
    "# TASK: Plot the comparison\n"
   ]
  },
  {
   "cell_type": "markdown",
   "metadata": {},
   "source": [
    "## Part (d): Inequality Constraints \n",
    "Using the thruster constraints solve the optimization problem"
   ]
  },
  {
   "cell_type": "code",
   "execution_count": null,
   "metadata": {},
   "outputs": [],
   "source": [
    "# TASK: Inequality constraints"
   ]
  },
  {
   "cell_type": "code",
   "execution_count": null,
   "metadata": {},
   "outputs": [],
   "source": [
    "# render(vis)"
   ]
  },
  {
   "cell_type": "code",
   "execution_count": null,
   "metadata": {},
   "outputs": [],
   "source": [
    "# visualize!(vis, model, tf, Xflip)"
   ]
  },
  {
   "cell_type": "markdown",
   "metadata": {},
   "source": [
    "## Part (e): Non-Planar Satellite Control\n"
   ]
  },
  {
   "cell_type": "code",
   "execution_count": null,
   "metadata": {},
   "outputs": [],
   "source": [
    "# TASK: Non-Planar Control"
   ]
  },
  {
   "cell_type": "markdown",
   "metadata": {},
   "source": [
    "## TESTS"
   ]
  },
  {
   "cell_type": "code",
   "execution_count": null,
   "metadata": {},
   "outputs": [],
   "source": [
    "# run_tests();"
   ]
  }
 ],
 "metadata": {
  "kernelspec": {
   "display_name": "Julia 1.5.3",
   "language": "julia",
   "name": "julia-1.5"
  },
  "language_info": {
   "file_extension": ".jl",
   "mimetype": "application/julia",
   "name": "julia",
   "version": "1.5.3"
  }
 },
 "nbformat": 4,
 "nbformat_minor": 4
}
